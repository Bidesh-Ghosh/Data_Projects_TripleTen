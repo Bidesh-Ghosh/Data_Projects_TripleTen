{
 "cells": [
  {
   "cell_type": "markdown",
   "metadata": {},
   "source": [
    "# Analyzing borrowers’ risk of defaulting\n",
    "\n",
    "Your project is to prepare a report for a bank’s loan division. You’ll need to find out if a customer’s marital status and number of children has an impact on whether they will default on a loan. The bank already has some data on customers’ credit worthiness.\n",
    "\n",
    "Your report will be considered when building the **credit score** of a potential customer. The **credit score** is used to evaluate the ability of a potential borrower to repay their loan.\n",
    "\n"
   ]
  },
  {
   "cell_type": "markdown",
   "metadata": {},
   "source": [
    "## Open the data file and have a look at the general information. \n"
   ]
  },
  {
   "cell_type": "code",
   "execution_count": 2,
   "metadata": {},
   "outputs": [],
   "source": [
    "import pandas as pd\n",
    "# Loading all the libraries\n",
    "\n",
    "credit_scoring = pd.read_csv('/datasets/credit_scoring_eng.csv')\n",
    "# Load the data\n"
   ]
  },
  {
   "cell_type": "markdown",
   "metadata": {},
   "source": [
    "## Task 1. Data exploration\n",
    "\n",
    "**Description of the data**\n",
    "- `children` - the number of children in the family\n",
    "- `days_employed` - work experience in days\n",
    "- `dob_years` - client's age in years\n",
    "- `education` - client's education\n",
    "- `education_id` - education identifier\n",
    "- `family_status` - marital status\n",
    "- `family_status_id` - marital status identifier\n",
    "- `gender` - gender of the client\n",
    "- `income_type` - type of employment\n",
    "- `debt` - was there any debt on loan repayment\n",
    "- `total_income` - monthly income\n",
    "- `purpose` - the purpose of obtaining a loan\n",
    "\n"
   ]
  },
  {
   "cell_type": "code",
   "execution_count": 3,
   "metadata": {},
   "outputs": [
    {
     "data": {
      "text/html": [
       "<div>\n",
       "<style scoped>\n",
       "    .dataframe tbody tr th:only-of-type {\n",
       "        vertical-align: middle;\n",
       "    }\n",
       "\n",
       "    .dataframe tbody tr th {\n",
       "        vertical-align: top;\n",
       "    }\n",
       "\n",
       "    .dataframe thead th {\n",
       "        text-align: right;\n",
       "    }\n",
       "</style>\n",
       "<table border=\"1\" class=\"dataframe\">\n",
       "  <thead>\n",
       "    <tr style=\"text-align: right;\">\n",
       "      <th></th>\n",
       "      <th>children</th>\n",
       "      <th>days_employed</th>\n",
       "      <th>dob_years</th>\n",
       "      <th>education_id</th>\n",
       "      <th>family_status_id</th>\n",
       "      <th>debt</th>\n",
       "      <th>total_income</th>\n",
       "    </tr>\n",
       "  </thead>\n",
       "  <tbody>\n",
       "    <tr>\n",
       "      <td>count</td>\n",
       "      <td>21525.000000</td>\n",
       "      <td>19351.000000</td>\n",
       "      <td>21525.000000</td>\n",
       "      <td>21525.000000</td>\n",
       "      <td>21525.000000</td>\n",
       "      <td>21525.000000</td>\n",
       "      <td>19351.000000</td>\n",
       "    </tr>\n",
       "    <tr>\n",
       "      <td>mean</td>\n",
       "      <td>0.538908</td>\n",
       "      <td>63046.497661</td>\n",
       "      <td>43.293380</td>\n",
       "      <td>0.817236</td>\n",
       "      <td>0.972544</td>\n",
       "      <td>0.080883</td>\n",
       "      <td>26787.568355</td>\n",
       "    </tr>\n",
       "    <tr>\n",
       "      <td>std</td>\n",
       "      <td>1.381587</td>\n",
       "      <td>140827.311974</td>\n",
       "      <td>12.574584</td>\n",
       "      <td>0.548138</td>\n",
       "      <td>1.420324</td>\n",
       "      <td>0.272661</td>\n",
       "      <td>16475.450632</td>\n",
       "    </tr>\n",
       "    <tr>\n",
       "      <td>min</td>\n",
       "      <td>-1.000000</td>\n",
       "      <td>-18388.949901</td>\n",
       "      <td>0.000000</td>\n",
       "      <td>0.000000</td>\n",
       "      <td>0.000000</td>\n",
       "      <td>0.000000</td>\n",
       "      <td>3306.762000</td>\n",
       "    </tr>\n",
       "    <tr>\n",
       "      <td>25%</td>\n",
       "      <td>0.000000</td>\n",
       "      <td>-2747.423625</td>\n",
       "      <td>33.000000</td>\n",
       "      <td>1.000000</td>\n",
       "      <td>0.000000</td>\n",
       "      <td>0.000000</td>\n",
       "      <td>16488.504500</td>\n",
       "    </tr>\n",
       "    <tr>\n",
       "      <td>50%</td>\n",
       "      <td>0.000000</td>\n",
       "      <td>-1203.369529</td>\n",
       "      <td>42.000000</td>\n",
       "      <td>1.000000</td>\n",
       "      <td>0.000000</td>\n",
       "      <td>0.000000</td>\n",
       "      <td>23202.870000</td>\n",
       "    </tr>\n",
       "    <tr>\n",
       "      <td>75%</td>\n",
       "      <td>1.000000</td>\n",
       "      <td>-291.095954</td>\n",
       "      <td>53.000000</td>\n",
       "      <td>1.000000</td>\n",
       "      <td>1.000000</td>\n",
       "      <td>0.000000</td>\n",
       "      <td>32549.611000</td>\n",
       "    </tr>\n",
       "    <tr>\n",
       "      <td>max</td>\n",
       "      <td>20.000000</td>\n",
       "      <td>401755.400475</td>\n",
       "      <td>75.000000</td>\n",
       "      <td>4.000000</td>\n",
       "      <td>4.000000</td>\n",
       "      <td>1.000000</td>\n",
       "      <td>362496.645000</td>\n",
       "    </tr>\n",
       "  </tbody>\n",
       "</table>\n",
       "</div>"
      ],
      "text/plain": [
       "           children  days_employed     dob_years  education_id  \\\n",
       "count  21525.000000   19351.000000  21525.000000  21525.000000   \n",
       "mean       0.538908   63046.497661     43.293380      0.817236   \n",
       "std        1.381587  140827.311974     12.574584      0.548138   \n",
       "min       -1.000000  -18388.949901      0.000000      0.000000   \n",
       "25%        0.000000   -2747.423625     33.000000      1.000000   \n",
       "50%        0.000000   -1203.369529     42.000000      1.000000   \n",
       "75%        1.000000    -291.095954     53.000000      1.000000   \n",
       "max       20.000000  401755.400475     75.000000      4.000000   \n",
       "\n",
       "       family_status_id          debt   total_income  \n",
       "count      21525.000000  21525.000000   19351.000000  \n",
       "mean           0.972544      0.080883   26787.568355  \n",
       "std            1.420324      0.272661   16475.450632  \n",
       "min            0.000000      0.000000    3306.762000  \n",
       "25%            0.000000      0.000000   16488.504500  \n",
       "50%            0.000000      0.000000   23202.870000  \n",
       "75%            1.000000      0.000000   32549.611000  \n",
       "max            4.000000      1.000000  362496.645000  "
      ]
     },
     "execution_count": 3,
     "metadata": {},
     "output_type": "execute_result"
    }
   ],
   "source": [
    "credit_scoring.describe()\n",
    "# Let's see how many rows and columns our dataset has\n",
    "\n"
   ]
  },
  {
   "cell_type": "code",
   "execution_count": 4,
   "metadata": {
    "scrolled": true
   },
   "outputs": [
    {
     "data": {
      "text/html": [
       "<div>\n",
       "<style scoped>\n",
       "    .dataframe tbody tr th:only-of-type {\n",
       "        vertical-align: middle;\n",
       "    }\n",
       "\n",
       "    .dataframe tbody tr th {\n",
       "        vertical-align: top;\n",
       "    }\n",
       "\n",
       "    .dataframe thead th {\n",
       "        text-align: right;\n",
       "    }\n",
       "</style>\n",
       "<table border=\"1\" class=\"dataframe\">\n",
       "  <thead>\n",
       "    <tr style=\"text-align: right;\">\n",
       "      <th></th>\n",
       "      <th>children</th>\n",
       "      <th>days_employed</th>\n",
       "      <th>dob_years</th>\n",
       "      <th>education</th>\n",
       "      <th>education_id</th>\n",
       "      <th>family_status</th>\n",
       "      <th>family_status_id</th>\n",
       "      <th>gender</th>\n",
       "      <th>income_type</th>\n",
       "      <th>debt</th>\n",
       "      <th>total_income</th>\n",
       "      <th>purpose</th>\n",
       "    </tr>\n",
       "  </thead>\n",
       "  <tbody>\n",
       "    <tr>\n",
       "      <td>0</td>\n",
       "      <td>1</td>\n",
       "      <td>-8437.673028</td>\n",
       "      <td>42</td>\n",
       "      <td>bachelor's degree</td>\n",
       "      <td>0</td>\n",
       "      <td>married</td>\n",
       "      <td>0</td>\n",
       "      <td>F</td>\n",
       "      <td>employee</td>\n",
       "      <td>0</td>\n",
       "      <td>40620.102</td>\n",
       "      <td>purchase of the house</td>\n",
       "    </tr>\n",
       "    <tr>\n",
       "      <td>1</td>\n",
       "      <td>1</td>\n",
       "      <td>-4024.803754</td>\n",
       "      <td>36</td>\n",
       "      <td>secondary education</td>\n",
       "      <td>1</td>\n",
       "      <td>married</td>\n",
       "      <td>0</td>\n",
       "      <td>F</td>\n",
       "      <td>employee</td>\n",
       "      <td>0</td>\n",
       "      <td>17932.802</td>\n",
       "      <td>car purchase</td>\n",
       "    </tr>\n",
       "    <tr>\n",
       "      <td>2</td>\n",
       "      <td>0</td>\n",
       "      <td>-5623.422610</td>\n",
       "      <td>33</td>\n",
       "      <td>Secondary Education</td>\n",
       "      <td>1</td>\n",
       "      <td>married</td>\n",
       "      <td>0</td>\n",
       "      <td>M</td>\n",
       "      <td>employee</td>\n",
       "      <td>0</td>\n",
       "      <td>23341.752</td>\n",
       "      <td>purchase of the house</td>\n",
       "    </tr>\n",
       "    <tr>\n",
       "      <td>3</td>\n",
       "      <td>3</td>\n",
       "      <td>-4124.747207</td>\n",
       "      <td>32</td>\n",
       "      <td>secondary education</td>\n",
       "      <td>1</td>\n",
       "      <td>married</td>\n",
       "      <td>0</td>\n",
       "      <td>M</td>\n",
       "      <td>employee</td>\n",
       "      <td>0</td>\n",
       "      <td>42820.568</td>\n",
       "      <td>supplementary education</td>\n",
       "    </tr>\n",
       "    <tr>\n",
       "      <td>4</td>\n",
       "      <td>0</td>\n",
       "      <td>340266.072047</td>\n",
       "      <td>53</td>\n",
       "      <td>secondary education</td>\n",
       "      <td>1</td>\n",
       "      <td>civil partnership</td>\n",
       "      <td>1</td>\n",
       "      <td>F</td>\n",
       "      <td>retiree</td>\n",
       "      <td>0</td>\n",
       "      <td>25378.572</td>\n",
       "      <td>to have a wedding</td>\n",
       "    </tr>\n",
       "    <tr>\n",
       "      <td>5</td>\n",
       "      <td>0</td>\n",
       "      <td>-926.185831</td>\n",
       "      <td>27</td>\n",
       "      <td>bachelor's degree</td>\n",
       "      <td>0</td>\n",
       "      <td>civil partnership</td>\n",
       "      <td>1</td>\n",
       "      <td>M</td>\n",
       "      <td>business</td>\n",
       "      <td>0</td>\n",
       "      <td>40922.170</td>\n",
       "      <td>purchase of the house</td>\n",
       "    </tr>\n",
       "    <tr>\n",
       "      <td>6</td>\n",
       "      <td>0</td>\n",
       "      <td>-2879.202052</td>\n",
       "      <td>43</td>\n",
       "      <td>bachelor's degree</td>\n",
       "      <td>0</td>\n",
       "      <td>married</td>\n",
       "      <td>0</td>\n",
       "      <td>F</td>\n",
       "      <td>business</td>\n",
       "      <td>0</td>\n",
       "      <td>38484.156</td>\n",
       "      <td>housing transactions</td>\n",
       "    </tr>\n",
       "    <tr>\n",
       "      <td>7</td>\n",
       "      <td>0</td>\n",
       "      <td>-152.779569</td>\n",
       "      <td>50</td>\n",
       "      <td>SECONDARY EDUCATION</td>\n",
       "      <td>1</td>\n",
       "      <td>married</td>\n",
       "      <td>0</td>\n",
       "      <td>M</td>\n",
       "      <td>employee</td>\n",
       "      <td>0</td>\n",
       "      <td>21731.829</td>\n",
       "      <td>education</td>\n",
       "    </tr>\n",
       "    <tr>\n",
       "      <td>8</td>\n",
       "      <td>2</td>\n",
       "      <td>-6929.865299</td>\n",
       "      <td>35</td>\n",
       "      <td>BACHELOR'S DEGREE</td>\n",
       "      <td>0</td>\n",
       "      <td>civil partnership</td>\n",
       "      <td>1</td>\n",
       "      <td>F</td>\n",
       "      <td>employee</td>\n",
       "      <td>0</td>\n",
       "      <td>15337.093</td>\n",
       "      <td>having a wedding</td>\n",
       "    </tr>\n",
       "    <tr>\n",
       "      <td>9</td>\n",
       "      <td>0</td>\n",
       "      <td>-2188.756445</td>\n",
       "      <td>41</td>\n",
       "      <td>secondary education</td>\n",
       "      <td>1</td>\n",
       "      <td>married</td>\n",
       "      <td>0</td>\n",
       "      <td>M</td>\n",
       "      <td>employee</td>\n",
       "      <td>0</td>\n",
       "      <td>23108.150</td>\n",
       "      <td>purchase of the house for my family</td>\n",
       "    </tr>\n",
       "    <tr>\n",
       "      <td>10</td>\n",
       "      <td>2</td>\n",
       "      <td>-4171.483647</td>\n",
       "      <td>36</td>\n",
       "      <td>bachelor's degree</td>\n",
       "      <td>0</td>\n",
       "      <td>married</td>\n",
       "      <td>0</td>\n",
       "      <td>M</td>\n",
       "      <td>business</td>\n",
       "      <td>0</td>\n",
       "      <td>18230.959</td>\n",
       "      <td>buy real estate</td>\n",
       "    </tr>\n",
       "    <tr>\n",
       "      <td>11</td>\n",
       "      <td>0</td>\n",
       "      <td>-792.701887</td>\n",
       "      <td>40</td>\n",
       "      <td>secondary education</td>\n",
       "      <td>1</td>\n",
       "      <td>married</td>\n",
       "      <td>0</td>\n",
       "      <td>F</td>\n",
       "      <td>employee</td>\n",
       "      <td>0</td>\n",
       "      <td>12331.077</td>\n",
       "      <td>buy commercial real estate</td>\n",
       "    </tr>\n",
       "    <tr>\n",
       "      <td>12</td>\n",
       "      <td>0</td>\n",
       "      <td>NaN</td>\n",
       "      <td>65</td>\n",
       "      <td>secondary education</td>\n",
       "      <td>1</td>\n",
       "      <td>civil partnership</td>\n",
       "      <td>1</td>\n",
       "      <td>M</td>\n",
       "      <td>retiree</td>\n",
       "      <td>0</td>\n",
       "      <td>NaN</td>\n",
       "      <td>to have a wedding</td>\n",
       "    </tr>\n",
       "    <tr>\n",
       "      <td>13</td>\n",
       "      <td>0</td>\n",
       "      <td>-1846.641941</td>\n",
       "      <td>54</td>\n",
       "      <td>some college</td>\n",
       "      <td>2</td>\n",
       "      <td>married</td>\n",
       "      <td>0</td>\n",
       "      <td>F</td>\n",
       "      <td>employee</td>\n",
       "      <td>0</td>\n",
       "      <td>20873.317</td>\n",
       "      <td>car purchase</td>\n",
       "    </tr>\n",
       "    <tr>\n",
       "      <td>14</td>\n",
       "      <td>0</td>\n",
       "      <td>-1844.956182</td>\n",
       "      <td>56</td>\n",
       "      <td>bachelor's degree</td>\n",
       "      <td>0</td>\n",
       "      <td>civil partnership</td>\n",
       "      <td>1</td>\n",
       "      <td>F</td>\n",
       "      <td>business</td>\n",
       "      <td>1</td>\n",
       "      <td>26420.466</td>\n",
       "      <td>buy residential real estate</td>\n",
       "    </tr>\n",
       "    <tr>\n",
       "      <td>15</td>\n",
       "      <td>1</td>\n",
       "      <td>-972.364419</td>\n",
       "      <td>26</td>\n",
       "      <td>secondary education</td>\n",
       "      <td>1</td>\n",
       "      <td>married</td>\n",
       "      <td>0</td>\n",
       "      <td>F</td>\n",
       "      <td>employee</td>\n",
       "      <td>0</td>\n",
       "      <td>18691.345</td>\n",
       "      <td>construction of own property</td>\n",
       "    </tr>\n",
       "    <tr>\n",
       "      <td>16</td>\n",
       "      <td>0</td>\n",
       "      <td>-1719.934226</td>\n",
       "      <td>35</td>\n",
       "      <td>secondary education</td>\n",
       "      <td>1</td>\n",
       "      <td>married</td>\n",
       "      <td>0</td>\n",
       "      <td>F</td>\n",
       "      <td>employee</td>\n",
       "      <td>0</td>\n",
       "      <td>46272.433</td>\n",
       "      <td>property</td>\n",
       "    </tr>\n",
       "    <tr>\n",
       "      <td>17</td>\n",
       "      <td>0</td>\n",
       "      <td>-2369.999720</td>\n",
       "      <td>33</td>\n",
       "      <td>bachelor's degree</td>\n",
       "      <td>0</td>\n",
       "      <td>civil partnership</td>\n",
       "      <td>1</td>\n",
       "      <td>M</td>\n",
       "      <td>employee</td>\n",
       "      <td>0</td>\n",
       "      <td>14465.694</td>\n",
       "      <td>building a property</td>\n",
       "    </tr>\n",
       "    <tr>\n",
       "      <td>18</td>\n",
       "      <td>0</td>\n",
       "      <td>400281.136913</td>\n",
       "      <td>53</td>\n",
       "      <td>secondary education</td>\n",
       "      <td>1</td>\n",
       "      <td>widow / widower</td>\n",
       "      <td>2</td>\n",
       "      <td>F</td>\n",
       "      <td>retiree</td>\n",
       "      <td>0</td>\n",
       "      <td>9091.804</td>\n",
       "      <td>buying a second-hand car</td>\n",
       "    </tr>\n",
       "    <tr>\n",
       "      <td>19</td>\n",
       "      <td>0</td>\n",
       "      <td>-10038.818549</td>\n",
       "      <td>48</td>\n",
       "      <td>SECONDARY EDUCATION</td>\n",
       "      <td>1</td>\n",
       "      <td>divorced</td>\n",
       "      <td>3</td>\n",
       "      <td>F</td>\n",
       "      <td>employee</td>\n",
       "      <td>0</td>\n",
       "      <td>38852.977</td>\n",
       "      <td>buying my own car</td>\n",
       "    </tr>\n",
       "    <tr>\n",
       "      <td>20</td>\n",
       "      <td>1</td>\n",
       "      <td>-1311.604166</td>\n",
       "      <td>36</td>\n",
       "      <td>secondary education</td>\n",
       "      <td>1</td>\n",
       "      <td>married</td>\n",
       "      <td>0</td>\n",
       "      <td>M</td>\n",
       "      <td>employee</td>\n",
       "      <td>0</td>\n",
       "      <td>33528.423</td>\n",
       "      <td>property</td>\n",
       "    </tr>\n",
       "    <tr>\n",
       "      <td>21</td>\n",
       "      <td>1</td>\n",
       "      <td>-253.685166</td>\n",
       "      <td>33</td>\n",
       "      <td>secondary education</td>\n",
       "      <td>1</td>\n",
       "      <td>civil partnership</td>\n",
       "      <td>1</td>\n",
       "      <td>F</td>\n",
       "      <td>employee</td>\n",
       "      <td>0</td>\n",
       "      <td>21089.953</td>\n",
       "      <td>car purchase</td>\n",
       "    </tr>\n",
       "    <tr>\n",
       "      <td>22</td>\n",
       "      <td>1</td>\n",
       "      <td>-1766.644138</td>\n",
       "      <td>24</td>\n",
       "      <td>secondary education</td>\n",
       "      <td>1</td>\n",
       "      <td>civil partnership</td>\n",
       "      <td>1</td>\n",
       "      <td>F</td>\n",
       "      <td>employee</td>\n",
       "      <td>0</td>\n",
       "      <td>23948.983</td>\n",
       "      <td>buying a second-hand car</td>\n",
       "    </tr>\n",
       "    <tr>\n",
       "      <td>23</td>\n",
       "      <td>0</td>\n",
       "      <td>-272.981385</td>\n",
       "      <td>21</td>\n",
       "      <td>bachelor's degree</td>\n",
       "      <td>0</td>\n",
       "      <td>civil partnership</td>\n",
       "      <td>1</td>\n",
       "      <td>M</td>\n",
       "      <td>employee</td>\n",
       "      <td>0</td>\n",
       "      <td>20522.515</td>\n",
       "      <td>to have a wedding</td>\n",
       "    </tr>\n",
       "    <tr>\n",
       "      <td>24</td>\n",
       "      <td>1</td>\n",
       "      <td>338551.952911</td>\n",
       "      <td>57</td>\n",
       "      <td>secondary education</td>\n",
       "      <td>1</td>\n",
       "      <td>unmarried</td>\n",
       "      <td>4</td>\n",
       "      <td>F</td>\n",
       "      <td>retiree</td>\n",
       "      <td>0</td>\n",
       "      <td>46487.558</td>\n",
       "      <td>transactions with commercial real estate</td>\n",
       "    </tr>\n",
       "    <tr>\n",
       "      <td>25</td>\n",
       "      <td>0</td>\n",
       "      <td>363548.489348</td>\n",
       "      <td>67</td>\n",
       "      <td>secondary education</td>\n",
       "      <td>1</td>\n",
       "      <td>married</td>\n",
       "      <td>0</td>\n",
       "      <td>M</td>\n",
       "      <td>retiree</td>\n",
       "      <td>0</td>\n",
       "      <td>8818.041</td>\n",
       "      <td>buy real estate</td>\n",
       "    </tr>\n",
       "    <tr>\n",
       "      <td>26</td>\n",
       "      <td>0</td>\n",
       "      <td>NaN</td>\n",
       "      <td>41</td>\n",
       "      <td>secondary education</td>\n",
       "      <td>1</td>\n",
       "      <td>married</td>\n",
       "      <td>0</td>\n",
       "      <td>M</td>\n",
       "      <td>civil servant</td>\n",
       "      <td>0</td>\n",
       "      <td>NaN</td>\n",
       "      <td>education</td>\n",
       "    </tr>\n",
       "    <tr>\n",
       "      <td>27</td>\n",
       "      <td>0</td>\n",
       "      <td>-529.191635</td>\n",
       "      <td>28</td>\n",
       "      <td>bachelor's degree</td>\n",
       "      <td>0</td>\n",
       "      <td>married</td>\n",
       "      <td>0</td>\n",
       "      <td>M</td>\n",
       "      <td>employee</td>\n",
       "      <td>0</td>\n",
       "      <td>49415.837</td>\n",
       "      <td>construction of own property</td>\n",
       "    </tr>\n",
       "    <tr>\n",
       "      <td>28</td>\n",
       "      <td>1</td>\n",
       "      <td>-717.274324</td>\n",
       "      <td>26</td>\n",
       "      <td>bachelor's degree</td>\n",
       "      <td>0</td>\n",
       "      <td>married</td>\n",
       "      <td>0</td>\n",
       "      <td>F</td>\n",
       "      <td>employee</td>\n",
       "      <td>0</td>\n",
       "      <td>30058.118</td>\n",
       "      <td>construction of own property</td>\n",
       "    </tr>\n",
       "    <tr>\n",
       "      <td>29</td>\n",
       "      <td>0</td>\n",
       "      <td>NaN</td>\n",
       "      <td>63</td>\n",
       "      <td>secondary education</td>\n",
       "      <td>1</td>\n",
       "      <td>unmarried</td>\n",
       "      <td>4</td>\n",
       "      <td>F</td>\n",
       "      <td>retiree</td>\n",
       "      <td>0</td>\n",
       "      <td>NaN</td>\n",
       "      <td>building a real estate</td>\n",
       "    </tr>\n",
       "    <tr>\n",
       "      <td>30</td>\n",
       "      <td>1</td>\n",
       "      <td>335581.668515</td>\n",
       "      <td>62</td>\n",
       "      <td>secondary education</td>\n",
       "      <td>1</td>\n",
       "      <td>married</td>\n",
       "      <td>0</td>\n",
       "      <td>F</td>\n",
       "      <td>retiree</td>\n",
       "      <td>0</td>\n",
       "      <td>27432.971</td>\n",
       "      <td>transactions with commercial real estate</td>\n",
       "    </tr>\n",
       "    <tr>\n",
       "      <td>31</td>\n",
       "      <td>0</td>\n",
       "      <td>-1682.083438</td>\n",
       "      <td>47</td>\n",
       "      <td>primary education</td>\n",
       "      <td>3</td>\n",
       "      <td>married</td>\n",
       "      <td>0</td>\n",
       "      <td>F</td>\n",
       "      <td>employee</td>\n",
       "      <td>0</td>\n",
       "      <td>44077.710</td>\n",
       "      <td>housing</td>\n",
       "    </tr>\n",
       "    <tr>\n",
       "      <td>32</td>\n",
       "      <td>0</td>\n",
       "      <td>-4649.910832</td>\n",
       "      <td>34</td>\n",
       "      <td>SECONDARY EDUCATION</td>\n",
       "      <td>1</td>\n",
       "      <td>civil partnership</td>\n",
       "      <td>1</td>\n",
       "      <td>F</td>\n",
       "      <td>employee</td>\n",
       "      <td>1</td>\n",
       "      <td>22249.194</td>\n",
       "      <td>having a wedding</td>\n",
       "    </tr>\n",
       "    <tr>\n",
       "      <td>33</td>\n",
       "      <td>0</td>\n",
       "      <td>-1548.637544</td>\n",
       "      <td>48</td>\n",
       "      <td>secondary education</td>\n",
       "      <td>1</td>\n",
       "      <td>married</td>\n",
       "      <td>0</td>\n",
       "      <td>F</td>\n",
       "      <td>business</td>\n",
       "      <td>0</td>\n",
       "      <td>25159.326</td>\n",
       "      <td>purchase of the house</td>\n",
       "    </tr>\n",
       "    <tr>\n",
       "      <td>34</td>\n",
       "      <td>0</td>\n",
       "      <td>-4488.067031</td>\n",
       "      <td>35</td>\n",
       "      <td>secondary education</td>\n",
       "      <td>1</td>\n",
       "      <td>married</td>\n",
       "      <td>0</td>\n",
       "      <td>F</td>\n",
       "      <td>employee</td>\n",
       "      <td>0</td>\n",
       "      <td>16745.672</td>\n",
       "      <td>transactions with my real estate</td>\n",
       "    </tr>\n",
       "    <tr>\n",
       "      <td>35</td>\n",
       "      <td>0</td>\n",
       "      <td>394021.072184</td>\n",
       "      <td>68</td>\n",
       "      <td>secondary education</td>\n",
       "      <td>1</td>\n",
       "      <td>civil partnership</td>\n",
       "      <td>1</td>\n",
       "      <td>M</td>\n",
       "      <td>retiree</td>\n",
       "      <td>0</td>\n",
       "      <td>12448.908</td>\n",
       "      <td>having a wedding</td>\n",
       "    </tr>\n",
       "    <tr>\n",
       "      <td>36</td>\n",
       "      <td>0</td>\n",
       "      <td>-176.216688</td>\n",
       "      <td>33</td>\n",
       "      <td>secondary education</td>\n",
       "      <td>1</td>\n",
       "      <td>unmarried</td>\n",
       "      <td>4</td>\n",
       "      <td>M</td>\n",
       "      <td>employee</td>\n",
       "      <td>0</td>\n",
       "      <td>22212.904</td>\n",
       "      <td>cars</td>\n",
       "    </tr>\n",
       "    <tr>\n",
       "      <td>37</td>\n",
       "      <td>0</td>\n",
       "      <td>-6448.810860</td>\n",
       "      <td>43</td>\n",
       "      <td>BACHELOR'S DEGREE</td>\n",
       "      <td>0</td>\n",
       "      <td>civil partnership</td>\n",
       "      <td>1</td>\n",
       "      <td>F</td>\n",
       "      <td>business</td>\n",
       "      <td>0</td>\n",
       "      <td>24660.621</td>\n",
       "      <td>car purchase</td>\n",
       "    </tr>\n",
       "    <tr>\n",
       "      <td>38</td>\n",
       "      <td>0</td>\n",
       "      <td>-597.881827</td>\n",
       "      <td>25</td>\n",
       "      <td>bachelor's degree</td>\n",
       "      <td>0</td>\n",
       "      <td>unmarried</td>\n",
       "      <td>4</td>\n",
       "      <td>M</td>\n",
       "      <td>employee</td>\n",
       "      <td>1</td>\n",
       "      <td>30759.568</td>\n",
       "      <td>education</td>\n",
       "    </tr>\n",
       "    <tr>\n",
       "      <td>39</td>\n",
       "      <td>0</td>\n",
       "      <td>-650.587796</td>\n",
       "      <td>31</td>\n",
       "      <td>bachelor's degree</td>\n",
       "      <td>0</td>\n",
       "      <td>civil partnership</td>\n",
       "      <td>1</td>\n",
       "      <td>F</td>\n",
       "      <td>business</td>\n",
       "      <td>0</td>\n",
       "      <td>120678.528</td>\n",
       "      <td>to become educated</td>\n",
       "    </tr>\n",
       "  </tbody>\n",
       "</table>\n",
       "</div>"
      ],
      "text/plain": [
       "    children  days_employed  dob_years            education  education_id  \\\n",
       "0          1   -8437.673028         42    bachelor's degree             0   \n",
       "1          1   -4024.803754         36  secondary education             1   \n",
       "2          0   -5623.422610         33  Secondary Education             1   \n",
       "3          3   -4124.747207         32  secondary education             1   \n",
       "4          0  340266.072047         53  secondary education             1   \n",
       "5          0    -926.185831         27    bachelor's degree             0   \n",
       "6          0   -2879.202052         43    bachelor's degree             0   \n",
       "7          0    -152.779569         50  SECONDARY EDUCATION             1   \n",
       "8          2   -6929.865299         35    BACHELOR'S DEGREE             0   \n",
       "9          0   -2188.756445         41  secondary education             1   \n",
       "10         2   -4171.483647         36    bachelor's degree             0   \n",
       "11         0    -792.701887         40  secondary education             1   \n",
       "12         0            NaN         65  secondary education             1   \n",
       "13         0   -1846.641941         54         some college             2   \n",
       "14         0   -1844.956182         56    bachelor's degree             0   \n",
       "15         1    -972.364419         26  secondary education             1   \n",
       "16         0   -1719.934226         35  secondary education             1   \n",
       "17         0   -2369.999720         33    bachelor's degree             0   \n",
       "18         0  400281.136913         53  secondary education             1   \n",
       "19         0  -10038.818549         48  SECONDARY EDUCATION             1   \n",
       "20         1   -1311.604166         36  secondary education             1   \n",
       "21         1    -253.685166         33  secondary education             1   \n",
       "22         1   -1766.644138         24  secondary education             1   \n",
       "23         0    -272.981385         21    bachelor's degree             0   \n",
       "24         1  338551.952911         57  secondary education             1   \n",
       "25         0  363548.489348         67  secondary education             1   \n",
       "26         0            NaN         41  secondary education             1   \n",
       "27         0    -529.191635         28    bachelor's degree             0   \n",
       "28         1    -717.274324         26    bachelor's degree             0   \n",
       "29         0            NaN         63  secondary education             1   \n",
       "30         1  335581.668515         62  secondary education             1   \n",
       "31         0   -1682.083438         47    primary education             3   \n",
       "32         0   -4649.910832         34  SECONDARY EDUCATION             1   \n",
       "33         0   -1548.637544         48  secondary education             1   \n",
       "34         0   -4488.067031         35  secondary education             1   \n",
       "35         0  394021.072184         68  secondary education             1   \n",
       "36         0    -176.216688         33  secondary education             1   \n",
       "37         0   -6448.810860         43    BACHELOR'S DEGREE             0   \n",
       "38         0    -597.881827         25    bachelor's degree             0   \n",
       "39         0    -650.587796         31    bachelor's degree             0   \n",
       "\n",
       "        family_status  family_status_id gender    income_type  debt  \\\n",
       "0             married                 0      F       employee     0   \n",
       "1             married                 0      F       employee     0   \n",
       "2             married                 0      M       employee     0   \n",
       "3             married                 0      M       employee     0   \n",
       "4   civil partnership                 1      F        retiree     0   \n",
       "5   civil partnership                 1      M       business     0   \n",
       "6             married                 0      F       business     0   \n",
       "7             married                 0      M       employee     0   \n",
       "8   civil partnership                 1      F       employee     0   \n",
       "9             married                 0      M       employee     0   \n",
       "10            married                 0      M       business     0   \n",
       "11            married                 0      F       employee     0   \n",
       "12  civil partnership                 1      M        retiree     0   \n",
       "13            married                 0      F       employee     0   \n",
       "14  civil partnership                 1      F       business     1   \n",
       "15            married                 0      F       employee     0   \n",
       "16            married                 0      F       employee     0   \n",
       "17  civil partnership                 1      M       employee     0   \n",
       "18    widow / widower                 2      F        retiree     0   \n",
       "19           divorced                 3      F       employee     0   \n",
       "20            married                 0      M       employee     0   \n",
       "21  civil partnership                 1      F       employee     0   \n",
       "22  civil partnership                 1      F       employee     0   \n",
       "23  civil partnership                 1      M       employee     0   \n",
       "24          unmarried                 4      F        retiree     0   \n",
       "25            married                 0      M        retiree     0   \n",
       "26            married                 0      M  civil servant     0   \n",
       "27            married                 0      M       employee     0   \n",
       "28            married                 0      F       employee     0   \n",
       "29          unmarried                 4      F        retiree     0   \n",
       "30            married                 0      F        retiree     0   \n",
       "31            married                 0      F       employee     0   \n",
       "32  civil partnership                 1      F       employee     1   \n",
       "33            married                 0      F       business     0   \n",
       "34            married                 0      F       employee     0   \n",
       "35  civil partnership                 1      M        retiree     0   \n",
       "36          unmarried                 4      M       employee     0   \n",
       "37  civil partnership                 1      F       business     0   \n",
       "38          unmarried                 4      M       employee     1   \n",
       "39  civil partnership                 1      F       business     0   \n",
       "\n",
       "    total_income                                   purpose  \n",
       "0      40620.102                     purchase of the house  \n",
       "1      17932.802                              car purchase  \n",
       "2      23341.752                     purchase of the house  \n",
       "3      42820.568                   supplementary education  \n",
       "4      25378.572                         to have a wedding  \n",
       "5      40922.170                     purchase of the house  \n",
       "6      38484.156                      housing transactions  \n",
       "7      21731.829                                 education  \n",
       "8      15337.093                          having a wedding  \n",
       "9      23108.150       purchase of the house for my family  \n",
       "10     18230.959                           buy real estate  \n",
       "11     12331.077                buy commercial real estate  \n",
       "12           NaN                         to have a wedding  \n",
       "13     20873.317                              car purchase  \n",
       "14     26420.466               buy residential real estate  \n",
       "15     18691.345              construction of own property  \n",
       "16     46272.433                                  property  \n",
       "17     14465.694                       building a property  \n",
       "18      9091.804                  buying a second-hand car  \n",
       "19     38852.977                         buying my own car  \n",
       "20     33528.423                                  property  \n",
       "21     21089.953                              car purchase  \n",
       "22     23948.983                  buying a second-hand car  \n",
       "23     20522.515                         to have a wedding  \n",
       "24     46487.558  transactions with commercial real estate  \n",
       "25      8818.041                           buy real estate  \n",
       "26           NaN                                 education  \n",
       "27     49415.837              construction of own property  \n",
       "28     30058.118              construction of own property  \n",
       "29           NaN                    building a real estate  \n",
       "30     27432.971  transactions with commercial real estate  \n",
       "31     44077.710                                   housing  \n",
       "32     22249.194                          having a wedding  \n",
       "33     25159.326                     purchase of the house  \n",
       "34     16745.672          transactions with my real estate  \n",
       "35     12448.908                          having a wedding  \n",
       "36     22212.904                                      cars  \n",
       "37     24660.621                              car purchase  \n",
       "38     30759.568                                 education  \n",
       "39    120678.528                        to become educated  "
      ]
     },
     "execution_count": 4,
     "metadata": {},
     "output_type": "execute_result"
    }
   ],
   "source": [
    "credit_scoring.head(40)\n",
    "# let's print the first N rows\n",
    "\n"
   ]
  },
  {
   "cell_type": "markdown",
   "metadata": {},
   "source": [
    "There are missing values in the 'days_employed' and 'total_income' columns. There are also many negative values in the 'days_employed' column. Lastly, the 'days_employed' column should have int values instead of float values. "
   ]
  },
  {
   "cell_type": "code",
   "execution_count": 5,
   "metadata": {
    "scrolled": false
   },
   "outputs": [
    {
     "name": "stdout",
     "output_type": "stream",
     "text": [
      "<class 'pandas.core.frame.DataFrame'>\n",
      "RangeIndex: 21525 entries, 0 to 21524\n",
      "Data columns (total 12 columns):\n",
      "children            21525 non-null int64\n",
      "days_employed       19351 non-null float64\n",
      "dob_years           21525 non-null int64\n",
      "education           21525 non-null object\n",
      "education_id        21525 non-null int64\n",
      "family_status       21525 non-null object\n",
      "family_status_id    21525 non-null int64\n",
      "gender              21525 non-null object\n",
      "income_type         21525 non-null object\n",
      "debt                21525 non-null int64\n",
      "total_income        19351 non-null float64\n",
      "purpose             21525 non-null object\n",
      "dtypes: float64(2), int64(5), object(5)\n",
      "memory usage: 2.0+ MB\n"
     ]
    }
   ],
   "source": [
    "credit_scoring.info()\n",
    "# Get info on data\n"
   ]
  },
  {
   "cell_type": "markdown",
   "metadata": {},
   "source": [
    "There are only missing values in the 'days_employed' and the 'total_income' columns. The number of missing values in both of these columns are equal and that would indicate that if one of those values are missing, the other one will be missing as well. "
   ]
  },
  {
   "cell_type": "code",
   "execution_count": 6,
   "metadata": {
    "scrolled": true
   },
   "outputs": [
    {
     "data": {
      "text/plain": [
       "children               0\n",
       "days_employed       2174\n",
       "dob_years              0\n",
       "education              0\n",
       "education_id           0\n",
       "family_status          0\n",
       "family_status_id       0\n",
       "gender                 0\n",
       "income_type            0\n",
       "debt                   0\n",
       "total_income        2174\n",
       "purpose                0\n",
       "dtype: int64"
      ]
     },
     "execution_count": 6,
     "metadata": {},
     "output_type": "execute_result"
    }
   ],
   "source": [
    "# Let's look at the filtered table with missing values in the the first column with missing data\n",
    "\n",
    "missing_data = credit_scoring.isna().sum()\n",
    "\n",
    "missing_data"
   ]
  },
  {
   "cell_type": "markdown",
   "metadata": {},
   "source": [
    "Missing values seem to be symmetric. There are the exact same number of missing values for 'days_employed' and 'total_income'. "
   ]
  },
  {
   "cell_type": "code",
   "execution_count": 7,
   "metadata": {},
   "outputs": [
    {
     "data": {
      "text/plain": [
       "children            2174\n",
       "days_employed          0\n",
       "dob_years           2174\n",
       "education           2174\n",
       "education_id        2174\n",
       "family_status       2174\n",
       "family_status_id    2174\n",
       "gender              2174\n",
       "income_type         2174\n",
       "debt                2174\n",
       "total_income           0\n",
       "purpose             2174\n",
       "dtype: int64"
      ]
     },
     "execution_count": 7,
     "metadata": {},
     "output_type": "execute_result"
    }
   ],
   "source": [
    "# Let's apply multiple conditions for filtering data and look at the number of rows in the filtered table.\n",
    "\n",
    "missing_data_rows = credit_scoring[(credit_scoring['days_employed'].isna()) & (credit_scoring['total_income'].isna())].count()\n",
    "\n",
    "missing_data_rows"
   ]
  },
  {
   "cell_type": "markdown",
   "metadata": {},
   "source": [
    "**Intermediate conclusion**\n",
    "\n",
    "Yes, the number of rows in the filtered table do match the number of missing values. This indicates that the only missing values in this dataset are the 2174 missing values in 'days_employed' and in 'total_income'."
   ]
  },
  {
   "cell_type": "code",
   "execution_count": 8,
   "metadata": {},
   "outputs": [
    {
     "data": {
      "text/plain": [
       "children             0.000000\n",
       "days_employed       10.099884\n",
       "dob_years            0.000000\n",
       "education            0.000000\n",
       "education_id         0.000000\n",
       "family_status        0.000000\n",
       "family_status_id     0.000000\n",
       "gender               0.000000\n",
       "income_type          0.000000\n",
       "debt                 0.000000\n",
       "total_income        10.099884\n",
       "purpose              0.000000\n",
       "dtype: float64"
      ]
     },
     "execution_count": 8,
     "metadata": {},
     "output_type": "execute_result"
    }
   ],
   "source": [
    "# Checking distribution\n",
    "\n",
    "credit_scoring.isna().sum()/len(credit_scoring) * 100\n"
   ]
  },
  {
   "cell_type": "markdown",
   "metadata": {},
   "source": [
    "**Possible reasons for missing values in data**\n",
    "\n",
    "If there is a missing datapoint in the 'days_employed' column, there will be a missing point in the total_income column as well. Besides that, there is no apparent pattern to the missing data.\n"
   ]
  },
  {
   "cell_type": "markdown",
   "metadata": {},
   "source": [
    "**Conclusions**\n",
    "\n",
    "\n",
    "No patterns were apparent in the missing data. There were no column values that were consistently the same throughout all of the missing data points.\n",
    "\n",
    "\n",
    "The missing values are all in the 'days_employed' or 'total_income' categories. These values will be replaced with either the mean or median (depending on data distribution) of their respective columns after being grouped into relevant categories. \n",
    "\n",
    "\n",
    "Several factors will be addressed during data transformation. Education category will need to be fixed to have consistent language. There are nonsensical values in the 'children' category that need to be addressed. There are many negative values in the 'days_employed' category. There are several datapoints indicating an age of 0 that need to be addressed. There is an entry under gender that does not make sense. Lastly, there are many duplicates that need to be addressed. "
   ]
  },
  {
   "cell_type": "markdown",
   "metadata": {},
   "source": [
    "## Data transformation\n"
   ]
  },
  {
   "cell_type": "code",
   "execution_count": 9,
   "metadata": {},
   "outputs": [
    {
     "data": {
      "text/plain": [
       "secondary education    13750\n",
       "bachelor's degree       4718\n",
       "SECONDARY EDUCATION      772\n",
       "Secondary Education      711\n",
       "some college             668\n",
       "BACHELOR'S DEGREE        274\n",
       "Bachelor's Degree        268\n",
       "primary education        250\n",
       "Some College              47\n",
       "SOME COLLEGE              29\n",
       "PRIMARY EDUCATION         17\n",
       "Primary Education         15\n",
       "graduate degree            4\n",
       "GRADUATE DEGREE            1\n",
       "Graduate Degree            1\n",
       "Name: education, dtype: int64"
      ]
     },
     "execution_count": 9,
     "metadata": {},
     "output_type": "execute_result"
    }
   ],
   "source": [
    "# Let's see all values in education column to check if and what spellings will need to be fixed\n",
    "credit_scoring['education'].value_counts()"
   ]
  },
  {
   "cell_type": "code",
   "execution_count": 10,
   "metadata": {
    "scrolled": true
   },
   "outputs": [],
   "source": [
    "# Fix the registers if required\n",
    "credit_scoring['education'] = credit_scoring['education'].str.lower()"
   ]
  },
  {
   "cell_type": "code",
   "execution_count": 11,
   "metadata": {},
   "outputs": [
    {
     "data": {
      "text/plain": [
       "secondary education    15233\n",
       "bachelor's degree       5260\n",
       "some college             744\n",
       "primary education        282\n",
       "graduate degree            6\n",
       "Name: education, dtype: int64"
      ]
     },
     "execution_count": 11,
     "metadata": {},
     "output_type": "execute_result"
    }
   ],
   "source": [
    "# Checking all the values in the column to make sure we fixed them\n",
    "\n",
    "credit_scoring['education'].value_counts()"
   ]
  },
  {
   "cell_type": "code",
   "execution_count": 12,
   "metadata": {},
   "outputs": [
    {
     "data": {
      "text/plain": [
       " 0     14149\n",
       " 1      4818\n",
       " 2      2055\n",
       " 3       330\n",
       " 20       76\n",
       "-1        47\n",
       " 4        41\n",
       " 5         9\n",
       "Name: children, dtype: int64"
      ]
     },
     "execution_count": 12,
     "metadata": {},
     "output_type": "execute_result"
    }
   ],
   "source": [
    "# Let's see the distribution of values in the `children` column\n",
    "credit_scoring['children'].value_counts()"
   ]
  },
  {
   "cell_type": "markdown",
   "metadata": {},
   "source": [
    "There are many instances of 20 children. While this is not completely unheard of, the fact that there are 76 cases of having 20 children and 0 cases between 5 and 20 is suspicious. This is most likely due to input error. These users most likely meant to input 2 instead of 20. There are also many cases of -1 children which is not possible. This is also most likely due to input error. These users most likely meant to enter 1."
   ]
  },
  {
   "cell_type": "code",
   "execution_count": 13,
   "metadata": {},
   "outputs": [],
   "source": [
    "# [fix the data based on your decision]\n",
    "credit_scoring['children'] = credit_scoring['children'].replace([20, -1], [2, 1])\n",
    "\n"
   ]
  },
  {
   "cell_type": "code",
   "execution_count": 14,
   "metadata": {},
   "outputs": [
    {
     "data": {
      "text/plain": [
       "0    14149\n",
       "1     4865\n",
       "2     2131\n",
       "3      330\n",
       "4       41\n",
       "5        9\n",
       "Name: children, dtype: int64"
      ]
     },
     "execution_count": 14,
     "metadata": {},
     "output_type": "execute_result"
    }
   ],
   "source": [
    "# Checking the `children` column again to make sure it's all fixed\n",
    "credit_scoring['children'].value_counts()\n"
   ]
  },
  {
   "cell_type": "code",
   "execution_count": 15,
   "metadata": {},
   "outputs": [
    {
     "data": {
      "text/plain": [
       "0     -8437.673028\n",
       "1     -4024.803754\n",
       "2     -5623.422610\n",
       "3     -4124.747207\n",
       "4    340266.072047\n",
       "Name: days_employed, dtype: float64"
      ]
     },
     "execution_count": 15,
     "metadata": {},
     "output_type": "execute_result"
    }
   ],
   "source": [
    "# Find problematic data in `days_employed`, if they exist, and calculate the percentage\n",
    "credit_scoring['days_employed'].head()\n",
    "\n"
   ]
  },
  {
   "cell_type": "code",
   "execution_count": 16,
   "metadata": {},
   "outputs": [
    {
     "data": {
      "text/plain": [
       "children            0.738955\n",
       "days_employed       0.821973\n",
       "dob_years           0.738955\n",
       "education           0.738955\n",
       "education_id        0.738955\n",
       "family_status       0.738955\n",
       "family_status_id    0.738955\n",
       "gender              0.738955\n",
       "income_type         0.738955\n",
       "debt                0.738955\n",
       "total_income        0.821973\n",
       "purpose             0.738955\n",
       "dtype: float64"
      ]
     },
     "execution_count": 16,
     "metadata": {},
     "output_type": "execute_result"
    }
   ],
   "source": [
    "days_employed_negative = credit_scoring[credit_scoring['days_employed'] < 0]\n",
    "days_employed_negative.count() / credit_scoring.count()"
   ]
  },
  {
   "cell_type": "markdown",
   "metadata": {},
   "source": [
    "It is not possible to be employed for a negative amount of days so all of the negative values in this column constitute problematic data. 73.9% of these values are problematic and they are most likely caused by entry error. These values will all be converted to positive numbers."
   ]
  },
  {
   "cell_type": "code",
   "execution_count": 17,
   "metadata": {},
   "outputs": [],
   "source": [
    "# Address the problematic values, if they exist\n",
    "credit_scoring['days_employed'] = credit_scoring['days_employed'].abs()\n",
    "\n"
   ]
  },
  {
   "cell_type": "code",
   "execution_count": 18,
   "metadata": {},
   "outputs": [
    {
     "data": {
      "text/plain": [
       "0       8437.673028\n",
       "1       4024.803754\n",
       "2       5623.422610\n",
       "3       4124.747207\n",
       "4     340266.072047\n",
       "5        926.185831\n",
       "6       2879.202052\n",
       "7        152.779569\n",
       "8       6929.865299\n",
       "9       2188.756445\n",
       "10      4171.483647\n",
       "11       792.701887\n",
       "12              NaN\n",
       "13      1846.641941\n",
       "14      1844.956182\n",
       "15       972.364419\n",
       "16      1719.934226\n",
       "17      2369.999720\n",
       "18    400281.136913\n",
       "19     10038.818549\n",
       "20      1311.604166\n",
       "21       253.685166\n",
       "22      1766.644138\n",
       "23       272.981385\n",
       "24    338551.952911\n",
       "25    363548.489348\n",
       "26              NaN\n",
       "27       529.191635\n",
       "28       717.274324\n",
       "29              NaN\n",
       "30    335581.668515\n",
       "31      1682.083438\n",
       "32      4649.910832\n",
       "33      1548.637544\n",
       "34      4488.067031\n",
       "35    394021.072184\n",
       "36       176.216688\n",
       "37      6448.810860\n",
       "38       597.881827\n",
       "39       650.587796\n",
       "Name: days_employed, dtype: float64"
      ]
     },
     "execution_count": 18,
     "metadata": {},
     "output_type": "execute_result"
    }
   ],
   "source": [
    "# Check the result - make sure it's fixed\n",
    "credit_scoring['days_employed'].head(40)\n",
    "\n"
   ]
  },
  {
   "cell_type": "code",
   "execution_count": 19,
   "metadata": {
    "scrolled": false
   },
   "outputs": [
    {
     "data": {
      "text/plain": [
       "count    21525.000000\n",
       "mean        43.293380\n",
       "std         12.574584\n",
       "min          0.000000\n",
       "25%         33.000000\n",
       "50%         42.000000\n",
       "75%         53.000000\n",
       "max         75.000000\n",
       "Name: dob_years, dtype: float64"
      ]
     },
     "execution_count": 19,
     "metadata": {},
     "output_type": "execute_result"
    }
   ],
   "source": [
    "# Check the `dob_years` for suspicious values and count the percentage\n",
    "credit_scoring['dob_years'].describe()"
   ]
  },
  {
   "cell_type": "code",
   "execution_count": 20,
   "metadata": {},
   "outputs": [
    {
     "data": {
      "text/plain": [
       "35    2.866434\n",
       "40    2.829268\n",
       "41    2.819977\n",
       "34    2.801394\n",
       "38    2.778165\n",
       "42    2.773519\n",
       "33    2.699187\n",
       "39    2.662021\n",
       "31    2.601626\n",
       "36    2.578397\n",
       "44    2.541231\n",
       "29    2.531940\n",
       "30    2.508711\n",
       "48    2.499419\n",
       "37    2.494774\n",
       "50    2.387921\n",
       "43    2.383275\n",
       "32    2.369338\n",
       "49    2.360046\n",
       "28    2.336818\n",
       "45    2.308943\n",
       "27    2.290360\n",
       "56    2.262485\n",
       "52    2.248548\n",
       "47    2.229965\n",
       "54    2.225319\n",
       "46    2.206736\n",
       "58    2.141696\n",
       "57    2.137050\n",
       "53    2.132404\n",
       "51    2.081301\n",
       "59    2.062718\n",
       "55    2.058072\n",
       "26    1.895470\n",
       "60    1.751452\n",
       "25    1.658537\n",
       "61    1.649245\n",
       "62    1.635308\n",
       "63    1.249710\n",
       "64    1.231127\n",
       "24    1.226481\n",
       "23    1.180023\n",
       "65    0.901278\n",
       "66    0.850174\n",
       "22    0.850174\n",
       "67    0.775842\n",
       "21    0.515679\n",
       "0     0.469222\n",
       "68    0.459930\n",
       "69    0.394890\n",
       "70    0.301974\n",
       "71    0.269454\n",
       "20    0.236934\n",
       "72    0.153310\n",
       "19    0.065041\n",
       "73    0.037166\n",
       "74    0.027875\n",
       "75    0.004646\n",
       "Name: dob_years, dtype: float64"
      ]
     },
     "execution_count": 20,
     "metadata": {},
     "output_type": "execute_result"
    }
   ],
   "source": [
    "credit_scoring['dob_years'].value_counts(normalize=True) *100"
   ]
  },
  {
   "cell_type": "markdown",
   "metadata": {},
   "source": [
    "There are many age values that were reported as 0 (0.46% of total values). These can most likely be attributed to entry error or lack of answer. These values should be replaced with the mean age."
   ]
  },
  {
   "cell_type": "code",
   "execution_count": 21,
   "metadata": {},
   "outputs": [],
   "source": [
    "# Address the issues in the `dob_years` column, if they exist\n",
    "mean_age = credit_scoring['dob_years'].mean()\n",
    "\n",
    "mean_age_int = mean_age.astype(int)\n",
    "\n",
    "credit_scoring['dob_years'] = credit_scoring['dob_years'].replace(0, mean_age_int)"
   ]
  },
  {
   "cell_type": "code",
   "execution_count": 22,
   "metadata": {},
   "outputs": [
    {
     "data": {
      "text/plain": [
       "0"
      ]
     },
     "execution_count": 22,
     "metadata": {},
     "output_type": "execute_result"
    }
   ],
   "source": [
    "# Check the result - make sure it's fixed\n",
    "(credit_scoring['dob_years'] == 0).sum()"
   ]
  },
  {
   "cell_type": "code",
   "execution_count": 23,
   "metadata": {},
   "outputs": [
    {
     "data": {
      "text/plain": [
       "married              12380\n",
       "civil partnership     4177\n",
       "unmarried             2813\n",
       "divorced              1195\n",
       "widow / widower        960\n",
       "Name: family_status, dtype: int64"
      ]
     },
     "execution_count": 23,
     "metadata": {},
     "output_type": "execute_result"
    }
   ],
   "source": [
    "# Let's see the values for the column\n",
    "\n",
    "credit_scoring['family_status'].value_counts()"
   ]
  },
  {
   "cell_type": "markdown",
   "metadata": {},
   "source": [
    "There is one entry that does not have an answer for gender. Since this is less than 0.01% of the dataset, it is possible to just delete this row entirely without affecting the overall dataset."
   ]
  },
  {
   "cell_type": "code",
   "execution_count": 24,
   "metadata": {},
   "outputs": [
    {
     "data": {
      "text/plain": [
       "F      14236\n",
       "M       7288\n",
       "XNA        1\n",
       "Name: gender, dtype: int64"
      ]
     },
     "execution_count": 24,
     "metadata": {},
     "output_type": "execute_result"
    }
   ],
   "source": [
    "# Let's see the values in the column\n",
    "\n",
    "credit_scoring['gender'].value_counts()"
   ]
  },
  {
   "cell_type": "code",
   "execution_count": 25,
   "metadata": {},
   "outputs": [],
   "source": [
    "# Address the problematic values, if they exist\n",
    "gender_problem = credit_scoring[credit_scoring['gender'] == 'XNA'].index\n",
    "credit_scoring.drop(gender_problem, inplace = True)"
   ]
  },
  {
   "cell_type": "code",
   "execution_count": 26,
   "metadata": {},
   "outputs": [
    {
     "data": {
      "text/plain": [
       "F    14236\n",
       "M     7288\n",
       "Name: gender, dtype: int64"
      ]
     },
     "execution_count": 26,
     "metadata": {},
     "output_type": "execute_result"
    }
   ],
   "source": [
    "# Check the result - make sure it's fixed\n",
    "credit_scoring['gender'].value_counts()\n"
   ]
  },
  {
   "cell_type": "code",
   "execution_count": 27,
   "metadata": {},
   "outputs": [
    {
     "data": {
      "text/plain": [
       "employee                       11119\n",
       "business                        5084\n",
       "retiree                         3856\n",
       "civil servant                   1459\n",
       "unemployed                         2\n",
       "entrepreneur                       2\n",
       "paternity / maternity leave        1\n",
       "student                            1\n",
       "Name: income_type, dtype: int64"
      ]
     },
     "execution_count": 27,
     "metadata": {},
     "output_type": "execute_result"
    }
   ],
   "source": [
    "# Let's see the values in the column\n",
    "\n",
    "credit_scoring['income_type'].value_counts()"
   ]
  },
  {
   "cell_type": "markdown",
   "metadata": {},
   "source": [
    "Income will need to be categorized in order to ensure proper analysis."
   ]
  },
  {
   "cell_type": "code",
   "execution_count": 28,
   "metadata": {},
   "outputs": [],
   "source": [
    "def income_category(row):\n",
    "    income = row['total_income']\n",
    "    \n",
    "    if 0 <= income <= 5000:\n",
    "        return '0-5k'\n",
    "    if 5000 < income <= 10000:\n",
    "        return '5-10k'\n",
    "    if 10000 < income <= 15000:\n",
    "        return '10-15k'\n",
    "    if 15000 < income <= 20000:\n",
    "        return '15-20k'\n",
    "    if 20000 < income <= 25000:\n",
    "        return '20-25k'\n",
    "    if 25000 < income <= 30000:\n",
    "        return '25-30k'\n",
    "    if 30000 < income <= 35000:\n",
    "        return '30-35k'\n",
    "    if 35000 < income <= 40000:\n",
    "        return '35-40k'    \n",
    "    if 40000 < income <= 45000:\n",
    "        return '40-45k'\n",
    "    if 45000 < income <= 50000:\n",
    "        return '45-50k'\n",
    "    if 50000 < income <= 55000:\n",
    "        return '50-55k'\n",
    "    if 55000 < income <= 60000:\n",
    "        return '55-60k'\n",
    "    return 'Over 60k'\n",
    "\n",
    "credit_scoring['income_categories'] = credit_scoring.apply(income_category, axis = 1)"
   ]
  },
  {
   "cell_type": "code",
   "execution_count": 29,
   "metadata": {},
   "outputs": [
    {
     "data": {
      "text/plain": [
       "False    21453\n",
       "True        71\n",
       "dtype: int64"
      ]
     },
     "execution_count": 29,
     "metadata": {},
     "output_type": "execute_result"
    }
   ],
   "source": [
    "# Checking duplicates\n",
    "credit_scoring.duplicated().value_counts()\n"
   ]
  },
  {
   "cell_type": "code",
   "execution_count": 30,
   "metadata": {},
   "outputs": [],
   "source": [
    "# Address the duplicates, if they exist\n",
    "\n",
    "credit_scoring = credit_scoring.drop_duplicates().reset_index(drop = True)"
   ]
  },
  {
   "cell_type": "code",
   "execution_count": 31,
   "metadata": {},
   "outputs": [
    {
     "data": {
      "text/plain": [
       "False    21453\n",
       "dtype: int64"
      ]
     },
     "execution_count": 31,
     "metadata": {},
     "output_type": "execute_result"
    }
   ],
   "source": [
    "# Last check whether we have any duplicates\n",
    "credit_scoring.duplicated().value_counts()\n"
   ]
  },
  {
   "cell_type": "code",
   "execution_count": 32,
   "metadata": {},
   "outputs": [
    {
     "name": "stdout",
     "output_type": "stream",
     "text": [
      "<class 'pandas.core.frame.DataFrame'>\n",
      "RangeIndex: 21453 entries, 0 to 21452\n",
      "Data columns (total 13 columns):\n",
      "children             21453 non-null int64\n",
      "days_employed        19350 non-null float64\n",
      "dob_years            21453 non-null int64\n",
      "education            21453 non-null object\n",
      "education_id         21453 non-null int64\n",
      "family_status        21453 non-null object\n",
      "family_status_id     21453 non-null int64\n",
      "gender               21453 non-null object\n",
      "income_type          21453 non-null object\n",
      "debt                 21453 non-null int64\n",
      "total_income         19350 non-null float64\n",
      "purpose              21453 non-null object\n",
      "income_categories    21453 non-null object\n",
      "dtypes: float64(2), int64(5), object(6)\n",
      "memory usage: 2.1+ MB\n"
     ]
    }
   ],
   "source": [
    "# Check the size of the dataset that you now have after your first manipulations with it\n",
    "\n",
    "credit_scoring.info()"
   ]
  },
  {
   "cell_type": "markdown",
   "metadata": {},
   "source": [
    "The number of rows in this dataset has decreased by 72 due to the duplicate rows that were deleted and the single row that was deleted for not having a gender value. These rows constituted 0.3% of the whole dataset."
   ]
  },
  {
   "cell_type": "markdown",
   "metadata": {},
   "source": [
    "# Working with missing values"
   ]
  },
  {
   "cell_type": "code",
   "execution_count": 33,
   "metadata": {},
   "outputs": [],
   "source": [
    "# Find the dictionaries\n",
    "education = {\n",
    "    0 == 'bachelor\\'s degree',\n",
    "    1 == 'secondary education',\n",
    "    2 == 'some college',\n",
    "    3 =='primary education',\n",
    "    4 == 'graduate degree'\n",
    "}\n",
    "\n",
    "family_status = {\n",
    "    0 == 'married',\n",
    "    1 == 'civil partnership',\n",
    "    2 == 'widow / widower',\n",
    "    3 == 'divorced',\n",
    "    4 =='unmarried'\n",
    "}"
   ]
  },
  {
   "cell_type": "markdown",
   "metadata": {},
   "source": [
    "### Restoring missing values in `total_income`"
   ]
  },
  {
   "cell_type": "markdown",
   "metadata": {},
   "source": [
    "The 'days_employed' and 'total_income' columns have missing data. In order to account for outlier data and achieve maximum accuracy, these values will be replaced with the median values of their respective columns according to the income type. "
   ]
  },
  {
   "cell_type": "code",
   "execution_count": 34,
   "metadata": {},
   "outputs": [],
   "source": [
    "# Let's write a function that calculates the age category\n",
    "def age_category(row):\n",
    "    age = row['dob_years']\n",
    "    \n",
    "    if 18 <= age <= 19:\n",
    "        return 'Teen'\n",
    "    if 20 < age <= 29:\n",
    "        return '20\\'s'\n",
    "    if 30 < age <= 39:\n",
    "        return '30\\'s'\n",
    "    if 40 < age <= 49:\n",
    "        return '40\\'s'\n",
    "    if 50 < age <= 59:\n",
    "        return '50\\'s'\n",
    "    if 60 < age <= 69:\n",
    "        return '60\\'s'\n",
    "    return '70\\'s'\n"
   ]
  },
  {
   "cell_type": "code",
   "execution_count": 35,
   "metadata": {},
   "outputs": [
    {
     "data": {
      "text/plain": [
       "\"30's\""
      ]
     },
     "execution_count": 35,
     "metadata": {},
     "output_type": "execute_result"
    }
   ],
   "source": [
    "# Test if the function works\n",
    "row_value = [33]\n",
    "row_column = ['dob_years']\n",
    "row = pd.Series(data=row_value, index=row_column)\n",
    "age_category(row)"
   ]
  },
  {
   "cell_type": "code",
   "execution_count": 36,
   "metadata": {},
   "outputs": [
    {
     "data": {
      "text/plain": [
       "\"70's\""
      ]
     },
     "execution_count": 36,
     "metadata": {},
     "output_type": "execute_result"
    }
   ],
   "source": [
    "row_value = [70]\n",
    "row_column = ['dob_years']\n",
    "row = pd.Series(data=row_value, index=row_column)\n",
    "age_category(row)"
   ]
  },
  {
   "cell_type": "code",
   "execution_count": 37,
   "metadata": {},
   "outputs": [],
   "source": [
    "# Creating new column based on function\n",
    "credit_scoring['age_categories'] = credit_scoring.apply(age_category, axis = 1)\n"
   ]
  },
  {
   "cell_type": "code",
   "execution_count": 38,
   "metadata": {},
   "outputs": [
    {
     "data": {
      "text/plain": [
       "30's    5125\n",
       "40's    4848\n",
       "50's    4144\n",
       "20's    3114\n",
       "70's    2251\n",
       "60's    1957\n",
       "Teen      14\n",
       "Name: age_categories, dtype: int64"
      ]
     },
     "execution_count": 38,
     "metadata": {},
     "output_type": "execute_result"
    }
   ],
   "source": [
    "# Checking how values in the new column\n",
    "credit_scoring['age_categories'].value_counts()\n"
   ]
  },
  {
   "cell_type": "code",
   "execution_count": 39,
   "metadata": {
    "scrolled": true
   },
   "outputs": [
    {
     "data": {
      "text/html": [
       "<div>\n",
       "<style scoped>\n",
       "    .dataframe tbody tr th:only-of-type {\n",
       "        vertical-align: middle;\n",
       "    }\n",
       "\n",
       "    .dataframe tbody tr th {\n",
       "        vertical-align: top;\n",
       "    }\n",
       "\n",
       "    .dataframe thead th {\n",
       "        text-align: right;\n",
       "    }\n",
       "</style>\n",
       "<table border=\"1\" class=\"dataframe\">\n",
       "  <thead>\n",
       "    <tr style=\"text-align: right;\">\n",
       "      <th></th>\n",
       "      <th>children</th>\n",
       "      <th>days_employed</th>\n",
       "      <th>dob_years</th>\n",
       "      <th>education</th>\n",
       "      <th>education_id</th>\n",
       "      <th>family_status</th>\n",
       "      <th>family_status_id</th>\n",
       "      <th>gender</th>\n",
       "      <th>income_type</th>\n",
       "      <th>debt</th>\n",
       "      <th>total_income</th>\n",
       "      <th>purpose</th>\n",
       "      <th>income_categories</th>\n",
       "      <th>age_categories</th>\n",
       "    </tr>\n",
       "  </thead>\n",
       "  <tbody>\n",
       "    <tr>\n",
       "      <td>0</td>\n",
       "      <td>1</td>\n",
       "      <td>8437.673028</td>\n",
       "      <td>42</td>\n",
       "      <td>bachelor's degree</td>\n",
       "      <td>0</td>\n",
       "      <td>married</td>\n",
       "      <td>0</td>\n",
       "      <td>F</td>\n",
       "      <td>employee</td>\n",
       "      <td>0</td>\n",
       "      <td>40620.102</td>\n",
       "      <td>purchase of the house</td>\n",
       "      <td>40-45k</td>\n",
       "      <td>40's</td>\n",
       "    </tr>\n",
       "    <tr>\n",
       "      <td>1</td>\n",
       "      <td>1</td>\n",
       "      <td>4024.803754</td>\n",
       "      <td>36</td>\n",
       "      <td>secondary education</td>\n",
       "      <td>1</td>\n",
       "      <td>married</td>\n",
       "      <td>0</td>\n",
       "      <td>F</td>\n",
       "      <td>employee</td>\n",
       "      <td>0</td>\n",
       "      <td>17932.802</td>\n",
       "      <td>car purchase</td>\n",
       "      <td>15-20k</td>\n",
       "      <td>30's</td>\n",
       "    </tr>\n",
       "    <tr>\n",
       "      <td>2</td>\n",
       "      <td>0</td>\n",
       "      <td>5623.422610</td>\n",
       "      <td>33</td>\n",
       "      <td>secondary education</td>\n",
       "      <td>1</td>\n",
       "      <td>married</td>\n",
       "      <td>0</td>\n",
       "      <td>M</td>\n",
       "      <td>employee</td>\n",
       "      <td>0</td>\n",
       "      <td>23341.752</td>\n",
       "      <td>purchase of the house</td>\n",
       "      <td>20-25k</td>\n",
       "      <td>30's</td>\n",
       "    </tr>\n",
       "    <tr>\n",
       "      <td>3</td>\n",
       "      <td>3</td>\n",
       "      <td>4124.747207</td>\n",
       "      <td>32</td>\n",
       "      <td>secondary education</td>\n",
       "      <td>1</td>\n",
       "      <td>married</td>\n",
       "      <td>0</td>\n",
       "      <td>M</td>\n",
       "      <td>employee</td>\n",
       "      <td>0</td>\n",
       "      <td>42820.568</td>\n",
       "      <td>supplementary education</td>\n",
       "      <td>40-45k</td>\n",
       "      <td>30's</td>\n",
       "    </tr>\n",
       "    <tr>\n",
       "      <td>4</td>\n",
       "      <td>0</td>\n",
       "      <td>340266.072047</td>\n",
       "      <td>53</td>\n",
       "      <td>secondary education</td>\n",
       "      <td>1</td>\n",
       "      <td>civil partnership</td>\n",
       "      <td>1</td>\n",
       "      <td>F</td>\n",
       "      <td>retiree</td>\n",
       "      <td>0</td>\n",
       "      <td>25378.572</td>\n",
       "      <td>to have a wedding</td>\n",
       "      <td>25-30k</td>\n",
       "      <td>50's</td>\n",
       "    </tr>\n",
       "    <tr>\n",
       "      <td>5</td>\n",
       "      <td>0</td>\n",
       "      <td>926.185831</td>\n",
       "      <td>27</td>\n",
       "      <td>bachelor's degree</td>\n",
       "      <td>0</td>\n",
       "      <td>civil partnership</td>\n",
       "      <td>1</td>\n",
       "      <td>M</td>\n",
       "      <td>business</td>\n",
       "      <td>0</td>\n",
       "      <td>40922.170</td>\n",
       "      <td>purchase of the house</td>\n",
       "      <td>40-45k</td>\n",
       "      <td>20's</td>\n",
       "    </tr>\n",
       "    <tr>\n",
       "      <td>6</td>\n",
       "      <td>0</td>\n",
       "      <td>2879.202052</td>\n",
       "      <td>43</td>\n",
       "      <td>bachelor's degree</td>\n",
       "      <td>0</td>\n",
       "      <td>married</td>\n",
       "      <td>0</td>\n",
       "      <td>F</td>\n",
       "      <td>business</td>\n",
       "      <td>0</td>\n",
       "      <td>38484.156</td>\n",
       "      <td>housing transactions</td>\n",
       "      <td>35-40k</td>\n",
       "      <td>40's</td>\n",
       "    </tr>\n",
       "    <tr>\n",
       "      <td>7</td>\n",
       "      <td>0</td>\n",
       "      <td>152.779569</td>\n",
       "      <td>50</td>\n",
       "      <td>secondary education</td>\n",
       "      <td>1</td>\n",
       "      <td>married</td>\n",
       "      <td>0</td>\n",
       "      <td>M</td>\n",
       "      <td>employee</td>\n",
       "      <td>0</td>\n",
       "      <td>21731.829</td>\n",
       "      <td>education</td>\n",
       "      <td>20-25k</td>\n",
       "      <td>70's</td>\n",
       "    </tr>\n",
       "    <tr>\n",
       "      <td>8</td>\n",
       "      <td>2</td>\n",
       "      <td>6929.865299</td>\n",
       "      <td>35</td>\n",
       "      <td>bachelor's degree</td>\n",
       "      <td>0</td>\n",
       "      <td>civil partnership</td>\n",
       "      <td>1</td>\n",
       "      <td>F</td>\n",
       "      <td>employee</td>\n",
       "      <td>0</td>\n",
       "      <td>15337.093</td>\n",
       "      <td>having a wedding</td>\n",
       "      <td>15-20k</td>\n",
       "      <td>30's</td>\n",
       "    </tr>\n",
       "    <tr>\n",
       "      <td>9</td>\n",
       "      <td>0</td>\n",
       "      <td>2188.756445</td>\n",
       "      <td>41</td>\n",
       "      <td>secondary education</td>\n",
       "      <td>1</td>\n",
       "      <td>married</td>\n",
       "      <td>0</td>\n",
       "      <td>M</td>\n",
       "      <td>employee</td>\n",
       "      <td>0</td>\n",
       "      <td>23108.150</td>\n",
       "      <td>purchase of the house for my family</td>\n",
       "      <td>20-25k</td>\n",
       "      <td>40's</td>\n",
       "    </tr>\n",
       "    <tr>\n",
       "      <td>10</td>\n",
       "      <td>2</td>\n",
       "      <td>4171.483647</td>\n",
       "      <td>36</td>\n",
       "      <td>bachelor's degree</td>\n",
       "      <td>0</td>\n",
       "      <td>married</td>\n",
       "      <td>0</td>\n",
       "      <td>M</td>\n",
       "      <td>business</td>\n",
       "      <td>0</td>\n",
       "      <td>18230.959</td>\n",
       "      <td>buy real estate</td>\n",
       "      <td>15-20k</td>\n",
       "      <td>30's</td>\n",
       "    </tr>\n",
       "    <tr>\n",
       "      <td>11</td>\n",
       "      <td>0</td>\n",
       "      <td>792.701887</td>\n",
       "      <td>40</td>\n",
       "      <td>secondary education</td>\n",
       "      <td>1</td>\n",
       "      <td>married</td>\n",
       "      <td>0</td>\n",
       "      <td>F</td>\n",
       "      <td>employee</td>\n",
       "      <td>0</td>\n",
       "      <td>12331.077</td>\n",
       "      <td>buy commercial real estate</td>\n",
       "      <td>10-15k</td>\n",
       "      <td>70's</td>\n",
       "    </tr>\n",
       "    <tr>\n",
       "      <td>12</td>\n",
       "      <td>0</td>\n",
       "      <td>NaN</td>\n",
       "      <td>65</td>\n",
       "      <td>secondary education</td>\n",
       "      <td>1</td>\n",
       "      <td>civil partnership</td>\n",
       "      <td>1</td>\n",
       "      <td>M</td>\n",
       "      <td>retiree</td>\n",
       "      <td>0</td>\n",
       "      <td>NaN</td>\n",
       "      <td>to have a wedding</td>\n",
       "      <td>Over 60k</td>\n",
       "      <td>60's</td>\n",
       "    </tr>\n",
       "    <tr>\n",
       "      <td>13</td>\n",
       "      <td>0</td>\n",
       "      <td>1846.641941</td>\n",
       "      <td>54</td>\n",
       "      <td>some college</td>\n",
       "      <td>2</td>\n",
       "      <td>married</td>\n",
       "      <td>0</td>\n",
       "      <td>F</td>\n",
       "      <td>employee</td>\n",
       "      <td>0</td>\n",
       "      <td>20873.317</td>\n",
       "      <td>car purchase</td>\n",
       "      <td>20-25k</td>\n",
       "      <td>50's</td>\n",
       "    </tr>\n",
       "    <tr>\n",
       "      <td>14</td>\n",
       "      <td>0</td>\n",
       "      <td>1844.956182</td>\n",
       "      <td>56</td>\n",
       "      <td>bachelor's degree</td>\n",
       "      <td>0</td>\n",
       "      <td>civil partnership</td>\n",
       "      <td>1</td>\n",
       "      <td>F</td>\n",
       "      <td>business</td>\n",
       "      <td>1</td>\n",
       "      <td>26420.466</td>\n",
       "      <td>buy residential real estate</td>\n",
       "      <td>25-30k</td>\n",
       "      <td>50's</td>\n",
       "    </tr>\n",
       "    <tr>\n",
       "      <td>15</td>\n",
       "      <td>1</td>\n",
       "      <td>972.364419</td>\n",
       "      <td>26</td>\n",
       "      <td>secondary education</td>\n",
       "      <td>1</td>\n",
       "      <td>married</td>\n",
       "      <td>0</td>\n",
       "      <td>F</td>\n",
       "      <td>employee</td>\n",
       "      <td>0</td>\n",
       "      <td>18691.345</td>\n",
       "      <td>construction of own property</td>\n",
       "      <td>15-20k</td>\n",
       "      <td>20's</td>\n",
       "    </tr>\n",
       "    <tr>\n",
       "      <td>16</td>\n",
       "      <td>0</td>\n",
       "      <td>1719.934226</td>\n",
       "      <td>35</td>\n",
       "      <td>secondary education</td>\n",
       "      <td>1</td>\n",
       "      <td>married</td>\n",
       "      <td>0</td>\n",
       "      <td>F</td>\n",
       "      <td>employee</td>\n",
       "      <td>0</td>\n",
       "      <td>46272.433</td>\n",
       "      <td>property</td>\n",
       "      <td>45-50k</td>\n",
       "      <td>30's</td>\n",
       "    </tr>\n",
       "    <tr>\n",
       "      <td>17</td>\n",
       "      <td>0</td>\n",
       "      <td>2369.999720</td>\n",
       "      <td>33</td>\n",
       "      <td>bachelor's degree</td>\n",
       "      <td>0</td>\n",
       "      <td>civil partnership</td>\n",
       "      <td>1</td>\n",
       "      <td>M</td>\n",
       "      <td>employee</td>\n",
       "      <td>0</td>\n",
       "      <td>14465.694</td>\n",
       "      <td>building a property</td>\n",
       "      <td>10-15k</td>\n",
       "      <td>30's</td>\n",
       "    </tr>\n",
       "    <tr>\n",
       "      <td>18</td>\n",
       "      <td>0</td>\n",
       "      <td>400281.136913</td>\n",
       "      <td>53</td>\n",
       "      <td>secondary education</td>\n",
       "      <td>1</td>\n",
       "      <td>widow / widower</td>\n",
       "      <td>2</td>\n",
       "      <td>F</td>\n",
       "      <td>retiree</td>\n",
       "      <td>0</td>\n",
       "      <td>9091.804</td>\n",
       "      <td>buying a second-hand car</td>\n",
       "      <td>5-10k</td>\n",
       "      <td>50's</td>\n",
       "    </tr>\n",
       "    <tr>\n",
       "      <td>19</td>\n",
       "      <td>0</td>\n",
       "      <td>10038.818549</td>\n",
       "      <td>48</td>\n",
       "      <td>secondary education</td>\n",
       "      <td>1</td>\n",
       "      <td>divorced</td>\n",
       "      <td>3</td>\n",
       "      <td>F</td>\n",
       "      <td>employee</td>\n",
       "      <td>0</td>\n",
       "      <td>38852.977</td>\n",
       "      <td>buying my own car</td>\n",
       "      <td>35-40k</td>\n",
       "      <td>40's</td>\n",
       "    </tr>\n",
       "    <tr>\n",
       "      <td>20</td>\n",
       "      <td>1</td>\n",
       "      <td>1311.604166</td>\n",
       "      <td>36</td>\n",
       "      <td>secondary education</td>\n",
       "      <td>1</td>\n",
       "      <td>married</td>\n",
       "      <td>0</td>\n",
       "      <td>M</td>\n",
       "      <td>employee</td>\n",
       "      <td>0</td>\n",
       "      <td>33528.423</td>\n",
       "      <td>property</td>\n",
       "      <td>30-35k</td>\n",
       "      <td>30's</td>\n",
       "    </tr>\n",
       "    <tr>\n",
       "      <td>21</td>\n",
       "      <td>1</td>\n",
       "      <td>253.685166</td>\n",
       "      <td>33</td>\n",
       "      <td>secondary education</td>\n",
       "      <td>1</td>\n",
       "      <td>civil partnership</td>\n",
       "      <td>1</td>\n",
       "      <td>F</td>\n",
       "      <td>employee</td>\n",
       "      <td>0</td>\n",
       "      <td>21089.953</td>\n",
       "      <td>car purchase</td>\n",
       "      <td>20-25k</td>\n",
       "      <td>30's</td>\n",
       "    </tr>\n",
       "    <tr>\n",
       "      <td>22</td>\n",
       "      <td>1</td>\n",
       "      <td>1766.644138</td>\n",
       "      <td>24</td>\n",
       "      <td>secondary education</td>\n",
       "      <td>1</td>\n",
       "      <td>civil partnership</td>\n",
       "      <td>1</td>\n",
       "      <td>F</td>\n",
       "      <td>employee</td>\n",
       "      <td>0</td>\n",
       "      <td>23948.983</td>\n",
       "      <td>buying a second-hand car</td>\n",
       "      <td>20-25k</td>\n",
       "      <td>20's</td>\n",
       "    </tr>\n",
       "    <tr>\n",
       "      <td>23</td>\n",
       "      <td>0</td>\n",
       "      <td>272.981385</td>\n",
       "      <td>21</td>\n",
       "      <td>bachelor's degree</td>\n",
       "      <td>0</td>\n",
       "      <td>civil partnership</td>\n",
       "      <td>1</td>\n",
       "      <td>M</td>\n",
       "      <td>employee</td>\n",
       "      <td>0</td>\n",
       "      <td>20522.515</td>\n",
       "      <td>to have a wedding</td>\n",
       "      <td>20-25k</td>\n",
       "      <td>20's</td>\n",
       "    </tr>\n",
       "    <tr>\n",
       "      <td>24</td>\n",
       "      <td>1</td>\n",
       "      <td>338551.952911</td>\n",
       "      <td>57</td>\n",
       "      <td>secondary education</td>\n",
       "      <td>1</td>\n",
       "      <td>unmarried</td>\n",
       "      <td>4</td>\n",
       "      <td>F</td>\n",
       "      <td>retiree</td>\n",
       "      <td>0</td>\n",
       "      <td>46487.558</td>\n",
       "      <td>transactions with commercial real estate</td>\n",
       "      <td>45-50k</td>\n",
       "      <td>50's</td>\n",
       "    </tr>\n",
       "    <tr>\n",
       "      <td>25</td>\n",
       "      <td>0</td>\n",
       "      <td>363548.489348</td>\n",
       "      <td>67</td>\n",
       "      <td>secondary education</td>\n",
       "      <td>1</td>\n",
       "      <td>married</td>\n",
       "      <td>0</td>\n",
       "      <td>M</td>\n",
       "      <td>retiree</td>\n",
       "      <td>0</td>\n",
       "      <td>8818.041</td>\n",
       "      <td>buy real estate</td>\n",
       "      <td>5-10k</td>\n",
       "      <td>60's</td>\n",
       "    </tr>\n",
       "    <tr>\n",
       "      <td>26</td>\n",
       "      <td>0</td>\n",
       "      <td>NaN</td>\n",
       "      <td>41</td>\n",
       "      <td>secondary education</td>\n",
       "      <td>1</td>\n",
       "      <td>married</td>\n",
       "      <td>0</td>\n",
       "      <td>M</td>\n",
       "      <td>civil servant</td>\n",
       "      <td>0</td>\n",
       "      <td>NaN</td>\n",
       "      <td>education</td>\n",
       "      <td>Over 60k</td>\n",
       "      <td>40's</td>\n",
       "    </tr>\n",
       "    <tr>\n",
       "      <td>27</td>\n",
       "      <td>0</td>\n",
       "      <td>529.191635</td>\n",
       "      <td>28</td>\n",
       "      <td>bachelor's degree</td>\n",
       "      <td>0</td>\n",
       "      <td>married</td>\n",
       "      <td>0</td>\n",
       "      <td>M</td>\n",
       "      <td>employee</td>\n",
       "      <td>0</td>\n",
       "      <td>49415.837</td>\n",
       "      <td>construction of own property</td>\n",
       "      <td>45-50k</td>\n",
       "      <td>20's</td>\n",
       "    </tr>\n",
       "    <tr>\n",
       "      <td>28</td>\n",
       "      <td>1</td>\n",
       "      <td>717.274324</td>\n",
       "      <td>26</td>\n",
       "      <td>bachelor's degree</td>\n",
       "      <td>0</td>\n",
       "      <td>married</td>\n",
       "      <td>0</td>\n",
       "      <td>F</td>\n",
       "      <td>employee</td>\n",
       "      <td>0</td>\n",
       "      <td>30058.118</td>\n",
       "      <td>construction of own property</td>\n",
       "      <td>30-35k</td>\n",
       "      <td>20's</td>\n",
       "    </tr>\n",
       "    <tr>\n",
       "      <td>29</td>\n",
       "      <td>0</td>\n",
       "      <td>NaN</td>\n",
       "      <td>63</td>\n",
       "      <td>secondary education</td>\n",
       "      <td>1</td>\n",
       "      <td>unmarried</td>\n",
       "      <td>4</td>\n",
       "      <td>F</td>\n",
       "      <td>retiree</td>\n",
       "      <td>0</td>\n",
       "      <td>NaN</td>\n",
       "      <td>building a real estate</td>\n",
       "      <td>Over 60k</td>\n",
       "      <td>60's</td>\n",
       "    </tr>\n",
       "  </tbody>\n",
       "</table>\n",
       "</div>"
      ],
      "text/plain": [
       "    children  days_employed  dob_years            education  education_id  \\\n",
       "0          1    8437.673028         42    bachelor's degree             0   \n",
       "1          1    4024.803754         36  secondary education             1   \n",
       "2          0    5623.422610         33  secondary education             1   \n",
       "3          3    4124.747207         32  secondary education             1   \n",
       "4          0  340266.072047         53  secondary education             1   \n",
       "5          0     926.185831         27    bachelor's degree             0   \n",
       "6          0    2879.202052         43    bachelor's degree             0   \n",
       "7          0     152.779569         50  secondary education             1   \n",
       "8          2    6929.865299         35    bachelor's degree             0   \n",
       "9          0    2188.756445         41  secondary education             1   \n",
       "10         2    4171.483647         36    bachelor's degree             0   \n",
       "11         0     792.701887         40  secondary education             1   \n",
       "12         0            NaN         65  secondary education             1   \n",
       "13         0    1846.641941         54         some college             2   \n",
       "14         0    1844.956182         56    bachelor's degree             0   \n",
       "15         1     972.364419         26  secondary education             1   \n",
       "16         0    1719.934226         35  secondary education             1   \n",
       "17         0    2369.999720         33    bachelor's degree             0   \n",
       "18         0  400281.136913         53  secondary education             1   \n",
       "19         0   10038.818549         48  secondary education             1   \n",
       "20         1    1311.604166         36  secondary education             1   \n",
       "21         1     253.685166         33  secondary education             1   \n",
       "22         1    1766.644138         24  secondary education             1   \n",
       "23         0     272.981385         21    bachelor's degree             0   \n",
       "24         1  338551.952911         57  secondary education             1   \n",
       "25         0  363548.489348         67  secondary education             1   \n",
       "26         0            NaN         41  secondary education             1   \n",
       "27         0     529.191635         28    bachelor's degree             0   \n",
       "28         1     717.274324         26    bachelor's degree             0   \n",
       "29         0            NaN         63  secondary education             1   \n",
       "\n",
       "        family_status  family_status_id gender    income_type  debt  \\\n",
       "0             married                 0      F       employee     0   \n",
       "1             married                 0      F       employee     0   \n",
       "2             married                 0      M       employee     0   \n",
       "3             married                 0      M       employee     0   \n",
       "4   civil partnership                 1      F        retiree     0   \n",
       "5   civil partnership                 1      M       business     0   \n",
       "6             married                 0      F       business     0   \n",
       "7             married                 0      M       employee     0   \n",
       "8   civil partnership                 1      F       employee     0   \n",
       "9             married                 0      M       employee     0   \n",
       "10            married                 0      M       business     0   \n",
       "11            married                 0      F       employee     0   \n",
       "12  civil partnership                 1      M        retiree     0   \n",
       "13            married                 0      F       employee     0   \n",
       "14  civil partnership                 1      F       business     1   \n",
       "15            married                 0      F       employee     0   \n",
       "16            married                 0      F       employee     0   \n",
       "17  civil partnership                 1      M       employee     0   \n",
       "18    widow / widower                 2      F        retiree     0   \n",
       "19           divorced                 3      F       employee     0   \n",
       "20            married                 0      M       employee     0   \n",
       "21  civil partnership                 1      F       employee     0   \n",
       "22  civil partnership                 1      F       employee     0   \n",
       "23  civil partnership                 1      M       employee     0   \n",
       "24          unmarried                 4      F        retiree     0   \n",
       "25            married                 0      M        retiree     0   \n",
       "26            married                 0      M  civil servant     0   \n",
       "27            married                 0      M       employee     0   \n",
       "28            married                 0      F       employee     0   \n",
       "29          unmarried                 4      F        retiree     0   \n",
       "\n",
       "    total_income                                   purpose income_categories  \\\n",
       "0      40620.102                     purchase of the house            40-45k   \n",
       "1      17932.802                              car purchase            15-20k   \n",
       "2      23341.752                     purchase of the house            20-25k   \n",
       "3      42820.568                   supplementary education            40-45k   \n",
       "4      25378.572                         to have a wedding            25-30k   \n",
       "5      40922.170                     purchase of the house            40-45k   \n",
       "6      38484.156                      housing transactions            35-40k   \n",
       "7      21731.829                                 education            20-25k   \n",
       "8      15337.093                          having a wedding            15-20k   \n",
       "9      23108.150       purchase of the house for my family            20-25k   \n",
       "10     18230.959                           buy real estate            15-20k   \n",
       "11     12331.077                buy commercial real estate            10-15k   \n",
       "12           NaN                         to have a wedding          Over 60k   \n",
       "13     20873.317                              car purchase            20-25k   \n",
       "14     26420.466               buy residential real estate            25-30k   \n",
       "15     18691.345              construction of own property            15-20k   \n",
       "16     46272.433                                  property            45-50k   \n",
       "17     14465.694                       building a property            10-15k   \n",
       "18      9091.804                  buying a second-hand car             5-10k   \n",
       "19     38852.977                         buying my own car            35-40k   \n",
       "20     33528.423                                  property            30-35k   \n",
       "21     21089.953                              car purchase            20-25k   \n",
       "22     23948.983                  buying a second-hand car            20-25k   \n",
       "23     20522.515                         to have a wedding            20-25k   \n",
       "24     46487.558  transactions with commercial real estate            45-50k   \n",
       "25      8818.041                           buy real estate             5-10k   \n",
       "26           NaN                                 education          Over 60k   \n",
       "27     49415.837              construction of own property            45-50k   \n",
       "28     30058.118              construction of own property            30-35k   \n",
       "29           NaN                    building a real estate          Over 60k   \n",
       "\n",
       "   age_categories  \n",
       "0            40's  \n",
       "1            30's  \n",
       "2            30's  \n",
       "3            30's  \n",
       "4            50's  \n",
       "5            20's  \n",
       "6            40's  \n",
       "7            70's  \n",
       "8            30's  \n",
       "9            40's  \n",
       "10           30's  \n",
       "11           70's  \n",
       "12           60's  \n",
       "13           50's  \n",
       "14           50's  \n",
       "15           20's  \n",
       "16           30's  \n",
       "17           30's  \n",
       "18           50's  \n",
       "19           40's  \n",
       "20           30's  \n",
       "21           30's  \n",
       "22           20's  \n",
       "23           20's  \n",
       "24           50's  \n",
       "25           60's  \n",
       "26           40's  \n",
       "27           20's  \n",
       "28           20's  \n",
       "29           60's  "
      ]
     },
     "execution_count": 39,
     "metadata": {},
     "output_type": "execute_result"
    }
   ],
   "source": [
    "credit_scoring.head(30)"
   ]
  },
  {
   "cell_type": "code",
   "execution_count": 40,
   "metadata": {},
   "outputs": [
    {
     "data": {
      "text/html": [
       "<div>\n",
       "<style scoped>\n",
       "    .dataframe tbody tr th:only-of-type {\n",
       "        vertical-align: middle;\n",
       "    }\n",
       "\n",
       "    .dataframe tbody tr th {\n",
       "        vertical-align: top;\n",
       "    }\n",
       "\n",
       "    .dataframe thead th {\n",
       "        text-align: right;\n",
       "    }\n",
       "</style>\n",
       "<table border=\"1\" class=\"dataframe\">\n",
       "  <thead>\n",
       "    <tr style=\"text-align: right;\">\n",
       "      <th></th>\n",
       "      <th>index</th>\n",
       "      <th>children</th>\n",
       "      <th>days_employed</th>\n",
       "      <th>dob_years</th>\n",
       "      <th>education</th>\n",
       "      <th>education_id</th>\n",
       "      <th>family_status</th>\n",
       "      <th>family_status_id</th>\n",
       "      <th>gender</th>\n",
       "      <th>income_type</th>\n",
       "      <th>debt</th>\n",
       "      <th>total_income</th>\n",
       "      <th>purpose</th>\n",
       "      <th>income_categories</th>\n",
       "      <th>age_categories</th>\n",
       "    </tr>\n",
       "  </thead>\n",
       "  <tbody>\n",
       "    <tr>\n",
       "      <td>0</td>\n",
       "      <td>0</td>\n",
       "      <td>1</td>\n",
       "      <td>8437.673028</td>\n",
       "      <td>42</td>\n",
       "      <td>bachelor's degree</td>\n",
       "      <td>0</td>\n",
       "      <td>married</td>\n",
       "      <td>0</td>\n",
       "      <td>F</td>\n",
       "      <td>employee</td>\n",
       "      <td>0</td>\n",
       "      <td>40620.102</td>\n",
       "      <td>purchase of the house</td>\n",
       "      <td>40-45k</td>\n",
       "      <td>40's</td>\n",
       "    </tr>\n",
       "    <tr>\n",
       "      <td>1</td>\n",
       "      <td>1</td>\n",
       "      <td>1</td>\n",
       "      <td>4024.803754</td>\n",
       "      <td>36</td>\n",
       "      <td>secondary education</td>\n",
       "      <td>1</td>\n",
       "      <td>married</td>\n",
       "      <td>0</td>\n",
       "      <td>F</td>\n",
       "      <td>employee</td>\n",
       "      <td>0</td>\n",
       "      <td>17932.802</td>\n",
       "      <td>car purchase</td>\n",
       "      <td>15-20k</td>\n",
       "      <td>30's</td>\n",
       "    </tr>\n",
       "    <tr>\n",
       "      <td>2</td>\n",
       "      <td>2</td>\n",
       "      <td>0</td>\n",
       "      <td>5623.422610</td>\n",
       "      <td>33</td>\n",
       "      <td>secondary education</td>\n",
       "      <td>1</td>\n",
       "      <td>married</td>\n",
       "      <td>0</td>\n",
       "      <td>M</td>\n",
       "      <td>employee</td>\n",
       "      <td>0</td>\n",
       "      <td>23341.752</td>\n",
       "      <td>purchase of the house</td>\n",
       "      <td>20-25k</td>\n",
       "      <td>30's</td>\n",
       "    </tr>\n",
       "    <tr>\n",
       "      <td>3</td>\n",
       "      <td>3</td>\n",
       "      <td>3</td>\n",
       "      <td>4124.747207</td>\n",
       "      <td>32</td>\n",
       "      <td>secondary education</td>\n",
       "      <td>1</td>\n",
       "      <td>married</td>\n",
       "      <td>0</td>\n",
       "      <td>M</td>\n",
       "      <td>employee</td>\n",
       "      <td>0</td>\n",
       "      <td>42820.568</td>\n",
       "      <td>supplementary education</td>\n",
       "      <td>40-45k</td>\n",
       "      <td>30's</td>\n",
       "    </tr>\n",
       "    <tr>\n",
       "      <td>4</td>\n",
       "      <td>4</td>\n",
       "      <td>0</td>\n",
       "      <td>340266.072047</td>\n",
       "      <td>53</td>\n",
       "      <td>secondary education</td>\n",
       "      <td>1</td>\n",
       "      <td>civil partnership</td>\n",
       "      <td>1</td>\n",
       "      <td>F</td>\n",
       "      <td>retiree</td>\n",
       "      <td>0</td>\n",
       "      <td>25378.572</td>\n",
       "      <td>to have a wedding</td>\n",
       "      <td>25-30k</td>\n",
       "      <td>50's</td>\n",
       "    </tr>\n",
       "    <tr>\n",
       "      <td>5</td>\n",
       "      <td>5</td>\n",
       "      <td>0</td>\n",
       "      <td>926.185831</td>\n",
       "      <td>27</td>\n",
       "      <td>bachelor's degree</td>\n",
       "      <td>0</td>\n",
       "      <td>civil partnership</td>\n",
       "      <td>1</td>\n",
       "      <td>M</td>\n",
       "      <td>business</td>\n",
       "      <td>0</td>\n",
       "      <td>40922.170</td>\n",
       "      <td>purchase of the house</td>\n",
       "      <td>40-45k</td>\n",
       "      <td>20's</td>\n",
       "    </tr>\n",
       "    <tr>\n",
       "      <td>6</td>\n",
       "      <td>6</td>\n",
       "      <td>0</td>\n",
       "      <td>2879.202052</td>\n",
       "      <td>43</td>\n",
       "      <td>bachelor's degree</td>\n",
       "      <td>0</td>\n",
       "      <td>married</td>\n",
       "      <td>0</td>\n",
       "      <td>F</td>\n",
       "      <td>business</td>\n",
       "      <td>0</td>\n",
       "      <td>38484.156</td>\n",
       "      <td>housing transactions</td>\n",
       "      <td>35-40k</td>\n",
       "      <td>40's</td>\n",
       "    </tr>\n",
       "    <tr>\n",
       "      <td>7</td>\n",
       "      <td>7</td>\n",
       "      <td>0</td>\n",
       "      <td>152.779569</td>\n",
       "      <td>50</td>\n",
       "      <td>secondary education</td>\n",
       "      <td>1</td>\n",
       "      <td>married</td>\n",
       "      <td>0</td>\n",
       "      <td>M</td>\n",
       "      <td>employee</td>\n",
       "      <td>0</td>\n",
       "      <td>21731.829</td>\n",
       "      <td>education</td>\n",
       "      <td>20-25k</td>\n",
       "      <td>70's</td>\n",
       "    </tr>\n",
       "    <tr>\n",
       "      <td>8</td>\n",
       "      <td>8</td>\n",
       "      <td>2</td>\n",
       "      <td>6929.865299</td>\n",
       "      <td>35</td>\n",
       "      <td>bachelor's degree</td>\n",
       "      <td>0</td>\n",
       "      <td>civil partnership</td>\n",
       "      <td>1</td>\n",
       "      <td>F</td>\n",
       "      <td>employee</td>\n",
       "      <td>0</td>\n",
       "      <td>15337.093</td>\n",
       "      <td>having a wedding</td>\n",
       "      <td>15-20k</td>\n",
       "      <td>30's</td>\n",
       "    </tr>\n",
       "    <tr>\n",
       "      <td>9</td>\n",
       "      <td>9</td>\n",
       "      <td>0</td>\n",
       "      <td>2188.756445</td>\n",
       "      <td>41</td>\n",
       "      <td>secondary education</td>\n",
       "      <td>1</td>\n",
       "      <td>married</td>\n",
       "      <td>0</td>\n",
       "      <td>M</td>\n",
       "      <td>employee</td>\n",
       "      <td>0</td>\n",
       "      <td>23108.150</td>\n",
       "      <td>purchase of the house for my family</td>\n",
       "      <td>20-25k</td>\n",
       "      <td>40's</td>\n",
       "    </tr>\n",
       "    <tr>\n",
       "      <td>10</td>\n",
       "      <td>10</td>\n",
       "      <td>2</td>\n",
       "      <td>4171.483647</td>\n",
       "      <td>36</td>\n",
       "      <td>bachelor's degree</td>\n",
       "      <td>0</td>\n",
       "      <td>married</td>\n",
       "      <td>0</td>\n",
       "      <td>M</td>\n",
       "      <td>business</td>\n",
       "      <td>0</td>\n",
       "      <td>18230.959</td>\n",
       "      <td>buy real estate</td>\n",
       "      <td>15-20k</td>\n",
       "      <td>30's</td>\n",
       "    </tr>\n",
       "    <tr>\n",
       "      <td>11</td>\n",
       "      <td>11</td>\n",
       "      <td>0</td>\n",
       "      <td>792.701887</td>\n",
       "      <td>40</td>\n",
       "      <td>secondary education</td>\n",
       "      <td>1</td>\n",
       "      <td>married</td>\n",
       "      <td>0</td>\n",
       "      <td>F</td>\n",
       "      <td>employee</td>\n",
       "      <td>0</td>\n",
       "      <td>12331.077</td>\n",
       "      <td>buy commercial real estate</td>\n",
       "      <td>10-15k</td>\n",
       "      <td>70's</td>\n",
       "    </tr>\n",
       "    <tr>\n",
       "      <td>12</td>\n",
       "      <td>13</td>\n",
       "      <td>0</td>\n",
       "      <td>1846.641941</td>\n",
       "      <td>54</td>\n",
       "      <td>some college</td>\n",
       "      <td>2</td>\n",
       "      <td>married</td>\n",
       "      <td>0</td>\n",
       "      <td>F</td>\n",
       "      <td>employee</td>\n",
       "      <td>0</td>\n",
       "      <td>20873.317</td>\n",
       "      <td>car purchase</td>\n",
       "      <td>20-25k</td>\n",
       "      <td>50's</td>\n",
       "    </tr>\n",
       "    <tr>\n",
       "      <td>13</td>\n",
       "      <td>14</td>\n",
       "      <td>0</td>\n",
       "      <td>1844.956182</td>\n",
       "      <td>56</td>\n",
       "      <td>bachelor's degree</td>\n",
       "      <td>0</td>\n",
       "      <td>civil partnership</td>\n",
       "      <td>1</td>\n",
       "      <td>F</td>\n",
       "      <td>business</td>\n",
       "      <td>1</td>\n",
       "      <td>26420.466</td>\n",
       "      <td>buy residential real estate</td>\n",
       "      <td>25-30k</td>\n",
       "      <td>50's</td>\n",
       "    </tr>\n",
       "    <tr>\n",
       "      <td>14</td>\n",
       "      <td>15</td>\n",
       "      <td>1</td>\n",
       "      <td>972.364419</td>\n",
       "      <td>26</td>\n",
       "      <td>secondary education</td>\n",
       "      <td>1</td>\n",
       "      <td>married</td>\n",
       "      <td>0</td>\n",
       "      <td>F</td>\n",
       "      <td>employee</td>\n",
       "      <td>0</td>\n",
       "      <td>18691.345</td>\n",
       "      <td>construction of own property</td>\n",
       "      <td>15-20k</td>\n",
       "      <td>20's</td>\n",
       "    </tr>\n",
       "    <tr>\n",
       "      <td>15</td>\n",
       "      <td>16</td>\n",
       "      <td>0</td>\n",
       "      <td>1719.934226</td>\n",
       "      <td>35</td>\n",
       "      <td>secondary education</td>\n",
       "      <td>1</td>\n",
       "      <td>married</td>\n",
       "      <td>0</td>\n",
       "      <td>F</td>\n",
       "      <td>employee</td>\n",
       "      <td>0</td>\n",
       "      <td>46272.433</td>\n",
       "      <td>property</td>\n",
       "      <td>45-50k</td>\n",
       "      <td>30's</td>\n",
       "    </tr>\n",
       "    <tr>\n",
       "      <td>16</td>\n",
       "      <td>17</td>\n",
       "      <td>0</td>\n",
       "      <td>2369.999720</td>\n",
       "      <td>33</td>\n",
       "      <td>bachelor's degree</td>\n",
       "      <td>0</td>\n",
       "      <td>civil partnership</td>\n",
       "      <td>1</td>\n",
       "      <td>M</td>\n",
       "      <td>employee</td>\n",
       "      <td>0</td>\n",
       "      <td>14465.694</td>\n",
       "      <td>building a property</td>\n",
       "      <td>10-15k</td>\n",
       "      <td>30's</td>\n",
       "    </tr>\n",
       "    <tr>\n",
       "      <td>17</td>\n",
       "      <td>18</td>\n",
       "      <td>0</td>\n",
       "      <td>400281.136913</td>\n",
       "      <td>53</td>\n",
       "      <td>secondary education</td>\n",
       "      <td>1</td>\n",
       "      <td>widow / widower</td>\n",
       "      <td>2</td>\n",
       "      <td>F</td>\n",
       "      <td>retiree</td>\n",
       "      <td>0</td>\n",
       "      <td>9091.804</td>\n",
       "      <td>buying a second-hand car</td>\n",
       "      <td>5-10k</td>\n",
       "      <td>50's</td>\n",
       "    </tr>\n",
       "    <tr>\n",
       "      <td>18</td>\n",
       "      <td>19</td>\n",
       "      <td>0</td>\n",
       "      <td>10038.818549</td>\n",
       "      <td>48</td>\n",
       "      <td>secondary education</td>\n",
       "      <td>1</td>\n",
       "      <td>divorced</td>\n",
       "      <td>3</td>\n",
       "      <td>F</td>\n",
       "      <td>employee</td>\n",
       "      <td>0</td>\n",
       "      <td>38852.977</td>\n",
       "      <td>buying my own car</td>\n",
       "      <td>35-40k</td>\n",
       "      <td>40's</td>\n",
       "    </tr>\n",
       "    <tr>\n",
       "      <td>19</td>\n",
       "      <td>20</td>\n",
       "      <td>1</td>\n",
       "      <td>1311.604166</td>\n",
       "      <td>36</td>\n",
       "      <td>secondary education</td>\n",
       "      <td>1</td>\n",
       "      <td>married</td>\n",
       "      <td>0</td>\n",
       "      <td>M</td>\n",
       "      <td>employee</td>\n",
       "      <td>0</td>\n",
       "      <td>33528.423</td>\n",
       "      <td>property</td>\n",
       "      <td>30-35k</td>\n",
       "      <td>30's</td>\n",
       "    </tr>\n",
       "    <tr>\n",
       "      <td>20</td>\n",
       "      <td>21</td>\n",
       "      <td>1</td>\n",
       "      <td>253.685166</td>\n",
       "      <td>33</td>\n",
       "      <td>secondary education</td>\n",
       "      <td>1</td>\n",
       "      <td>civil partnership</td>\n",
       "      <td>1</td>\n",
       "      <td>F</td>\n",
       "      <td>employee</td>\n",
       "      <td>0</td>\n",
       "      <td>21089.953</td>\n",
       "      <td>car purchase</td>\n",
       "      <td>20-25k</td>\n",
       "      <td>30's</td>\n",
       "    </tr>\n",
       "    <tr>\n",
       "      <td>21</td>\n",
       "      <td>22</td>\n",
       "      <td>1</td>\n",
       "      <td>1766.644138</td>\n",
       "      <td>24</td>\n",
       "      <td>secondary education</td>\n",
       "      <td>1</td>\n",
       "      <td>civil partnership</td>\n",
       "      <td>1</td>\n",
       "      <td>F</td>\n",
       "      <td>employee</td>\n",
       "      <td>0</td>\n",
       "      <td>23948.983</td>\n",
       "      <td>buying a second-hand car</td>\n",
       "      <td>20-25k</td>\n",
       "      <td>20's</td>\n",
       "    </tr>\n",
       "    <tr>\n",
       "      <td>22</td>\n",
       "      <td>23</td>\n",
       "      <td>0</td>\n",
       "      <td>272.981385</td>\n",
       "      <td>21</td>\n",
       "      <td>bachelor's degree</td>\n",
       "      <td>0</td>\n",
       "      <td>civil partnership</td>\n",
       "      <td>1</td>\n",
       "      <td>M</td>\n",
       "      <td>employee</td>\n",
       "      <td>0</td>\n",
       "      <td>20522.515</td>\n",
       "      <td>to have a wedding</td>\n",
       "      <td>20-25k</td>\n",
       "      <td>20's</td>\n",
       "    </tr>\n",
       "    <tr>\n",
       "      <td>23</td>\n",
       "      <td>24</td>\n",
       "      <td>1</td>\n",
       "      <td>338551.952911</td>\n",
       "      <td>57</td>\n",
       "      <td>secondary education</td>\n",
       "      <td>1</td>\n",
       "      <td>unmarried</td>\n",
       "      <td>4</td>\n",
       "      <td>F</td>\n",
       "      <td>retiree</td>\n",
       "      <td>0</td>\n",
       "      <td>46487.558</td>\n",
       "      <td>transactions with commercial real estate</td>\n",
       "      <td>45-50k</td>\n",
       "      <td>50's</td>\n",
       "    </tr>\n",
       "    <tr>\n",
       "      <td>24</td>\n",
       "      <td>25</td>\n",
       "      <td>0</td>\n",
       "      <td>363548.489348</td>\n",
       "      <td>67</td>\n",
       "      <td>secondary education</td>\n",
       "      <td>1</td>\n",
       "      <td>married</td>\n",
       "      <td>0</td>\n",
       "      <td>M</td>\n",
       "      <td>retiree</td>\n",
       "      <td>0</td>\n",
       "      <td>8818.041</td>\n",
       "      <td>buy real estate</td>\n",
       "      <td>5-10k</td>\n",
       "      <td>60's</td>\n",
       "    </tr>\n",
       "    <tr>\n",
       "      <td>25</td>\n",
       "      <td>27</td>\n",
       "      <td>0</td>\n",
       "      <td>529.191635</td>\n",
       "      <td>28</td>\n",
       "      <td>bachelor's degree</td>\n",
       "      <td>0</td>\n",
       "      <td>married</td>\n",
       "      <td>0</td>\n",
       "      <td>M</td>\n",
       "      <td>employee</td>\n",
       "      <td>0</td>\n",
       "      <td>49415.837</td>\n",
       "      <td>construction of own property</td>\n",
       "      <td>45-50k</td>\n",
       "      <td>20's</td>\n",
       "    </tr>\n",
       "    <tr>\n",
       "      <td>26</td>\n",
       "      <td>28</td>\n",
       "      <td>1</td>\n",
       "      <td>717.274324</td>\n",
       "      <td>26</td>\n",
       "      <td>bachelor's degree</td>\n",
       "      <td>0</td>\n",
       "      <td>married</td>\n",
       "      <td>0</td>\n",
       "      <td>F</td>\n",
       "      <td>employee</td>\n",
       "      <td>0</td>\n",
       "      <td>30058.118</td>\n",
       "      <td>construction of own property</td>\n",
       "      <td>30-35k</td>\n",
       "      <td>20's</td>\n",
       "    </tr>\n",
       "    <tr>\n",
       "      <td>27</td>\n",
       "      <td>30</td>\n",
       "      <td>1</td>\n",
       "      <td>335581.668515</td>\n",
       "      <td>62</td>\n",
       "      <td>secondary education</td>\n",
       "      <td>1</td>\n",
       "      <td>married</td>\n",
       "      <td>0</td>\n",
       "      <td>F</td>\n",
       "      <td>retiree</td>\n",
       "      <td>0</td>\n",
       "      <td>27432.971</td>\n",
       "      <td>transactions with commercial real estate</td>\n",
       "      <td>25-30k</td>\n",
       "      <td>60's</td>\n",
       "    </tr>\n",
       "    <tr>\n",
       "      <td>28</td>\n",
       "      <td>31</td>\n",
       "      <td>0</td>\n",
       "      <td>1682.083438</td>\n",
       "      <td>47</td>\n",
       "      <td>primary education</td>\n",
       "      <td>3</td>\n",
       "      <td>married</td>\n",
       "      <td>0</td>\n",
       "      <td>F</td>\n",
       "      <td>employee</td>\n",
       "      <td>0</td>\n",
       "      <td>44077.710</td>\n",
       "      <td>housing</td>\n",
       "      <td>40-45k</td>\n",
       "      <td>40's</td>\n",
       "    </tr>\n",
       "    <tr>\n",
       "      <td>29</td>\n",
       "      <td>32</td>\n",
       "      <td>0</td>\n",
       "      <td>4649.910832</td>\n",
       "      <td>34</td>\n",
       "      <td>secondary education</td>\n",
       "      <td>1</td>\n",
       "      <td>civil partnership</td>\n",
       "      <td>1</td>\n",
       "      <td>F</td>\n",
       "      <td>employee</td>\n",
       "      <td>1</td>\n",
       "      <td>22249.194</td>\n",
       "      <td>having a wedding</td>\n",
       "      <td>20-25k</td>\n",
       "      <td>30's</td>\n",
       "    </tr>\n",
       "  </tbody>\n",
       "</table>\n",
       "</div>"
      ],
      "text/plain": [
       "    index  children  days_employed  dob_years            education  \\\n",
       "0       0         1    8437.673028         42    bachelor's degree   \n",
       "1       1         1    4024.803754         36  secondary education   \n",
       "2       2         0    5623.422610         33  secondary education   \n",
       "3       3         3    4124.747207         32  secondary education   \n",
       "4       4         0  340266.072047         53  secondary education   \n",
       "5       5         0     926.185831         27    bachelor's degree   \n",
       "6       6         0    2879.202052         43    bachelor's degree   \n",
       "7       7         0     152.779569         50  secondary education   \n",
       "8       8         2    6929.865299         35    bachelor's degree   \n",
       "9       9         0    2188.756445         41  secondary education   \n",
       "10     10         2    4171.483647         36    bachelor's degree   \n",
       "11     11         0     792.701887         40  secondary education   \n",
       "12     13         0    1846.641941         54         some college   \n",
       "13     14         0    1844.956182         56    bachelor's degree   \n",
       "14     15         1     972.364419         26  secondary education   \n",
       "15     16         0    1719.934226         35  secondary education   \n",
       "16     17         0    2369.999720         33    bachelor's degree   \n",
       "17     18         0  400281.136913         53  secondary education   \n",
       "18     19         0   10038.818549         48  secondary education   \n",
       "19     20         1    1311.604166         36  secondary education   \n",
       "20     21         1     253.685166         33  secondary education   \n",
       "21     22         1    1766.644138         24  secondary education   \n",
       "22     23         0     272.981385         21    bachelor's degree   \n",
       "23     24         1  338551.952911         57  secondary education   \n",
       "24     25         0  363548.489348         67  secondary education   \n",
       "25     27         0     529.191635         28    bachelor's degree   \n",
       "26     28         1     717.274324         26    bachelor's degree   \n",
       "27     30         1  335581.668515         62  secondary education   \n",
       "28     31         0    1682.083438         47    primary education   \n",
       "29     32         0    4649.910832         34  secondary education   \n",
       "\n",
       "    education_id      family_status  family_status_id gender income_type  \\\n",
       "0              0            married                 0      F    employee   \n",
       "1              1            married                 0      F    employee   \n",
       "2              1            married                 0      M    employee   \n",
       "3              1            married                 0      M    employee   \n",
       "4              1  civil partnership                 1      F     retiree   \n",
       "5              0  civil partnership                 1      M    business   \n",
       "6              0            married                 0      F    business   \n",
       "7              1            married                 0      M    employee   \n",
       "8              0  civil partnership                 1      F    employee   \n",
       "9              1            married                 0      M    employee   \n",
       "10             0            married                 0      M    business   \n",
       "11             1            married                 0      F    employee   \n",
       "12             2            married                 0      F    employee   \n",
       "13             0  civil partnership                 1      F    business   \n",
       "14             1            married                 0      F    employee   \n",
       "15             1            married                 0      F    employee   \n",
       "16             0  civil partnership                 1      M    employee   \n",
       "17             1    widow / widower                 2      F     retiree   \n",
       "18             1           divorced                 3      F    employee   \n",
       "19             1            married                 0      M    employee   \n",
       "20             1  civil partnership                 1      F    employee   \n",
       "21             1  civil partnership                 1      F    employee   \n",
       "22             0  civil partnership                 1      M    employee   \n",
       "23             1          unmarried                 4      F     retiree   \n",
       "24             1            married                 0      M     retiree   \n",
       "25             0            married                 0      M    employee   \n",
       "26             0            married                 0      F    employee   \n",
       "27             1            married                 0      F     retiree   \n",
       "28             3            married                 0      F    employee   \n",
       "29             1  civil partnership                 1      F    employee   \n",
       "\n",
       "    debt  total_income                                   purpose  \\\n",
       "0      0     40620.102                     purchase of the house   \n",
       "1      0     17932.802                              car purchase   \n",
       "2      0     23341.752                     purchase of the house   \n",
       "3      0     42820.568                   supplementary education   \n",
       "4      0     25378.572                         to have a wedding   \n",
       "5      0     40922.170                     purchase of the house   \n",
       "6      0     38484.156                      housing transactions   \n",
       "7      0     21731.829                                 education   \n",
       "8      0     15337.093                          having a wedding   \n",
       "9      0     23108.150       purchase of the house for my family   \n",
       "10     0     18230.959                           buy real estate   \n",
       "11     0     12331.077                buy commercial real estate   \n",
       "12     0     20873.317                              car purchase   \n",
       "13     1     26420.466               buy residential real estate   \n",
       "14     0     18691.345              construction of own property   \n",
       "15     0     46272.433                                  property   \n",
       "16     0     14465.694                       building a property   \n",
       "17     0      9091.804                  buying a second-hand car   \n",
       "18     0     38852.977                         buying my own car   \n",
       "19     0     33528.423                                  property   \n",
       "20     0     21089.953                              car purchase   \n",
       "21     0     23948.983                  buying a second-hand car   \n",
       "22     0     20522.515                         to have a wedding   \n",
       "23     0     46487.558  transactions with commercial real estate   \n",
       "24     0      8818.041                           buy real estate   \n",
       "25     0     49415.837              construction of own property   \n",
       "26     0     30058.118              construction of own property   \n",
       "27     0     27432.971  transactions with commercial real estate   \n",
       "28     0     44077.710                                   housing   \n",
       "29     1     22249.194                          having a wedding   \n",
       "\n",
       "   income_categories age_categories  \n",
       "0             40-45k           40's  \n",
       "1             15-20k           30's  \n",
       "2             20-25k           30's  \n",
       "3             40-45k           30's  \n",
       "4             25-30k           50's  \n",
       "5             40-45k           20's  \n",
       "6             35-40k           40's  \n",
       "7             20-25k           70's  \n",
       "8             15-20k           30's  \n",
       "9             20-25k           40's  \n",
       "10            15-20k           30's  \n",
       "11            10-15k           70's  \n",
       "12            20-25k           50's  \n",
       "13            25-30k           50's  \n",
       "14            15-20k           20's  \n",
       "15            45-50k           30's  \n",
       "16            10-15k           30's  \n",
       "17             5-10k           50's  \n",
       "18            35-40k           40's  \n",
       "19            30-35k           30's  \n",
       "20            20-25k           30's  \n",
       "21            20-25k           20's  \n",
       "22            20-25k           20's  \n",
       "23            45-50k           50's  \n",
       "24             5-10k           60's  \n",
       "25            45-50k           20's  \n",
       "26            30-35k           20's  \n",
       "27            25-30k           60's  \n",
       "28            40-45k           40's  \n",
       "29            20-25k           30's  "
      ]
     },
     "execution_count": 40,
     "metadata": {},
     "output_type": "execute_result"
    }
   ],
   "source": [
    "# Create a table without missing values and print a few of its rows to make sure it looks fine\n",
    "credit_scoring_missfree = credit_scoring[credit_scoring['total_income'].isna()].index\n",
    "credit_missing_none = credit_scoring.copy()\n",
    "credit_missing_none.drop(credit_scoring_missfree, inplace=True)\n",
    "credit_missing_none = credit_missing_none.reset_index()\n",
    "credit_missing_none.head(30)\n"
   ]
  },
  {
   "cell_type": "code",
   "execution_count": 41,
   "metadata": {},
   "outputs": [
    {
     "data": {
      "text/plain": [
       "age_categories\n",
       "20's    25655.710253\n",
       "30's    28395.528238\n",
       "40's    28526.047215\n",
       "50's    25725.431426\n",
       "60's    23324.788869\n",
       "70's    25945.907261\n",
       "Teen    16993.942462\n",
       "Name: total_income, dtype: float64"
      ]
     },
     "execution_count": 41,
     "metadata": {},
     "output_type": "execute_result"
    }
   ],
   "source": [
    "# Look at the mean values for income based on your identified factors\n",
    "\n",
    "mean_values_age = credit_scoring.groupby('age_categories')['total_income'].mean()\n",
    "mean_values_age"
   ]
  },
  {
   "cell_type": "code",
   "execution_count": 42,
   "metadata": {
    "scrolled": true
   },
   "outputs": [
    {
     "data": {
      "text/plain": [
       "age_categories\n",
       "20's    22903.6790\n",
       "30's    24781.3960\n",
       "40's    24701.9000\n",
       "50's    22173.9030\n",
       "60's    19764.1540\n",
       "70's    22869.8235\n",
       "Teen    14934.9010\n",
       "Name: total_income, dtype: float64"
      ]
     },
     "execution_count": 42,
     "metadata": {},
     "output_type": "execute_result"
    }
   ],
   "source": [
    "# Look at the median values for income based on your identified factors\n",
    "median_values_age = credit_scoring.groupby('age_categories')['total_income'].median()\n",
    "median_values_age"
   ]
  },
  {
   "cell_type": "code",
   "execution_count": 43,
   "metadata": {},
   "outputs": [
    {
     "data": {
      "text/plain": [
       "education\n",
       "bachelor's degree      33142.802434\n",
       "graduate degree        27960.024667\n",
       "primary education      21144.882211\n",
       "secondary education    24594.503037\n",
       "some college           29040.132990\n",
       "Name: total_income, dtype: float64"
      ]
     },
     "execution_count": 43,
     "metadata": {},
     "output_type": "execute_result"
    }
   ],
   "source": [
    "# Mean based on education\n",
    "mean_values_edu = credit_scoring.groupby('education')['total_income'].mean()\n",
    "mean_values_edu"
   ]
  },
  {
   "cell_type": "code",
   "execution_count": 44,
   "metadata": {},
   "outputs": [
    {
     "data": {
      "text/plain": [
       "education\n",
       "bachelor's degree      28054.5310\n",
       "graduate degree        25161.5835\n",
       "primary education      18741.9760\n",
       "secondary education    21836.5830\n",
       "some college           25608.7945\n",
       "Name: total_income, dtype: float64"
      ]
     },
     "execution_count": 44,
     "metadata": {},
     "output_type": "execute_result"
    }
   ],
   "source": [
    "# Median based on education\n",
    "median_values_edu = credit_scoring.groupby('education')['total_income'].median()\n",
    "median_values_edu"
   ]
  },
  {
   "cell_type": "code",
   "execution_count": 45,
   "metadata": {},
   "outputs": [
    {
     "data": {
      "text/plain": [
       "income_type\n",
       "business                       32386.741818\n",
       "civil servant                  27343.729582\n",
       "employee                       25820.841683\n",
       "entrepreneur                   79866.103000\n",
       "paternity / maternity leave     8612.661000\n",
       "retiree                        21940.394503\n",
       "student                        15712.260000\n",
       "unemployed                     21014.360500\n",
       "Name: total_income, dtype: float64"
      ]
     },
     "execution_count": 45,
     "metadata": {},
     "output_type": "execute_result"
    }
   ],
   "source": [
    "# Mean based on income type\n",
    "mean_values_income = credit_scoring.groupby('income_type')['total_income'].mean()\n",
    "mean_values_income"
   ]
  },
  {
   "cell_type": "code",
   "execution_count": 46,
   "metadata": {},
   "outputs": [
    {
     "data": {
      "text/plain": [
       "income_type\n",
       "business                       27571.0825\n",
       "civil servant                  24071.6695\n",
       "employee                       22815.1035\n",
       "entrepreneur                   79866.1030\n",
       "paternity / maternity leave     8612.6610\n",
       "retiree                        18962.3180\n",
       "student                        15712.2600\n",
       "unemployed                     21014.3605\n",
       "Name: total_income, dtype: float64"
      ]
     },
     "execution_count": 46,
     "metadata": {},
     "output_type": "execute_result"
    }
   ],
   "source": [
    "# Median based on income type\n",
    "median_values_income = credit_scoring.groupby('income_type')['total_income'].median()\n",
    "median_values_income"
   ]
  },
  {
   "cell_type": "code",
   "execution_count": 47,
   "metadata": {},
   "outputs": [
    {
     "data": {
      "text/plain": [
       "children\n",
       "0    26421.916832\n",
       "1    27368.627863\n",
       "2    27478.854282\n",
       "3    29322.623993\n",
       "4    27289.829647\n",
       "5    27268.847250\n",
       "Name: total_income, dtype: float64"
      ]
     },
     "execution_count": 47,
     "metadata": {},
     "output_type": "execute_result"
    }
   ],
   "source": [
    "# Mean based on number of children\n",
    "mean_values_kids = credit_scoring.groupby('children')['total_income'].mean()\n",
    "mean_values_kids"
   ]
  },
  {
   "cell_type": "code",
   "execution_count": 48,
   "metadata": {},
   "outputs": [
    {
     "data": {
      "text/plain": [
       "children\n",
       "0    23027.3350\n",
       "1    23660.5630\n",
       "2    23136.1155\n",
       "3    25155.4480\n",
       "4    24981.6340\n",
       "5    29816.2255\n",
       "Name: total_income, dtype: float64"
      ]
     },
     "execution_count": 48,
     "metadata": {},
     "output_type": "execute_result"
    }
   ],
   "source": [
    "# Median based on number of children\n",
    "median_values_kids = credit_scoring.groupby('children')['total_income'].median()\n",
    "median_values_kids"
   ]
  },
  {
   "cell_type": "markdown",
   "metadata": {},
   "source": [
    "Based on the data above, the education column seems to have the greatest effect on total income due to the range of the datapoints. Additionally, the median value seems to be most representative of the data considering there are many high datapoints in the 'total_income' category that are skewing the mean results.\n"
   ]
  },
  {
   "cell_type": "code",
   "execution_count": 49,
   "metadata": {},
   "outputs": [
    {
     "data": {
      "text/plain": [
       "count     19350.000000\n",
       "mean      26787.266688\n",
       "std       16475.822926\n",
       "min        3306.762000\n",
       "25%       16486.515250\n",
       "50%       23201.873500\n",
       "75%       32547.910750\n",
       "max      362496.645000\n",
       "Name: total_income, dtype: float64"
      ]
     },
     "execution_count": 49,
     "metadata": {},
     "output_type": "execute_result"
    }
   ],
   "source": [
    "credit_scoring['total_income'].describe()"
   ]
  },
  {
   "cell_type": "code",
   "execution_count": 50,
   "metadata": {},
   "outputs": [],
   "source": [
    "#  Write a function that we will use for filling in missing values\n",
    "sec_med_inc = credit_scoring[credit_scoring['education'] == 'secondary education']['total_income'].median()        \n",
    "bac_med_inc = credit_scoring[credit_scoring['education'] == 'bachelor\\'s degree']['total_income'].median()   \n",
    "col_med_inc = credit_scoring[credit_scoring['education'] == 'some college']['total_income'].median()   \n",
    "prim_med_inc = credit_scoring[credit_scoring['education'] == 'primary education']['total_income'].median()   \n",
    "grad_med_inc = credit_scoring[credit_scoring['education'] == 'graduate degree']['total_income'].median()  \n",
    "\n",
    "def median_income (row):\n",
    "    if row['education'] == 'secondary education':\n",
    "        return sec_med_inc\n",
    "    if row['education'] == 'bachelor\\'s degree':\n",
    "        return bac_med_inc\n",
    "    if row['education'] == 'some college':\n",
    "        return col_med_inc\n",
    "    if row['education'] == 'primary education':\n",
    "        return prim_med_inc\n",
    "    if row['education'] == 'graduate degree':\n",
    "        return grad_med_inc\n",
    "    return 'Other'\n",
    "\n",
    "credit_scoring['median_income'] = credit_scoring.apply(lambda row: median_income(row), axis=1)\n",
    "\n",
    "credit_scoring['total_income'].fillna(credit_scoring['median_income'], inplace = True)"
   ]
  },
  {
   "cell_type": "code",
   "execution_count": 51,
   "metadata": {},
   "outputs": [
    {
     "data": {
      "text/html": [
       "<div>\n",
       "<style scoped>\n",
       "    .dataframe tbody tr th:only-of-type {\n",
       "        vertical-align: middle;\n",
       "    }\n",
       "\n",
       "    .dataframe tbody tr th {\n",
       "        vertical-align: top;\n",
       "    }\n",
       "\n",
       "    .dataframe thead th {\n",
       "        text-align: right;\n",
       "    }\n",
       "</style>\n",
       "<table border=\"1\" class=\"dataframe\">\n",
       "  <thead>\n",
       "    <tr style=\"text-align: right;\">\n",
       "      <th></th>\n",
       "      <th>children</th>\n",
       "      <th>days_employed</th>\n",
       "      <th>dob_years</th>\n",
       "      <th>education</th>\n",
       "      <th>education_id</th>\n",
       "      <th>family_status</th>\n",
       "      <th>family_status_id</th>\n",
       "      <th>gender</th>\n",
       "      <th>income_type</th>\n",
       "      <th>debt</th>\n",
       "      <th>total_income</th>\n",
       "      <th>purpose</th>\n",
       "      <th>income_categories</th>\n",
       "      <th>age_categories</th>\n",
       "      <th>median_income</th>\n",
       "    </tr>\n",
       "  </thead>\n",
       "  <tbody>\n",
       "    <tr>\n",
       "      <td>0</td>\n",
       "      <td>1</td>\n",
       "      <td>8437.673028</td>\n",
       "      <td>42</td>\n",
       "      <td>bachelor's degree</td>\n",
       "      <td>0</td>\n",
       "      <td>married</td>\n",
       "      <td>0</td>\n",
       "      <td>F</td>\n",
       "      <td>employee</td>\n",
       "      <td>0</td>\n",
       "      <td>40620.102</td>\n",
       "      <td>purchase of the house</td>\n",
       "      <td>40-45k</td>\n",
       "      <td>40's</td>\n",
       "      <td>28054.5310</td>\n",
       "    </tr>\n",
       "    <tr>\n",
       "      <td>1</td>\n",
       "      <td>1</td>\n",
       "      <td>4024.803754</td>\n",
       "      <td>36</td>\n",
       "      <td>secondary education</td>\n",
       "      <td>1</td>\n",
       "      <td>married</td>\n",
       "      <td>0</td>\n",
       "      <td>F</td>\n",
       "      <td>employee</td>\n",
       "      <td>0</td>\n",
       "      <td>17932.802</td>\n",
       "      <td>car purchase</td>\n",
       "      <td>15-20k</td>\n",
       "      <td>30's</td>\n",
       "      <td>21836.5830</td>\n",
       "    </tr>\n",
       "    <tr>\n",
       "      <td>2</td>\n",
       "      <td>0</td>\n",
       "      <td>5623.422610</td>\n",
       "      <td>33</td>\n",
       "      <td>secondary education</td>\n",
       "      <td>1</td>\n",
       "      <td>married</td>\n",
       "      <td>0</td>\n",
       "      <td>M</td>\n",
       "      <td>employee</td>\n",
       "      <td>0</td>\n",
       "      <td>23341.752</td>\n",
       "      <td>purchase of the house</td>\n",
       "      <td>20-25k</td>\n",
       "      <td>30's</td>\n",
       "      <td>21836.5830</td>\n",
       "    </tr>\n",
       "    <tr>\n",
       "      <td>3</td>\n",
       "      <td>3</td>\n",
       "      <td>4124.747207</td>\n",
       "      <td>32</td>\n",
       "      <td>secondary education</td>\n",
       "      <td>1</td>\n",
       "      <td>married</td>\n",
       "      <td>0</td>\n",
       "      <td>M</td>\n",
       "      <td>employee</td>\n",
       "      <td>0</td>\n",
       "      <td>42820.568</td>\n",
       "      <td>supplementary education</td>\n",
       "      <td>40-45k</td>\n",
       "      <td>30's</td>\n",
       "      <td>21836.5830</td>\n",
       "    </tr>\n",
       "    <tr>\n",
       "      <td>4</td>\n",
       "      <td>0</td>\n",
       "      <td>340266.072047</td>\n",
       "      <td>53</td>\n",
       "      <td>secondary education</td>\n",
       "      <td>1</td>\n",
       "      <td>civil partnership</td>\n",
       "      <td>1</td>\n",
       "      <td>F</td>\n",
       "      <td>retiree</td>\n",
       "      <td>0</td>\n",
       "      <td>25378.572</td>\n",
       "      <td>to have a wedding</td>\n",
       "      <td>25-30k</td>\n",
       "      <td>50's</td>\n",
       "      <td>21836.5830</td>\n",
       "    </tr>\n",
       "    <tr>\n",
       "      <td>5</td>\n",
       "      <td>0</td>\n",
       "      <td>926.185831</td>\n",
       "      <td>27</td>\n",
       "      <td>bachelor's degree</td>\n",
       "      <td>0</td>\n",
       "      <td>civil partnership</td>\n",
       "      <td>1</td>\n",
       "      <td>M</td>\n",
       "      <td>business</td>\n",
       "      <td>0</td>\n",
       "      <td>40922.170</td>\n",
       "      <td>purchase of the house</td>\n",
       "      <td>40-45k</td>\n",
       "      <td>20's</td>\n",
       "      <td>28054.5310</td>\n",
       "    </tr>\n",
       "    <tr>\n",
       "      <td>6</td>\n",
       "      <td>0</td>\n",
       "      <td>2879.202052</td>\n",
       "      <td>43</td>\n",
       "      <td>bachelor's degree</td>\n",
       "      <td>0</td>\n",
       "      <td>married</td>\n",
       "      <td>0</td>\n",
       "      <td>F</td>\n",
       "      <td>business</td>\n",
       "      <td>0</td>\n",
       "      <td>38484.156</td>\n",
       "      <td>housing transactions</td>\n",
       "      <td>35-40k</td>\n",
       "      <td>40's</td>\n",
       "      <td>28054.5310</td>\n",
       "    </tr>\n",
       "    <tr>\n",
       "      <td>7</td>\n",
       "      <td>0</td>\n",
       "      <td>152.779569</td>\n",
       "      <td>50</td>\n",
       "      <td>secondary education</td>\n",
       "      <td>1</td>\n",
       "      <td>married</td>\n",
       "      <td>0</td>\n",
       "      <td>M</td>\n",
       "      <td>employee</td>\n",
       "      <td>0</td>\n",
       "      <td>21731.829</td>\n",
       "      <td>education</td>\n",
       "      <td>20-25k</td>\n",
       "      <td>70's</td>\n",
       "      <td>21836.5830</td>\n",
       "    </tr>\n",
       "    <tr>\n",
       "      <td>8</td>\n",
       "      <td>2</td>\n",
       "      <td>6929.865299</td>\n",
       "      <td>35</td>\n",
       "      <td>bachelor's degree</td>\n",
       "      <td>0</td>\n",
       "      <td>civil partnership</td>\n",
       "      <td>1</td>\n",
       "      <td>F</td>\n",
       "      <td>employee</td>\n",
       "      <td>0</td>\n",
       "      <td>15337.093</td>\n",
       "      <td>having a wedding</td>\n",
       "      <td>15-20k</td>\n",
       "      <td>30's</td>\n",
       "      <td>28054.5310</td>\n",
       "    </tr>\n",
       "    <tr>\n",
       "      <td>9</td>\n",
       "      <td>0</td>\n",
       "      <td>2188.756445</td>\n",
       "      <td>41</td>\n",
       "      <td>secondary education</td>\n",
       "      <td>1</td>\n",
       "      <td>married</td>\n",
       "      <td>0</td>\n",
       "      <td>M</td>\n",
       "      <td>employee</td>\n",
       "      <td>0</td>\n",
       "      <td>23108.150</td>\n",
       "      <td>purchase of the house for my family</td>\n",
       "      <td>20-25k</td>\n",
       "      <td>40's</td>\n",
       "      <td>21836.5830</td>\n",
       "    </tr>\n",
       "    <tr>\n",
       "      <td>10</td>\n",
       "      <td>2</td>\n",
       "      <td>4171.483647</td>\n",
       "      <td>36</td>\n",
       "      <td>bachelor's degree</td>\n",
       "      <td>0</td>\n",
       "      <td>married</td>\n",
       "      <td>0</td>\n",
       "      <td>M</td>\n",
       "      <td>business</td>\n",
       "      <td>0</td>\n",
       "      <td>18230.959</td>\n",
       "      <td>buy real estate</td>\n",
       "      <td>15-20k</td>\n",
       "      <td>30's</td>\n",
       "      <td>28054.5310</td>\n",
       "    </tr>\n",
       "    <tr>\n",
       "      <td>11</td>\n",
       "      <td>0</td>\n",
       "      <td>792.701887</td>\n",
       "      <td>40</td>\n",
       "      <td>secondary education</td>\n",
       "      <td>1</td>\n",
       "      <td>married</td>\n",
       "      <td>0</td>\n",
       "      <td>F</td>\n",
       "      <td>employee</td>\n",
       "      <td>0</td>\n",
       "      <td>12331.077</td>\n",
       "      <td>buy commercial real estate</td>\n",
       "      <td>10-15k</td>\n",
       "      <td>70's</td>\n",
       "      <td>21836.5830</td>\n",
       "    </tr>\n",
       "    <tr>\n",
       "      <td>12</td>\n",
       "      <td>0</td>\n",
       "      <td>NaN</td>\n",
       "      <td>65</td>\n",
       "      <td>secondary education</td>\n",
       "      <td>1</td>\n",
       "      <td>civil partnership</td>\n",
       "      <td>1</td>\n",
       "      <td>M</td>\n",
       "      <td>retiree</td>\n",
       "      <td>0</td>\n",
       "      <td>21836.583</td>\n",
       "      <td>to have a wedding</td>\n",
       "      <td>Over 60k</td>\n",
       "      <td>60's</td>\n",
       "      <td>21836.5830</td>\n",
       "    </tr>\n",
       "    <tr>\n",
       "      <td>13</td>\n",
       "      <td>0</td>\n",
       "      <td>1846.641941</td>\n",
       "      <td>54</td>\n",
       "      <td>some college</td>\n",
       "      <td>2</td>\n",
       "      <td>married</td>\n",
       "      <td>0</td>\n",
       "      <td>F</td>\n",
       "      <td>employee</td>\n",
       "      <td>0</td>\n",
       "      <td>20873.317</td>\n",
       "      <td>car purchase</td>\n",
       "      <td>20-25k</td>\n",
       "      <td>50's</td>\n",
       "      <td>25608.7945</td>\n",
       "    </tr>\n",
       "    <tr>\n",
       "      <td>14</td>\n",
       "      <td>0</td>\n",
       "      <td>1844.956182</td>\n",
       "      <td>56</td>\n",
       "      <td>bachelor's degree</td>\n",
       "      <td>0</td>\n",
       "      <td>civil partnership</td>\n",
       "      <td>1</td>\n",
       "      <td>F</td>\n",
       "      <td>business</td>\n",
       "      <td>1</td>\n",
       "      <td>26420.466</td>\n",
       "      <td>buy residential real estate</td>\n",
       "      <td>25-30k</td>\n",
       "      <td>50's</td>\n",
       "      <td>28054.5310</td>\n",
       "    </tr>\n",
       "  </tbody>\n",
       "</table>\n",
       "</div>"
      ],
      "text/plain": [
       "    children  days_employed  dob_years            education  education_id  \\\n",
       "0          1    8437.673028         42    bachelor's degree             0   \n",
       "1          1    4024.803754         36  secondary education             1   \n",
       "2          0    5623.422610         33  secondary education             1   \n",
       "3          3    4124.747207         32  secondary education             1   \n",
       "4          0  340266.072047         53  secondary education             1   \n",
       "5          0     926.185831         27    bachelor's degree             0   \n",
       "6          0    2879.202052         43    bachelor's degree             0   \n",
       "7          0     152.779569         50  secondary education             1   \n",
       "8          2    6929.865299         35    bachelor's degree             0   \n",
       "9          0    2188.756445         41  secondary education             1   \n",
       "10         2    4171.483647         36    bachelor's degree             0   \n",
       "11         0     792.701887         40  secondary education             1   \n",
       "12         0            NaN         65  secondary education             1   \n",
       "13         0    1846.641941         54         some college             2   \n",
       "14         0    1844.956182         56    bachelor's degree             0   \n",
       "\n",
       "        family_status  family_status_id gender income_type  debt  \\\n",
       "0             married                 0      F    employee     0   \n",
       "1             married                 0      F    employee     0   \n",
       "2             married                 0      M    employee     0   \n",
       "3             married                 0      M    employee     0   \n",
       "4   civil partnership                 1      F     retiree     0   \n",
       "5   civil partnership                 1      M    business     0   \n",
       "6             married                 0      F    business     0   \n",
       "7             married                 0      M    employee     0   \n",
       "8   civil partnership                 1      F    employee     0   \n",
       "9             married                 0      M    employee     0   \n",
       "10            married                 0      M    business     0   \n",
       "11            married                 0      F    employee     0   \n",
       "12  civil partnership                 1      M     retiree     0   \n",
       "13            married                 0      F    employee     0   \n",
       "14  civil partnership                 1      F    business     1   \n",
       "\n",
       "    total_income                              purpose income_categories  \\\n",
       "0      40620.102                purchase of the house            40-45k   \n",
       "1      17932.802                         car purchase            15-20k   \n",
       "2      23341.752                purchase of the house            20-25k   \n",
       "3      42820.568              supplementary education            40-45k   \n",
       "4      25378.572                    to have a wedding            25-30k   \n",
       "5      40922.170                purchase of the house            40-45k   \n",
       "6      38484.156                 housing transactions            35-40k   \n",
       "7      21731.829                            education            20-25k   \n",
       "8      15337.093                     having a wedding            15-20k   \n",
       "9      23108.150  purchase of the house for my family            20-25k   \n",
       "10     18230.959                      buy real estate            15-20k   \n",
       "11     12331.077           buy commercial real estate            10-15k   \n",
       "12     21836.583                    to have a wedding          Over 60k   \n",
       "13     20873.317                         car purchase            20-25k   \n",
       "14     26420.466          buy residential real estate            25-30k   \n",
       "\n",
       "   age_categories  median_income  \n",
       "0            40's     28054.5310  \n",
       "1            30's     21836.5830  \n",
       "2            30's     21836.5830  \n",
       "3            30's     21836.5830  \n",
       "4            50's     21836.5830  \n",
       "5            20's     28054.5310  \n",
       "6            40's     28054.5310  \n",
       "7            70's     21836.5830  \n",
       "8            30's     28054.5310  \n",
       "9            40's     21836.5830  \n",
       "10           30's     28054.5310  \n",
       "11           70's     21836.5830  \n",
       "12           60's     21836.5830  \n",
       "13           50's     25608.7945  \n",
       "14           50's     28054.5310  "
      ]
     },
     "execution_count": 51,
     "metadata": {},
     "output_type": "execute_result"
    }
   ],
   "source": [
    "# Check if it works\n",
    "credit_scoring.head(15)"
   ]
  },
  {
   "cell_type": "code",
   "execution_count": 52,
   "metadata": {},
   "outputs": [
    {
     "data": {
      "text/plain": [
       "count     21453.000000\n",
       "mean      26465.838089\n",
       "std       15701.456362\n",
       "min        3306.762000\n",
       "25%       17219.352000\n",
       "50%       22582.311000\n",
       "75%       31327.922000\n",
       "max      362496.645000\n",
       "Name: total_income, dtype: float64"
      ]
     },
     "execution_count": 52,
     "metadata": {},
     "output_type": "execute_result"
    }
   ],
   "source": [
    "# Check if we got any errors\n",
    "credit_scoring['total_income'].describe()"
   ]
  },
  {
   "cell_type": "markdown",
   "metadata": {},
   "source": [
    "There are no errors. There are no missing values in the 'total_income' column now as the number of values matches the total number of rows in the dataset."
   ]
  },
  {
   "cell_type": "code",
   "execution_count": 53,
   "metadata": {},
   "outputs": [],
   "source": [
    "# Replacing missing values if there are any errors\n"
   ]
  },
  {
   "cell_type": "code",
   "execution_count": 54,
   "metadata": {},
   "outputs": [
    {
     "data": {
      "text/html": [
       "<div>\n",
       "<style scoped>\n",
       "    .dataframe tbody tr th:only-of-type {\n",
       "        vertical-align: middle;\n",
       "    }\n",
       "\n",
       "    .dataframe tbody tr th {\n",
       "        vertical-align: top;\n",
       "    }\n",
       "\n",
       "    .dataframe thead th {\n",
       "        text-align: right;\n",
       "    }\n",
       "</style>\n",
       "<table border=\"1\" class=\"dataframe\">\n",
       "  <thead>\n",
       "    <tr style=\"text-align: right;\">\n",
       "      <th></th>\n",
       "      <th>children</th>\n",
       "      <th>days_employed</th>\n",
       "      <th>dob_years</th>\n",
       "      <th>education_id</th>\n",
       "      <th>family_status_id</th>\n",
       "      <th>debt</th>\n",
       "      <th>total_income</th>\n",
       "      <th>median_income</th>\n",
       "    </tr>\n",
       "  </thead>\n",
       "  <tbody>\n",
       "    <tr>\n",
       "      <td>count</td>\n",
       "      <td>21453.000000</td>\n",
       "      <td>19350.000000</td>\n",
       "      <td>21453.000000</td>\n",
       "      <td>21453.000000</td>\n",
       "      <td>21453.000000</td>\n",
       "      <td>21453.000000</td>\n",
       "      <td>21453.000000</td>\n",
       "      <td>21453.00000</td>\n",
       "    </tr>\n",
       "    <tr>\n",
       "      <td>mean</td>\n",
       "      <td>0.480585</td>\n",
       "      <td>66918.065141</td>\n",
       "      <td>43.474572</td>\n",
       "      <td>0.817042</td>\n",
       "      <td>0.973896</td>\n",
       "      <td>0.081154</td>\n",
       "      <td>26465.838089</td>\n",
       "      <td>23449.14306</td>\n",
       "    </tr>\n",
       "    <tr>\n",
       "      <td>std</td>\n",
       "      <td>0.756079</td>\n",
       "      <td>139033.698578</td>\n",
       "      <td>12.213068</td>\n",
       "      <td>0.548628</td>\n",
       "      <td>1.421601</td>\n",
       "      <td>0.273078</td>\n",
       "      <td>15701.456362</td>\n",
       "      <td>2735.58389</td>\n",
       "    </tr>\n",
       "    <tr>\n",
       "      <td>min</td>\n",
       "      <td>0.000000</td>\n",
       "      <td>24.141633</td>\n",
       "      <td>19.000000</td>\n",
       "      <td>0.000000</td>\n",
       "      <td>0.000000</td>\n",
       "      <td>0.000000</td>\n",
       "      <td>3306.762000</td>\n",
       "      <td>18741.97600</td>\n",
       "    </tr>\n",
       "    <tr>\n",
       "      <td>25%</td>\n",
       "      <td>0.000000</td>\n",
       "      <td>926.990457</td>\n",
       "      <td>33.000000</td>\n",
       "      <td>1.000000</td>\n",
       "      <td>0.000000</td>\n",
       "      <td>0.000000</td>\n",
       "      <td>17219.352000</td>\n",
       "      <td>21836.58300</td>\n",
       "    </tr>\n",
       "    <tr>\n",
       "      <td>50%</td>\n",
       "      <td>0.000000</td>\n",
       "      <td>2194.218768</td>\n",
       "      <td>43.000000</td>\n",
       "      <td>1.000000</td>\n",
       "      <td>0.000000</td>\n",
       "      <td>0.000000</td>\n",
       "      <td>22582.311000</td>\n",
       "      <td>21836.58300</td>\n",
       "    </tr>\n",
       "    <tr>\n",
       "      <td>75%</td>\n",
       "      <td>1.000000</td>\n",
       "      <td>5538.423086</td>\n",
       "      <td>53.000000</td>\n",
       "      <td>1.000000</td>\n",
       "      <td>1.000000</td>\n",
       "      <td>0.000000</td>\n",
       "      <td>31327.922000</td>\n",
       "      <td>25608.79450</td>\n",
       "    </tr>\n",
       "    <tr>\n",
       "      <td>max</td>\n",
       "      <td>5.000000</td>\n",
       "      <td>401755.400475</td>\n",
       "      <td>75.000000</td>\n",
       "      <td>4.000000</td>\n",
       "      <td>4.000000</td>\n",
       "      <td>1.000000</td>\n",
       "      <td>362496.645000</td>\n",
       "      <td>28054.53100</td>\n",
       "    </tr>\n",
       "  </tbody>\n",
       "</table>\n",
       "</div>"
      ],
      "text/plain": [
       "           children  days_employed     dob_years  education_id  \\\n",
       "count  21453.000000   19350.000000  21453.000000  21453.000000   \n",
       "mean       0.480585   66918.065141     43.474572      0.817042   \n",
       "std        0.756079  139033.698578     12.213068      0.548628   \n",
       "min        0.000000      24.141633     19.000000      0.000000   \n",
       "25%        0.000000     926.990457     33.000000      1.000000   \n",
       "50%        0.000000    2194.218768     43.000000      1.000000   \n",
       "75%        1.000000    5538.423086     53.000000      1.000000   \n",
       "max        5.000000  401755.400475     75.000000      4.000000   \n",
       "\n",
       "       family_status_id          debt   total_income  median_income  \n",
       "count      21453.000000  21453.000000   21453.000000    21453.00000  \n",
       "mean           0.973896      0.081154   26465.838089    23449.14306  \n",
       "std            1.421601      0.273078   15701.456362     2735.58389  \n",
       "min            0.000000      0.000000    3306.762000    18741.97600  \n",
       "25%            0.000000      0.000000   17219.352000    21836.58300  \n",
       "50%            0.000000      0.000000   22582.311000    21836.58300  \n",
       "75%            1.000000      0.000000   31327.922000    25608.79450  \n",
       "max            4.000000      1.000000  362496.645000    28054.53100  "
      ]
     },
     "execution_count": 54,
     "metadata": {},
     "output_type": "execute_result"
    }
   ],
   "source": [
    "# Checking the number of entries in the columns\n",
    "\n",
    "credit_scoring.describe()"
   ]
  },
  {
   "cell_type": "markdown",
   "metadata": {},
   "source": [
    "###  Restoring values in `days_employed`"
   ]
  },
  {
   "cell_type": "code",
   "execution_count": 55,
   "metadata": {
    "pycharm": {
     "name": "#%%\n"
    }
   },
   "outputs": [
    {
     "data": {
      "text/plain": [
       "income_type\n",
       "business                         1546.333214\n",
       "civil servant                    2689.368353\n",
       "employee                         1574.202821\n",
       "entrepreneur                      520.848083\n",
       "paternity / maternity leave      3296.759962\n",
       "retiree                        365213.306266\n",
       "student                           578.751554\n",
       "unemployed                     366413.652744\n",
       "Name: days_employed, dtype: float64"
      ]
     },
     "execution_count": 55,
     "metadata": {},
     "output_type": "execute_result"
    }
   ],
   "source": [
    "# Distribution of `days_employed` medians based on your identified parameters\n",
    "\n",
    "median_days_inctype = credit_scoring.groupby('income_type')['days_employed'].median()\n",
    "median_days_inctype\n"
   ]
  },
  {
   "cell_type": "code",
   "execution_count": 56,
   "metadata": {},
   "outputs": [
    {
     "data": {
      "text/plain": [
       "age_categories\n",
       "20's      1013.438904\n",
       "30's      1616.965312\n",
       "40's      2153.248215\n",
       "50's      5475.822930\n",
       "60's    355956.740354\n",
       "70's      2499.720678\n",
       "Teen       724.492610\n",
       "Name: days_employed, dtype: float64"
      ]
     },
     "execution_count": 56,
     "metadata": {},
     "output_type": "execute_result"
    }
   ],
   "source": [
    "# median based on age\n",
    "\n",
    "median_days_age = credit_scoring.groupby('age_categories')['days_employed'].median()\n",
    "median_days_age"
   ]
  },
  {
   "cell_type": "code",
   "execution_count": 57,
   "metadata": {},
   "outputs": [
    {
     "data": {
      "text/plain": [
       "income_type\n",
       "business                         2111.470404\n",
       "civil servant                    3399.896902\n",
       "employee                         2326.499216\n",
       "entrepreneur                      520.848083\n",
       "paternity / maternity leave      3296.759962\n",
       "retiree                        365003.491245\n",
       "student                           578.751554\n",
       "unemployed                     366413.652744\n",
       "Name: days_employed, dtype: float64"
      ]
     },
     "execution_count": 57,
     "metadata": {},
     "output_type": "execute_result"
    }
   ],
   "source": [
    "# Distribution of `days_employed` means based on your identified parameters\n",
    "\n",
    "mean_days_inctype = credit_scoring.groupby('income_type')['days_employed'].mean()\n",
    "mean_days_inctype"
   ]
  },
  {
   "cell_type": "code",
   "execution_count": 58,
   "metadata": {},
   "outputs": [
    {
     "data": {
      "text/plain": [
       "age_categories\n",
       "20's      2111.830222\n",
       "30's      4411.185104\n",
       "40's     14227.668212\n",
       "50's    143178.856505\n",
       "60's    287966.553964\n",
       "70's     82809.857924\n",
       "Teen       633.678086\n",
       "Name: days_employed, dtype: float64"
      ]
     },
     "execution_count": 58,
     "metadata": {},
     "output_type": "execute_result"
    }
   ],
   "source": [
    "# mean based on age\n",
    "\n",
    "mean_days_age = credit_scoring.groupby('age_categories')['days_employed'].mean()\n",
    "mean_days_age"
   ]
  },
  {
   "cell_type": "markdown",
   "metadata": {},
   "source": [
    "In this situation we will use age to fill in the missing values because it seems to have the most impact on days employed based on the range of values. We will use the mean values since there are no notable outliers and it seems to be the best representation of the data. "
   ]
  },
  {
   "cell_type": "code",
   "execution_count": 59,
   "metadata": {},
   "outputs": [],
   "source": [
    "# Let's write a function that calculates means or medians (depending on your decision) based on your identified parameter\n",
    "\n",
    "teen_mean_days = credit_scoring[credit_scoring['age_categories'] == 'Teen']['days_employed'].mean()        \n",
    "twenties_mean_days = credit_scoring[credit_scoring['age_categories'] == '20\\'s']['days_employed'].mean()  \n",
    "thirties_mean_days = credit_scoring[credit_scoring['age_categories'] == '30\\'s']['days_employed'].mean()  \n",
    "forties_mean_days = credit_scoring[credit_scoring['age_categories'] == '40\\'s']['days_employed'].mean()  \n",
    "fifties_mean_days = credit_scoring[credit_scoring['age_categories'] == '50\\'s']['days_employed'].mean()  \n",
    "sixties_mean_days = credit_scoring[credit_scoring['age_categories'] == '60\\'s']['days_employed'].mean()  \n",
    "seventies_mean_days = credit_scoring[credit_scoring['age_categories'] == '70\\'s']['days_employed'].mean()  \n",
    "\n",
    "def mean_days (row):\n",
    "    if row['age_categories'] == 'Teen':\n",
    "        return teen_mean_days\n",
    "    if row['age_categories'] == '20\\'s':\n",
    "        return twenties_mean_days\n",
    "    if row['age_categories'] == '30\\'s':\n",
    "        return thirties_mean_days\n",
    "    if row['age_categories'] == '40\\'s':\n",
    "        return forties_mean_days\n",
    "    if row['age_categories'] == '50\\'s':\n",
    "        return fifties_mean_days\n",
    "    if row['age_categories'] == '60\\'s':\n",
    "        return sixties_mean_days\n",
    "    return seventies_mean_days    \n",
    "\n",
    "credit_scoring['mean_days'] = credit_scoring.apply(lambda row: mean_days(row), axis=1)\n",
    "\n",
    "credit_scoring['days_employed'].fillna(credit_scoring['mean_days'], inplace = True)"
   ]
  },
  {
   "cell_type": "code",
   "execution_count": 60,
   "metadata": {},
   "outputs": [
    {
     "data": {
      "text/html": [
       "<div>\n",
       "<style scoped>\n",
       "    .dataframe tbody tr th:only-of-type {\n",
       "        vertical-align: middle;\n",
       "    }\n",
       "\n",
       "    .dataframe tbody tr th {\n",
       "        vertical-align: top;\n",
       "    }\n",
       "\n",
       "    .dataframe thead th {\n",
       "        text-align: right;\n",
       "    }\n",
       "</style>\n",
       "<table border=\"1\" class=\"dataframe\">\n",
       "  <thead>\n",
       "    <tr style=\"text-align: right;\">\n",
       "      <th></th>\n",
       "      <th>children</th>\n",
       "      <th>days_employed</th>\n",
       "      <th>dob_years</th>\n",
       "      <th>education</th>\n",
       "      <th>education_id</th>\n",
       "      <th>family_status</th>\n",
       "      <th>family_status_id</th>\n",
       "      <th>gender</th>\n",
       "      <th>income_type</th>\n",
       "      <th>debt</th>\n",
       "      <th>total_income</th>\n",
       "      <th>purpose</th>\n",
       "      <th>income_categories</th>\n",
       "      <th>age_categories</th>\n",
       "      <th>median_income</th>\n",
       "      <th>mean_days</th>\n",
       "    </tr>\n",
       "  </thead>\n",
       "  <tbody>\n",
       "    <tr>\n",
       "      <td>0</td>\n",
       "      <td>1</td>\n",
       "      <td>8437.673028</td>\n",
       "      <td>42</td>\n",
       "      <td>bachelor's degree</td>\n",
       "      <td>0</td>\n",
       "      <td>married</td>\n",
       "      <td>0</td>\n",
       "      <td>F</td>\n",
       "      <td>employee</td>\n",
       "      <td>0</td>\n",
       "      <td>40620.102</td>\n",
       "      <td>purchase of the house</td>\n",
       "      <td>40-45k</td>\n",
       "      <td>40's</td>\n",
       "      <td>28054.5310</td>\n",
       "      <td>14227.668212</td>\n",
       "    </tr>\n",
       "    <tr>\n",
       "      <td>1</td>\n",
       "      <td>1</td>\n",
       "      <td>4024.803754</td>\n",
       "      <td>36</td>\n",
       "      <td>secondary education</td>\n",
       "      <td>1</td>\n",
       "      <td>married</td>\n",
       "      <td>0</td>\n",
       "      <td>F</td>\n",
       "      <td>employee</td>\n",
       "      <td>0</td>\n",
       "      <td>17932.802</td>\n",
       "      <td>car purchase</td>\n",
       "      <td>15-20k</td>\n",
       "      <td>30's</td>\n",
       "      <td>21836.5830</td>\n",
       "      <td>4411.185104</td>\n",
       "    </tr>\n",
       "    <tr>\n",
       "      <td>2</td>\n",
       "      <td>0</td>\n",
       "      <td>5623.422610</td>\n",
       "      <td>33</td>\n",
       "      <td>secondary education</td>\n",
       "      <td>1</td>\n",
       "      <td>married</td>\n",
       "      <td>0</td>\n",
       "      <td>M</td>\n",
       "      <td>employee</td>\n",
       "      <td>0</td>\n",
       "      <td>23341.752</td>\n",
       "      <td>purchase of the house</td>\n",
       "      <td>20-25k</td>\n",
       "      <td>30's</td>\n",
       "      <td>21836.5830</td>\n",
       "      <td>4411.185104</td>\n",
       "    </tr>\n",
       "    <tr>\n",
       "      <td>3</td>\n",
       "      <td>3</td>\n",
       "      <td>4124.747207</td>\n",
       "      <td>32</td>\n",
       "      <td>secondary education</td>\n",
       "      <td>1</td>\n",
       "      <td>married</td>\n",
       "      <td>0</td>\n",
       "      <td>M</td>\n",
       "      <td>employee</td>\n",
       "      <td>0</td>\n",
       "      <td>42820.568</td>\n",
       "      <td>supplementary education</td>\n",
       "      <td>40-45k</td>\n",
       "      <td>30's</td>\n",
       "      <td>21836.5830</td>\n",
       "      <td>4411.185104</td>\n",
       "    </tr>\n",
       "    <tr>\n",
       "      <td>4</td>\n",
       "      <td>0</td>\n",
       "      <td>340266.072047</td>\n",
       "      <td>53</td>\n",
       "      <td>secondary education</td>\n",
       "      <td>1</td>\n",
       "      <td>civil partnership</td>\n",
       "      <td>1</td>\n",
       "      <td>F</td>\n",
       "      <td>retiree</td>\n",
       "      <td>0</td>\n",
       "      <td>25378.572</td>\n",
       "      <td>to have a wedding</td>\n",
       "      <td>25-30k</td>\n",
       "      <td>50's</td>\n",
       "      <td>21836.5830</td>\n",
       "      <td>143178.856505</td>\n",
       "    </tr>\n",
       "    <tr>\n",
       "      <td>5</td>\n",
       "      <td>0</td>\n",
       "      <td>926.185831</td>\n",
       "      <td>27</td>\n",
       "      <td>bachelor's degree</td>\n",
       "      <td>0</td>\n",
       "      <td>civil partnership</td>\n",
       "      <td>1</td>\n",
       "      <td>M</td>\n",
       "      <td>business</td>\n",
       "      <td>0</td>\n",
       "      <td>40922.170</td>\n",
       "      <td>purchase of the house</td>\n",
       "      <td>40-45k</td>\n",
       "      <td>20's</td>\n",
       "      <td>28054.5310</td>\n",
       "      <td>2111.830222</td>\n",
       "    </tr>\n",
       "    <tr>\n",
       "      <td>6</td>\n",
       "      <td>0</td>\n",
       "      <td>2879.202052</td>\n",
       "      <td>43</td>\n",
       "      <td>bachelor's degree</td>\n",
       "      <td>0</td>\n",
       "      <td>married</td>\n",
       "      <td>0</td>\n",
       "      <td>F</td>\n",
       "      <td>business</td>\n",
       "      <td>0</td>\n",
       "      <td>38484.156</td>\n",
       "      <td>housing transactions</td>\n",
       "      <td>35-40k</td>\n",
       "      <td>40's</td>\n",
       "      <td>28054.5310</td>\n",
       "      <td>14227.668212</td>\n",
       "    </tr>\n",
       "    <tr>\n",
       "      <td>7</td>\n",
       "      <td>0</td>\n",
       "      <td>152.779569</td>\n",
       "      <td>50</td>\n",
       "      <td>secondary education</td>\n",
       "      <td>1</td>\n",
       "      <td>married</td>\n",
       "      <td>0</td>\n",
       "      <td>M</td>\n",
       "      <td>employee</td>\n",
       "      <td>0</td>\n",
       "      <td>21731.829</td>\n",
       "      <td>education</td>\n",
       "      <td>20-25k</td>\n",
       "      <td>70's</td>\n",
       "      <td>21836.5830</td>\n",
       "      <td>82809.857924</td>\n",
       "    </tr>\n",
       "    <tr>\n",
       "      <td>8</td>\n",
       "      <td>2</td>\n",
       "      <td>6929.865299</td>\n",
       "      <td>35</td>\n",
       "      <td>bachelor's degree</td>\n",
       "      <td>0</td>\n",
       "      <td>civil partnership</td>\n",
       "      <td>1</td>\n",
       "      <td>F</td>\n",
       "      <td>employee</td>\n",
       "      <td>0</td>\n",
       "      <td>15337.093</td>\n",
       "      <td>having a wedding</td>\n",
       "      <td>15-20k</td>\n",
       "      <td>30's</td>\n",
       "      <td>28054.5310</td>\n",
       "      <td>4411.185104</td>\n",
       "    </tr>\n",
       "    <tr>\n",
       "      <td>9</td>\n",
       "      <td>0</td>\n",
       "      <td>2188.756445</td>\n",
       "      <td>41</td>\n",
       "      <td>secondary education</td>\n",
       "      <td>1</td>\n",
       "      <td>married</td>\n",
       "      <td>0</td>\n",
       "      <td>M</td>\n",
       "      <td>employee</td>\n",
       "      <td>0</td>\n",
       "      <td>23108.150</td>\n",
       "      <td>purchase of the house for my family</td>\n",
       "      <td>20-25k</td>\n",
       "      <td>40's</td>\n",
       "      <td>21836.5830</td>\n",
       "      <td>14227.668212</td>\n",
       "    </tr>\n",
       "    <tr>\n",
       "      <td>10</td>\n",
       "      <td>2</td>\n",
       "      <td>4171.483647</td>\n",
       "      <td>36</td>\n",
       "      <td>bachelor's degree</td>\n",
       "      <td>0</td>\n",
       "      <td>married</td>\n",
       "      <td>0</td>\n",
       "      <td>M</td>\n",
       "      <td>business</td>\n",
       "      <td>0</td>\n",
       "      <td>18230.959</td>\n",
       "      <td>buy real estate</td>\n",
       "      <td>15-20k</td>\n",
       "      <td>30's</td>\n",
       "      <td>28054.5310</td>\n",
       "      <td>4411.185104</td>\n",
       "    </tr>\n",
       "    <tr>\n",
       "      <td>11</td>\n",
       "      <td>0</td>\n",
       "      <td>792.701887</td>\n",
       "      <td>40</td>\n",
       "      <td>secondary education</td>\n",
       "      <td>1</td>\n",
       "      <td>married</td>\n",
       "      <td>0</td>\n",
       "      <td>F</td>\n",
       "      <td>employee</td>\n",
       "      <td>0</td>\n",
       "      <td>12331.077</td>\n",
       "      <td>buy commercial real estate</td>\n",
       "      <td>10-15k</td>\n",
       "      <td>70's</td>\n",
       "      <td>21836.5830</td>\n",
       "      <td>82809.857924</td>\n",
       "    </tr>\n",
       "    <tr>\n",
       "      <td>12</td>\n",
       "      <td>0</td>\n",
       "      <td>287966.553964</td>\n",
       "      <td>65</td>\n",
       "      <td>secondary education</td>\n",
       "      <td>1</td>\n",
       "      <td>civil partnership</td>\n",
       "      <td>1</td>\n",
       "      <td>M</td>\n",
       "      <td>retiree</td>\n",
       "      <td>0</td>\n",
       "      <td>21836.583</td>\n",
       "      <td>to have a wedding</td>\n",
       "      <td>Over 60k</td>\n",
       "      <td>60's</td>\n",
       "      <td>21836.5830</td>\n",
       "      <td>287966.553964</td>\n",
       "    </tr>\n",
       "    <tr>\n",
       "      <td>13</td>\n",
       "      <td>0</td>\n",
       "      <td>1846.641941</td>\n",
       "      <td>54</td>\n",
       "      <td>some college</td>\n",
       "      <td>2</td>\n",
       "      <td>married</td>\n",
       "      <td>0</td>\n",
       "      <td>F</td>\n",
       "      <td>employee</td>\n",
       "      <td>0</td>\n",
       "      <td>20873.317</td>\n",
       "      <td>car purchase</td>\n",
       "      <td>20-25k</td>\n",
       "      <td>50's</td>\n",
       "      <td>25608.7945</td>\n",
       "      <td>143178.856505</td>\n",
       "    </tr>\n",
       "    <tr>\n",
       "      <td>14</td>\n",
       "      <td>0</td>\n",
       "      <td>1844.956182</td>\n",
       "      <td>56</td>\n",
       "      <td>bachelor's degree</td>\n",
       "      <td>0</td>\n",
       "      <td>civil partnership</td>\n",
       "      <td>1</td>\n",
       "      <td>F</td>\n",
       "      <td>business</td>\n",
       "      <td>1</td>\n",
       "      <td>26420.466</td>\n",
       "      <td>buy residential real estate</td>\n",
       "      <td>25-30k</td>\n",
       "      <td>50's</td>\n",
       "      <td>28054.5310</td>\n",
       "      <td>143178.856505</td>\n",
       "    </tr>\n",
       "  </tbody>\n",
       "</table>\n",
       "</div>"
      ],
      "text/plain": [
       "    children  days_employed  dob_years            education  education_id  \\\n",
       "0          1    8437.673028         42    bachelor's degree             0   \n",
       "1          1    4024.803754         36  secondary education             1   \n",
       "2          0    5623.422610         33  secondary education             1   \n",
       "3          3    4124.747207         32  secondary education             1   \n",
       "4          0  340266.072047         53  secondary education             1   \n",
       "5          0     926.185831         27    bachelor's degree             0   \n",
       "6          0    2879.202052         43    bachelor's degree             0   \n",
       "7          0     152.779569         50  secondary education             1   \n",
       "8          2    6929.865299         35    bachelor's degree             0   \n",
       "9          0    2188.756445         41  secondary education             1   \n",
       "10         2    4171.483647         36    bachelor's degree             0   \n",
       "11         0     792.701887         40  secondary education             1   \n",
       "12         0  287966.553964         65  secondary education             1   \n",
       "13         0    1846.641941         54         some college             2   \n",
       "14         0    1844.956182         56    bachelor's degree             0   \n",
       "\n",
       "        family_status  family_status_id gender income_type  debt  \\\n",
       "0             married                 0      F    employee     0   \n",
       "1             married                 0      F    employee     0   \n",
       "2             married                 0      M    employee     0   \n",
       "3             married                 0      M    employee     0   \n",
       "4   civil partnership                 1      F     retiree     0   \n",
       "5   civil partnership                 1      M    business     0   \n",
       "6             married                 0      F    business     0   \n",
       "7             married                 0      M    employee     0   \n",
       "8   civil partnership                 1      F    employee     0   \n",
       "9             married                 0      M    employee     0   \n",
       "10            married                 0      M    business     0   \n",
       "11            married                 0      F    employee     0   \n",
       "12  civil partnership                 1      M     retiree     0   \n",
       "13            married                 0      F    employee     0   \n",
       "14  civil partnership                 1      F    business     1   \n",
       "\n",
       "    total_income                              purpose income_categories  \\\n",
       "0      40620.102                purchase of the house            40-45k   \n",
       "1      17932.802                         car purchase            15-20k   \n",
       "2      23341.752                purchase of the house            20-25k   \n",
       "3      42820.568              supplementary education            40-45k   \n",
       "4      25378.572                    to have a wedding            25-30k   \n",
       "5      40922.170                purchase of the house            40-45k   \n",
       "6      38484.156                 housing transactions            35-40k   \n",
       "7      21731.829                            education            20-25k   \n",
       "8      15337.093                     having a wedding            15-20k   \n",
       "9      23108.150  purchase of the house for my family            20-25k   \n",
       "10     18230.959                      buy real estate            15-20k   \n",
       "11     12331.077           buy commercial real estate            10-15k   \n",
       "12     21836.583                    to have a wedding          Over 60k   \n",
       "13     20873.317                         car purchase            20-25k   \n",
       "14     26420.466          buy residential real estate            25-30k   \n",
       "\n",
       "   age_categories  median_income      mean_days  \n",
       "0            40's     28054.5310   14227.668212  \n",
       "1            30's     21836.5830    4411.185104  \n",
       "2            30's     21836.5830    4411.185104  \n",
       "3            30's     21836.5830    4411.185104  \n",
       "4            50's     21836.5830  143178.856505  \n",
       "5            20's     28054.5310    2111.830222  \n",
       "6            40's     28054.5310   14227.668212  \n",
       "7            70's     21836.5830   82809.857924  \n",
       "8            30's     28054.5310    4411.185104  \n",
       "9            40's     21836.5830   14227.668212  \n",
       "10           30's     28054.5310    4411.185104  \n",
       "11           70's     21836.5830   82809.857924  \n",
       "12           60's     21836.5830  287966.553964  \n",
       "13           50's     25608.7945  143178.856505  \n",
       "14           50's     28054.5310  143178.856505  "
      ]
     },
     "execution_count": 60,
     "metadata": {},
     "output_type": "execute_result"
    }
   ],
   "source": [
    "# Check that the function works\n",
    "\n",
    "credit_scoring.head(15)\n"
   ]
  },
  {
   "cell_type": "code",
   "execution_count": 61,
   "metadata": {},
   "outputs": [
    {
     "data": {
      "text/plain": [
       "wedding ceremony                            791\n",
       "having a wedding                            768\n",
       "to have a wedding                           765\n",
       "real estate transactions                    675\n",
       "buy commercial real estate                  661\n",
       "housing transactions                        652\n",
       "buying property for renting out             651\n",
       "transactions with commercial real estate    650\n",
       "purchase of the house                       646\n",
       "housing                                     646\n",
       "purchase of the house for my family         638\n",
       "construction of own property                635\n",
       "property                                    633\n",
       "transactions with my real estate            627\n",
       "building a real estate                      624\n",
       "purchase of my own house                    620\n",
       "buy real estate                             620\n",
       "building a property                         619\n",
       "housing renovation                          607\n",
       "buy residential real estate                 606\n",
       "buying my own car                           505\n",
       "going to university                         496\n",
       "car                                         494\n",
       "second-hand car purchase                    486\n",
       "buying a second-hand car                    478\n",
       "to own a car                                478\n",
       "cars                                        478\n",
       "to buy a car                                471\n",
       "car purchase                                461\n",
       "supplementary education                     460\n",
       "purchase of a car                           455\n",
       "university education                        452\n",
       "education                                   447\n",
       "to get a supplementary education            446\n",
       "getting an education                        442\n",
       "profile education                           436\n",
       "getting higher education                    426\n",
       "to become educated                          408\n",
       "Name: purpose, dtype: int64"
      ]
     },
     "execution_count": 61,
     "metadata": {},
     "output_type": "execute_result"
    }
   ],
   "source": [
    "# Apply function to the income_type\n",
    "\n",
    "credit_scoring['purpose'].value_counts()"
   ]
  },
  {
   "cell_type": "code",
   "execution_count": 62,
   "metadata": {},
   "outputs": [],
   "source": [
    "credit_scoring = credit_scoring.replace(dict.fromkeys(['wedding ceremony','having a wedding','to have a wedding'], 'Wedding'))\n",
    "credit_scoring = credit_scoring.replace(dict.fromkeys(['real estate transactions','buy commercial real estate','housing transactions','buying property for renting out','transactions with commercial real estate','housing','purchase of the house','purchase of the house for my family','construction of own property','property','transactions with my real estate','building a real estate','buy real estate','purchase of my own house','building a property','housing renovation','buy residential real estate'], 'Real Estate'))\n",
    "credit_scoring = credit_scoring.replace(dict.fromkeys(['going to university','supplementary education','university education','education','to get a supplementary education','getting an education','profile education','getting higher education','to become educated'], 'Education'))\n",
    "credit_scoring = credit_scoring.replace(dict.fromkeys(['buying my own car','car','second-hand car purchase','buying a second-hand car','to own a car','cars','to buy a car','car purchase','purchase of a car'], 'Car'))"
   ]
  },
  {
   "cell_type": "code",
   "execution_count": 63,
   "metadata": {},
   "outputs": [
    {
     "data": {
      "text/plain": [
       "Real Estate    10810\n",
       "Car             4306\n",
       "Education       4013\n",
       "Wedding         2324\n",
       "Name: purpose, dtype: int64"
      ]
     },
     "execution_count": 63,
     "metadata": {},
     "output_type": "execute_result"
    }
   ],
   "source": [
    "# Check if function worked\n",
    "credit_scoring['purpose'].value_counts()\n"
   ]
  },
  {
   "cell_type": "code",
   "execution_count": 64,
   "metadata": {},
   "outputs": [
    {
     "name": "stdout",
     "output_type": "stream",
     "text": [
      "<class 'pandas.core.frame.DataFrame'>\n",
      "RangeIndex: 21453 entries, 0 to 21452\n",
      "Data columns (total 16 columns):\n",
      "children             21453 non-null int64\n",
      "days_employed        21453 non-null float64\n",
      "dob_years            21453 non-null int64\n",
      "education            21453 non-null object\n",
      "education_id         21453 non-null int64\n",
      "family_status        21453 non-null object\n",
      "family_status_id     21453 non-null int64\n",
      "gender               21453 non-null object\n",
      "income_type          21453 non-null object\n",
      "debt                 21453 non-null int64\n",
      "total_income         21453 non-null float64\n",
      "purpose              21453 non-null object\n",
      "income_categories    21453 non-null object\n",
      "age_categories       21453 non-null object\n",
      "median_income        21453 non-null float64\n",
      "mean_days            21453 non-null float64\n",
      "dtypes: float64(4), int64(5), object(7)\n",
      "memory usage: 2.6+ MB\n"
     ]
    }
   ],
   "source": [
    "# Check the entries in all columns - make sure we fixed all missing values\n",
    "\n",
    "credit_scoring.info()"
   ]
  },
  {
   "cell_type": "markdown",
   "metadata": {},
   "source": [
    "All missing values have been addressed. Each column shows the same number of values (21453). "
   ]
  },
  {
   "cell_type": "markdown",
   "metadata": {},
   "source": [
    "## Checking the Hypotheses\n"
   ]
  },
  {
   "cell_type": "markdown",
   "metadata": {},
   "source": [
    "**Is there a correlation between having children and paying back on time?**"
   ]
  },
  {
   "cell_type": "code",
   "execution_count": 81,
   "metadata": {},
   "outputs": [
    {
     "data": {
      "text/plain": [
       "children  debt\n",
       "0         0        92.455642\n",
       "          1         7.544358\n",
       "1         0        90.834192\n",
       "          1         9.165808\n",
       "2         0        90.507519\n",
       "          1         9.492481\n",
       "3         0        91.818182\n",
       "          1         8.181818\n",
       "4         0        90.243902\n",
       "          1         9.756098\n",
       "5         0       100.000000\n",
       "Name: debt, dtype: float64"
      ]
     },
     "execution_count": 81,
     "metadata": {},
     "output_type": "execute_result"
    }
   ],
   "source": [
    "# Check the children data and paying back on time\n",
    "\n",
    "credit_scoring.groupby('children')['debt'].value_counts(normalize=True)*100\n",
    "\n",
    "# Calculating default-rate based on the number of children"
   ]
  },
  {
   "cell_type": "markdown",
   "metadata": {},
   "source": [
    "**Conclusion**\n",
    "\n",
    "Those without children are the least likely to default on a loan, with a 7.5% default rate. Although the data indicates that 100% of those with 5 children paid their loan on time, this is not necessarily a valid conclusion due to the small sample size of those with 5 children (9). Likelihood of defaulting on a loan typically increases as number of children increase, although the likelihood decreases slightly for those with 3 children."
   ]
  },
  {
   "cell_type": "markdown",
   "metadata": {},
   "source": [
    "**Is there a correlation between family status and paying back on time?**"
   ]
  },
  {
   "cell_type": "code",
   "execution_count": 80,
   "metadata": {},
   "outputs": [
    {
     "data": {
      "text/plain": [
       "family_status      debt\n",
       "civil partnership  0       90.650602\n",
       "                   1        9.349398\n",
       "divorced           0       92.887029\n",
       "                   1        7.112971\n",
       "married            0       92.454818\n",
       "                   1        7.545182\n",
       "unmarried          0       90.249110\n",
       "                   1        9.750890\n",
       "widow / widower    0       93.430657\n",
       "                   1        6.569343\n",
       "Name: debt, dtype: float64"
      ]
     },
     "execution_count": 80,
     "metadata": {},
     "output_type": "execute_result"
    }
   ],
   "source": [
    "# Check the family status data and paying back on time\n",
    "\n",
    "credit_scoring.groupby('family_status')['debt'].value_counts(normalize=True)*100\n",
    "\n",
    "# Calculating default-rate based on family status\n",
    "\n"
   ]
  },
  {
   "cell_type": "markdown",
   "metadata": {},
   "source": [
    "**Conclusion**\n",
    "\n",
    "Those that are unmarried are most likely to default on a loan (9.75%) while those that are widowers are least likely to default (6.5%)."
   ]
  },
  {
   "cell_type": "markdown",
   "metadata": {},
   "source": [
    "**Is there a correlation between income level and paying back on time?**"
   ]
  },
  {
   "cell_type": "code",
   "execution_count": 79,
   "metadata": {},
   "outputs": [
    {
     "data": {
      "text/plain": [
       "income_categories  debt\n",
       "0-5k               0       92.307692\n",
       "                   1        7.692308\n",
       "10-15k             0       91.480298\n",
       "                   1        8.519702\n",
       "15-20k             0       91.450634\n",
       "                   1        8.549366\n",
       "20-25k             0       91.476768\n",
       "                   1        8.523232\n",
       "25-30k             0       91.095380\n",
       "                   1        8.904620\n",
       "30-35k             0       92.108108\n",
       "                   1        7.891892\n",
       "35-40k             0       92.356688\n",
       "                   1        7.643312\n",
       "40-45k             0       93.494229\n",
       "                   1        6.505771\n",
       "45-50k             0       92.578850\n",
       "                   1        7.421150\n",
       "5-10k              0       93.777778\n",
       "                   1        6.222222\n",
       "50-55k             0       92.207792\n",
       "                   1        7.792208\n",
       "55-60k             0       90.874525\n",
       "                   1        9.125475\n",
       "Over 60k           0       92.504505\n",
       "                   1        7.495495\n",
       "Name: debt, dtype: float64"
      ]
     },
     "execution_count": 79,
     "metadata": {},
     "output_type": "execute_result"
    }
   ],
   "source": [
    "# Check the income level data and paying back on time\n",
    "\n",
    "credit_scoring.groupby('income_categories')['debt'].value_counts(normalize=True)*100\n",
    "\n",
    "# Calculating default-rate based on income level\n",
    "\n"
   ]
  },
  {
   "cell_type": "markdown",
   "metadata": {},
   "source": [
    "**Conclusion**\n",
    "\n",
    "Very low-income borrowers (0-10k) seem to have low rates of defaulting on loans. The likelihood of defaulting increases for those between 10-30k. Those making 30-55k and over 60k have similar likelihoods of defaulting. The highest chance of defaulting is for incomes between 55-60k (9.1%)."
   ]
  },
  {
   "cell_type": "markdown",
   "metadata": {},
   "source": [
    "**How does credit purpose affect the default rate?**"
   ]
  },
  {
   "cell_type": "code",
   "execution_count": 76,
   "metadata": {},
   "outputs": [
    {
     "data": {
      "text/plain": [
       "purpose      debt\n",
       "Car          0       90.640966\n",
       "             1        9.359034\n",
       "Education    0       90.779965\n",
       "             1        9.220035\n",
       "Real Estate  0       92.765957\n",
       "             1        7.234043\n",
       "Wedding      0       91.996558\n",
       "             1        8.003442\n",
       "Name: debt, dtype: float64"
      ]
     },
     "execution_count": 76,
     "metadata": {},
     "output_type": "execute_result"
    }
   ],
   "source": [
    "# Check the percentages for default rate for each credit purpose and analyze them\n",
    "credit_scoring.groupby('purpose')['debt'].value_counts(normalize=True)*100\n"
   ]
  },
  {
   "cell_type": "markdown",
   "metadata": {},
   "source": [
    "**Conclusion**\n",
    "\n",
    "According to this dataset, the two categories of purpose that are most likely to default on a loan are for car purchases (9.4%) and education (9.2%). Weddings and real estate purchases follow closely behind with default rates of 8.0% and 7.2% respectively. "
   ]
  },
  {
   "cell_type": "markdown",
   "metadata": {},
   "source": [
    "# General Conclusion \n",
    "\n",
    "To answer the primary concerns of this report, the marital status and number of children does have an impact on the likelihood of defaulting on a loan. Generally speaking, the likelihood of defaulting on a loan tends to increase with the number of children the borrower has. Additionally, unmarried borrowers are the most likely to default on a loan while widow/widowers are the least likely. Other factors that can affect the likelihood of defaulting a loan are the purpose of the loan and the income level of the borrower. Loans being used for car purchases have the highest chance of defaulting while those that are used for real estate purchases have the lowest chance. Furthermore, lowest income borrowers actually have the lowest likelihood of defaulting on a loan while those in the $55-60k category has the highest chance. \n",
    "\n",
    "There were many missing data points in the 'days_employed' and 'total_income' categories. The 'days_employed' values were replaced using the mean of all the values in a particular age range. Age was the chosen category in this situation due to the varying range of value when grouped by age. Mean value was used because there were no significant outliers. For total_income missing values were replaced based on the median values when grouped by education level. This category was also selected because of the high range of values when grouped by education. In this case, the median values were used as there were several significant outliers. \n",
    "\n",
    "There were also a sizeably portion of the data that were duplicates. These duplicates made up a relatively low percentage of the total data and they were dropped."
   ]
  }
 ],
 "metadata": {
  "ExecuteTimeLog": [
   {
    "duration": 2741,
    "start_time": "2021-10-21T01:08:49.480Z"
   },
   {
    "duration": 52,
    "start_time": "2021-10-21T01:08:53.315Z"
   },
   {
    "duration": 49,
    "start_time": "2021-10-21T01:08:57.432Z"
   },
   {
    "duration": 70,
    "start_time": "2021-10-21T01:09:07.706Z"
   },
   {
    "duration": 94,
    "start_time": "2022-02-14T21:12:21.297Z"
   },
   {
    "duration": 1102,
    "start_time": "2022-02-14T21:13:38.365Z"
   },
   {
    "duration": 61,
    "start_time": "2022-02-14T21:14:42.302Z"
   },
   {
    "duration": 60,
    "start_time": "2022-02-14T21:15:00.249Z"
   },
   {
    "duration": 55,
    "start_time": "2022-02-14T21:35:06.962Z"
   },
   {
    "duration": 15,
    "start_time": "2022-02-14T21:36:57.864Z"
   },
   {
    "duration": 18,
    "start_time": "2022-02-14T21:37:28.708Z"
   },
   {
    "duration": 22,
    "start_time": "2022-02-14T21:37:44.414Z"
   },
   {
    "duration": 29,
    "start_time": "2022-02-14T21:38:45.488Z"
   },
   {
    "duration": 49,
    "start_time": "2022-02-14T21:41:47.068Z"
   },
   {
    "duration": 14,
    "start_time": "2022-02-14T22:11:34.589Z"
   },
   {
    "duration": 46,
    "start_time": "2022-02-14T22:16:03.331Z"
   },
   {
    "duration": 799,
    "start_time": "2022-02-16T19:08:16.240Z"
   },
   {
    "duration": 15,
    "start_time": "2022-02-16T19:08:17.042Z"
   },
   {
    "duration": 41,
    "start_time": "2022-02-16T19:08:17.060Z"
   },
   {
    "duration": 67,
    "start_time": "2022-02-16T19:08:17.103Z"
   },
   {
    "duration": 2,
    "start_time": "2022-02-16T19:08:17.173Z"
   },
   {
    "duration": 7,
    "start_time": "2022-02-16T19:08:17.178Z"
   },
   {
    "duration": 5,
    "start_time": "2022-02-16T19:08:17.187Z"
   },
   {
    "duration": 4,
    "start_time": "2022-02-16T19:08:17.196Z"
   },
   {
    "duration": 3,
    "start_time": "2022-02-16T19:08:17.231Z"
   },
   {
    "duration": 6,
    "start_time": "2022-02-16T19:08:17.236Z"
   },
   {
    "duration": 5,
    "start_time": "2022-02-16T19:08:17.245Z"
   },
   {
    "duration": 5,
    "start_time": "2022-02-16T19:08:17.253Z"
   },
   {
    "duration": 5,
    "start_time": "2022-02-16T19:08:17.261Z"
   },
   {
    "duration": 6,
    "start_time": "2022-02-16T19:08:17.268Z"
   },
   {
    "duration": 6,
    "start_time": "2022-02-16T19:08:17.276Z"
   },
   {
    "duration": 6,
    "start_time": "2022-02-16T19:08:17.285Z"
   },
   {
    "duration": 8,
    "start_time": "2022-02-16T19:08:17.293Z"
   },
   {
    "duration": 3,
    "start_time": "2022-02-16T19:08:17.333Z"
   },
   {
    "duration": 11,
    "start_time": "2022-02-16T19:08:17.338Z"
   },
   {
    "duration": 8,
    "start_time": "2022-02-16T19:08:17.352Z"
   },
   {
    "duration": 5,
    "start_time": "2022-02-16T19:08:17.362Z"
   },
   {
    "duration": 5,
    "start_time": "2022-02-16T19:08:17.369Z"
   },
   {
    "duration": 3,
    "start_time": "2022-02-16T19:08:17.381Z"
   },
   {
    "duration": 4,
    "start_time": "2022-02-16T19:08:17.388Z"
   },
   {
    "duration": 4,
    "start_time": "2022-02-16T19:08:17.394Z"
   },
   {
    "duration": 8,
    "start_time": "2022-02-16T19:08:17.433Z"
   },
   {
    "duration": 6,
    "start_time": "2022-02-16T19:08:17.443Z"
   },
   {
    "duration": 6,
    "start_time": "2022-02-16T19:08:17.451Z"
   },
   {
    "duration": 5,
    "start_time": "2022-02-16T19:08:17.459Z"
   },
   {
    "duration": 6,
    "start_time": "2022-02-16T19:08:17.466Z"
   },
   {
    "duration": 8,
    "start_time": "2022-02-16T19:08:17.474Z"
   },
   {
    "duration": 5,
    "start_time": "2022-02-16T19:08:17.484Z"
   },
   {
    "duration": 41,
    "start_time": "2022-02-16T19:08:17.491Z"
   },
   {
    "duration": 6,
    "start_time": "2022-02-16T19:08:17.534Z"
   },
   {
    "duration": 6,
    "start_time": "2022-02-16T19:08:17.542Z"
   },
   {
    "duration": 10,
    "start_time": "2022-02-16T19:08:17.551Z"
   },
   {
    "duration": 6,
    "start_time": "2022-02-16T19:08:17.563Z"
   },
   {
    "duration": 6,
    "start_time": "2022-02-16T19:08:17.571Z"
   },
   {
    "duration": 8,
    "start_time": "2022-02-16T19:08:17.579Z"
   },
   {
    "duration": 8,
    "start_time": "2022-02-16T19:08:17.589Z"
   },
   {
    "duration": 6,
    "start_time": "2022-02-16T19:08:17.599Z"
   },
   {
    "duration": 26,
    "start_time": "2022-02-16T19:08:17.608Z"
   },
   {
    "duration": 6,
    "start_time": "2022-02-16T19:08:17.636Z"
   },
   {
    "duration": 6,
    "start_time": "2022-02-16T19:08:17.644Z"
   },
   {
    "duration": 9,
    "start_time": "2022-02-16T19:08:17.652Z"
   },
   {
    "duration": 7,
    "start_time": "2022-02-16T19:08:17.663Z"
   },
   {
    "duration": 5,
    "start_time": "2022-02-16T19:08:17.672Z"
   },
   {
    "duration": 5,
    "start_time": "2022-02-16T19:08:17.679Z"
   },
   {
    "duration": 5,
    "start_time": "2022-02-16T19:08:17.686Z"
   },
   {
    "duration": 6,
    "start_time": "2022-02-16T19:08:17.693Z"
   },
   {
    "duration": 3,
    "start_time": "2022-02-16T19:08:17.732Z"
   },
   {
    "duration": 7,
    "start_time": "2022-02-16T19:08:17.737Z"
   },
   {
    "duration": 8,
    "start_time": "2022-02-16T19:08:17.747Z"
   },
   {
    "duration": 5,
    "start_time": "2022-02-16T19:08:17.758Z"
   },
   {
    "duration": 5,
    "start_time": "2022-02-16T19:08:17.766Z"
   },
   {
    "duration": 5,
    "start_time": "2022-02-16T19:08:17.774Z"
   },
   {
    "duration": 7,
    "start_time": "2022-02-16T19:08:17.782Z"
   },
   {
    "duration": 5,
    "start_time": "2022-02-16T19:08:17.791Z"
   },
   {
    "duration": 34,
    "start_time": "2022-02-16T19:08:17.798Z"
   },
   {
    "duration": 8,
    "start_time": "2022-02-16T19:08:17.834Z"
   },
   {
    "duration": 8,
    "start_time": "2022-02-16T19:08:17.845Z"
   },
   {
    "duration": 7,
    "start_time": "2022-02-16T19:08:17.855Z"
   },
   {
    "duration": 5,
    "start_time": "2022-02-16T19:08:17.864Z"
   },
   {
    "duration": 6,
    "start_time": "2022-02-16T19:08:17.871Z"
   },
   {
    "duration": 7,
    "start_time": "2022-02-16T19:08:17.879Z"
   },
   {
    "duration": 7,
    "start_time": "2022-02-16T19:08:17.888Z"
   },
   {
    "duration": 6,
    "start_time": "2022-02-16T19:08:17.897Z"
   },
   {
    "duration": 2,
    "start_time": "2022-02-16T19:08:17.935Z"
   },
   {
    "duration": 6,
    "start_time": "2022-02-16T19:08:17.940Z"
   },
   {
    "duration": 7,
    "start_time": "2022-02-16T19:08:17.948Z"
   },
   {
    "duration": 6,
    "start_time": "2022-02-16T19:08:17.957Z"
   },
   {
    "duration": 347,
    "start_time": "2022-02-16T20:21:08.167Z"
   },
   {
    "duration": 49,
    "start_time": "2022-02-16T20:21:36.192Z"
   },
   {
    "duration": 13,
    "start_time": "2022-02-16T20:22:01.919Z"
   },
   {
    "duration": 6288,
    "start_time": "2022-02-16T20:33:20.129Z"
   },
   {
    "duration": 227,
    "start_time": "2022-02-16T20:33:53.593Z"
   },
   {
    "duration": 6301,
    "start_time": "2022-02-16T20:34:17.384Z"
   },
   {
    "duration": 17,
    "start_time": "2022-02-16T20:41:41.666Z"
   },
   {
    "duration": 14,
    "start_time": "2022-02-16T20:41:52.911Z"
   },
   {
    "duration": 11,
    "start_time": "2022-02-16T20:42:31.862Z"
   },
   {
    "duration": 14,
    "start_time": "2022-02-16T21:16:10.081Z"
   },
   {
    "duration": 19,
    "start_time": "2022-02-16T21:16:35.577Z"
   },
   {
    "duration": 10,
    "start_time": "2022-02-16T21:21:42.000Z"
   },
   {
    "duration": 16,
    "start_time": "2022-02-16T21:22:51.112Z"
   },
   {
    "duration": 13,
    "start_time": "2022-02-16T21:23:20.769Z"
   },
   {
    "duration": 13,
    "start_time": "2022-02-16T21:29:40.180Z"
   },
   {
    "duration": 25,
    "start_time": "2022-02-16T21:49:36.199Z"
   },
   {
    "duration": 28,
    "start_time": "2022-02-16T21:51:09.885Z"
   },
   {
    "duration": 25,
    "start_time": "2022-02-16T21:52:58.088Z"
   },
   {
    "duration": 46,
    "start_time": "2022-02-16T21:53:29.199Z"
   },
   {
    "duration": 25,
    "start_time": "2022-02-16T21:57:01.191Z"
   },
   {
    "duration": 26,
    "start_time": "2022-02-16T22:05:37.365Z"
   },
   {
    "duration": 25,
    "start_time": "2022-02-16T22:08:22.759Z"
   },
   {
    "duration": 13,
    "start_time": "2022-02-16T22:08:45.191Z"
   },
   {
    "duration": 242,
    "start_time": "2022-02-17T03:15:43.556Z"
   },
   {
    "duration": 606,
    "start_time": "2022-02-17T03:15:51.022Z"
   },
   {
    "duration": 40,
    "start_time": "2022-02-17T03:15:51.630Z"
   },
   {
    "duration": 19,
    "start_time": "2022-02-17T03:15:51.673Z"
   },
   {
    "duration": 13,
    "start_time": "2022-02-17T03:15:51.694Z"
   },
   {
    "duration": 8,
    "start_time": "2022-02-17T03:15:51.709Z"
   },
   {
    "duration": 8,
    "start_time": "2022-02-17T03:15:51.719Z"
   },
   {
    "duration": 2,
    "start_time": "2022-02-17T03:15:51.760Z"
   },
   {
    "duration": 8,
    "start_time": "2022-02-17T03:15:51.764Z"
   },
   {
    "duration": 5,
    "start_time": "2022-02-17T03:15:51.775Z"
   },
   {
    "duration": 6,
    "start_time": "2022-02-17T03:15:51.782Z"
   },
   {
    "duration": 8,
    "start_time": "2022-02-17T03:15:51.789Z"
   },
   {
    "duration": 5,
    "start_time": "2022-02-17T03:15:51.798Z"
   },
   {
    "duration": 4,
    "start_time": "2022-02-17T03:15:51.805Z"
   },
   {
    "duration": 5,
    "start_time": "2022-02-17T03:15:51.811Z"
   },
   {
    "duration": 6,
    "start_time": "2022-02-17T03:15:51.817Z"
   },
   {
    "duration": 5,
    "start_time": "2022-02-17T03:15:51.824Z"
   },
   {
    "duration": 5,
    "start_time": "2022-02-17T03:15:51.831Z"
   },
   {
    "duration": 21,
    "start_time": "2022-02-17T03:15:51.838Z"
   },
   {
    "duration": 9,
    "start_time": "2022-02-17T03:15:51.861Z"
   },
   {
    "duration": 5,
    "start_time": "2022-02-17T03:15:51.872Z"
   },
   {
    "duration": 6,
    "start_time": "2022-02-17T03:15:51.879Z"
   },
   {
    "duration": 6,
    "start_time": "2022-02-17T03:15:51.886Z"
   },
   {
    "duration": 6,
    "start_time": "2022-02-17T03:15:51.893Z"
   },
   {
    "duration": 13,
    "start_time": "2022-02-17T03:15:51.900Z"
   },
   {
    "duration": 5,
    "start_time": "2022-02-17T03:15:51.914Z"
   },
   {
    "duration": 4,
    "start_time": "2022-02-17T03:15:51.921Z"
   },
   {
    "duration": 3,
    "start_time": "2022-02-17T03:15:51.928Z"
   },
   {
    "duration": 5,
    "start_time": "2022-02-17T03:15:51.933Z"
   },
   {
    "duration": 8,
    "start_time": "2022-02-17T03:15:51.939Z"
   },
   {
    "duration": 10,
    "start_time": "2022-02-17T03:15:51.949Z"
   },
   {
    "duration": 6,
    "start_time": "2022-02-17T03:15:51.960Z"
   },
   {
    "duration": 5,
    "start_time": "2022-02-17T03:15:51.967Z"
   },
   {
    "duration": 7,
    "start_time": "2022-02-17T03:15:51.974Z"
   },
   {
    "duration": 5,
    "start_time": "2022-02-17T03:15:51.983Z"
   },
   {
    "duration": 5,
    "start_time": "2022-02-17T03:15:51.990Z"
   },
   {
    "duration": 5,
    "start_time": "2022-02-17T03:15:51.997Z"
   },
   {
    "duration": 8,
    "start_time": "2022-02-17T03:15:52.003Z"
   },
   {
    "duration": 8,
    "start_time": "2022-02-17T03:15:52.012Z"
   },
   {
    "duration": 5,
    "start_time": "2022-02-17T03:15:52.022Z"
   },
   {
    "duration": 5,
    "start_time": "2022-02-17T03:15:52.029Z"
   },
   {
    "duration": 6,
    "start_time": "2022-02-17T03:15:52.035Z"
   },
   {
    "duration": 6,
    "start_time": "2022-02-17T03:15:52.043Z"
   },
   {
    "duration": 2,
    "start_time": "2022-02-17T03:15:52.059Z"
   },
   {
    "duration": 7,
    "start_time": "2022-02-17T03:15:52.063Z"
   },
   {
    "duration": 5,
    "start_time": "2022-02-17T03:15:52.072Z"
   },
   {
    "duration": 5,
    "start_time": "2022-02-17T03:15:52.079Z"
   },
   {
    "duration": 5,
    "start_time": "2022-02-17T03:15:52.086Z"
   },
   {
    "duration": 5,
    "start_time": "2022-02-17T03:15:52.093Z"
   },
   {
    "duration": 6,
    "start_time": "2022-02-17T03:15:52.099Z"
   },
   {
    "duration": 7,
    "start_time": "2022-02-17T03:15:52.106Z"
   },
   {
    "duration": 4,
    "start_time": "2022-02-17T03:15:52.115Z"
   },
   {
    "duration": 6,
    "start_time": "2022-02-17T03:15:52.121Z"
   },
   {
    "duration": 10,
    "start_time": "2022-02-17T03:15:52.128Z"
   },
   {
    "duration": 6,
    "start_time": "2022-02-17T03:15:52.139Z"
   },
   {
    "duration": 2,
    "start_time": "2022-02-17T03:15:52.160Z"
   },
   {
    "duration": 5,
    "start_time": "2022-02-17T03:15:52.164Z"
   },
   {
    "duration": 9,
    "start_time": "2022-02-17T03:15:52.171Z"
   },
   {
    "duration": 6,
    "start_time": "2022-02-17T03:15:52.182Z"
   },
   {
    "duration": 7,
    "start_time": "2022-02-17T03:15:52.190Z"
   },
   {
    "duration": 9,
    "start_time": "2022-02-17T03:15:52.198Z"
   },
   {
    "duration": 12,
    "start_time": "2022-02-17T03:15:52.208Z"
   },
   {
    "duration": 8,
    "start_time": "2022-02-17T03:15:52.222Z"
   },
   {
    "duration": 14,
    "start_time": "2022-02-17T03:15:52.232Z"
   },
   {
    "duration": 18,
    "start_time": "2022-02-17T03:15:52.248Z"
   },
   {
    "duration": 6,
    "start_time": "2022-02-17T03:15:52.268Z"
   },
   {
    "duration": 12,
    "start_time": "2022-02-17T03:15:52.276Z"
   },
   {
    "duration": 7,
    "start_time": "2022-02-17T03:15:52.290Z"
   },
   {
    "duration": 15,
    "start_time": "2022-02-17T03:15:52.299Z"
   },
   {
    "duration": 8,
    "start_time": "2022-02-17T03:15:52.316Z"
   },
   {
    "duration": 5,
    "start_time": "2022-02-17T03:15:52.326Z"
   },
   {
    "duration": 6,
    "start_time": "2022-02-17T03:15:52.332Z"
   },
   {
    "duration": 10,
    "start_time": "2022-02-17T03:16:55.850Z"
   },
   {
    "duration": 12,
    "start_time": "2022-02-17T03:43:21.166Z"
   },
   {
    "duration": 3,
    "start_time": "2022-02-17T03:55:47.018Z"
   },
   {
    "duration": 11,
    "start_time": "2022-02-17T03:55:52.563Z"
   },
   {
    "duration": 199,
    "start_time": "2022-02-17T04:09:18.724Z"
   },
   {
    "duration": 171,
    "start_time": "2022-02-17T04:09:43.303Z"
   },
   {
    "duration": 8,
    "start_time": "2022-02-17T04:10:15.235Z"
   },
   {
    "duration": 11,
    "start_time": "2022-02-17T04:12:14.186Z"
   },
   {
    "duration": 58,
    "start_time": "2022-02-17T04:12:42.583Z"
   },
   {
    "duration": 8,
    "start_time": "2022-02-17T04:12:51.916Z"
   },
   {
    "duration": 6,
    "start_time": "2022-02-17T04:18:25.054Z"
   },
   {
    "duration": 183,
    "start_time": "2022-02-17T04:28:21.464Z"
   },
   {
    "duration": 181,
    "start_time": "2022-02-17T04:28:49.626Z"
   },
   {
    "duration": 790,
    "start_time": "2022-02-17T15:42:13.989Z"
   },
   {
    "duration": 77,
    "start_time": "2022-02-17T15:42:14.782Z"
   },
   {
    "duration": 30,
    "start_time": "2022-02-17T15:42:14.863Z"
   },
   {
    "duration": 26,
    "start_time": "2022-02-17T15:42:14.896Z"
   },
   {
    "duration": 28,
    "start_time": "2022-02-17T15:42:14.925Z"
   },
   {
    "duration": 31,
    "start_time": "2022-02-17T15:42:14.956Z"
   },
   {
    "duration": 21,
    "start_time": "2022-02-17T15:42:14.989Z"
   },
   {
    "duration": 46,
    "start_time": "2022-02-17T15:42:15.014Z"
   },
   {
    "duration": 15,
    "start_time": "2022-02-17T15:42:15.063Z"
   },
   {
    "duration": 20,
    "start_time": "2022-02-17T15:42:15.080Z"
   },
   {
    "duration": 13,
    "start_time": "2022-02-17T15:42:15.102Z"
   },
   {
    "duration": 40,
    "start_time": "2022-02-17T15:42:15.118Z"
   },
   {
    "duration": 27,
    "start_time": "2022-02-17T15:42:15.161Z"
   },
   {
    "duration": 25,
    "start_time": "2022-02-17T15:42:15.190Z"
   },
   {
    "duration": 13,
    "start_time": "2022-02-17T15:42:15.217Z"
   },
   {
    "duration": 469,
    "start_time": "2022-02-17T15:42:15.232Z"
   },
   {
    "duration": -91,
    "start_time": "2022-02-17T15:42:15.798Z"
   },
   {
    "duration": -111,
    "start_time": "2022-02-17T15:42:15.820Z"
   },
   {
    "duration": -112,
    "start_time": "2022-02-17T15:42:15.823Z"
   },
   {
    "duration": -240,
    "start_time": "2022-02-17T15:42:15.954Z"
   },
   {
    "duration": -242,
    "start_time": "2022-02-17T15:42:15.958Z"
   },
   {
    "duration": -242,
    "start_time": "2022-02-17T15:42:15.961Z"
   },
   {
    "duration": -244,
    "start_time": "2022-02-17T15:42:15.965Z"
   },
   {
    "duration": -244,
    "start_time": "2022-02-17T15:42:15.967Z"
   },
   {
    "duration": -244,
    "start_time": "2022-02-17T15:42:15.970Z"
   },
   {
    "duration": -246,
    "start_time": "2022-02-17T15:42:15.974Z"
   },
   {
    "duration": -248,
    "start_time": "2022-02-17T15:42:15.977Z"
   },
   {
    "duration": -248,
    "start_time": "2022-02-17T15:42:15.979Z"
   },
   {
    "duration": -250,
    "start_time": "2022-02-17T15:42:15.982Z"
   },
   {
    "duration": -251,
    "start_time": "2022-02-17T15:42:15.985Z"
   },
   {
    "duration": -252,
    "start_time": "2022-02-17T15:42:15.987Z"
   },
   {
    "duration": -254,
    "start_time": "2022-02-17T15:42:15.990Z"
   },
   {
    "duration": -255,
    "start_time": "2022-02-17T15:42:15.993Z"
   },
   {
    "duration": -256,
    "start_time": "2022-02-17T15:42:15.995Z"
   },
   {
    "duration": -250,
    "start_time": "2022-02-17T15:42:15.998Z"
   },
   {
    "duration": -250,
    "start_time": "2022-02-17T15:42:16.000Z"
   },
   {
    "duration": -251,
    "start_time": "2022-02-17T15:42:16.002Z"
   },
   {
    "duration": -252,
    "start_time": "2022-02-17T15:42:16.004Z"
   },
   {
    "duration": -253,
    "start_time": "2022-02-17T15:42:16.007Z"
   },
   {
    "duration": -253,
    "start_time": "2022-02-17T15:42:16.009Z"
   },
   {
    "duration": -255,
    "start_time": "2022-02-17T15:42:16.012Z"
   },
   {
    "duration": -252,
    "start_time": "2022-02-17T15:42:16.014Z"
   },
   {
    "duration": -253,
    "start_time": "2022-02-17T15:42:16.017Z"
   },
   {
    "duration": -252,
    "start_time": "2022-02-17T15:42:16.019Z"
   },
   {
    "duration": -253,
    "start_time": "2022-02-17T15:42:16.022Z"
   },
   {
    "duration": -254,
    "start_time": "2022-02-17T15:42:16.025Z"
   },
   {
    "duration": -263,
    "start_time": "2022-02-17T15:42:16.036Z"
   },
   {
    "duration": -260,
    "start_time": "2022-02-17T15:42:16.040Z"
   },
   {
    "duration": -260,
    "start_time": "2022-02-17T15:42:16.043Z"
   },
   {
    "duration": -261,
    "start_time": "2022-02-17T15:42:16.046Z"
   },
   {
    "duration": -261,
    "start_time": "2022-02-17T15:42:16.048Z"
   },
   {
    "duration": -261,
    "start_time": "2022-02-17T15:42:16.051Z"
   },
   {
    "duration": -273,
    "start_time": "2022-02-17T15:42:16.065Z"
   },
   {
    "duration": -219,
    "start_time": "2022-02-17T15:42:16.068Z"
   },
   {
    "duration": -219,
    "start_time": "2022-02-17T15:42:16.070Z"
   },
   {
    "duration": -221,
    "start_time": "2022-02-17T15:42:16.074Z"
   },
   {
    "duration": -227,
    "start_time": "2022-02-17T15:42:16.083Z"
   },
   {
    "duration": -229,
    "start_time": "2022-02-17T15:42:16.087Z"
   },
   {
    "duration": -230,
    "start_time": "2022-02-17T15:42:16.090Z"
   },
   {
    "duration": -238,
    "start_time": "2022-02-17T15:42:16.100Z"
   },
   {
    "duration": -239,
    "start_time": "2022-02-17T15:42:16.103Z"
   },
   {
    "duration": -239,
    "start_time": "2022-02-17T15:42:16.106Z"
   },
   {
    "duration": -246,
    "start_time": "2022-02-17T15:42:16.116Z"
   },
   {
    "duration": -247,
    "start_time": "2022-02-17T15:42:16.119Z"
   },
   {
    "duration": -248,
    "start_time": "2022-02-17T15:42:16.122Z"
   },
   {
    "duration": -248,
    "start_time": "2022-02-17T15:42:16.125Z"
   },
   {
    "duration": -250,
    "start_time": "2022-02-17T15:42:16.129Z"
   },
   {
    "duration": -252,
    "start_time": "2022-02-17T15:42:16.133Z"
   },
   {
    "duration": -253,
    "start_time": "2022-02-17T15:42:16.136Z"
   },
   {
    "duration": -254,
    "start_time": "2022-02-17T15:42:16.139Z"
   },
   {
    "duration": -195,
    "start_time": "2022-02-17T15:42:16.142Z"
   },
   {
    "duration": 318,
    "start_time": "2022-02-17T15:44:47.731Z"
   },
   {
    "duration": 432,
    "start_time": "2022-02-17T16:05:49.771Z"
   },
   {
    "duration": 93,
    "start_time": "2022-02-17T16:13:25.234Z"
   },
   {
    "duration": 301,
    "start_time": "2022-02-17T16:13:34.968Z"
   },
   {
    "duration": 6,
    "start_time": "2022-02-17T16:24:12.373Z"
   },
   {
    "duration": 9,
    "start_time": "2022-02-17T16:24:45.849Z"
   },
   {
    "duration": 13,
    "start_time": "2022-02-17T17:16:26.294Z"
   },
   {
    "duration": 6,
    "start_time": "2022-02-17T17:16:58.808Z"
   },
   {
    "duration": 6,
    "start_time": "2022-02-17T17:17:11.622Z"
   },
   {
    "duration": 7,
    "start_time": "2022-02-17T17:17:34.909Z"
   },
   {
    "duration": 14,
    "start_time": "2022-02-17T17:26:53.682Z"
   },
   {
    "duration": 301,
    "start_time": "2022-02-17T17:27:21.497Z"
   },
   {
    "duration": 11,
    "start_time": "2022-02-17T17:27:36.481Z"
   },
   {
    "duration": 315,
    "start_time": "2022-02-17T17:56:43.198Z"
   },
   {
    "duration": 327,
    "start_time": "2022-02-17T17:58:35.505Z"
   },
   {
    "duration": 8,
    "start_time": "2022-02-17T18:02:11.095Z"
   },
   {
    "duration": 5,
    "start_time": "2022-02-17T18:33:36.905Z"
   },
   {
    "duration": 7,
    "start_time": "2022-02-17T18:34:09.557Z"
   },
   {
    "duration": 303,
    "start_time": "2022-02-17T18:52:41.621Z"
   },
   {
    "duration": 316,
    "start_time": "2022-02-17T18:54:24.980Z"
   },
   {
    "duration": 45,
    "start_time": "2022-02-17T18:55:30.149Z"
   },
   {
    "duration": 5,
    "start_time": "2022-02-17T18:55:48.077Z"
   },
   {
    "duration": 43,
    "start_time": "2022-02-17T18:55:53.866Z"
   },
   {
    "duration": 8,
    "start_time": "2022-02-17T18:56:02.329Z"
   },
   {
    "duration": 10,
    "start_time": "2022-02-17T18:57:12.251Z"
   },
   {
    "duration": 9,
    "start_time": "2022-02-17T18:57:18.875Z"
   },
   {
    "duration": 6,
    "start_time": "2022-02-17T18:57:47.499Z"
   },
   {
    "duration": 7,
    "start_time": "2022-02-17T18:57:52.690Z"
   },
   {
    "duration": 7,
    "start_time": "2022-02-17T18:58:31.705Z"
   },
   {
    "duration": 8,
    "start_time": "2022-02-17T18:58:33.822Z"
   },
   {
    "duration": 339,
    "start_time": "2022-02-17T19:52:10.351Z"
   },
   {
    "duration": 11,
    "start_time": "2022-02-17T19:52:17.564Z"
   },
   {
    "duration": 16,
    "start_time": "2022-02-17T19:52:52.444Z"
   },
   {
    "duration": 11,
    "start_time": "2022-02-17T20:01:29.274Z"
   },
   {
    "duration": 25,
    "start_time": "2022-02-17T20:03:16.556Z"
   },
   {
    "duration": 310,
    "start_time": "2022-02-17T20:05:36.817Z"
   },
   {
    "duration": 11,
    "start_time": "2022-02-17T20:09:12.635Z"
   },
   {
    "duration": 15,
    "start_time": "2022-02-17T20:09:24.587Z"
   },
   {
    "duration": 6,
    "start_time": "2022-02-17T20:28:46.105Z"
   },
   {
    "duration": 6,
    "start_time": "2022-02-17T20:29:18.520Z"
   },
   {
    "duration": 354,
    "start_time": "2022-02-17T20:29:40.017Z"
   },
   {
    "duration": 6,
    "start_time": "2022-02-17T20:59:26.896Z"
   },
   {
    "duration": 7,
    "start_time": "2022-02-17T20:59:59.377Z"
   },
   {
    "duration": 8,
    "start_time": "2022-02-17T21:04:05.633Z"
   },
   {
    "duration": 11,
    "start_time": "2022-02-17T21:04:45.609Z"
   },
   {
    "duration": 9,
    "start_time": "2022-02-17T21:09:19.798Z"
   },
   {
    "duration": 10,
    "start_time": "2022-02-17T21:12:51.441Z"
   },
   {
    "duration": 10,
    "start_time": "2022-02-17T21:16:39.736Z"
   },
   {
    "duration": 10,
    "start_time": "2022-02-17T21:17:25.928Z"
   },
   {
    "duration": 27,
    "start_time": "2022-02-17T21:33:45.039Z"
   },
   {
    "duration": 24,
    "start_time": "2022-02-17T21:50:25.735Z"
   },
   {
    "duration": 49,
    "start_time": "2022-02-18T01:46:12.352Z"
   },
   {
    "duration": 71,
    "start_time": "2022-02-18T01:46:12.404Z"
   },
   {
    "duration": 32,
    "start_time": "2022-02-18T01:46:12.478Z"
   },
   {
    "duration": 19,
    "start_time": "2022-02-18T01:46:12.549Z"
   },
   {
    "duration": 17,
    "start_time": "2022-02-18T01:46:12.572Z"
   },
   {
    "duration": 62,
    "start_time": "2022-02-18T01:46:12.592Z"
   },
   {
    "duration": 4,
    "start_time": "2022-02-18T01:46:12.657Z"
   },
   {
    "duration": 17,
    "start_time": "2022-02-18T01:46:12.664Z"
   },
   {
    "duration": 3,
    "start_time": "2022-02-18T01:46:12.687Z"
   },
   {
    "duration": 4,
    "start_time": "2022-02-18T01:46:12.695Z"
   },
   {
    "duration": 3,
    "start_time": "2022-02-18T01:46:12.749Z"
   },
   {
    "duration": 15,
    "start_time": "2022-02-18T01:46:12.755Z"
   },
   {
    "duration": 15,
    "start_time": "2022-02-18T01:46:12.772Z"
   },
   {
    "duration": 10,
    "start_time": "2022-02-18T01:46:12.789Z"
   },
   {
    "duration": 53,
    "start_time": "2022-02-18T01:46:12.802Z"
   },
   {
    "duration": 5,
    "start_time": "2022-02-18T01:46:12.858Z"
   },
   {
    "duration": 9,
    "start_time": "2022-02-18T01:46:12.865Z"
   },
   {
    "duration": 14,
    "start_time": "2022-02-18T01:46:12.876Z"
   },
   {
    "duration": 56,
    "start_time": "2022-02-18T01:46:12.893Z"
   },
   {
    "duration": 7,
    "start_time": "2022-02-18T01:46:12.951Z"
   },
   {
    "duration": 17,
    "start_time": "2022-02-18T01:46:12.960Z"
   },
   {
    "duration": 9,
    "start_time": "2022-02-18T01:46:12.979Z"
   },
   {
    "duration": 5,
    "start_time": "2022-02-18T01:46:12.991Z"
   },
   {
    "duration": 51,
    "start_time": "2022-02-18T01:46:12.999Z"
   },
   {
    "duration": 12,
    "start_time": "2022-02-18T01:46:13.053Z"
   },
   {
    "duration": 4,
    "start_time": "2022-02-18T01:46:13.067Z"
   },
   {
    "duration": 2,
    "start_time": "2022-02-18T01:46:13.079Z"
   },
   {
    "duration": 65,
    "start_time": "2022-02-18T01:46:13.085Z"
   },
   {
    "duration": 6,
    "start_time": "2022-02-18T01:46:13.153Z"
   },
   {
    "duration": 7,
    "start_time": "2022-02-18T01:46:13.162Z"
   },
   {
    "duration": 18,
    "start_time": "2022-02-18T01:46:13.171Z"
   },
   {
    "duration": 14,
    "start_time": "2022-02-18T01:46:13.192Z"
   },
   {
    "duration": 10,
    "start_time": "2022-02-18T01:46:13.208Z"
   },
   {
    "duration": 48,
    "start_time": "2022-02-18T01:46:13.220Z"
   },
   {
    "duration": 3,
    "start_time": "2022-02-18T01:46:13.270Z"
   },
   {
    "duration": 7,
    "start_time": "2022-02-18T01:46:13.275Z"
   },
   {
    "duration": 7,
    "start_time": "2022-02-18T01:46:13.284Z"
   },
   {
    "duration": 5,
    "start_time": "2022-02-18T01:46:13.294Z"
   },
   {
    "duration": 48,
    "start_time": "2022-02-18T01:46:13.301Z"
   },
   {
    "duration": 12,
    "start_time": "2022-02-18T01:46:13.351Z"
   },
   {
    "duration": 6,
    "start_time": "2022-02-18T01:46:13.365Z"
   },
   {
    "duration": 5,
    "start_time": "2022-02-18T01:46:13.375Z"
   },
   {
    "duration": 9,
    "start_time": "2022-02-18T01:46:13.382Z"
   },
   {
    "duration": 8,
    "start_time": "2022-02-18T01:46:13.393Z"
   },
   {
    "duration": 45,
    "start_time": "2022-02-18T01:46:13.403Z"
   },
   {
    "duration": 7,
    "start_time": "2022-02-18T01:46:13.451Z"
   },
   {
    "duration": 10,
    "start_time": "2022-02-18T01:46:13.461Z"
   },
   {
    "duration": 8,
    "start_time": "2022-02-18T01:46:13.473Z"
   },
   {
    "duration": 6,
    "start_time": "2022-02-18T01:46:13.483Z"
   },
   {
    "duration": 5,
    "start_time": "2022-02-18T01:46:13.491Z"
   },
   {
    "duration": 7,
    "start_time": "2022-02-18T01:46:13.499Z"
   },
   {
    "duration": 4,
    "start_time": "2022-02-18T01:46:13.549Z"
   },
   {
    "duration": 5,
    "start_time": "2022-02-18T01:46:13.556Z"
   },
   {
    "duration": 9,
    "start_time": "2022-02-18T01:46:13.565Z"
   },
   {
    "duration": 10,
    "start_time": "2022-02-18T01:46:13.577Z"
   },
   {
    "duration": 6,
    "start_time": "2022-02-18T01:46:13.589Z"
   },
   {
    "duration": 52,
    "start_time": "2022-02-18T01:46:13.598Z"
   },
   {
    "duration": 8,
    "start_time": "2022-02-18T01:46:13.653Z"
   },
   {
    "duration": 7,
    "start_time": "2022-02-18T01:46:13.663Z"
   },
   {
    "duration": 8,
    "start_time": "2022-02-18T01:46:13.672Z"
   },
   {
    "duration": 5,
    "start_time": "2022-02-18T01:46:13.682Z"
   },
   {
    "duration": 17,
    "start_time": "2022-02-18T01:46:13.689Z"
   },
   {
    "duration": 39,
    "start_time": "2022-02-18T01:46:13.709Z"
   },
   {
    "duration": 3,
    "start_time": "2022-02-18T01:46:13.750Z"
   },
   {
    "duration": 10,
    "start_time": "2022-02-18T01:46:13.756Z"
   },
   {
    "duration": 7,
    "start_time": "2022-02-18T01:46:13.768Z"
   },
   {
    "duration": 8,
    "start_time": "2022-02-18T01:46:13.778Z"
   },
   {
    "duration": 12,
    "start_time": "2022-02-18T01:46:13.788Z"
   },
   {
    "duration": 6,
    "start_time": "2022-02-18T01:46:13.802Z"
   },
   {
    "duration": 37,
    "start_time": "2022-02-18T01:46:13.811Z"
   },
   {
    "duration": 4,
    "start_time": "2022-02-18T01:46:13.851Z"
   },
   {
    "duration": 8,
    "start_time": "2022-02-18T01:46:13.857Z"
   },
   {
    "duration": 303,
    "start_time": "2022-02-18T18:11:03.273Z"
   },
   {
    "duration": 51,
    "start_time": "2022-02-18T18:23:43.545Z"
   },
   {
    "duration": 24,
    "start_time": "2022-02-18T18:23:55.533Z"
   },
   {
    "duration": 26,
    "start_time": "2022-02-18T18:24:14.113Z"
   },
   {
    "duration": 24,
    "start_time": "2022-02-18T18:24:17.913Z"
   },
   {
    "duration": 333,
    "start_time": "2022-02-18T18:26:39.924Z"
   },
   {
    "duration": 47,
    "start_time": "2022-02-18T18:36:27.594Z"
   },
   {
    "duration": 13,
    "start_time": "2022-02-18T18:46:15.754Z"
   },
   {
    "duration": 607,
    "start_time": "2022-02-20T18:58:34.126Z"
   },
   {
    "duration": 36,
    "start_time": "2022-02-20T18:58:34.735Z"
   },
   {
    "duration": 18,
    "start_time": "2022-02-20T18:58:34.773Z"
   },
   {
    "duration": 26,
    "start_time": "2022-02-20T18:58:34.793Z"
   },
   {
    "duration": 9,
    "start_time": "2022-02-20T18:58:34.820Z"
   },
   {
    "duration": 7,
    "start_time": "2022-02-20T18:58:34.830Z"
   },
   {
    "duration": 2,
    "start_time": "2022-02-20T18:58:34.838Z"
   },
   {
    "duration": 12,
    "start_time": "2022-02-20T18:58:34.842Z"
   },
   {
    "duration": 2,
    "start_time": "2022-02-20T18:58:34.855Z"
   },
   {
    "duration": 5,
    "start_time": "2022-02-20T18:58:34.858Z"
   },
   {
    "duration": 5,
    "start_time": "2022-02-20T18:58:34.865Z"
   },
   {
    "duration": 10,
    "start_time": "2022-02-20T18:58:34.872Z"
   },
   {
    "duration": 42,
    "start_time": "2022-02-20T18:58:34.883Z"
   },
   {
    "duration": 8,
    "start_time": "2022-02-20T18:58:34.926Z"
   },
   {
    "duration": 6,
    "start_time": "2022-02-20T18:58:34.935Z"
   },
   {
    "duration": 3,
    "start_time": "2022-02-20T18:58:34.943Z"
   },
   {
    "duration": 6,
    "start_time": "2022-02-20T18:58:34.948Z"
   },
   {
    "duration": 4,
    "start_time": "2022-02-20T18:58:34.956Z"
   },
   {
    "duration": 5,
    "start_time": "2022-02-20T18:58:34.961Z"
   },
   {
    "duration": 13,
    "start_time": "2022-02-20T18:58:34.967Z"
   },
   {
    "duration": 39,
    "start_time": "2022-02-20T18:58:34.981Z"
   },
   {
    "duration": 14,
    "start_time": "2022-02-20T18:58:35.021Z"
   },
   {
    "duration": 4,
    "start_time": "2022-02-20T18:58:35.084Z"
   },
   {
    "duration": 10,
    "start_time": "2022-02-20T18:58:35.090Z"
   },
   {
    "duration": 9,
    "start_time": "2022-02-20T18:58:35.102Z"
   },
   {
    "duration": 11,
    "start_time": "2022-02-20T18:58:35.112Z"
   },
   {
    "duration": 12,
    "start_time": "2022-02-20T18:58:35.125Z"
   },
   {
    "duration": 7,
    "start_time": "2022-02-20T18:58:35.220Z"
   },
   {
    "duration": 3,
    "start_time": "2022-02-20T18:58:35.229Z"
   },
   {
    "duration": 5,
    "start_time": "2022-02-20T18:58:35.234Z"
   },
   {
    "duration": 9,
    "start_time": "2022-02-20T18:58:35.241Z"
   },
   {
    "duration": 6,
    "start_time": "2022-02-20T18:58:35.251Z"
   },
   {
    "duration": 4,
    "start_time": "2022-02-20T18:58:35.259Z"
   },
   {
    "duration": 17,
    "start_time": "2022-02-20T18:58:35.265Z"
   },
   {
    "duration": 17,
    "start_time": "2022-02-20T18:58:35.357Z"
   },
   {
    "duration": 15,
    "start_time": "2022-02-20T18:58:35.375Z"
   },
   {
    "duration": 10,
    "start_time": "2022-02-20T18:58:35.392Z"
   },
   {
    "duration": 2,
    "start_time": "2022-02-20T18:58:35.404Z"
   },
   {
    "duration": 5,
    "start_time": "2022-02-20T18:58:35.408Z"
   },
   {
    "duration": 4,
    "start_time": "2022-02-20T18:58:35.415Z"
   },
   {
    "duration": 9,
    "start_time": "2022-02-20T18:58:35.420Z"
   },
   {
    "duration": 2,
    "start_time": "2022-02-20T18:58:35.493Z"
   },
   {
    "duration": 7,
    "start_time": "2022-02-20T18:58:35.497Z"
   },
   {
    "duration": 3,
    "start_time": "2022-02-20T18:58:35.506Z"
   },
   {
    "duration": 3,
    "start_time": "2022-02-20T18:58:35.511Z"
   },
   {
    "duration": 4,
    "start_time": "2022-02-20T18:58:35.516Z"
   },
   {
    "duration": 4,
    "start_time": "2022-02-20T18:58:35.522Z"
   },
   {
    "duration": 6,
    "start_time": "2022-02-20T18:58:35.527Z"
   },
   {
    "duration": 2,
    "start_time": "2022-02-20T18:58:35.629Z"
   },
   {
    "duration": 6,
    "start_time": "2022-02-20T18:58:35.633Z"
   },
   {
    "duration": 7,
    "start_time": "2022-02-20T18:58:35.641Z"
   },
   {
    "duration": 4,
    "start_time": "2022-02-20T18:58:35.649Z"
   },
   {
    "duration": 4,
    "start_time": "2022-02-20T18:58:35.654Z"
   },
   {
    "duration": 3,
    "start_time": "2022-02-20T18:58:35.659Z"
   },
   {
    "duration": 10,
    "start_time": "2022-02-20T18:58:35.664Z"
   },
   {
    "duration": 4,
    "start_time": "2022-02-20T18:58:35.675Z"
   },
   {
    "duration": 2,
    "start_time": "2022-02-20T18:58:35.761Z"
   },
   {
    "duration": 4,
    "start_time": "2022-02-20T18:58:35.765Z"
   },
   {
    "duration": 4,
    "start_time": "2022-02-20T18:58:35.771Z"
   },
   {
    "duration": 5,
    "start_time": "2022-02-20T18:58:35.776Z"
   },
   {
    "duration": 5,
    "start_time": "2022-02-20T18:58:35.783Z"
   },
   {
    "duration": 8,
    "start_time": "2022-02-20T18:58:35.789Z"
   },
   {
    "duration": 8,
    "start_time": "2022-02-20T18:58:35.799Z"
   },
   {
    "duration": 5,
    "start_time": "2022-02-20T18:58:35.809Z"
   },
   {
    "duration": 7,
    "start_time": "2022-02-20T18:58:35.816Z"
   },
   {
    "duration": 2,
    "start_time": "2022-02-20T18:58:35.898Z"
   },
   {
    "duration": 5,
    "start_time": "2022-02-20T18:58:35.902Z"
   },
   {
    "duration": 6,
    "start_time": "2022-02-20T18:58:35.909Z"
   },
   {
    "duration": 6,
    "start_time": "2022-02-20T18:58:35.916Z"
   },
   {
    "duration": 5,
    "start_time": "2022-02-20T18:58:35.923Z"
   },
   {
    "duration": 7,
    "start_time": "2022-02-20T18:58:35.929Z"
   },
   {
    "duration": 5,
    "start_time": "2022-02-20T18:58:35.938Z"
   },
   {
    "duration": 101,
    "start_time": "2022-02-20T19:10:22.628Z"
   },
   {
    "duration": 37,
    "start_time": "2022-02-20T19:10:39.083Z"
   },
   {
    "duration": 36,
    "start_time": "2022-02-20T19:10:39.122Z"
   },
   {
    "duration": 28,
    "start_time": "2022-02-20T19:10:39.161Z"
   },
   {
    "duration": 37,
    "start_time": "2022-02-20T19:10:39.191Z"
   },
   {
    "duration": 10,
    "start_time": "2022-02-20T19:10:39.230Z"
   },
   {
    "duration": 10,
    "start_time": "2022-02-20T19:10:39.242Z"
   },
   {
    "duration": 2,
    "start_time": "2022-02-20T19:10:39.254Z"
   },
   {
    "duration": 13,
    "start_time": "2022-02-20T19:10:39.259Z"
   },
   {
    "duration": 58,
    "start_time": "2022-02-20T19:10:39.319Z"
   },
   {
    "duration": -911,
    "start_time": "2022-02-20T19:10:40.290Z"
   },
   {
    "duration": -943,
    "start_time": "2022-02-20T19:10:40.323Z"
   },
   {
    "duration": -944,
    "start_time": "2022-02-20T19:10:40.325Z"
   },
   {
    "duration": -945,
    "start_time": "2022-02-20T19:10:40.327Z"
   },
   {
    "duration": -945,
    "start_time": "2022-02-20T19:10:40.328Z"
   },
   {
    "duration": -946,
    "start_time": "2022-02-20T19:10:40.330Z"
   },
   {
    "duration": -946,
    "start_time": "2022-02-20T19:10:40.331Z"
   },
   {
    "duration": -945,
    "start_time": "2022-02-20T19:10:40.332Z"
   },
   {
    "duration": -956,
    "start_time": "2022-02-20T19:10:40.344Z"
   },
   {
    "duration": -977,
    "start_time": "2022-02-20T19:10:40.366Z"
   },
   {
    "duration": -978,
    "start_time": "2022-02-20T19:10:40.368Z"
   },
   {
    "duration": -978,
    "start_time": "2022-02-20T19:10:40.369Z"
   },
   {
    "duration": -978,
    "start_time": "2022-02-20T19:10:40.370Z"
   },
   {
    "duration": -987,
    "start_time": "2022-02-20T19:10:40.380Z"
   },
   {
    "duration": -1010,
    "start_time": "2022-02-20T19:10:40.404Z"
   },
   {
    "duration": -1010,
    "start_time": "2022-02-20T19:10:40.405Z"
   },
   {
    "duration": -1013,
    "start_time": "2022-02-20T19:10:40.409Z"
   },
   {
    "duration": -1013,
    "start_time": "2022-02-20T19:10:40.410Z"
   },
   {
    "duration": 7,
    "start_time": "2022-02-20T19:10:39.484Z"
   },
   {
    "duration": 4,
    "start_time": "2022-02-20T19:10:39.492Z"
   },
   {
    "duration": 3,
    "start_time": "2022-02-20T19:10:39.498Z"
   },
   {
    "duration": 8,
    "start_time": "2022-02-20T19:10:39.503Z"
   },
   {
    "duration": 3,
    "start_time": "2022-02-20T19:10:39.513Z"
   },
   {
    "duration": 4,
    "start_time": "2022-02-20T19:10:39.518Z"
   },
   {
    "duration": 16,
    "start_time": "2022-02-20T19:10:39.523Z"
   },
   {
    "duration": 14,
    "start_time": "2022-02-20T19:10:39.541Z"
   },
   {
    "duration": 16,
    "start_time": "2022-02-20T19:10:39.557Z"
   },
   {
    "duration": 9,
    "start_time": "2022-02-20T19:10:39.575Z"
   },
   {
    "duration": 2,
    "start_time": "2022-02-20T19:10:39.622Z"
   },
   {
    "duration": 3,
    "start_time": "2022-02-20T19:10:39.626Z"
   },
   {
    "duration": 6,
    "start_time": "2022-02-20T19:10:39.631Z"
   },
   {
    "duration": 4,
    "start_time": "2022-02-20T19:10:39.639Z"
   },
   {
    "duration": 3,
    "start_time": "2022-02-20T19:10:39.645Z"
   },
   {
    "duration": 3,
    "start_time": "2022-02-20T19:10:39.651Z"
   },
   {
    "duration": 3,
    "start_time": "2022-02-20T19:10:39.656Z"
   },
   {
    "duration": 3,
    "start_time": "2022-02-20T19:10:39.661Z"
   },
   {
    "duration": 2,
    "start_time": "2022-02-20T19:10:39.667Z"
   },
   {
    "duration": 49,
    "start_time": "2022-02-20T19:10:39.671Z"
   },
   {
    "duration": 2,
    "start_time": "2022-02-20T19:10:39.748Z"
   },
   {
    "duration": 3,
    "start_time": "2022-02-20T19:10:39.753Z"
   },
   {
    "duration": 3,
    "start_time": "2022-02-20T19:10:39.758Z"
   },
   {
    "duration": 3,
    "start_time": "2022-02-20T19:10:39.764Z"
   },
   {
    "duration": 3,
    "start_time": "2022-02-20T19:10:39.769Z"
   },
   {
    "duration": 3,
    "start_time": "2022-02-20T19:10:39.774Z"
   },
   {
    "duration": 3,
    "start_time": "2022-02-20T19:10:39.779Z"
   },
   {
    "duration": 35,
    "start_time": "2022-02-20T19:10:39.784Z"
   },
   {
    "duration": 2,
    "start_time": "2022-02-20T19:10:39.820Z"
   },
   {
    "duration": 3,
    "start_time": "2022-02-20T19:10:39.825Z"
   },
   {
    "duration": 4,
    "start_time": "2022-02-20T19:10:39.829Z"
   },
   {
    "duration": 2,
    "start_time": "2022-02-20T19:10:39.880Z"
   },
   {
    "duration": 4,
    "start_time": "2022-02-20T19:10:39.884Z"
   },
   {
    "duration": 2,
    "start_time": "2022-02-20T19:10:39.893Z"
   },
   {
    "duration": 3,
    "start_time": "2022-02-20T19:10:39.898Z"
   },
   {
    "duration": 4,
    "start_time": "2022-02-20T19:10:39.903Z"
   },
   {
    "duration": 10,
    "start_time": "2022-02-20T19:10:39.909Z"
   },
   {
    "duration": 3,
    "start_time": "2022-02-20T19:10:39.921Z"
   },
   {
    "duration": 4,
    "start_time": "2022-02-20T19:10:39.925Z"
   },
   {
    "duration": 2,
    "start_time": "2022-02-20T19:10:39.932Z"
   },
   {
    "duration": 4,
    "start_time": "2022-02-20T19:10:39.937Z"
   },
   {
    "duration": 3,
    "start_time": "2022-02-20T19:10:40.012Z"
   },
   {
    "duration": 4,
    "start_time": "2022-02-20T19:10:40.017Z"
   },
   {
    "duration": 2,
    "start_time": "2022-02-20T19:10:40.026Z"
   },
   {
    "duration": 5,
    "start_time": "2022-02-20T19:10:40.031Z"
   },
   {
    "duration": 59,
    "start_time": "2022-02-20T19:11:13.316Z"
   },
   {
    "duration": 4,
    "start_time": "2022-02-20T19:14:12.761Z"
   },
   {
    "duration": 7,
    "start_time": "2022-02-20T19:14:38.028Z"
   },
   {
    "duration": 7,
    "start_time": "2022-02-20T19:14:55.802Z"
   },
   {
    "duration": 6,
    "start_time": "2022-02-20T19:15:04.025Z"
   },
   {
    "duration": 6,
    "start_time": "2022-02-20T19:15:29.776Z"
   },
   {
    "duration": 37,
    "start_time": "2022-02-20T19:15:33.814Z"
   },
   {
    "duration": 33,
    "start_time": "2022-02-20T19:15:33.854Z"
   },
   {
    "duration": 35,
    "start_time": "2022-02-20T19:15:33.889Z"
   },
   {
    "duration": 12,
    "start_time": "2022-02-20T19:15:33.926Z"
   },
   {
    "duration": 12,
    "start_time": "2022-02-20T19:15:33.940Z"
   },
   {
    "duration": 9,
    "start_time": "2022-02-20T19:15:33.954Z"
   },
   {
    "duration": 2,
    "start_time": "2022-02-20T19:15:33.965Z"
   },
   {
    "duration": 58,
    "start_time": "2022-02-20T19:15:33.969Z"
   },
   {
    "duration": 6,
    "start_time": "2022-02-20T19:15:34.029Z"
   },
   {
    "duration": 3,
    "start_time": "2022-02-20T19:15:34.037Z"
   },
   {
    "duration": 5,
    "start_time": "2022-02-20T19:15:34.041Z"
   },
   {
    "duration": 9,
    "start_time": "2022-02-20T19:15:34.048Z"
   },
   {
    "duration": 14,
    "start_time": "2022-02-20T19:15:34.058Z"
   },
   {
    "duration": 48,
    "start_time": "2022-02-20T19:15:34.074Z"
   },
   {
    "duration": 8,
    "start_time": "2022-02-20T19:15:34.124Z"
   },
   {
    "duration": 5,
    "start_time": "2022-02-20T19:15:34.134Z"
   },
   {
    "duration": 7,
    "start_time": "2022-02-20T19:15:34.141Z"
   },
   {
    "duration": 6,
    "start_time": "2022-02-20T19:15:34.150Z"
   },
   {
    "duration": 6,
    "start_time": "2022-02-20T19:15:34.159Z"
   },
   {
    "duration": 56,
    "start_time": "2022-02-20T19:15:34.166Z"
   },
   {
    "duration": 9,
    "start_time": "2022-02-20T19:15:34.224Z"
   },
   {
    "duration": 7,
    "start_time": "2022-02-20T19:15:34.234Z"
   },
   {
    "duration": 4,
    "start_time": "2022-02-20T19:15:34.242Z"
   },
   {
    "duration": 5,
    "start_time": "2022-02-20T19:15:34.248Z"
   },
   {
    "duration": 7,
    "start_time": "2022-02-20T19:15:34.255Z"
   },
   {
    "duration": 54,
    "start_time": "2022-02-20T19:15:34.264Z"
   },
   {
    "duration": 3,
    "start_time": "2022-02-20T19:15:34.320Z"
   },
   {
    "duration": 8,
    "start_time": "2022-02-20T19:15:34.325Z"
   },
   {
    "duration": 8,
    "start_time": "2022-02-20T19:15:34.335Z"
   },
   {
    "duration": 6,
    "start_time": "2022-02-20T19:15:34.344Z"
   },
   {
    "duration": 11,
    "start_time": "2022-02-20T19:15:34.352Z"
   },
   {
    "duration": 3,
    "start_time": "2022-02-20T19:15:34.365Z"
   },
   {
    "duration": 4,
    "start_time": "2022-02-20T19:15:34.370Z"
   },
   {
    "duration": 53,
    "start_time": "2022-02-20T19:15:34.375Z"
   },
   {
    "duration": 17,
    "start_time": "2022-02-20T19:15:34.430Z"
   },
   {
    "duration": 16,
    "start_time": "2022-02-20T19:15:34.448Z"
   },
   {
    "duration": 10,
    "start_time": "2022-02-20T19:15:34.465Z"
   },
   {
    "duration": 2,
    "start_time": "2022-02-20T19:15:34.478Z"
   },
   {
    "duration": 38,
    "start_time": "2022-02-20T19:15:34.482Z"
   },
   {
    "duration": 5,
    "start_time": "2022-02-20T19:15:34.521Z"
   },
   {
    "duration": 4,
    "start_time": "2022-02-20T19:15:34.528Z"
   },
   {
    "duration": 5,
    "start_time": "2022-02-20T19:15:34.534Z"
   },
   {
    "duration": 5,
    "start_time": "2022-02-20T19:15:34.540Z"
   },
   {
    "duration": 4,
    "start_time": "2022-02-20T19:15:34.546Z"
   },
   {
    "duration": 4,
    "start_time": "2022-02-20T19:15:34.551Z"
   },
   {
    "duration": 4,
    "start_time": "2022-02-20T19:15:34.557Z"
   },
   {
    "duration": 3,
    "start_time": "2022-02-20T19:15:34.562Z"
   },
   {
    "duration": 9,
    "start_time": "2022-02-20T19:15:34.567Z"
   },
   {
    "duration": 4,
    "start_time": "2022-02-20T19:15:34.620Z"
   },
   {
    "duration": 6,
    "start_time": "2022-02-20T19:15:34.626Z"
   },
   {
    "duration": 4,
    "start_time": "2022-02-20T19:15:34.634Z"
   },
   {
    "duration": 4,
    "start_time": "2022-02-20T19:15:34.640Z"
   },
   {
    "duration": 7,
    "start_time": "2022-02-20T19:15:34.645Z"
   },
   {
    "duration": 4,
    "start_time": "2022-02-20T19:15:34.653Z"
   },
   {
    "duration": 4,
    "start_time": "2022-02-20T19:15:34.659Z"
   },
   {
    "duration": 4,
    "start_time": "2022-02-20T19:15:34.665Z"
   },
   {
    "duration": 4,
    "start_time": "2022-02-20T19:15:34.670Z"
   },
   {
    "duration": 48,
    "start_time": "2022-02-20T19:15:34.676Z"
   },
   {
    "duration": 4,
    "start_time": "2022-02-20T19:15:34.726Z"
   },
   {
    "duration": 4,
    "start_time": "2022-02-20T19:15:34.733Z"
   },
   {
    "duration": 5,
    "start_time": "2022-02-20T19:15:34.739Z"
   },
   {
    "duration": 3,
    "start_time": "2022-02-20T19:15:34.747Z"
   },
   {
    "duration": 10,
    "start_time": "2022-02-20T19:15:34.752Z"
   },
   {
    "duration": 4,
    "start_time": "2022-02-20T19:15:34.764Z"
   },
   {
    "duration": 4,
    "start_time": "2022-02-20T19:15:34.769Z"
   },
   {
    "duration": 4,
    "start_time": "2022-02-20T19:15:34.775Z"
   },
   {
    "duration": 38,
    "start_time": "2022-02-20T19:15:34.781Z"
   },
   {
    "duration": 5,
    "start_time": "2022-02-20T19:15:34.821Z"
   },
   {
    "duration": 4,
    "start_time": "2022-02-20T19:15:34.828Z"
   },
   {
    "duration": 4,
    "start_time": "2022-02-20T19:15:34.834Z"
   },
   {
    "duration": 7,
    "start_time": "2022-02-20T19:15:34.839Z"
   },
   {
    "duration": 25,
    "start_time": "2022-02-20T19:15:34.847Z"
   },
   {
    "duration": 3,
    "start_time": "2022-02-20T19:16:05.931Z"
   },
   {
    "duration": 3,
    "start_time": "2022-02-20T22:02:39.350Z"
   },
   {
    "duration": 270,
    "start_time": "2022-02-20T22:05:45.068Z"
   },
   {
    "duration": 4,
    "start_time": "2022-02-20T22:17:26.608Z"
   },
   {
    "duration": 191,
    "start_time": "2022-02-20T22:17:32.851Z"
   },
   {
    "duration": 3,
    "start_time": "2022-02-20T22:18:33.728Z"
   },
   {
    "duration": 185,
    "start_time": "2022-02-20T22:18:37.067Z"
   },
   {
    "duration": 239,
    "start_time": "2022-02-20T22:26:20.640Z"
   },
   {
    "duration": 5,
    "start_time": "2022-02-20T22:27:44.153Z"
   },
   {
    "duration": 209,
    "start_time": "2022-02-20T22:27:58.548Z"
   },
   {
    "duration": 5,
    "start_time": "2022-02-20T22:30:08.828Z"
   },
   {
    "duration": 6,
    "start_time": "2022-02-20T22:42:45.838Z"
   },
   {
    "duration": 742,
    "start_time": "2022-02-20T22:43:48.007Z"
   },
   {
    "duration": 448,
    "start_time": "2022-02-20T22:44:09.190Z"
   },
   {
    "duration": 615,
    "start_time": "2022-02-20T22:44:30.536Z"
   },
   {
    "duration": 455,
    "start_time": "2022-02-20T23:00:13.115Z"
   },
   {
    "duration": 856,
    "start_time": "2022-02-21T04:08:07.915Z"
   },
   {
    "duration": 65,
    "start_time": "2022-02-21T04:08:08.774Z"
   },
   {
    "duration": 31,
    "start_time": "2022-02-21T04:08:08.842Z"
   },
   {
    "duration": 16,
    "start_time": "2022-02-21T04:08:08.876Z"
   },
   {
    "duration": 38,
    "start_time": "2022-02-21T04:08:08.894Z"
   },
   {
    "duration": 12,
    "start_time": "2022-02-21T04:08:08.935Z"
   },
   {
    "duration": 3,
    "start_time": "2022-02-21T04:08:08.950Z"
   },
   {
    "duration": 21,
    "start_time": "2022-02-21T04:08:08.956Z"
   },
   {
    "duration": 45,
    "start_time": "2022-02-21T04:08:08.981Z"
   },
   {
    "duration": 3,
    "start_time": "2022-02-21T04:08:09.030Z"
   },
   {
    "duration": 6,
    "start_time": "2022-02-21T04:08:09.035Z"
   },
   {
    "duration": 16,
    "start_time": "2022-02-21T04:08:09.044Z"
   },
   {
    "duration": 16,
    "start_time": "2022-02-21T04:08:09.063Z"
   },
   {
    "duration": 48,
    "start_time": "2022-02-21T04:08:09.082Z"
   },
   {
    "duration": 12,
    "start_time": "2022-02-21T04:08:09.132Z"
   },
   {
    "duration": 8,
    "start_time": "2022-02-21T04:08:09.147Z"
   },
   {
    "duration": 13,
    "start_time": "2022-02-21T04:08:09.158Z"
   },
   {
    "duration": 7,
    "start_time": "2022-02-21T04:08:09.173Z"
   },
   {
    "duration": 11,
    "start_time": "2022-02-21T04:08:09.183Z"
   },
   {
    "duration": 7,
    "start_time": "2022-02-21T04:08:09.227Z"
   },
   {
    "duration": 17,
    "start_time": "2022-02-21T04:08:09.236Z"
   },
   {
    "duration": 10,
    "start_time": "2022-02-21T04:08:09.255Z"
   },
   {
    "duration": 7,
    "start_time": "2022-02-21T04:08:09.268Z"
   },
   {
    "duration": 48,
    "start_time": "2022-02-21T04:08:09.278Z"
   },
   {
    "duration": 14,
    "start_time": "2022-02-21T04:08:09.329Z"
   },
   {
    "duration": 7,
    "start_time": "2022-02-21T04:08:09.346Z"
   },
   {
    "duration": 5,
    "start_time": "2022-02-21T04:08:09.362Z"
   },
   {
    "duration": 20,
    "start_time": "2022-02-21T04:08:09.372Z"
   },
   {
    "duration": 4,
    "start_time": "2022-02-21T04:08:09.428Z"
   },
   {
    "duration": 7,
    "start_time": "2022-02-21T04:08:09.435Z"
   },
   {
    "duration": 14,
    "start_time": "2022-02-21T04:08:09.445Z"
   },
   {
    "duration": 6,
    "start_time": "2022-02-21T04:08:09.461Z"
   },
   {
    "duration": 5,
    "start_time": "2022-02-21T04:08:09.469Z"
   },
   {
    "duration": 64,
    "start_time": "2022-02-21T04:08:09.477Z"
   },
   {
    "duration": 26,
    "start_time": "2022-02-21T04:08:09.544Z"
   },
   {
    "duration": 24,
    "start_time": "2022-02-21T04:08:09.573Z"
   },
   {
    "duration": 34,
    "start_time": "2022-02-21T04:08:09.599Z"
   },
   {
    "duration": 99,
    "start_time": "2022-02-21T04:08:09.636Z"
   },
   {
    "duration": -1125,
    "start_time": "2022-02-21T04:08:10.862Z"
   },
   {
    "duration": -1125,
    "start_time": "2022-02-21T04:08:10.864Z"
   },
   {
    "duration": -1125,
    "start_time": "2022-02-21T04:08:10.865Z"
   },
   {
    "duration": -1141,
    "start_time": "2022-02-21T04:08:10.883Z"
   },
   {
    "duration": -1141,
    "start_time": "2022-02-21T04:08:10.884Z"
   },
   {
    "duration": -1151,
    "start_time": "2022-02-21T04:08:10.895Z"
   },
   {
    "duration": -1151,
    "start_time": "2022-02-21T04:08:10.896Z"
   },
   {
    "duration": -1152,
    "start_time": "2022-02-21T04:08:10.899Z"
   },
   {
    "duration": -1152,
    "start_time": "2022-02-21T04:08:10.900Z"
   },
   {
    "duration": -1154,
    "start_time": "2022-02-21T04:08:10.903Z"
   },
   {
    "duration": -1163,
    "start_time": "2022-02-21T04:08:10.913Z"
   },
   {
    "duration": -1164,
    "start_time": "2022-02-21T04:08:10.916Z"
   },
   {
    "duration": -1165,
    "start_time": "2022-02-21T04:08:10.918Z"
   },
   {
    "duration": -1173,
    "start_time": "2022-02-21T04:08:10.927Z"
   },
   {
    "duration": -1173,
    "start_time": "2022-02-21T04:08:10.929Z"
   },
   {
    "duration": -1174,
    "start_time": "2022-02-21T04:08:10.931Z"
   },
   {
    "duration": -1189,
    "start_time": "2022-02-21T04:08:10.947Z"
   },
   {
    "duration": -1189,
    "start_time": "2022-02-21T04:08:10.948Z"
   },
   {
    "duration": -1189,
    "start_time": "2022-02-21T04:08:10.950Z"
   },
   {
    "duration": -1189,
    "start_time": "2022-02-21T04:08:10.951Z"
   },
   {
    "duration": -1198,
    "start_time": "2022-02-21T04:08:10.961Z"
   },
   {
    "duration": -1199,
    "start_time": "2022-02-21T04:08:10.963Z"
   },
   {
    "duration": -1199,
    "start_time": "2022-02-21T04:08:10.964Z"
   },
   {
    "duration": -1199,
    "start_time": "2022-02-21T04:08:10.966Z"
   },
   {
    "duration": -1199,
    "start_time": "2022-02-21T04:08:10.967Z"
   },
   {
    "duration": -1213,
    "start_time": "2022-02-21T04:08:10.982Z"
   },
   {
    "duration": -1224,
    "start_time": "2022-02-21T04:08:10.995Z"
   },
   {
    "duration": -1224,
    "start_time": "2022-02-21T04:08:10.997Z"
   },
   {
    "duration": -1224,
    "start_time": "2022-02-21T04:08:10.998Z"
   },
   {
    "duration": -1225,
    "start_time": "2022-02-21T04:08:11.000Z"
   },
   {
    "duration": -1172,
    "start_time": "2022-02-21T04:08:11.001Z"
   },
   {
    "duration": -1182,
    "start_time": "2022-02-21T04:08:11.012Z"
   },
   {
    "duration": -1181,
    "start_time": "2022-02-21T04:08:11.013Z"
   },
   {
    "duration": -1182,
    "start_time": "2022-02-21T04:08:11.015Z"
   },
   {
    "duration": -1183,
    "start_time": "2022-02-21T04:08:11.018Z"
   },
   {
    "duration": 88,
    "start_time": "2022-02-21T04:08:59.652Z"
   },
   {
    "duration": 97,
    "start_time": "2022-02-21T04:11:27.444Z"
   },
   {
    "duration": 4,
    "start_time": "2022-02-21T04:11:47.989Z"
   },
   {
    "duration": 5,
    "start_time": "2022-02-21T04:12:03.727Z"
   },
   {
    "duration": 7,
    "start_time": "2022-02-21T04:12:05.084Z"
   },
   {
    "duration": 7,
    "start_time": "2022-02-21T04:12:06.496Z"
   },
   {
    "duration": 759,
    "start_time": "2022-02-21T04:12:09.677Z"
   },
   {
    "duration": 393,
    "start_time": "2022-02-21T04:14:14.133Z"
   },
   {
    "duration": 10,
    "start_time": "2022-02-21T04:14:45.190Z"
   },
   {
    "duration": 20,
    "start_time": "2022-02-21T04:28:03.832Z"
   },
   {
    "duration": 24,
    "start_time": "2022-02-21T04:28:40.913Z"
   },
   {
    "duration": 14,
    "start_time": "2022-02-21T04:31:35.618Z"
   },
   {
    "duration": 11,
    "start_time": "2022-02-21T04:32:00.818Z"
   },
   {
    "duration": 10,
    "start_time": "2022-02-21T04:32:53.039Z"
   },
   {
    "duration": 859,
    "start_time": "2022-02-21T04:34:21.196Z"
   },
   {
    "duration": 67,
    "start_time": "2022-02-21T04:34:22.058Z"
   },
   {
    "duration": 34,
    "start_time": "2022-02-21T04:34:22.129Z"
   },
   {
    "duration": 19,
    "start_time": "2022-02-21T04:34:22.166Z"
   },
   {
    "duration": 50,
    "start_time": "2022-02-21T04:34:22.188Z"
   },
   {
    "duration": 17,
    "start_time": "2022-02-21T04:34:22.241Z"
   },
   {
    "duration": 4,
    "start_time": "2022-02-21T04:34:22.261Z"
   },
   {
    "duration": 73,
    "start_time": "2022-02-21T04:34:22.270Z"
   },
   {
    "duration": 3,
    "start_time": "2022-02-21T04:34:22.347Z"
   },
   {
    "duration": 12,
    "start_time": "2022-02-21T04:34:22.353Z"
   },
   {
    "duration": 7,
    "start_time": "2022-02-21T04:34:22.368Z"
   },
   {
    "duration": 53,
    "start_time": "2022-02-21T04:34:22.378Z"
   },
   {
    "duration": 18,
    "start_time": "2022-02-21T04:34:22.433Z"
   },
   {
    "duration": 21,
    "start_time": "2022-02-21T04:34:22.453Z"
   },
   {
    "duration": 23,
    "start_time": "2022-02-21T04:34:22.476Z"
   },
   {
    "duration": 27,
    "start_time": "2022-02-21T04:34:22.502Z"
   },
   {
    "duration": 11,
    "start_time": "2022-02-21T04:34:22.531Z"
   },
   {
    "duration": 12,
    "start_time": "2022-02-21T04:34:26.771Z"
   },
   {
    "duration": 7,
    "start_time": "2022-02-21T04:34:55.223Z"
   },
   {
    "duration": 11,
    "start_time": "2022-02-21T04:34:59.499Z"
   },
   {
    "duration": 54,
    "start_time": "2022-02-21T04:35:12.338Z"
   },
   {
    "duration": 80,
    "start_time": "2022-02-21T04:35:12.395Z"
   },
   {
    "duration": 61,
    "start_time": "2022-02-21T04:35:12.478Z"
   },
   {
    "duration": 22,
    "start_time": "2022-02-21T04:35:12.543Z"
   },
   {
    "duration": 58,
    "start_time": "2022-02-21T04:35:12.568Z"
   },
   {
    "duration": 15,
    "start_time": "2022-02-21T04:35:12.630Z"
   },
   {
    "duration": 9,
    "start_time": "2022-02-21T04:35:12.647Z"
   },
   {
    "duration": 20,
    "start_time": "2022-02-21T04:35:12.659Z"
   },
   {
    "duration": 42,
    "start_time": "2022-02-21T04:35:12.684Z"
   },
   {
    "duration": 11,
    "start_time": "2022-02-21T04:35:12.729Z"
   },
   {
    "duration": 19,
    "start_time": "2022-02-21T04:35:12.742Z"
   },
   {
    "duration": 22,
    "start_time": "2022-02-21T04:35:12.764Z"
   },
   {
    "duration": 20,
    "start_time": "2022-02-21T04:35:12.788Z"
   },
   {
    "duration": 26,
    "start_time": "2022-02-21T04:35:12.810Z"
   },
   {
    "duration": 12,
    "start_time": "2022-02-21T04:35:12.839Z"
   },
   {
    "duration": 13,
    "start_time": "2022-02-21T04:35:12.854Z"
   },
   {
    "duration": 56,
    "start_time": "2022-02-21T04:35:12.870Z"
   },
   {
    "duration": 15,
    "start_time": "2022-02-21T04:35:12.929Z"
   },
   {
    "duration": 9,
    "start_time": "2022-02-21T04:35:12.948Z"
   },
   {
    "duration": 12,
    "start_time": "2022-02-21T04:35:12.960Z"
   },
   {
    "duration": 12,
    "start_time": "2022-02-21T04:35:13.027Z"
   },
   {
    "duration": 12,
    "start_time": "2022-02-21T04:35:13.042Z"
   },
   {
    "duration": 7,
    "start_time": "2022-02-21T04:35:13.056Z"
   },
   {
    "duration": 9,
    "start_time": "2022-02-21T04:35:13.065Z"
   },
   {
    "duration": 55,
    "start_time": "2022-02-21T04:35:13.076Z"
   },
   {
    "duration": 8,
    "start_time": "2022-02-21T04:35:13.134Z"
   },
   {
    "duration": 3,
    "start_time": "2022-02-21T04:35:13.151Z"
   },
   {
    "duration": 15,
    "start_time": "2022-02-21T04:35:13.159Z"
   },
   {
    "duration": 51,
    "start_time": "2022-02-21T04:35:13.177Z"
   },
   {
    "duration": 11,
    "start_time": "2022-02-21T04:35:13.231Z"
   },
   {
    "duration": 14,
    "start_time": "2022-02-21T04:35:13.245Z"
   },
   {
    "duration": 6,
    "start_time": "2022-02-21T04:35:13.262Z"
   },
   {
    "duration": 55,
    "start_time": "2022-02-21T04:35:13.271Z"
   },
   {
    "duration": 36,
    "start_time": "2022-02-21T04:35:13.330Z"
   },
   {
    "duration": 60,
    "start_time": "2022-02-21T04:35:13.368Z"
   },
   {
    "duration": 25,
    "start_time": "2022-02-21T04:35:13.431Z"
   },
   {
    "duration": 15,
    "start_time": "2022-02-21T04:35:13.458Z"
   },
   {
    "duration": 6,
    "start_time": "2022-02-21T04:35:13.476Z"
   },
   {
    "duration": 43,
    "start_time": "2022-02-21T04:35:13.485Z"
   },
   {
    "duration": 12,
    "start_time": "2022-02-21T04:35:13.532Z"
   },
   {
    "duration": 13,
    "start_time": "2022-02-21T04:35:13.547Z"
   },
   {
    "duration": 449,
    "start_time": "2022-02-21T04:35:13.564Z"
   },
   {
    "duration": 17,
    "start_time": "2022-02-21T04:35:14.016Z"
   },
   {
    "duration": 30,
    "start_time": "2022-02-21T04:35:14.036Z"
   },
   {
    "duration": 5,
    "start_time": "2022-02-21T04:35:14.069Z"
   },
   {
    "duration": 51,
    "start_time": "2022-02-21T04:35:14.077Z"
   },
   {
    "duration": 5,
    "start_time": "2022-02-21T04:35:14.131Z"
   },
   {
    "duration": 6,
    "start_time": "2022-02-21T04:35:14.139Z"
   },
   {
    "duration": 7,
    "start_time": "2022-02-21T04:35:14.148Z"
   },
   {
    "duration": 4,
    "start_time": "2022-02-21T04:35:14.158Z"
   },
   {
    "duration": 5,
    "start_time": "2022-02-21T04:35:14.165Z"
   },
   {
    "duration": 3,
    "start_time": "2022-02-21T04:35:14.228Z"
   },
   {
    "duration": 6,
    "start_time": "2022-02-21T04:35:14.234Z"
   },
   {
    "duration": 8,
    "start_time": "2022-02-21T04:35:14.243Z"
   },
   {
    "duration": 5,
    "start_time": "2022-02-21T04:35:14.255Z"
   },
   {
    "duration": 6,
    "start_time": "2022-02-21T04:35:14.263Z"
   },
   {
    "duration": 55,
    "start_time": "2022-02-21T04:35:14.272Z"
   },
   {
    "duration": 9,
    "start_time": "2022-02-21T04:35:14.330Z"
   },
   {
    "duration": 5,
    "start_time": "2022-02-21T04:35:14.342Z"
   },
   {
    "duration": 5,
    "start_time": "2022-02-21T04:35:14.350Z"
   },
   {
    "duration": 6,
    "start_time": "2022-02-21T04:35:14.357Z"
   },
   {
    "duration": 5,
    "start_time": "2022-02-21T04:35:14.365Z"
   },
   {
    "duration": 53,
    "start_time": "2022-02-21T04:35:14.372Z"
   },
   {
    "duration": 8,
    "start_time": "2022-02-21T04:35:14.428Z"
   },
   {
    "duration": 8,
    "start_time": "2022-02-21T04:35:14.438Z"
   },
   {
    "duration": 6,
    "start_time": "2022-02-21T04:35:14.449Z"
   },
   {
    "duration": 5,
    "start_time": "2022-02-21T04:35:14.458Z"
   },
   {
    "duration": 7,
    "start_time": "2022-02-21T04:35:14.465Z"
   },
   {
    "duration": 5,
    "start_time": "2022-02-21T04:35:14.475Z"
   },
   {
    "duration": 44,
    "start_time": "2022-02-21T04:35:14.483Z"
   },
   {
    "duration": 7,
    "start_time": "2022-02-21T04:35:14.530Z"
   },
   {
    "duration": 7,
    "start_time": "2022-02-21T04:35:14.540Z"
   },
   {
    "duration": 5,
    "start_time": "2022-02-21T04:35:14.550Z"
   },
   {
    "duration": 13,
    "start_time": "2022-02-21T04:36:30.868Z"
   },
   {
    "duration": 14,
    "start_time": "2022-02-21T04:44:49.692Z"
   },
   {
    "duration": 10,
    "start_time": "2022-02-21T04:45:06.853Z"
   },
   {
    "duration": 41,
    "start_time": "2022-02-21T04:45:43.120Z"
   },
   {
    "duration": 10,
    "start_time": "2022-02-21T04:46:51.488Z"
   },
   {
    "duration": 11,
    "start_time": "2022-02-21T04:47:09.876Z"
   },
   {
    "duration": 795,
    "start_time": "2022-02-21T04:57:28.767Z"
   },
   {
    "duration": 71,
    "start_time": "2022-02-21T04:57:29.564Z"
   },
   {
    "duration": 31,
    "start_time": "2022-02-21T04:57:29.639Z"
   },
   {
    "duration": 16,
    "start_time": "2022-02-21T04:57:29.673Z"
   },
   {
    "duration": 45,
    "start_time": "2022-02-21T04:57:29.693Z"
   },
   {
    "duration": 31,
    "start_time": "2022-02-21T04:57:29.740Z"
   },
   {
    "duration": 11,
    "start_time": "2022-02-21T04:57:29.773Z"
   },
   {
    "duration": 49,
    "start_time": "2022-02-21T04:57:29.787Z"
   },
   {
    "duration": 3,
    "start_time": "2022-02-21T04:57:29.842Z"
   },
   {
    "duration": 4,
    "start_time": "2022-02-21T04:57:29.849Z"
   },
   {
    "duration": 7,
    "start_time": "2022-02-21T04:57:29.856Z"
   },
   {
    "duration": 62,
    "start_time": "2022-02-21T04:57:29.866Z"
   },
   {
    "duration": 18,
    "start_time": "2022-02-21T04:57:29.932Z"
   },
   {
    "duration": 12,
    "start_time": "2022-02-21T04:57:29.953Z"
   },
   {
    "duration": 16,
    "start_time": "2022-02-21T04:57:29.968Z"
   },
   {
    "duration": 45,
    "start_time": "2022-02-21T04:57:29.986Z"
   },
   {
    "duration": 14,
    "start_time": "2022-02-21T04:57:30.035Z"
   },
   {
    "duration": 13,
    "start_time": "2022-02-21T04:57:30.053Z"
   },
   {
    "duration": 7,
    "start_time": "2022-02-21T04:57:30.068Z"
   },
   {
    "duration": 53,
    "start_time": "2022-02-21T04:57:30.078Z"
   },
   {
    "duration": 21,
    "start_time": "2022-02-21T04:57:30.133Z"
   },
   {
    "duration": 24,
    "start_time": "2022-02-21T04:57:30.156Z"
   },
   {
    "duration": 6,
    "start_time": "2022-02-21T04:57:30.183Z"
   },
   {
    "duration": 39,
    "start_time": "2022-02-21T04:57:30.191Z"
   },
   {
    "duration": 12,
    "start_time": "2022-02-21T04:57:30.232Z"
   },
   {
    "duration": 5,
    "start_time": "2022-02-21T04:57:30.246Z"
   },
   {
    "duration": 13,
    "start_time": "2022-02-21T04:57:30.255Z"
   },
   {
    "duration": 10,
    "start_time": "2022-02-21T04:57:33.224Z"
   },
   {
    "duration": 14,
    "start_time": "2022-02-21T05:06:52.618Z"
   },
   {
    "duration": 11,
    "start_time": "2022-02-21T05:06:57.154Z"
   },
   {
    "duration": 358,
    "start_time": "2022-02-21T05:10:24.464Z"
   },
   {
    "duration": 3,
    "start_time": "2022-02-21T05:10:31.263Z"
   },
   {
    "duration": 90,
    "start_time": "2022-02-21T05:16:11.397Z"
   },
   {
    "duration": 282,
    "start_time": "2022-02-21T05:16:33.957Z"
   },
   {
    "duration": 285,
    "start_time": "2022-02-21T05:16:56.129Z"
   },
   {
    "duration": 256,
    "start_time": "2022-02-21T05:17:11.261Z"
   },
   {
    "duration": 780,
    "start_time": "2022-02-21T06:30:35.261Z"
   },
   {
    "duration": 11,
    "start_time": "2022-02-21T06:31:10.000Z"
   },
   {
    "duration": 14,
    "start_time": "2022-02-21T06:31:24.104Z"
   },
   {
    "duration": 495,
    "start_time": "2022-02-21T06:31:51.706Z"
   },
   {
    "duration": 7,
    "start_time": "2022-02-21T06:32:44.841Z"
   },
   {
    "duration": 5,
    "start_time": "2022-02-21T06:32:48.084Z"
   },
   {
    "duration": 6,
    "start_time": "2022-02-21T06:34:18.810Z"
   },
   {
    "duration": 13,
    "start_time": "2022-02-21T06:34:29.198Z"
   },
   {
    "duration": 337,
    "start_time": "2022-02-21T06:35:39.388Z"
   },
   {
    "duration": 352,
    "start_time": "2022-02-21T06:36:09.343Z"
   },
   {
    "duration": 32,
    "start_time": "2022-02-21T06:36:29.156Z"
   },
   {
    "duration": 9,
    "start_time": "2022-02-21T06:37:36.539Z"
   },
   {
    "duration": 31,
    "start_time": "2022-02-21T06:43:40.135Z"
   },
   {
    "duration": 663,
    "start_time": "2022-02-21T16:49:43.815Z"
   },
   {
    "duration": 43,
    "start_time": "2022-02-21T16:49:44.480Z"
   },
   {
    "duration": 20,
    "start_time": "2022-02-21T16:49:44.525Z"
   },
   {
    "duration": 29,
    "start_time": "2022-02-21T16:49:44.546Z"
   },
   {
    "duration": 10,
    "start_time": "2022-02-21T16:49:44.577Z"
   },
   {
    "duration": 10,
    "start_time": "2022-02-21T16:49:44.589Z"
   },
   {
    "duration": 3,
    "start_time": "2022-02-21T16:49:44.600Z"
   },
   {
    "duration": 16,
    "start_time": "2022-02-21T16:49:44.607Z"
   },
   {
    "duration": 3,
    "start_time": "2022-02-21T16:49:44.669Z"
   },
   {
    "duration": 6,
    "start_time": "2022-02-21T16:49:44.674Z"
   },
   {
    "duration": 8,
    "start_time": "2022-02-21T16:49:44.683Z"
   },
   {
    "duration": 12,
    "start_time": "2022-02-21T16:49:44.693Z"
   },
   {
    "duration": 14,
    "start_time": "2022-02-21T16:49:44.707Z"
   },
   {
    "duration": 50,
    "start_time": "2022-02-21T16:49:44.722Z"
   },
   {
    "duration": 6,
    "start_time": "2022-02-21T16:49:44.773Z"
   },
   {
    "duration": 6,
    "start_time": "2022-02-21T16:49:44.781Z"
   },
   {
    "duration": 8,
    "start_time": "2022-02-21T16:49:44.789Z"
   },
   {
    "duration": 9,
    "start_time": "2022-02-21T16:49:44.799Z"
   },
   {
    "duration": 5,
    "start_time": "2022-02-21T16:49:44.810Z"
   },
   {
    "duration": 52,
    "start_time": "2022-02-21T16:49:44.818Z"
   },
   {
    "duration": 11,
    "start_time": "2022-02-21T16:49:44.872Z"
   },
   {
    "duration": 8,
    "start_time": "2022-02-21T16:49:44.885Z"
   },
   {
    "duration": 6,
    "start_time": "2022-02-21T16:49:44.897Z"
   },
   {
    "duration": 6,
    "start_time": "2022-02-21T16:49:44.905Z"
   },
   {
    "duration": 11,
    "start_time": "2022-02-21T16:49:44.912Z"
   },
   {
    "duration": 46,
    "start_time": "2022-02-21T16:49:44.925Z"
   },
   {
    "duration": 12,
    "start_time": "2022-02-21T16:49:44.973Z"
   },
   {
    "duration": 10,
    "start_time": "2022-02-21T16:49:44.987Z"
   },
   {
    "duration": 18,
    "start_time": "2022-02-21T16:49:44.999Z"
   },
   {
    "duration": 20,
    "start_time": "2022-02-21T16:49:45.018Z"
   },
   {
    "duration": 33,
    "start_time": "2022-02-21T16:49:45.040Z"
   },
   {
    "duration": 8,
    "start_time": "2022-02-21T16:49:45.075Z"
   },
   {
    "duration": 6,
    "start_time": "2022-02-21T16:49:45.085Z"
   },
   {
    "duration": 24,
    "start_time": "2022-02-21T16:49:45.093Z"
   },
   {
    "duration": 21,
    "start_time": "2022-02-21T16:49:45.119Z"
   },
   {
    "duration": 44,
    "start_time": "2022-02-21T16:49:45.142Z"
   },
   {
    "duration": 14,
    "start_time": "2022-02-21T16:49:45.188Z"
   },
   {
    "duration": 6,
    "start_time": "2022-02-21T16:49:45.203Z"
   },
   {
    "duration": 6,
    "start_time": "2022-02-21T16:49:45.211Z"
   },
   {
    "duration": 22,
    "start_time": "2022-02-21T16:49:45.218Z"
   },
   {
    "duration": 27,
    "start_time": "2022-02-21T16:49:45.243Z"
   },
   {
    "duration": 267,
    "start_time": "2022-02-21T16:49:45.272Z"
   },
   {
    "duration": 9,
    "start_time": "2022-02-21T16:49:45.541Z"
   },
   {
    "duration": 24,
    "start_time": "2022-02-21T16:49:55.088Z"
   },
   {
    "duration": 385,
    "start_time": "2022-02-21T16:50:51.673Z"
   },
   {
    "duration": 20,
    "start_time": "2022-02-21T16:51:30.649Z"
   },
   {
    "duration": 21,
    "start_time": "2022-02-21T16:52:03.613Z"
   },
   {
    "duration": 5,
    "start_time": "2022-02-21T17:38:03.308Z"
   },
   {
    "duration": 684,
    "start_time": "2022-02-21T17:38:42.607Z"
   },
   {
    "duration": 49,
    "start_time": "2022-02-21T17:38:43.293Z"
   },
   {
    "duration": 43,
    "start_time": "2022-02-21T17:38:43.345Z"
   },
   {
    "duration": 17,
    "start_time": "2022-02-21T17:38:43.390Z"
   },
   {
    "duration": 14,
    "start_time": "2022-02-21T17:38:43.409Z"
   },
   {
    "duration": 45,
    "start_time": "2022-02-21T17:38:43.425Z"
   },
   {
    "duration": 2,
    "start_time": "2022-02-21T17:38:43.472Z"
   },
   {
    "duration": 21,
    "start_time": "2022-02-21T17:38:43.477Z"
   },
   {
    "duration": 9,
    "start_time": "2022-02-21T17:38:43.500Z"
   },
   {
    "duration": 5,
    "start_time": "2022-02-21T17:38:43.511Z"
   },
   {
    "duration": 4,
    "start_time": "2022-02-21T17:38:43.517Z"
   },
   {
    "duration": 10,
    "start_time": "2022-02-21T17:38:43.523Z"
   },
   {
    "duration": 41,
    "start_time": "2022-02-21T17:38:43.535Z"
   },
   {
    "duration": 9,
    "start_time": "2022-02-21T17:38:43.578Z"
   },
   {
    "duration": 8,
    "start_time": "2022-02-21T17:38:43.589Z"
   },
   {
    "duration": 4,
    "start_time": "2022-02-21T17:38:43.599Z"
   },
   {
    "duration": 7,
    "start_time": "2022-02-21T17:38:43.605Z"
   },
   {
    "duration": 6,
    "start_time": "2022-02-21T17:38:47.361Z"
   },
   {
    "duration": 6,
    "start_time": "2022-02-21T17:43:00.924Z"
   },
   {
    "duration": 6,
    "start_time": "2022-02-21T17:43:23.617Z"
   },
   {
    "duration": 6,
    "start_time": "2022-02-21T17:43:25.994Z"
   },
   {
    "duration": 13,
    "start_time": "2022-02-21T17:43:47.482Z"
   },
   {
    "duration": 46,
    "start_time": "2022-02-21T17:49:43.466Z"
   },
   {
    "duration": 63,
    "start_time": "2022-02-21T17:49:43.515Z"
   },
   {
    "duration": 23,
    "start_time": "2022-02-21T17:49:43.580Z"
   },
   {
    "duration": 13,
    "start_time": "2022-02-21T17:49:43.605Z"
   },
   {
    "duration": 12,
    "start_time": "2022-02-21T17:49:43.620Z"
   },
   {
    "duration": 44,
    "start_time": "2022-02-21T17:49:43.635Z"
   },
   {
    "duration": 6,
    "start_time": "2022-02-21T17:49:43.681Z"
   },
   {
    "duration": 17,
    "start_time": "2022-02-21T17:49:43.689Z"
   },
   {
    "duration": 4,
    "start_time": "2022-02-21T17:49:43.709Z"
   },
   {
    "duration": 14,
    "start_time": "2022-02-21T17:49:43.716Z"
   },
   {
    "duration": 5,
    "start_time": "2022-02-21T17:49:43.732Z"
   },
   {
    "duration": 37,
    "start_time": "2022-02-21T17:49:43.740Z"
   },
   {
    "duration": 15,
    "start_time": "2022-02-21T17:49:43.778Z"
   },
   {
    "duration": 11,
    "start_time": "2022-02-21T17:49:43.795Z"
   },
   {
    "duration": 11,
    "start_time": "2022-02-21T17:49:43.807Z"
   },
   {
    "duration": 6,
    "start_time": "2022-02-21T17:49:43.820Z"
   },
   {
    "duration": 49,
    "start_time": "2022-02-21T17:49:43.829Z"
   },
   {
    "duration": 5,
    "start_time": "2022-02-21T17:49:43.881Z"
   },
   {
    "duration": 15,
    "start_time": "2022-02-21T17:49:43.888Z"
   },
   {
    "duration": 3,
    "start_time": "2022-02-21T17:49:43.905Z"
   },
   {
    "duration": 13,
    "start_time": "2022-02-21T17:49:43.910Z"
   },
   {
    "duration": 58,
    "start_time": "2022-02-21T17:49:43.925Z"
   },
   {
    "duration": 7,
    "start_time": "2022-02-21T17:49:43.988Z"
   },
   {
    "duration": 12,
    "start_time": "2022-02-21T17:49:43.998Z"
   },
   {
    "duration": 14,
    "start_time": "2022-02-21T17:49:44.012Z"
   },
   {
    "duration": 12,
    "start_time": "2022-02-21T17:49:44.028Z"
   },
   {
    "duration": 27,
    "start_time": "2022-02-21T17:49:44.042Z"
   },
   {
    "duration": 5,
    "start_time": "2022-02-21T17:49:44.071Z"
   },
   {
    "duration": 14,
    "start_time": "2022-02-21T17:49:44.078Z"
   },
   {
    "duration": 11,
    "start_time": "2022-02-21T17:49:44.094Z"
   },
   {
    "duration": 8,
    "start_time": "2022-02-21T17:49:44.107Z"
   },
   {
    "duration": 9,
    "start_time": "2022-02-21T17:49:44.117Z"
   },
   {
    "duration": 44,
    "start_time": "2022-02-21T17:49:44.128Z"
   },
   {
    "duration": 9,
    "start_time": "2022-02-21T17:49:44.174Z"
   },
   {
    "duration": 28,
    "start_time": "2022-02-21T17:49:44.185Z"
   },
   {
    "duration": 21,
    "start_time": "2022-02-21T17:49:44.215Z"
   },
   {
    "duration": 40,
    "start_time": "2022-02-21T17:49:44.238Z"
   },
   {
    "duration": 12,
    "start_time": "2022-02-21T17:49:44.280Z"
   },
   {
    "duration": 3,
    "start_time": "2022-02-21T17:49:44.294Z"
   },
   {
    "duration": 5,
    "start_time": "2022-02-21T17:49:44.299Z"
   },
   {
    "duration": 13,
    "start_time": "2022-02-21T17:49:44.306Z"
   },
   {
    "duration": 20,
    "start_time": "2022-02-21T17:49:44.321Z"
   },
   {
    "duration": 261,
    "start_time": "2022-02-21T17:49:44.370Z"
   },
   {
    "duration": 8,
    "start_time": "2022-02-21T17:49:44.633Z"
   },
   {
    "duration": 40,
    "start_time": "2022-02-21T17:49:44.642Z"
   },
   {
    "duration": 3,
    "start_time": "2022-02-21T17:49:44.684Z"
   },
   {
    "duration": 7,
    "start_time": "2022-02-21T17:49:44.689Z"
   },
   {
    "duration": 8,
    "start_time": "2022-02-21T17:49:44.698Z"
   },
   {
    "duration": 7,
    "start_time": "2022-02-21T17:49:44.708Z"
   },
   {
    "duration": 11,
    "start_time": "2022-02-21T17:49:44.717Z"
   },
   {
    "duration": 9,
    "start_time": "2022-02-21T17:49:44.730Z"
   },
   {
    "duration": 27,
    "start_time": "2022-02-21T17:49:44.742Z"
   },
   {
    "duration": 4,
    "start_time": "2022-02-21T17:49:44.771Z"
   },
   {
    "duration": 9,
    "start_time": "2022-02-21T17:49:44.777Z"
   },
   {
    "duration": 6,
    "start_time": "2022-02-21T17:49:44.788Z"
   },
   {
    "duration": 6,
    "start_time": "2022-02-21T17:49:44.796Z"
   },
   {
    "duration": 9,
    "start_time": "2022-02-21T17:49:44.803Z"
   },
   {
    "duration": 11,
    "start_time": "2022-02-21T17:49:44.814Z"
   },
   {
    "duration": 6,
    "start_time": "2022-02-21T17:49:44.827Z"
   },
   {
    "duration": 13,
    "start_time": "2022-02-21T17:49:44.835Z"
   },
   {
    "duration": 11,
    "start_time": "2022-02-21T17:49:44.850Z"
   },
   {
    "duration": 9,
    "start_time": "2022-02-21T17:49:44.870Z"
   },
   {
    "duration": 6,
    "start_time": "2022-02-21T17:49:44.881Z"
   },
   {
    "duration": 4,
    "start_time": "2022-02-21T17:49:44.889Z"
   },
   {
    "duration": 5,
    "start_time": "2022-02-21T17:49:44.895Z"
   },
   {
    "duration": 6,
    "start_time": "2022-02-21T17:49:44.901Z"
   },
   {
    "duration": 6,
    "start_time": "2022-02-21T17:49:44.908Z"
   },
   {
    "duration": 2,
    "start_time": "2022-02-21T17:49:44.920Z"
   },
   {
    "duration": 5,
    "start_time": "2022-02-21T17:49:44.923Z"
   },
   {
    "duration": 2,
    "start_time": "2022-02-21T17:49:44.970Z"
   },
   {
    "duration": 10,
    "start_time": "2022-02-21T17:49:44.974Z"
   },
   {
    "duration": 5,
    "start_time": "2022-02-21T17:49:44.986Z"
   },
   {
    "duration": 4,
    "start_time": "2022-02-21T17:49:44.993Z"
   },
   {
    "duration": 10,
    "start_time": "2022-02-21T17:49:44.999Z"
   },
   {
    "duration": 13,
    "start_time": "2022-02-21T17:50:47.629Z"
   },
   {
    "duration": 7,
    "start_time": "2022-02-21T17:50:59.685Z"
   },
   {
    "duration": 680,
    "start_time": "2022-02-21T17:51:34.389Z"
   },
   {
    "duration": 44,
    "start_time": "2022-02-21T17:51:35.071Z"
   },
   {
    "duration": 22,
    "start_time": "2022-02-21T17:51:35.117Z"
   },
   {
    "duration": 34,
    "start_time": "2022-02-21T17:51:35.141Z"
   },
   {
    "duration": 10,
    "start_time": "2022-02-21T17:51:35.178Z"
   },
   {
    "duration": 13,
    "start_time": "2022-02-21T17:51:35.191Z"
   },
   {
    "duration": 7,
    "start_time": "2022-02-21T17:51:35.206Z"
   },
   {
    "duration": 54,
    "start_time": "2022-02-21T17:51:35.216Z"
   },
   {
    "duration": 3,
    "start_time": "2022-02-21T17:51:35.273Z"
   },
   {
    "duration": 10,
    "start_time": "2022-02-21T17:51:35.277Z"
   },
   {
    "duration": 7,
    "start_time": "2022-02-21T17:51:35.289Z"
   },
   {
    "duration": 17,
    "start_time": "2022-02-21T17:51:35.298Z"
   },
   {
    "duration": 16,
    "start_time": "2022-02-21T17:51:35.317Z"
   },
   {
    "duration": 34,
    "start_time": "2022-02-21T17:51:35.335Z"
   },
   {
    "duration": 17,
    "start_time": "2022-02-21T17:51:35.371Z"
   },
   {
    "duration": 7,
    "start_time": "2022-02-21T17:51:35.390Z"
   },
   {
    "duration": 15,
    "start_time": "2022-02-21T17:51:35.399Z"
   },
   {
    "duration": 11,
    "start_time": "2022-02-21T17:51:35.416Z"
   },
   {
    "duration": 18,
    "start_time": "2022-02-21T17:51:40.602Z"
   },
   {
    "duration": 61,
    "start_time": "2022-02-21T17:53:25.157Z"
   },
   {
    "duration": 59,
    "start_time": "2022-02-21T17:53:25.220Z"
   },
   {
    "duration": 31,
    "start_time": "2022-02-21T17:53:25.281Z"
   },
   {
    "duration": 13,
    "start_time": "2022-02-21T17:53:25.314Z"
   },
   {
    "duration": 41,
    "start_time": "2022-02-21T17:53:25.329Z"
   },
   {
    "duration": 9,
    "start_time": "2022-02-21T17:53:25.372Z"
   },
   {
    "duration": 4,
    "start_time": "2022-02-21T17:53:25.383Z"
   },
   {
    "duration": 14,
    "start_time": "2022-02-21T17:53:25.389Z"
   },
   {
    "duration": 2,
    "start_time": "2022-02-21T17:53:25.406Z"
   },
   {
    "duration": 7,
    "start_time": "2022-02-21T17:53:25.410Z"
   },
   {
    "duration": 7,
    "start_time": "2022-02-21T17:53:25.419Z"
   },
   {
    "duration": 45,
    "start_time": "2022-02-21T17:53:25.428Z"
   },
   {
    "duration": 17,
    "start_time": "2022-02-21T17:53:25.474Z"
   },
   {
    "duration": 19,
    "start_time": "2022-02-21T17:53:25.493Z"
   },
   {
    "duration": 12,
    "start_time": "2022-02-21T17:53:25.514Z"
   },
   {
    "duration": 8,
    "start_time": "2022-02-21T17:53:25.528Z"
   },
   {
    "duration": 10,
    "start_time": "2022-02-21T17:53:25.538Z"
   },
   {
    "duration": 23,
    "start_time": "2022-02-21T17:53:25.550Z"
   },
   {
    "duration": 23,
    "start_time": "2022-02-21T17:53:25.575Z"
   },
   {
    "duration": 4,
    "start_time": "2022-02-21T17:53:25.600Z"
   },
   {
    "duration": 11,
    "start_time": "2022-02-21T17:53:25.607Z"
   },
   {
    "duration": 20,
    "start_time": "2022-02-21T17:53:25.620Z"
   },
   {
    "duration": 36,
    "start_time": "2022-02-21T17:53:25.642Z"
   },
   {
    "duration": 7,
    "start_time": "2022-02-21T17:53:25.680Z"
   },
   {
    "duration": 14,
    "start_time": "2022-02-21T17:53:25.689Z"
   },
   {
    "duration": 9,
    "start_time": "2022-02-21T17:53:25.705Z"
   },
   {
    "duration": 3,
    "start_time": "2022-02-21T17:53:25.718Z"
   },
   {
    "duration": 49,
    "start_time": "2022-02-21T17:53:25.723Z"
   },
   {
    "duration": 14,
    "start_time": "2022-02-21T17:53:25.774Z"
   },
   {
    "duration": 17,
    "start_time": "2022-02-21T17:53:25.790Z"
   },
   {
    "duration": 10,
    "start_time": "2022-02-21T17:53:25.809Z"
   },
   {
    "duration": 12,
    "start_time": "2022-02-21T17:53:25.821Z"
   },
   {
    "duration": 6,
    "start_time": "2022-02-21T17:53:25.835Z"
   },
   {
    "duration": 33,
    "start_time": "2022-02-21T17:53:25.842Z"
   },
   {
    "duration": 23,
    "start_time": "2022-02-21T17:53:25.878Z"
   },
   {
    "duration": 19,
    "start_time": "2022-02-21T17:53:25.903Z"
   },
   {
    "duration": 48,
    "start_time": "2022-02-21T17:53:25.924Z"
   },
   {
    "duration": 300,
    "start_time": "2022-02-21T23:16:47.676Z"
   },
   {
    "duration": 271,
    "start_time": "2022-02-21T23:17:38.450Z"
   },
   {
    "duration": 697,
    "start_time": "2022-02-21T23:17:53.072Z"
   },
   {
    "duration": 43,
    "start_time": "2022-02-21T23:17:53.771Z"
   },
   {
    "duration": 20,
    "start_time": "2022-02-21T23:17:53.816Z"
   },
   {
    "duration": 31,
    "start_time": "2022-02-21T23:17:53.838Z"
   },
   {
    "duration": 16,
    "start_time": "2022-02-21T23:17:53.871Z"
   },
   {
    "duration": 13,
    "start_time": "2022-02-21T23:17:53.888Z"
   },
   {
    "duration": 52,
    "start_time": "2022-02-21T23:17:53.902Z"
   },
   {
    "duration": 14,
    "start_time": "2022-02-21T23:17:53.957Z"
   },
   {
    "duration": 4,
    "start_time": "2022-02-21T23:17:53.974Z"
   },
   {
    "duration": 8,
    "start_time": "2022-02-21T23:17:53.980Z"
   },
   {
    "duration": 6,
    "start_time": "2022-02-21T23:17:53.990Z"
   },
   {
    "duration": 13,
    "start_time": "2022-02-21T23:17:53.998Z"
   },
   {
    "duration": 13,
    "start_time": "2022-02-21T23:17:54.012Z"
   },
   {
    "duration": 12,
    "start_time": "2022-02-21T23:17:54.027Z"
   },
   {
    "duration": 8,
    "start_time": "2022-02-21T23:17:54.041Z"
   },
   {
    "duration": 19,
    "start_time": "2022-02-21T23:17:54.051Z"
   },
   {
    "duration": 9,
    "start_time": "2022-02-21T23:17:54.072Z"
   },
   {
    "duration": 10,
    "start_time": "2022-02-21T23:17:54.083Z"
   },
   {
    "duration": 23,
    "start_time": "2022-02-21T23:17:54.095Z"
   },
   {
    "duration": 3,
    "start_time": "2022-02-21T23:17:54.120Z"
   },
   {
    "duration": 15,
    "start_time": "2022-02-21T23:17:54.125Z"
   },
   {
    "duration": 29,
    "start_time": "2022-02-21T23:17:54.142Z"
   },
   {
    "duration": 7,
    "start_time": "2022-02-21T23:17:54.175Z"
   },
   {
    "duration": 10,
    "start_time": "2022-02-21T23:17:54.185Z"
   },
   {
    "duration": 6,
    "start_time": "2022-02-21T23:17:54.197Z"
   },
   {
    "duration": 10,
    "start_time": "2022-02-21T23:17:54.205Z"
   },
   {
    "duration": 5,
    "start_time": "2022-02-21T23:17:54.217Z"
   },
   {
    "duration": 6,
    "start_time": "2022-02-21T23:17:54.224Z"
   },
   {
    "duration": 37,
    "start_time": "2022-02-21T23:17:54.232Z"
   },
   {
    "duration": 9,
    "start_time": "2022-02-21T23:17:54.271Z"
   },
   {
    "duration": 10,
    "start_time": "2022-02-21T23:17:54.282Z"
   },
   {
    "duration": 12,
    "start_time": "2022-02-21T23:17:54.293Z"
   },
   {
    "duration": 6,
    "start_time": "2022-02-21T23:17:54.307Z"
   },
   {
    "duration": 9,
    "start_time": "2022-02-21T23:17:54.315Z"
   },
   {
    "duration": 45,
    "start_time": "2022-02-21T23:17:54.326Z"
   },
   {
    "duration": 24,
    "start_time": "2022-02-21T23:17:54.374Z"
   },
   {
    "duration": 20,
    "start_time": "2022-02-21T23:17:54.400Z"
   },
   {
    "duration": 13,
    "start_time": "2022-02-21T23:17:54.422Z"
   },
   {
    "duration": 4,
    "start_time": "2022-02-21T23:17:54.470Z"
   },
   {
    "duration": 6,
    "start_time": "2022-02-21T23:17:54.476Z"
   },
   {
    "duration": 8,
    "start_time": "2022-02-21T23:17:54.483Z"
   },
   {
    "duration": 12,
    "start_time": "2022-02-21T23:17:54.493Z"
   },
   {
    "duration": 275,
    "start_time": "2022-02-21T23:17:54.507Z"
   },
   {
    "duration": 9,
    "start_time": "2022-02-21T23:17:54.784Z"
   },
   {
    "duration": 26,
    "start_time": "2022-02-21T23:17:54.795Z"
   },
   {
    "duration": 17,
    "start_time": "2022-02-21T23:18:00.400Z"
   },
   {
    "duration": 283,
    "start_time": "2022-02-21T23:19:38.464Z"
   },
   {
    "duration": 7,
    "start_time": "2022-02-21T23:19:47.651Z"
   },
   {
    "duration": 4,
    "start_time": "2022-02-21T23:20:41.680Z"
   },
   {
    "duration": 10,
    "start_time": "2022-02-21T23:20:41.686Z"
   },
   {
    "duration": 7,
    "start_time": "2022-02-21T23:20:41.698Z"
   },
   {
    "duration": 249,
    "start_time": "2022-02-21T23:20:41.708Z"
   },
   {
    "duration": 13,
    "start_time": "2022-02-21T23:20:41.960Z"
   },
   {
    "duration": 26,
    "start_time": "2022-02-21T23:20:41.975Z"
   },
   {
    "duration": 7,
    "start_time": "2022-02-21T23:20:42.003Z"
   },
   {
    "duration": 5,
    "start_time": "2022-02-21T23:20:42.012Z"
   },
   {
    "duration": 8,
    "start_time": "2022-02-21T23:20:42.019Z"
   },
   {
    "duration": 6,
    "start_time": "2022-02-21T23:20:42.029Z"
   },
   {
    "duration": 5,
    "start_time": "2022-02-21T23:20:42.037Z"
   },
   {
    "duration": 26,
    "start_time": "2022-02-21T23:20:42.044Z"
   },
   {
    "duration": 6,
    "start_time": "2022-02-21T23:20:42.072Z"
   },
   {
    "duration": 3,
    "start_time": "2022-02-21T23:20:42.081Z"
   },
   {
    "duration": 8,
    "start_time": "2022-02-21T23:20:42.086Z"
   },
   {
    "duration": 9,
    "start_time": "2022-02-21T23:20:42.095Z"
   },
   {
    "duration": 7,
    "start_time": "2022-02-21T23:20:42.106Z"
   },
   {
    "duration": 6,
    "start_time": "2022-02-21T23:20:42.115Z"
   },
   {
    "duration": 7,
    "start_time": "2022-02-21T23:20:42.122Z"
   },
   {
    "duration": 5,
    "start_time": "2022-02-21T23:20:42.131Z"
   },
   {
    "duration": 14,
    "start_time": "2022-02-21T23:20:42.138Z"
   },
   {
    "duration": 16,
    "start_time": "2022-02-21T23:20:42.154Z"
   },
   {
    "duration": 6,
    "start_time": "2022-02-21T23:20:42.171Z"
   },
   {
    "duration": 5,
    "start_time": "2022-02-21T23:20:42.179Z"
   },
   {
    "duration": 11,
    "start_time": "2022-02-21T23:20:42.185Z"
   },
   {
    "duration": 8,
    "start_time": "2022-02-21T23:20:42.198Z"
   },
   {
    "duration": 7,
    "start_time": "2022-02-21T23:20:42.208Z"
   },
   {
    "duration": 7,
    "start_time": "2022-02-21T23:20:42.217Z"
   },
   {
    "duration": 5,
    "start_time": "2022-02-21T23:20:42.226Z"
   },
   {
    "duration": 9,
    "start_time": "2022-02-21T23:20:42.232Z"
   },
   {
    "duration": 4,
    "start_time": "2022-02-21T23:20:42.243Z"
   },
   {
    "duration": 8,
    "start_time": "2022-02-21T23:20:42.249Z"
   },
   {
    "duration": 4,
    "start_time": "2022-02-21T23:20:42.268Z"
   },
   {
    "duration": 5,
    "start_time": "2022-02-21T23:20:42.274Z"
   },
   {
    "duration": 5,
    "start_time": "2022-02-21T23:20:42.281Z"
   },
   {
    "duration": 8,
    "start_time": "2022-02-21T23:21:53.709Z"
   },
   {
    "duration": 8,
    "start_time": "2022-02-21T23:22:20.422Z"
   },
   {
    "duration": 6,
    "start_time": "2022-02-21T23:48:57.400Z"
   },
   {
    "duration": 7,
    "start_time": "2022-02-21T23:48:59.236Z"
   },
   {
    "duration": 5,
    "start_time": "2022-02-21T23:48:59.550Z"
   },
   {
    "duration": 6,
    "start_time": "2022-02-21T23:48:59.856Z"
   },
   {
    "duration": 5,
    "start_time": "2022-02-21T23:49:00.236Z"
   },
   {
    "duration": 8,
    "start_time": "2022-02-21T23:49:43.369Z"
   },
   {
    "duration": 8,
    "start_time": "2022-02-21T23:49:43.889Z"
   },
   {
    "duration": 7,
    "start_time": "2022-02-21T23:49:44.439Z"
   },
   {
    "duration": 9,
    "start_time": "2022-02-21T23:49:45.009Z"
   },
   {
    "duration": 7,
    "start_time": "2022-02-21T23:49:45.529Z"
   },
   {
    "duration": 7,
    "start_time": "2022-02-21T23:49:46.531Z"
   },
   {
    "duration": 23,
    "start_time": "2022-02-22T04:58:30.004Z"
   },
   {
    "duration": 4,
    "start_time": "2022-02-22T04:58:32.720Z"
   },
   {
    "duration": 472,
    "start_time": "2022-02-22T16:45:55.179Z"
   },
   {
    "duration": 1089,
    "start_time": "2022-02-22T16:46:28.807Z"
   },
   {
    "duration": 59,
    "start_time": "2022-02-22T16:46:29.898Z"
   },
   {
    "duration": 33,
    "start_time": "2022-02-22T16:46:29.960Z"
   },
   {
    "duration": 30,
    "start_time": "2022-02-22T16:46:29.996Z"
   },
   {
    "duration": 15,
    "start_time": "2022-02-22T16:46:30.028Z"
   },
   {
    "duration": 15,
    "start_time": "2022-02-22T16:46:30.045Z"
   },
   {
    "duration": 3,
    "start_time": "2022-02-22T16:46:30.063Z"
   },
   {
    "duration": 22,
    "start_time": "2022-02-22T16:46:30.113Z"
   },
   {
    "duration": 3,
    "start_time": "2022-02-22T16:46:30.138Z"
   },
   {
    "duration": 7,
    "start_time": "2022-02-22T16:46:30.143Z"
   },
   {
    "duration": 11,
    "start_time": "2022-02-22T16:46:30.152Z"
   },
   {
    "duration": 20,
    "start_time": "2022-02-22T16:46:30.165Z"
   },
   {
    "duration": 33,
    "start_time": "2022-02-22T16:46:30.188Z"
   },
   {
    "duration": 11,
    "start_time": "2022-02-22T16:46:30.224Z"
   },
   {
    "duration": 27,
    "start_time": "2022-02-22T16:46:30.238Z"
   },
   {
    "duration": 12,
    "start_time": "2022-02-22T16:46:30.268Z"
   },
   {
    "duration": 26,
    "start_time": "2022-02-22T16:46:30.283Z"
   },
   {
    "duration": 21,
    "start_time": "2022-02-22T16:46:30.311Z"
   },
   {
    "duration": 43,
    "start_time": "2022-02-22T16:46:30.335Z"
   },
   {
    "duration": 6,
    "start_time": "2022-02-22T16:46:30.380Z"
   },
   {
    "duration": 21,
    "start_time": "2022-02-22T16:46:30.389Z"
   },
   {
    "duration": 24,
    "start_time": "2022-02-22T16:46:30.412Z"
   },
   {
    "duration": 19,
    "start_time": "2022-02-22T16:46:30.441Z"
   },
   {
    "duration": 11,
    "start_time": "2022-02-22T16:46:30.463Z"
   },
   {
    "duration": 11,
    "start_time": "2022-02-22T16:46:30.476Z"
   },
   {
    "duration": 30,
    "start_time": "2022-02-22T16:46:30.489Z"
   },
   {
    "duration": 13,
    "start_time": "2022-02-22T16:46:30.522Z"
   },
   {
    "duration": 22,
    "start_time": "2022-02-22T16:46:30.538Z"
   },
   {
    "duration": 33,
    "start_time": "2022-02-22T16:46:30.562Z"
   },
   {
    "duration": 27,
    "start_time": "2022-02-22T16:46:30.597Z"
   },
   {
    "duration": 25,
    "start_time": "2022-02-22T16:46:30.626Z"
   },
   {
    "duration": 17,
    "start_time": "2022-02-22T16:46:30.654Z"
   },
   {
    "duration": 22,
    "start_time": "2022-02-22T16:46:30.673Z"
   },
   {
    "duration": 14,
    "start_time": "2022-02-22T16:46:30.697Z"
   },
   {
    "duration": 42,
    "start_time": "2022-02-22T16:46:30.713Z"
   },
   {
    "duration": 33,
    "start_time": "2022-02-22T16:46:30.758Z"
   },
   {
    "duration": 34,
    "start_time": "2022-02-22T16:46:30.793Z"
   },
   {
    "duration": 14,
    "start_time": "2022-02-22T16:46:30.830Z"
   },
   {
    "duration": 9,
    "start_time": "2022-02-22T16:46:30.846Z"
   },
   {
    "duration": 11,
    "start_time": "2022-02-22T16:46:30.858Z"
   },
   {
    "duration": 17,
    "start_time": "2022-02-22T16:46:30.872Z"
   },
   {
    "duration": 8,
    "start_time": "2022-02-22T16:46:30.910Z"
   },
   {
    "duration": 397,
    "start_time": "2022-02-22T16:46:30.920Z"
   },
   {
    "duration": 10,
    "start_time": "2022-02-22T16:46:31.320Z"
   },
   {
    "duration": 56,
    "start_time": "2022-02-22T16:46:31.332Z"
   },
   {
    "duration": 9,
    "start_time": "2022-02-22T16:46:31.391Z"
   },
   {
    "duration": 19,
    "start_time": "2022-02-22T16:46:31.402Z"
   },
   {
    "duration": 21,
    "start_time": "2022-02-22T16:46:31.423Z"
   },
   {
    "duration": 15,
    "start_time": "2022-02-22T16:46:31.446Z"
   },
   {
    "duration": 11,
    "start_time": "2022-02-22T16:46:31.464Z"
   },
   {
    "duration": 39,
    "start_time": "2022-02-22T16:46:31.478Z"
   },
   {
    "duration": 9,
    "start_time": "2022-02-22T16:46:31.520Z"
   },
   {
    "duration": 33,
    "start_time": "2022-02-22T16:46:31.531Z"
   },
   {
    "duration": 494,
    "start_time": "2022-02-22T16:46:38.024Z"
   },
   {
    "duration": 3,
    "start_time": "2022-02-22T16:54:03.773Z"
   },
   {
    "duration": 377,
    "start_time": "2022-02-22T16:54:44.630Z"
   },
   {
    "duration": 5,
    "start_time": "2022-02-22T16:56:01.270Z"
   },
   {
    "duration": 355,
    "start_time": "2022-02-22T22:35:25.413Z"
   },
   {
    "duration": 987,
    "start_time": "2022-02-22T22:35:33.999Z"
   },
   {
    "duration": 69,
    "start_time": "2022-02-22T22:35:34.990Z"
   },
   {
    "duration": 41,
    "start_time": "2022-02-22T22:35:35.063Z"
   },
   {
    "duration": 41,
    "start_time": "2022-02-22T22:35:35.107Z"
   },
   {
    "duration": 12,
    "start_time": "2022-02-22T22:35:35.151Z"
   },
   {
    "duration": 15,
    "start_time": "2022-02-22T22:35:35.165Z"
   },
   {
    "duration": 13,
    "start_time": "2022-02-22T22:35:35.182Z"
   },
   {
    "duration": 28,
    "start_time": "2022-02-22T22:35:35.199Z"
   },
   {
    "duration": 17,
    "start_time": "2022-02-22T22:35:35.231Z"
   },
   {
    "duration": 16,
    "start_time": "2022-02-22T22:35:35.252Z"
   },
   {
    "duration": 33,
    "start_time": "2022-02-22T22:35:35.271Z"
   },
   {
    "duration": 32,
    "start_time": "2022-02-22T22:35:35.306Z"
   },
   {
    "duration": 21,
    "start_time": "2022-02-22T22:35:35.341Z"
   },
   {
    "duration": 29,
    "start_time": "2022-02-22T22:35:35.364Z"
   },
   {
    "duration": 51,
    "start_time": "2022-02-22T22:35:35.396Z"
   },
   {
    "duration": 9,
    "start_time": "2022-02-22T22:35:35.449Z"
   },
   {
    "duration": 27,
    "start_time": "2022-02-22T22:35:35.460Z"
   },
   {
    "duration": 54,
    "start_time": "2022-02-22T22:35:35.489Z"
   },
   {
    "duration": 36,
    "start_time": "2022-02-22T22:35:35.546Z"
   },
   {
    "duration": 5,
    "start_time": "2022-02-22T22:35:35.584Z"
   },
   {
    "duration": 29,
    "start_time": "2022-02-22T22:35:35.592Z"
   },
   {
    "duration": 21,
    "start_time": "2022-02-22T22:35:35.623Z"
   },
   {
    "duration": 20,
    "start_time": "2022-02-22T22:35:35.650Z"
   },
   {
    "duration": 21,
    "start_time": "2022-02-22T22:35:35.673Z"
   },
   {
    "duration": 21,
    "start_time": "2022-02-22T22:35:35.696Z"
   },
   {
    "duration": 28,
    "start_time": "2022-02-22T22:35:35.720Z"
   },
   {
    "duration": 27,
    "start_time": "2022-02-22T22:35:35.750Z"
   },
   {
    "duration": 19,
    "start_time": "2022-02-22T22:35:35.780Z"
   },
   {
    "duration": 25,
    "start_time": "2022-02-22T22:35:35.801Z"
   },
   {
    "duration": 24,
    "start_time": "2022-02-22T22:35:35.829Z"
   },
   {
    "duration": 24,
    "start_time": "2022-02-22T22:35:35.856Z"
   },
   {
    "duration": 37,
    "start_time": "2022-02-22T22:35:35.883Z"
   },
   {
    "duration": 24,
    "start_time": "2022-02-22T22:35:35.923Z"
   },
   {
    "duration": 26,
    "start_time": "2022-02-22T22:35:35.950Z"
   },
   {
    "duration": 49,
    "start_time": "2022-02-22T22:35:35.978Z"
   },
   {
    "duration": 29,
    "start_time": "2022-02-22T22:35:36.030Z"
   },
   {
    "duration": 29,
    "start_time": "2022-02-22T22:35:36.062Z"
   },
   {
    "duration": 30,
    "start_time": "2022-02-22T22:35:36.094Z"
   },
   {
    "duration": 32,
    "start_time": "2022-02-22T22:35:36.126Z"
   },
   {
    "duration": 9,
    "start_time": "2022-02-22T22:35:36.160Z"
   },
   {
    "duration": 14,
    "start_time": "2022-02-22T22:35:36.173Z"
   },
   {
    "duration": 28,
    "start_time": "2022-02-22T22:35:36.190Z"
   },
   {
    "duration": 427,
    "start_time": "2022-02-22T22:35:36.221Z"
   },
   {
    "duration": 10,
    "start_time": "2022-02-22T22:35:36.651Z"
   },
   {
    "duration": 68,
    "start_time": "2022-02-22T22:35:36.663Z"
   },
   {
    "duration": 9,
    "start_time": "2022-02-22T22:35:36.733Z"
   },
   {
    "duration": 32,
    "start_time": "2022-02-22T22:35:36.748Z"
   },
   {
    "duration": 32,
    "start_time": "2022-02-22T22:35:36.783Z"
   },
   {
    "duration": 45,
    "start_time": "2022-02-22T22:35:36.818Z"
   },
   {
    "duration": 17,
    "start_time": "2022-02-22T22:35:36.867Z"
   },
   {
    "duration": 21,
    "start_time": "2022-02-22T22:35:36.886Z"
   },
   {
    "duration": 29,
    "start_time": "2022-02-22T22:35:36.909Z"
   },
   {
    "duration": 24,
    "start_time": "2022-02-22T22:35:36.941Z"
   },
   {
    "duration": 25,
    "start_time": "2022-02-22T22:35:39.731Z"
   },
   {
    "duration": 108,
    "start_time": "2022-02-22T22:38:20.874Z"
   },
   {
    "duration": 211,
    "start_time": "2022-02-23T02:45:40.374Z"
   },
   {
    "duration": 751,
    "start_time": "2022-02-23T02:47:48.507Z"
   },
   {
    "duration": 36,
    "start_time": "2022-02-23T02:47:49.260Z"
   },
   {
    "duration": 32,
    "start_time": "2022-02-23T02:47:49.298Z"
   },
   {
    "duration": 12,
    "start_time": "2022-02-23T02:47:49.332Z"
   },
   {
    "duration": 9,
    "start_time": "2022-02-23T02:47:49.346Z"
   },
   {
    "duration": 9,
    "start_time": "2022-02-23T02:47:49.357Z"
   },
   {
    "duration": 2,
    "start_time": "2022-02-23T02:47:49.367Z"
   },
   {
    "duration": 10,
    "start_time": "2022-02-23T02:47:49.371Z"
   },
   {
    "duration": 2,
    "start_time": "2022-02-23T02:47:49.384Z"
   },
   {
    "duration": 3,
    "start_time": "2022-02-23T02:47:49.388Z"
   },
   {
    "duration": 2,
    "start_time": "2022-02-23T02:47:49.431Z"
   },
   {
    "duration": 10,
    "start_time": "2022-02-23T02:47:49.435Z"
   },
   {
    "duration": 11,
    "start_time": "2022-02-23T02:47:49.447Z"
   },
   {
    "duration": 11,
    "start_time": "2022-02-23T02:47:49.459Z"
   },
   {
    "duration": 5,
    "start_time": "2022-02-23T02:47:49.472Z"
   },
   {
    "duration": 4,
    "start_time": "2022-02-23T02:47:49.479Z"
   },
   {
    "duration": 9,
    "start_time": "2022-02-23T02:47:49.485Z"
   },
   {
    "duration": 37,
    "start_time": "2022-02-23T02:47:49.496Z"
   },
   {
    "duration": 17,
    "start_time": "2022-02-23T02:47:49.534Z"
   },
   {
    "duration": 2,
    "start_time": "2022-02-23T02:47:49.553Z"
   },
   {
    "duration": 6,
    "start_time": "2022-02-23T02:47:49.557Z"
   },
   {
    "duration": 8,
    "start_time": "2022-02-23T02:47:49.564Z"
   },
   {
    "duration": 6,
    "start_time": "2022-02-23T02:47:49.574Z"
   },
   {
    "duration": 6,
    "start_time": "2022-02-23T02:47:49.582Z"
   },
   {
    "duration": 6,
    "start_time": "2022-02-23T02:47:49.589Z"
   },
   {
    "duration": 36,
    "start_time": "2022-02-23T02:47:49.596Z"
   },
   {
    "duration": 2,
    "start_time": "2022-02-23T02:47:49.636Z"
   },
   {
    "duration": 5,
    "start_time": "2022-02-23T02:47:49.640Z"
   },
   {
    "duration": 8,
    "start_time": "2022-02-23T02:47:49.646Z"
   },
   {
    "duration": 12,
    "start_time": "2022-02-23T02:47:49.655Z"
   },
   {
    "duration": 7,
    "start_time": "2022-02-23T02:47:49.668Z"
   },
   {
    "duration": 6,
    "start_time": "2022-02-23T02:47:49.676Z"
   },
   {
    "duration": 4,
    "start_time": "2022-02-23T02:47:49.684Z"
   },
   {
    "duration": 5,
    "start_time": "2022-02-23T02:47:49.689Z"
   },
   {
    "duration": 51,
    "start_time": "2022-02-23T02:47:49.695Z"
   },
   {
    "duration": 18,
    "start_time": "2022-02-23T02:47:49.747Z"
   },
   {
    "duration": 15,
    "start_time": "2022-02-23T02:47:49.767Z"
   },
   {
    "duration": 9,
    "start_time": "2022-02-23T02:47:49.784Z"
   },
   {
    "duration": 3,
    "start_time": "2022-02-23T02:47:49.795Z"
   },
   {
    "duration": 31,
    "start_time": "2022-02-23T02:47:49.800Z"
   },
   {
    "duration": 5,
    "start_time": "2022-02-23T02:47:49.833Z"
   },
   {
    "duration": 5,
    "start_time": "2022-02-23T02:47:49.840Z"
   },
   {
    "duration": 236,
    "start_time": "2022-02-23T02:47:49.846Z"
   },
   {
    "duration": 8,
    "start_time": "2022-02-23T02:47:50.084Z"
   },
   {
    "duration": 37,
    "start_time": "2022-02-23T02:47:50.094Z"
   },
   {
    "duration": 8,
    "start_time": "2022-02-23T02:47:50.133Z"
   },
   {
    "duration": 9,
    "start_time": "2022-02-23T02:47:50.143Z"
   },
   {
    "duration": 8,
    "start_time": "2022-02-23T02:47:50.154Z"
   },
   {
    "duration": 8,
    "start_time": "2022-02-23T02:47:50.164Z"
   },
   {
    "duration": 11,
    "start_time": "2022-02-23T02:47:50.174Z"
   },
   {
    "duration": 44,
    "start_time": "2022-02-23T02:47:50.187Z"
   },
   {
    "duration": 7,
    "start_time": "2022-02-23T02:47:50.234Z"
   },
   {
    "duration": 7,
    "start_time": "2022-02-23T02:47:50.242Z"
   },
   {
    "duration": 245,
    "start_time": "2022-02-23T02:47:52.509Z"
   },
   {
    "duration": 14,
    "start_time": "2022-02-23T02:59:03.523Z"
   },
   {
    "duration": 44,
    "start_time": "2022-02-23T03:36:17.060Z"
   },
   {
    "duration": 31,
    "start_time": "2022-02-23T03:36:17.106Z"
   },
   {
    "duration": 18,
    "start_time": "2022-02-23T03:36:17.139Z"
   },
   {
    "duration": 16,
    "start_time": "2022-02-23T03:36:17.159Z"
   },
   {
    "duration": 10,
    "start_time": "2022-02-23T03:36:17.176Z"
   },
   {
    "duration": 44,
    "start_time": "2022-02-23T03:36:17.187Z"
   },
   {
    "duration": 2,
    "start_time": "2022-02-23T03:36:17.233Z"
   },
   {
    "duration": 15,
    "start_time": "2022-02-23T03:36:17.237Z"
   },
   {
    "duration": 1,
    "start_time": "2022-02-23T03:36:17.255Z"
   },
   {
    "duration": 5,
    "start_time": "2022-02-23T03:36:17.258Z"
   },
   {
    "duration": 4,
    "start_time": "2022-02-23T03:36:17.264Z"
   },
   {
    "duration": 9,
    "start_time": "2022-02-23T03:36:17.270Z"
   },
   {
    "duration": 51,
    "start_time": "2022-02-23T03:36:17.280Z"
   },
   {
    "duration": 11,
    "start_time": "2022-02-23T03:36:17.333Z"
   },
   {
    "duration": 21,
    "start_time": "2022-02-23T03:36:17.345Z"
   },
   {
    "duration": 8,
    "start_time": "2022-02-23T03:36:17.368Z"
   },
   {
    "duration": 9,
    "start_time": "2022-02-23T03:36:17.378Z"
   },
   {
    "duration": 10,
    "start_time": "2022-02-23T03:36:17.389Z"
   },
   {
    "duration": 31,
    "start_time": "2022-02-23T03:36:17.400Z"
   },
   {
    "duration": 4,
    "start_time": "2022-02-23T03:36:17.433Z"
   },
   {
    "duration": 6,
    "start_time": "2022-02-23T03:36:17.439Z"
   },
   {
    "duration": 9,
    "start_time": "2022-02-23T03:36:17.447Z"
   },
   {
    "duration": 7,
    "start_time": "2022-02-23T03:36:17.457Z"
   },
   {
    "duration": 4,
    "start_time": "2022-02-23T03:36:17.466Z"
   },
   {
    "duration": 7,
    "start_time": "2022-02-23T03:36:17.471Z"
   },
   {
    "duration": 56,
    "start_time": "2022-02-23T03:36:17.479Z"
   },
   {
    "duration": 2,
    "start_time": "2022-02-23T03:36:17.540Z"
   },
   {
    "duration": 3,
    "start_time": "2022-02-23T03:36:17.545Z"
   },
   {
    "duration": 10,
    "start_time": "2022-02-23T03:36:17.550Z"
   },
   {
    "duration": 8,
    "start_time": "2022-02-23T03:36:17.562Z"
   },
   {
    "duration": 7,
    "start_time": "2022-02-23T03:36:17.571Z"
   },
   {
    "duration": 10,
    "start_time": "2022-02-23T03:36:17.580Z"
   },
   {
    "duration": 39,
    "start_time": "2022-02-23T03:36:17.592Z"
   },
   {
    "duration": 4,
    "start_time": "2022-02-23T03:36:17.633Z"
   },
   {
    "duration": 19,
    "start_time": "2022-02-23T03:36:17.639Z"
   },
   {
    "duration": 17,
    "start_time": "2022-02-23T03:36:17.660Z"
   },
   {
    "duration": 15,
    "start_time": "2022-02-23T03:36:17.679Z"
   },
   {
    "duration": 43,
    "start_time": "2022-02-23T03:36:17.696Z"
   },
   {
    "duration": 2,
    "start_time": "2022-02-23T03:36:17.741Z"
   },
   {
    "duration": 4,
    "start_time": "2022-02-23T03:36:17.745Z"
   },
   {
    "duration": 9,
    "start_time": "2022-02-23T03:36:17.751Z"
   },
   {
    "duration": 7,
    "start_time": "2022-02-23T03:36:17.762Z"
   },
   {
    "duration": 252,
    "start_time": "2022-02-23T03:36:17.770Z"
   },
   {
    "duration": 11,
    "start_time": "2022-02-23T03:36:18.024Z"
   },
   {
    "duration": 23,
    "start_time": "2022-02-23T03:36:18.036Z"
   },
   {
    "duration": 6,
    "start_time": "2022-02-23T03:36:18.060Z"
   },
   {
    "duration": 7,
    "start_time": "2022-02-23T03:36:18.068Z"
   },
   {
    "duration": 7,
    "start_time": "2022-02-23T03:36:18.077Z"
   },
   {
    "duration": 48,
    "start_time": "2022-02-23T03:36:18.085Z"
   },
   {
    "duration": 6,
    "start_time": "2022-02-23T03:36:18.135Z"
   },
   {
    "duration": 7,
    "start_time": "2022-02-23T03:36:18.143Z"
   },
   {
    "duration": 6,
    "start_time": "2022-02-23T03:36:18.151Z"
   },
   {
    "duration": 9,
    "start_time": "2022-02-23T03:36:18.158Z"
   },
   {
    "duration": 282,
    "start_time": "2022-02-23T03:36:18.169Z"
   },
   {
    "duration": 15,
    "start_time": "2022-02-23T03:36:18.452Z"
   },
   {
    "duration": 2,
    "start_time": "2022-02-23T03:36:18.469Z"
   },
   {
    "duration": 5,
    "start_time": "2022-02-23T03:36:18.473Z"
   },
   {
    "duration": 5,
    "start_time": "2022-02-23T03:36:18.479Z"
   },
   {
    "duration": 4,
    "start_time": "2022-02-23T03:36:18.486Z"
   },
   {
    "duration": 6,
    "start_time": "2022-02-23T03:36:18.491Z"
   },
   {
    "duration": 2,
    "start_time": "2022-02-23T03:36:18.530Z"
   },
   {
    "duration": 3,
    "start_time": "2022-02-23T03:36:18.534Z"
   },
   {
    "duration": 4,
    "start_time": "2022-02-23T03:36:18.539Z"
   },
   {
    "duration": 5,
    "start_time": "2022-02-23T03:36:18.544Z"
   },
   {
    "duration": 5,
    "start_time": "2022-02-23T03:36:18.550Z"
   },
   {
    "duration": 6,
    "start_time": "2022-02-23T03:36:18.556Z"
   },
   {
    "duration": 5,
    "start_time": "2022-02-23T03:36:18.563Z"
   },
   {
    "duration": 7,
    "start_time": "2022-02-23T03:36:18.569Z"
   },
   {
    "duration": 5,
    "start_time": "2022-02-23T03:36:18.577Z"
   },
   {
    "duration": 3,
    "start_time": "2022-02-23T03:36:18.584Z"
   },
   {
    "duration": 5,
    "start_time": "2022-02-23T03:36:18.588Z"
   },
   {
    "duration": 4,
    "start_time": "2022-02-23T03:36:18.630Z"
   },
   {
    "duration": 6,
    "start_time": "2022-02-23T03:36:18.636Z"
   },
   {
    "duration": 4,
    "start_time": "2022-02-23T03:36:18.644Z"
   },
   {
    "duration": 4,
    "start_time": "2022-02-23T03:36:18.649Z"
   },
   {
    "duration": 5,
    "start_time": "2022-02-23T03:36:18.654Z"
   },
   {
    "duration": 4,
    "start_time": "2022-02-23T03:36:18.660Z"
   },
   {
    "duration": 6,
    "start_time": "2022-02-23T03:36:18.666Z"
   },
   {
    "duration": 4,
    "start_time": "2022-02-23T03:36:18.673Z"
   },
   {
    "duration": 4,
    "start_time": "2022-02-23T03:36:18.679Z"
   },
   {
    "duration": 20,
    "start_time": "2022-02-23T03:40:45.806Z"
   },
   {
    "duration": 929,
    "start_time": "2022-02-23T03:41:13.015Z"
   },
   {
    "duration": 35,
    "start_time": "2022-02-23T03:41:13.946Z"
   },
   {
    "duration": 17,
    "start_time": "2022-02-23T03:41:13.983Z"
   },
   {
    "duration": 32,
    "start_time": "2022-02-23T03:41:14.002Z"
   },
   {
    "duration": 10,
    "start_time": "2022-02-23T03:41:14.035Z"
   },
   {
    "duration": 8,
    "start_time": "2022-02-23T03:41:14.047Z"
   },
   {
    "duration": 3,
    "start_time": "2022-02-23T03:41:14.056Z"
   },
   {
    "duration": 14,
    "start_time": "2022-02-23T03:41:14.060Z"
   },
   {
    "duration": 2,
    "start_time": "2022-02-23T03:41:14.076Z"
   },
   {
    "duration": 4,
    "start_time": "2022-02-23T03:41:14.080Z"
   },
   {
    "duration": 5,
    "start_time": "2022-02-23T03:41:14.085Z"
   },
   {
    "duration": 7,
    "start_time": "2022-02-23T03:41:14.131Z"
   },
   {
    "duration": 14,
    "start_time": "2022-02-23T03:41:14.139Z"
   },
   {
    "duration": 12,
    "start_time": "2022-02-23T03:41:14.154Z"
   },
   {
    "duration": 9,
    "start_time": "2022-02-23T03:41:14.168Z"
   },
   {
    "duration": 4,
    "start_time": "2022-02-23T03:41:14.178Z"
   },
   {
    "duration": 7,
    "start_time": "2022-02-23T03:41:14.183Z"
   },
   {
    "duration": 40,
    "start_time": "2022-02-23T03:41:14.191Z"
   },
   {
    "duration": 18,
    "start_time": "2022-02-23T03:41:14.233Z"
   },
   {
    "duration": 3,
    "start_time": "2022-02-23T03:41:14.253Z"
   },
   {
    "duration": 7,
    "start_time": "2022-02-23T03:41:14.257Z"
   },
   {
    "duration": 13,
    "start_time": "2022-02-23T03:41:14.266Z"
   },
   {
    "duration": 7,
    "start_time": "2022-02-23T03:41:14.280Z"
   },
   {
    "duration": 4,
    "start_time": "2022-02-23T03:41:14.288Z"
   },
   {
    "duration": 5,
    "start_time": "2022-02-23T03:41:14.330Z"
   },
   {
    "duration": 10,
    "start_time": "2022-02-23T03:41:14.337Z"
   },
   {
    "duration": 4,
    "start_time": "2022-02-23T03:41:14.350Z"
   },
   {
    "duration": 5,
    "start_time": "2022-02-23T03:41:14.356Z"
   },
   {
    "duration": 15,
    "start_time": "2022-02-23T03:41:14.363Z"
   },
   {
    "duration": 8,
    "start_time": "2022-02-23T03:41:14.380Z"
   },
   {
    "duration": 42,
    "start_time": "2022-02-23T03:41:14.389Z"
   },
   {
    "duration": 8,
    "start_time": "2022-02-23T03:41:14.432Z"
   },
   {
    "duration": 14,
    "start_time": "2022-02-23T03:41:14.441Z"
   },
   {
    "duration": 6,
    "start_time": "2022-02-23T03:41:14.456Z"
   },
   {
    "duration": 19,
    "start_time": "2022-02-23T03:41:14.464Z"
   },
   {
    "duration": 17,
    "start_time": "2022-02-23T03:41:14.485Z"
   },
   {
    "duration": 36,
    "start_time": "2022-02-23T03:41:14.504Z"
   },
   {
    "duration": 10,
    "start_time": "2022-02-23T03:41:14.541Z"
   },
   {
    "duration": 4,
    "start_time": "2022-02-23T03:41:14.552Z"
   },
   {
    "duration": 4,
    "start_time": "2022-02-23T03:41:14.558Z"
   },
   {
    "duration": 6,
    "start_time": "2022-02-23T03:41:14.564Z"
   },
   {
    "duration": 5,
    "start_time": "2022-02-23T03:41:14.571Z"
   },
   {
    "duration": 255,
    "start_time": "2022-02-23T03:41:14.577Z"
   },
   {
    "duration": 7,
    "start_time": "2022-02-23T03:41:14.834Z"
   },
   {
    "duration": 18,
    "start_time": "2022-02-23T03:41:25.391Z"
   },
   {
    "duration": 22,
    "start_time": "2022-02-23T03:43:36.797Z"
   },
   {
    "duration": 17,
    "start_time": "2022-02-23T03:44:03.734Z"
   },
   {
    "duration": 17,
    "start_time": "2022-02-23T03:48:31.917Z"
   },
   {
    "duration": 11,
    "start_time": "2022-02-23T03:49:41.665Z"
   },
   {
    "duration": 29,
    "start_time": "2022-02-23T03:50:01.344Z"
   },
   {
    "duration": 38,
    "start_time": "2022-02-23T04:07:39.766Z"
   },
   {
    "duration": 30,
    "start_time": "2022-02-23T04:07:39.806Z"
   },
   {
    "duration": 18,
    "start_time": "2022-02-23T04:07:39.838Z"
   },
   {
    "duration": 15,
    "start_time": "2022-02-23T04:07:39.858Z"
   },
   {
    "duration": 9,
    "start_time": "2022-02-23T04:07:39.875Z"
   },
   {
    "duration": 8,
    "start_time": "2022-02-23T04:07:39.886Z"
   },
   {
    "duration": 34,
    "start_time": "2022-02-23T04:07:39.896Z"
   },
   {
    "duration": 12,
    "start_time": "2022-02-23T04:07:39.932Z"
   },
   {
    "duration": 3,
    "start_time": "2022-02-23T04:07:39.947Z"
   },
   {
    "duration": 5,
    "start_time": "2022-02-23T04:07:39.952Z"
   },
   {
    "duration": 5,
    "start_time": "2022-02-23T04:07:39.958Z"
   },
   {
    "duration": 8,
    "start_time": "2022-02-23T04:07:39.965Z"
   },
   {
    "duration": 9,
    "start_time": "2022-02-23T04:07:39.975Z"
   },
   {
    "duration": 48,
    "start_time": "2022-02-23T04:07:39.986Z"
   },
   {
    "duration": 6,
    "start_time": "2022-02-23T04:07:40.036Z"
   },
   {
    "duration": 6,
    "start_time": "2022-02-23T04:07:40.043Z"
   },
   {
    "duration": 7,
    "start_time": "2022-02-23T04:07:40.050Z"
   },
   {
    "duration": 7,
    "start_time": "2022-02-23T04:07:40.059Z"
   },
   {
    "duration": 20,
    "start_time": "2022-02-23T04:07:40.067Z"
   },
   {
    "duration": 2,
    "start_time": "2022-02-23T04:07:40.089Z"
   },
   {
    "duration": 41,
    "start_time": "2022-02-23T04:07:40.093Z"
   },
   {
    "duration": 9,
    "start_time": "2022-02-23T04:07:40.135Z"
   },
   {
    "duration": 7,
    "start_time": "2022-02-23T04:07:40.146Z"
   },
   {
    "duration": 6,
    "start_time": "2022-02-23T04:07:40.155Z"
   },
   {
    "duration": 4,
    "start_time": "2022-02-23T04:07:40.163Z"
   },
   {
    "duration": 8,
    "start_time": "2022-02-23T04:07:40.169Z"
   },
   {
    "duration": 9,
    "start_time": "2022-02-23T04:07:40.180Z"
   },
   {
    "duration": 2,
    "start_time": "2022-02-23T04:07:40.230Z"
   },
   {
    "duration": 9,
    "start_time": "2022-02-23T04:07:40.234Z"
   },
   {
    "duration": 8,
    "start_time": "2022-02-23T04:07:40.245Z"
   },
   {
    "duration": 7,
    "start_time": "2022-02-23T04:07:40.255Z"
   },
   {
    "duration": 7,
    "start_time": "2022-02-23T04:07:40.264Z"
   },
   {
    "duration": 6,
    "start_time": "2022-02-23T04:07:40.273Z"
   },
   {
    "duration": 4,
    "start_time": "2022-02-23T04:07:40.280Z"
   },
   {
    "duration": 54,
    "start_time": "2022-02-23T04:07:40.286Z"
   },
   {
    "duration": 16,
    "start_time": "2022-02-23T04:07:40.341Z"
   },
   {
    "duration": 15,
    "start_time": "2022-02-23T04:07:40.359Z"
   },
   {
    "duration": 9,
    "start_time": "2022-02-23T04:07:40.375Z"
   },
   {
    "duration": 3,
    "start_time": "2022-02-23T04:07:40.385Z"
   },
   {
    "duration": 5,
    "start_time": "2022-02-23T04:07:40.390Z"
   },
   {
    "duration": 5,
    "start_time": "2022-02-23T04:07:40.429Z"
   },
   {
    "duration": 8,
    "start_time": "2022-02-23T04:07:40.436Z"
   },
   {
    "duration": 243,
    "start_time": "2022-02-23T04:07:40.446Z"
   },
   {
    "duration": 7,
    "start_time": "2022-02-23T04:07:40.690Z"
   },
   {
    "duration": 32,
    "start_time": "2022-02-23T04:07:40.699Z"
   },
   {
    "duration": 869,
    "start_time": "2022-02-24T02:20:06.815Z"
   },
   {
    "duration": 57,
    "start_time": "2022-02-24T02:20:07.687Z"
   },
   {
    "duration": 31,
    "start_time": "2022-02-24T02:20:07.747Z"
   },
   {
    "duration": 46,
    "start_time": "2022-02-24T02:20:07.782Z"
   },
   {
    "duration": 14,
    "start_time": "2022-02-24T02:20:07.831Z"
   },
   {
    "duration": 14,
    "start_time": "2022-02-24T02:20:07.848Z"
   },
   {
    "duration": 3,
    "start_time": "2022-02-24T02:20:07.864Z"
   },
   {
    "duration": 57,
    "start_time": "2022-02-24T02:20:07.871Z"
   },
   {
    "duration": 3,
    "start_time": "2022-02-24T02:20:07.932Z"
   },
   {
    "duration": 7,
    "start_time": "2022-02-24T02:20:07.937Z"
   },
   {
    "duration": 6,
    "start_time": "2022-02-24T02:20:07.947Z"
   },
   {
    "duration": 15,
    "start_time": "2022-02-24T02:20:07.956Z"
   },
   {
    "duration": 17,
    "start_time": "2022-02-24T02:20:07.974Z"
   },
   {
    "duration": 41,
    "start_time": "2022-02-24T02:20:07.994Z"
   },
   {
    "duration": 11,
    "start_time": "2022-02-24T02:20:08.037Z"
   },
   {
    "duration": 6,
    "start_time": "2022-02-24T02:20:08.050Z"
   },
   {
    "duration": 9,
    "start_time": "2022-02-24T02:20:08.058Z"
   },
   {
    "duration": 10,
    "start_time": "2022-02-24T02:20:08.069Z"
   },
   {
    "duration": 27,
    "start_time": "2022-02-24T02:20:08.126Z"
   },
   {
    "duration": 4,
    "start_time": "2022-02-24T02:20:08.155Z"
   },
   {
    "duration": 9,
    "start_time": "2022-02-24T02:20:08.162Z"
   },
   {
    "duration": 12,
    "start_time": "2022-02-24T02:20:08.173Z"
   },
   {
    "duration": 38,
    "start_time": "2022-02-24T02:20:08.190Z"
   },
   {
    "duration": 6,
    "start_time": "2022-02-24T02:20:08.231Z"
   },
   {
    "duration": 9,
    "start_time": "2022-02-24T02:20:08.240Z"
   },
   {
    "duration": 11,
    "start_time": "2022-02-24T02:20:08.251Z"
   },
   {
    "duration": 6,
    "start_time": "2022-02-24T02:20:08.264Z"
   },
   {
    "duration": 6,
    "start_time": "2022-02-24T02:20:08.272Z"
   },
   {
    "duration": 53,
    "start_time": "2022-02-24T02:20:08.280Z"
   },
   {
    "duration": 15,
    "start_time": "2022-02-24T02:20:08.335Z"
   },
   {
    "duration": 10,
    "start_time": "2022-02-24T02:20:08.352Z"
   },
   {
    "duration": 16,
    "start_time": "2022-02-24T02:20:08.365Z"
   },
   {
    "duration": 11,
    "start_time": "2022-02-24T02:20:08.383Z"
   },
   {
    "duration": 3,
    "start_time": "2022-02-24T02:20:08.427Z"
   },
   {
    "duration": 39,
    "start_time": "2022-02-24T02:20:08.432Z"
   },
   {
    "duration": 28,
    "start_time": "2022-02-24T02:20:08.473Z"
   },
   {
    "duration": 46,
    "start_time": "2022-02-24T02:20:08.504Z"
   },
   {
    "duration": 14,
    "start_time": "2022-02-24T02:20:08.552Z"
   },
   {
    "duration": 4,
    "start_time": "2022-02-24T02:20:08.568Z"
   },
   {
    "duration": 8,
    "start_time": "2022-02-24T02:20:08.575Z"
   },
   {
    "duration": 43,
    "start_time": "2022-02-24T02:20:08.585Z"
   },
   {
    "duration": 8,
    "start_time": "2022-02-24T02:20:08.630Z"
   },
   {
    "duration": 396,
    "start_time": "2022-02-24T02:20:08.640Z"
   },
   {
    "duration": 9,
    "start_time": "2022-02-24T02:20:09.039Z"
   },
   {
    "duration": 32,
    "start_time": "2022-02-24T02:20:09.051Z"
   },
   {
    "duration": 49,
    "start_time": "2022-02-24T02:22:52.226Z"
   },
   {
    "duration": 829,
    "start_time": "2022-02-24T02:29:28.127Z"
   },
   {
    "duration": 70,
    "start_time": "2022-02-24T02:29:28.959Z"
   },
   {
    "duration": 32,
    "start_time": "2022-02-24T02:29:29.034Z"
   },
   {
    "duration": 18,
    "start_time": "2022-02-24T02:29:29.070Z"
   },
   {
    "duration": 15,
    "start_time": "2022-02-24T02:29:29.127Z"
   },
   {
    "duration": 19,
    "start_time": "2022-02-24T02:29:29.145Z"
   },
   {
    "duration": 14,
    "start_time": "2022-02-24T02:29:29.167Z"
   },
   {
    "duration": 32,
    "start_time": "2022-02-24T02:29:29.183Z"
   },
   {
    "duration": 2,
    "start_time": "2022-02-24T02:29:29.227Z"
   },
   {
    "duration": 9,
    "start_time": "2022-02-24T02:29:29.232Z"
   },
   {
    "duration": 7,
    "start_time": "2022-02-24T02:29:29.243Z"
   },
   {
    "duration": 11,
    "start_time": "2022-02-24T02:29:29.252Z"
   },
   {
    "duration": 16,
    "start_time": "2022-02-24T02:29:29.266Z"
   },
   {
    "duration": 43,
    "start_time": "2022-02-24T02:29:29.284Z"
   },
   {
    "duration": 9,
    "start_time": "2022-02-24T02:29:29.330Z"
   },
   {
    "duration": 7,
    "start_time": "2022-02-24T02:29:29.342Z"
   },
   {
    "duration": 11,
    "start_time": "2022-02-24T02:29:29.351Z"
   },
   {
    "duration": 9,
    "start_time": "2022-02-24T02:29:29.364Z"
   },
   {
    "duration": 69,
    "start_time": "2022-02-24T02:29:29.375Z"
   },
   {
    "duration": 4,
    "start_time": "2022-02-24T02:29:29.447Z"
   },
   {
    "duration": 10,
    "start_time": "2022-02-24T02:29:29.453Z"
   },
   {
    "duration": 18,
    "start_time": "2022-02-24T02:29:29.465Z"
   },
   {
    "duration": 40,
    "start_time": "2022-02-24T02:29:29.485Z"
   },
   {
    "duration": 6,
    "start_time": "2022-02-24T02:29:29.528Z"
   },
   {
    "duration": 8,
    "start_time": "2022-02-24T02:29:29.537Z"
   },
   {
    "duration": 10,
    "start_time": "2022-02-24T02:29:29.547Z"
   },
   {
    "duration": 3,
    "start_time": "2022-02-24T02:29:29.562Z"
   },
   {
    "duration": 6,
    "start_time": "2022-02-24T02:29:29.568Z"
   },
   {
    "duration": 53,
    "start_time": "2022-02-24T02:29:29.576Z"
   },
   {
    "duration": 13,
    "start_time": "2022-02-24T02:29:29.632Z"
   },
   {
    "duration": 11,
    "start_time": "2022-02-24T02:29:29.647Z"
   },
   {
    "duration": 16,
    "start_time": "2022-02-24T02:29:29.661Z"
   },
   {
    "duration": 8,
    "start_time": "2022-02-24T02:29:29.679Z"
   },
   {
    "duration": 36,
    "start_time": "2022-02-24T02:29:29.690Z"
   },
   {
    "duration": 29,
    "start_time": "2022-02-24T02:29:29.729Z"
   },
   {
    "duration": 30,
    "start_time": "2022-02-24T02:29:29.761Z"
   },
   {
    "duration": 49,
    "start_time": "2022-02-24T02:29:29.794Z"
   },
   {
    "duration": 13,
    "start_time": "2022-02-24T02:29:29.846Z"
   },
   {
    "duration": 4,
    "start_time": "2022-02-24T02:29:29.862Z"
   },
   {
    "duration": 13,
    "start_time": "2022-02-24T02:29:29.869Z"
   },
   {
    "duration": 11,
    "start_time": "2022-02-24T02:29:29.884Z"
   },
   {
    "duration": 7,
    "start_time": "2022-02-24T02:29:29.926Z"
   },
   {
    "duration": 401,
    "start_time": "2022-02-24T02:29:29.936Z"
   },
   {
    "duration": 9,
    "start_time": "2022-02-24T02:29:30.339Z"
   },
   {
    "duration": 34,
    "start_time": "2022-02-24T02:29:30.351Z"
   },
   {
    "duration": 865,
    "start_time": "2022-02-24T02:42:18.788Z"
   },
   {
    "duration": 72,
    "start_time": "2022-02-24T02:42:19.656Z"
   },
   {
    "duration": 34,
    "start_time": "2022-02-24T02:42:19.732Z"
   },
   {
    "duration": 15,
    "start_time": "2022-02-24T02:42:19.769Z"
   },
   {
    "duration": 50,
    "start_time": "2022-02-24T02:42:19.786Z"
   },
   {
    "duration": 13,
    "start_time": "2022-02-24T02:42:19.838Z"
   },
   {
    "duration": 4,
    "start_time": "2022-02-24T02:42:19.853Z"
   },
   {
    "duration": 15,
    "start_time": "2022-02-24T02:42:19.860Z"
   },
   {
    "duration": 3,
    "start_time": "2022-02-24T02:42:19.928Z"
   },
   {
    "duration": 6,
    "start_time": "2022-02-24T02:42:19.933Z"
   },
   {
    "duration": 6,
    "start_time": "2022-02-24T02:42:19.942Z"
   },
   {
    "duration": 13,
    "start_time": "2022-02-24T02:42:19.951Z"
   },
   {
    "duration": 64,
    "start_time": "2022-02-24T02:42:19.966Z"
   },
   {
    "duration": 17,
    "start_time": "2022-02-24T02:42:20.033Z"
   },
   {
    "duration": 12,
    "start_time": "2022-02-24T02:42:20.052Z"
   },
   {
    "duration": 6,
    "start_time": "2022-02-24T02:42:20.066Z"
   },
   {
    "duration": 10,
    "start_time": "2022-02-24T02:42:20.074Z"
   },
   {
    "duration": 7,
    "start_time": "2022-02-24T02:42:20.127Z"
   },
   {
    "duration": 28,
    "start_time": "2022-02-24T02:42:20.136Z"
   },
   {
    "duration": 4,
    "start_time": "2022-02-24T02:42:20.167Z"
   },
   {
    "duration": 54,
    "start_time": "2022-02-24T02:42:20.174Z"
   },
   {
    "duration": 15,
    "start_time": "2022-02-24T02:42:20.231Z"
   },
   {
    "duration": 12,
    "start_time": "2022-02-24T02:42:20.253Z"
   },
   {
    "duration": 7,
    "start_time": "2022-02-24T02:42:20.271Z"
   },
   {
    "duration": 51,
    "start_time": "2022-02-24T02:42:20.281Z"
   },
   {
    "duration": 13,
    "start_time": "2022-02-24T02:42:20.334Z"
   },
   {
    "duration": 10,
    "start_time": "2022-02-24T02:42:20.350Z"
   },
   {
    "duration": 9,
    "start_time": "2022-02-24T02:42:20.363Z"
   },
   {
    "duration": 54,
    "start_time": "2022-02-24T02:42:20.375Z"
   },
   {
    "duration": 16,
    "start_time": "2022-02-24T02:42:20.431Z"
   },
   {
    "duration": 16,
    "start_time": "2022-02-24T02:42:20.450Z"
   },
   {
    "duration": 13,
    "start_time": "2022-02-24T02:42:20.469Z"
   },
   {
    "duration": 41,
    "start_time": "2022-02-24T02:42:20.485Z"
   },
   {
    "duration": 6,
    "start_time": "2022-02-24T02:42:20.529Z"
   },
   {
    "duration": 33,
    "start_time": "2022-02-24T02:42:20.537Z"
   },
   {
    "duration": 59,
    "start_time": "2022-02-24T02:42:20.573Z"
   },
   {
    "duration": 24,
    "start_time": "2022-02-24T02:42:20.634Z"
   },
   {
    "duration": 17,
    "start_time": "2022-02-24T02:42:20.661Z"
   },
   {
    "duration": 44,
    "start_time": "2022-02-24T02:42:20.682Z"
   },
   {
    "duration": 6,
    "start_time": "2022-02-24T02:42:20.729Z"
   },
   {
    "duration": 13,
    "start_time": "2022-02-24T02:42:20.737Z"
   },
   {
    "duration": 15,
    "start_time": "2022-02-24T02:42:20.753Z"
   },
   {
    "duration": 411,
    "start_time": "2022-02-24T02:42:20.770Z"
   },
   {
    "duration": 10,
    "start_time": "2022-02-24T02:42:21.183Z"
   },
   {
    "duration": 55,
    "start_time": "2022-02-24T02:42:21.195Z"
   },
   {
    "duration": 47,
    "start_time": "2022-02-24T02:42:21.253Z"
   },
   {
    "duration": 50,
    "start_time": "2022-02-24T02:42:21.303Z"
   },
   {
    "duration": 11,
    "start_time": "2022-02-24T02:42:21.355Z"
   },
   {
    "duration": 10,
    "start_time": "2022-02-24T02:42:21.369Z"
   },
   {
    "duration": 55,
    "start_time": "2022-02-24T02:42:21.382Z"
   },
   {
    "duration": 13,
    "start_time": "2022-02-24T02:42:21.440Z"
   },
   {
    "duration": 10,
    "start_time": "2022-02-24T02:42:21.455Z"
   },
   {
    "duration": 9,
    "start_time": "2022-02-24T02:42:21.468Z"
   },
   {
    "duration": 55,
    "start_time": "2022-02-24T02:42:21.479Z"
   },
   {
    "duration": 16,
    "start_time": "2022-02-24T02:42:21.536Z"
   },
   {
    "duration": 534,
    "start_time": "2022-02-24T02:42:21.555Z"
   },
   {
    "duration": 39,
    "start_time": "2022-02-24T02:42:22.092Z"
   },
   {
    "duration": 11,
    "start_time": "2022-02-24T02:42:22.133Z"
   },
   {
    "duration": 11,
    "start_time": "2022-02-24T02:42:22.147Z"
   },
   {
    "duration": 11,
    "start_time": "2022-02-24T02:42:22.160Z"
   },
   {
    "duration": 8,
    "start_time": "2022-02-24T02:42:22.174Z"
   },
   {
    "duration": 9,
    "start_time": "2022-02-24T02:42:22.184Z"
   },
   {
    "duration": 31,
    "start_time": "2022-02-24T02:42:22.195Z"
   },
   {
    "duration": 7,
    "start_time": "2022-02-24T02:42:22.228Z"
   },
   {
    "duration": 9,
    "start_time": "2022-02-24T02:42:22.237Z"
   },
   {
    "duration": 6,
    "start_time": "2022-02-24T02:42:22.248Z"
   },
   {
    "duration": 6,
    "start_time": "2022-02-24T02:42:22.256Z"
   },
   {
    "duration": 8,
    "start_time": "2022-02-24T02:42:22.269Z"
   },
   {
    "duration": 48,
    "start_time": "2022-02-24T02:42:22.280Z"
   },
   {
    "duration": 8,
    "start_time": "2022-02-24T02:42:22.330Z"
   },
   {
    "duration": 9,
    "start_time": "2022-02-24T02:42:22.341Z"
   },
   {
    "duration": 10,
    "start_time": "2022-02-24T02:42:22.352Z"
   },
   {
    "duration": 12,
    "start_time": "2022-02-24T02:42:22.364Z"
   },
   {
    "duration": 7,
    "start_time": "2022-02-24T02:42:22.379Z"
   },
   {
    "duration": 11,
    "start_time": "2022-02-24T02:42:22.388Z"
   },
   {
    "duration": 25,
    "start_time": "2022-02-24T02:42:22.402Z"
   },
   {
    "duration": 9,
    "start_time": "2022-02-24T02:42:22.430Z"
   },
   {
    "duration": 6,
    "start_time": "2022-02-24T02:42:22.441Z"
   },
   {
    "duration": 9,
    "start_time": "2022-02-24T02:42:22.450Z"
   },
   {
    "duration": 7,
    "start_time": "2022-02-24T02:42:22.461Z"
   },
   {
    "duration": 7,
    "start_time": "2022-02-24T02:42:22.470Z"
   },
   {
    "duration": 52,
    "start_time": "2022-02-24T02:42:22.479Z"
   },
   {
    "duration": 529,
    "start_time": "2022-02-24T02:44:11.436Z"
   },
   {
    "duration": 25,
    "start_time": "2022-02-24T02:44:15.480Z"
   },
   {
    "duration": 495,
    "start_time": "2022-02-24T02:54:22.735Z"
   },
   {
    "duration": 26,
    "start_time": "2022-02-24T02:54:29.794Z"
   },
   {
    "duration": 12,
    "start_time": "2022-02-24T02:55:44.900Z"
   },
   {
    "duration": 809,
    "start_time": "2022-02-24T03:01:05.165Z"
   },
   {
    "duration": 71,
    "start_time": "2022-02-24T03:01:05.977Z"
   },
   {
    "duration": 31,
    "start_time": "2022-02-24T03:01:06.052Z"
   },
   {
    "duration": 42,
    "start_time": "2022-02-24T03:01:06.086Z"
   },
   {
    "duration": 18,
    "start_time": "2022-02-24T03:01:06.132Z"
   },
   {
    "duration": 16,
    "start_time": "2022-02-24T03:01:06.153Z"
   },
   {
    "duration": 6,
    "start_time": "2022-02-24T03:01:06.172Z"
   },
   {
    "duration": 64,
    "start_time": "2022-02-24T03:01:06.180Z"
   },
   {
    "duration": 4,
    "start_time": "2022-02-24T03:01:06.248Z"
   },
   {
    "duration": 6,
    "start_time": "2022-02-24T03:01:06.255Z"
   },
   {
    "duration": 11,
    "start_time": "2022-02-24T03:01:06.264Z"
   },
   {
    "duration": 56,
    "start_time": "2022-02-24T03:01:06.277Z"
   },
   {
    "duration": 16,
    "start_time": "2022-02-24T03:01:06.336Z"
   },
   {
    "duration": 15,
    "start_time": "2022-02-24T03:01:06.355Z"
   },
   {
    "duration": 13,
    "start_time": "2022-02-24T03:01:06.372Z"
   },
   {
    "duration": 41,
    "start_time": "2022-02-24T03:01:06.387Z"
   },
   {
    "duration": 9,
    "start_time": "2022-02-24T03:01:06.430Z"
   },
   {
    "duration": 11,
    "start_time": "2022-02-24T03:01:06.441Z"
   },
   {
    "duration": 27,
    "start_time": "2022-02-24T03:01:06.454Z"
   },
   {
    "duration": 5,
    "start_time": "2022-02-24T03:01:06.527Z"
   },
   {
    "duration": 15,
    "start_time": "2022-02-24T03:01:06.534Z"
   },
   {
    "duration": 14,
    "start_time": "2022-02-24T03:01:06.551Z"
   },
   {
    "duration": 8,
    "start_time": "2022-02-24T03:01:06.568Z"
   },
   {
    "duration": 57,
    "start_time": "2022-02-24T03:01:06.579Z"
   },
   {
    "duration": 7,
    "start_time": "2022-02-24T03:01:06.639Z"
   },
   {
    "duration": 10,
    "start_time": "2022-02-24T03:01:06.649Z"
   },
   {
    "duration": 7,
    "start_time": "2022-02-24T03:01:06.664Z"
   },
   {
    "duration": 9,
    "start_time": "2022-02-24T03:01:06.675Z"
   },
   {
    "duration": 50,
    "start_time": "2022-02-24T03:01:06.687Z"
   },
   {
    "duration": 14,
    "start_time": "2022-02-24T03:01:06.740Z"
   },
   {
    "duration": 11,
    "start_time": "2022-02-24T03:01:06.756Z"
   },
   {
    "duration": 16,
    "start_time": "2022-02-24T03:01:06.769Z"
   },
   {
    "duration": 43,
    "start_time": "2022-02-24T03:01:06.787Z"
   },
   {
    "duration": 30,
    "start_time": "2022-02-24T03:01:06.833Z"
   },
   {
    "duration": 38,
    "start_time": "2022-02-24T03:01:06.866Z"
   },
   {
    "duration": 44,
    "start_time": "2022-02-24T03:01:06.906Z"
   },
   {
    "duration": 25,
    "start_time": "2022-02-24T03:01:06.953Z"
   },
   {
    "duration": 14,
    "start_time": "2022-02-24T03:01:06.981Z"
   },
   {
    "duration": 29,
    "start_time": "2022-02-24T03:01:06.998Z"
   },
   {
    "duration": 5,
    "start_time": "2022-02-24T03:01:07.030Z"
   },
   {
    "duration": 11,
    "start_time": "2022-02-24T03:01:07.038Z"
   },
   {
    "duration": 9,
    "start_time": "2022-02-24T03:01:07.052Z"
   },
   {
    "duration": 471,
    "start_time": "2022-02-24T03:01:07.064Z"
   },
   {
    "duration": 9,
    "start_time": "2022-02-24T03:01:07.538Z"
   },
   {
    "duration": 38,
    "start_time": "2022-02-24T03:01:07.550Z"
   },
   {
    "duration": 77,
    "start_time": "2022-02-24T03:01:07.591Z"
   },
   {
    "duration": 11,
    "start_time": "2022-02-24T03:01:07.671Z"
   },
   {
    "duration": 41,
    "start_time": "2022-02-24T03:01:07.685Z"
   },
   {
    "duration": 21,
    "start_time": "2022-02-24T03:01:07.729Z"
   },
   {
    "duration": 10,
    "start_time": "2022-02-24T03:01:07.753Z"
   },
   {
    "duration": 9,
    "start_time": "2022-02-24T03:01:07.766Z"
   },
   {
    "duration": 50,
    "start_time": "2022-02-24T03:01:07.778Z"
   },
   {
    "duration": 8,
    "start_time": "2022-02-24T03:01:07.831Z"
   },
   {
    "duration": 12,
    "start_time": "2022-02-24T03:01:41.382Z"
   },
   {
    "duration": 12,
    "start_time": "2022-02-24T03:01:53.095Z"
   },
   {
    "duration": 504,
    "start_time": "2022-02-24T03:02:00.101Z"
   },
   {
    "duration": 26,
    "start_time": "2022-02-24T03:02:04.089Z"
   },
   {
    "duration": 3,
    "start_time": "2022-02-24T03:02:06.675Z"
   },
   {
    "duration": 12,
    "start_time": "2022-02-24T03:02:08.077Z"
   },
   {
    "duration": 53,
    "start_time": "2022-02-24T03:03:41.341Z"
   },
   {
    "duration": 370,
    "start_time": "2022-02-24T16:21:13.779Z"
   },
   {
    "duration": 830,
    "start_time": "2022-02-24T16:21:21.055Z"
   },
   {
    "duration": 64,
    "start_time": "2022-02-24T16:21:21.888Z"
   },
   {
    "duration": 33,
    "start_time": "2022-02-24T16:21:21.956Z"
   },
   {
    "duration": 43,
    "start_time": "2022-02-24T16:21:21.992Z"
   },
   {
    "duration": 16,
    "start_time": "2022-02-24T16:21:22.038Z"
   },
   {
    "duration": 14,
    "start_time": "2022-02-24T16:21:22.056Z"
   },
   {
    "duration": 4,
    "start_time": "2022-02-24T16:21:22.072Z"
   },
   {
    "duration": 58,
    "start_time": "2022-02-24T16:21:22.080Z"
   },
   {
    "duration": 3,
    "start_time": "2022-02-24T16:21:22.141Z"
   },
   {
    "duration": 10,
    "start_time": "2022-02-24T16:21:22.146Z"
   },
   {
    "duration": 12,
    "start_time": "2022-02-24T16:21:22.158Z"
   },
   {
    "duration": 14,
    "start_time": "2022-02-24T16:21:22.173Z"
   },
   {
    "duration": 44,
    "start_time": "2022-02-24T16:21:22.189Z"
   },
   {
    "duration": 12,
    "start_time": "2022-02-24T16:21:22.236Z"
   },
   {
    "duration": 15,
    "start_time": "2022-02-24T16:21:22.251Z"
   },
   {
    "duration": 8,
    "start_time": "2022-02-24T16:21:22.268Z"
   },
   {
    "duration": 13,
    "start_time": "2022-02-24T16:21:22.279Z"
   },
   {
    "duration": 6,
    "start_time": "2022-02-24T16:21:22.327Z"
   },
   {
    "duration": 30,
    "start_time": "2022-02-24T16:21:22.336Z"
   },
   {
    "duration": 5,
    "start_time": "2022-02-24T16:21:22.368Z"
   },
   {
    "duration": 14,
    "start_time": "2022-02-24T16:21:22.375Z"
   },
   {
    "duration": 40,
    "start_time": "2022-02-24T16:21:22.392Z"
   },
   {
    "duration": 9,
    "start_time": "2022-02-24T16:21:22.438Z"
   },
   {
    "duration": 13,
    "start_time": "2022-02-24T16:21:22.450Z"
   },
   {
    "duration": 7,
    "start_time": "2022-02-24T16:21:22.465Z"
   },
   {
    "duration": 12,
    "start_time": "2022-02-24T16:21:22.474Z"
   },
   {
    "duration": 3,
    "start_time": "2022-02-24T16:21:22.527Z"
   },
   {
    "duration": 9,
    "start_time": "2022-02-24T16:21:22.533Z"
   },
   {
    "duration": 13,
    "start_time": "2022-02-24T16:21:22.544Z"
   },
   {
    "duration": 13,
    "start_time": "2022-02-24T16:21:22.559Z"
   },
   {
    "duration": 10,
    "start_time": "2022-02-24T16:21:22.575Z"
   },
   {
    "duration": 11,
    "start_time": "2022-02-24T16:21:22.626Z"
   },
   {
    "duration": 5,
    "start_time": "2022-02-24T16:21:22.640Z"
   },
   {
    "duration": 6,
    "start_time": "2022-02-24T16:21:22.648Z"
   },
   {
    "duration": 28,
    "start_time": "2022-02-24T16:21:22.656Z"
   },
   {
    "duration": 64,
    "start_time": "2022-02-24T16:21:22.687Z"
   },
   {
    "duration": 27,
    "start_time": "2022-02-24T16:21:22.754Z"
   },
   {
    "duration": 15,
    "start_time": "2022-02-24T16:21:22.784Z"
   },
   {
    "duration": 33,
    "start_time": "2022-02-24T16:21:22.801Z"
   },
   {
    "duration": 11,
    "start_time": "2022-02-24T16:21:22.837Z"
   },
   {
    "duration": 25,
    "start_time": "2022-02-24T16:21:22.850Z"
   },
   {
    "duration": 23,
    "start_time": "2022-02-24T16:21:22.878Z"
   },
   {
    "duration": 423,
    "start_time": "2022-02-24T16:21:22.904Z"
   },
   {
    "duration": 10,
    "start_time": "2022-02-24T16:21:23.330Z"
   },
   {
    "duration": 41,
    "start_time": "2022-02-24T16:21:23.342Z"
   },
   {
    "duration": 62,
    "start_time": "2022-02-24T16:21:23.386Z"
   },
   {
    "duration": 11,
    "start_time": "2022-02-24T16:21:44.240Z"
   },
   {
    "duration": 13,
    "start_time": "2022-02-24T16:22:13.493Z"
   },
   {
    "duration": 13,
    "start_time": "2022-02-24T16:22:24.622Z"
   },
   {
    "duration": 293,
    "start_time": "2022-02-24T16:34:54.711Z"
   },
   {
    "duration": 10,
    "start_time": "2022-02-24T16:35:07.223Z"
   },
   {
    "duration": 6,
    "start_time": "2022-02-24T16:43:48.164Z"
   },
   {
    "duration": 57,
    "start_time": "2022-02-24T16:43:58.157Z"
   },
   {
    "duration": 50,
    "start_time": "2022-02-24T16:43:58.216Z"
   },
   {
    "duration": 80,
    "start_time": "2022-02-24T16:43:58.270Z"
   },
   {
    "duration": 18,
    "start_time": "2022-02-24T16:43:58.354Z"
   },
   {
    "duration": 61,
    "start_time": "2022-02-24T16:43:58.375Z"
   },
   {
    "duration": 15,
    "start_time": "2022-02-24T16:43:58.438Z"
   },
   {
    "duration": 4,
    "start_time": "2022-02-24T16:43:58.455Z"
   },
   {
    "duration": 24,
    "start_time": "2022-02-24T16:43:58.463Z"
   },
   {
    "duration": 3,
    "start_time": "2022-02-24T16:43:58.529Z"
   },
   {
    "duration": 9,
    "start_time": "2022-02-24T16:43:58.535Z"
   },
   {
    "duration": 6,
    "start_time": "2022-02-24T16:43:58.546Z"
   },
   {
    "duration": 16,
    "start_time": "2022-02-24T16:43:58.554Z"
   },
   {
    "duration": 17,
    "start_time": "2022-02-24T16:43:58.573Z"
   },
   {
    "duration": 45,
    "start_time": "2022-02-24T16:43:58.592Z"
   },
   {
    "duration": 10,
    "start_time": "2022-02-24T16:43:58.640Z"
   },
   {
    "duration": 6,
    "start_time": "2022-02-24T16:43:58.653Z"
   },
   {
    "duration": 10,
    "start_time": "2022-02-24T16:43:58.662Z"
   },
   {
    "duration": 58,
    "start_time": "2022-02-24T16:43:58.674Z"
   },
   {
    "duration": 34,
    "start_time": "2022-02-24T16:43:58.735Z"
   },
   {
    "duration": 5,
    "start_time": "2022-02-24T16:43:58.772Z"
   },
   {
    "duration": 10,
    "start_time": "2022-02-24T16:43:58.780Z"
   },
   {
    "duration": 45,
    "start_time": "2022-02-24T16:43:58.793Z"
   },
   {
    "duration": 14,
    "start_time": "2022-02-24T16:43:58.848Z"
   },
   {
    "duration": 22,
    "start_time": "2022-02-24T16:43:58.868Z"
   },
   {
    "duration": 7,
    "start_time": "2022-02-24T16:43:58.892Z"
   },
   {
    "duration": 33,
    "start_time": "2022-02-24T16:43:58.902Z"
   },
   {
    "duration": 5,
    "start_time": "2022-02-24T16:43:58.937Z"
   },
   {
    "duration": 8,
    "start_time": "2022-02-24T16:43:58.945Z"
   },
   {
    "duration": 15,
    "start_time": "2022-02-24T16:43:58.956Z"
   },
   {
    "duration": 52,
    "start_time": "2022-02-24T16:43:58.974Z"
   },
   {
    "duration": 10,
    "start_time": "2022-02-24T16:43:59.028Z"
   },
   {
    "duration": 12,
    "start_time": "2022-02-24T16:43:59.040Z"
   },
   {
    "duration": 5,
    "start_time": "2022-02-24T16:43:59.055Z"
   },
   {
    "duration": 7,
    "start_time": "2022-02-24T16:43:59.063Z"
   },
   {
    "duration": 70,
    "start_time": "2022-02-24T16:43:59.072Z"
   },
   {
    "duration": 29,
    "start_time": "2022-02-24T16:43:59.144Z"
   },
   {
    "duration": 52,
    "start_time": "2022-02-24T16:43:59.176Z"
   },
   {
    "duration": 17,
    "start_time": "2022-02-24T16:43:59.232Z"
   },
   {
    "duration": 5,
    "start_time": "2022-02-24T16:43:59.252Z"
   },
   {
    "duration": 9,
    "start_time": "2022-02-24T16:43:59.261Z"
   },
   {
    "duration": 12,
    "start_time": "2022-02-24T16:43:59.274Z"
   },
   {
    "duration": 13,
    "start_time": "2022-02-24T16:43:59.328Z"
   },
   {
    "duration": 414,
    "start_time": "2022-02-24T16:43:59.344Z"
   },
   {
    "duration": 11,
    "start_time": "2022-02-24T16:43:59.761Z"
   },
   {
    "duration": 54,
    "start_time": "2022-02-24T16:43:59.775Z"
   },
   {
    "duration": 46,
    "start_time": "2022-02-24T16:43:59.832Z"
   },
   {
    "duration": 9,
    "start_time": "2022-02-24T16:43:59.881Z"
   },
   {
    "duration": 40,
    "start_time": "2022-02-24T16:43:59.893Z"
   },
   {
    "duration": 10,
    "start_time": "2022-02-24T16:43:59.936Z"
   },
   {
    "duration": 12,
    "start_time": "2022-02-24T16:43:59.949Z"
   },
   {
    "duration": 10,
    "start_time": "2022-02-24T16:43:59.963Z"
   },
   {
    "duration": 58,
    "start_time": "2022-02-24T16:43:59.975Z"
   },
   {
    "duration": 10,
    "start_time": "2022-02-24T16:44:00.036Z"
   },
   {
    "duration": 11,
    "start_time": "2022-02-24T16:44:00.049Z"
   },
   {
    "duration": 21,
    "start_time": "2022-02-24T16:44:00.064Z"
   },
   {
    "duration": 945,
    "start_time": "2022-02-24T16:44:00.087Z"
   },
   {
    "duration": 37,
    "start_time": "2022-02-24T16:44:01.035Z"
   },
   {
    "duration": 18,
    "start_time": "2022-02-24T16:44:01.076Z"
   },
   {
    "duration": 30,
    "start_time": "2022-02-24T16:44:01.098Z"
   },
   {
    "duration": 15,
    "start_time": "2022-02-24T16:44:01.130Z"
   },
   {
    "duration": 92,
    "start_time": "2022-02-24T16:44:01.147Z"
   },
   {
    "duration": 3,
    "start_time": "2022-02-24T16:44:01.242Z"
   },
   {
    "duration": 20,
    "start_time": "2022-02-24T16:44:01.248Z"
   },
   {
    "duration": 19,
    "start_time": "2022-02-24T16:44:01.270Z"
   },
   {
    "duration": 10,
    "start_time": "2022-02-24T16:44:01.292Z"
   },
   {
    "duration": 22,
    "start_time": "2022-02-24T16:44:01.305Z"
   },
   {
    "duration": 21,
    "start_time": "2022-02-24T16:44:01.330Z"
   },
   {
    "duration": 19,
    "start_time": "2022-02-24T16:44:01.361Z"
   },
   {
    "duration": 17,
    "start_time": "2022-02-24T16:44:01.383Z"
   },
   {
    "duration": 25,
    "start_time": "2022-02-24T16:44:01.403Z"
   },
   {
    "duration": 28,
    "start_time": "2022-02-24T16:44:01.430Z"
   },
   {
    "duration": 16,
    "start_time": "2022-02-24T16:44:01.460Z"
   },
   {
    "duration": 17,
    "start_time": "2022-02-24T16:44:01.479Z"
   },
   {
    "duration": 19,
    "start_time": "2022-02-24T16:44:01.499Z"
   },
   {
    "duration": 12,
    "start_time": "2022-02-24T16:44:01.520Z"
   },
   {
    "duration": 18,
    "start_time": "2022-02-24T16:44:01.535Z"
   },
   {
    "duration": 20,
    "start_time": "2022-02-24T16:44:01.556Z"
   },
   {
    "duration": 28,
    "start_time": "2022-02-24T16:44:01.578Z"
   },
   {
    "duration": 15,
    "start_time": "2022-02-24T16:44:01.608Z"
   },
   {
    "duration": 16,
    "start_time": "2022-02-24T16:44:01.625Z"
   },
   {
    "duration": 13,
    "start_time": "2022-02-24T16:44:01.644Z"
   },
   {
    "duration": 16,
    "start_time": "2022-02-24T16:44:01.660Z"
   },
   {
    "duration": 14,
    "start_time": "2022-02-24T16:44:01.682Z"
   },
   {
    "duration": 13,
    "start_time": "2022-02-24T16:48:47.353Z"
   },
   {
    "duration": 11,
    "start_time": "2022-02-24T16:50:59.577Z"
   },
   {
    "duration": 11,
    "start_time": "2022-02-24T16:51:01.900Z"
   },
   {
    "duration": 12,
    "start_time": "2022-02-24T16:54:38.962Z"
   },
   {
    "duration": 16,
    "start_time": "2022-02-24T16:54:41.148Z"
   },
   {
    "duration": 329,
    "start_time": "2022-02-25T01:57:54.376Z"
   },
   {
    "duration": 806,
    "start_time": "2022-02-25T02:23:44.497Z"
   },
   {
    "duration": 64,
    "start_time": "2022-02-25T02:23:45.306Z"
   },
   {
    "duration": 30,
    "start_time": "2022-02-25T02:23:45.373Z"
   },
   {
    "duration": 45,
    "start_time": "2022-02-25T02:23:45.406Z"
   },
   {
    "duration": 13,
    "start_time": "2022-02-25T02:23:45.454Z"
   },
   {
    "duration": 16,
    "start_time": "2022-02-25T02:23:45.469Z"
   },
   {
    "duration": 3,
    "start_time": "2022-02-25T02:23:45.487Z"
   },
   {
    "duration": 64,
    "start_time": "2022-02-25T02:23:45.495Z"
   },
   {
    "duration": 3,
    "start_time": "2022-02-25T02:23:45.562Z"
   },
   {
    "duration": 7,
    "start_time": "2022-02-25T02:23:45.568Z"
   },
   {
    "duration": 4,
    "start_time": "2022-02-25T02:23:45.578Z"
   },
   {
    "duration": 18,
    "start_time": "2022-02-25T02:23:45.585Z"
   },
   {
    "duration": 55,
    "start_time": "2022-02-25T02:23:45.606Z"
   },
   {
    "duration": 14,
    "start_time": "2022-02-25T02:23:45.664Z"
   },
   {
    "duration": 15,
    "start_time": "2022-02-25T02:23:45.681Z"
   },
   {
    "duration": 6,
    "start_time": "2022-02-25T02:23:45.698Z"
   },
   {
    "duration": 45,
    "start_time": "2022-02-25T02:23:45.706Z"
   },
   {
    "duration": 10,
    "start_time": "2022-02-25T02:23:45.754Z"
   },
   {
    "duration": 27,
    "start_time": "2022-02-25T02:23:45.766Z"
   },
   {
    "duration": 4,
    "start_time": "2022-02-25T02:23:45.795Z"
   },
   {
    "duration": 10,
    "start_time": "2022-02-25T02:23:45.801Z"
   },
   {
    "duration": 16,
    "start_time": "2022-02-25T02:23:45.849Z"
   },
   {
    "duration": 9,
    "start_time": "2022-02-25T02:23:45.871Z"
   },
   {
    "duration": 6,
    "start_time": "2022-02-25T02:23:45.884Z"
   },
   {
    "duration": 55,
    "start_time": "2022-02-25T02:23:45.893Z"
   },
   {
    "duration": 9,
    "start_time": "2022-02-25T02:23:45.951Z"
   },
   {
    "duration": 5,
    "start_time": "2022-02-25T02:23:45.962Z"
   },
   {
    "duration": 5,
    "start_time": "2022-02-25T02:23:45.970Z"
   },
   {
    "duration": 11,
    "start_time": "2022-02-25T02:23:45.978Z"
   },
   {
    "duration": 64,
    "start_time": "2022-02-25T02:23:45.991Z"
   },
   {
    "duration": 10,
    "start_time": "2022-02-25T02:23:46.058Z"
   },
   {
    "duration": 10,
    "start_time": "2022-02-25T02:23:46.070Z"
   },
   {
    "duration": 3,
    "start_time": "2022-02-25T02:23:46.082Z"
   },
   {
    "duration": 6,
    "start_time": "2022-02-25T02:23:46.088Z"
   },
   {
    "duration": 77,
    "start_time": "2022-02-25T02:23:46.097Z"
   },
   {
    "duration": 26,
    "start_time": "2022-02-25T02:23:46.177Z"
   },
   {
    "duration": 62,
    "start_time": "2022-02-25T02:23:46.205Z"
   },
   {
    "duration": 13,
    "start_time": "2022-02-25T02:23:46.270Z"
   },
   {
    "duration": 4,
    "start_time": "2022-02-25T02:23:46.286Z"
   },
   {
    "duration": 9,
    "start_time": "2022-02-25T02:23:46.293Z"
   },
   {
    "duration": 45,
    "start_time": "2022-02-25T02:23:46.305Z"
   },
   {
    "duration": 8,
    "start_time": "2022-02-25T02:23:46.353Z"
   },
   {
    "duration": 380,
    "start_time": "2022-02-25T02:23:46.364Z"
   },
   {
    "duration": 10,
    "start_time": "2022-02-25T02:23:46.749Z"
   },
   {
    "duration": 33,
    "start_time": "2022-02-25T02:23:46.761Z"
   },
   {
    "duration": 78,
    "start_time": "2022-02-25T02:23:46.796Z"
   },
   {
    "duration": 9,
    "start_time": "2022-02-25T02:23:46.877Z"
   },
   {
    "duration": 11,
    "start_time": "2022-02-25T02:23:46.888Z"
   },
   {
    "duration": 50,
    "start_time": "2022-02-25T02:23:46.901Z"
   },
   {
    "duration": 10,
    "start_time": "2022-02-25T02:23:46.954Z"
   },
   {
    "duration": 9,
    "start_time": "2022-02-25T02:23:46.967Z"
   },
   {
    "duration": 9,
    "start_time": "2022-02-25T02:23:46.979Z"
   },
   {
    "duration": 61,
    "start_time": "2022-02-25T02:23:46.991Z"
   },
   {
    "duration": 9,
    "start_time": "2022-02-25T02:23:47.055Z"
   },
   {
    "duration": 13,
    "start_time": "2022-02-25T02:23:47.067Z"
   },
   {
    "duration": 584,
    "start_time": "2022-02-25T02:23:47.083Z"
   },
   {
    "duration": 23,
    "start_time": "2022-02-25T02:23:47.670Z"
   },
   {
    "duration": 5,
    "start_time": "2022-02-25T02:23:47.696Z"
   },
   {
    "duration": 45,
    "start_time": "2022-02-25T02:23:47.703Z"
   },
   {
    "duration": 3,
    "start_time": "2022-02-25T02:23:47.751Z"
   },
   {
    "duration": 53,
    "start_time": "2022-02-25T02:23:47.756Z"
   },
   {
    "duration": 39,
    "start_time": "2022-02-25T02:23:47.812Z"
   },
   {
    "duration": 9,
    "start_time": "2022-02-25T02:23:47.853Z"
   },
   {
    "duration": 13,
    "start_time": "2022-02-25T02:23:47.865Z"
   },
   {
    "duration": 8,
    "start_time": "2022-02-25T02:23:47.881Z"
   },
   {
    "duration": 32,
    "start_time": "2022-02-25T02:24:31.344Z"
   },
   {
    "duration": 2,
    "start_time": "2022-02-25T02:24:31.488Z"
   },
   {
    "duration": 497,
    "start_time": "2022-02-25T02:39:27.345Z"
   },
   {
    "duration": 488,
    "start_time": "2022-02-25T02:39:33.535Z"
   },
   {
    "duration": 454,
    "start_time": "2022-02-25T02:43:43.396Z"
   },
   {
    "duration": 552,
    "start_time": "2022-02-25T02:44:07.225Z"
   },
   {
    "duration": 24,
    "start_time": "2022-02-25T02:44:19.994Z"
   },
   {
    "duration": 836,
    "start_time": "2022-02-25T02:45:04.316Z"
   },
   {
    "duration": 58,
    "start_time": "2022-02-25T02:45:05.154Z"
   },
   {
    "duration": 47,
    "start_time": "2022-02-25T02:45:05.214Z"
   },
   {
    "duration": 38,
    "start_time": "2022-02-25T02:45:05.263Z"
   },
   {
    "duration": 19,
    "start_time": "2022-02-25T02:45:05.303Z"
   },
   {
    "duration": 31,
    "start_time": "2022-02-25T02:45:05.325Z"
   },
   {
    "duration": 3,
    "start_time": "2022-02-25T02:45:05.359Z"
   },
   {
    "duration": 38,
    "start_time": "2022-02-25T02:45:05.366Z"
   },
   {
    "duration": 8,
    "start_time": "2022-02-25T02:45:05.407Z"
   },
   {
    "duration": 19,
    "start_time": "2022-02-25T02:45:05.418Z"
   },
   {
    "duration": 9,
    "start_time": "2022-02-25T02:45:05.448Z"
   },
   {
    "duration": 22,
    "start_time": "2022-02-25T02:45:05.460Z"
   },
   {
    "duration": 48,
    "start_time": "2022-02-25T02:45:05.485Z"
   },
   {
    "duration": 35,
    "start_time": "2022-02-25T02:45:05.535Z"
   },
   {
    "duration": 16,
    "start_time": "2022-02-25T02:45:05.573Z"
   },
   {
    "duration": 39,
    "start_time": "2022-02-25T02:45:05.591Z"
   },
   {
    "duration": 44,
    "start_time": "2022-02-25T02:45:05.633Z"
   },
   {
    "duration": 28,
    "start_time": "2022-02-25T02:45:05.680Z"
   },
   {
    "duration": 29,
    "start_time": "2022-02-25T02:45:05.711Z"
   },
   {
    "duration": 22,
    "start_time": "2022-02-25T02:45:05.743Z"
   },
   {
    "duration": 26,
    "start_time": "2022-02-25T02:45:05.768Z"
   },
   {
    "duration": 23,
    "start_time": "2022-02-25T02:45:05.797Z"
   },
   {
    "duration": 31,
    "start_time": "2022-02-25T02:45:05.827Z"
   },
   {
    "duration": 12,
    "start_time": "2022-02-25T02:45:05.861Z"
   },
   {
    "duration": 28,
    "start_time": "2022-02-25T02:45:05.876Z"
   },
   {
    "duration": 36,
    "start_time": "2022-02-25T02:45:05.907Z"
   },
   {
    "duration": 15,
    "start_time": "2022-02-25T02:45:05.945Z"
   },
   {
    "duration": 35,
    "start_time": "2022-02-25T02:45:05.962Z"
   },
   {
    "duration": 36,
    "start_time": "2022-02-25T02:45:06.000Z"
   },
   {
    "duration": 33,
    "start_time": "2022-02-25T02:45:06.038Z"
   },
   {
    "duration": 28,
    "start_time": "2022-02-25T02:45:06.073Z"
   },
   {
    "duration": 20,
    "start_time": "2022-02-25T02:45:06.103Z"
   },
   {
    "duration": 22,
    "start_time": "2022-02-25T02:45:06.125Z"
   },
   {
    "duration": 26,
    "start_time": "2022-02-25T02:45:06.149Z"
   },
   {
    "duration": 62,
    "start_time": "2022-02-25T02:45:06.178Z"
   },
   {
    "duration": 33,
    "start_time": "2022-02-25T02:45:06.243Z"
   },
   {
    "duration": 24,
    "start_time": "2022-02-25T02:45:06.278Z"
   },
   {
    "duration": 14,
    "start_time": "2022-02-25T02:45:06.305Z"
   },
   {
    "duration": 5,
    "start_time": "2022-02-25T02:45:06.349Z"
   },
   {
    "duration": 14,
    "start_time": "2022-02-25T02:45:06.356Z"
   },
   {
    "duration": 54,
    "start_time": "2022-02-25T02:45:06.373Z"
   },
   {
    "duration": 18,
    "start_time": "2022-02-25T02:45:06.429Z"
   },
   {
    "duration": 398,
    "start_time": "2022-02-25T02:45:06.450Z"
   },
   {
    "duration": 10,
    "start_time": "2022-02-25T02:45:06.851Z"
   },
   {
    "duration": 47,
    "start_time": "2022-02-25T02:45:06.863Z"
   },
   {
    "duration": 65,
    "start_time": "2022-02-25T02:45:06.913Z"
   },
   {
    "duration": 9,
    "start_time": "2022-02-25T02:45:06.981Z"
   },
   {
    "duration": 11,
    "start_time": "2022-02-25T02:45:06.992Z"
   },
   {
    "duration": 48,
    "start_time": "2022-02-25T02:45:07.006Z"
   },
   {
    "duration": 14,
    "start_time": "2022-02-25T02:45:07.057Z"
   },
   {
    "duration": 13,
    "start_time": "2022-02-25T02:45:07.075Z"
   },
   {
    "duration": 63,
    "start_time": "2022-02-25T02:45:07.091Z"
   },
   {
    "duration": 12,
    "start_time": "2022-02-25T02:45:07.157Z"
   },
   {
    "duration": 10,
    "start_time": "2022-02-25T02:45:07.172Z"
   },
   {
    "duration": 17,
    "start_time": "2022-02-25T02:45:07.185Z"
   },
   {
    "duration": 490,
    "start_time": "2022-02-25T02:45:07.250Z"
   },
   {
    "duration": 29,
    "start_time": "2022-02-25T02:45:07.743Z"
   },
   {
    "duration": 3,
    "start_time": "2022-02-25T02:45:07.775Z"
   },
   {
    "duration": 13,
    "start_time": "2022-02-25T02:45:07.781Z"
   },
   {
    "duration": 3,
    "start_time": "2022-02-25T02:45:07.796Z"
   },
   {
    "duration": 99,
    "start_time": "2022-02-25T02:45:07.802Z"
   },
   {
    "duration": 10,
    "start_time": "2022-02-25T02:45:07.904Z"
   },
   {
    "duration": 33,
    "start_time": "2022-02-25T02:45:07.917Z"
   },
   {
    "duration": 15,
    "start_time": "2022-02-25T02:45:07.954Z"
   },
   {
    "duration": 10,
    "start_time": "2022-02-25T02:45:07.972Z"
   },
   {
    "duration": 756,
    "start_time": "2022-02-25T02:56:46.885Z"
   },
   {
    "duration": 57,
    "start_time": "2022-02-25T02:56:47.644Z"
   },
   {
    "duration": 51,
    "start_time": "2022-02-25T02:56:47.705Z"
   },
   {
    "duration": 22,
    "start_time": "2022-02-25T02:56:47.760Z"
   },
   {
    "duration": 15,
    "start_time": "2022-02-25T02:56:47.785Z"
   },
   {
    "duration": 15,
    "start_time": "2022-02-25T02:56:47.850Z"
   },
   {
    "duration": 3,
    "start_time": "2022-02-25T02:56:47.868Z"
   },
   {
    "duration": 16,
    "start_time": "2022-02-25T02:56:47.875Z"
   },
   {
    "duration": 3,
    "start_time": "2022-02-25T02:56:47.894Z"
   },
   {
    "duration": 52,
    "start_time": "2022-02-25T02:56:47.899Z"
   },
   {
    "duration": 5,
    "start_time": "2022-02-25T02:56:47.954Z"
   },
   {
    "duration": 13,
    "start_time": "2022-02-25T02:56:47.962Z"
   },
   {
    "duration": 17,
    "start_time": "2022-02-25T02:56:47.977Z"
   },
   {
    "duration": 58,
    "start_time": "2022-02-25T02:56:47.997Z"
   },
   {
    "duration": 8,
    "start_time": "2022-02-25T02:56:48.057Z"
   },
   {
    "duration": 6,
    "start_time": "2022-02-25T02:56:48.067Z"
   },
   {
    "duration": 9,
    "start_time": "2022-02-25T02:56:48.075Z"
   },
   {
    "duration": 6,
    "start_time": "2022-02-25T02:56:48.086Z"
   },
   {
    "duration": 75,
    "start_time": "2022-02-25T02:56:48.094Z"
   },
   {
    "duration": 4,
    "start_time": "2022-02-25T02:56:48.171Z"
   },
   {
    "duration": 10,
    "start_time": "2022-02-25T02:56:48.178Z"
   },
   {
    "duration": 11,
    "start_time": "2022-02-25T02:56:48.190Z"
   },
   {
    "duration": 11,
    "start_time": "2022-02-25T02:56:48.250Z"
   },
   {
    "duration": 5,
    "start_time": "2022-02-25T02:56:48.264Z"
   },
   {
    "duration": 7,
    "start_time": "2022-02-25T02:56:48.272Z"
   },
   {
    "duration": 10,
    "start_time": "2022-02-25T02:56:48.282Z"
   },
   {
    "duration": 60,
    "start_time": "2022-02-25T02:56:48.294Z"
   },
   {
    "duration": 6,
    "start_time": "2022-02-25T02:56:48.357Z"
   },
   {
    "duration": 15,
    "start_time": "2022-02-25T02:56:48.365Z"
   },
   {
    "duration": 13,
    "start_time": "2022-02-25T02:56:48.382Z"
   },
   {
    "duration": 14,
    "start_time": "2022-02-25T02:56:48.397Z"
   },
   {
    "duration": 38,
    "start_time": "2022-02-25T02:56:48.414Z"
   },
   {
    "duration": 3,
    "start_time": "2022-02-25T02:56:48.455Z"
   },
   {
    "duration": 9,
    "start_time": "2022-02-25T02:56:48.460Z"
   },
   {
    "duration": 30,
    "start_time": "2022-02-25T02:56:48.471Z"
   },
   {
    "duration": 69,
    "start_time": "2022-02-25T02:56:48.503Z"
   },
   {
    "duration": 24,
    "start_time": "2022-02-25T02:56:48.574Z"
   },
   {
    "duration": 15,
    "start_time": "2022-02-25T02:56:48.600Z"
   },
   {
    "duration": 5,
    "start_time": "2022-02-25T02:56:48.649Z"
   },
   {
    "duration": 7,
    "start_time": "2022-02-25T02:56:48.656Z"
   },
   {
    "duration": 13,
    "start_time": "2022-02-25T02:56:48.665Z"
   },
   {
    "duration": 9,
    "start_time": "2022-02-25T02:56:48.681Z"
   },
   {
    "duration": 570,
    "start_time": "2022-02-25T02:56:48.693Z"
   },
   {
    "duration": 10,
    "start_time": "2022-02-25T02:56:49.265Z"
   },
   {
    "duration": 33,
    "start_time": "2022-02-25T02:56:49.277Z"
   },
   {
    "duration": 68,
    "start_time": "2022-02-25T02:56:49.312Z"
   },
   {
    "duration": 10,
    "start_time": "2022-02-25T02:56:49.383Z"
   },
   {
    "duration": 9,
    "start_time": "2022-02-25T02:56:49.396Z"
   },
   {
    "duration": 11,
    "start_time": "2022-02-25T02:56:49.448Z"
   },
   {
    "duration": 10,
    "start_time": "2022-02-25T02:56:49.461Z"
   },
   {
    "duration": 9,
    "start_time": "2022-02-25T02:56:49.473Z"
   },
   {
    "duration": 13,
    "start_time": "2022-02-25T02:56:49.485Z"
   },
   {
    "duration": 9,
    "start_time": "2022-02-25T02:56:49.549Z"
   },
   {
    "duration": 8,
    "start_time": "2022-02-25T02:56:49.561Z"
   },
   {
    "duration": 12,
    "start_time": "2022-02-25T02:56:49.572Z"
   },
   {
    "duration": 498,
    "start_time": "2022-02-25T02:57:12.776Z"
   },
   {
    "duration": 25,
    "start_time": "2022-02-25T02:57:16.456Z"
   },
   {
    "duration": 52,
    "start_time": "2022-02-25T02:59:59.701Z"
   },
   {
    "duration": 48,
    "start_time": "2022-02-25T02:59:59.755Z"
   },
   {
    "duration": 63,
    "start_time": "2022-02-25T02:59:59.806Z"
   },
   {
    "duration": 17,
    "start_time": "2022-02-25T02:59:59.872Z"
   },
   {
    "duration": 13,
    "start_time": "2022-02-25T02:59:59.892Z"
   },
   {
    "duration": 52,
    "start_time": "2022-02-25T02:59:59.907Z"
   },
   {
    "duration": 3,
    "start_time": "2022-02-25T02:59:59.961Z"
   },
   {
    "duration": 16,
    "start_time": "2022-02-25T02:59:59.968Z"
   },
   {
    "duration": 3,
    "start_time": "2022-02-25T02:59:59.987Z"
   },
   {
    "duration": 6,
    "start_time": "2022-02-25T02:59:59.993Z"
   },
   {
    "duration": 3,
    "start_time": "2022-02-25T03:00:00.049Z"
   },
   {
    "duration": 25,
    "start_time": "2022-02-25T03:00:00.055Z"
   },
   {
    "duration": 17,
    "start_time": "2022-02-25T03:00:00.083Z"
   },
   {
    "duration": 17,
    "start_time": "2022-02-25T03:00:00.102Z"
   },
   {
    "duration": 33,
    "start_time": "2022-02-25T03:00:00.121Z"
   },
   {
    "duration": 14,
    "start_time": "2022-02-25T03:00:00.156Z"
   },
   {
    "duration": 14,
    "start_time": "2022-02-25T03:00:00.172Z"
   },
   {
    "duration": 14,
    "start_time": "2022-02-25T03:00:00.189Z"
   },
   {
    "duration": 56,
    "start_time": "2022-02-25T03:00:00.205Z"
   },
   {
    "duration": 4,
    "start_time": "2022-02-25T03:00:00.264Z"
   },
   {
    "duration": 22,
    "start_time": "2022-02-25T03:00:00.271Z"
   },
   {
    "duration": 37,
    "start_time": "2022-02-25T03:00:00.296Z"
   },
   {
    "duration": 20,
    "start_time": "2022-02-25T03:00:00.340Z"
   },
   {
    "duration": 19,
    "start_time": "2022-02-25T03:00:00.363Z"
   },
   {
    "duration": 21,
    "start_time": "2022-02-25T03:00:00.385Z"
   },
   {
    "duration": 33,
    "start_time": "2022-02-25T03:00:00.409Z"
   },
   {
    "duration": 32,
    "start_time": "2022-02-25T03:00:00.445Z"
   },
   {
    "duration": 23,
    "start_time": "2022-02-25T03:00:00.480Z"
   },
   {
    "duration": 42,
    "start_time": "2022-02-25T03:00:00.506Z"
   },
   {
    "duration": 30,
    "start_time": "2022-02-25T03:00:00.551Z"
   },
   {
    "duration": 25,
    "start_time": "2022-02-25T03:00:00.584Z"
   },
   {
    "duration": 50,
    "start_time": "2022-02-25T03:00:00.612Z"
   },
   {
    "duration": 26,
    "start_time": "2022-02-25T03:00:00.664Z"
   },
   {
    "duration": 19,
    "start_time": "2022-02-25T03:00:00.692Z"
   },
   {
    "duration": 38,
    "start_time": "2022-02-25T03:00:00.714Z"
   },
   {
    "duration": 27,
    "start_time": "2022-02-25T03:00:00.754Z"
   },
   {
    "duration": 25,
    "start_time": "2022-02-25T03:00:00.783Z"
   },
   {
    "duration": 47,
    "start_time": "2022-02-25T03:00:00.810Z"
   },
   {
    "duration": 24,
    "start_time": "2022-02-25T03:00:00.860Z"
   },
   {
    "duration": 14,
    "start_time": "2022-02-25T03:00:00.886Z"
   },
   {
    "duration": 22,
    "start_time": "2022-02-25T03:00:00.903Z"
   },
   {
    "duration": 31,
    "start_time": "2022-02-25T03:00:00.928Z"
   },
   {
    "duration": 384,
    "start_time": "2022-02-25T03:00:00.961Z"
   },
   {
    "duration": 12,
    "start_time": "2022-02-25T03:00:01.349Z"
   },
   {
    "duration": 47,
    "start_time": "2022-02-25T03:00:01.364Z"
   },
   {
    "duration": 77,
    "start_time": "2022-02-25T03:00:01.415Z"
   },
   {
    "duration": 58,
    "start_time": "2022-02-25T03:00:01.495Z"
   },
   {
    "duration": 71,
    "start_time": "2022-02-25T03:00:01.556Z"
   },
   {
    "duration": 40,
    "start_time": "2022-02-25T03:00:01.630Z"
   },
   {
    "duration": 45,
    "start_time": "2022-02-25T03:00:01.673Z"
   },
   {
    "duration": 62,
    "start_time": "2022-02-25T03:00:01.722Z"
   },
   {
    "duration": 44,
    "start_time": "2022-02-25T03:00:01.787Z"
   },
   {
    "duration": 71,
    "start_time": "2022-02-25T03:00:01.834Z"
   },
   {
    "duration": 22,
    "start_time": "2022-02-25T03:00:01.908Z"
   },
   {
    "duration": 43,
    "start_time": "2022-02-25T03:00:01.932Z"
   },
   {
    "duration": 629,
    "start_time": "2022-02-25T03:00:01.978Z"
   },
   {
    "duration": 42,
    "start_time": "2022-02-25T03:00:02.610Z"
   },
   {
    "duration": 4,
    "start_time": "2022-02-25T03:00:02.655Z"
   },
   {
    "duration": 17,
    "start_time": "2022-02-25T03:00:02.661Z"
   },
   {
    "duration": 3,
    "start_time": "2022-02-25T03:00:02.681Z"
   },
   {
    "duration": 102,
    "start_time": "2022-02-25T03:00:02.686Z"
   },
   {
    "duration": 11,
    "start_time": "2022-02-25T03:00:02.791Z"
   },
   {
    "duration": 19,
    "start_time": "2022-02-25T03:00:02.805Z"
   },
   {
    "duration": 28,
    "start_time": "2022-02-25T03:00:02.827Z"
   },
   {
    "duration": 12,
    "start_time": "2022-02-25T03:00:02.857Z"
   },
   {
    "duration": 480,
    "start_time": "2022-02-25T03:00:07.893Z"
   },
   {
    "duration": 1029,
    "start_time": "2022-02-25T03:10:58.438Z"
   },
   {
    "duration": 25,
    "start_time": "2022-02-25T03:11:03.304Z"
   },
   {
    "duration": 11,
    "start_time": "2022-02-25T04:05:50.083Z"
   },
   {
    "duration": 205,
    "start_time": "2022-02-26T00:54:12.281Z"
   },
   {
    "duration": 896,
    "start_time": "2022-02-26T00:54:19.545Z"
   },
   {
    "duration": 40,
    "start_time": "2022-02-26T00:54:20.443Z"
   },
   {
    "duration": 25,
    "start_time": "2022-02-26T00:54:20.486Z"
   },
   {
    "duration": 10,
    "start_time": "2022-02-26T00:54:20.513Z"
   },
   {
    "duration": 9,
    "start_time": "2022-02-26T00:54:20.525Z"
   },
   {
    "duration": 9,
    "start_time": "2022-02-26T00:54:20.536Z"
   },
   {
    "duration": 2,
    "start_time": "2022-02-26T00:54:20.547Z"
   },
   {
    "duration": 12,
    "start_time": "2022-02-26T00:54:20.551Z"
   },
   {
    "duration": 2,
    "start_time": "2022-02-26T00:54:20.565Z"
   },
   {
    "duration": 44,
    "start_time": "2022-02-26T00:54:20.569Z"
   },
   {
    "duration": 7,
    "start_time": "2022-02-26T00:54:20.615Z"
   },
   {
    "duration": 12,
    "start_time": "2022-02-26T00:54:20.623Z"
   },
   {
    "duration": 13,
    "start_time": "2022-02-26T00:54:20.636Z"
   },
   {
    "duration": 13,
    "start_time": "2022-02-26T00:54:20.651Z"
   },
   {
    "duration": 12,
    "start_time": "2022-02-26T00:54:20.665Z"
   },
   {
    "duration": 5,
    "start_time": "2022-02-26T00:54:20.679Z"
   },
   {
    "duration": 30,
    "start_time": "2022-02-26T00:54:20.686Z"
   },
   {
    "duration": 10,
    "start_time": "2022-02-26T00:54:20.717Z"
   },
   {
    "duration": 25,
    "start_time": "2022-02-26T00:54:20.729Z"
   },
   {
    "duration": 4,
    "start_time": "2022-02-26T00:54:20.755Z"
   },
   {
    "duration": 8,
    "start_time": "2022-02-26T00:54:20.760Z"
   },
   {
    "duration": 11,
    "start_time": "2022-02-26T00:54:20.770Z"
   },
   {
    "duration": 32,
    "start_time": "2022-02-26T00:54:20.785Z"
   },
   {
    "duration": 5,
    "start_time": "2022-02-26T00:54:20.820Z"
   },
   {
    "duration": 6,
    "start_time": "2022-02-26T00:54:20.827Z"
   },
   {
    "duration": 12,
    "start_time": "2022-02-26T00:54:20.834Z"
   },
   {
    "duration": 11,
    "start_time": "2022-02-26T00:54:20.848Z"
   },
   {
    "duration": 5,
    "start_time": "2022-02-26T00:54:20.860Z"
   },
   {
    "duration": 10,
    "start_time": "2022-02-26T00:54:20.866Z"
   },
   {
    "duration": 39,
    "start_time": "2022-02-26T00:54:20.877Z"
   },
   {
    "duration": 8,
    "start_time": "2022-02-26T00:54:20.918Z"
   },
   {
    "duration": 30,
    "start_time": "2022-02-26T00:54:20.928Z"
   },
   {
    "duration": 6,
    "start_time": "2022-02-26T00:54:20.960Z"
   },
   {
    "duration": 5,
    "start_time": "2022-02-26T00:54:20.967Z"
   },
   {
    "duration": 23,
    "start_time": "2022-02-26T00:54:20.974Z"
   },
   {
    "duration": 34,
    "start_time": "2022-02-26T00:54:20.998Z"
   },
   {
    "duration": 18,
    "start_time": "2022-02-26T00:54:21.033Z"
   },
   {
    "duration": 10,
    "start_time": "2022-02-26T00:54:21.053Z"
   },
   {
    "duration": 3,
    "start_time": "2022-02-26T00:54:21.065Z"
   },
   {
    "duration": 42,
    "start_time": "2022-02-26T00:54:21.070Z"
   },
   {
    "duration": 5,
    "start_time": "2022-02-26T00:54:21.114Z"
   },
   {
    "duration": 7,
    "start_time": "2022-02-26T00:54:21.121Z"
   },
   {
    "duration": 241,
    "start_time": "2022-02-26T00:54:21.129Z"
   },
   {
    "duration": 7,
    "start_time": "2022-02-26T00:54:21.372Z"
   },
   {
    "duration": 36,
    "start_time": "2022-02-26T00:54:21.381Z"
   },
   {
    "duration": 29,
    "start_time": "2022-02-26T00:54:21.419Z"
   },
   {
    "duration": 7,
    "start_time": "2022-02-26T00:54:21.450Z"
   },
   {
    "duration": 7,
    "start_time": "2022-02-26T00:54:21.458Z"
   },
   {
    "duration": 9,
    "start_time": "2022-02-26T00:54:21.467Z"
   },
   {
    "duration": 8,
    "start_time": "2022-02-26T00:54:21.512Z"
   },
   {
    "duration": 11,
    "start_time": "2022-02-26T00:54:21.522Z"
   },
   {
    "duration": 13,
    "start_time": "2022-02-26T00:54:21.535Z"
   },
   {
    "duration": 7,
    "start_time": "2022-02-26T00:54:21.549Z"
   },
   {
    "duration": 6,
    "start_time": "2022-02-26T00:54:21.557Z"
   },
   {
    "duration": 49,
    "start_time": "2022-02-26T00:54:21.565Z"
   },
   {
    "duration": 280,
    "start_time": "2022-02-26T00:54:21.616Z"
   },
   {
    "duration": 24,
    "start_time": "2022-02-26T00:54:21.898Z"
   },
   {
    "duration": 6,
    "start_time": "2022-02-26T00:54:21.923Z"
   },
   {
    "duration": 11,
    "start_time": "2022-02-26T00:54:21.931Z"
   },
   {
    "duration": 2,
    "start_time": "2022-02-26T00:54:21.944Z"
   },
   {
    "duration": 39,
    "start_time": "2022-02-26T00:54:21.948Z"
   },
   {
    "duration": 9,
    "start_time": "2022-02-26T00:54:22.012Z"
   },
   {
    "duration": 9,
    "start_time": "2022-02-26T00:54:22.023Z"
   },
   {
    "duration": 9,
    "start_time": "2022-02-26T00:54:22.034Z"
   },
   {
    "duration": 6,
    "start_time": "2022-02-26T00:54:22.045Z"
   },
   {
    "duration": 670,
    "start_time": "2022-02-26T00:54:22.053Z"
   },
   {
    "duration": 17,
    "start_time": "2022-02-26T00:54:22.725Z"
   },
   {
    "duration": 12,
    "start_time": "2022-02-26T00:54:22.746Z"
   },
   {
    "duration": 43,
    "start_time": "2022-02-26T00:54:26.900Z"
   },
   {
    "duration": 8,
    "start_time": "2022-02-26T00:54:39.655Z"
   },
   {
    "duration": 272,
    "start_time": "2022-02-26T01:10:48.790Z"
   },
   {
    "duration": 8,
    "start_time": "2022-02-26T01:10:58.460Z"
   },
   {
    "duration": 11,
    "start_time": "2022-02-26T01:14:51.363Z"
   },
   {
    "duration": 9,
    "start_time": "2022-02-26T01:18:14.514Z"
   },
   {
    "duration": 10,
    "start_time": "2022-02-26T01:18:37.777Z"
   },
   {
    "duration": 239,
    "start_time": "2022-02-27T02:16:44.947Z"
   },
   {
    "duration": 608,
    "start_time": "2022-02-27T02:16:52.636Z"
   },
   {
    "duration": 36,
    "start_time": "2022-02-27T02:16:53.246Z"
   },
   {
    "duration": 19,
    "start_time": "2022-02-27T02:16:53.284Z"
   },
   {
    "duration": 14,
    "start_time": "2022-02-27T02:16:53.305Z"
   },
   {
    "duration": 9,
    "start_time": "2022-02-27T02:16:53.338Z"
   },
   {
    "duration": 8,
    "start_time": "2022-02-27T02:16:53.349Z"
   },
   {
    "duration": 5,
    "start_time": "2022-02-27T02:16:53.358Z"
   },
   {
    "duration": 14,
    "start_time": "2022-02-27T02:16:53.364Z"
   },
   {
    "duration": 4,
    "start_time": "2022-02-27T02:16:53.380Z"
   },
   {
    "duration": 5,
    "start_time": "2022-02-27T02:16:53.385Z"
   },
   {
    "duration": 6,
    "start_time": "2022-02-27T02:16:53.392Z"
   },
   {
    "duration": 44,
    "start_time": "2022-02-27T02:16:53.399Z"
   },
   {
    "duration": 17,
    "start_time": "2022-02-27T02:16:53.445Z"
   },
   {
    "duration": 17,
    "start_time": "2022-02-27T02:16:53.464Z"
   },
   {
    "duration": 11,
    "start_time": "2022-02-27T02:16:53.483Z"
   },
   {
    "duration": 7,
    "start_time": "2022-02-27T02:16:53.495Z"
   },
   {
    "duration": 7,
    "start_time": "2022-02-27T02:16:53.503Z"
   },
   {
    "duration": 28,
    "start_time": "2022-02-27T02:16:53.512Z"
   },
   {
    "duration": 18,
    "start_time": "2022-02-27T02:16:53.542Z"
   },
   {
    "duration": 3,
    "start_time": "2022-02-27T02:16:53.561Z"
   },
   {
    "duration": 10,
    "start_time": "2022-02-27T02:16:53.566Z"
   },
   {
    "duration": 11,
    "start_time": "2022-02-27T02:16:53.578Z"
   },
   {
    "duration": 6,
    "start_time": "2022-02-27T02:16:53.591Z"
   },
   {
    "duration": 40,
    "start_time": "2022-02-27T02:16:53.598Z"
   },
   {
    "duration": 7,
    "start_time": "2022-02-27T02:16:53.640Z"
   },
   {
    "duration": 9,
    "start_time": "2022-02-27T02:16:53.649Z"
   },
   {
    "duration": 3,
    "start_time": "2022-02-27T02:16:53.661Z"
   },
   {
    "duration": 5,
    "start_time": "2022-02-27T02:16:53.666Z"
   },
   {
    "duration": 12,
    "start_time": "2022-02-27T02:16:53.673Z"
   },
   {
    "duration": 11,
    "start_time": "2022-02-27T02:16:53.686Z"
   },
   {
    "duration": 10,
    "start_time": "2022-02-27T02:16:53.698Z"
   },
   {
    "duration": 33,
    "start_time": "2022-02-27T02:16:53.710Z"
   },
   {
    "duration": 217,
    "start_time": "2022-02-27T02:16:56.955Z"
   },
   {
    "duration": 43,
    "start_time": "2022-02-27T02:17:56.585Z"
   },
   {
    "duration": 33,
    "start_time": "2022-02-27T02:17:56.631Z"
   },
   {
    "duration": 18,
    "start_time": "2022-02-27T02:17:56.667Z"
   },
   {
    "duration": 13,
    "start_time": "2022-02-27T02:17:56.687Z"
   },
   {
    "duration": 39,
    "start_time": "2022-02-27T02:17:56.702Z"
   },
   {
    "duration": 10,
    "start_time": "2022-02-27T02:17:56.743Z"
   },
   {
    "duration": 2,
    "start_time": "2022-02-27T02:17:56.754Z"
   },
   {
    "duration": 14,
    "start_time": "2022-02-27T02:17:56.758Z"
   },
   {
    "duration": 2,
    "start_time": "2022-02-27T02:17:56.774Z"
   },
   {
    "duration": 5,
    "start_time": "2022-02-27T02:17:56.777Z"
   },
   {
    "duration": 5,
    "start_time": "2022-02-27T02:17:56.783Z"
   },
   {
    "duration": 53,
    "start_time": "2022-02-27T02:17:56.790Z"
   },
   {
    "duration": 10,
    "start_time": "2022-02-27T02:17:56.845Z"
   },
   {
    "duration": 9,
    "start_time": "2022-02-27T02:17:56.857Z"
   },
   {
    "duration": 7,
    "start_time": "2022-02-27T02:17:56.868Z"
   },
   {
    "duration": 4,
    "start_time": "2022-02-27T02:17:56.877Z"
   },
   {
    "duration": 7,
    "start_time": "2022-02-27T02:17:56.882Z"
   },
   {
    "duration": 47,
    "start_time": "2022-02-27T02:17:56.891Z"
   },
   {
    "duration": 17,
    "start_time": "2022-02-27T02:17:56.939Z"
   },
   {
    "duration": 3,
    "start_time": "2022-02-27T02:17:56.958Z"
   },
   {
    "duration": 9,
    "start_time": "2022-02-27T02:17:56.963Z"
   },
   {
    "duration": 12,
    "start_time": "2022-02-27T02:17:56.973Z"
   },
   {
    "duration": 7,
    "start_time": "2022-02-27T02:17:56.988Z"
   },
   {
    "duration": 41,
    "start_time": "2022-02-27T02:17:56.997Z"
   },
   {
    "duration": 5,
    "start_time": "2022-02-27T02:17:57.040Z"
   },
   {
    "duration": 9,
    "start_time": "2022-02-27T02:17:57.047Z"
   },
   {
    "duration": 4,
    "start_time": "2022-02-27T02:17:57.058Z"
   },
   {
    "duration": 5,
    "start_time": "2022-02-27T02:17:57.064Z"
   },
   {
    "duration": 12,
    "start_time": "2022-02-27T02:17:57.070Z"
   },
   {
    "duration": 10,
    "start_time": "2022-02-27T02:17:57.083Z"
   },
   {
    "duration": 7,
    "start_time": "2022-02-27T02:17:57.095Z"
   },
   {
    "duration": 41,
    "start_time": "2022-02-27T02:17:57.103Z"
   },
   {
    "duration": 240,
    "start_time": "2022-02-27T02:17:57.145Z"
   },
   {
    "duration": 18,
    "start_time": "2022-02-27T02:17:57.386Z"
   },
   {
    "duration": 33,
    "start_time": "2022-02-27T02:17:57.405Z"
   },
   {
    "duration": 17,
    "start_time": "2022-02-27T02:17:57.439Z"
   },
   {
    "duration": 10,
    "start_time": "2022-02-27T02:17:57.457Z"
   },
   {
    "duration": 9,
    "start_time": "2022-02-27T02:17:57.469Z"
   },
   {
    "duration": 13,
    "start_time": "2022-02-27T02:17:57.480Z"
   },
   {
    "duration": 9,
    "start_time": "2022-02-27T02:17:57.494Z"
   },
   {
    "duration": 34,
    "start_time": "2022-02-27T02:17:57.504Z"
   },
   {
    "duration": 218,
    "start_time": "2022-02-27T02:17:57.540Z"
   },
   {
    "duration": 7,
    "start_time": "2022-02-27T02:17:57.760Z"
   },
   {
    "duration": 18,
    "start_time": "2022-02-27T02:18:04.201Z"
   },
   {
    "duration": 12,
    "start_time": "2022-02-27T02:19:35.272Z"
   },
   {
    "duration": 9,
    "start_time": "2022-02-27T02:40:08.892Z"
   },
   {
    "duration": 10,
    "start_time": "2022-02-27T02:41:00.989Z"
   },
   {
    "duration": 46,
    "start_time": "2022-02-28T04:02:17.295Z"
   },
   {
    "duration": 54,
    "start_time": "2022-02-28T04:02:17.344Z"
   },
   {
    "duration": 29,
    "start_time": "2022-02-28T04:02:17.401Z"
   },
   {
    "duration": 15,
    "start_time": "2022-02-28T04:02:17.452Z"
   },
   {
    "duration": 12,
    "start_time": "2022-02-28T04:02:17.469Z"
   },
   {
    "duration": 12,
    "start_time": "2022-02-28T04:02:17.484Z"
   },
   {
    "duration": 66,
    "start_time": "2022-02-28T04:02:17.498Z"
   },
   {
    "duration": 9,
    "start_time": "2022-02-28T04:02:17.567Z"
   },
   {
    "duration": 13,
    "start_time": "2022-02-28T04:02:17.581Z"
   },
   {
    "duration": 55,
    "start_time": "2022-02-28T04:02:17.598Z"
   },
   {
    "duration": 14,
    "start_time": "2022-02-28T04:02:17.656Z"
   },
   {
    "duration": 5,
    "start_time": "2022-02-28T04:02:17.673Z"
   },
   {
    "duration": 9,
    "start_time": "2022-02-28T04:02:17.681Z"
   },
   {
    "duration": 8,
    "start_time": "2022-02-28T04:02:17.693Z"
   },
   {
    "duration": 65,
    "start_time": "2022-02-28T04:02:17.703Z"
   },
   {
    "duration": 4,
    "start_time": "2022-02-28T04:02:17.770Z"
   },
   {
    "duration": 9,
    "start_time": "2022-02-28T04:02:17.777Z"
   },
   {
    "duration": 19,
    "start_time": "2022-02-28T04:02:17.788Z"
   },
   {
    "duration": 45,
    "start_time": "2022-02-28T04:02:17.810Z"
   },
   {
    "duration": 9,
    "start_time": "2022-02-28T04:02:17.858Z"
   },
   {
    "duration": 7,
    "start_time": "2022-02-28T04:02:17.869Z"
   },
   {
    "duration": 9,
    "start_time": "2022-02-28T04:02:17.878Z"
   },
   {
    "duration": 10,
    "start_time": "2022-02-28T04:02:17.890Z"
   },
   {
    "duration": 10,
    "start_time": "2022-02-28T04:02:17.952Z"
   },
   {
    "duration": 9,
    "start_time": "2022-02-28T04:02:17.965Z"
   },
   {
    "duration": 11,
    "start_time": "2022-02-28T04:02:17.977Z"
   },
   {
    "duration": 421,
    "start_time": "2022-02-28T04:02:17.993Z"
   },
   {
    "duration": 39,
    "start_time": "2022-02-28T04:02:18.417Z"
   },
   {
    "duration": 27,
    "start_time": "2022-02-28T04:02:18.458Z"
   },
   {
    "duration": 23,
    "start_time": "2022-02-28T04:02:18.487Z"
   },
   {
    "duration": 44,
    "start_time": "2022-02-28T04:02:18.513Z"
   },
   {
    "duration": 4,
    "start_time": "2022-02-28T04:02:18.559Z"
   },
   {
    "duration": 7,
    "start_time": "2022-02-28T04:02:18.566Z"
   },
   {
    "duration": 8,
    "start_time": "2022-02-28T04:02:18.576Z"
   },
   {
    "duration": 11,
    "start_time": "2022-02-28T04:02:18.586Z"
   },
   {
    "duration": 417,
    "start_time": "2022-02-28T04:02:18.599Z"
   },
   {
    "duration": 11,
    "start_time": "2022-02-28T04:02:19.018Z"
   },
   {
    "duration": 46,
    "start_time": "2022-02-28T04:02:19.031Z"
   },
   {
    "duration": 42,
    "start_time": "2022-02-28T04:02:19.080Z"
   },
   {
    "duration": 33,
    "start_time": "2022-02-28T04:02:19.124Z"
   },
   {
    "duration": 10,
    "start_time": "2022-02-28T04:02:19.160Z"
   },
   {
    "duration": 10,
    "start_time": "2022-02-28T04:02:19.172Z"
   },
   {
    "duration": 9,
    "start_time": "2022-02-28T04:02:19.184Z"
   },
   {
    "duration": 61,
    "start_time": "2022-02-28T04:02:19.195Z"
   },
   {
    "duration": 9,
    "start_time": "2022-02-28T04:02:19.258Z"
   },
   {
    "duration": 7,
    "start_time": "2022-02-28T04:02:19.270Z"
   },
   {
    "duration": 8,
    "start_time": "2022-02-28T04:02:19.279Z"
   },
   {
    "duration": 63,
    "start_time": "2022-02-28T04:02:19.289Z"
   },
   {
    "duration": 475,
    "start_time": "2022-02-28T04:02:19.354Z"
   },
   {
    "duration": 33,
    "start_time": "2022-02-28T04:02:19.831Z"
   },
   {
    "duration": 11,
    "start_time": "2022-02-28T04:02:19.867Z"
   },
   {
    "duration": 4,
    "start_time": "2022-02-28T04:02:19.881Z"
   },
   {
    "duration": 87,
    "start_time": "2022-02-28T04:02:19.887Z"
   },
   {
    "duration": 9,
    "start_time": "2022-02-28T04:02:19.977Z"
   },
   {
    "duration": 9,
    "start_time": "2022-02-28T04:02:19.989Z"
   },
   {
    "duration": 52,
    "start_time": "2022-02-28T04:02:20.000Z"
   },
   {
    "duration": 10,
    "start_time": "2022-02-28T04:02:20.055Z"
   },
   {
    "duration": 1031,
    "start_time": "2022-02-28T04:02:20.067Z"
   },
   {
    "duration": 26,
    "start_time": "2022-02-28T04:02:21.100Z"
   },
   {
    "duration": 27,
    "start_time": "2022-02-28T04:02:21.128Z"
   },
   {
    "duration": 411,
    "start_time": "2022-02-28T04:02:21.158Z"
   },
   {
    "duration": 9,
    "start_time": "2022-02-28T04:02:21.571Z"
   },
   {
    "duration": 18,
    "start_time": "2022-02-28T04:04:39.726Z"
   }
  ],
  "kernelspec": {
   "display_name": "Python 3 (ipykernel)",
   "language": "python",
   "name": "python3"
  },
  "language_info": {
   "codemirror_mode": {
    "name": "ipython",
    "version": 3
   },
   "file_extension": ".py",
   "mimetype": "text/x-python",
   "name": "python",
   "nbconvert_exporter": "python",
   "pygments_lexer": "ipython3",
   "version": "3.9.5"
  },
  "toc": {
   "base_numbering": 1,
   "nav_menu": {},
   "number_sections": true,
   "sideBar": true,
   "skip_h1_title": true,
   "title_cell": "Table of Contents",
   "title_sidebar": "Contents",
   "toc_cell": false,
   "toc_position": {},
   "toc_section_display": true,
   "toc_window_display": false
  }
 },
 "nbformat": 4,
 "nbformat_minor": 2
}
