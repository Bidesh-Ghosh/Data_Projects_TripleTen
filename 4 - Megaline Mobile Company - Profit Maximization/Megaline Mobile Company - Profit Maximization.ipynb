{
 "cells": [
  {
   "cell_type": "markdown",
   "metadata": {},
   "source": [
    "# Which one is a better plan?\n",
    "\n",
    "You work as an analyst for the telecom operator Megaline. The company offers its clients two prepaid plans, Surf and Ultimate. The commercial department wants to know which of the plans brings in more revenue in order to adjust the advertising budget.\n",
    "\n",
    "You are going to carry out a preliminary analysis of the plans based on a relatively small client selection. You'll have the data on 500 Megaline clients: who the clients are, where they're from, which plan they use, and the number of calls they made and text messages they sent in 2018. Your job is to analyze the clients' behavior and determine which prepaid plan brings in more revenue."
   ]
  },
  {
   "cell_type": "markdown",
   "metadata": {},
   "source": [
    "## Initialization"
   ]
  },
  {
   "cell_type": "code",
   "execution_count": 2,
   "metadata": {},
   "outputs": [],
   "source": [
    "# Loading all the libraries\n",
    "import pandas as pd\n",
    "from scipy import stats as st\n",
    "import numpy as np\n",
    "from matplotlib import pyplot as plt\n",
    "import warnings\n",
    "warnings.filterwarnings(\"ignore\")\n",
    "\n"
   ]
  },
  {
   "cell_type": "markdown",
   "metadata": {},
   "source": [
    "## Load data"
   ]
  },
  {
   "cell_type": "code",
   "execution_count": 3,
   "metadata": {},
   "outputs": [],
   "source": [
    "# Load the data files into different DataFrames\n",
    "calls = pd.read_csv('/datasets/megaline_calls.csv')\n",
    "internet = pd.read_csv('/datasets/megaline_internet.csv')\n",
    "messages = pd.read_csv('/datasets/megaline_messages.csv')\n",
    "plans = pd.read_csv('/datasets/megaline_plans.csv')\n",
    "users = pd.read_csv('/datasets/megaline_users.csv')"
   ]
  },
  {
   "cell_type": "markdown",
   "metadata": {},
   "source": [
    "## Prepare the data"
   ]
  },
  {
   "cell_type": "code",
   "execution_count": 4,
   "metadata": {},
   "outputs": [
    {
     "name": "stdout",
     "output_type": "stream",
     "text": [
      "<class 'pandas.core.frame.DataFrame'>\n",
      "RangeIndex: 137735 entries, 0 to 137734\n",
      "Data columns (total 4 columns):\n",
      " #   Column     Non-Null Count   Dtype  \n",
      "---  ------     --------------   -----  \n",
      " 0   id         137735 non-null  object \n",
      " 1   user_id    137735 non-null  int64  \n",
      " 2   call_date  137735 non-null  object \n",
      " 3   duration   137735 non-null  float64\n",
      "dtypes: float64(1), int64(1), object(2)\n",
      "memory usage: 4.2+ MB\n"
     ]
    }
   ],
   "source": [
    "calls.info()"
   ]
  },
  {
   "cell_type": "code",
   "execution_count": 5,
   "metadata": {},
   "outputs": [
    {
     "data": {
      "text/html": [
       "<div>\n",
       "<style scoped>\n",
       "    .dataframe tbody tr th:only-of-type {\n",
       "        vertical-align: middle;\n",
       "    }\n",
       "\n",
       "    .dataframe tbody tr th {\n",
       "        vertical-align: top;\n",
       "    }\n",
       "\n",
       "    .dataframe thead th {\n",
       "        text-align: right;\n",
       "    }\n",
       "</style>\n",
       "<table border=\"1\" class=\"dataframe\">\n",
       "  <thead>\n",
       "    <tr style=\"text-align: right;\">\n",
       "      <th></th>\n",
       "      <th>id</th>\n",
       "      <th>user_id</th>\n",
       "      <th>call_date</th>\n",
       "      <th>duration</th>\n",
       "    </tr>\n",
       "  </thead>\n",
       "  <tbody>\n",
       "    <tr>\n",
       "      <th>0</th>\n",
       "      <td>1000_93</td>\n",
       "      <td>1000</td>\n",
       "      <td>2018-12-27</td>\n",
       "      <td>8.52</td>\n",
       "    </tr>\n",
       "    <tr>\n",
       "      <th>1</th>\n",
       "      <td>1000_145</td>\n",
       "      <td>1000</td>\n",
       "      <td>2018-12-27</td>\n",
       "      <td>13.66</td>\n",
       "    </tr>\n",
       "    <tr>\n",
       "      <th>2</th>\n",
       "      <td>1000_247</td>\n",
       "      <td>1000</td>\n",
       "      <td>2018-12-27</td>\n",
       "      <td>14.48</td>\n",
       "    </tr>\n",
       "    <tr>\n",
       "      <th>3</th>\n",
       "      <td>1000_309</td>\n",
       "      <td>1000</td>\n",
       "      <td>2018-12-28</td>\n",
       "      <td>5.76</td>\n",
       "    </tr>\n",
       "    <tr>\n",
       "      <th>4</th>\n",
       "      <td>1000_380</td>\n",
       "      <td>1000</td>\n",
       "      <td>2018-12-30</td>\n",
       "      <td>4.22</td>\n",
       "    </tr>\n",
       "    <tr>\n",
       "      <th>5</th>\n",
       "      <td>1000_388</td>\n",
       "      <td>1000</td>\n",
       "      <td>2018-12-31</td>\n",
       "      <td>2.20</td>\n",
       "    </tr>\n",
       "    <tr>\n",
       "      <th>6</th>\n",
       "      <td>1000_510</td>\n",
       "      <td>1000</td>\n",
       "      <td>2018-12-27</td>\n",
       "      <td>5.75</td>\n",
       "    </tr>\n",
       "    <tr>\n",
       "      <th>7</th>\n",
       "      <td>1000_521</td>\n",
       "      <td>1000</td>\n",
       "      <td>2018-12-28</td>\n",
       "      <td>14.18</td>\n",
       "    </tr>\n",
       "    <tr>\n",
       "      <th>8</th>\n",
       "      <td>1000_530</td>\n",
       "      <td>1000</td>\n",
       "      <td>2018-12-28</td>\n",
       "      <td>5.77</td>\n",
       "    </tr>\n",
       "    <tr>\n",
       "      <th>9</th>\n",
       "      <td>1000_544</td>\n",
       "      <td>1000</td>\n",
       "      <td>2018-12-26</td>\n",
       "      <td>4.40</td>\n",
       "    </tr>\n",
       "    <tr>\n",
       "      <th>10</th>\n",
       "      <td>1000_693</td>\n",
       "      <td>1000</td>\n",
       "      <td>2018-12-31</td>\n",
       "      <td>4.31</td>\n",
       "    </tr>\n",
       "    <tr>\n",
       "      <th>11</th>\n",
       "      <td>1000_705</td>\n",
       "      <td>1000</td>\n",
       "      <td>2018-12-31</td>\n",
       "      <td>12.78</td>\n",
       "    </tr>\n",
       "    <tr>\n",
       "      <th>12</th>\n",
       "      <td>1000_735</td>\n",
       "      <td>1000</td>\n",
       "      <td>2018-12-29</td>\n",
       "      <td>1.70</td>\n",
       "    </tr>\n",
       "    <tr>\n",
       "      <th>13</th>\n",
       "      <td>1000_778</td>\n",
       "      <td>1000</td>\n",
       "      <td>2018-12-28</td>\n",
       "      <td>3.29</td>\n",
       "    </tr>\n",
       "    <tr>\n",
       "      <th>14</th>\n",
       "      <td>1000_826</td>\n",
       "      <td>1000</td>\n",
       "      <td>2018-12-26</td>\n",
       "      <td>9.96</td>\n",
       "    </tr>\n",
       "    <tr>\n",
       "      <th>15</th>\n",
       "      <td>1000_842</td>\n",
       "      <td>1000</td>\n",
       "      <td>2018-12-27</td>\n",
       "      <td>5.85</td>\n",
       "    </tr>\n",
       "    <tr>\n",
       "      <th>16</th>\n",
       "      <td>1001_0</td>\n",
       "      <td>1001</td>\n",
       "      <td>2018-09-06</td>\n",
       "      <td>10.06</td>\n",
       "    </tr>\n",
       "    <tr>\n",
       "      <th>17</th>\n",
       "      <td>1001_1</td>\n",
       "      <td>1001</td>\n",
       "      <td>2018-10-12</td>\n",
       "      <td>1.00</td>\n",
       "    </tr>\n",
       "    <tr>\n",
       "      <th>18</th>\n",
       "      <td>1001_2</td>\n",
       "      <td>1001</td>\n",
       "      <td>2018-10-17</td>\n",
       "      <td>15.83</td>\n",
       "    </tr>\n",
       "    <tr>\n",
       "      <th>19</th>\n",
       "      <td>1001_4</td>\n",
       "      <td>1001</td>\n",
       "      <td>2018-12-05</td>\n",
       "      <td>0.00</td>\n",
       "    </tr>\n",
       "  </tbody>\n",
       "</table>\n",
       "</div>"
      ],
      "text/plain": [
       "          id  user_id   call_date  duration\n",
       "0    1000_93     1000  2018-12-27      8.52\n",
       "1   1000_145     1000  2018-12-27     13.66\n",
       "2   1000_247     1000  2018-12-27     14.48\n",
       "3   1000_309     1000  2018-12-28      5.76\n",
       "4   1000_380     1000  2018-12-30      4.22\n",
       "5   1000_388     1000  2018-12-31      2.20\n",
       "6   1000_510     1000  2018-12-27      5.75\n",
       "7   1000_521     1000  2018-12-28     14.18\n",
       "8   1000_530     1000  2018-12-28      5.77\n",
       "9   1000_544     1000  2018-12-26      4.40\n",
       "10  1000_693     1000  2018-12-31      4.31\n",
       "11  1000_705     1000  2018-12-31     12.78\n",
       "12  1000_735     1000  2018-12-29      1.70\n",
       "13  1000_778     1000  2018-12-28      3.29\n",
       "14  1000_826     1000  2018-12-26      9.96\n",
       "15  1000_842     1000  2018-12-27      5.85\n",
       "16    1001_0     1001  2018-09-06     10.06\n",
       "17    1001_1     1001  2018-10-12      1.00\n",
       "18    1001_2     1001  2018-10-17     15.83\n",
       "19    1001_4     1001  2018-12-05      0.00"
      ]
     },
     "execution_count": 5,
     "metadata": {},
     "output_type": "execute_result"
    }
   ],
   "source": [
    "calls.head(20)"
   ]
  },
  {
   "cell_type": "code",
   "execution_count": 6,
   "metadata": {},
   "outputs": [
    {
     "data": {
      "text/html": [
       "<div>\n",
       "<style scoped>\n",
       "    .dataframe tbody tr th:only-of-type {\n",
       "        vertical-align: middle;\n",
       "    }\n",
       "\n",
       "    .dataframe tbody tr th {\n",
       "        vertical-align: top;\n",
       "    }\n",
       "\n",
       "    .dataframe thead th {\n",
       "        text-align: right;\n",
       "    }\n",
       "</style>\n",
       "<table border=\"1\" class=\"dataframe\">\n",
       "  <thead>\n",
       "    <tr style=\"text-align: right;\">\n",
       "      <th></th>\n",
       "      <th>id</th>\n",
       "      <th>user_id</th>\n",
       "      <th>call_date</th>\n",
       "      <th>duration</th>\n",
       "      <th>duration_round</th>\n",
       "      <th>month</th>\n",
       "    </tr>\n",
       "  </thead>\n",
       "  <tbody>\n",
       "    <tr>\n",
       "      <th>0</th>\n",
       "      <td>1000_93</td>\n",
       "      <td>1000</td>\n",
       "      <td>2018-12-27</td>\n",
       "      <td>8.52</td>\n",
       "      <td>9.0</td>\n",
       "      <td>12</td>\n",
       "    </tr>\n",
       "    <tr>\n",
       "      <th>1</th>\n",
       "      <td>1000_145</td>\n",
       "      <td>1000</td>\n",
       "      <td>2018-12-27</td>\n",
       "      <td>13.66</td>\n",
       "      <td>14.0</td>\n",
       "      <td>12</td>\n",
       "    </tr>\n",
       "    <tr>\n",
       "      <th>2</th>\n",
       "      <td>1000_247</td>\n",
       "      <td>1000</td>\n",
       "      <td>2018-12-27</td>\n",
       "      <td>14.48</td>\n",
       "      <td>15.0</td>\n",
       "      <td>12</td>\n",
       "    </tr>\n",
       "    <tr>\n",
       "      <th>3</th>\n",
       "      <td>1000_309</td>\n",
       "      <td>1000</td>\n",
       "      <td>2018-12-28</td>\n",
       "      <td>5.76</td>\n",
       "      <td>6.0</td>\n",
       "      <td>12</td>\n",
       "    </tr>\n",
       "    <tr>\n",
       "      <th>4</th>\n",
       "      <td>1000_380</td>\n",
       "      <td>1000</td>\n",
       "      <td>2018-12-30</td>\n",
       "      <td>4.22</td>\n",
       "      <td>5.0</td>\n",
       "      <td>12</td>\n",
       "    </tr>\n",
       "    <tr>\n",
       "      <th>...</th>\n",
       "      <td>...</td>\n",
       "      <td>...</td>\n",
       "      <td>...</td>\n",
       "      <td>...</td>\n",
       "      <td>...</td>\n",
       "      <td>...</td>\n",
       "    </tr>\n",
       "    <tr>\n",
       "      <th>137730</th>\n",
       "      <td>1499_199</td>\n",
       "      <td>1499</td>\n",
       "      <td>2018-11-21</td>\n",
       "      <td>8.72</td>\n",
       "      <td>9.0</td>\n",
       "      <td>11</td>\n",
       "    </tr>\n",
       "    <tr>\n",
       "      <th>137731</th>\n",
       "      <td>1499_200</td>\n",
       "      <td>1499</td>\n",
       "      <td>2018-10-20</td>\n",
       "      <td>10.89</td>\n",
       "      <td>11.0</td>\n",
       "      <td>10</td>\n",
       "    </tr>\n",
       "    <tr>\n",
       "      <th>137732</th>\n",
       "      <td>1499_201</td>\n",
       "      <td>1499</td>\n",
       "      <td>2018-09-21</td>\n",
       "      <td>8.12</td>\n",
       "      <td>9.0</td>\n",
       "      <td>9</td>\n",
       "    </tr>\n",
       "    <tr>\n",
       "      <th>137733</th>\n",
       "      <td>1499_202</td>\n",
       "      <td>1499</td>\n",
       "      <td>2018-10-10</td>\n",
       "      <td>0.37</td>\n",
       "      <td>1.0</td>\n",
       "      <td>10</td>\n",
       "    </tr>\n",
       "    <tr>\n",
       "      <th>137734</th>\n",
       "      <td>1499_203</td>\n",
       "      <td>1499</td>\n",
       "      <td>2018-12-29</td>\n",
       "      <td>13.86</td>\n",
       "      <td>14.0</td>\n",
       "      <td>12</td>\n",
       "    </tr>\n",
       "  </tbody>\n",
       "</table>\n",
       "<p>137735 rows × 6 columns</p>\n",
       "</div>"
      ],
      "text/plain": [
       "              id  user_id   call_date  duration  duration_round  month\n",
       "0        1000_93     1000  2018-12-27      8.52             9.0     12\n",
       "1       1000_145     1000  2018-12-27     13.66            14.0     12\n",
       "2       1000_247     1000  2018-12-27     14.48            15.0     12\n",
       "3       1000_309     1000  2018-12-28      5.76             6.0     12\n",
       "4       1000_380     1000  2018-12-30      4.22             5.0     12\n",
       "...          ...      ...         ...       ...             ...    ...\n",
       "137730  1499_199     1499  2018-11-21      8.72             9.0     11\n",
       "137731  1499_200     1499  2018-10-20     10.89            11.0     10\n",
       "137732  1499_201     1499  2018-09-21      8.12             9.0      9\n",
       "137733  1499_202     1499  2018-10-10      0.37             1.0     10\n",
       "137734  1499_203     1499  2018-12-29     13.86            14.0     12\n",
       "\n",
       "[137735 rows x 6 columns]"
      ]
     },
     "execution_count": 6,
     "metadata": {},
     "output_type": "execute_result"
    }
   ],
   "source": [
    "# durations will be rounded up to the nearest minute\n",
    "calls['duration_round'] = calls['duration'].apply(np.ceil)\n",
    "calls['month'] = pd.DatetimeIndex(calls['call_date']).month\n",
    "calls"
   ]
  },
  {
   "cell_type": "code",
   "execution_count": 7,
   "metadata": {},
   "outputs": [
    {
     "name": "stdout",
     "output_type": "stream",
     "text": [
      "<class 'pandas.core.frame.DataFrame'>\n",
      "RangeIndex: 137735 entries, 0 to 137734\n",
      "Data columns (total 6 columns):\n",
      " #   Column          Non-Null Count   Dtype  \n",
      "---  ------          --------------   -----  \n",
      " 0   id              137735 non-null  object \n",
      " 1   user_id         137735 non-null  int64  \n",
      " 2   call_date       137735 non-null  object \n",
      " 3   duration        137735 non-null  float64\n",
      " 4   duration_round  137735 non-null  float64\n",
      " 5   month           137735 non-null  int64  \n",
      "dtypes: float64(2), int64(2), object(2)\n",
      "memory usage: 6.3+ MB\n"
     ]
    }
   ],
   "source": [
    "calls.info()"
   ]
  },
  {
   "cell_type": "code",
   "execution_count": 8,
   "metadata": {},
   "outputs": [
    {
     "data": {
      "text/html": [
       "<div>\n",
       "<style scoped>\n",
       "    .dataframe tbody tr th:only-of-type {\n",
       "        vertical-align: middle;\n",
       "    }\n",
       "\n",
       "    .dataframe tbody tr th {\n",
       "        vertical-align: top;\n",
       "    }\n",
       "\n",
       "    .dataframe thead tr th {\n",
       "        text-align: left;\n",
       "    }\n",
       "\n",
       "    .dataframe thead tr:last-of-type th {\n",
       "        text-align: right;\n",
       "    }\n",
       "</style>\n",
       "<table border=\"1\" class=\"dataframe\">\n",
       "  <thead>\n",
       "    <tr>\n",
       "      <th></th>\n",
       "      <th></th>\n",
       "      <th>duration_round</th>\n",
       "    </tr>\n",
       "    <tr>\n",
       "      <th></th>\n",
       "      <th></th>\n",
       "      <th>sum</th>\n",
       "    </tr>\n",
       "    <tr>\n",
       "      <th>user_id</th>\n",
       "      <th>month</th>\n",
       "      <th></th>\n",
       "    </tr>\n",
       "  </thead>\n",
       "  <tbody>\n",
       "    <tr>\n",
       "      <th>1000</th>\n",
       "      <th>12</th>\n",
       "      <td>124.0</td>\n",
       "    </tr>\n",
       "    <tr>\n",
       "      <th rowspan=\"5\" valign=\"top\">1001</th>\n",
       "      <th>8</th>\n",
       "      <td>182.0</td>\n",
       "    </tr>\n",
       "    <tr>\n",
       "      <th>9</th>\n",
       "      <td>315.0</td>\n",
       "    </tr>\n",
       "    <tr>\n",
       "      <th>10</th>\n",
       "      <td>393.0</td>\n",
       "    </tr>\n",
       "    <tr>\n",
       "      <th>11</th>\n",
       "      <td>426.0</td>\n",
       "    </tr>\n",
       "    <tr>\n",
       "      <th>12</th>\n",
       "      <td>412.0</td>\n",
       "    </tr>\n",
       "    <tr>\n",
       "      <th rowspan=\"3\" valign=\"top\">1002</th>\n",
       "      <th>10</th>\n",
       "      <td>59.0</td>\n",
       "    </tr>\n",
       "    <tr>\n",
       "      <th>11</th>\n",
       "      <td>386.0</td>\n",
       "    </tr>\n",
       "    <tr>\n",
       "      <th>12</th>\n",
       "      <td>384.0</td>\n",
       "    </tr>\n",
       "    <tr>\n",
       "      <th>1003</th>\n",
       "      <th>12</th>\n",
       "      <td>1104.0</td>\n",
       "    </tr>\n",
       "    <tr>\n",
       "      <th rowspan=\"8\" valign=\"top\">1004</th>\n",
       "      <th>5</th>\n",
       "      <td>193.0</td>\n",
       "    </tr>\n",
       "    <tr>\n",
       "      <th>6</th>\n",
       "      <td>275.0</td>\n",
       "    </tr>\n",
       "    <tr>\n",
       "      <th>7</th>\n",
       "      <td>381.0</td>\n",
       "    </tr>\n",
       "    <tr>\n",
       "      <th>8</th>\n",
       "      <td>354.0</td>\n",
       "    </tr>\n",
       "    <tr>\n",
       "      <th>9</th>\n",
       "      <td>301.0</td>\n",
       "    </tr>\n",
       "    <tr>\n",
       "      <th>10</th>\n",
       "      <td>365.0</td>\n",
       "    </tr>\n",
       "    <tr>\n",
       "      <th>11</th>\n",
       "      <td>476.0</td>\n",
       "    </tr>\n",
       "    <tr>\n",
       "      <th>12</th>\n",
       "      <td>427.0</td>\n",
       "    </tr>\n",
       "    <tr>\n",
       "      <th>1005</th>\n",
       "      <th>12</th>\n",
       "      <td>496.0</td>\n",
       "    </tr>\n",
       "    <tr>\n",
       "      <th rowspan=\"2\" valign=\"top\">1006</th>\n",
       "      <th>11</th>\n",
       "      <td>10.0</td>\n",
       "    </tr>\n",
       "    <tr>\n",
       "      <th>12</th>\n",
       "      <td>59.0</td>\n",
       "    </tr>\n",
       "    <tr>\n",
       "      <th rowspan=\"5\" valign=\"top\">1007</th>\n",
       "      <th>8</th>\n",
       "      <td>456.0</td>\n",
       "    </tr>\n",
       "    <tr>\n",
       "      <th>9</th>\n",
       "      <td>399.0</td>\n",
       "    </tr>\n",
       "    <tr>\n",
       "      <th>10</th>\n",
       "      <td>645.0</td>\n",
       "    </tr>\n",
       "    <tr>\n",
       "      <th>11</th>\n",
       "      <td>524.0</td>\n",
       "    </tr>\n",
       "    <tr>\n",
       "      <th>12</th>\n",
       "      <td>617.0</td>\n",
       "    </tr>\n",
       "    <tr>\n",
       "      <th rowspan=\"3\" valign=\"top\">1008</th>\n",
       "      <th>10</th>\n",
       "      <td>476.0</td>\n",
       "    </tr>\n",
       "    <tr>\n",
       "      <th>11</th>\n",
       "      <td>446.0</td>\n",
       "    </tr>\n",
       "    <tr>\n",
       "      <th>12</th>\n",
       "      <td>634.0</td>\n",
       "    </tr>\n",
       "    <tr>\n",
       "      <th rowspan=\"8\" valign=\"top\">1009</th>\n",
       "      <th>5</th>\n",
       "      <td>534.0</td>\n",
       "    </tr>\n",
       "    <tr>\n",
       "      <th>6</th>\n",
       "      <td>823.0</td>\n",
       "    </tr>\n",
       "    <tr>\n",
       "      <th>7</th>\n",
       "      <td>880.0</td>\n",
       "    </tr>\n",
       "    <tr>\n",
       "      <th>8</th>\n",
       "      <td>731.0</td>\n",
       "    </tr>\n",
       "    <tr>\n",
       "      <th>9</th>\n",
       "      <td>776.0</td>\n",
       "    </tr>\n",
       "    <tr>\n",
       "      <th>10</th>\n",
       "      <td>740.0</td>\n",
       "    </tr>\n",
       "    <tr>\n",
       "      <th>11</th>\n",
       "      <td>714.0</td>\n",
       "    </tr>\n",
       "    <tr>\n",
       "      <th>12</th>\n",
       "      <td>756.0</td>\n",
       "    </tr>\n",
       "    <tr>\n",
       "      <th rowspan=\"9\" valign=\"top\">1010</th>\n",
       "      <th>3</th>\n",
       "      <td>429.0</td>\n",
       "    </tr>\n",
       "    <tr>\n",
       "      <th>4</th>\n",
       "      <td>656.0</td>\n",
       "    </tr>\n",
       "    <tr>\n",
       "      <th>5</th>\n",
       "      <td>532.0</td>\n",
       "    </tr>\n",
       "    <tr>\n",
       "      <th>6</th>\n",
       "      <td>553.0</td>\n",
       "    </tr>\n",
       "    <tr>\n",
       "      <th>7</th>\n",
       "      <td>698.0</td>\n",
       "    </tr>\n",
       "    <tr>\n",
       "      <th>8</th>\n",
       "      <td>637.0</td>\n",
       "    </tr>\n",
       "    <tr>\n",
       "      <th>9</th>\n",
       "      <td>601.0</td>\n",
       "    </tr>\n",
       "    <tr>\n",
       "      <th>10</th>\n",
       "      <td>711.0</td>\n",
       "    </tr>\n",
       "    <tr>\n",
       "      <th>11</th>\n",
       "      <td>258.0</td>\n",
       "    </tr>\n",
       "    <tr>\n",
       "      <th rowspan=\"4\" valign=\"top\">1011</th>\n",
       "      <th>6</th>\n",
       "      <td>118.0</td>\n",
       "    </tr>\n",
       "    <tr>\n",
       "      <th>7</th>\n",
       "      <td>499.0</td>\n",
       "    </tr>\n",
       "    <tr>\n",
       "      <th>8</th>\n",
       "      <td>486.0</td>\n",
       "    </tr>\n",
       "    <tr>\n",
       "      <th>9</th>\n",
       "      <td>484.0</td>\n",
       "    </tr>\n",
       "  </tbody>\n",
       "</table>\n",
       "</div>"
      ],
      "text/plain": [
       "              duration_round\n",
       "                         sum\n",
       "user_id month               \n",
       "1000    12             124.0\n",
       "1001    8              182.0\n",
       "        9              315.0\n",
       "        10             393.0\n",
       "        11             426.0\n",
       "        12             412.0\n",
       "1002    10              59.0\n",
       "        11             386.0\n",
       "        12             384.0\n",
       "1003    12            1104.0\n",
       "1004    5              193.0\n",
       "        6              275.0\n",
       "        7              381.0\n",
       "        8              354.0\n",
       "        9              301.0\n",
       "        10             365.0\n",
       "        11             476.0\n",
       "        12             427.0\n",
       "1005    12             496.0\n",
       "1006    11              10.0\n",
       "        12              59.0\n",
       "1007    8              456.0\n",
       "        9              399.0\n",
       "        10             645.0\n",
       "        11             524.0\n",
       "        12             617.0\n",
       "1008    10             476.0\n",
       "        11             446.0\n",
       "        12             634.0\n",
       "1009    5              534.0\n",
       "        6              823.0\n",
       "        7              880.0\n",
       "        8              731.0\n",
       "        9              776.0\n",
       "        10             740.0\n",
       "        11             714.0\n",
       "        12             756.0\n",
       "1010    3              429.0\n",
       "        4              656.0\n",
       "        5              532.0\n",
       "        6              553.0\n",
       "        7              698.0\n",
       "        8              637.0\n",
       "        9              601.0\n",
       "        10             711.0\n",
       "        11             258.0\n",
       "1011    6              118.0\n",
       "        7              499.0\n",
       "        8              486.0\n",
       "        9              484.0"
      ]
     },
     "execution_count": 8,
     "metadata": {},
     "output_type": "execute_result"
    }
   ],
   "source": [
    "calls_merge = calls.groupby(['user_id','month']).agg({'duration_round': ['sum']})\n",
    "calls_merge.head(50)"
   ]
  },
  {
   "cell_type": "code",
   "execution_count": 9,
   "metadata": {},
   "outputs": [
    {
     "data": {
      "text/html": [
       "<div>\n",
       "<style scoped>\n",
       "    .dataframe tbody tr th:only-of-type {\n",
       "        vertical-align: middle;\n",
       "    }\n",
       "\n",
       "    .dataframe tbody tr th {\n",
       "        vertical-align: top;\n",
       "    }\n",
       "\n",
       "    .dataframe thead tr th {\n",
       "        text-align: left;\n",
       "    }\n",
       "</style>\n",
       "<table border=\"1\" class=\"dataframe\">\n",
       "  <thead>\n",
       "    <tr>\n",
       "      <th></th>\n",
       "      <th>duration_round</th>\n",
       "    </tr>\n",
       "    <tr>\n",
       "      <th></th>\n",
       "      <th>sum</th>\n",
       "    </tr>\n",
       "  </thead>\n",
       "  <tbody>\n",
       "    <tr>\n",
       "      <th>count</th>\n",
       "      <td>2258.000000</td>\n",
       "    </tr>\n",
       "    <tr>\n",
       "      <th>mean</th>\n",
       "      <td>435.937555</td>\n",
       "    </tr>\n",
       "    <tr>\n",
       "      <th>std</th>\n",
       "      <td>231.972343</td>\n",
       "    </tr>\n",
       "    <tr>\n",
       "      <th>min</th>\n",
       "      <td>0.000000</td>\n",
       "    </tr>\n",
       "    <tr>\n",
       "      <th>25%</th>\n",
       "      <td>275.000000</td>\n",
       "    </tr>\n",
       "    <tr>\n",
       "      <th>50%</th>\n",
       "      <td>429.000000</td>\n",
       "    </tr>\n",
       "    <tr>\n",
       "      <th>75%</th>\n",
       "      <td>574.750000</td>\n",
       "    </tr>\n",
       "    <tr>\n",
       "      <th>max</th>\n",
       "      <td>1510.000000</td>\n",
       "    </tr>\n",
       "  </tbody>\n",
       "</table>\n",
       "</div>"
      ],
      "text/plain": [
       "      duration_round\n",
       "                 sum\n",
       "count    2258.000000\n",
       "mean      435.937555\n",
       "std       231.972343\n",
       "min         0.000000\n",
       "25%       275.000000\n",
       "50%       429.000000\n",
       "75%       574.750000\n",
       "max      1510.000000"
      ]
     },
     "execution_count": 9,
     "metadata": {},
     "output_type": "execute_result"
    }
   ],
   "source": [
    "calls_merge.describe()"
   ]
  },
  {
   "cell_type": "code",
   "execution_count": 10,
   "metadata": {},
   "outputs": [
    {
     "name": "stdout",
     "output_type": "stream",
     "text": [
      "<class 'pandas.core.frame.DataFrame'>\n",
      "RangeIndex: 104825 entries, 0 to 104824\n",
      "Data columns (total 4 columns):\n",
      " #   Column        Non-Null Count   Dtype  \n",
      "---  ------        --------------   -----  \n",
      " 0   id            104825 non-null  object \n",
      " 1   user_id       104825 non-null  int64  \n",
      " 2   session_date  104825 non-null  object \n",
      " 3   mb_used       104825 non-null  float64\n",
      "dtypes: float64(1), int64(1), object(2)\n",
      "memory usage: 3.2+ MB\n"
     ]
    }
   ],
   "source": [
    "internet.info()"
   ]
  },
  {
   "cell_type": "code",
   "execution_count": 11,
   "metadata": {},
   "outputs": [
    {
     "data": {
      "text/html": [
       "<div>\n",
       "<style scoped>\n",
       "    .dataframe tbody tr th:only-of-type {\n",
       "        vertical-align: middle;\n",
       "    }\n",
       "\n",
       "    .dataframe tbody tr th {\n",
       "        vertical-align: top;\n",
       "    }\n",
       "\n",
       "    .dataframe thead th {\n",
       "        text-align: right;\n",
       "    }\n",
       "</style>\n",
       "<table border=\"1\" class=\"dataframe\">\n",
       "  <thead>\n",
       "    <tr style=\"text-align: right;\">\n",
       "      <th></th>\n",
       "      <th>id</th>\n",
       "      <th>user_id</th>\n",
       "      <th>session_date</th>\n",
       "      <th>mb_used</th>\n",
       "    </tr>\n",
       "  </thead>\n",
       "  <tbody>\n",
       "    <tr>\n",
       "      <th>0</th>\n",
       "      <td>1000_13</td>\n",
       "      <td>1000</td>\n",
       "      <td>2018-12-29</td>\n",
       "      <td>89.86</td>\n",
       "    </tr>\n",
       "    <tr>\n",
       "      <th>1</th>\n",
       "      <td>1000_204</td>\n",
       "      <td>1000</td>\n",
       "      <td>2018-12-31</td>\n",
       "      <td>0.00</td>\n",
       "    </tr>\n",
       "    <tr>\n",
       "      <th>2</th>\n",
       "      <td>1000_379</td>\n",
       "      <td>1000</td>\n",
       "      <td>2018-12-28</td>\n",
       "      <td>660.40</td>\n",
       "    </tr>\n",
       "    <tr>\n",
       "      <th>3</th>\n",
       "      <td>1000_413</td>\n",
       "      <td>1000</td>\n",
       "      <td>2018-12-26</td>\n",
       "      <td>270.99</td>\n",
       "    </tr>\n",
       "    <tr>\n",
       "      <th>4</th>\n",
       "      <td>1000_442</td>\n",
       "      <td>1000</td>\n",
       "      <td>2018-12-27</td>\n",
       "      <td>880.22</td>\n",
       "    </tr>\n",
       "    <tr>\n",
       "      <th>5</th>\n",
       "      <td>1001_0</td>\n",
       "      <td>1001</td>\n",
       "      <td>2018-08-24</td>\n",
       "      <td>284.68</td>\n",
       "    </tr>\n",
       "    <tr>\n",
       "      <th>6</th>\n",
       "      <td>1001_3</td>\n",
       "      <td>1001</td>\n",
       "      <td>2018-12-09</td>\n",
       "      <td>656.04</td>\n",
       "    </tr>\n",
       "    <tr>\n",
       "      <th>7</th>\n",
       "      <td>1001_4</td>\n",
       "      <td>1001</td>\n",
       "      <td>2018-11-04</td>\n",
       "      <td>16.97</td>\n",
       "    </tr>\n",
       "    <tr>\n",
       "      <th>8</th>\n",
       "      <td>1001_10</td>\n",
       "      <td>1001</td>\n",
       "      <td>2018-11-27</td>\n",
       "      <td>135.18</td>\n",
       "    </tr>\n",
       "    <tr>\n",
       "      <th>9</th>\n",
       "      <td>1001_15</td>\n",
       "      <td>1001</td>\n",
       "      <td>2018-12-13</td>\n",
       "      <td>761.92</td>\n",
       "    </tr>\n",
       "    <tr>\n",
       "      <th>10</th>\n",
       "      <td>1001_16</td>\n",
       "      <td>1001</td>\n",
       "      <td>2018-10-28</td>\n",
       "      <td>501.53</td>\n",
       "    </tr>\n",
       "    <tr>\n",
       "      <th>11</th>\n",
       "      <td>1001_17</td>\n",
       "      <td>1001</td>\n",
       "      <td>2018-09-05</td>\n",
       "      <td>727.29</td>\n",
       "    </tr>\n",
       "    <tr>\n",
       "      <th>12</th>\n",
       "      <td>1001_24</td>\n",
       "      <td>1001</td>\n",
       "      <td>2018-09-05</td>\n",
       "      <td>622.03</td>\n",
       "    </tr>\n",
       "    <tr>\n",
       "      <th>13</th>\n",
       "      <td>1001_25</td>\n",
       "      <td>1001</td>\n",
       "      <td>2018-10-14</td>\n",
       "      <td>310.43</td>\n",
       "    </tr>\n",
       "    <tr>\n",
       "      <th>14</th>\n",
       "      <td>1001_26</td>\n",
       "      <td>1001</td>\n",
       "      <td>2018-09-17</td>\n",
       "      <td>0.00</td>\n",
       "    </tr>\n",
       "    <tr>\n",
       "      <th>15</th>\n",
       "      <td>1001_27</td>\n",
       "      <td>1001</td>\n",
       "      <td>2018-12-13</td>\n",
       "      <td>149.17</td>\n",
       "    </tr>\n",
       "    <tr>\n",
       "      <th>16</th>\n",
       "      <td>1001_28</td>\n",
       "      <td>1001</td>\n",
       "      <td>2018-10-17</td>\n",
       "      <td>0.00</td>\n",
       "    </tr>\n",
       "    <tr>\n",
       "      <th>17</th>\n",
       "      <td>1001_29</td>\n",
       "      <td>1001</td>\n",
       "      <td>2018-10-09</td>\n",
       "      <td>1067.99</td>\n",
       "    </tr>\n",
       "    <tr>\n",
       "      <th>18</th>\n",
       "      <td>1001_30</td>\n",
       "      <td>1001</td>\n",
       "      <td>2018-12-27</td>\n",
       "      <td>157.20</td>\n",
       "    </tr>\n",
       "    <tr>\n",
       "      <th>19</th>\n",
       "      <td>1001_33</td>\n",
       "      <td>1001</td>\n",
       "      <td>2018-09-27</td>\n",
       "      <td>236.40</td>\n",
       "    </tr>\n",
       "  </tbody>\n",
       "</table>\n",
       "</div>"
      ],
      "text/plain": [
       "          id  user_id session_date  mb_used\n",
       "0    1000_13     1000   2018-12-29    89.86\n",
       "1   1000_204     1000   2018-12-31     0.00\n",
       "2   1000_379     1000   2018-12-28   660.40\n",
       "3   1000_413     1000   2018-12-26   270.99\n",
       "4   1000_442     1000   2018-12-27   880.22\n",
       "5     1001_0     1001   2018-08-24   284.68\n",
       "6     1001_3     1001   2018-12-09   656.04\n",
       "7     1001_4     1001   2018-11-04    16.97\n",
       "8    1001_10     1001   2018-11-27   135.18\n",
       "9    1001_15     1001   2018-12-13   761.92\n",
       "10   1001_16     1001   2018-10-28   501.53\n",
       "11   1001_17     1001   2018-09-05   727.29\n",
       "12   1001_24     1001   2018-09-05   622.03\n",
       "13   1001_25     1001   2018-10-14   310.43\n",
       "14   1001_26     1001   2018-09-17     0.00\n",
       "15   1001_27     1001   2018-12-13   149.17\n",
       "16   1001_28     1001   2018-10-17     0.00\n",
       "17   1001_29     1001   2018-10-09  1067.99\n",
       "18   1001_30     1001   2018-12-27   157.20\n",
       "19   1001_33     1001   2018-09-27   236.40"
      ]
     },
     "execution_count": 11,
     "metadata": {},
     "output_type": "execute_result"
    }
   ],
   "source": [
    "internet.head(20)"
   ]
  },
  {
   "cell_type": "code",
   "execution_count": 12,
   "metadata": {
    "scrolled": false
   },
   "outputs": [],
   "source": [
    "internet['month'] = pd.DatetimeIndex(internet['session_date']).month\n",
    "internet_merge = internet.groupby(['user_id','month']).agg({'mb_used': ['sum']})\n",
    "internet_merge['mb_used'] = internet_merge['mb_used']/1024\n",
    "internet_merge['gb_round'] = internet_merge['mb_used'].apply(np.ceil)"
   ]
  },
  {
   "cell_type": "code",
   "execution_count": 13,
   "metadata": {},
   "outputs": [
    {
     "data": {
      "text/html": [
       "<div>\n",
       "<style scoped>\n",
       "    .dataframe tbody tr th:only-of-type {\n",
       "        vertical-align: middle;\n",
       "    }\n",
       "\n",
       "    .dataframe tbody tr th {\n",
       "        vertical-align: top;\n",
       "    }\n",
       "\n",
       "    .dataframe thead tr th {\n",
       "        text-align: left;\n",
       "    }\n",
       "\n",
       "    .dataframe thead tr:last-of-type th {\n",
       "        text-align: right;\n",
       "    }\n",
       "</style>\n",
       "<table border=\"1\" class=\"dataframe\">\n",
       "  <thead>\n",
       "    <tr>\n",
       "      <th></th>\n",
       "      <th></th>\n",
       "      <th>mb_used</th>\n",
       "      <th>gb_round</th>\n",
       "    </tr>\n",
       "    <tr>\n",
       "      <th></th>\n",
       "      <th></th>\n",
       "      <th>sum</th>\n",
       "      <th></th>\n",
       "    </tr>\n",
       "    <tr>\n",
       "      <th>user_id</th>\n",
       "      <th>month</th>\n",
       "      <th></th>\n",
       "      <th></th>\n",
       "    </tr>\n",
       "  </thead>\n",
       "  <tbody>\n",
       "    <tr>\n",
       "      <th>1000</th>\n",
       "      <th>12</th>\n",
       "      <td>1.856904</td>\n",
       "      <td>2.0</td>\n",
       "    </tr>\n",
       "    <tr>\n",
       "      <th rowspan=\"4\" valign=\"top\">1001</th>\n",
       "      <th>8</th>\n",
       "      <td>6.756982</td>\n",
       "      <td>7.0</td>\n",
       "    </tr>\n",
       "    <tr>\n",
       "      <th>9</th>\n",
       "      <td>13.002754</td>\n",
       "      <td>14.0</td>\n",
       "    </tr>\n",
       "    <tr>\n",
       "      <th>10</th>\n",
       "      <td>21.807119</td>\n",
       "      <td>22.0</td>\n",
       "    </tr>\n",
       "    <tr>\n",
       "      <th>11</th>\n",
       "      <td>18.070605</td>\n",
       "      <td>19.0</td>\n",
       "    </tr>\n",
       "    <tr>\n",
       "      <th>...</th>\n",
       "      <th>...</th>\n",
       "      <td>...</td>\n",
       "      <td>...</td>\n",
       "    </tr>\n",
       "    <tr>\n",
       "      <th>1498</th>\n",
       "      <th>12</th>\n",
       "      <td>22.595400</td>\n",
       "      <td>23.0</td>\n",
       "    </tr>\n",
       "    <tr>\n",
       "      <th rowspan=\"4\" valign=\"top\">1499</th>\n",
       "      <th>9</th>\n",
       "      <td>12.680430</td>\n",
       "      <td>13.0</td>\n",
       "    </tr>\n",
       "    <tr>\n",
       "      <th>10</th>\n",
       "      <td>19.035576</td>\n",
       "      <td>20.0</td>\n",
       "    </tr>\n",
       "    <tr>\n",
       "      <th>11</th>\n",
       "      <td>16.419756</td>\n",
       "      <td>17.0</td>\n",
       "    </tr>\n",
       "    <tr>\n",
       "      <th>12</th>\n",
       "      <td>21.542197</td>\n",
       "      <td>22.0</td>\n",
       "    </tr>\n",
       "  </tbody>\n",
       "</table>\n",
       "<p>2277 rows × 2 columns</p>\n",
       "</div>"
      ],
      "text/plain": [
       "                 mb_used gb_round\n",
       "                     sum         \n",
       "user_id month                    \n",
       "1000    12      1.856904      2.0\n",
       "1001    8       6.756982      7.0\n",
       "        9      13.002754     14.0\n",
       "        10     21.807119     22.0\n",
       "        11     18.070605     19.0\n",
       "...                  ...      ...\n",
       "1498    12     22.595400     23.0\n",
       "1499    9      12.680430     13.0\n",
       "        10     19.035576     20.0\n",
       "        11     16.419756     17.0\n",
       "        12     21.542197     22.0\n",
       "\n",
       "[2277 rows x 2 columns]"
      ]
     },
     "execution_count": 13,
     "metadata": {},
     "output_type": "execute_result"
    }
   ],
   "source": [
    "internet_merge"
   ]
  },
  {
   "cell_type": "code",
   "execution_count": 14,
   "metadata": {},
   "outputs": [
    {
     "name": "stdout",
     "output_type": "stream",
     "text": [
      "<class 'pandas.core.frame.DataFrame'>\n",
      "RangeIndex: 76051 entries, 0 to 76050\n",
      "Data columns (total 3 columns):\n",
      " #   Column        Non-Null Count  Dtype \n",
      "---  ------        --------------  ----- \n",
      " 0   id            76051 non-null  object\n",
      " 1   user_id       76051 non-null  int64 \n",
      " 2   message_date  76051 non-null  object\n",
      "dtypes: int64(1), object(2)\n",
      "memory usage: 1.7+ MB\n"
     ]
    }
   ],
   "source": [
    "messages.info()"
   ]
  },
  {
   "cell_type": "code",
   "execution_count": 15,
   "metadata": {},
   "outputs": [
    {
     "data": {
      "text/html": [
       "<div>\n",
       "<style scoped>\n",
       "    .dataframe tbody tr th:only-of-type {\n",
       "        vertical-align: middle;\n",
       "    }\n",
       "\n",
       "    .dataframe tbody tr th {\n",
       "        vertical-align: top;\n",
       "    }\n",
       "\n",
       "    .dataframe thead th {\n",
       "        text-align: right;\n",
       "    }\n",
       "</style>\n",
       "<table border=\"1\" class=\"dataframe\">\n",
       "  <thead>\n",
       "    <tr style=\"text-align: right;\">\n",
       "      <th></th>\n",
       "      <th>id</th>\n",
       "      <th>user_id</th>\n",
       "      <th>message_date</th>\n",
       "    </tr>\n",
       "  </thead>\n",
       "  <tbody>\n",
       "    <tr>\n",
       "      <th>0</th>\n",
       "      <td>1000_125</td>\n",
       "      <td>1000</td>\n",
       "      <td>2018-12-27</td>\n",
       "    </tr>\n",
       "    <tr>\n",
       "      <th>1</th>\n",
       "      <td>1000_160</td>\n",
       "      <td>1000</td>\n",
       "      <td>2018-12-31</td>\n",
       "    </tr>\n",
       "    <tr>\n",
       "      <th>2</th>\n",
       "      <td>1000_223</td>\n",
       "      <td>1000</td>\n",
       "      <td>2018-12-31</td>\n",
       "    </tr>\n",
       "    <tr>\n",
       "      <th>3</th>\n",
       "      <td>1000_251</td>\n",
       "      <td>1000</td>\n",
       "      <td>2018-12-27</td>\n",
       "    </tr>\n",
       "    <tr>\n",
       "      <th>4</th>\n",
       "      <td>1000_255</td>\n",
       "      <td>1000</td>\n",
       "      <td>2018-12-26</td>\n",
       "    </tr>\n",
       "    <tr>\n",
       "      <th>5</th>\n",
       "      <td>1000_346</td>\n",
       "      <td>1000</td>\n",
       "      <td>2018-12-29</td>\n",
       "    </tr>\n",
       "    <tr>\n",
       "      <th>6</th>\n",
       "      <td>1000_386</td>\n",
       "      <td>1000</td>\n",
       "      <td>2018-12-30</td>\n",
       "    </tr>\n",
       "    <tr>\n",
       "      <th>7</th>\n",
       "      <td>1000_413</td>\n",
       "      <td>1000</td>\n",
       "      <td>2018-12-31</td>\n",
       "    </tr>\n",
       "    <tr>\n",
       "      <th>8</th>\n",
       "      <td>1000_502</td>\n",
       "      <td>1000</td>\n",
       "      <td>2018-12-27</td>\n",
       "    </tr>\n",
       "    <tr>\n",
       "      <th>9</th>\n",
       "      <td>1000_525</td>\n",
       "      <td>1000</td>\n",
       "      <td>2018-12-28</td>\n",
       "    </tr>\n",
       "    <tr>\n",
       "      <th>10</th>\n",
       "      <td>1000_567</td>\n",
       "      <td>1000</td>\n",
       "      <td>2018-12-25</td>\n",
       "    </tr>\n",
       "    <tr>\n",
       "      <th>11</th>\n",
       "      <td>1001_1</td>\n",
       "      <td>1001</td>\n",
       "      <td>2018-11-14</td>\n",
       "    </tr>\n",
       "    <tr>\n",
       "      <th>12</th>\n",
       "      <td>1001_2</td>\n",
       "      <td>1001</td>\n",
       "      <td>2018-08-17</td>\n",
       "    </tr>\n",
       "    <tr>\n",
       "      <th>13</th>\n",
       "      <td>1001_5</td>\n",
       "      <td>1001</td>\n",
       "      <td>2018-12-05</td>\n",
       "    </tr>\n",
       "    <tr>\n",
       "      <th>14</th>\n",
       "      <td>1001_7</td>\n",
       "      <td>1001</td>\n",
       "      <td>2018-11-28</td>\n",
       "    </tr>\n",
       "    <tr>\n",
       "      <th>15</th>\n",
       "      <td>1001_9</td>\n",
       "      <td>1001</td>\n",
       "      <td>2018-10-23</td>\n",
       "    </tr>\n",
       "    <tr>\n",
       "      <th>16</th>\n",
       "      <td>1001_10</td>\n",
       "      <td>1001</td>\n",
       "      <td>2018-09-01</td>\n",
       "    </tr>\n",
       "    <tr>\n",
       "      <th>17</th>\n",
       "      <td>1001_11</td>\n",
       "      <td>1001</td>\n",
       "      <td>2018-11-18</td>\n",
       "    </tr>\n",
       "    <tr>\n",
       "      <th>18</th>\n",
       "      <td>1001_17</td>\n",
       "      <td>1001</td>\n",
       "      <td>2018-12-11</td>\n",
       "    </tr>\n",
       "    <tr>\n",
       "      <th>19</th>\n",
       "      <td>1001_18</td>\n",
       "      <td>1001</td>\n",
       "      <td>2018-10-01</td>\n",
       "    </tr>\n",
       "  </tbody>\n",
       "</table>\n",
       "</div>"
      ],
      "text/plain": [
       "          id  user_id message_date\n",
       "0   1000_125     1000   2018-12-27\n",
       "1   1000_160     1000   2018-12-31\n",
       "2   1000_223     1000   2018-12-31\n",
       "3   1000_251     1000   2018-12-27\n",
       "4   1000_255     1000   2018-12-26\n",
       "5   1000_346     1000   2018-12-29\n",
       "6   1000_386     1000   2018-12-30\n",
       "7   1000_413     1000   2018-12-31\n",
       "8   1000_502     1000   2018-12-27\n",
       "9   1000_525     1000   2018-12-28\n",
       "10  1000_567     1000   2018-12-25\n",
       "11    1001_1     1001   2018-11-14\n",
       "12    1001_2     1001   2018-08-17\n",
       "13    1001_5     1001   2018-12-05\n",
       "14    1001_7     1001   2018-11-28\n",
       "15    1001_9     1001   2018-10-23\n",
       "16   1001_10     1001   2018-09-01\n",
       "17   1001_11     1001   2018-11-18\n",
       "18   1001_17     1001   2018-12-11\n",
       "19   1001_18     1001   2018-10-01"
      ]
     },
     "execution_count": 15,
     "metadata": {},
     "output_type": "execute_result"
    }
   ],
   "source": [
    "messages.head(20)"
   ]
  },
  {
   "cell_type": "code",
   "execution_count": 16,
   "metadata": {},
   "outputs": [
    {
     "data": {
      "text/html": [
       "<div>\n",
       "<style scoped>\n",
       "    .dataframe tbody tr th:only-of-type {\n",
       "        vertical-align: middle;\n",
       "    }\n",
       "\n",
       "    .dataframe tbody tr th {\n",
       "        vertical-align: top;\n",
       "    }\n",
       "\n",
       "    .dataframe thead th {\n",
       "        text-align: right;\n",
       "    }\n",
       "</style>\n",
       "<table border=\"1\" class=\"dataframe\">\n",
       "  <thead>\n",
       "    <tr style=\"text-align: right;\">\n",
       "      <th></th>\n",
       "      <th>id</th>\n",
       "      <th>user_id</th>\n",
       "      <th>message_date</th>\n",
       "      <th>month</th>\n",
       "    </tr>\n",
       "  </thead>\n",
       "  <tbody>\n",
       "    <tr>\n",
       "      <th>0</th>\n",
       "      <td>1000_125</td>\n",
       "      <td>1000</td>\n",
       "      <td>2018-12-27</td>\n",
       "      <td>12</td>\n",
       "    </tr>\n",
       "    <tr>\n",
       "      <th>1</th>\n",
       "      <td>1000_160</td>\n",
       "      <td>1000</td>\n",
       "      <td>2018-12-31</td>\n",
       "      <td>12</td>\n",
       "    </tr>\n",
       "    <tr>\n",
       "      <th>2</th>\n",
       "      <td>1000_223</td>\n",
       "      <td>1000</td>\n",
       "      <td>2018-12-31</td>\n",
       "      <td>12</td>\n",
       "    </tr>\n",
       "    <tr>\n",
       "      <th>3</th>\n",
       "      <td>1000_251</td>\n",
       "      <td>1000</td>\n",
       "      <td>2018-12-27</td>\n",
       "      <td>12</td>\n",
       "    </tr>\n",
       "    <tr>\n",
       "      <th>4</th>\n",
       "      <td>1000_255</td>\n",
       "      <td>1000</td>\n",
       "      <td>2018-12-26</td>\n",
       "      <td>12</td>\n",
       "    </tr>\n",
       "    <tr>\n",
       "      <th>...</th>\n",
       "      <td>...</td>\n",
       "      <td>...</td>\n",
       "      <td>...</td>\n",
       "      <td>...</td>\n",
       "    </tr>\n",
       "    <tr>\n",
       "      <th>76046</th>\n",
       "      <td>1497_526</td>\n",
       "      <td>1497</td>\n",
       "      <td>2018-12-24</td>\n",
       "      <td>12</td>\n",
       "    </tr>\n",
       "    <tr>\n",
       "      <th>76047</th>\n",
       "      <td>1497_536</td>\n",
       "      <td>1497</td>\n",
       "      <td>2018-12-24</td>\n",
       "      <td>12</td>\n",
       "    </tr>\n",
       "    <tr>\n",
       "      <th>76048</th>\n",
       "      <td>1497_547</td>\n",
       "      <td>1497</td>\n",
       "      <td>2018-12-31</td>\n",
       "      <td>12</td>\n",
       "    </tr>\n",
       "    <tr>\n",
       "      <th>76049</th>\n",
       "      <td>1497_558</td>\n",
       "      <td>1497</td>\n",
       "      <td>2018-12-24</td>\n",
       "      <td>12</td>\n",
       "    </tr>\n",
       "    <tr>\n",
       "      <th>76050</th>\n",
       "      <td>1497_613</td>\n",
       "      <td>1497</td>\n",
       "      <td>2018-12-23</td>\n",
       "      <td>12</td>\n",
       "    </tr>\n",
       "  </tbody>\n",
       "</table>\n",
       "<p>76051 rows × 4 columns</p>\n",
       "</div>"
      ],
      "text/plain": [
       "             id  user_id message_date  month\n",
       "0      1000_125     1000   2018-12-27     12\n",
       "1      1000_160     1000   2018-12-31     12\n",
       "2      1000_223     1000   2018-12-31     12\n",
       "3      1000_251     1000   2018-12-27     12\n",
       "4      1000_255     1000   2018-12-26     12\n",
       "...         ...      ...          ...    ...\n",
       "76046  1497_526     1497   2018-12-24     12\n",
       "76047  1497_536     1497   2018-12-24     12\n",
       "76048  1497_547     1497   2018-12-31     12\n",
       "76049  1497_558     1497   2018-12-24     12\n",
       "76050  1497_613     1497   2018-12-23     12\n",
       "\n",
       "[76051 rows x 4 columns]"
      ]
     },
     "execution_count": 16,
     "metadata": {},
     "output_type": "execute_result"
    }
   ],
   "source": [
    "messages['month'] = pd.DatetimeIndex(messages['message_date']).month\n",
    "messages"
   ]
  },
  {
   "cell_type": "code",
   "execution_count": 17,
   "metadata": {},
   "outputs": [
    {
     "data": {
      "text/html": [
       "<div>\n",
       "<style scoped>\n",
       "    .dataframe tbody tr th:only-of-type {\n",
       "        vertical-align: middle;\n",
       "    }\n",
       "\n",
       "    .dataframe tbody tr th {\n",
       "        vertical-align: top;\n",
       "    }\n",
       "\n",
       "    .dataframe thead tr th {\n",
       "        text-align: left;\n",
       "    }\n",
       "\n",
       "    .dataframe thead tr:last-of-type th {\n",
       "        text-align: right;\n",
       "    }\n",
       "</style>\n",
       "<table border=\"1\" class=\"dataframe\">\n",
       "  <thead>\n",
       "    <tr>\n",
       "      <th></th>\n",
       "      <th></th>\n",
       "      <th>user_id</th>\n",
       "      <th>texts</th>\n",
       "    </tr>\n",
       "    <tr>\n",
       "      <th></th>\n",
       "      <th></th>\n",
       "      <th>count</th>\n",
       "      <th></th>\n",
       "    </tr>\n",
       "    <tr>\n",
       "      <th>user_id</th>\n",
       "      <th>month</th>\n",
       "      <th></th>\n",
       "      <th></th>\n",
       "    </tr>\n",
       "  </thead>\n",
       "  <tbody>\n",
       "    <tr>\n",
       "      <th>1000</th>\n",
       "      <th>12</th>\n",
       "      <td>11</td>\n",
       "      <td>11.0</td>\n",
       "    </tr>\n",
       "    <tr>\n",
       "      <th rowspan=\"4\" valign=\"top\">1001</th>\n",
       "      <th>8</th>\n",
       "      <td>30</td>\n",
       "      <td>30.0</td>\n",
       "    </tr>\n",
       "    <tr>\n",
       "      <th>9</th>\n",
       "      <td>44</td>\n",
       "      <td>44.0</td>\n",
       "    </tr>\n",
       "    <tr>\n",
       "      <th>10</th>\n",
       "      <td>53</td>\n",
       "      <td>53.0</td>\n",
       "    </tr>\n",
       "    <tr>\n",
       "      <th>11</th>\n",
       "      <td>36</td>\n",
       "      <td>36.0</td>\n",
       "    </tr>\n",
       "    <tr>\n",
       "      <th>...</th>\n",
       "      <th>...</th>\n",
       "      <td>...</td>\n",
       "      <td>...</td>\n",
       "    </tr>\n",
       "    <tr>\n",
       "      <th rowspan=\"4\" valign=\"top\">1496</th>\n",
       "      <th>9</th>\n",
       "      <td>21</td>\n",
       "      <td>21.0</td>\n",
       "    </tr>\n",
       "    <tr>\n",
       "      <th>10</th>\n",
       "      <td>18</td>\n",
       "      <td>18.0</td>\n",
       "    </tr>\n",
       "    <tr>\n",
       "      <th>11</th>\n",
       "      <td>13</td>\n",
       "      <td>13.0</td>\n",
       "    </tr>\n",
       "    <tr>\n",
       "      <th>12</th>\n",
       "      <td>11</td>\n",
       "      <td>11.0</td>\n",
       "    </tr>\n",
       "    <tr>\n",
       "      <th>1497</th>\n",
       "      <th>12</th>\n",
       "      <td>50</td>\n",
       "      <td>50.0</td>\n",
       "    </tr>\n",
       "  </tbody>\n",
       "</table>\n",
       "<p>1806 rows × 2 columns</p>\n",
       "</div>"
      ],
      "text/plain": [
       "              user_id texts\n",
       "                count      \n",
       "user_id month              \n",
       "1000    12         11  11.0\n",
       "1001    8          30  30.0\n",
       "        9          44  44.0\n",
       "        10         53  53.0\n",
       "        11         36  36.0\n",
       "...               ...   ...\n",
       "1496    9          21  21.0\n",
       "        10         18  18.0\n",
       "        11         13  13.0\n",
       "        12         11  11.0\n",
       "1497    12         50  50.0\n",
       "\n",
       "[1806 rows x 2 columns]"
      ]
     },
     "execution_count": 17,
     "metadata": {},
     "output_type": "execute_result"
    }
   ],
   "source": [
    "messages_merge = messages.groupby(['user_id','month']).agg({'user_id': ['count']})\n",
    "messages_merge['texts'] = messages_merge['user_id'].apply(np.ceil)\n",
    "messages_merge"
   ]
  },
  {
   "cell_type": "code",
   "execution_count": 18,
   "metadata": {},
   "outputs": [
    {
     "name": "stdout",
     "output_type": "stream",
     "text": [
      "<class 'pandas.core.frame.DataFrame'>\n",
      "RangeIndex: 2 entries, 0 to 1\n",
      "Data columns (total 8 columns):\n",
      " #   Column                 Non-Null Count  Dtype  \n",
      "---  ------                 --------------  -----  \n",
      " 0   messages_included      2 non-null      int64  \n",
      " 1   mb_per_month_included  2 non-null      int64  \n",
      " 2   minutes_included       2 non-null      int64  \n",
      " 3   usd_monthly_pay        2 non-null      int64  \n",
      " 4   usd_per_gb             2 non-null      int64  \n",
      " 5   usd_per_message        2 non-null      float64\n",
      " 6   usd_per_minute         2 non-null      float64\n",
      " 7   plan_name              2 non-null      object \n",
      "dtypes: float64(2), int64(5), object(1)\n",
      "memory usage: 256.0+ bytes\n"
     ]
    }
   ],
   "source": [
    "plans.info()"
   ]
  },
  {
   "cell_type": "code",
   "execution_count": 19,
   "metadata": {},
   "outputs": [
    {
     "data": {
      "text/html": [
       "<div>\n",
       "<style scoped>\n",
       "    .dataframe tbody tr th:only-of-type {\n",
       "        vertical-align: middle;\n",
       "    }\n",
       "\n",
       "    .dataframe tbody tr th {\n",
       "        vertical-align: top;\n",
       "    }\n",
       "\n",
       "    .dataframe thead th {\n",
       "        text-align: right;\n",
       "    }\n",
       "</style>\n",
       "<table border=\"1\" class=\"dataframe\">\n",
       "  <thead>\n",
       "    <tr style=\"text-align: right;\">\n",
       "      <th></th>\n",
       "      <th>messages_included</th>\n",
       "      <th>mb_per_month_included</th>\n",
       "      <th>minutes_included</th>\n",
       "      <th>usd_monthly_pay</th>\n",
       "      <th>usd_per_gb</th>\n",
       "      <th>usd_per_message</th>\n",
       "      <th>usd_per_minute</th>\n",
       "      <th>plan_name</th>\n",
       "    </tr>\n",
       "  </thead>\n",
       "  <tbody>\n",
       "    <tr>\n",
       "      <th>0</th>\n",
       "      <td>50</td>\n",
       "      <td>15360</td>\n",
       "      <td>500</td>\n",
       "      <td>20</td>\n",
       "      <td>10</td>\n",
       "      <td>0.03</td>\n",
       "      <td>0.03</td>\n",
       "      <td>surf</td>\n",
       "    </tr>\n",
       "    <tr>\n",
       "      <th>1</th>\n",
       "      <td>1000</td>\n",
       "      <td>30720</td>\n",
       "      <td>3000</td>\n",
       "      <td>70</td>\n",
       "      <td>7</td>\n",
       "      <td>0.01</td>\n",
       "      <td>0.01</td>\n",
       "      <td>ultimate</td>\n",
       "    </tr>\n",
       "  </tbody>\n",
       "</table>\n",
       "</div>"
      ],
      "text/plain": [
       "   messages_included  mb_per_month_included  minutes_included  \\\n",
       "0                 50                  15360               500   \n",
       "1               1000                  30720              3000   \n",
       "\n",
       "   usd_monthly_pay  usd_per_gb  usd_per_message  usd_per_minute plan_name  \n",
       "0               20          10             0.03            0.03      surf  \n",
       "1               70           7             0.01            0.01  ultimate  "
      ]
     },
     "execution_count": 19,
     "metadata": {},
     "output_type": "execute_result"
    }
   ],
   "source": [
    "plans.head(20)"
   ]
  },
  {
   "cell_type": "code",
   "execution_count": 20,
   "metadata": {},
   "outputs": [
    {
     "data": {
      "text/plain": [
       "<bound method DataFrame.info of      user_id first_name   last_name  age  \\\n",
       "0       1000   Anamaria       Bauer   45   \n",
       "1       1001     Mickey   Wilkerson   28   \n",
       "2       1002     Carlee     Hoffman   36   \n",
       "3       1003   Reynaldo     Jenkins   52   \n",
       "4       1004    Leonila    Thompson   40   \n",
       "..       ...        ...         ...  ...   \n",
       "495     1495      Fidel      Sharpe   67   \n",
       "496     1496      Ariel    Shepherd   49   \n",
       "497     1497      Donte     Barrera   49   \n",
       "498     1498       Scot  Williamson   51   \n",
       "499     1499      Shena     Dickson   37   \n",
       "\n",
       "                                          city    reg_date      plan  \\\n",
       "0        Atlanta-Sandy Springs-Roswell, GA MSA  2018-12-24  ultimate   \n",
       "1              Seattle-Tacoma-Bellevue, WA MSA  2018-08-13      surf   \n",
       "2         Las Vegas-Henderson-Paradise, NV MSA  2018-10-21      surf   \n",
       "3                                Tulsa, OK MSA  2018-01-28      surf   \n",
       "4              Seattle-Tacoma-Bellevue, WA MSA  2018-05-23      surf   \n",
       "..                                         ...         ...       ...   \n",
       "495  New York-Newark-Jersey City, NY-NJ-PA MSA  2018-09-04      surf   \n",
       "496               New Orleans-Metairie, LA MSA  2018-02-20      surf   \n",
       "497     Los Angeles-Long Beach-Anaheim, CA MSA  2018-12-10  ultimate   \n",
       "498  New York-Newark-Jersey City, NY-NJ-PA MSA  2018-02-04      surf   \n",
       "499          Orlando-Kissimmee-Sanford, FL MSA  2018-05-06      surf   \n",
       "\n",
       "    churn_date  \n",
       "0          NaN  \n",
       "1          NaN  \n",
       "2          NaN  \n",
       "3          NaN  \n",
       "4          NaN  \n",
       "..         ...  \n",
       "495        NaN  \n",
       "496        NaN  \n",
       "497        NaN  \n",
       "498        NaN  \n",
       "499        NaN  \n",
       "\n",
       "[500 rows x 8 columns]>"
      ]
     },
     "execution_count": 20,
     "metadata": {},
     "output_type": "execute_result"
    }
   ],
   "source": [
    "users.info"
   ]
  },
  {
   "cell_type": "code",
   "execution_count": 21,
   "metadata": {
    "scrolled": false
   },
   "outputs": [
    {
     "data": {
      "text/html": [
       "<div>\n",
       "<style scoped>\n",
       "    .dataframe tbody tr th:only-of-type {\n",
       "        vertical-align: middle;\n",
       "    }\n",
       "\n",
       "    .dataframe tbody tr th {\n",
       "        vertical-align: top;\n",
       "    }\n",
       "\n",
       "    .dataframe thead th {\n",
       "        text-align: right;\n",
       "    }\n",
       "</style>\n",
       "<table border=\"1\" class=\"dataframe\">\n",
       "  <thead>\n",
       "    <tr style=\"text-align: right;\">\n",
       "      <th></th>\n",
       "      <th>user_id</th>\n",
       "      <th>first_name</th>\n",
       "      <th>last_name</th>\n",
       "      <th>age</th>\n",
       "      <th>city</th>\n",
       "      <th>reg_date</th>\n",
       "      <th>plan</th>\n",
       "      <th>churn_date</th>\n",
       "    </tr>\n",
       "  </thead>\n",
       "  <tbody>\n",
       "    <tr>\n",
       "      <th>0</th>\n",
       "      <td>1000</td>\n",
       "      <td>Anamaria</td>\n",
       "      <td>Bauer</td>\n",
       "      <td>45</td>\n",
       "      <td>Atlanta-Sandy Springs-Roswell, GA MSA</td>\n",
       "      <td>2018-12-24</td>\n",
       "      <td>ultimate</td>\n",
       "      <td>NaN</td>\n",
       "    </tr>\n",
       "    <tr>\n",
       "      <th>1</th>\n",
       "      <td>1001</td>\n",
       "      <td>Mickey</td>\n",
       "      <td>Wilkerson</td>\n",
       "      <td>28</td>\n",
       "      <td>Seattle-Tacoma-Bellevue, WA MSA</td>\n",
       "      <td>2018-08-13</td>\n",
       "      <td>surf</td>\n",
       "      <td>NaN</td>\n",
       "    </tr>\n",
       "    <tr>\n",
       "      <th>2</th>\n",
       "      <td>1002</td>\n",
       "      <td>Carlee</td>\n",
       "      <td>Hoffman</td>\n",
       "      <td>36</td>\n",
       "      <td>Las Vegas-Henderson-Paradise, NV MSA</td>\n",
       "      <td>2018-10-21</td>\n",
       "      <td>surf</td>\n",
       "      <td>NaN</td>\n",
       "    </tr>\n",
       "    <tr>\n",
       "      <th>3</th>\n",
       "      <td>1003</td>\n",
       "      <td>Reynaldo</td>\n",
       "      <td>Jenkins</td>\n",
       "      <td>52</td>\n",
       "      <td>Tulsa, OK MSA</td>\n",
       "      <td>2018-01-28</td>\n",
       "      <td>surf</td>\n",
       "      <td>NaN</td>\n",
       "    </tr>\n",
       "    <tr>\n",
       "      <th>4</th>\n",
       "      <td>1004</td>\n",
       "      <td>Leonila</td>\n",
       "      <td>Thompson</td>\n",
       "      <td>40</td>\n",
       "      <td>Seattle-Tacoma-Bellevue, WA MSA</td>\n",
       "      <td>2018-05-23</td>\n",
       "      <td>surf</td>\n",
       "      <td>NaN</td>\n",
       "    </tr>\n",
       "    <tr>\n",
       "      <th>5</th>\n",
       "      <td>1005</td>\n",
       "      <td>Livia</td>\n",
       "      <td>Shields</td>\n",
       "      <td>31</td>\n",
       "      <td>Dallas-Fort Worth-Arlington, TX MSA</td>\n",
       "      <td>2018-11-29</td>\n",
       "      <td>surf</td>\n",
       "      <td>NaN</td>\n",
       "    </tr>\n",
       "    <tr>\n",
       "      <th>6</th>\n",
       "      <td>1006</td>\n",
       "      <td>Jesusa</td>\n",
       "      <td>Bradford</td>\n",
       "      <td>73</td>\n",
       "      <td>San Francisco-Oakland-Berkeley, CA MSA</td>\n",
       "      <td>2018-11-27</td>\n",
       "      <td>ultimate</td>\n",
       "      <td>2018-12-18</td>\n",
       "    </tr>\n",
       "    <tr>\n",
       "      <th>7</th>\n",
       "      <td>1007</td>\n",
       "      <td>Eusebio</td>\n",
       "      <td>Welch</td>\n",
       "      <td>42</td>\n",
       "      <td>Grand Rapids-Kentwood, MI MSA</td>\n",
       "      <td>2018-07-11</td>\n",
       "      <td>surf</td>\n",
       "      <td>NaN</td>\n",
       "    </tr>\n",
       "    <tr>\n",
       "      <th>8</th>\n",
       "      <td>1008</td>\n",
       "      <td>Emely</td>\n",
       "      <td>Hoffman</td>\n",
       "      <td>53</td>\n",
       "      <td>Orlando-Kissimmee-Sanford, FL MSA</td>\n",
       "      <td>2018-08-03</td>\n",
       "      <td>ultimate</td>\n",
       "      <td>NaN</td>\n",
       "    </tr>\n",
       "    <tr>\n",
       "      <th>9</th>\n",
       "      <td>1009</td>\n",
       "      <td>Gerry</td>\n",
       "      <td>Little</td>\n",
       "      <td>19</td>\n",
       "      <td>San Jose-Sunnyvale-Santa Clara, CA MSA</td>\n",
       "      <td>2018-04-22</td>\n",
       "      <td>surf</td>\n",
       "      <td>NaN</td>\n",
       "    </tr>\n",
       "    <tr>\n",
       "      <th>10</th>\n",
       "      <td>1010</td>\n",
       "      <td>Wilber</td>\n",
       "      <td>Blair</td>\n",
       "      <td>52</td>\n",
       "      <td>Dallas-Fort Worth-Arlington, TX MSA</td>\n",
       "      <td>2018-03-09</td>\n",
       "      <td>surf</td>\n",
       "      <td>NaN</td>\n",
       "    </tr>\n",
       "    <tr>\n",
       "      <th>11</th>\n",
       "      <td>1011</td>\n",
       "      <td>Halina</td>\n",
       "      <td>Henry</td>\n",
       "      <td>73</td>\n",
       "      <td>Cleveland-Elyria, OH MSA</td>\n",
       "      <td>2018-01-18</td>\n",
       "      <td>ultimate</td>\n",
       "      <td>NaN</td>\n",
       "    </tr>\n",
       "    <tr>\n",
       "      <th>12</th>\n",
       "      <td>1012</td>\n",
       "      <td>Jonelle</td>\n",
       "      <td>Mcbride</td>\n",
       "      <td>59</td>\n",
       "      <td>Chicago-Naperville-Elgin, IL-IN-WI MSA</td>\n",
       "      <td>2018-06-28</td>\n",
       "      <td>surf</td>\n",
       "      <td>2018-11-16</td>\n",
       "    </tr>\n",
       "    <tr>\n",
       "      <th>13</th>\n",
       "      <td>1013</td>\n",
       "      <td>Nicolas</td>\n",
       "      <td>Snider</td>\n",
       "      <td>50</td>\n",
       "      <td>Knoxville, TN MSA</td>\n",
       "      <td>2018-12-01</td>\n",
       "      <td>ultimate</td>\n",
       "      <td>NaN</td>\n",
       "    </tr>\n",
       "    <tr>\n",
       "      <th>14</th>\n",
       "      <td>1014</td>\n",
       "      <td>Edmundo</td>\n",
       "      <td>Simon</td>\n",
       "      <td>61</td>\n",
       "      <td>New York-Newark-Jersey City, NY-NJ-PA MSA</td>\n",
       "      <td>2018-11-25</td>\n",
       "      <td>surf</td>\n",
       "      <td>NaN</td>\n",
       "    </tr>\n",
       "    <tr>\n",
       "      <th>15</th>\n",
       "      <td>1015</td>\n",
       "      <td>Beata</td>\n",
       "      <td>Carpenter</td>\n",
       "      <td>26</td>\n",
       "      <td>Pittsburgh, PA MSA</td>\n",
       "      <td>2018-12-05</td>\n",
       "      <td>surf</td>\n",
       "      <td>NaN</td>\n",
       "    </tr>\n",
       "    <tr>\n",
       "      <th>16</th>\n",
       "      <td>1016</td>\n",
       "      <td>Jann</td>\n",
       "      <td>Salinas</td>\n",
       "      <td>30</td>\n",
       "      <td>Fresno, CA MSA</td>\n",
       "      <td>2018-10-25</td>\n",
       "      <td>surf</td>\n",
       "      <td>NaN</td>\n",
       "    </tr>\n",
       "    <tr>\n",
       "      <th>17</th>\n",
       "      <td>1017</td>\n",
       "      <td>Boris</td>\n",
       "      <td>Gates</td>\n",
       "      <td>61</td>\n",
       "      <td>Washington-Arlington-Alexandria, DC-VA-MD-WV MSA</td>\n",
       "      <td>2018-08-26</td>\n",
       "      <td>surf</td>\n",
       "      <td>NaN</td>\n",
       "    </tr>\n",
       "    <tr>\n",
       "      <th>18</th>\n",
       "      <td>1018</td>\n",
       "      <td>Dennis</td>\n",
       "      <td>Grimes</td>\n",
       "      <td>70</td>\n",
       "      <td>Indianapolis-Carmel-Anderson, IN MSA</td>\n",
       "      <td>2018-10-17</td>\n",
       "      <td>surf</td>\n",
       "      <td>NaN</td>\n",
       "    </tr>\n",
       "    <tr>\n",
       "      <th>19</th>\n",
       "      <td>1019</td>\n",
       "      <td>Shizue</td>\n",
       "      <td>Landry</td>\n",
       "      <td>34</td>\n",
       "      <td>Jacksonville, FL MSA</td>\n",
       "      <td>2018-01-16</td>\n",
       "      <td>surf</td>\n",
       "      <td>NaN</td>\n",
       "    </tr>\n",
       "  </tbody>\n",
       "</table>\n",
       "</div>"
      ],
      "text/plain": [
       "    user_id first_name  last_name  age  \\\n",
       "0      1000   Anamaria      Bauer   45   \n",
       "1      1001     Mickey  Wilkerson   28   \n",
       "2      1002     Carlee    Hoffman   36   \n",
       "3      1003   Reynaldo    Jenkins   52   \n",
       "4      1004    Leonila   Thompson   40   \n",
       "5      1005      Livia    Shields   31   \n",
       "6      1006     Jesusa   Bradford   73   \n",
       "7      1007    Eusebio      Welch   42   \n",
       "8      1008      Emely    Hoffman   53   \n",
       "9      1009      Gerry     Little   19   \n",
       "10     1010     Wilber      Blair   52   \n",
       "11     1011     Halina      Henry   73   \n",
       "12     1012    Jonelle    Mcbride   59   \n",
       "13     1013    Nicolas     Snider   50   \n",
       "14     1014    Edmundo      Simon   61   \n",
       "15     1015      Beata  Carpenter   26   \n",
       "16     1016       Jann    Salinas   30   \n",
       "17     1017      Boris      Gates   61   \n",
       "18     1018     Dennis     Grimes   70   \n",
       "19     1019     Shizue     Landry   34   \n",
       "\n",
       "                                                city    reg_date      plan  \\\n",
       "0              Atlanta-Sandy Springs-Roswell, GA MSA  2018-12-24  ultimate   \n",
       "1                    Seattle-Tacoma-Bellevue, WA MSA  2018-08-13      surf   \n",
       "2               Las Vegas-Henderson-Paradise, NV MSA  2018-10-21      surf   \n",
       "3                                      Tulsa, OK MSA  2018-01-28      surf   \n",
       "4                    Seattle-Tacoma-Bellevue, WA MSA  2018-05-23      surf   \n",
       "5                Dallas-Fort Worth-Arlington, TX MSA  2018-11-29      surf   \n",
       "6             San Francisco-Oakland-Berkeley, CA MSA  2018-11-27  ultimate   \n",
       "7                      Grand Rapids-Kentwood, MI MSA  2018-07-11      surf   \n",
       "8                  Orlando-Kissimmee-Sanford, FL MSA  2018-08-03  ultimate   \n",
       "9             San Jose-Sunnyvale-Santa Clara, CA MSA  2018-04-22      surf   \n",
       "10               Dallas-Fort Worth-Arlington, TX MSA  2018-03-09      surf   \n",
       "11                          Cleveland-Elyria, OH MSA  2018-01-18  ultimate   \n",
       "12            Chicago-Naperville-Elgin, IL-IN-WI MSA  2018-06-28      surf   \n",
       "13                                 Knoxville, TN MSA  2018-12-01  ultimate   \n",
       "14         New York-Newark-Jersey City, NY-NJ-PA MSA  2018-11-25      surf   \n",
       "15                                Pittsburgh, PA MSA  2018-12-05      surf   \n",
       "16                                    Fresno, CA MSA  2018-10-25      surf   \n",
       "17  Washington-Arlington-Alexandria, DC-VA-MD-WV MSA  2018-08-26      surf   \n",
       "18              Indianapolis-Carmel-Anderson, IN MSA  2018-10-17      surf   \n",
       "19                              Jacksonville, FL MSA  2018-01-16      surf   \n",
       "\n",
       "    churn_date  \n",
       "0          NaN  \n",
       "1          NaN  \n",
       "2          NaN  \n",
       "3          NaN  \n",
       "4          NaN  \n",
       "5          NaN  \n",
       "6   2018-12-18  \n",
       "7          NaN  \n",
       "8          NaN  \n",
       "9          NaN  \n",
       "10         NaN  \n",
       "11         NaN  \n",
       "12  2018-11-16  \n",
       "13         NaN  \n",
       "14         NaN  \n",
       "15         NaN  \n",
       "16         NaN  \n",
       "17         NaN  \n",
       "18         NaN  \n",
       "19         NaN  "
      ]
     },
     "execution_count": 21,
     "metadata": {},
     "output_type": "execute_result"
    }
   ],
   "source": [
    "users.head(20)"
   ]
  },
  {
   "cell_type": "code",
   "execution_count": 22,
   "metadata": {},
   "outputs": [
    {
     "data": {
      "text/html": [
       "<div>\n",
       "<style scoped>\n",
       "    .dataframe tbody tr th:only-of-type {\n",
       "        vertical-align: middle;\n",
       "    }\n",
       "\n",
       "    .dataframe tbody tr th {\n",
       "        vertical-align: top;\n",
       "    }\n",
       "\n",
       "    .dataframe thead th {\n",
       "        text-align: right;\n",
       "    }\n",
       "</style>\n",
       "<table border=\"1\" class=\"dataframe\">\n",
       "  <thead>\n",
       "    <tr style=\"text-align: right;\">\n",
       "      <th></th>\n",
       "      <th>first_name</th>\n",
       "      <th>last_name</th>\n",
       "      <th>age</th>\n",
       "      <th>city</th>\n",
       "      <th>reg_date</th>\n",
       "      <th>plan</th>\n",
       "      <th>churn_date</th>\n",
       "    </tr>\n",
       "    <tr>\n",
       "      <th>user_id</th>\n",
       "      <th></th>\n",
       "      <th></th>\n",
       "      <th></th>\n",
       "      <th></th>\n",
       "      <th></th>\n",
       "      <th></th>\n",
       "      <th></th>\n",
       "    </tr>\n",
       "  </thead>\n",
       "  <tbody>\n",
       "    <tr>\n",
       "      <th>1000</th>\n",
       "      <td>Anamaria</td>\n",
       "      <td>Bauer</td>\n",
       "      <td>45</td>\n",
       "      <td>Atlanta-Sandy Springs-Roswell, GA MSA</td>\n",
       "      <td>2018-12-24</td>\n",
       "      <td>ultimate</td>\n",
       "      <td>NaN</td>\n",
       "    </tr>\n",
       "    <tr>\n",
       "      <th>1001</th>\n",
       "      <td>Mickey</td>\n",
       "      <td>Wilkerson</td>\n",
       "      <td>28</td>\n",
       "      <td>Seattle-Tacoma-Bellevue, WA MSA</td>\n",
       "      <td>2018-08-13</td>\n",
       "      <td>surf</td>\n",
       "      <td>NaN</td>\n",
       "    </tr>\n",
       "    <tr>\n",
       "      <th>1002</th>\n",
       "      <td>Carlee</td>\n",
       "      <td>Hoffman</td>\n",
       "      <td>36</td>\n",
       "      <td>Las Vegas-Henderson-Paradise, NV MSA</td>\n",
       "      <td>2018-10-21</td>\n",
       "      <td>surf</td>\n",
       "      <td>NaN</td>\n",
       "    </tr>\n",
       "    <tr>\n",
       "      <th>1003</th>\n",
       "      <td>Reynaldo</td>\n",
       "      <td>Jenkins</td>\n",
       "      <td>52</td>\n",
       "      <td>Tulsa, OK MSA</td>\n",
       "      <td>2018-01-28</td>\n",
       "      <td>surf</td>\n",
       "      <td>NaN</td>\n",
       "    </tr>\n",
       "    <tr>\n",
       "      <th>1004</th>\n",
       "      <td>Leonila</td>\n",
       "      <td>Thompson</td>\n",
       "      <td>40</td>\n",
       "      <td>Seattle-Tacoma-Bellevue, WA MSA</td>\n",
       "      <td>2018-05-23</td>\n",
       "      <td>surf</td>\n",
       "      <td>NaN</td>\n",
       "    </tr>\n",
       "    <tr>\n",
       "      <th>...</th>\n",
       "      <td>...</td>\n",
       "      <td>...</td>\n",
       "      <td>...</td>\n",
       "      <td>...</td>\n",
       "      <td>...</td>\n",
       "      <td>...</td>\n",
       "      <td>...</td>\n",
       "    </tr>\n",
       "    <tr>\n",
       "      <th>1495</th>\n",
       "      <td>Fidel</td>\n",
       "      <td>Sharpe</td>\n",
       "      <td>67</td>\n",
       "      <td>New York-Newark-Jersey City, NY-NJ-PA MSA</td>\n",
       "      <td>2018-09-04</td>\n",
       "      <td>surf</td>\n",
       "      <td>NaN</td>\n",
       "    </tr>\n",
       "    <tr>\n",
       "      <th>1496</th>\n",
       "      <td>Ariel</td>\n",
       "      <td>Shepherd</td>\n",
       "      <td>49</td>\n",
       "      <td>New Orleans-Metairie, LA MSA</td>\n",
       "      <td>2018-02-20</td>\n",
       "      <td>surf</td>\n",
       "      <td>NaN</td>\n",
       "    </tr>\n",
       "    <tr>\n",
       "      <th>1497</th>\n",
       "      <td>Donte</td>\n",
       "      <td>Barrera</td>\n",
       "      <td>49</td>\n",
       "      <td>Los Angeles-Long Beach-Anaheim, CA MSA</td>\n",
       "      <td>2018-12-10</td>\n",
       "      <td>ultimate</td>\n",
       "      <td>NaN</td>\n",
       "    </tr>\n",
       "    <tr>\n",
       "      <th>1498</th>\n",
       "      <td>Scot</td>\n",
       "      <td>Williamson</td>\n",
       "      <td>51</td>\n",
       "      <td>New York-Newark-Jersey City, NY-NJ-PA MSA</td>\n",
       "      <td>2018-02-04</td>\n",
       "      <td>surf</td>\n",
       "      <td>NaN</td>\n",
       "    </tr>\n",
       "    <tr>\n",
       "      <th>1499</th>\n",
       "      <td>Shena</td>\n",
       "      <td>Dickson</td>\n",
       "      <td>37</td>\n",
       "      <td>Orlando-Kissimmee-Sanford, FL MSA</td>\n",
       "      <td>2018-05-06</td>\n",
       "      <td>surf</td>\n",
       "      <td>NaN</td>\n",
       "    </tr>\n",
       "  </tbody>\n",
       "</table>\n",
       "<p>500 rows × 7 columns</p>\n",
       "</div>"
      ],
      "text/plain": [
       "        first_name   last_name  age  \\\n",
       "user_id                               \n",
       "1000      Anamaria       Bauer   45   \n",
       "1001        Mickey   Wilkerson   28   \n",
       "1002        Carlee     Hoffman   36   \n",
       "1003      Reynaldo     Jenkins   52   \n",
       "1004       Leonila    Thompson   40   \n",
       "...            ...         ...  ...   \n",
       "1495         Fidel      Sharpe   67   \n",
       "1496         Ariel    Shepherd   49   \n",
       "1497         Donte     Barrera   49   \n",
       "1498          Scot  Williamson   51   \n",
       "1499         Shena     Dickson   37   \n",
       "\n",
       "                                              city    reg_date      plan  \\\n",
       "user_id                                                                    \n",
       "1000         Atlanta-Sandy Springs-Roswell, GA MSA  2018-12-24  ultimate   \n",
       "1001               Seattle-Tacoma-Bellevue, WA MSA  2018-08-13      surf   \n",
       "1002          Las Vegas-Henderson-Paradise, NV MSA  2018-10-21      surf   \n",
       "1003                                 Tulsa, OK MSA  2018-01-28      surf   \n",
       "1004               Seattle-Tacoma-Bellevue, WA MSA  2018-05-23      surf   \n",
       "...                                            ...         ...       ...   \n",
       "1495     New York-Newark-Jersey City, NY-NJ-PA MSA  2018-09-04      surf   \n",
       "1496                  New Orleans-Metairie, LA MSA  2018-02-20      surf   \n",
       "1497        Los Angeles-Long Beach-Anaheim, CA MSA  2018-12-10  ultimate   \n",
       "1498     New York-Newark-Jersey City, NY-NJ-PA MSA  2018-02-04      surf   \n",
       "1499             Orlando-Kissimmee-Sanford, FL MSA  2018-05-06      surf   \n",
       "\n",
       "        churn_date  \n",
       "user_id             \n",
       "1000           NaN  \n",
       "1001           NaN  \n",
       "1002           NaN  \n",
       "1003           NaN  \n",
       "1004           NaN  \n",
       "...            ...  \n",
       "1495           NaN  \n",
       "1496           NaN  \n",
       "1497           NaN  \n",
       "1498           NaN  \n",
       "1499           NaN  \n",
       "\n",
       "[500 rows x 7 columns]"
      ]
     },
     "execution_count": 22,
     "metadata": {},
     "output_type": "execute_result"
    }
   ],
   "source": [
    "users_merge = users.set_index('user_id')\n",
    "users_merge"
   ]
  },
  {
   "cell_type": "markdown",
   "metadata": {},
   "source": [
    "We will confirm that all necessary datasets are correctly formatted and ready to merge."
   ]
  },
  {
   "cell_type": "code",
   "execution_count": 23,
   "metadata": {},
   "outputs": [
    {
     "name": "stdout",
     "output_type": "stream",
     "text": [
      "<class 'pandas.core.frame.DataFrame'>\n",
      "Int64Index: 500 entries, 1000 to 1499\n",
      "Data columns (total 7 columns):\n",
      " #   Column      Non-Null Count  Dtype \n",
      "---  ------      --------------  ----- \n",
      " 0   first_name  500 non-null    object\n",
      " 1   last_name   500 non-null    object\n",
      " 2   age         500 non-null    int64 \n",
      " 3   city        500 non-null    object\n",
      " 4   reg_date    500 non-null    object\n",
      " 5   plan        500 non-null    object\n",
      " 6   churn_date  34 non-null     object\n",
      "dtypes: int64(1), object(6)\n",
      "memory usage: 31.2+ KB\n"
     ]
    }
   ],
   "source": [
    "users_merge.info()"
   ]
  },
  {
   "cell_type": "code",
   "execution_count": 24,
   "metadata": {},
   "outputs": [
    {
     "data": {
      "text/html": [
       "<div>\n",
       "<style scoped>\n",
       "    .dataframe tbody tr th:only-of-type {\n",
       "        vertical-align: middle;\n",
       "    }\n",
       "\n",
       "    .dataframe tbody tr th {\n",
       "        vertical-align: top;\n",
       "    }\n",
       "\n",
       "    .dataframe thead tr th {\n",
       "        text-align: left;\n",
       "    }\n",
       "\n",
       "    .dataframe thead tr:last-of-type th {\n",
       "        text-align: right;\n",
       "    }\n",
       "</style>\n",
       "<table border=\"1\" class=\"dataframe\">\n",
       "  <thead>\n",
       "    <tr>\n",
       "      <th></th>\n",
       "      <th></th>\n",
       "      <th>duration_round</th>\n",
       "    </tr>\n",
       "    <tr>\n",
       "      <th></th>\n",
       "      <th></th>\n",
       "      <th>sum</th>\n",
       "    </tr>\n",
       "    <tr>\n",
       "      <th>user_id</th>\n",
       "      <th>month</th>\n",
       "      <th></th>\n",
       "    </tr>\n",
       "  </thead>\n",
       "  <tbody>\n",
       "    <tr>\n",
       "      <th>1000</th>\n",
       "      <th>12</th>\n",
       "      <td>124.0</td>\n",
       "    </tr>\n",
       "    <tr>\n",
       "      <th rowspan=\"4\" valign=\"top\">1001</th>\n",
       "      <th>8</th>\n",
       "      <td>182.0</td>\n",
       "    </tr>\n",
       "    <tr>\n",
       "      <th>9</th>\n",
       "      <td>315.0</td>\n",
       "    </tr>\n",
       "    <tr>\n",
       "      <th>10</th>\n",
       "      <td>393.0</td>\n",
       "    </tr>\n",
       "    <tr>\n",
       "      <th>11</th>\n",
       "      <td>426.0</td>\n",
       "    </tr>\n",
       "    <tr>\n",
       "      <th>...</th>\n",
       "      <th>...</th>\n",
       "      <td>...</td>\n",
       "    </tr>\n",
       "    <tr>\n",
       "      <th>1498</th>\n",
       "      <th>12</th>\n",
       "      <td>339.0</td>\n",
       "    </tr>\n",
       "    <tr>\n",
       "      <th rowspan=\"4\" valign=\"top\">1499</th>\n",
       "      <th>9</th>\n",
       "      <td>346.0</td>\n",
       "    </tr>\n",
       "    <tr>\n",
       "      <th>10</th>\n",
       "      <td>385.0</td>\n",
       "    </tr>\n",
       "    <tr>\n",
       "      <th>11</th>\n",
       "      <td>308.0</td>\n",
       "    </tr>\n",
       "    <tr>\n",
       "      <th>12</th>\n",
       "      <td>496.0</td>\n",
       "    </tr>\n",
       "  </tbody>\n",
       "</table>\n",
       "<p>2258 rows × 1 columns</p>\n",
       "</div>"
      ],
      "text/plain": [
       "              duration_round\n",
       "                         sum\n",
       "user_id month               \n",
       "1000    12             124.0\n",
       "1001    8              182.0\n",
       "        9              315.0\n",
       "        10             393.0\n",
       "        11             426.0\n",
       "...                      ...\n",
       "1498    12             339.0\n",
       "1499    9              346.0\n",
       "        10             385.0\n",
       "        11             308.0\n",
       "        12             496.0\n",
       "\n",
       "[2258 rows x 1 columns]"
      ]
     },
     "execution_count": 24,
     "metadata": {},
     "output_type": "execute_result"
    }
   ],
   "source": [
    "calls_merge"
   ]
  },
  {
   "cell_type": "code",
   "execution_count": 25,
   "metadata": {},
   "outputs": [
    {
     "data": {
      "text/html": [
       "<div>\n",
       "<style scoped>\n",
       "    .dataframe tbody tr th:only-of-type {\n",
       "        vertical-align: middle;\n",
       "    }\n",
       "\n",
       "    .dataframe tbody tr th {\n",
       "        vertical-align: top;\n",
       "    }\n",
       "\n",
       "    .dataframe thead tr th {\n",
       "        text-align: left;\n",
       "    }\n",
       "\n",
       "    .dataframe thead tr:last-of-type th {\n",
       "        text-align: right;\n",
       "    }\n",
       "</style>\n",
       "<table border=\"1\" class=\"dataframe\">\n",
       "  <thead>\n",
       "    <tr>\n",
       "      <th></th>\n",
       "      <th></th>\n",
       "      <th>mb_used</th>\n",
       "      <th>gb_round</th>\n",
       "    </tr>\n",
       "    <tr>\n",
       "      <th></th>\n",
       "      <th></th>\n",
       "      <th>sum</th>\n",
       "      <th></th>\n",
       "    </tr>\n",
       "    <tr>\n",
       "      <th>user_id</th>\n",
       "      <th>month</th>\n",
       "      <th></th>\n",
       "      <th></th>\n",
       "    </tr>\n",
       "  </thead>\n",
       "  <tbody>\n",
       "    <tr>\n",
       "      <th>1000</th>\n",
       "      <th>12</th>\n",
       "      <td>1.856904</td>\n",
       "      <td>2.0</td>\n",
       "    </tr>\n",
       "    <tr>\n",
       "      <th rowspan=\"4\" valign=\"top\">1001</th>\n",
       "      <th>8</th>\n",
       "      <td>6.756982</td>\n",
       "      <td>7.0</td>\n",
       "    </tr>\n",
       "    <tr>\n",
       "      <th>9</th>\n",
       "      <td>13.002754</td>\n",
       "      <td>14.0</td>\n",
       "    </tr>\n",
       "    <tr>\n",
       "      <th>10</th>\n",
       "      <td>21.807119</td>\n",
       "      <td>22.0</td>\n",
       "    </tr>\n",
       "    <tr>\n",
       "      <th>11</th>\n",
       "      <td>18.070605</td>\n",
       "      <td>19.0</td>\n",
       "    </tr>\n",
       "    <tr>\n",
       "      <th>...</th>\n",
       "      <th>...</th>\n",
       "      <td>...</td>\n",
       "      <td>...</td>\n",
       "    </tr>\n",
       "    <tr>\n",
       "      <th>1498</th>\n",
       "      <th>12</th>\n",
       "      <td>22.595400</td>\n",
       "      <td>23.0</td>\n",
       "    </tr>\n",
       "    <tr>\n",
       "      <th rowspan=\"4\" valign=\"top\">1499</th>\n",
       "      <th>9</th>\n",
       "      <td>12.680430</td>\n",
       "      <td>13.0</td>\n",
       "    </tr>\n",
       "    <tr>\n",
       "      <th>10</th>\n",
       "      <td>19.035576</td>\n",
       "      <td>20.0</td>\n",
       "    </tr>\n",
       "    <tr>\n",
       "      <th>11</th>\n",
       "      <td>16.419756</td>\n",
       "      <td>17.0</td>\n",
       "    </tr>\n",
       "    <tr>\n",
       "      <th>12</th>\n",
       "      <td>21.542197</td>\n",
       "      <td>22.0</td>\n",
       "    </tr>\n",
       "  </tbody>\n",
       "</table>\n",
       "<p>2277 rows × 2 columns</p>\n",
       "</div>"
      ],
      "text/plain": [
       "                 mb_used gb_round\n",
       "                     sum         \n",
       "user_id month                    \n",
       "1000    12      1.856904      2.0\n",
       "1001    8       6.756982      7.0\n",
       "        9      13.002754     14.0\n",
       "        10     21.807119     22.0\n",
       "        11     18.070605     19.0\n",
       "...                  ...      ...\n",
       "1498    12     22.595400     23.0\n",
       "1499    9      12.680430     13.0\n",
       "        10     19.035576     20.0\n",
       "        11     16.419756     17.0\n",
       "        12     21.542197     22.0\n",
       "\n",
       "[2277 rows x 2 columns]"
      ]
     },
     "execution_count": 25,
     "metadata": {},
     "output_type": "execute_result"
    }
   ],
   "source": [
    "internet_merge"
   ]
  },
  {
   "cell_type": "code",
   "execution_count": 26,
   "metadata": {},
   "outputs": [
    {
     "data": {
      "text/html": [
       "<div>\n",
       "<style scoped>\n",
       "    .dataframe tbody tr th:only-of-type {\n",
       "        vertical-align: middle;\n",
       "    }\n",
       "\n",
       "    .dataframe tbody tr th {\n",
       "        vertical-align: top;\n",
       "    }\n",
       "\n",
       "    .dataframe thead tr th {\n",
       "        text-align: left;\n",
       "    }\n",
       "\n",
       "    .dataframe thead tr:last-of-type th {\n",
       "        text-align: right;\n",
       "    }\n",
       "</style>\n",
       "<table border=\"1\" class=\"dataframe\">\n",
       "  <thead>\n",
       "    <tr>\n",
       "      <th></th>\n",
       "      <th></th>\n",
       "      <th>user_id</th>\n",
       "      <th>texts</th>\n",
       "    </tr>\n",
       "    <tr>\n",
       "      <th></th>\n",
       "      <th></th>\n",
       "      <th>count</th>\n",
       "      <th></th>\n",
       "    </tr>\n",
       "    <tr>\n",
       "      <th>user_id</th>\n",
       "      <th>month</th>\n",
       "      <th></th>\n",
       "      <th></th>\n",
       "    </tr>\n",
       "  </thead>\n",
       "  <tbody>\n",
       "    <tr>\n",
       "      <th>1000</th>\n",
       "      <th>12</th>\n",
       "      <td>11</td>\n",
       "      <td>11.0</td>\n",
       "    </tr>\n",
       "    <tr>\n",
       "      <th rowspan=\"4\" valign=\"top\">1001</th>\n",
       "      <th>8</th>\n",
       "      <td>30</td>\n",
       "      <td>30.0</td>\n",
       "    </tr>\n",
       "    <tr>\n",
       "      <th>9</th>\n",
       "      <td>44</td>\n",
       "      <td>44.0</td>\n",
       "    </tr>\n",
       "    <tr>\n",
       "      <th>10</th>\n",
       "      <td>53</td>\n",
       "      <td>53.0</td>\n",
       "    </tr>\n",
       "    <tr>\n",
       "      <th>11</th>\n",
       "      <td>36</td>\n",
       "      <td>36.0</td>\n",
       "    </tr>\n",
       "    <tr>\n",
       "      <th>...</th>\n",
       "      <th>...</th>\n",
       "      <td>...</td>\n",
       "      <td>...</td>\n",
       "    </tr>\n",
       "    <tr>\n",
       "      <th rowspan=\"4\" valign=\"top\">1496</th>\n",
       "      <th>9</th>\n",
       "      <td>21</td>\n",
       "      <td>21.0</td>\n",
       "    </tr>\n",
       "    <tr>\n",
       "      <th>10</th>\n",
       "      <td>18</td>\n",
       "      <td>18.0</td>\n",
       "    </tr>\n",
       "    <tr>\n",
       "      <th>11</th>\n",
       "      <td>13</td>\n",
       "      <td>13.0</td>\n",
       "    </tr>\n",
       "    <tr>\n",
       "      <th>12</th>\n",
       "      <td>11</td>\n",
       "      <td>11.0</td>\n",
       "    </tr>\n",
       "    <tr>\n",
       "      <th>1497</th>\n",
       "      <th>12</th>\n",
       "      <td>50</td>\n",
       "      <td>50.0</td>\n",
       "    </tr>\n",
       "  </tbody>\n",
       "</table>\n",
       "<p>1806 rows × 2 columns</p>\n",
       "</div>"
      ],
      "text/plain": [
       "              user_id texts\n",
       "                count      \n",
       "user_id month              \n",
       "1000    12         11  11.0\n",
       "1001    8          30  30.0\n",
       "        9          44  44.0\n",
       "        10         53  53.0\n",
       "        11         36  36.0\n",
       "...               ...   ...\n",
       "1496    9          21  21.0\n",
       "        10         18  18.0\n",
       "        11         13  13.0\n",
       "        12         11  11.0\n",
       "1497    12         50  50.0\n",
       "\n",
       "[1806 rows x 2 columns]"
      ]
     },
     "execution_count": 26,
     "metadata": {},
     "output_type": "execute_result"
    }
   ],
   "source": [
    "messages_merge"
   ]
  },
  {
   "cell_type": "markdown",
   "metadata": {},
   "source": [
    " "
   ]
  },
  {
   "cell_type": "markdown",
   "metadata": {},
   "source": [
    "## Study plan conditions"
   ]
  },
  {
   "cell_type": "code",
   "execution_count": 27,
   "metadata": {},
   "outputs": [
    {
     "data": {
      "text/html": [
       "<div>\n",
       "<style scoped>\n",
       "    .dataframe tbody tr th:only-of-type {\n",
       "        vertical-align: middle;\n",
       "    }\n",
       "\n",
       "    .dataframe tbody tr th {\n",
       "        vertical-align: top;\n",
       "    }\n",
       "\n",
       "    .dataframe thead th {\n",
       "        text-align: right;\n",
       "    }\n",
       "</style>\n",
       "<table border=\"1\" class=\"dataframe\">\n",
       "  <thead>\n",
       "    <tr style=\"text-align: right;\">\n",
       "      <th></th>\n",
       "      <th>messages_included</th>\n",
       "      <th>mb_per_month_included</th>\n",
       "      <th>minutes_included</th>\n",
       "      <th>usd_monthly_pay</th>\n",
       "      <th>usd_per_gb</th>\n",
       "      <th>usd_per_message</th>\n",
       "      <th>usd_per_minute</th>\n",
       "      <th>plan_name</th>\n",
       "    </tr>\n",
       "  </thead>\n",
       "  <tbody>\n",
       "    <tr>\n",
       "      <th>0</th>\n",
       "      <td>50</td>\n",
       "      <td>15360</td>\n",
       "      <td>500</td>\n",
       "      <td>20</td>\n",
       "      <td>10</td>\n",
       "      <td>0.03</td>\n",
       "      <td>0.03</td>\n",
       "      <td>surf</td>\n",
       "    </tr>\n",
       "    <tr>\n",
       "      <th>1</th>\n",
       "      <td>1000</td>\n",
       "      <td>30720</td>\n",
       "      <td>3000</td>\n",
       "      <td>70</td>\n",
       "      <td>7</td>\n",
       "      <td>0.01</td>\n",
       "      <td>0.01</td>\n",
       "      <td>ultimate</td>\n",
       "    </tr>\n",
       "  </tbody>\n",
       "</table>\n",
       "</div>"
      ],
      "text/plain": [
       "   messages_included  mb_per_month_included  minutes_included  \\\n",
       "0                 50                  15360               500   \n",
       "1               1000                  30720              3000   \n",
       "\n",
       "   usd_monthly_pay  usd_per_gb  usd_per_message  usd_per_minute plan_name  \n",
       "0               20          10             0.03            0.03      surf  \n",
       "1               70           7             0.01            0.01  ultimate  "
      ]
     },
     "execution_count": 27,
     "metadata": {},
     "output_type": "execute_result"
    }
   ],
   "source": [
    "# Print out the plan conditions and make sure they are clear for you\n",
    "\n",
    "plans"
   ]
  },
  {
   "cell_type": "markdown",
   "metadata": {},
   "source": [
    "## Aggregate data per user\n",
    "\n"
   ]
  },
  {
   "cell_type": "code",
   "execution_count": 28,
   "metadata": {},
   "outputs": [
    {
     "data": {
      "text/html": [
       "<div>\n",
       "<style scoped>\n",
       "    .dataframe tbody tr th:only-of-type {\n",
       "        vertical-align: middle;\n",
       "    }\n",
       "\n",
       "    .dataframe tbody tr th {\n",
       "        vertical-align: top;\n",
       "    }\n",
       "\n",
       "    .dataframe thead tr th {\n",
       "        text-align: left;\n",
       "    }\n",
       "\n",
       "    .dataframe thead tr:last-of-type th {\n",
       "        text-align: right;\n",
       "    }\n",
       "</style>\n",
       "<table border=\"1\" class=\"dataframe\">\n",
       "  <thead>\n",
       "    <tr>\n",
       "      <th></th>\n",
       "      <th></th>\n",
       "      <th>duration_round</th>\n",
       "    </tr>\n",
       "    <tr>\n",
       "      <th></th>\n",
       "      <th></th>\n",
       "      <th>sum</th>\n",
       "    </tr>\n",
       "    <tr>\n",
       "      <th>user_id</th>\n",
       "      <th>month</th>\n",
       "      <th></th>\n",
       "    </tr>\n",
       "  </thead>\n",
       "  <tbody>\n",
       "    <tr>\n",
       "      <th>1000</th>\n",
       "      <th>12</th>\n",
       "      <td>124.0</td>\n",
       "    </tr>\n",
       "    <tr>\n",
       "      <th rowspan=\"4\" valign=\"top\">1001</th>\n",
       "      <th>8</th>\n",
       "      <td>182.0</td>\n",
       "    </tr>\n",
       "    <tr>\n",
       "      <th>9</th>\n",
       "      <td>315.0</td>\n",
       "    </tr>\n",
       "    <tr>\n",
       "      <th>10</th>\n",
       "      <td>393.0</td>\n",
       "    </tr>\n",
       "    <tr>\n",
       "      <th>11</th>\n",
       "      <td>426.0</td>\n",
       "    </tr>\n",
       "    <tr>\n",
       "      <th>...</th>\n",
       "      <th>...</th>\n",
       "      <td>...</td>\n",
       "    </tr>\n",
       "    <tr>\n",
       "      <th>1498</th>\n",
       "      <th>12</th>\n",
       "      <td>339.0</td>\n",
       "    </tr>\n",
       "    <tr>\n",
       "      <th rowspan=\"4\" valign=\"top\">1499</th>\n",
       "      <th>9</th>\n",
       "      <td>346.0</td>\n",
       "    </tr>\n",
       "    <tr>\n",
       "      <th>10</th>\n",
       "      <td>385.0</td>\n",
       "    </tr>\n",
       "    <tr>\n",
       "      <th>11</th>\n",
       "      <td>308.0</td>\n",
       "    </tr>\n",
       "    <tr>\n",
       "      <th>12</th>\n",
       "      <td>496.0</td>\n",
       "    </tr>\n",
       "  </tbody>\n",
       "</table>\n",
       "<p>2258 rows × 1 columns</p>\n",
       "</div>"
      ],
      "text/plain": [
       "              duration_round\n",
       "                         sum\n",
       "user_id month               \n",
       "1000    12             124.0\n",
       "1001    8              182.0\n",
       "        9              315.0\n",
       "        10             393.0\n",
       "        11             426.0\n",
       "...                      ...\n",
       "1498    12             339.0\n",
       "1499    9              346.0\n",
       "        10             385.0\n",
       "        11             308.0\n",
       "        12             496.0\n",
       "\n",
       "[2258 rows x 1 columns]"
      ]
     },
     "execution_count": 28,
     "metadata": {},
     "output_type": "execute_result"
    }
   ],
   "source": [
    "# Calculate the number of calls made by each user per month. Save the result.\n",
    "\n",
    "calls_merge"
   ]
  },
  {
   "cell_type": "code",
   "execution_count": 29,
   "metadata": {},
   "outputs": [
    {
     "name": "stdout",
     "output_type": "stream",
     "text": [
      "<class 'pandas.core.frame.DataFrame'>\n",
      "MultiIndex: 1806 entries, (1000, 12) to (1497, 12)\n",
      "Data columns (total 2 columns):\n",
      " #   Column            Non-Null Count  Dtype  \n",
      "---  ------            --------------  -----  \n",
      " 0   (user_id, count)  1806 non-null   int64  \n",
      " 1   (texts, )         0 non-null      float64\n",
      "dtypes: float64(1), int64(1)\n",
      "memory usage: 36.9 KB\n"
     ]
    }
   ],
   "source": [
    "messages_merge['texts'] = messages_merge['user_id']\n",
    "messages_merge.info()"
   ]
  },
  {
   "cell_type": "code",
   "execution_count": 30,
   "metadata": {},
   "outputs": [
    {
     "data": {
      "text/html": [
       "<div>\n",
       "<style scoped>\n",
       "    .dataframe tbody tr th:only-of-type {\n",
       "        vertical-align: middle;\n",
       "    }\n",
       "\n",
       "    .dataframe tbody tr th {\n",
       "        vertical-align: top;\n",
       "    }\n",
       "\n",
       "    .dataframe thead tr th {\n",
       "        text-align: left;\n",
       "    }\n",
       "\n",
       "    .dataframe thead tr:last-of-type th {\n",
       "        text-align: right;\n",
       "    }\n",
       "</style>\n",
       "<table border=\"1\" class=\"dataframe\">\n",
       "  <thead>\n",
       "    <tr>\n",
       "      <th></th>\n",
       "      <th></th>\n",
       "      <th>mb_used</th>\n",
       "      <th>gb_round</th>\n",
       "    </tr>\n",
       "    <tr>\n",
       "      <th></th>\n",
       "      <th></th>\n",
       "      <th>sum</th>\n",
       "      <th></th>\n",
       "    </tr>\n",
       "    <tr>\n",
       "      <th>user_id</th>\n",
       "      <th>month</th>\n",
       "      <th></th>\n",
       "      <th></th>\n",
       "    </tr>\n",
       "  </thead>\n",
       "  <tbody>\n",
       "    <tr>\n",
       "      <th>1000</th>\n",
       "      <th>12</th>\n",
       "      <td>1.856904</td>\n",
       "      <td>2.0</td>\n",
       "    </tr>\n",
       "    <tr>\n",
       "      <th rowspan=\"4\" valign=\"top\">1001</th>\n",
       "      <th>8</th>\n",
       "      <td>6.756982</td>\n",
       "      <td>7.0</td>\n",
       "    </tr>\n",
       "    <tr>\n",
       "      <th>9</th>\n",
       "      <td>13.002754</td>\n",
       "      <td>14.0</td>\n",
       "    </tr>\n",
       "    <tr>\n",
       "      <th>10</th>\n",
       "      <td>21.807119</td>\n",
       "      <td>22.0</td>\n",
       "    </tr>\n",
       "    <tr>\n",
       "      <th>11</th>\n",
       "      <td>18.070605</td>\n",
       "      <td>19.0</td>\n",
       "    </tr>\n",
       "    <tr>\n",
       "      <th>...</th>\n",
       "      <th>...</th>\n",
       "      <td>...</td>\n",
       "      <td>...</td>\n",
       "    </tr>\n",
       "    <tr>\n",
       "      <th>1498</th>\n",
       "      <th>12</th>\n",
       "      <td>22.595400</td>\n",
       "      <td>23.0</td>\n",
       "    </tr>\n",
       "    <tr>\n",
       "      <th rowspan=\"4\" valign=\"top\">1499</th>\n",
       "      <th>9</th>\n",
       "      <td>12.680430</td>\n",
       "      <td>13.0</td>\n",
       "    </tr>\n",
       "    <tr>\n",
       "      <th>10</th>\n",
       "      <td>19.035576</td>\n",
       "      <td>20.0</td>\n",
       "    </tr>\n",
       "    <tr>\n",
       "      <th>11</th>\n",
       "      <td>16.419756</td>\n",
       "      <td>17.0</td>\n",
       "    </tr>\n",
       "    <tr>\n",
       "      <th>12</th>\n",
       "      <td>21.542197</td>\n",
       "      <td>22.0</td>\n",
       "    </tr>\n",
       "  </tbody>\n",
       "</table>\n",
       "<p>2277 rows × 2 columns</p>\n",
       "</div>"
      ],
      "text/plain": [
       "                 mb_used gb_round\n",
       "                     sum         \n",
       "user_id month                    \n",
       "1000    12      1.856904      2.0\n",
       "1001    8       6.756982      7.0\n",
       "        9      13.002754     14.0\n",
       "        10     21.807119     22.0\n",
       "        11     18.070605     19.0\n",
       "...                  ...      ...\n",
       "1498    12     22.595400     23.0\n",
       "1499    9      12.680430     13.0\n",
       "        10     19.035576     20.0\n",
       "        11     16.419756     17.0\n",
       "        12     21.542197     22.0\n",
       "\n",
       "[2277 rows x 2 columns]"
      ]
     },
     "execution_count": 30,
     "metadata": {},
     "output_type": "execute_result"
    }
   ],
   "source": [
    "# Calculate the volume of internet traffic used by each user per month. Save the result.\n",
    "\n",
    "internet_merge"
   ]
  },
  {
   "cell_type": "code",
   "execution_count": 31,
   "metadata": {},
   "outputs": [
    {
     "data": {
      "text/html": [
       "<div>\n",
       "<style scoped>\n",
       "    .dataframe tbody tr th:only-of-type {\n",
       "        vertical-align: middle;\n",
       "    }\n",
       "\n",
       "    .dataframe tbody tr th {\n",
       "        vertical-align: top;\n",
       "    }\n",
       "\n",
       "    .dataframe thead tr th {\n",
       "        text-align: left;\n",
       "    }\n",
       "\n",
       "    .dataframe thead tr:last-of-type th {\n",
       "        text-align: right;\n",
       "    }\n",
       "</style>\n",
       "<table border=\"1\" class=\"dataframe\">\n",
       "  <thead>\n",
       "    <tr>\n",
       "      <th></th>\n",
       "      <th></th>\n",
       "      <th>duration_round</th>\n",
       "      <th>messages</th>\n",
       "      <th>gb</th>\n",
       "    </tr>\n",
       "    <tr>\n",
       "      <th></th>\n",
       "      <th></th>\n",
       "      <th>sum</th>\n",
       "      <th></th>\n",
       "      <th></th>\n",
       "    </tr>\n",
       "    <tr>\n",
       "      <th>user_id</th>\n",
       "      <th>month</th>\n",
       "      <th></th>\n",
       "      <th></th>\n",
       "      <th></th>\n",
       "    </tr>\n",
       "  </thead>\n",
       "  <tbody>\n",
       "    <tr>\n",
       "      <th>1000</th>\n",
       "      <th>12</th>\n",
       "      <td>124.0</td>\n",
       "      <td>11.0</td>\n",
       "      <td>1.856904</td>\n",
       "    </tr>\n",
       "    <tr>\n",
       "      <th rowspan=\"5\" valign=\"top\">1001</th>\n",
       "      <th>8</th>\n",
       "      <td>182.0</td>\n",
       "      <td>30.0</td>\n",
       "      <td>6.756982</td>\n",
       "    </tr>\n",
       "    <tr>\n",
       "      <th>9</th>\n",
       "      <td>315.0</td>\n",
       "      <td>44.0</td>\n",
       "      <td>13.002754</td>\n",
       "    </tr>\n",
       "    <tr>\n",
       "      <th>10</th>\n",
       "      <td>393.0</td>\n",
       "      <td>53.0</td>\n",
       "      <td>21.807119</td>\n",
       "    </tr>\n",
       "    <tr>\n",
       "      <th>11</th>\n",
       "      <td>426.0</td>\n",
       "      <td>36.0</td>\n",
       "      <td>18.070605</td>\n",
       "    </tr>\n",
       "    <tr>\n",
       "      <th>12</th>\n",
       "      <td>412.0</td>\n",
       "      <td>44.0</td>\n",
       "      <td>18.915215</td>\n",
       "    </tr>\n",
       "    <tr>\n",
       "      <th rowspan=\"3\" valign=\"top\">1002</th>\n",
       "      <th>10</th>\n",
       "      <td>59.0</td>\n",
       "      <td>15.0</td>\n",
       "      <td>6.398447</td>\n",
       "    </tr>\n",
       "    <tr>\n",
       "      <th>11</th>\n",
       "      <td>386.0</td>\n",
       "      <td>32.0</td>\n",
       "      <td>18.891680</td>\n",
       "    </tr>\n",
       "    <tr>\n",
       "      <th>12</th>\n",
       "      <td>384.0</td>\n",
       "      <td>41.0</td>\n",
       "      <td>14.058828</td>\n",
       "    </tr>\n",
       "    <tr>\n",
       "      <th>1003</th>\n",
       "      <th>12</th>\n",
       "      <td>1104.0</td>\n",
       "      <td>50.0</td>\n",
       "      <td>26.410293</td>\n",
       "    </tr>\n",
       "    <tr>\n",
       "      <th rowspan=\"8\" valign=\"top\">1004</th>\n",
       "      <th>5</th>\n",
       "      <td>193.0</td>\n",
       "      <td>7.0</td>\n",
       "      <td>6.393760</td>\n",
       "    </tr>\n",
       "    <tr>\n",
       "      <th>6</th>\n",
       "      <td>275.0</td>\n",
       "      <td>18.0</td>\n",
       "      <td>20.188301</td>\n",
       "    </tr>\n",
       "    <tr>\n",
       "      <th>7</th>\n",
       "      <td>381.0</td>\n",
       "      <td>26.0</td>\n",
       "      <td>23.942012</td>\n",
       "    </tr>\n",
       "    <tr>\n",
       "      <th>8</th>\n",
       "      <td>354.0</td>\n",
       "      <td>25.0</td>\n",
       "      <td>27.325918</td>\n",
       "    </tr>\n",
       "    <tr>\n",
       "      <th>9</th>\n",
       "      <td>301.0</td>\n",
       "      <td>21.0</td>\n",
       "      <td>18.410859</td>\n",
       "    </tr>\n",
       "    <tr>\n",
       "      <th>10</th>\n",
       "      <td>365.0</td>\n",
       "      <td>24.0</td>\n",
       "      <td>14.200811</td>\n",
       "    </tr>\n",
       "    <tr>\n",
       "      <th>11</th>\n",
       "      <td>476.0</td>\n",
       "      <td>25.0</td>\n",
       "      <td>21.338652</td>\n",
       "    </tr>\n",
       "    <tr>\n",
       "      <th>12</th>\n",
       "      <td>427.0</td>\n",
       "      <td>31.0</td>\n",
       "      <td>20.887979</td>\n",
       "    </tr>\n",
       "    <tr>\n",
       "      <th>1005</th>\n",
       "      <th>12</th>\n",
       "      <td>496.0</td>\n",
       "      <td>11.0</td>\n",
       "      <td>16.738447</td>\n",
       "    </tr>\n",
       "    <tr>\n",
       "      <th rowspan=\"2\" valign=\"top\">1006</th>\n",
       "      <th>11</th>\n",
       "      <td>10.0</td>\n",
       "      <td>15.0</td>\n",
       "      <td>2.019893</td>\n",
       "    </tr>\n",
       "    <tr>\n",
       "      <th>12</th>\n",
       "      <td>59.0</td>\n",
       "      <td>139.0</td>\n",
       "      <td>31.366035</td>\n",
       "    </tr>\n",
       "    <tr>\n",
       "      <th rowspan=\"5\" valign=\"top\">1007</th>\n",
       "      <th>8</th>\n",
       "      <td>456.0</td>\n",
       "      <td>51.0</td>\n",
       "      <td>23.867070</td>\n",
       "    </tr>\n",
       "    <tr>\n",
       "      <th>9</th>\n",
       "      <td>399.0</td>\n",
       "      <td>47.0</td>\n",
       "      <td>27.464795</td>\n",
       "    </tr>\n",
       "    <tr>\n",
       "      <th>10</th>\n",
       "      <td>645.0</td>\n",
       "      <td>59.0</td>\n",
       "      <td>36.997686</td>\n",
       "    </tr>\n",
       "    <tr>\n",
       "      <th>11</th>\n",
       "      <td>524.0</td>\n",
       "      <td>48.0</td>\n",
       "      <td>23.763672</td>\n",
       "    </tr>\n",
       "    <tr>\n",
       "      <th>12</th>\n",
       "      <td>617.0</td>\n",
       "      <td>50.0</td>\n",
       "      <td>28.387969</td>\n",
       "    </tr>\n",
       "    <tr>\n",
       "      <th rowspan=\"3\" valign=\"top\">1008</th>\n",
       "      <th>10</th>\n",
       "      <td>476.0</td>\n",
       "      <td>21.0</td>\n",
       "      <td>16.706045</td>\n",
       "    </tr>\n",
       "    <tr>\n",
       "      <th>11</th>\n",
       "      <td>446.0</td>\n",
       "      <td>37.0</td>\n",
       "      <td>23.121797</td>\n",
       "    </tr>\n",
       "    <tr>\n",
       "      <th>12</th>\n",
       "      <td>634.0</td>\n",
       "      <td>26.0</td>\n",
       "      <td>14.345049</td>\n",
       "    </tr>\n",
       "    <tr>\n",
       "      <th rowspan=\"8\" valign=\"top\">1009</th>\n",
       "      <th>5</th>\n",
       "      <td>534.0</td>\n",
       "      <td>NaN</td>\n",
       "      <td>19.911523</td>\n",
       "    </tr>\n",
       "    <tr>\n",
       "      <th>6</th>\n",
       "      <td>823.0</td>\n",
       "      <td>NaN</td>\n",
       "      <td>18.404199</td>\n",
       "    </tr>\n",
       "    <tr>\n",
       "      <th>7</th>\n",
       "      <td>880.0</td>\n",
       "      <td>NaN</td>\n",
       "      <td>29.708643</td>\n",
       "    </tr>\n",
       "    <tr>\n",
       "      <th>8</th>\n",
       "      <td>731.0</td>\n",
       "      <td>NaN</td>\n",
       "      <td>23.981953</td>\n",
       "    </tr>\n",
       "    <tr>\n",
       "      <th>9</th>\n",
       "      <td>776.0</td>\n",
       "      <td>NaN</td>\n",
       "      <td>20.471094</td>\n",
       "    </tr>\n",
       "    <tr>\n",
       "      <th>10</th>\n",
       "      <td>740.0</td>\n",
       "      <td>NaN</td>\n",
       "      <td>22.133633</td>\n",
       "    </tr>\n",
       "    <tr>\n",
       "      <th>11</th>\n",
       "      <td>714.0</td>\n",
       "      <td>NaN</td>\n",
       "      <td>24.876396</td>\n",
       "    </tr>\n",
       "    <tr>\n",
       "      <th>12</th>\n",
       "      <td>756.0</td>\n",
       "      <td>NaN</td>\n",
       "      <td>23.361914</td>\n",
       "    </tr>\n",
       "    <tr>\n",
       "      <th rowspan=\"9\" valign=\"top\">1010</th>\n",
       "      <th>3</th>\n",
       "      <td>429.0</td>\n",
       "      <td>NaN</td>\n",
       "      <td>10.439473</td>\n",
       "    </tr>\n",
       "    <tr>\n",
       "      <th>4</th>\n",
       "      <td>656.0</td>\n",
       "      <td>NaN</td>\n",
       "      <td>19.260098</td>\n",
       "    </tr>\n",
       "    <tr>\n",
       "      <th>5</th>\n",
       "      <td>532.0</td>\n",
       "      <td>NaN</td>\n",
       "      <td>15.516133</td>\n",
       "    </tr>\n",
       "    <tr>\n",
       "      <th>6</th>\n",
       "      <td>553.0</td>\n",
       "      <td>NaN</td>\n",
       "      <td>16.434873</td>\n",
       "    </tr>\n",
       "    <tr>\n",
       "      <th>7</th>\n",
       "      <td>698.0</td>\n",
       "      <td>NaN</td>\n",
       "      <td>12.366318</td>\n",
       "    </tr>\n",
       "    <tr>\n",
       "      <th>8</th>\n",
       "      <td>637.0</td>\n",
       "      <td>NaN</td>\n",
       "      <td>19.347500</td>\n",
       "    </tr>\n",
       "    <tr>\n",
       "      <th>9</th>\n",
       "      <td>601.0</td>\n",
       "      <td>NaN</td>\n",
       "      <td>16.419658</td>\n",
       "    </tr>\n",
       "    <tr>\n",
       "      <th>10</th>\n",
       "      <td>711.0</td>\n",
       "      <td>NaN</td>\n",
       "      <td>16.540801</td>\n",
       "    </tr>\n",
       "    <tr>\n",
       "      <th>11</th>\n",
       "      <td>258.0</td>\n",
       "      <td>NaN</td>\n",
       "      <td>7.798428</td>\n",
       "    </tr>\n",
       "    <tr>\n",
       "      <th rowspan=\"4\" valign=\"top\">1011</th>\n",
       "      <th>6</th>\n",
       "      <td>118.0</td>\n",
       "      <td>21.0</td>\n",
       "      <td>6.528428</td>\n",
       "    </tr>\n",
       "    <tr>\n",
       "      <th>7</th>\n",
       "      <td>499.0</td>\n",
       "      <td>53.0</td>\n",
       "      <td>20.553135</td>\n",
       "    </tr>\n",
       "    <tr>\n",
       "      <th>8</th>\n",
       "      <td>486.0</td>\n",
       "      <td>54.0</td>\n",
       "      <td>20.604854</td>\n",
       "    </tr>\n",
       "    <tr>\n",
       "      <th>9</th>\n",
       "      <td>484.0</td>\n",
       "      <td>60.0</td>\n",
       "      <td>16.248496</td>\n",
       "    </tr>\n",
       "  </tbody>\n",
       "</table>\n",
       "</div>"
      ],
      "text/plain": [
       "              duration_round messages         gb\n",
       "                         sum                    \n",
       "user_id month                                   \n",
       "1000    12             124.0     11.0   1.856904\n",
       "1001    8              182.0     30.0   6.756982\n",
       "        9              315.0     44.0  13.002754\n",
       "        10             393.0     53.0  21.807119\n",
       "        11             426.0     36.0  18.070605\n",
       "        12             412.0     44.0  18.915215\n",
       "1002    10              59.0     15.0   6.398447\n",
       "        11             386.0     32.0  18.891680\n",
       "        12             384.0     41.0  14.058828\n",
       "1003    12            1104.0     50.0  26.410293\n",
       "1004    5              193.0      7.0   6.393760\n",
       "        6              275.0     18.0  20.188301\n",
       "        7              381.0     26.0  23.942012\n",
       "        8              354.0     25.0  27.325918\n",
       "        9              301.0     21.0  18.410859\n",
       "        10             365.0     24.0  14.200811\n",
       "        11             476.0     25.0  21.338652\n",
       "        12             427.0     31.0  20.887979\n",
       "1005    12             496.0     11.0  16.738447\n",
       "1006    11              10.0     15.0   2.019893\n",
       "        12              59.0    139.0  31.366035\n",
       "1007    8              456.0     51.0  23.867070\n",
       "        9              399.0     47.0  27.464795\n",
       "        10             645.0     59.0  36.997686\n",
       "        11             524.0     48.0  23.763672\n",
       "        12             617.0     50.0  28.387969\n",
       "1008    10             476.0     21.0  16.706045\n",
       "        11             446.0     37.0  23.121797\n",
       "        12             634.0     26.0  14.345049\n",
       "1009    5              534.0      NaN  19.911523\n",
       "        6              823.0      NaN  18.404199\n",
       "        7              880.0      NaN  29.708643\n",
       "        8              731.0      NaN  23.981953\n",
       "        9              776.0      NaN  20.471094\n",
       "        10             740.0      NaN  22.133633\n",
       "        11             714.0      NaN  24.876396\n",
       "        12             756.0      NaN  23.361914\n",
       "1010    3              429.0      NaN  10.439473\n",
       "        4              656.0      NaN  19.260098\n",
       "        5              532.0      NaN  15.516133\n",
       "        6              553.0      NaN  16.434873\n",
       "        7              698.0      NaN  12.366318\n",
       "        8              637.0      NaN  19.347500\n",
       "        9              601.0      NaN  16.419658\n",
       "        10             711.0      NaN  16.540801\n",
       "        11             258.0      NaN   7.798428\n",
       "1011    6              118.0     21.0   6.528428\n",
       "        7              499.0     53.0  20.553135\n",
       "        8              486.0     54.0  20.604854\n",
       "        9              484.0     60.0  16.248496"
      ]
     },
     "execution_count": 31,
     "metadata": {},
     "output_type": "execute_result"
    }
   ],
   "source": [
    "# Merge the data for calls, minutes, messages, internet based on user_id and month\n",
    "\n",
    "agg_df = calls_merge\n",
    "agg_df['messages'] = messages_merge['user_id']\n",
    "agg_df['gb'] =  internet_merge['mb_used']\n",
    "agg_df.head(50)"
   ]
  },
  {
   "cell_type": "code",
   "execution_count": 32,
   "metadata": {
    "scrolled": false
   },
   "outputs": [
    {
     "data": {
      "text/html": [
       "<div>\n",
       "<style scoped>\n",
       "    .dataframe tbody tr th:only-of-type {\n",
       "        vertical-align: middle;\n",
       "    }\n",
       "\n",
       "    .dataframe tbody tr th {\n",
       "        vertical-align: top;\n",
       "    }\n",
       "\n",
       "    .dataframe thead tr th {\n",
       "        text-align: left;\n",
       "    }\n",
       "\n",
       "    .dataframe thead tr:last-of-type th {\n",
       "        text-align: right;\n",
       "    }\n",
       "</style>\n",
       "<table border=\"1\" class=\"dataframe\">\n",
       "  <thead>\n",
       "    <tr>\n",
       "      <th></th>\n",
       "      <th>month</th>\n",
       "      <th>duration_round</th>\n",
       "      <th>messages</th>\n",
       "      <th>gb</th>\n",
       "      <th>city</th>\n",
       "      <th>plan</th>\n",
       "    </tr>\n",
       "    <tr>\n",
       "      <th></th>\n",
       "      <th></th>\n",
       "      <th>sum</th>\n",
       "      <th></th>\n",
       "      <th></th>\n",
       "      <th></th>\n",
       "      <th></th>\n",
       "    </tr>\n",
       "    <tr>\n",
       "      <th>user_id</th>\n",
       "      <th></th>\n",
       "      <th></th>\n",
       "      <th></th>\n",
       "      <th></th>\n",
       "      <th></th>\n",
       "      <th></th>\n",
       "    </tr>\n",
       "  </thead>\n",
       "  <tbody>\n",
       "    <tr>\n",
       "      <th>1000</th>\n",
       "      <td>12</td>\n",
       "      <td>124.0</td>\n",
       "      <td>11.0</td>\n",
       "      <td>1.856904</td>\n",
       "      <td>Atlanta-Sandy Springs-Roswell, GA MSA</td>\n",
       "      <td>ultimate</td>\n",
       "    </tr>\n",
       "    <tr>\n",
       "      <th>1001</th>\n",
       "      <td>8</td>\n",
       "      <td>182.0</td>\n",
       "      <td>30.0</td>\n",
       "      <td>6.756982</td>\n",
       "      <td>Seattle-Tacoma-Bellevue, WA MSA</td>\n",
       "      <td>surf</td>\n",
       "    </tr>\n",
       "    <tr>\n",
       "      <th>1001</th>\n",
       "      <td>9</td>\n",
       "      <td>315.0</td>\n",
       "      <td>44.0</td>\n",
       "      <td>13.002754</td>\n",
       "      <td>Seattle-Tacoma-Bellevue, WA MSA</td>\n",
       "      <td>surf</td>\n",
       "    </tr>\n",
       "    <tr>\n",
       "      <th>1001</th>\n",
       "      <td>10</td>\n",
       "      <td>393.0</td>\n",
       "      <td>53.0</td>\n",
       "      <td>21.807119</td>\n",
       "      <td>Seattle-Tacoma-Bellevue, WA MSA</td>\n",
       "      <td>surf</td>\n",
       "    </tr>\n",
       "    <tr>\n",
       "      <th>1001</th>\n",
       "      <td>11</td>\n",
       "      <td>426.0</td>\n",
       "      <td>36.0</td>\n",
       "      <td>18.070605</td>\n",
       "      <td>Seattle-Tacoma-Bellevue, WA MSA</td>\n",
       "      <td>surf</td>\n",
       "    </tr>\n",
       "    <tr>\n",
       "      <th>...</th>\n",
       "      <td>...</td>\n",
       "      <td>...</td>\n",
       "      <td>...</td>\n",
       "      <td>...</td>\n",
       "      <td>...</td>\n",
       "      <td>...</td>\n",
       "    </tr>\n",
       "    <tr>\n",
       "      <th>1498</th>\n",
       "      <td>12</td>\n",
       "      <td>339.0</td>\n",
       "      <td>NaN</td>\n",
       "      <td>22.595400</td>\n",
       "      <td>New York-Newark-Jersey City, NY-NJ-PA MSA</td>\n",
       "      <td>surf</td>\n",
       "    </tr>\n",
       "    <tr>\n",
       "      <th>1499</th>\n",
       "      <td>9</td>\n",
       "      <td>346.0</td>\n",
       "      <td>NaN</td>\n",
       "      <td>12.680430</td>\n",
       "      <td>Orlando-Kissimmee-Sanford, FL MSA</td>\n",
       "      <td>surf</td>\n",
       "    </tr>\n",
       "    <tr>\n",
       "      <th>1499</th>\n",
       "      <td>10</td>\n",
       "      <td>385.0</td>\n",
       "      <td>NaN</td>\n",
       "      <td>19.035576</td>\n",
       "      <td>Orlando-Kissimmee-Sanford, FL MSA</td>\n",
       "      <td>surf</td>\n",
       "    </tr>\n",
       "    <tr>\n",
       "      <th>1499</th>\n",
       "      <td>11</td>\n",
       "      <td>308.0</td>\n",
       "      <td>NaN</td>\n",
       "      <td>16.419756</td>\n",
       "      <td>Orlando-Kissimmee-Sanford, FL MSA</td>\n",
       "      <td>surf</td>\n",
       "    </tr>\n",
       "    <tr>\n",
       "      <th>1499</th>\n",
       "      <td>12</td>\n",
       "      <td>496.0</td>\n",
       "      <td>NaN</td>\n",
       "      <td>21.542197</td>\n",
       "      <td>Orlando-Kissimmee-Sanford, FL MSA</td>\n",
       "      <td>surf</td>\n",
       "    </tr>\n",
       "  </tbody>\n",
       "</table>\n",
       "<p>2258 rows × 6 columns</p>\n",
       "</div>"
      ],
      "text/plain": [
       "        month duration_round messages         gb  \\\n",
       "                         sum                       \n",
       "user_id                                            \n",
       "1000       12          124.0     11.0   1.856904   \n",
       "1001        8          182.0     30.0   6.756982   \n",
       "1001        9          315.0     44.0  13.002754   \n",
       "1001       10          393.0     53.0  21.807119   \n",
       "1001       11          426.0     36.0  18.070605   \n",
       "...       ...            ...      ...        ...   \n",
       "1498       12          339.0      NaN  22.595400   \n",
       "1499        9          346.0      NaN  12.680430   \n",
       "1499       10          385.0      NaN  19.035576   \n",
       "1499       11          308.0      NaN  16.419756   \n",
       "1499       12          496.0      NaN  21.542197   \n",
       "\n",
       "                                              city      plan  \n",
       "                                                              \n",
       "user_id                                                       \n",
       "1000         Atlanta-Sandy Springs-Roswell, GA MSA  ultimate  \n",
       "1001               Seattle-Tacoma-Bellevue, WA MSA      surf  \n",
       "1001               Seattle-Tacoma-Bellevue, WA MSA      surf  \n",
       "1001               Seattle-Tacoma-Bellevue, WA MSA      surf  \n",
       "1001               Seattle-Tacoma-Bellevue, WA MSA      surf  \n",
       "...                                            ...       ...  \n",
       "1498     New York-Newark-Jersey City, NY-NJ-PA MSA      surf  \n",
       "1499             Orlando-Kissimmee-Sanford, FL MSA      surf  \n",
       "1499             Orlando-Kissimmee-Sanford, FL MSA      surf  \n",
       "1499             Orlando-Kissimmee-Sanford, FL MSA      surf  \n",
       "1499             Orlando-Kissimmee-Sanford, FL MSA      surf  \n",
       "\n",
       "[2258 rows x 6 columns]"
      ]
     },
     "execution_count": 32,
     "metadata": {},
     "output_type": "execute_result"
    }
   ],
   "source": [
    "agg_df.reset_index(inplace=True)\n",
    "agg_df.set_index('user_id', inplace=True)\n",
    "agg_df['city'] = users_merge['city']\n",
    "agg_df['plan'] = users_merge['plan']\n",
    "agg_df"
   ]
  },
  {
   "cell_type": "code",
   "execution_count": 33,
   "metadata": {},
   "outputs": [
    {
     "data": {
      "text/html": [
       "<div>\n",
       "<style scoped>\n",
       "    .dataframe tbody tr th:only-of-type {\n",
       "        vertical-align: middle;\n",
       "    }\n",
       "\n",
       "    .dataframe tbody tr th {\n",
       "        vertical-align: top;\n",
       "    }\n",
       "\n",
       "    .dataframe thead th {\n",
       "        text-align: right;\n",
       "    }\n",
       "</style>\n",
       "<table border=\"1\" class=\"dataframe\">\n",
       "  <thead>\n",
       "    <tr style=\"text-align: right;\">\n",
       "      <th></th>\n",
       "      <th>messages_included</th>\n",
       "      <th>mb_per_month_included</th>\n",
       "      <th>minutes_included</th>\n",
       "      <th>usd_monthly_pay</th>\n",
       "      <th>usd_per_gb</th>\n",
       "      <th>usd_per_message</th>\n",
       "      <th>usd_per_minute</th>\n",
       "      <th>plan_name</th>\n",
       "    </tr>\n",
       "  </thead>\n",
       "  <tbody>\n",
       "    <tr>\n",
       "      <th>0</th>\n",
       "      <td>50</td>\n",
       "      <td>15360</td>\n",
       "      <td>500</td>\n",
       "      <td>20</td>\n",
       "      <td>10</td>\n",
       "      <td>0.03</td>\n",
       "      <td>0.03</td>\n",
       "      <td>surf</td>\n",
       "    </tr>\n",
       "    <tr>\n",
       "      <th>1</th>\n",
       "      <td>1000</td>\n",
       "      <td>30720</td>\n",
       "      <td>3000</td>\n",
       "      <td>70</td>\n",
       "      <td>7</td>\n",
       "      <td>0.01</td>\n",
       "      <td>0.01</td>\n",
       "      <td>ultimate</td>\n",
       "    </tr>\n",
       "  </tbody>\n",
       "</table>\n",
       "</div>"
      ],
      "text/plain": [
       "   messages_included  mb_per_month_included  minutes_included  \\\n",
       "0                 50                  15360               500   \n",
       "1               1000                  30720              3000   \n",
       "\n",
       "   usd_monthly_pay  usd_per_gb  usd_per_message  usd_per_minute plan_name  \n",
       "0               20          10             0.03            0.03      surf  \n",
       "1               70           7             0.01            0.01  ultimate  "
      ]
     },
     "execution_count": 33,
     "metadata": {},
     "output_type": "execute_result"
    }
   ],
   "source": [
    "# Add the plan information\n",
    "\n",
    "plans"
   ]
  },
  {
   "cell_type": "code",
   "execution_count": 34,
   "metadata": {},
   "outputs": [
    {
     "name": "stdout",
     "output_type": "stream",
     "text": [
      "<class 'pandas.core.frame.DataFrame'>\n",
      "Int64Index: 2258 entries, 1000 to 1499\n",
      "Data columns (total 6 columns):\n",
      " #   Column                 Non-Null Count  Dtype  \n",
      "---  ------                 --------------  -----  \n",
      " 0   (month, )              2258 non-null   int64  \n",
      " 1   (duration_round, sum)  2258 non-null   float64\n",
      " 2   (messages, )           1773 non-null   float64\n",
      " 3   (gb, )                 2243 non-null   float64\n",
      " 4   (city, )               2258 non-null   object \n",
      " 5   (plan, )               2258 non-null   object \n",
      "dtypes: float64(3), int64(1), object(2)\n",
      "memory usage: 123.5+ KB\n"
     ]
    }
   ],
   "source": [
    "agg_df.info()"
   ]
  },
  {
   "cell_type": "code",
   "execution_count": 35,
   "metadata": {
    "scrolled": false
   },
   "outputs": [],
   "source": [
    "agg_df.reset_index(inplace=True)"
   ]
  },
  {
   "cell_type": "code",
   "execution_count": 36,
   "metadata": {},
   "outputs": [],
   "source": [
    "agg_df.columns = ['user_id', 'month', 'total_call', 'messages', 'gb', 'city', 'plan']"
   ]
  },
  {
   "cell_type": "code",
   "execution_count": 37,
   "metadata": {},
   "outputs": [
    {
     "name": "stdout",
     "output_type": "stream",
     "text": [
      "<class 'pandas.core.frame.DataFrame'>\n",
      "RangeIndex: 2258 entries, 0 to 2257\n",
      "Data columns (total 7 columns):\n",
      " #   Column      Non-Null Count  Dtype  \n",
      "---  ------      --------------  -----  \n",
      " 0   user_id     2258 non-null   int64  \n",
      " 1   month       2258 non-null   int64  \n",
      " 2   total_call  2258 non-null   float64\n",
      " 3   messages    1773 non-null   float64\n",
      " 4   gb          2243 non-null   float64\n",
      " 5   city        2258 non-null   object \n",
      " 6   plan        2258 non-null   object \n",
      "dtypes: float64(3), int64(2), object(2)\n",
      "memory usage: 123.6+ KB\n"
     ]
    }
   ],
   "source": [
    "agg_df.info()"
   ]
  },
  {
   "cell_type": "code",
   "execution_count": 38,
   "metadata": {},
   "outputs": [],
   "source": [
    "agg_surf = agg_df.query('plan == \"surf\"')\n",
    "agg_ult = agg_df.query('plan == \"ultimate\"')"
   ]
  },
  {
   "cell_type": "code",
   "execution_count": 39,
   "metadata": {
    "scrolled": true
   },
   "outputs": [],
   "source": [
    "agg_surf['gb_extra'] = agg_surf['gb'] - 15.36"
   ]
  },
  {
   "cell_type": "code",
   "execution_count": 40,
   "metadata": {},
   "outputs": [],
   "source": [
    "agg_surf['gb_extra'] = agg_surf['gb_extra'].apply(np.ceil)"
   ]
  },
  {
   "cell_type": "code",
   "execution_count": 41,
   "metadata": {},
   "outputs": [],
   "source": [
    "agg_surf['call_value'] = (agg_surf['total_call'] - 500)*.03"
   ]
  },
  {
   "cell_type": "code",
   "execution_count": 42,
   "metadata": {
    "scrolled": true
   },
   "outputs": [],
   "source": [
    "agg_surf['text_value'] = (agg_surf['messages'] - 50)* 0.03"
   ]
  },
  {
   "cell_type": "code",
   "execution_count": 43,
   "metadata": {},
   "outputs": [],
   "source": [
    "agg_surf['gb_value'] = agg_surf['gb_extra'] * 10"
   ]
  },
  {
   "cell_type": "code",
   "execution_count": 44,
   "metadata": {},
   "outputs": [],
   "source": [
    "agg_surf_neg = agg_surf[['call_value', 'text_value', 'gb_value']]"
   ]
  },
  {
   "cell_type": "code",
   "execution_count": 45,
   "metadata": {},
   "outputs": [
    {
     "data": {
      "text/html": [
       "<div>\n",
       "<style scoped>\n",
       "    .dataframe tbody tr th:only-of-type {\n",
       "        vertical-align: middle;\n",
       "    }\n",
       "\n",
       "    .dataframe tbody tr th {\n",
       "        vertical-align: top;\n",
       "    }\n",
       "\n",
       "    .dataframe thead th {\n",
       "        text-align: right;\n",
       "    }\n",
       "</style>\n",
       "<table border=\"1\" class=\"dataframe\">\n",
       "  <thead>\n",
       "    <tr style=\"text-align: right;\">\n",
       "      <th></th>\n",
       "      <th>call_value</th>\n",
       "      <th>text_value</th>\n",
       "      <th>gb_value</th>\n",
       "    </tr>\n",
       "  </thead>\n",
       "  <tbody>\n",
       "    <tr>\n",
       "      <th>1</th>\n",
       "      <td>0.0</td>\n",
       "      <td>0.00</td>\n",
       "      <td>0.0</td>\n",
       "    </tr>\n",
       "    <tr>\n",
       "      <th>2</th>\n",
       "      <td>0.0</td>\n",
       "      <td>0.00</td>\n",
       "      <td>0.0</td>\n",
       "    </tr>\n",
       "    <tr>\n",
       "      <th>3</th>\n",
       "      <td>0.0</td>\n",
       "      <td>0.09</td>\n",
       "      <td>70.0</td>\n",
       "    </tr>\n",
       "    <tr>\n",
       "      <th>4</th>\n",
       "      <td>0.0</td>\n",
       "      <td>0.00</td>\n",
       "      <td>30.0</td>\n",
       "    </tr>\n",
       "    <tr>\n",
       "      <th>5</th>\n",
       "      <td>0.0</td>\n",
       "      <td>0.00</td>\n",
       "      <td>40.0</td>\n",
       "    </tr>\n",
       "    <tr>\n",
       "      <th>...</th>\n",
       "      <td>...</td>\n",
       "      <td>...</td>\n",
       "      <td>...</td>\n",
       "    </tr>\n",
       "    <tr>\n",
       "      <th>2253</th>\n",
       "      <td>0.0</td>\n",
       "      <td>0.00</td>\n",
       "      <td>80.0</td>\n",
       "    </tr>\n",
       "    <tr>\n",
       "      <th>2254</th>\n",
       "      <td>0.0</td>\n",
       "      <td>0.00</td>\n",
       "      <td>0.0</td>\n",
       "    </tr>\n",
       "    <tr>\n",
       "      <th>2255</th>\n",
       "      <td>0.0</td>\n",
       "      <td>0.00</td>\n",
       "      <td>40.0</td>\n",
       "    </tr>\n",
       "    <tr>\n",
       "      <th>2256</th>\n",
       "      <td>0.0</td>\n",
       "      <td>0.00</td>\n",
       "      <td>20.0</td>\n",
       "    </tr>\n",
       "    <tr>\n",
       "      <th>2257</th>\n",
       "      <td>0.0</td>\n",
       "      <td>0.00</td>\n",
       "      <td>70.0</td>\n",
       "    </tr>\n",
       "  </tbody>\n",
       "</table>\n",
       "<p>1545 rows × 3 columns</p>\n",
       "</div>"
      ],
      "text/plain": [
       "      call_value  text_value  gb_value\n",
       "1            0.0        0.00       0.0\n",
       "2            0.0        0.00       0.0\n",
       "3            0.0        0.09      70.0\n",
       "4            0.0        0.00      30.0\n",
       "5            0.0        0.00      40.0\n",
       "...          ...         ...       ...\n",
       "2253         0.0        0.00      80.0\n",
       "2254         0.0        0.00       0.0\n",
       "2255         0.0        0.00      40.0\n",
       "2256         0.0        0.00      20.0\n",
       "2257         0.0        0.00      70.0\n",
       "\n",
       "[1545 rows x 3 columns]"
      ]
     },
     "execution_count": 45,
     "metadata": {},
     "output_type": "execute_result"
    }
   ],
   "source": [
    "agg_surf_neg.fillna(0, inplace=True)\n",
    "agg_surf_neg[agg_surf_neg < 0] = 0\n",
    "agg_surf_neg"
   ]
  },
  {
   "cell_type": "code",
   "execution_count": 46,
   "metadata": {},
   "outputs": [],
   "source": [
    "agg_surf['call_value'] = agg_surf_neg['call_value']\n",
    "agg_surf['text_value'] = agg_surf_neg['text_value']\n",
    "agg_surf['gb_value'] = agg_surf_neg['gb_value']"
   ]
  },
  {
   "cell_type": "code",
   "execution_count": 47,
   "metadata": {
    "scrolled": false
   },
   "outputs": [
    {
     "data": {
      "text/html": [
       "<div>\n",
       "<style scoped>\n",
       "    .dataframe tbody tr th:only-of-type {\n",
       "        vertical-align: middle;\n",
       "    }\n",
       "\n",
       "    .dataframe tbody tr th {\n",
       "        vertical-align: top;\n",
       "    }\n",
       "\n",
       "    .dataframe thead th {\n",
       "        text-align: right;\n",
       "    }\n",
       "</style>\n",
       "<table border=\"1\" class=\"dataframe\">\n",
       "  <thead>\n",
       "    <tr style=\"text-align: right;\">\n",
       "      <th></th>\n",
       "      <th>user_id</th>\n",
       "      <th>month</th>\n",
       "      <th>total_call</th>\n",
       "      <th>messages</th>\n",
       "      <th>gb</th>\n",
       "      <th>city</th>\n",
       "      <th>plan</th>\n",
       "      <th>gb_extra</th>\n",
       "      <th>call_value</th>\n",
       "      <th>text_value</th>\n",
       "      <th>gb_value</th>\n",
       "      <th>total_usd</th>\n",
       "    </tr>\n",
       "  </thead>\n",
       "  <tbody>\n",
       "    <tr>\n",
       "      <th>1</th>\n",
       "      <td>1001</td>\n",
       "      <td>8</td>\n",
       "      <td>182.0</td>\n",
       "      <td>30.0</td>\n",
       "      <td>6.756982</td>\n",
       "      <td>Seattle-Tacoma-Bellevue, WA MSA</td>\n",
       "      <td>surf</td>\n",
       "      <td>-8.0</td>\n",
       "      <td>0.0</td>\n",
       "      <td>0.00</td>\n",
       "      <td>0.0</td>\n",
       "      <td>20.00</td>\n",
       "    </tr>\n",
       "    <tr>\n",
       "      <th>2</th>\n",
       "      <td>1001</td>\n",
       "      <td>9</td>\n",
       "      <td>315.0</td>\n",
       "      <td>44.0</td>\n",
       "      <td>13.002754</td>\n",
       "      <td>Seattle-Tacoma-Bellevue, WA MSA</td>\n",
       "      <td>surf</td>\n",
       "      <td>-2.0</td>\n",
       "      <td>0.0</td>\n",
       "      <td>0.00</td>\n",
       "      <td>0.0</td>\n",
       "      <td>20.00</td>\n",
       "    </tr>\n",
       "    <tr>\n",
       "      <th>3</th>\n",
       "      <td>1001</td>\n",
       "      <td>10</td>\n",
       "      <td>393.0</td>\n",
       "      <td>53.0</td>\n",
       "      <td>21.807119</td>\n",
       "      <td>Seattle-Tacoma-Bellevue, WA MSA</td>\n",
       "      <td>surf</td>\n",
       "      <td>7.0</td>\n",
       "      <td>0.0</td>\n",
       "      <td>0.09</td>\n",
       "      <td>70.0</td>\n",
       "      <td>90.09</td>\n",
       "    </tr>\n",
       "    <tr>\n",
       "      <th>4</th>\n",
       "      <td>1001</td>\n",
       "      <td>11</td>\n",
       "      <td>426.0</td>\n",
       "      <td>36.0</td>\n",
       "      <td>18.070605</td>\n",
       "      <td>Seattle-Tacoma-Bellevue, WA MSA</td>\n",
       "      <td>surf</td>\n",
       "      <td>3.0</td>\n",
       "      <td>0.0</td>\n",
       "      <td>0.00</td>\n",
       "      <td>30.0</td>\n",
       "      <td>50.00</td>\n",
       "    </tr>\n",
       "    <tr>\n",
       "      <th>5</th>\n",
       "      <td>1001</td>\n",
       "      <td>12</td>\n",
       "      <td>412.0</td>\n",
       "      <td>44.0</td>\n",
       "      <td>18.915215</td>\n",
       "      <td>Seattle-Tacoma-Bellevue, WA MSA</td>\n",
       "      <td>surf</td>\n",
       "      <td>4.0</td>\n",
       "      <td>0.0</td>\n",
       "      <td>0.00</td>\n",
       "      <td>40.0</td>\n",
       "      <td>60.00</td>\n",
       "    </tr>\n",
       "    <tr>\n",
       "      <th>...</th>\n",
       "      <td>...</td>\n",
       "      <td>...</td>\n",
       "      <td>...</td>\n",
       "      <td>...</td>\n",
       "      <td>...</td>\n",
       "      <td>...</td>\n",
       "      <td>...</td>\n",
       "      <td>...</td>\n",
       "      <td>...</td>\n",
       "      <td>...</td>\n",
       "      <td>...</td>\n",
       "      <td>...</td>\n",
       "    </tr>\n",
       "    <tr>\n",
       "      <th>2253</th>\n",
       "      <td>1498</td>\n",
       "      <td>12</td>\n",
       "      <td>339.0</td>\n",
       "      <td>NaN</td>\n",
       "      <td>22.595400</td>\n",
       "      <td>New York-Newark-Jersey City, NY-NJ-PA MSA</td>\n",
       "      <td>surf</td>\n",
       "      <td>8.0</td>\n",
       "      <td>0.0</td>\n",
       "      <td>0.00</td>\n",
       "      <td>80.0</td>\n",
       "      <td>100.00</td>\n",
       "    </tr>\n",
       "    <tr>\n",
       "      <th>2254</th>\n",
       "      <td>1499</td>\n",
       "      <td>9</td>\n",
       "      <td>346.0</td>\n",
       "      <td>NaN</td>\n",
       "      <td>12.680430</td>\n",
       "      <td>Orlando-Kissimmee-Sanford, FL MSA</td>\n",
       "      <td>surf</td>\n",
       "      <td>-2.0</td>\n",
       "      <td>0.0</td>\n",
       "      <td>0.00</td>\n",
       "      <td>0.0</td>\n",
       "      <td>20.00</td>\n",
       "    </tr>\n",
       "    <tr>\n",
       "      <th>2255</th>\n",
       "      <td>1499</td>\n",
       "      <td>10</td>\n",
       "      <td>385.0</td>\n",
       "      <td>NaN</td>\n",
       "      <td>19.035576</td>\n",
       "      <td>Orlando-Kissimmee-Sanford, FL MSA</td>\n",
       "      <td>surf</td>\n",
       "      <td>4.0</td>\n",
       "      <td>0.0</td>\n",
       "      <td>0.00</td>\n",
       "      <td>40.0</td>\n",
       "      <td>60.00</td>\n",
       "    </tr>\n",
       "    <tr>\n",
       "      <th>2256</th>\n",
       "      <td>1499</td>\n",
       "      <td>11</td>\n",
       "      <td>308.0</td>\n",
       "      <td>NaN</td>\n",
       "      <td>16.419756</td>\n",
       "      <td>Orlando-Kissimmee-Sanford, FL MSA</td>\n",
       "      <td>surf</td>\n",
       "      <td>2.0</td>\n",
       "      <td>0.0</td>\n",
       "      <td>0.00</td>\n",
       "      <td>20.0</td>\n",
       "      <td>40.00</td>\n",
       "    </tr>\n",
       "    <tr>\n",
       "      <th>2257</th>\n",
       "      <td>1499</td>\n",
       "      <td>12</td>\n",
       "      <td>496.0</td>\n",
       "      <td>NaN</td>\n",
       "      <td>21.542197</td>\n",
       "      <td>Orlando-Kissimmee-Sanford, FL MSA</td>\n",
       "      <td>surf</td>\n",
       "      <td>7.0</td>\n",
       "      <td>0.0</td>\n",
       "      <td>0.00</td>\n",
       "      <td>70.0</td>\n",
       "      <td>90.00</td>\n",
       "    </tr>\n",
       "  </tbody>\n",
       "</table>\n",
       "<p>1545 rows × 12 columns</p>\n",
       "</div>"
      ],
      "text/plain": [
       "      user_id  month  total_call  messages         gb  \\\n",
       "1        1001      8       182.0      30.0   6.756982   \n",
       "2        1001      9       315.0      44.0  13.002754   \n",
       "3        1001     10       393.0      53.0  21.807119   \n",
       "4        1001     11       426.0      36.0  18.070605   \n",
       "5        1001     12       412.0      44.0  18.915215   \n",
       "...       ...    ...         ...       ...        ...   \n",
       "2253     1498     12       339.0       NaN  22.595400   \n",
       "2254     1499      9       346.0       NaN  12.680430   \n",
       "2255     1499     10       385.0       NaN  19.035576   \n",
       "2256     1499     11       308.0       NaN  16.419756   \n",
       "2257     1499     12       496.0       NaN  21.542197   \n",
       "\n",
       "                                           city  plan  gb_extra  call_value  \\\n",
       "1               Seattle-Tacoma-Bellevue, WA MSA  surf      -8.0         0.0   \n",
       "2               Seattle-Tacoma-Bellevue, WA MSA  surf      -2.0         0.0   \n",
       "3               Seattle-Tacoma-Bellevue, WA MSA  surf       7.0         0.0   \n",
       "4               Seattle-Tacoma-Bellevue, WA MSA  surf       3.0         0.0   \n",
       "5               Seattle-Tacoma-Bellevue, WA MSA  surf       4.0         0.0   \n",
       "...                                         ...   ...       ...         ...   \n",
       "2253  New York-Newark-Jersey City, NY-NJ-PA MSA  surf       8.0         0.0   \n",
       "2254          Orlando-Kissimmee-Sanford, FL MSA  surf      -2.0         0.0   \n",
       "2255          Orlando-Kissimmee-Sanford, FL MSA  surf       4.0         0.0   \n",
       "2256          Orlando-Kissimmee-Sanford, FL MSA  surf       2.0         0.0   \n",
       "2257          Orlando-Kissimmee-Sanford, FL MSA  surf       7.0         0.0   \n",
       "\n",
       "      text_value  gb_value  total_usd  \n",
       "1           0.00       0.0      20.00  \n",
       "2           0.00       0.0      20.00  \n",
       "3           0.09      70.0      90.09  \n",
       "4           0.00      30.0      50.00  \n",
       "5           0.00      40.0      60.00  \n",
       "...          ...       ...        ...  \n",
       "2253        0.00      80.0     100.00  \n",
       "2254        0.00       0.0      20.00  \n",
       "2255        0.00      40.0      60.00  \n",
       "2256        0.00      20.0      40.00  \n",
       "2257        0.00      70.0      90.00  \n",
       "\n",
       "[1545 rows x 12 columns]"
      ]
     },
     "execution_count": 47,
     "metadata": {},
     "output_type": "execute_result"
    }
   ],
   "source": [
    "agg_surf['total_usd'] = 20 + agg_surf['call_value'] + agg_surf['text_value'] + agg_surf['gb_value']\n",
    "agg_surf"
   ]
  },
  {
   "cell_type": "code",
   "execution_count": 48,
   "metadata": {},
   "outputs": [],
   "source": [
    "agg_ult['gb_extra'] = agg_ult['gb'] - 30.72"
   ]
  },
  {
   "cell_type": "code",
   "execution_count": 49,
   "metadata": {},
   "outputs": [],
   "source": [
    "agg_ult['gb_extra'] = agg_ult['gb_extra'].apply(np.ceil)"
   ]
  },
  {
   "cell_type": "code",
   "execution_count": 50,
   "metadata": {},
   "outputs": [],
   "source": [
    "agg_ult['call_value'] = (agg_ult['total_call'] - 3000)*.01"
   ]
  },
  {
   "cell_type": "code",
   "execution_count": 51,
   "metadata": {},
   "outputs": [],
   "source": [
    "agg_ult['text_value'] = (agg_ult['messages'] - 1000)* 0.01"
   ]
  },
  {
   "cell_type": "code",
   "execution_count": 52,
   "metadata": {},
   "outputs": [],
   "source": [
    "agg_ult['gb_value'] = agg_ult['gb_extra'] * 7"
   ]
  },
  {
   "cell_type": "code",
   "execution_count": 53,
   "metadata": {},
   "outputs": [
    {
     "data": {
      "text/html": [
       "<div>\n",
       "<style scoped>\n",
       "    .dataframe tbody tr th:only-of-type {\n",
       "        vertical-align: middle;\n",
       "    }\n",
       "\n",
       "    .dataframe tbody tr th {\n",
       "        vertical-align: top;\n",
       "    }\n",
       "\n",
       "    .dataframe thead th {\n",
       "        text-align: right;\n",
       "    }\n",
       "</style>\n",
       "<table border=\"1\" class=\"dataframe\">\n",
       "  <thead>\n",
       "    <tr style=\"text-align: right;\">\n",
       "      <th></th>\n",
       "      <th>user_id</th>\n",
       "      <th>month</th>\n",
       "      <th>total_call</th>\n",
       "      <th>messages</th>\n",
       "      <th>gb</th>\n",
       "      <th>city</th>\n",
       "      <th>plan</th>\n",
       "      <th>gb_extra</th>\n",
       "      <th>call_value</th>\n",
       "      <th>text_value</th>\n",
       "      <th>gb_value</th>\n",
       "    </tr>\n",
       "  </thead>\n",
       "  <tbody>\n",
       "    <tr>\n",
       "      <th>0</th>\n",
       "      <td>1000</td>\n",
       "      <td>12</td>\n",
       "      <td>124.0</td>\n",
       "      <td>11.0</td>\n",
       "      <td>1.856904</td>\n",
       "      <td>Atlanta-Sandy Springs-Roswell, GA MSA</td>\n",
       "      <td>ultimate</td>\n",
       "      <td>-28.0</td>\n",
       "      <td>-28.76</td>\n",
       "      <td>-9.89</td>\n",
       "      <td>-196.0</td>\n",
       "    </tr>\n",
       "    <tr>\n",
       "      <th>19</th>\n",
       "      <td>1006</td>\n",
       "      <td>11</td>\n",
       "      <td>10.0</td>\n",
       "      <td>15.0</td>\n",
       "      <td>2.019893</td>\n",
       "      <td>San Francisco-Oakland-Berkeley, CA MSA</td>\n",
       "      <td>ultimate</td>\n",
       "      <td>-28.0</td>\n",
       "      <td>-29.90</td>\n",
       "      <td>-9.85</td>\n",
       "      <td>-196.0</td>\n",
       "    </tr>\n",
       "    <tr>\n",
       "      <th>20</th>\n",
       "      <td>1006</td>\n",
       "      <td>12</td>\n",
       "      <td>59.0</td>\n",
       "      <td>139.0</td>\n",
       "      <td>31.366035</td>\n",
       "      <td>San Francisco-Oakland-Berkeley, CA MSA</td>\n",
       "      <td>ultimate</td>\n",
       "      <td>1.0</td>\n",
       "      <td>-29.41</td>\n",
       "      <td>-8.61</td>\n",
       "      <td>7.0</td>\n",
       "    </tr>\n",
       "    <tr>\n",
       "      <th>26</th>\n",
       "      <td>1008</td>\n",
       "      <td>10</td>\n",
       "      <td>476.0</td>\n",
       "      <td>21.0</td>\n",
       "      <td>16.706045</td>\n",
       "      <td>Orlando-Kissimmee-Sanford, FL MSA</td>\n",
       "      <td>ultimate</td>\n",
       "      <td>-14.0</td>\n",
       "      <td>-25.24</td>\n",
       "      <td>-9.79</td>\n",
       "      <td>-98.0</td>\n",
       "    </tr>\n",
       "    <tr>\n",
       "      <th>27</th>\n",
       "      <td>1008</td>\n",
       "      <td>11</td>\n",
       "      <td>446.0</td>\n",
       "      <td>37.0</td>\n",
       "      <td>23.121797</td>\n",
       "      <td>Orlando-Kissimmee-Sanford, FL MSA</td>\n",
       "      <td>ultimate</td>\n",
       "      <td>-7.0</td>\n",
       "      <td>-25.54</td>\n",
       "      <td>-9.63</td>\n",
       "      <td>-49.0</td>\n",
       "    </tr>\n",
       "    <tr>\n",
       "      <th>...</th>\n",
       "      <td>...</td>\n",
       "      <td>...</td>\n",
       "      <td>...</td>\n",
       "      <td>...</td>\n",
       "      <td>...</td>\n",
       "      <td>...</td>\n",
       "      <td>...</td>\n",
       "      <td>...</td>\n",
       "      <td>...</td>\n",
       "      <td>...</td>\n",
       "      <td>...</td>\n",
       "    </tr>\n",
       "    <tr>\n",
       "      <th>2223</th>\n",
       "      <td>1493</td>\n",
       "      <td>9</td>\n",
       "      <td>529.0</td>\n",
       "      <td>NaN</td>\n",
       "      <td>14.639814</td>\n",
       "      <td>Boston-Cambridge-Newton, MA-NH MSA</td>\n",
       "      <td>ultimate</td>\n",
       "      <td>-16.0</td>\n",
       "      <td>-24.71</td>\n",
       "      <td>NaN</td>\n",
       "      <td>-112.0</td>\n",
       "    </tr>\n",
       "    <tr>\n",
       "      <th>2224</th>\n",
       "      <td>1493</td>\n",
       "      <td>10</td>\n",
       "      <td>450.0</td>\n",
       "      <td>NaN</td>\n",
       "      <td>15.946846</td>\n",
       "      <td>Boston-Cambridge-Newton, MA-NH MSA</td>\n",
       "      <td>ultimate</td>\n",
       "      <td>-14.0</td>\n",
       "      <td>-25.50</td>\n",
       "      <td>NaN</td>\n",
       "      <td>-98.0</td>\n",
       "    </tr>\n",
       "    <tr>\n",
       "      <th>2225</th>\n",
       "      <td>1493</td>\n",
       "      <td>11</td>\n",
       "      <td>500.0</td>\n",
       "      <td>NaN</td>\n",
       "      <td>15.264434</td>\n",
       "      <td>Boston-Cambridge-Newton, MA-NH MSA</td>\n",
       "      <td>ultimate</td>\n",
       "      <td>-15.0</td>\n",
       "      <td>-25.00</td>\n",
       "      <td>NaN</td>\n",
       "      <td>-105.0</td>\n",
       "    </tr>\n",
       "    <tr>\n",
       "      <th>2226</th>\n",
       "      <td>1493</td>\n",
       "      <td>12</td>\n",
       "      <td>473.0</td>\n",
       "      <td>NaN</td>\n",
       "      <td>14.930752</td>\n",
       "      <td>Boston-Cambridge-Newton, MA-NH MSA</td>\n",
       "      <td>ultimate</td>\n",
       "      <td>-15.0</td>\n",
       "      <td>-25.27</td>\n",
       "      <td>NaN</td>\n",
       "      <td>-105.0</td>\n",
       "    </tr>\n",
       "    <tr>\n",
       "      <th>2242</th>\n",
       "      <td>1497</td>\n",
       "      <td>12</td>\n",
       "      <td>300.0</td>\n",
       "      <td>50.0</td>\n",
       "      <td>10.846240</td>\n",
       "      <td>Los Angeles-Long Beach-Anaheim, CA MSA</td>\n",
       "      <td>ultimate</td>\n",
       "      <td>-19.0</td>\n",
       "      <td>-27.00</td>\n",
       "      <td>-9.50</td>\n",
       "      <td>-133.0</td>\n",
       "    </tr>\n",
       "  </tbody>\n",
       "</table>\n",
       "<p>713 rows × 11 columns</p>\n",
       "</div>"
      ],
      "text/plain": [
       "      user_id  month  total_call  messages         gb  \\\n",
       "0        1000     12       124.0      11.0   1.856904   \n",
       "19       1006     11        10.0      15.0   2.019893   \n",
       "20       1006     12        59.0     139.0  31.366035   \n",
       "26       1008     10       476.0      21.0  16.706045   \n",
       "27       1008     11       446.0      37.0  23.121797   \n",
       "...       ...    ...         ...       ...        ...   \n",
       "2223     1493      9       529.0       NaN  14.639814   \n",
       "2224     1493     10       450.0       NaN  15.946846   \n",
       "2225     1493     11       500.0       NaN  15.264434   \n",
       "2226     1493     12       473.0       NaN  14.930752   \n",
       "2242     1497     12       300.0      50.0  10.846240   \n",
       "\n",
       "                                        city      plan  gb_extra  call_value  \\\n",
       "0      Atlanta-Sandy Springs-Roswell, GA MSA  ultimate     -28.0      -28.76   \n",
       "19    San Francisco-Oakland-Berkeley, CA MSA  ultimate     -28.0      -29.90   \n",
       "20    San Francisco-Oakland-Berkeley, CA MSA  ultimate       1.0      -29.41   \n",
       "26         Orlando-Kissimmee-Sanford, FL MSA  ultimate     -14.0      -25.24   \n",
       "27         Orlando-Kissimmee-Sanford, FL MSA  ultimate      -7.0      -25.54   \n",
       "...                                      ...       ...       ...         ...   \n",
       "2223      Boston-Cambridge-Newton, MA-NH MSA  ultimate     -16.0      -24.71   \n",
       "2224      Boston-Cambridge-Newton, MA-NH MSA  ultimate     -14.0      -25.50   \n",
       "2225      Boston-Cambridge-Newton, MA-NH MSA  ultimate     -15.0      -25.00   \n",
       "2226      Boston-Cambridge-Newton, MA-NH MSA  ultimate     -15.0      -25.27   \n",
       "2242  Los Angeles-Long Beach-Anaheim, CA MSA  ultimate     -19.0      -27.00   \n",
       "\n",
       "      text_value  gb_value  \n",
       "0          -9.89    -196.0  \n",
       "19         -9.85    -196.0  \n",
       "20         -8.61       7.0  \n",
       "26         -9.79     -98.0  \n",
       "27         -9.63     -49.0  \n",
       "...          ...       ...  \n",
       "2223         NaN    -112.0  \n",
       "2224         NaN     -98.0  \n",
       "2225         NaN    -105.0  \n",
       "2226         NaN    -105.0  \n",
       "2242       -9.50    -133.0  \n",
       "\n",
       "[713 rows x 11 columns]"
      ]
     },
     "execution_count": 53,
     "metadata": {},
     "output_type": "execute_result"
    }
   ],
   "source": [
    "agg_ult"
   ]
  },
  {
   "cell_type": "code",
   "execution_count": 54,
   "metadata": {},
   "outputs": [],
   "source": [
    "agg_ult_neg = agg_ult[['call_value', 'text_value', 'gb_value']]"
   ]
  },
  {
   "cell_type": "code",
   "execution_count": 55,
   "metadata": {},
   "outputs": [
    {
     "data": {
      "text/html": [
       "<div>\n",
       "<style scoped>\n",
       "    .dataframe tbody tr th:only-of-type {\n",
       "        vertical-align: middle;\n",
       "    }\n",
       "\n",
       "    .dataframe tbody tr th {\n",
       "        vertical-align: top;\n",
       "    }\n",
       "\n",
       "    .dataframe thead th {\n",
       "        text-align: right;\n",
       "    }\n",
       "</style>\n",
       "<table border=\"1\" class=\"dataframe\">\n",
       "  <thead>\n",
       "    <tr style=\"text-align: right;\">\n",
       "      <th></th>\n",
       "      <th>call_value</th>\n",
       "      <th>text_value</th>\n",
       "      <th>gb_value</th>\n",
       "    </tr>\n",
       "  </thead>\n",
       "  <tbody>\n",
       "    <tr>\n",
       "      <th>0</th>\n",
       "      <td>0.0</td>\n",
       "      <td>0.0</td>\n",
       "      <td>0.0</td>\n",
       "    </tr>\n",
       "    <tr>\n",
       "      <th>19</th>\n",
       "      <td>0.0</td>\n",
       "      <td>0.0</td>\n",
       "      <td>0.0</td>\n",
       "    </tr>\n",
       "    <tr>\n",
       "      <th>20</th>\n",
       "      <td>0.0</td>\n",
       "      <td>0.0</td>\n",
       "      <td>7.0</td>\n",
       "    </tr>\n",
       "    <tr>\n",
       "      <th>26</th>\n",
       "      <td>0.0</td>\n",
       "      <td>0.0</td>\n",
       "      <td>0.0</td>\n",
       "    </tr>\n",
       "    <tr>\n",
       "      <th>27</th>\n",
       "      <td>0.0</td>\n",
       "      <td>0.0</td>\n",
       "      <td>0.0</td>\n",
       "    </tr>\n",
       "    <tr>\n",
       "      <th>...</th>\n",
       "      <td>...</td>\n",
       "      <td>...</td>\n",
       "      <td>...</td>\n",
       "    </tr>\n",
       "    <tr>\n",
       "      <th>2223</th>\n",
       "      <td>0.0</td>\n",
       "      <td>0.0</td>\n",
       "      <td>0.0</td>\n",
       "    </tr>\n",
       "    <tr>\n",
       "      <th>2224</th>\n",
       "      <td>0.0</td>\n",
       "      <td>0.0</td>\n",
       "      <td>0.0</td>\n",
       "    </tr>\n",
       "    <tr>\n",
       "      <th>2225</th>\n",
       "      <td>0.0</td>\n",
       "      <td>0.0</td>\n",
       "      <td>0.0</td>\n",
       "    </tr>\n",
       "    <tr>\n",
       "      <th>2226</th>\n",
       "      <td>0.0</td>\n",
       "      <td>0.0</td>\n",
       "      <td>0.0</td>\n",
       "    </tr>\n",
       "    <tr>\n",
       "      <th>2242</th>\n",
       "      <td>0.0</td>\n",
       "      <td>0.0</td>\n",
       "      <td>0.0</td>\n",
       "    </tr>\n",
       "  </tbody>\n",
       "</table>\n",
       "<p>713 rows × 3 columns</p>\n",
       "</div>"
      ],
      "text/plain": [
       "      call_value  text_value  gb_value\n",
       "0            0.0         0.0       0.0\n",
       "19           0.0         0.0       0.0\n",
       "20           0.0         0.0       7.0\n",
       "26           0.0         0.0       0.0\n",
       "27           0.0         0.0       0.0\n",
       "...          ...         ...       ...\n",
       "2223         0.0         0.0       0.0\n",
       "2224         0.0         0.0       0.0\n",
       "2225         0.0         0.0       0.0\n",
       "2226         0.0         0.0       0.0\n",
       "2242         0.0         0.0       0.0\n",
       "\n",
       "[713 rows x 3 columns]"
      ]
     },
     "execution_count": 55,
     "metadata": {},
     "output_type": "execute_result"
    }
   ],
   "source": [
    "agg_ult_neg.fillna(0, inplace=True)\n",
    "agg_ult_neg[agg_ult_neg < 0] = 0\n",
    "agg_ult_neg"
   ]
  },
  {
   "cell_type": "code",
   "execution_count": 56,
   "metadata": {},
   "outputs": [],
   "source": [
    "agg_ult['call_value'] = agg_ult_neg['call_value']\n",
    "agg_ult['text_value'] = agg_ult_neg['text_value']\n",
    "agg_ult['gb_value'] = agg_ult_neg['gb_value']"
   ]
  },
  {
   "cell_type": "code",
   "execution_count": 57,
   "metadata": {},
   "outputs": [
    {
     "data": {
      "text/html": [
       "<div>\n",
       "<style scoped>\n",
       "    .dataframe tbody tr th:only-of-type {\n",
       "        vertical-align: middle;\n",
       "    }\n",
       "\n",
       "    .dataframe tbody tr th {\n",
       "        vertical-align: top;\n",
       "    }\n",
       "\n",
       "    .dataframe thead th {\n",
       "        text-align: right;\n",
       "    }\n",
       "</style>\n",
       "<table border=\"1\" class=\"dataframe\">\n",
       "  <thead>\n",
       "    <tr style=\"text-align: right;\">\n",
       "      <th></th>\n",
       "      <th>user_id</th>\n",
       "      <th>month</th>\n",
       "      <th>total_call</th>\n",
       "      <th>messages</th>\n",
       "      <th>gb</th>\n",
       "      <th>city</th>\n",
       "      <th>plan</th>\n",
       "      <th>gb_extra</th>\n",
       "      <th>call_value</th>\n",
       "      <th>text_value</th>\n",
       "      <th>gb_value</th>\n",
       "      <th>total_usd</th>\n",
       "    </tr>\n",
       "  </thead>\n",
       "  <tbody>\n",
       "    <tr>\n",
       "      <th>0</th>\n",
       "      <td>1000</td>\n",
       "      <td>12</td>\n",
       "      <td>124.0</td>\n",
       "      <td>11.0</td>\n",
       "      <td>1.856904</td>\n",
       "      <td>Atlanta-Sandy Springs-Roswell, GA MSA</td>\n",
       "      <td>ultimate</td>\n",
       "      <td>-28.0</td>\n",
       "      <td>0.0</td>\n",
       "      <td>0.0</td>\n",
       "      <td>0.0</td>\n",
       "      <td>70.0</td>\n",
       "    </tr>\n",
       "    <tr>\n",
       "      <th>19</th>\n",
       "      <td>1006</td>\n",
       "      <td>11</td>\n",
       "      <td>10.0</td>\n",
       "      <td>15.0</td>\n",
       "      <td>2.019893</td>\n",
       "      <td>San Francisco-Oakland-Berkeley, CA MSA</td>\n",
       "      <td>ultimate</td>\n",
       "      <td>-28.0</td>\n",
       "      <td>0.0</td>\n",
       "      <td>0.0</td>\n",
       "      <td>0.0</td>\n",
       "      <td>70.0</td>\n",
       "    </tr>\n",
       "    <tr>\n",
       "      <th>20</th>\n",
       "      <td>1006</td>\n",
       "      <td>12</td>\n",
       "      <td>59.0</td>\n",
       "      <td>139.0</td>\n",
       "      <td>31.366035</td>\n",
       "      <td>San Francisco-Oakland-Berkeley, CA MSA</td>\n",
       "      <td>ultimate</td>\n",
       "      <td>1.0</td>\n",
       "      <td>0.0</td>\n",
       "      <td>0.0</td>\n",
       "      <td>7.0</td>\n",
       "      <td>77.0</td>\n",
       "    </tr>\n",
       "    <tr>\n",
       "      <th>26</th>\n",
       "      <td>1008</td>\n",
       "      <td>10</td>\n",
       "      <td>476.0</td>\n",
       "      <td>21.0</td>\n",
       "      <td>16.706045</td>\n",
       "      <td>Orlando-Kissimmee-Sanford, FL MSA</td>\n",
       "      <td>ultimate</td>\n",
       "      <td>-14.0</td>\n",
       "      <td>0.0</td>\n",
       "      <td>0.0</td>\n",
       "      <td>0.0</td>\n",
       "      <td>70.0</td>\n",
       "    </tr>\n",
       "    <tr>\n",
       "      <th>27</th>\n",
       "      <td>1008</td>\n",
       "      <td>11</td>\n",
       "      <td>446.0</td>\n",
       "      <td>37.0</td>\n",
       "      <td>23.121797</td>\n",
       "      <td>Orlando-Kissimmee-Sanford, FL MSA</td>\n",
       "      <td>ultimate</td>\n",
       "      <td>-7.0</td>\n",
       "      <td>0.0</td>\n",
       "      <td>0.0</td>\n",
       "      <td>0.0</td>\n",
       "      <td>70.0</td>\n",
       "    </tr>\n",
       "    <tr>\n",
       "      <th>...</th>\n",
       "      <td>...</td>\n",
       "      <td>...</td>\n",
       "      <td>...</td>\n",
       "      <td>...</td>\n",
       "      <td>...</td>\n",
       "      <td>...</td>\n",
       "      <td>...</td>\n",
       "      <td>...</td>\n",
       "      <td>...</td>\n",
       "      <td>...</td>\n",
       "      <td>...</td>\n",
       "      <td>...</td>\n",
       "    </tr>\n",
       "    <tr>\n",
       "      <th>2223</th>\n",
       "      <td>1493</td>\n",
       "      <td>9</td>\n",
       "      <td>529.0</td>\n",
       "      <td>NaN</td>\n",
       "      <td>14.639814</td>\n",
       "      <td>Boston-Cambridge-Newton, MA-NH MSA</td>\n",
       "      <td>ultimate</td>\n",
       "      <td>-16.0</td>\n",
       "      <td>0.0</td>\n",
       "      <td>0.0</td>\n",
       "      <td>0.0</td>\n",
       "      <td>70.0</td>\n",
       "    </tr>\n",
       "    <tr>\n",
       "      <th>2224</th>\n",
       "      <td>1493</td>\n",
       "      <td>10</td>\n",
       "      <td>450.0</td>\n",
       "      <td>NaN</td>\n",
       "      <td>15.946846</td>\n",
       "      <td>Boston-Cambridge-Newton, MA-NH MSA</td>\n",
       "      <td>ultimate</td>\n",
       "      <td>-14.0</td>\n",
       "      <td>0.0</td>\n",
       "      <td>0.0</td>\n",
       "      <td>0.0</td>\n",
       "      <td>70.0</td>\n",
       "    </tr>\n",
       "    <tr>\n",
       "      <th>2225</th>\n",
       "      <td>1493</td>\n",
       "      <td>11</td>\n",
       "      <td>500.0</td>\n",
       "      <td>NaN</td>\n",
       "      <td>15.264434</td>\n",
       "      <td>Boston-Cambridge-Newton, MA-NH MSA</td>\n",
       "      <td>ultimate</td>\n",
       "      <td>-15.0</td>\n",
       "      <td>0.0</td>\n",
       "      <td>0.0</td>\n",
       "      <td>0.0</td>\n",
       "      <td>70.0</td>\n",
       "    </tr>\n",
       "    <tr>\n",
       "      <th>2226</th>\n",
       "      <td>1493</td>\n",
       "      <td>12</td>\n",
       "      <td>473.0</td>\n",
       "      <td>NaN</td>\n",
       "      <td>14.930752</td>\n",
       "      <td>Boston-Cambridge-Newton, MA-NH MSA</td>\n",
       "      <td>ultimate</td>\n",
       "      <td>-15.0</td>\n",
       "      <td>0.0</td>\n",
       "      <td>0.0</td>\n",
       "      <td>0.0</td>\n",
       "      <td>70.0</td>\n",
       "    </tr>\n",
       "    <tr>\n",
       "      <th>2242</th>\n",
       "      <td>1497</td>\n",
       "      <td>12</td>\n",
       "      <td>300.0</td>\n",
       "      <td>50.0</td>\n",
       "      <td>10.846240</td>\n",
       "      <td>Los Angeles-Long Beach-Anaheim, CA MSA</td>\n",
       "      <td>ultimate</td>\n",
       "      <td>-19.0</td>\n",
       "      <td>0.0</td>\n",
       "      <td>0.0</td>\n",
       "      <td>0.0</td>\n",
       "      <td>70.0</td>\n",
       "    </tr>\n",
       "  </tbody>\n",
       "</table>\n",
       "<p>713 rows × 12 columns</p>\n",
       "</div>"
      ],
      "text/plain": [
       "      user_id  month  total_call  messages         gb  \\\n",
       "0        1000     12       124.0      11.0   1.856904   \n",
       "19       1006     11        10.0      15.0   2.019893   \n",
       "20       1006     12        59.0     139.0  31.366035   \n",
       "26       1008     10       476.0      21.0  16.706045   \n",
       "27       1008     11       446.0      37.0  23.121797   \n",
       "...       ...    ...         ...       ...        ...   \n",
       "2223     1493      9       529.0       NaN  14.639814   \n",
       "2224     1493     10       450.0       NaN  15.946846   \n",
       "2225     1493     11       500.0       NaN  15.264434   \n",
       "2226     1493     12       473.0       NaN  14.930752   \n",
       "2242     1497     12       300.0      50.0  10.846240   \n",
       "\n",
       "                                        city      plan  gb_extra  call_value  \\\n",
       "0      Atlanta-Sandy Springs-Roswell, GA MSA  ultimate     -28.0         0.0   \n",
       "19    San Francisco-Oakland-Berkeley, CA MSA  ultimate     -28.0         0.0   \n",
       "20    San Francisco-Oakland-Berkeley, CA MSA  ultimate       1.0         0.0   \n",
       "26         Orlando-Kissimmee-Sanford, FL MSA  ultimate     -14.0         0.0   \n",
       "27         Orlando-Kissimmee-Sanford, FL MSA  ultimate      -7.0         0.0   \n",
       "...                                      ...       ...       ...         ...   \n",
       "2223      Boston-Cambridge-Newton, MA-NH MSA  ultimate     -16.0         0.0   \n",
       "2224      Boston-Cambridge-Newton, MA-NH MSA  ultimate     -14.0         0.0   \n",
       "2225      Boston-Cambridge-Newton, MA-NH MSA  ultimate     -15.0         0.0   \n",
       "2226      Boston-Cambridge-Newton, MA-NH MSA  ultimate     -15.0         0.0   \n",
       "2242  Los Angeles-Long Beach-Anaheim, CA MSA  ultimate     -19.0         0.0   \n",
       "\n",
       "      text_value  gb_value  total_usd  \n",
       "0            0.0       0.0       70.0  \n",
       "19           0.0       0.0       70.0  \n",
       "20           0.0       7.0       77.0  \n",
       "26           0.0       0.0       70.0  \n",
       "27           0.0       0.0       70.0  \n",
       "...          ...       ...        ...  \n",
       "2223         0.0       0.0       70.0  \n",
       "2224         0.0       0.0       70.0  \n",
       "2225         0.0       0.0       70.0  \n",
       "2226         0.0       0.0       70.0  \n",
       "2242         0.0       0.0       70.0  \n",
       "\n",
       "[713 rows x 12 columns]"
      ]
     },
     "execution_count": 57,
     "metadata": {},
     "output_type": "execute_result"
    }
   ],
   "source": [
    "agg_ult['total_usd'] = 70 + agg_ult['call_value'] + agg_ult['text_value'] + agg_ult['gb_value']\n",
    "agg_ult"
   ]
  },
  {
   "cell_type": "code",
   "execution_count": 58,
   "metadata": {},
   "outputs": [
    {
     "data": {
      "text/html": [
       "<div>\n",
       "<style scoped>\n",
       "    .dataframe tbody tr th:only-of-type {\n",
       "        vertical-align: middle;\n",
       "    }\n",
       "\n",
       "    .dataframe tbody tr th {\n",
       "        vertical-align: top;\n",
       "    }\n",
       "\n",
       "    .dataframe thead th {\n",
       "        text-align: right;\n",
       "    }\n",
       "</style>\n",
       "<table border=\"1\" class=\"dataframe\">\n",
       "  <thead>\n",
       "    <tr style=\"text-align: right;\">\n",
       "      <th></th>\n",
       "      <th>user_id</th>\n",
       "      <th>month</th>\n",
       "      <th>total_call</th>\n",
       "      <th>messages</th>\n",
       "      <th>gb</th>\n",
       "      <th>city</th>\n",
       "      <th>plan</th>\n",
       "      <th>gb_extra</th>\n",
       "      <th>call_value</th>\n",
       "      <th>text_value</th>\n",
       "      <th>gb_value</th>\n",
       "      <th>total_usd</th>\n",
       "    </tr>\n",
       "  </thead>\n",
       "  <tbody>\n",
       "    <tr>\n",
       "      <th>1</th>\n",
       "      <td>1001</td>\n",
       "      <td>8</td>\n",
       "      <td>182.0</td>\n",
       "      <td>30.0</td>\n",
       "      <td>6.756982</td>\n",
       "      <td>Seattle-Tacoma-Bellevue, WA MSA</td>\n",
       "      <td>surf</td>\n",
       "      <td>-8.0</td>\n",
       "      <td>0.0</td>\n",
       "      <td>0.00</td>\n",
       "      <td>0.0</td>\n",
       "      <td>20.00</td>\n",
       "    </tr>\n",
       "    <tr>\n",
       "      <th>2</th>\n",
       "      <td>1001</td>\n",
       "      <td>9</td>\n",
       "      <td>315.0</td>\n",
       "      <td>44.0</td>\n",
       "      <td>13.002754</td>\n",
       "      <td>Seattle-Tacoma-Bellevue, WA MSA</td>\n",
       "      <td>surf</td>\n",
       "      <td>-2.0</td>\n",
       "      <td>0.0</td>\n",
       "      <td>0.00</td>\n",
       "      <td>0.0</td>\n",
       "      <td>20.00</td>\n",
       "    </tr>\n",
       "    <tr>\n",
       "      <th>3</th>\n",
       "      <td>1001</td>\n",
       "      <td>10</td>\n",
       "      <td>393.0</td>\n",
       "      <td>53.0</td>\n",
       "      <td>21.807119</td>\n",
       "      <td>Seattle-Tacoma-Bellevue, WA MSA</td>\n",
       "      <td>surf</td>\n",
       "      <td>7.0</td>\n",
       "      <td>0.0</td>\n",
       "      <td>0.09</td>\n",
       "      <td>70.0</td>\n",
       "      <td>90.09</td>\n",
       "    </tr>\n",
       "    <tr>\n",
       "      <th>4</th>\n",
       "      <td>1001</td>\n",
       "      <td>11</td>\n",
       "      <td>426.0</td>\n",
       "      <td>36.0</td>\n",
       "      <td>18.070605</td>\n",
       "      <td>Seattle-Tacoma-Bellevue, WA MSA</td>\n",
       "      <td>surf</td>\n",
       "      <td>3.0</td>\n",
       "      <td>0.0</td>\n",
       "      <td>0.00</td>\n",
       "      <td>30.0</td>\n",
       "      <td>50.00</td>\n",
       "    </tr>\n",
       "    <tr>\n",
       "      <th>5</th>\n",
       "      <td>1001</td>\n",
       "      <td>12</td>\n",
       "      <td>412.0</td>\n",
       "      <td>44.0</td>\n",
       "      <td>18.915215</td>\n",
       "      <td>Seattle-Tacoma-Bellevue, WA MSA</td>\n",
       "      <td>surf</td>\n",
       "      <td>4.0</td>\n",
       "      <td>0.0</td>\n",
       "      <td>0.00</td>\n",
       "      <td>40.0</td>\n",
       "      <td>60.00</td>\n",
       "    </tr>\n",
       "    <tr>\n",
       "      <th>...</th>\n",
       "      <td>...</td>\n",
       "      <td>...</td>\n",
       "      <td>...</td>\n",
       "      <td>...</td>\n",
       "      <td>...</td>\n",
       "      <td>...</td>\n",
       "      <td>...</td>\n",
       "      <td>...</td>\n",
       "      <td>...</td>\n",
       "      <td>...</td>\n",
       "      <td>...</td>\n",
       "      <td>...</td>\n",
       "    </tr>\n",
       "    <tr>\n",
       "      <th>2253</th>\n",
       "      <td>1498</td>\n",
       "      <td>12</td>\n",
       "      <td>339.0</td>\n",
       "      <td>NaN</td>\n",
       "      <td>22.595400</td>\n",
       "      <td>New York-Newark-Jersey City, NY-NJ-PA MSA</td>\n",
       "      <td>surf</td>\n",
       "      <td>8.0</td>\n",
       "      <td>0.0</td>\n",
       "      <td>0.00</td>\n",
       "      <td>80.0</td>\n",
       "      <td>100.00</td>\n",
       "    </tr>\n",
       "    <tr>\n",
       "      <th>2254</th>\n",
       "      <td>1499</td>\n",
       "      <td>9</td>\n",
       "      <td>346.0</td>\n",
       "      <td>NaN</td>\n",
       "      <td>12.680430</td>\n",
       "      <td>Orlando-Kissimmee-Sanford, FL MSA</td>\n",
       "      <td>surf</td>\n",
       "      <td>-2.0</td>\n",
       "      <td>0.0</td>\n",
       "      <td>0.00</td>\n",
       "      <td>0.0</td>\n",
       "      <td>20.00</td>\n",
       "    </tr>\n",
       "    <tr>\n",
       "      <th>2255</th>\n",
       "      <td>1499</td>\n",
       "      <td>10</td>\n",
       "      <td>385.0</td>\n",
       "      <td>NaN</td>\n",
       "      <td>19.035576</td>\n",
       "      <td>Orlando-Kissimmee-Sanford, FL MSA</td>\n",
       "      <td>surf</td>\n",
       "      <td>4.0</td>\n",
       "      <td>0.0</td>\n",
       "      <td>0.00</td>\n",
       "      <td>40.0</td>\n",
       "      <td>60.00</td>\n",
       "    </tr>\n",
       "    <tr>\n",
       "      <th>2256</th>\n",
       "      <td>1499</td>\n",
       "      <td>11</td>\n",
       "      <td>308.0</td>\n",
       "      <td>NaN</td>\n",
       "      <td>16.419756</td>\n",
       "      <td>Orlando-Kissimmee-Sanford, FL MSA</td>\n",
       "      <td>surf</td>\n",
       "      <td>2.0</td>\n",
       "      <td>0.0</td>\n",
       "      <td>0.00</td>\n",
       "      <td>20.0</td>\n",
       "      <td>40.00</td>\n",
       "    </tr>\n",
       "    <tr>\n",
       "      <th>2257</th>\n",
       "      <td>1499</td>\n",
       "      <td>12</td>\n",
       "      <td>496.0</td>\n",
       "      <td>NaN</td>\n",
       "      <td>21.542197</td>\n",
       "      <td>Orlando-Kissimmee-Sanford, FL MSA</td>\n",
       "      <td>surf</td>\n",
       "      <td>7.0</td>\n",
       "      <td>0.0</td>\n",
       "      <td>0.00</td>\n",
       "      <td>70.0</td>\n",
       "      <td>90.00</td>\n",
       "    </tr>\n",
       "  </tbody>\n",
       "</table>\n",
       "<p>1545 rows × 12 columns</p>\n",
       "</div>"
      ],
      "text/plain": [
       "      user_id  month  total_call  messages         gb  \\\n",
       "1        1001      8       182.0      30.0   6.756982   \n",
       "2        1001      9       315.0      44.0  13.002754   \n",
       "3        1001     10       393.0      53.0  21.807119   \n",
       "4        1001     11       426.0      36.0  18.070605   \n",
       "5        1001     12       412.0      44.0  18.915215   \n",
       "...       ...    ...         ...       ...        ...   \n",
       "2253     1498     12       339.0       NaN  22.595400   \n",
       "2254     1499      9       346.0       NaN  12.680430   \n",
       "2255     1499     10       385.0       NaN  19.035576   \n",
       "2256     1499     11       308.0       NaN  16.419756   \n",
       "2257     1499     12       496.0       NaN  21.542197   \n",
       "\n",
       "                                           city  plan  gb_extra  call_value  \\\n",
       "1               Seattle-Tacoma-Bellevue, WA MSA  surf      -8.0         0.0   \n",
       "2               Seattle-Tacoma-Bellevue, WA MSA  surf      -2.0         0.0   \n",
       "3               Seattle-Tacoma-Bellevue, WA MSA  surf       7.0         0.0   \n",
       "4               Seattle-Tacoma-Bellevue, WA MSA  surf       3.0         0.0   \n",
       "5               Seattle-Tacoma-Bellevue, WA MSA  surf       4.0         0.0   \n",
       "...                                         ...   ...       ...         ...   \n",
       "2253  New York-Newark-Jersey City, NY-NJ-PA MSA  surf       8.0         0.0   \n",
       "2254          Orlando-Kissimmee-Sanford, FL MSA  surf      -2.0         0.0   \n",
       "2255          Orlando-Kissimmee-Sanford, FL MSA  surf       4.0         0.0   \n",
       "2256          Orlando-Kissimmee-Sanford, FL MSA  surf       2.0         0.0   \n",
       "2257          Orlando-Kissimmee-Sanford, FL MSA  surf       7.0         0.0   \n",
       "\n",
       "      text_value  gb_value  total_usd  \n",
       "1           0.00       0.0      20.00  \n",
       "2           0.00       0.0      20.00  \n",
       "3           0.09      70.0      90.09  \n",
       "4           0.00      30.0      50.00  \n",
       "5           0.00      40.0      60.00  \n",
       "...          ...       ...        ...  \n",
       "2253        0.00      80.0     100.00  \n",
       "2254        0.00       0.0      20.00  \n",
       "2255        0.00      40.0      60.00  \n",
       "2256        0.00      20.0      40.00  \n",
       "2257        0.00      70.0      90.00  \n",
       "\n",
       "[1545 rows x 12 columns]"
      ]
     },
     "execution_count": 58,
     "metadata": {},
     "output_type": "execute_result"
    }
   ],
   "source": [
    "# Calculate the monthly revenue for each user\n",
    "agg_surf\n"
   ]
  },
  {
   "cell_type": "code",
   "execution_count": 59,
   "metadata": {},
   "outputs": [
    {
     "data": {
      "text/html": [
       "<div>\n",
       "<style scoped>\n",
       "    .dataframe tbody tr th:only-of-type {\n",
       "        vertical-align: middle;\n",
       "    }\n",
       "\n",
       "    .dataframe tbody tr th {\n",
       "        vertical-align: top;\n",
       "    }\n",
       "\n",
       "    .dataframe thead th {\n",
       "        text-align: right;\n",
       "    }\n",
       "</style>\n",
       "<table border=\"1\" class=\"dataframe\">\n",
       "  <thead>\n",
       "    <tr style=\"text-align: right;\">\n",
       "      <th></th>\n",
       "      <th>user_id</th>\n",
       "      <th>month</th>\n",
       "      <th>total_call</th>\n",
       "      <th>messages</th>\n",
       "      <th>gb</th>\n",
       "      <th>city</th>\n",
       "      <th>plan</th>\n",
       "      <th>gb_extra</th>\n",
       "      <th>call_value</th>\n",
       "      <th>text_value</th>\n",
       "      <th>gb_value</th>\n",
       "      <th>total_usd</th>\n",
       "    </tr>\n",
       "  </thead>\n",
       "  <tbody>\n",
       "    <tr>\n",
       "      <th>0</th>\n",
       "      <td>1000</td>\n",
       "      <td>12</td>\n",
       "      <td>124.0</td>\n",
       "      <td>11.0</td>\n",
       "      <td>1.856904</td>\n",
       "      <td>Atlanta-Sandy Springs-Roswell, GA MSA</td>\n",
       "      <td>ultimate</td>\n",
       "      <td>-28.0</td>\n",
       "      <td>0.0</td>\n",
       "      <td>0.0</td>\n",
       "      <td>0.0</td>\n",
       "      <td>70.0</td>\n",
       "    </tr>\n",
       "    <tr>\n",
       "      <th>19</th>\n",
       "      <td>1006</td>\n",
       "      <td>11</td>\n",
       "      <td>10.0</td>\n",
       "      <td>15.0</td>\n",
       "      <td>2.019893</td>\n",
       "      <td>San Francisco-Oakland-Berkeley, CA MSA</td>\n",
       "      <td>ultimate</td>\n",
       "      <td>-28.0</td>\n",
       "      <td>0.0</td>\n",
       "      <td>0.0</td>\n",
       "      <td>0.0</td>\n",
       "      <td>70.0</td>\n",
       "    </tr>\n",
       "    <tr>\n",
       "      <th>20</th>\n",
       "      <td>1006</td>\n",
       "      <td>12</td>\n",
       "      <td>59.0</td>\n",
       "      <td>139.0</td>\n",
       "      <td>31.366035</td>\n",
       "      <td>San Francisco-Oakland-Berkeley, CA MSA</td>\n",
       "      <td>ultimate</td>\n",
       "      <td>1.0</td>\n",
       "      <td>0.0</td>\n",
       "      <td>0.0</td>\n",
       "      <td>7.0</td>\n",
       "      <td>77.0</td>\n",
       "    </tr>\n",
       "    <tr>\n",
       "      <th>26</th>\n",
       "      <td>1008</td>\n",
       "      <td>10</td>\n",
       "      <td>476.0</td>\n",
       "      <td>21.0</td>\n",
       "      <td>16.706045</td>\n",
       "      <td>Orlando-Kissimmee-Sanford, FL MSA</td>\n",
       "      <td>ultimate</td>\n",
       "      <td>-14.0</td>\n",
       "      <td>0.0</td>\n",
       "      <td>0.0</td>\n",
       "      <td>0.0</td>\n",
       "      <td>70.0</td>\n",
       "    </tr>\n",
       "    <tr>\n",
       "      <th>27</th>\n",
       "      <td>1008</td>\n",
       "      <td>11</td>\n",
       "      <td>446.0</td>\n",
       "      <td>37.0</td>\n",
       "      <td>23.121797</td>\n",
       "      <td>Orlando-Kissimmee-Sanford, FL MSA</td>\n",
       "      <td>ultimate</td>\n",
       "      <td>-7.0</td>\n",
       "      <td>0.0</td>\n",
       "      <td>0.0</td>\n",
       "      <td>0.0</td>\n",
       "      <td>70.0</td>\n",
       "    </tr>\n",
       "    <tr>\n",
       "      <th>...</th>\n",
       "      <td>...</td>\n",
       "      <td>...</td>\n",
       "      <td>...</td>\n",
       "      <td>...</td>\n",
       "      <td>...</td>\n",
       "      <td>...</td>\n",
       "      <td>...</td>\n",
       "      <td>...</td>\n",
       "      <td>...</td>\n",
       "      <td>...</td>\n",
       "      <td>...</td>\n",
       "      <td>...</td>\n",
       "    </tr>\n",
       "    <tr>\n",
       "      <th>2223</th>\n",
       "      <td>1493</td>\n",
       "      <td>9</td>\n",
       "      <td>529.0</td>\n",
       "      <td>NaN</td>\n",
       "      <td>14.639814</td>\n",
       "      <td>Boston-Cambridge-Newton, MA-NH MSA</td>\n",
       "      <td>ultimate</td>\n",
       "      <td>-16.0</td>\n",
       "      <td>0.0</td>\n",
       "      <td>0.0</td>\n",
       "      <td>0.0</td>\n",
       "      <td>70.0</td>\n",
       "    </tr>\n",
       "    <tr>\n",
       "      <th>2224</th>\n",
       "      <td>1493</td>\n",
       "      <td>10</td>\n",
       "      <td>450.0</td>\n",
       "      <td>NaN</td>\n",
       "      <td>15.946846</td>\n",
       "      <td>Boston-Cambridge-Newton, MA-NH MSA</td>\n",
       "      <td>ultimate</td>\n",
       "      <td>-14.0</td>\n",
       "      <td>0.0</td>\n",
       "      <td>0.0</td>\n",
       "      <td>0.0</td>\n",
       "      <td>70.0</td>\n",
       "    </tr>\n",
       "    <tr>\n",
       "      <th>2225</th>\n",
       "      <td>1493</td>\n",
       "      <td>11</td>\n",
       "      <td>500.0</td>\n",
       "      <td>NaN</td>\n",
       "      <td>15.264434</td>\n",
       "      <td>Boston-Cambridge-Newton, MA-NH MSA</td>\n",
       "      <td>ultimate</td>\n",
       "      <td>-15.0</td>\n",
       "      <td>0.0</td>\n",
       "      <td>0.0</td>\n",
       "      <td>0.0</td>\n",
       "      <td>70.0</td>\n",
       "    </tr>\n",
       "    <tr>\n",
       "      <th>2226</th>\n",
       "      <td>1493</td>\n",
       "      <td>12</td>\n",
       "      <td>473.0</td>\n",
       "      <td>NaN</td>\n",
       "      <td>14.930752</td>\n",
       "      <td>Boston-Cambridge-Newton, MA-NH MSA</td>\n",
       "      <td>ultimate</td>\n",
       "      <td>-15.0</td>\n",
       "      <td>0.0</td>\n",
       "      <td>0.0</td>\n",
       "      <td>0.0</td>\n",
       "      <td>70.0</td>\n",
       "    </tr>\n",
       "    <tr>\n",
       "      <th>2242</th>\n",
       "      <td>1497</td>\n",
       "      <td>12</td>\n",
       "      <td>300.0</td>\n",
       "      <td>50.0</td>\n",
       "      <td>10.846240</td>\n",
       "      <td>Los Angeles-Long Beach-Anaheim, CA MSA</td>\n",
       "      <td>ultimate</td>\n",
       "      <td>-19.0</td>\n",
       "      <td>0.0</td>\n",
       "      <td>0.0</td>\n",
       "      <td>0.0</td>\n",
       "      <td>70.0</td>\n",
       "    </tr>\n",
       "  </tbody>\n",
       "</table>\n",
       "<p>713 rows × 12 columns</p>\n",
       "</div>"
      ],
      "text/plain": [
       "      user_id  month  total_call  messages         gb  \\\n",
       "0        1000     12       124.0      11.0   1.856904   \n",
       "19       1006     11        10.0      15.0   2.019893   \n",
       "20       1006     12        59.0     139.0  31.366035   \n",
       "26       1008     10       476.0      21.0  16.706045   \n",
       "27       1008     11       446.0      37.0  23.121797   \n",
       "...       ...    ...         ...       ...        ...   \n",
       "2223     1493      9       529.0       NaN  14.639814   \n",
       "2224     1493     10       450.0       NaN  15.946846   \n",
       "2225     1493     11       500.0       NaN  15.264434   \n",
       "2226     1493     12       473.0       NaN  14.930752   \n",
       "2242     1497     12       300.0      50.0  10.846240   \n",
       "\n",
       "                                        city      plan  gb_extra  call_value  \\\n",
       "0      Atlanta-Sandy Springs-Roswell, GA MSA  ultimate     -28.0         0.0   \n",
       "19    San Francisco-Oakland-Berkeley, CA MSA  ultimate     -28.0         0.0   \n",
       "20    San Francisco-Oakland-Berkeley, CA MSA  ultimate       1.0         0.0   \n",
       "26         Orlando-Kissimmee-Sanford, FL MSA  ultimate     -14.0         0.0   \n",
       "27         Orlando-Kissimmee-Sanford, FL MSA  ultimate      -7.0         0.0   \n",
       "...                                      ...       ...       ...         ...   \n",
       "2223      Boston-Cambridge-Newton, MA-NH MSA  ultimate     -16.0         0.0   \n",
       "2224      Boston-Cambridge-Newton, MA-NH MSA  ultimate     -14.0         0.0   \n",
       "2225      Boston-Cambridge-Newton, MA-NH MSA  ultimate     -15.0         0.0   \n",
       "2226      Boston-Cambridge-Newton, MA-NH MSA  ultimate     -15.0         0.0   \n",
       "2242  Los Angeles-Long Beach-Anaheim, CA MSA  ultimate     -19.0         0.0   \n",
       "\n",
       "      text_value  gb_value  total_usd  \n",
       "0            0.0       0.0       70.0  \n",
       "19           0.0       0.0       70.0  \n",
       "20           0.0       7.0       77.0  \n",
       "26           0.0       0.0       70.0  \n",
       "27           0.0       0.0       70.0  \n",
       "...          ...       ...        ...  \n",
       "2223         0.0       0.0       70.0  \n",
       "2224         0.0       0.0       70.0  \n",
       "2225         0.0       0.0       70.0  \n",
       "2226         0.0       0.0       70.0  \n",
       "2242         0.0       0.0       70.0  \n",
       "\n",
       "[713 rows x 12 columns]"
      ]
     },
     "execution_count": 59,
     "metadata": {},
     "output_type": "execute_result"
    }
   ],
   "source": [
    "agg_ult"
   ]
  },
  {
   "cell_type": "markdown",
   "metadata": {},
   "source": [
    "## Study user behaviour"
   ]
  },
  {
   "cell_type": "markdown",
   "metadata": {},
   "source": [
    "### Calls"
   ]
  },
  {
   "cell_type": "code",
   "execution_count": 60,
   "metadata": {
    "scrolled": false
   },
   "outputs": [
    {
     "data": {
      "text/html": [
       "<div>\n",
       "<style scoped>\n",
       "    .dataframe tbody tr th:only-of-type {\n",
       "        vertical-align: middle;\n",
       "    }\n",
       "\n",
       "    .dataframe tbody tr th {\n",
       "        vertical-align: top;\n",
       "    }\n",
       "\n",
       "    .dataframe thead th {\n",
       "        text-align: right;\n",
       "    }\n",
       "</style>\n",
       "<table border=\"1\" class=\"dataframe\">\n",
       "  <thead>\n",
       "    <tr style=\"text-align: right;\">\n",
       "      <th></th>\n",
       "      <th>id</th>\n",
       "      <th>user_id</th>\n",
       "      <th>call_date</th>\n",
       "      <th>duration</th>\n",
       "      <th>duration_round</th>\n",
       "      <th>month</th>\n",
       "      <th>first_name</th>\n",
       "      <th>last_name</th>\n",
       "      <th>age</th>\n",
       "      <th>city</th>\n",
       "      <th>reg_date</th>\n",
       "      <th>plan</th>\n",
       "      <th>churn_date</th>\n",
       "    </tr>\n",
       "  </thead>\n",
       "  <tbody>\n",
       "    <tr>\n",
       "      <th>16</th>\n",
       "      <td>1001_0</td>\n",
       "      <td>1001</td>\n",
       "      <td>2018-09-06</td>\n",
       "      <td>10.06</td>\n",
       "      <td>11.0</td>\n",
       "      <td>9</td>\n",
       "      <td>Mickey</td>\n",
       "      <td>Wilkerson</td>\n",
       "      <td>28</td>\n",
       "      <td>Seattle-Tacoma-Bellevue, WA MSA</td>\n",
       "      <td>2018-08-13</td>\n",
       "      <td>surf</td>\n",
       "      <td>NaN</td>\n",
       "    </tr>\n",
       "    <tr>\n",
       "      <th>17</th>\n",
       "      <td>1001_1</td>\n",
       "      <td>1001</td>\n",
       "      <td>2018-10-12</td>\n",
       "      <td>1.00</td>\n",
       "      <td>1.0</td>\n",
       "      <td>10</td>\n",
       "      <td>Mickey</td>\n",
       "      <td>Wilkerson</td>\n",
       "      <td>28</td>\n",
       "      <td>Seattle-Tacoma-Bellevue, WA MSA</td>\n",
       "      <td>2018-08-13</td>\n",
       "      <td>surf</td>\n",
       "      <td>NaN</td>\n",
       "    </tr>\n",
       "    <tr>\n",
       "      <th>18</th>\n",
       "      <td>1001_2</td>\n",
       "      <td>1001</td>\n",
       "      <td>2018-10-17</td>\n",
       "      <td>15.83</td>\n",
       "      <td>16.0</td>\n",
       "      <td>10</td>\n",
       "      <td>Mickey</td>\n",
       "      <td>Wilkerson</td>\n",
       "      <td>28</td>\n",
       "      <td>Seattle-Tacoma-Bellevue, WA MSA</td>\n",
       "      <td>2018-08-13</td>\n",
       "      <td>surf</td>\n",
       "      <td>NaN</td>\n",
       "    </tr>\n",
       "    <tr>\n",
       "      <th>19</th>\n",
       "      <td>1001_4</td>\n",
       "      <td>1001</td>\n",
       "      <td>2018-12-05</td>\n",
       "      <td>0.00</td>\n",
       "      <td>0.0</td>\n",
       "      <td>12</td>\n",
       "      <td>Mickey</td>\n",
       "      <td>Wilkerson</td>\n",
       "      <td>28</td>\n",
       "      <td>Seattle-Tacoma-Bellevue, WA MSA</td>\n",
       "      <td>2018-08-13</td>\n",
       "      <td>surf</td>\n",
       "      <td>NaN</td>\n",
       "    </tr>\n",
       "    <tr>\n",
       "      <th>20</th>\n",
       "      <td>1001_5</td>\n",
       "      <td>1001</td>\n",
       "      <td>2018-12-13</td>\n",
       "      <td>6.27</td>\n",
       "      <td>7.0</td>\n",
       "      <td>12</td>\n",
       "      <td>Mickey</td>\n",
       "      <td>Wilkerson</td>\n",
       "      <td>28</td>\n",
       "      <td>Seattle-Tacoma-Bellevue, WA MSA</td>\n",
       "      <td>2018-08-13</td>\n",
       "      <td>surf</td>\n",
       "      <td>NaN</td>\n",
       "    </tr>\n",
       "    <tr>\n",
       "      <th>...</th>\n",
       "      <td>...</td>\n",
       "      <td>...</td>\n",
       "      <td>...</td>\n",
       "      <td>...</td>\n",
       "      <td>...</td>\n",
       "      <td>...</td>\n",
       "      <td>...</td>\n",
       "      <td>...</td>\n",
       "      <td>...</td>\n",
       "      <td>...</td>\n",
       "      <td>...</td>\n",
       "      <td>...</td>\n",
       "      <td>...</td>\n",
       "    </tr>\n",
       "    <tr>\n",
       "      <th>137730</th>\n",
       "      <td>1499_199</td>\n",
       "      <td>1499</td>\n",
       "      <td>2018-11-21</td>\n",
       "      <td>8.72</td>\n",
       "      <td>9.0</td>\n",
       "      <td>11</td>\n",
       "      <td>Shena</td>\n",
       "      <td>Dickson</td>\n",
       "      <td>37</td>\n",
       "      <td>Orlando-Kissimmee-Sanford, FL MSA</td>\n",
       "      <td>2018-05-06</td>\n",
       "      <td>surf</td>\n",
       "      <td>NaN</td>\n",
       "    </tr>\n",
       "    <tr>\n",
       "      <th>137731</th>\n",
       "      <td>1499_200</td>\n",
       "      <td>1499</td>\n",
       "      <td>2018-10-20</td>\n",
       "      <td>10.89</td>\n",
       "      <td>11.0</td>\n",
       "      <td>10</td>\n",
       "      <td>Shena</td>\n",
       "      <td>Dickson</td>\n",
       "      <td>37</td>\n",
       "      <td>Orlando-Kissimmee-Sanford, FL MSA</td>\n",
       "      <td>2018-05-06</td>\n",
       "      <td>surf</td>\n",
       "      <td>NaN</td>\n",
       "    </tr>\n",
       "    <tr>\n",
       "      <th>137732</th>\n",
       "      <td>1499_201</td>\n",
       "      <td>1499</td>\n",
       "      <td>2018-09-21</td>\n",
       "      <td>8.12</td>\n",
       "      <td>9.0</td>\n",
       "      <td>9</td>\n",
       "      <td>Shena</td>\n",
       "      <td>Dickson</td>\n",
       "      <td>37</td>\n",
       "      <td>Orlando-Kissimmee-Sanford, FL MSA</td>\n",
       "      <td>2018-05-06</td>\n",
       "      <td>surf</td>\n",
       "      <td>NaN</td>\n",
       "    </tr>\n",
       "    <tr>\n",
       "      <th>137733</th>\n",
       "      <td>1499_202</td>\n",
       "      <td>1499</td>\n",
       "      <td>2018-10-10</td>\n",
       "      <td>0.37</td>\n",
       "      <td>1.0</td>\n",
       "      <td>10</td>\n",
       "      <td>Shena</td>\n",
       "      <td>Dickson</td>\n",
       "      <td>37</td>\n",
       "      <td>Orlando-Kissimmee-Sanford, FL MSA</td>\n",
       "      <td>2018-05-06</td>\n",
       "      <td>surf</td>\n",
       "      <td>NaN</td>\n",
       "    </tr>\n",
       "    <tr>\n",
       "      <th>137734</th>\n",
       "      <td>1499_203</td>\n",
       "      <td>1499</td>\n",
       "      <td>2018-12-29</td>\n",
       "      <td>13.86</td>\n",
       "      <td>14.0</td>\n",
       "      <td>12</td>\n",
       "      <td>Shena</td>\n",
       "      <td>Dickson</td>\n",
       "      <td>37</td>\n",
       "      <td>Orlando-Kissimmee-Sanford, FL MSA</td>\n",
       "      <td>2018-05-06</td>\n",
       "      <td>surf</td>\n",
       "      <td>NaN</td>\n",
       "    </tr>\n",
       "  </tbody>\n",
       "</table>\n",
       "<p>94084 rows × 13 columns</p>\n",
       "</div>"
      ],
      "text/plain": [
       "              id  user_id   call_date  duration  duration_round  month  \\\n",
       "16        1001_0     1001  2018-09-06     10.06            11.0      9   \n",
       "17        1001_1     1001  2018-10-12      1.00             1.0     10   \n",
       "18        1001_2     1001  2018-10-17     15.83            16.0     10   \n",
       "19        1001_4     1001  2018-12-05      0.00             0.0     12   \n",
       "20        1001_5     1001  2018-12-13      6.27             7.0     12   \n",
       "...          ...      ...         ...       ...             ...    ...   \n",
       "137730  1499_199     1499  2018-11-21      8.72             9.0     11   \n",
       "137731  1499_200     1499  2018-10-20     10.89            11.0     10   \n",
       "137732  1499_201     1499  2018-09-21      8.12             9.0      9   \n",
       "137733  1499_202     1499  2018-10-10      0.37             1.0     10   \n",
       "137734  1499_203     1499  2018-12-29     13.86            14.0     12   \n",
       "\n",
       "       first_name  last_name  age                               city  \\\n",
       "16         Mickey  Wilkerson   28    Seattle-Tacoma-Bellevue, WA MSA   \n",
       "17         Mickey  Wilkerson   28    Seattle-Tacoma-Bellevue, WA MSA   \n",
       "18         Mickey  Wilkerson   28    Seattle-Tacoma-Bellevue, WA MSA   \n",
       "19         Mickey  Wilkerson   28    Seattle-Tacoma-Bellevue, WA MSA   \n",
       "20         Mickey  Wilkerson   28    Seattle-Tacoma-Bellevue, WA MSA   \n",
       "...           ...        ...  ...                                ...   \n",
       "137730      Shena    Dickson   37  Orlando-Kissimmee-Sanford, FL MSA   \n",
       "137731      Shena    Dickson   37  Orlando-Kissimmee-Sanford, FL MSA   \n",
       "137732      Shena    Dickson   37  Orlando-Kissimmee-Sanford, FL MSA   \n",
       "137733      Shena    Dickson   37  Orlando-Kissimmee-Sanford, FL MSA   \n",
       "137734      Shena    Dickson   37  Orlando-Kissimmee-Sanford, FL MSA   \n",
       "\n",
       "          reg_date  plan churn_date  \n",
       "16      2018-08-13  surf        NaN  \n",
       "17      2018-08-13  surf        NaN  \n",
       "18      2018-08-13  surf        NaN  \n",
       "19      2018-08-13  surf        NaN  \n",
       "20      2018-08-13  surf        NaN  \n",
       "...            ...   ...        ...  \n",
       "137730  2018-05-06  surf        NaN  \n",
       "137731  2018-05-06  surf        NaN  \n",
       "137732  2018-05-06  surf        NaN  \n",
       "137733  2018-05-06  surf        NaN  \n",
       "137734  2018-05-06  surf        NaN  \n",
       "\n",
       "[94084 rows x 13 columns]"
      ]
     },
     "execution_count": 60,
     "metadata": {},
     "output_type": "execute_result"
    }
   ],
   "source": [
    "# Compare average duration of calls per each plan per each distinct month. Plot a bar plat to visualize it.\n",
    "\n",
    "calls_users = calls.merge(users, on='user_id', how='left')\n",
    "calls_users_surf = calls_users.query('plan == \"surf\"')\n",
    "calls_users_ult = calls_users.query('plan == \"ultimate\"')\n",
    "calls_users_surf"
   ]
  },
  {
   "cell_type": "code",
   "execution_count": 61,
   "metadata": {},
   "outputs": [
    {
     "data": {
      "text/plain": [
       "Text(0, 0.5, 'Average Call Time')"
      ]
     },
     "execution_count": 61,
     "metadata": {},
     "output_type": "execute_result"
    },
    {
     "data": {
      "image/png": "[encoded data removed]",
      "text/plain": [
       "<Figure size 432x288 with 1 Axes>"
      ]
     },
     "metadata": {
      "needs_background": "light"
     },
     "output_type": "display_data"
    }
   ],
   "source": [
    "calls_avg_surf = calls_users_surf.pivot_table(\n",
    "    index='month', values= 'duration', aggfunc= 'median')\n",
    "calls_avg_ult = calls_users_ult.pivot_table(\n",
    "    index='month', values= 'duration', aggfunc= 'median')\n",
    "calls_avg_join = calls_avg_ult.join(calls_avg_surf, lsuffix = '_Ultimate', rsuffix = '_Surf')\n",
    "calls_avg_join.plot(kind = 'bar', title = 'Calls')\n",
    "plt.ylabel('Average Call Time')"
   ]
  },
  {
   "cell_type": "code",
   "execution_count": 62,
   "metadata": {},
   "outputs": [
    {
     "data": {
      "text/html": [
       "<div>\n",
       "<style scoped>\n",
       "    .dataframe tbody tr th:only-of-type {\n",
       "        vertical-align: middle;\n",
       "    }\n",
       "\n",
       "    .dataframe tbody tr th {\n",
       "        vertical-align: top;\n",
       "    }\n",
       "\n",
       "    .dataframe thead th {\n",
       "        text-align: right;\n",
       "    }\n",
       "</style>\n",
       "<table border=\"1\" class=\"dataframe\">\n",
       "  <thead>\n",
       "    <tr style=\"text-align: right;\">\n",
       "      <th></th>\n",
       "      <th>duration_Ultimate</th>\n",
       "      <th>duration_Surf</th>\n",
       "    </tr>\n",
       "    <tr>\n",
       "      <th>month</th>\n",
       "      <th></th>\n",
       "      <th></th>\n",
       "    </tr>\n",
       "  </thead>\n",
       "  <tbody>\n",
       "    <tr>\n",
       "      <th>1</th>\n",
       "      <td>5.870</td>\n",
       "      <td>5.950</td>\n",
       "    </tr>\n",
       "    <tr>\n",
       "      <th>2</th>\n",
       "      <td>5.815</td>\n",
       "      <td>5.980</td>\n",
       "    </tr>\n",
       "    <tr>\n",
       "      <th>3</th>\n",
       "      <td>5.165</td>\n",
       "      <td>6.175</td>\n",
       "    </tr>\n",
       "    <tr>\n",
       "      <th>4</th>\n",
       "      <td>5.995</td>\n",
       "      <td>6.225</td>\n",
       "    </tr>\n",
       "    <tr>\n",
       "      <th>5</th>\n",
       "      <td>5.830</td>\n",
       "      <td>5.910</td>\n",
       "    </tr>\n",
       "    <tr>\n",
       "      <th>6</th>\n",
       "      <td>5.945</td>\n",
       "      <td>6.090</td>\n",
       "    </tr>\n",
       "    <tr>\n",
       "      <th>7</th>\n",
       "      <td>6.190</td>\n",
       "      <td>5.895</td>\n",
       "    </tr>\n",
       "    <tr>\n",
       "      <th>8</th>\n",
       "      <td>5.820</td>\n",
       "      <td>6.000</td>\n",
       "    </tr>\n",
       "    <tr>\n",
       "      <th>9</th>\n",
       "      <td>6.045</td>\n",
       "      <td>5.930</td>\n",
       "    </tr>\n",
       "    <tr>\n",
       "      <th>10</th>\n",
       "      <td>5.880</td>\n",
       "      <td>5.910</td>\n",
       "    </tr>\n",
       "    <tr>\n",
       "      <th>11</th>\n",
       "      <td>5.900</td>\n",
       "      <td>6.050</td>\n",
       "    </tr>\n",
       "    <tr>\n",
       "      <th>12</th>\n",
       "      <td>5.925</td>\n",
       "      <td>6.105</td>\n",
       "    </tr>\n",
       "  </tbody>\n",
       "</table>\n",
       "</div>"
      ],
      "text/plain": [
       "       duration_Ultimate  duration_Surf\n",
       "month                                  \n",
       "1                  5.870          5.950\n",
       "2                  5.815          5.980\n",
       "3                  5.165          6.175\n",
       "4                  5.995          6.225\n",
       "5                  5.830          5.910\n",
       "6                  5.945          6.090\n",
       "7                  6.190          5.895\n",
       "8                  5.820          6.000\n",
       "9                  6.045          5.930\n",
       "10                 5.880          5.910\n",
       "11                 5.900          6.050\n",
       "12                 5.925          6.105"
      ]
     },
     "execution_count": 62,
     "metadata": {},
     "output_type": "execute_result"
    }
   ],
   "source": [
    "calls_avg_join"
   ]
  },
  {
   "cell_type": "code",
   "execution_count": 61,
   "metadata": {},
   "outputs": [
    {
     "data": {
      "text/plain": [
       "array([[<AxesSubplot:title={'center':'duration_Ultimate'}>,\n",
       "        <AxesSubplot:title={'center':'duration_Surf'}>]], dtype=object)"
      ]
     },
     "execution_count": 61,
     "metadata": {},
     "output_type": "execute_result"
    },
    {
     "data": {
      "image/png": "[encoded data removed]",
      "text/plain": [
       "<Figure size 432x288 with 2 Axes>"
      ]
     },
     "metadata": {
      "needs_background": "light"
     },
     "output_type": "display_data"
    }
   ],
   "source": [
    "calls_avg_join.hist(bins=10)"
   ]
  },
  {
   "cell_type": "markdown",
   "metadata": {},
   "source": [
    "The two plans are very similar in terms of average call durations. The average call time is very similar  for both plan types."
   ]
  },
  {
   "cell_type": "code",
   "execution_count": 62,
   "metadata": {},
   "outputs": [],
   "source": [
    "# Compare the number of minutes users of each plan require each month.\n",
    "agg_ult_pivot = agg_ult.pivot_table(\n",
    "    index='month', values= 'total_call', aggfunc= 'median')\n",
    "agg_surf_pivot = agg_surf.pivot_table(\n",
    "    index='month', values= 'total_call', aggfunc= 'median')\n",
    "agg_calls_total = agg_ult_pivot.join(agg_surf_pivot, rsuffix='_Surf', lsuffix='_Ultimate')"
   ]
  },
  {
   "cell_type": "code",
   "execution_count": 63,
   "metadata": {},
   "outputs": [
    {
     "data": {
      "text/plain": [
       "Text(0.5, 0, 'Month')"
      ]
     },
     "execution_count": 63,
     "metadata": {},
     "output_type": "execute_result"
    },
    {
     "data": {
      "image/png": "[encoded data removed]",
      "text/plain": [
       "<Figure size 432x288 with 1 Axes>"
      ]
     },
     "metadata": {
      "needs_background": "light"
     },
     "output_type": "display_data"
    }
   ],
   "source": [
    "agg_calls_total.plot(kind='bar', title = 'Calls')\n",
    "plt.ylabel(\"Total Call Time\")\n",
    "plt.xlabel(\"Month\")"
   ]
  },
  {
   "cell_type": "code",
   "execution_count": 64,
   "metadata": {},
   "outputs": [
    {
     "data": {
      "text/plain": [
       "array([[<AxesSubplot:title={'center':'total_call_Ultimate'}>,\n",
       "        <AxesSubplot:title={'center':'total_call_Surf'}>]], dtype=object)"
      ]
     },
     "execution_count": 64,
     "metadata": {},
     "output_type": "execute_result"
    },
    {
     "data": {
      "image/png": "[encoded data removed]",
      "text/plain": [
       "<Figure size 432x288 with 2 Axes>"
      ]
     },
     "metadata": {
      "needs_background": "light"
     },
     "output_type": "display_data"
    }
   ],
   "source": [
    "agg_calls_total.hist(bins=10)"
   ]
  },
  {
   "cell_type": "markdown",
   "metadata": {},
   "source": [
    "This bar plot shows that the number of minutes used by users of each plan is relatively similar. The number of minutes needed typically increases as the year goes on with a small amount of variation."
   ]
  },
  {
   "cell_type": "markdown",
   "metadata": {},
   "source": [
    " "
   ]
  },
  {
   "cell_type": "markdown",
   "metadata": {},
   "source": [
    "### Messages"
   ]
  },
  {
   "cell_type": "code",
   "execution_count": 65,
   "metadata": {},
   "outputs": [],
   "source": [
    "# Compare the number of messages users of each plan tend to send each month\n",
    "piv_ult_mess = agg_ult.pivot_table(\n",
    "    index='month', values= 'messages', aggfunc= 'median')\n",
    "piv_surf_mess = agg_surf.pivot_table(\n",
    "    index='month', values= 'messages', aggfunc= 'median')\n",
    "mess_plot = piv_ult_mess.join(piv_surf_mess, lsuffix = '_Ultimate', rsuffix = '_Surf')"
   ]
  },
  {
   "cell_type": "code",
   "execution_count": 66,
   "metadata": {},
   "outputs": [
    {
     "data": {
      "text/plain": [
       "<AxesSubplot:xlabel='month'>"
      ]
     },
     "execution_count": 66,
     "metadata": {},
     "output_type": "execute_result"
    },
    {
     "data": {
      "image/png": "[encoded data removed]",
      "text/plain": [
       "<Figure size 432x288 with 1 Axes>"
      ]
     },
     "metadata": {
      "needs_background": "light"
     },
     "output_type": "display_data"
    }
   ],
   "source": [
    "mess_plot.plot(kind='bar')"
   ]
  },
  {
   "cell_type": "code",
   "execution_count": 78,
   "metadata": {},
   "outputs": [
    {
     "data": {
      "text/plain": [
       "array([[<AxesSubplot:title={'center':'messages_Ultimate'}>,\n",
       "        <AxesSubplot:title={'center':'messages_Surf'}>]], dtype=object)"
      ]
     },
     "execution_count": 78,
     "metadata": {},
     "output_type": "execute_result"
    },
    {
     "data": {
      "image/png": "[encoded data removed]",
      "text/plain": [
       "<Figure size 432x288 with 2 Axes>"
      ]
     },
     "metadata": {
      "needs_background": "light"
     },
     "output_type": "display_data"
    }
   ],
   "source": [
    "mess_plot.hist(bins=10)"
   ]
  },
  {
   "cell_type": "markdown",
   "metadata": {},
   "source": [
    "Ultimate plan users consistently use more messages than Surf plan users. This makes sense as their plan comes with many more messages included."
   ]
  },
  {
   "cell_type": "markdown",
   "metadata": {},
   "source": [
    " "
   ]
  },
  {
   "cell_type": "markdown",
   "metadata": {},
   "source": [
    "### Internet"
   ]
  },
  {
   "cell_type": "code",
   "execution_count": 68,
   "metadata": {},
   "outputs": [],
   "source": [
    "piv_ult_gb = agg_ult.pivot_table(\n",
    "    index='month', values= 'gb', aggfunc= 'median')\n",
    "piv_surf_gb = agg_surf.pivot_table(\n",
    "    index='month', values= 'gb', aggfunc= 'median')\n",
    "gb_plot = piv_ult_gb.join(piv_surf_gb, lsuffix = '_Ultimate', rsuffix = '_Surf')"
   ]
  },
  {
   "cell_type": "code",
   "execution_count": 69,
   "metadata": {},
   "outputs": [
    {
     "data": {
      "text/plain": [
       "<AxesSubplot:xlabel='month'>"
      ]
     },
     "execution_count": 69,
     "metadata": {},
     "output_type": "execute_result"
    },
    {
     "data": {
      "image/png": "[encoded data removed]",
      "text/plain": [
       "<Figure size 432x288 with 1 Axes>"
      ]
     },
     "metadata": {
      "needs_background": "light"
     },
     "output_type": "display_data"
    }
   ],
   "source": [
    "gb_plot.plot(kind='bar')"
   ]
  },
  {
   "cell_type": "code",
   "execution_count": 70,
   "metadata": {},
   "outputs": [
    {
     "data": {
      "text/plain": [
       "array([[<AxesSubplot:title={'center':'gb_Ultimate'}>,\n",
       "        <AxesSubplot:title={'center':'gb_Surf'}>]], dtype=object)"
      ]
     },
     "execution_count": 70,
     "metadata": {},
     "output_type": "execute_result"
    },
    {
     "data": {
      "image/png": "[encoded data removed]",
      "text/plain": [
       "<Figure size 432x288 with 2 Axes>"
      ]
     },
     "metadata": {
      "needs_background": "light"
     },
     "output_type": "display_data"
    }
   ],
   "source": [
    "gb_plot.hist(bins=10)"
   ]
  },
  {
   "cell_type": "markdown",
   "metadata": {},
   "source": [
    "Ultimate users consumed more data towards the beginning of the year but by the end of the year users of both plans consumed very similar amounts of data."
   ]
  },
  {
   "cell_type": "markdown",
   "metadata": {},
   "source": [
    " "
   ]
  },
  {
   "cell_type": "markdown",
   "metadata": {},
   "source": [
    "## Revenue"
   ]
  },
  {
   "cell_type": "markdown",
   "metadata": {},
   "source": [
    "[Likewise you have studied the user behaviour, statistically describe the revenue between the plans.]"
   ]
  },
  {
   "cell_type": "code",
   "execution_count": 71,
   "metadata": {},
   "outputs": [],
   "source": [
    "piv_ult_rev = agg_ult.pivot_table(\n",
    "    index='month', values= 'total_usd', aggfunc= 'mean')\n",
    "piv_surf_rev = agg_surf.pivot_table(\n",
    "    index='month', values= 'total_usd', aggfunc= 'mean')\n",
    "rev_plot = piv_ult_rev.join(piv_surf_rev, lsuffix = '_Ultimate', rsuffix = '_Surf')"
   ]
  },
  {
   "cell_type": "code",
   "execution_count": 72,
   "metadata": {},
   "outputs": [
    {
     "data": {
      "text/plain": [
       "<AxesSubplot:xlabel='month'>"
      ]
     },
     "execution_count": 72,
     "metadata": {},
     "output_type": "execute_result"
    },
    {
     "data": {
      "image/png": "[encoded data removed]",
      "text/plain": [
       "<Figure size 432x288 with 1 Axes>"
      ]
     },
     "metadata": {
      "needs_background": "light"
     },
     "output_type": "display_data"
    }
   ],
   "source": [
    "rev_plot.plot(kind='bar')"
   ]
  },
  {
   "cell_type": "markdown",
   "metadata": {},
   "source": [
    "The revenue for Ultimate (the more expensive plan) seems to generally stay to what the base cost of the plan is. The base cost of the plan is 70 per month and the revenue does not tend to get much higher than that on average. The surf plan on the other hand has much more variable rates of revenue. Although the total income from the plan is typically lower than the for the Ultimate plan, users frequently go over their allotted calls/data/texts and the income is much higher than the base cost of 20 per month. Overall, the Ultimate plan consistently brings in more revenue."
   ]
  },
  {
   "cell_type": "markdown",
   "metadata": {},
   "source": [
    " "
   ]
  },
  {
   "cell_type": "markdown",
   "metadata": {},
   "source": [
    "## Test statistical hypotheses"
   ]
  },
  {
   "cell_type": "markdown",
   "metadata": {},
   "source": [
    "Null Hypothesis = Average revenue from users of Ultimate equals the average revenue from users of Surf.\n",
    "\n",
    "Alternative Hypothesis = Average revenue from users of Ultimate does not equal the average revenue from users of Surf."
   ]
  },
  {
   "cell_type": "code",
   "execution_count": 73,
   "metadata": {},
   "outputs": [
    {
     "name": "stdout",
     "output_type": "stream",
     "text": [
      "p-value:  1.5042708993769098e-12\n",
      "We reject the null hypothesis\n"
     ]
    }
   ],
   "source": [
    "# Test the hypotheses\n",
    "sample_surf = agg_surf['total_usd']\n",
    "sample_ult = agg_ult['total_usd']\n",
    "\n",
    "alpha = 0.075\n",
    "results = st.ttest_ind(sample_surf, sample_ult)\n",
    "\n",
    "print('p-value: ', results.pvalue)\n",
    "\n",
    "if results.pvalue < alpha:\n",
    "    print(\"We reject the null hypothesis\")\n",
    "else:\n",
    "    print(\"We can't reject the null hypothesis\") "
   ]
  },
  {
   "cell_type": "code",
   "execution_count": 74,
   "metadata": {},
   "outputs": [
    {
     "data": {
      "text/html": [
       "<div>\n",
       "<style scoped>\n",
       "    .dataframe tbody tr th:only-of-type {\n",
       "        vertical-align: middle;\n",
       "    }\n",
       "\n",
       "    .dataframe tbody tr th {\n",
       "        vertical-align: top;\n",
       "    }\n",
       "\n",
       "    .dataframe thead th {\n",
       "        text-align: right;\n",
       "    }\n",
       "</style>\n",
       "<table border=\"1\" class=\"dataframe\">\n",
       "  <thead>\n",
       "    <tr style=\"text-align: right;\">\n",
       "      <th></th>\n",
       "      <th>avg_surf_revenue</th>\n",
       "      <th>avg_ult_revenue</th>\n",
       "    </tr>\n",
       "  </thead>\n",
       "  <tbody>\n",
       "    <tr>\n",
       "      <th>0</th>\n",
       "      <td>57.911922</td>\n",
       "      <td>72.002805</td>\n",
       "    </tr>\n",
       "  </tbody>\n",
       "</table>\n",
       "</div>"
      ],
      "text/plain": [
       "   avg_surf_revenue  avg_ult_revenue\n",
       "0         57.911922        72.002805"
      ]
     },
     "execution_count": 74,
     "metadata": {},
     "output_type": "execute_result"
    }
   ],
   "source": [
    "means = {'avg_surf_revenue': [sample_surf.mean()], 'avg_ult_revenue': [sample_ult.mean()]}\n",
    "means_df = pd.DataFrame(data=means)\n",
    "means_df"
   ]
  },
  {
   "cell_type": "markdown",
   "metadata": {},
   "source": [
    "We can conclude that the average revenue from Surf plan users is significantly less than the average revenue from Ultimate plan users. "
   ]
  },
  {
   "cell_type": "markdown",
   "metadata": {},
   "source": [
    "Null Hypothesis = Average revenue from users from NY equals the average revenue from all other users.\n",
    "\n",
    "Alternative Hypothesis = Average revenue from users from NY does not equal the average revenue from all other users.\n",
    "\n",
    "This will be tested with both data plans."
   ]
  },
  {
   "cell_type": "code",
   "execution_count": 75,
   "metadata": {},
   "outputs": [
    {
     "name": "stdout",
     "output_type": "stream",
     "text": [
      "p-value:  0.10518699090806465\n",
      "We can't reject the null hypothesis\n"
     ]
    }
   ],
   "source": [
    "# Test the hypotheses\n",
    "agg_ny_surf = agg_surf.query('city == \"New York-Newark-Jersey City, NY-NJ-PA MSA\"')\n",
    "agg_ny_ult = agg_ult.query('city == \"New York-Newark-Jersey City, NY-NJ-PA MSA\"')\n",
    "agg_notny_surf = agg_surf.query('city != \"New York-Newark-Jersey City, NY-NJ-PA MSA\"')\n",
    "agg_notny_ult = agg_ult.query('city != \"New York-Newark-Jersey City, NY-NJ-PA MSA\"')\n",
    "\n",
    "sample_ny_surf = agg_ny_surf['total_usd']\n",
    "sample_notny_surf = agg_notny_surf['total_usd']\n",
    "\n",
    "alpha = 0.075\n",
    "results_2 = st.ttest_ind(sample_ny_surf, sample_notny_surf)\n",
    "\n",
    "print('p-value: ', results_2.pvalue)\n",
    "\n",
    "if results_2.pvalue < alpha:\n",
    "    print(\"We reject the null hypothesis\")\n",
    "else:\n",
    "    print(\"We can't reject the null hypothesis\") "
   ]
  },
  {
   "cell_type": "markdown",
   "metadata": {},
   "source": [
    "The average revenue from NY Surf users is not significantly different than the average revenue from Surf users outside NY."
   ]
  },
  {
   "cell_type": "code",
   "execution_count": 76,
   "metadata": {},
   "outputs": [
    {
     "name": "stdout",
     "output_type": "stream",
     "text": [
      "p-value:  0.057932526211944384\n",
      "We reject the null hypothesis\n"
     ]
    }
   ],
   "source": [
    "sample_ny_ult = agg_ny_ult['total_usd']\n",
    "sample_notny_ult = agg_notny_ult['total_usd']\n",
    "\n",
    "alpha = 0.075\n",
    "results_3 = st.ttest_ind(sample_ny_ult, sample_notny_ult)\n",
    "\n",
    "print('p-value: ', results_3.pvalue)\n",
    "\n",
    "if results_3.pvalue < alpha:\n",
    "    print(\"We reject the null hypothesis\")\n",
    "else:\n",
    "    print(\"We can't reject the null hypothesis\") "
   ]
  },
  {
   "cell_type": "code",
   "execution_count": 77,
   "metadata": {},
   "outputs": [
    {
     "data": {
      "text/html": [
       "<div>\n",
       "<style scoped>\n",
       "    .dataframe tbody tr th:only-of-type {\n",
       "        vertical-align: middle;\n",
       "    }\n",
       "\n",
       "    .dataframe tbody tr th {\n",
       "        vertical-align: top;\n",
       "    }\n",
       "\n",
       "    .dataframe thead th {\n",
       "        text-align: right;\n",
       "    }\n",
       "</style>\n",
       "<table border=\"1\" class=\"dataframe\">\n",
       "  <thead>\n",
       "    <tr style=\"text-align: right;\">\n",
       "      <th></th>\n",
       "      <th>avg_surf_rev_ny</th>\n",
       "      <th>avg_surf_rev_not_ny</th>\n",
       "      <th>avg_ult_rev_ny</th>\n",
       "      <th>avg_ult_rev_not_ny</th>\n",
       "    </tr>\n",
       "  </thead>\n",
       "  <tbody>\n",
       "    <tr>\n",
       "      <th>0</th>\n",
       "      <td>53.574365</td>\n",
       "      <td>58.987553</td>\n",
       "      <td>74.375</td>\n",
       "      <td>71.768875</td>\n",
       "    </tr>\n",
       "  </tbody>\n",
       "</table>\n",
       "</div>"
      ],
      "text/plain": [
       "   avg_surf_rev_ny  avg_surf_rev_not_ny  avg_ult_rev_ny  avg_ult_rev_not_ny\n",
       "0        53.574365            58.987553          74.375           71.768875"
      ]
     },
     "execution_count": 77,
     "metadata": {},
     "output_type": "execute_result"
    }
   ],
   "source": [
    "means_ny = {'avg_surf_rev_ny': [sample_ny_surf.mean()], 'avg_surf_rev_not_ny': [sample_notny_surf.mean()],'avg_ult_rev_ny': [sample_ny_ult.mean()], 'avg_ult_rev_not_ny': [sample_notny_ult.mean()]}\n",
    "means_ny_df = pd.DataFrame(data=means_ny)\n",
    "means_ny_df"
   ]
  },
  {
   "cell_type": "markdown",
   "metadata": {},
   "source": [
    "The average revenue from NY Ultimate users is significantly higher than the average revenue from Ultimate users outside NY."
   ]
  },
  {
   "cell_type": "markdown",
   "metadata": {},
   "source": [
    "## General conclusion\n",
    "\n",
    "Despite the Surf plan having lower allowances for calls, texts, and internet data, the average usage was not drastically different than the Ultimate plan. For calls, the average duration of calls was actually higher for Surf users. However, the total monthly duration of calls were about the same for both plans. In terms of text messages, Ultimate users consistently used more text messages than Surf users. For data, the beginning of the year saw a higher data usage by Ultimate users but eventually the data usage evened out between the two plans. In terms of revenue, the Ultimate plan consistently earned higher revenue throughout the year but the Surf plan started to close the gap by the end of the year.\n",
    "\n",
    "All in all, from the consumers perspective it would most likely make more sense to get the Surf plan as typical usage shows that Surf users can use about the same amount of resources as Ultimate users but all in all pay much less. However from Megalines perspective, they should promote the Ultimate plan most as it consistently delivers much higher levels of revenue than the Surf plan."
   ]
  }
 ],
 "metadata": {
  "ExecuteTimeLog": [
   {
    "duration": 828,
    "start_time": "2021-11-16T09:21:11.304Z"
   },
   {
    "duration": 893,
    "start_time": "2021-11-16T09:21:17.728Z"
   },
   {
    "duration": 1150,
    "start_time": "2021-11-16T09:21:29.568Z"
   },
   {
    "duration": 3,
    "start_time": "2021-11-16T09:24:14.495Z"
   },
   {
    "duration": 120,
    "start_time": "2021-11-16T09:24:46.630Z"
   },
   {
    "duration": 3,
    "start_time": "2021-11-16T09:28:27.882Z"
   },
   {
    "duration": 4,
    "start_time": "2021-11-16T09:29:54.281Z"
   },
   {
    "duration": 3,
    "start_time": "2021-11-16T09:30:45.936Z"
   },
   {
    "duration": 4,
    "start_time": "2021-11-16T09:31:06.300Z"
   },
   {
    "duration": 113,
    "start_time": "2021-11-16T09:31:37.208Z"
   },
   {
    "duration": 143,
    "start_time": "2021-11-16T09:31:48.656Z"
   },
   {
    "duration": 98,
    "start_time": "2021-11-16T09:31:55.678Z"
   },
   {
    "duration": 3,
    "start_time": "2021-11-16T09:32:08.535Z"
   },
   {
    "duration": 111,
    "start_time": "2021-11-16T09:32:10.120Z"
   },
   {
    "duration": 3,
    "start_time": "2021-11-16T09:32:15.732Z"
   },
   {
    "duration": 4,
    "start_time": "2021-11-16T09:32:29.423Z"
   },
   {
    "duration": 3,
    "start_time": "2021-11-16T10:03:03.074Z"
   },
   {
    "duration": 3,
    "start_time": "2021-11-16T10:10:01.288Z"
   },
   {
    "duration": 3,
    "start_time": "2021-11-16T10:10:46.923Z"
   },
   {
    "duration": 121,
    "start_time": "2021-11-16T10:37:46.494Z"
   },
   {
    "duration": 125,
    "start_time": "2021-11-16T10:38:20.632Z"
   },
   {
    "duration": 112,
    "start_time": "2021-11-16T10:46:53.001Z"
   },
   {
    "duration": 110,
    "start_time": "2021-11-16T10:48:25.775Z"
   },
   {
    "duration": 3,
    "start_time": "2021-11-16T10:50:18.720Z"
   },
   {
    "duration": 4,
    "start_time": "2021-11-16T10:50:37.649Z"
   },
   {
    "duration": 2,
    "start_time": "2021-11-16T10:50:51.884Z"
   },
   {
    "duration": 3,
    "start_time": "2021-11-16T10:51:56.237Z"
   },
   {
    "duration": 101,
    "start_time": "2021-11-16T10:53:13.791Z"
   },
   {
    "duration": 3,
    "start_time": "2021-11-16T10:55:59.186Z"
   },
   {
    "duration": 3,
    "start_time": "2021-11-16T10:56:10.751Z"
   },
   {
    "duration": 3,
    "start_time": "2021-11-16T10:56:49.038Z"
   },
   {
    "duration": 3,
    "start_time": "2021-11-16T10:56:49.174Z"
   },
   {
    "duration": 4,
    "start_time": "2021-11-16T10:56:49.414Z"
   },
   {
    "duration": 3,
    "start_time": "2021-11-16T10:56:49.680Z"
   },
   {
    "duration": 3,
    "start_time": "2021-11-16T10:56:50.370Z"
   },
   {
    "duration": 114,
    "start_time": "2021-11-16T10:59:34.518Z"
   },
   {
    "duration": 3,
    "start_time": "2021-11-16T11:01:41.201Z"
   },
   {
    "duration": 116,
    "start_time": "2021-11-16T11:01:48.754Z"
   },
   {
    "duration": 3,
    "start_time": "2021-11-16T11:02:16.685Z"
   },
   {
    "duration": 3,
    "start_time": "2021-11-16T11:02:19.479Z"
   },
   {
    "duration": 3,
    "start_time": "2021-11-16T11:02:47.067Z"
   },
   {
    "duration": 3,
    "start_time": "2021-11-16T11:02:49.353Z"
   },
   {
    "duration": 3,
    "start_time": "2021-11-16T11:03:07.835Z"
   },
   {
    "duration": 3,
    "start_time": "2021-11-16T11:03:07.953Z"
   },
   {
    "duration": 112,
    "start_time": "2021-11-16T11:07:52.072Z"
   },
   {
    "duration": 187,
    "start_time": "2021-11-16T11:09:23.468Z"
   },
   {
    "duration": 4,
    "start_time": "2021-11-16T11:10:01.455Z"
   },
   {
    "duration": 3,
    "start_time": "2021-11-16T11:10:05.069Z"
   },
   {
    "duration": 4,
    "start_time": "2021-11-16T11:10:13.376Z"
   },
   {
    "duration": 3,
    "start_time": "2021-11-16T11:10:14.434Z"
   },
   {
    "duration": 3,
    "start_time": "2021-11-16T11:10:22.853Z"
   },
   {
    "duration": 4,
    "start_time": "2021-11-16T11:27:29.279Z"
   },
   {
    "duration": 4,
    "start_time": "2021-11-16T11:29:08.919Z"
   },
   {
    "duration": 118,
    "start_time": "2021-11-16T11:29:46.703Z"
   },
   {
    "duration": 437,
    "start_time": "2021-11-16T11:36:02.181Z"
   },
   {
    "duration": 157,
    "start_time": "2021-11-16T11:36:14.388Z"
   },
   {
    "duration": 207,
    "start_time": "2021-11-16T11:47:15.898Z"
   },
   {
    "duration": 3,
    "start_time": "2021-11-16T11:53:52.092Z"
   },
   {
    "duration": 3,
    "start_time": "2021-11-16T11:53:52.236Z"
   },
   {
    "duration": 3,
    "start_time": "2021-11-16T11:59:12.005Z"
   },
   {
    "duration": 112,
    "start_time": "2021-11-16T12:00:33.446Z"
   },
   {
    "duration": 3,
    "start_time": "2021-11-16T12:02:14.453Z"
   },
   {
    "duration": 3,
    "start_time": "2021-11-16T12:02:39.512Z"
   },
   {
    "duration": 106,
    "start_time": "2021-11-16T12:03:03.460Z"
   },
   {
    "duration": 3,
    "start_time": "2021-11-17T20:37:21.139Z"
   },
   {
    "duration": 3,
    "start_time": "2021-11-17T20:37:22.229Z"
   },
   {
    "duration": 3,
    "start_time": "2021-11-17T20:38:38.806Z"
   },
   {
    "duration": 3,
    "start_time": "2021-11-17T20:38:41.958Z"
   },
   {
    "duration": 3,
    "start_time": "2021-11-17T20:43:46.551Z"
   },
   {
    "duration": 4,
    "start_time": "2021-11-17T20:58:21.835Z"
   },
   {
    "duration": 3,
    "start_time": "2021-11-17T20:59:21.872Z"
   },
   {
    "duration": 4,
    "start_time": "2021-11-17T20:59:45.352Z"
   },
   {
    "duration": 4,
    "start_time": "2021-11-17T20:59:49.646Z"
   },
   {
    "duration": 159,
    "start_time": "2021-11-17T21:02:26.949Z"
   },
   {
    "duration": 3,
    "start_time": "2021-11-17T21:03:53.461Z"
   },
   {
    "duration": 3,
    "start_time": "2021-11-17T21:03:53.694Z"
   },
   {
    "duration": 3,
    "start_time": "2021-11-17T21:05:28.145Z"
   },
   {
    "duration": 116,
    "start_time": "2021-11-17T21:05:57.787Z"
   },
   {
    "duration": 3,
    "start_time": "2021-11-17T21:06:37.993Z"
   },
   {
    "duration": 3,
    "start_time": "2021-11-17T21:06:38.261Z"
   },
   {
    "duration": 3,
    "start_time": "2021-11-17T21:11:54.358Z"
   },
   {
    "duration": 3,
    "start_time": "2021-11-17T21:12:43.846Z"
   },
   {
    "duration": 4,
    "start_time": "2021-11-17T21:13:08.773Z"
   },
   {
    "duration": 3,
    "start_time": "2021-11-17T21:14:44.441Z"
   },
   {
    "duration": 3,
    "start_time": "2021-11-17T21:15:42.059Z"
   },
   {
    "duration": 4,
    "start_time": "2021-11-17T21:15:51.995Z"
   },
   {
    "duration": 3,
    "start_time": "2021-11-17T21:15:53.923Z"
   },
   {
    "duration": 3,
    "start_time": "2021-11-17T21:15:55.282Z"
   },
   {
    "duration": 3,
    "start_time": "2021-11-17T21:16:28.492Z"
   },
   {
    "duration": 3,
    "start_time": "2021-11-17T21:16:32.603Z"
   },
   {
    "duration": 3,
    "start_time": "2021-11-17T21:17:06.941Z"
   },
   {
    "duration": 98,
    "start_time": "2021-11-17T21:18:05.733Z"
   },
   {
    "duration": 4,
    "start_time": "2021-11-17T21:21:35.255Z"
   },
   {
    "duration": 3,
    "start_time": "2021-11-17T21:21:37.804Z"
   },
   {
    "duration": 4,
    "start_time": "2021-11-17T21:23:06.071Z"
   },
   {
    "duration": 3,
    "start_time": "2021-11-17T21:23:24.799Z"
   },
   {
    "duration": 3,
    "start_time": "2021-11-17T21:23:32.591Z"
   },
   {
    "duration": 98,
    "start_time": "2021-11-17T21:28:31.559Z"
   },
   {
    "duration": 3,
    "start_time": "2021-11-17T21:28:45.448Z"
   },
   {
    "duration": 3,
    "start_time": "2021-11-17T21:29:17.303Z"
   },
   {
    "duration": 3,
    "start_time": "2021-11-17T21:29:29.617Z"
   },
   {
    "duration": 3,
    "start_time": "2021-11-17T21:29:32.681Z"
   },
   {
    "duration": 3,
    "start_time": "2021-11-17T21:36:11.474Z"
   },
   {
    "duration": 3,
    "start_time": "2021-11-17T21:36:14.791Z"
   },
   {
    "duration": 3,
    "start_time": "2021-11-17T21:36:53.943Z"
   },
   {
    "duration": 3,
    "start_time": "2021-11-17T21:36:56.165Z"
   },
   {
    "duration": 4,
    "start_time": "2021-11-17T21:37:16.590Z"
   },
   {
    "duration": 3,
    "start_time": "2021-11-17T21:37:22.702Z"
   },
   {
    "duration": 4,
    "start_time": "2021-11-17T21:38:03.479Z"
   },
   {
    "duration": 3,
    "start_time": "2021-11-17T21:38:08.601Z"
   },
   {
    "duration": 3,
    "start_time": "2021-11-17T21:38:12.928Z"
   },
   {
    "duration": 3,
    "start_time": "2021-11-17T21:38:48.896Z"
   },
   {
    "duration": 2,
    "start_time": "2021-11-17T21:38:49.171Z"
   },
   {
    "duration": 4,
    "start_time": "2021-11-17T21:39:57.889Z"
   },
   {
    "duration": 3,
    "start_time": "2021-11-17T21:39:58.057Z"
   },
   {
    "duration": 3,
    "start_time": "2021-11-17T21:41:20.108Z"
   },
   {
    "duration": 3,
    "start_time": "2021-11-17T21:41:20.629Z"
   },
   {
    "duration": 3,
    "start_time": "2021-11-17T21:42:49.136Z"
   },
   {
    "duration": 3,
    "start_time": "2021-11-17T21:43:15.137Z"
   },
   {
    "duration": 4,
    "start_time": "2021-11-17T21:43:16.766Z"
   },
   {
    "duration": 4,
    "start_time": "2021-11-17T21:43:31.711Z"
   },
   {
    "duration": 3,
    "start_time": "2021-11-17T21:43:36.312Z"
   },
   {
    "duration": 4,
    "start_time": "2021-11-17T21:45:08.825Z"
   },
   {
    "duration": 4,
    "start_time": "2021-11-17T21:45:10.119Z"
   },
   {
    "duration": 4,
    "start_time": "2021-11-17T21:45:13.748Z"
   },
   {
    "duration": 3,
    "start_time": "2021-11-17T21:45:22.219Z"
   },
   {
    "duration": 3,
    "start_time": "2021-11-17T21:45:33.412Z"
   },
   {
    "duration": 2,
    "start_time": "2021-11-17T21:46:01.885Z"
   },
   {
    "duration": 3,
    "start_time": "2021-11-17T21:46:03.628Z"
   },
   {
    "duration": 107,
    "start_time": "2021-11-17T21:47:32.512Z"
   },
   {
    "duration": 103,
    "start_time": "2021-11-17T21:50:36.243Z"
   },
   {
    "duration": 3,
    "start_time": "2021-11-18T06:28:31.440Z"
   },
   {
    "duration": 3,
    "start_time": "2021-11-18T06:29:00.168Z"
   },
   {
    "duration": 3,
    "start_time": "2021-11-18T06:31:27.008Z"
   },
   {
    "duration": 2,
    "start_time": "2021-11-18T06:35:34.288Z"
   },
   {
    "duration": 2,
    "start_time": "2021-11-18T06:38:04.527Z"
   },
   {
    "duration": 808,
    "start_time": "2022-04-05T15:31:32.282Z"
   },
   {
    "duration": 227,
    "start_time": "2022-04-05T15:39:42.186Z"
   },
   {
    "duration": 287,
    "start_time": "2022-04-05T15:40:04.665Z"
   },
   {
    "duration": 298,
    "start_time": "2022-04-05T16:45:01.990Z"
   },
   {
    "duration": 21,
    "start_time": "2022-04-05T16:45:23.562Z"
   },
   {
    "duration": 15,
    "start_time": "2022-04-05T16:45:34.704Z"
   },
   {
    "duration": 3,
    "start_time": "2022-04-05T16:47:29.711Z"
   },
   {
    "duration": 297,
    "start_time": "2022-04-05T16:47:29.715Z"
   },
   {
    "duration": 27,
    "start_time": "2022-04-05T16:47:30.014Z"
   },
   {
    "duration": 13,
    "start_time": "2022-04-05T16:47:30.043Z"
   },
   {
    "duration": 19,
    "start_time": "2022-04-05T16:47:30.059Z"
   },
   {
    "duration": 10,
    "start_time": "2022-04-05T16:47:30.079Z"
   },
   {
    "duration": 43,
    "start_time": "2022-04-05T16:47:30.090Z"
   },
   {
    "duration": 12,
    "start_time": "2022-04-05T16:47:30.136Z"
   },
   {
    "duration": 13,
    "start_time": "2022-04-05T16:47:30.150Z"
   },
   {
    "duration": 16,
    "start_time": "2022-04-05T16:47:30.165Z"
   },
   {
    "duration": 22,
    "start_time": "2022-04-05T16:47:30.183Z"
   },
   {
    "duration": 33,
    "start_time": "2022-04-05T16:47:30.207Z"
   },
   {
    "duration": 182,
    "start_time": "2022-04-05T17:42:41.759Z"
   },
   {
    "duration": 91,
    "start_time": "2022-04-05T17:43:09.812Z"
   },
   {
    "duration": 9,
    "start_time": "2022-04-05T17:43:18.919Z"
   },
   {
    "duration": 186,
    "start_time": "2022-04-05T17:43:28.231Z"
   },
   {
    "duration": 4,
    "start_time": "2022-04-05T17:55:35.840Z"
   },
   {
    "duration": 9,
    "start_time": "2022-04-05T17:55:43.554Z"
   },
   {
    "duration": 164,
    "start_time": "2022-04-05T17:56:04.003Z"
   },
   {
    "duration": 9,
    "start_time": "2022-04-05T17:56:12.292Z"
   },
   {
    "duration": 8,
    "start_time": "2022-04-05T17:56:19.172Z"
   },
   {
    "duration": 8,
    "start_time": "2022-04-05T17:56:57.742Z"
   },
   {
    "duration": 168,
    "start_time": "2022-04-05T17:57:34.812Z"
   },
   {
    "duration": 8,
    "start_time": "2022-04-05T17:57:55.601Z"
   },
   {
    "duration": 1995,
    "start_time": "2022-04-05T18:35:02.171Z"
   },
   {
    "duration": 7,
    "start_time": "2022-04-05T18:35:13.326Z"
   },
   {
    "duration": 9,
    "start_time": "2022-04-05T18:42:30.119Z"
   },
   {
    "duration": 436,
    "start_time": "2022-04-05T18:42:34.858Z"
   },
   {
    "duration": 6,
    "start_time": "2022-04-05T18:42:47.678Z"
   },
   {
    "duration": 9,
    "start_time": "2022-04-05T18:42:51.142Z"
   },
   {
    "duration": 4,
    "start_time": "2022-04-05T18:43:42.681Z"
   },
   {
    "duration": 5,
    "start_time": "2022-04-05T18:43:55.168Z"
   },
   {
    "duration": 11,
    "start_time": "2022-04-05T18:43:58.781Z"
   },
   {
    "duration": 9,
    "start_time": "2022-04-05T19:05:33.592Z"
   },
   {
    "duration": 21,
    "start_time": "2022-04-05T19:07:31.175Z"
   },
   {
    "duration": 18,
    "start_time": "2022-04-05T19:07:45.653Z"
   },
   {
    "duration": 14,
    "start_time": "2022-04-05T19:08:25.154Z"
   },
   {
    "duration": 8,
    "start_time": "2022-04-05T19:08:44.649Z"
   },
   {
    "duration": 8,
    "start_time": "2022-04-05T19:08:48.383Z"
   },
   {
    "duration": 65,
    "start_time": "2022-04-05T19:30:54.571Z"
   },
   {
    "duration": 192,
    "start_time": "2022-04-05T19:31:22.163Z"
   },
   {
    "duration": 162,
    "start_time": "2022-04-05T19:31:59.649Z"
   },
   {
    "duration": 190,
    "start_time": "2022-04-05T19:32:15.723Z"
   },
   {
    "duration": 1951,
    "start_time": "2022-04-05T19:33:44.529Z"
   },
   {
    "duration": 170,
    "start_time": "2022-04-05T19:40:46.503Z"
   },
   {
    "duration": 165,
    "start_time": "2022-04-05T19:41:05.003Z"
   },
   {
    "duration": 185,
    "start_time": "2022-04-05T19:41:25.793Z"
   },
   {
    "duration": 11,
    "start_time": "2022-04-05T19:43:24.861Z"
   },
   {
    "duration": 12,
    "start_time": "2022-04-05T19:44:02.189Z"
   },
   {
    "duration": 174,
    "start_time": "2022-04-05T19:46:13.947Z"
   },
   {
    "duration": 167,
    "start_time": "2022-04-05T19:46:28.842Z"
   },
   {
    "duration": 28,
    "start_time": "2022-04-05T19:46:39.933Z"
   },
   {
    "duration": 4,
    "start_time": "2022-04-05T19:59:12.567Z"
   },
   {
    "duration": 11,
    "start_time": "2022-04-05T19:59:22.781Z"
   },
   {
    "duration": 11,
    "start_time": "2022-04-05T19:59:45.439Z"
   },
   {
    "duration": 166,
    "start_time": "2022-04-05T19:59:58.049Z"
   },
   {
    "duration": 29,
    "start_time": "2022-04-05T20:00:00.879Z"
   },
   {
    "duration": 9,
    "start_time": "2022-04-05T20:00:04.949Z"
   },
   {
    "duration": 10,
    "start_time": "2022-04-05T20:11:37.580Z"
   },
   {
    "duration": 10,
    "start_time": "2022-04-05T20:11:44.230Z"
   },
   {
    "duration": 13,
    "start_time": "2022-04-05T20:16:16.160Z"
   },
   {
    "duration": 13,
    "start_time": "2022-04-05T20:16:31.978Z"
   },
   {
    "duration": 13,
    "start_time": "2022-04-05T20:16:49.932Z"
   },
   {
    "duration": 10,
    "start_time": "2022-04-05T20:17:54.957Z"
   },
   {
    "duration": 906,
    "start_time": "2022-04-05T20:18:11.204Z"
   },
   {
    "duration": 289,
    "start_time": "2022-04-05T20:18:12.112Z"
   },
   {
    "duration": 21,
    "start_time": "2022-04-05T20:18:12.403Z"
   },
   {
    "duration": 21,
    "start_time": "2022-04-05T20:18:12.426Z"
   },
   {
    "duration": 5,
    "start_time": "2022-04-05T20:18:12.450Z"
   },
   {
    "duration": 13,
    "start_time": "2022-04-05T20:18:12.456Z"
   },
   {
    "duration": 20,
    "start_time": "2022-04-05T20:18:12.471Z"
   },
   {
    "duration": 8,
    "start_time": "2022-04-05T20:18:12.493Z"
   },
   {
    "duration": 245,
    "start_time": "2022-04-05T20:18:12.503Z"
   },
   {
    "duration": 28,
    "start_time": "2022-04-05T20:18:12.749Z"
   },
   {
    "duration": 9,
    "start_time": "2022-04-05T20:18:12.779Z"
   },
   {
    "duration": 16,
    "start_time": "2022-04-05T20:18:12.789Z"
   },
   {
    "duration": 42,
    "start_time": "2022-04-05T20:18:12.806Z"
   },
   {
    "duration": 14,
    "start_time": "2022-04-05T20:18:12.852Z"
   },
   {
    "duration": 9,
    "start_time": "2022-04-05T20:18:12.868Z"
   },
   {
    "duration": 12,
    "start_time": "2022-04-05T20:18:12.879Z"
   },
   {
    "duration": 9,
    "start_time": "2022-04-05T20:18:12.893Z"
   },
   {
    "duration": 10,
    "start_time": "2022-04-05T20:18:12.932Z"
   },
   {
    "duration": 13,
    "start_time": "2022-04-05T20:18:12.943Z"
   },
   {
    "duration": 5,
    "start_time": "2022-04-05T20:18:12.958Z"
   },
   {
    "duration": 8,
    "start_time": "2022-04-05T20:18:12.965Z"
   },
   {
    "duration": 6,
    "start_time": "2022-04-05T20:18:12.974Z"
   },
   {
    "duration": 5,
    "start_time": "2022-04-05T20:18:12.981Z"
   },
   {
    "duration": 7,
    "start_time": "2022-04-05T20:18:12.988Z"
   },
   {
    "duration": 5,
    "start_time": "2022-04-05T20:18:12.996Z"
   },
   {
    "duration": 6,
    "start_time": "2022-04-05T20:18:13.002Z"
   },
   {
    "duration": 3,
    "start_time": "2022-04-05T20:18:13.034Z"
   },
   {
    "duration": 19,
    "start_time": "2022-04-05T20:18:13.039Z"
   },
   {
    "duration": 6,
    "start_time": "2022-04-05T20:18:13.059Z"
   },
   {
    "duration": 8,
    "start_time": "2022-04-05T20:18:13.066Z"
   },
   {
    "duration": 6,
    "start_time": "2022-04-05T20:18:13.076Z"
   },
   {
    "duration": 6,
    "start_time": "2022-04-05T20:18:13.083Z"
   },
   {
    "duration": 5,
    "start_time": "2022-04-05T20:18:13.090Z"
   },
   {
    "duration": 4,
    "start_time": "2022-04-05T20:18:13.097Z"
   },
   {
    "duration": 7,
    "start_time": "2022-04-05T20:18:13.102Z"
   },
   {
    "duration": 4,
    "start_time": "2022-04-05T20:18:13.110Z"
   },
   {
    "duration": 5,
    "start_time": "2022-04-05T20:18:13.115Z"
   },
   {
    "duration": 11,
    "start_time": "2022-04-05T20:18:13.122Z"
   },
   {
    "duration": 16,
    "start_time": "2022-04-05T20:18:13.136Z"
   },
   {
    "duration": 3,
    "start_time": "2022-04-05T20:18:13.154Z"
   },
   {
    "duration": 2,
    "start_time": "2022-04-05T20:18:13.161Z"
   },
   {
    "duration": 4,
    "start_time": "2022-04-05T20:18:13.165Z"
   },
   {
    "duration": 4,
    "start_time": "2022-04-05T20:18:13.171Z"
   },
   {
    "duration": 4,
    "start_time": "2022-04-05T20:18:13.176Z"
   },
   {
    "duration": 3,
    "start_time": "2022-04-05T20:18:13.182Z"
   },
   {
    "duration": 11,
    "start_time": "2022-04-05T20:18:38.682Z"
   },
   {
    "duration": 803,
    "start_time": "2022-04-05T20:23:18.774Z"
   },
   {
    "duration": 281,
    "start_time": "2022-04-05T20:23:19.579Z"
   },
   {
    "duration": 28,
    "start_time": "2022-04-05T20:23:19.861Z"
   },
   {
    "duration": 16,
    "start_time": "2022-04-05T20:23:19.891Z"
   },
   {
    "duration": 5,
    "start_time": "2022-04-05T20:23:19.909Z"
   },
   {
    "duration": 18,
    "start_time": "2022-04-05T20:23:19.915Z"
   },
   {
    "duration": 18,
    "start_time": "2022-04-05T20:23:19.935Z"
   },
   {
    "duration": 12,
    "start_time": "2022-04-05T20:23:19.955Z"
   },
   {
    "duration": 212,
    "start_time": "2022-04-05T20:23:19.968Z"
   },
   {
    "duration": 27,
    "start_time": "2022-04-05T20:23:20.182Z"
   },
   {
    "duration": 10,
    "start_time": "2022-04-05T20:23:26.737Z"
   },
   {
    "duration": 97,
    "start_time": "2022-04-05T20:23:31.362Z"
   },
   {
    "duration": 13,
    "start_time": "2022-04-05T20:26:35.480Z"
   },
   {
    "duration": 9,
    "start_time": "2022-04-05T20:26:42.412Z"
   },
   {
    "duration": 10,
    "start_time": "2022-04-05T20:27:16.134Z"
   },
   {
    "duration": 785,
    "start_time": "2022-04-05T20:27:31.582Z"
   },
   {
    "duration": 267,
    "start_time": "2022-04-05T20:27:32.369Z"
   },
   {
    "duration": 21,
    "start_time": "2022-04-05T20:27:32.638Z"
   },
   {
    "duration": 14,
    "start_time": "2022-04-05T20:27:32.661Z"
   },
   {
    "duration": 4,
    "start_time": "2022-04-05T20:27:32.677Z"
   },
   {
    "duration": 11,
    "start_time": "2022-04-05T20:27:32.683Z"
   },
   {
    "duration": 46,
    "start_time": "2022-04-05T20:27:32.695Z"
   },
   {
    "duration": 10,
    "start_time": "2022-04-05T20:27:32.743Z"
   },
   {
    "duration": 191,
    "start_time": "2022-04-05T20:27:32.754Z"
   },
   {
    "duration": 26,
    "start_time": "2022-04-05T20:27:32.947Z"
   },
   {
    "duration": 10,
    "start_time": "2022-04-05T20:27:36.605Z"
   },
   {
    "duration": 10,
    "start_time": "2022-04-05T20:38:53.781Z"
   },
   {
    "duration": 84,
    "start_time": "2022-04-05T20:40:14.323Z"
   },
   {
    "duration": 2,
    "start_time": "2022-04-05T20:40:23.971Z"
   },
   {
    "duration": 274,
    "start_time": "2022-04-05T20:40:24.000Z"
   },
   {
    "duration": 20,
    "start_time": "2022-04-05T20:40:24.276Z"
   },
   {
    "duration": 10,
    "start_time": "2022-04-05T20:40:24.298Z"
   },
   {
    "duration": 5,
    "start_time": "2022-04-05T20:40:24.310Z"
   },
   {
    "duration": 16,
    "start_time": "2022-04-05T20:40:24.317Z"
   },
   {
    "duration": 17,
    "start_time": "2022-04-05T20:40:24.422Z"
   },
   {
    "duration": 9,
    "start_time": "2022-04-05T20:40:24.441Z"
   },
   {
    "duration": 192,
    "start_time": "2022-04-05T20:40:24.452Z"
   },
   {
    "duration": 26,
    "start_time": "2022-04-05T20:40:24.646Z"
   },
   {
    "duration": 9,
    "start_time": "2022-04-05T20:40:24.674Z"
   },
   {
    "duration": 16,
    "start_time": "2022-04-05T20:40:24.685Z"
   },
   {
    "duration": 32,
    "start_time": "2022-04-05T20:40:24.702Z"
   },
   {
    "duration": 14,
    "start_time": "2022-04-05T20:40:24.736Z"
   },
   {
    "duration": 10,
    "start_time": "2022-04-05T20:40:27.375Z"
   },
   {
    "duration": 7,
    "start_time": "2022-04-05T20:41:07.616Z"
   },
   {
    "duration": 8,
    "start_time": "2022-04-05T20:41:14.654Z"
   },
   {
    "duration": 10,
    "start_time": "2022-04-05T20:46:18.500Z"
   },
   {
    "duration": 5,
    "start_time": "2022-04-05T20:48:03.555Z"
   },
   {
    "duration": 13,
    "start_time": "2022-04-05T20:48:25.404Z"
   },
   {
    "duration": 9,
    "start_time": "2022-04-05T20:55:01.061Z"
   },
   {
    "duration": 9,
    "start_time": "2022-04-05T20:55:56.837Z"
   },
   {
    "duration": 11,
    "start_time": "2022-04-05T20:56:47.924Z"
   },
   {
    "duration": 10,
    "start_time": "2022-04-05T20:57:08.616Z"
   },
   {
    "duration": 10,
    "start_time": "2022-04-05T20:57:47.894Z"
   },
   {
    "duration": 15,
    "start_time": "2022-04-05T20:57:51.163Z"
   },
   {
    "duration": 9,
    "start_time": "2022-04-05T20:58:00.935Z"
   },
   {
    "duration": 775,
    "start_time": "2022-04-05T21:00:41.286Z"
   },
   {
    "duration": 274,
    "start_time": "2022-04-05T21:00:42.063Z"
   },
   {
    "duration": 21,
    "start_time": "2022-04-05T21:00:42.339Z"
   },
   {
    "duration": 16,
    "start_time": "2022-04-05T21:00:42.363Z"
   },
   {
    "duration": 4,
    "start_time": "2022-04-05T21:00:42.381Z"
   },
   {
    "duration": 15,
    "start_time": "2022-04-05T21:00:42.387Z"
   },
   {
    "duration": 40,
    "start_time": "2022-04-05T21:00:42.404Z"
   },
   {
    "duration": 10,
    "start_time": "2022-04-05T21:00:42.446Z"
   },
   {
    "duration": 202,
    "start_time": "2022-04-05T21:00:42.457Z"
   },
   {
    "duration": 27,
    "start_time": "2022-04-05T21:00:42.662Z"
   },
   {
    "duration": 9,
    "start_time": "2022-04-05T21:00:57.223Z"
   },
   {
    "duration": 13,
    "start_time": "2022-04-05T21:02:17.246Z"
   },
   {
    "duration": 13,
    "start_time": "2022-04-05T21:03:08.179Z"
   },
   {
    "duration": 14,
    "start_time": "2022-04-05T21:03:17.167Z"
   },
   {
    "duration": 14,
    "start_time": "2022-04-05T21:03:20.414Z"
   },
   {
    "duration": 47,
    "start_time": "2022-04-08T01:34:54.483Z"
   },
   {
    "duration": 834,
    "start_time": "2022-04-08T01:35:02.750Z"
   },
   {
    "duration": 291,
    "start_time": "2022-04-08T01:35:03.586Z"
   },
   {
    "duration": 22,
    "start_time": "2022-04-08T01:35:03.878Z"
   },
   {
    "duration": 17,
    "start_time": "2022-04-08T01:35:03.902Z"
   },
   {
    "duration": 5,
    "start_time": "2022-04-08T01:35:03.921Z"
   },
   {
    "duration": 12,
    "start_time": "2022-04-08T01:35:03.927Z"
   },
   {
    "duration": 19,
    "start_time": "2022-04-08T01:35:03.941Z"
   },
   {
    "duration": 11,
    "start_time": "2022-04-08T01:35:03.962Z"
   },
   {
    "duration": 210,
    "start_time": "2022-04-08T01:35:03.975Z"
   },
   {
    "duration": 29,
    "start_time": "2022-04-08T01:35:04.187Z"
   },
   {
    "duration": 28,
    "start_time": "2022-04-08T01:35:04.218Z"
   },
   {
    "duration": 17,
    "start_time": "2022-04-08T01:35:04.248Z"
   },
   {
    "duration": 8,
    "start_time": "2022-04-08T01:35:04.268Z"
   },
   {
    "duration": 14,
    "start_time": "2022-04-08T01:35:04.280Z"
   },
   {
    "duration": 50,
    "start_time": "2022-04-08T01:35:04.295Z"
   },
   {
    "duration": 11,
    "start_time": "2022-04-08T01:35:04.348Z"
   },
   {
    "duration": 12,
    "start_time": "2022-04-08T01:35:04.361Z"
   },
   {
    "duration": 9,
    "start_time": "2022-04-08T01:35:04.375Z"
   },
   {
    "duration": 11,
    "start_time": "2022-04-08T01:35:04.386Z"
   },
   {
    "duration": 47,
    "start_time": "2022-04-08T01:35:04.398Z"
   },
   {
    "duration": 4,
    "start_time": "2022-04-08T01:35:04.447Z"
   },
   {
    "duration": 5,
    "start_time": "2022-04-08T01:35:04.453Z"
   },
   {
    "duration": 5,
    "start_time": "2022-04-08T01:35:04.459Z"
   },
   {
    "duration": 5,
    "start_time": "2022-04-08T01:35:04.466Z"
   },
   {
    "duration": 5,
    "start_time": "2022-04-08T01:35:04.472Z"
   },
   {
    "duration": 5,
    "start_time": "2022-04-08T01:35:04.479Z"
   },
   {
    "duration": 9,
    "start_time": "2022-04-08T01:35:04.485Z"
   },
   {
    "duration": 5,
    "start_time": "2022-04-08T01:35:04.496Z"
   },
   {
    "duration": 12,
    "start_time": "2022-04-08T01:35:04.502Z"
   },
   {
    "duration": 5,
    "start_time": "2022-04-08T01:35:04.515Z"
   },
   {
    "duration": 18,
    "start_time": "2022-04-08T01:35:04.522Z"
   },
   {
    "duration": 5,
    "start_time": "2022-04-08T01:35:04.542Z"
   },
   {
    "duration": 8,
    "start_time": "2022-04-08T01:35:04.549Z"
   },
   {
    "duration": 8,
    "start_time": "2022-04-08T01:35:04.559Z"
   },
   {
    "duration": 5,
    "start_time": "2022-04-08T01:35:04.569Z"
   },
   {
    "duration": 7,
    "start_time": "2022-04-08T01:35:04.575Z"
   },
   {
    "duration": 7,
    "start_time": "2022-04-08T01:35:04.584Z"
   },
   {
    "duration": 6,
    "start_time": "2022-04-08T01:35:04.593Z"
   },
   {
    "duration": 7,
    "start_time": "2022-04-08T01:35:04.601Z"
   },
   {
    "duration": 5,
    "start_time": "2022-04-08T01:35:04.609Z"
   },
   {
    "duration": 9,
    "start_time": "2022-04-08T01:35:04.617Z"
   },
   {
    "duration": 10,
    "start_time": "2022-04-08T01:35:04.628Z"
   },
   {
    "duration": 8,
    "start_time": "2022-04-08T01:35:04.639Z"
   },
   {
    "duration": 8,
    "start_time": "2022-04-08T01:35:04.649Z"
   },
   {
    "duration": 8,
    "start_time": "2022-04-08T01:35:04.659Z"
   },
   {
    "duration": 7,
    "start_time": "2022-04-08T01:35:04.669Z"
   },
   {
    "duration": 6,
    "start_time": "2022-04-08T01:35:46.392Z"
   },
   {
    "duration": 6,
    "start_time": "2022-04-08T01:35:56.113Z"
   },
   {
    "duration": 9,
    "start_time": "2022-04-08T01:36:18.832Z"
   },
   {
    "duration": 53,
    "start_time": "2022-04-08T01:36:34.448Z"
   },
   {
    "duration": 11,
    "start_time": "2022-04-08T01:36:41.892Z"
   },
   {
    "duration": 9,
    "start_time": "2022-04-08T01:37:00.960Z"
   },
   {
    "duration": 10,
    "start_time": "2022-04-08T01:38:03.272Z"
   },
   {
    "duration": 9,
    "start_time": "2022-04-08T01:38:08.775Z"
   },
   {
    "duration": 8,
    "start_time": "2022-04-08T01:45:18.690Z"
   },
   {
    "duration": 770,
    "start_time": "2022-04-08T01:47:39.893Z"
   },
   {
    "duration": 268,
    "start_time": "2022-04-08T01:47:40.665Z"
   },
   {
    "duration": 22,
    "start_time": "2022-04-08T01:47:40.934Z"
   },
   {
    "duration": 16,
    "start_time": "2022-04-08T01:47:40.959Z"
   },
   {
    "duration": 6,
    "start_time": "2022-04-08T01:47:40.976Z"
   },
   {
    "duration": 11,
    "start_time": "2022-04-08T01:47:40.983Z"
   },
   {
    "duration": 51,
    "start_time": "2022-04-08T01:47:40.996Z"
   },
   {
    "duration": 10,
    "start_time": "2022-04-08T01:47:41.049Z"
   },
   {
    "duration": 196,
    "start_time": "2022-04-08T01:47:41.061Z"
   },
   {
    "duration": 28,
    "start_time": "2022-04-08T01:47:41.260Z"
   },
   {
    "duration": 15,
    "start_time": "2022-04-08T01:47:48.321Z"
   },
   {
    "duration": 17,
    "start_time": "2022-04-08T01:48:40.773Z"
   },
   {
    "duration": 15,
    "start_time": "2022-04-08T01:50:53.513Z"
   },
   {
    "duration": 9,
    "start_time": "2022-04-08T01:50:55.812Z"
   },
   {
    "duration": 13,
    "start_time": "2022-04-08T01:50:57.019Z"
   },
   {
    "duration": 8,
    "start_time": "2022-04-08T01:50:58.939Z"
   },
   {
    "duration": 9,
    "start_time": "2022-04-08T01:50:59.854Z"
   },
   {
    "duration": 11,
    "start_time": "2022-04-08T01:51:00.590Z"
   },
   {
    "duration": 11,
    "start_time": "2022-04-08T01:52:54.450Z"
   },
   {
    "duration": 12,
    "start_time": "2022-04-08T01:53:06.101Z"
   },
   {
    "duration": 45,
    "start_time": "2022-04-08T01:54:27.908Z"
   },
   {
    "duration": 841,
    "start_time": "2022-04-08T01:54:31.826Z"
   },
   {
    "duration": 259,
    "start_time": "2022-04-08T01:54:34.316Z"
   },
   {
    "duration": 21,
    "start_time": "2022-04-08T01:54:37.784Z"
   },
   {
    "duration": 15,
    "start_time": "2022-04-08T01:54:38.868Z"
   },
   {
    "duration": 4,
    "start_time": "2022-04-08T01:54:46.974Z"
   },
   {
    "duration": 10,
    "start_time": "2022-04-08T01:54:59.529Z"
   },
   {
    "duration": 50,
    "start_time": "2022-04-08T01:55:26.788Z"
   },
   {
    "duration": 8,
    "start_time": "2022-04-08T02:07:45.693Z"
   },
   {
    "duration": 18,
    "start_time": "2022-04-08T02:08:39.004Z"
   },
   {
    "duration": 10,
    "start_time": "2022-04-08T02:08:43.506Z"
   },
   {
    "duration": 177,
    "start_time": "2022-04-08T02:10:55.598Z"
   },
   {
    "duration": 29,
    "start_time": "2022-04-08T02:10:57.172Z"
   },
   {
    "duration": 19,
    "start_time": "2022-04-08T02:14:40.417Z"
   },
   {
    "duration": 8,
    "start_time": "2022-04-08T02:15:16.230Z"
   },
   {
    "duration": 7,
    "start_time": "2022-04-08T02:15:21.963Z"
   },
   {
    "duration": 8,
    "start_time": "2022-04-08T02:15:46.711Z"
   },
   {
    "duration": 8,
    "start_time": "2022-04-08T02:15:53.677Z"
   },
   {
    "duration": 3,
    "start_time": "2022-04-08T02:19:37.062Z"
   },
   {
    "duration": 6,
    "start_time": "2022-04-08T02:19:48.674Z"
   },
   {
    "duration": 1704,
    "start_time": "2022-04-08T02:22:00.418Z"
   },
   {
    "duration": 6,
    "start_time": "2022-04-08T02:22:22.115Z"
   },
   {
    "duration": 10,
    "start_time": "2022-04-08T02:22:34.704Z"
   },
   {
    "duration": 10,
    "start_time": "2022-04-08T02:26:19.488Z"
   },
   {
    "duration": 11,
    "start_time": "2022-04-08T02:26:42.373Z"
   },
   {
    "duration": 10,
    "start_time": "2022-04-08T02:26:49.984Z"
   },
   {
    "duration": 9,
    "start_time": "2022-04-08T02:27:02.238Z"
   },
   {
    "duration": 9,
    "start_time": "2022-04-08T02:27:13.669Z"
   },
   {
    "duration": 10,
    "start_time": "2022-04-08T02:27:23.036Z"
   },
   {
    "duration": 4,
    "start_time": "2022-04-08T02:27:39.155Z"
   },
   {
    "duration": 9,
    "start_time": "2022-04-08T02:27:42.464Z"
   },
   {
    "duration": 4,
    "start_time": "2022-04-08T02:28:35.952Z"
   },
   {
    "duration": 3,
    "start_time": "2022-04-08T02:28:41.692Z"
   },
   {
    "duration": 12,
    "start_time": "2022-04-08T02:30:06.855Z"
   },
   {
    "duration": 4,
    "start_time": "2022-04-08T02:34:23.488Z"
   },
   {
    "duration": 13,
    "start_time": "2022-04-08T02:34:31.203Z"
   },
   {
    "duration": 6,
    "start_time": "2022-04-08T02:36:26.622Z"
   },
   {
    "duration": 1730,
    "start_time": "2022-04-08T02:36:33.159Z"
   },
   {
    "duration": 1674,
    "start_time": "2022-04-08T02:36:45.905Z"
   },
   {
    "duration": 1669,
    "start_time": "2022-04-08T02:36:50.560Z"
   },
   {
    "duration": 1819,
    "start_time": "2022-04-08T02:37:11.617Z"
   },
   {
    "duration": 1745,
    "start_time": "2022-04-08T02:37:22.297Z"
   },
   {
    "duration": 3,
    "start_time": "2022-04-08T02:37:28.947Z"
   },
   {
    "duration": 3,
    "start_time": "2022-04-08T02:37:36.085Z"
   },
   {
    "duration": 13,
    "start_time": "2022-04-08T02:37:38.641Z"
   },
   {
    "duration": 5,
    "start_time": "2022-04-08T02:37:50.953Z"
   },
   {
    "duration": 1731,
    "start_time": "2022-04-08T02:37:59.132Z"
   },
   {
    "duration": 3,
    "start_time": "2022-04-08T02:38:06.111Z"
   },
   {
    "duration": 12,
    "start_time": "2022-04-08T02:38:08.156Z"
   },
   {
    "duration": 6,
    "start_time": "2022-04-08T02:47:25.184Z"
   },
   {
    "duration": 12,
    "start_time": "2022-04-08T02:47:30.354Z"
   },
   {
    "duration": 15,
    "start_time": "2022-04-08T02:48:10.324Z"
   },
   {
    "duration": 8,
    "start_time": "2022-04-08T02:48:11.285Z"
   },
   {
    "duration": 12,
    "start_time": "2022-04-08T02:48:12.427Z"
   },
   {
    "duration": 8,
    "start_time": "2022-04-08T02:48:16.426Z"
   },
   {
    "duration": 9,
    "start_time": "2022-04-08T02:49:15.980Z"
   },
   {
    "duration": 13,
    "start_time": "2022-04-08T02:50:04.237Z"
   },
   {
    "duration": 9,
    "start_time": "2022-04-08T02:50:06.294Z"
   },
   {
    "duration": 11,
    "start_time": "2022-04-08T02:50:31.680Z"
   },
   {
    "duration": 9,
    "start_time": "2022-04-08T02:50:34.037Z"
   },
   {
    "duration": 11,
    "start_time": "2022-04-08T02:50:43.358Z"
   },
   {
    "duration": 12,
    "start_time": "2022-04-08T02:50:44.386Z"
   },
   {
    "duration": 4,
    "start_time": "2022-04-08T02:55:35.237Z"
   },
   {
    "duration": 13,
    "start_time": "2022-04-08T02:55:41.478Z"
   },
   {
    "duration": 13,
    "start_time": "2022-04-08T02:57:51.369Z"
   },
   {
    "duration": 9,
    "start_time": "2022-04-08T02:58:02.624Z"
   },
   {
    "duration": 9,
    "start_time": "2022-04-08T02:58:13.864Z"
   },
   {
    "duration": 8,
    "start_time": "2022-04-08T02:58:23.224Z"
   },
   {
    "duration": 13,
    "start_time": "2022-04-08T03:01:11.165Z"
   },
   {
    "duration": 15,
    "start_time": "2022-04-08T03:01:34.838Z"
   },
   {
    "duration": 9,
    "start_time": "2022-04-08T03:01:36.541Z"
   },
   {
    "duration": 13,
    "start_time": "2022-04-08T03:01:46.691Z"
   },
   {
    "duration": 14,
    "start_time": "2022-04-08T03:01:48.747Z"
   },
   {
    "duration": 10,
    "start_time": "2022-04-08T03:01:51.528Z"
   },
   {
    "duration": 10,
    "start_time": "2022-04-08T03:01:53.735Z"
   },
   {
    "duration": 1095,
    "start_time": "2022-04-09T17:59:39.829Z"
   },
   {
    "duration": 318,
    "start_time": "2022-04-09T17:59:40.926Z"
   },
   {
    "duration": 28,
    "start_time": "2022-04-09T17:59:41.246Z"
   },
   {
    "duration": 23,
    "start_time": "2022-04-09T17:59:41.278Z"
   },
   {
    "duration": 5,
    "start_time": "2022-04-09T17:59:41.304Z"
   },
   {
    "duration": 58,
    "start_time": "2022-04-09T17:59:41.311Z"
   },
   {
    "duration": 16,
    "start_time": "2022-04-09T17:59:41.371Z"
   },
   {
    "duration": 26,
    "start_time": "2022-04-09T17:59:41.389Z"
   },
   {
    "duration": 15,
    "start_time": "2022-04-09T17:59:41.417Z"
   },
   {
    "duration": 313,
    "start_time": "2022-04-09T17:59:41.471Z"
   },
   {
    "duration": 44,
    "start_time": "2022-04-09T17:59:41.786Z"
   },
   {
    "duration": 4,
    "start_time": "2022-04-09T17:59:41.832Z"
   },
   {
    "duration": 42,
    "start_time": "2022-04-09T17:59:41.839Z"
   },
   {
    "duration": 21,
    "start_time": "2022-04-09T17:59:41.883Z"
   },
   {
    "duration": 13,
    "start_time": "2022-04-09T17:59:41.907Z"
   },
   {
    "duration": 54,
    "start_time": "2022-04-09T17:59:41.923Z"
   },
   {
    "duration": 15,
    "start_time": "2022-04-09T17:59:41.979Z"
   },
   {
    "duration": 20,
    "start_time": "2022-04-09T17:59:41.996Z"
   },
   {
    "duration": 18,
    "start_time": "2022-04-09T17:59:42.018Z"
   },
   {
    "duration": 19,
    "start_time": "2022-04-09T17:59:42.068Z"
   },
   {
    "duration": 27,
    "start_time": "2022-04-09T17:59:42.089Z"
   },
   {
    "duration": 58,
    "start_time": "2022-04-09T17:59:42.119Z"
   },
   {
    "duration": 20,
    "start_time": "2022-04-09T17:59:42.180Z"
   },
   {
    "duration": 13,
    "start_time": "2022-04-09T17:59:42.202Z"
   },
   {
    "duration": 13,
    "start_time": "2022-04-09T17:59:42.217Z"
   },
   {
    "duration": 43,
    "start_time": "2022-04-09T17:59:42.232Z"
   },
   {
    "duration": 4,
    "start_time": "2022-04-09T17:59:42.277Z"
   },
   {
    "duration": 3,
    "start_time": "2022-04-09T17:59:42.287Z"
   },
   {
    "duration": 6,
    "start_time": "2022-04-09T17:59:42.292Z"
   },
   {
    "duration": 6,
    "start_time": "2022-04-09T17:59:42.300Z"
   },
   {
    "duration": 7,
    "start_time": "2022-04-09T17:59:42.308Z"
   },
   {
    "duration": 6,
    "start_time": "2022-04-09T17:59:42.317Z"
   },
   {
    "duration": 44,
    "start_time": "2022-04-09T17:59:42.325Z"
   },
   {
    "duration": 6,
    "start_time": "2022-04-09T17:59:42.372Z"
   },
   {
    "duration": 6,
    "start_time": "2022-04-09T17:59:42.380Z"
   },
   {
    "duration": 5,
    "start_time": "2022-04-09T17:59:42.388Z"
   },
   {
    "duration": 5,
    "start_time": "2022-04-09T17:59:42.396Z"
   },
   {
    "duration": 5,
    "start_time": "2022-04-09T17:59:42.404Z"
   },
   {
    "duration": 5,
    "start_time": "2022-04-09T17:59:42.411Z"
   },
   {
    "duration": 49,
    "start_time": "2022-04-09T17:59:42.418Z"
   },
   {
    "duration": 4,
    "start_time": "2022-04-09T17:59:42.469Z"
   },
   {
    "duration": 5,
    "start_time": "2022-04-09T17:59:42.475Z"
   },
   {
    "duration": 5,
    "start_time": "2022-04-09T17:59:42.483Z"
   },
   {
    "duration": 5,
    "start_time": "2022-04-09T17:59:42.490Z"
   },
   {
    "duration": 5,
    "start_time": "2022-04-09T17:59:42.497Z"
   },
   {
    "duration": 5,
    "start_time": "2022-04-09T17:59:42.504Z"
   },
   {
    "duration": 5,
    "start_time": "2022-04-09T17:59:42.511Z"
   },
   {
    "duration": 5,
    "start_time": "2022-04-09T17:59:42.519Z"
   },
   {
    "duration": 4,
    "start_time": "2022-04-09T17:59:42.568Z"
   },
   {
    "duration": 5,
    "start_time": "2022-04-09T17:59:42.575Z"
   },
   {
    "duration": 5,
    "start_time": "2022-04-09T17:59:42.583Z"
   },
   {
    "duration": 4,
    "start_time": "2022-04-09T17:59:42.591Z"
   },
   {
    "duration": 22,
    "start_time": "2022-04-09T18:44:38.801Z"
   },
   {
    "duration": 31,
    "start_time": "2022-04-09T18:52:58.534Z"
   },
   {
    "duration": 37,
    "start_time": "2022-04-09T18:53:06.267Z"
   },
   {
    "duration": 39,
    "start_time": "2022-04-09T18:57:32.767Z"
   },
   {
    "duration": 98,
    "start_time": "2022-04-09T18:59:54.242Z"
   },
   {
    "duration": 146,
    "start_time": "2022-04-09T19:01:27.781Z"
   },
   {
    "duration": 34,
    "start_time": "2022-04-09T19:01:48.327Z"
   },
   {
    "duration": 31,
    "start_time": "2022-04-09T19:02:16.724Z"
   },
   {
    "duration": 36,
    "start_time": "2022-04-09T19:02:52.932Z"
   },
   {
    "duration": 44,
    "start_time": "2022-04-09T19:02:58.066Z"
   },
   {
    "duration": 38,
    "start_time": "2022-04-09T19:09:38.900Z"
   },
   {
    "duration": 53,
    "start_time": "2022-04-09T19:09:47.484Z"
   },
   {
    "duration": 93,
    "start_time": "2022-04-09T19:11:39.453Z"
   },
   {
    "duration": 58,
    "start_time": "2022-04-09T19:13:49.294Z"
   },
   {
    "duration": 19,
    "start_time": "2022-04-09T19:14:48.319Z"
   },
   {
    "duration": 51,
    "start_time": "2022-04-09T19:19:29.407Z"
   },
   {
    "duration": 19,
    "start_time": "2022-04-09T19:19:33.480Z"
   },
   {
    "duration": 54,
    "start_time": "2022-04-09T19:19:47.203Z"
   },
   {
    "duration": 20,
    "start_time": "2022-04-09T19:19:47.880Z"
   },
   {
    "duration": 54,
    "start_time": "2022-04-09T19:19:52.893Z"
   },
   {
    "duration": 20,
    "start_time": "2022-04-09T19:19:53.124Z"
   },
   {
    "duration": 64,
    "start_time": "2022-04-09T19:20:49.549Z"
   },
   {
    "duration": 24,
    "start_time": "2022-04-09T19:20:50.929Z"
   },
   {
    "duration": 67,
    "start_time": "2022-04-09T19:22:37.655Z"
   },
   {
    "duration": 22,
    "start_time": "2022-04-09T19:22:38.392Z"
   },
   {
    "duration": 27,
    "start_time": "2022-04-09T19:22:42.267Z"
   },
   {
    "duration": 40,
    "start_time": "2022-04-09T19:52:21.865Z"
   },
   {
    "duration": 16,
    "start_time": "2022-04-09T19:55:58.796Z"
   },
   {
    "duration": 27,
    "start_time": "2022-04-09T19:56:15.321Z"
   },
   {
    "duration": 4,
    "start_time": "2022-04-09T19:59:58.620Z"
   },
   {
    "duration": 334,
    "start_time": "2022-04-09T19:59:58.627Z"
   },
   {
    "duration": 26,
    "start_time": "2022-04-09T19:59:58.964Z"
   },
   {
    "duration": 14,
    "start_time": "2022-04-09T19:59:58.992Z"
   },
   {
    "duration": 84,
    "start_time": "2022-04-09T19:59:59.008Z"
   },
   {
    "duration": 36,
    "start_time": "2022-04-09T19:59:59.094Z"
   },
   {
    "duration": 40,
    "start_time": "2022-04-09T19:59:59.132Z"
   },
   {
    "duration": 24,
    "start_time": "2022-04-09T19:59:59.174Z"
   },
   {
    "duration": 14,
    "start_time": "2022-04-09T19:59:59.200Z"
   },
   {
    "duration": 80,
    "start_time": "2022-04-09T19:59:59.218Z"
   },
   {
    "duration": 23,
    "start_time": "2022-04-09T19:59:59.300Z"
   },
   {
    "duration": 44,
    "start_time": "2022-04-09T19:59:59.325Z"
   },
   {
    "duration": 11,
    "start_time": "2022-04-09T19:59:59.372Z"
   },
   {
    "duration": 41,
    "start_time": "2022-04-09T19:59:59.385Z"
   },
   {
    "duration": 51,
    "start_time": "2022-04-09T19:59:59.428Z"
   },
   {
    "duration": 15,
    "start_time": "2022-04-09T19:59:59.481Z"
   },
   {
    "duration": 16,
    "start_time": "2022-04-09T19:59:59.498Z"
   },
   {
    "duration": 13,
    "start_time": "2022-04-09T19:59:59.516Z"
   },
   {
    "duration": 48,
    "start_time": "2022-04-09T19:59:59.532Z"
   },
   {
    "duration": 21,
    "start_time": "2022-04-09T19:59:59.583Z"
   },
   {
    "duration": 17,
    "start_time": "2022-04-09T19:59:59.607Z"
   },
   {
    "duration": 51,
    "start_time": "2022-04-09T19:59:59.626Z"
   },
   {
    "duration": 21,
    "start_time": "2022-04-09T19:59:59.679Z"
   },
   {
    "duration": 16,
    "start_time": "2022-04-09T19:59:59.703Z"
   },
   {
    "duration": 3,
    "start_time": "2022-04-09T19:59:59.721Z"
   },
   {
    "duration": 39,
    "start_time": "2022-04-09T19:59:59.728Z"
   },
   {
    "duration": 4,
    "start_time": "2022-04-09T19:59:59.770Z"
   },
   {
    "duration": 3,
    "start_time": "2022-04-09T19:59:59.779Z"
   },
   {
    "duration": 7,
    "start_time": "2022-04-09T19:59:59.785Z"
   },
   {
    "duration": 6,
    "start_time": "2022-04-09T19:59:59.793Z"
   },
   {
    "duration": 7,
    "start_time": "2022-04-09T19:59:59.801Z"
   },
   {
    "duration": 5,
    "start_time": "2022-04-09T19:59:59.810Z"
   },
   {
    "duration": 5,
    "start_time": "2022-04-09T19:59:59.817Z"
   },
   {
    "duration": 43,
    "start_time": "2022-04-09T19:59:59.824Z"
   },
   {
    "duration": 6,
    "start_time": "2022-04-09T19:59:59.869Z"
   },
   {
    "duration": 5,
    "start_time": "2022-04-09T19:59:59.877Z"
   },
   {
    "duration": 5,
    "start_time": "2022-04-09T19:59:59.884Z"
   },
   {
    "duration": 6,
    "start_time": "2022-04-09T19:59:59.891Z"
   },
   {
    "duration": 8,
    "start_time": "2022-04-09T19:59:59.899Z"
   },
   {
    "duration": 6,
    "start_time": "2022-04-09T19:59:59.909Z"
   },
   {
    "duration": 5,
    "start_time": "2022-04-09T19:59:59.916Z"
   },
   {
    "duration": 45,
    "start_time": "2022-04-09T19:59:59.923Z"
   },
   {
    "duration": 7,
    "start_time": "2022-04-09T19:59:59.970Z"
   },
   {
    "duration": 5,
    "start_time": "2022-04-09T19:59:59.979Z"
   },
   {
    "duration": 5,
    "start_time": "2022-04-09T19:59:59.986Z"
   },
   {
    "duration": 6,
    "start_time": "2022-04-09T19:59:59.993Z"
   },
   {
    "duration": 9,
    "start_time": "2022-04-09T20:00:00.004Z"
   },
   {
    "duration": 8,
    "start_time": "2022-04-09T20:00:00.015Z"
   },
   {
    "duration": 8,
    "start_time": "2022-04-09T20:00:00.025Z"
   },
   {
    "duration": 33,
    "start_time": "2022-04-09T20:00:00.035Z"
   },
   {
    "duration": 26,
    "start_time": "2022-04-09T20:47:54.360Z"
   },
   {
    "duration": 11,
    "start_time": "2022-04-09T20:49:40.196Z"
   },
   {
    "duration": 20,
    "start_time": "2022-04-09T20:49:43.885Z"
   },
   {
    "duration": 21,
    "start_time": "2022-04-09T21:45:56.282Z"
   },
   {
    "duration": 4,
    "start_time": "2022-04-09T21:52:03.539Z"
   },
   {
    "duration": 1649,
    "start_time": "2022-04-09T21:52:46.350Z"
   },
   {
    "duration": 11,
    "start_time": "2022-04-09T21:52:59.409Z"
   },
   {
    "duration": 19,
    "start_time": "2022-04-09T21:53:43.185Z"
   },
   {
    "duration": 31,
    "start_time": "2022-04-09T21:53:47.178Z"
   },
   {
    "duration": 22,
    "start_time": "2022-04-09T21:54:24.960Z"
   },
   {
    "duration": 30,
    "start_time": "2022-04-09T21:54:39.282Z"
   },
   {
    "duration": 34,
    "start_time": "2022-04-09T21:54:45.109Z"
   },
   {
    "duration": 32,
    "start_time": "2022-04-09T21:57:17.735Z"
   },
   {
    "duration": 89,
    "start_time": "2022-04-09T21:57:30.477Z"
   },
   {
    "duration": 6,
    "start_time": "2022-04-09T21:58:18.086Z"
   },
   {
    "duration": 26,
    "start_time": "2022-04-09T21:58:26.344Z"
   },
   {
    "duration": 27,
    "start_time": "2022-04-09T21:58:59.653Z"
   },
   {
    "duration": 1664,
    "start_time": "2022-04-09T21:59:17.080Z"
   },
   {
    "duration": 20,
    "start_time": "2022-04-09T21:59:34.880Z"
   },
   {
    "duration": 18,
    "start_time": "2022-04-09T22:38:14.846Z"
   },
   {
    "duration": 32,
    "start_time": "2022-04-09T22:38:23.984Z"
   },
   {
    "duration": 5,
    "start_time": "2022-04-09T22:38:51.900Z"
   },
   {
    "duration": 364,
    "start_time": "2022-04-09T22:38:51.909Z"
   },
   {
    "duration": 33,
    "start_time": "2022-04-09T22:38:52.275Z"
   },
   {
    "duration": 13,
    "start_time": "2022-04-09T22:38:52.310Z"
   },
   {
    "duration": 95,
    "start_time": "2022-04-09T22:38:52.327Z"
   },
   {
    "duration": 48,
    "start_time": "2022-04-09T22:38:52.425Z"
   },
   {
    "duration": 27,
    "start_time": "2022-04-09T22:38:52.476Z"
   },
   {
    "duration": 23,
    "start_time": "2022-04-09T22:38:52.505Z"
   },
   {
    "duration": 44,
    "start_time": "2022-04-09T22:38:52.531Z"
   },
   {
    "duration": 61,
    "start_time": "2022-04-09T22:38:52.579Z"
   },
   {
    "duration": 47,
    "start_time": "2022-04-09T22:38:52.643Z"
   },
   {
    "duration": 20,
    "start_time": "2022-04-09T22:38:52.692Z"
   },
   {
    "duration": 11,
    "start_time": "2022-04-09T22:38:52.715Z"
   },
   {
    "duration": 85,
    "start_time": "2022-04-09T22:38:52.731Z"
   },
   {
    "duration": 58,
    "start_time": "2022-04-09T22:38:52.819Z"
   },
   {
    "duration": 16,
    "start_time": "2022-04-09T22:38:52.880Z"
   },
   {
    "duration": 16,
    "start_time": "2022-04-09T22:38:52.898Z"
   },
   {
    "duration": 14,
    "start_time": "2022-04-09T22:38:52.917Z"
   },
   {
    "duration": 56,
    "start_time": "2022-04-09T22:38:52.933Z"
   },
   {
    "duration": 22,
    "start_time": "2022-04-09T22:38:52.992Z"
   },
   {
    "duration": 51,
    "start_time": "2022-04-09T22:38:53.016Z"
   },
   {
    "duration": 30,
    "start_time": "2022-04-09T22:38:53.070Z"
   },
   {
    "duration": 21,
    "start_time": "2022-04-09T22:38:53.102Z"
   },
   {
    "duration": 45,
    "start_time": "2022-04-09T22:38:53.126Z"
   },
   {
    "duration": 11,
    "start_time": "2022-04-09T22:38:53.174Z"
   },
   {
    "duration": 10,
    "start_time": "2022-04-09T22:38:53.188Z"
   },
   {
    "duration": 8,
    "start_time": "2022-04-09T22:38:53.201Z"
   },
   {
    "duration": 5,
    "start_time": "2022-04-09T22:38:53.212Z"
   },
   {
    "duration": 5,
    "start_time": "2022-04-09T22:38:53.220Z"
   },
   {
    "duration": 8,
    "start_time": "2022-04-09T22:38:53.227Z"
   },
   {
    "duration": 5,
    "start_time": "2022-04-09T22:38:53.237Z"
   },
   {
    "duration": 25,
    "start_time": "2022-04-09T22:38:53.244Z"
   },
   {
    "duration": 9,
    "start_time": "2022-04-09T22:38:53.272Z"
   },
   {
    "duration": 8,
    "start_time": "2022-04-09T22:38:53.284Z"
   },
   {
    "duration": 8,
    "start_time": "2022-04-09T22:38:53.295Z"
   },
   {
    "duration": 27,
    "start_time": "2022-04-09T22:38:53.306Z"
   },
   {
    "duration": 19,
    "start_time": "2022-04-09T22:38:53.367Z"
   },
   {
    "duration": 19,
    "start_time": "2022-04-09T22:38:53.388Z"
   },
   {
    "duration": 24,
    "start_time": "2022-04-09T22:38:53.410Z"
   },
   {
    "duration": 75,
    "start_time": "2022-04-09T22:38:53.436Z"
   },
   {
    "duration": 3,
    "start_time": "2022-04-09T22:38:53.518Z"
   },
   {
    "duration": 7,
    "start_time": "2022-04-09T22:38:53.524Z"
   },
   {
    "duration": 6,
    "start_time": "2022-04-09T22:38:53.533Z"
   },
   {
    "duration": 53,
    "start_time": "2022-04-09T22:38:53.541Z"
   },
   {
    "duration": 9,
    "start_time": "2022-04-09T22:38:53.597Z"
   },
   {
    "duration": 8,
    "start_time": "2022-04-09T22:38:53.608Z"
   },
   {
    "duration": 5,
    "start_time": "2022-04-09T22:38:53.618Z"
   },
   {
    "duration": 4,
    "start_time": "2022-04-09T22:38:53.625Z"
   },
   {
    "duration": 6,
    "start_time": "2022-04-09T22:38:53.631Z"
   },
   {
    "duration": 12,
    "start_time": "2022-04-09T22:38:53.639Z"
   },
   {
    "duration": 8,
    "start_time": "2022-04-09T22:43:48.718Z"
   },
   {
    "duration": 21,
    "start_time": "2022-04-09T22:45:06.819Z"
   },
   {
    "duration": 50,
    "start_time": "2022-04-09T22:46:31.744Z"
   },
   {
    "duration": 43,
    "start_time": "2022-04-09T22:47:11.094Z"
   },
   {
    "duration": 4,
    "start_time": "2022-04-09T22:47:17.284Z"
   },
   {
    "duration": 373,
    "start_time": "2022-04-09T22:47:17.290Z"
   },
   {
    "duration": 35,
    "start_time": "2022-04-09T22:47:17.665Z"
   },
   {
    "duration": 14,
    "start_time": "2022-04-09T22:47:17.702Z"
   },
   {
    "duration": 94,
    "start_time": "2022-04-09T22:47:17.719Z"
   },
   {
    "duration": 36,
    "start_time": "2022-04-09T22:47:17.815Z"
   },
   {
    "duration": 24,
    "start_time": "2022-04-09T22:47:17.873Z"
   },
   {
    "duration": 23,
    "start_time": "2022-04-09T22:47:17.900Z"
   },
   {
    "duration": 41,
    "start_time": "2022-04-09T22:47:17.926Z"
   },
   {
    "duration": 64,
    "start_time": "2022-04-09T22:47:17.973Z"
   },
   {
    "duration": 41,
    "start_time": "2022-04-09T22:47:18.039Z"
   },
   {
    "duration": 21,
    "start_time": "2022-04-09T22:47:18.083Z"
   },
   {
    "duration": 11,
    "start_time": "2022-04-09T22:47:18.106Z"
   },
   {
    "duration": 80,
    "start_time": "2022-04-09T22:47:18.119Z"
   },
   {
    "duration": 34,
    "start_time": "2022-04-09T22:47:18.202Z"
   },
   {
    "duration": 41,
    "start_time": "2022-04-09T22:47:18.239Z"
   },
   {
    "duration": 16,
    "start_time": "2022-04-09T22:47:18.282Z"
   },
   {
    "duration": 16,
    "start_time": "2022-04-09T22:47:18.300Z"
   },
   {
    "duration": 18,
    "start_time": "2022-04-09T22:47:18.318Z"
   },
   {
    "duration": 27,
    "start_time": "2022-04-09T22:47:18.369Z"
   },
   {
    "duration": 19,
    "start_time": "2022-04-09T22:47:18.398Z"
   },
   {
    "duration": 53,
    "start_time": "2022-04-09T22:47:18.419Z"
   },
   {
    "duration": 31,
    "start_time": "2022-04-09T22:47:18.475Z"
   },
   {
    "duration": 22,
    "start_time": "2022-04-09T22:47:18.509Z"
   },
   {
    "duration": 5,
    "start_time": "2022-04-09T22:47:18.534Z"
   },
   {
    "duration": 4,
    "start_time": "2022-04-09T22:47:18.568Z"
   },
   {
    "duration": 16,
    "start_time": "2022-04-09T22:47:18.575Z"
   },
   {
    "duration": 3,
    "start_time": "2022-04-09T22:47:18.599Z"
   },
   {
    "duration": 5,
    "start_time": "2022-04-09T22:47:18.605Z"
   },
   {
    "duration": 8,
    "start_time": "2022-04-09T22:47:18.612Z"
   },
   {
    "duration": 9,
    "start_time": "2022-04-09T22:47:18.623Z"
   },
   {
    "duration": 16,
    "start_time": "2022-04-09T22:47:18.634Z"
   },
   {
    "duration": 4,
    "start_time": "2022-04-09T22:47:18.675Z"
   },
   {
    "duration": 7,
    "start_time": "2022-04-09T22:47:18.681Z"
   },
   {
    "duration": 5,
    "start_time": "2022-04-09T22:47:18.691Z"
   },
   {
    "duration": 20,
    "start_time": "2022-04-09T22:47:18.698Z"
   },
   {
    "duration": 4,
    "start_time": "2022-04-09T22:47:18.720Z"
   },
   {
    "duration": 56,
    "start_time": "2022-04-09T22:47:18.727Z"
   },
   {
    "duration": 24,
    "start_time": "2022-04-09T22:47:18.785Z"
   },
   {
    "duration": 70,
    "start_time": "2022-04-09T22:47:18.811Z"
   },
   {
    "duration": 3,
    "start_time": "2022-04-09T22:47:18.884Z"
   },
   {
    "duration": 6,
    "start_time": "2022-04-09T22:47:18.888Z"
   },
   {
    "duration": 7,
    "start_time": "2022-04-09T22:47:18.896Z"
   },
   {
    "duration": 9,
    "start_time": "2022-04-09T22:47:18.905Z"
   },
   {
    "duration": 10,
    "start_time": "2022-04-09T22:47:18.916Z"
   },
   {
    "duration": 5,
    "start_time": "2022-04-09T22:47:18.928Z"
   },
   {
    "duration": 33,
    "start_time": "2022-04-09T22:47:18.935Z"
   },
   {
    "duration": 16,
    "start_time": "2022-04-09T22:47:18.971Z"
   },
   {
    "duration": 6,
    "start_time": "2022-04-09T22:47:18.989Z"
   },
   {
    "duration": 6,
    "start_time": "2022-04-09T22:47:18.997Z"
   },
   {
    "duration": 16,
    "start_time": "2022-04-09T22:47:57.806Z"
   },
   {
    "duration": 26,
    "start_time": "2022-04-09T23:13:32.184Z"
   },
   {
    "duration": 46,
    "start_time": "2022-04-09T23:14:56.923Z"
   },
   {
    "duration": 52,
    "start_time": "2022-04-09T23:15:18.347Z"
   },
   {
    "duration": 5,
    "start_time": "2022-04-09T23:15:29.564Z"
   },
   {
    "duration": 380,
    "start_time": "2022-04-09T23:15:29.573Z"
   },
   {
    "duration": 33,
    "start_time": "2022-04-09T23:15:29.955Z"
   },
   {
    "duration": 13,
    "start_time": "2022-04-09T23:15:29.991Z"
   },
   {
    "duration": 104,
    "start_time": "2022-04-09T23:15:30.006Z"
   },
   {
    "duration": 38,
    "start_time": "2022-04-09T23:15:30.113Z"
   },
   {
    "duration": 26,
    "start_time": "2022-04-09T23:15:30.168Z"
   },
   {
    "duration": 24,
    "start_time": "2022-04-09T23:15:30.196Z"
   },
   {
    "duration": 48,
    "start_time": "2022-04-09T23:15:30.223Z"
   },
   {
    "duration": 63,
    "start_time": "2022-04-09T23:15:30.279Z"
   },
   {
    "duration": 47,
    "start_time": "2022-04-09T23:15:30.344Z"
   },
   {
    "duration": 23,
    "start_time": "2022-04-09T23:15:30.394Z"
   },
   {
    "duration": 13,
    "start_time": "2022-04-09T23:15:30.420Z"
   },
   {
    "duration": 80,
    "start_time": "2022-04-09T23:15:30.435Z"
   },
   {
    "duration": 68,
    "start_time": "2022-04-09T23:15:30.517Z"
   },
   {
    "duration": 17,
    "start_time": "2022-04-09T23:15:30.588Z"
   },
   {
    "duration": 38,
    "start_time": "2022-04-09T23:15:30.608Z"
   },
   {
    "duration": 38,
    "start_time": "2022-04-09T23:15:30.649Z"
   },
   {
    "duration": 31,
    "start_time": "2022-04-09T23:15:30.691Z"
   },
   {
    "duration": 32,
    "start_time": "2022-04-09T23:15:30.724Z"
   },
   {
    "duration": 28,
    "start_time": "2022-04-09T23:15:30.758Z"
   },
   {
    "duration": 28,
    "start_time": "2022-04-09T23:15:30.788Z"
   },
   {
    "duration": 21,
    "start_time": "2022-04-09T23:15:30.818Z"
   },
   {
    "duration": 54,
    "start_time": "2022-04-09T23:15:30.842Z"
   },
   {
    "duration": 12,
    "start_time": "2022-04-09T23:15:30.898Z"
   },
   {
    "duration": 17,
    "start_time": "2022-04-09T23:15:30.913Z"
   },
   {
    "duration": 25,
    "start_time": "2022-04-09T23:15:30.932Z"
   },
   {
    "duration": 26,
    "start_time": "2022-04-09T23:15:30.963Z"
   },
   {
    "duration": 42,
    "start_time": "2022-04-09T23:15:30.992Z"
   },
   {
    "duration": 18,
    "start_time": "2022-04-09T23:15:31.036Z"
   },
   {
    "duration": 27,
    "start_time": "2022-04-09T23:15:31.056Z"
   },
   {
    "duration": 15,
    "start_time": "2022-04-09T23:15:31.086Z"
   },
   {
    "duration": 21,
    "start_time": "2022-04-09T23:15:31.104Z"
   },
   {
    "duration": 9,
    "start_time": "2022-04-09T23:15:31.127Z"
   },
   {
    "duration": 26,
    "start_time": "2022-04-09T23:15:31.138Z"
   },
   {
    "duration": 37,
    "start_time": "2022-04-09T23:15:31.167Z"
   },
   {
    "duration": 5,
    "start_time": "2022-04-09T23:15:31.206Z"
   },
   {
    "duration": 28,
    "start_time": "2022-04-09T23:15:31.213Z"
   },
   {
    "duration": 31,
    "start_time": "2022-04-09T23:15:31.243Z"
   },
   {
    "duration": 50,
    "start_time": "2022-04-09T23:15:31.277Z"
   },
   {
    "duration": 4,
    "start_time": "2022-04-09T23:15:31.329Z"
   },
   {
    "duration": 9,
    "start_time": "2022-04-09T23:15:31.335Z"
   },
   {
    "duration": 15,
    "start_time": "2022-04-09T23:15:31.368Z"
   },
   {
    "duration": 8,
    "start_time": "2022-04-09T23:15:31.386Z"
   },
   {
    "duration": 7,
    "start_time": "2022-04-09T23:15:31.396Z"
   },
   {
    "duration": 8,
    "start_time": "2022-04-09T23:15:31.405Z"
   },
   {
    "duration": 10,
    "start_time": "2022-04-09T23:15:31.415Z"
   },
   {
    "duration": 17,
    "start_time": "2022-04-09T23:15:31.427Z"
   },
   {
    "duration": 9,
    "start_time": "2022-04-09T23:15:31.447Z"
   },
   {
    "duration": 6,
    "start_time": "2022-04-09T23:15:31.459Z"
   },
   {
    "duration": 39,
    "start_time": "2022-04-09T23:15:43.389Z"
   },
   {
    "duration": 4,
    "start_time": "2022-04-09T23:15:55.282Z"
   },
   {
    "duration": 364,
    "start_time": "2022-04-09T23:15:55.289Z"
   },
   {
    "duration": 34,
    "start_time": "2022-04-09T23:15:55.655Z"
   },
   {
    "duration": 14,
    "start_time": "2022-04-09T23:15:55.692Z"
   },
   {
    "duration": 97,
    "start_time": "2022-04-09T23:15:55.710Z"
   },
   {
    "duration": 38,
    "start_time": "2022-04-09T23:15:55.809Z"
   },
   {
    "duration": 43,
    "start_time": "2022-04-09T23:15:55.849Z"
   },
   {
    "duration": 25,
    "start_time": "2022-04-09T23:15:55.894Z"
   },
   {
    "duration": 14,
    "start_time": "2022-04-09T23:15:55.921Z"
   },
   {
    "duration": 60,
    "start_time": "2022-04-09T23:15:55.970Z"
   },
   {
    "duration": 43,
    "start_time": "2022-04-09T23:15:56.032Z"
   },
   {
    "duration": 32,
    "start_time": "2022-04-09T23:15:56.078Z"
   },
   {
    "duration": 12,
    "start_time": "2022-04-09T23:15:56.112Z"
   },
   {
    "duration": 76,
    "start_time": "2022-04-09T23:15:56.129Z"
   },
   {
    "duration": 32,
    "start_time": "2022-04-09T23:15:56.207Z"
   },
   {
    "duration": 45,
    "start_time": "2022-04-09T23:15:56.241Z"
   },
   {
    "duration": 14,
    "start_time": "2022-04-09T23:15:56.288Z"
   },
   {
    "duration": 14,
    "start_time": "2022-04-09T23:15:56.304Z"
   },
   {
    "duration": 52,
    "start_time": "2022-04-09T23:15:56.320Z"
   },
   {
    "duration": 31,
    "start_time": "2022-04-09T23:15:56.376Z"
   },
   {
    "duration": 15,
    "start_time": "2022-04-09T23:15:56.409Z"
   },
   {
    "duration": 19,
    "start_time": "2022-04-09T23:15:56.426Z"
   },
   {
    "duration": 29,
    "start_time": "2022-04-09T23:15:56.468Z"
   },
   {
    "duration": 21,
    "start_time": "2022-04-09T23:15:56.500Z"
   },
   {
    "duration": 3,
    "start_time": "2022-04-09T23:15:56.523Z"
   },
   {
    "duration": 42,
    "start_time": "2022-04-09T23:15:56.528Z"
   },
   {
    "duration": 13,
    "start_time": "2022-04-09T23:15:56.573Z"
   },
   {
    "duration": 5,
    "start_time": "2022-04-09T23:15:56.588Z"
   },
   {
    "duration": 5,
    "start_time": "2022-04-09T23:15:56.595Z"
   },
   {
    "duration": 6,
    "start_time": "2022-04-09T23:15:56.603Z"
   },
   {
    "duration": 7,
    "start_time": "2022-04-09T23:15:56.611Z"
   },
   {
    "duration": 5,
    "start_time": "2022-04-09T23:15:56.620Z"
   },
   {
    "duration": 5,
    "start_time": "2022-04-09T23:15:56.627Z"
   },
   {
    "duration": 36,
    "start_time": "2022-04-09T23:15:56.634Z"
   },
   {
    "duration": 16,
    "start_time": "2022-04-09T23:15:56.673Z"
   },
   {
    "duration": 19,
    "start_time": "2022-04-09T23:15:56.692Z"
   },
   {
    "duration": 7,
    "start_time": "2022-04-09T23:15:56.714Z"
   },
   {
    "duration": 44,
    "start_time": "2022-04-09T23:15:56.724Z"
   },
   {
    "duration": 25,
    "start_time": "2022-04-09T23:15:56.771Z"
   },
   {
    "duration": 68,
    "start_time": "2022-04-09T23:15:56.799Z"
   },
   {
    "duration": 4,
    "start_time": "2022-04-09T23:15:56.875Z"
   },
   {
    "duration": 12,
    "start_time": "2022-04-09T23:15:56.882Z"
   },
   {
    "duration": 5,
    "start_time": "2022-04-09T23:15:56.897Z"
   },
   {
    "duration": 7,
    "start_time": "2022-04-09T23:15:56.904Z"
   },
   {
    "duration": 7,
    "start_time": "2022-04-09T23:15:56.912Z"
   },
   {
    "duration": 6,
    "start_time": "2022-04-09T23:15:56.921Z"
   },
   {
    "duration": 5,
    "start_time": "2022-04-09T23:15:56.929Z"
   },
   {
    "duration": 13,
    "start_time": "2022-04-09T23:15:56.969Z"
   },
   {
    "duration": 6,
    "start_time": "2022-04-09T23:15:56.984Z"
   },
   {
    "duration": 13,
    "start_time": "2022-04-09T23:15:56.992Z"
   },
   {
    "duration": 23,
    "start_time": "2022-04-10T02:52:48.822Z"
   },
   {
    "duration": 31,
    "start_time": "2022-04-10T02:53:56.761Z"
   },
   {
    "duration": 7,
    "start_time": "2022-04-10T02:54:08.497Z"
   },
   {
    "duration": 25,
    "start_time": "2022-04-10T02:54:11.413Z"
   },
   {
    "duration": 39,
    "start_time": "2022-04-10T03:04:40.759Z"
   },
   {
    "duration": 4,
    "start_time": "2022-04-10T03:04:56.756Z"
   },
   {
    "duration": 367,
    "start_time": "2022-04-10T03:04:56.763Z"
   },
   {
    "duration": 27,
    "start_time": "2022-04-10T03:04:57.132Z"
   },
   {
    "duration": 21,
    "start_time": "2022-04-10T03:04:57.161Z"
   },
   {
    "duration": 69,
    "start_time": "2022-04-10T03:04:57.185Z"
   },
   {
    "duration": 45,
    "start_time": "2022-04-10T03:04:57.266Z"
   },
   {
    "duration": 20,
    "start_time": "2022-04-10T03:04:57.313Z"
   },
   {
    "duration": 55,
    "start_time": "2022-04-10T03:04:57.335Z"
   },
   {
    "duration": 14,
    "start_time": "2022-04-10T03:04:57.392Z"
   },
   {
    "duration": 88,
    "start_time": "2022-04-10T03:04:57.408Z"
   },
   {
    "duration": 22,
    "start_time": "2022-04-10T03:04:57.500Z"
   },
   {
    "duration": 22,
    "start_time": "2022-04-10T03:04:57.524Z"
   },
   {
    "duration": 15,
    "start_time": "2022-04-10T03:04:57.568Z"
   },
   {
    "duration": 42,
    "start_time": "2022-04-10T03:04:57.586Z"
   },
   {
    "duration": 65,
    "start_time": "2022-04-10T03:04:57.630Z"
   },
   {
    "duration": 15,
    "start_time": "2022-04-10T03:04:57.697Z"
   },
   {
    "duration": 22,
    "start_time": "2022-04-10T03:04:57.715Z"
   },
   {
    "duration": 31,
    "start_time": "2022-04-10T03:04:57.739Z"
   },
   {
    "duration": 20,
    "start_time": "2022-04-10T03:04:57.773Z"
   },
   {
    "duration": 19,
    "start_time": "2022-04-10T03:04:57.796Z"
   },
   {
    "duration": 15,
    "start_time": "2022-04-10T03:04:57.818Z"
   },
   {
    "duration": 56,
    "start_time": "2022-04-10T03:04:57.835Z"
   },
   {
    "duration": 23,
    "start_time": "2022-04-10T03:04:57.893Z"
   },
   {
    "duration": 64,
    "start_time": "2022-04-10T03:04:57.918Z"
   },
   {
    "duration": 5,
    "start_time": "2022-04-10T03:04:57.984Z"
   },
   {
    "duration": 5,
    "start_time": "2022-04-10T03:04:57.991Z"
   },
   {
    "duration": 6,
    "start_time": "2022-04-10T03:04:57.998Z"
   },
   {
    "duration": 5,
    "start_time": "2022-04-10T03:04:58.006Z"
   },
   {
    "duration": 3,
    "start_time": "2022-04-10T03:04:58.017Z"
   },
   {
    "duration": 6,
    "start_time": "2022-04-10T03:04:58.022Z"
   },
   {
    "duration": 38,
    "start_time": "2022-04-10T03:04:58.030Z"
   },
   {
    "duration": 7,
    "start_time": "2022-04-10T03:04:58.076Z"
   },
   {
    "duration": 6,
    "start_time": "2022-04-10T03:04:58.085Z"
   },
   {
    "duration": 5,
    "start_time": "2022-04-10T03:04:58.093Z"
   },
   {
    "duration": 4,
    "start_time": "2022-04-10T03:04:58.101Z"
   },
   {
    "duration": 20,
    "start_time": "2022-04-10T03:04:58.108Z"
   },
   {
    "duration": 39,
    "start_time": "2022-04-10T03:04:58.130Z"
   },
   {
    "duration": 32,
    "start_time": "2022-04-10T03:04:58.172Z"
   },
   {
    "duration": 22,
    "start_time": "2022-04-10T03:04:58.206Z"
   },
   {
    "duration": 66,
    "start_time": "2022-04-10T03:04:58.230Z"
   },
   {
    "duration": 30,
    "start_time": "2022-04-10T03:04:58.299Z"
   },
   {
    "duration": 4,
    "start_time": "2022-04-10T03:04:58.331Z"
   },
   {
    "duration": 31,
    "start_time": "2022-04-10T03:04:58.338Z"
   },
   {
    "duration": 18,
    "start_time": "2022-04-10T03:04:58.372Z"
   },
   {
    "duration": 5,
    "start_time": "2022-04-10T03:04:58.392Z"
   },
   {
    "duration": 4,
    "start_time": "2022-04-10T03:04:58.400Z"
   },
   {
    "duration": 4,
    "start_time": "2022-04-10T03:04:58.407Z"
   },
   {
    "duration": 5,
    "start_time": "2022-04-10T03:04:58.413Z"
   },
   {
    "duration": 4,
    "start_time": "2022-04-10T03:04:58.421Z"
   },
   {
    "duration": 40,
    "start_time": "2022-04-10T03:04:58.428Z"
   },
   {
    "duration": 12,
    "start_time": "2022-04-10T03:04:58.476Z"
   },
   {
    "duration": 36,
    "start_time": "2022-04-10T03:14:55.464Z"
   },
   {
    "duration": 27,
    "start_time": "2022-04-10T03:15:01.080Z"
   },
   {
    "duration": 3,
    "start_time": "2022-04-10T03:15:02.302Z"
   },
   {
    "duration": 16,
    "start_time": "2022-04-10T03:15:06.045Z"
   },
   {
    "duration": 16,
    "start_time": "2022-04-10T03:15:08.301Z"
   },
   {
    "duration": 5,
    "start_time": "2022-04-10T03:15:16.852Z"
   },
   {
    "duration": 388,
    "start_time": "2022-04-10T03:15:16.861Z"
   },
   {
    "duration": 33,
    "start_time": "2022-04-10T03:15:17.252Z"
   },
   {
    "duration": 13,
    "start_time": "2022-04-10T03:15:17.288Z"
   },
   {
    "duration": 96,
    "start_time": "2022-04-10T03:15:17.304Z"
   },
   {
    "duration": 37,
    "start_time": "2022-04-10T03:15:17.403Z"
   },
   {
    "duration": 43,
    "start_time": "2022-04-10T03:15:17.442Z"
   },
   {
    "duration": 26,
    "start_time": "2022-04-10T03:15:17.487Z"
   },
   {
    "duration": 14,
    "start_time": "2022-04-10T03:15:17.515Z"
   },
   {
    "duration": 61,
    "start_time": "2022-04-10T03:15:17.569Z"
   },
   {
    "duration": 43,
    "start_time": "2022-04-10T03:15:17.632Z"
   },
   {
    "duration": 29,
    "start_time": "2022-04-10T03:15:17.678Z"
   },
   {
    "duration": 11,
    "start_time": "2022-04-10T03:15:17.710Z"
   },
   {
    "duration": 71,
    "start_time": "2022-04-10T03:15:17.724Z"
   },
   {
    "duration": 32,
    "start_time": "2022-04-10T03:15:17.797Z"
   },
   {
    "duration": 36,
    "start_time": "2022-04-10T03:15:17.831Z"
   },
   {
    "duration": 17,
    "start_time": "2022-04-10T03:15:17.870Z"
   },
   {
    "duration": 14,
    "start_time": "2022-04-10T03:15:17.889Z"
   },
   {
    "duration": 20,
    "start_time": "2022-04-10T03:15:17.905Z"
   },
   {
    "duration": 60,
    "start_time": "2022-04-10T03:15:17.927Z"
   },
   {
    "duration": 15,
    "start_time": "2022-04-10T03:15:17.989Z"
   },
   {
    "duration": 19,
    "start_time": "2022-04-10T03:15:18.007Z"
   },
   {
    "duration": 62,
    "start_time": "2022-04-10T03:15:18.028Z"
   },
   {
    "duration": 21,
    "start_time": "2022-04-10T03:15:18.092Z"
   },
   {
    "duration": 3,
    "start_time": "2022-04-10T03:15:18.115Z"
   },
   {
    "duration": 5,
    "start_time": "2022-04-10T03:15:18.121Z"
   },
   {
    "duration": 6,
    "start_time": "2022-04-10T03:15:18.129Z"
   },
   {
    "duration": 3,
    "start_time": "2022-04-10T03:15:18.172Z"
   },
   {
    "duration": 12,
    "start_time": "2022-04-10T03:15:18.178Z"
   },
   {
    "duration": 8,
    "start_time": "2022-04-10T03:15:18.192Z"
   },
   {
    "duration": 6,
    "start_time": "2022-04-10T03:15:18.202Z"
   },
   {
    "duration": 6,
    "start_time": "2022-04-10T03:15:18.210Z"
   },
   {
    "duration": 5,
    "start_time": "2022-04-10T03:15:18.218Z"
   },
   {
    "duration": 5,
    "start_time": "2022-04-10T03:15:18.226Z"
   },
   {
    "duration": 37,
    "start_time": "2022-04-10T03:15:18.234Z"
   },
   {
    "duration": 27,
    "start_time": "2022-04-10T03:15:18.275Z"
   },
   {
    "duration": 4,
    "start_time": "2022-04-10T03:15:18.304Z"
   },
   {
    "duration": 19,
    "start_time": "2022-04-10T03:15:18.310Z"
   },
   {
    "duration": 50,
    "start_time": "2022-04-10T03:15:18.331Z"
   },
   {
    "duration": 44,
    "start_time": "2022-04-10T03:15:18.384Z"
   },
   {
    "duration": 54,
    "start_time": "2022-04-10T03:15:18.430Z"
   },
   {
    "duration": 3,
    "start_time": "2022-04-10T03:15:18.486Z"
   },
   {
    "duration": 8,
    "start_time": "2022-04-10T03:15:18.491Z"
   },
   {
    "duration": 5,
    "start_time": "2022-04-10T03:15:18.501Z"
   },
   {
    "duration": 7,
    "start_time": "2022-04-10T03:15:18.508Z"
   },
   {
    "duration": 5,
    "start_time": "2022-04-10T03:15:18.517Z"
   },
   {
    "duration": 6,
    "start_time": "2022-04-10T03:15:18.524Z"
   },
   {
    "duration": 36,
    "start_time": "2022-04-10T03:15:18.532Z"
   },
   {
    "duration": 15,
    "start_time": "2022-04-10T03:15:18.570Z"
   },
   {
    "duration": 6,
    "start_time": "2022-04-10T03:15:18.587Z"
   },
   {
    "duration": 5,
    "start_time": "2022-04-10T03:15:18.595Z"
   },
   {
    "duration": 4,
    "start_time": "2022-04-10T03:15:46.681Z"
   },
   {
    "duration": 376,
    "start_time": "2022-04-10T03:15:46.688Z"
   },
   {
    "duration": 33,
    "start_time": "2022-04-10T03:15:47.068Z"
   },
   {
    "duration": 15,
    "start_time": "2022-04-10T03:15:47.103Z"
   },
   {
    "duration": 106,
    "start_time": "2022-04-10T03:15:47.123Z"
   },
   {
    "duration": 59,
    "start_time": "2022-04-10T03:15:47.232Z"
   },
   {
    "duration": 22,
    "start_time": "2022-04-10T03:15:47.294Z"
   },
   {
    "duration": 51,
    "start_time": "2022-04-10T03:15:47.318Z"
   },
   {
    "duration": 18,
    "start_time": "2022-04-10T03:15:47.372Z"
   },
   {
    "duration": 89,
    "start_time": "2022-04-10T03:15:47.393Z"
   },
   {
    "duration": 26,
    "start_time": "2022-04-10T03:15:47.484Z"
   },
   {
    "duration": 23,
    "start_time": "2022-04-10T03:15:47.514Z"
   },
   {
    "duration": 44,
    "start_time": "2022-04-10T03:15:47.539Z"
   },
   {
    "duration": 44,
    "start_time": "2022-04-10T03:15:47.587Z"
   },
   {
    "duration": 70,
    "start_time": "2022-04-10T03:15:47.633Z"
   },
   {
    "duration": 16,
    "start_time": "2022-04-10T03:15:47.705Z"
   },
   {
    "duration": 24,
    "start_time": "2022-04-10T03:15:47.723Z"
   },
   {
    "duration": 34,
    "start_time": "2022-04-10T03:15:47.749Z"
   },
   {
    "duration": 20,
    "start_time": "2022-04-10T03:15:47.785Z"
   },
   {
    "duration": 22,
    "start_time": "2022-04-10T03:15:47.808Z"
   },
   {
    "duration": 18,
    "start_time": "2022-04-10T03:15:47.870Z"
   },
   {
    "duration": 20,
    "start_time": "2022-04-10T03:15:47.891Z"
   },
   {
    "duration": 58,
    "start_time": "2022-04-10T03:15:47.913Z"
   },
   {
    "duration": 22,
    "start_time": "2022-04-10T03:15:47.974Z"
   },
   {
    "duration": 3,
    "start_time": "2022-04-10T03:15:47.998Z"
   },
   {
    "duration": 6,
    "start_time": "2022-04-10T03:15:48.003Z"
   },
   {
    "duration": 12,
    "start_time": "2022-04-10T03:15:48.011Z"
   },
   {
    "duration": 8,
    "start_time": "2022-04-10T03:15:48.026Z"
   },
   {
    "duration": 7,
    "start_time": "2022-04-10T03:15:48.036Z"
   },
   {
    "duration": 13,
    "start_time": "2022-04-10T03:15:48.072Z"
   },
   {
    "duration": 10,
    "start_time": "2022-04-10T03:15:48.087Z"
   },
   {
    "duration": 8,
    "start_time": "2022-04-10T03:15:48.099Z"
   },
   {
    "duration": 7,
    "start_time": "2022-04-10T03:15:48.109Z"
   },
   {
    "duration": 6,
    "start_time": "2022-04-10T03:15:48.118Z"
   },
   {
    "duration": 5,
    "start_time": "2022-04-10T03:15:48.127Z"
   },
   {
    "duration": 38,
    "start_time": "2022-04-10T03:15:48.134Z"
   },
   {
    "duration": 5,
    "start_time": "2022-04-10T03:15:48.178Z"
   },
   {
    "duration": 20,
    "start_time": "2022-04-10T03:15:48.186Z"
   },
   {
    "duration": 22,
    "start_time": "2022-04-10T03:15:48.208Z"
   },
   {
    "duration": 74,
    "start_time": "2022-04-10T03:15:48.232Z"
   },
   {
    "duration": 7,
    "start_time": "2022-04-10T03:15:48.312Z"
   },
   {
    "duration": 5,
    "start_time": "2022-04-10T03:15:48.321Z"
   },
   {
    "duration": 6,
    "start_time": "2022-04-10T03:15:48.328Z"
   },
   {
    "duration": 36,
    "start_time": "2022-04-10T03:15:48.336Z"
   },
   {
    "duration": 14,
    "start_time": "2022-04-10T03:15:48.375Z"
   },
   {
    "duration": 6,
    "start_time": "2022-04-10T03:15:48.391Z"
   },
   {
    "duration": 5,
    "start_time": "2022-04-10T03:15:48.399Z"
   },
   {
    "duration": 6,
    "start_time": "2022-04-10T03:15:48.406Z"
   },
   {
    "duration": 5,
    "start_time": "2022-04-10T03:15:48.414Z"
   },
   {
    "duration": 6,
    "start_time": "2022-04-10T03:15:48.421Z"
   },
   {
    "duration": 6,
    "start_time": "2022-04-10T03:15:48.429Z"
   },
   {
    "duration": 1077,
    "start_time": "2022-04-10T03:15:59.527Z"
   },
   {
    "duration": 377,
    "start_time": "2022-04-10T03:16:00.607Z"
   },
   {
    "duration": 30,
    "start_time": "2022-04-10T03:16:00.986Z"
   },
   {
    "duration": 24,
    "start_time": "2022-04-10T03:16:01.018Z"
   },
   {
    "duration": 90,
    "start_time": "2022-04-10T03:16:01.045Z"
   },
   {
    "duration": 58,
    "start_time": "2022-04-10T03:16:01.138Z"
   },
   {
    "duration": 21,
    "start_time": "2022-04-10T03:16:01.198Z"
   },
   {
    "duration": 45,
    "start_time": "2022-04-10T03:16:01.222Z"
   },
   {
    "duration": 19,
    "start_time": "2022-04-10T03:16:01.270Z"
   },
   {
    "duration": 84,
    "start_time": "2022-04-10T03:16:01.291Z"
   },
   {
    "duration": 26,
    "start_time": "2022-04-10T03:16:01.378Z"
   },
   {
    "duration": 33,
    "start_time": "2022-04-10T03:16:01.406Z"
   },
   {
    "duration": 29,
    "start_time": "2022-04-10T03:16:01.442Z"
   },
   {
    "duration": 50,
    "start_time": "2022-04-10T03:16:01.478Z"
   },
   {
    "duration": 64,
    "start_time": "2022-04-10T03:16:01.530Z"
   },
   {
    "duration": 16,
    "start_time": "2022-04-10T03:16:01.596Z"
   },
   {
    "duration": 17,
    "start_time": "2022-04-10T03:16:01.615Z"
   },
   {
    "duration": 45,
    "start_time": "2022-04-10T03:16:01.634Z"
   },
   {
    "duration": 21,
    "start_time": "2022-04-10T03:16:01.682Z"
   },
   {
    "duration": 24,
    "start_time": "2022-04-10T03:16:01.706Z"
   },
   {
    "duration": 46,
    "start_time": "2022-04-10T03:16:01.732Z"
   },
   {
    "duration": 26,
    "start_time": "2022-04-10T03:16:01.781Z"
   },
   {
    "duration": 21,
    "start_time": "2022-04-10T03:16:01.809Z"
   },
   {
    "duration": 52,
    "start_time": "2022-04-10T03:16:01.832Z"
   },
   {
    "duration": 10,
    "start_time": "2022-04-10T03:16:01.886Z"
   },
   {
    "duration": 7,
    "start_time": "2022-04-10T03:16:01.898Z"
   },
   {
    "duration": 11,
    "start_time": "2022-04-10T03:16:01.907Z"
   },
   {
    "duration": 17,
    "start_time": "2022-04-10T03:16:01.920Z"
   },
   {
    "duration": 9,
    "start_time": "2022-04-10T03:16:01.939Z"
   },
   {
    "duration": 7,
    "start_time": "2022-04-10T03:16:01.949Z"
   },
   {
    "duration": 18,
    "start_time": "2022-04-10T03:16:01.959Z"
   },
   {
    "duration": 9,
    "start_time": "2022-04-10T03:16:01.980Z"
   },
   {
    "duration": 10,
    "start_time": "2022-04-10T03:16:01.991Z"
   },
   {
    "duration": 11,
    "start_time": "2022-04-10T03:16:02.003Z"
   },
   {
    "duration": 7,
    "start_time": "2022-04-10T03:16:02.016Z"
   },
   {
    "duration": 26,
    "start_time": "2022-04-10T03:16:02.025Z"
   },
   {
    "duration": 5,
    "start_time": "2022-04-10T03:16:02.053Z"
   },
   {
    "duration": 35,
    "start_time": "2022-04-10T03:16:02.060Z"
   },
   {
    "duration": 24,
    "start_time": "2022-04-10T03:16:02.097Z"
   },
   {
    "duration": 52,
    "start_time": "2022-04-10T03:16:02.124Z"
   },
   {
    "duration": 8,
    "start_time": "2022-04-10T03:16:02.184Z"
   },
   {
    "duration": 19,
    "start_time": "2022-04-10T03:16:02.194Z"
   },
   {
    "duration": 33,
    "start_time": "2022-04-10T03:16:02.214Z"
   },
   {
    "duration": 23,
    "start_time": "2022-04-10T03:16:02.249Z"
   },
   {
    "duration": 30,
    "start_time": "2022-04-10T03:16:02.275Z"
   },
   {
    "duration": 10,
    "start_time": "2022-04-10T03:16:02.307Z"
   },
   {
    "duration": 17,
    "start_time": "2022-04-10T03:16:02.320Z"
   },
   {
    "duration": 14,
    "start_time": "2022-04-10T03:16:02.339Z"
   },
   {
    "duration": 24,
    "start_time": "2022-04-10T03:16:02.355Z"
   },
   {
    "duration": 8,
    "start_time": "2022-04-10T03:16:02.382Z"
   },
   {
    "duration": 14,
    "start_time": "2022-04-10T03:16:02.392Z"
   },
   {
    "duration": 135,
    "start_time": "2022-04-10T03:17:15.215Z"
   },
   {
    "duration": 29,
    "start_time": "2022-04-10T03:17:19.100Z"
   },
   {
    "duration": 989,
    "start_time": "2022-04-10T03:17:35.618Z"
   },
   {
    "duration": 343,
    "start_time": "2022-04-10T03:17:36.610Z"
   },
   {
    "duration": 37,
    "start_time": "2022-04-10T03:17:36.955Z"
   },
   {
    "duration": 24,
    "start_time": "2022-04-10T03:17:36.995Z"
   },
   {
    "duration": 102,
    "start_time": "2022-04-10T03:17:37.021Z"
   },
   {
    "duration": 48,
    "start_time": "2022-04-10T03:17:37.125Z"
   },
   {
    "duration": 22,
    "start_time": "2022-04-10T03:17:37.177Z"
   },
   {
    "duration": 24,
    "start_time": "2022-04-10T03:17:37.201Z"
   },
   {
    "duration": 47,
    "start_time": "2022-04-10T03:17:37.227Z"
   },
   {
    "duration": 61,
    "start_time": "2022-04-10T03:17:37.280Z"
   },
   {
    "duration": 46,
    "start_time": "2022-04-10T03:17:37.343Z"
   },
   {
    "duration": 20,
    "start_time": "2022-04-10T03:17:37.392Z"
   },
   {
    "duration": 11,
    "start_time": "2022-04-10T03:17:37.414Z"
   },
   {
    "duration": 78,
    "start_time": "2022-04-10T03:17:37.428Z"
   },
   {
    "duration": 31,
    "start_time": "2022-04-10T03:17:37.508Z"
   },
   {
    "duration": 40,
    "start_time": "2022-04-10T03:17:37.541Z"
   },
   {
    "duration": 13,
    "start_time": "2022-04-10T03:17:37.584Z"
   },
   {
    "duration": 18,
    "start_time": "2022-04-10T03:17:37.599Z"
   },
   {
    "duration": 48,
    "start_time": "2022-04-10T03:17:37.619Z"
   },
   {
    "duration": 24,
    "start_time": "2022-04-10T03:17:37.672Z"
   },
   {
    "duration": 16,
    "start_time": "2022-04-10T03:17:37.698Z"
   },
   {
    "duration": 23,
    "start_time": "2022-04-10T03:17:37.716Z"
   },
   {
    "duration": 28,
    "start_time": "2022-04-10T03:17:37.769Z"
   },
   {
    "duration": 22,
    "start_time": "2022-04-10T03:17:37.799Z"
   },
   {
    "duration": 11,
    "start_time": "2022-04-10T03:17:37.823Z"
   },
   {
    "duration": 31,
    "start_time": "2022-04-10T03:17:37.837Z"
   },
   {
    "duration": 12,
    "start_time": "2022-04-10T03:17:37.872Z"
   },
   {
    "duration": 3,
    "start_time": "2022-04-10T03:17:37.889Z"
   },
   {
    "duration": 5,
    "start_time": "2022-04-10T03:17:37.894Z"
   },
   {
    "duration": 5,
    "start_time": "2022-04-10T03:17:37.901Z"
   },
   {
    "duration": 5,
    "start_time": "2022-04-10T03:17:37.908Z"
   },
   {
    "duration": 5,
    "start_time": "2022-04-10T03:17:37.915Z"
   },
   {
    "duration": 6,
    "start_time": "2022-04-10T03:17:37.922Z"
   },
   {
    "duration": 38,
    "start_time": "2022-04-10T03:17:37.930Z"
   },
   {
    "duration": 3,
    "start_time": "2022-04-10T03:17:37.971Z"
   },
   {
    "duration": 28,
    "start_time": "2022-04-10T03:17:37.977Z"
   },
   {
    "duration": 4,
    "start_time": "2022-04-10T03:17:38.008Z"
   },
   {
    "duration": 19,
    "start_time": "2022-04-10T03:17:38.014Z"
   },
   {
    "duration": 55,
    "start_time": "2022-04-10T03:17:38.036Z"
   },
   {
    "duration": 40,
    "start_time": "2022-04-10T03:17:38.093Z"
   },
   {
    "duration": 58,
    "start_time": "2022-04-10T03:17:38.136Z"
   },
   {
    "duration": 4,
    "start_time": "2022-04-10T03:17:38.196Z"
   },
   {
    "duration": 4,
    "start_time": "2022-04-10T03:17:38.202Z"
   },
   {
    "duration": 5,
    "start_time": "2022-04-10T03:17:38.208Z"
   },
   {
    "duration": 5,
    "start_time": "2022-04-10T03:17:38.215Z"
   },
   {
    "duration": 8,
    "start_time": "2022-04-10T03:17:38.222Z"
   },
   {
    "duration": 5,
    "start_time": "2022-04-10T03:17:38.269Z"
   },
   {
    "duration": 12,
    "start_time": "2022-04-10T03:17:38.277Z"
   },
   {
    "duration": 5,
    "start_time": "2022-04-10T03:17:38.291Z"
   },
   {
    "duration": 5,
    "start_time": "2022-04-10T03:17:38.297Z"
   },
   {
    "duration": 5,
    "start_time": "2022-04-10T03:17:38.304Z"
   },
   {
    "duration": 10,
    "start_time": "2022-04-10T03:18:11.428Z"
   },
   {
    "duration": 21,
    "start_time": "2022-04-10T03:18:20.950Z"
   },
   {
    "duration": 26,
    "start_time": "2022-04-10T03:19:52.778Z"
   },
   {
    "duration": 1152,
    "start_time": "2022-04-10T03:22:05.145Z"
   },
   {
    "duration": 347,
    "start_time": "2022-04-10T03:22:06.300Z"
   },
   {
    "duration": 34,
    "start_time": "2022-04-10T03:22:06.649Z"
   },
   {
    "duration": 23,
    "start_time": "2022-04-10T03:22:06.686Z"
   },
   {
    "duration": 91,
    "start_time": "2022-04-10T03:22:06.712Z"
   },
   {
    "duration": 37,
    "start_time": "2022-04-10T03:22:06.805Z"
   },
   {
    "duration": 43,
    "start_time": "2022-04-10T03:22:06.844Z"
   },
   {
    "duration": 23,
    "start_time": "2022-04-10T03:22:06.890Z"
   },
   {
    "duration": 13,
    "start_time": "2022-04-10T03:22:06.916Z"
   },
   {
    "duration": 99,
    "start_time": "2022-04-10T03:22:06.933Z"
   },
   {
    "duration": 41,
    "start_time": "2022-04-10T03:22:07.034Z"
   },
   {
    "duration": 26,
    "start_time": "2022-04-10T03:22:07.078Z"
   },
   {
    "duration": 10,
    "start_time": "2022-04-10T03:22:07.107Z"
   },
   {
    "duration": 64,
    "start_time": "2022-04-10T03:22:07.119Z"
   },
   {
    "duration": 33,
    "start_time": "2022-04-10T03:22:07.185Z"
   },
   {
    "duration": 15,
    "start_time": "2022-04-10T03:22:07.220Z"
   },
   {
    "duration": 46,
    "start_time": "2022-04-10T03:22:07.237Z"
   },
   {
    "duration": 17,
    "start_time": "2022-04-10T03:22:07.285Z"
   },
   {
    "duration": 19,
    "start_time": "2022-04-10T03:22:07.304Z"
   },
   {
    "duration": 52,
    "start_time": "2022-04-10T03:22:07.325Z"
   },
   {
    "duration": 16,
    "start_time": "2022-04-10T03:22:07.380Z"
   },
   {
    "duration": 20,
    "start_time": "2022-04-10T03:22:07.399Z"
   },
   {
    "duration": 61,
    "start_time": "2022-04-10T03:22:07.422Z"
   },
   {
    "duration": 20,
    "start_time": "2022-04-10T03:22:07.485Z"
   },
   {
    "duration": 4,
    "start_time": "2022-04-10T03:22:07.508Z"
   },
   {
    "duration": 3,
    "start_time": "2022-04-10T03:22:07.515Z"
   },
   {
    "duration": 4,
    "start_time": "2022-04-10T03:22:07.521Z"
   },
   {
    "duration": 4,
    "start_time": "2022-04-10T03:22:07.570Z"
   },
   {
    "duration": 11,
    "start_time": "2022-04-10T03:22:07.577Z"
   },
   {
    "duration": 5,
    "start_time": "2022-04-10T03:22:07.590Z"
   },
   {
    "duration": 5,
    "start_time": "2022-04-10T03:22:07.597Z"
   },
   {
    "duration": 5,
    "start_time": "2022-04-10T03:22:07.604Z"
   },
   {
    "duration": 4,
    "start_time": "2022-04-10T03:22:07.612Z"
   },
   {
    "duration": 5,
    "start_time": "2022-04-10T03:22:07.618Z"
   },
   {
    "duration": 5,
    "start_time": "2022-04-10T03:22:07.625Z"
   },
   {
    "duration": 24,
    "start_time": "2022-04-10T03:22:07.669Z"
   },
   {
    "duration": 5,
    "start_time": "2022-04-10T03:22:07.695Z"
   },
   {
    "duration": 20,
    "start_time": "2022-04-10T03:22:07.702Z"
   },
   {
    "duration": 61,
    "start_time": "2022-04-10T03:22:07.724Z"
   },
   {
    "duration": 41,
    "start_time": "2022-04-10T03:22:07.788Z"
   },
   {
    "duration": 61,
    "start_time": "2022-04-10T03:22:07.831Z"
   },
   {
    "duration": 3,
    "start_time": "2022-04-10T03:22:07.895Z"
   },
   {
    "duration": 6,
    "start_time": "2022-04-10T03:22:07.900Z"
   },
   {
    "duration": 6,
    "start_time": "2022-04-10T03:22:07.908Z"
   },
   {
    "duration": 6,
    "start_time": "2022-04-10T03:22:07.916Z"
   },
   {
    "duration": 5,
    "start_time": "2022-04-10T03:22:07.924Z"
   },
   {
    "duration": 37,
    "start_time": "2022-04-10T03:22:07.931Z"
   },
   {
    "duration": 18,
    "start_time": "2022-04-10T03:22:07.970Z"
   },
   {
    "duration": 5,
    "start_time": "2022-04-10T03:22:07.990Z"
   },
   {
    "duration": 6,
    "start_time": "2022-04-10T03:22:07.997Z"
   },
   {
    "duration": 5,
    "start_time": "2022-04-10T03:22:08.006Z"
   },
   {
    "duration": 40,
    "start_time": "2022-04-10T14:51:20.760Z"
   },
   {
    "duration": 825,
    "start_time": "2022-04-10T14:51:26.042Z"
   },
   {
    "duration": 225,
    "start_time": "2022-04-10T14:51:26.870Z"
   },
   {
    "duration": 17,
    "start_time": "2022-04-10T14:51:27.097Z"
   },
   {
    "duration": 14,
    "start_time": "2022-04-10T14:51:27.116Z"
   },
   {
    "duration": 42,
    "start_time": "2022-04-10T14:51:27.131Z"
   },
   {
    "duration": 24,
    "start_time": "2022-04-10T14:51:27.174Z"
   },
   {
    "duration": 13,
    "start_time": "2022-04-10T14:51:27.200Z"
   },
   {
    "duration": 16,
    "start_time": "2022-04-10T14:51:27.214Z"
   },
   {
    "duration": 9,
    "start_time": "2022-04-10T14:51:27.231Z"
   },
   {
    "duration": 63,
    "start_time": "2022-04-10T14:51:27.242Z"
   },
   {
    "duration": 14,
    "start_time": "2022-04-10T14:51:27.306Z"
   },
   {
    "duration": 14,
    "start_time": "2022-04-10T14:51:27.321Z"
   },
   {
    "duration": 7,
    "start_time": "2022-04-10T14:51:27.337Z"
   },
   {
    "duration": 50,
    "start_time": "2022-04-10T14:51:27.345Z"
   },
   {
    "duration": 20,
    "start_time": "2022-04-10T14:51:27.397Z"
   },
   {
    "duration": 9,
    "start_time": "2022-04-10T14:51:27.419Z"
   },
   {
    "duration": 10,
    "start_time": "2022-04-10T14:51:27.429Z"
   },
   {
    "duration": 31,
    "start_time": "2022-04-10T14:51:27.440Z"
   },
   {
    "duration": 10,
    "start_time": "2022-04-10T14:51:27.472Z"
   },
   {
    "duration": 12,
    "start_time": "2022-04-10T14:51:27.483Z"
   },
   {
    "duration": 9,
    "start_time": "2022-04-10T14:51:27.497Z"
   },
   {
    "duration": 12,
    "start_time": "2022-04-10T14:51:27.507Z"
   },
   {
    "duration": 13,
    "start_time": "2022-04-10T14:51:27.520Z"
   },
   {
    "duration": 41,
    "start_time": "2022-04-10T14:51:27.535Z"
   },
   {
    "duration": 2,
    "start_time": "2022-04-10T14:51:27.577Z"
   },
   {
    "duration": 4,
    "start_time": "2022-04-10T14:51:27.581Z"
   },
   {
    "duration": 4,
    "start_time": "2022-04-10T14:51:27.586Z"
   },
   {
    "duration": 2,
    "start_time": "2022-04-10T14:51:27.593Z"
   },
   {
    "duration": 4,
    "start_time": "2022-04-10T14:51:27.597Z"
   },
   {
    "duration": 4,
    "start_time": "2022-04-10T14:51:27.602Z"
   },
   {
    "duration": 4,
    "start_time": "2022-04-10T14:51:27.607Z"
   },
   {
    "duration": 9,
    "start_time": "2022-04-10T14:51:27.612Z"
   },
   {
    "duration": 4,
    "start_time": "2022-04-10T14:51:27.622Z"
   },
   {
    "duration": 3,
    "start_time": "2022-04-10T14:51:27.628Z"
   },
   {
    "duration": 4,
    "start_time": "2022-04-10T14:51:27.633Z"
   },
   {
    "duration": 32,
    "start_time": "2022-04-10T14:51:27.639Z"
   },
   {
    "duration": 3,
    "start_time": "2022-04-10T14:51:27.673Z"
   },
   {
    "duration": 13,
    "start_time": "2022-04-10T14:51:27.678Z"
   },
   {
    "duration": 13,
    "start_time": "2022-04-10T14:51:27.693Z"
   },
   {
    "duration": 28,
    "start_time": "2022-04-10T14:51:27.708Z"
   },
   {
    "duration": 38,
    "start_time": "2022-04-10T14:51:27.737Z"
   },
   {
    "duration": 7,
    "start_time": "2022-04-10T14:51:27.777Z"
   },
   {
    "duration": 4,
    "start_time": "2022-04-10T14:51:27.785Z"
   },
   {
    "duration": 5,
    "start_time": "2022-04-10T14:51:27.791Z"
   },
   {
    "duration": 4,
    "start_time": "2022-04-10T14:51:27.797Z"
   },
   {
    "duration": 4,
    "start_time": "2022-04-10T14:51:27.803Z"
   },
   {
    "duration": 5,
    "start_time": "2022-04-10T14:51:27.808Z"
   },
   {
    "duration": 5,
    "start_time": "2022-04-10T14:51:27.815Z"
   },
   {
    "duration": 4,
    "start_time": "2022-04-10T14:51:27.821Z"
   },
   {
    "duration": 5,
    "start_time": "2022-04-10T14:51:27.826Z"
   },
   {
    "duration": 4,
    "start_time": "2022-04-10T14:51:27.832Z"
   },
   {
    "duration": 19,
    "start_time": "2022-04-10T15:48:36.669Z"
   },
   {
    "duration": 63,
    "start_time": "2022-04-10T15:56:43.006Z"
   },
   {
    "duration": 11,
    "start_time": "2022-04-10T15:57:27.400Z"
   },
   {
    "duration": 15,
    "start_time": "2022-04-10T15:58:03.675Z"
   },
   {
    "duration": 24,
    "start_time": "2022-04-10T15:58:10.863Z"
   },
   {
    "duration": 758,
    "start_time": "2022-04-10T15:58:54.004Z"
   },
   {
    "duration": 506,
    "start_time": "2022-04-10T15:58:54.764Z"
   },
   {
    "duration": 18,
    "start_time": "2022-04-10T15:58:55.272Z"
   },
   {
    "duration": 14,
    "start_time": "2022-04-10T15:58:55.291Z"
   },
   {
    "duration": 42,
    "start_time": "2022-04-10T15:58:55.307Z"
   },
   {
    "duration": 41,
    "start_time": "2022-04-10T15:58:55.350Z"
   },
   {
    "duration": 12,
    "start_time": "2022-04-10T15:58:55.392Z"
   },
   {
    "duration": 13,
    "start_time": "2022-04-10T15:58:55.405Z"
   },
   {
    "duration": 7,
    "start_time": "2022-04-10T15:58:55.420Z"
   },
   {
    "duration": 64,
    "start_time": "2022-04-10T15:58:55.429Z"
   },
   {
    "duration": 12,
    "start_time": "2022-04-10T15:58:55.495Z"
   },
   {
    "duration": 14,
    "start_time": "2022-04-10T15:58:55.508Z"
   },
   {
    "duration": 6,
    "start_time": "2022-04-10T15:58:55.523Z"
   },
   {
    "duration": 43,
    "start_time": "2022-04-10T15:58:55.532Z"
   },
   {
    "duration": 20,
    "start_time": "2022-04-10T15:58:55.576Z"
   },
   {
    "duration": 9,
    "start_time": "2022-04-10T15:58:55.597Z"
   },
   {
    "duration": 8,
    "start_time": "2022-04-10T15:58:55.607Z"
   },
   {
    "duration": 9,
    "start_time": "2022-04-10T15:58:55.617Z"
   },
   {
    "duration": 11,
    "start_time": "2022-04-10T15:58:55.628Z"
   },
   {
    "duration": 33,
    "start_time": "2022-04-10T15:58:55.641Z"
   },
   {
    "duration": 10,
    "start_time": "2022-04-10T15:58:55.675Z"
   },
   {
    "duration": 11,
    "start_time": "2022-04-10T15:58:55.687Z"
   },
   {
    "duration": 14,
    "start_time": "2022-04-10T15:58:55.700Z"
   },
   {
    "duration": 12,
    "start_time": "2022-04-10T15:58:55.715Z"
   },
   {
    "duration": 4,
    "start_time": "2022-04-10T15:58:55.728Z"
   },
   {
    "duration": 5,
    "start_time": "2022-04-10T15:58:55.733Z"
   },
   {
    "duration": 5,
    "start_time": "2022-04-10T15:58:55.739Z"
   },
   {
    "duration": 5,
    "start_time": "2022-04-10T15:58:55.745Z"
   },
   {
    "duration": 2,
    "start_time": "2022-04-10T15:58:55.771Z"
   },
   {
    "duration": 4,
    "start_time": "2022-04-10T15:58:55.774Z"
   },
   {
    "duration": 4,
    "start_time": "2022-04-10T15:58:55.780Z"
   },
   {
    "duration": 6,
    "start_time": "2022-04-10T15:58:55.785Z"
   },
   {
    "duration": 4,
    "start_time": "2022-04-10T15:58:55.792Z"
   },
   {
    "duration": 4,
    "start_time": "2022-04-10T15:58:55.797Z"
   },
   {
    "duration": 13,
    "start_time": "2022-04-10T15:58:55.803Z"
   },
   {
    "duration": 14,
    "start_time": "2022-04-10T15:58:55.818Z"
   },
   {
    "duration": 3,
    "start_time": "2022-04-10T15:58:55.833Z"
   },
   {
    "duration": 12,
    "start_time": "2022-04-10T15:58:55.837Z"
   },
   {
    "duration": 31,
    "start_time": "2022-04-10T15:58:55.851Z"
   },
   {
    "duration": 23,
    "start_time": "2022-04-10T15:58:55.884Z"
   },
   {
    "duration": 19,
    "start_time": "2022-04-10T15:58:55.910Z"
   },
   {
    "duration": 7,
    "start_time": "2022-04-10T15:58:55.930Z"
   },
   {
    "duration": 38,
    "start_time": "2022-04-10T15:58:55.938Z"
   },
   {
    "duration": 96,
    "start_time": "2022-04-10T15:58:55.977Z"
   },
   {
    "duration": 0,
    "start_time": "2022-04-10T15:58:56.075Z"
   },
   {
    "duration": 0,
    "start_time": "2022-04-10T15:58:56.076Z"
   },
   {
    "duration": 0,
    "start_time": "2022-04-10T15:58:56.076Z"
   },
   {
    "duration": 0,
    "start_time": "2022-04-10T15:58:56.078Z"
   },
   {
    "duration": 0,
    "start_time": "2022-04-10T15:58:56.078Z"
   },
   {
    "duration": 0,
    "start_time": "2022-04-10T15:58:56.079Z"
   },
   {
    "duration": 0,
    "start_time": "2022-04-10T15:58:56.080Z"
   },
   {
    "duration": 0,
    "start_time": "2022-04-10T15:58:56.081Z"
   },
   {
    "duration": 0,
    "start_time": "2022-04-10T15:58:56.082Z"
   },
   {
    "duration": 25,
    "start_time": "2022-04-10T15:59:17.796Z"
   },
   {
    "duration": 23,
    "start_time": "2022-04-10T15:59:40.860Z"
   },
   {
    "duration": 21,
    "start_time": "2022-04-10T16:03:16.939Z"
   },
   {
    "duration": 7,
    "start_time": "2022-04-10T16:03:51.711Z"
   },
   {
    "duration": 17,
    "start_time": "2022-04-10T16:03:58.458Z"
   },
   {
    "duration": 29,
    "start_time": "2022-04-10T16:07:05.682Z"
   },
   {
    "duration": 25,
    "start_time": "2022-04-10T16:12:38.127Z"
   },
   {
    "duration": 15,
    "start_time": "2022-04-10T16:15:31.507Z"
   },
   {
    "duration": 10,
    "start_time": "2022-04-10T16:15:52.565Z"
   },
   {
    "duration": 509,
    "start_time": "2022-04-10T16:19:50.994Z"
   },
   {
    "duration": 3,
    "start_time": "2022-04-10T16:20:58.019Z"
   },
   {
    "duration": 14,
    "start_time": "2022-04-10T16:21:04.993Z"
   },
   {
    "duration": 485,
    "start_time": "2022-04-10T16:21:52.665Z"
   },
   {
    "duration": 821,
    "start_time": "2022-04-10T16:22:09.743Z"
   },
   {
    "duration": 223,
    "start_time": "2022-04-10T16:22:10.566Z"
   },
   {
    "duration": 18,
    "start_time": "2022-04-10T16:22:10.790Z"
   },
   {
    "duration": 15,
    "start_time": "2022-04-10T16:22:10.810Z"
   },
   {
    "duration": 51,
    "start_time": "2022-04-10T16:22:10.826Z"
   },
   {
    "duration": 22,
    "start_time": "2022-04-10T16:22:10.878Z"
   },
   {
    "duration": 17,
    "start_time": "2022-04-10T16:22:10.902Z"
   },
   {
    "duration": 54,
    "start_time": "2022-04-10T16:22:10.921Z"
   },
   {
    "duration": 12,
    "start_time": "2022-04-10T16:22:10.977Z"
   },
   {
    "duration": 14,
    "start_time": "2022-04-10T16:22:10.991Z"
   },
   {
    "duration": 9,
    "start_time": "2022-04-10T16:22:11.006Z"
   },
   {
    "duration": 65,
    "start_time": "2022-04-10T16:22:11.016Z"
   },
   {
    "duration": 12,
    "start_time": "2022-04-10T16:22:11.083Z"
   },
   {
    "duration": 13,
    "start_time": "2022-04-10T16:22:11.096Z"
   },
   {
    "duration": 6,
    "start_time": "2022-04-10T16:22:11.111Z"
   },
   {
    "duration": 26,
    "start_time": "2022-04-10T16:22:11.118Z"
   },
   {
    "duration": 20,
    "start_time": "2022-04-10T16:22:11.170Z"
   },
   {
    "duration": 9,
    "start_time": "2022-04-10T16:22:11.191Z"
   },
   {
    "duration": 13,
    "start_time": "2022-04-10T16:22:11.201Z"
   },
   {
    "duration": 8,
    "start_time": "2022-04-10T16:22:11.216Z"
   },
   {
    "duration": 12,
    "start_time": "2022-04-10T16:22:11.225Z"
   },
   {
    "duration": 42,
    "start_time": "2022-04-10T16:22:11.238Z"
   },
   {
    "duration": 12,
    "start_time": "2022-04-10T16:22:11.281Z"
   },
   {
    "duration": 13,
    "start_time": "2022-04-10T16:22:11.294Z"
   },
   {
    "duration": 16,
    "start_time": "2022-04-10T16:22:11.308Z"
   },
   {
    "duration": 11,
    "start_time": "2022-04-10T16:22:11.325Z"
   },
   {
    "duration": 3,
    "start_time": "2022-04-10T16:22:11.338Z"
   },
   {
    "duration": 2,
    "start_time": "2022-04-10T16:22:11.370Z"
   },
   {
    "duration": 5,
    "start_time": "2022-04-10T16:22:11.373Z"
   },
   {
    "duration": 5,
    "start_time": "2022-04-10T16:22:11.379Z"
   },
   {
    "duration": 4,
    "start_time": "2022-04-10T16:22:11.385Z"
   },
   {
    "duration": 4,
    "start_time": "2022-04-10T16:22:11.391Z"
   },
   {
    "duration": 4,
    "start_time": "2022-04-10T16:22:11.396Z"
   },
   {
    "duration": 4,
    "start_time": "2022-04-10T16:22:11.401Z"
   },
   {
    "duration": 6,
    "start_time": "2022-04-10T16:22:11.406Z"
   },
   {
    "duration": 4,
    "start_time": "2022-04-10T16:22:11.414Z"
   },
   {
    "duration": 4,
    "start_time": "2022-04-10T16:22:11.419Z"
   },
   {
    "duration": 50,
    "start_time": "2022-04-10T16:22:11.424Z"
   },
   {
    "duration": 3,
    "start_time": "2022-04-10T16:22:11.476Z"
   },
   {
    "duration": 14,
    "start_time": "2022-04-10T16:22:11.480Z"
   },
   {
    "duration": 14,
    "start_time": "2022-04-10T16:22:11.495Z"
   },
   {
    "duration": 23,
    "start_time": "2022-04-10T16:22:11.510Z"
   },
   {
    "duration": 52,
    "start_time": "2022-04-10T16:22:11.534Z"
   },
   {
    "duration": 7,
    "start_time": "2022-04-10T16:22:11.587Z"
   },
   {
    "duration": 12,
    "start_time": "2022-04-10T16:22:11.595Z"
   },
   {
    "duration": 14,
    "start_time": "2022-04-10T16:22:11.608Z"
   },
   {
    "duration": 635,
    "start_time": "2022-04-10T16:22:11.623Z"
   },
   {
    "duration": 0,
    "start_time": "2022-04-10T16:22:12.259Z"
   },
   {
    "duration": 0,
    "start_time": "2022-04-10T16:22:12.260Z"
   },
   {
    "duration": 0,
    "start_time": "2022-04-10T16:22:12.261Z"
   },
   {
    "duration": 0,
    "start_time": "2022-04-10T16:22:12.262Z"
   },
   {
    "duration": 0,
    "start_time": "2022-04-10T16:22:12.263Z"
   },
   {
    "duration": 0,
    "start_time": "2022-04-10T16:22:12.264Z"
   },
   {
    "duration": 0,
    "start_time": "2022-04-10T16:22:12.265Z"
   },
   {
    "duration": 0,
    "start_time": "2022-04-10T16:22:12.265Z"
   },
   {
    "duration": 0,
    "start_time": "2022-04-10T16:22:12.266Z"
   },
   {
    "duration": 0,
    "start_time": "2022-04-10T16:22:12.267Z"
   },
   {
    "duration": 3,
    "start_time": "2022-04-10T16:23:58.874Z"
   },
   {
    "duration": 12,
    "start_time": "2022-04-10T16:24:02.276Z"
   },
   {
    "duration": 9,
    "start_time": "2022-04-10T16:24:20.479Z"
   },
   {
    "duration": 16,
    "start_time": "2022-04-10T16:25:17.891Z"
   },
   {
    "duration": 18,
    "start_time": "2022-04-10T16:26:15.196Z"
   },
   {
    "duration": 9,
    "start_time": "2022-04-10T16:26:25.564Z"
   },
   {
    "duration": 12,
    "start_time": "2022-04-10T16:26:39.060Z"
   },
   {
    "duration": 4,
    "start_time": "2022-04-10T16:37:27.946Z"
   },
   {
    "duration": 4,
    "start_time": "2022-04-10T16:37:52.273Z"
   },
   {
    "duration": 6,
    "start_time": "2022-04-10T16:39:20.828Z"
   },
   {
    "duration": 130,
    "start_time": "2022-04-10T16:39:28.492Z"
   },
   {
    "duration": 6,
    "start_time": "2022-04-10T16:39:35.200Z"
   },
   {
    "duration": 7,
    "start_time": "2022-04-10T16:39:37.943Z"
   },
   {
    "duration": 7,
    "start_time": "2022-04-10T17:58:45.766Z"
   },
   {
    "duration": 7,
    "start_time": "2022-04-10T17:59:10.335Z"
   },
   {
    "duration": 10,
    "start_time": "2022-04-10T18:00:46.364Z"
   },
   {
    "duration": 7,
    "start_time": "2022-04-10T18:01:14.032Z"
   },
   {
    "duration": 2,
    "start_time": "2022-04-10T18:01:21.559Z"
   },
   {
    "duration": 2,
    "start_time": "2022-04-10T18:01:25.173Z"
   },
   {
    "duration": 7,
    "start_time": "2022-04-10T18:01:30.538Z"
   },
   {
    "duration": 821,
    "start_time": "2022-04-10T18:01:50.346Z"
   },
   {
    "duration": 230,
    "start_time": "2022-04-10T18:01:51.170Z"
   },
   {
    "duration": 19,
    "start_time": "2022-04-10T18:01:51.402Z"
   },
   {
    "duration": 15,
    "start_time": "2022-04-10T18:01:51.423Z"
   },
   {
    "duration": 55,
    "start_time": "2022-04-10T18:01:51.440Z"
   },
   {
    "duration": 23,
    "start_time": "2022-04-10T18:01:51.496Z"
   },
   {
    "duration": 17,
    "start_time": "2022-04-10T18:01:51.521Z"
   },
   {
    "duration": 45,
    "start_time": "2022-04-10T18:01:51.539Z"
   },
   {
    "duration": 12,
    "start_time": "2022-04-10T18:01:51.586Z"
   },
   {
    "duration": 14,
    "start_time": "2022-04-10T18:01:51.601Z"
   },
   {
    "duration": 8,
    "start_time": "2022-04-10T18:01:51.617Z"
   },
   {
    "duration": 72,
    "start_time": "2022-04-10T18:01:51.626Z"
   },
   {
    "duration": 14,
    "start_time": "2022-04-10T18:01:51.700Z"
   },
   {
    "duration": 13,
    "start_time": "2022-04-10T18:01:51.715Z"
   },
   {
    "duration": 8,
    "start_time": "2022-04-10T18:01:51.729Z"
   },
   {
    "duration": 56,
    "start_time": "2022-04-10T18:01:51.738Z"
   },
   {
    "duration": 21,
    "start_time": "2022-04-10T18:01:51.796Z"
   },
   {
    "duration": 10,
    "start_time": "2022-04-10T18:01:51.819Z"
   },
   {
    "duration": 11,
    "start_time": "2022-04-10T18:01:51.830Z"
   },
   {
    "duration": 9,
    "start_time": "2022-04-10T18:01:51.871Z"
   },
   {
    "duration": 15,
    "start_time": "2022-04-10T18:01:51.881Z"
   },
   {
    "duration": 18,
    "start_time": "2022-04-10T18:01:51.897Z"
   },
   {
    "duration": 10,
    "start_time": "2022-04-10T18:01:51.917Z"
   },
   {
    "duration": 12,
    "start_time": "2022-04-10T18:01:51.928Z"
   },
   {
    "duration": 42,
    "start_time": "2022-04-10T18:01:51.941Z"
   },
   {
    "duration": 13,
    "start_time": "2022-04-10T18:01:51.985Z"
   },
   {
    "duration": 3,
    "start_time": "2022-04-10T18:01:51.999Z"
   },
   {
    "duration": 1,
    "start_time": "2022-04-10T18:01:52.006Z"
   },
   {
    "duration": 4,
    "start_time": "2022-04-10T18:01:52.009Z"
   },
   {
    "duration": 8,
    "start_time": "2022-04-10T18:01:52.014Z"
   },
   {
    "duration": 14,
    "start_time": "2022-04-10T18:01:52.024Z"
   },
   {
    "duration": 32,
    "start_time": "2022-04-10T18:01:52.039Z"
   },
   {
    "duration": 7,
    "start_time": "2022-04-10T18:01:52.072Z"
   },
   {
    "duration": 7,
    "start_time": "2022-04-10T18:01:52.080Z"
   },
   {
    "duration": 9,
    "start_time": "2022-04-10T18:01:52.089Z"
   },
   {
    "duration": 8,
    "start_time": "2022-04-10T18:01:52.100Z"
   },
   {
    "duration": 6,
    "start_time": "2022-04-10T18:01:52.110Z"
   },
   {
    "duration": 15,
    "start_time": "2022-04-10T18:01:52.117Z"
   },
   {
    "duration": 3,
    "start_time": "2022-04-10T18:01:52.133Z"
   },
   {
    "duration": 15,
    "start_time": "2022-04-10T18:01:52.137Z"
   },
   {
    "duration": 24,
    "start_time": "2022-04-10T18:01:52.154Z"
   },
   {
    "duration": 24,
    "start_time": "2022-04-10T18:01:52.180Z"
   },
   {
    "duration": 20,
    "start_time": "2022-04-10T18:01:52.206Z"
   },
   {
    "duration": 7,
    "start_time": "2022-04-10T18:01:52.227Z"
   },
   {
    "duration": 39,
    "start_time": "2022-04-10T18:01:52.236Z"
   },
   {
    "duration": 17,
    "start_time": "2022-04-10T18:01:52.277Z"
   },
   {
    "duration": 3,
    "start_time": "2022-04-10T18:01:52.296Z"
   },
   {
    "duration": 14,
    "start_time": "2022-04-10T18:01:52.300Z"
   },
   {
    "duration": 96,
    "start_time": "2022-04-10T18:01:52.315Z"
   },
   {
    "duration": 0,
    "start_time": "2022-04-10T18:01:52.412Z"
   },
   {
    "duration": 0,
    "start_time": "2022-04-10T18:01:52.413Z"
   },
   {
    "duration": 0,
    "start_time": "2022-04-10T18:01:52.414Z"
   },
   {
    "duration": 0,
    "start_time": "2022-04-10T18:01:52.415Z"
   },
   {
    "duration": 0,
    "start_time": "2022-04-10T18:01:52.416Z"
   },
   {
    "duration": 0,
    "start_time": "2022-04-10T18:01:52.417Z"
   },
   {
    "duration": 0,
    "start_time": "2022-04-10T18:01:52.418Z"
   },
   {
    "duration": 0,
    "start_time": "2022-04-10T18:01:52.419Z"
   },
   {
    "duration": 0,
    "start_time": "2022-04-10T18:01:52.420Z"
   },
   {
    "duration": 3,
    "start_time": "2022-04-10T18:02:03.983Z"
   },
   {
    "duration": 2,
    "start_time": "2022-04-10T18:02:12.594Z"
   },
   {
    "duration": 7,
    "start_time": "2022-04-10T18:02:20.055Z"
   },
   {
    "duration": 962,
    "start_time": "2022-04-10T18:05:56.301Z"
   },
   {
    "duration": 221,
    "start_time": "2022-04-10T18:05:57.265Z"
   },
   {
    "duration": 17,
    "start_time": "2022-04-10T18:05:57.487Z"
   },
   {
    "duration": 25,
    "start_time": "2022-04-10T18:05:57.506Z"
   },
   {
    "duration": 42,
    "start_time": "2022-04-10T18:05:57.532Z"
   },
   {
    "duration": 23,
    "start_time": "2022-04-10T18:05:57.576Z"
   },
   {
    "duration": 16,
    "start_time": "2022-04-10T18:05:57.601Z"
   },
   {
    "duration": 30,
    "start_time": "2022-04-10T18:05:57.618Z"
   },
   {
    "duration": 31,
    "start_time": "2022-04-10T18:05:57.649Z"
   },
   {
    "duration": 19,
    "start_time": "2022-04-10T18:05:57.683Z"
   },
   {
    "duration": 18,
    "start_time": "2022-04-10T18:05:57.704Z"
   },
   {
    "duration": 47,
    "start_time": "2022-04-10T18:05:57.723Z"
   },
   {
    "duration": 15,
    "start_time": "2022-04-10T18:05:57.772Z"
   },
   {
    "duration": 23,
    "start_time": "2022-04-10T18:05:57.789Z"
   },
   {
    "duration": 15,
    "start_time": "2022-04-10T18:05:57.814Z"
   },
   {
    "duration": 41,
    "start_time": "2022-04-10T18:05:57.830Z"
   },
   {
    "duration": 20,
    "start_time": "2022-04-10T18:05:57.873Z"
   },
   {
    "duration": 9,
    "start_time": "2022-04-10T18:05:57.894Z"
   },
   {
    "duration": 10,
    "start_time": "2022-04-10T18:05:57.904Z"
   },
   {
    "duration": 8,
    "start_time": "2022-04-10T18:05:57.916Z"
   },
   {
    "duration": 49,
    "start_time": "2022-04-10T18:05:57.925Z"
   },
   {
    "duration": 15,
    "start_time": "2022-04-10T18:05:57.975Z"
   },
   {
    "duration": 11,
    "start_time": "2022-04-10T18:05:57.991Z"
   },
   {
    "duration": 13,
    "start_time": "2022-04-10T18:05:58.003Z"
   },
   {
    "duration": 54,
    "start_time": "2022-04-10T18:05:58.017Z"
   },
   {
    "duration": 14,
    "start_time": "2022-04-10T18:05:58.073Z"
   },
   {
    "duration": 4,
    "start_time": "2022-04-10T18:05:58.088Z"
   },
   {
    "duration": 3,
    "start_time": "2022-04-10T18:05:58.095Z"
   },
   {
    "duration": 13,
    "start_time": "2022-04-10T18:05:58.099Z"
   },
   {
    "duration": 5,
    "start_time": "2022-04-10T18:05:58.113Z"
   },
   {
    "duration": 4,
    "start_time": "2022-04-10T18:05:58.119Z"
   },
   {
    "duration": 3,
    "start_time": "2022-04-10T18:05:58.125Z"
   },
   {
    "duration": 4,
    "start_time": "2022-04-10T18:05:58.130Z"
   },
   {
    "duration": 2,
    "start_time": "2022-04-10T18:05:58.171Z"
   },
   {
    "duration": 5,
    "start_time": "2022-04-10T18:05:58.174Z"
   },
   {
    "duration": 5,
    "start_time": "2022-04-10T18:05:58.180Z"
   },
   {
    "duration": 3,
    "start_time": "2022-04-10T18:05:58.187Z"
   },
   {
    "duration": 14,
    "start_time": "2022-04-10T18:05:58.191Z"
   },
   {
    "duration": 3,
    "start_time": "2022-04-10T18:05:58.206Z"
   },
   {
    "duration": 13,
    "start_time": "2022-04-10T18:05:58.211Z"
   },
   {
    "duration": 51,
    "start_time": "2022-04-10T18:05:58.225Z"
   },
   {
    "duration": 23,
    "start_time": "2022-04-10T18:05:58.278Z"
   },
   {
    "duration": 18,
    "start_time": "2022-04-10T18:05:58.303Z"
   },
   {
    "duration": 7,
    "start_time": "2022-04-10T18:05:58.322Z"
   },
   {
    "duration": 48,
    "start_time": "2022-04-10T18:05:58.330Z"
   },
   {
    "duration": 17,
    "start_time": "2022-04-10T18:05:58.379Z"
   },
   {
    "duration": 3,
    "start_time": "2022-04-10T18:05:58.397Z"
   },
   {
    "duration": 8,
    "start_time": "2022-04-10T18:06:09.689Z"
   },
   {
    "duration": 2,
    "start_time": "2022-04-10T18:06:10.687Z"
   },
   {
    "duration": 2,
    "start_time": "2022-04-10T18:06:12.561Z"
   },
   {
    "duration": 7,
    "start_time": "2022-04-10T18:06:30.644Z"
   },
   {
    "duration": 10,
    "start_time": "2022-04-10T18:06:41.763Z"
   },
   {
    "duration": 16,
    "start_time": "2022-04-10T18:07:29.197Z"
   },
   {
    "duration": 14,
    "start_time": "2022-04-10T18:07:34.283Z"
   },
   {
    "duration": 14,
    "start_time": "2022-04-10T18:07:37.996Z"
   },
   {
    "duration": 45,
    "start_time": "2022-04-10T18:08:12.700Z"
   },
   {
    "duration": 739,
    "start_time": "2022-04-10T18:08:17.934Z"
   },
   {
    "duration": 216,
    "start_time": "2022-04-10T18:08:18.676Z"
   },
   {
    "duration": 17,
    "start_time": "2022-04-10T18:08:18.894Z"
   },
   {
    "duration": 13,
    "start_time": "2022-04-10T18:08:18.913Z"
   },
   {
    "duration": 48,
    "start_time": "2022-04-10T18:08:18.928Z"
   },
   {
    "duration": 25,
    "start_time": "2022-04-10T18:08:18.978Z"
   },
   {
    "duration": 17,
    "start_time": "2022-04-10T18:08:19.004Z"
   },
   {
    "duration": 50,
    "start_time": "2022-04-10T18:08:19.023Z"
   },
   {
    "duration": 12,
    "start_time": "2022-04-10T18:08:19.075Z"
   },
   {
    "duration": 14,
    "start_time": "2022-04-10T18:08:19.089Z"
   },
   {
    "duration": 8,
    "start_time": "2022-04-10T18:08:19.104Z"
   },
   {
    "duration": 78,
    "start_time": "2022-04-10T18:08:19.114Z"
   },
   {
    "duration": 14,
    "start_time": "2022-04-10T18:08:19.194Z"
   },
   {
    "duration": 13,
    "start_time": "2022-04-10T18:08:19.210Z"
   },
   {
    "duration": 7,
    "start_time": "2022-04-10T18:08:19.224Z"
   },
   {
    "duration": 57,
    "start_time": "2022-04-10T18:08:19.233Z"
   },
   {
    "duration": 19,
    "start_time": "2022-04-10T18:08:19.292Z"
   },
   {
    "duration": 9,
    "start_time": "2022-04-10T18:08:19.312Z"
   },
   {
    "duration": 13,
    "start_time": "2022-04-10T18:08:19.323Z"
   },
   {
    "duration": 35,
    "start_time": "2022-04-10T18:08:19.337Z"
   },
   {
    "duration": 13,
    "start_time": "2022-04-10T18:08:19.373Z"
   },
   {
    "duration": 14,
    "start_time": "2022-04-10T18:08:19.388Z"
   },
   {
    "duration": 10,
    "start_time": "2022-04-10T18:08:19.404Z"
   },
   {
    "duration": 18,
    "start_time": "2022-04-10T18:08:19.416Z"
   },
   {
    "duration": 48,
    "start_time": "2022-04-10T18:08:19.436Z"
   },
   {
    "duration": 11,
    "start_time": "2022-04-10T18:08:19.486Z"
   },
   {
    "duration": 3,
    "start_time": "2022-04-10T18:08:19.499Z"
   },
   {
    "duration": 6,
    "start_time": "2022-04-10T18:08:19.505Z"
   },
   {
    "duration": 6,
    "start_time": "2022-04-10T18:08:19.513Z"
   },
   {
    "duration": 5,
    "start_time": "2022-04-10T18:08:19.520Z"
   },
   {
    "duration": 6,
    "start_time": "2022-04-10T18:08:19.527Z"
   },
   {
    "duration": 4,
    "start_time": "2022-04-10T18:08:19.535Z"
   },
   {
    "duration": 31,
    "start_time": "2022-04-10T18:08:19.540Z"
   },
   {
    "duration": 6,
    "start_time": "2022-04-10T18:08:19.573Z"
   },
   {
    "duration": 4,
    "start_time": "2022-04-10T18:08:19.581Z"
   },
   {
    "duration": 4,
    "start_time": "2022-04-10T18:08:19.587Z"
   },
   {
    "duration": 3,
    "start_time": "2022-04-10T18:08:19.593Z"
   },
   {
    "duration": 13,
    "start_time": "2022-04-10T18:08:19.598Z"
   },
   {
    "duration": 3,
    "start_time": "2022-04-10T18:08:19.613Z"
   },
   {
    "duration": 16,
    "start_time": "2022-04-10T18:08:19.618Z"
   },
   {
    "duration": 50,
    "start_time": "2022-04-10T18:08:19.636Z"
   },
   {
    "duration": 36,
    "start_time": "2022-04-10T18:08:19.688Z"
   },
   {
    "duration": 26,
    "start_time": "2022-04-10T18:08:29.501Z"
   },
   {
    "duration": 8,
    "start_time": "2022-04-10T18:08:45.423Z"
   },
   {
    "duration": 15,
    "start_time": "2022-04-10T18:08:55.642Z"
   },
   {
    "duration": 17,
    "start_time": "2022-04-10T18:09:09.094Z"
   },
   {
    "duration": 2,
    "start_time": "2022-04-10T18:09:17.267Z"
   },
   {
    "duration": 18,
    "start_time": "2022-04-10T18:09:34.540Z"
   },
   {
    "duration": 7,
    "start_time": "2022-04-10T18:10:05.813Z"
   },
   {
    "duration": 6,
    "start_time": "2022-04-10T18:10:29.579Z"
   },
   {
    "duration": 6,
    "start_time": "2022-04-10T18:10:35.102Z"
   },
   {
    "duration": 3,
    "start_time": "2022-04-10T18:11:02.795Z"
   },
   {
    "duration": 767,
    "start_time": "2022-04-10T18:11:30.803Z"
   },
   {
    "duration": 213,
    "start_time": "2022-04-10T18:11:31.572Z"
   },
   {
    "duration": 19,
    "start_time": "2022-04-10T18:11:31.787Z"
   },
   {
    "duration": 19,
    "start_time": "2022-04-10T18:11:31.808Z"
   },
   {
    "duration": 73,
    "start_time": "2022-04-10T18:11:31.829Z"
   },
   {
    "duration": 26,
    "start_time": "2022-04-10T18:11:31.904Z"
   },
   {
    "duration": 45,
    "start_time": "2022-04-10T18:11:31.932Z"
   },
   {
    "duration": 31,
    "start_time": "2022-04-10T18:11:31.979Z"
   },
   {
    "duration": 16,
    "start_time": "2022-04-10T18:11:32.011Z"
   },
   {
    "duration": 44,
    "start_time": "2022-04-10T18:11:32.028Z"
   },
   {
    "duration": 11,
    "start_time": "2022-04-10T18:11:32.073Z"
   },
   {
    "duration": 54,
    "start_time": "2022-04-10T18:11:32.086Z"
   },
   {
    "duration": 36,
    "start_time": "2022-04-10T18:11:32.142Z"
   },
   {
    "duration": 18,
    "start_time": "2022-04-10T18:11:32.182Z"
   },
   {
    "duration": 9,
    "start_time": "2022-04-10T18:11:32.201Z"
   },
   {
    "duration": 60,
    "start_time": "2022-04-10T18:11:32.211Z"
   },
   {
    "duration": 25,
    "start_time": "2022-04-10T18:11:32.273Z"
   },
   {
    "duration": 10,
    "start_time": "2022-04-10T18:11:32.300Z"
   },
   {
    "duration": 8,
    "start_time": "2022-04-10T18:11:32.312Z"
   },
   {
    "duration": 10,
    "start_time": "2022-04-10T18:11:32.322Z"
   },
   {
    "duration": 11,
    "start_time": "2022-04-10T18:11:32.370Z"
   },
   {
    "duration": 14,
    "start_time": "2022-04-10T18:11:32.383Z"
   },
   {
    "duration": 10,
    "start_time": "2022-04-10T18:11:32.399Z"
   },
   {
    "duration": 12,
    "start_time": "2022-04-10T18:11:32.410Z"
   },
   {
    "duration": 48,
    "start_time": "2022-04-10T18:11:32.424Z"
   },
   {
    "duration": 12,
    "start_time": "2022-04-10T18:11:32.473Z"
   },
   {
    "duration": 1,
    "start_time": "2022-04-10T18:11:32.487Z"
   },
   {
    "duration": 5,
    "start_time": "2022-04-10T18:11:32.490Z"
   },
   {
    "duration": 4,
    "start_time": "2022-04-10T18:11:32.496Z"
   },
   {
    "duration": 5,
    "start_time": "2022-04-10T18:11:32.502Z"
   },
   {
    "duration": 5,
    "start_time": "2022-04-10T18:11:32.508Z"
   },
   {
    "duration": 4,
    "start_time": "2022-04-10T18:11:32.514Z"
   },
   {
    "duration": 6,
    "start_time": "2022-04-10T18:11:32.520Z"
   },
   {
    "duration": 5,
    "start_time": "2022-04-10T18:11:32.527Z"
   },
   {
    "duration": 5,
    "start_time": "2022-04-10T18:11:32.533Z"
   },
   {
    "duration": 4,
    "start_time": "2022-04-10T18:11:32.539Z"
   },
   {
    "duration": 5,
    "start_time": "2022-04-10T18:11:32.571Z"
   },
   {
    "duration": 14,
    "start_time": "2022-04-10T18:11:32.577Z"
   },
   {
    "duration": 3,
    "start_time": "2022-04-10T18:11:32.592Z"
   },
   {
    "duration": 12,
    "start_time": "2022-04-10T18:11:32.596Z"
   },
   {
    "duration": 13,
    "start_time": "2022-04-10T18:11:32.611Z"
   },
   {
    "duration": 55,
    "start_time": "2022-04-10T18:11:32.625Z"
   },
   {
    "duration": 20,
    "start_time": "2022-04-10T18:11:32.681Z"
   },
   {
    "duration": 7,
    "start_time": "2022-04-10T18:11:32.702Z"
   },
   {
    "duration": 13,
    "start_time": "2022-04-10T18:11:32.711Z"
   },
   {
    "duration": 4,
    "start_time": "2022-04-10T18:11:32.725Z"
   },
   {
    "duration": 626,
    "start_time": "2022-04-10T18:11:32.730Z"
   },
   {
    "duration": 0,
    "start_time": "2022-04-10T18:11:33.358Z"
   },
   {
    "duration": 0,
    "start_time": "2022-04-10T18:11:33.359Z"
   },
   {
    "duration": 0,
    "start_time": "2022-04-10T18:11:33.360Z"
   },
   {
    "duration": 0,
    "start_time": "2022-04-10T18:11:33.362Z"
   },
   {
    "duration": 0,
    "start_time": "2022-04-10T18:11:33.362Z"
   },
   {
    "duration": 0,
    "start_time": "2022-04-10T18:11:33.364Z"
   },
   {
    "duration": 0,
    "start_time": "2022-04-10T18:11:33.365Z"
   },
   {
    "duration": 0,
    "start_time": "2022-04-10T18:11:33.366Z"
   },
   {
    "duration": 0,
    "start_time": "2022-04-10T18:11:33.367Z"
   },
   {
    "duration": 0,
    "start_time": "2022-04-10T18:11:33.368Z"
   },
   {
    "duration": 0,
    "start_time": "2022-04-10T18:11:33.369Z"
   },
   {
    "duration": 0,
    "start_time": "2022-04-10T18:11:33.370Z"
   },
   {
    "duration": 3,
    "start_time": "2022-04-10T18:11:58.316Z"
   },
   {
    "duration": 19,
    "start_time": "2022-04-10T18:12:02.896Z"
   },
   {
    "duration": 10,
    "start_time": "2022-04-10T18:12:31.488Z"
   },
   {
    "duration": 6,
    "start_time": "2022-04-10T18:12:34.407Z"
   },
   {
    "duration": 5,
    "start_time": "2022-04-10T18:12:38.915Z"
   },
   {
    "duration": 903,
    "start_time": "2022-04-10T18:12:51.958Z"
   },
   {
    "duration": 205,
    "start_time": "2022-04-10T18:12:52.863Z"
   },
   {
    "duration": 18,
    "start_time": "2022-04-10T18:12:53.069Z"
   },
   {
    "duration": 14,
    "start_time": "2022-04-10T18:12:53.088Z"
   },
   {
    "duration": 40,
    "start_time": "2022-04-10T18:12:53.104Z"
   },
   {
    "duration": 42,
    "start_time": "2022-04-10T18:12:53.146Z"
   },
   {
    "duration": 16,
    "start_time": "2022-04-10T18:12:53.190Z"
   },
   {
    "duration": 22,
    "start_time": "2022-04-10T18:12:53.207Z"
   },
   {
    "duration": 13,
    "start_time": "2022-04-10T18:12:53.230Z"
   },
   {
    "duration": 14,
    "start_time": "2022-04-10T18:12:53.270Z"
   },
   {
    "duration": 8,
    "start_time": "2022-04-10T18:12:53.285Z"
   },
   {
    "duration": 35,
    "start_time": "2022-04-10T18:12:53.294Z"
   },
   {
    "duration": 13,
    "start_time": "2022-04-10T18:12:53.330Z"
   },
   {
    "duration": 30,
    "start_time": "2022-04-10T18:12:53.373Z"
   },
   {
    "duration": 7,
    "start_time": "2022-04-10T18:12:53.405Z"
   },
   {
    "duration": 27,
    "start_time": "2022-04-10T18:12:53.413Z"
   },
   {
    "duration": 36,
    "start_time": "2022-04-10T18:12:53.442Z"
   },
   {
    "duration": 8,
    "start_time": "2022-04-10T18:12:53.479Z"
   },
   {
    "duration": 9,
    "start_time": "2022-04-10T18:12:53.489Z"
   },
   {
    "duration": 9,
    "start_time": "2022-04-10T18:12:53.499Z"
   },
   {
    "duration": 16,
    "start_time": "2022-04-10T18:12:53.509Z"
   },
   {
    "duration": 46,
    "start_time": "2022-04-10T18:12:53.526Z"
   },
   {
    "duration": 11,
    "start_time": "2022-04-10T18:12:53.574Z"
   },
   {
    "duration": 13,
    "start_time": "2022-04-10T18:12:53.587Z"
   },
   {
    "duration": 13,
    "start_time": "2022-04-10T18:12:53.602Z"
   },
   {
    "duration": 54,
    "start_time": "2022-04-10T18:12:53.617Z"
   },
   {
    "duration": 2,
    "start_time": "2022-04-10T18:12:53.673Z"
   },
   {
    "duration": 4,
    "start_time": "2022-04-10T18:12:53.677Z"
   },
   {
    "duration": 5,
    "start_time": "2022-04-10T18:12:53.683Z"
   },
   {
    "duration": 5,
    "start_time": "2022-04-10T18:12:53.689Z"
   },
   {
    "duration": 5,
    "start_time": "2022-04-10T18:12:53.695Z"
   },
   {
    "duration": 4,
    "start_time": "2022-04-10T18:12:53.702Z"
   },
   {
    "duration": 6,
    "start_time": "2022-04-10T18:12:53.707Z"
   },
   {
    "duration": 11,
    "start_time": "2022-04-10T18:12:53.715Z"
   },
   {
    "duration": 7,
    "start_time": "2022-04-10T18:12:53.727Z"
   },
   {
    "duration": 5,
    "start_time": "2022-04-10T18:12:53.735Z"
   },
   {
    "duration": 5,
    "start_time": "2022-04-10T18:12:53.741Z"
   },
   {
    "duration": 30,
    "start_time": "2022-04-10T18:12:53.747Z"
   },
   {
    "duration": 4,
    "start_time": "2022-04-10T18:12:53.778Z"
   },
   {
    "duration": 14,
    "start_time": "2022-04-10T18:12:53.783Z"
   },
   {
    "duration": 13,
    "start_time": "2022-04-10T18:12:53.801Z"
   },
   {
    "duration": 65,
    "start_time": "2022-04-10T18:12:53.816Z"
   },
   {
    "duration": 25,
    "start_time": "2022-04-10T18:12:53.882Z"
   },
   {
    "duration": 8,
    "start_time": "2022-04-10T18:12:53.909Z"
   },
   {
    "duration": 14,
    "start_time": "2022-04-10T18:12:53.919Z"
   },
   {
    "duration": 3,
    "start_time": "2022-04-10T18:12:53.935Z"
   },
   {
    "duration": 11,
    "start_time": "2022-04-10T18:12:53.939Z"
   },
   {
    "duration": 20,
    "start_time": "2022-04-10T18:12:53.971Z"
   },
   {
    "duration": 11,
    "start_time": "2022-04-10T18:12:53.993Z"
   },
   {
    "duration": 7,
    "start_time": "2022-04-10T18:12:54.006Z"
   },
   {
    "duration": 7,
    "start_time": "2022-04-10T18:12:54.015Z"
   },
   {
    "duration": 5,
    "start_time": "2022-04-10T18:12:54.023Z"
   },
   {
    "duration": 5,
    "start_time": "2022-04-10T18:12:54.029Z"
   },
   {
    "duration": 5,
    "start_time": "2022-04-10T18:12:54.035Z"
   },
   {
    "duration": 2,
    "start_time": "2022-04-10T18:12:54.070Z"
   },
   {
    "duration": 6,
    "start_time": "2022-04-10T18:12:54.073Z"
   },
   {
    "duration": 9,
    "start_time": "2022-04-10T18:12:54.080Z"
   },
   {
    "duration": 4,
    "start_time": "2022-04-10T18:12:54.091Z"
   },
   {
    "duration": 4,
    "start_time": "2022-04-10T18:12:54.097Z"
   },
   {
    "duration": 767,
    "start_time": "2022-04-10T18:13:56.299Z"
   },
   {
    "duration": 224,
    "start_time": "2022-04-10T18:13:57.068Z"
   },
   {
    "duration": 17,
    "start_time": "2022-04-10T18:13:57.294Z"
   },
   {
    "duration": 14,
    "start_time": "2022-04-10T18:13:57.313Z"
   },
   {
    "duration": 51,
    "start_time": "2022-04-10T18:13:57.329Z"
   },
   {
    "duration": 21,
    "start_time": "2022-04-10T18:13:57.381Z"
   },
   {
    "duration": 16,
    "start_time": "2022-04-10T18:13:57.403Z"
   },
   {
    "duration": 51,
    "start_time": "2022-04-10T18:13:57.421Z"
   },
   {
    "duration": 13,
    "start_time": "2022-04-10T18:13:57.473Z"
   },
   {
    "duration": 14,
    "start_time": "2022-04-10T18:13:57.489Z"
   },
   {
    "duration": 8,
    "start_time": "2022-04-10T18:13:57.504Z"
   },
   {
    "duration": 75,
    "start_time": "2022-04-10T18:13:57.514Z"
   },
   {
    "duration": 13,
    "start_time": "2022-04-10T18:13:57.591Z"
   },
   {
    "duration": 14,
    "start_time": "2022-04-10T18:13:57.605Z"
   },
   {
    "duration": 7,
    "start_time": "2022-04-10T18:13:57.621Z"
   },
   {
    "duration": 57,
    "start_time": "2022-04-10T18:13:57.630Z"
   },
   {
    "duration": 21,
    "start_time": "2022-04-10T18:13:57.689Z"
   },
   {
    "duration": 9,
    "start_time": "2022-04-10T18:13:57.712Z"
   },
   {
    "duration": 11,
    "start_time": "2022-04-10T18:13:57.722Z"
   },
   {
    "duration": 39,
    "start_time": "2022-04-10T18:13:57.735Z"
   },
   {
    "duration": 11,
    "start_time": "2022-04-10T18:13:57.776Z"
   },
   {
    "duration": 15,
    "start_time": "2022-04-10T18:13:57.789Z"
   },
   {
    "duration": 10,
    "start_time": "2022-04-10T18:13:57.806Z"
   },
   {
    "duration": 55,
    "start_time": "2022-04-10T18:13:57.818Z"
   },
   {
    "duration": 13,
    "start_time": "2022-04-10T18:13:57.875Z"
   },
   {
    "duration": 13,
    "start_time": "2022-04-10T18:13:57.890Z"
   },
   {
    "duration": 2,
    "start_time": "2022-04-10T18:13:57.905Z"
   },
   {
    "duration": 2,
    "start_time": "2022-04-10T18:13:57.910Z"
   },
   {
    "duration": 3,
    "start_time": "2022-04-10T18:13:57.914Z"
   },
   {
    "duration": 6,
    "start_time": "2022-04-10T18:13:57.918Z"
   },
   {
    "duration": 4,
    "start_time": "2022-04-10T18:13:57.926Z"
   },
   {
    "duration": 40,
    "start_time": "2022-04-10T18:13:57.931Z"
   },
   {
    "duration": 3,
    "start_time": "2022-04-10T18:13:57.972Z"
   },
   {
    "duration": 8,
    "start_time": "2022-04-10T18:13:57.977Z"
   },
   {
    "duration": 5,
    "start_time": "2022-04-10T18:13:57.986Z"
   },
   {
    "duration": 7,
    "start_time": "2022-04-10T18:13:57.992Z"
   },
   {
    "duration": 5,
    "start_time": "2022-04-10T18:13:58.000Z"
   },
   {
    "duration": 13,
    "start_time": "2022-04-10T18:13:58.007Z"
   },
   {
    "duration": 2,
    "start_time": "2022-04-10T18:13:58.021Z"
   },
   {
    "duration": 18,
    "start_time": "2022-04-10T18:13:58.025Z"
   },
   {
    "duration": 39,
    "start_time": "2022-04-10T18:13:58.044Z"
   },
   {
    "duration": 24,
    "start_time": "2022-04-10T18:13:58.085Z"
   },
   {
    "duration": 19,
    "start_time": "2022-04-10T18:13:58.110Z"
   },
   {
    "duration": 6,
    "start_time": "2022-04-10T18:13:58.131Z"
   },
   {
    "duration": 11,
    "start_time": "2022-04-10T18:13:58.170Z"
   },
   {
    "duration": 6,
    "start_time": "2022-04-10T18:13:58.182Z"
   },
   {
    "duration": 4,
    "start_time": "2022-04-10T18:13:58.189Z"
   },
   {
    "duration": 16,
    "start_time": "2022-04-10T18:13:58.195Z"
   },
   {
    "duration": 4,
    "start_time": "2022-04-10T18:13:58.212Z"
   },
   {
    "duration": 5,
    "start_time": "2022-04-10T18:13:58.217Z"
   },
   {
    "duration": 4,
    "start_time": "2022-04-10T18:13:58.224Z"
   },
   {
    "duration": 2,
    "start_time": "2022-04-10T18:13:58.270Z"
   },
   {
    "duration": 4,
    "start_time": "2022-04-10T18:13:58.274Z"
   },
   {
    "duration": 4,
    "start_time": "2022-04-10T18:13:58.279Z"
   },
   {
    "duration": 5,
    "start_time": "2022-04-10T18:13:58.285Z"
   },
   {
    "duration": 4,
    "start_time": "2022-04-10T18:13:58.291Z"
   },
   {
    "duration": 8,
    "start_time": "2022-04-10T18:13:58.297Z"
   },
   {
    "duration": 13,
    "start_time": "2022-04-10T18:15:18.465Z"
   },
   {
    "duration": 14,
    "start_time": "2022-04-10T18:15:26.802Z"
   },
   {
    "duration": 10,
    "start_time": "2022-04-10T18:16:51.696Z"
   },
   {
    "duration": 15,
    "start_time": "2022-04-10T19:00:49.767Z"
   },
   {
    "duration": 91,
    "start_time": "2022-04-10T19:01:07.907Z"
   },
   {
    "duration": 15,
    "start_time": "2022-04-10T19:01:17.212Z"
   },
   {
    "duration": 4,
    "start_time": "2022-04-10T19:01:37.064Z"
   },
   {
    "duration": 16,
    "start_time": "2022-04-10T19:01:44.705Z"
   },
   {
    "duration": 14,
    "start_time": "2022-04-10T19:01:51.829Z"
   },
   {
    "duration": 17,
    "start_time": "2022-04-10T19:02:21.558Z"
   },
   {
    "duration": 12,
    "start_time": "2022-04-10T19:02:29.732Z"
   },
   {
    "duration": 15,
    "start_time": "2022-04-10T19:02:52.458Z"
   },
   {
    "duration": 13,
    "start_time": "2022-04-10T19:03:10.413Z"
   },
   {
    "duration": 4,
    "start_time": "2022-04-10T19:09:21.936Z"
   },
   {
    "duration": 16,
    "start_time": "2022-04-10T19:09:36.017Z"
   },
   {
    "duration": 5,
    "start_time": "2022-04-10T19:10:16.285Z"
   },
   {
    "duration": 14,
    "start_time": "2022-04-10T19:10:19.056Z"
   },
   {
    "duration": 6,
    "start_time": "2022-04-10T19:16:23.718Z"
   },
   {
    "duration": 17,
    "start_time": "2022-04-10T19:16:37.980Z"
   },
   {
    "duration": 16,
    "start_time": "2022-04-10T19:17:10.459Z"
   },
   {
    "duration": 4,
    "start_time": "2022-04-10T19:17:14.904Z"
   },
   {
    "duration": 15,
    "start_time": "2022-04-10T19:17:17.082Z"
   },
   {
    "duration": 757,
    "start_time": "2022-04-10T19:17:27.115Z"
   },
   {
    "duration": 238,
    "start_time": "2022-04-10T19:17:27.874Z"
   },
   {
    "duration": 19,
    "start_time": "2022-04-10T19:17:28.114Z"
   },
   {
    "duration": 16,
    "start_time": "2022-04-10T19:17:28.136Z"
   },
   {
    "duration": 61,
    "start_time": "2022-04-10T19:17:28.154Z"
   },
   {
    "duration": 21,
    "start_time": "2022-04-10T19:17:28.217Z"
   },
   {
    "duration": 34,
    "start_time": "2022-04-10T19:17:28.239Z"
   },
   {
    "duration": 28,
    "start_time": "2022-04-10T19:17:28.275Z"
   },
   {
    "duration": 13,
    "start_time": "2022-04-10T19:17:28.305Z"
   },
   {
    "duration": 16,
    "start_time": "2022-04-10T19:17:28.320Z"
   },
   {
    "duration": 37,
    "start_time": "2022-04-10T19:17:28.338Z"
   },
   {
    "duration": 49,
    "start_time": "2022-04-10T19:17:28.377Z"
   },
   {
    "duration": 16,
    "start_time": "2022-04-10T19:17:28.428Z"
   },
   {
    "duration": 35,
    "start_time": "2022-04-10T19:17:28.445Z"
   },
   {
    "duration": 13,
    "start_time": "2022-04-10T19:17:28.481Z"
   },
   {
    "duration": 27,
    "start_time": "2022-04-10T19:17:28.495Z"
   },
   {
    "duration": 48,
    "start_time": "2022-04-10T19:17:28.524Z"
   },
   {
    "duration": 10,
    "start_time": "2022-04-10T19:17:28.574Z"
   },
   {
    "duration": 20,
    "start_time": "2022-04-10T19:17:28.585Z"
   },
   {
    "duration": 10,
    "start_time": "2022-04-10T19:17:28.606Z"
   },
   {
    "duration": 12,
    "start_time": "2022-04-10T19:17:28.618Z"
   },
   {
    "duration": 15,
    "start_time": "2022-04-10T19:17:28.632Z"
   },
   {
    "duration": 11,
    "start_time": "2022-04-10T19:17:28.670Z"
   },
   {
    "duration": 13,
    "start_time": "2022-04-10T19:17:28.684Z"
   },
   {
    "duration": 18,
    "start_time": "2022-04-10T19:17:28.699Z"
   },
   {
    "duration": 21,
    "start_time": "2022-04-10T19:17:28.719Z"
   },
   {
    "duration": 3,
    "start_time": "2022-04-10T19:17:28.742Z"
   },
   {
    "duration": 25,
    "start_time": "2022-04-10T19:17:28.748Z"
   },
   {
    "duration": 6,
    "start_time": "2022-04-10T19:17:28.775Z"
   },
   {
    "duration": 5,
    "start_time": "2022-04-10T19:17:28.782Z"
   },
   {
    "duration": 5,
    "start_time": "2022-04-10T19:17:28.788Z"
   },
   {
    "duration": 10,
    "start_time": "2022-04-10T19:17:28.800Z"
   },
   {
    "duration": 6,
    "start_time": "2022-04-10T19:17:28.812Z"
   },
   {
    "duration": 5,
    "start_time": "2022-04-10T19:17:28.820Z"
   },
   {
    "duration": 6,
    "start_time": "2022-04-10T19:17:28.826Z"
   },
   {
    "duration": 19,
    "start_time": "2022-04-10T19:17:28.833Z"
   },
   {
    "duration": 6,
    "start_time": "2022-04-10T19:17:28.853Z"
   },
   {
    "duration": 23,
    "start_time": "2022-04-10T19:17:28.874Z"
   },
   {
    "duration": 2,
    "start_time": "2022-04-10T19:17:28.899Z"
   },
   {
    "duration": 17,
    "start_time": "2022-04-10T19:17:28.903Z"
   },
   {
    "duration": 19,
    "start_time": "2022-04-10T19:17:28.922Z"
   },
   {
    "duration": 61,
    "start_time": "2022-04-10T19:17:28.943Z"
   },
   {
    "duration": 30,
    "start_time": "2022-04-10T19:17:29.005Z"
   },
   {
    "duration": 7,
    "start_time": "2022-04-10T19:17:29.037Z"
   },
   {
    "duration": 36,
    "start_time": "2022-04-10T19:17:29.046Z"
   },
   {
    "duration": 15,
    "start_time": "2022-04-10T19:17:29.084Z"
   },
   {
    "duration": 4,
    "start_time": "2022-04-10T19:17:29.101Z"
   },
   {
    "duration": 14,
    "start_time": "2022-04-10T19:17:29.107Z"
   },
   {
    "duration": 8,
    "start_time": "2022-04-10T19:17:29.122Z"
   },
   {
    "duration": 5,
    "start_time": "2022-04-10T19:17:29.131Z"
   },
   {
    "duration": 48,
    "start_time": "2022-04-10T19:17:29.137Z"
   },
   {
    "duration": 7,
    "start_time": "2022-04-10T19:17:29.186Z"
   },
   {
    "duration": 7,
    "start_time": "2022-04-10T19:17:29.195Z"
   },
   {
    "duration": 5,
    "start_time": "2022-04-10T19:17:29.204Z"
   },
   {
    "duration": 5,
    "start_time": "2022-04-10T19:17:29.210Z"
   },
   {
    "duration": 4,
    "start_time": "2022-04-10T19:17:29.216Z"
   },
   {
    "duration": 4,
    "start_time": "2022-04-10T19:17:29.222Z"
   },
   {
    "duration": 10,
    "start_time": "2022-04-10T19:17:29.227Z"
   },
   {
    "duration": 4,
    "start_time": "2022-04-10T19:17:29.238Z"
   },
   {
    "duration": 611,
    "start_time": "2022-04-10T20:17:45.023Z"
   },
   {
    "duration": 122,
    "start_time": "2022-04-10T20:18:15.088Z"
   },
   {
    "duration": 2,
    "start_time": "2022-04-10T20:18:19.098Z"
   },
   {
    "duration": 7,
    "start_time": "2022-04-10T20:37:03.948Z"
   },
   {
    "duration": 15,
    "start_time": "2022-04-10T20:37:15.764Z"
   },
   {
    "duration": 467,
    "start_time": "2022-04-10T20:37:38.208Z"
   },
   {
    "duration": 14,
    "start_time": "2022-04-10T20:38:10.210Z"
   },
   {
    "duration": 4,
    "start_time": "2022-04-10T20:38:10.226Z"
   },
   {
    "duration": 4,
    "start_time": "2022-04-10T20:38:10.231Z"
   },
   {
    "duration": 3,
    "start_time": "2022-04-10T20:38:10.237Z"
   },
   {
    "duration": 5,
    "start_time": "2022-04-10T20:38:10.242Z"
   },
   {
    "duration": 4,
    "start_time": "2022-04-10T20:38:10.249Z"
   },
   {
    "duration": 4,
    "start_time": "2022-04-10T20:38:10.254Z"
   },
   {
    "duration": 5,
    "start_time": "2022-04-10T20:38:10.259Z"
   },
   {
    "duration": 3,
    "start_time": "2022-04-10T20:38:10.265Z"
   },
   {
    "duration": 5,
    "start_time": "2022-04-10T20:38:10.270Z"
   },
   {
    "duration": 787,
    "start_time": "2022-04-10T20:38:15.974Z"
   },
   {
    "duration": 210,
    "start_time": "2022-04-10T20:38:16.763Z"
   },
   {
    "duration": 17,
    "start_time": "2022-04-10T20:38:16.975Z"
   },
   {
    "duration": 14,
    "start_time": "2022-04-10T20:38:16.994Z"
   },
   {
    "duration": 61,
    "start_time": "2022-04-10T20:38:17.010Z"
   },
   {
    "duration": 21,
    "start_time": "2022-04-10T20:38:17.072Z"
   },
   {
    "duration": 16,
    "start_time": "2022-04-10T20:38:17.094Z"
   },
   {
    "duration": 23,
    "start_time": "2022-04-10T20:38:17.112Z"
   },
   {
    "duration": 43,
    "start_time": "2022-04-10T20:38:17.136Z"
   },
   {
    "duration": 19,
    "start_time": "2022-04-10T20:38:17.181Z"
   },
   {
    "duration": 9,
    "start_time": "2022-04-10T20:38:17.201Z"
   },
   {
    "duration": 37,
    "start_time": "2022-04-10T20:38:17.211Z"
   },
   {
    "duration": 32,
    "start_time": "2022-04-10T20:38:17.249Z"
   },
   {
    "duration": 11,
    "start_time": "2022-04-10T20:38:17.283Z"
   },
   {
    "duration": 6,
    "start_time": "2022-04-10T20:38:17.296Z"
   },
   {
    "duration": 28,
    "start_time": "2022-04-10T20:38:17.304Z"
   },
   {
    "duration": 52,
    "start_time": "2022-04-10T20:38:17.333Z"
   },
   {
    "duration": 9,
    "start_time": "2022-04-10T20:38:17.387Z"
   },
   {
    "duration": 11,
    "start_time": "2022-04-10T20:38:17.397Z"
   },
   {
    "duration": 9,
    "start_time": "2022-04-10T20:38:17.410Z"
   },
   {
    "duration": 11,
    "start_time": "2022-04-10T20:38:17.421Z"
   },
   {
    "duration": 46,
    "start_time": "2022-04-10T20:38:17.434Z"
   },
   {
    "duration": 24,
    "start_time": "2022-04-10T20:38:17.482Z"
   },
   {
    "duration": 13,
    "start_time": "2022-04-10T20:38:17.507Z"
   },
   {
    "duration": 15,
    "start_time": "2022-04-10T20:38:17.522Z"
   },
   {
    "duration": 14,
    "start_time": "2022-04-10T20:38:17.539Z"
   },
   {
    "duration": 2,
    "start_time": "2022-04-10T20:38:17.571Z"
   },
   {
    "duration": 7,
    "start_time": "2022-04-10T20:38:17.574Z"
   },
   {
    "duration": 4,
    "start_time": "2022-04-10T20:38:17.583Z"
   },
   {
    "duration": 4,
    "start_time": "2022-04-10T20:38:17.588Z"
   },
   {
    "duration": 4,
    "start_time": "2022-04-10T20:38:17.593Z"
   },
   {
    "duration": 5,
    "start_time": "2022-04-10T20:38:17.599Z"
   },
   {
    "duration": 4,
    "start_time": "2022-04-10T20:38:17.605Z"
   },
   {
    "duration": 4,
    "start_time": "2022-04-10T20:38:17.610Z"
   },
   {
    "duration": 4,
    "start_time": "2022-04-10T20:38:17.616Z"
   },
   {
    "duration": 4,
    "start_time": "2022-04-10T20:38:17.621Z"
   },
   {
    "duration": 5,
    "start_time": "2022-04-10T20:38:17.626Z"
   },
   {
    "duration": 45,
    "start_time": "2022-04-10T20:38:17.632Z"
   },
   {
    "duration": 1,
    "start_time": "2022-04-10T20:38:17.679Z"
   },
   {
    "duration": 15,
    "start_time": "2022-04-10T20:38:17.682Z"
   },
   {
    "duration": 13,
    "start_time": "2022-04-10T20:38:17.700Z"
   },
   {
    "duration": 24,
    "start_time": "2022-04-10T20:38:17.714Z"
   },
   {
    "duration": 47,
    "start_time": "2022-04-10T20:38:17.739Z"
   },
   {
    "duration": 7,
    "start_time": "2022-04-10T20:38:17.787Z"
   },
   {
    "duration": 11,
    "start_time": "2022-04-10T20:38:17.795Z"
   },
   {
    "duration": 3,
    "start_time": "2022-04-10T20:38:17.807Z"
   },
   {
    "duration": 3,
    "start_time": "2022-04-10T20:38:17.812Z"
   },
   {
    "duration": 12,
    "start_time": "2022-04-10T20:38:17.816Z"
   },
   {
    "duration": 7,
    "start_time": "2022-04-10T20:38:17.829Z"
   },
   {
    "duration": 4,
    "start_time": "2022-04-10T20:38:17.870Z"
   },
   {
    "duration": 16,
    "start_time": "2022-04-10T20:38:17.875Z"
   },
   {
    "duration": 2,
    "start_time": "2022-04-10T20:38:17.892Z"
   },
   {
    "duration": 6,
    "start_time": "2022-04-10T20:38:17.896Z"
   },
   {
    "duration": 5,
    "start_time": "2022-04-10T20:38:17.903Z"
   },
   {
    "duration": 4,
    "start_time": "2022-04-10T20:38:17.909Z"
   },
   {
    "duration": 4,
    "start_time": "2022-04-10T20:38:17.914Z"
   },
   {
    "duration": 4,
    "start_time": "2022-04-10T20:38:17.920Z"
   },
   {
    "duration": 4,
    "start_time": "2022-04-10T20:38:17.925Z"
   },
   {
    "duration": 5,
    "start_time": "2022-04-10T20:38:17.930Z"
   },
   {
    "duration": 4,
    "start_time": "2022-04-10T20:38:17.937Z"
   },
   {
    "duration": 4,
    "start_time": "2022-04-10T23:09:09.763Z"
   },
   {
    "duration": 16,
    "start_time": "2022-04-10T23:09:10.852Z"
   },
   {
    "duration": 551,
    "start_time": "2022-04-10T23:22:13.877Z"
   },
   {
    "duration": 2,
    "start_time": "2022-04-10T23:22:23.868Z"
   },
   {
    "duration": 240,
    "start_time": "2022-04-10T23:22:23.872Z"
   },
   {
    "duration": 16,
    "start_time": "2022-04-10T23:22:24.113Z"
   },
   {
    "duration": 8,
    "start_time": "2022-04-10T23:22:24.131Z"
   },
   {
    "duration": 47,
    "start_time": "2022-04-10T23:22:24.141Z"
   },
   {
    "duration": 20,
    "start_time": "2022-04-10T23:22:24.190Z"
   },
   {
    "duration": 16,
    "start_time": "2022-04-10T23:22:24.212Z"
   },
   {
    "duration": 42,
    "start_time": "2022-04-10T23:22:24.229Z"
   },
   {
    "duration": 11,
    "start_time": "2022-04-10T23:22:24.273Z"
   },
   {
    "duration": 15,
    "start_time": "2022-04-10T23:22:24.286Z"
   },
   {
    "duration": 8,
    "start_time": "2022-04-10T23:22:24.302Z"
   },
   {
    "duration": 62,
    "start_time": "2022-04-10T23:22:24.312Z"
   },
   {
    "duration": 13,
    "start_time": "2022-04-10T23:22:24.376Z"
   },
   {
    "duration": 13,
    "start_time": "2022-04-10T23:22:24.391Z"
   },
   {
    "duration": 7,
    "start_time": "2022-04-10T23:22:24.405Z"
   },
   {
    "duration": 28,
    "start_time": "2022-04-10T23:22:24.413Z"
   },
   {
    "duration": 22,
    "start_time": "2022-04-10T23:22:24.471Z"
   },
   {
    "duration": 9,
    "start_time": "2022-04-10T23:22:24.494Z"
   },
   {
    "duration": 9,
    "start_time": "2022-04-10T23:22:24.504Z"
   },
   {
    "duration": 9,
    "start_time": "2022-04-10T23:22:24.515Z"
   },
   {
    "duration": 10,
    "start_time": "2022-04-10T23:22:24.526Z"
   },
   {
    "duration": 43,
    "start_time": "2022-04-10T23:22:24.538Z"
   },
   {
    "duration": 8,
    "start_time": "2022-04-10T23:22:24.582Z"
   },
   {
    "duration": 11,
    "start_time": "2022-04-10T23:22:24.592Z"
   },
   {
    "duration": 12,
    "start_time": "2022-04-10T23:22:24.605Z"
   },
   {
    "duration": 12,
    "start_time": "2022-04-10T23:22:24.619Z"
   },
   {
    "duration": 38,
    "start_time": "2022-04-10T23:22:24.633Z"
   },
   {
    "duration": 4,
    "start_time": "2022-04-10T23:22:24.673Z"
   },
   {
    "duration": 4,
    "start_time": "2022-04-10T23:22:24.679Z"
   },
   {
    "duration": 3,
    "start_time": "2022-04-10T23:22:24.685Z"
   },
   {
    "duration": 3,
    "start_time": "2022-04-10T23:22:24.690Z"
   },
   {
    "duration": 4,
    "start_time": "2022-04-10T23:22:24.695Z"
   },
   {
    "duration": 4,
    "start_time": "2022-04-10T23:22:24.700Z"
   },
   {
    "duration": 3,
    "start_time": "2022-04-10T23:22:24.706Z"
   },
   {
    "duration": 4,
    "start_time": "2022-04-10T23:22:24.711Z"
   },
   {
    "duration": 55,
    "start_time": "2022-04-10T23:22:24.716Z"
   },
   {
    "duration": 2,
    "start_time": "2022-04-10T23:22:24.772Z"
   },
   {
    "duration": 15,
    "start_time": "2022-04-10T23:22:24.776Z"
   },
   {
    "duration": 2,
    "start_time": "2022-04-10T23:22:24.792Z"
   },
   {
    "duration": 12,
    "start_time": "2022-04-10T23:22:24.796Z"
   },
   {
    "duration": 11,
    "start_time": "2022-04-10T23:22:24.812Z"
   },
   {
    "duration": 51,
    "start_time": "2022-04-10T23:22:24.825Z"
   },
   {
    "duration": 22,
    "start_time": "2022-04-10T23:22:24.877Z"
   },
   {
    "duration": 7,
    "start_time": "2022-04-10T23:22:24.900Z"
   },
   {
    "duration": 11,
    "start_time": "2022-04-10T23:22:24.908Z"
   },
   {
    "duration": 5,
    "start_time": "2022-04-10T23:22:24.920Z"
   },
   {
    "duration": 5,
    "start_time": "2022-04-10T23:22:24.926Z"
   },
   {
    "duration": 40,
    "start_time": "2022-04-10T23:22:24.933Z"
   },
   {
    "duration": 7,
    "start_time": "2022-04-10T23:22:24.975Z"
   },
   {
    "duration": 4,
    "start_time": "2022-04-10T23:22:24.983Z"
   },
   {
    "duration": 4,
    "start_time": "2022-04-10T23:22:24.988Z"
   },
   {
    "duration": 5,
    "start_time": "2022-04-10T23:22:24.994Z"
   },
   {
    "duration": 18,
    "start_time": "2022-04-10T23:22:25.000Z"
   },
   {
    "duration": 2,
    "start_time": "2022-04-10T23:22:25.019Z"
   },
   {
    "duration": 4,
    "start_time": "2022-04-10T23:22:25.022Z"
   },
   {
    "duration": 43,
    "start_time": "2022-04-10T23:22:25.027Z"
   },
   {
    "duration": 5,
    "start_time": "2022-04-10T23:22:25.072Z"
   },
   {
    "duration": 5,
    "start_time": "2022-04-10T23:22:25.078Z"
   },
   {
    "duration": 9,
    "start_time": "2022-04-10T23:22:25.084Z"
   },
   {
    "duration": 4,
    "start_time": "2022-04-10T23:22:25.094Z"
   },
   {
    "duration": 5,
    "start_time": "2022-04-10T23:22:25.099Z"
   },
   {
    "duration": 3,
    "start_time": "2022-04-10T23:22:25.106Z"
   },
   {
    "duration": 3,
    "start_time": "2022-04-10T23:25:48.935Z"
   },
   {
    "duration": 829,
    "start_time": "2022-04-10T23:26:57.536Z"
   },
   {
    "duration": 230,
    "start_time": "2022-04-10T23:26:58.367Z"
   },
   {
    "duration": 17,
    "start_time": "2022-04-10T23:26:58.599Z"
   },
   {
    "duration": 13,
    "start_time": "2022-04-10T23:26:58.618Z"
   },
   {
    "duration": 46,
    "start_time": "2022-04-10T23:26:58.633Z"
   },
   {
    "duration": 22,
    "start_time": "2022-04-10T23:26:58.681Z"
   },
   {
    "duration": 18,
    "start_time": "2022-04-10T23:26:58.704Z"
   },
   {
    "duration": 51,
    "start_time": "2022-04-10T23:26:58.723Z"
   },
   {
    "duration": 14,
    "start_time": "2022-04-10T23:26:58.775Z"
   },
   {
    "duration": 17,
    "start_time": "2022-04-10T23:26:58.791Z"
   },
   {
    "duration": 8,
    "start_time": "2022-04-10T23:26:58.810Z"
   },
   {
    "duration": 62,
    "start_time": "2022-04-10T23:26:58.820Z"
   },
   {
    "duration": 14,
    "start_time": "2022-04-10T23:26:58.884Z"
   },
   {
    "duration": 14,
    "start_time": "2022-04-10T23:26:58.901Z"
   },
   {
    "duration": 7,
    "start_time": "2022-04-10T23:26:58.916Z"
   },
   {
    "duration": 56,
    "start_time": "2022-04-10T23:26:58.925Z"
   },
   {
    "duration": 21,
    "start_time": "2022-04-10T23:26:58.983Z"
   },
   {
    "duration": 9,
    "start_time": "2022-04-10T23:26:59.005Z"
   },
   {
    "duration": 10,
    "start_time": "2022-04-10T23:26:59.016Z"
   },
   {
    "duration": 9,
    "start_time": "2022-04-10T23:26:59.028Z"
   },
   {
    "duration": 41,
    "start_time": "2022-04-10T23:26:59.038Z"
   },
   {
    "duration": 13,
    "start_time": "2022-04-10T23:26:59.081Z"
   },
   {
    "duration": 9,
    "start_time": "2022-04-10T23:26:59.095Z"
   },
   {
    "duration": 12,
    "start_time": "2022-04-10T23:26:59.105Z"
   },
   {
    "duration": 13,
    "start_time": "2022-04-10T23:26:59.119Z"
   },
   {
    "duration": 47,
    "start_time": "2022-04-10T23:26:59.133Z"
   },
   {
    "duration": 2,
    "start_time": "2022-04-10T23:26:59.182Z"
   },
   {
    "duration": 5,
    "start_time": "2022-04-10T23:26:59.185Z"
   },
   {
    "duration": 8,
    "start_time": "2022-04-10T23:26:59.191Z"
   },
   {
    "duration": 10,
    "start_time": "2022-04-10T23:26:59.201Z"
   },
   {
    "duration": 4,
    "start_time": "2022-04-10T23:26:59.212Z"
   },
   {
    "duration": 6,
    "start_time": "2022-04-10T23:26:59.218Z"
   },
   {
    "duration": 4,
    "start_time": "2022-04-10T23:26:59.226Z"
   },
   {
    "duration": 4,
    "start_time": "2022-04-10T23:26:59.231Z"
   },
   {
    "duration": 34,
    "start_time": "2022-04-10T23:26:59.237Z"
   },
   {
    "duration": 8,
    "start_time": "2022-04-10T23:26:59.273Z"
   },
   {
    "duration": 12,
    "start_time": "2022-04-10T23:26:59.283Z"
   },
   {
    "duration": 16,
    "start_time": "2022-04-10T23:26:59.296Z"
   },
   {
    "duration": 6,
    "start_time": "2022-04-10T23:26:59.314Z"
   },
   {
    "duration": 16,
    "start_time": "2022-04-10T23:26:59.322Z"
   },
   {
    "duration": 13,
    "start_time": "2022-04-10T23:26:59.342Z"
   },
   {
    "duration": 22,
    "start_time": "2022-04-10T23:26:59.371Z"
   },
   {
    "duration": 19,
    "start_time": "2022-04-10T23:26:59.395Z"
   },
   {
    "duration": 7,
    "start_time": "2022-04-10T23:26:59.416Z"
   },
   {
    "duration": 12,
    "start_time": "2022-04-10T23:26:59.424Z"
   },
   {
    "duration": 33,
    "start_time": "2022-04-10T23:26:59.438Z"
   },
   {
    "duration": 4,
    "start_time": "2022-04-10T23:26:59.472Z"
   },
   {
    "duration": 11,
    "start_time": "2022-04-10T23:26:59.477Z"
   },
   {
    "duration": 9,
    "start_time": "2022-04-10T23:26:59.489Z"
   },
   {
    "duration": 3,
    "start_time": "2022-04-10T23:26:59.500Z"
   },
   {
    "duration": 5,
    "start_time": "2022-04-10T23:26:59.504Z"
   },
   {
    "duration": 5,
    "start_time": "2022-04-10T23:26:59.511Z"
   },
   {
    "duration": 5,
    "start_time": "2022-04-10T23:26:59.518Z"
   },
   {
    "duration": 58,
    "start_time": "2022-04-10T23:26:59.524Z"
   },
   {
    "duration": 4,
    "start_time": "2022-04-10T23:26:59.583Z"
   },
   {
    "duration": 4,
    "start_time": "2022-04-10T23:26:59.588Z"
   },
   {
    "duration": 3,
    "start_time": "2022-04-10T23:26:59.594Z"
   },
   {
    "duration": 4,
    "start_time": "2022-04-10T23:26:59.599Z"
   },
   {
    "duration": 4,
    "start_time": "2022-04-10T23:26:59.604Z"
   },
   {
    "duration": 6,
    "start_time": "2022-04-10T23:26:59.610Z"
   },
   {
    "duration": 4,
    "start_time": "2022-04-10T23:26:59.617Z"
   },
   {
    "duration": 4,
    "start_time": "2022-04-10T23:26:59.623Z"
   },
   {
    "duration": 4,
    "start_time": "2022-04-10T23:26:59.629Z"
   },
   {
    "duration": 4,
    "start_time": "2022-04-10T23:29:59.784Z"
   },
   {
    "duration": 764,
    "start_time": "2022-04-10T23:30:55.900Z"
   },
   {
    "duration": 228,
    "start_time": "2022-04-10T23:30:56.666Z"
   },
   {
    "duration": 19,
    "start_time": "2022-04-10T23:30:56.895Z"
   },
   {
    "duration": 14,
    "start_time": "2022-04-10T23:30:56.915Z"
   },
   {
    "duration": 51,
    "start_time": "2022-04-10T23:30:56.931Z"
   },
   {
    "duration": 22,
    "start_time": "2022-04-10T23:30:56.984Z"
   },
   {
    "duration": 17,
    "start_time": "2022-04-10T23:30:57.007Z"
   },
   {
    "duration": 49,
    "start_time": "2022-04-10T23:30:57.025Z"
   },
   {
    "duration": 12,
    "start_time": "2022-04-10T23:30:57.075Z"
   },
   {
    "duration": 16,
    "start_time": "2022-04-10T23:30:57.089Z"
   },
   {
    "duration": 8,
    "start_time": "2022-04-10T23:30:57.106Z"
   },
   {
    "duration": 68,
    "start_time": "2022-04-10T23:30:57.116Z"
   },
   {
    "duration": 13,
    "start_time": "2022-04-10T23:30:57.185Z"
   },
   {
    "duration": 13,
    "start_time": "2022-04-10T23:30:57.201Z"
   },
   {
    "duration": 7,
    "start_time": "2022-04-10T23:30:57.215Z"
   },
   {
    "duration": 52,
    "start_time": "2022-04-10T23:30:57.223Z"
   },
   {
    "duration": 21,
    "start_time": "2022-04-10T23:30:57.276Z"
   },
   {
    "duration": 9,
    "start_time": "2022-04-10T23:30:57.298Z"
   },
   {
    "duration": 9,
    "start_time": "2022-04-10T23:30:57.309Z"
   },
   {
    "duration": 9,
    "start_time": "2022-04-10T23:30:57.320Z"
   },
   {
    "duration": 40,
    "start_time": "2022-04-10T23:30:57.331Z"
   },
   {
    "duration": 13,
    "start_time": "2022-04-10T23:30:57.373Z"
   },
   {
    "duration": 11,
    "start_time": "2022-04-10T23:30:57.387Z"
   },
   {
    "duration": 12,
    "start_time": "2022-04-10T23:30:57.400Z"
   },
   {
    "duration": 13,
    "start_time": "2022-04-10T23:30:57.413Z"
   },
   {
    "duration": 50,
    "start_time": "2022-04-10T23:30:57.427Z"
   },
   {
    "duration": 2,
    "start_time": "2022-04-10T23:30:57.479Z"
   },
   {
    "duration": 4,
    "start_time": "2022-04-10T23:30:57.483Z"
   },
   {
    "duration": 5,
    "start_time": "2022-04-10T23:30:57.488Z"
   },
   {
    "duration": 4,
    "start_time": "2022-04-10T23:30:57.494Z"
   },
   {
    "duration": 4,
    "start_time": "2022-04-10T23:30:57.499Z"
   },
   {
    "duration": 5,
    "start_time": "2022-04-10T23:30:57.504Z"
   },
   {
    "duration": 6,
    "start_time": "2022-04-10T23:30:57.510Z"
   },
   {
    "duration": 5,
    "start_time": "2022-04-10T23:30:57.517Z"
   },
   {
    "duration": 5,
    "start_time": "2022-04-10T23:30:57.524Z"
   },
   {
    "duration": 4,
    "start_time": "2022-04-10T23:30:57.530Z"
   },
   {
    "duration": 3,
    "start_time": "2022-04-10T23:30:57.571Z"
   },
   {
    "duration": 13,
    "start_time": "2022-04-10T23:30:57.576Z"
   },
   {
    "duration": 3,
    "start_time": "2022-04-10T23:30:57.591Z"
   },
   {
    "duration": 13,
    "start_time": "2022-04-10T23:30:57.595Z"
   },
   {
    "duration": 14,
    "start_time": "2022-04-10T23:30:57.611Z"
   },
   {
    "duration": 61,
    "start_time": "2022-04-10T23:30:57.627Z"
   },
   {
    "duration": 20,
    "start_time": "2022-04-10T23:30:57.690Z"
   },
   {
    "duration": 7,
    "start_time": "2022-04-10T23:30:57.711Z"
   },
   {
    "duration": 12,
    "start_time": "2022-04-10T23:30:57.719Z"
   },
   {
    "duration": 3,
    "start_time": "2022-04-10T23:30:57.732Z"
   },
   {
    "duration": 5,
    "start_time": "2022-04-10T23:30:57.736Z"
   },
   {
    "duration": 15,
    "start_time": "2022-04-10T23:30:57.771Z"
   },
   {
    "duration": 8,
    "start_time": "2022-04-10T23:30:57.788Z"
   },
   {
    "duration": 4,
    "start_time": "2022-04-10T23:30:57.797Z"
   },
   {
    "duration": 9,
    "start_time": "2022-04-10T23:30:57.802Z"
   },
   {
    "duration": 12,
    "start_time": "2022-04-10T23:30:57.813Z"
   },
   {
    "duration": 8,
    "start_time": "2022-04-10T23:30:57.826Z"
   },
   {
    "duration": 5,
    "start_time": "2022-04-10T23:30:57.835Z"
   },
   {
    "duration": 43,
    "start_time": "2022-04-10T23:30:57.842Z"
   },
   {
    "duration": 5,
    "start_time": "2022-04-10T23:30:57.886Z"
   },
   {
    "duration": 5,
    "start_time": "2022-04-10T23:30:57.892Z"
   },
   {
    "duration": 4,
    "start_time": "2022-04-10T23:30:57.899Z"
   },
   {
    "duration": 7,
    "start_time": "2022-04-10T23:30:57.904Z"
   },
   {
    "duration": 4,
    "start_time": "2022-04-10T23:30:57.912Z"
   },
   {
    "duration": 7,
    "start_time": "2022-04-10T23:30:57.918Z"
   },
   {
    "duration": 5,
    "start_time": "2022-04-10T23:30:57.926Z"
   },
   {
    "duration": 5,
    "start_time": "2022-04-10T23:30:57.932Z"
   },
   {
    "duration": 4,
    "start_time": "2022-04-10T23:30:57.939Z"
   },
   {
    "duration": 4,
    "start_time": "2022-04-10T23:34:26.656Z"
   },
   {
    "duration": 9,
    "start_time": "2022-04-10T23:34:39.481Z"
   },
   {
    "duration": 9,
    "start_time": "2022-04-10T23:36:21.944Z"
   },
   {
    "duration": 11,
    "start_time": "2022-04-10T23:36:36.976Z"
   },
   {
    "duration": 11,
    "start_time": "2022-04-10T23:38:42.908Z"
   },
   {
    "duration": 10,
    "start_time": "2022-04-10T23:39:04.551Z"
   },
   {
    "duration": 824,
    "start_time": "2022-04-10T23:39:16.039Z"
   },
   {
    "duration": 222,
    "start_time": "2022-04-10T23:39:16.865Z"
   },
   {
    "duration": 17,
    "start_time": "2022-04-10T23:39:17.088Z"
   },
   {
    "duration": 14,
    "start_time": "2022-04-10T23:39:17.107Z"
   },
   {
    "duration": 49,
    "start_time": "2022-04-10T23:39:17.122Z"
   },
   {
    "duration": 21,
    "start_time": "2022-04-10T23:39:17.173Z"
   },
   {
    "duration": 17,
    "start_time": "2022-04-10T23:39:17.195Z"
   },
   {
    "duration": 23,
    "start_time": "2022-04-10T23:39:17.213Z"
   },
   {
    "duration": 41,
    "start_time": "2022-04-10T23:39:17.237Z"
   },
   {
    "duration": 14,
    "start_time": "2022-04-10T23:39:17.280Z"
   },
   {
    "duration": 8,
    "start_time": "2022-04-10T23:39:17.295Z"
   },
   {
    "duration": 37,
    "start_time": "2022-04-10T23:39:17.304Z"
   },
   {
    "duration": 38,
    "start_time": "2022-04-10T23:39:17.342Z"
   },
   {
    "duration": 13,
    "start_time": "2022-04-10T23:39:17.381Z"
   },
   {
    "duration": 7,
    "start_time": "2022-04-10T23:39:17.395Z"
   },
   {
    "duration": 25,
    "start_time": "2022-04-10T23:39:17.403Z"
   },
   {
    "duration": 45,
    "start_time": "2022-04-10T23:39:17.429Z"
   },
   {
    "duration": 9,
    "start_time": "2022-04-10T23:39:17.475Z"
   },
   {
    "duration": 10,
    "start_time": "2022-04-10T23:39:17.486Z"
   },
   {
    "duration": 9,
    "start_time": "2022-04-10T23:39:17.497Z"
   },
   {
    "duration": 11,
    "start_time": "2022-04-10T23:39:17.507Z"
   },
   {
    "duration": 12,
    "start_time": "2022-04-10T23:39:17.520Z"
   },
   {
    "duration": 42,
    "start_time": "2022-04-10T23:39:17.533Z"
   },
   {
    "duration": 11,
    "start_time": "2022-04-10T23:39:17.576Z"
   },
   {
    "duration": 13,
    "start_time": "2022-04-10T23:39:17.588Z"
   },
   {
    "duration": 12,
    "start_time": "2022-04-10T23:39:17.602Z"
   },
   {
    "duration": 2,
    "start_time": "2022-04-10T23:39:17.615Z"
   },
   {
    "duration": 2,
    "start_time": "2022-04-10T23:39:17.620Z"
   },
   {
    "duration": 6,
    "start_time": "2022-04-10T23:39:17.623Z"
   },
   {
    "duration": 2,
    "start_time": "2022-04-10T23:39:17.670Z"
   },
   {
    "duration": 4,
    "start_time": "2022-04-10T23:39:17.674Z"
   },
   {
    "duration": 5,
    "start_time": "2022-04-10T23:39:17.679Z"
   },
   {
    "duration": 4,
    "start_time": "2022-04-10T23:39:17.685Z"
   },
   {
    "duration": 5,
    "start_time": "2022-04-10T23:39:17.690Z"
   },
   {
    "duration": 4,
    "start_time": "2022-04-10T23:39:17.696Z"
   },
   {
    "duration": 3,
    "start_time": "2022-04-10T23:39:17.702Z"
   },
   {
    "duration": 4,
    "start_time": "2022-04-10T23:39:17.707Z"
   },
   {
    "duration": 14,
    "start_time": "2022-04-10T23:39:17.713Z"
   },
   {
    "duration": 3,
    "start_time": "2022-04-10T23:39:17.728Z"
   },
   {
    "duration": 42,
    "start_time": "2022-04-10T23:39:17.732Z"
   },
   {
    "duration": 13,
    "start_time": "2022-04-10T23:39:17.776Z"
   },
   {
    "duration": 21,
    "start_time": "2022-04-10T23:39:17.791Z"
   },
   {
    "duration": 18,
    "start_time": "2022-04-10T23:39:17.814Z"
   },
   {
    "duration": 7,
    "start_time": "2022-04-10T23:39:17.833Z"
   },
   {
    "duration": 11,
    "start_time": "2022-04-10T23:39:17.870Z"
   },
   {
    "duration": 5,
    "start_time": "2022-04-10T23:39:17.882Z"
   },
   {
    "duration": 5,
    "start_time": "2022-04-10T23:39:17.889Z"
   },
   {
    "duration": 10,
    "start_time": "2022-04-10T23:39:17.895Z"
   },
   {
    "duration": 6,
    "start_time": "2022-04-10T23:39:17.907Z"
   },
   {
    "duration": 3,
    "start_time": "2022-04-10T23:39:17.914Z"
   },
   {
    "duration": 4,
    "start_time": "2022-04-10T23:39:17.919Z"
   },
   {
    "duration": 4,
    "start_time": "2022-04-10T23:39:17.925Z"
   },
   {
    "duration": 3,
    "start_time": "2022-04-10T23:39:17.970Z"
   },
   {
    "duration": 8,
    "start_time": "2022-04-10T23:39:17.975Z"
   },
   {
    "duration": 10,
    "start_time": "2022-04-10T23:39:17.984Z"
   },
   {
    "duration": 12,
    "start_time": "2022-04-10T23:39:17.996Z"
   },
   {
    "duration": 14,
    "start_time": "2022-04-10T23:39:18.010Z"
   },
   {
    "duration": 5,
    "start_time": "2022-04-10T23:39:18.025Z"
   },
   {
    "duration": 7,
    "start_time": "2022-04-10T23:39:18.031Z"
   },
   {
    "duration": 4,
    "start_time": "2022-04-10T23:39:18.039Z"
   },
   {
    "duration": 26,
    "start_time": "2022-04-10T23:39:18.044Z"
   },
   {
    "duration": 1,
    "start_time": "2022-04-10T23:39:18.072Z"
   },
   {
    "duration": 4,
    "start_time": "2022-04-10T23:39:18.075Z"
   },
   {
    "duration": 3,
    "start_time": "2022-04-10T23:39:18.081Z"
   },
   {
    "duration": 4,
    "start_time": "2022-04-10T23:39:18.086Z"
   },
   {
    "duration": 4,
    "start_time": "2022-04-10T23:39:18.091Z"
   },
   {
    "duration": 13,
    "start_time": "2022-04-10T23:40:02.853Z"
   },
   {
    "duration": 17,
    "start_time": "2022-04-10T23:43:12.606Z"
   },
   {
    "duration": 4,
    "start_time": "2022-04-10T23:47:22.757Z"
   },
   {
    "duration": 16,
    "start_time": "2022-04-10T23:47:28.140Z"
   },
   {
    "duration": 20,
    "start_time": "2022-04-10T23:50:35.185Z"
   },
   {
    "duration": 4,
    "start_time": "2022-04-10T23:54:37.819Z"
   },
   {
    "duration": 4,
    "start_time": "2022-04-10T23:59:19.373Z"
   },
   {
    "duration": 4,
    "start_time": "2022-04-10T23:59:20.084Z"
   },
   {
    "duration": 4,
    "start_time": "2022-04-10T23:59:20.786Z"
   },
   {
    "duration": 4,
    "start_time": "2022-04-10T23:59:21.441Z"
   },
   {
    "duration": 76,
    "start_time": "2022-04-10T23:59:24.498Z"
   },
   {
    "duration": 15,
    "start_time": "2022-04-11T00:00:05.500Z"
   },
   {
    "duration": 3,
    "start_time": "2022-04-11T00:01:11.914Z"
   },
   {
    "duration": 16,
    "start_time": "2022-04-11T00:01:14.576Z"
   },
   {
    "duration": 4,
    "start_time": "2022-04-11T00:01:38.257Z"
   },
   {
    "duration": 15,
    "start_time": "2022-04-11T00:01:39.940Z"
   },
   {
    "duration": 4,
    "start_time": "2022-04-11T00:01:42.004Z"
   },
   {
    "duration": 13,
    "start_time": "2022-04-11T00:01:49.276Z"
   },
   {
    "duration": 4,
    "start_time": "2022-04-11T00:04:18.676Z"
   },
   {
    "duration": 24,
    "start_time": "2022-04-11T00:05:00.652Z"
   },
   {
    "duration": 18,
    "start_time": "2022-04-11T00:06:54.472Z"
   },
   {
    "duration": 6,
    "start_time": "2022-04-11T00:18:32.921Z"
   },
   {
    "duration": 7,
    "start_time": "2022-04-11T00:19:44.066Z"
   },
   {
    "duration": 4,
    "start_time": "2022-04-11T00:19:46.728Z"
   },
   {
    "duration": 816,
    "start_time": "2022-04-11T00:20:08.542Z"
   },
   {
    "duration": 226,
    "start_time": "2022-04-11T00:20:09.360Z"
   },
   {
    "duration": 17,
    "start_time": "2022-04-11T00:20:09.588Z"
   },
   {
    "duration": 14,
    "start_time": "2022-04-11T00:20:09.606Z"
   },
   {
    "duration": 53,
    "start_time": "2022-04-11T00:20:09.622Z"
   },
   {
    "duration": 21,
    "start_time": "2022-04-11T00:20:09.677Z"
   },
   {
    "duration": 15,
    "start_time": "2022-04-11T00:20:09.700Z"
   },
   {
    "duration": 23,
    "start_time": "2022-04-11T00:20:09.717Z"
   },
   {
    "duration": 39,
    "start_time": "2022-04-11T00:20:09.741Z"
   },
   {
    "duration": 15,
    "start_time": "2022-04-11T00:20:09.782Z"
   },
   {
    "duration": 8,
    "start_time": "2022-04-11T00:20:09.798Z"
   },
   {
    "duration": 65,
    "start_time": "2022-04-11T00:20:09.808Z"
   },
   {
    "duration": 12,
    "start_time": "2022-04-11T00:20:09.875Z"
   },
   {
    "duration": 12,
    "start_time": "2022-04-11T00:20:09.890Z"
   },
   {
    "duration": 7,
    "start_time": "2022-04-11T00:20:09.903Z"
   },
   {
    "duration": 26,
    "start_time": "2022-04-11T00:20:09.911Z"
   },
   {
    "duration": 20,
    "start_time": "2022-04-11T00:20:09.970Z"
   },
   {
    "duration": 9,
    "start_time": "2022-04-11T00:20:09.992Z"
   },
   {
    "duration": 10,
    "start_time": "2022-04-11T00:20:10.002Z"
   },
   {
    "duration": 10,
    "start_time": "2022-04-11T00:20:10.013Z"
   },
   {
    "duration": 49,
    "start_time": "2022-04-11T00:20:10.024Z"
   },
   {
    "duration": 14,
    "start_time": "2022-04-11T00:20:10.074Z"
   },
   {
    "duration": 12,
    "start_time": "2022-04-11T00:20:10.089Z"
   },
   {
    "duration": 14,
    "start_time": "2022-04-11T00:20:10.102Z"
   },
   {
    "duration": 13,
    "start_time": "2022-04-11T00:20:10.118Z"
   },
   {
    "duration": 42,
    "start_time": "2022-04-11T00:20:10.133Z"
   },
   {
    "duration": 4,
    "start_time": "2022-04-11T00:20:10.176Z"
   },
   {
    "duration": 4,
    "start_time": "2022-04-11T00:20:10.181Z"
   },
   {
    "duration": 4,
    "start_time": "2022-04-11T00:20:10.186Z"
   },
   {
    "duration": 3,
    "start_time": "2022-04-11T00:20:10.192Z"
   },
   {
    "duration": 3,
    "start_time": "2022-04-11T00:20:10.197Z"
   },
   {
    "duration": 4,
    "start_time": "2022-04-11T00:20:10.202Z"
   },
   {
    "duration": 4,
    "start_time": "2022-04-11T00:20:10.207Z"
   },
   {
    "duration": 4,
    "start_time": "2022-04-11T00:20:10.212Z"
   },
   {
    "duration": 4,
    "start_time": "2022-04-11T00:20:10.217Z"
   },
   {
    "duration": 48,
    "start_time": "2022-04-11T00:20:10.223Z"
   },
   {
    "duration": 3,
    "start_time": "2022-04-11T00:20:10.273Z"
   },
   {
    "duration": 12,
    "start_time": "2022-04-11T00:20:10.278Z"
   },
   {
    "duration": 2,
    "start_time": "2022-04-11T00:20:10.292Z"
   },
   {
    "duration": 14,
    "start_time": "2022-04-11T00:20:10.296Z"
   },
   {
    "duration": 12,
    "start_time": "2022-04-11T00:20:10.314Z"
   },
   {
    "duration": 62,
    "start_time": "2022-04-11T00:20:10.327Z"
   },
   {
    "duration": 19,
    "start_time": "2022-04-11T00:20:10.391Z"
   },
   {
    "duration": 7,
    "start_time": "2022-04-11T00:20:10.411Z"
   },
   {
    "duration": 11,
    "start_time": "2022-04-11T00:20:10.419Z"
   },
   {
    "duration": 42,
    "start_time": "2022-04-11T00:20:10.432Z"
   },
   {
    "duration": 5,
    "start_time": "2022-04-11T00:20:10.475Z"
   },
   {
    "duration": 11,
    "start_time": "2022-04-11T00:20:10.482Z"
   },
   {
    "duration": 5,
    "start_time": "2022-04-11T00:20:10.494Z"
   },
   {
    "duration": 3,
    "start_time": "2022-04-11T00:20:10.501Z"
   },
   {
    "duration": 6,
    "start_time": "2022-04-11T00:20:10.505Z"
   },
   {
    "duration": 6,
    "start_time": "2022-04-11T00:20:10.512Z"
   },
   {
    "duration": 9,
    "start_time": "2022-04-11T00:20:10.519Z"
   },
   {
    "duration": 42,
    "start_time": "2022-04-11T00:20:10.529Z"
   },
   {
    "duration": 6,
    "start_time": "2022-04-11T00:20:10.573Z"
   },
   {
    "duration": 15,
    "start_time": "2022-04-11T00:20:10.580Z"
   },
   {
    "duration": 4,
    "start_time": "2022-04-11T00:20:10.596Z"
   },
   {
    "duration": 21,
    "start_time": "2022-04-11T00:20:10.601Z"
   },
   {
    "duration": 3,
    "start_time": "2022-04-11T00:20:10.623Z"
   },
   {
    "duration": 3,
    "start_time": "2022-04-11T00:20:10.670Z"
   },
   {
    "duration": 5,
    "start_time": "2022-04-11T00:20:10.675Z"
   },
   {
    "duration": 7,
    "start_time": "2022-04-11T00:20:10.681Z"
   },
   {
    "duration": 9,
    "start_time": "2022-04-11T00:20:10.689Z"
   },
   {
    "duration": 17,
    "start_time": "2022-04-11T00:20:10.700Z"
   },
   {
    "duration": 4,
    "start_time": "2022-04-11T00:20:10.718Z"
   },
   {
    "duration": 55,
    "start_time": "2022-04-11T00:20:10.723Z"
   },
   {
    "duration": 5,
    "start_time": "2022-04-11T00:20:10.780Z"
   },
   {
    "duration": 18,
    "start_time": "2022-04-11T00:20:10.786Z"
   },
   {
    "duration": 2,
    "start_time": "2022-04-11T00:20:10.805Z"
   },
   {
    "duration": 5,
    "start_time": "2022-04-11T00:20:10.809Z"
   },
   {
    "duration": 4,
    "start_time": "2022-04-11T00:20:10.816Z"
   },
   {
    "duration": 8,
    "start_time": "2022-04-11T00:20:10.821Z"
   },
   {
    "duration": 2,
    "start_time": "2022-04-11T00:20:10.871Z"
   },
   {
    "duration": 8,
    "start_time": "2022-04-11T00:20:10.874Z"
   },
   {
    "duration": 5,
    "start_time": "2022-04-11T00:20:10.884Z"
   },
   {
    "duration": 4,
    "start_time": "2022-04-11T00:20:10.890Z"
   },
   {
    "duration": 5,
    "start_time": "2022-04-11T00:20:10.895Z"
   },
   {
    "duration": 7,
    "start_time": "2022-04-11T00:22:06.392Z"
   },
   {
    "duration": 839,
    "start_time": "2022-04-11T00:33:38.470Z"
   },
   {
    "duration": 229,
    "start_time": "2022-04-11T00:33:39.311Z"
   },
   {
    "duration": 18,
    "start_time": "2022-04-11T00:33:39.542Z"
   },
   {
    "duration": 14,
    "start_time": "2022-04-11T00:33:39.562Z"
   },
   {
    "duration": 41,
    "start_time": "2022-04-11T00:33:39.578Z"
   },
   {
    "duration": 21,
    "start_time": "2022-04-11T00:33:39.621Z"
   },
   {
    "duration": 46,
    "start_time": "2022-04-11T00:33:39.643Z"
   },
   {
    "duration": 30,
    "start_time": "2022-04-11T00:33:39.691Z"
   },
   {
    "duration": 13,
    "start_time": "2022-04-11T00:33:39.723Z"
   },
   {
    "duration": 47,
    "start_time": "2022-04-11T00:33:39.739Z"
   },
   {
    "duration": 9,
    "start_time": "2022-04-11T00:33:39.788Z"
   },
   {
    "duration": 80,
    "start_time": "2022-04-11T00:33:39.799Z"
   },
   {
    "duration": 14,
    "start_time": "2022-04-11T00:33:39.880Z"
   },
   {
    "duration": 17,
    "start_time": "2022-04-11T00:33:39.896Z"
   },
   {
    "duration": 8,
    "start_time": "2022-04-11T00:33:39.915Z"
   },
   {
    "duration": 66,
    "start_time": "2022-04-11T00:33:39.925Z"
   },
   {
    "duration": 21,
    "start_time": "2022-04-11T00:33:39.992Z"
   },
   {
    "duration": 8,
    "start_time": "2022-04-11T00:33:40.015Z"
   },
   {
    "duration": 46,
    "start_time": "2022-04-11T00:33:40.025Z"
   },
   {
    "duration": 10,
    "start_time": "2022-04-11T00:33:40.073Z"
   },
   {
    "duration": 13,
    "start_time": "2022-04-11T00:33:40.084Z"
   },
   {
    "duration": 14,
    "start_time": "2022-04-11T00:33:40.098Z"
   },
   {
    "duration": 10,
    "start_time": "2022-04-11T00:33:40.113Z"
   },
   {
    "duration": 54,
    "start_time": "2022-04-11T00:33:40.124Z"
   },
   {
    "duration": 13,
    "start_time": "2022-04-11T00:33:40.179Z"
   },
   {
    "duration": 12,
    "start_time": "2022-04-11T00:33:40.194Z"
   },
   {
    "duration": 3,
    "start_time": "2022-04-11T00:33:40.207Z"
   },
   {
    "duration": 2,
    "start_time": "2022-04-11T00:33:40.214Z"
   },
   {
    "duration": 8,
    "start_time": "2022-04-11T00:33:40.218Z"
   },
   {
    "duration": 14,
    "start_time": "2022-04-11T00:33:40.271Z"
   },
   {
    "duration": 5,
    "start_time": "2022-04-11T00:33:40.287Z"
   },
   {
    "duration": 9,
    "start_time": "2022-04-11T00:33:40.293Z"
   },
   {
    "duration": 7,
    "start_time": "2022-04-11T00:33:40.303Z"
   },
   {
    "duration": 14,
    "start_time": "2022-04-11T00:33:40.311Z"
   },
   {
    "duration": 5,
    "start_time": "2022-04-11T00:33:40.326Z"
   },
   {
    "duration": 10,
    "start_time": "2022-04-11T00:33:40.332Z"
   },
   {
    "duration": 5,
    "start_time": "2022-04-11T00:33:40.344Z"
   },
   {
    "duration": 23,
    "start_time": "2022-04-11T00:33:40.351Z"
   },
   {
    "duration": 4,
    "start_time": "2022-04-11T00:33:40.375Z"
   },
   {
    "duration": 14,
    "start_time": "2022-04-11T00:33:40.381Z"
   },
   {
    "duration": 13,
    "start_time": "2022-04-11T00:33:40.396Z"
   },
   {
    "duration": 23,
    "start_time": "2022-04-11T00:33:40.410Z"
   },
   {
    "duration": 54,
    "start_time": "2022-04-11T00:33:40.434Z"
   },
   {
    "duration": 7,
    "start_time": "2022-04-11T00:33:40.489Z"
   },
   {
    "duration": 12,
    "start_time": "2022-04-11T00:33:40.497Z"
   },
   {
    "duration": 3,
    "start_time": "2022-04-11T00:33:40.511Z"
   },
   {
    "duration": 6,
    "start_time": "2022-04-11T00:33:40.515Z"
   },
   {
    "duration": 11,
    "start_time": "2022-04-11T00:33:40.523Z"
   },
   {
    "duration": 39,
    "start_time": "2022-04-11T00:33:40.535Z"
   },
   {
    "duration": 4,
    "start_time": "2022-04-11T00:33:40.575Z"
   },
   {
    "duration": 5,
    "start_time": "2022-04-11T00:33:40.581Z"
   },
   {
    "duration": 5,
    "start_time": "2022-04-11T00:33:40.587Z"
   },
   {
    "duration": 5,
    "start_time": "2022-04-11T00:33:40.593Z"
   },
   {
    "duration": 5,
    "start_time": "2022-04-11T00:33:40.600Z"
   },
   {
    "duration": 5,
    "start_time": "2022-04-11T00:33:40.607Z"
   },
   {
    "duration": 64,
    "start_time": "2022-04-11T00:33:40.613Z"
   },
   {
    "duration": 3,
    "start_time": "2022-04-11T00:33:40.679Z"
   },
   {
    "duration": 22,
    "start_time": "2022-04-11T00:33:40.684Z"
   },
   {
    "duration": 3,
    "start_time": "2022-04-11T00:33:40.708Z"
   },
   {
    "duration": 6,
    "start_time": "2022-04-11T00:33:40.712Z"
   },
   {
    "duration": 4,
    "start_time": "2022-04-11T00:33:40.720Z"
   },
   {
    "duration": 47,
    "start_time": "2022-04-11T00:33:40.726Z"
   },
   {
    "duration": 6,
    "start_time": "2022-04-11T00:33:40.774Z"
   },
   {
    "duration": 18,
    "start_time": "2022-04-11T00:33:40.781Z"
   },
   {
    "duration": 3,
    "start_time": "2022-04-11T00:33:40.800Z"
   },
   {
    "duration": 13,
    "start_time": "2022-04-11T00:33:40.805Z"
   },
   {
    "duration": 4,
    "start_time": "2022-04-11T00:33:40.819Z"
   },
   {
    "duration": 60,
    "start_time": "2022-04-11T00:33:40.825Z"
   },
   {
    "duration": 2,
    "start_time": "2022-04-11T00:33:40.887Z"
   },
   {
    "duration": 5,
    "start_time": "2022-04-11T00:33:40.890Z"
   },
   {
    "duration": 4,
    "start_time": "2022-04-11T00:33:40.896Z"
   },
   {
    "duration": 4,
    "start_time": "2022-04-11T00:33:40.901Z"
   },
   {
    "duration": 6,
    "start_time": "2022-04-11T00:33:40.906Z"
   },
   {
    "duration": 4,
    "start_time": "2022-04-11T00:33:40.913Z"
   },
   {
    "duration": 6,
    "start_time": "2022-04-11T00:33:40.918Z"
   },
   {
    "duration": 4,
    "start_time": "2022-04-11T00:33:40.925Z"
   },
   {
    "duration": 40,
    "start_time": "2022-04-11T00:33:40.931Z"
   },
   {
    "duration": 45,
    "start_time": "2022-04-11T18:31:58.519Z"
   },
   {
    "duration": 813,
    "start_time": "2022-04-11T18:32:07.596Z"
   },
   {
    "duration": 304,
    "start_time": "2022-04-11T18:32:08.411Z"
   },
   {
    "duration": 22,
    "start_time": "2022-04-11T18:32:08.716Z"
   },
   {
    "duration": 17,
    "start_time": "2022-04-11T18:32:08.740Z"
   },
   {
    "duration": 51,
    "start_time": "2022-04-11T18:32:08.758Z"
   },
   {
    "duration": 21,
    "start_time": "2022-04-11T18:32:08.810Z"
   },
   {
    "duration": 26,
    "start_time": "2022-04-11T18:32:08.833Z"
   },
   {
    "duration": 16,
    "start_time": "2022-04-11T18:32:08.874Z"
   },
   {
    "duration": 18,
    "start_time": "2022-04-11T18:32:08.891Z"
   },
   {
    "duration": 13,
    "start_time": "2022-04-11T18:32:08.912Z"
   },
   {
    "duration": 72,
    "start_time": "2022-04-11T18:32:08.926Z"
   },
   {
    "duration": 17,
    "start_time": "2022-04-11T18:32:09.000Z"
   },
   {
    "duration": 20,
    "start_time": "2022-04-11T18:32:09.018Z"
   },
   {
    "duration": 8,
    "start_time": "2022-04-11T18:32:09.040Z"
   },
   {
    "duration": 29,
    "start_time": "2022-04-11T18:32:09.074Z"
   },
   {
    "duration": 22,
    "start_time": "2022-04-11T18:32:09.104Z"
   },
   {
    "duration": 9,
    "start_time": "2022-04-11T18:32:09.128Z"
   },
   {
    "duration": 36,
    "start_time": "2022-04-11T18:32:09.139Z"
   },
   {
    "duration": 11,
    "start_time": "2022-04-11T18:32:09.177Z"
   },
   {
    "duration": 15,
    "start_time": "2022-04-11T18:32:09.189Z"
   },
   {
    "duration": 16,
    "start_time": "2022-04-11T18:32:09.205Z"
   },
   {
    "duration": 11,
    "start_time": "2022-04-11T18:32:09.223Z"
   },
   {
    "duration": 45,
    "start_time": "2022-04-11T18:32:09.236Z"
   },
   {
    "duration": 14,
    "start_time": "2022-04-11T18:32:09.282Z"
   },
   {
    "duration": 12,
    "start_time": "2022-04-11T18:32:09.298Z"
   },
   {
    "duration": 2,
    "start_time": "2022-04-11T18:32:09.312Z"
   },
   {
    "duration": 5,
    "start_time": "2022-04-11T18:32:09.315Z"
   },
   {
    "duration": 3,
    "start_time": "2022-04-11T18:32:09.324Z"
   },
   {
    "duration": 4,
    "start_time": "2022-04-11T18:32:09.328Z"
   },
   {
    "duration": 3,
    "start_time": "2022-04-11T18:32:09.373Z"
   },
   {
    "duration": 8,
    "start_time": "2022-04-11T18:32:09.377Z"
   },
   {
    "duration": 6,
    "start_time": "2022-04-11T18:32:09.387Z"
   },
   {
    "duration": 7,
    "start_time": "2022-04-11T18:32:09.394Z"
   },
   {
    "duration": 5,
    "start_time": "2022-04-11T18:32:09.403Z"
   },
   {
    "duration": 4,
    "start_time": "2022-04-11T18:32:09.410Z"
   },
   {
    "duration": 7,
    "start_time": "2022-04-11T18:32:09.416Z"
   },
   {
    "duration": 16,
    "start_time": "2022-04-11T18:32:09.424Z"
   },
   {
    "duration": 4,
    "start_time": "2022-04-11T18:32:09.441Z"
   },
   {
    "duration": 34,
    "start_time": "2022-04-11T18:32:09.447Z"
   },
   {
    "duration": 17,
    "start_time": "2022-04-11T18:32:09.482Z"
   },
   {
    "duration": 27,
    "start_time": "2022-04-11T18:32:09.501Z"
   },
   {
    "duration": 48,
    "start_time": "2022-04-11T18:32:09.529Z"
   },
   {
    "duration": 9,
    "start_time": "2022-04-11T18:32:09.578Z"
   },
   {
    "duration": 18,
    "start_time": "2022-04-11T18:32:09.589Z"
   },
   {
    "duration": 13,
    "start_time": "2022-04-11T18:32:09.609Z"
   },
   {
    "duration": 7,
    "start_time": "2022-04-11T18:32:09.624Z"
   },
   {
    "duration": 14,
    "start_time": "2022-04-11T18:32:09.632Z"
   },
   {
    "duration": 9,
    "start_time": "2022-04-11T18:32:09.647Z"
   },
   {
    "duration": 19,
    "start_time": "2022-04-11T18:32:09.657Z"
   },
   {
    "duration": 16,
    "start_time": "2022-04-11T18:32:09.678Z"
   },
   {
    "duration": 10,
    "start_time": "2022-04-11T18:32:09.696Z"
   },
   {
    "duration": 14,
    "start_time": "2022-04-11T18:32:09.708Z"
   },
   {
    "duration": 7,
    "start_time": "2022-04-11T18:32:09.724Z"
   },
   {
    "duration": 9,
    "start_time": "2022-04-11T18:32:09.733Z"
   },
   {
    "duration": 19,
    "start_time": "2022-04-11T18:32:09.744Z"
   },
   {
    "duration": 10,
    "start_time": "2022-04-11T18:32:09.765Z"
   },
   {
    "duration": 25,
    "start_time": "2022-04-11T18:32:09.777Z"
   },
   {
    "duration": 6,
    "start_time": "2022-04-11T18:32:09.803Z"
   },
   {
    "duration": 6,
    "start_time": "2022-04-11T18:32:09.811Z"
   },
   {
    "duration": 7,
    "start_time": "2022-04-11T18:32:09.818Z"
   },
   {
    "duration": 7,
    "start_time": "2022-04-11T18:32:09.827Z"
   },
   {
    "duration": 38,
    "start_time": "2022-04-11T18:32:09.836Z"
   },
   {
    "duration": 30,
    "start_time": "2022-04-11T18:32:09.876Z"
   },
   {
    "duration": 5,
    "start_time": "2022-04-11T18:32:09.908Z"
   },
   {
    "duration": 20,
    "start_time": "2022-04-11T18:32:09.914Z"
   },
   {
    "duration": 5,
    "start_time": "2022-04-11T18:32:09.936Z"
   },
   {
    "duration": 54,
    "start_time": "2022-04-11T18:32:09.942Z"
   },
   {
    "duration": 6,
    "start_time": "2022-04-11T18:32:09.998Z"
   },
   {
    "duration": 22,
    "start_time": "2022-04-11T18:32:10.006Z"
   },
   {
    "duration": 618,
    "start_time": "2022-04-11T18:33:13.657Z"
   },
   {
    "duration": 71,
    "start_time": "2022-04-11T18:58:57.745Z"
   },
   {
    "duration": 64,
    "start_time": "2022-04-11T18:59:24.984Z"
   },
   {
    "duration": 332,
    "start_time": "2022-04-11T19:00:02.835Z"
   },
   {
    "duration": 97,
    "start_time": "2022-04-11T19:00:24.265Z"
   },
   {
    "duration": 109,
    "start_time": "2022-04-11T19:00:53.265Z"
   },
   {
    "duration": 56,
    "start_time": "2022-04-11T19:01:57.474Z"
   },
   {
    "duration": 8,
    "start_time": "2022-04-11T19:02:11.734Z"
   },
   {
    "duration": 93,
    "start_time": "2022-04-11T19:02:16.345Z"
   },
   {
    "duration": 93,
    "start_time": "2022-04-11T19:02:24.866Z"
   },
   {
    "duration": 8,
    "start_time": "2022-04-11T19:02:27.423Z"
   },
   {
    "duration": 20,
    "start_time": "2022-04-11T19:02:33.103Z"
   },
   {
    "duration": 223,
    "start_time": "2022-04-11T19:03:23.287Z"
   },
   {
    "duration": 133,
    "start_time": "2022-04-11T19:03:41.903Z"
   },
   {
    "duration": 235,
    "start_time": "2022-04-11T19:09:15.484Z"
   },
   {
    "duration": 221,
    "start_time": "2022-04-11T19:09:30.677Z"
   },
   {
    "duration": 23,
    "start_time": "2022-04-11T19:37:05.180Z"
   },
   {
    "duration": 10,
    "start_time": "2022-04-11T19:38:28.439Z"
   },
   {
    "duration": 13,
    "start_time": "2022-04-11T19:38:33.859Z"
   },
   {
    "duration": 9,
    "start_time": "2022-04-11T19:41:06.051Z"
   },
   {
    "duration": 13,
    "start_time": "2022-04-11T19:41:29.129Z"
   },
   {
    "duration": 169,
    "start_time": "2022-04-11T19:41:36.849Z"
   },
   {
    "duration": 140,
    "start_time": "2022-04-11T20:05:27.459Z"
   },
   {
    "duration": 3,
    "start_time": "2022-04-11T20:07:18.759Z"
   },
   {
    "duration": 4,
    "start_time": "2022-04-11T20:39:12.269Z"
   },
   {
    "duration": 4,
    "start_time": "2022-04-11T20:39:19.539Z"
   },
   {
    "duration": 4,
    "start_time": "2022-04-11T20:51:58.240Z"
   },
   {
    "duration": 4,
    "start_time": "2022-04-11T20:52:17.460Z"
   },
   {
    "duration": 47,
    "start_time": "2022-04-12T14:44:49.842Z"
   },
   {
    "duration": 846,
    "start_time": "2022-04-12T14:47:15.393Z"
   },
   {
    "duration": 263,
    "start_time": "2022-04-12T14:47:16.241Z"
   },
   {
    "duration": 22,
    "start_time": "2022-04-12T14:47:16.506Z"
   },
   {
    "duration": 16,
    "start_time": "2022-04-12T14:47:16.530Z"
   },
   {
    "duration": 67,
    "start_time": "2022-04-12T14:47:16.547Z"
   },
   {
    "duration": 25,
    "start_time": "2022-04-12T14:47:16.616Z"
   },
   {
    "duration": 34,
    "start_time": "2022-04-12T14:47:16.643Z"
   },
   {
    "duration": 40,
    "start_time": "2022-04-12T14:47:16.679Z"
   },
   {
    "duration": 17,
    "start_time": "2022-04-12T14:47:16.721Z"
   },
   {
    "duration": 10,
    "start_time": "2022-04-12T14:47:16.742Z"
   },
   {
    "duration": 73,
    "start_time": "2022-04-12T14:47:16.754Z"
   },
   {
    "duration": 17,
    "start_time": "2022-04-12T14:47:16.828Z"
   },
   {
    "duration": 16,
    "start_time": "2022-04-12T14:47:16.847Z"
   },
   {
    "duration": 9,
    "start_time": "2022-04-12T14:47:16.865Z"
   },
   {
    "duration": 55,
    "start_time": "2022-04-12T14:47:16.875Z"
   },
   {
    "duration": 23,
    "start_time": "2022-04-12T14:47:16.932Z"
   },
   {
    "duration": 10,
    "start_time": "2022-04-12T14:47:16.956Z"
   },
   {
    "duration": 12,
    "start_time": "2022-04-12T14:47:16.968Z"
   },
   {
    "duration": 35,
    "start_time": "2022-04-12T14:47:16.982Z"
   },
   {
    "duration": 16,
    "start_time": "2022-04-12T14:47:17.019Z"
   },
   {
    "duration": 17,
    "start_time": "2022-04-12T14:47:17.037Z"
   },
   {
    "duration": 13,
    "start_time": "2022-04-12T14:47:17.057Z"
   },
   {
    "duration": 36,
    "start_time": "2022-04-12T14:47:17.072Z"
   },
   {
    "duration": 16,
    "start_time": "2022-04-12T14:47:17.110Z"
   },
   {
    "duration": 15,
    "start_time": "2022-04-12T14:47:17.128Z"
   },
   {
    "duration": 4,
    "start_time": "2022-04-12T14:47:17.145Z"
   },
   {
    "duration": 11,
    "start_time": "2022-04-12T14:47:17.150Z"
   },
   {
    "duration": 2,
    "start_time": "2022-04-12T14:47:17.166Z"
   },
   {
    "duration": 9,
    "start_time": "2022-04-12T14:47:17.169Z"
   },
   {
    "duration": 5,
    "start_time": "2022-04-12T14:47:17.180Z"
   },
   {
    "duration": 2,
    "start_time": "2022-04-12T14:47:17.207Z"
   },
   {
    "duration": 6,
    "start_time": "2022-04-12T14:47:17.210Z"
   },
   {
    "duration": 4,
    "start_time": "2022-04-12T14:47:17.218Z"
   },
   {
    "duration": 4,
    "start_time": "2022-04-12T14:47:17.224Z"
   },
   {
    "duration": 5,
    "start_time": "2022-04-12T14:47:17.229Z"
   },
   {
    "duration": 5,
    "start_time": "2022-04-12T14:47:17.235Z"
   },
   {
    "duration": 16,
    "start_time": "2022-04-12T14:47:17.241Z"
   },
   {
    "duration": 15,
    "start_time": "2022-04-12T14:47:17.258Z"
   },
   {
    "duration": 16,
    "start_time": "2022-04-12T14:47:17.275Z"
   },
   {
    "duration": 14,
    "start_time": "2022-04-12T14:47:17.307Z"
   },
   {
    "duration": 25,
    "start_time": "2022-04-12T14:47:17.322Z"
   },
   {
    "duration": 22,
    "start_time": "2022-04-12T14:47:17.349Z"
   },
   {
    "duration": 36,
    "start_time": "2022-04-12T14:47:17.372Z"
   },
   {
    "duration": 13,
    "start_time": "2022-04-12T14:47:17.409Z"
   },
   {
    "duration": 6,
    "start_time": "2022-04-12T14:47:17.423Z"
   },
   {
    "duration": 5,
    "start_time": "2022-04-12T14:47:17.430Z"
   },
   {
    "duration": 12,
    "start_time": "2022-04-12T14:47:17.437Z"
   },
   {
    "duration": 8,
    "start_time": "2022-04-12T14:47:17.450Z"
   },
   {
    "duration": 4,
    "start_time": "2022-04-12T14:47:17.460Z"
   },
   {
    "duration": 4,
    "start_time": "2022-04-12T14:47:17.466Z"
   },
   {
    "duration": 4,
    "start_time": "2022-04-12T14:47:17.508Z"
   },
   {
    "duration": 6,
    "start_time": "2022-04-12T14:47:17.514Z"
   },
   {
    "duration": 5,
    "start_time": "2022-04-12T14:47:17.522Z"
   },
   {
    "duration": 5,
    "start_time": "2022-04-12T14:47:17.529Z"
   },
   {
    "duration": 16,
    "start_time": "2022-04-12T14:47:17.535Z"
   },
   {
    "duration": 5,
    "start_time": "2022-04-12T14:47:17.552Z"
   },
   {
    "duration": 53,
    "start_time": "2022-04-12T14:47:17.559Z"
   },
   {
    "duration": 4,
    "start_time": "2022-04-12T14:47:17.614Z"
   },
   {
    "duration": 5,
    "start_time": "2022-04-12T14:47:17.620Z"
   },
   {
    "duration": 7,
    "start_time": "2022-04-12T14:47:17.626Z"
   },
   {
    "duration": 6,
    "start_time": "2022-04-12T14:47:17.634Z"
   },
   {
    "duration": 6,
    "start_time": "2022-04-12T14:47:17.641Z"
   },
   {
    "duration": 23,
    "start_time": "2022-04-12T14:47:17.649Z"
   },
   {
    "duration": 37,
    "start_time": "2022-04-12T14:47:17.673Z"
   },
   {
    "duration": 15,
    "start_time": "2022-04-12T14:47:17.711Z"
   },
   {
    "duration": 6,
    "start_time": "2022-04-12T14:47:17.727Z"
   },
   {
    "duration": 24,
    "start_time": "2022-04-12T14:47:17.734Z"
   },
   {
    "duration": 3,
    "start_time": "2022-04-12T14:47:17.760Z"
   },
   {
    "duration": 5,
    "start_time": "2022-04-12T14:47:17.764Z"
   },
   {
    "duration": 4,
    "start_time": "2022-04-12T14:47:17.771Z"
   },
   {
    "duration": 148,
    "start_time": "2022-04-12T14:47:17.776Z"
   },
   {
    "duration": 576,
    "start_time": "2022-04-12T14:47:17.926Z"
   },
   {
    "duration": 158,
    "start_time": "2022-04-12T14:47:18.507Z"
   },
   {
    "duration": 3,
    "start_time": "2022-04-12T14:47:18.667Z"
   },
   {
    "duration": 36,
    "start_time": "2022-04-12T14:47:18.672Z"
   },
   {
    "duration": 3,
    "start_time": "2022-04-12T14:47:18.710Z"
   },
   {
    "duration": 4,
    "start_time": "2022-04-12T14:47:18.715Z"
   },
   {
    "duration": 4,
    "start_time": "2022-04-12T14:47:18.720Z"
   },
   {
    "duration": 6,
    "start_time": "2022-04-12T14:47:18.725Z"
   },
   {
    "duration": 7,
    "start_time": "2022-04-12T14:47:18.732Z"
   },
   {
    "duration": 4,
    "start_time": "2022-04-12T14:47:18.741Z"
   },
   {
    "duration": 157,
    "start_time": "2022-04-12T16:23:34.755Z"
   },
   {
    "duration": 15,
    "start_time": "2022-04-12T16:24:21.873Z"
   },
   {
    "duration": 161,
    "start_time": "2022-04-12T16:25:39.997Z"
   },
   {
    "duration": 174,
    "start_time": "2022-04-12T16:25:44.627Z"
   },
   {
    "duration": 13,
    "start_time": "2022-04-12T18:16:34.637Z"
   },
   {
    "duration": 150,
    "start_time": "2022-04-12T18:16:35.627Z"
   },
   {
    "duration": 146,
    "start_time": "2022-04-12T18:16:39.355Z"
   },
   {
    "duration": 13,
    "start_time": "2022-04-12T18:19:14.911Z"
   },
   {
    "duration": 152,
    "start_time": "2022-04-12T18:19:55.884Z"
   },
   {
    "duration": 226,
    "start_time": "2022-04-12T18:20:01.389Z"
   },
   {
    "duration": 14,
    "start_time": "2022-04-12T18:30:43.680Z"
   },
   {
    "duration": 14,
    "start_time": "2022-04-12T18:53:34.597Z"
   },
   {
    "duration": 173,
    "start_time": "2022-04-12T18:53:35.598Z"
   },
   {
    "duration": 155,
    "start_time": "2022-04-12T18:53:41.242Z"
   },
   {
    "duration": 97,
    "start_time": "2022-04-12T18:58:14.838Z"
   },
   {
    "duration": 13,
    "start_time": "2022-04-12T18:58:18.543Z"
   },
   {
    "duration": 169,
    "start_time": "2022-04-12T18:58:19.367Z"
   },
   {
    "duration": 161,
    "start_time": "2022-04-12T18:58:23.084Z"
   },
   {
    "duration": 13,
    "start_time": "2022-04-12T18:58:49.089Z"
   },
   {
    "duration": 161,
    "start_time": "2022-04-12T18:58:49.834Z"
   },
   {
    "duration": 153,
    "start_time": "2022-04-12T18:58:51.137Z"
   },
   {
    "duration": 73,
    "start_time": "2022-04-13T15:31:08.344Z"
   },
   {
    "duration": 1525,
    "start_time": "2022-04-13T15:31:28.131Z"
   },
   {
    "duration": 495,
    "start_time": "2022-04-13T15:31:29.659Z"
   },
   {
    "duration": 49,
    "start_time": "2022-04-13T15:31:30.157Z"
   },
   {
    "duration": 55,
    "start_time": "2022-04-13T15:31:30.210Z"
   },
   {
    "duration": 130,
    "start_time": "2022-04-13T15:31:30.268Z"
   },
   {
    "duration": 61,
    "start_time": "2022-04-13T15:31:30.401Z"
   },
   {
    "duration": 58,
    "start_time": "2022-04-13T15:31:30.465Z"
   },
   {
    "duration": 51,
    "start_time": "2022-04-13T15:31:30.527Z"
   },
   {
    "duration": 41,
    "start_time": "2022-04-13T15:31:30.580Z"
   },
   {
    "duration": 37,
    "start_time": "2022-04-13T15:31:30.626Z"
   },
   {
    "duration": 74,
    "start_time": "2022-04-13T15:31:30.666Z"
   },
   {
    "duration": 30,
    "start_time": "2022-04-13T15:31:30.743Z"
   },
   {
    "duration": 26,
    "start_time": "2022-04-13T15:31:30.775Z"
   },
   {
    "duration": 13,
    "start_time": "2022-04-13T15:31:30.804Z"
   },
   {
    "duration": 73,
    "start_time": "2022-04-13T15:31:30.820Z"
   },
   {
    "duration": 56,
    "start_time": "2022-04-13T15:31:30.896Z"
   },
   {
    "duration": 17,
    "start_time": "2022-04-13T15:31:30.954Z"
   },
   {
    "duration": 18,
    "start_time": "2022-04-13T15:31:30.974Z"
   },
   {
    "duration": 22,
    "start_time": "2022-04-13T15:31:30.995Z"
   },
   {
    "duration": 43,
    "start_time": "2022-04-13T15:31:31.019Z"
   },
   {
    "duration": 31,
    "start_time": "2022-04-13T15:31:31.064Z"
   },
   {
    "duration": 28,
    "start_time": "2022-04-13T15:31:31.097Z"
   },
   {
    "duration": 28,
    "start_time": "2022-04-13T15:31:31.127Z"
   },
   {
    "duration": 31,
    "start_time": "2022-04-13T15:31:31.157Z"
   },
   {
    "duration": 36,
    "start_time": "2022-04-13T15:31:31.190Z"
   },
   {
    "duration": 7,
    "start_time": "2022-04-13T15:31:31.229Z"
   },
   {
    "duration": 14,
    "start_time": "2022-04-13T15:31:31.238Z"
   },
   {
    "duration": 9,
    "start_time": "2022-04-13T15:31:31.260Z"
   },
   {
    "duration": 7,
    "start_time": "2022-04-13T15:31:31.272Z"
   },
   {
    "duration": 20,
    "start_time": "2022-04-13T15:31:31.282Z"
   },
   {
    "duration": 16,
    "start_time": "2022-04-13T15:31:31.305Z"
   },
   {
    "duration": 12,
    "start_time": "2022-04-13T15:31:31.324Z"
   },
   {
    "duration": 8,
    "start_time": "2022-04-13T15:31:31.338Z"
   },
   {
    "duration": 23,
    "start_time": "2022-04-13T15:31:31.347Z"
   },
   {
    "duration": 11,
    "start_time": "2022-04-13T15:31:31.372Z"
   },
   {
    "duration": 7,
    "start_time": "2022-04-13T15:31:31.386Z"
   },
   {
    "duration": 37,
    "start_time": "2022-04-13T15:31:31.396Z"
   },
   {
    "duration": 11,
    "start_time": "2022-04-13T15:31:31.436Z"
   },
   {
    "duration": 38,
    "start_time": "2022-04-13T15:31:31.449Z"
   },
   {
    "duration": 33,
    "start_time": "2022-04-13T15:31:31.491Z"
   },
   {
    "duration": 75,
    "start_time": "2022-04-13T15:31:31.526Z"
   },
   {
    "duration": 49,
    "start_time": "2022-04-13T15:31:31.604Z"
   },
   {
    "duration": 14,
    "start_time": "2022-04-13T15:31:31.655Z"
   },
   {
    "duration": 39,
    "start_time": "2022-04-13T15:31:31.672Z"
   },
   {
    "duration": 7,
    "start_time": "2022-04-13T15:31:31.714Z"
   },
   {
    "duration": 25,
    "start_time": "2022-04-13T15:31:31.724Z"
   },
   {
    "duration": 24,
    "start_time": "2022-04-13T15:31:31.752Z"
   },
   {
    "duration": 12,
    "start_time": "2022-04-13T15:31:31.779Z"
   },
   {
    "duration": 6,
    "start_time": "2022-04-13T15:31:31.794Z"
   },
   {
    "duration": 15,
    "start_time": "2022-04-13T15:31:31.803Z"
   },
   {
    "duration": 33,
    "start_time": "2022-04-13T15:31:31.821Z"
   },
   {
    "duration": 8,
    "start_time": "2022-04-13T15:31:31.857Z"
   },
   {
    "duration": 16,
    "start_time": "2022-04-13T15:31:31.868Z"
   },
   {
    "duration": 7,
    "start_time": "2022-04-13T15:31:31.888Z"
   },
   {
    "duration": 54,
    "start_time": "2022-04-13T15:31:31.898Z"
   },
   {
    "duration": 6,
    "start_time": "2022-04-13T15:31:31.954Z"
   },
   {
    "duration": 47,
    "start_time": "2022-04-13T15:31:31.962Z"
   },
   {
    "duration": 20,
    "start_time": "2022-04-13T15:31:32.011Z"
   },
   {
    "duration": 20,
    "start_time": "2022-04-13T15:31:32.033Z"
   },
   {
    "duration": 13,
    "start_time": "2022-04-13T15:31:32.055Z"
   },
   {
    "duration": 9,
    "start_time": "2022-04-13T15:31:32.070Z"
   },
   {
    "duration": 14,
    "start_time": "2022-04-13T15:31:32.081Z"
   },
   {
    "duration": 33,
    "start_time": "2022-04-13T15:31:32.097Z"
   },
   {
    "duration": 6,
    "start_time": "2022-04-13T15:31:32.151Z"
   },
   {
    "duration": 29,
    "start_time": "2022-04-13T15:31:32.159Z"
   },
   {
    "duration": 8,
    "start_time": "2022-04-13T15:31:32.191Z"
   },
   {
    "duration": 57,
    "start_time": "2022-04-13T15:31:32.201Z"
   },
   {
    "duration": 5,
    "start_time": "2022-04-13T15:31:32.260Z"
   },
   {
    "duration": 11,
    "start_time": "2022-04-13T15:31:32.267Z"
   },
   {
    "duration": 11,
    "start_time": "2022-04-13T15:31:32.280Z"
   },
   {
    "duration": 193,
    "start_time": "2022-04-13T15:31:32.293Z"
   },
   {
    "duration": 854,
    "start_time": "2022-04-13T15:31:32.488Z"
   },
   {
    "duration": 241,
    "start_time": "2022-04-13T15:31:33.344Z"
   },
   {
    "duration": 21,
    "start_time": "2022-04-13T15:31:33.587Z"
   },
   {
    "duration": 263,
    "start_time": "2022-04-13T15:31:33.610Z"
   },
   {
    "duration": 255,
    "start_time": "2022-04-13T15:31:33.875Z"
   },
   {
    "duration": 3,
    "start_time": "2022-04-13T15:31:34.132Z"
   },
   {
    "duration": 14,
    "start_time": "2022-04-13T15:31:34.138Z"
   },
   {
    "duration": 24,
    "start_time": "2022-04-13T15:31:34.155Z"
   },
   {
    "duration": 268,
    "start_time": "2022-04-13T15:31:34.181Z"
   },
   {
    "duration": 284,
    "start_time": "2022-04-13T15:31:34.452Z"
   },
   {
    "duration": 8,
    "start_time": "2022-04-13T15:31:34.744Z"
   },
   {
    "duration": 21,
    "start_time": "2022-04-13T15:31:34.754Z"
   },
   {
    "duration": 280,
    "start_time": "2022-04-13T15:31:34.777Z"
   },
   {
    "duration": 279,
    "start_time": "2022-04-13T15:31:35.059Z"
   },
   {
    "duration": 23,
    "start_time": "2022-04-13T15:31:35.340Z"
   },
   {
    "duration": 338,
    "start_time": "2022-04-13T15:31:35.365Z"
   },
   {
    "duration": 271,
    "start_time": "2022-04-13T15:31:35.705Z"
   },
   {
    "duration": 3,
    "start_time": "2022-04-13T15:31:35.978Z"
   },
   {
    "duration": 6,
    "start_time": "2022-04-13T15:31:35.983Z"
   },
   {
    "duration": 245,
    "start_time": "2022-04-13T15:31:51.779Z"
   },
   {
    "duration": 454,
    "start_time": "2022-04-13T15:34:17.256Z"
   },
   {
    "duration": 5,
    "start_time": "2022-04-13T15:34:51.368Z"
   },
   {
    "duration": 246,
    "start_time": "2022-04-13T15:35:06.090Z"
   },
   {
    "duration": 4,
    "start_time": "2022-04-13T15:35:52.739Z"
   },
   {
    "duration": 234,
    "start_time": "2022-04-13T15:36:01.021Z"
   },
   {
    "duration": 240,
    "start_time": "2022-04-13T15:36:21.635Z"
   },
   {
    "duration": 395,
    "start_time": "2022-04-13T15:36:58.377Z"
   },
   {
    "duration": 244,
    "start_time": "2022-04-13T15:37:36.836Z"
   },
   {
    "duration": 231,
    "start_time": "2022-04-13T15:37:55.433Z"
   },
   {
    "duration": 38,
    "start_time": "2022-04-13T15:59:49.084Z"
   },
   {
    "duration": 29,
    "start_time": "2022-04-13T16:07:25.435Z"
   },
   {
    "duration": 42,
    "start_time": "2022-04-13T16:07:53.404Z"
   },
   {
    "duration": 35,
    "start_time": "2022-04-13T16:08:04.531Z"
   },
   {
    "duration": 22,
    "start_time": "2022-04-13T16:10:42.133Z"
   },
   {
    "duration": 285,
    "start_time": "2022-04-13T16:10:53.631Z"
   },
   {
    "duration": 378,
    "start_time": "2022-04-13T16:26:57.785Z"
   },
   {
    "duration": 290,
    "start_time": "2022-04-13T16:27:10.773Z"
   },
   {
    "duration": 9,
    "start_time": "2022-04-13T16:35:53.160Z"
   },
   {
    "duration": 15,
    "start_time": "2022-04-13T16:36:52.245Z"
   },
   {
    "duration": 17,
    "start_time": "2022-04-13T16:37:18.460Z"
   },
   {
    "duration": 16,
    "start_time": "2022-04-13T16:37:43.916Z"
   },
   {
    "duration": 17,
    "start_time": "2022-04-13T16:37:58.765Z"
   },
   {
    "duration": 12,
    "start_time": "2022-04-13T16:38:19.594Z"
   },
   {
    "duration": 12,
    "start_time": "2022-04-13T16:38:27.187Z"
   },
   {
    "duration": 11,
    "start_time": "2022-04-13T16:39:03.976Z"
   },
   {
    "duration": 12,
    "start_time": "2022-04-13T16:39:12.518Z"
   },
   {
    "duration": 11,
    "start_time": "2022-04-13T16:41:33.332Z"
   },
   {
    "duration": 10,
    "start_time": "2022-04-13T16:42:08.950Z"
   },
   {
    "duration": 10,
    "start_time": "2022-04-13T16:42:17.744Z"
   },
   {
    "duration": 300,
    "start_time": "2022-04-13T16:42:40.425Z"
   },
   {
    "duration": 201,
    "start_time": "2022-04-13T16:45:09.678Z"
   },
   {
    "duration": 315,
    "start_time": "2022-04-13T18:29:50.360Z"
   },
   {
    "duration": 324,
    "start_time": "2022-04-13T18:31:19.956Z"
   },
   {
    "duration": 292,
    "start_time": "2022-04-13T18:31:40.962Z"
   },
   {
    "duration": 305,
    "start_time": "2022-04-13T18:32:01.196Z"
   },
   {
    "duration": 11,
    "start_time": "2022-04-13T19:22:43.432Z"
   },
   {
    "duration": 23,
    "start_time": "2022-04-13T19:22:47.025Z"
   },
   {
    "duration": 294,
    "start_time": "2022-04-13T19:22:47.830Z"
   },
   {
    "duration": 22,
    "start_time": "2022-04-13T19:34:23.541Z"
   },
   {
    "duration": 306,
    "start_time": "2022-04-13T19:34:24.479Z"
   },
   {
    "duration": 21,
    "start_time": "2022-04-13T19:35:53.751Z"
   },
   {
    "duration": 290,
    "start_time": "2022-04-13T19:35:54.592Z"
   },
   {
    "duration": 20,
    "start_time": "2022-04-13T19:36:36.051Z"
   },
   {
    "duration": 275,
    "start_time": "2022-04-13T19:36:36.712Z"
   },
   {
    "duration": 22,
    "start_time": "2022-04-13T19:45:05.821Z"
   },
   {
    "duration": 411,
    "start_time": "2022-04-13T19:45:15.598Z"
   },
   {
    "duration": 47,
    "start_time": "2022-04-14T17:03:50.336Z"
   },
   {
    "duration": 1189,
    "start_time": "2022-04-14T17:04:04.007Z"
   },
   {
    "duration": 544,
    "start_time": "2022-04-14T17:04:05.198Z"
   },
   {
    "duration": 23,
    "start_time": "2022-04-14T17:04:05.744Z"
   },
   {
    "duration": 15,
    "start_time": "2022-04-14T17:04:05.769Z"
   },
   {
    "duration": 61,
    "start_time": "2022-04-14T17:04:05.786Z"
   },
   {
    "duration": 21,
    "start_time": "2022-04-14T17:04:05.848Z"
   },
   {
    "duration": 85,
    "start_time": "2022-04-14T17:04:05.871Z"
   },
   {
    "duration": 14,
    "start_time": "2022-04-14T17:04:05.958Z"
   },
   {
    "duration": 19,
    "start_time": "2022-04-14T17:04:05.974Z"
   },
   {
    "duration": 13,
    "start_time": "2022-04-14T17:04:05.994Z"
   },
   {
    "duration": 52,
    "start_time": "2022-04-14T17:04:06.009Z"
   },
   {
    "duration": 16,
    "start_time": "2022-04-14T17:04:06.063Z"
   },
   {
    "duration": 26,
    "start_time": "2022-04-14T17:04:06.081Z"
   },
   {
    "duration": 9,
    "start_time": "2022-04-14T17:04:06.110Z"
   },
   {
    "duration": 32,
    "start_time": "2022-04-14T17:04:06.121Z"
   },
   {
    "duration": 24,
    "start_time": "2022-04-14T17:04:06.154Z"
   },
   {
    "duration": 36,
    "start_time": "2022-04-14T17:04:06.180Z"
   },
   {
    "duration": 10,
    "start_time": "2022-04-14T17:04:06.218Z"
   },
   {
    "duration": 13,
    "start_time": "2022-04-14T17:04:06.230Z"
   },
   {
    "duration": 15,
    "start_time": "2022-04-14T17:04:06.245Z"
   },
   {
    "duration": 21,
    "start_time": "2022-04-14T17:04:06.261Z"
   },
   {
    "duration": 32,
    "start_time": "2022-04-14T17:04:06.284Z"
   },
   {
    "duration": 15,
    "start_time": "2022-04-14T17:04:06.318Z"
   },
   {
    "duration": 15,
    "start_time": "2022-04-14T17:04:06.335Z"
   },
   {
    "duration": 13,
    "start_time": "2022-04-14T17:04:06.352Z"
   },
   {
    "duration": 2,
    "start_time": "2022-04-14T17:04:06.367Z"
   },
   {
    "duration": 37,
    "start_time": "2022-04-14T17:04:06.370Z"
   },
   {
    "duration": 5,
    "start_time": "2022-04-14T17:04:06.409Z"
   },
   {
    "duration": 10,
    "start_time": "2022-04-14T17:04:06.415Z"
   },
   {
    "duration": 11,
    "start_time": "2022-04-14T17:04:06.427Z"
   },
   {
    "duration": 10,
    "start_time": "2022-04-14T17:04:06.439Z"
   },
   {
    "duration": 4,
    "start_time": "2022-04-14T17:04:06.451Z"
   },
   {
    "duration": 7,
    "start_time": "2022-04-14T17:04:06.457Z"
   },
   {
    "duration": 9,
    "start_time": "2022-04-14T17:04:06.465Z"
   },
   {
    "duration": 11,
    "start_time": "2022-04-14T17:04:06.475Z"
   },
   {
    "duration": 40,
    "start_time": "2022-04-14T17:04:06.488Z"
   },
   {
    "duration": 18,
    "start_time": "2022-04-14T17:04:06.530Z"
   },
   {
    "duration": 6,
    "start_time": "2022-04-14T17:04:06.550Z"
   },
   {
    "duration": 22,
    "start_time": "2022-04-14T17:04:06.558Z"
   },
   {
    "duration": 50,
    "start_time": "2022-04-14T17:04:06.582Z"
   },
   {
    "duration": 29,
    "start_time": "2022-04-14T17:04:06.638Z"
   },
   {
    "duration": 23,
    "start_time": "2022-04-14T17:04:06.669Z"
   },
   {
    "duration": 10,
    "start_time": "2022-04-14T17:04:06.707Z"
   },
   {
    "duration": 14,
    "start_time": "2022-04-14T17:04:06.718Z"
   },
   {
    "duration": 3,
    "start_time": "2022-04-14T17:04:06.734Z"
   },
   {
    "duration": 5,
    "start_time": "2022-04-14T17:04:06.739Z"
   },
   {
    "duration": 11,
    "start_time": "2022-04-14T17:04:06.746Z"
   },
   {
    "duration": 7,
    "start_time": "2022-04-14T17:04:06.759Z"
   },
   {
    "duration": 4,
    "start_time": "2022-04-14T17:04:06.768Z"
   },
   {
    "duration": 4,
    "start_time": "2022-04-14T17:04:06.807Z"
   },
   {
    "duration": 5,
    "start_time": "2022-04-14T17:04:06.813Z"
   },
   {
    "duration": 5,
    "start_time": "2022-04-14T17:04:06.821Z"
   },
   {
    "duration": 5,
    "start_time": "2022-04-14T17:04:06.828Z"
   },
   {
    "duration": 14,
    "start_time": "2022-04-14T17:04:06.835Z"
   },
   {
    "duration": 67,
    "start_time": "2022-04-14T17:04:06.850Z"
   },
   {
    "duration": 5,
    "start_time": "2022-04-14T17:04:06.918Z"
   },
   {
    "duration": 29,
    "start_time": "2022-04-14T17:04:06.924Z"
   },
   {
    "duration": 4,
    "start_time": "2022-04-14T17:04:06.955Z"
   },
   {
    "duration": 8,
    "start_time": "2022-04-14T17:04:06.961Z"
   },
   {
    "duration": 6,
    "start_time": "2022-04-14T17:04:06.971Z"
   },
   {
    "duration": 5,
    "start_time": "2022-04-14T17:04:07.008Z"
   },
   {
    "duration": 16,
    "start_time": "2022-04-14T17:04:07.014Z"
   },
   {
    "duration": 27,
    "start_time": "2022-04-14T17:04:07.032Z"
   },
   {
    "duration": 5,
    "start_time": "2022-04-14T17:04:07.062Z"
   },
   {
    "duration": 22,
    "start_time": "2022-04-14T17:04:07.069Z"
   },
   {
    "duration": 4,
    "start_time": "2022-04-14T17:04:07.108Z"
   },
   {
    "duration": 27,
    "start_time": "2022-04-14T17:04:07.113Z"
   },
   {
    "duration": 3,
    "start_time": "2022-04-14T17:04:07.142Z"
   },
   {
    "duration": 4,
    "start_time": "2022-04-14T17:04:07.147Z"
   },
   {
    "duration": 3,
    "start_time": "2022-04-14T17:04:07.153Z"
   },
   {
    "duration": 163,
    "start_time": "2022-04-14T17:04:07.158Z"
   },
   {
    "duration": 231,
    "start_time": "2022-04-14T17:04:07.323Z"
   },
   {
    "duration": 15,
    "start_time": "2022-04-14T17:04:07.555Z"
   },
   {
    "duration": 210,
    "start_time": "2022-04-14T17:04:07.572Z"
   },
   {
    "duration": 2,
    "start_time": "2022-04-14T17:04:07.784Z"
   },
   {
    "duration": 5,
    "start_time": "2022-04-14T17:04:07.787Z"
   },
   {
    "duration": 24,
    "start_time": "2022-04-14T17:04:07.793Z"
   },
   {
    "duration": 192,
    "start_time": "2022-04-14T17:04:07.818Z"
   },
   {
    "duration": 2,
    "start_time": "2022-04-14T17:04:08.012Z"
   },
   {
    "duration": 15,
    "start_time": "2022-04-14T17:04:08.015Z"
   },
   {
    "duration": 209,
    "start_time": "2022-04-14T17:04:08.032Z"
   },
   {
    "duration": 13,
    "start_time": "2022-04-14T17:04:08.243Z"
   },
   {
    "duration": 225,
    "start_time": "2022-04-14T17:04:08.257Z"
   },
   {
    "duration": 6,
    "start_time": "2022-04-14T17:04:15.338Z"
   },
   {
    "duration": 17,
    "start_time": "2022-04-14T17:07:19.486Z"
   },
   {
    "duration": 26,
    "start_time": "2022-04-14T17:09:21.414Z"
   },
   {
    "duration": 52,
    "start_time": "2022-04-14T17:10:14.217Z"
   },
   {
    "duration": 11,
    "start_time": "2022-04-14T17:10:30.044Z"
   },
   {
    "duration": 1231,
    "start_time": "2022-04-14T17:25:59.444Z"
   },
   {
    "duration": 15,
    "start_time": "2022-04-14T17:26:28.437Z"
   },
   {
    "duration": 6,
    "start_time": "2022-04-14T17:37:07.667Z"
   },
   {
    "duration": 5,
    "start_time": "2022-04-14T17:38:06.828Z"
   },
   {
    "duration": 17,
    "start_time": "2022-04-14T17:38:10.897Z"
   },
   {
    "duration": 5,
    "start_time": "2022-04-14T17:38:13.838Z"
   },
   {
    "duration": 9,
    "start_time": "2022-04-14T18:22:17.719Z"
   },
   {
    "duration": 19,
    "start_time": "2022-04-14T18:38:36.199Z"
   },
   {
    "duration": 21,
    "start_time": "2022-04-14T18:38:59.370Z"
   },
   {
    "duration": 2608,
    "start_time": "2022-04-15T17:06:47.665Z"
   },
   {
    "duration": 1201,
    "start_time": "2022-04-15T17:06:50.277Z"
   },
   {
    "duration": 76,
    "start_time": "2022-04-15T17:06:51.480Z"
   },
   {
    "duration": 22,
    "start_time": "2022-04-15T17:06:51.560Z"
   },
   {
    "duration": 180,
    "start_time": "2022-04-15T17:06:51.584Z"
   },
   {
    "duration": 29,
    "start_time": "2022-04-15T17:06:51.766Z"
   },
   {
    "duration": 100,
    "start_time": "2022-04-15T17:06:51.853Z"
   },
   {
    "duration": 22,
    "start_time": "2022-04-15T17:06:51.955Z"
   },
   {
    "duration": 77,
    "start_time": "2022-04-15T17:06:51.979Z"
   },
   {
    "duration": 14,
    "start_time": "2022-04-15T17:06:52.060Z"
   },
   {
    "duration": 177,
    "start_time": "2022-04-15T17:06:52.076Z"
   },
   {
    "duration": 23,
    "start_time": "2022-04-15T17:06:52.255Z"
   },
   {
    "duration": 86,
    "start_time": "2022-04-15T17:06:52.281Z"
   },
   {
    "duration": 13,
    "start_time": "2022-04-15T17:06:52.370Z"
   },
   {
    "duration": 170,
    "start_time": "2022-04-15T17:06:52.386Z"
   },
   {
    "duration": 37,
    "start_time": "2022-04-15T17:06:52.559Z"
   },
   {
    "duration": 20,
    "start_time": "2022-04-15T17:06:52.598Z"
   },
   {
    "duration": 41,
    "start_time": "2022-04-15T17:06:52.620Z"
   },
   {
    "duration": 18,
    "start_time": "2022-04-15T17:06:52.664Z"
   },
   {
    "duration": 25,
    "start_time": "2022-04-15T17:06:52.685Z"
   },
   {
    "duration": 49,
    "start_time": "2022-04-15T17:06:52.713Z"
   },
   {
    "duration": 18,
    "start_time": "2022-04-15T17:06:52.765Z"
   },
   {
    "duration": 22,
    "start_time": "2022-04-15T17:06:52.786Z"
   },
   {
    "duration": 60,
    "start_time": "2022-04-15T17:06:52.810Z"
   },
   {
    "duration": 30,
    "start_time": "2022-04-15T17:06:52.873Z"
   },
   {
    "duration": 13,
    "start_time": "2022-04-15T17:06:52.905Z"
   },
   {
    "duration": 44,
    "start_time": "2022-04-15T17:06:52.920Z"
   },
   {
    "duration": 23,
    "start_time": "2022-04-15T17:06:52.975Z"
   },
   {
    "duration": 56,
    "start_time": "2022-04-15T17:06:53.001Z"
   },
   {
    "duration": 54,
    "start_time": "2022-04-15T17:06:53.060Z"
   },
   {
    "duration": 57,
    "start_time": "2022-04-15T17:06:53.116Z"
   },
   {
    "duration": 18,
    "start_time": "2022-04-15T17:06:53.176Z"
   },
   {
    "duration": 18,
    "start_time": "2022-04-15T17:06:53.197Z"
   },
   {
    "duration": 35,
    "start_time": "2022-04-15T17:06:53.217Z"
   },
   {
    "duration": 4,
    "start_time": "2022-04-15T17:06:53.255Z"
   },
   {
    "duration": 21,
    "start_time": "2022-04-15T17:06:53.261Z"
   },
   {
    "duration": 11,
    "start_time": "2022-04-15T17:06:53.284Z"
   },
   {
    "duration": 5,
    "start_time": "2022-04-15T17:06:53.298Z"
   },
   {
    "duration": 45,
    "start_time": "2022-04-15T17:06:53.306Z"
   },
   {
    "duration": 12,
    "start_time": "2022-04-15T17:06:53.354Z"
   },
   {
    "duration": 10,
    "start_time": "2022-04-15T17:06:53.368Z"
   },
   {
    "duration": 8,
    "start_time": "2022-04-15T17:06:53.380Z"
   },
   {
    "duration": 8,
    "start_time": "2022-04-15T17:06:53.391Z"
   },
   {
    "duration": 65,
    "start_time": "2022-04-15T17:06:53.401Z"
   },
   {
    "duration": 8,
    "start_time": "2022-04-15T17:06:53.469Z"
   },
   {
    "duration": 40,
    "start_time": "2022-04-15T17:06:53.480Z"
   },
   {
    "duration": 6,
    "start_time": "2022-04-15T17:06:53.552Z"
   },
   {
    "duration": 8,
    "start_time": "2022-04-15T17:06:53.560Z"
   },
   {
    "duration": 7,
    "start_time": "2022-04-15T17:06:53.570Z"
   },
   {
    "duration": 9,
    "start_time": "2022-04-15T17:06:53.579Z"
   },
   {
    "duration": 9,
    "start_time": "2022-04-15T17:06:53.590Z"
   },
   {
    "duration": 69,
    "start_time": "2022-04-15T17:06:53.601Z"
   },
   {
    "duration": 6,
    "start_time": "2022-04-15T17:06:53.673Z"
   },
   {
    "duration": 22,
    "start_time": "2022-04-15T17:06:53.681Z"
   },
   {
    "duration": 7,
    "start_time": "2022-04-15T17:06:53.705Z"
   },
   {
    "duration": 37,
    "start_time": "2022-04-15T17:06:53.751Z"
   },
   {
    "duration": 63,
    "start_time": "2022-04-15T17:06:53.791Z"
   },
   {
    "duration": 31,
    "start_time": "2022-04-15T17:06:53.856Z"
   },
   {
    "duration": 249,
    "start_time": "2022-04-15T17:06:53.889Z"
   },
   {
    "duration": 401,
    "start_time": "2022-04-15T17:06:54.141Z"
   },
   {
    "duration": 34,
    "start_time": "2022-04-15T17:06:54.544Z"
   },
   {
    "duration": 386,
    "start_time": "2022-04-15T17:06:54.581Z"
   },
   {
    "duration": 29,
    "start_time": "2022-04-15T17:06:54.969Z"
   },
   {
    "duration": 340,
    "start_time": "2022-04-15T17:06:55.001Z"
   },
   {
    "duration": 26,
    "start_time": "2022-04-15T17:06:55.344Z"
   },
   {
    "duration": 348,
    "start_time": "2022-04-15T17:06:55.373Z"
   },
   {
    "duration": 32,
    "start_time": "2022-04-15T17:06:55.724Z"
   },
   {
    "duration": 360,
    "start_time": "2022-04-15T17:06:55.758Z"
   },
   {
    "duration": 9,
    "start_time": "2022-04-15T17:06:56.121Z"
   },
   {
    "duration": 38,
    "start_time": "2022-04-15T17:06:56.132Z"
   },
   {
    "duration": 8,
    "start_time": "2022-04-15T17:06:56.173Z"
   },
   {
    "duration": 1318,
    "start_time": "2022-04-18T17:48:15.118Z"
   },
   {
    "duration": 321,
    "start_time": "2022-04-18T17:48:16.439Z"
   },
   {
    "duration": 24,
    "start_time": "2022-04-18T17:48:16.761Z"
   },
   {
    "duration": 14,
    "start_time": "2022-04-18T17:48:16.787Z"
   },
   {
    "duration": 61,
    "start_time": "2022-04-18T17:48:16.802Z"
   },
   {
    "duration": 34,
    "start_time": "2022-04-18T17:48:16.865Z"
   },
   {
    "duration": 27,
    "start_time": "2022-04-18T17:48:16.901Z"
   },
   {
    "duration": 15,
    "start_time": "2022-04-18T17:48:16.930Z"
   },
   {
    "duration": 46,
    "start_time": "2022-04-18T17:48:16.947Z"
   },
   {
    "duration": 10,
    "start_time": "2022-04-18T17:48:16.996Z"
   },
   {
    "duration": 48,
    "start_time": "2022-04-18T17:48:17.008Z"
   },
   {
    "duration": 35,
    "start_time": "2022-04-18T17:48:17.058Z"
   },
   {
    "duration": 15,
    "start_time": "2022-04-18T17:48:17.095Z"
   },
   {
    "duration": 10,
    "start_time": "2022-04-18T17:48:17.112Z"
   },
   {
    "duration": 35,
    "start_time": "2022-04-18T17:48:17.124Z"
   },
   {
    "duration": 49,
    "start_time": "2022-04-18T17:48:17.162Z"
   },
   {
    "duration": 11,
    "start_time": "2022-04-18T17:48:17.212Z"
   },
   {
    "duration": 11,
    "start_time": "2022-04-18T17:48:17.225Z"
   },
   {
    "duration": 16,
    "start_time": "2022-04-18T17:48:17.238Z"
   },
   {
    "duration": 42,
    "start_time": "2022-04-18T17:48:17.256Z"
   },
   {
    "duration": 17,
    "start_time": "2022-04-18T17:48:17.300Z"
   },
   {
    "duration": 12,
    "start_time": "2022-04-18T17:48:17.319Z"
   },
   {
    "duration": 15,
    "start_time": "2022-04-18T17:48:17.333Z"
   },
   {
    "duration": 46,
    "start_time": "2022-04-18T17:48:17.350Z"
   },
   {
    "duration": 15,
    "start_time": "2022-04-18T17:48:17.398Z"
   },
   {
    "duration": 9,
    "start_time": "2022-04-18T17:48:17.416Z"
   },
   {
    "duration": 14,
    "start_time": "2022-04-18T17:48:17.427Z"
   },
   {
    "duration": 51,
    "start_time": "2022-04-18T17:48:17.447Z"
   },
   {
    "duration": 22,
    "start_time": "2022-04-18T17:48:17.500Z"
   },
   {
    "duration": 33,
    "start_time": "2022-04-18T17:48:17.524Z"
   },
   {
    "duration": 48,
    "start_time": "2022-04-18T17:48:17.558Z"
   },
   {
    "duration": 8,
    "start_time": "2022-04-18T17:48:17.608Z"
   },
   {
    "duration": 14,
    "start_time": "2022-04-18T17:48:17.618Z"
   },
   {
    "duration": 6,
    "start_time": "2022-04-18T17:48:17.634Z"
   },
   {
    "duration": 5,
    "start_time": "2022-04-18T17:48:17.642Z"
   },
   {
    "duration": 12,
    "start_time": "2022-04-18T17:48:17.649Z"
   },
   {
    "duration": 34,
    "start_time": "2022-04-18T17:48:17.663Z"
   },
   {
    "duration": 6,
    "start_time": "2022-04-18T17:48:17.698Z"
   },
   {
    "duration": 7,
    "start_time": "2022-04-18T17:48:17.706Z"
   },
   {
    "duration": 7,
    "start_time": "2022-04-18T17:48:17.715Z"
   },
   {
    "duration": 9,
    "start_time": "2022-04-18T17:48:17.724Z"
   },
   {
    "duration": 9,
    "start_time": "2022-04-18T17:48:17.735Z"
   },
   {
    "duration": 9,
    "start_time": "2022-04-18T17:48:17.746Z"
   },
   {
    "duration": 18,
    "start_time": "2022-04-18T17:48:17.757Z"
   },
   {
    "duration": 18,
    "start_time": "2022-04-18T17:48:17.777Z"
   },
   {
    "duration": 30,
    "start_time": "2022-04-18T17:48:17.796Z"
   },
   {
    "duration": 8,
    "start_time": "2022-04-18T17:48:17.828Z"
   },
   {
    "duration": 8,
    "start_time": "2022-04-18T17:48:17.838Z"
   },
   {
    "duration": 11,
    "start_time": "2022-04-18T17:48:17.848Z"
   },
   {
    "duration": 13,
    "start_time": "2022-04-18T17:48:17.861Z"
   },
   {
    "duration": 10,
    "start_time": "2022-04-18T17:48:17.876Z"
   },
   {
    "duration": 106,
    "start_time": "2022-04-18T17:48:17.887Z"
   },
   {
    "duration": 12,
    "start_time": "2022-04-18T17:48:17.995Z"
   },
   {
    "duration": 20,
    "start_time": "2022-04-18T17:48:18.009Z"
   },
   {
    "duration": 10,
    "start_time": "2022-04-18T17:48:18.031Z"
   },
   {
    "duration": 33,
    "start_time": "2022-04-18T17:48:18.043Z"
   },
   {
    "duration": 25,
    "start_time": "2022-04-18T17:48:18.077Z"
   },
   {
    "duration": 21,
    "start_time": "2022-04-18T17:48:18.104Z"
   },
   {
    "duration": 140,
    "start_time": "2022-04-18T17:48:18.126Z"
   },
   {
    "duration": 230,
    "start_time": "2022-04-18T17:48:18.268Z"
   },
   {
    "duration": 16,
    "start_time": "2022-04-18T17:48:18.501Z"
   },
   {
    "duration": 214,
    "start_time": "2022-04-18T17:48:18.519Z"
   },
   {
    "duration": 16,
    "start_time": "2022-04-18T17:48:18.735Z"
   },
   {
    "duration": 200,
    "start_time": "2022-04-18T17:48:18.753Z"
   },
   {
    "duration": 17,
    "start_time": "2022-04-18T17:48:18.954Z"
   },
   {
    "duration": 216,
    "start_time": "2022-04-18T17:48:18.973Z"
   },
   {
    "duration": 15,
    "start_time": "2022-04-18T17:48:19.193Z"
   },
   {
    "duration": 206,
    "start_time": "2022-04-18T17:48:19.209Z"
   },
   {
    "duration": 5,
    "start_time": "2022-04-18T17:48:19.417Z"
   },
   {
    "duration": 36,
    "start_time": "2022-04-18T17:48:19.423Z"
   },
   {
    "duration": 8,
    "start_time": "2022-04-18T17:48:19.460Z"
   },
   {
    "duration": 4,
    "start_time": "2022-04-18T17:52:39.618Z"
   },
   {
    "duration": 103,
    "start_time": "2022-04-18T17:58:24.593Z"
   },
   {
    "duration": 10,
    "start_time": "2022-04-18T17:58:39.607Z"
   },
   {
    "duration": 9,
    "start_time": "2022-04-18T17:58:47.387Z"
   },
   {
    "duration": 9,
    "start_time": "2022-04-18T18:10:03.122Z"
   },
   {
    "duration": 10,
    "start_time": "2022-04-18T18:10:45.892Z"
   },
   {
    "duration": 285,
    "start_time": "2022-04-18T18:25:58.841Z"
   },
   {
    "duration": 228,
    "start_time": "2022-04-18T18:26:18.084Z"
   },
   {
    "duration": 220,
    "start_time": "2022-04-18T18:27:29.347Z"
   },
   {
    "duration": 295,
    "start_time": "2022-04-18T18:27:40.397Z"
   },
   {
    "duration": 216,
    "start_time": "2022-04-18T18:29:26.761Z"
   },
   {
    "duration": 307,
    "start_time": "2022-04-18T18:31:10.436Z"
   },
   {
    "duration": 239,
    "start_time": "2022-04-18T18:31:45.286Z"
   },
   {
    "duration": 199,
    "start_time": "2022-04-18T18:32:20.516Z"
   },
   {
    "duration": 20,
    "start_time": "2022-04-18T18:36:54.625Z"
   },
   {
    "duration": 133,
    "start_time": "2022-04-18T18:37:03.141Z"
   },
   {
    "duration": 1648,
    "start_time": "2022-04-18T18:37:08.860Z"
   },
   {
    "duration": 1147,
    "start_time": "2022-04-18T18:39:42.513Z"
   },
   {
    "duration": 329,
    "start_time": "2022-04-18T18:39:43.662Z"
   },
   {
    "duration": 38,
    "start_time": "2022-04-18T18:39:43.993Z"
   },
   {
    "duration": 17,
    "start_time": "2022-04-18T18:39:44.034Z"
   },
   {
    "duration": 73,
    "start_time": "2022-04-18T18:39:44.053Z"
   },
   {
    "duration": 24,
    "start_time": "2022-04-18T18:39:44.128Z"
   },
   {
    "duration": 44,
    "start_time": "2022-04-18T18:39:44.154Z"
   },
   {
    "duration": 17,
    "start_time": "2022-04-18T18:39:44.201Z"
   },
   {
    "duration": 20,
    "start_time": "2022-04-18T18:39:44.221Z"
   },
   {
    "duration": 10,
    "start_time": "2022-04-18T18:39:44.245Z"
   },
   {
    "duration": 76,
    "start_time": "2022-04-18T18:39:44.257Z"
   },
   {
    "duration": 17,
    "start_time": "2022-04-18T18:39:44.335Z"
   },
   {
    "duration": 40,
    "start_time": "2022-04-18T18:39:44.354Z"
   },
   {
    "duration": 12,
    "start_time": "2022-04-18T18:39:44.396Z"
   },
   {
    "duration": 57,
    "start_time": "2022-04-18T18:39:44.411Z"
   },
   {
    "duration": 48,
    "start_time": "2022-04-18T18:39:44.470Z"
   },
   {
    "duration": 15,
    "start_time": "2022-04-18T18:39:44.520Z"
   },
   {
    "duration": 17,
    "start_time": "2022-04-18T18:39:44.537Z"
   },
   {
    "duration": 38,
    "start_time": "2022-04-18T18:39:44.556Z"
   },
   {
    "duration": 20,
    "start_time": "2022-04-18T18:39:44.596Z"
   },
   {
    "duration": 17,
    "start_time": "2022-04-18T18:39:44.617Z"
   },
   {
    "duration": 13,
    "start_time": "2022-04-18T18:39:44.636Z"
   },
   {
    "duration": 43,
    "start_time": "2022-04-18T18:39:44.651Z"
   },
   {
    "duration": 17,
    "start_time": "2022-04-18T18:39:44.696Z"
   },
   {
    "duration": 17,
    "start_time": "2022-04-18T18:39:44.714Z"
   },
   {
    "duration": 9,
    "start_time": "2022-04-18T18:39:44.733Z"
   },
   {
    "duration": 14,
    "start_time": "2022-04-18T18:39:44.744Z"
   },
   {
    "duration": 44,
    "start_time": "2022-04-18T18:39:44.762Z"
   },
   {
    "duration": 16,
    "start_time": "2022-04-18T18:39:44.808Z"
   },
   {
    "duration": 30,
    "start_time": "2022-04-18T18:39:44.825Z"
   },
   {
    "duration": 26,
    "start_time": "2022-04-18T18:39:44.895Z"
   },
   {
    "duration": 9,
    "start_time": "2022-04-18T18:39:44.923Z"
   },
   {
    "duration": 14,
    "start_time": "2022-04-18T18:39:44.935Z"
   },
   {
    "duration": 5,
    "start_time": "2022-04-18T18:39:44.951Z"
   },
   {
    "duration": 36,
    "start_time": "2022-04-18T18:39:44.958Z"
   },
   {
    "duration": 21,
    "start_time": "2022-04-18T18:39:44.996Z"
   },
   {
    "duration": 12,
    "start_time": "2022-04-18T18:39:45.019Z"
   },
   {
    "duration": 5,
    "start_time": "2022-04-18T18:39:45.033Z"
   },
   {
    "duration": 10,
    "start_time": "2022-04-18T18:39:45.040Z"
   },
   {
    "duration": 8,
    "start_time": "2022-04-18T18:39:45.052Z"
   },
   {
    "duration": 31,
    "start_time": "2022-04-18T18:39:45.063Z"
   },
   {
    "duration": 10,
    "start_time": "2022-04-18T18:39:45.096Z"
   },
   {
    "duration": 13,
    "start_time": "2022-04-18T18:39:45.108Z"
   },
   {
    "duration": 20,
    "start_time": "2022-04-18T18:39:45.122Z"
   },
   {
    "duration": 8,
    "start_time": "2022-04-18T18:39:45.144Z"
   },
   {
    "duration": 28,
    "start_time": "2022-04-18T18:39:45.153Z"
   },
   {
    "duration": 16,
    "start_time": "2022-04-18T18:39:45.182Z"
   },
   {
    "duration": 12,
    "start_time": "2022-04-18T18:39:45.200Z"
   },
   {
    "duration": 26,
    "start_time": "2022-04-18T18:39:45.214Z"
   },
   {
    "duration": 12,
    "start_time": "2022-04-18T18:39:45.243Z"
   },
   {
    "duration": 12,
    "start_time": "2022-04-18T18:39:45.258Z"
   },
   {
    "duration": 25,
    "start_time": "2022-04-18T18:39:45.272Z"
   },
   {
    "duration": 6,
    "start_time": "2022-04-18T18:39:45.300Z"
   },
   {
    "duration": 26,
    "start_time": "2022-04-18T18:39:45.308Z"
   },
   {
    "duration": 19,
    "start_time": "2022-04-18T18:39:45.336Z"
   },
   {
    "duration": 31,
    "start_time": "2022-04-18T18:39:45.357Z"
   },
   {
    "duration": 35,
    "start_time": "2022-04-18T18:39:45.390Z"
   },
   {
    "duration": 31,
    "start_time": "2022-04-18T18:39:45.427Z"
   },
   {
    "duration": 139,
    "start_time": "2022-04-18T18:39:45.460Z"
   },
   {
    "duration": 266,
    "start_time": "2022-04-18T18:39:45.601Z"
   },
   {
    "duration": 320,
    "start_time": "2022-04-18T18:39:45.870Z"
   },
   {
    "duration": 18,
    "start_time": "2022-04-18T18:39:46.193Z"
   },
   {
    "duration": 216,
    "start_time": "2022-04-18T18:39:46.213Z"
   },
   {
    "duration": 232,
    "start_time": "2022-04-18T18:39:46.431Z"
   },
   {
    "duration": 15,
    "start_time": "2022-04-18T18:39:46.665Z"
   },
   {
    "duration": 195,
    "start_time": "2022-04-18T18:39:46.693Z"
   },
   {
    "duration": 262,
    "start_time": "2022-04-18T18:39:46.893Z"
   },
   {
    "duration": 15,
    "start_time": "2022-04-18T18:39:47.157Z"
   },
   {
    "duration": 221,
    "start_time": "2022-04-18T18:39:47.174Z"
   },
   {
    "duration": 248,
    "start_time": "2022-04-18T18:39:47.397Z"
   },
   {
    "duration": 14,
    "start_time": "2022-04-18T18:39:47.647Z"
   },
   {
    "duration": 289,
    "start_time": "2022-04-18T18:39:47.663Z"
   },
   {
    "duration": 5,
    "start_time": "2022-04-18T18:39:47.954Z"
   },
   {
    "duration": 10,
    "start_time": "2022-04-18T18:39:47.960Z"
   },
   {
    "duration": 37,
    "start_time": "2022-04-18T18:39:47.973Z"
   },
   {
    "duration": 6,
    "start_time": "2022-04-18T18:39:48.013Z"
   },
   {
    "duration": 12,
    "start_time": "2022-04-18T18:39:48.021Z"
   },
   {
    "duration": 223,
    "start_time": "2022-04-18T18:42:07.909Z"
   },
   {
    "duration": 129,
    "start_time": "2022-04-18T18:44:15.505Z"
   },
   {
    "duration": 151,
    "start_time": "2022-04-18T18:44:20.756Z"
   },
   {
    "duration": 156,
    "start_time": "2022-04-18T18:44:52.493Z"
   },
   {
    "duration": 69,
    "start_time": "2022-05-14T02:02:00.903Z"
   },
   {
    "duration": 1633,
    "start_time": "2022-05-14T02:02:06.524Z"
   },
   {
    "duration": 834,
    "start_time": "2022-05-14T02:02:08.160Z"
   },
   {
    "duration": 30,
    "start_time": "2022-05-14T02:02:08.996Z"
   },
   {
    "duration": 19,
    "start_time": "2022-05-14T02:02:09.029Z"
   },
   {
    "duration": 90,
    "start_time": "2022-05-14T02:02:09.050Z"
   },
   {
    "duration": 41,
    "start_time": "2022-05-14T02:02:09.142Z"
   },
   {
    "duration": 39,
    "start_time": "2022-05-14T02:02:09.185Z"
   },
   {
    "duration": 21,
    "start_time": "2022-05-14T02:02:09.226Z"
   },
   {
    "duration": 52,
    "start_time": "2022-05-14T02:02:09.249Z"
   },
   {
    "duration": 14,
    "start_time": "2022-05-14T02:02:09.305Z"
   },
   {
    "duration": 90,
    "start_time": "2022-05-14T02:02:09.321Z"
   },
   {
    "duration": 25,
    "start_time": "2022-05-14T02:02:09.413Z"
   },
   {
    "duration": 24,
    "start_time": "2022-05-14T02:02:09.440Z"
   },
   {
    "duration": 13,
    "start_time": "2022-05-14T02:02:09.482Z"
   },
   {
    "duration": 46,
    "start_time": "2022-05-14T02:02:09.497Z"
   },
   {
    "duration": 63,
    "start_time": "2022-05-14T02:02:09.545Z"
   },
   {
    "duration": 16,
    "start_time": "2022-05-14T02:02:09.610Z"
   },
   {
    "duration": 15,
    "start_time": "2022-05-14T02:02:09.628Z"
   },
   {
    "duration": 39,
    "start_time": "2022-05-14T02:02:09.645Z"
   },
   {
    "duration": 20,
    "start_time": "2022-05-14T02:02:09.686Z"
   },
   {
    "duration": 23,
    "start_time": "2022-05-14T02:02:09.708Z"
   },
   {
    "duration": 15,
    "start_time": "2022-05-14T02:02:09.733Z"
   },
   {
    "duration": 19,
    "start_time": "2022-05-14T02:02:09.782Z"
   },
   {
    "duration": 27,
    "start_time": "2022-05-14T02:02:09.803Z"
   },
   {
    "duration": 20,
    "start_time": "2022-05-14T02:02:09.832Z"
   },
   {
    "duration": 37,
    "start_time": "2022-05-14T02:02:09.854Z"
   },
   {
    "duration": 21,
    "start_time": "2022-05-14T02:02:09.893Z"
   },
   {
    "duration": 19,
    "start_time": "2022-05-14T02:02:09.920Z"
   },
   {
    "duration": 55,
    "start_time": "2022-05-14T02:02:09.941Z"
   },
   {
    "duration": 45,
    "start_time": "2022-05-14T02:02:09.998Z"
   },
   {
    "duration": 60,
    "start_time": "2022-05-14T02:02:10.045Z"
   },
   {
    "duration": 14,
    "start_time": "2022-05-14T02:02:10.108Z"
   },
   {
    "duration": 24,
    "start_time": "2022-05-14T02:02:10.125Z"
   },
   {
    "duration": 32,
    "start_time": "2022-05-14T02:02:10.152Z"
   },
   {
    "duration": 8,
    "start_time": "2022-05-14T02:02:10.186Z"
   },
   {
    "duration": 18,
    "start_time": "2022-05-14T02:02:10.197Z"
   },
   {
    "duration": 11,
    "start_time": "2022-05-14T02:02:10.218Z"
   },
   {
    "duration": 6,
    "start_time": "2022-05-14T02:02:10.232Z"
   },
   {
    "duration": 44,
    "start_time": "2022-05-14T02:02:10.240Z"
   },
   {
    "duration": 6,
    "start_time": "2022-05-14T02:02:10.287Z"
   },
   {
    "duration": 7,
    "start_time": "2022-05-14T02:02:10.295Z"
   },
   {
    "duration": 9,
    "start_time": "2022-05-14T02:02:10.304Z"
   },
   {
    "duration": 12,
    "start_time": "2022-05-14T02:02:10.315Z"
   },
   {
    "duration": 20,
    "start_time": "2022-05-14T02:02:10.329Z"
   },
   {
    "duration": 34,
    "start_time": "2022-05-14T02:02:10.351Z"
   },
   {
    "duration": 36,
    "start_time": "2022-05-14T02:02:10.387Z"
   },
   {
    "duration": 5,
    "start_time": "2022-05-14T02:02:10.425Z"
   },
   {
    "duration": 7,
    "start_time": "2022-05-14T02:02:10.432Z"
   },
   {
    "duration": 40,
    "start_time": "2022-05-14T02:02:10.441Z"
   },
   {
    "duration": 5,
    "start_time": "2022-05-14T02:02:10.484Z"
   },
   {
    "duration": 8,
    "start_time": "2022-05-14T02:02:10.491Z"
   },
   {
    "duration": 32,
    "start_time": "2022-05-14T02:02:10.501Z"
   },
   {
    "duration": 7,
    "start_time": "2022-05-14T02:02:10.536Z"
   },
   {
    "duration": 52,
    "start_time": "2022-05-14T02:02:10.546Z"
   },
   {
    "duration": 7,
    "start_time": "2022-05-14T02:02:10.600Z"
   },
   {
    "duration": 39,
    "start_time": "2022-05-14T02:02:10.609Z"
   },
   {
    "duration": 56,
    "start_time": "2022-05-14T02:02:10.650Z"
   },
   {
    "duration": 33,
    "start_time": "2022-05-14T02:02:10.708Z"
   },
   {
    "duration": 219,
    "start_time": "2022-05-14T02:02:10.743Z"
   },
   {
    "duration": 363,
    "start_time": "2022-05-14T02:02:10.964Z"
   },
   {
    "duration": 11,
    "start_time": "2022-05-14T02:02:11.330Z"
   }
  ],
  "kernelspec": {
   "display_name": "Python 3 (ipykernel)",
   "language": "python",
   "name": "python3"
  },
  "language_info": {
   "codemirror_mode": {
    "name": "ipython",
    "version": 3
   },
   "file_extension": ".py",
   "mimetype": "text/x-python",
   "name": "python",
   "nbconvert_exporter": "python",
   "pygments_lexer": "ipython3",
   "version": "3.9.5"
  },
  "toc": {
   "base_numbering": 1,
   "nav_menu": {},
   "number_sections": true,
   "sideBar": true,
   "skip_h1_title": false,
   "title_cell": "Table of Contents",
   "title_sidebar": "Contents",
   "toc_cell": false,
   "toc_position": {
    "height": "calc(100% - 180px)",
    "left": "10px",
    "top": "150px",
    "width": "165px"
   },
   "toc_section_display": true,
   "toc_window_display": true
  }
 },
 "nbformat": 4,
 "nbformat_minor": 2
}
