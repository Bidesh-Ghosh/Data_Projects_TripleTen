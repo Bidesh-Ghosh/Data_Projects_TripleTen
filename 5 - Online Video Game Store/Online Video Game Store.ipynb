{
 "cells": [
  {
   "cell_type": "markdown",
   "metadata": {},
   "source": [
    "Throughout this report I will be analyzing videogame sales in order to determine optimal strategies for marketing campaigns. In my conclusion I will state which strategies will sell the most videogames for my online store Ice."
   ]
  },
  {
   "cell_type": "code",
   "execution_count": 1,
   "metadata": {},
   "outputs": [],
   "source": [
    "import pandas as pd\n",
    "import numpy as np\n",
    "import matplotlib.pyplot as plt\n",
    "from scipy import stats as st\n",
    "import warnings\n",
    "warnings.filterwarnings(\"ignore\")"
   ]
  },
  {
   "cell_type": "code",
   "execution_count": 2,
   "metadata": {},
   "outputs": [],
   "source": [
    "data = pd.read_csv('/datasets/games.csv')"
   ]
  },
  {
   "cell_type": "code",
   "execution_count": 3,
   "metadata": {},
   "outputs": [
    {
     "data": {
      "text/html": [
       "<div>\n",
       "<style scoped>\n",
       "    .dataframe tbody tr th:only-of-type {\n",
       "        vertical-align: middle;\n",
       "    }\n",
       "\n",
       "    .dataframe tbody tr th {\n",
       "        vertical-align: top;\n",
       "    }\n",
       "\n",
       "    .dataframe thead th {\n",
       "        text-align: right;\n",
       "    }\n",
       "</style>\n",
       "<table border=\"1\" class=\"dataframe\">\n",
       "  <thead>\n",
       "    <tr style=\"text-align: right;\">\n",
       "      <th></th>\n",
       "      <th>Name</th>\n",
       "      <th>Platform</th>\n",
       "      <th>Year_of_Release</th>\n",
       "      <th>Genre</th>\n",
       "      <th>NA_sales</th>\n",
       "      <th>EU_sales</th>\n",
       "      <th>JP_sales</th>\n",
       "      <th>Other_sales</th>\n",
       "      <th>Critic_Score</th>\n",
       "      <th>User_Score</th>\n",
       "      <th>Rating</th>\n",
       "    </tr>\n",
       "  </thead>\n",
       "  <tbody>\n",
       "    <tr>\n",
       "      <th>0</th>\n",
       "      <td>Wii Sports</td>\n",
       "      <td>Wii</td>\n",
       "      <td>2006.0</td>\n",
       "      <td>Sports</td>\n",
       "      <td>41.36</td>\n",
       "      <td>28.96</td>\n",
       "      <td>3.77</td>\n",
       "      <td>8.45</td>\n",
       "      <td>76.0</td>\n",
       "      <td>8</td>\n",
       "      <td>E</td>\n",
       "    </tr>\n",
       "    <tr>\n",
       "      <th>1</th>\n",
       "      <td>Super Mario Bros.</td>\n",
       "      <td>NES</td>\n",
       "      <td>1985.0</td>\n",
       "      <td>Platform</td>\n",
       "      <td>29.08</td>\n",
       "      <td>3.58</td>\n",
       "      <td>6.81</td>\n",
       "      <td>0.77</td>\n",
       "      <td>NaN</td>\n",
       "      <td>NaN</td>\n",
       "      <td>NaN</td>\n",
       "    </tr>\n",
       "    <tr>\n",
       "      <th>2</th>\n",
       "      <td>Mario Kart Wii</td>\n",
       "      <td>Wii</td>\n",
       "      <td>2008.0</td>\n",
       "      <td>Racing</td>\n",
       "      <td>15.68</td>\n",
       "      <td>12.76</td>\n",
       "      <td>3.79</td>\n",
       "      <td>3.29</td>\n",
       "      <td>82.0</td>\n",
       "      <td>8.3</td>\n",
       "      <td>E</td>\n",
       "    </tr>\n",
       "    <tr>\n",
       "      <th>3</th>\n",
       "      <td>Wii Sports Resort</td>\n",
       "      <td>Wii</td>\n",
       "      <td>2009.0</td>\n",
       "      <td>Sports</td>\n",
       "      <td>15.61</td>\n",
       "      <td>10.93</td>\n",
       "      <td>3.28</td>\n",
       "      <td>2.95</td>\n",
       "      <td>80.0</td>\n",
       "      <td>8</td>\n",
       "      <td>E</td>\n",
       "    </tr>\n",
       "    <tr>\n",
       "      <th>4</th>\n",
       "      <td>Pokemon Red/Pokemon Blue</td>\n",
       "      <td>GB</td>\n",
       "      <td>1996.0</td>\n",
       "      <td>Role-Playing</td>\n",
       "      <td>11.27</td>\n",
       "      <td>8.89</td>\n",
       "      <td>10.22</td>\n",
       "      <td>1.00</td>\n",
       "      <td>NaN</td>\n",
       "      <td>NaN</td>\n",
       "      <td>NaN</td>\n",
       "    </tr>\n",
       "    <tr>\n",
       "      <th>...</th>\n",
       "      <td>...</td>\n",
       "      <td>...</td>\n",
       "      <td>...</td>\n",
       "      <td>...</td>\n",
       "      <td>...</td>\n",
       "      <td>...</td>\n",
       "      <td>...</td>\n",
       "      <td>...</td>\n",
       "      <td>...</td>\n",
       "      <td>...</td>\n",
       "      <td>...</td>\n",
       "    </tr>\n",
       "    <tr>\n",
       "      <th>16710</th>\n",
       "      <td>Samurai Warriors: Sanada Maru</td>\n",
       "      <td>PS3</td>\n",
       "      <td>2016.0</td>\n",
       "      <td>Action</td>\n",
       "      <td>0.00</td>\n",
       "      <td>0.00</td>\n",
       "      <td>0.01</td>\n",
       "      <td>0.00</td>\n",
       "      <td>NaN</td>\n",
       "      <td>NaN</td>\n",
       "      <td>NaN</td>\n",
       "    </tr>\n",
       "    <tr>\n",
       "      <th>16711</th>\n",
       "      <td>LMA Manager 2007</td>\n",
       "      <td>X360</td>\n",
       "      <td>2006.0</td>\n",
       "      <td>Sports</td>\n",
       "      <td>0.00</td>\n",
       "      <td>0.01</td>\n",
       "      <td>0.00</td>\n",
       "      <td>0.00</td>\n",
       "      <td>NaN</td>\n",
       "      <td>NaN</td>\n",
       "      <td>NaN</td>\n",
       "    </tr>\n",
       "    <tr>\n",
       "      <th>16712</th>\n",
       "      <td>Haitaka no Psychedelica</td>\n",
       "      <td>PSV</td>\n",
       "      <td>2016.0</td>\n",
       "      <td>Adventure</td>\n",
       "      <td>0.00</td>\n",
       "      <td>0.00</td>\n",
       "      <td>0.01</td>\n",
       "      <td>0.00</td>\n",
       "      <td>NaN</td>\n",
       "      <td>NaN</td>\n",
       "      <td>NaN</td>\n",
       "    </tr>\n",
       "    <tr>\n",
       "      <th>16713</th>\n",
       "      <td>Spirits &amp; Spells</td>\n",
       "      <td>GBA</td>\n",
       "      <td>2003.0</td>\n",
       "      <td>Platform</td>\n",
       "      <td>0.01</td>\n",
       "      <td>0.00</td>\n",
       "      <td>0.00</td>\n",
       "      <td>0.00</td>\n",
       "      <td>NaN</td>\n",
       "      <td>NaN</td>\n",
       "      <td>NaN</td>\n",
       "    </tr>\n",
       "    <tr>\n",
       "      <th>16714</th>\n",
       "      <td>Winning Post 8 2016</td>\n",
       "      <td>PSV</td>\n",
       "      <td>2016.0</td>\n",
       "      <td>Simulation</td>\n",
       "      <td>0.00</td>\n",
       "      <td>0.00</td>\n",
       "      <td>0.01</td>\n",
       "      <td>0.00</td>\n",
       "      <td>NaN</td>\n",
       "      <td>NaN</td>\n",
       "      <td>NaN</td>\n",
       "    </tr>\n",
       "  </tbody>\n",
       "</table>\n",
       "<p>16715 rows × 11 columns</p>\n",
       "</div>"
      ],
      "text/plain": [
       "                                Name Platform  Year_of_Release         Genre  \\\n",
       "0                         Wii Sports      Wii           2006.0        Sports   \n",
       "1                  Super Mario Bros.      NES           1985.0      Platform   \n",
       "2                     Mario Kart Wii      Wii           2008.0        Racing   \n",
       "3                  Wii Sports Resort      Wii           2009.0        Sports   \n",
       "4           Pokemon Red/Pokemon Blue       GB           1996.0  Role-Playing   \n",
       "...                              ...      ...              ...           ...   \n",
       "16710  Samurai Warriors: Sanada Maru      PS3           2016.0        Action   \n",
       "16711               LMA Manager 2007     X360           2006.0        Sports   \n",
       "16712        Haitaka no Psychedelica      PSV           2016.0     Adventure   \n",
       "16713               Spirits & Spells      GBA           2003.0      Platform   \n",
       "16714            Winning Post 8 2016      PSV           2016.0    Simulation   \n",
       "\n",
       "       NA_sales  EU_sales  JP_sales  Other_sales  Critic_Score User_Score  \\\n",
       "0         41.36     28.96      3.77         8.45          76.0          8   \n",
       "1         29.08      3.58      6.81         0.77           NaN        NaN   \n",
       "2         15.68     12.76      3.79         3.29          82.0        8.3   \n",
       "3         15.61     10.93      3.28         2.95          80.0          8   \n",
       "4         11.27      8.89     10.22         1.00           NaN        NaN   \n",
       "...         ...       ...       ...          ...           ...        ...   \n",
       "16710      0.00      0.00      0.01         0.00           NaN        NaN   \n",
       "16711      0.00      0.01      0.00         0.00           NaN        NaN   \n",
       "16712      0.00      0.00      0.01         0.00           NaN        NaN   \n",
       "16713      0.01      0.00      0.00         0.00           NaN        NaN   \n",
       "16714      0.00      0.00      0.01         0.00           NaN        NaN   \n",
       "\n",
       "      Rating  \n",
       "0          E  \n",
       "1        NaN  \n",
       "2          E  \n",
       "3          E  \n",
       "4        NaN  \n",
       "...      ...  \n",
       "16710    NaN  \n",
       "16711    NaN  \n",
       "16712    NaN  \n",
       "16713    NaN  \n",
       "16714    NaN  \n",
       "\n",
       "[16715 rows x 11 columns]"
      ]
     },
     "execution_count": 3,
     "metadata": {},
     "output_type": "execute_result"
    }
   ],
   "source": [
    "data"
   ]
  },
  {
   "cell_type": "code",
   "execution_count": 4,
   "metadata": {},
   "outputs": [
    {
     "name": "stdout",
     "output_type": "stream",
     "text": [
      "<class 'pandas.core.frame.DataFrame'>\n",
      "RangeIndex: 16715 entries, 0 to 16714\n",
      "Data columns (total 11 columns):\n",
      " #   Column           Non-Null Count  Dtype  \n",
      "---  ------           --------------  -----  \n",
      " 0   Name             16713 non-null  object \n",
      " 1   Platform         16715 non-null  object \n",
      " 2   Year_of_Release  16446 non-null  float64\n",
      " 3   Genre            16713 non-null  object \n",
      " 4   NA_sales         16715 non-null  float64\n",
      " 5   EU_sales         16715 non-null  float64\n",
      " 6   JP_sales         16715 non-null  float64\n",
      " 7   Other_sales      16715 non-null  float64\n",
      " 8   Critic_Score     8137 non-null   float64\n",
      " 9   User_Score       10014 non-null  object \n",
      " 10  Rating           9949 non-null   object \n",
      "dtypes: float64(6), object(5)\n",
      "memory usage: 1.4+ MB\n"
     ]
    }
   ],
   "source": [
    "data.info()"
   ]
  },
  {
   "cell_type": "code",
   "execution_count": 5,
   "metadata": {},
   "outputs": [],
   "source": [
    "data.columns = data.columns.str.lower()"
   ]
  },
  {
   "cell_type": "code",
   "execution_count": 6,
   "metadata": {},
   "outputs": [],
   "source": [
    "data['user_score'].replace('tbd', 11, inplace = True)"
   ]
  },
  {
   "cell_type": "code",
   "execution_count": 7,
   "metadata": {},
   "outputs": [
    {
     "data": {
      "text/plain": [
       "70.0    256\n",
       "71.0    254\n",
       "75.0    245\n",
       "78.0    240\n",
       "73.0    238\n",
       "       ... \n",
       "29.0      3\n",
       "13.0      1\n",
       "22.0      1\n",
       "17.0      1\n",
       "21.0      1\n",
       "Name: critic_score, Length: 82, dtype: int64"
      ]
     },
     "execution_count": 7,
     "metadata": {},
     "output_type": "execute_result"
    }
   ],
   "source": [
    "data['critic_score'].value_counts()"
   ]
  },
  {
   "cell_type": "code",
   "execution_count": 8,
   "metadata": {},
   "outputs": [
    {
     "data": {
      "text/plain": [
       "11     2424\n",
       "7.8     324\n",
       "8       290\n",
       "8.2     282\n",
       "8.3     254\n",
       "       ... \n",
       "0.7       2\n",
       "1.5       2\n",
       "9.6       2\n",
       "0         1\n",
       "9.7       1\n",
       "Name: user_score, Length: 96, dtype: int64"
      ]
     },
     "execution_count": 8,
     "metadata": {},
     "output_type": "execute_result"
    }
   ],
   "source": [
    "data['user_score'].value_counts()"
   ]
  },
  {
   "cell_type": "code",
   "execution_count": 9,
   "metadata": {},
   "outputs": [],
   "source": [
    "data.dropna(inplace = True, axis = 0, subset = ['name'])\n",
    "data.dropna(inplace = True, axis = 0, subset = ['year_of_release'])"
   ]
  },
  {
   "cell_type": "code",
   "execution_count": 10,
   "metadata": {},
   "outputs": [
    {
     "data": {
      "text/plain": [
       "array([76., nan, 82., 80., 89., 58., 87., 91., 61., 97., 95., 77., 88.,\n",
       "       83., 94., 93., 85., 86., 98., 96., 90., 84., 73., 74., 78., 92.,\n",
       "       71., 72., 68., 62., 49., 67., 81., 66., 56., 79., 70., 59., 64.,\n",
       "       75., 60., 63., 69., 50., 25., 42., 44., 55., 48., 57., 29., 47.,\n",
       "       65., 54., 20., 53., 37., 38., 33., 52., 30., 32., 43., 45., 51.,\n",
       "       40., 46., 39., 34., 41., 36., 31., 27., 35., 26., 19., 28., 23.,\n",
       "       24., 21., 17., 13.])"
      ]
     },
     "execution_count": 10,
     "metadata": {},
     "output_type": "execute_result"
    }
   ],
   "source": [
    "data['critic_score'].unique()"
   ]
  },
  {
   "cell_type": "code",
   "execution_count": 11,
   "metadata": {},
   "outputs": [],
   "source": [
    "data['user_score'].fillna(11, inplace = True)"
   ]
  },
  {
   "cell_type": "code",
   "execution_count": 12,
   "metadata": {},
   "outputs": [],
   "source": [
    "data['critic_score'].fillna(101, inplace = True)"
   ]
  },
  {
   "cell_type": "code",
   "execution_count": 13,
   "metadata": {},
   "outputs": [],
   "source": [
    "data['rating'].fillna('Z', inplace = True)"
   ]
  },
  {
   "cell_type": "code",
   "execution_count": 14,
   "metadata": {},
   "outputs": [
    {
     "data": {
      "text/plain": [
       "name               0\n",
       "platform           0\n",
       "year_of_release    0\n",
       "genre              0\n",
       "na_sales           0\n",
       "eu_sales           0\n",
       "jp_sales           0\n",
       "other_sales        0\n",
       "critic_score       0\n",
       "user_score         0\n",
       "rating             0\n",
       "dtype: int64"
      ]
     },
     "execution_count": 14,
     "metadata": {},
     "output_type": "execute_result"
    }
   ],
   "source": [
    "data.isna().sum() "
   ]
  },
  {
   "cell_type": "code",
   "execution_count": 15,
   "metadata": {},
   "outputs": [],
   "source": [
    "data['user_score'] = pd.to_numeric(data['user_score'])"
   ]
  },
  {
   "cell_type": "code",
   "execution_count": 16,
   "metadata": {},
   "outputs": [
    {
     "name": "stdout",
     "output_type": "stream",
     "text": [
      "<class 'pandas.core.frame.DataFrame'>\n",
      "Int64Index: 16444 entries, 0 to 16714\n",
      "Data columns (total 11 columns):\n",
      " #   Column           Non-Null Count  Dtype  \n",
      "---  ------           --------------  -----  \n",
      " 0   name             16444 non-null  object \n",
      " 1   platform         16444 non-null  object \n",
      " 2   year_of_release  16444 non-null  float64\n",
      " 3   genre            16444 non-null  object \n",
      " 4   na_sales         16444 non-null  float64\n",
      " 5   eu_sales         16444 non-null  float64\n",
      " 6   jp_sales         16444 non-null  float64\n",
      " 7   other_sales      16444 non-null  float64\n",
      " 8   critic_score     16444 non-null  float64\n",
      " 9   user_score       16444 non-null  float64\n",
      " 10  rating           16444 non-null  object \n",
      "dtypes: float64(7), object(4)\n",
      "memory usage: 1.5+ MB\n"
     ]
    }
   ],
   "source": [
    "data.info()"
   ]
  },
  {
   "cell_type": "markdown",
   "metadata": {},
   "source": [
    "For data preprocessing, I deleted all the rows that had missing values for name, year of release, and genre. These values are ok to be deleted as they constitute a very small portion of the data. The remainder of the missing values are in critic score, user score, and ratings. These all constitute a large portion of the data so they cannot all be deleted without skewing the data quite a lot. Therefore, I replaced these missing values with illogical values (ie. a rating of 11 on a scale of 1-10) and when it is time to analyze that data, I will use a filter to filter out all of the illogical values."
   ]
  },
  {
   "cell_type": "code",
   "execution_count": 17,
   "metadata": {},
   "outputs": [
    {
     "data": {
      "text/html": [
       "<div>\n",
       "<style scoped>\n",
       "    .dataframe tbody tr th:only-of-type {\n",
       "        vertical-align: middle;\n",
       "    }\n",
       "\n",
       "    .dataframe tbody tr th {\n",
       "        vertical-align: top;\n",
       "    }\n",
       "\n",
       "    .dataframe thead th {\n",
       "        text-align: right;\n",
       "    }\n",
       "</style>\n",
       "<table border=\"1\" class=\"dataframe\">\n",
       "  <thead>\n",
       "    <tr style=\"text-align: right;\">\n",
       "      <th></th>\n",
       "      <th>name</th>\n",
       "      <th>platform</th>\n",
       "      <th>year_of_release</th>\n",
       "      <th>genre</th>\n",
       "      <th>na_sales</th>\n",
       "      <th>eu_sales</th>\n",
       "      <th>jp_sales</th>\n",
       "      <th>other_sales</th>\n",
       "      <th>critic_score</th>\n",
       "      <th>user_score</th>\n",
       "      <th>rating</th>\n",
       "    </tr>\n",
       "  </thead>\n",
       "  <tbody>\n",
       "    <tr>\n",
       "      <th>0</th>\n",
       "      <td>Wii Sports</td>\n",
       "      <td>Wii</td>\n",
       "      <td>2006.0</td>\n",
       "      <td>Sports</td>\n",
       "      <td>41.36</td>\n",
       "      <td>28.96</td>\n",
       "      <td>3.77</td>\n",
       "      <td>8.45</td>\n",
       "      <td>76.0</td>\n",
       "      <td>8.0</td>\n",
       "      <td>E</td>\n",
       "    </tr>\n",
       "    <tr>\n",
       "      <th>1</th>\n",
       "      <td>Super Mario Bros.</td>\n",
       "      <td>NES</td>\n",
       "      <td>1985.0</td>\n",
       "      <td>Platform</td>\n",
       "      <td>29.08</td>\n",
       "      <td>3.58</td>\n",
       "      <td>6.81</td>\n",
       "      <td>0.77</td>\n",
       "      <td>101.0</td>\n",
       "      <td>11.0</td>\n",
       "      <td>Z</td>\n",
       "    </tr>\n",
       "    <tr>\n",
       "      <th>2</th>\n",
       "      <td>Mario Kart Wii</td>\n",
       "      <td>Wii</td>\n",
       "      <td>2008.0</td>\n",
       "      <td>Racing</td>\n",
       "      <td>15.68</td>\n",
       "      <td>12.76</td>\n",
       "      <td>3.79</td>\n",
       "      <td>3.29</td>\n",
       "      <td>82.0</td>\n",
       "      <td>8.3</td>\n",
       "      <td>E</td>\n",
       "    </tr>\n",
       "    <tr>\n",
       "      <th>3</th>\n",
       "      <td>Wii Sports Resort</td>\n",
       "      <td>Wii</td>\n",
       "      <td>2009.0</td>\n",
       "      <td>Sports</td>\n",
       "      <td>15.61</td>\n",
       "      <td>10.93</td>\n",
       "      <td>3.28</td>\n",
       "      <td>2.95</td>\n",
       "      <td>80.0</td>\n",
       "      <td>8.0</td>\n",
       "      <td>E</td>\n",
       "    </tr>\n",
       "    <tr>\n",
       "      <th>4</th>\n",
       "      <td>Pokemon Red/Pokemon Blue</td>\n",
       "      <td>GB</td>\n",
       "      <td>1996.0</td>\n",
       "      <td>Role-Playing</td>\n",
       "      <td>11.27</td>\n",
       "      <td>8.89</td>\n",
       "      <td>10.22</td>\n",
       "      <td>1.00</td>\n",
       "      <td>101.0</td>\n",
       "      <td>11.0</td>\n",
       "      <td>Z</td>\n",
       "    </tr>\n",
       "    <tr>\n",
       "      <th>...</th>\n",
       "      <td>...</td>\n",
       "      <td>...</td>\n",
       "      <td>...</td>\n",
       "      <td>...</td>\n",
       "      <td>...</td>\n",
       "      <td>...</td>\n",
       "      <td>...</td>\n",
       "      <td>...</td>\n",
       "      <td>...</td>\n",
       "      <td>...</td>\n",
       "      <td>...</td>\n",
       "    </tr>\n",
       "    <tr>\n",
       "      <th>16710</th>\n",
       "      <td>Samurai Warriors: Sanada Maru</td>\n",
       "      <td>PS3</td>\n",
       "      <td>2016.0</td>\n",
       "      <td>Action</td>\n",
       "      <td>0.00</td>\n",
       "      <td>0.00</td>\n",
       "      <td>0.01</td>\n",
       "      <td>0.00</td>\n",
       "      <td>101.0</td>\n",
       "      <td>11.0</td>\n",
       "      <td>Z</td>\n",
       "    </tr>\n",
       "    <tr>\n",
       "      <th>16711</th>\n",
       "      <td>LMA Manager 2007</td>\n",
       "      <td>X360</td>\n",
       "      <td>2006.0</td>\n",
       "      <td>Sports</td>\n",
       "      <td>0.00</td>\n",
       "      <td>0.01</td>\n",
       "      <td>0.00</td>\n",
       "      <td>0.00</td>\n",
       "      <td>101.0</td>\n",
       "      <td>11.0</td>\n",
       "      <td>Z</td>\n",
       "    </tr>\n",
       "    <tr>\n",
       "      <th>16712</th>\n",
       "      <td>Haitaka no Psychedelica</td>\n",
       "      <td>PSV</td>\n",
       "      <td>2016.0</td>\n",
       "      <td>Adventure</td>\n",
       "      <td>0.00</td>\n",
       "      <td>0.00</td>\n",
       "      <td>0.01</td>\n",
       "      <td>0.00</td>\n",
       "      <td>101.0</td>\n",
       "      <td>11.0</td>\n",
       "      <td>Z</td>\n",
       "    </tr>\n",
       "    <tr>\n",
       "      <th>16713</th>\n",
       "      <td>Spirits &amp; Spells</td>\n",
       "      <td>GBA</td>\n",
       "      <td>2003.0</td>\n",
       "      <td>Platform</td>\n",
       "      <td>0.01</td>\n",
       "      <td>0.00</td>\n",
       "      <td>0.00</td>\n",
       "      <td>0.00</td>\n",
       "      <td>101.0</td>\n",
       "      <td>11.0</td>\n",
       "      <td>Z</td>\n",
       "    </tr>\n",
       "    <tr>\n",
       "      <th>16714</th>\n",
       "      <td>Winning Post 8 2016</td>\n",
       "      <td>PSV</td>\n",
       "      <td>2016.0</td>\n",
       "      <td>Simulation</td>\n",
       "      <td>0.00</td>\n",
       "      <td>0.00</td>\n",
       "      <td>0.01</td>\n",
       "      <td>0.00</td>\n",
       "      <td>101.0</td>\n",
       "      <td>11.0</td>\n",
       "      <td>Z</td>\n",
       "    </tr>\n",
       "  </tbody>\n",
       "</table>\n",
       "<p>16444 rows × 11 columns</p>\n",
       "</div>"
      ],
      "text/plain": [
       "                                name platform  year_of_release         genre  \\\n",
       "0                         Wii Sports      Wii           2006.0        Sports   \n",
       "1                  Super Mario Bros.      NES           1985.0      Platform   \n",
       "2                     Mario Kart Wii      Wii           2008.0        Racing   \n",
       "3                  Wii Sports Resort      Wii           2009.0        Sports   \n",
       "4           Pokemon Red/Pokemon Blue       GB           1996.0  Role-Playing   \n",
       "...                              ...      ...              ...           ...   \n",
       "16710  Samurai Warriors: Sanada Maru      PS3           2016.0        Action   \n",
       "16711               LMA Manager 2007     X360           2006.0        Sports   \n",
       "16712        Haitaka no Psychedelica      PSV           2016.0     Adventure   \n",
       "16713               Spirits & Spells      GBA           2003.0      Platform   \n",
       "16714            Winning Post 8 2016      PSV           2016.0    Simulation   \n",
       "\n",
       "       na_sales  eu_sales  jp_sales  other_sales  critic_score  user_score  \\\n",
       "0         41.36     28.96      3.77         8.45          76.0         8.0   \n",
       "1         29.08      3.58      6.81         0.77         101.0        11.0   \n",
       "2         15.68     12.76      3.79         3.29          82.0         8.3   \n",
       "3         15.61     10.93      3.28         2.95          80.0         8.0   \n",
       "4         11.27      8.89     10.22         1.00         101.0        11.0   \n",
       "...         ...       ...       ...          ...           ...         ...   \n",
       "16710      0.00      0.00      0.01         0.00         101.0        11.0   \n",
       "16711      0.00      0.01      0.00         0.00         101.0        11.0   \n",
       "16712      0.00      0.00      0.01         0.00         101.0        11.0   \n",
       "16713      0.01      0.00      0.00         0.00         101.0        11.0   \n",
       "16714      0.00      0.00      0.01         0.00         101.0        11.0   \n",
       "\n",
       "      rating  \n",
       "0          E  \n",
       "1          Z  \n",
       "2          E  \n",
       "3          E  \n",
       "4          Z  \n",
       "...      ...  \n",
       "16710      Z  \n",
       "16711      Z  \n",
       "16712      Z  \n",
       "16713      Z  \n",
       "16714      Z  \n",
       "\n",
       "[16444 rows x 11 columns]"
      ]
     },
     "execution_count": 17,
     "metadata": {},
     "output_type": "execute_result"
    }
   ],
   "source": [
    "data"
   ]
  },
  {
   "cell_type": "code",
   "execution_count": 18,
   "metadata": {},
   "outputs": [],
   "source": [
    "data['total_sales'] = data['na_sales'] + data['eu_sales'] + data['other_sales'] + data['other_sales']"
   ]
  },
  {
   "cell_type": "code",
   "execution_count": 19,
   "metadata": {},
   "outputs": [
    {
     "data": {
      "text/html": [
       "<div>\n",
       "<style scoped>\n",
       "    .dataframe tbody tr th:only-of-type {\n",
       "        vertical-align: middle;\n",
       "    }\n",
       "\n",
       "    .dataframe tbody tr th {\n",
       "        vertical-align: top;\n",
       "    }\n",
       "\n",
       "    .dataframe thead th {\n",
       "        text-align: right;\n",
       "    }\n",
       "</style>\n",
       "<table border=\"1\" class=\"dataframe\">\n",
       "  <thead>\n",
       "    <tr style=\"text-align: right;\">\n",
       "      <th></th>\n",
       "      <th>name</th>\n",
       "      <th>platform</th>\n",
       "      <th>year_of_release</th>\n",
       "      <th>genre</th>\n",
       "      <th>na_sales</th>\n",
       "      <th>eu_sales</th>\n",
       "      <th>jp_sales</th>\n",
       "      <th>other_sales</th>\n",
       "      <th>critic_score</th>\n",
       "      <th>user_score</th>\n",
       "      <th>rating</th>\n",
       "      <th>total_sales</th>\n",
       "    </tr>\n",
       "  </thead>\n",
       "  <tbody>\n",
       "    <tr>\n",
       "      <th>0</th>\n",
       "      <td>Wii Sports</td>\n",
       "      <td>Wii</td>\n",
       "      <td>2006.0</td>\n",
       "      <td>Sports</td>\n",
       "      <td>41.36</td>\n",
       "      <td>28.96</td>\n",
       "      <td>3.77</td>\n",
       "      <td>8.45</td>\n",
       "      <td>76.0</td>\n",
       "      <td>8.0</td>\n",
       "      <td>E</td>\n",
       "      <td>87.22</td>\n",
       "    </tr>\n",
       "    <tr>\n",
       "      <th>1</th>\n",
       "      <td>Super Mario Bros.</td>\n",
       "      <td>NES</td>\n",
       "      <td>1985.0</td>\n",
       "      <td>Platform</td>\n",
       "      <td>29.08</td>\n",
       "      <td>3.58</td>\n",
       "      <td>6.81</td>\n",
       "      <td>0.77</td>\n",
       "      <td>101.0</td>\n",
       "      <td>11.0</td>\n",
       "      <td>Z</td>\n",
       "      <td>34.20</td>\n",
       "    </tr>\n",
       "    <tr>\n",
       "      <th>2</th>\n",
       "      <td>Mario Kart Wii</td>\n",
       "      <td>Wii</td>\n",
       "      <td>2008.0</td>\n",
       "      <td>Racing</td>\n",
       "      <td>15.68</td>\n",
       "      <td>12.76</td>\n",
       "      <td>3.79</td>\n",
       "      <td>3.29</td>\n",
       "      <td>82.0</td>\n",
       "      <td>8.3</td>\n",
       "      <td>E</td>\n",
       "      <td>35.02</td>\n",
       "    </tr>\n",
       "    <tr>\n",
       "      <th>3</th>\n",
       "      <td>Wii Sports Resort</td>\n",
       "      <td>Wii</td>\n",
       "      <td>2009.0</td>\n",
       "      <td>Sports</td>\n",
       "      <td>15.61</td>\n",
       "      <td>10.93</td>\n",
       "      <td>3.28</td>\n",
       "      <td>2.95</td>\n",
       "      <td>80.0</td>\n",
       "      <td>8.0</td>\n",
       "      <td>E</td>\n",
       "      <td>32.44</td>\n",
       "    </tr>\n",
       "    <tr>\n",
       "      <th>4</th>\n",
       "      <td>Pokemon Red/Pokemon Blue</td>\n",
       "      <td>GB</td>\n",
       "      <td>1996.0</td>\n",
       "      <td>Role-Playing</td>\n",
       "      <td>11.27</td>\n",
       "      <td>8.89</td>\n",
       "      <td>10.22</td>\n",
       "      <td>1.00</td>\n",
       "      <td>101.0</td>\n",
       "      <td>11.0</td>\n",
       "      <td>Z</td>\n",
       "      <td>22.16</td>\n",
       "    </tr>\n",
       "    <tr>\n",
       "      <th>...</th>\n",
       "      <td>...</td>\n",
       "      <td>...</td>\n",
       "      <td>...</td>\n",
       "      <td>...</td>\n",
       "      <td>...</td>\n",
       "      <td>...</td>\n",
       "      <td>...</td>\n",
       "      <td>...</td>\n",
       "      <td>...</td>\n",
       "      <td>...</td>\n",
       "      <td>...</td>\n",
       "      <td>...</td>\n",
       "    </tr>\n",
       "    <tr>\n",
       "      <th>16710</th>\n",
       "      <td>Samurai Warriors: Sanada Maru</td>\n",
       "      <td>PS3</td>\n",
       "      <td>2016.0</td>\n",
       "      <td>Action</td>\n",
       "      <td>0.00</td>\n",
       "      <td>0.00</td>\n",
       "      <td>0.01</td>\n",
       "      <td>0.00</td>\n",
       "      <td>101.0</td>\n",
       "      <td>11.0</td>\n",
       "      <td>Z</td>\n",
       "      <td>0.00</td>\n",
       "    </tr>\n",
       "    <tr>\n",
       "      <th>16711</th>\n",
       "      <td>LMA Manager 2007</td>\n",
       "      <td>X360</td>\n",
       "      <td>2006.0</td>\n",
       "      <td>Sports</td>\n",
       "      <td>0.00</td>\n",
       "      <td>0.01</td>\n",
       "      <td>0.00</td>\n",
       "      <td>0.00</td>\n",
       "      <td>101.0</td>\n",
       "      <td>11.0</td>\n",
       "      <td>Z</td>\n",
       "      <td>0.01</td>\n",
       "    </tr>\n",
       "    <tr>\n",
       "      <th>16712</th>\n",
       "      <td>Haitaka no Psychedelica</td>\n",
       "      <td>PSV</td>\n",
       "      <td>2016.0</td>\n",
       "      <td>Adventure</td>\n",
       "      <td>0.00</td>\n",
       "      <td>0.00</td>\n",
       "      <td>0.01</td>\n",
       "      <td>0.00</td>\n",
       "      <td>101.0</td>\n",
       "      <td>11.0</td>\n",
       "      <td>Z</td>\n",
       "      <td>0.00</td>\n",
       "    </tr>\n",
       "    <tr>\n",
       "      <th>16713</th>\n",
       "      <td>Spirits &amp; Spells</td>\n",
       "      <td>GBA</td>\n",
       "      <td>2003.0</td>\n",
       "      <td>Platform</td>\n",
       "      <td>0.01</td>\n",
       "      <td>0.00</td>\n",
       "      <td>0.00</td>\n",
       "      <td>0.00</td>\n",
       "      <td>101.0</td>\n",
       "      <td>11.0</td>\n",
       "      <td>Z</td>\n",
       "      <td>0.01</td>\n",
       "    </tr>\n",
       "    <tr>\n",
       "      <th>16714</th>\n",
       "      <td>Winning Post 8 2016</td>\n",
       "      <td>PSV</td>\n",
       "      <td>2016.0</td>\n",
       "      <td>Simulation</td>\n",
       "      <td>0.00</td>\n",
       "      <td>0.00</td>\n",
       "      <td>0.01</td>\n",
       "      <td>0.00</td>\n",
       "      <td>101.0</td>\n",
       "      <td>11.0</td>\n",
       "      <td>Z</td>\n",
       "      <td>0.00</td>\n",
       "    </tr>\n",
       "  </tbody>\n",
       "</table>\n",
       "<p>16444 rows × 12 columns</p>\n",
       "</div>"
      ],
      "text/plain": [
       "                                name platform  year_of_release         genre  \\\n",
       "0                         Wii Sports      Wii           2006.0        Sports   \n",
       "1                  Super Mario Bros.      NES           1985.0      Platform   \n",
       "2                     Mario Kart Wii      Wii           2008.0        Racing   \n",
       "3                  Wii Sports Resort      Wii           2009.0        Sports   \n",
       "4           Pokemon Red/Pokemon Blue       GB           1996.0  Role-Playing   \n",
       "...                              ...      ...              ...           ...   \n",
       "16710  Samurai Warriors: Sanada Maru      PS3           2016.0        Action   \n",
       "16711               LMA Manager 2007     X360           2006.0        Sports   \n",
       "16712        Haitaka no Psychedelica      PSV           2016.0     Adventure   \n",
       "16713               Spirits & Spells      GBA           2003.0      Platform   \n",
       "16714            Winning Post 8 2016      PSV           2016.0    Simulation   \n",
       "\n",
       "       na_sales  eu_sales  jp_sales  other_sales  critic_score  user_score  \\\n",
       "0         41.36     28.96      3.77         8.45          76.0         8.0   \n",
       "1         29.08      3.58      6.81         0.77         101.0        11.0   \n",
       "2         15.68     12.76      3.79         3.29          82.0         8.3   \n",
       "3         15.61     10.93      3.28         2.95          80.0         8.0   \n",
       "4         11.27      8.89     10.22         1.00         101.0        11.0   \n",
       "...         ...       ...       ...          ...           ...         ...   \n",
       "16710      0.00      0.00      0.01         0.00         101.0        11.0   \n",
       "16711      0.00      0.01      0.00         0.00         101.0        11.0   \n",
       "16712      0.00      0.00      0.01         0.00         101.0        11.0   \n",
       "16713      0.01      0.00      0.00         0.00         101.0        11.0   \n",
       "16714      0.00      0.00      0.01         0.00         101.0        11.0   \n",
       "\n",
       "      rating  total_sales  \n",
       "0          E        87.22  \n",
       "1          Z        34.20  \n",
       "2          E        35.02  \n",
       "3          E        32.44  \n",
       "4          Z        22.16  \n",
       "...      ...          ...  \n",
       "16710      Z         0.00  \n",
       "16711      Z         0.01  \n",
       "16712      Z         0.00  \n",
       "16713      Z         0.01  \n",
       "16714      Z         0.00  \n",
       "\n",
       "[16444 rows x 12 columns]"
      ]
     },
     "execution_count": 19,
     "metadata": {},
     "output_type": "execute_result"
    }
   ],
   "source": [
    "data"
   ]
  },
  {
   "cell_type": "code",
   "execution_count": 20,
   "metadata": {},
   "outputs": [
    {
     "data": {
      "text/plain": [
       "count    16444.000000\n",
       "mean      2006.486256\n",
       "std          5.875525\n",
       "min       1980.000000\n",
       "25%       2003.000000\n",
       "50%       2007.000000\n",
       "75%       2010.000000\n",
       "max       2016.000000\n",
       "Name: year_of_release, dtype: float64"
      ]
     },
     "execution_count": 20,
     "metadata": {},
     "output_type": "execute_result"
    }
   ],
   "source": [
    "data['year_of_release'].describe()"
   ]
  },
  {
   "cell_type": "code",
   "execution_count": 21,
   "metadata": {},
   "outputs": [],
   "source": [
    "yearly_sales = data.pivot_table(\n",
    "    index = 'year_of_release', values = 'platform', aggfunc = 'count')"
   ]
  },
  {
   "cell_type": "code",
   "execution_count": 22,
   "metadata": {},
   "outputs": [
    {
     "data": {
      "text/html": [
       "<div>\n",
       "<style scoped>\n",
       "    .dataframe tbody tr th:only-of-type {\n",
       "        vertical-align: middle;\n",
       "    }\n",
       "\n",
       "    .dataframe tbody tr th {\n",
       "        vertical-align: top;\n",
       "    }\n",
       "\n",
       "    .dataframe thead th {\n",
       "        text-align: right;\n",
       "    }\n",
       "</style>\n",
       "<table border=\"1\" class=\"dataframe\">\n",
       "  <thead>\n",
       "    <tr style=\"text-align: right;\">\n",
       "      <th></th>\n",
       "      <th>platform</th>\n",
       "    </tr>\n",
       "    <tr>\n",
       "      <th>year_of_release</th>\n",
       "      <th></th>\n",
       "    </tr>\n",
       "  </thead>\n",
       "  <tbody>\n",
       "    <tr>\n",
       "      <th>1980.0</th>\n",
       "      <td>9</td>\n",
       "    </tr>\n",
       "    <tr>\n",
       "      <th>1981.0</th>\n",
       "      <td>46</td>\n",
       "    </tr>\n",
       "    <tr>\n",
       "      <th>1982.0</th>\n",
       "      <td>36</td>\n",
       "    </tr>\n",
       "    <tr>\n",
       "      <th>1983.0</th>\n",
       "      <td>17</td>\n",
       "    </tr>\n",
       "    <tr>\n",
       "      <th>1984.0</th>\n",
       "      <td>14</td>\n",
       "    </tr>\n",
       "    <tr>\n",
       "      <th>1985.0</th>\n",
       "      <td>14</td>\n",
       "    </tr>\n",
       "    <tr>\n",
       "      <th>1986.0</th>\n",
       "      <td>21</td>\n",
       "    </tr>\n",
       "    <tr>\n",
       "      <th>1987.0</th>\n",
       "      <td>16</td>\n",
       "    </tr>\n",
       "    <tr>\n",
       "      <th>1988.0</th>\n",
       "      <td>15</td>\n",
       "    </tr>\n",
       "    <tr>\n",
       "      <th>1989.0</th>\n",
       "      <td>17</td>\n",
       "    </tr>\n",
       "    <tr>\n",
       "      <th>1990.0</th>\n",
       "      <td>16</td>\n",
       "    </tr>\n",
       "    <tr>\n",
       "      <th>1991.0</th>\n",
       "      <td>41</td>\n",
       "    </tr>\n",
       "    <tr>\n",
       "      <th>1992.0</th>\n",
       "      <td>43</td>\n",
       "    </tr>\n",
       "    <tr>\n",
       "      <th>1993.0</th>\n",
       "      <td>60</td>\n",
       "    </tr>\n",
       "    <tr>\n",
       "      <th>1994.0</th>\n",
       "      <td>121</td>\n",
       "    </tr>\n",
       "    <tr>\n",
       "      <th>1995.0</th>\n",
       "      <td>219</td>\n",
       "    </tr>\n",
       "    <tr>\n",
       "      <th>1996.0</th>\n",
       "      <td>263</td>\n",
       "    </tr>\n",
       "    <tr>\n",
       "      <th>1997.0</th>\n",
       "      <td>289</td>\n",
       "    </tr>\n",
       "    <tr>\n",
       "      <th>1998.0</th>\n",
       "      <td>379</td>\n",
       "    </tr>\n",
       "    <tr>\n",
       "      <th>1999.0</th>\n",
       "      <td>338</td>\n",
       "    </tr>\n",
       "    <tr>\n",
       "      <th>2000.0</th>\n",
       "      <td>350</td>\n",
       "    </tr>\n",
       "    <tr>\n",
       "      <th>2001.0</th>\n",
       "      <td>482</td>\n",
       "    </tr>\n",
       "    <tr>\n",
       "      <th>2002.0</th>\n",
       "      <td>829</td>\n",
       "    </tr>\n",
       "    <tr>\n",
       "      <th>2003.0</th>\n",
       "      <td>775</td>\n",
       "    </tr>\n",
       "    <tr>\n",
       "      <th>2004.0</th>\n",
       "      <td>762</td>\n",
       "    </tr>\n",
       "    <tr>\n",
       "      <th>2005.0</th>\n",
       "      <td>939</td>\n",
       "    </tr>\n",
       "    <tr>\n",
       "      <th>2006.0</th>\n",
       "      <td>1006</td>\n",
       "    </tr>\n",
       "    <tr>\n",
       "      <th>2007.0</th>\n",
       "      <td>1197</td>\n",
       "    </tr>\n",
       "    <tr>\n",
       "      <th>2008.0</th>\n",
       "      <td>1427</td>\n",
       "    </tr>\n",
       "    <tr>\n",
       "      <th>2009.0</th>\n",
       "      <td>1426</td>\n",
       "    </tr>\n",
       "    <tr>\n",
       "      <th>2010.0</th>\n",
       "      <td>1255</td>\n",
       "    </tr>\n",
       "    <tr>\n",
       "      <th>2011.0</th>\n",
       "      <td>1136</td>\n",
       "    </tr>\n",
       "    <tr>\n",
       "      <th>2012.0</th>\n",
       "      <td>653</td>\n",
       "    </tr>\n",
       "    <tr>\n",
       "      <th>2013.0</th>\n",
       "      <td>544</td>\n",
       "    </tr>\n",
       "    <tr>\n",
       "      <th>2014.0</th>\n",
       "      <td>581</td>\n",
       "    </tr>\n",
       "    <tr>\n",
       "      <th>2015.0</th>\n",
       "      <td>606</td>\n",
       "    </tr>\n",
       "    <tr>\n",
       "      <th>2016.0</th>\n",
       "      <td>502</td>\n",
       "    </tr>\n",
       "  </tbody>\n",
       "</table>\n",
       "</div>"
      ],
      "text/plain": [
       "                 platform\n",
       "year_of_release          \n",
       "1980.0                  9\n",
       "1981.0                 46\n",
       "1982.0                 36\n",
       "1983.0                 17\n",
       "1984.0                 14\n",
       "1985.0                 14\n",
       "1986.0                 21\n",
       "1987.0                 16\n",
       "1988.0                 15\n",
       "1989.0                 17\n",
       "1990.0                 16\n",
       "1991.0                 41\n",
       "1992.0                 43\n",
       "1993.0                 60\n",
       "1994.0                121\n",
       "1995.0                219\n",
       "1996.0                263\n",
       "1997.0                289\n",
       "1998.0                379\n",
       "1999.0                338\n",
       "2000.0                350\n",
       "2001.0                482\n",
       "2002.0                829\n",
       "2003.0                775\n",
       "2004.0                762\n",
       "2005.0                939\n",
       "2006.0               1006\n",
       "2007.0               1197\n",
       "2008.0               1427\n",
       "2009.0               1426\n",
       "2010.0               1255\n",
       "2011.0               1136\n",
       "2012.0                653\n",
       "2013.0                544\n",
       "2014.0                581\n",
       "2015.0                606\n",
       "2016.0                502"
      ]
     },
     "execution_count": 22,
     "metadata": {},
     "output_type": "execute_result"
    }
   ],
   "source": [
    "yearly_sales"
   ]
  },
  {
   "cell_type": "code",
   "execution_count": 23,
   "metadata": {},
   "outputs": [
    {
     "data": {
      "text/plain": [
       "16444"
      ]
     },
     "execution_count": 23,
     "metadata": {},
     "output_type": "execute_result"
    }
   ],
   "source": [
    "yearly_sales['platform'].sum()"
   ]
  },
  {
   "cell_type": "code",
   "execution_count": 24,
   "metadata": {},
   "outputs": [
    {
     "data": {
      "text/plain": [
       "<AxesSubplot:xlabel='year_of_release'>"
      ]
     },
     "execution_count": 24,
     "metadata": {},
     "output_type": "execute_result"
    },
    {
     "data": {
      "image/png": "[encoded data removed]",
      "text/plain": [
       "<Figure size 432x288 with 1 Axes>"
      ]
     },
     "metadata": {
      "needs_background": "light"
     },
     "output_type": "display_data"
    }
   ],
   "source": [
    "# Videogame sales per year\n",
    "yearly_sales.plot(kind='bar')"
   ]
  },
  {
   "cell_type": "markdown",
   "metadata": {},
   "source": [
    "This graph shows that the number of games being made increased until 2008 and then started to decrease."
   ]
  },
  {
   "cell_type": "code",
   "execution_count": 25,
   "metadata": {},
   "outputs": [
    {
     "data": {
      "text/plain": [
       "array(['Wii', 'NES', 'GB', 'DS', 'X360', 'PS3', 'PS2', 'SNES', 'GBA',\n",
       "       'PS4', '3DS', 'N64', 'PS', 'XB', 'PC', '2600', 'PSP', 'XOne',\n",
       "       'WiiU', 'GC', 'GEN', 'DC', 'PSV', 'SAT', 'SCD', 'WS', 'NG', 'TG16',\n",
       "       '3DO', 'GG', 'PCFX'], dtype=object)"
      ]
     },
     "execution_count": 25,
     "metadata": {},
     "output_type": "execute_result"
    }
   ],
   "source": [
    "data['platform'].unique()"
   ]
  },
  {
   "cell_type": "code",
   "execution_count": 26,
   "metadata": {},
   "outputs": [
    {
     "data": {
      "text/html": [
       "<div>\n",
       "<style scoped>\n",
       "    .dataframe tbody tr th:only-of-type {\n",
       "        vertical-align: middle;\n",
       "    }\n",
       "\n",
       "    .dataframe tbody tr th {\n",
       "        vertical-align: top;\n",
       "    }\n",
       "\n",
       "    .dataframe thead th {\n",
       "        text-align: right;\n",
       "    }\n",
       "</style>\n",
       "<table border=\"1\" class=\"dataframe\">\n",
       "  <thead>\n",
       "    <tr style=\"text-align: right;\">\n",
       "      <th></th>\n",
       "      <th>total_sales</th>\n",
       "    </tr>\n",
       "    <tr>\n",
       "      <th>platform</th>\n",
       "      <th></th>\n",
       "    </tr>\n",
       "  </thead>\n",
       "  <tbody>\n",
       "    <tr>\n",
       "      <th>3DO</th>\n",
       "      <td>0.00</td>\n",
       "    </tr>\n",
       "    <tr>\n",
       "      <th>WS</th>\n",
       "      <td>0.00</td>\n",
       "    </tr>\n",
       "    <tr>\n",
       "      <th>TG16</th>\n",
       "      <td>0.00</td>\n",
       "    </tr>\n",
       "    <tr>\n",
       "      <th>GG</th>\n",
       "      <td>0.00</td>\n",
       "    </tr>\n",
       "    <tr>\n",
       "      <th>NG</th>\n",
       "      <td>0.00</td>\n",
       "    </tr>\n",
       "    <tr>\n",
       "      <th>PCFX</th>\n",
       "      <td>0.00</td>\n",
       "    </tr>\n",
       "    <tr>\n",
       "      <th>SAT</th>\n",
       "      <td>1.40</td>\n",
       "    </tr>\n",
       "    <tr>\n",
       "      <th>SCD</th>\n",
       "      <td>1.46</td>\n",
       "    </tr>\n",
       "    <tr>\n",
       "      <th>DC</th>\n",
       "      <td>7.66</td>\n",
       "    </tr>\n",
       "    <tr>\n",
       "      <th>GEN</th>\n",
       "      <td>26.57</td>\n",
       "    </tr>\n",
       "    <tr>\n",
       "      <th>PSV</th>\n",
       "      <td>38.40</td>\n",
       "    </tr>\n",
       "    <tr>\n",
       "      <th>WiiU</th>\n",
       "      <td>75.13</td>\n",
       "    </tr>\n",
       "    <tr>\n",
       "      <th>SNES</th>\n",
       "      <td>86.71</td>\n",
       "    </tr>\n",
       "    <tr>\n",
       "      <th>2600</th>\n",
       "      <td>87.32</td>\n",
       "    </tr>\n",
       "    <tr>\n",
       "      <th>NES</th>\n",
       "      <td>157.71</td>\n",
       "    </tr>\n",
       "    <tr>\n",
       "      <th>3DS</th>\n",
       "      <td>170.46</td>\n",
       "    </tr>\n",
       "    <tr>\n",
       "      <th>XOne</th>\n",
       "      <td>173.25</td>\n",
       "    </tr>\n",
       "    <tr>\n",
       "      <th>GB</th>\n",
       "      <td>177.47</td>\n",
       "    </tr>\n",
       "    <tr>\n",
       "      <th>GC</th>\n",
       "      <td>180.52</td>\n",
       "    </tr>\n",
       "    <tr>\n",
       "      <th>N64</th>\n",
       "      <td>188.56</td>\n",
       "    </tr>\n",
       "    <tr>\n",
       "      <th>PSP</th>\n",
       "      <td>254.41</td>\n",
       "    </tr>\n",
       "    <tr>\n",
       "      <th>XB</th>\n",
       "      <td>258.67</td>\n",
       "    </tr>\n",
       "    <tr>\n",
       "      <th>GBA</th>\n",
       "      <td>273.93</td>\n",
       "    </tr>\n",
       "    <tr>\n",
       "      <th>PC</th>\n",
       "      <td>277.47</td>\n",
       "    </tr>\n",
       "    <tr>\n",
       "      <th>PS4</th>\n",
       "      <td>346.53</td>\n",
       "    </tr>\n",
       "    <tr>\n",
       "      <th>PS</th>\n",
       "      <td>628.49</td>\n",
       "    </tr>\n",
       "    <tr>\n",
       "      <th>DS</th>\n",
       "      <td>686.80</td>\n",
       "    </tr>\n",
       "    <tr>\n",
       "      <th>Wii</th>\n",
       "      <td>900.61</td>\n",
       "    </tr>\n",
       "    <tr>\n",
       "      <th>PS3</th>\n",
       "      <td>986.52</td>\n",
       "    </tr>\n",
       "    <tr>\n",
       "      <th>X360</th>\n",
       "      <td>1033.82</td>\n",
       "    </tr>\n",
       "    <tr>\n",
       "      <th>PS2</th>\n",
       "      <td>1286.49</td>\n",
       "    </tr>\n",
       "  </tbody>\n",
       "</table>\n",
       "</div>"
      ],
      "text/plain": [
       "          total_sales\n",
       "platform             \n",
       "3DO              0.00\n",
       "WS               0.00\n",
       "TG16             0.00\n",
       "GG               0.00\n",
       "NG               0.00\n",
       "PCFX             0.00\n",
       "SAT              1.40\n",
       "SCD              1.46\n",
       "DC               7.66\n",
       "GEN             26.57\n",
       "PSV             38.40\n",
       "WiiU            75.13\n",
       "SNES            86.71\n",
       "2600            87.32\n",
       "NES            157.71\n",
       "3DS            170.46\n",
       "XOne           173.25\n",
       "GB             177.47\n",
       "GC             180.52\n",
       "N64            188.56\n",
       "PSP            254.41\n",
       "XB             258.67\n",
       "GBA            273.93\n",
       "PC             277.47\n",
       "PS4            346.53\n",
       "PS             628.49\n",
       "DS             686.80\n",
       "Wii            900.61\n",
       "PS3            986.52\n",
       "X360          1033.82\n",
       "PS2           1286.49"
      ]
     },
     "execution_count": 26,
     "metadata": {},
     "output_type": "execute_result"
    }
   ],
   "source": [
    "platform_sales = data.pivot_table(\n",
    "    index = 'platform', values = 'total_sales', aggfunc = 'sum')\n",
    "platform_sales.sort_values(by = ['total_sales'], inplace = True)\n",
    "platform_sales"
   ]
  },
  {
   "cell_type": "code",
   "execution_count": 27,
   "metadata": {},
   "outputs": [
    {
     "data": {
      "text/plain": [
       "<AxesSubplot:xlabel='platform'>"
      ]
     },
     "execution_count": 27,
     "metadata": {},
     "output_type": "execute_result"
    },
    {
     "data": {
      "image/png": "[encoded data removed]",
      "text/plain": [
       "<Figure size 432x288 with 1 Axes>"
      ]
     },
     "metadata": {
      "needs_background": "light"
     },
     "output_type": "display_data"
    }
   ],
   "source": [
    "platform_sales.plot(kind='bar')"
   ]
  },
  {
   "cell_type": "markdown",
   "metadata": {},
   "source": [
    "Consoles with the greatest total sales are PS2, X360, and ps3."
   ]
  },
  {
   "cell_type": "code",
   "execution_count": 28,
   "metadata": {},
   "outputs": [
    {
     "data": {
      "text/plain": [
       "<AxesSubplot:xlabel='year_of_release'>"
      ]
     },
     "execution_count": 28,
     "metadata": {},
     "output_type": "execute_result"
    },
    {
     "data": {
      "image/png": "[encoded data removed]",
      "text/plain": [
       "<Figure size 432x288 with 1 Axes>"
      ]
     },
     "metadata": {
      "needs_background": "light"
     },
     "output_type": "display_data"
    }
   ],
   "source": [
    "ps2 = data.query('platform == \"PS2\"')\n",
    "ps2_pivot = ps2.pivot_table(\n",
    "    index = 'year_of_release', values = 'total_sales', aggfunc = 'sum')\n",
    "ps2_pivot.plot(kind = 'bar')"
   ]
  },
  {
   "cell_type": "code",
   "execution_count": 29,
   "metadata": {},
   "outputs": [
    {
     "data": {
      "text/plain": [
       "<AxesSubplot:xlabel='year_of_release'>"
      ]
     },
     "execution_count": 29,
     "metadata": {},
     "output_type": "execute_result"
    },
    {
     "data": {
      "image/png": "[encoded data removed]",
      "text/plain": [
       "<Figure size 432x288 with 1 Axes>"
      ]
     },
     "metadata": {
      "needs_background": "light"
     },
     "output_type": "display_data"
    }
   ],
   "source": [
    "x360 = data.query('platform == \"X360\"')\n",
    "x360_pivot = x360.pivot_table(\n",
    "    index = 'year_of_release', values = 'total_sales', aggfunc = 'sum')\n",
    "x360_pivot.plot(kind = 'bar')"
   ]
  },
  {
   "cell_type": "code",
   "execution_count": 30,
   "metadata": {},
   "outputs": [
    {
     "data": {
      "text/plain": [
       "<AxesSubplot:xlabel='year_of_release'>"
      ]
     },
     "execution_count": 30,
     "metadata": {},
     "output_type": "execute_result"
    },
    {
     "data": {
      "image/png": "[encoded data removed]",
      "text/plain": [
       "<Figure size 432x288 with 1 Axes>"
      ]
     },
     "metadata": {
      "needs_background": "light"
     },
     "output_type": "display_data"
    }
   ],
   "source": [
    "ps3 = data.query('platform == \"PS3\"')\n",
    "ps3_pivot = ps3.pivot_table(\n",
    "    index = 'year_of_release', values = 'total_sales', aggfunc = 'sum')\n",
    "ps3_pivot.plot(kind = 'bar')"
   ]
  },
  {
   "cell_type": "code",
   "execution_count": 31,
   "metadata": {},
   "outputs": [
    {
     "data": {
      "text/plain": [
       "<AxesSubplot:xlabel='year_of_release'>"
      ]
     },
     "execution_count": 31,
     "metadata": {},
     "output_type": "execute_result"
    },
    {
     "data": {
      "image/png": "[encoded data removed]",
      "text/plain": [
       "<Figure size 432x288 with 1 Axes>"
      ]
     },
     "metadata": {
      "needs_background": "light"
     },
     "output_type": "display_data"
    }
   ],
   "source": [
    "wii = data.query('platform == \"Wii\"')\n",
    "wii_pivot = wii.pivot_table(\n",
    "    index = 'year_of_release', values = 'total_sales', aggfunc = 'sum')\n",
    "wii_pivot.plot(kind = 'bar')"
   ]
  },
  {
   "cell_type": "code",
   "execution_count": 32,
   "metadata": {},
   "outputs": [
    {
     "data": {
      "text/plain": [
       "<AxesSubplot:xlabel='year_of_release'>"
      ]
     },
     "execution_count": 32,
     "metadata": {},
     "output_type": "execute_result"
    },
    {
     "data": {
      "image/png": "[encoded data removed]",
      "text/plain": [
       "<Figure size 432x288 with 1 Axes>"
      ]
     },
     "metadata": {
      "needs_background": "light"
     },
     "output_type": "display_data"
    }
   ],
   "source": [
    "ds = data.query('platform == \"DS\"')\n",
    "ds_pivot = ds.pivot_table(\n",
    "    index = 'year_of_release', values = 'total_sales', aggfunc = 'sum')\n",
    "ds_pivot.plot(kind = 'bar')"
   ]
  },
  {
   "cell_type": "code",
   "execution_count": 33,
   "metadata": {},
   "outputs": [
    {
     "data": {
      "text/plain": [
       "<AxesSubplot:xlabel='year_of_release'>"
      ]
     },
     "execution_count": 33,
     "metadata": {},
     "output_type": "execute_result"
    },
    {
     "data": {
      "image/png": "[encoded data removed]",
      "text/plain": [
       "<Figure size 432x288 with 1 Axes>"
      ]
     },
     "metadata": {
      "needs_background": "light"
     },
     "output_type": "display_data"
    }
   ],
   "source": [
    "ps = data.query('platform == \"PS\"')\n",
    "ps_pivot = ps.pivot_table(\n",
    "    index = 'year_of_release', values = 'total_sales', aggfunc = 'sum')\n",
    "ps_pivot.plot(kind = 'bar')"
   ]
  },
  {
   "cell_type": "code",
   "execution_count": 34,
   "metadata": {},
   "outputs": [
    {
     "data": {
      "text/html": [
       "<div>\n",
       "<style scoped>\n",
       "    .dataframe tbody tr th:only-of-type {\n",
       "        vertical-align: middle;\n",
       "    }\n",
       "\n",
       "    .dataframe tbody tr th {\n",
       "        vertical-align: top;\n",
       "    }\n",
       "\n",
       "    .dataframe thead th {\n",
       "        text-align: right;\n",
       "    }\n",
       "</style>\n",
       "<table border=\"1\" class=\"dataframe\">\n",
       "  <thead>\n",
       "    <tr style=\"text-align: right;\">\n",
       "      <th></th>\n",
       "      <th>total_sales_PS</th>\n",
       "      <th>total_sales_DS</th>\n",
       "      <th>total_sales_Wii</th>\n",
       "      <th>total_sales_PS3</th>\n",
       "      <th>total_sales_X360</th>\n",
       "      <th>total_sales_PS2</th>\n",
       "    </tr>\n",
       "    <tr>\n",
       "      <th>year_of_release</th>\n",
       "      <th></th>\n",
       "      <th></th>\n",
       "      <th></th>\n",
       "      <th></th>\n",
       "      <th></th>\n",
       "      <th></th>\n",
       "    </tr>\n",
       "  </thead>\n",
       "  <tbody>\n",
       "    <tr>\n",
       "      <th>1985.0</th>\n",
       "      <td>0.00</td>\n",
       "      <td>0.00</td>\n",
       "      <td>0.00</td>\n",
       "      <td>0.00</td>\n",
       "      <td>0.00</td>\n",
       "      <td>0.00</td>\n",
       "    </tr>\n",
       "    <tr>\n",
       "      <th>1994.0</th>\n",
       "      <td>3.76</td>\n",
       "      <td>0.00</td>\n",
       "      <td>0.00</td>\n",
       "      <td>0.00</td>\n",
       "      <td>0.00</td>\n",
       "      <td>0.00</td>\n",
       "    </tr>\n",
       "    <tr>\n",
       "      <th>1995.0</th>\n",
       "      <td>28.38</td>\n",
       "      <td>0.00</td>\n",
       "      <td>0.00</td>\n",
       "      <td>0.00</td>\n",
       "      <td>0.00</td>\n",
       "      <td>0.00</td>\n",
       "    </tr>\n",
       "    <tr>\n",
       "      <th>1996.0</th>\n",
       "      <td>82.42</td>\n",
       "      <td>0.00</td>\n",
       "      <td>0.00</td>\n",
       "      <td>0.00</td>\n",
       "      <td>0.00</td>\n",
       "      <td>0.00</td>\n",
       "    </tr>\n",
       "    <tr>\n",
       "      <th>1997.0</th>\n",
       "      <td>110.94</td>\n",
       "      <td>0.00</td>\n",
       "      <td>0.00</td>\n",
       "      <td>0.00</td>\n",
       "      <td>0.00</td>\n",
       "      <td>0.00</td>\n",
       "    </tr>\n",
       "    <tr>\n",
       "      <th>1998.0</th>\n",
       "      <td>150.06</td>\n",
       "      <td>0.00</td>\n",
       "      <td>0.00</td>\n",
       "      <td>0.00</td>\n",
       "      <td>0.00</td>\n",
       "      <td>0.00</td>\n",
       "    </tr>\n",
       "    <tr>\n",
       "      <th>1999.0</th>\n",
       "      <td>124.38</td>\n",
       "      <td>0.00</td>\n",
       "      <td>0.00</td>\n",
       "      <td>0.00</td>\n",
       "      <td>0.00</td>\n",
       "      <td>0.00</td>\n",
       "    </tr>\n",
       "    <tr>\n",
       "      <th>2000.0</th>\n",
       "      <td>87.05</td>\n",
       "      <td>0.00</td>\n",
       "      <td>0.00</td>\n",
       "      <td>0.00</td>\n",
       "      <td>0.00</td>\n",
       "      <td>33.88</td>\n",
       "    </tr>\n",
       "    <tr>\n",
       "      <th>2001.0</th>\n",
       "      <td>33.90</td>\n",
       "      <td>0.00</td>\n",
       "      <td>0.00</td>\n",
       "      <td>0.00</td>\n",
       "      <td>0.00</td>\n",
       "      <td>165.42</td>\n",
       "    </tr>\n",
       "    <tr>\n",
       "      <th>2002.0</th>\n",
       "      <td>5.39</td>\n",
       "      <td>0.00</td>\n",
       "      <td>0.00</td>\n",
       "      <td>0.00</td>\n",
       "      <td>0.00</td>\n",
       "      <td>205.25</td>\n",
       "    </tr>\n",
       "    <tr>\n",
       "      <th>2003.0</th>\n",
       "      <td>2.21</td>\n",
       "      <td>0.00</td>\n",
       "      <td>0.00</td>\n",
       "      <td>0.00</td>\n",
       "      <td>0.00</td>\n",
       "      <td>186.12</td>\n",
       "    </tr>\n",
       "    <tr>\n",
       "      <th>2004.0</th>\n",
       "      <td>0.00</td>\n",
       "      <td>14.98</td>\n",
       "      <td>0.00</td>\n",
       "      <td>0.00</td>\n",
       "      <td>0.00</td>\n",
       "      <td>232.49</td>\n",
       "    </tr>\n",
       "    <tr>\n",
       "      <th>2005.0</th>\n",
       "      <td>0.00</td>\n",
       "      <td>111.08</td>\n",
       "      <td>0.00</td>\n",
       "      <td>0.00</td>\n",
       "      <td>8.61</td>\n",
       "      <td>164.76</td>\n",
       "    </tr>\n",
       "    <tr>\n",
       "      <th>2006.0</th>\n",
       "      <td>0.00</td>\n",
       "      <td>89.42</td>\n",
       "      <td>141.52</td>\n",
       "      <td>23.54</td>\n",
       "      <td>54.84</td>\n",
       "      <td>100.02</td>\n",
       "    </tr>\n",
       "    <tr>\n",
       "      <th>2007.0</th>\n",
       "      <td>0.00</td>\n",
       "      <td>131.22</td>\n",
       "      <td>154.20</td>\n",
       "      <td>79.68</td>\n",
       "      <td>102.62</td>\n",
       "      <td>89.86</td>\n",
       "    </tr>\n",
       "    <tr>\n",
       "      <th>2008.0</th>\n",
       "      <td>0.00</td>\n",
       "      <td>132.24</td>\n",
       "      <td>173.62</td>\n",
       "      <td>129.44</td>\n",
       "      <td>146.07</td>\n",
       "      <td>67.48</td>\n",
       "    </tr>\n",
       "    <tr>\n",
       "      <th>2009.0</th>\n",
       "      <td>0.00</td>\n",
       "      <td>103.88</td>\n",
       "      <td>207.94</td>\n",
       "      <td>139.75</td>\n",
       "      <td>129.37</td>\n",
       "      <td>34.62</td>\n",
       "    </tr>\n",
       "    <tr>\n",
       "      <th>2010.0</th>\n",
       "      <td>0.00</td>\n",
       "      <td>70.70</td>\n",
       "      <td>129.39</td>\n",
       "      <td>153.11</td>\n",
       "      <td>182.15</td>\n",
       "      <td>6.13</td>\n",
       "    </tr>\n",
       "    <tr>\n",
       "      <th>2011.0</th>\n",
       "      <td>0.00</td>\n",
       "      <td>23.74</td>\n",
       "      <td>59.35</td>\n",
       "      <td>164.24</td>\n",
       "      <td>154.79</td>\n",
       "      <td>0.46</td>\n",
       "    </tr>\n",
       "    <tr>\n",
       "      <th>2012.0</th>\n",
       "      <td>0.00</td>\n",
       "      <td>7.88</td>\n",
       "      <td>19.86</td>\n",
       "      <td>111.91</td>\n",
       "      <td>106.97</td>\n",
       "      <td>0.00</td>\n",
       "    </tr>\n",
       "    <tr>\n",
       "      <th>2013.0</th>\n",
       "      <td>0.00</td>\n",
       "      <td>1.66</td>\n",
       "      <td>9.26</td>\n",
       "      <td>118.52</td>\n",
       "      <td>95.91</td>\n",
       "      <td>0.00</td>\n",
       "    </tr>\n",
       "    <tr>\n",
       "      <th>2014.0</th>\n",
       "      <td>0.00</td>\n",
       "      <td>0.00</td>\n",
       "      <td>4.05</td>\n",
       "      <td>48.39</td>\n",
       "      <td>37.79</td>\n",
       "      <td>0.00</td>\n",
       "    </tr>\n",
       "    <tr>\n",
       "      <th>2015.0</th>\n",
       "      <td>0.00</td>\n",
       "      <td>0.00</td>\n",
       "      <td>1.23</td>\n",
       "      <td>15.27</td>\n",
       "      <td>13.06</td>\n",
       "      <td>0.00</td>\n",
       "    </tr>\n",
       "    <tr>\n",
       "      <th>2016.0</th>\n",
       "      <td>0.00</td>\n",
       "      <td>0.00</td>\n",
       "      <td>0.19</td>\n",
       "      <td>2.67</td>\n",
       "      <td>1.64</td>\n",
       "      <td>0.00</td>\n",
       "    </tr>\n",
       "  </tbody>\n",
       "</table>\n",
       "</div>"
      ],
      "text/plain": [
       "                 total_sales_PS  total_sales_DS  total_sales_Wii  \\\n",
       "year_of_release                                                    \n",
       "1985.0                     0.00            0.00             0.00   \n",
       "1994.0                     3.76            0.00             0.00   \n",
       "1995.0                    28.38            0.00             0.00   \n",
       "1996.0                    82.42            0.00             0.00   \n",
       "1997.0                   110.94            0.00             0.00   \n",
       "1998.0                   150.06            0.00             0.00   \n",
       "1999.0                   124.38            0.00             0.00   \n",
       "2000.0                    87.05            0.00             0.00   \n",
       "2001.0                    33.90            0.00             0.00   \n",
       "2002.0                     5.39            0.00             0.00   \n",
       "2003.0                     2.21            0.00             0.00   \n",
       "2004.0                     0.00           14.98             0.00   \n",
       "2005.0                     0.00          111.08             0.00   \n",
       "2006.0                     0.00           89.42           141.52   \n",
       "2007.0                     0.00          131.22           154.20   \n",
       "2008.0                     0.00          132.24           173.62   \n",
       "2009.0                     0.00          103.88           207.94   \n",
       "2010.0                     0.00           70.70           129.39   \n",
       "2011.0                     0.00           23.74            59.35   \n",
       "2012.0                     0.00            7.88            19.86   \n",
       "2013.0                     0.00            1.66             9.26   \n",
       "2014.0                     0.00            0.00             4.05   \n",
       "2015.0                     0.00            0.00             1.23   \n",
       "2016.0                     0.00            0.00             0.19   \n",
       "\n",
       "                 total_sales_PS3  total_sales_X360  total_sales_PS2  \n",
       "year_of_release                                                      \n",
       "1985.0                      0.00              0.00             0.00  \n",
       "1994.0                      0.00              0.00             0.00  \n",
       "1995.0                      0.00              0.00             0.00  \n",
       "1996.0                      0.00              0.00             0.00  \n",
       "1997.0                      0.00              0.00             0.00  \n",
       "1998.0                      0.00              0.00             0.00  \n",
       "1999.0                      0.00              0.00             0.00  \n",
       "2000.0                      0.00              0.00            33.88  \n",
       "2001.0                      0.00              0.00           165.42  \n",
       "2002.0                      0.00              0.00           205.25  \n",
       "2003.0                      0.00              0.00           186.12  \n",
       "2004.0                      0.00              0.00           232.49  \n",
       "2005.0                      0.00              8.61           164.76  \n",
       "2006.0                     23.54             54.84           100.02  \n",
       "2007.0                     79.68            102.62            89.86  \n",
       "2008.0                    129.44            146.07            67.48  \n",
       "2009.0                    139.75            129.37            34.62  \n",
       "2010.0                    153.11            182.15             6.13  \n",
       "2011.0                    164.24            154.79             0.46  \n",
       "2012.0                    111.91            106.97             0.00  \n",
       "2013.0                    118.52             95.91             0.00  \n",
       "2014.0                     48.39             37.79             0.00  \n",
       "2015.0                     15.27             13.06             0.00  \n",
       "2016.0                      2.67              1.64             0.00  "
      ]
     },
     "execution_count": 34,
     "metadata": {},
     "output_type": "execute_result"
    }
   ],
   "source": [
    "pop_systems = ps_pivot.join(ds_pivot, lsuffix = '_PS', rsuffix = '_DS', how ='outer')\n",
    "pop_systems = pop_systems.join(wii_pivot, rsuffix = '_Wii', how = 'outer')\n",
    "pop_systems = pop_systems.join(ps3_pivot, rsuffix = '_PS3', how = 'outer')\n",
    "pop_systems = pop_systems.join(x360_pivot, rsuffix = '_X360', how = 'outer')\n",
    "pop_systems = pop_systems.join(ps2_pivot, rsuffix = '_PS2', how = 'outer')\n",
    "pop_systems.fillna(0, inplace = True)\n",
    "pop_systems.rename({'total_sales': 'total_sales_Wii'}, axis=1, inplace=True)\n",
    "pop_systems"
   ]
  },
  {
   "cell_type": "code",
   "execution_count": 35,
   "metadata": {},
   "outputs": [],
   "source": [
    "pop_systems.rename({'total_sales': 'total_sales_Wii'}, axis=1, inplace=True)"
   ]
  },
  {
   "cell_type": "code",
   "execution_count": 36,
   "metadata": {},
   "outputs": [
    {
     "data": {
      "text/plain": [
       "<AxesSubplot:xlabel='year_of_release'>"
      ]
     },
     "execution_count": 36,
     "metadata": {},
     "output_type": "execute_result"
    },
    {
     "data": {
      "image/png": "[encoded data removed]",
      "text/plain": [
       "<Figure size 432x288 with 1 Axes>"
      ]
     },
     "metadata": {
      "needs_background": "light"
     },
     "output_type": "display_data"
    }
   ],
   "source": [
    "pop_systems.plot(kind = 'line')"
   ]
  },
  {
   "cell_type": "markdown",
   "metadata": {},
   "source": [
    "The top 6 most selling consoles were selected. The top 6 is used because after the 6th highest selling console (PS) the value dropped significantly (from 631 to 346, or 45% decrease) to the 7th highest selling console (PS4). As evident by this data, a console will typically sell games for about 10 years. However, the best sales typically occur for 7 years before significantly dropping (falling lower than 50)."
   ]
  },
  {
   "cell_type": "code",
   "execution_count": 37,
   "metadata": {},
   "outputs": [],
   "source": [
    "ps4 = data.query('platform == \"PS4\"')\n",
    "ps4_pivot = ps4.pivot_table(\n",
    "    index = 'year_of_release', values = 'total_sales', aggfunc = 'sum')"
   ]
  },
  {
   "cell_type": "code",
   "execution_count": 38,
   "metadata": {},
   "outputs": [],
   "source": [
    "pc = data.query('platform == \"PC\"')\n",
    "pc_pivot = pc.pivot_table(\n",
    "    index = 'year_of_release', values = 'total_sales', aggfunc = 'sum')"
   ]
  },
  {
   "cell_type": "code",
   "execution_count": 39,
   "metadata": {},
   "outputs": [],
   "source": [
    "gba = data.query('platform == \"GBA\"')\n",
    "gba_pivot = gba.pivot_table(\n",
    "    index = 'year_of_release', values = 'total_sales', aggfunc = 'sum')"
   ]
  },
  {
   "cell_type": "code",
   "execution_count": 40,
   "metadata": {},
   "outputs": [],
   "source": [
    "xb = data.query('platform == \"XB\"')\n",
    "xb_pivot = xb.pivot_table(\n",
    "    index = 'year_of_release', values = 'total_sales', aggfunc = 'sum')"
   ]
  },
  {
   "cell_type": "code",
   "execution_count": 41,
   "metadata": {},
   "outputs": [],
   "source": [
    "psp = data.query('platform == \"PSP\"')\n",
    "psp_pivot = psp.pivot_table(\n",
    "    index = 'year_of_release', values = 'total_sales', aggfunc = 'sum')"
   ]
  },
  {
   "cell_type": "code",
   "execution_count": 42,
   "metadata": {},
   "outputs": [],
   "source": [
    "n64 = data.query('platform == \"N64\"')\n",
    "n64_pivot = n64.pivot_table(\n",
    "    index = 'year_of_release', values = 'total_sales', aggfunc = 'sum')"
   ]
  },
  {
   "cell_type": "code",
   "execution_count": 43,
   "metadata": {},
   "outputs": [],
   "source": [
    "gc = data.query('platform == \"GC\"')\n",
    "gc_pivot = gc.pivot_table(\n",
    "    index = 'year_of_release', values = 'total_sales', aggfunc = 'sum')"
   ]
  },
  {
   "cell_type": "code",
   "execution_count": 44,
   "metadata": {},
   "outputs": [],
   "source": [
    "gb = data.query('platform == \"GB\"')\n",
    "gb_pivot = gb.pivot_table(\n",
    "    index = 'year_of_release', values = 'total_sales', aggfunc = 'sum')"
   ]
  },
  {
   "cell_type": "code",
   "execution_count": 45,
   "metadata": {},
   "outputs": [],
   "source": [
    "xone = data.query('platform == \"XOne\"')\n",
    "xone_pivot = xone.pivot_table(\n",
    "    index = 'year_of_release', values = 'total_sales', aggfunc = 'sum')"
   ]
  },
  {
   "cell_type": "code",
   "execution_count": 46,
   "metadata": {},
   "outputs": [],
   "source": [
    "threeds = data.query('platform == \"3DS\"')\n",
    "threeds_pivot = threeds.pivot_table(\n",
    "    index = 'year_of_release', values = 'total_sales', aggfunc = 'sum')"
   ]
  },
  {
   "cell_type": "code",
   "execution_count": 47,
   "metadata": {},
   "outputs": [],
   "source": [
    "nes = data.query('platform == \"NES\"')\n",
    "nes_pivot = nes.pivot_table(\n",
    "    index = 'year_of_release', values = 'total_sales', aggfunc = 'sum')"
   ]
  },
  {
   "cell_type": "code",
   "execution_count": 48,
   "metadata": {},
   "outputs": [],
   "source": [
    "systems = pop_systems.join(ps4_pivot, rsuffix = '_PS4', how ='outer')\n",
    "systems = systems.join(pc_pivot, rsuffix = '_PC', how ='outer')\n",
    "systems = systems.join(gba_pivot, rsuffix = '_GBA', how ='outer')\n",
    "systems = systems.join(xb_pivot, rsuffix = '_XB', how ='outer')\n",
    "systems = systems.join(psp_pivot, rsuffix = '_PSP', how ='outer')\n",
    "systems = systems.join(n64_pivot, rsuffix = '_N64', how ='outer')\n",
    "systems = systems.join(gc_pivot, rsuffix = '_GC', how ='outer')\n",
    "systems = systems.join(gb_pivot, rsuffix = '_GB', how ='outer')\n",
    "systems = systems.join(xone_pivot, rsuffix = '_xone', how ='outer')\n",
    "systems = systems.join(threeds_pivot, rsuffix = '_3DS', how ='outer')\n",
    "systems = systems.join(nes_pivot, rsuffix = '_NES', how ='outer')"
   ]
  },
  {
   "cell_type": "code",
   "execution_count": 49,
   "metadata": {},
   "outputs": [],
   "source": [
    "systems.rename({'total_sales': 'total_sales_PS4'}, axis=1, inplace=True)"
   ]
  },
  {
   "cell_type": "code",
   "execution_count": 50,
   "metadata": {},
   "outputs": [
    {
     "data": {
      "text/html": [
       "<div>\n",
       "<style scoped>\n",
       "    .dataframe tbody tr th:only-of-type {\n",
       "        vertical-align: middle;\n",
       "    }\n",
       "\n",
       "    .dataframe tbody tr th {\n",
       "        vertical-align: top;\n",
       "    }\n",
       "\n",
       "    .dataframe thead th {\n",
       "        text-align: right;\n",
       "    }\n",
       "</style>\n",
       "<table border=\"1\" class=\"dataframe\">\n",
       "  <thead>\n",
       "    <tr style=\"text-align: right;\">\n",
       "      <th></th>\n",
       "      <th>total_sales_PS</th>\n",
       "      <th>total_sales_DS</th>\n",
       "      <th>total_sales_Wii</th>\n",
       "      <th>total_sales_PS3</th>\n",
       "      <th>total_sales_X360</th>\n",
       "      <th>total_sales_PS2</th>\n",
       "      <th>total_sales_PS4</th>\n",
       "      <th>total_sales_PC</th>\n",
       "      <th>total_sales_GBA</th>\n",
       "      <th>total_sales_XB</th>\n",
       "      <th>total_sales_PSP</th>\n",
       "      <th>total_sales_N64</th>\n",
       "      <th>total_sales_GC</th>\n",
       "      <th>total_sales_GB</th>\n",
       "      <th>total_sales_xone</th>\n",
       "      <th>total_sales_3DS</th>\n",
       "      <th>total_sales_NES</th>\n",
       "    </tr>\n",
       "    <tr>\n",
       "      <th>year_of_release</th>\n",
       "      <th></th>\n",
       "      <th></th>\n",
       "      <th></th>\n",
       "      <th></th>\n",
       "      <th></th>\n",
       "      <th></th>\n",
       "      <th></th>\n",
       "      <th></th>\n",
       "      <th></th>\n",
       "      <th></th>\n",
       "      <th></th>\n",
       "      <th></th>\n",
       "      <th></th>\n",
       "      <th></th>\n",
       "      <th></th>\n",
       "      <th></th>\n",
       "      <th></th>\n",
       "    </tr>\n",
       "  </thead>\n",
       "  <tbody>\n",
       "    <tr>\n",
       "      <th>1983.0</th>\n",
       "      <td>NaN</td>\n",
       "      <td>NaN</td>\n",
       "      <td>NaN</td>\n",
       "      <td>NaN</td>\n",
       "      <td>NaN</td>\n",
       "      <td>NaN</td>\n",
       "      <td>NaN</td>\n",
       "      <td>NaN</td>\n",
       "      <td>NaN</td>\n",
       "      <td>NaN</td>\n",
       "      <td>NaN</td>\n",
       "      <td>NaN</td>\n",
       "      <td>NaN</td>\n",
       "      <td>NaN</td>\n",
       "      <td>NaN</td>\n",
       "      <td>NaN</td>\n",
       "      <td>2.94</td>\n",
       "    </tr>\n",
       "    <tr>\n",
       "      <th>1984.0</th>\n",
       "      <td>NaN</td>\n",
       "      <td>NaN</td>\n",
       "      <td>NaN</td>\n",
       "      <td>NaN</td>\n",
       "      <td>NaN</td>\n",
       "      <td>NaN</td>\n",
       "      <td>NaN</td>\n",
       "      <td>NaN</td>\n",
       "      <td>NaN</td>\n",
       "      <td>NaN</td>\n",
       "      <td>NaN</td>\n",
       "      <td>NaN</td>\n",
       "      <td>NaN</td>\n",
       "      <td>NaN</td>\n",
       "      <td>NaN</td>\n",
       "      <td>NaN</td>\n",
       "      <td>36.51</td>\n",
       "    </tr>\n",
       "    <tr>\n",
       "      <th>1985.0</th>\n",
       "      <td>0.00</td>\n",
       "      <td>0.00</td>\n",
       "      <td>0.00</td>\n",
       "      <td>0.00</td>\n",
       "      <td>0.00</td>\n",
       "      <td>0.00</td>\n",
       "      <td>NaN</td>\n",
       "      <td>0.05</td>\n",
       "      <td>NaN</td>\n",
       "      <td>NaN</td>\n",
       "      <td>NaN</td>\n",
       "      <td>NaN</td>\n",
       "      <td>NaN</td>\n",
       "      <td>NaN</td>\n",
       "      <td>NaN</td>\n",
       "      <td>NaN</td>\n",
       "      <td>39.81</td>\n",
       "    </tr>\n",
       "    <tr>\n",
       "      <th>1986.0</th>\n",
       "      <td>NaN</td>\n",
       "      <td>NaN</td>\n",
       "      <td>NaN</td>\n",
       "      <td>NaN</td>\n",
       "      <td>NaN</td>\n",
       "      <td>NaN</td>\n",
       "      <td>NaN</td>\n",
       "      <td>NaN</td>\n",
       "      <td>NaN</td>\n",
       "      <td>NaN</td>\n",
       "      <td>NaN</td>\n",
       "      <td>NaN</td>\n",
       "      <td>NaN</td>\n",
       "      <td>NaN</td>\n",
       "      <td>NaN</td>\n",
       "      <td>NaN</td>\n",
       "      <td>18.53</td>\n",
       "    </tr>\n",
       "    <tr>\n",
       "      <th>1987.0</th>\n",
       "      <td>NaN</td>\n",
       "      <td>NaN</td>\n",
       "      <td>NaN</td>\n",
       "      <td>NaN</td>\n",
       "      <td>NaN</td>\n",
       "      <td>NaN</td>\n",
       "      <td>NaN</td>\n",
       "      <td>NaN</td>\n",
       "      <td>NaN</td>\n",
       "      <td>NaN</td>\n",
       "      <td>NaN</td>\n",
       "      <td>NaN</td>\n",
       "      <td>NaN</td>\n",
       "      <td>NaN</td>\n",
       "      <td>NaN</td>\n",
       "      <td>NaN</td>\n",
       "      <td>8.32</td>\n",
       "    </tr>\n",
       "    <tr>\n",
       "      <th>1988.0</th>\n",
       "      <td>NaN</td>\n",
       "      <td>NaN</td>\n",
       "      <td>NaN</td>\n",
       "      <td>NaN</td>\n",
       "      <td>NaN</td>\n",
       "      <td>NaN</td>\n",
       "      <td>NaN</td>\n",
       "      <td>0.04</td>\n",
       "      <td>NaN</td>\n",
       "      <td>NaN</td>\n",
       "      <td>NaN</td>\n",
       "      <td>NaN</td>\n",
       "      <td>NaN</td>\n",
       "      <td>1.11</td>\n",
       "      <td>NaN</td>\n",
       "      <td>NaN</td>\n",
       "      <td>30.54</td>\n",
       "    </tr>\n",
       "    <tr>\n",
       "      <th>1989.0</th>\n",
       "      <td>NaN</td>\n",
       "      <td>NaN</td>\n",
       "      <td>NaN</td>\n",
       "      <td>NaN</td>\n",
       "      <td>NaN</td>\n",
       "      <td>NaN</td>\n",
       "      <td>NaN</td>\n",
       "      <td>NaN</td>\n",
       "      <td>NaN</td>\n",
       "      <td>NaN</td>\n",
       "      <td>NaN</td>\n",
       "      <td>NaN</td>\n",
       "      <td>NaN</td>\n",
       "      <td>50.21</td>\n",
       "      <td>NaN</td>\n",
       "      <td>NaN</td>\n",
       "      <td>5.74</td>\n",
       "    </tr>\n",
       "    <tr>\n",
       "      <th>1990.0</th>\n",
       "      <td>NaN</td>\n",
       "      <td>NaN</td>\n",
       "      <td>NaN</td>\n",
       "      <td>NaN</td>\n",
       "      <td>NaN</td>\n",
       "      <td>NaN</td>\n",
       "      <td>NaN</td>\n",
       "      <td>NaN</td>\n",
       "      <td>NaN</td>\n",
       "      <td>NaN</td>\n",
       "      <td>NaN</td>\n",
       "      <td>NaN</td>\n",
       "      <td>NaN</td>\n",
       "      <td>3.99</td>\n",
       "      <td>NaN</td>\n",
       "      <td>NaN</td>\n",
       "      <td>8.11</td>\n",
       "    </tr>\n",
       "    <tr>\n",
       "      <th>1991.0</th>\n",
       "      <td>NaN</td>\n",
       "      <td>NaN</td>\n",
       "      <td>NaN</td>\n",
       "      <td>NaN</td>\n",
       "      <td>NaN</td>\n",
       "      <td>NaN</td>\n",
       "      <td>NaN</td>\n",
       "      <td>NaN</td>\n",
       "      <td>NaN</td>\n",
       "      <td>NaN</td>\n",
       "      <td>NaN</td>\n",
       "      <td>NaN</td>\n",
       "      <td>NaN</td>\n",
       "      <td>2.27</td>\n",
       "      <td>NaN</td>\n",
       "      <td>NaN</td>\n",
       "      <td>3.67</td>\n",
       "    </tr>\n",
       "    <tr>\n",
       "      <th>1992.0</th>\n",
       "      <td>NaN</td>\n",
       "      <td>NaN</td>\n",
       "      <td>NaN</td>\n",
       "      <td>NaN</td>\n",
       "      <td>NaN</td>\n",
       "      <td>NaN</td>\n",
       "      <td>NaN</td>\n",
       "      <td>3.14</td>\n",
       "      <td>NaN</td>\n",
       "      <td>NaN</td>\n",
       "      <td>NaN</td>\n",
       "      <td>NaN</td>\n",
       "      <td>NaN</td>\n",
       "      <td>18.62</td>\n",
       "      <td>NaN</td>\n",
       "      <td>NaN</td>\n",
       "      <td>1.04</td>\n",
       "    </tr>\n",
       "    <tr>\n",
       "      <th>1993.0</th>\n",
       "      <td>NaN</td>\n",
       "      <td>NaN</td>\n",
       "      <td>NaN</td>\n",
       "      <td>NaN</td>\n",
       "      <td>NaN</td>\n",
       "      <td>NaN</td>\n",
       "      <td>NaN</td>\n",
       "      <td>NaN</td>\n",
       "      <td>NaN</td>\n",
       "      <td>NaN</td>\n",
       "      <td>NaN</td>\n",
       "      <td>NaN</td>\n",
       "      <td>NaN</td>\n",
       "      <td>NaN</td>\n",
       "      <td>NaN</td>\n",
       "      <td>NaN</td>\n",
       "      <td>2.50</td>\n",
       "    </tr>\n",
       "    <tr>\n",
       "      <th>1994.0</th>\n",
       "      <td>3.76</td>\n",
       "      <td>0.00</td>\n",
       "      <td>0.00</td>\n",
       "      <td>0.00</td>\n",
       "      <td>0.00</td>\n",
       "      <td>0.00</td>\n",
       "      <td>NaN</td>\n",
       "      <td>13.33</td>\n",
       "      <td>NaN</td>\n",
       "      <td>NaN</td>\n",
       "      <td>NaN</td>\n",
       "      <td>NaN</td>\n",
       "      <td>NaN</td>\n",
       "      <td>9.59</td>\n",
       "      <td>NaN</td>\n",
       "      <td>NaN</td>\n",
       "      <td>0.00</td>\n",
       "    </tr>\n",
       "    <tr>\n",
       "      <th>1995.0</th>\n",
       "      <td>28.38</td>\n",
       "      <td>0.00</td>\n",
       "      <td>0.00</td>\n",
       "      <td>0.00</td>\n",
       "      <td>0.00</td>\n",
       "      <td>0.00</td>\n",
       "      <td>NaN</td>\n",
       "      <td>4.45</td>\n",
       "      <td>NaN</td>\n",
       "      <td>NaN</td>\n",
       "      <td>NaN</td>\n",
       "      <td>NaN</td>\n",
       "      <td>NaN</td>\n",
       "      <td>0.93</td>\n",
       "      <td>NaN</td>\n",
       "      <td>NaN</td>\n",
       "      <td>NaN</td>\n",
       "    </tr>\n",
       "    <tr>\n",
       "      <th>1996.0</th>\n",
       "      <td>82.42</td>\n",
       "      <td>0.00</td>\n",
       "      <td>0.00</td>\n",
       "      <td>0.00</td>\n",
       "      <td>0.00</td>\n",
       "      <td>0.00</td>\n",
       "      <td>NaN</td>\n",
       "      <td>10.92</td>\n",
       "      <td>NaN</td>\n",
       "      <td>NaN</td>\n",
       "      <td>NaN</td>\n",
       "      <td>28.91</td>\n",
       "      <td>NaN</td>\n",
       "      <td>24.21</td>\n",
       "      <td>NaN</td>\n",
       "      <td>NaN</td>\n",
       "      <td>NaN</td>\n",
       "    </tr>\n",
       "    <tr>\n",
       "      <th>1997.0</th>\n",
       "      <td>110.94</td>\n",
       "      <td>0.00</td>\n",
       "      <td>0.00</td>\n",
       "      <td>0.00</td>\n",
       "      <td>0.00</td>\n",
       "      <td>0.00</td>\n",
       "      <td>NaN</td>\n",
       "      <td>11.41</td>\n",
       "      <td>NaN</td>\n",
       "      <td>NaN</td>\n",
       "      <td>NaN</td>\n",
       "      <td>35.75</td>\n",
       "      <td>NaN</td>\n",
       "      <td>3.23</td>\n",
       "      <td>NaN</td>\n",
       "      <td>NaN</td>\n",
       "      <td>NaN</td>\n",
       "    </tr>\n",
       "    <tr>\n",
       "      <th>1998.0</th>\n",
       "      <td>150.06</td>\n",
       "      <td>0.00</td>\n",
       "      <td>0.00</td>\n",
       "      <td>0.00</td>\n",
       "      <td>0.00</td>\n",
       "      <td>0.00</td>\n",
       "      <td>NaN</td>\n",
       "      <td>3.27</td>\n",
       "      <td>NaN</td>\n",
       "      <td>NaN</td>\n",
       "      <td>NaN</td>\n",
       "      <td>43.66</td>\n",
       "      <td>NaN</td>\n",
       "      <td>18.26</td>\n",
       "      <td>NaN</td>\n",
       "      <td>NaN</td>\n",
       "      <td>NaN</td>\n",
       "    </tr>\n",
       "    <tr>\n",
       "      <th>1999.0</th>\n",
       "      <td>124.38</td>\n",
       "      <td>0.00</td>\n",
       "      <td>0.00</td>\n",
       "      <td>0.00</td>\n",
       "      <td>0.00</td>\n",
       "      <td>0.00</td>\n",
       "      <td>NaN</td>\n",
       "      <td>4.85</td>\n",
       "      <td>NaN</td>\n",
       "      <td>NaN</td>\n",
       "      <td>NaN</td>\n",
       "      <td>50.15</td>\n",
       "      <td>NaN</td>\n",
       "      <td>27.38</td>\n",
       "      <td>NaN</td>\n",
       "      <td>NaN</td>\n",
       "      <td>NaN</td>\n",
       "    </tr>\n",
       "    <tr>\n",
       "      <th>2000.0</th>\n",
       "      <td>87.05</td>\n",
       "      <td>0.00</td>\n",
       "      <td>0.00</td>\n",
       "      <td>0.00</td>\n",
       "      <td>0.00</td>\n",
       "      <td>33.88</td>\n",
       "      <td>NaN</td>\n",
       "      <td>4.84</td>\n",
       "      <td>0.07</td>\n",
       "      <td>1.03</td>\n",
       "      <td>NaN</td>\n",
       "      <td>27.17</td>\n",
       "      <td>NaN</td>\n",
       "      <td>12.89</td>\n",
       "      <td>NaN</td>\n",
       "      <td>NaN</td>\n",
       "      <td>NaN</td>\n",
       "    </tr>\n",
       "    <tr>\n",
       "      <th>2001.0</th>\n",
       "      <td>33.90</td>\n",
       "      <td>0.00</td>\n",
       "      <td>0.00</td>\n",
       "      <td>0.00</td>\n",
       "      <td>0.00</td>\n",
       "      <td>165.42</td>\n",
       "      <td>NaN</td>\n",
       "      <td>5.62</td>\n",
       "      <td>55.98</td>\n",
       "      <td>22.52</td>\n",
       "      <td>NaN</td>\n",
       "      <td>2.84</td>\n",
       "      <td>23.27</td>\n",
       "      <td>4.78</td>\n",
       "      <td>NaN</td>\n",
       "      <td>NaN</td>\n",
       "      <td>NaN</td>\n",
       "    </tr>\n",
       "    <tr>\n",
       "      <th>2002.0</th>\n",
       "      <td>5.39</td>\n",
       "      <td>0.00</td>\n",
       "      <td>0.00</td>\n",
       "      <td>0.00</td>\n",
       "      <td>0.00</td>\n",
       "      <td>205.25</td>\n",
       "      <td>NaN</td>\n",
       "      <td>8.93</td>\n",
       "      <td>63.76</td>\n",
       "      <td>49.21</td>\n",
       "      <td>NaN</td>\n",
       "      <td>0.08</td>\n",
       "      <td>47.86</td>\n",
       "      <td>NaN</td>\n",
       "      <td>NaN</td>\n",
       "      <td>NaN</td>\n",
       "      <td>NaN</td>\n",
       "    </tr>\n",
       "    <tr>\n",
       "      <th>2003.0</th>\n",
       "      <td>2.21</td>\n",
       "      <td>0.00</td>\n",
       "      <td>0.00</td>\n",
       "      <td>0.00</td>\n",
       "      <td>0.00</td>\n",
       "      <td>186.12</td>\n",
       "      <td>NaN</td>\n",
       "      <td>9.35</td>\n",
       "      <td>49.44</td>\n",
       "      <td>56.65</td>\n",
       "      <td>NaN</td>\n",
       "      <td>NaN</td>\n",
       "      <td>45.49</td>\n",
       "      <td>NaN</td>\n",
       "      <td>NaN</td>\n",
       "      <td>NaN</td>\n",
       "      <td>NaN</td>\n",
       "    </tr>\n",
       "    <tr>\n",
       "      <th>2004.0</th>\n",
       "      <td>0.00</td>\n",
       "      <td>14.98</td>\n",
       "      <td>0.00</td>\n",
       "      <td>0.00</td>\n",
       "      <td>0.00</td>\n",
       "      <td>232.49</td>\n",
       "      <td>NaN</td>\n",
       "      <td>10.54</td>\n",
       "      <td>66.20</td>\n",
       "      <td>67.35</td>\n",
       "      <td>6.11</td>\n",
       "      <td>NaN</td>\n",
       "      <td>26.60</td>\n",
       "      <td>NaN</td>\n",
       "      <td>NaN</td>\n",
       "      <td>NaN</td>\n",
       "      <td>NaN</td>\n",
       "    </tr>\n",
       "    <tr>\n",
       "      <th>2005.0</th>\n",
       "      <td>0.00</td>\n",
       "      <td>111.08</td>\n",
       "      <td>0.00</td>\n",
       "      <td>0.00</td>\n",
       "      <td>8.61</td>\n",
       "      <td>164.76</td>\n",
       "      <td>NaN</td>\n",
       "      <td>4.66</td>\n",
       "      <td>31.17</td>\n",
       "      <td>50.79</td>\n",
       "      <td>47.05</td>\n",
       "      <td>NaN</td>\n",
       "      <td>25.72</td>\n",
       "      <td>NaN</td>\n",
       "      <td>NaN</td>\n",
       "      <td>NaN</td>\n",
       "      <td>NaN</td>\n",
       "    </tr>\n",
       "    <tr>\n",
       "      <th>2006.0</th>\n",
       "      <td>0.00</td>\n",
       "      <td>89.42</td>\n",
       "      <td>141.52</td>\n",
       "      <td>23.54</td>\n",
       "      <td>54.84</td>\n",
       "      <td>100.02</td>\n",
       "      <td>NaN</td>\n",
       "      <td>3.15</td>\n",
       "      <td>3.86</td>\n",
       "      <td>10.36</td>\n",
       "      <td>59.90</td>\n",
       "      <td>NaN</td>\n",
       "      <td>11.31</td>\n",
       "      <td>NaN</td>\n",
       "      <td>NaN</td>\n",
       "      <td>NaN</td>\n",
       "      <td>NaN</td>\n",
       "    </tr>\n",
       "    <tr>\n",
       "      <th>2007.0</th>\n",
       "      <td>0.00</td>\n",
       "      <td>131.22</td>\n",
       "      <td>154.20</td>\n",
       "      <td>79.68</td>\n",
       "      <td>102.62</td>\n",
       "      <td>89.86</td>\n",
       "      <td>NaN</td>\n",
       "      <td>9.58</td>\n",
       "      <td>3.45</td>\n",
       "      <td>0.57</td>\n",
       "      <td>49.76</td>\n",
       "      <td>NaN</td>\n",
       "      <td>0.27</td>\n",
       "      <td>NaN</td>\n",
       "      <td>NaN</td>\n",
       "      <td>NaN</td>\n",
       "      <td>NaN</td>\n",
       "    </tr>\n",
       "    <tr>\n",
       "      <th>2008.0</th>\n",
       "      <td>0.00</td>\n",
       "      <td>132.24</td>\n",
       "      <td>173.62</td>\n",
       "      <td>129.44</td>\n",
       "      <td>146.07</td>\n",
       "      <td>67.48</td>\n",
       "      <td>NaN</td>\n",
       "      <td>14.41</td>\n",
       "      <td>NaN</td>\n",
       "      <td>0.19</td>\n",
       "      <td>29.22</td>\n",
       "      <td>NaN</td>\n",
       "      <td>NaN</td>\n",
       "      <td>NaN</td>\n",
       "      <td>NaN</td>\n",
       "      <td>NaN</td>\n",
       "      <td>NaN</td>\n",
       "    </tr>\n",
       "    <tr>\n",
       "      <th>2009.0</th>\n",
       "      <td>0.00</td>\n",
       "      <td>103.88</td>\n",
       "      <td>207.94</td>\n",
       "      <td>139.75</td>\n",
       "      <td>129.37</td>\n",
       "      <td>34.62</td>\n",
       "      <td>NaN</td>\n",
       "      <td>18.90</td>\n",
       "      <td>NaN</td>\n",
       "      <td>NaN</td>\n",
       "      <td>35.91</td>\n",
       "      <td>NaN</td>\n",
       "      <td>NaN</td>\n",
       "      <td>NaN</td>\n",
       "      <td>NaN</td>\n",
       "      <td>NaN</td>\n",
       "      <td>NaN</td>\n",
       "    </tr>\n",
       "    <tr>\n",
       "      <th>2010.0</th>\n",
       "      <td>0.00</td>\n",
       "      <td>70.70</td>\n",
       "      <td>129.39</td>\n",
       "      <td>153.11</td>\n",
       "      <td>182.15</td>\n",
       "      <td>6.13</td>\n",
       "      <td>NaN</td>\n",
       "      <td>27.25</td>\n",
       "      <td>NaN</td>\n",
       "      <td>NaN</td>\n",
       "      <td>20.48</td>\n",
       "      <td>NaN</td>\n",
       "      <td>NaN</td>\n",
       "      <td>NaN</td>\n",
       "      <td>NaN</td>\n",
       "      <td>NaN</td>\n",
       "      <td>NaN</td>\n",
       "    </tr>\n",
       "    <tr>\n",
       "      <th>2011.0</th>\n",
       "      <td>0.00</td>\n",
       "      <td>23.74</td>\n",
       "      <td>59.35</td>\n",
       "      <td>164.24</td>\n",
       "      <td>154.79</td>\n",
       "      <td>0.46</td>\n",
       "      <td>NaN</td>\n",
       "      <td>40.36</td>\n",
       "      <td>NaN</td>\n",
       "      <td>NaN</td>\n",
       "      <td>5.09</td>\n",
       "      <td>NaN</td>\n",
       "      <td>NaN</td>\n",
       "      <td>NaN</td>\n",
       "      <td>NaN</td>\n",
       "      <td>54.77</td>\n",
       "      <td>NaN</td>\n",
       "    </tr>\n",
       "    <tr>\n",
       "      <th>2012.0</th>\n",
       "      <td>0.00</td>\n",
       "      <td>7.88</td>\n",
       "      <td>19.86</td>\n",
       "      <td>111.91</td>\n",
       "      <td>106.97</td>\n",
       "      <td>0.00</td>\n",
       "      <td>NaN</td>\n",
       "      <td>26.03</td>\n",
       "      <td>NaN</td>\n",
       "      <td>NaN</td>\n",
       "      <td>0.64</td>\n",
       "      <td>NaN</td>\n",
       "      <td>NaN</td>\n",
       "      <td>NaN</td>\n",
       "      <td>NaN</td>\n",
       "      <td>33.97</td>\n",
       "      <td>NaN</td>\n",
       "    </tr>\n",
       "    <tr>\n",
       "      <th>2013.0</th>\n",
       "      <td>0.00</td>\n",
       "      <td>1.66</td>\n",
       "      <td>9.26</td>\n",
       "      <td>118.52</td>\n",
       "      <td>95.91</td>\n",
       "      <td>0.00</td>\n",
       "      <td>28.92</td>\n",
       "      <td>13.49</td>\n",
       "      <td>NaN</td>\n",
       "      <td>NaN</td>\n",
       "      <td>0.25</td>\n",
       "      <td>NaN</td>\n",
       "      <td>NaN</td>\n",
       "      <td>NaN</td>\n",
       "      <td>20.69</td>\n",
       "      <td>35.60</td>\n",
       "      <td>NaN</td>\n",
       "    </tr>\n",
       "    <tr>\n",
       "      <th>2014.0</th>\n",
       "      <td>0.00</td>\n",
       "      <td>0.00</td>\n",
       "      <td>4.05</td>\n",
       "      <td>48.39</td>\n",
       "      <td>37.79</td>\n",
       "      <td>0.00</td>\n",
       "      <td>112.81</td>\n",
       "      <td>14.18</td>\n",
       "      <td>NaN</td>\n",
       "      <td>NaN</td>\n",
       "      <td>0.00</td>\n",
       "      <td>NaN</td>\n",
       "      <td>NaN</td>\n",
       "      <td>NaN</td>\n",
       "      <td>58.74</td>\n",
       "      <td>25.08</td>\n",
       "      <td>NaN</td>\n",
       "    </tr>\n",
       "    <tr>\n",
       "      <th>2015.0</th>\n",
       "      <td>0.00</td>\n",
       "      <td>0.00</td>\n",
       "      <td>1.23</td>\n",
       "      <td>15.27</td>\n",
       "      <td>13.06</td>\n",
       "      <td>0.00</td>\n",
       "      <td>131.05</td>\n",
       "      <td>9.11</td>\n",
       "      <td>NaN</td>\n",
       "      <td>NaN</td>\n",
       "      <td>0.00</td>\n",
       "      <td>NaN</td>\n",
       "      <td>NaN</td>\n",
       "      <td>NaN</td>\n",
       "      <td>65.44</td>\n",
       "      <td>13.29</td>\n",
       "      <td>NaN</td>\n",
       "    </tr>\n",
       "    <tr>\n",
       "      <th>2016.0</th>\n",
       "      <td>0.00</td>\n",
       "      <td>0.00</td>\n",
       "      <td>0.19</td>\n",
       "      <td>2.67</td>\n",
       "      <td>1.64</td>\n",
       "      <td>0.00</td>\n",
       "      <td>73.75</td>\n",
       "      <td>5.61</td>\n",
       "      <td>NaN</td>\n",
       "      <td>NaN</td>\n",
       "      <td>NaN</td>\n",
       "      <td>NaN</td>\n",
       "      <td>NaN</td>\n",
       "      <td>NaN</td>\n",
       "      <td>28.38</td>\n",
       "      <td>7.75</td>\n",
       "      <td>NaN</td>\n",
       "    </tr>\n",
       "  </tbody>\n",
       "</table>\n",
       "</div>"
      ],
      "text/plain": [
       "                 total_sales_PS  total_sales_DS  total_sales_Wii  \\\n",
       "year_of_release                                                    \n",
       "1983.0                      NaN             NaN              NaN   \n",
       "1984.0                      NaN             NaN              NaN   \n",
       "1985.0                     0.00            0.00             0.00   \n",
       "1986.0                      NaN             NaN              NaN   \n",
       "1987.0                      NaN             NaN              NaN   \n",
       "1988.0                      NaN             NaN              NaN   \n",
       "1989.0                      NaN             NaN              NaN   \n",
       "1990.0                      NaN             NaN              NaN   \n",
       "1991.0                      NaN             NaN              NaN   \n",
       "1992.0                      NaN             NaN              NaN   \n",
       "1993.0                      NaN             NaN              NaN   \n",
       "1994.0                     3.76            0.00             0.00   \n",
       "1995.0                    28.38            0.00             0.00   \n",
       "1996.0                    82.42            0.00             0.00   \n",
       "1997.0                   110.94            0.00             0.00   \n",
       "1998.0                   150.06            0.00             0.00   \n",
       "1999.0                   124.38            0.00             0.00   \n",
       "2000.0                    87.05            0.00             0.00   \n",
       "2001.0                    33.90            0.00             0.00   \n",
       "2002.0                     5.39            0.00             0.00   \n",
       "2003.0                     2.21            0.00             0.00   \n",
       "2004.0                     0.00           14.98             0.00   \n",
       "2005.0                     0.00          111.08             0.00   \n",
       "2006.0                     0.00           89.42           141.52   \n",
       "2007.0                     0.00          131.22           154.20   \n",
       "2008.0                     0.00          132.24           173.62   \n",
       "2009.0                     0.00          103.88           207.94   \n",
       "2010.0                     0.00           70.70           129.39   \n",
       "2011.0                     0.00           23.74            59.35   \n",
       "2012.0                     0.00            7.88            19.86   \n",
       "2013.0                     0.00            1.66             9.26   \n",
       "2014.0                     0.00            0.00             4.05   \n",
       "2015.0                     0.00            0.00             1.23   \n",
       "2016.0                     0.00            0.00             0.19   \n",
       "\n",
       "                 total_sales_PS3  total_sales_X360  total_sales_PS2  \\\n",
       "year_of_release                                                       \n",
       "1983.0                       NaN               NaN              NaN   \n",
       "1984.0                       NaN               NaN              NaN   \n",
       "1985.0                      0.00              0.00             0.00   \n",
       "1986.0                       NaN               NaN              NaN   \n",
       "1987.0                       NaN               NaN              NaN   \n",
       "1988.0                       NaN               NaN              NaN   \n",
       "1989.0                       NaN               NaN              NaN   \n",
       "1990.0                       NaN               NaN              NaN   \n",
       "1991.0                       NaN               NaN              NaN   \n",
       "1992.0                       NaN               NaN              NaN   \n",
       "1993.0                       NaN               NaN              NaN   \n",
       "1994.0                      0.00              0.00             0.00   \n",
       "1995.0                      0.00              0.00             0.00   \n",
       "1996.0                      0.00              0.00             0.00   \n",
       "1997.0                      0.00              0.00             0.00   \n",
       "1998.0                      0.00              0.00             0.00   \n",
       "1999.0                      0.00              0.00             0.00   \n",
       "2000.0                      0.00              0.00            33.88   \n",
       "2001.0                      0.00              0.00           165.42   \n",
       "2002.0                      0.00              0.00           205.25   \n",
       "2003.0                      0.00              0.00           186.12   \n",
       "2004.0                      0.00              0.00           232.49   \n",
       "2005.0                      0.00              8.61           164.76   \n",
       "2006.0                     23.54             54.84           100.02   \n",
       "2007.0                     79.68            102.62            89.86   \n",
       "2008.0                    129.44            146.07            67.48   \n",
       "2009.0                    139.75            129.37            34.62   \n",
       "2010.0                    153.11            182.15             6.13   \n",
       "2011.0                    164.24            154.79             0.46   \n",
       "2012.0                    111.91            106.97             0.00   \n",
       "2013.0                    118.52             95.91             0.00   \n",
       "2014.0                     48.39             37.79             0.00   \n",
       "2015.0                     15.27             13.06             0.00   \n",
       "2016.0                      2.67              1.64             0.00   \n",
       "\n",
       "                 total_sales_PS4  total_sales_PC  total_sales_GBA  \\\n",
       "year_of_release                                                     \n",
       "1983.0                       NaN             NaN              NaN   \n",
       "1984.0                       NaN             NaN              NaN   \n",
       "1985.0                       NaN            0.05              NaN   \n",
       "1986.0                       NaN             NaN              NaN   \n",
       "1987.0                       NaN             NaN              NaN   \n",
       "1988.0                       NaN            0.04              NaN   \n",
       "1989.0                       NaN             NaN              NaN   \n",
       "1990.0                       NaN             NaN              NaN   \n",
       "1991.0                       NaN             NaN              NaN   \n",
       "1992.0                       NaN            3.14              NaN   \n",
       "1993.0                       NaN             NaN              NaN   \n",
       "1994.0                       NaN           13.33              NaN   \n",
       "1995.0                       NaN            4.45              NaN   \n",
       "1996.0                       NaN           10.92              NaN   \n",
       "1997.0                       NaN           11.41              NaN   \n",
       "1998.0                       NaN            3.27              NaN   \n",
       "1999.0                       NaN            4.85              NaN   \n",
       "2000.0                       NaN            4.84             0.07   \n",
       "2001.0                       NaN            5.62            55.98   \n",
       "2002.0                       NaN            8.93            63.76   \n",
       "2003.0                       NaN            9.35            49.44   \n",
       "2004.0                       NaN           10.54            66.20   \n",
       "2005.0                       NaN            4.66            31.17   \n",
       "2006.0                       NaN            3.15             3.86   \n",
       "2007.0                       NaN            9.58             3.45   \n",
       "2008.0                       NaN           14.41              NaN   \n",
       "2009.0                       NaN           18.90              NaN   \n",
       "2010.0                       NaN           27.25              NaN   \n",
       "2011.0                       NaN           40.36              NaN   \n",
       "2012.0                       NaN           26.03              NaN   \n",
       "2013.0                     28.92           13.49              NaN   \n",
       "2014.0                    112.81           14.18              NaN   \n",
       "2015.0                    131.05            9.11              NaN   \n",
       "2016.0                     73.75            5.61              NaN   \n",
       "\n",
       "                 total_sales_XB  total_sales_PSP  total_sales_N64  \\\n",
       "year_of_release                                                     \n",
       "1983.0                      NaN              NaN              NaN   \n",
       "1984.0                      NaN              NaN              NaN   \n",
       "1985.0                      NaN              NaN              NaN   \n",
       "1986.0                      NaN              NaN              NaN   \n",
       "1987.0                      NaN              NaN              NaN   \n",
       "1988.0                      NaN              NaN              NaN   \n",
       "1989.0                      NaN              NaN              NaN   \n",
       "1990.0                      NaN              NaN              NaN   \n",
       "1991.0                      NaN              NaN              NaN   \n",
       "1992.0                      NaN              NaN              NaN   \n",
       "1993.0                      NaN              NaN              NaN   \n",
       "1994.0                      NaN              NaN              NaN   \n",
       "1995.0                      NaN              NaN              NaN   \n",
       "1996.0                      NaN              NaN            28.91   \n",
       "1997.0                      NaN              NaN            35.75   \n",
       "1998.0                      NaN              NaN            43.66   \n",
       "1999.0                      NaN              NaN            50.15   \n",
       "2000.0                     1.03              NaN            27.17   \n",
       "2001.0                    22.52              NaN             2.84   \n",
       "2002.0                    49.21              NaN             0.08   \n",
       "2003.0                    56.65              NaN              NaN   \n",
       "2004.0                    67.35             6.11              NaN   \n",
       "2005.0                    50.79            47.05              NaN   \n",
       "2006.0                    10.36            59.90              NaN   \n",
       "2007.0                     0.57            49.76              NaN   \n",
       "2008.0                     0.19            29.22              NaN   \n",
       "2009.0                      NaN            35.91              NaN   \n",
       "2010.0                      NaN            20.48              NaN   \n",
       "2011.0                      NaN             5.09              NaN   \n",
       "2012.0                      NaN             0.64              NaN   \n",
       "2013.0                      NaN             0.25              NaN   \n",
       "2014.0                      NaN             0.00              NaN   \n",
       "2015.0                      NaN             0.00              NaN   \n",
       "2016.0                      NaN              NaN              NaN   \n",
       "\n",
       "                 total_sales_GC  total_sales_GB  total_sales_xone  \\\n",
       "year_of_release                                                     \n",
       "1983.0                      NaN             NaN               NaN   \n",
       "1984.0                      NaN             NaN               NaN   \n",
       "1985.0                      NaN             NaN               NaN   \n",
       "1986.0                      NaN             NaN               NaN   \n",
       "1987.0                      NaN             NaN               NaN   \n",
       "1988.0                      NaN            1.11               NaN   \n",
       "1989.0                      NaN           50.21               NaN   \n",
       "1990.0                      NaN            3.99               NaN   \n",
       "1991.0                      NaN            2.27               NaN   \n",
       "1992.0                      NaN           18.62               NaN   \n",
       "1993.0                      NaN             NaN               NaN   \n",
       "1994.0                      NaN            9.59               NaN   \n",
       "1995.0                      NaN            0.93               NaN   \n",
       "1996.0                      NaN           24.21               NaN   \n",
       "1997.0                      NaN            3.23               NaN   \n",
       "1998.0                      NaN           18.26               NaN   \n",
       "1999.0                      NaN           27.38               NaN   \n",
       "2000.0                      NaN           12.89               NaN   \n",
       "2001.0                    23.27            4.78               NaN   \n",
       "2002.0                    47.86             NaN               NaN   \n",
       "2003.0                    45.49             NaN               NaN   \n",
       "2004.0                    26.60             NaN               NaN   \n",
       "2005.0                    25.72             NaN               NaN   \n",
       "2006.0                    11.31             NaN               NaN   \n",
       "2007.0                     0.27             NaN               NaN   \n",
       "2008.0                      NaN             NaN               NaN   \n",
       "2009.0                      NaN             NaN               NaN   \n",
       "2010.0                      NaN             NaN               NaN   \n",
       "2011.0                      NaN             NaN               NaN   \n",
       "2012.0                      NaN             NaN               NaN   \n",
       "2013.0                      NaN             NaN             20.69   \n",
       "2014.0                      NaN             NaN             58.74   \n",
       "2015.0                      NaN             NaN             65.44   \n",
       "2016.0                      NaN             NaN             28.38   \n",
       "\n",
       "                 total_sales_3DS  total_sales_NES  \n",
       "year_of_release                                    \n",
       "1983.0                       NaN             2.94  \n",
       "1984.0                       NaN            36.51  \n",
       "1985.0                       NaN            39.81  \n",
       "1986.0                       NaN            18.53  \n",
       "1987.0                       NaN             8.32  \n",
       "1988.0                       NaN            30.54  \n",
       "1989.0                       NaN             5.74  \n",
       "1990.0                       NaN             8.11  \n",
       "1991.0                       NaN             3.67  \n",
       "1992.0                       NaN             1.04  \n",
       "1993.0                       NaN             2.50  \n",
       "1994.0                       NaN             0.00  \n",
       "1995.0                       NaN              NaN  \n",
       "1996.0                       NaN              NaN  \n",
       "1997.0                       NaN              NaN  \n",
       "1998.0                       NaN              NaN  \n",
       "1999.0                       NaN              NaN  \n",
       "2000.0                       NaN              NaN  \n",
       "2001.0                       NaN              NaN  \n",
       "2002.0                       NaN              NaN  \n",
       "2003.0                       NaN              NaN  \n",
       "2004.0                       NaN              NaN  \n",
       "2005.0                       NaN              NaN  \n",
       "2006.0                       NaN              NaN  \n",
       "2007.0                       NaN              NaN  \n",
       "2008.0                       NaN              NaN  \n",
       "2009.0                       NaN              NaN  \n",
       "2010.0                       NaN              NaN  \n",
       "2011.0                     54.77              NaN  \n",
       "2012.0                     33.97              NaN  \n",
       "2013.0                     35.60              NaN  \n",
       "2014.0                     25.08              NaN  \n",
       "2015.0                     13.29              NaN  \n",
       "2016.0                      7.75              NaN  "
      ]
     },
     "execution_count": 50,
     "metadata": {},
     "output_type": "execute_result"
    }
   ],
   "source": [
    "systems"
   ]
  },
  {
   "cell_type": "code",
   "execution_count": 51,
   "metadata": {},
   "outputs": [
    {
     "data": {
      "text/plain": [
       "<AxesSubplot:xlabel='year_of_release'>"
      ]
     },
     "execution_count": 51,
     "metadata": {},
     "output_type": "execute_result"
    },
    {
     "data": {
      "image/png": "[encoded data removed]",
      "text/plain": [
       "<Figure size 720x720 with 1 Axes>"
      ]
     },
     "metadata": {
      "needs_background": "light"
     },
     "output_type": "display_data"
    }
   ],
   "source": [
    "systems.plot(kind = 'line', figsize = (10,10))"
   ]
  },
  {
   "cell_type": "markdown",
   "metadata": {},
   "source": [
    "The remainder of the consoles with non-negligible amounts of sales were added to this plot in order to determine what are the most successful consoles of 2016. It appears that the data for 2016 is incomplete as there are not as many data points as previous years. Based on the data available, consoles that are seeing a decline in sales are Xbox 360, PS3, and Wii. the consoles that are most successful and are currently growing in sales are PS4 and Xbox One. For this report Xbox One and PS4 will be analyzed as the most profitable game systems and data from 2013-2015 will be considered."
   ]
  },
  {
   "cell_type": "code",
   "execution_count": 52,
   "metadata": {},
   "outputs": [
    {
     "data": {
      "text/html": [
       "<div>\n",
       "<style scoped>\n",
       "    .dataframe tbody tr th:only-of-type {\n",
       "        vertical-align: middle;\n",
       "    }\n",
       "\n",
       "    .dataframe tbody tr th {\n",
       "        vertical-align: top;\n",
       "    }\n",
       "\n",
       "    .dataframe thead th {\n",
       "        text-align: right;\n",
       "    }\n",
       "</style>\n",
       "<table border=\"1\" class=\"dataframe\">\n",
       "  <thead>\n",
       "    <tr style=\"text-align: right;\">\n",
       "      <th></th>\n",
       "      <th>name</th>\n",
       "      <th>platform</th>\n",
       "      <th>year_of_release</th>\n",
       "      <th>genre</th>\n",
       "      <th>na_sales</th>\n",
       "      <th>eu_sales</th>\n",
       "      <th>jp_sales</th>\n",
       "      <th>other_sales</th>\n",
       "      <th>critic_score</th>\n",
       "      <th>user_score</th>\n",
       "      <th>rating</th>\n",
       "      <th>total_sales</th>\n",
       "    </tr>\n",
       "  </thead>\n",
       "  <tbody>\n",
       "    <tr>\n",
       "      <th>16</th>\n",
       "      <td>Grand Theft Auto V</td>\n",
       "      <td>PS3</td>\n",
       "      <td>2013.0</td>\n",
       "      <td>Action</td>\n",
       "      <td>7.02</td>\n",
       "      <td>9.09</td>\n",
       "      <td>0.98</td>\n",
       "      <td>3.96</td>\n",
       "      <td>97.0</td>\n",
       "      <td>8.2</td>\n",
       "      <td>M</td>\n",
       "      <td>24.03</td>\n",
       "    </tr>\n",
       "    <tr>\n",
       "      <th>23</th>\n",
       "      <td>Grand Theft Auto V</td>\n",
       "      <td>X360</td>\n",
       "      <td>2013.0</td>\n",
       "      <td>Action</td>\n",
       "      <td>9.66</td>\n",
       "      <td>5.14</td>\n",
       "      <td>0.06</td>\n",
       "      <td>1.41</td>\n",
       "      <td>97.0</td>\n",
       "      <td>8.1</td>\n",
       "      <td>M</td>\n",
       "      <td>17.62</td>\n",
       "    </tr>\n",
       "    <tr>\n",
       "      <th>31</th>\n",
       "      <td>Call of Duty: Black Ops 3</td>\n",
       "      <td>PS4</td>\n",
       "      <td>2015.0</td>\n",
       "      <td>Shooter</td>\n",
       "      <td>6.03</td>\n",
       "      <td>5.86</td>\n",
       "      <td>0.36</td>\n",
       "      <td>2.38</td>\n",
       "      <td>101.0</td>\n",
       "      <td>11.0</td>\n",
       "      <td>Z</td>\n",
       "      <td>16.65</td>\n",
       "    </tr>\n",
       "    <tr>\n",
       "      <th>33</th>\n",
       "      <td>Pokemon X/Pokemon Y</td>\n",
       "      <td>3DS</td>\n",
       "      <td>2013.0</td>\n",
       "      <td>Role-Playing</td>\n",
       "      <td>5.28</td>\n",
       "      <td>4.19</td>\n",
       "      <td>4.35</td>\n",
       "      <td>0.78</td>\n",
       "      <td>101.0</td>\n",
       "      <td>11.0</td>\n",
       "      <td>Z</td>\n",
       "      <td>11.03</td>\n",
       "    </tr>\n",
       "    <tr>\n",
       "      <th>42</th>\n",
       "      <td>Grand Theft Auto V</td>\n",
       "      <td>PS4</td>\n",
       "      <td>2014.0</td>\n",
       "      <td>Action</td>\n",
       "      <td>3.96</td>\n",
       "      <td>6.31</td>\n",
       "      <td>0.38</td>\n",
       "      <td>1.97</td>\n",
       "      <td>97.0</td>\n",
       "      <td>8.3</td>\n",
       "      <td>M</td>\n",
       "      <td>14.21</td>\n",
       "    </tr>\n",
       "    <tr>\n",
       "      <th>...</th>\n",
       "      <td>...</td>\n",
       "      <td>...</td>\n",
       "      <td>...</td>\n",
       "      <td>...</td>\n",
       "      <td>...</td>\n",
       "      <td>...</td>\n",
       "      <td>...</td>\n",
       "      <td>...</td>\n",
       "      <td>...</td>\n",
       "      <td>...</td>\n",
       "      <td>...</td>\n",
       "      <td>...</td>\n",
       "    </tr>\n",
       "    <tr>\n",
       "      <th>16703</th>\n",
       "      <td>Strawberry Nauts</td>\n",
       "      <td>PSV</td>\n",
       "      <td>2016.0</td>\n",
       "      <td>Adventure</td>\n",
       "      <td>0.00</td>\n",
       "      <td>0.00</td>\n",
       "      <td>0.01</td>\n",
       "      <td>0.00</td>\n",
       "      <td>101.0</td>\n",
       "      <td>11.0</td>\n",
       "      <td>Z</td>\n",
       "      <td>0.00</td>\n",
       "    </tr>\n",
       "    <tr>\n",
       "      <th>16707</th>\n",
       "      <td>Aiyoku no Eustia</td>\n",
       "      <td>PSV</td>\n",
       "      <td>2014.0</td>\n",
       "      <td>Misc</td>\n",
       "      <td>0.00</td>\n",
       "      <td>0.00</td>\n",
       "      <td>0.01</td>\n",
       "      <td>0.00</td>\n",
       "      <td>101.0</td>\n",
       "      <td>11.0</td>\n",
       "      <td>Z</td>\n",
       "      <td>0.00</td>\n",
       "    </tr>\n",
       "    <tr>\n",
       "      <th>16710</th>\n",
       "      <td>Samurai Warriors: Sanada Maru</td>\n",
       "      <td>PS3</td>\n",
       "      <td>2016.0</td>\n",
       "      <td>Action</td>\n",
       "      <td>0.00</td>\n",
       "      <td>0.00</td>\n",
       "      <td>0.01</td>\n",
       "      <td>0.00</td>\n",
       "      <td>101.0</td>\n",
       "      <td>11.0</td>\n",
       "      <td>Z</td>\n",
       "      <td>0.00</td>\n",
       "    </tr>\n",
       "    <tr>\n",
       "      <th>16712</th>\n",
       "      <td>Haitaka no Psychedelica</td>\n",
       "      <td>PSV</td>\n",
       "      <td>2016.0</td>\n",
       "      <td>Adventure</td>\n",
       "      <td>0.00</td>\n",
       "      <td>0.00</td>\n",
       "      <td>0.01</td>\n",
       "      <td>0.00</td>\n",
       "      <td>101.0</td>\n",
       "      <td>11.0</td>\n",
       "      <td>Z</td>\n",
       "      <td>0.00</td>\n",
       "    </tr>\n",
       "    <tr>\n",
       "      <th>16714</th>\n",
       "      <td>Winning Post 8 2016</td>\n",
       "      <td>PSV</td>\n",
       "      <td>2016.0</td>\n",
       "      <td>Simulation</td>\n",
       "      <td>0.00</td>\n",
       "      <td>0.00</td>\n",
       "      <td>0.01</td>\n",
       "      <td>0.00</td>\n",
       "      <td>101.0</td>\n",
       "      <td>11.0</td>\n",
       "      <td>Z</td>\n",
       "      <td>0.00</td>\n",
       "    </tr>\n",
       "  </tbody>\n",
       "</table>\n",
       "<p>2233 rows × 12 columns</p>\n",
       "</div>"
      ],
      "text/plain": [
       "                                name platform  year_of_release         genre  \\\n",
       "16                Grand Theft Auto V      PS3           2013.0        Action   \n",
       "23                Grand Theft Auto V     X360           2013.0        Action   \n",
       "31         Call of Duty: Black Ops 3      PS4           2015.0       Shooter   \n",
       "33               Pokemon X/Pokemon Y      3DS           2013.0  Role-Playing   \n",
       "42                Grand Theft Auto V      PS4           2014.0        Action   \n",
       "...                              ...      ...              ...           ...   \n",
       "16703               Strawberry Nauts      PSV           2016.0     Adventure   \n",
       "16707               Aiyoku no Eustia      PSV           2014.0          Misc   \n",
       "16710  Samurai Warriors: Sanada Maru      PS3           2016.0        Action   \n",
       "16712        Haitaka no Psychedelica      PSV           2016.0     Adventure   \n",
       "16714            Winning Post 8 2016      PSV           2016.0    Simulation   \n",
       "\n",
       "       na_sales  eu_sales  jp_sales  other_sales  critic_score  user_score  \\\n",
       "16         7.02      9.09      0.98         3.96          97.0         8.2   \n",
       "23         9.66      5.14      0.06         1.41          97.0         8.1   \n",
       "31         6.03      5.86      0.36         2.38         101.0        11.0   \n",
       "33         5.28      4.19      4.35         0.78         101.0        11.0   \n",
       "42         3.96      6.31      0.38         1.97          97.0         8.3   \n",
       "...         ...       ...       ...          ...           ...         ...   \n",
       "16703      0.00      0.00      0.01         0.00         101.0        11.0   \n",
       "16707      0.00      0.00      0.01         0.00         101.0        11.0   \n",
       "16710      0.00      0.00      0.01         0.00         101.0        11.0   \n",
       "16712      0.00      0.00      0.01         0.00         101.0        11.0   \n",
       "16714      0.00      0.00      0.01         0.00         101.0        11.0   \n",
       "\n",
       "      rating  total_sales  \n",
       "16         M        24.03  \n",
       "23         M        17.62  \n",
       "31         Z        16.65  \n",
       "33         Z        11.03  \n",
       "42         M        14.21  \n",
       "...      ...          ...  \n",
       "16703      Z         0.00  \n",
       "16707      Z         0.00  \n",
       "16710      Z         0.00  \n",
       "16712      Z         0.00  \n",
       "16714      Z         0.00  \n",
       "\n",
       "[2233 rows x 12 columns]"
      ]
     },
     "execution_count": 52,
     "metadata": {},
     "output_type": "execute_result"
    }
   ],
   "source": [
    "data_new = data.loc[data['year_of_release'] >= 2013]\n",
    "data_new"
   ]
  },
  {
   "cell_type": "code",
   "execution_count": 53,
   "metadata": {},
   "outputs": [
    {
     "data": {
      "text/plain": [
       "array(['PS3', 'X360', 'PS4', '3DS', 'XOne', 'WiiU', 'Wii', 'PC', 'PSV',\n",
       "       'DS', 'PSP'], dtype=object)"
      ]
     },
     "execution_count": 53,
     "metadata": {},
     "output_type": "execute_result"
    }
   ],
   "source": [
    "data_new['platform'].unique()"
   ]
  },
  {
   "cell_type": "code",
   "execution_count": 54,
   "metadata": {
    "scrolled": false
   },
   "outputs": [
    {
     "data": {
      "image/png": "[encoded data removed]",
      "text/plain": [
       "<Figure size 432x288 with 1 Axes>"
      ]
     },
     "metadata": {
      "needs_background": "light"
     },
     "output_type": "display_data"
    }
   ],
   "source": [
    "ds_sales = data_new.loc[data['platform'] == 'DS']['total_sales']\n",
    "wii_sales = data_new.loc[data['platform'] == 'Wii']['total_sales']\n",
    "ps3_sales = data_new.loc[data['platform'] == 'PS3']['total_sales']\n",
    "x360_sales = data_new.loc[data['platform'] == 'X360']['total_sales']\n",
    "ps4_sales = data_new.loc[data['platform'] == 'PS4']['total_sales']\n",
    "pc_sales = data_new.loc[data['platform'] == 'PC']['total_sales']\n",
    "psp_sales = data_new.loc[data['platform'] == 'PSP']['total_sales']\n",
    "xone_sales = data_new.loc[data['platform'] == 'XOne']['total_sales']\n",
    "threeds_sales = data_new.loc[data['platform'] == '3DS']['total_sales']\n",
    "wiiu_sales = data_new.loc[data['platform'] == 'WiiU']['total_sales']\n",
    "psv_sales = data_new.loc[data['platform'] == 'PSV']['total_sales']\n",
    "console_sales = [ps3_sales, x360_sales,\n",
    "                 ps4_sales, threeds_sales, xone_sales, wiiu_sales, pc_sales, \n",
    "                 wii_sales, psv_sales, psp_sales, ds_sales]\n",
    "plt.boxplot(console_sales)\n",
    "plt.ylabel('Total Sales')\n",
    "plt.xlabel('Consoles')\n",
    "plt.title('Global Sales by Console')\n",
    "plt.show()"
   ]
  },
  {
   "cell_type": "code",
   "execution_count": 55,
   "metadata": {},
   "outputs": [
    {
     "data": {
      "text/plain": [
       "16       24.03\n",
       "69       10.23\n",
       "126       7.76\n",
       "149       6.57\n",
       "180       6.14\n",
       "         ...  \n",
       "16558     0.01\n",
       "16638     0.01\n",
       "16674     0.01\n",
       "16691     0.00\n",
       "16710     0.00\n",
       "Name: total_sales, Length: 345, dtype: float64"
      ]
     },
     "execution_count": 55,
     "metadata": {},
     "output_type": "execute_result"
    }
   ],
   "source": [
    "ps3_sales"
   ]
  },
  {
   "cell_type": "markdown",
   "metadata": {},
   "source": [
    "Sales vary greatly amongst consoles in terms of total games sold. The averages tend to be low for each console due to there being so many games that have had low sales."
   ]
  },
  {
   "cell_type": "code",
   "execution_count": 56,
   "metadata": {},
   "outputs": [],
   "source": [
    "ps4_user = ps4.query('user_score != 11')"
   ]
  },
  {
   "cell_type": "code",
   "execution_count": 57,
   "metadata": {
    "scrolled": true
   },
   "outputs": [
    {
     "data": {
      "text/plain": [
       "<AxesSubplot:xlabel='user_score', ylabel='total_sales'>"
      ]
     },
     "execution_count": 57,
     "metadata": {},
     "output_type": "execute_result"
    },
    {
     "data": {
      "image/png": "[encoded data removed]",
      "text/plain": [
       "<Figure size 432x288 with 1 Axes>"
      ]
     },
     "metadata": {
      "needs_background": "light"
     },
     "output_type": "display_data"
    }
   ],
   "source": [
    "ps4_user.plot(kind = 'scatter', x = 'user_score', y = 'total_sales', alpha = 0.5)"
   ]
  },
  {
   "cell_type": "code",
   "execution_count": 58,
   "metadata": {},
   "outputs": [
    {
     "data": {
      "text/plain": [
       "-0.03942520113572384"
      ]
     },
     "execution_count": 58,
     "metadata": {},
     "output_type": "execute_result"
    }
   ],
   "source": [
    "#Correlation coefficient for total sales against user score\n",
    "ps4_user['total_sales'].corr(ps4_user['user_score'])"
   ]
  },
  {
   "cell_type": "code",
   "execution_count": 98,
   "metadata": {},
   "outputs": [
    {
     "data": {
      "text/plain": [
       "<AxesSubplot:xlabel='critic_score', ylabel='total_sales'>"
      ]
     },
     "execution_count": 98,
     "metadata": {},
     "output_type": "execute_result"
    },
    {
     "data": {
      "image/png": "[encoded data removed]",
      "text/plain": [
       "<Figure size 432x288 with 1 Axes>"
      ]
     },
     "metadata": {
      "needs_background": "light"
     },
     "output_type": "display_data"
    }
   ],
   "source": [
    "ps4_critic = ps4.query('critic_score != 101')\n",
    "ps4_critic.plot(kind = 'scatter', x = 'critic_score', y = 'total_sales', alpha = 0.5)"
   ]
  },
  {
   "cell_type": "code",
   "execution_count": 99,
   "metadata": {},
   "outputs": [
    {
     "data": {
      "text/plain": [
       "0.33597652989066373"
      ]
     },
     "execution_count": 99,
     "metadata": {},
     "output_type": "execute_result"
    }
   ],
   "source": [
    "#Correlation coefficient for total sales against critic score\n",
    "ps4_user['total_sales'].corr(ps4_user['critic_score'])"
   ]
  },
  {
   "cell_type": "markdown",
   "metadata": {},
   "source": [
    "There does not seem to be a correlation between total sales and user scores but there is a weak correlation between total sales and critic scores."
   ]
  },
  {
   "cell_type": "code",
   "execution_count": 61,
   "metadata": {},
   "outputs": [
    {
     "data": {
      "text/html": [
       "<div>\n",
       "<style scoped>\n",
       "    .dataframe tbody tr th:only-of-type {\n",
       "        vertical-align: middle;\n",
       "    }\n",
       "\n",
       "    .dataframe tbody tr th {\n",
       "        vertical-align: top;\n",
       "    }\n",
       "\n",
       "    .dataframe thead th {\n",
       "        text-align: right;\n",
       "    }\n",
       "</style>\n",
       "<table border=\"1\" class=\"dataframe\">\n",
       "  <thead>\n",
       "    <tr style=\"text-align: right;\">\n",
       "      <th></th>\n",
       "      <th>total_sales</th>\n",
       "    </tr>\n",
       "    <tr>\n",
       "      <th>name</th>\n",
       "      <th></th>\n",
       "    </tr>\n",
       "  </thead>\n",
       "  <tbody>\n",
       "    <tr>\n",
       "      <th>7 Days to Die</th>\n",
       "      <td>0.16</td>\n",
       "    </tr>\n",
       "    <tr>\n",
       "      <th>Adventure Time: Finn &amp; Jake Investigations</th>\n",
       "      <td>0.12</td>\n",
       "    </tr>\n",
       "    <tr>\n",
       "      <th>Aegis of Earth: Protonovus Assault</th>\n",
       "      <td>0.02</td>\n",
       "    </tr>\n",
       "    <tr>\n",
       "      <th>Agatha Christie's The ABC Murders</th>\n",
       "      <td>0.02</td>\n",
       "    </tr>\n",
       "    <tr>\n",
       "      <th>Akiba's Trip: Undead &amp; Undressed</th>\n",
       "      <td>0.12</td>\n",
       "    </tr>\n",
       "    <tr>\n",
       "      <th>...</th>\n",
       "      <td>...</td>\n",
       "    </tr>\n",
       "    <tr>\n",
       "      <th>Yakuza: Ishin</th>\n",
       "      <td>0.00</td>\n",
       "    </tr>\n",
       "    <tr>\n",
       "      <th>Yoru no Nai Kuni</th>\n",
       "      <td>0.00</td>\n",
       "    </tr>\n",
       "    <tr>\n",
       "      <th>ZombiU</th>\n",
       "      <td>0.06</td>\n",
       "    </tr>\n",
       "    <tr>\n",
       "      <th>Zombie Army Trilogy</th>\n",
       "      <td>0.23</td>\n",
       "    </tr>\n",
       "    <tr>\n",
       "      <th>inFAMOUS: Second Son</th>\n",
       "      <td>3.18</td>\n",
       "    </tr>\n",
       "  </tbody>\n",
       "</table>\n",
       "<p>392 rows × 1 columns</p>\n",
       "</div>"
      ],
      "text/plain": [
       "                                            total_sales\n",
       "name                                                   \n",
       "7 Days to Die                                      0.16\n",
       "Adventure Time: Finn & Jake Investigations         0.12\n",
       "Aegis of Earth: Protonovus Assault                 0.02\n",
       "Agatha Christie's The ABC Murders                  0.02\n",
       "Akiba's Trip: Undead & Undressed                   0.12\n",
       "...                                                 ...\n",
       "Yakuza: Ishin                                      0.00\n",
       "Yoru no Nai Kuni                                   0.00\n",
       "ZombiU                                             0.06\n",
       "Zombie Army Trilogy                                0.23\n",
       "inFAMOUS: Second Son                               3.18\n",
       "\n",
       "[392 rows x 1 columns]"
      ]
     },
     "execution_count": 61,
     "metadata": {},
     "output_type": "execute_result"
    }
   ],
   "source": [
    "ps4_piv_2 = ps4.pivot_table(index = 'name', values = 'total_sales', aggfunc = 'sum')\n",
    "ps4_piv_2"
   ]
  },
  {
   "cell_type": "code",
   "execution_count": 62,
   "metadata": {},
   "outputs": [
    {
     "data": {
      "text/html": [
       "<div>\n",
       "<style scoped>\n",
       "    .dataframe tbody tr th:only-of-type {\n",
       "        vertical-align: middle;\n",
       "    }\n",
       "\n",
       "    .dataframe tbody tr th {\n",
       "        vertical-align: top;\n",
       "    }\n",
       "\n",
       "    .dataframe thead th {\n",
       "        text-align: right;\n",
       "    }\n",
       "</style>\n",
       "<table border=\"1\" class=\"dataframe\">\n",
       "  <thead>\n",
       "    <tr style=\"text-align: right;\">\n",
       "      <th></th>\n",
       "      <th>total_sales</th>\n",
       "    </tr>\n",
       "    <tr>\n",
       "      <th>name</th>\n",
       "      <th></th>\n",
       "    </tr>\n",
       "  </thead>\n",
       "  <tbody>\n",
       "    <tr>\n",
       "      <th>7 Days to Die</th>\n",
       "      <td>0.05</td>\n",
       "    </tr>\n",
       "    <tr>\n",
       "      <th>Adventure Time: Finn &amp; Jake Investigations</th>\n",
       "      <td>0.05</td>\n",
       "    </tr>\n",
       "    <tr>\n",
       "      <th>Agatha Christie's The ABC Murders</th>\n",
       "      <td>0.01</td>\n",
       "    </tr>\n",
       "    <tr>\n",
       "      <th>Alien: Isolation</th>\n",
       "      <td>0.54</td>\n",
       "    </tr>\n",
       "    <tr>\n",
       "      <th>Angry Birds Star Wars</th>\n",
       "      <td>0.19</td>\n",
       "    </tr>\n",
       "    <tr>\n",
       "      <th>...</th>\n",
       "      <td>...</td>\n",
       "    </tr>\n",
       "    <tr>\n",
       "      <th>XCOM 2</th>\n",
       "      <td>0.04</td>\n",
       "    </tr>\n",
       "    <tr>\n",
       "      <th>ZombiU</th>\n",
       "      <td>0.01</td>\n",
       "    </tr>\n",
       "    <tr>\n",
       "      <th>Zombie Army Trilogy</th>\n",
       "      <td>0.12</td>\n",
       "    </tr>\n",
       "    <tr>\n",
       "      <th>Zoo Tycoon (2013)</th>\n",
       "      <td>0.39</td>\n",
       "    </tr>\n",
       "    <tr>\n",
       "      <th>Zumba Fitness: World Party</th>\n",
       "      <td>0.26</td>\n",
       "    </tr>\n",
       "  </tbody>\n",
       "</table>\n",
       "<p>247 rows × 1 columns</p>\n",
       "</div>"
      ],
      "text/plain": [
       "                                            total_sales\n",
       "name                                                   \n",
       "7 Days to Die                                      0.05\n",
       "Adventure Time: Finn & Jake Investigations         0.05\n",
       "Agatha Christie's The ABC Murders                  0.01\n",
       "Alien: Isolation                                   0.54\n",
       "Angry Birds Star Wars                              0.19\n",
       "...                                                 ...\n",
       "XCOM 2                                             0.04\n",
       "ZombiU                                             0.01\n",
       "Zombie Army Trilogy                                0.12\n",
       "Zoo Tycoon (2013)                                  0.39\n",
       "Zumba Fitness: World Party                         0.26\n",
       "\n",
       "[247 rows x 1 columns]"
      ]
     },
     "execution_count": 62,
     "metadata": {},
     "output_type": "execute_result"
    }
   ],
   "source": [
    "xone_piv_2 = xone.pivot_table(index = 'name', values = 'total_sales', aggfunc = 'sum')\n",
    "xone_piv_2"
   ]
  },
  {
   "cell_type": "code",
   "execution_count": 63,
   "metadata": {},
   "outputs": [
    {
     "data": {
      "text/html": [
       "<div>\n",
       "<style scoped>\n",
       "    .dataframe tbody tr th:only-of-type {\n",
       "        vertical-align: middle;\n",
       "    }\n",
       "\n",
       "    .dataframe tbody tr th {\n",
       "        vertical-align: top;\n",
       "    }\n",
       "\n",
       "    .dataframe thead th {\n",
       "        text-align: right;\n",
       "    }\n",
       "</style>\n",
       "<table border=\"1\" class=\"dataframe\">\n",
       "  <thead>\n",
       "    <tr style=\"text-align: right;\">\n",
       "      <th></th>\n",
       "      <th>total_sales</th>\n",
       "    </tr>\n",
       "    <tr>\n",
       "      <th>name</th>\n",
       "      <th></th>\n",
       "    </tr>\n",
       "  </thead>\n",
       "  <tbody>\n",
       "    <tr>\n",
       "      <th>007: Quantum of Solace</th>\n",
       "      <td>0.02</td>\n",
       "    </tr>\n",
       "    <tr>\n",
       "      <th>15 Days</th>\n",
       "      <td>0.01</td>\n",
       "    </tr>\n",
       "    <tr>\n",
       "      <th>1701 A.D.</th>\n",
       "      <td>0.33</td>\n",
       "    </tr>\n",
       "    <tr>\n",
       "      <th>18 Wheels of Steel: Extreme Trucker</th>\n",
       "      <td>0.02</td>\n",
       "    </tr>\n",
       "    <tr>\n",
       "      <th>18 Wheels of Steel: Extreme Trucker 2</th>\n",
       "      <td>0.12</td>\n",
       "    </tr>\n",
       "    <tr>\n",
       "      <th>...</th>\n",
       "      <td>...</td>\n",
       "    </tr>\n",
       "    <tr>\n",
       "      <th>Zoo Tycoon 2</th>\n",
       "      <td>0.07</td>\n",
       "    </tr>\n",
       "    <tr>\n",
       "      <th>Zoo Tycoon 2: Ultimate Collection</th>\n",
       "      <td>0.30</td>\n",
       "    </tr>\n",
       "    <tr>\n",
       "      <th>Zoo Tycoon: Complete Collection</th>\n",
       "      <td>0.07</td>\n",
       "    </tr>\n",
       "    <tr>\n",
       "      <th>[Prototype 2]</th>\n",
       "      <td>0.12</td>\n",
       "    </tr>\n",
       "    <tr>\n",
       "      <th>pro evolution soccer 2011</th>\n",
       "      <td>0.07</td>\n",
       "    </tr>\n",
       "  </tbody>\n",
       "</table>\n",
       "<p>956 rows × 1 columns</p>\n",
       "</div>"
      ],
      "text/plain": [
       "                                       total_sales\n",
       "name                                              \n",
       "007: Quantum of Solace                        0.02\n",
       "15 Days                                       0.01\n",
       "1701 A.D.                                     0.33\n",
       "18 Wheels of Steel: Extreme Trucker           0.02\n",
       "18 Wheels of Steel: Extreme Trucker 2         0.12\n",
       "...                                            ...\n",
       "Zoo Tycoon 2                                  0.07\n",
       "Zoo Tycoon 2: Ultimate Collection             0.30\n",
       "Zoo Tycoon: Complete Collection               0.07\n",
       "[Prototype 2]                                 0.12\n",
       "pro evolution soccer 2011                     0.07\n",
       "\n",
       "[956 rows x 1 columns]"
      ]
     },
     "execution_count": 63,
     "metadata": {},
     "output_type": "execute_result"
    }
   ],
   "source": [
    "pc_piv_2 = pc.pivot_table(index = 'name', values = 'total_sales', aggfunc = 'sum')\n",
    "pc_piv_2"
   ]
  },
  {
   "cell_type": "code",
   "execution_count": 64,
   "metadata": {},
   "outputs": [
    {
     "data": {
      "text/html": [
       "<div>\n",
       "<style scoped>\n",
       "    .dataframe tbody tr th:only-of-type {\n",
       "        vertical-align: middle;\n",
       "    }\n",
       "\n",
       "    .dataframe tbody tr th {\n",
       "        vertical-align: top;\n",
       "    }\n",
       "\n",
       "    .dataframe thead th {\n",
       "        text-align: right;\n",
       "    }\n",
       "</style>\n",
       "<table border=\"1\" class=\"dataframe\">\n",
       "  <thead>\n",
       "    <tr style=\"text-align: right;\">\n",
       "      <th></th>\n",
       "      <th>total_sales_ps4</th>\n",
       "      <th>total_sales_xbox_one</th>\n",
       "    </tr>\n",
       "    <tr>\n",
       "      <th>name</th>\n",
       "      <th></th>\n",
       "      <th></th>\n",
       "    </tr>\n",
       "  </thead>\n",
       "  <tbody>\n",
       "    <tr>\n",
       "      <th>7 Days to Die</th>\n",
       "      <td>0.16</td>\n",
       "      <td>0.05</td>\n",
       "    </tr>\n",
       "    <tr>\n",
       "      <th>Adventure Time: Finn &amp; Jake Investigations</th>\n",
       "      <td>0.12</td>\n",
       "      <td>0.05</td>\n",
       "    </tr>\n",
       "    <tr>\n",
       "      <th>Agatha Christie's The ABC Murders</th>\n",
       "      <td>0.02</td>\n",
       "      <td>0.01</td>\n",
       "    </tr>\n",
       "    <tr>\n",
       "      <th>Alien: Isolation</th>\n",
       "      <td>1.25</td>\n",
       "      <td>0.54</td>\n",
       "    </tr>\n",
       "    <tr>\n",
       "      <th>Angry Birds Star Wars</th>\n",
       "      <td>0.26</td>\n",
       "      <td>0.19</td>\n",
       "    </tr>\n",
       "    <tr>\n",
       "      <th>...</th>\n",
       "      <td>...</td>\n",
       "      <td>...</td>\n",
       "    </tr>\n",
       "    <tr>\n",
       "      <th>Wolfenstein: The Old Blood</th>\n",
       "      <td>0.47</td>\n",
       "      <td>0.16</td>\n",
       "    </tr>\n",
       "    <tr>\n",
       "      <th>Worms: WMD</th>\n",
       "      <td>0.03</td>\n",
       "      <td>0.01</td>\n",
       "    </tr>\n",
       "    <tr>\n",
       "      <th>XCOM 2</th>\n",
       "      <td>0.16</td>\n",
       "      <td>0.04</td>\n",
       "    </tr>\n",
       "    <tr>\n",
       "      <th>ZombiU</th>\n",
       "      <td>0.06</td>\n",
       "      <td>0.01</td>\n",
       "    </tr>\n",
       "    <tr>\n",
       "      <th>Zombie Army Trilogy</th>\n",
       "      <td>0.23</td>\n",
       "      <td>0.12</td>\n",
       "    </tr>\n",
       "  </tbody>\n",
       "</table>\n",
       "<p>217 rows × 2 columns</p>\n",
       "</div>"
      ],
      "text/plain": [
       "                                            total_sales_ps4  \\\n",
       "name                                                          \n",
       "7 Days to Die                                          0.16   \n",
       "Adventure Time: Finn & Jake Investigations             0.12   \n",
       "Agatha Christie's The ABC Murders                      0.02   \n",
       "Alien: Isolation                                       1.25   \n",
       "Angry Birds Star Wars                                  0.26   \n",
       "...                                                     ...   \n",
       "Wolfenstein: The Old Blood                             0.47   \n",
       "Worms: WMD                                             0.03   \n",
       "XCOM 2                                                 0.16   \n",
       "ZombiU                                                 0.06   \n",
       "Zombie Army Trilogy                                    0.23   \n",
       "\n",
       "                                            total_sales_xbox_one  \n",
       "name                                                              \n",
       "7 Days to Die                                               0.05  \n",
       "Adventure Time: Finn & Jake Investigations                  0.05  \n",
       "Agatha Christie's The ABC Murders                           0.01  \n",
       "Alien: Isolation                                            0.54  \n",
       "Angry Birds Star Wars                                       0.19  \n",
       "...                                                          ...  \n",
       "Wolfenstein: The Old Blood                                  0.16  \n",
       "Worms: WMD                                                  0.01  \n",
       "XCOM 2                                                      0.04  \n",
       "ZombiU                                                      0.01  \n",
       "Zombie Army Trilogy                                         0.12  \n",
       "\n",
       "[217 rows x 2 columns]"
      ]
     },
     "execution_count": 64,
     "metadata": {},
     "output_type": "execute_result"
    }
   ],
   "source": [
    "console_vs = ps4_piv_2.join(xone_piv_2, lsuffix = '_ps4', rsuffix = '_xbox_one', how ='inner')\n",
    "console_vs"
   ]
  },
  {
   "cell_type": "code",
   "execution_count": 65,
   "metadata": {},
   "outputs": [
    {
     "data": {
      "text/html": [
       "<div>\n",
       "<style scoped>\n",
       "    .dataframe tbody tr th:only-of-type {\n",
       "        vertical-align: middle;\n",
       "    }\n",
       "\n",
       "    .dataframe tbody tr th {\n",
       "        vertical-align: top;\n",
       "    }\n",
       "\n",
       "    .dataframe thead th {\n",
       "        text-align: right;\n",
       "    }\n",
       "</style>\n",
       "<table border=\"1\" class=\"dataframe\">\n",
       "  <thead>\n",
       "    <tr style=\"text-align: right;\">\n",
       "      <th></th>\n",
       "      <th>total_sales_ps4</th>\n",
       "      <th>total_sales_xbox_one</th>\n",
       "      <th>total_sales</th>\n",
       "    </tr>\n",
       "    <tr>\n",
       "      <th>name</th>\n",
       "      <th></th>\n",
       "      <th></th>\n",
       "      <th></th>\n",
       "    </tr>\n",
       "  </thead>\n",
       "  <tbody>\n",
       "    <tr>\n",
       "      <th>7 Days to Die</th>\n",
       "      <td>0.16</td>\n",
       "      <td>0.05</td>\n",
       "      <td>NaN</td>\n",
       "    </tr>\n",
       "    <tr>\n",
       "      <th>Adventure Time: Finn &amp; Jake Investigations</th>\n",
       "      <td>0.12</td>\n",
       "      <td>0.05</td>\n",
       "      <td>NaN</td>\n",
       "    </tr>\n",
       "    <tr>\n",
       "      <th>Agatha Christie's The ABC Murders</th>\n",
       "      <td>0.02</td>\n",
       "      <td>0.01</td>\n",
       "      <td>NaN</td>\n",
       "    </tr>\n",
       "    <tr>\n",
       "      <th>Alien: Isolation</th>\n",
       "      <td>1.25</td>\n",
       "      <td>0.54</td>\n",
       "      <td>0.16</td>\n",
       "    </tr>\n",
       "    <tr>\n",
       "      <th>Angry Birds Star Wars</th>\n",
       "      <td>0.26</td>\n",
       "      <td>0.19</td>\n",
       "      <td>NaN</td>\n",
       "    </tr>\n",
       "    <tr>\n",
       "      <th>...</th>\n",
       "      <td>...</td>\n",
       "      <td>...</td>\n",
       "      <td>...</td>\n",
       "    </tr>\n",
       "    <tr>\n",
       "      <th>Wolfenstein: The Old Blood</th>\n",
       "      <td>0.47</td>\n",
       "      <td>0.16</td>\n",
       "      <td>0.08</td>\n",
       "    </tr>\n",
       "    <tr>\n",
       "      <th>Worms: WMD</th>\n",
       "      <td>0.03</td>\n",
       "      <td>0.01</td>\n",
       "      <td>NaN</td>\n",
       "    </tr>\n",
       "    <tr>\n",
       "      <th>XCOM 2</th>\n",
       "      <td>0.16</td>\n",
       "      <td>0.04</td>\n",
       "      <td>0.25</td>\n",
       "    </tr>\n",
       "    <tr>\n",
       "      <th>ZombiU</th>\n",
       "      <td>0.06</td>\n",
       "      <td>0.01</td>\n",
       "      <td>NaN</td>\n",
       "    </tr>\n",
       "    <tr>\n",
       "      <th>Zombie Army Trilogy</th>\n",
       "      <td>0.23</td>\n",
       "      <td>0.12</td>\n",
       "      <td>NaN</td>\n",
       "    </tr>\n",
       "  </tbody>\n",
       "</table>\n",
       "<p>217 rows × 3 columns</p>\n",
       "</div>"
      ],
      "text/plain": [
       "                                            total_sales_ps4  \\\n",
       "name                                                          \n",
       "7 Days to Die                                          0.16   \n",
       "Adventure Time: Finn & Jake Investigations             0.12   \n",
       "Agatha Christie's The ABC Murders                      0.02   \n",
       "Alien: Isolation                                       1.25   \n",
       "Angry Birds Star Wars                                  0.26   \n",
       "...                                                     ...   \n",
       "Wolfenstein: The Old Blood                             0.47   \n",
       "Worms: WMD                                             0.03   \n",
       "XCOM 2                                                 0.16   \n",
       "ZombiU                                                 0.06   \n",
       "Zombie Army Trilogy                                    0.23   \n",
       "\n",
       "                                            total_sales_xbox_one  total_sales  \n",
       "name                                                                           \n",
       "7 Days to Die                                               0.05          NaN  \n",
       "Adventure Time: Finn & Jake Investigations                  0.05          NaN  \n",
       "Agatha Christie's The ABC Murders                           0.01          NaN  \n",
       "Alien: Isolation                                            0.54         0.16  \n",
       "Angry Birds Star Wars                                       0.19          NaN  \n",
       "...                                                          ...          ...  \n",
       "Wolfenstein: The Old Blood                                  0.16         0.08  \n",
       "Worms: WMD                                                  0.01          NaN  \n",
       "XCOM 2                                                      0.04         0.25  \n",
       "ZombiU                                                      0.01          NaN  \n",
       "Zombie Army Trilogy                                         0.12          NaN  \n",
       "\n",
       "[217 rows x 3 columns]"
      ]
     },
     "execution_count": 65,
     "metadata": {},
     "output_type": "execute_result"
    }
   ],
   "source": [
    "console_vs = console_vs.join(pc_piv_2, rsuffix = '_pc', how = 'left')\n",
    "console_vs"
   ]
  },
  {
   "cell_type": "code",
   "execution_count": 66,
   "metadata": {},
   "outputs": [],
   "source": [
    "console_vs.rename({'total_sales': 'total_sales_pc'}, axis=1, inplace=True)"
   ]
  },
  {
   "cell_type": "code",
   "execution_count": 67,
   "metadata": {},
   "outputs": [
    {
     "data": {
      "text/plain": [
       "<AxesSubplot:xlabel='name'>"
      ]
     },
     "execution_count": 67,
     "metadata": {},
     "output_type": "execute_result"
    },
    {
     "data": {
      "image/png": "[encoded data removed]",
      "text/plain": [
       "<Figure size 720x720 with 1 Axes>"
      ]
     },
     "metadata": {
      "needs_background": "light"
     },
     "output_type": "display_data"
    }
   ],
   "source": [
    "console_vs.plot(kind = 'line', figsize = (10, 10), rot = 0.5)"
   ]
  },
  {
   "cell_type": "code",
   "execution_count": 68,
   "metadata": {},
   "outputs": [
    {
     "data": {
      "text/html": [
       "<div>\n",
       "<style scoped>\n",
       "    .dataframe tbody tr th:only-of-type {\n",
       "        vertical-align: middle;\n",
       "    }\n",
       "\n",
       "    .dataframe tbody tr th {\n",
       "        vertical-align: top;\n",
       "    }\n",
       "\n",
       "    .dataframe thead th {\n",
       "        text-align: right;\n",
       "    }\n",
       "</style>\n",
       "<table border=\"1\" class=\"dataframe\">\n",
       "  <thead>\n",
       "    <tr style=\"text-align: right;\">\n",
       "      <th></th>\n",
       "      <th>total_sales_ps4</th>\n",
       "      <th>total_sales_xbox_one</th>\n",
       "      <th>total_sales_pc</th>\n",
       "    </tr>\n",
       "    <tr>\n",
       "      <th>name</th>\n",
       "      <th></th>\n",
       "      <th></th>\n",
       "      <th></th>\n",
       "    </tr>\n",
       "  </thead>\n",
       "  <tbody>\n",
       "    <tr>\n",
       "      <th>7 Days to Die</th>\n",
       "      <td>0.16</td>\n",
       "      <td>0.05</td>\n",
       "      <td>NaN</td>\n",
       "    </tr>\n",
       "    <tr>\n",
       "      <th>Adventure Time: Finn &amp; Jake Investigations</th>\n",
       "      <td>0.12</td>\n",
       "      <td>0.05</td>\n",
       "      <td>NaN</td>\n",
       "    </tr>\n",
       "    <tr>\n",
       "      <th>Agatha Christie's The ABC Murders</th>\n",
       "      <td>0.02</td>\n",
       "      <td>0.01</td>\n",
       "      <td>NaN</td>\n",
       "    </tr>\n",
       "    <tr>\n",
       "      <th>Alien: Isolation</th>\n",
       "      <td>1.25</td>\n",
       "      <td>0.54</td>\n",
       "      <td>0.16</td>\n",
       "    </tr>\n",
       "    <tr>\n",
       "      <th>Angry Birds Star Wars</th>\n",
       "      <td>0.26</td>\n",
       "      <td>0.19</td>\n",
       "      <td>NaN</td>\n",
       "    </tr>\n",
       "    <tr>\n",
       "      <th>...</th>\n",
       "      <td>...</td>\n",
       "      <td>...</td>\n",
       "      <td>...</td>\n",
       "    </tr>\n",
       "    <tr>\n",
       "      <th>Wolfenstein: The Old Blood</th>\n",
       "      <td>0.47</td>\n",
       "      <td>0.16</td>\n",
       "      <td>0.08</td>\n",
       "    </tr>\n",
       "    <tr>\n",
       "      <th>Worms: WMD</th>\n",
       "      <td>0.03</td>\n",
       "      <td>0.01</td>\n",
       "      <td>NaN</td>\n",
       "    </tr>\n",
       "    <tr>\n",
       "      <th>XCOM 2</th>\n",
       "      <td>0.16</td>\n",
       "      <td>0.04</td>\n",
       "      <td>0.25</td>\n",
       "    </tr>\n",
       "    <tr>\n",
       "      <th>ZombiU</th>\n",
       "      <td>0.06</td>\n",
       "      <td>0.01</td>\n",
       "      <td>NaN</td>\n",
       "    </tr>\n",
       "    <tr>\n",
       "      <th>Zombie Army Trilogy</th>\n",
       "      <td>0.23</td>\n",
       "      <td>0.12</td>\n",
       "      <td>NaN</td>\n",
       "    </tr>\n",
       "  </tbody>\n",
       "</table>\n",
       "<p>217 rows × 3 columns</p>\n",
       "</div>"
      ],
      "text/plain": [
       "                                            total_sales_ps4  \\\n",
       "name                                                          \n",
       "7 Days to Die                                          0.16   \n",
       "Adventure Time: Finn & Jake Investigations             0.12   \n",
       "Agatha Christie's The ABC Murders                      0.02   \n",
       "Alien: Isolation                                       1.25   \n",
       "Angry Birds Star Wars                                  0.26   \n",
       "...                                                     ...   \n",
       "Wolfenstein: The Old Blood                             0.47   \n",
       "Worms: WMD                                             0.03   \n",
       "XCOM 2                                                 0.16   \n",
       "ZombiU                                                 0.06   \n",
       "Zombie Army Trilogy                                    0.23   \n",
       "\n",
       "                                            total_sales_xbox_one  \\\n",
       "name                                                               \n",
       "7 Days to Die                                               0.05   \n",
       "Adventure Time: Finn & Jake Investigations                  0.05   \n",
       "Agatha Christie's The ABC Murders                           0.01   \n",
       "Alien: Isolation                                            0.54   \n",
       "Angry Birds Star Wars                                       0.19   \n",
       "...                                                          ...   \n",
       "Wolfenstein: The Old Blood                                  0.16   \n",
       "Worms: WMD                                                  0.01   \n",
       "XCOM 2                                                      0.04   \n",
       "ZombiU                                                      0.01   \n",
       "Zombie Army Trilogy                                         0.12   \n",
       "\n",
       "                                            total_sales_pc  \n",
       "name                                                        \n",
       "7 Days to Die                                          NaN  \n",
       "Adventure Time: Finn & Jake Investigations             NaN  \n",
       "Agatha Christie's The ABC Murders                      NaN  \n",
       "Alien: Isolation                                      0.16  \n",
       "Angry Birds Star Wars                                  NaN  \n",
       "...                                                    ...  \n",
       "Wolfenstein: The Old Blood                            0.08  \n",
       "Worms: WMD                                             NaN  \n",
       "XCOM 2                                                0.25  \n",
       "ZombiU                                                 NaN  \n",
       "Zombie Army Trilogy                                    NaN  \n",
       "\n",
       "[217 rows x 3 columns]"
      ]
     },
     "execution_count": 68,
     "metadata": {},
     "output_type": "execute_result"
    }
   ],
   "source": [
    "console_vs"
   ]
  },
  {
   "cell_type": "code",
   "execution_count": 69,
   "metadata": {},
   "outputs": [
    {
     "data": {
      "text/html": [
       "<div>\n",
       "<style scoped>\n",
       "    .dataframe tbody tr th:only-of-type {\n",
       "        vertical-align: middle;\n",
       "    }\n",
       "\n",
       "    .dataframe tbody tr th {\n",
       "        vertical-align: top;\n",
       "    }\n",
       "\n",
       "    .dataframe thead th {\n",
       "        text-align: right;\n",
       "    }\n",
       "</style>\n",
       "<table border=\"1\" class=\"dataframe\">\n",
       "  <thead>\n",
       "    <tr style=\"text-align: right;\">\n",
       "      <th></th>\n",
       "      <th>total_sales_ps4</th>\n",
       "      <th>total_sales_xbox_one</th>\n",
       "      <th>total_sales_pc</th>\n",
       "    </tr>\n",
       "    <tr>\n",
       "      <th>name</th>\n",
       "      <th></th>\n",
       "      <th></th>\n",
       "      <th></th>\n",
       "    </tr>\n",
       "  </thead>\n",
       "  <tbody>\n",
       "    <tr>\n",
       "      <th>Alien: Isolation</th>\n",
       "      <td>1.25</td>\n",
       "      <td>0.54</td>\n",
       "      <td>0.16</td>\n",
       "    </tr>\n",
       "    <tr>\n",
       "      <th>Assassin's Creed IV: Black Flag</th>\n",
       "      <td>3.22</td>\n",
       "      <td>2.45</td>\n",
       "      <td>0.70</td>\n",
       "    </tr>\n",
       "    <tr>\n",
       "      <th>Assassin's Creed Syndicate</th>\n",
       "      <td>3.84</td>\n",
       "      <td>1.40</td>\n",
       "      <td>0.24</td>\n",
       "    </tr>\n",
       "    <tr>\n",
       "      <th>Assassin's Creed: Unity</th>\n",
       "      <td>4.50</td>\n",
       "      <td>3.83</td>\n",
       "      <td>0.59</td>\n",
       "    </tr>\n",
       "    <tr>\n",
       "      <th>Batman: Arkham Knight</th>\n",
       "      <td>4.50</td>\n",
       "      <td>1.63</td>\n",
       "      <td>0.14</td>\n",
       "    </tr>\n",
       "    <tr>\n",
       "      <th>...</th>\n",
       "      <td>...</td>\n",
       "      <td>...</td>\n",
       "      <td>...</td>\n",
       "    </tr>\n",
       "    <tr>\n",
       "      <th>Wasteland 2</th>\n",
       "      <td>0.12</td>\n",
       "      <td>0.07</td>\n",
       "      <td>0.11</td>\n",
       "    </tr>\n",
       "    <tr>\n",
       "      <th>Watch Dogs</th>\n",
       "      <td>4.58</td>\n",
       "      <td>1.71</td>\n",
       "      <td>0.47</td>\n",
       "    </tr>\n",
       "    <tr>\n",
       "      <th>Wolfenstein: The New Order</th>\n",
       "      <td>1.75</td>\n",
       "      <td>0.74</td>\n",
       "      <td>0.48</td>\n",
       "    </tr>\n",
       "    <tr>\n",
       "      <th>Wolfenstein: The Old Blood</th>\n",
       "      <td>0.47</td>\n",
       "      <td>0.16</td>\n",
       "      <td>0.08</td>\n",
       "    </tr>\n",
       "    <tr>\n",
       "      <th>XCOM 2</th>\n",
       "      <td>0.16</td>\n",
       "      <td>0.04</td>\n",
       "      <td>0.25</td>\n",
       "    </tr>\n",
       "  </tbody>\n",
       "</table>\n",
       "<p>106 rows × 3 columns</p>\n",
       "</div>"
      ],
      "text/plain": [
       "                                 total_sales_ps4  total_sales_xbox_one  \\\n",
       "name                                                                     \n",
       "Alien: Isolation                            1.25                  0.54   \n",
       "Assassin's Creed IV: Black Flag             3.22                  2.45   \n",
       "Assassin's Creed Syndicate                  3.84                  1.40   \n",
       "Assassin's Creed: Unity                     4.50                  3.83   \n",
       "Batman: Arkham Knight                       4.50                  1.63   \n",
       "...                                          ...                   ...   \n",
       "Wasteland 2                                 0.12                  0.07   \n",
       "Watch Dogs                                  4.58                  1.71   \n",
       "Wolfenstein: The New Order                  1.75                  0.74   \n",
       "Wolfenstein: The Old Blood                  0.47                  0.16   \n",
       "XCOM 2                                      0.16                  0.04   \n",
       "\n",
       "                                 total_sales_pc  \n",
       "name                                             \n",
       "Alien: Isolation                           0.16  \n",
       "Assassin's Creed IV: Black Flag            0.70  \n",
       "Assassin's Creed Syndicate                 0.24  \n",
       "Assassin's Creed: Unity                    0.59  \n",
       "Batman: Arkham Knight                      0.14  \n",
       "...                                         ...  \n",
       "Wasteland 2                                0.11  \n",
       "Watch Dogs                                 0.47  \n",
       "Wolfenstein: The New Order                 0.48  \n",
       "Wolfenstein: The Old Blood                 0.08  \n",
       "XCOM 2                                     0.25  \n",
       "\n",
       "[106 rows x 3 columns]"
      ]
     },
     "execution_count": 69,
     "metadata": {},
     "output_type": "execute_result"
    }
   ],
   "source": [
    "console_vs.query('total_sales_ps4 >= total_sales_ps4 and total_sales_pc')"
   ]
  },
  {
   "cell_type": "code",
   "execution_count": 70,
   "metadata": {
    "scrolled": false
   },
   "outputs": [
    {
     "data": {
      "text/html": [
       "<div>\n",
       "<style scoped>\n",
       "    .dataframe tbody tr th:only-of-type {\n",
       "        vertical-align: middle;\n",
       "    }\n",
       "\n",
       "    .dataframe tbody tr th {\n",
       "        vertical-align: top;\n",
       "    }\n",
       "\n",
       "    .dataframe thead th {\n",
       "        text-align: right;\n",
       "    }\n",
       "</style>\n",
       "<table border=\"1\" class=\"dataframe\">\n",
       "  <thead>\n",
       "    <tr style=\"text-align: right;\">\n",
       "      <th></th>\n",
       "      <th>total_sales_ps4</th>\n",
       "      <th>total_sales_xbox_one</th>\n",
       "      <th>total_sales_pc</th>\n",
       "    </tr>\n",
       "    <tr>\n",
       "      <th>name</th>\n",
       "      <th></th>\n",
       "      <th></th>\n",
       "      <th></th>\n",
       "    </tr>\n",
       "  </thead>\n",
       "  <tbody>\n",
       "    <tr>\n",
       "      <th>Dead Rising 2</th>\n",
       "      <td>0.01</td>\n",
       "      <td>0.01</td>\n",
       "      <td>0.14</td>\n",
       "    </tr>\n",
       "    <tr>\n",
       "      <th>Diablo III</th>\n",
       "      <td>2.05</td>\n",
       "      <td>0.72</td>\n",
       "      <td>5.68</td>\n",
       "    </tr>\n",
       "    <tr>\n",
       "      <th>Dishonored</th>\n",
       "      <td>0.44</td>\n",
       "      <td>0.16</td>\n",
       "      <td>0.57</td>\n",
       "    </tr>\n",
       "    <tr>\n",
       "      <th>Farming Simulator 17</th>\n",
       "      <td>0.48</td>\n",
       "      <td>0.13</td>\n",
       "      <td>0.69</td>\n",
       "    </tr>\n",
       "    <tr>\n",
       "      <th>Farming Simulator 2015</th>\n",
       "      <td>0.42</td>\n",
       "      <td>0.22</td>\n",
       "      <td>1.26</td>\n",
       "    </tr>\n",
       "    <tr>\n",
       "      <th>Terraria</th>\n",
       "      <td>0.07</td>\n",
       "      <td>0.04</td>\n",
       "      <td>0.15</td>\n",
       "    </tr>\n",
       "    <tr>\n",
       "      <th>The Elder Scrolls V: Skyrim</th>\n",
       "      <td>1.49</td>\n",
       "      <td>0.82</td>\n",
       "      <td>4.48</td>\n",
       "    </tr>\n",
       "    <tr>\n",
       "      <th>XCOM 2</th>\n",
       "      <td>0.16</td>\n",
       "      <td>0.04</td>\n",
       "      <td>0.25</td>\n",
       "    </tr>\n",
       "  </tbody>\n",
       "</table>\n",
       "</div>"
      ],
      "text/plain": [
       "                             total_sales_ps4  total_sales_xbox_one  \\\n",
       "name                                                                 \n",
       "Dead Rising 2                           0.01                  0.01   \n",
       "Diablo III                              2.05                  0.72   \n",
       "Dishonored                              0.44                  0.16   \n",
       "Farming Simulator 17                    0.48                  0.13   \n",
       "Farming Simulator 2015                  0.42                  0.22   \n",
       "Terraria                                0.07                  0.04   \n",
       "The Elder Scrolls V: Skyrim             1.49                  0.82   \n",
       "XCOM 2                                  0.16                  0.04   \n",
       "\n",
       "                             total_sales_pc  \n",
       "name                                         \n",
       "Dead Rising 2                          0.14  \n",
       "Diablo III                             5.68  \n",
       "Dishonored                             0.57  \n",
       "Farming Simulator 17                   0.69  \n",
       "Farming Simulator 2015                 1.26  \n",
       "Terraria                               0.15  \n",
       "The Elder Scrolls V: Skyrim            4.48  \n",
       "XCOM 2                                 0.25  "
      ]
     },
     "execution_count": 70,
     "metadata": {},
     "output_type": "execute_result"
    }
   ],
   "source": [
    "console_vs.query('total_sales_pc >= total_sales_ps4 and total_sales_xbox_one')"
   ]
  },
  {
   "cell_type": "code",
   "execution_count": 71,
   "metadata": {},
   "outputs": [
    {
     "data": {
      "text/html": [
       "<div>\n",
       "<style scoped>\n",
       "    .dataframe tbody tr th:only-of-type {\n",
       "        vertical-align: middle;\n",
       "    }\n",
       "\n",
       "    .dataframe tbody tr th {\n",
       "        vertical-align: top;\n",
       "    }\n",
       "\n",
       "    .dataframe thead th {\n",
       "        text-align: right;\n",
       "    }\n",
       "</style>\n",
       "<table border=\"1\" class=\"dataframe\">\n",
       "  <thead>\n",
       "    <tr style=\"text-align: right;\">\n",
       "      <th></th>\n",
       "      <th>total_sales_ps4</th>\n",
       "      <th>total_sales_xbox_one</th>\n",
       "      <th>total_sales_pc</th>\n",
       "    </tr>\n",
       "    <tr>\n",
       "      <th>name</th>\n",
       "      <th></th>\n",
       "      <th></th>\n",
       "      <th></th>\n",
       "    </tr>\n",
       "  </thead>\n",
       "  <tbody>\n",
       "    <tr>\n",
       "      <th>Dead Rising 2</th>\n",
       "      <td>0.01</td>\n",
       "      <td>0.01</td>\n",
       "      <td>0.14</td>\n",
       "    </tr>\n",
       "    <tr>\n",
       "      <th>Plants vs. Zombies: Garden Warfare</th>\n",
       "      <td>0.70</td>\n",
       "      <td>0.74</td>\n",
       "      <td>0.02</td>\n",
       "    </tr>\n",
       "    <tr>\n",
       "      <th>Rise of the Tomb Raider</th>\n",
       "      <td>1.04</td>\n",
       "      <td>1.47</td>\n",
       "      <td>0.13</td>\n",
       "    </tr>\n",
       "  </tbody>\n",
       "</table>\n",
       "</div>"
      ],
      "text/plain": [
       "                                    total_sales_ps4  total_sales_xbox_one  \\\n",
       "name                                                                        \n",
       "Dead Rising 2                                  0.01                  0.01   \n",
       "Plants vs. Zombies: Garden Warfare             0.70                  0.74   \n",
       "Rise of the Tomb Raider                        1.04                  1.47   \n",
       "\n",
       "                                    total_sales_pc  \n",
       "name                                                \n",
       "Dead Rising 2                                 0.14  \n",
       "Plants vs. Zombies: Garden Warfare            0.02  \n",
       "Rise of the Tomb Raider                       0.13  "
      ]
     },
     "execution_count": 71,
     "metadata": {},
     "output_type": "execute_result"
    }
   ],
   "source": [
    "console_vs.query('total_sales_xbox_one >= total_sales_ps4 and total_sales_pc')"
   ]
  },
  {
   "cell_type": "markdown",
   "metadata": {},
   "source": [
    "As is evident in this graphic, PS4 games consistently outsell their counterparts of the same name on all comparable consoles. There are several games where Xbox One has the leading sales however these numbers are fairly close and few so they can be considered as outliers. Although PC typically does not see many sales compared to these other two consoles there are also several games where PC has leading sales. I hypothesize that this is because these games might be better played with a mouse/keyboard instead of with a traditional controller."
   ]
  },
  {
   "cell_type": "code",
   "execution_count": 72,
   "metadata": {},
   "outputs": [
    {
     "data": {
      "text/plain": [
       "array(['Action', 'Shooter', 'Role-Playing', 'Misc', 'Sports', 'Fighting',\n",
       "       'Racing', 'Simulation', 'Platform', 'Strategy', 'Adventure',\n",
       "       'Puzzle'], dtype=object)"
      ]
     },
     "execution_count": 72,
     "metadata": {},
     "output_type": "execute_result"
    }
   ],
   "source": [
    "data_new['genre'].unique()"
   ]
  },
  {
   "cell_type": "code",
   "execution_count": 73,
   "metadata": {},
   "outputs": [
    {
     "data": {
      "text/plain": [
       "<AxesSubplot:xlabel='genre'>"
      ]
     },
     "execution_count": 73,
     "metadata": {},
     "output_type": "execute_result"
    },
    {
     "data": {
      "image/png": "[encoded data removed]",
      "text/plain": [
       "<Figure size 432x288 with 1 Axes>"
      ]
     },
     "metadata": {
      "needs_background": "light"
     },
     "output_type": "display_data"
    }
   ],
   "source": [
    "data_genre_total = data_new.pivot_table(index = 'genre', values = 'total_sales', aggfunc = 'sum')\n",
    "data_genre_total.plot(kind = 'bar')"
   ]
  },
  {
   "cell_type": "code",
   "execution_count": 74,
   "metadata": {},
   "outputs": [
    {
     "data": {
      "text/plain": [
       "<AxesSubplot:xlabel='genre'>"
      ]
     },
     "execution_count": 74,
     "metadata": {},
     "output_type": "execute_result"
    },
    {
     "data": {
      "image/png": "[encoded data removed]",
      "text/plain": [
       "<Figure size 432x288 with 1 Axes>"
      ]
     },
     "metadata": {
      "needs_background": "light"
     },
     "output_type": "display_data"
    }
   ],
   "source": [
    "data_genre_avg = data_new.pivot_table(index = 'genre', values = 'total_sales', aggfunc = 'mean')\n",
    "data_genre_avg.plot(kind = 'bar')"
   ]
  },
  {
   "cell_type": "code",
   "execution_count": 75,
   "metadata": {},
   "outputs": [
    {
     "data": {
      "text/plain": [
       "<AxesSubplot:xlabel='genre'>"
      ]
     },
     "execution_count": 75,
     "metadata": {},
     "output_type": "execute_result"
    },
    {
     "data": {
      "image/png": "[encoded data removed]",
      "text/plain": [
       "<Figure size 432x288 with 1 Axes>"
      ]
     },
     "metadata": {
      "needs_background": "light"
     },
     "output_type": "display_data"
    }
   ],
   "source": [
    "data_genre_med = data_new.pivot_table(index = 'genre', values = 'total_sales', aggfunc = 'median')\n",
    "data_genre_med.plot(kind = 'bar')"
   ]
  },
  {
   "cell_type": "markdown",
   "metadata": {},
   "source": [
    "Total sales per genre were calculated out using several metrics: total, mean, and median. The total sales show that action games are the highest selling by a large margin. However, for mean and median per genre, platform, shooter, sports, and racing games are also very profitable. Platform and action games are most likely popular because they have the most history in the videogame world. Platformers such as Mario and Donkey Kong helped popularize video games in general. In terms of the other popular genres, they are all popular to be played online with friends. Online gameplay has become much more popular in recent years. The least profitable games are strategy, role-playing, puzzle and adventure games. All of these genres tend to be slower moving."
   ]
  },
  {
   "cell_type": "code",
   "execution_count": 76,
   "metadata": {},
   "outputs": [],
   "source": [
    "eu_genre_total = data_new.pivot_table(index = 'genre', values = 'eu_sales', aggfunc = 'sum')\n",
    "na_genre_total = data_new.pivot_table(index = 'genre', values = 'na_sales', aggfunc = 'sum')\n",
    "jp_genre_total = data_new.pivot_table(index = 'genre', values = 'jp_sales', aggfunc = 'sum')"
   ]
  },
  {
   "cell_type": "code",
   "execution_count": 77,
   "metadata": {},
   "outputs": [
    {
     "data": {
      "text/html": [
       "<div>\n",
       "<style scoped>\n",
       "    .dataframe tbody tr th:only-of-type {\n",
       "        vertical-align: middle;\n",
       "    }\n",
       "\n",
       "    .dataframe tbody tr th {\n",
       "        vertical-align: top;\n",
       "    }\n",
       "\n",
       "    .dataframe thead th {\n",
       "        text-align: right;\n",
       "    }\n",
       "</style>\n",
       "<table border=\"1\" class=\"dataframe\">\n",
       "  <thead>\n",
       "    <tr style=\"text-align: right;\">\n",
       "      <th></th>\n",
       "      <th>eu_sales</th>\n",
       "    </tr>\n",
       "    <tr>\n",
       "      <th>genre</th>\n",
       "      <th></th>\n",
       "    </tr>\n",
       "  </thead>\n",
       "  <tbody>\n",
       "    <tr>\n",
       "      <th>Action</th>\n",
       "      <td>118.13</td>\n",
       "    </tr>\n",
       "    <tr>\n",
       "      <th>Shooter</th>\n",
       "      <td>87.86</td>\n",
       "    </tr>\n",
       "    <tr>\n",
       "      <th>Sports</th>\n",
       "      <td>60.52</td>\n",
       "    </tr>\n",
       "    <tr>\n",
       "      <th>Role-Playing</th>\n",
       "      <td>36.97</td>\n",
       "    </tr>\n",
       "    <tr>\n",
       "      <th>Racing</th>\n",
       "      <td>20.19</td>\n",
       "    </tr>\n",
       "    <tr>\n",
       "      <th>Misc</th>\n",
       "      <td>20.04</td>\n",
       "    </tr>\n",
       "    <tr>\n",
       "      <th>Platform</th>\n",
       "      <td>15.58</td>\n",
       "    </tr>\n",
       "    <tr>\n",
       "      <th>Simulation</th>\n",
       "      <td>10.92</td>\n",
       "    </tr>\n",
       "    <tr>\n",
       "      <th>Fighting</th>\n",
       "      <td>8.55</td>\n",
       "    </tr>\n",
       "    <tr>\n",
       "      <th>Adventure</th>\n",
       "      <td>8.25</td>\n",
       "    </tr>\n",
       "    <tr>\n",
       "      <th>Strategy</th>\n",
       "      <td>4.22</td>\n",
       "    </tr>\n",
       "    <tr>\n",
       "      <th>Puzzle</th>\n",
       "      <td>1.00</td>\n",
       "    </tr>\n",
       "  </tbody>\n",
       "</table>\n",
       "</div>"
      ],
      "text/plain": [
       "              eu_sales\n",
       "genre                 \n",
       "Action          118.13\n",
       "Shooter          87.86\n",
       "Sports           60.52\n",
       "Role-Playing     36.97\n",
       "Racing           20.19\n",
       "Misc             20.04\n",
       "Platform         15.58\n",
       "Simulation       10.92\n",
       "Fighting          8.55\n",
       "Adventure         8.25\n",
       "Strategy          4.22\n",
       "Puzzle            1.00"
      ]
     },
     "execution_count": 77,
     "metadata": {},
     "output_type": "execute_result"
    }
   ],
   "source": [
    "eu_genre_total.sort_values(by = 'eu_sales', ascending = False)"
   ]
  },
  {
   "cell_type": "code",
   "execution_count": 78,
   "metadata": {},
   "outputs": [
    {
     "data": {
      "text/html": [
       "<div>\n",
       "<style scoped>\n",
       "    .dataframe tbody tr th:only-of-type {\n",
       "        vertical-align: middle;\n",
       "    }\n",
       "\n",
       "    .dataframe tbody tr th {\n",
       "        vertical-align: top;\n",
       "    }\n",
       "\n",
       "    .dataframe thead th {\n",
       "        text-align: right;\n",
       "    }\n",
       "</style>\n",
       "<table border=\"1\" class=\"dataframe\">\n",
       "  <thead>\n",
       "    <tr style=\"text-align: right;\">\n",
       "      <th></th>\n",
       "      <th>na_sales</th>\n",
       "    </tr>\n",
       "    <tr>\n",
       "      <th>genre</th>\n",
       "      <th></th>\n",
       "    </tr>\n",
       "  </thead>\n",
       "  <tbody>\n",
       "    <tr>\n",
       "      <th>Action</th>\n",
       "      <td>126.05</td>\n",
       "    </tr>\n",
       "    <tr>\n",
       "      <th>Shooter</th>\n",
       "      <td>109.74</td>\n",
       "    </tr>\n",
       "    <tr>\n",
       "      <th>Sports</th>\n",
       "      <td>65.27</td>\n",
       "    </tr>\n",
       "    <tr>\n",
       "      <th>Role-Playing</th>\n",
       "      <td>46.40</td>\n",
       "    </tr>\n",
       "    <tr>\n",
       "      <th>Misc</th>\n",
       "      <td>27.49</td>\n",
       "    </tr>\n",
       "    <tr>\n",
       "      <th>Platform</th>\n",
       "      <td>18.14</td>\n",
       "    </tr>\n",
       "    <tr>\n",
       "      <th>Fighting</th>\n",
       "      <td>15.55</td>\n",
       "    </tr>\n",
       "    <tr>\n",
       "      <th>Racing</th>\n",
       "      <td>12.96</td>\n",
       "    </tr>\n",
       "    <tr>\n",
       "      <th>Adventure</th>\n",
       "      <td>7.14</td>\n",
       "    </tr>\n",
       "    <tr>\n",
       "      <th>Simulation</th>\n",
       "      <td>4.86</td>\n",
       "    </tr>\n",
       "    <tr>\n",
       "      <th>Strategy</th>\n",
       "      <td>3.28</td>\n",
       "    </tr>\n",
       "    <tr>\n",
       "      <th>Puzzle</th>\n",
       "      <td>0.83</td>\n",
       "    </tr>\n",
       "  </tbody>\n",
       "</table>\n",
       "</div>"
      ],
      "text/plain": [
       "              na_sales\n",
       "genre                 \n",
       "Action          126.05\n",
       "Shooter         109.74\n",
       "Sports           65.27\n",
       "Role-Playing     46.40\n",
       "Misc             27.49\n",
       "Platform         18.14\n",
       "Fighting         15.55\n",
       "Racing           12.96\n",
       "Adventure         7.14\n",
       "Simulation        4.86\n",
       "Strategy          3.28\n",
       "Puzzle            0.83"
      ]
     },
     "execution_count": 78,
     "metadata": {},
     "output_type": "execute_result"
    }
   ],
   "source": [
    "na_genre_total.sort_values(by = 'na_sales', ascending = False)"
   ]
  },
  {
   "cell_type": "code",
   "execution_count": 79,
   "metadata": {},
   "outputs": [
    {
     "data": {
      "text/html": [
       "<div>\n",
       "<style scoped>\n",
       "    .dataframe tbody tr th:only-of-type {\n",
       "        vertical-align: middle;\n",
       "    }\n",
       "\n",
       "    .dataframe tbody tr th {\n",
       "        vertical-align: top;\n",
       "    }\n",
       "\n",
       "    .dataframe thead th {\n",
       "        text-align: right;\n",
       "    }\n",
       "</style>\n",
       "<table border=\"1\" class=\"dataframe\">\n",
       "  <thead>\n",
       "    <tr style=\"text-align: right;\">\n",
       "      <th></th>\n",
       "      <th>jp_sales</th>\n",
       "    </tr>\n",
       "    <tr>\n",
       "      <th>genre</th>\n",
       "      <th></th>\n",
       "    </tr>\n",
       "  </thead>\n",
       "  <tbody>\n",
       "    <tr>\n",
       "      <th>Role-Playing</th>\n",
       "      <td>51.04</td>\n",
       "    </tr>\n",
       "    <tr>\n",
       "      <th>Action</th>\n",
       "      <td>40.49</td>\n",
       "    </tr>\n",
       "    <tr>\n",
       "      <th>Misc</th>\n",
       "      <td>9.20</td>\n",
       "    </tr>\n",
       "    <tr>\n",
       "      <th>Fighting</th>\n",
       "      <td>7.65</td>\n",
       "    </tr>\n",
       "    <tr>\n",
       "      <th>Shooter</th>\n",
       "      <td>6.61</td>\n",
       "    </tr>\n",
       "    <tr>\n",
       "      <th>Adventure</th>\n",
       "      <td>5.82</td>\n",
       "    </tr>\n",
       "    <tr>\n",
       "      <th>Sports</th>\n",
       "      <td>5.41</td>\n",
       "    </tr>\n",
       "    <tr>\n",
       "      <th>Platform</th>\n",
       "      <td>4.79</td>\n",
       "    </tr>\n",
       "    <tr>\n",
       "      <th>Simulation</th>\n",
       "      <td>4.52</td>\n",
       "    </tr>\n",
       "    <tr>\n",
       "      <th>Racing</th>\n",
       "      <td>2.30</td>\n",
       "    </tr>\n",
       "    <tr>\n",
       "      <th>Strategy</th>\n",
       "      <td>1.77</td>\n",
       "    </tr>\n",
       "    <tr>\n",
       "      <th>Puzzle</th>\n",
       "      <td>1.18</td>\n",
       "    </tr>\n",
       "  </tbody>\n",
       "</table>\n",
       "</div>"
      ],
      "text/plain": [
       "              jp_sales\n",
       "genre                 \n",
       "Role-Playing     51.04\n",
       "Action           40.49\n",
       "Misc              9.20\n",
       "Fighting          7.65\n",
       "Shooter           6.61\n",
       "Adventure         5.82\n",
       "Sports            5.41\n",
       "Platform          4.79\n",
       "Simulation        4.52\n",
       "Racing            2.30\n",
       "Strategy          1.77\n",
       "Puzzle            1.18"
      ]
     },
     "execution_count": 79,
     "metadata": {},
     "output_type": "execute_result"
    }
   ],
   "source": [
    "jp_genre_total.sort_values(by = 'jp_sales', ascending = False)"
   ]
  },
  {
   "cell_type": "code",
   "execution_count": 80,
   "metadata": {},
   "outputs": [
    {
     "data": {
      "text/html": [
       "<div>\n",
       "<style scoped>\n",
       "    .dataframe tbody tr th:only-of-type {\n",
       "        vertical-align: middle;\n",
       "    }\n",
       "\n",
       "    .dataframe tbody tr th {\n",
       "        vertical-align: top;\n",
       "    }\n",
       "\n",
       "    .dataframe thead th {\n",
       "        text-align: right;\n",
       "    }\n",
       "</style>\n",
       "<table border=\"1\" class=\"dataframe\">\n",
       "  <thead>\n",
       "    <tr style=\"text-align: right;\">\n",
       "      <th></th>\n",
       "      <th>eu_sales</th>\n",
       "      <th>na_sales</th>\n",
       "      <th>jp_sales</th>\n",
       "    </tr>\n",
       "    <tr>\n",
       "      <th>genre</th>\n",
       "      <th></th>\n",
       "      <th></th>\n",
       "      <th></th>\n",
       "    </tr>\n",
       "  </thead>\n",
       "  <tbody>\n",
       "    <tr>\n",
       "      <th>Action</th>\n",
       "      <td>118.13</td>\n",
       "      <td>126.05</td>\n",
       "      <td>40.49</td>\n",
       "    </tr>\n",
       "    <tr>\n",
       "      <th>Adventure</th>\n",
       "      <td>8.25</td>\n",
       "      <td>7.14</td>\n",
       "      <td>5.82</td>\n",
       "    </tr>\n",
       "    <tr>\n",
       "      <th>Fighting</th>\n",
       "      <td>8.55</td>\n",
       "      <td>15.55</td>\n",
       "      <td>7.65</td>\n",
       "    </tr>\n",
       "    <tr>\n",
       "      <th>Misc</th>\n",
       "      <td>20.04</td>\n",
       "      <td>27.49</td>\n",
       "      <td>9.20</td>\n",
       "    </tr>\n",
       "    <tr>\n",
       "      <th>Platform</th>\n",
       "      <td>15.58</td>\n",
       "      <td>18.14</td>\n",
       "      <td>4.79</td>\n",
       "    </tr>\n",
       "    <tr>\n",
       "      <th>Puzzle</th>\n",
       "      <td>1.00</td>\n",
       "      <td>0.83</td>\n",
       "      <td>1.18</td>\n",
       "    </tr>\n",
       "    <tr>\n",
       "      <th>Racing</th>\n",
       "      <td>20.19</td>\n",
       "      <td>12.96</td>\n",
       "      <td>2.30</td>\n",
       "    </tr>\n",
       "    <tr>\n",
       "      <th>Role-Playing</th>\n",
       "      <td>36.97</td>\n",
       "      <td>46.40</td>\n",
       "      <td>51.04</td>\n",
       "    </tr>\n",
       "    <tr>\n",
       "      <th>Shooter</th>\n",
       "      <td>87.86</td>\n",
       "      <td>109.74</td>\n",
       "      <td>6.61</td>\n",
       "    </tr>\n",
       "    <tr>\n",
       "      <th>Simulation</th>\n",
       "      <td>10.92</td>\n",
       "      <td>4.86</td>\n",
       "      <td>4.52</td>\n",
       "    </tr>\n",
       "    <tr>\n",
       "      <th>Sports</th>\n",
       "      <td>60.52</td>\n",
       "      <td>65.27</td>\n",
       "      <td>5.41</td>\n",
       "    </tr>\n",
       "    <tr>\n",
       "      <th>Strategy</th>\n",
       "      <td>4.22</td>\n",
       "      <td>3.28</td>\n",
       "      <td>1.77</td>\n",
       "    </tr>\n",
       "  </tbody>\n",
       "</table>\n",
       "</div>"
      ],
      "text/plain": [
       "              eu_sales  na_sales  jp_sales\n",
       "genre                                     \n",
       "Action          118.13    126.05     40.49\n",
       "Adventure         8.25      7.14      5.82\n",
       "Fighting          8.55     15.55      7.65\n",
       "Misc             20.04     27.49      9.20\n",
       "Platform         15.58     18.14      4.79\n",
       "Puzzle            1.00      0.83      1.18\n",
       "Racing           20.19     12.96      2.30\n",
       "Role-Playing     36.97     46.40     51.04\n",
       "Shooter          87.86    109.74      6.61\n",
       "Simulation       10.92      4.86      4.52\n",
       "Sports           60.52     65.27      5.41\n",
       "Strategy          4.22      3.28      1.77"
      ]
     },
     "execution_count": 80,
     "metadata": {},
     "output_type": "execute_result"
    }
   ],
   "source": [
    "genre_region_total = eu_genre_total.join(na_genre_total, lsuffix = '_eu', rsuffix = '_na', how = 'inner')\n",
    "genre_region_total = genre_region_total.join(jp_genre_total, rsuffix = '_na', how = 'inner')\n",
    "genre_region_total"
   ]
  },
  {
   "cell_type": "code",
   "execution_count": 81,
   "metadata": {
    "scrolled": true
   },
   "outputs": [
    {
     "data": {
      "text/plain": [
       "<AxesSubplot:xlabel='genre'>"
      ]
     },
     "execution_count": 81,
     "metadata": {},
     "output_type": "execute_result"
    },
    {
     "data": {
      "image/png": "[encoded data removed]",
      "text/plain": [
       "<Figure size 432x288 with 1 Axes>"
      ]
     },
     "metadata": {
      "needs_background": "light"
     },
     "output_type": "display_data"
    }
   ],
   "source": [
    "genre_region_total.plot(kind = 'bar')"
   ]
  },
  {
   "cell_type": "code",
   "execution_count": 82,
   "metadata": {},
   "outputs": [],
   "source": [
    "eu_genre_mean = data_new.pivot_table(index = 'genre', values = 'eu_sales', aggfunc = 'mean')\n",
    "na_genre_mean = data_new.pivot_table(index = 'genre', values = 'na_sales', aggfunc = 'mean')\n",
    "jp_genre_mean = data_new.pivot_table(index = 'genre', values = 'jp_sales', aggfunc = 'mean')"
   ]
  },
  {
   "cell_type": "code",
   "execution_count": 83,
   "metadata": {},
   "outputs": [
    {
     "data": {
      "text/html": [
       "<div>\n",
       "<style scoped>\n",
       "    .dataframe tbody tr th:only-of-type {\n",
       "        vertical-align: middle;\n",
       "    }\n",
       "\n",
       "    .dataframe tbody tr th {\n",
       "        vertical-align: top;\n",
       "    }\n",
       "\n",
       "    .dataframe thead th {\n",
       "        text-align: right;\n",
       "    }\n",
       "</style>\n",
       "<table border=\"1\" class=\"dataframe\">\n",
       "  <thead>\n",
       "    <tr style=\"text-align: right;\">\n",
       "      <th></th>\n",
       "      <th>eu_sales</th>\n",
       "      <th>na_sales</th>\n",
       "      <th>jp_sales</th>\n",
       "    </tr>\n",
       "    <tr>\n",
       "      <th>genre</th>\n",
       "      <th></th>\n",
       "      <th></th>\n",
       "      <th></th>\n",
       "    </tr>\n",
       "  </thead>\n",
       "  <tbody>\n",
       "    <tr>\n",
       "      <th>Action</th>\n",
       "      <td>0.154217</td>\n",
       "      <td>0.164556</td>\n",
       "      <td>0.052859</td>\n",
       "    </tr>\n",
       "    <tr>\n",
       "      <th>Adventure</th>\n",
       "      <td>0.033673</td>\n",
       "      <td>0.029143</td>\n",
       "      <td>0.023755</td>\n",
       "    </tr>\n",
       "    <tr>\n",
       "      <th>Fighting</th>\n",
       "      <td>0.106875</td>\n",
       "      <td>0.194375</td>\n",
       "      <td>0.095625</td>\n",
       "    </tr>\n",
       "    <tr>\n",
       "      <th>Misc</th>\n",
       "      <td>0.129290</td>\n",
       "      <td>0.177355</td>\n",
       "      <td>0.059355</td>\n",
       "    </tr>\n",
       "    <tr>\n",
       "      <th>Platform</th>\n",
       "      <td>0.210541</td>\n",
       "      <td>0.245135</td>\n",
       "      <td>0.064730</td>\n",
       "    </tr>\n",
       "    <tr>\n",
       "      <th>Puzzle</th>\n",
       "      <td>0.058824</td>\n",
       "      <td>0.048824</td>\n",
       "      <td>0.069412</td>\n",
       "    </tr>\n",
       "    <tr>\n",
       "      <th>Racing</th>\n",
       "      <td>0.237529</td>\n",
       "      <td>0.152471</td>\n",
       "      <td>0.027059</td>\n",
       "    </tr>\n",
       "    <tr>\n",
       "      <th>Role-Playing</th>\n",
       "      <td>0.126610</td>\n",
       "      <td>0.158904</td>\n",
       "      <td>0.174795</td>\n",
       "    </tr>\n",
       "    <tr>\n",
       "      <th>Shooter</th>\n",
       "      <td>0.469840</td>\n",
       "      <td>0.586845</td>\n",
       "      <td>0.035348</td>\n",
       "    </tr>\n",
       "    <tr>\n",
       "      <th>Simulation</th>\n",
       "      <td>0.176129</td>\n",
       "      <td>0.078387</td>\n",
       "      <td>0.072903</td>\n",
       "    </tr>\n",
       "    <tr>\n",
       "      <th>Sports</th>\n",
       "      <td>0.282804</td>\n",
       "      <td>0.305000</td>\n",
       "      <td>0.025280</td>\n",
       "    </tr>\n",
       "    <tr>\n",
       "      <th>Strategy</th>\n",
       "      <td>0.075357</td>\n",
       "      <td>0.058571</td>\n",
       "      <td>0.031607</td>\n",
       "    </tr>\n",
       "  </tbody>\n",
       "</table>\n",
       "</div>"
      ],
      "text/plain": [
       "              eu_sales  na_sales  jp_sales\n",
       "genre                                     \n",
       "Action        0.154217  0.164556  0.052859\n",
       "Adventure     0.033673  0.029143  0.023755\n",
       "Fighting      0.106875  0.194375  0.095625\n",
       "Misc          0.129290  0.177355  0.059355\n",
       "Platform      0.210541  0.245135  0.064730\n",
       "Puzzle        0.058824  0.048824  0.069412\n",
       "Racing        0.237529  0.152471  0.027059\n",
       "Role-Playing  0.126610  0.158904  0.174795\n",
       "Shooter       0.469840  0.586845  0.035348\n",
       "Simulation    0.176129  0.078387  0.072903\n",
       "Sports        0.282804  0.305000  0.025280\n",
       "Strategy      0.075357  0.058571  0.031607"
      ]
     },
     "execution_count": 83,
     "metadata": {},
     "output_type": "execute_result"
    }
   ],
   "source": [
    "genre_region_mean = eu_genre_mean.join(na_genre_mean, lsuffix = '_eu', rsuffix = '_na', how = 'inner')\n",
    "genre_region_mean = genre_region_mean.join(jp_genre_mean, rsuffix = '_na', how = 'inner')\n",
    "genre_region_mean"
   ]
  },
  {
   "cell_type": "code",
   "execution_count": 84,
   "metadata": {},
   "outputs": [
    {
     "data": {
      "text/plain": [
       "<AxesSubplot:xlabel='genre'>"
      ]
     },
     "execution_count": 84,
     "metadata": {},
     "output_type": "execute_result"
    },
    {
     "data": {
      "image/png": "[encoded data removed]",
      "text/plain": [
       "<Figure size 432x288 with 1 Axes>"
      ]
     },
     "metadata": {
      "needs_background": "light"
     },
     "output_type": "display_data"
    }
   ],
   "source": [
    "genre_region_mean.plot(kind = 'bar')"
   ]
  },
  {
   "cell_type": "code",
   "execution_count": 85,
   "metadata": {},
   "outputs": [],
   "source": [
    "eu_platform_mean = data_new.pivot_table(index = 'platform', values = 'eu_sales', aggfunc = 'mean')\n",
    "na_platform_mean = data_new.pivot_table(index = 'platform', values = 'na_sales', aggfunc = 'mean')\n",
    "jp_platform_mean = data_new.pivot_table(index = 'platform', values = 'jp_sales', aggfunc = 'mean')"
   ]
  },
  {
   "cell_type": "code",
   "execution_count": 86,
   "metadata": {},
   "outputs": [
    {
     "data": {
      "text/html": [
       "<div>\n",
       "<style scoped>\n",
       "    .dataframe tbody tr th:only-of-type {\n",
       "        vertical-align: middle;\n",
       "    }\n",
       "\n",
       "    .dataframe tbody tr th {\n",
       "        vertical-align: top;\n",
       "    }\n",
       "\n",
       "    .dataframe thead th {\n",
       "        text-align: right;\n",
       "    }\n",
       "</style>\n",
       "<table border=\"1\" class=\"dataframe\">\n",
       "  <thead>\n",
       "    <tr style=\"text-align: right;\">\n",
       "      <th></th>\n",
       "      <th>eu_sales</th>\n",
       "    </tr>\n",
       "    <tr>\n",
       "      <th>platform</th>\n",
       "      <th></th>\n",
       "    </tr>\n",
       "  </thead>\n",
       "  <tbody>\n",
       "    <tr>\n",
       "      <th>PS4</th>\n",
       "      <td>0.359923</td>\n",
       "    </tr>\n",
       "    <tr>\n",
       "      <th>Wii</th>\n",
       "      <td>0.257826</td>\n",
       "    </tr>\n",
       "    <tr>\n",
       "      <th>X360</th>\n",
       "      <td>0.228602</td>\n",
       "    </tr>\n",
       "    <tr>\n",
       "      <th>XOne</th>\n",
       "      <td>0.208866</td>\n",
       "    </tr>\n",
       "    <tr>\n",
       "      <th>PS3</th>\n",
       "      <td>0.196551</td>\n",
       "    </tr>\n",
       "    <tr>\n",
       "      <th>WiiU</th>\n",
       "      <td>0.172609</td>\n",
       "    </tr>\n",
       "    <tr>\n",
       "      <th>PC</th>\n",
       "      <td>0.134180</td>\n",
       "    </tr>\n",
       "    <tr>\n",
       "      <th>DS</th>\n",
       "      <td>0.106250</td>\n",
       "    </tr>\n",
       "    <tr>\n",
       "      <th>3DS</th>\n",
       "      <td>0.102178</td>\n",
       "    </tr>\n",
       "    <tr>\n",
       "      <th>PSV</th>\n",
       "      <td>0.017039</td>\n",
       "    </tr>\n",
       "    <tr>\n",
       "      <th>PSP</th>\n",
       "      <td>0.002537</td>\n",
       "    </tr>\n",
       "  </tbody>\n",
       "</table>\n",
       "</div>"
      ],
      "text/plain": [
       "          eu_sales\n",
       "platform          \n",
       "PS4       0.359923\n",
       "Wii       0.257826\n",
       "X360      0.228602\n",
       "XOne      0.208866\n",
       "PS3       0.196551\n",
       "WiiU      0.172609\n",
       "PC        0.134180\n",
       "DS        0.106250\n",
       "3DS       0.102178\n",
       "PSV       0.017039\n",
       "PSP       0.002537"
      ]
     },
     "execution_count": 86,
     "metadata": {},
     "output_type": "execute_result"
    }
   ],
   "source": [
    "eu_platform_mean.sort_values(by = 'eu_sales', ascending = False)"
   ]
  },
  {
   "cell_type": "code",
   "execution_count": 87,
   "metadata": {},
   "outputs": [
    {
     "data": {
      "text/html": [
       "<div>\n",
       "<style scoped>\n",
       "    .dataframe tbody tr th:only-of-type {\n",
       "        vertical-align: middle;\n",
       "    }\n",
       "\n",
       "    .dataframe tbody tr th {\n",
       "        vertical-align: top;\n",
       "    }\n",
       "\n",
       "    .dataframe thead th {\n",
       "        text-align: right;\n",
       "    }\n",
       "</style>\n",
       "<table border=\"1\" class=\"dataframe\">\n",
       "  <thead>\n",
       "    <tr style=\"text-align: right;\">\n",
       "      <th></th>\n",
       "      <th>na_sales</th>\n",
       "    </tr>\n",
       "    <tr>\n",
       "      <th>platform</th>\n",
       "      <th></th>\n",
       "    </tr>\n",
       "  </thead>\n",
       "  <tbody>\n",
       "    <tr>\n",
       "      <th>X360</th>\n",
       "      <td>0.439032</td>\n",
       "    </tr>\n",
       "    <tr>\n",
       "      <th>XOne</th>\n",
       "      <td>0.377004</td>\n",
       "    </tr>\n",
       "    <tr>\n",
       "      <th>Wii</th>\n",
       "      <td>0.285217</td>\n",
       "    </tr>\n",
       "    <tr>\n",
       "      <th>PS4</th>\n",
       "      <td>0.277398</td>\n",
       "    </tr>\n",
       "    <tr>\n",
       "      <th>WiiU</th>\n",
       "      <td>0.254000</td>\n",
       "    </tr>\n",
       "    <tr>\n",
       "      <th>PS3</th>\n",
       "      <td>0.184058</td>\n",
       "    </tr>\n",
       "    <tr>\n",
       "      <th>3DS</th>\n",
       "      <td>0.126073</td>\n",
       "    </tr>\n",
       "    <tr>\n",
       "      <th>DS</th>\n",
       "      <td>0.071250</td>\n",
       "    </tr>\n",
       "    <tr>\n",
       "      <th>PC</th>\n",
       "      <td>0.058783</td>\n",
       "    </tr>\n",
       "    <tr>\n",
       "      <th>PSV</th>\n",
       "      <td>0.014078</td>\n",
       "    </tr>\n",
       "    <tr>\n",
       "      <th>PSP</th>\n",
       "      <td>0.000000</td>\n",
       "    </tr>\n",
       "  </tbody>\n",
       "</table>\n",
       "</div>"
      ],
      "text/plain": [
       "          na_sales\n",
       "platform          \n",
       "X360      0.439032\n",
       "XOne      0.377004\n",
       "Wii       0.285217\n",
       "PS4       0.277398\n",
       "WiiU      0.254000\n",
       "PS3       0.184058\n",
       "3DS       0.126073\n",
       "DS        0.071250\n",
       "PC        0.058783\n",
       "PSV       0.014078\n",
       "PSP       0.000000"
      ]
     },
     "execution_count": 87,
     "metadata": {},
     "output_type": "execute_result"
    }
   ],
   "source": [
    "na_platform_mean.sort_values(by = 'na_sales', ascending = False)"
   ]
  },
  {
   "cell_type": "code",
   "execution_count": 88,
   "metadata": {},
   "outputs": [
    {
     "data": {
      "text/html": [
       "<div>\n",
       "<style scoped>\n",
       "    .dataframe tbody tr th:only-of-type {\n",
       "        vertical-align: middle;\n",
       "    }\n",
       "\n",
       "    .dataframe tbody tr th {\n",
       "        vertical-align: top;\n",
       "    }\n",
       "\n",
       "    .dataframe thead th {\n",
       "        text-align: right;\n",
       "    }\n",
       "</style>\n",
       "<table border=\"1\" class=\"dataframe\">\n",
       "  <thead>\n",
       "    <tr style=\"text-align: right;\">\n",
       "      <th></th>\n",
       "      <th>jp_sales</th>\n",
       "    </tr>\n",
       "    <tr>\n",
       "      <th>platform</th>\n",
       "      <th></th>\n",
       "    </tr>\n",
       "  </thead>\n",
       "  <tbody>\n",
       "    <tr>\n",
       "      <th>3DS</th>\n",
       "      <td>0.223795</td>\n",
       "    </tr>\n",
       "    <tr>\n",
       "      <th>WiiU</th>\n",
       "      <td>0.094609</td>\n",
       "    </tr>\n",
       "    <tr>\n",
       "      <th>PS3</th>\n",
       "      <td>0.067681</td>\n",
       "    </tr>\n",
       "    <tr>\n",
       "      <th>PSV</th>\n",
       "      <td>0.051927</td>\n",
       "    </tr>\n",
       "    <tr>\n",
       "      <th>PSP</th>\n",
       "      <td>0.049104</td>\n",
       "    </tr>\n",
       "    <tr>\n",
       "      <th>PS4</th>\n",
       "      <td>0.040714</td>\n",
       "    </tr>\n",
       "    <tr>\n",
       "      <th>X360</th>\n",
       "      <td>0.002742</td>\n",
       "    </tr>\n",
       "    <tr>\n",
       "      <th>Wii</th>\n",
       "      <td>0.002174</td>\n",
       "    </tr>\n",
       "    <tr>\n",
       "      <th>XOne</th>\n",
       "      <td>0.001377</td>\n",
       "    </tr>\n",
       "    <tr>\n",
       "      <th>DS</th>\n",
       "      <td>0.000000</td>\n",
       "    </tr>\n",
       "    <tr>\n",
       "      <th>PC</th>\n",
       "      <td>0.000000</td>\n",
       "    </tr>\n",
       "  </tbody>\n",
       "</table>\n",
       "</div>"
      ],
      "text/plain": [
       "          jp_sales\n",
       "platform          \n",
       "3DS       0.223795\n",
       "WiiU      0.094609\n",
       "PS3       0.067681\n",
       "PSV       0.051927\n",
       "PSP       0.049104\n",
       "PS4       0.040714\n",
       "X360      0.002742\n",
       "Wii       0.002174\n",
       "XOne      0.001377\n",
       "DS        0.000000\n",
       "PC        0.000000"
      ]
     },
     "execution_count": 88,
     "metadata": {},
     "output_type": "execute_result"
    }
   ],
   "source": [
    "jp_platform_mean.sort_values(by = 'jp_sales', ascending = False)"
   ]
  },
  {
   "cell_type": "code",
   "execution_count": 89,
   "metadata": {},
   "outputs": [
    {
     "data": {
      "text/html": [
       "<div>\n",
       "<style scoped>\n",
       "    .dataframe tbody tr th:only-of-type {\n",
       "        vertical-align: middle;\n",
       "    }\n",
       "\n",
       "    .dataframe tbody tr th {\n",
       "        vertical-align: top;\n",
       "    }\n",
       "\n",
       "    .dataframe thead th {\n",
       "        text-align: right;\n",
       "    }\n",
       "</style>\n",
       "<table border=\"1\" class=\"dataframe\">\n",
       "  <thead>\n",
       "    <tr style=\"text-align: right;\">\n",
       "      <th></th>\n",
       "      <th>eu_sales</th>\n",
       "      <th>na_sales</th>\n",
       "      <th>jp_sales</th>\n",
       "    </tr>\n",
       "    <tr>\n",
       "      <th>platform</th>\n",
       "      <th></th>\n",
       "      <th></th>\n",
       "      <th></th>\n",
       "    </tr>\n",
       "  </thead>\n",
       "  <tbody>\n",
       "    <tr>\n",
       "      <th>3DS</th>\n",
       "      <td>0.102178</td>\n",
       "      <td>0.126073</td>\n",
       "      <td>0.223795</td>\n",
       "    </tr>\n",
       "    <tr>\n",
       "      <th>DS</th>\n",
       "      <td>0.106250</td>\n",
       "      <td>0.071250</td>\n",
       "      <td>0.000000</td>\n",
       "    </tr>\n",
       "    <tr>\n",
       "      <th>PC</th>\n",
       "      <td>0.134180</td>\n",
       "      <td>0.058783</td>\n",
       "      <td>0.000000</td>\n",
       "    </tr>\n",
       "    <tr>\n",
       "      <th>PS3</th>\n",
       "      <td>0.196551</td>\n",
       "      <td>0.184058</td>\n",
       "      <td>0.067681</td>\n",
       "    </tr>\n",
       "    <tr>\n",
       "      <th>PS4</th>\n",
       "      <td>0.359923</td>\n",
       "      <td>0.277398</td>\n",
       "      <td>0.040714</td>\n",
       "    </tr>\n",
       "    <tr>\n",
       "      <th>PSP</th>\n",
       "      <td>0.002537</td>\n",
       "      <td>0.000000</td>\n",
       "      <td>0.049104</td>\n",
       "    </tr>\n",
       "    <tr>\n",
       "      <th>PSV</th>\n",
       "      <td>0.017039</td>\n",
       "      <td>0.014078</td>\n",
       "      <td>0.051927</td>\n",
       "    </tr>\n",
       "    <tr>\n",
       "      <th>Wii</th>\n",
       "      <td>0.257826</td>\n",
       "      <td>0.285217</td>\n",
       "      <td>0.002174</td>\n",
       "    </tr>\n",
       "    <tr>\n",
       "      <th>WiiU</th>\n",
       "      <td>0.172609</td>\n",
       "      <td>0.254000</td>\n",
       "      <td>0.094609</td>\n",
       "    </tr>\n",
       "    <tr>\n",
       "      <th>X360</th>\n",
       "      <td>0.228602</td>\n",
       "      <td>0.439032</td>\n",
       "      <td>0.002742</td>\n",
       "    </tr>\n",
       "    <tr>\n",
       "      <th>XOne</th>\n",
       "      <td>0.208866</td>\n",
       "      <td>0.377004</td>\n",
       "      <td>0.001377</td>\n",
       "    </tr>\n",
       "  </tbody>\n",
       "</table>\n",
       "</div>"
      ],
      "text/plain": [
       "          eu_sales  na_sales  jp_sales\n",
       "platform                              \n",
       "3DS       0.102178  0.126073  0.223795\n",
       "DS        0.106250  0.071250  0.000000\n",
       "PC        0.134180  0.058783  0.000000\n",
       "PS3       0.196551  0.184058  0.067681\n",
       "PS4       0.359923  0.277398  0.040714\n",
       "PSP       0.002537  0.000000  0.049104\n",
       "PSV       0.017039  0.014078  0.051927\n",
       "Wii       0.257826  0.285217  0.002174\n",
       "WiiU      0.172609  0.254000  0.094609\n",
       "X360      0.228602  0.439032  0.002742\n",
       "XOne      0.208866  0.377004  0.001377"
      ]
     },
     "execution_count": 89,
     "metadata": {},
     "output_type": "execute_result"
    }
   ],
   "source": [
    "platform_region_mean = eu_platform_mean.join(na_platform_mean, lsuffix = '_eu', rsuffix = '_na', how = 'inner')\n",
    "platform_region_mean = platform_region_mean.join(jp_platform_mean, rsuffix = '_na', how = 'inner')\n",
    "platform_region_mean"
   ]
  },
  {
   "cell_type": "code",
   "execution_count": 90,
   "metadata": {},
   "outputs": [
    {
     "data": {
      "text/plain": [
       "<AxesSubplot:xlabel='platform'>"
      ]
     },
     "execution_count": 90,
     "metadata": {},
     "output_type": "execute_result"
    },
    {
     "data": {
      "image/png": "[encoded data removed]",
      "text/plain": [
       "<Figure size 720x720 with 1 Axes>"
      ]
     },
     "metadata": {
      "needs_background": "light"
     },
     "output_type": "display_data"
    }
   ],
   "source": [
    "platform_region_mean.plot(kind = 'bar', figsize = (10,10))"
   ]
  },
  {
   "cell_type": "code",
   "execution_count": 100,
   "metadata": {},
   "outputs": [
    {
     "data": {
      "text/plain": [
       "<AxesSubplot:xlabel='rating'>"
      ]
     },
     "execution_count": 100,
     "metadata": {},
     "output_type": "execute_result"
    },
    {
     "data": {
      "image/png": "[encoded data removed]",
      "text/plain": [
       "<Figure size 432x288 with 1 Axes>"
      ]
     },
     "metadata": {
      "needs_background": "light"
     },
     "output_type": "display_data"
    }
   ],
   "source": [
    "data_esrb = data_new.query('rating != \"Z\"')\n",
    "esrb_na = data_esrb.pivot_table(index = 'rating', values = 'na_sales', aggfunc = 'mean')\n",
    "esrb_eu = data_esrb.pivot_table(index = 'rating', values = 'eu_sales', aggfunc = 'mean')\n",
    "esrb_jp = data_esrb.pivot_table(index = 'rating', values = 'jp_sales', aggfunc = 'mean')\n",
    "esrb = esrb_na.join(esrb_eu, lsuffix = '_na', rsuffix = '_eu', how = 'outer')\n",
    "esrb = esrb.join(esrb_jp, rsuffix = '_jp', how = 'outer')\n",
    "esrb.plot(kind = 'bar')"
   ]
  },
  {
   "cell_type": "markdown",
   "metadata": {},
   "source": [
    "Top genres in Europe in order are: action, shooter, sports, role-playing, and racing. For North America: action, shooter, sports, role-playing, miscellaneous. For Japan: role-playing, action, miscellaneous, fighting, then shooter. North America and Europe have very similar tastes. Japan favors role-playing the most as that genre has historically been very popular there. Some of the most popular role playing games such as Final Fantasy originated in Japan.\n",
    "\n",
    "Top selling platforms in Europe in order are: PS4, Wii, Xbox 360, Xbox One, and PS3. For North America: Xbox 360, Xbox One, Wii, PS4, and Wii U. For Japan: 3DS, Wii U, PS3, PS Vita, PSP. For the majority of consoles, Europe and North America have the leading sales. This is due to the fact that Europe and North America have much higher populations than Japan. However, for the 3DS Japan has considerably higher sales than the other regions. This indicates that hand-held gaming has a much higher market value in Japan than either of the other regions. North America's top consoles are Xbox consoles due to the fact that Microsoft is an American company. \n",
    "\n",
    "In terms of ratings, Mature rated games are the most popular in North America and Europe while Teen games and Everyone games are more popular in Japan. This indicates that the average gamer in Japan is younger than in either of the other regions."
   ]
  },
  {
   "cell_type": "markdown",
   "metadata": {},
   "source": [
    "Null hypothesis = Average user ratings of the Xbox One and PC platforms are the same.\n",
    "\n",
    "Alternative hypothesis = Average user ratings of the Xbox One and PC platforms are not the same."
   ]
  },
  {
   "cell_type": "code",
   "execution_count": 92,
   "metadata": {},
   "outputs": [
    {
     "name": "stdout",
     "output_type": "stream",
     "text": [
      "<class 'pandas.core.frame.DataFrame'>\n",
      "Int64Index: 247 entries, 99 to 16672\n",
      "Data columns (total 12 columns):\n",
      " #   Column           Non-Null Count  Dtype  \n",
      "---  ------           --------------  -----  \n",
      " 0   name             247 non-null    object \n",
      " 1   platform         247 non-null    object \n",
      " 2   year_of_release  247 non-null    float64\n",
      " 3   genre            247 non-null    object \n",
      " 4   na_sales         247 non-null    float64\n",
      " 5   eu_sales         247 non-null    float64\n",
      " 6   jp_sales         247 non-null    float64\n",
      " 7   other_sales      247 non-null    float64\n",
      " 8   critic_score     247 non-null    float64\n",
      " 9   user_score       247 non-null    float64\n",
      " 10  rating           247 non-null    object \n",
      " 11  total_sales      247 non-null    float64\n",
      "dtypes: float64(8), object(4)\n",
      "memory usage: 25.1+ KB\n"
     ]
    }
   ],
   "source": [
    "xone.info()"
   ]
  },
  {
   "cell_type": "markdown",
   "metadata": {},
   "source": [
    "Null hypothesis = Average user ratings for the Action and Sports genres are the same.\n",
    "\n",
    "Alternative hypothesis = Average user ratings for the Action and Sports genres are not the same."
   ]
  },
  {
   "cell_type": "code",
   "execution_count": 93,
   "metadata": {},
   "outputs": [
    {
     "name": "stdout",
     "output_type": "stream",
     "text": [
      "p-value:  0.20042453495257723\n",
      "We can't reject the null hypothesis\n"
     ]
    }
   ],
   "source": [
    "sample_xone = xone['user_score']\n",
    "sample_pc = pc['user_score']\n",
    "\n",
    "alpha = 0.05\n",
    "results = st.ttest_ind(sample_xone, sample_pc)\n",
    "\n",
    "print('p-value: ', results.pvalue)\n",
    "\n",
    "if results.pvalue < alpha:\n",
    "    print(\"We reject the null hypothesis\")\n",
    "else:\n",
    "    print(\"We can't reject the null hypothesis\")"
   ]
  },
  {
   "cell_type": "code",
   "execution_count": 94,
   "metadata": {},
   "outputs": [],
   "source": [
    "action = data_new.query('genre == \"Action\"')\n",
    "sports = data_new.query('genre == \"Sports\"')\n",
    "action = action.query('user_score != \"tbd\"')\n",
    "sports = sports.query('user_score != \"tbd\"')\n",
    "action.dropna(inplace = True)\n",
    "sports.dropna(inplace = True)\n",
    "action['user_score'] = pd.to_numeric(action['user_score'])\n",
    "sports['user_score'] = pd.to_numeric(sports['user_score'])"
   ]
  },
  {
   "cell_type": "code",
   "execution_count": 95,
   "metadata": {},
   "outputs": [
    {
     "name": "stdout",
     "output_type": "stream",
     "text": [
      "p-value:  3.151845214758931e-20\n",
      "We reject the null hypothesis\n"
     ]
    }
   ],
   "source": [
    "sample_action = action['user_score']\n",
    "sample_pc = pc['user_score']\n",
    "\n",
    "alpha = 0.05\n",
    "results_2 = st.ttest_ind(sample_action, sample_pc)\n",
    "\n",
    "print('p-value: ', results_2.pvalue)\n",
    "\n",
    "if results_2.pvalue < alpha:\n",
    "    print(\"We reject the null hypothesis\")\n",
    "else:\n",
    "    print(\"We can't reject the null hypothesis\")"
   ]
  },
  {
   "cell_type": "markdown",
   "metadata": {},
   "source": [
    "The null and alternative hypotheses were formulated in this manner because the null hypothesis must always indicate that values in question are the same. 0.05 was chosen as the alpha value as it is typically the standard alpha value."
   ]
  },
  {
   "cell_type": "markdown",
   "metadata": {},
   "source": [
    "Conclusion\n",
    "\n",
    "In order to craft a purposeful advertising campaign, games should be targeted towards regions where they are most popular. Since PS4 and Xbox One seem to be on upwards trends, we should push them in Europe and North America. Japan does not have high sales for Xbox One so we should push PS4 and 3DS games there. In Europe and North America we should push action and shooter games but in Japan we should push action and role-playing games. We should also target an older audience in Europe and in North America (rated M games) but in Japan we should target younger audiences (rated T and rated E)."
   ]
  }
 ],
 "metadata": {
  "ExecuteTimeLog": [
   {
    "duration": 384,
    "start_time": "2022-05-06T19:56:01.918Z"
   },
   {
    "duration": 57,
    "start_time": "2022-05-06T19:56:23.969Z"
   },
   {
    "duration": 25,
    "start_time": "2022-05-06T19:56:27.180Z"
   },
   {
    "duration": 98,
    "start_time": "2022-05-07T19:50:28.261Z"
   },
   {
    "duration": 564,
    "start_time": "2022-05-07T19:50:33.785Z"
   },
   {
    "duration": 59,
    "start_time": "2022-05-07T19:50:34.353Z"
   },
   {
    "duration": 50,
    "start_time": "2022-05-07T19:50:34.491Z"
   },
   {
    "duration": 5,
    "start_time": "2022-05-07T19:50:35.978Z"
   },
   {
    "duration": 29,
    "start_time": "2022-05-07T19:50:41.918Z"
   },
   {
    "duration": 21,
    "start_time": "2022-05-07T19:52:41.152Z"
   },
   {
    "duration": 10,
    "start_time": "2022-05-07T20:05:37.953Z"
   },
   {
    "duration": 32,
    "start_time": "2022-05-07T20:05:45.543Z"
   },
   {
    "duration": 6,
    "start_time": "2022-05-07T20:06:04.570Z"
   },
   {
    "duration": 41,
    "start_time": "2022-05-07T20:06:07.580Z"
   },
   {
    "duration": 11,
    "start_time": "2022-05-07T20:18:33.402Z"
   },
   {
    "duration": 43,
    "start_time": "2022-05-07T20:23:36.956Z"
   },
   {
    "duration": 11,
    "start_time": "2022-05-07T20:23:41.987Z"
   },
   {
    "duration": 4,
    "start_time": "2022-05-07T20:24:46.169Z"
   },
   {
    "duration": 22,
    "start_time": "2022-05-07T20:24:51.438Z"
   },
   {
    "duration": 15,
    "start_time": "2022-05-07T20:26:09.006Z"
   },
   {
    "duration": 17,
    "start_time": "2022-05-07T20:26:18.399Z"
   },
   {
    "duration": 5,
    "start_time": "2022-05-07T20:27:33.344Z"
   },
   {
    "duration": 1245,
    "start_time": "2022-05-07T20:49:24.026Z"
   },
   {
    "duration": 458,
    "start_time": "2022-05-13T02:06:45.129Z"
   },
   {
    "duration": 56,
    "start_time": "2022-05-13T02:06:45.590Z"
   },
   {
    "duration": 31,
    "start_time": "2022-05-13T02:06:45.648Z"
   },
   {
    "duration": 16,
    "start_time": "2022-05-13T02:06:45.681Z"
   },
   {
    "duration": 4,
    "start_time": "2022-05-13T02:06:45.698Z"
   },
   {
    "duration": 31,
    "start_time": "2022-05-13T02:06:45.704Z"
   },
   {
    "duration": 35,
    "start_time": "2022-05-13T02:06:45.737Z"
   },
   {
    "duration": 14,
    "start_time": "2022-05-13T02:06:45.774Z"
   },
   {
    "duration": 14,
    "start_time": "2022-05-13T02:06:45.789Z"
   },
   {
    "duration": 31,
    "start_time": "2022-05-13T02:06:45.805Z"
   },
   {
    "duration": 7,
    "start_time": "2022-05-13T02:06:45.838Z"
   },
   {
    "duration": 942,
    "start_time": "2022-05-13T02:06:45.846Z"
   },
   {
    "duration": 32,
    "start_time": "2022-05-13T02:06:53.332Z"
   },
   {
    "duration": 10,
    "start_time": "2022-05-13T02:07:11.445Z"
   },
   {
    "duration": 6,
    "start_time": "2022-05-13T02:18:25.649Z"
   },
   {
    "duration": 17,
    "start_time": "2022-05-13T02:21:05.195Z"
   },
   {
    "duration": 89,
    "start_time": "2022-05-13T02:21:49.913Z"
   },
   {
    "duration": 16,
    "start_time": "2022-05-13T02:21:58.272Z"
   },
   {
    "duration": 19,
    "start_time": "2022-05-13T02:22:24.582Z"
   },
   {
    "duration": 17,
    "start_time": "2022-05-13T02:23:17.400Z"
   },
   {
    "duration": 11,
    "start_time": "2022-05-13T02:23:42.357Z"
   },
   {
    "duration": 287,
    "start_time": "2022-05-13T02:23:59.735Z"
   },
   {
    "duration": 3,
    "start_time": "2022-05-13T03:21:54.587Z"
   },
   {
    "duration": 57,
    "start_time": "2022-05-13T03:21:54.592Z"
   },
   {
    "duration": 23,
    "start_time": "2022-05-13T03:21:54.651Z"
   },
   {
    "duration": 17,
    "start_time": "2022-05-13T03:21:54.676Z"
   },
   {
    "duration": 4,
    "start_time": "2022-05-13T03:21:54.695Z"
   },
   {
    "duration": 14,
    "start_time": "2022-05-13T03:21:54.701Z"
   },
   {
    "duration": 81,
    "start_time": "2022-05-13T03:21:54.733Z"
   },
   {
    "duration": 23,
    "start_time": "2022-05-13T03:21:54.816Z"
   },
   {
    "duration": 11,
    "start_time": "2022-05-13T03:21:54.840Z"
   },
   {
    "duration": 12,
    "start_time": "2022-05-13T03:21:54.852Z"
   },
   {
    "duration": 12,
    "start_time": "2022-05-13T03:21:54.867Z"
   },
   {
    "duration": 361,
    "start_time": "2022-05-13T03:21:54.881Z"
   },
   {
    "duration": 5,
    "start_time": "2022-05-13T03:21:55.244Z"
   },
   {
    "duration": 20,
    "start_time": "2022-05-13T03:21:55.251Z"
   },
   {
    "duration": 303,
    "start_time": "2022-05-13T03:21:55.273Z"
   },
   {
    "duration": 12,
    "start_time": "2022-05-13T03:21:55.578Z"
   },
   {
    "duration": 303,
    "start_time": "2022-05-13T03:21:55.592Z"
   },
   {
    "duration": 28,
    "start_time": "2022-05-13T03:31:47.634Z"
   },
   {
    "duration": 182,
    "start_time": "2022-05-13T03:34:39.236Z"
   },
   {
    "duration": 189,
    "start_time": "2022-05-13T03:35:43.476Z"
   },
   {
    "duration": 197,
    "start_time": "2022-05-13T03:37:20.373Z"
   },
   {
    "duration": 68,
    "start_time": "2022-05-14T02:12:06.684Z"
   },
   {
    "duration": 464,
    "start_time": "2022-05-14T02:12:11.720Z"
   },
   {
    "duration": 49,
    "start_time": "2022-05-14T02:12:12.187Z"
   },
   {
    "duration": 54,
    "start_time": "2022-05-14T02:12:12.238Z"
   },
   {
    "duration": 21,
    "start_time": "2022-05-14T02:12:12.294Z"
   },
   {
    "duration": 4,
    "start_time": "2022-05-14T02:12:12.318Z"
   },
   {
    "duration": 9,
    "start_time": "2022-05-14T02:12:12.325Z"
   },
   {
    "duration": 68,
    "start_time": "2022-05-14T02:12:12.336Z"
   },
   {
    "duration": 11,
    "start_time": "2022-05-14T02:12:12.406Z"
   },
   {
    "duration": 17,
    "start_time": "2022-05-14T02:12:12.419Z"
   },
   {
    "duration": 13,
    "start_time": "2022-05-14T02:12:12.438Z"
   },
   {
    "duration": 33,
    "start_time": "2022-05-14T02:12:12.453Z"
   },
   {
    "duration": 828,
    "start_time": "2022-05-14T02:12:12.488Z"
   },
   {
    "duration": 9,
    "start_time": "2022-05-14T02:12:13.318Z"
   },
   {
    "duration": 15,
    "start_time": "2022-05-14T02:12:13.331Z"
   },
   {
    "duration": 445,
    "start_time": "2022-05-14T02:12:13.349Z"
   },
   {
    "duration": 15,
    "start_time": "2022-05-14T02:12:13.796Z"
   },
   {
    "duration": 441,
    "start_time": "2022-05-14T02:12:13.813Z"
   },
   {
    "duration": 328,
    "start_time": "2022-05-14T02:12:14.256Z"
   },
   {
    "duration": 286,
    "start_time": "2022-05-14T02:12:14.586Z"
   },
   {
    "duration": 286,
    "start_time": "2022-05-14T02:12:14.881Z"
   },
   {
    "duration": 15,
    "start_time": "2022-05-14T02:12:15.169Z"
   },
   {
    "duration": 282,
    "start_time": "2022-05-14T02:19:50.916Z"
   },
   {
    "duration": 270,
    "start_time": "2022-05-14T02:21:22.914Z"
   },
   {
    "duration": 279,
    "start_time": "2022-05-14T02:22:13.324Z"
   },
   {
    "duration": 284,
    "start_time": "2022-05-14T02:23:09.020Z"
   },
   {
    "duration": 270,
    "start_time": "2022-05-14T02:23:10.547Z"
   },
   {
    "duration": 258,
    "start_time": "2022-05-14T02:27:47.389Z"
   },
   {
    "duration": 342,
    "start_time": "2022-05-14T03:24:22.628Z"
   },
   {
    "duration": 32,
    "start_time": "2022-05-14T03:25:10.379Z"
   },
   {
    "duration": 14,
    "start_time": "2022-05-14T03:25:33.299Z"
   },
   {
    "duration": 16,
    "start_time": "2022-05-14T03:26:26.708Z"
   },
   {
    "duration": 20,
    "start_time": "2022-05-14T03:33:31.061Z"
   },
   {
    "duration": 52,
    "start_time": "2022-05-14T03:34:54.525Z"
   },
   {
    "duration": 26,
    "start_time": "2022-05-14T03:35:14.547Z"
   },
   {
    "duration": 51,
    "start_time": "2022-05-16T01:54:43.989Z"
   },
   {
    "duration": 461,
    "start_time": "2022-05-16T01:54:50.320Z"
   },
   {
    "duration": 43,
    "start_time": "2022-05-16T01:54:50.783Z"
   },
   {
    "duration": 27,
    "start_time": "2022-05-16T01:54:50.828Z"
   },
   {
    "duration": 15,
    "start_time": "2022-05-16T01:54:50.856Z"
   },
   {
    "duration": 3,
    "start_time": "2022-05-16T01:54:50.874Z"
   },
   {
    "duration": 7,
    "start_time": "2022-05-16T01:54:50.879Z"
   },
   {
    "duration": 55,
    "start_time": "2022-05-16T01:54:50.888Z"
   },
   {
    "duration": 9,
    "start_time": "2022-05-16T01:54:50.944Z"
   },
   {
    "duration": 10,
    "start_time": "2022-05-16T01:54:50.955Z"
   },
   {
    "duration": 9,
    "start_time": "2022-05-16T01:54:50.967Z"
   },
   {
    "duration": 46,
    "start_time": "2022-05-16T01:54:50.978Z"
   },
   {
    "duration": 966,
    "start_time": "2022-05-16T01:54:51.025Z"
   },
   {
    "duration": 6,
    "start_time": "2022-05-16T01:54:51.993Z"
   },
   {
    "duration": 29,
    "start_time": "2022-05-16T01:54:52.001Z"
   },
   {
    "duration": 257,
    "start_time": "2022-05-16T01:54:52.032Z"
   },
   {
    "duration": 10,
    "start_time": "2022-05-16T01:54:52.291Z"
   },
   {
    "duration": 325,
    "start_time": "2022-05-16T01:54:52.303Z"
   },
   {
    "duration": 171,
    "start_time": "2022-05-16T01:54:52.630Z"
   },
   {
    "duration": 182,
    "start_time": "2022-05-16T01:54:52.803Z"
   },
   {
    "duration": 186,
    "start_time": "2022-05-16T01:54:52.987Z"
   },
   {
    "duration": 179,
    "start_time": "2022-05-16T01:54:53.175Z"
   },
   {
    "duration": 162,
    "start_time": "2022-05-16T01:54:53.356Z"
   },
   {
    "duration": 166,
    "start_time": "2022-05-16T01:54:53.522Z"
   },
   {
    "duration": 44,
    "start_time": "2022-05-16T01:54:53.690Z"
   },
   {
    "duration": 10,
    "start_time": "2022-05-16T01:55:06.773Z"
   },
   {
    "duration": 11,
    "start_time": "2022-05-16T01:55:16.331Z"
   },
   {
    "duration": 11,
    "start_time": "2022-05-16T01:56:23.838Z"
   },
   {
    "duration": 12,
    "start_time": "2022-05-16T01:56:50.577Z"
   },
   {
    "duration": 14,
    "start_time": "2022-05-16T01:57:14.362Z"
   },
   {
    "duration": 537,
    "start_time": "2022-05-16T01:57:47.944Z"
   },
   {
    "duration": 67,
    "start_time": "2022-05-16T01:57:48.484Z"
   },
   {
    "duration": 33,
    "start_time": "2022-05-16T01:57:48.554Z"
   },
   {
    "duration": 15,
    "start_time": "2022-05-16T01:57:48.589Z"
   },
   {
    "duration": 3,
    "start_time": "2022-05-16T01:57:48.623Z"
   },
   {
    "duration": 8,
    "start_time": "2022-05-16T01:57:48.628Z"
   },
   {
    "duration": 23,
    "start_time": "2022-05-16T01:57:48.637Z"
   },
   {
    "duration": 8,
    "start_time": "2022-05-16T01:57:48.662Z"
   },
   {
    "duration": 11,
    "start_time": "2022-05-16T01:57:48.672Z"
   },
   {
    "duration": 43,
    "start_time": "2022-05-16T01:57:48.686Z"
   },
   {
    "duration": 5,
    "start_time": "2022-05-16T01:57:48.731Z"
   },
   {
    "duration": 592,
    "start_time": "2022-05-16T01:57:48.737Z"
   },
   {
    "duration": 6,
    "start_time": "2022-05-16T01:57:49.331Z"
   },
   {
    "duration": 13,
    "start_time": "2022-05-16T01:57:49.339Z"
   },
   {
    "duration": 282,
    "start_time": "2022-05-16T01:57:49.354Z"
   },
   {
    "duration": 11,
    "start_time": "2022-05-16T01:57:49.638Z"
   },
   {
    "duration": 255,
    "start_time": "2022-05-16T01:57:49.650Z"
   },
   {
    "duration": 232,
    "start_time": "2022-05-16T01:57:49.907Z"
   },
   {
    "duration": 185,
    "start_time": "2022-05-16T01:57:50.141Z"
   },
   {
    "duration": 192,
    "start_time": "2022-05-16T01:57:50.328Z"
   },
   {
    "duration": 252,
    "start_time": "2022-05-16T01:57:50.523Z"
   },
   {
    "duration": 278,
    "start_time": "2022-05-16T01:57:50.777Z"
   },
   {
    "duration": 272,
    "start_time": "2022-05-16T01:57:51.057Z"
   },
   {
    "duration": 18,
    "start_time": "2022-05-16T01:57:51.332Z"
   },
   {
    "duration": 21,
    "start_time": "2022-05-16T01:57:51.353Z"
   },
   {
    "duration": 26,
    "start_time": "2022-05-16T02:00:28.418Z"
   },
   {
    "duration": 422,
    "start_time": "2022-05-16T02:03:23.700Z"
   },
   {
    "duration": 40,
    "start_time": "2022-05-16T02:03:24.125Z"
   },
   {
    "duration": 28,
    "start_time": "2022-05-16T02:03:24.167Z"
   },
   {
    "duration": 14,
    "start_time": "2022-05-16T02:03:24.197Z"
   },
   {
    "duration": 3,
    "start_time": "2022-05-16T02:03:24.223Z"
   },
   {
    "duration": 8,
    "start_time": "2022-05-16T02:03:24.227Z"
   },
   {
    "duration": 21,
    "start_time": "2022-05-16T02:03:24.236Z"
   },
   {
    "duration": 9,
    "start_time": "2022-05-16T02:03:24.259Z"
   },
   {
    "duration": 11,
    "start_time": "2022-05-16T02:03:24.269Z"
   },
   {
    "duration": 8,
    "start_time": "2022-05-16T02:03:24.282Z"
   },
   {
    "duration": 32,
    "start_time": "2022-05-16T02:03:24.292Z"
   },
   {
    "duration": 631,
    "start_time": "2022-05-16T02:03:24.325Z"
   },
   {
    "duration": 6,
    "start_time": "2022-05-16T02:03:24.957Z"
   },
   {
    "duration": 12,
    "start_time": "2022-05-16T02:03:24.965Z"
   },
   {
    "duration": 270,
    "start_time": "2022-05-16T02:03:24.978Z"
   },
   {
    "duration": 11,
    "start_time": "2022-05-16T02:03:25.250Z"
   },
   {
    "duration": 269,
    "start_time": "2022-05-16T02:03:25.263Z"
   },
   {
    "duration": 236,
    "start_time": "2022-05-16T02:03:25.534Z"
   },
   {
    "duration": 195,
    "start_time": "2022-05-16T02:03:25.772Z"
   },
   {
    "duration": 189,
    "start_time": "2022-05-16T02:03:25.969Z"
   },
   {
    "duration": 186,
    "start_time": "2022-05-16T02:03:26.160Z"
   },
   {
    "duration": 175,
    "start_time": "2022-05-16T02:03:26.347Z"
   },
   {
    "duration": 169,
    "start_time": "2022-05-16T02:03:26.523Z"
   },
   {
    "duration": 12,
    "start_time": "2022-05-16T02:03:26.694Z"
   },
   {
    "duration": 32,
    "start_time": "2022-05-16T02:03:26.708Z"
   },
   {
    "duration": 465,
    "start_time": "2022-05-16T02:06:10.987Z"
   },
   {
    "duration": 45,
    "start_time": "2022-05-16T02:06:11.454Z"
   },
   {
    "duration": 27,
    "start_time": "2022-05-16T02:06:11.501Z"
   },
   {
    "duration": 16,
    "start_time": "2022-05-16T02:06:11.529Z"
   },
   {
    "duration": 3,
    "start_time": "2022-05-16T02:06:11.547Z"
   },
   {
    "duration": 7,
    "start_time": "2022-05-16T02:06:11.552Z"
   },
   {
    "duration": 22,
    "start_time": "2022-05-16T02:06:11.561Z"
   },
   {
    "duration": 41,
    "start_time": "2022-05-16T02:06:11.584Z"
   },
   {
    "duration": 11,
    "start_time": "2022-05-16T02:06:11.627Z"
   },
   {
    "duration": 9,
    "start_time": "2022-05-16T02:06:11.639Z"
   },
   {
    "duration": 10,
    "start_time": "2022-05-16T02:06:11.650Z"
   },
   {
    "duration": 629,
    "start_time": "2022-05-16T02:06:11.662Z"
   },
   {
    "duration": 6,
    "start_time": "2022-05-16T02:06:12.293Z"
   },
   {
    "duration": 21,
    "start_time": "2022-05-16T02:06:12.302Z"
   },
   {
    "duration": 268,
    "start_time": "2022-05-16T02:06:12.325Z"
   },
   {
    "duration": 12,
    "start_time": "2022-05-16T02:06:12.595Z"
   },
   {
    "duration": 382,
    "start_time": "2022-05-16T02:06:12.609Z"
   },
   {
    "duration": 336,
    "start_time": "2022-05-16T02:06:12.993Z"
   },
   {
    "duration": 184,
    "start_time": "2022-05-16T02:06:13.331Z"
   },
   {
    "duration": 179,
    "start_time": "2022-05-16T02:06:13.522Z"
   },
   {
    "duration": 187,
    "start_time": "2022-05-16T02:06:13.703Z"
   },
   {
    "duration": 180,
    "start_time": "2022-05-16T02:06:13.892Z"
   },
   {
    "duration": 184,
    "start_time": "2022-05-16T02:06:14.074Z"
   },
   {
    "duration": 14,
    "start_time": "2022-05-16T02:06:14.260Z"
   },
   {
    "duration": 27,
    "start_time": "2022-05-16T02:06:14.276Z"
   },
   {
    "duration": 411,
    "start_time": "2022-05-16T02:13:16.573Z"
   },
   {
    "duration": 44,
    "start_time": "2022-05-16T02:13:16.986Z"
   },
   {
    "duration": 27,
    "start_time": "2022-05-16T02:13:17.032Z"
   },
   {
    "duration": 16,
    "start_time": "2022-05-16T02:13:17.061Z"
   },
   {
    "duration": 4,
    "start_time": "2022-05-16T02:13:17.079Z"
   },
   {
    "duration": 6,
    "start_time": "2022-05-16T02:13:17.085Z"
   },
   {
    "duration": 51,
    "start_time": "2022-05-16T02:13:17.092Z"
   },
   {
    "duration": 9,
    "start_time": "2022-05-16T02:13:17.145Z"
   },
   {
    "duration": 13,
    "start_time": "2022-05-16T02:13:17.155Z"
   },
   {
    "duration": 9,
    "start_time": "2022-05-16T02:13:17.169Z"
   },
   {
    "duration": 5,
    "start_time": "2022-05-16T02:13:17.180Z"
   },
   {
    "duration": 631,
    "start_time": "2022-05-16T02:13:17.186Z"
   },
   {
    "duration": 5,
    "start_time": "2022-05-16T02:13:17.819Z"
   },
   {
    "duration": 11,
    "start_time": "2022-05-16T02:13:17.827Z"
   },
   {
    "duration": 273,
    "start_time": "2022-05-16T02:13:17.840Z"
   },
   {
    "duration": 16,
    "start_time": "2022-05-16T02:13:18.115Z"
   },
   {
    "duration": 262,
    "start_time": "2022-05-16T02:13:18.133Z"
   },
   {
    "duration": 234,
    "start_time": "2022-05-16T02:13:18.397Z"
   },
   {
    "duration": 190,
    "start_time": "2022-05-16T02:13:18.632Z"
   },
   {
    "duration": 187,
    "start_time": "2022-05-16T02:13:18.824Z"
   },
   {
    "duration": 185,
    "start_time": "2022-05-16T02:13:19.013Z"
   },
   {
    "duration": 169,
    "start_time": "2022-05-16T02:13:19.200Z"
   },
   {
    "duration": 175,
    "start_time": "2022-05-16T02:13:19.371Z"
   },
   {
    "duration": 27,
    "start_time": "2022-05-16T02:13:19.547Z"
   },
   {
    "duration": 27,
    "start_time": "2022-05-16T02:14:10.802Z"
   },
   {
    "duration": 27,
    "start_time": "2022-05-16T02:14:16.751Z"
   },
   {
    "duration": 26,
    "start_time": "2022-05-16T02:14:20.514Z"
   },
   {
    "duration": 27,
    "start_time": "2022-05-16T02:14:26.798Z"
   },
   {
    "duration": 400,
    "start_time": "2022-05-16T02:19:51.777Z"
   },
   {
    "duration": 43,
    "start_time": "2022-05-16T02:19:52.180Z"
   },
   {
    "duration": 27,
    "start_time": "2022-05-16T02:19:52.225Z"
   },
   {
    "duration": 18,
    "start_time": "2022-05-16T02:19:52.254Z"
   },
   {
    "duration": 3,
    "start_time": "2022-05-16T02:19:52.275Z"
   },
   {
    "duration": 7,
    "start_time": "2022-05-16T02:19:52.280Z"
   },
   {
    "duration": 48,
    "start_time": "2022-05-16T02:19:52.288Z"
   },
   {
    "duration": 10,
    "start_time": "2022-05-16T02:19:52.338Z"
   },
   {
    "duration": 11,
    "start_time": "2022-05-16T02:19:52.349Z"
   },
   {
    "duration": 9,
    "start_time": "2022-05-16T02:19:52.362Z"
   },
   {
    "duration": 12,
    "start_time": "2022-05-16T02:19:52.373Z"
   },
   {
    "duration": 613,
    "start_time": "2022-05-16T02:19:52.387Z"
   },
   {
    "duration": 5,
    "start_time": "2022-05-16T02:19:53.002Z"
   },
   {
    "duration": 22,
    "start_time": "2022-05-16T02:19:53.010Z"
   },
   {
    "duration": 253,
    "start_time": "2022-05-16T02:19:53.034Z"
   },
   {
    "duration": 11,
    "start_time": "2022-05-16T02:19:53.289Z"
   },
   {
    "duration": 254,
    "start_time": "2022-05-16T02:19:53.301Z"
   },
   {
    "duration": 218,
    "start_time": "2022-05-16T02:19:53.557Z"
   },
   {
    "duration": 182,
    "start_time": "2022-05-16T02:19:53.777Z"
   },
   {
    "duration": 182,
    "start_time": "2022-05-16T02:19:53.960Z"
   },
   {
    "duration": 178,
    "start_time": "2022-05-16T02:19:54.144Z"
   },
   {
    "duration": 162,
    "start_time": "2022-05-16T02:19:54.324Z"
   },
   {
    "duration": 172,
    "start_time": "2022-05-16T02:19:54.488Z"
   },
   {
    "duration": 22,
    "start_time": "2022-05-16T02:19:54.662Z"
   },
   {
    "duration": 32,
    "start_time": "2022-05-16T02:20:15.321Z"
   },
   {
    "duration": 34,
    "start_time": "2022-05-16T02:20:57.907Z"
   },
   {
    "duration": 28,
    "start_time": "2022-05-16T02:21:31.038Z"
   },
   {
    "duration": 172,
    "start_time": "2022-05-16T02:21:59.445Z"
   },
   {
    "duration": 4,
    "start_time": "2022-05-16T02:25:20.320Z"
   },
   {
    "duration": 180,
    "start_time": "2022-05-16T02:25:25.545Z"
   },
   {
    "duration": 440,
    "start_time": "2022-05-16T02:29:19.499Z"
   },
   {
    "duration": 45,
    "start_time": "2022-05-16T02:29:19.941Z"
   },
   {
    "duration": 28,
    "start_time": "2022-05-16T02:29:19.988Z"
   },
   {
    "duration": 15,
    "start_time": "2022-05-16T02:29:20.022Z"
   },
   {
    "duration": 4,
    "start_time": "2022-05-16T02:29:20.038Z"
   },
   {
    "duration": 8,
    "start_time": "2022-05-16T02:29:20.043Z"
   },
   {
    "duration": 21,
    "start_time": "2022-05-16T02:29:20.053Z"
   },
   {
    "duration": 13,
    "start_time": "2022-05-16T02:29:20.076Z"
   },
   {
    "duration": 36,
    "start_time": "2022-05-16T02:29:20.091Z"
   },
   {
    "duration": 8,
    "start_time": "2022-05-16T02:29:20.130Z"
   },
   {
    "duration": 6,
    "start_time": "2022-05-16T02:29:20.140Z"
   },
   {
    "duration": 614,
    "start_time": "2022-05-16T02:29:20.148Z"
   },
   {
    "duration": 5,
    "start_time": "2022-05-16T02:29:20.764Z"
   },
   {
    "duration": 14,
    "start_time": "2022-05-16T02:29:20.770Z"
   },
   {
    "duration": 268,
    "start_time": "2022-05-16T02:29:20.785Z"
   },
   {
    "duration": 10,
    "start_time": "2022-05-16T02:29:21.054Z"
   },
   {
    "duration": 256,
    "start_time": "2022-05-16T02:29:21.066Z"
   },
   {
    "duration": 216,
    "start_time": "2022-05-16T02:29:21.324Z"
   },
   {
    "duration": 175,
    "start_time": "2022-05-16T02:29:21.541Z"
   },
   {
    "duration": 177,
    "start_time": "2022-05-16T02:29:21.721Z"
   },
   {
    "duration": 166,
    "start_time": "2022-05-16T02:29:21.900Z"
   },
   {
    "duration": 164,
    "start_time": "2022-05-16T02:29:22.068Z"
   },
   {
    "duration": 172,
    "start_time": "2022-05-16T02:29:22.234Z"
   },
   {
    "duration": 33,
    "start_time": "2022-05-16T02:29:22.408Z"
   },
   {
    "duration": 5,
    "start_time": "2022-05-16T02:29:22.443Z"
   },
   {
    "duration": 198,
    "start_time": "2022-05-16T02:29:22.450Z"
   },
   {
    "duration": 20,
    "start_time": "2022-05-16T02:31:36.468Z"
   },
   {
    "duration": 525,
    "start_time": "2022-05-17T01:46:10.816Z"
   },
   {
    "duration": 54,
    "start_time": "2022-05-17T01:46:11.344Z"
   },
   {
    "duration": 53,
    "start_time": "2022-05-17T01:46:11.400Z"
   },
   {
    "duration": 21,
    "start_time": "2022-05-17T01:46:11.455Z"
   },
   {
    "duration": 16,
    "start_time": "2022-05-17T01:46:11.479Z"
   },
   {
    "duration": 32,
    "start_time": "2022-05-17T01:46:11.497Z"
   },
   {
    "duration": 34,
    "start_time": "2022-05-17T01:46:11.532Z"
   },
   {
    "duration": 16,
    "start_time": "2022-05-17T01:46:11.568Z"
   },
   {
    "duration": 49,
    "start_time": "2022-05-17T01:46:11.586Z"
   },
   {
    "duration": 13,
    "start_time": "2022-05-17T01:46:11.637Z"
   },
   {
    "duration": 10,
    "start_time": "2022-05-17T01:46:11.652Z"
   },
   {
    "duration": 1176,
    "start_time": "2022-05-17T01:46:11.664Z"
   },
   {
    "duration": 8,
    "start_time": "2022-05-17T01:46:12.843Z"
   },
   {
    "duration": 25,
    "start_time": "2022-05-17T01:46:12.856Z"
   },
   {
    "duration": 478,
    "start_time": "2022-05-17T01:46:12.883Z"
   },
   {
    "duration": 19,
    "start_time": "2022-05-17T01:46:13.364Z"
   },
   {
    "duration": 522,
    "start_time": "2022-05-17T01:46:13.385Z"
   },
   {
    "duration": 286,
    "start_time": "2022-05-17T01:46:13.910Z"
   },
   {
    "duration": 310,
    "start_time": "2022-05-17T01:46:14.199Z"
   },
   {
    "duration": 307,
    "start_time": "2022-05-17T01:46:14.512Z"
   },
   {
    "duration": 316,
    "start_time": "2022-05-17T01:46:14.822Z"
   },
   {
    "duration": 298,
    "start_time": "2022-05-17T01:46:15.141Z"
   },
   {
    "duration": 289,
    "start_time": "2022-05-17T01:46:15.442Z"
   },
   {
    "duration": 45,
    "start_time": "2022-05-17T01:46:15.734Z"
   },
   {
    "duration": 42,
    "start_time": "2022-05-17T01:46:15.782Z"
   },
   {
    "duration": 295,
    "start_time": "2022-05-17T01:46:15.827Z"
   },
   {
    "duration": 16,
    "start_time": "2022-05-17T01:46:16.124Z"
   },
   {
    "duration": 19,
    "start_time": "2022-05-17T01:46:16.142Z"
   },
   {
    "duration": 16,
    "start_time": "2022-05-17T01:46:16.163Z"
   },
   {
    "duration": 56,
    "start_time": "2022-05-17T01:46:16.181Z"
   },
   {
    "duration": 15,
    "start_time": "2022-05-17T01:46:16.240Z"
   },
   {
    "duration": 15,
    "start_time": "2022-05-17T01:46:16.258Z"
   },
   {
    "duration": 49,
    "start_time": "2022-05-17T01:46:16.276Z"
   },
   {
    "duration": 17,
    "start_time": "2022-05-17T01:46:16.328Z"
   },
   {
    "duration": 16,
    "start_time": "2022-05-17T01:46:16.347Z"
   },
   {
    "duration": 100,
    "start_time": "2022-05-17T01:46:16.365Z"
   },
   {
    "duration": 0,
    "start_time": "2022-05-17T01:46:16.467Z"
   },
   {
    "duration": 519,
    "start_time": "2022-05-17T01:47:57.324Z"
   },
   {
    "duration": 48,
    "start_time": "2022-05-17T01:47:57.846Z"
   },
   {
    "duration": 53,
    "start_time": "2022-05-17T01:47:57.896Z"
   },
   {
    "duration": 21,
    "start_time": "2022-05-17T01:47:57.951Z"
   },
   {
    "duration": 5,
    "start_time": "2022-05-17T01:47:57.975Z"
   },
   {
    "duration": 45,
    "start_time": "2022-05-17T01:47:57.983Z"
   },
   {
    "duration": 33,
    "start_time": "2022-05-17T01:47:58.030Z"
   },
   {
    "duration": 11,
    "start_time": "2022-05-17T01:47:58.065Z"
   },
   {
    "duration": 56,
    "start_time": "2022-05-17T01:47:58.078Z"
   },
   {
    "duration": 13,
    "start_time": "2022-05-17T01:47:58.137Z"
   },
   {
    "duration": 13,
    "start_time": "2022-05-17T01:47:58.152Z"
   },
   {
    "duration": 844,
    "start_time": "2022-05-17T01:47:58.167Z"
   },
   {
    "duration": 14,
    "start_time": "2022-05-17T01:47:59.013Z"
   },
   {
    "duration": 24,
    "start_time": "2022-05-17T01:47:59.032Z"
   },
   {
    "duration": 449,
    "start_time": "2022-05-17T01:47:59.058Z"
   },
   {
    "duration": 25,
    "start_time": "2022-05-17T01:47:59.509Z"
   },
   {
    "duration": 430,
    "start_time": "2022-05-17T01:47:59.536Z"
   },
   {
    "duration": 360,
    "start_time": "2022-05-17T01:47:59.968Z"
   },
   {
    "duration": 307,
    "start_time": "2022-05-17T01:48:00.330Z"
   },
   {
    "duration": 294,
    "start_time": "2022-05-17T01:48:00.639Z"
   },
   {
    "duration": 300,
    "start_time": "2022-05-17T01:48:00.936Z"
   },
   {
    "duration": 288,
    "start_time": "2022-05-17T01:48:01.239Z"
   },
   {
    "duration": 285,
    "start_time": "2022-05-17T01:48:01.529Z"
   },
   {
    "duration": 48,
    "start_time": "2022-05-17T01:48:01.816Z"
   },
   {
    "duration": 5,
    "start_time": "2022-05-17T01:48:01.866Z"
   },
   {
    "duration": 323,
    "start_time": "2022-05-17T01:48:01.874Z"
   },
   {
    "duration": 31,
    "start_time": "2022-05-17T01:48:02.199Z"
   },
   {
    "duration": 22,
    "start_time": "2022-05-17T01:48:02.232Z"
   },
   {
    "duration": 22,
    "start_time": "2022-05-17T01:48:02.256Z"
   },
   {
    "duration": 45,
    "start_time": "2022-05-17T01:48:02.280Z"
   },
   {
    "duration": 21,
    "start_time": "2022-05-17T01:48:02.327Z"
   },
   {
    "duration": 16,
    "start_time": "2022-05-17T01:48:02.351Z"
   },
   {
    "duration": 29,
    "start_time": "2022-05-17T01:48:02.370Z"
   },
   {
    "duration": 35,
    "start_time": "2022-05-17T01:48:02.402Z"
   },
   {
    "duration": 20,
    "start_time": "2022-05-17T01:48:02.440Z"
   },
   {
    "duration": 33,
    "start_time": "2022-05-17T01:48:02.462Z"
   },
   {
    "duration": 39,
    "start_time": "2022-05-17T01:48:02.497Z"
   },
   {
    "duration": 119,
    "start_time": "2022-05-17T01:55:49.029Z"
   },
   {
    "duration": 493,
    "start_time": "2022-05-17T01:56:47.745Z"
   },
   {
    "duration": 4,
    "start_time": "2022-05-17T01:58:39.612Z"
   },
   {
    "duration": 481,
    "start_time": "2022-05-17T01:58:40.485Z"
   },
   {
    "duration": 550,
    "start_time": "2022-05-17T01:59:44.789Z"
   },
   {
    "duration": 54,
    "start_time": "2022-05-17T01:59:45.342Z"
   },
   {
    "duration": 56,
    "start_time": "2022-05-17T01:59:45.399Z"
   },
   {
    "duration": 23,
    "start_time": "2022-05-17T01:59:45.458Z"
   },
   {
    "duration": 39,
    "start_time": "2022-05-17T01:59:45.486Z"
   },
   {
    "duration": 10,
    "start_time": "2022-05-17T01:59:45.528Z"
   },
   {
    "duration": 36,
    "start_time": "2022-05-17T01:59:45.541Z"
   },
   {
    "duration": 55,
    "start_time": "2022-05-17T01:59:45.579Z"
   },
   {
    "duration": 15,
    "start_time": "2022-05-17T01:59:45.636Z"
   },
   {
    "duration": 13,
    "start_time": "2022-05-17T01:59:45.653Z"
   },
   {
    "duration": 58,
    "start_time": "2022-05-17T01:59:45.668Z"
   },
   {
    "duration": 847,
    "start_time": "2022-05-17T01:59:45.729Z"
   },
   {
    "duration": 8,
    "start_time": "2022-05-17T01:59:46.578Z"
   },
   {
    "duration": 66,
    "start_time": "2022-05-17T01:59:46.591Z"
   },
   {
    "duration": 434,
    "start_time": "2022-05-17T01:59:46.660Z"
   },
   {
    "duration": 28,
    "start_time": "2022-05-17T01:59:47.096Z"
   },
   {
    "duration": 457,
    "start_time": "2022-05-17T01:59:47.127Z"
   },
   {
    "duration": 360,
    "start_time": "2022-05-17T01:59:47.586Z"
   },
   {
    "duration": 299,
    "start_time": "2022-05-17T01:59:47.948Z"
   },
   {
    "duration": 302,
    "start_time": "2022-05-17T01:59:48.249Z"
   },
   {
    "duration": 302,
    "start_time": "2022-05-17T01:59:48.553Z"
   },
   {
    "duration": 292,
    "start_time": "2022-05-17T01:59:48.857Z"
   },
   {
    "duration": 300,
    "start_time": "2022-05-17T01:59:49.151Z"
   },
   {
    "duration": 47,
    "start_time": "2022-05-17T01:59:49.454Z"
   },
   {
    "duration": 6,
    "start_time": "2022-05-17T01:59:49.524Z"
   },
   {
    "duration": 330,
    "start_time": "2022-05-17T01:59:49.534Z"
   },
   {
    "duration": 19,
    "start_time": "2022-05-17T01:59:49.867Z"
   },
   {
    "duration": 43,
    "start_time": "2022-05-17T01:59:49.890Z"
   },
   {
    "duration": 20,
    "start_time": "2022-05-17T01:59:49.936Z"
   },
   {
    "duration": 19,
    "start_time": "2022-05-17T01:59:49.958Z"
   },
   {
    "duration": 55,
    "start_time": "2022-05-17T01:59:49.979Z"
   },
   {
    "duration": 16,
    "start_time": "2022-05-17T01:59:50.036Z"
   },
   {
    "duration": 21,
    "start_time": "2022-05-17T01:59:50.054Z"
   },
   {
    "duration": 48,
    "start_time": "2022-05-17T01:59:50.077Z"
   },
   {
    "duration": 21,
    "start_time": "2022-05-17T01:59:50.127Z"
   },
   {
    "duration": 20,
    "start_time": "2022-05-17T01:59:50.150Z"
   },
   {
    "duration": 16,
    "start_time": "2022-05-17T01:59:50.173Z"
   },
   {
    "duration": 147,
    "start_time": "2022-05-17T01:59:50.191Z"
   },
   {
    "duration": 0,
    "start_time": "2022-05-17T01:59:50.340Z"
   },
   {
    "duration": 0,
    "start_time": "2022-05-17T01:59:50.341Z"
   },
   {
    "duration": 535,
    "start_time": "2022-05-17T02:00:32.346Z"
   },
   {
    "duration": 56,
    "start_time": "2022-05-17T02:00:32.884Z"
   },
   {
    "duration": 43,
    "start_time": "2022-05-17T02:00:32.942Z"
   },
   {
    "duration": 48,
    "start_time": "2022-05-17T02:00:32.987Z"
   },
   {
    "duration": 5,
    "start_time": "2022-05-17T02:00:33.039Z"
   },
   {
    "duration": 19,
    "start_time": "2022-05-17T02:00:33.046Z"
   },
   {
    "duration": 70,
    "start_time": "2022-05-17T02:00:33.067Z"
   },
   {
    "duration": 16,
    "start_time": "2022-05-17T02:00:33.139Z"
   },
   {
    "duration": 16,
    "start_time": "2022-05-17T02:00:33.157Z"
   },
   {
    "duration": 49,
    "start_time": "2022-05-17T02:00:33.175Z"
   },
   {
    "duration": 6,
    "start_time": "2022-05-17T02:00:33.227Z"
   },
   {
    "duration": 867,
    "start_time": "2022-05-17T02:00:33.235Z"
   },
   {
    "duration": 20,
    "start_time": "2022-05-17T02:00:34.104Z"
   },
   {
    "duration": 36,
    "start_time": "2022-05-17T02:00:34.129Z"
   },
   {
    "duration": 441,
    "start_time": "2022-05-17T02:00:34.167Z"
   },
   {
    "duration": 21,
    "start_time": "2022-05-17T02:00:34.610Z"
   },
   {
    "duration": 442,
    "start_time": "2022-05-17T02:00:34.634Z"
   },
   {
    "duration": 352,
    "start_time": "2022-05-17T02:00:35.078Z"
   },
   {
    "duration": 322,
    "start_time": "2022-05-17T02:00:35.432Z"
   },
   {
    "duration": 342,
    "start_time": "2022-05-17T02:00:35.757Z"
   },
   {
    "duration": 305,
    "start_time": "2022-05-17T02:00:36.102Z"
   },
   {
    "duration": 296,
    "start_time": "2022-05-17T02:00:36.409Z"
   },
   {
    "duration": 297,
    "start_time": "2022-05-17T02:00:36.708Z"
   },
   {
    "duration": 57,
    "start_time": "2022-05-17T02:00:37.008Z"
   },
   {
    "duration": 14,
    "start_time": "2022-05-17T02:00:37.068Z"
   },
   {
    "duration": 312,
    "start_time": "2022-05-17T02:00:37.085Z"
   },
   {
    "duration": 29,
    "start_time": "2022-05-17T02:00:37.399Z"
   },
   {
    "duration": 21,
    "start_time": "2022-05-17T02:00:37.431Z"
   },
   {
    "duration": 16,
    "start_time": "2022-05-17T02:00:37.455Z"
   },
   {
    "duration": 17,
    "start_time": "2022-05-17T02:00:37.473Z"
   },
   {
    "duration": 46,
    "start_time": "2022-05-17T02:00:37.492Z"
   },
   {
    "duration": 19,
    "start_time": "2022-05-17T02:00:37.541Z"
   },
   {
    "duration": 21,
    "start_time": "2022-05-17T02:00:37.562Z"
   },
   {
    "duration": 48,
    "start_time": "2022-05-17T02:00:37.585Z"
   },
   {
    "duration": 21,
    "start_time": "2022-05-17T02:00:37.635Z"
   },
   {
    "duration": 15,
    "start_time": "2022-05-17T02:00:37.658Z"
   },
   {
    "duration": 16,
    "start_time": "2022-05-17T02:00:37.675Z"
   },
   {
    "duration": 69,
    "start_time": "2022-05-17T02:00:37.693Z"
   },
   {
    "duration": 5,
    "start_time": "2022-05-17T02:00:37.764Z"
   },
   {
    "duration": 516,
    "start_time": "2022-05-17T02:00:37.771Z"
   },
   {
    "duration": 64,
    "start_time": "2022-05-17T02:09:40.618Z"
   },
   {
    "duration": 56,
    "start_time": "2022-05-18T02:57:54.706Z"
   },
   {
    "duration": 883,
    "start_time": "2022-05-18T02:58:01.086Z"
   },
   {
    "duration": 190,
    "start_time": "2022-05-18T02:58:01.971Z"
   },
   {
    "duration": 30,
    "start_time": "2022-05-18T02:58:02.162Z"
   },
   {
    "duration": 16,
    "start_time": "2022-05-18T02:58:02.194Z"
   },
   {
    "duration": 4,
    "start_time": "2022-05-18T02:58:02.213Z"
   },
   {
    "duration": 13,
    "start_time": "2022-05-18T02:58:02.218Z"
   },
   {
    "duration": 29,
    "start_time": "2022-05-18T02:58:02.232Z"
   },
   {
    "duration": 14,
    "start_time": "2022-05-18T02:58:02.263Z"
   },
   {
    "duration": 33,
    "start_time": "2022-05-18T02:58:02.279Z"
   },
   {
    "duration": 18,
    "start_time": "2022-05-18T02:58:02.314Z"
   },
   {
    "duration": 5,
    "start_time": "2022-05-18T02:58:02.334Z"
   },
   {
    "duration": 637,
    "start_time": "2022-05-18T02:58:02.341Z"
   },
   {
    "duration": 5,
    "start_time": "2022-05-18T02:58:02.980Z"
   },
   {
    "duration": 47,
    "start_time": "2022-05-18T02:58:02.989Z"
   },
   {
    "duration": 279,
    "start_time": "2022-05-18T02:58:03.038Z"
   },
   {
    "duration": 9,
    "start_time": "2022-05-18T02:58:03.319Z"
   },
   {
    "duration": 292,
    "start_time": "2022-05-18T02:58:03.330Z"
   },
   {
    "duration": 173,
    "start_time": "2022-05-18T02:58:03.624Z"
   },
   {
    "duration": 193,
    "start_time": "2022-05-18T02:58:03.799Z"
   },
   {
    "duration": 187,
    "start_time": "2022-05-18T02:58:03.994Z"
   },
   {
    "duration": 259,
    "start_time": "2022-05-18T02:58:04.183Z"
   },
   {
    "duration": 188,
    "start_time": "2022-05-18T02:58:04.443Z"
   },
   {
    "duration": 181,
    "start_time": "2022-05-18T02:58:04.633Z"
   },
   {
    "duration": 34,
    "start_time": "2022-05-18T02:58:04.816Z"
   },
   {
    "duration": 6,
    "start_time": "2022-05-18T02:58:04.851Z"
   },
   {
    "duration": 218,
    "start_time": "2022-05-18T02:58:04.859Z"
   },
   {
    "duration": 11,
    "start_time": "2022-05-18T02:58:05.079Z"
   },
   {
    "duration": 21,
    "start_time": "2022-05-18T02:58:05.091Z"
   },
   {
    "duration": 11,
    "start_time": "2022-05-18T02:58:05.113Z"
   },
   {
    "duration": 12,
    "start_time": "2022-05-18T02:58:05.126Z"
   },
   {
    "duration": 13,
    "start_time": "2022-05-18T02:58:05.139Z"
   },
   {
    "duration": 12,
    "start_time": "2022-05-18T02:58:05.153Z"
   },
   {
    "duration": 52,
    "start_time": "2022-05-18T02:58:05.167Z"
   },
   {
    "duration": 9,
    "start_time": "2022-05-18T02:58:05.221Z"
   },
   {
    "duration": 15,
    "start_time": "2022-05-18T02:58:05.233Z"
   },
   {
    "duration": 12,
    "start_time": "2022-05-18T02:58:05.250Z"
   },
   {
    "duration": 14,
    "start_time": "2022-05-18T02:58:05.264Z"
   },
   {
    "duration": 57,
    "start_time": "2022-05-18T02:58:05.280Z"
   },
   {
    "duration": 3,
    "start_time": "2022-05-18T02:58:05.339Z"
   },
   {
    "duration": 47,
    "start_time": "2022-05-18T02:58:05.345Z"
   },
   {
    "duration": 350,
    "start_time": "2022-05-18T02:58:05.395Z"
   },
   {
    "duration": 9,
    "start_time": "2022-05-18T02:58:05.746Z"
   },
   {
    "duration": 88,
    "start_time": "2022-05-18T03:08:36.236Z"
   },
   {
    "duration": 768,
    "start_time": "2022-05-18T03:09:01.203Z"
   },
   {
    "duration": 53,
    "start_time": "2022-05-18T03:09:01.973Z"
   },
   {
    "duration": 25,
    "start_time": "2022-05-18T03:09:02.027Z"
   },
   {
    "duration": 15,
    "start_time": "2022-05-18T03:09:02.054Z"
   },
   {
    "duration": 4,
    "start_time": "2022-05-18T03:09:02.071Z"
   },
   {
    "duration": 36,
    "start_time": "2022-05-18T03:09:02.076Z"
   },
   {
    "duration": 22,
    "start_time": "2022-05-18T03:09:02.114Z"
   },
   {
    "duration": 9,
    "start_time": "2022-05-18T03:09:02.138Z"
   },
   {
    "duration": 16,
    "start_time": "2022-05-18T03:09:02.149Z"
   },
   {
    "duration": 15,
    "start_time": "2022-05-18T03:09:02.166Z"
   },
   {
    "duration": 34,
    "start_time": "2022-05-18T03:09:02.183Z"
   },
   {
    "duration": 333,
    "start_time": "2022-05-18T03:09:02.219Z"
   },
   {
    "duration": 6,
    "start_time": "2022-05-18T03:09:02.554Z"
   },
   {
    "duration": 41,
    "start_time": "2022-05-18T03:09:02.564Z"
   },
   {
    "duration": 252,
    "start_time": "2022-05-18T03:09:02.606Z"
   },
   {
    "duration": 11,
    "start_time": "2022-05-18T03:09:02.860Z"
   },
   {
    "duration": 287,
    "start_time": "2022-05-18T03:09:02.873Z"
   },
   {
    "duration": 176,
    "start_time": "2022-05-18T03:09:03.162Z"
   },
   {
    "duration": 186,
    "start_time": "2022-05-18T03:09:03.339Z"
   },
   {
    "duration": 245,
    "start_time": "2022-05-18T03:09:03.527Z"
   },
   {
    "duration": 189,
    "start_time": "2022-05-18T03:09:03.774Z"
   },
   {
    "duration": 183,
    "start_time": "2022-05-18T03:09:03.965Z"
   },
   {
    "duration": 203,
    "start_time": "2022-05-18T03:09:04.150Z"
   },
   {
    "duration": 40,
    "start_time": "2022-05-18T03:09:04.355Z"
   },
   {
    "duration": 16,
    "start_time": "2022-05-18T03:09:04.397Z"
   },
   {
    "duration": 201,
    "start_time": "2022-05-18T03:09:04.414Z"
   },
   {
    "duration": 14,
    "start_time": "2022-05-18T03:09:04.617Z"
   },
   {
    "duration": 16,
    "start_time": "2022-05-18T03:09:04.633Z"
   },
   {
    "duration": 14,
    "start_time": "2022-05-18T03:09:04.652Z"
   },
   {
    "duration": 44,
    "start_time": "2022-05-18T03:09:04.669Z"
   },
   {
    "duration": 14,
    "start_time": "2022-05-18T03:09:04.715Z"
   },
   {
    "duration": 13,
    "start_time": "2022-05-18T03:09:04.731Z"
   },
   {
    "duration": 24,
    "start_time": "2022-05-18T03:09:04.747Z"
   },
   {
    "duration": 13,
    "start_time": "2022-05-18T03:09:04.773Z"
   },
   {
    "duration": 34,
    "start_time": "2022-05-18T03:09:04.788Z"
   },
   {
    "duration": 13,
    "start_time": "2022-05-18T03:09:04.824Z"
   },
   {
    "duration": 12,
    "start_time": "2022-05-18T03:09:04.838Z"
   },
   {
    "duration": 27,
    "start_time": "2022-05-18T03:09:04.851Z"
   },
   {
    "duration": 3,
    "start_time": "2022-05-18T03:09:04.880Z"
   },
   {
    "duration": 67,
    "start_time": "2022-05-18T03:09:04.884Z"
   },
   {
    "duration": 352,
    "start_time": "2022-05-18T03:09:04.954Z"
   },
   {
    "duration": 327,
    "start_time": "2022-05-18T03:09:05.307Z"
   },
   {
    "duration": 80,
    "start_time": "2022-05-19T01:50:00.153Z"
   },
   {
    "duration": 1202,
    "start_time": "2022-05-19T01:50:19.984Z"
   },
   {
    "duration": 191,
    "start_time": "2022-05-19T01:50:21.189Z"
   },
   {
    "duration": 28,
    "start_time": "2022-05-19T01:50:21.381Z"
   },
   {
    "duration": 20,
    "start_time": "2022-05-19T01:50:21.411Z"
   },
   {
    "duration": 5,
    "start_time": "2022-05-19T01:50:21.433Z"
   },
   {
    "duration": 15,
    "start_time": "2022-05-19T01:50:21.440Z"
   },
   {
    "duration": 31,
    "start_time": "2022-05-19T01:50:21.475Z"
   },
   {
    "duration": 13,
    "start_time": "2022-05-19T01:50:21.508Z"
   },
   {
    "duration": 12,
    "start_time": "2022-05-19T01:50:21.523Z"
   },
   {
    "duration": 41,
    "start_time": "2022-05-19T01:50:21.538Z"
   },
   {
    "duration": 7,
    "start_time": "2022-05-19T01:50:21.581Z"
   },
   {
    "duration": 538,
    "start_time": "2022-05-19T01:50:21.590Z"
   },
   {
    "duration": 11,
    "start_time": "2022-05-19T01:50:22.130Z"
   },
   {
    "duration": 38,
    "start_time": "2022-05-19T01:50:22.145Z"
   },
   {
    "duration": 305,
    "start_time": "2022-05-19T01:50:22.185Z"
   },
   {
    "duration": 13,
    "start_time": "2022-05-19T01:50:22.492Z"
   },
   {
    "duration": 381,
    "start_time": "2022-05-19T01:50:22.507Z"
   },
   {
    "duration": 261,
    "start_time": "2022-05-19T01:50:22.892Z"
   },
   {
    "duration": 319,
    "start_time": "2022-05-19T01:50:23.156Z"
   },
   {
    "duration": 225,
    "start_time": "2022-05-19T01:50:23.477Z"
   },
   {
    "duration": 272,
    "start_time": "2022-05-19T01:50:23.705Z"
   },
   {
    "duration": 244,
    "start_time": "2022-05-19T01:50:23.979Z"
   },
   {
    "duration": 199,
    "start_time": "2022-05-19T01:50:24.226Z"
   },
   {
    "duration": 49,
    "start_time": "2022-05-19T01:50:24.427Z"
   },
   {
    "duration": 4,
    "start_time": "2022-05-19T01:50:24.478Z"
   },
   {
    "duration": 240,
    "start_time": "2022-05-19T01:50:24.484Z"
   },
   {
    "duration": 11,
    "start_time": "2022-05-19T01:50:24.726Z"
   },
   {
    "duration": 16,
    "start_time": "2022-05-19T01:50:24.739Z"
   },
   {
    "duration": 18,
    "start_time": "2022-05-19T01:50:24.775Z"
   },
   {
    "duration": 12,
    "start_time": "2022-05-19T01:50:24.794Z"
   },
   {
    "duration": 14,
    "start_time": "2022-05-19T01:50:24.808Z"
   },
   {
    "duration": 13,
    "start_time": "2022-05-19T01:50:24.824Z"
   },
   {
    "duration": 44,
    "start_time": "2022-05-19T01:50:24.838Z"
   },
   {
    "duration": 12,
    "start_time": "2022-05-19T01:50:24.884Z"
   },
   {
    "duration": 16,
    "start_time": "2022-05-19T01:50:24.897Z"
   },
   {
    "duration": 18,
    "start_time": "2022-05-19T01:50:24.915Z"
   },
   {
    "duration": 11,
    "start_time": "2022-05-19T01:50:24.936Z"
   },
   {
    "duration": 57,
    "start_time": "2022-05-19T01:50:24.949Z"
   },
   {
    "duration": 4,
    "start_time": "2022-05-19T01:50:25.008Z"
   },
   {
    "duration": 77,
    "start_time": "2022-05-19T01:50:25.015Z"
   },
   {
    "duration": 483,
    "start_time": "2022-05-19T01:50:25.097Z"
   },
   {
    "duration": 36,
    "start_time": "2022-05-19T01:50:25.583Z"
   },
   {
    "duration": 501,
    "start_time": "2022-05-19T01:50:25.622Z"
   },
   {
    "duration": 6,
    "start_time": "2022-05-19T02:00:22.954Z"
   },
   {
    "duration": 368,
    "start_time": "2022-05-19T02:09:06.998Z"
   },
   {
    "duration": 62,
    "start_time": "2022-05-19T02:11:16.778Z"
   },
   {
    "duration": 41,
    "start_time": "2022-05-19T02:13:00.310Z"
   },
   {
    "duration": 246,
    "start_time": "2022-05-19T02:21:26.276Z"
   },
   {
    "duration": 899,
    "start_time": "2022-05-19T02:22:37.342Z"
   },
   {
    "duration": 112,
    "start_time": "2022-05-19T02:22:54.601Z"
   },
   {
    "duration": 275,
    "start_time": "2022-05-19T02:36:25.121Z"
   },
   {
    "duration": 239,
    "start_time": "2022-05-19T02:36:48.723Z"
   },
   {
    "duration": 328,
    "start_time": "2022-05-19T02:37:29.713Z"
   },
   {
    "duration": 259,
    "start_time": "2022-05-19T02:37:49.864Z"
   },
   {
    "duration": 235,
    "start_time": "2022-05-19T02:38:23.896Z"
   },
   {
    "duration": 10,
    "start_time": "2022-05-19T02:48:27.417Z"
   },
   {
    "duration": 7,
    "start_time": "2022-05-19T02:54:30.842Z"
   },
   {
    "duration": 44,
    "start_time": "2022-05-19T02:57:59.121Z"
   },
   {
    "duration": 57,
    "start_time": "2022-05-19T02:58:54.790Z"
   },
   {
    "duration": 10,
    "start_time": "2022-05-19T03:01:13.153Z"
   },
   {
    "duration": 193,
    "start_time": "2022-05-19T03:01:26.109Z"
   },
   {
    "duration": 100,
    "start_time": "2022-05-19T03:10:09.246Z"
   },
   {
    "duration": 28,
    "start_time": "2022-05-19T03:10:28.441Z"
   },
   {
    "duration": 59,
    "start_time": "2022-05-19T03:10:38.867Z"
   },
   {
    "duration": 212,
    "start_time": "2022-05-19T03:10:48.621Z"
   },
   {
    "duration": 162,
    "start_time": "2022-05-19T03:12:24.622Z"
   },
   {
    "duration": 178,
    "start_time": "2022-05-19T03:12:30.553Z"
   },
   {
    "duration": 192,
    "start_time": "2022-05-19T03:12:41.555Z"
   },
   {
    "duration": 168,
    "start_time": "2022-05-19T03:12:51.274Z"
   },
   {
    "duration": 204,
    "start_time": "2022-05-19T03:13:36.542Z"
   },
   {
    "duration": 23,
    "start_time": "2022-05-19T03:20:32.065Z"
   },
   {
    "duration": 13,
    "start_time": "2022-05-19T03:20:38.448Z"
   },
   {
    "duration": 290,
    "start_time": "2022-05-19T03:23:24.655Z"
   },
   {
    "duration": 433,
    "start_time": "2022-05-19T03:26:52.703Z"
   },
   {
    "duration": 420,
    "start_time": "2022-05-19T03:27:28.449Z"
   },
   {
    "duration": 9,
    "start_time": "2022-05-19T03:28:45.813Z"
   },
   {
    "duration": 253,
    "start_time": "2022-05-19T03:28:59.200Z"
   },
   {
    "duration": 183,
    "start_time": "2022-05-19T03:29:07.654Z"
   },
   {
    "duration": 6,
    "start_time": "2022-05-19T03:29:10.223Z"
   },
   {
    "duration": 6,
    "start_time": "2022-05-19T03:29:35.897Z"
   },
   {
    "duration": 10,
    "start_time": "2022-05-19T03:30:57.273Z"
   },
   {
    "duration": 878,
    "start_time": "2022-05-19T13:47:52.177Z"
   },
   {
    "duration": 216,
    "start_time": "2022-05-19T13:47:53.057Z"
   },
   {
    "duration": 23,
    "start_time": "2022-05-19T13:47:53.275Z"
   },
   {
    "duration": 19,
    "start_time": "2022-05-19T13:47:53.301Z"
   },
   {
    "duration": 3,
    "start_time": "2022-05-19T13:47:53.322Z"
   },
   {
    "duration": 33,
    "start_time": "2022-05-19T13:47:53.327Z"
   },
   {
    "duration": 30,
    "start_time": "2022-05-19T13:47:53.362Z"
   },
   {
    "duration": 12,
    "start_time": "2022-05-19T13:47:53.394Z"
   },
   {
    "duration": 9,
    "start_time": "2022-05-19T13:47:53.408Z"
   },
   {
    "duration": 13,
    "start_time": "2022-05-19T13:47:53.421Z"
   },
   {
    "duration": 18,
    "start_time": "2022-05-19T13:47:53.441Z"
   },
   {
    "duration": 343,
    "start_time": "2022-05-19T13:47:53.461Z"
   },
   {
    "duration": 5,
    "start_time": "2022-05-19T13:47:53.805Z"
   },
   {
    "duration": 18,
    "start_time": "2022-05-19T13:47:53.811Z"
   },
   {
    "duration": 306,
    "start_time": "2022-05-19T13:47:53.830Z"
   },
   {
    "duration": 13,
    "start_time": "2022-05-19T13:47:54.143Z"
   },
   {
    "duration": 277,
    "start_time": "2022-05-19T13:47:54.158Z"
   },
   {
    "duration": 190,
    "start_time": "2022-05-19T13:47:54.436Z"
   },
   {
    "duration": 183,
    "start_time": "2022-05-19T13:47:54.627Z"
   },
   {
    "duration": 255,
    "start_time": "2022-05-19T13:47:54.812Z"
   },
   {
    "duration": 201,
    "start_time": "2022-05-19T13:47:55.069Z"
   },
   {
    "duration": 188,
    "start_time": "2022-05-19T13:47:55.272Z"
   },
   {
    "duration": 183,
    "start_time": "2022-05-19T13:47:55.462Z"
   },
   {
    "duration": 32,
    "start_time": "2022-05-19T13:47:55.647Z"
   },
   {
    "duration": 4,
    "start_time": "2022-05-19T13:47:55.681Z"
   },
   {
    "duration": 202,
    "start_time": "2022-05-19T13:47:55.687Z"
   },
   {
    "duration": 10,
    "start_time": "2022-05-19T13:47:55.891Z"
   },
   {
    "duration": 13,
    "start_time": "2022-05-19T13:47:55.904Z"
   },
   {
    "duration": 27,
    "start_time": "2022-05-19T13:47:55.919Z"
   },
   {
    "duration": 16,
    "start_time": "2022-05-19T13:47:55.954Z"
   },
   {
    "duration": 11,
    "start_time": "2022-05-19T13:47:55.971Z"
   },
   {
    "duration": 11,
    "start_time": "2022-05-19T13:47:55.984Z"
   },
   {
    "duration": 13,
    "start_time": "2022-05-19T13:47:55.997Z"
   },
   {
    "duration": 9,
    "start_time": "2022-05-19T13:47:56.012Z"
   },
   {
    "duration": 27,
    "start_time": "2022-05-19T13:47:56.022Z"
   },
   {
    "duration": 15,
    "start_time": "2022-05-19T13:47:56.050Z"
   },
   {
    "duration": 11,
    "start_time": "2022-05-19T13:47:56.067Z"
   },
   {
    "duration": 24,
    "start_time": "2022-05-19T13:47:56.080Z"
   },
   {
    "duration": 2,
    "start_time": "2022-05-19T13:47:56.106Z"
   },
   {
    "duration": 70,
    "start_time": "2022-05-19T13:47:56.110Z"
   },
   {
    "duration": 379,
    "start_time": "2022-05-19T13:47:56.182Z"
   },
   {
    "duration": 24,
    "start_time": "2022-05-19T13:47:56.563Z"
   },
   {
    "duration": 4,
    "start_time": "2022-05-19T13:47:56.588Z"
   },
   {
    "duration": 221,
    "start_time": "2022-05-19T13:47:56.594Z"
   },
   {
    "duration": 9,
    "start_time": "2022-05-19T13:47:56.817Z"
   },
   {
    "duration": 40,
    "start_time": "2022-05-19T13:47:56.828Z"
   },
   {
    "duration": 196,
    "start_time": "2022-05-19T13:47:56.870Z"
   },
   {
    "duration": 6,
    "start_time": "2022-05-19T13:47:57.068Z"
   },
   {
    "duration": 213,
    "start_time": "2022-05-19T13:47:57.076Z"
   },
   {
    "duration": 6,
    "start_time": "2022-05-19T13:47:57.291Z"
   },
   {
    "duration": 22,
    "start_time": "2022-05-19T14:13:36.045Z"
   },
   {
    "duration": 18,
    "start_time": "2022-05-19T14:15:31.637Z"
   },
   {
    "duration": 101,
    "start_time": "2022-05-19T14:16:13.063Z"
   },
   {
    "duration": 11,
    "start_time": "2022-05-19T14:16:21.053Z"
   },
   {
    "duration": 16,
    "start_time": "2022-05-19T14:17:08.619Z"
   },
   {
    "duration": 16,
    "start_time": "2022-05-19T14:17:19.260Z"
   },
   {
    "duration": 15,
    "start_time": "2022-05-19T14:18:17.875Z"
   },
   {
    "duration": 13,
    "start_time": "2022-05-19T14:21:27.821Z"
   },
   {
    "duration": 14,
    "start_time": "2022-05-19T14:23:17.487Z"
   },
   {
    "duration": 5,
    "start_time": "2022-05-19T14:24:00.176Z"
   },
   {
    "duration": 7,
    "start_time": "2022-05-19T14:24:23.426Z"
   },
   {
    "duration": 15,
    "start_time": "2022-05-19T14:25:27.627Z"
   },
   {
    "duration": 100,
    "start_time": "2022-05-19T14:26:01.801Z"
   },
   {
    "duration": 203,
    "start_time": "2022-05-19T14:26:26.741Z"
   },
   {
    "duration": 20,
    "start_time": "2022-05-19T14:42:53.568Z"
   },
   {
    "duration": 207,
    "start_time": "2022-05-19T14:43:28.108Z"
   },
   {
    "duration": 212,
    "start_time": "2022-05-19T14:47:02.719Z"
   },
   {
    "duration": 220,
    "start_time": "2022-05-19T14:47:10.253Z"
   },
   {
    "duration": 207,
    "start_time": "2022-05-19T14:47:22.517Z"
   },
   {
    "duration": 70,
    "start_time": "2022-05-19T19:20:12.821Z"
   },
   {
    "duration": 827,
    "start_time": "2022-05-19T19:20:49.290Z"
   },
   {
    "duration": 192,
    "start_time": "2022-05-19T19:20:50.119Z"
   },
   {
    "duration": 24,
    "start_time": "2022-05-19T19:20:50.312Z"
   },
   {
    "duration": 14,
    "start_time": "2022-05-19T19:20:50.337Z"
   },
   {
    "duration": 4,
    "start_time": "2022-05-19T19:20:50.352Z"
   },
   {
    "duration": 8,
    "start_time": "2022-05-19T19:20:50.357Z"
   },
   {
    "duration": 27,
    "start_time": "2022-05-19T19:20:50.366Z"
   },
   {
    "duration": 10,
    "start_time": "2022-05-19T19:20:50.395Z"
   },
   {
    "duration": 9,
    "start_time": "2022-05-19T19:20:50.406Z"
   },
   {
    "duration": 9,
    "start_time": "2022-05-19T19:20:50.417Z"
   },
   {
    "duration": 5,
    "start_time": "2022-05-19T19:20:50.427Z"
   },
   {
    "duration": 336,
    "start_time": "2022-05-19T19:20:50.434Z"
   },
   {
    "duration": 7,
    "start_time": "2022-05-19T19:20:50.771Z"
   },
   {
    "duration": 17,
    "start_time": "2022-05-19T19:20:50.779Z"
   },
   {
    "duration": 284,
    "start_time": "2022-05-19T19:20:50.797Z"
   },
   {
    "duration": 10,
    "start_time": "2022-05-19T19:20:51.083Z"
   },
   {
    "duration": 264,
    "start_time": "2022-05-19T19:20:51.094Z"
   },
   {
    "duration": 186,
    "start_time": "2022-05-19T19:20:51.360Z"
   },
   {
    "duration": 217,
    "start_time": "2022-05-19T19:20:51.548Z"
   },
   {
    "duration": 229,
    "start_time": "2022-05-19T19:20:51.774Z"
   },
   {
    "duration": 178,
    "start_time": "2022-05-19T19:20:52.004Z"
   },
   {
    "duration": 178,
    "start_time": "2022-05-19T19:20:52.184Z"
   },
   {
    "duration": 165,
    "start_time": "2022-05-19T19:20:52.364Z"
   },
   {
    "duration": 26,
    "start_time": "2022-05-19T19:20:52.531Z"
   },
   {
    "duration": 18,
    "start_time": "2022-05-19T19:20:52.559Z"
   },
   {
    "duration": 235,
    "start_time": "2022-05-19T19:20:52.578Z"
   },
   {
    "duration": 13,
    "start_time": "2022-05-19T19:20:52.816Z"
   },
   {
    "duration": 12,
    "start_time": "2022-05-19T19:20:52.832Z"
   },
   {
    "duration": 29,
    "start_time": "2022-05-19T19:20:52.846Z"
   },
   {
    "duration": 13,
    "start_time": "2022-05-19T19:20:52.877Z"
   },
   {
    "duration": 18,
    "start_time": "2022-05-19T19:20:52.892Z"
   },
   {
    "duration": 13,
    "start_time": "2022-05-19T19:20:52.912Z"
   },
   {
    "duration": 16,
    "start_time": "2022-05-19T19:20:52.926Z"
   },
   {
    "duration": 38,
    "start_time": "2022-05-19T19:20:52.943Z"
   },
   {
    "duration": 18,
    "start_time": "2022-05-19T19:20:52.983Z"
   },
   {
    "duration": 27,
    "start_time": "2022-05-19T19:20:53.003Z"
   },
   {
    "duration": 20,
    "start_time": "2022-05-19T19:20:53.032Z"
   },
   {
    "duration": 37,
    "start_time": "2022-05-19T19:20:53.054Z"
   },
   {
    "duration": 18,
    "start_time": "2022-05-19T19:20:53.093Z"
   },
   {
    "duration": 44,
    "start_time": "2022-05-19T19:20:53.112Z"
   },
   {
    "duration": 331,
    "start_time": "2022-05-19T19:20:53.158Z"
   },
   {
    "duration": 20,
    "start_time": "2022-05-19T19:20:53.491Z"
   },
   {
    "duration": 4,
    "start_time": "2022-05-19T19:20:53.513Z"
   },
   {
    "duration": 201,
    "start_time": "2022-05-19T19:20:53.518Z"
   },
   {
    "duration": 5,
    "start_time": "2022-05-19T19:20:53.721Z"
   },
   {
    "duration": 10,
    "start_time": "2022-05-19T19:20:53.728Z"
   },
   {
    "duration": 152,
    "start_time": "2022-05-19T19:20:53.739Z"
   },
   {
    "duration": 6,
    "start_time": "2022-05-19T19:20:53.892Z"
   },
   {
    "duration": 154,
    "start_time": "2022-05-19T19:20:53.899Z"
   },
   {
    "duration": 6,
    "start_time": "2022-05-19T19:20:54.055Z"
   },
   {
    "duration": 26,
    "start_time": "2022-05-19T19:20:54.063Z"
   },
   {
    "duration": 17,
    "start_time": "2022-05-19T19:20:54.091Z"
   },
   {
    "duration": 29,
    "start_time": "2022-05-19T19:20:54.109Z"
   },
   {
    "duration": 15,
    "start_time": "2022-05-19T19:20:54.140Z"
   },
   {
    "duration": 24,
    "start_time": "2022-05-19T19:20:54.157Z"
   },
   {
    "duration": 8,
    "start_time": "2022-05-19T19:20:54.183Z"
   },
   {
    "duration": 320,
    "start_time": "2022-05-19T19:20:54.193Z"
   },
   {
    "duration": 94,
    "start_time": "2022-05-19T19:20:54.515Z"
   },
   {
    "duration": 28,
    "start_time": "2022-05-19T19:21:54.894Z"
   },
   {
    "duration": 4,
    "start_time": "2022-05-19T19:23:39.370Z"
   },
   {
    "duration": 195,
    "start_time": "2022-05-19T19:23:40.516Z"
   },
   {
    "duration": 27,
    "start_time": "2022-05-19T19:23:41.955Z"
   },
   {
    "duration": 15,
    "start_time": "2022-05-19T19:24:10.345Z"
   },
   {
    "duration": 666,
    "start_time": "2022-05-19T19:25:34.469Z"
   },
   {
    "duration": 50,
    "start_time": "2022-05-19T19:25:35.137Z"
   },
   {
    "duration": 22,
    "start_time": "2022-05-19T19:25:35.190Z"
   },
   {
    "duration": 13,
    "start_time": "2022-05-19T19:25:35.214Z"
   },
   {
    "duration": 3,
    "start_time": "2022-05-19T19:25:35.229Z"
   },
   {
    "duration": 8,
    "start_time": "2022-05-19T19:25:35.233Z"
   },
   {
    "duration": 45,
    "start_time": "2022-05-19T19:25:35.242Z"
   },
   {
    "duration": 7,
    "start_time": "2022-05-19T19:25:35.289Z"
   },
   {
    "duration": 9,
    "start_time": "2022-05-19T19:25:35.298Z"
   },
   {
    "duration": 8,
    "start_time": "2022-05-19T19:25:35.309Z"
   },
   {
    "duration": 5,
    "start_time": "2022-05-19T19:25:35.318Z"
   },
   {
    "duration": 323,
    "start_time": "2022-05-19T19:25:35.324Z"
   },
   {
    "duration": 4,
    "start_time": "2022-05-19T19:25:35.648Z"
   },
   {
    "duration": 22,
    "start_time": "2022-05-19T19:25:35.654Z"
   },
   {
    "duration": 264,
    "start_time": "2022-05-19T19:25:35.678Z"
   },
   {
    "duration": 11,
    "start_time": "2022-05-19T19:25:35.943Z"
   },
   {
    "duration": 271,
    "start_time": "2022-05-19T19:25:35.955Z"
   },
   {
    "duration": 167,
    "start_time": "2022-05-19T19:25:36.228Z"
   },
   {
    "duration": 172,
    "start_time": "2022-05-19T19:25:36.397Z"
   },
   {
    "duration": 238,
    "start_time": "2022-05-19T19:25:36.574Z"
   },
   {
    "duration": 188,
    "start_time": "2022-05-19T19:25:36.814Z"
   },
   {
    "duration": 176,
    "start_time": "2022-05-19T19:25:37.004Z"
   },
   {
    "duration": 166,
    "start_time": "2022-05-19T19:25:37.181Z"
   },
   {
    "duration": 33,
    "start_time": "2022-05-19T19:25:37.349Z"
   },
   {
    "duration": 4,
    "start_time": "2022-05-19T19:25:37.383Z"
   },
   {
    "duration": 190,
    "start_time": "2022-05-19T19:25:37.389Z"
   },
   {
    "duration": 10,
    "start_time": "2022-05-19T19:25:37.580Z"
   },
   {
    "duration": 17,
    "start_time": "2022-05-19T19:25:37.593Z"
   },
   {
    "duration": 9,
    "start_time": "2022-05-19T19:25:37.612Z"
   },
   {
    "duration": 12,
    "start_time": "2022-05-19T19:25:37.622Z"
   },
   {
    "duration": 10,
    "start_time": "2022-05-19T19:25:37.636Z"
   },
   {
    "duration": 28,
    "start_time": "2022-05-19T19:25:37.647Z"
   },
   {
    "duration": 10,
    "start_time": "2022-05-19T19:25:37.676Z"
   },
   {
    "duration": 12,
    "start_time": "2022-05-19T19:25:37.688Z"
   },
   {
    "duration": 13,
    "start_time": "2022-05-19T19:25:37.701Z"
   },
   {
    "duration": 9,
    "start_time": "2022-05-19T19:25:37.716Z"
   },
   {
    "duration": 13,
    "start_time": "2022-05-19T19:25:37.727Z"
   },
   {
    "duration": 46,
    "start_time": "2022-05-19T19:25:37.742Z"
   },
   {
    "duration": 3,
    "start_time": "2022-05-19T19:25:37.789Z"
   },
   {
    "duration": 41,
    "start_time": "2022-05-19T19:25:37.793Z"
   },
   {
    "duration": 354,
    "start_time": "2022-05-19T19:25:37.835Z"
   },
   {
    "duration": 23,
    "start_time": "2022-05-19T19:25:38.191Z"
   },
   {
    "duration": 4,
    "start_time": "2022-05-19T19:25:38.215Z"
   },
   {
    "duration": 211,
    "start_time": "2022-05-19T19:25:38.221Z"
   },
   {
    "duration": 6,
    "start_time": "2022-05-19T19:25:38.434Z"
   },
   {
    "duration": 7,
    "start_time": "2022-05-19T19:25:38.441Z"
   },
   {
    "duration": 144,
    "start_time": "2022-05-19T19:25:38.450Z"
   },
   {
    "duration": 4,
    "start_time": "2022-05-19T19:25:38.595Z"
   },
   {
    "duration": 146,
    "start_time": "2022-05-19T19:25:38.601Z"
   },
   {
    "duration": 5,
    "start_time": "2022-05-19T19:25:38.748Z"
   },
   {
    "duration": 27,
    "start_time": "2022-05-19T19:25:38.754Z"
   },
   {
    "duration": 13,
    "start_time": "2022-05-19T19:25:38.783Z"
   },
   {
    "duration": 15,
    "start_time": "2022-05-19T19:25:38.797Z"
   },
   {
    "duration": 11,
    "start_time": "2022-05-19T19:25:38.814Z"
   },
   {
    "duration": 14,
    "start_time": "2022-05-19T19:25:38.827Z"
   },
   {
    "duration": 5,
    "start_time": "2022-05-19T19:25:38.843Z"
   },
   {
    "duration": 305,
    "start_time": "2022-05-19T19:25:38.849Z"
   },
   {
    "duration": 23,
    "start_time": "2022-05-19T19:25:39.156Z"
   },
   {
    "duration": 16,
    "start_time": "2022-05-19T19:25:39.181Z"
   },
   {
    "duration": 15,
    "start_time": "2022-05-19T19:53:58.701Z"
   },
   {
    "duration": 9,
    "start_time": "2022-05-19T19:54:53.648Z"
   },
   {
    "duration": 15,
    "start_time": "2022-05-19T19:57:14.551Z"
   },
   {
    "duration": 23,
    "start_time": "2022-05-19T21:44:01.455Z"
   },
   {
    "duration": 5,
    "start_time": "2022-05-19T21:44:12.201Z"
   },
   {
    "duration": 17,
    "start_time": "2022-05-19T21:46:09.933Z"
   },
   {
    "duration": 81,
    "start_time": "2022-05-19T21:46:53.226Z"
   },
   {
    "duration": 199,
    "start_time": "2022-05-19T21:47:00.209Z"
   },
   {
    "duration": 185,
    "start_time": "2022-05-19T21:47:26.926Z"
   },
   {
    "duration": 177,
    "start_time": "2022-05-19T21:47:48.382Z"
   },
   {
    "duration": 171,
    "start_time": "2022-05-19T22:01:32.193Z"
   },
   {
    "duration": 156,
    "start_time": "2022-05-19T22:27:47.359Z"
   },
   {
    "duration": 161,
    "start_time": "2022-05-19T22:27:47.516Z"
   },
   {
    "duration": 157,
    "start_time": "2022-05-19T22:27:47.678Z"
   },
   {
    "duration": 168,
    "start_time": "2022-05-19T22:27:47.837Z"
   },
   {
    "duration": 8,
    "start_time": "2022-05-19T22:31:44.018Z"
   },
   {
    "duration": 15,
    "start_time": "2022-05-19T22:32:21.986Z"
   },
   {
    "duration": 193,
    "start_time": "2022-05-19T22:32:44.841Z"
   },
   {
    "duration": 19,
    "start_time": "2022-05-19T22:34:47.077Z"
   },
   {
    "duration": 18,
    "start_time": "2022-05-19T22:36:29.413Z"
   },
   {
    "duration": 9,
    "start_time": "2022-05-19T22:36:30.697Z"
   },
   {
    "duration": 201,
    "start_time": "2022-05-19T22:37:13.665Z"
   },
   {
    "duration": 19,
    "start_time": "2022-05-19T22:47:58.627Z"
   },
   {
    "duration": 9,
    "start_time": "2022-05-19T22:49:05.099Z"
   },
   {
    "duration": 11,
    "start_time": "2022-05-19T22:49:26.961Z"
   },
   {
    "duration": 58,
    "start_time": "2022-05-20T17:50:53.343Z"
   },
   {
    "duration": 886,
    "start_time": "2022-05-20T17:51:02.172Z"
   },
   {
    "duration": 70,
    "start_time": "2022-05-20T17:51:03.060Z"
   },
   {
    "duration": 31,
    "start_time": "2022-05-20T17:51:03.131Z"
   },
   {
    "duration": 18,
    "start_time": "2022-05-20T17:51:03.165Z"
   },
   {
    "duration": 8,
    "start_time": "2022-05-20T17:51:03.185Z"
   },
   {
    "duration": 11,
    "start_time": "2022-05-20T17:51:03.195Z"
   },
   {
    "duration": 37,
    "start_time": "2022-05-20T17:51:03.207Z"
   },
   {
    "duration": 35,
    "start_time": "2022-05-20T17:51:03.246Z"
   },
   {
    "duration": 13,
    "start_time": "2022-05-20T17:51:03.284Z"
   },
   {
    "duration": 13,
    "start_time": "2022-05-20T17:51:03.299Z"
   },
   {
    "duration": 7,
    "start_time": "2022-05-20T17:51:03.315Z"
   },
   {
    "duration": 379,
    "start_time": "2022-05-20T17:51:03.324Z"
   },
   {
    "duration": 6,
    "start_time": "2022-05-20T17:51:03.705Z"
   },
   {
    "duration": 29,
    "start_time": "2022-05-20T17:51:03.715Z"
   },
   {
    "duration": 305,
    "start_time": "2022-05-20T17:51:03.745Z"
   },
   {
    "duration": 21,
    "start_time": "2022-05-20T17:51:04.051Z"
   },
   {
    "duration": 322,
    "start_time": "2022-05-20T17:51:04.073Z"
   },
   {
    "duration": 199,
    "start_time": "2022-05-20T17:51:04.397Z"
   },
   {
    "duration": 215,
    "start_time": "2022-05-20T17:51:04.597Z"
   },
   {
    "duration": 337,
    "start_time": "2022-05-20T17:51:04.814Z"
   },
   {
    "duration": 262,
    "start_time": "2022-05-20T17:51:05.171Z"
   },
   {
    "duration": 259,
    "start_time": "2022-05-20T17:51:05.435Z"
   },
   {
    "duration": 221,
    "start_time": "2022-05-20T17:51:05.699Z"
   },
   {
    "duration": 45,
    "start_time": "2022-05-20T17:51:05.922Z"
   },
   {
    "duration": 17,
    "start_time": "2022-05-20T17:51:05.968Z"
   },
   {
    "duration": 222,
    "start_time": "2022-05-20T17:51:05.986Z"
   },
   {
    "duration": 16,
    "start_time": "2022-05-20T17:51:06.210Z"
   },
   {
    "duration": 30,
    "start_time": "2022-05-20T17:51:06.228Z"
   },
   {
    "duration": 13,
    "start_time": "2022-05-20T17:51:06.266Z"
   },
   {
    "duration": 14,
    "start_time": "2022-05-20T17:51:06.280Z"
   },
   {
    "duration": 12,
    "start_time": "2022-05-20T17:51:06.296Z"
   },
   {
    "duration": 11,
    "start_time": "2022-05-20T17:51:06.309Z"
   },
   {
    "duration": 13,
    "start_time": "2022-05-20T17:51:06.321Z"
   },
   {
    "duration": 30,
    "start_time": "2022-05-20T17:51:06.336Z"
   },
   {
    "duration": 14,
    "start_time": "2022-05-20T17:51:06.372Z"
   },
   {
    "duration": 16,
    "start_time": "2022-05-20T17:51:06.388Z"
   },
   {
    "duration": 12,
    "start_time": "2022-05-20T17:51:06.406Z"
   },
   {
    "duration": 26,
    "start_time": "2022-05-20T17:51:06.419Z"
   },
   {
    "duration": 13,
    "start_time": "2022-05-20T17:51:06.447Z"
   },
   {
    "duration": 73,
    "start_time": "2022-05-20T17:51:06.470Z"
   },
   {
    "duration": 420,
    "start_time": "2022-05-20T17:51:06.548Z"
   },
   {
    "duration": 24,
    "start_time": "2022-05-20T17:51:06.971Z"
   },
   {
    "duration": 5,
    "start_time": "2022-05-20T17:51:06.997Z"
   },
   {
    "duration": 260,
    "start_time": "2022-05-20T17:51:07.004Z"
   },
   {
    "duration": 6,
    "start_time": "2022-05-20T17:51:07.266Z"
   },
   {
    "duration": 14,
    "start_time": "2022-05-20T17:51:07.274Z"
   },
   {
    "duration": 160,
    "start_time": "2022-05-20T17:51:07.289Z"
   },
   {
    "duration": 9,
    "start_time": "2022-05-20T17:51:07.451Z"
   },
   {
    "duration": 157,
    "start_time": "2022-05-20T17:51:07.466Z"
   },
   {
    "duration": 6,
    "start_time": "2022-05-20T17:51:07.625Z"
   },
   {
    "duration": 34,
    "start_time": "2022-05-20T17:51:07.633Z"
   },
   {
    "duration": 14,
    "start_time": "2022-05-20T17:51:07.672Z"
   },
   {
    "duration": 24,
    "start_time": "2022-05-20T17:51:07.688Z"
   },
   {
    "duration": 16,
    "start_time": "2022-05-20T17:51:07.714Z"
   },
   {
    "duration": 34,
    "start_time": "2022-05-20T17:51:07.732Z"
   },
   {
    "duration": 9,
    "start_time": "2022-05-20T17:51:07.770Z"
   },
   {
    "duration": 307,
    "start_time": "2022-05-20T17:51:07.780Z"
   },
   {
    "duration": 16,
    "start_time": "2022-05-20T17:51:08.089Z"
   },
   {
    "duration": 20,
    "start_time": "2022-05-20T17:51:08.107Z"
   },
   {
    "duration": 35,
    "start_time": "2022-05-20T17:51:08.129Z"
   },
   {
    "duration": 21,
    "start_time": "2022-05-20T17:51:08.166Z"
   },
   {
    "duration": 8,
    "start_time": "2022-05-20T17:51:08.189Z"
   },
   {
    "duration": 223,
    "start_time": "2022-05-20T17:51:08.199Z"
   },
   {
    "duration": 210,
    "start_time": "2022-05-20T17:51:08.423Z"
   },
   {
    "duration": 199,
    "start_time": "2022-05-20T17:51:08.635Z"
   },
   {
    "duration": 31,
    "start_time": "2022-05-20T17:51:08.836Z"
   },
   {
    "duration": 103,
    "start_time": "2022-05-20T17:51:08.871Z"
   },
   {
    "duration": 0,
    "start_time": "2022-05-20T17:51:08.976Z"
   },
   {
    "duration": 0,
    "start_time": "2022-05-20T17:51:08.977Z"
   },
   {
    "duration": 0,
    "start_time": "2022-05-20T17:51:08.977Z"
   },
   {
    "duration": 0,
    "start_time": "2022-05-20T17:51:08.978Z"
   },
   {
    "duration": 0,
    "start_time": "2022-05-20T17:51:08.980Z"
   },
   {
    "duration": 0,
    "start_time": "2022-05-20T17:51:08.980Z"
   },
   {
    "duration": 0,
    "start_time": "2022-05-20T17:51:08.981Z"
   },
   {
    "duration": 14,
    "start_time": "2022-05-20T17:51:28.285Z"
   },
   {
    "duration": 234,
    "start_time": "2022-05-20T17:51:33.114Z"
   },
   {
    "duration": 23,
    "start_time": "2022-05-20T17:51:33.736Z"
   },
   {
    "duration": 11,
    "start_time": "2022-05-20T17:51:34.815Z"
   },
   {
    "duration": 333,
    "start_time": "2022-05-20T17:51:35.144Z"
   },
   {
    "duration": 23,
    "start_time": "2022-05-20T17:51:35.480Z"
   },
   {
    "duration": 13,
    "start_time": "2022-05-20T17:51:35.681Z"
   },
   {
    "duration": 422,
    "start_time": "2022-05-20T17:51:35.947Z"
   },
   {
    "duration": 485,
    "start_time": "2022-05-20T17:52:05.314Z"
   },
   {
    "duration": 5,
    "start_time": "2022-05-20T18:11:43.780Z"
   },
   {
    "duration": 710,
    "start_time": "2022-05-20T18:13:31.537Z"
   },
   {
    "duration": 39,
    "start_time": "2022-05-20T18:13:32.248Z"
   },
   {
    "duration": 25,
    "start_time": "2022-05-20T18:13:32.289Z"
   },
   {
    "duration": 12,
    "start_time": "2022-05-20T18:13:32.316Z"
   },
   {
    "duration": 3,
    "start_time": "2022-05-20T18:13:32.330Z"
   },
   {
    "duration": 21,
    "start_time": "2022-05-20T18:13:32.334Z"
   },
   {
    "duration": 24,
    "start_time": "2022-05-20T18:13:32.357Z"
   },
   {
    "duration": 10,
    "start_time": "2022-05-20T18:13:32.382Z"
   },
   {
    "duration": 14,
    "start_time": "2022-05-20T18:13:32.394Z"
   },
   {
    "duration": 9,
    "start_time": "2022-05-20T18:13:32.410Z"
   },
   {
    "duration": 10,
    "start_time": "2022-05-20T18:13:32.421Z"
   },
   {
    "duration": 378,
    "start_time": "2022-05-20T18:13:32.433Z"
   },
   {
    "duration": 5,
    "start_time": "2022-05-20T18:13:32.812Z"
   },
   {
    "duration": 19,
    "start_time": "2022-05-20T18:13:32.818Z"
   },
   {
    "duration": 278,
    "start_time": "2022-05-20T18:13:32.838Z"
   },
   {
    "duration": 10,
    "start_time": "2022-05-20T18:13:33.117Z"
   },
   {
    "duration": 281,
    "start_time": "2022-05-20T18:13:33.129Z"
   },
   {
    "duration": 176,
    "start_time": "2022-05-20T18:13:33.411Z"
   },
   {
    "duration": 179,
    "start_time": "2022-05-20T18:13:33.589Z"
   },
   {
    "duration": 247,
    "start_time": "2022-05-20T18:13:33.770Z"
   },
   {
    "duration": 188,
    "start_time": "2022-05-20T18:13:34.019Z"
   },
   {
    "duration": 182,
    "start_time": "2022-05-20T18:13:34.209Z"
   },
   {
    "duration": 181,
    "start_time": "2022-05-20T18:13:34.393Z"
   },
   {
    "duration": 30,
    "start_time": "2022-05-20T18:13:34.576Z"
   },
   {
    "duration": 11,
    "start_time": "2022-05-20T18:13:34.608Z"
   },
   {
    "duration": 198,
    "start_time": "2022-05-20T18:13:34.620Z"
   },
   {
    "duration": 12,
    "start_time": "2022-05-20T18:13:34.820Z"
   },
   {
    "duration": 20,
    "start_time": "2022-05-20T18:13:34.836Z"
   },
   {
    "duration": 10,
    "start_time": "2022-05-20T18:13:34.857Z"
   },
   {
    "duration": 13,
    "start_time": "2022-05-20T18:13:34.868Z"
   },
   {
    "duration": 18,
    "start_time": "2022-05-20T18:13:34.883Z"
   },
   {
    "duration": 18,
    "start_time": "2022-05-20T18:13:34.903Z"
   },
   {
    "duration": 10,
    "start_time": "2022-05-20T18:13:34.923Z"
   },
   {
    "duration": 21,
    "start_time": "2022-05-20T18:13:34.934Z"
   },
   {
    "duration": 11,
    "start_time": "2022-05-20T18:13:34.957Z"
   },
   {
    "duration": 13,
    "start_time": "2022-05-20T18:13:34.969Z"
   },
   {
    "duration": 10,
    "start_time": "2022-05-20T18:13:34.983Z"
   },
   {
    "duration": 27,
    "start_time": "2022-05-20T18:13:34.994Z"
   },
   {
    "duration": 3,
    "start_time": "2022-05-20T18:13:35.022Z"
   },
   {
    "duration": 59,
    "start_time": "2022-05-20T18:13:35.027Z"
   },
   {
    "duration": 452,
    "start_time": "2022-05-20T18:13:35.088Z"
   },
   {
    "duration": 25,
    "start_time": "2022-05-20T18:13:35.541Z"
   },
   {
    "duration": 15,
    "start_time": "2022-05-20T18:13:35.568Z"
   },
   {
    "duration": 240,
    "start_time": "2022-05-20T18:13:35.585Z"
   },
   {
    "duration": 6,
    "start_time": "2022-05-20T18:13:35.827Z"
   },
   {
    "duration": 18,
    "start_time": "2022-05-20T18:13:35.834Z"
   },
   {
    "duration": 159,
    "start_time": "2022-05-20T18:13:35.854Z"
   },
   {
    "duration": 5,
    "start_time": "2022-05-20T18:13:36.015Z"
   },
   {
    "duration": 185,
    "start_time": "2022-05-20T18:13:36.022Z"
   },
   {
    "duration": 5,
    "start_time": "2022-05-20T18:13:36.209Z"
   },
   {
    "duration": 19,
    "start_time": "2022-05-20T18:13:36.215Z"
   },
   {
    "duration": 31,
    "start_time": "2022-05-20T18:13:36.236Z"
   },
   {
    "duration": 19,
    "start_time": "2022-05-20T18:13:36.269Z"
   },
   {
    "duration": 13,
    "start_time": "2022-05-20T18:13:36.290Z"
   },
   {
    "duration": 19,
    "start_time": "2022-05-20T18:13:36.304Z"
   },
   {
    "duration": 7,
    "start_time": "2022-05-20T18:13:36.325Z"
   },
   {
    "duration": 292,
    "start_time": "2022-05-20T18:13:36.334Z"
   },
   {
    "duration": 12,
    "start_time": "2022-05-20T18:13:36.628Z"
   },
   {
    "duration": 22,
    "start_time": "2022-05-20T18:13:36.641Z"
   },
   {
    "duration": 13,
    "start_time": "2022-05-20T18:13:36.664Z"
   },
   {
    "duration": 13,
    "start_time": "2022-05-20T18:13:36.679Z"
   },
   {
    "duration": 6,
    "start_time": "2022-05-20T18:13:36.694Z"
   },
   {
    "duration": 197,
    "start_time": "2022-05-20T18:13:36.702Z"
   },
   {
    "duration": 190,
    "start_time": "2022-05-20T18:13:36.901Z"
   },
   {
    "duration": 181,
    "start_time": "2022-05-20T18:13:37.092Z"
   },
   {
    "duration": 19,
    "start_time": "2022-05-20T18:13:37.274Z"
   },
   {
    "duration": 10,
    "start_time": "2022-05-20T18:13:37.295Z"
   },
   {
    "duration": 250,
    "start_time": "2022-05-20T18:13:37.306Z"
   },
   {
    "duration": 19,
    "start_time": "2022-05-20T18:13:37.558Z"
   },
   {
    "duration": 11,
    "start_time": "2022-05-20T18:13:37.579Z"
   },
   {
    "duration": 247,
    "start_time": "2022-05-20T18:13:37.592Z"
   },
   {
    "duration": 23,
    "start_time": "2022-05-20T18:13:37.841Z"
   },
   {
    "duration": 10,
    "start_time": "2022-05-20T18:13:37.865Z"
   },
   {
    "duration": 256,
    "start_time": "2022-05-20T18:13:37.877Z"
   },
   {
    "duration": 78,
    "start_time": "2022-05-20T18:25:52.352Z"
   },
   {
    "duration": 122,
    "start_time": "2022-05-20T18:26:22.760Z"
   },
   {
    "duration": 221,
    "start_time": "2022-05-20T18:29:05.094Z"
   },
   {
    "duration": 60,
    "start_time": "2022-05-21T12:53:35.613Z"
   },
   {
    "duration": 972,
    "start_time": "2022-05-21T12:53:39.351Z"
   },
   {
    "duration": 84,
    "start_time": "2022-05-21T12:53:40.325Z"
   },
   {
    "duration": 27,
    "start_time": "2022-05-21T12:53:40.411Z"
   },
   {
    "duration": 15,
    "start_time": "2022-05-21T12:53:40.440Z"
   },
   {
    "duration": 20,
    "start_time": "2022-05-21T12:53:40.458Z"
   },
   {
    "duration": 11,
    "start_time": "2022-05-21T12:53:40.480Z"
   },
   {
    "duration": 24,
    "start_time": "2022-05-21T12:53:40.493Z"
   },
   {
    "duration": 14,
    "start_time": "2022-05-21T12:53:40.519Z"
   },
   {
    "duration": 13,
    "start_time": "2022-05-21T12:53:40.534Z"
   },
   {
    "duration": 15,
    "start_time": "2022-05-21T12:53:40.549Z"
   },
   {
    "duration": 14,
    "start_time": "2022-05-21T12:53:40.566Z"
   },
   {
    "duration": 354,
    "start_time": "2022-05-21T12:53:40.582Z"
   },
   {
    "duration": 5,
    "start_time": "2022-05-21T12:53:40.938Z"
   },
   {
    "duration": 30,
    "start_time": "2022-05-21T12:53:40.953Z"
   },
   {
    "duration": 285,
    "start_time": "2022-05-21T12:53:40.985Z"
   },
   {
    "duration": 186,
    "start_time": "2022-05-21T12:53:41.272Z"
   },
   {
    "duration": 222,
    "start_time": "2022-05-21T12:53:41.466Z"
   },
   {
    "duration": 201,
    "start_time": "2022-05-21T12:53:41.690Z"
   },
   {
    "duration": 288,
    "start_time": "2022-05-21T12:53:41.893Z"
   },
   {
    "duration": 181,
    "start_time": "2022-05-21T12:53:42.183Z"
   },
   {
    "duration": 200,
    "start_time": "2022-05-21T12:53:42.366Z"
   },
   {
    "duration": 39,
    "start_time": "2022-05-21T12:53:42.567Z"
   },
   {
    "duration": 4,
    "start_time": "2022-05-21T12:53:42.608Z"
   },
   {
    "duration": 232,
    "start_time": "2022-05-21T12:53:42.613Z"
   },
   {
    "duration": 15,
    "start_time": "2022-05-21T12:53:42.847Z"
   },
   {
    "duration": 16,
    "start_time": "2022-05-21T12:53:42.867Z"
   },
   {
    "duration": 10,
    "start_time": "2022-05-21T12:53:42.885Z"
   },
   {
    "duration": 10,
    "start_time": "2022-05-21T12:53:42.896Z"
   },
   {
    "duration": 11,
    "start_time": "2022-05-21T12:53:42.908Z"
   },
   {
    "duration": 13,
    "start_time": "2022-05-21T12:53:42.920Z"
   },
   {
    "duration": 29,
    "start_time": "2022-05-21T12:53:42.935Z"
   },
   {
    "duration": 16,
    "start_time": "2022-05-21T12:53:42.965Z"
   },
   {
    "duration": 12,
    "start_time": "2022-05-21T12:53:42.983Z"
   },
   {
    "duration": 11,
    "start_time": "2022-05-21T12:53:42.996Z"
   },
   {
    "duration": 17,
    "start_time": "2022-05-21T12:53:43.008Z"
   },
   {
    "duration": 41,
    "start_time": "2022-05-21T12:53:43.026Z"
   },
   {
    "duration": 11,
    "start_time": "2022-05-21T12:53:43.069Z"
   },
   {
    "duration": 47,
    "start_time": "2022-05-21T12:53:43.081Z"
   },
   {
    "duration": 382,
    "start_time": "2022-05-21T12:53:43.130Z"
   },
   {
    "duration": 23,
    "start_time": "2022-05-21T12:53:43.514Z"
   },
   {
    "duration": 4,
    "start_time": "2022-05-21T12:53:43.542Z"
   },
   {
    "duration": 254,
    "start_time": "2022-05-21T12:53:43.547Z"
   },
   {
    "duration": 6,
    "start_time": "2022-05-21T12:53:43.803Z"
   },
   {
    "duration": 9,
    "start_time": "2022-05-21T12:53:43.811Z"
   },
   {
    "duration": 175,
    "start_time": "2022-05-21T12:53:43.821Z"
   },
   {
    "duration": 6,
    "start_time": "2022-05-21T12:53:43.997Z"
   },
   {
    "duration": 176,
    "start_time": "2022-05-21T12:53:44.005Z"
   },
   {
    "duration": 5,
    "start_time": "2022-05-21T12:53:44.183Z"
   },
   {
    "duration": 23,
    "start_time": "2022-05-21T12:53:44.189Z"
   },
   {
    "duration": 20,
    "start_time": "2022-05-21T12:53:44.214Z"
   },
   {
    "duration": 33,
    "start_time": "2022-05-21T12:53:44.235Z"
   },
   {
    "duration": 14,
    "start_time": "2022-05-21T12:53:44.273Z"
   },
   {
    "duration": 13,
    "start_time": "2022-05-21T12:53:44.288Z"
   },
   {
    "duration": 3,
    "start_time": "2022-05-21T12:53:44.303Z"
   },
   {
    "duration": 230,
    "start_time": "2022-05-21T12:53:44.307Z"
   },
   {
    "duration": 33,
    "start_time": "2022-05-21T12:53:44.539Z"
   },
   {
    "duration": 13,
    "start_time": "2022-05-21T12:53:44.573Z"
   },
   {
    "duration": 14,
    "start_time": "2022-05-21T12:53:44.588Z"
   },
   {
    "duration": 13,
    "start_time": "2022-05-21T12:53:44.604Z"
   },
   {
    "duration": 7,
    "start_time": "2022-05-21T12:53:44.618Z"
   },
   {
    "duration": 303,
    "start_time": "2022-05-21T12:53:44.627Z"
   },
   {
    "duration": 217,
    "start_time": "2022-05-21T12:53:44.932Z"
   },
   {
    "duration": 231,
    "start_time": "2022-05-21T12:53:45.151Z"
   },
   {
    "duration": 25,
    "start_time": "2022-05-21T12:53:45.384Z"
   },
   {
    "duration": 25,
    "start_time": "2022-05-21T12:53:45.411Z"
   },
   {
    "duration": 293,
    "start_time": "2022-05-21T12:53:45.438Z"
   },
   {
    "duration": 26,
    "start_time": "2022-05-21T12:53:45.733Z"
   },
   {
    "duration": 12,
    "start_time": "2022-05-21T12:53:45.763Z"
   },
   {
    "duration": 272,
    "start_time": "2022-05-21T12:53:45.777Z"
   },
   {
    "duration": 30,
    "start_time": "2022-05-21T12:53:46.052Z"
   },
   {
    "duration": 30,
    "start_time": "2022-05-21T12:53:46.084Z"
   },
   {
    "duration": 262,
    "start_time": "2022-05-21T12:53:46.116Z"
   },
   {
    "duration": 195,
    "start_time": "2022-05-21T12:53:46.380Z"
   },
   {
    "duration": 57,
    "start_time": "2022-05-21T12:53:46.577Z"
   },
   {
    "duration": 0,
    "start_time": "2022-05-21T12:53:46.636Z"
   },
   {
    "duration": 30,
    "start_time": "2022-05-21T12:53:52.139Z"
   },
   {
    "duration": 9,
    "start_time": "2022-05-21T12:57:59.824Z"
   },
   {
    "duration": 705,
    "start_time": "2022-05-21T12:58:25.002Z"
   },
   {
    "duration": 62,
    "start_time": "2022-05-21T12:58:31.142Z"
   },
   {
    "duration": 14,
    "start_time": "2022-05-21T13:02:22.490Z"
   },
   {
    "duration": 10,
    "start_time": "2022-05-21T13:05:10.238Z"
   },
   {
    "duration": 43,
    "start_time": "2022-05-21T13:05:12.200Z"
   },
   {
    "duration": 207,
    "start_time": "2022-05-21T13:05:39.812Z"
   },
   {
    "duration": 5,
    "start_time": "2022-05-21T13:06:18.038Z"
   },
   {
    "duration": 6,
    "start_time": "2022-05-21T13:08:25.021Z"
   },
   {
    "duration": 482,
    "start_time": "2022-05-21T13:08:29.795Z"
   },
   {
    "duration": 9,
    "start_time": "2022-05-21T13:09:17.376Z"
   },
   {
    "duration": 4,
    "start_time": "2022-05-21T13:09:19.186Z"
   },
   {
    "duration": 6,
    "start_time": "2022-05-21T13:09:24.504Z"
   },
   {
    "duration": 26,
    "start_time": "2022-05-21T13:10:25.821Z"
   },
   {
    "duration": 36,
    "start_time": "2022-05-21T13:11:46.699Z"
   },
   {
    "duration": 14,
    "start_time": "2022-05-21T13:12:13.187Z"
   },
   {
    "duration": 4,
    "start_time": "2022-05-21T13:12:14.772Z"
   },
   {
    "duration": 6,
    "start_time": "2022-05-21T13:12:16.385Z"
   },
   {
    "duration": 30,
    "start_time": "2022-05-21T13:18:51.558Z"
   },
   {
    "duration": 8,
    "start_time": "2022-05-21T13:19:17.858Z"
   },
   {
    "duration": 7,
    "start_time": "2022-05-21T13:19:39.504Z"
   },
   {
    "duration": 5,
    "start_time": "2022-05-21T13:22:26.508Z"
   },
   {
    "duration": 12,
    "start_time": "2022-05-21T13:23:12.186Z"
   },
   {
    "duration": 4,
    "start_time": "2022-05-21T13:23:13.778Z"
   },
   {
    "duration": 1131,
    "start_time": "2022-05-21T13:29:41.021Z"
   },
   {
    "duration": 43,
    "start_time": "2022-05-21T13:29:42.155Z"
   },
   {
    "duration": 27,
    "start_time": "2022-05-21T13:29:42.199Z"
   },
   {
    "duration": 28,
    "start_time": "2022-05-21T13:29:42.228Z"
   },
   {
    "duration": 2,
    "start_time": "2022-05-21T13:29:42.259Z"
   },
   {
    "duration": 9,
    "start_time": "2022-05-21T13:29:42.263Z"
   },
   {
    "duration": 28,
    "start_time": "2022-05-21T13:29:42.274Z"
   },
   {
    "duration": 10,
    "start_time": "2022-05-21T13:29:42.304Z"
   },
   {
    "duration": 38,
    "start_time": "2022-05-21T13:29:42.316Z"
   },
   {
    "duration": 12,
    "start_time": "2022-05-21T13:29:42.356Z"
   },
   {
    "duration": 9,
    "start_time": "2022-05-21T13:29:42.370Z"
   },
   {
    "duration": 409,
    "start_time": "2022-05-21T13:29:42.381Z"
   },
   {
    "duration": 5,
    "start_time": "2022-05-21T13:29:42.792Z"
   },
   {
    "duration": 18,
    "start_time": "2022-05-21T13:29:42.800Z"
   },
   {
    "duration": 389,
    "start_time": "2022-05-21T13:29:42.820Z"
   },
   {
    "duration": 179,
    "start_time": "2022-05-21T13:29:43.210Z"
   },
   {
    "duration": 199,
    "start_time": "2022-05-21T13:29:43.391Z"
   },
   {
    "duration": 207,
    "start_time": "2022-05-21T13:29:43.591Z"
   },
   {
    "duration": 223,
    "start_time": "2022-05-21T13:29:43.800Z"
   },
   {
    "duration": 215,
    "start_time": "2022-05-21T13:29:44.025Z"
   },
   {
    "duration": 180,
    "start_time": "2022-05-21T13:29:44.242Z"
   },
   {
    "duration": 39,
    "start_time": "2022-05-21T13:29:44.424Z"
   },
   {
    "duration": 4,
    "start_time": "2022-05-21T13:29:44.465Z"
   },
   {
    "duration": 209,
    "start_time": "2022-05-21T13:29:44.471Z"
   },
   {
    "duration": 11,
    "start_time": "2022-05-21T13:29:44.682Z"
   },
   {
    "duration": 11,
    "start_time": "2022-05-21T13:29:44.695Z"
   },
   {
    "duration": 10,
    "start_time": "2022-05-21T13:29:44.708Z"
   },
   {
    "duration": 40,
    "start_time": "2022-05-21T13:29:44.719Z"
   },
   {
    "duration": 10,
    "start_time": "2022-05-21T13:29:44.761Z"
   },
   {
    "duration": 11,
    "start_time": "2022-05-21T13:29:44.773Z"
   },
   {
    "duration": 11,
    "start_time": "2022-05-21T13:29:44.785Z"
   },
   {
    "duration": 13,
    "start_time": "2022-05-21T13:29:44.798Z"
   },
   {
    "duration": 41,
    "start_time": "2022-05-21T13:29:44.813Z"
   },
   {
    "duration": 13,
    "start_time": "2022-05-21T13:29:44.856Z"
   },
   {
    "duration": 11,
    "start_time": "2022-05-21T13:29:44.870Z"
   },
   {
    "duration": 30,
    "start_time": "2022-05-21T13:29:44.883Z"
   },
   {
    "duration": 14,
    "start_time": "2022-05-21T13:29:44.914Z"
   },
   {
    "duration": 65,
    "start_time": "2022-05-21T13:29:44.930Z"
   },
   {
    "duration": 452,
    "start_time": "2022-05-21T13:29:44.996Z"
   },
   {
    "duration": 35,
    "start_time": "2022-05-21T13:29:45.450Z"
   },
   {
    "duration": 15,
    "start_time": "2022-05-21T13:29:45.491Z"
   },
   {
    "duration": 347,
    "start_time": "2022-05-21T13:29:45.508Z"
   },
   {
    "duration": 6,
    "start_time": "2022-05-21T13:29:45.857Z"
   },
   {
    "duration": 16,
    "start_time": "2022-05-21T13:29:45.865Z"
   },
   {
    "duration": 169,
    "start_time": "2022-05-21T13:29:45.883Z"
   },
   {
    "duration": 7,
    "start_time": "2022-05-21T13:29:46.054Z"
   },
   {
    "duration": 184,
    "start_time": "2022-05-21T13:29:46.064Z"
   },
   {
    "duration": 6,
    "start_time": "2022-05-21T13:29:46.253Z"
   },
   {
    "duration": 17,
    "start_time": "2022-05-21T13:29:46.260Z"
   },
   {
    "duration": 16,
    "start_time": "2022-05-21T13:29:46.279Z"
   },
   {
    "duration": 16,
    "start_time": "2022-05-21T13:29:46.297Z"
   },
   {
    "duration": 45,
    "start_time": "2022-05-21T13:29:46.315Z"
   },
   {
    "duration": 14,
    "start_time": "2022-05-21T13:29:46.363Z"
   },
   {
    "duration": 10,
    "start_time": "2022-05-21T13:29:46.378Z"
   },
   {
    "duration": 234,
    "start_time": "2022-05-21T13:29:46.390Z"
   },
   {
    "duration": 27,
    "start_time": "2022-05-21T13:29:46.626Z"
   },
   {
    "duration": 18,
    "start_time": "2022-05-21T13:29:46.655Z"
   },
   {
    "duration": 14,
    "start_time": "2022-05-21T13:29:46.675Z"
   },
   {
    "duration": 14,
    "start_time": "2022-05-21T13:29:46.691Z"
   },
   {
    "duration": 8,
    "start_time": "2022-05-21T13:29:46.707Z"
   },
   {
    "duration": 214,
    "start_time": "2022-05-21T13:29:46.717Z"
   },
   {
    "duration": 207,
    "start_time": "2022-05-21T13:29:46.932Z"
   },
   {
    "duration": 210,
    "start_time": "2022-05-21T13:29:47.142Z"
   },
   {
    "duration": 23,
    "start_time": "2022-05-21T13:29:47.354Z"
   },
   {
    "duration": 16,
    "start_time": "2022-05-21T13:29:47.379Z"
   },
   {
    "duration": 261,
    "start_time": "2022-05-21T13:29:47.397Z"
   },
   {
    "duration": 26,
    "start_time": "2022-05-21T13:29:47.659Z"
   },
   {
    "duration": 12,
    "start_time": "2022-05-21T13:29:47.686Z"
   },
   {
    "duration": 256,
    "start_time": "2022-05-21T13:29:47.700Z"
   },
   {
    "duration": 20,
    "start_time": "2022-05-21T13:29:47.957Z"
   },
   {
    "duration": 10,
    "start_time": "2022-05-21T13:29:47.978Z"
   },
   {
    "duration": 265,
    "start_time": "2022-05-21T13:29:47.989Z"
   },
   {
    "duration": 267,
    "start_time": "2022-05-21T13:29:48.256Z"
   },
   {
    "duration": 11,
    "start_time": "2022-05-21T13:29:48.524Z"
   },
   {
    "duration": 19,
    "start_time": "2022-05-21T13:29:48.537Z"
   },
   {
    "duration": 5,
    "start_time": "2022-05-21T13:29:48.558Z"
   },
   {
    "duration": 10,
    "start_time": "2022-05-21T13:29:48.564Z"
   },
   {
    "duration": 14,
    "start_time": "2022-05-21T13:29:48.575Z"
   },
   {
    "duration": 5,
    "start_time": "2022-05-21T13:29:48.591Z"
   },
   {
    "duration": 8,
    "start_time": "2022-05-21T13:30:18.759Z"
   },
   {
    "duration": 8,
    "start_time": "2022-05-21T13:30:40.085Z"
   },
   {
    "duration": 1100,
    "start_time": "2022-05-21T13:31:17.353Z"
   },
   {
    "duration": 40,
    "start_time": "2022-05-21T13:31:18.455Z"
   },
   {
    "duration": 27,
    "start_time": "2022-05-21T13:31:18.497Z"
   },
   {
    "duration": 26,
    "start_time": "2022-05-21T13:31:18.526Z"
   },
   {
    "duration": 3,
    "start_time": "2022-05-21T13:31:18.554Z"
   },
   {
    "duration": 8,
    "start_time": "2022-05-21T13:31:18.558Z"
   },
   {
    "duration": 26,
    "start_time": "2022-05-21T13:31:18.567Z"
   },
   {
    "duration": 11,
    "start_time": "2022-05-21T13:31:18.595Z"
   },
   {
    "duration": 10,
    "start_time": "2022-05-21T13:31:18.608Z"
   },
   {
    "duration": 35,
    "start_time": "2022-05-21T13:31:18.620Z"
   },
   {
    "duration": 13,
    "start_time": "2022-05-21T13:31:18.656Z"
   },
   {
    "duration": 360,
    "start_time": "2022-05-21T13:31:18.671Z"
   },
   {
    "duration": 6,
    "start_time": "2022-05-21T13:31:19.033Z"
   },
   {
    "duration": 19,
    "start_time": "2022-05-21T13:31:19.052Z"
   },
   {
    "duration": 361,
    "start_time": "2022-05-21T13:31:19.072Z"
   },
   {
    "duration": 188,
    "start_time": "2022-05-21T13:31:19.435Z"
   },
   {
    "duration": 198,
    "start_time": "2022-05-21T13:31:19.625Z"
   },
   {
    "duration": 196,
    "start_time": "2022-05-21T13:31:19.824Z"
   },
   {
    "duration": 201,
    "start_time": "2022-05-21T13:31:20.021Z"
   },
   {
    "duration": 189,
    "start_time": "2022-05-21T13:31:20.224Z"
   },
   {
    "duration": 186,
    "start_time": "2022-05-21T13:31:20.415Z"
   },
   {
    "duration": 31,
    "start_time": "2022-05-21T13:31:20.603Z"
   },
   {
    "duration": 3,
    "start_time": "2022-05-21T13:31:20.653Z"
   },
   {
    "duration": 201,
    "start_time": "2022-05-21T13:31:20.657Z"
   },
   {
    "duration": 12,
    "start_time": "2022-05-21T13:31:20.860Z"
   },
   {
    "duration": 18,
    "start_time": "2022-05-21T13:31:20.873Z"
   },
   {
    "duration": 10,
    "start_time": "2022-05-21T13:31:20.893Z"
   },
   {
    "duration": 10,
    "start_time": "2022-05-21T13:31:20.907Z"
   },
   {
    "duration": 37,
    "start_time": "2022-05-21T13:31:20.919Z"
   },
   {
    "duration": 16,
    "start_time": "2022-05-21T13:31:20.958Z"
   },
   {
    "duration": 14,
    "start_time": "2022-05-21T13:31:20.976Z"
   },
   {
    "duration": 10,
    "start_time": "2022-05-21T13:31:20.992Z"
   },
   {
    "duration": 12,
    "start_time": "2022-05-21T13:31:21.004Z"
   },
   {
    "duration": 10,
    "start_time": "2022-05-21T13:31:21.019Z"
   },
   {
    "duration": 28,
    "start_time": "2022-05-21T13:31:21.031Z"
   },
   {
    "duration": 25,
    "start_time": "2022-05-21T13:31:21.061Z"
   },
   {
    "duration": 3,
    "start_time": "2022-05-21T13:31:21.087Z"
   },
   {
    "duration": 63,
    "start_time": "2022-05-21T13:31:21.091Z"
   },
   {
    "duration": 408,
    "start_time": "2022-05-21T13:31:21.156Z"
   },
   {
    "duration": 26,
    "start_time": "2022-05-21T13:31:21.566Z"
   },
   {
    "duration": 4,
    "start_time": "2022-05-21T13:31:21.594Z"
   },
   {
    "duration": 321,
    "start_time": "2022-05-21T13:31:21.600Z"
   },
   {
    "duration": 5,
    "start_time": "2022-05-21T13:31:21.923Z"
   },
   {
    "duration": 23,
    "start_time": "2022-05-21T13:31:21.930Z"
   },
   {
    "duration": 172,
    "start_time": "2022-05-21T13:31:21.956Z"
   },
   {
    "duration": 5,
    "start_time": "2022-05-21T13:31:22.130Z"
   },
   {
    "duration": 180,
    "start_time": "2022-05-21T13:31:22.137Z"
   },
   {
    "duration": 6,
    "start_time": "2022-05-21T13:31:22.319Z"
   },
   {
    "duration": 29,
    "start_time": "2022-05-21T13:31:22.326Z"
   },
   {
    "duration": 15,
    "start_time": "2022-05-21T13:31:22.356Z"
   },
   {
    "duration": 22,
    "start_time": "2022-05-21T13:31:22.373Z"
   },
   {
    "duration": 12,
    "start_time": "2022-05-21T13:31:22.397Z"
   },
   {
    "duration": 19,
    "start_time": "2022-05-21T13:31:22.411Z"
   },
   {
    "duration": 22,
    "start_time": "2022-05-21T13:31:22.432Z"
   },
   {
    "duration": 251,
    "start_time": "2022-05-21T13:31:22.455Z"
   },
   {
    "duration": 13,
    "start_time": "2022-05-21T13:31:22.708Z"
   },
   {
    "duration": 31,
    "start_time": "2022-05-21T13:31:22.722Z"
   },
   {
    "duration": 14,
    "start_time": "2022-05-21T13:31:22.754Z"
   },
   {
    "duration": 19,
    "start_time": "2022-05-21T13:31:22.769Z"
   },
   {
    "duration": 8,
    "start_time": "2022-05-21T13:31:22.789Z"
   },
   {
    "duration": 205,
    "start_time": "2022-05-21T13:31:22.799Z"
   },
   {
    "duration": 200,
    "start_time": "2022-05-21T13:31:23.006Z"
   },
   {
    "duration": 181,
    "start_time": "2022-05-21T13:31:23.208Z"
   },
   {
    "duration": 21,
    "start_time": "2022-05-21T13:31:23.391Z"
   },
   {
    "duration": 11,
    "start_time": "2022-05-21T13:31:23.413Z"
   },
   {
    "duration": 255,
    "start_time": "2022-05-21T13:31:23.426Z"
   },
   {
    "duration": 19,
    "start_time": "2022-05-21T13:31:23.682Z"
   },
   {
    "duration": 11,
    "start_time": "2022-05-21T13:31:23.702Z"
   },
   {
    "duration": 255,
    "start_time": "2022-05-21T13:31:23.715Z"
   },
   {
    "duration": 19,
    "start_time": "2022-05-21T13:31:23.972Z"
   },
   {
    "duration": 11,
    "start_time": "2022-05-21T13:31:23.992Z"
   },
   {
    "duration": 277,
    "start_time": "2022-05-21T13:31:24.005Z"
   },
   {
    "duration": 283,
    "start_time": "2022-05-21T13:31:24.284Z"
   },
   {
    "duration": 11,
    "start_time": "2022-05-21T13:31:24.569Z"
   },
   {
    "duration": 16,
    "start_time": "2022-05-21T13:31:24.582Z"
   },
   {
    "duration": 10,
    "start_time": "2022-05-21T13:31:24.599Z"
   },
   {
    "duration": 8,
    "start_time": "2022-05-21T13:31:24.611Z"
   },
   {
    "duration": 8,
    "start_time": "2022-05-21T13:31:24.621Z"
   },
   {
    "duration": 28,
    "start_time": "2022-05-21T13:31:24.631Z"
   },
   {
    "duration": 6,
    "start_time": "2022-05-21T13:31:24.661Z"
   },
   {
    "duration": 24,
    "start_time": "2022-05-21T13:31:46.681Z"
   },
   {
    "duration": 13,
    "start_time": "2022-05-21T13:32:15.160Z"
   },
   {
    "duration": 33,
    "start_time": "2022-05-21T13:32:16.301Z"
   },
   {
    "duration": 30,
    "start_time": "2022-05-21T13:32:22.004Z"
   },
   {
    "duration": 145,
    "start_time": "2022-05-21T13:32:29.800Z"
   },
   {
    "duration": 179,
    "start_time": "2022-05-21T13:33:16.305Z"
   },
   {
    "duration": 34,
    "start_time": "2022-05-21T13:33:19.460Z"
   },
   {
    "duration": 180,
    "start_time": "2022-05-21T13:34:39.674Z"
   },
   {
    "duration": 247,
    "start_time": "2022-05-21T13:34:51.051Z"
   },
   {
    "duration": 1067,
    "start_time": "2022-05-21T13:40:52.886Z"
   },
   {
    "duration": 41,
    "start_time": "2022-05-21T13:40:53.955Z"
   },
   {
    "duration": 26,
    "start_time": "2022-05-21T13:40:53.997Z"
   },
   {
    "duration": 14,
    "start_time": "2022-05-21T13:40:54.025Z"
   },
   {
    "duration": 11,
    "start_time": "2022-05-21T13:40:54.041Z"
   },
   {
    "duration": 9,
    "start_time": "2022-05-21T13:40:54.054Z"
   },
   {
    "duration": 24,
    "start_time": "2022-05-21T13:40:54.065Z"
   },
   {
    "duration": 9,
    "start_time": "2022-05-21T13:40:54.090Z"
   },
   {
    "duration": 12,
    "start_time": "2022-05-21T13:40:54.101Z"
   },
   {
    "duration": 13,
    "start_time": "2022-05-21T13:40:54.115Z"
   },
   {
    "duration": 26,
    "start_time": "2022-05-21T13:40:54.130Z"
   },
   {
    "duration": 341,
    "start_time": "2022-05-21T13:40:54.157Z"
   },
   {
    "duration": 5,
    "start_time": "2022-05-21T13:40:54.500Z"
   },
   {
    "duration": 20,
    "start_time": "2022-05-21T13:40:54.509Z"
   },
   {
    "duration": 362,
    "start_time": "2022-05-21T13:40:54.531Z"
   },
   {
    "duration": 172,
    "start_time": "2022-05-21T13:40:54.894Z"
   },
   {
    "duration": 230,
    "start_time": "2022-05-21T13:40:55.068Z"
   },
   {
    "duration": 215,
    "start_time": "2022-05-21T13:40:55.300Z"
   },
   {
    "duration": 188,
    "start_time": "2022-05-21T13:40:55.517Z"
   },
   {
    "duration": 176,
    "start_time": "2022-05-21T13:40:55.707Z"
   },
   {
    "duration": 180,
    "start_time": "2022-05-21T13:40:55.885Z"
   },
   {
    "duration": 29,
    "start_time": "2022-05-21T13:40:56.067Z"
   },
   {
    "duration": 3,
    "start_time": "2022-05-21T13:40:56.097Z"
   },
   {
    "duration": 213,
    "start_time": "2022-05-21T13:40:56.102Z"
   },
   {
    "duration": 11,
    "start_time": "2022-05-21T13:40:56.317Z"
   },
   {
    "duration": 16,
    "start_time": "2022-05-21T13:40:56.329Z"
   },
   {
    "duration": 10,
    "start_time": "2022-05-21T13:40:56.351Z"
   },
   {
    "duration": 9,
    "start_time": "2022-05-21T13:40:56.363Z"
   },
   {
    "duration": 10,
    "start_time": "2022-05-21T13:40:56.373Z"
   },
   {
    "duration": 9,
    "start_time": "2022-05-21T13:40:56.384Z"
   },
   {
    "duration": 15,
    "start_time": "2022-05-21T13:40:56.395Z"
   },
   {
    "duration": 11,
    "start_time": "2022-05-21T13:40:56.411Z"
   },
   {
    "duration": 45,
    "start_time": "2022-05-21T13:40:56.423Z"
   },
   {
    "duration": 11,
    "start_time": "2022-05-21T13:40:56.469Z"
   },
   {
    "duration": 10,
    "start_time": "2022-05-21T13:40:56.481Z"
   },
   {
    "duration": 26,
    "start_time": "2022-05-21T13:40:56.493Z"
   },
   {
    "duration": 4,
    "start_time": "2022-05-21T13:40:56.521Z"
   },
   {
    "duration": 57,
    "start_time": "2022-05-21T13:40:56.526Z"
   },
   {
    "duration": 367,
    "start_time": "2022-05-21T13:40:56.585Z"
   },
   {
    "duration": 25,
    "start_time": "2022-05-21T13:40:56.954Z"
   },
   {
    "duration": 5,
    "start_time": "2022-05-21T13:40:56.984Z"
   },
   {
    "duration": 335,
    "start_time": "2022-05-21T13:40:56.991Z"
   },
   {
    "duration": 6,
    "start_time": "2022-05-21T13:40:57.328Z"
   },
   {
    "duration": 18,
    "start_time": "2022-05-21T13:40:57.335Z"
   },
   {
    "duration": 159,
    "start_time": "2022-05-21T13:40:57.354Z"
   },
   {
    "duration": 5,
    "start_time": "2022-05-21T13:40:57.515Z"
   },
   {
    "duration": 156,
    "start_time": "2022-05-21T13:40:57.522Z"
   },
   {
    "duration": 5,
    "start_time": "2022-05-21T13:40:57.679Z"
   },
   {
    "duration": 15,
    "start_time": "2022-05-21T13:40:57.686Z"
   },
   {
    "duration": 15,
    "start_time": "2022-05-21T13:40:57.702Z"
   },
   {
    "duration": 37,
    "start_time": "2022-05-21T13:40:57.719Z"
   },
   {
    "duration": 12,
    "start_time": "2022-05-21T13:40:57.758Z"
   },
   {
    "duration": 13,
    "start_time": "2022-05-21T13:40:57.772Z"
   },
   {
    "duration": 5,
    "start_time": "2022-05-21T13:40:57.787Z"
   },
   {
    "duration": 221,
    "start_time": "2022-05-21T13:40:57.793Z"
   },
   {
    "duration": 18,
    "start_time": "2022-05-21T13:40:58.015Z"
   },
   {
    "duration": 26,
    "start_time": "2022-05-21T13:40:58.035Z"
   },
   {
    "duration": 11,
    "start_time": "2022-05-21T13:40:58.063Z"
   },
   {
    "duration": 12,
    "start_time": "2022-05-21T13:40:58.076Z"
   },
   {
    "duration": 6,
    "start_time": "2022-05-21T13:40:58.090Z"
   },
   {
    "duration": 210,
    "start_time": "2022-05-21T13:40:58.098Z"
   },
   {
    "duration": 180,
    "start_time": "2022-05-21T13:40:58.310Z"
   },
   {
    "duration": 183,
    "start_time": "2022-05-21T13:40:58.492Z"
   },
   {
    "duration": 19,
    "start_time": "2022-05-21T13:40:58.676Z"
   },
   {
    "duration": 11,
    "start_time": "2022-05-21T13:40:58.697Z"
   },
   {
    "duration": 250,
    "start_time": "2022-05-21T13:40:58.709Z"
   },
   {
    "duration": 18,
    "start_time": "2022-05-21T13:40:58.961Z"
   },
   {
    "duration": 10,
    "start_time": "2022-05-21T13:40:58.981Z"
   },
   {
    "duration": 263,
    "start_time": "2022-05-21T13:40:58.993Z"
   },
   {
    "duration": 20,
    "start_time": "2022-05-21T13:40:59.258Z"
   },
   {
    "duration": 10,
    "start_time": "2022-05-21T13:40:59.279Z"
   },
   {
    "duration": 263,
    "start_time": "2022-05-21T13:40:59.291Z"
   },
   {
    "duration": 273,
    "start_time": "2022-05-21T13:40:59.555Z"
   },
   {
    "duration": 10,
    "start_time": "2022-05-21T13:40:59.830Z"
   },
   {
    "duration": 20,
    "start_time": "2022-05-21T13:40:59.842Z"
   },
   {
    "duration": 7,
    "start_time": "2022-05-21T13:40:59.864Z"
   },
   {
    "duration": 6,
    "start_time": "2022-05-21T13:40:59.873Z"
   },
   {
    "duration": 137,
    "start_time": "2022-05-21T13:40:59.881Z"
   },
   {
    "duration": 0,
    "start_time": "2022-05-21T13:41:00.020Z"
   },
   {
    "duration": 1132,
    "start_time": "2022-05-21T13:42:28.753Z"
   },
   {
    "duration": 89,
    "start_time": "2022-05-21T13:42:29.887Z"
   },
   {
    "duration": 28,
    "start_time": "2022-05-21T13:42:29.977Z"
   },
   {
    "duration": 16,
    "start_time": "2022-05-21T13:42:30.007Z"
   },
   {
    "duration": 9,
    "start_time": "2022-05-21T13:42:30.025Z"
   },
   {
    "duration": 17,
    "start_time": "2022-05-21T13:42:30.035Z"
   },
   {
    "duration": 33,
    "start_time": "2022-05-21T13:42:30.053Z"
   },
   {
    "duration": 9,
    "start_time": "2022-05-21T13:42:30.088Z"
   },
   {
    "duration": 14,
    "start_time": "2022-05-21T13:42:30.098Z"
   },
   {
    "duration": 9,
    "start_time": "2022-05-21T13:42:30.114Z"
   },
   {
    "duration": 29,
    "start_time": "2022-05-21T13:42:30.125Z"
   },
   {
    "duration": 372,
    "start_time": "2022-05-21T13:42:30.156Z"
   },
   {
    "duration": 6,
    "start_time": "2022-05-21T13:42:30.529Z"
   },
   {
    "duration": 38,
    "start_time": "2022-05-21T13:42:30.540Z"
   },
   {
    "duration": 384,
    "start_time": "2022-05-21T13:42:30.580Z"
   },
   {
    "duration": 189,
    "start_time": "2022-05-21T13:42:30.966Z"
   },
   {
    "duration": 198,
    "start_time": "2022-05-21T13:42:31.157Z"
   },
   {
    "duration": 195,
    "start_time": "2022-05-21T13:42:31.357Z"
   },
   {
    "duration": 192,
    "start_time": "2022-05-21T13:42:31.553Z"
   },
   {
    "duration": 211,
    "start_time": "2022-05-21T13:42:31.752Z"
   },
   {
    "duration": 210,
    "start_time": "2022-05-21T13:42:31.965Z"
   },
   {
    "duration": 32,
    "start_time": "2022-05-21T13:42:32.177Z"
   },
   {
    "duration": 14,
    "start_time": "2022-05-21T13:42:32.210Z"
   },
   {
    "duration": 215,
    "start_time": "2022-05-21T13:42:32.226Z"
   },
   {
    "duration": 16,
    "start_time": "2022-05-21T13:42:32.442Z"
   },
   {
    "duration": 16,
    "start_time": "2022-05-21T13:42:32.459Z"
   },
   {
    "duration": 11,
    "start_time": "2022-05-21T13:42:32.477Z"
   },
   {
    "duration": 13,
    "start_time": "2022-05-21T13:42:32.490Z"
   },
   {
    "duration": 26,
    "start_time": "2022-05-21T13:42:32.506Z"
   },
   {
    "duration": 33,
    "start_time": "2022-05-21T13:42:32.535Z"
   },
   {
    "duration": 20,
    "start_time": "2022-05-21T13:42:32.570Z"
   },
   {
    "duration": 18,
    "start_time": "2022-05-21T13:42:32.592Z"
   },
   {
    "duration": 14,
    "start_time": "2022-05-21T13:42:32.612Z"
   },
   {
    "duration": 19,
    "start_time": "2022-05-21T13:42:32.627Z"
   },
   {
    "duration": 18,
    "start_time": "2022-05-21T13:42:32.653Z"
   },
   {
    "duration": 30,
    "start_time": "2022-05-21T13:42:32.673Z"
   },
   {
    "duration": 3,
    "start_time": "2022-05-21T13:42:32.705Z"
   },
   {
    "duration": 55,
    "start_time": "2022-05-21T13:42:32.710Z"
   },
   {
    "duration": 394,
    "start_time": "2022-05-21T13:42:32.766Z"
   },
   {
    "duration": 25,
    "start_time": "2022-05-21T13:42:33.162Z"
   },
   {
    "duration": 8,
    "start_time": "2022-05-21T13:42:33.192Z"
   },
   {
    "duration": 332,
    "start_time": "2022-05-21T13:42:33.201Z"
   },
   {
    "duration": 6,
    "start_time": "2022-05-21T13:42:33.534Z"
   },
   {
    "duration": 10,
    "start_time": "2022-05-21T13:42:33.542Z"
   },
   {
    "duration": 162,
    "start_time": "2022-05-21T13:42:33.554Z"
   },
   {
    "duration": 5,
    "start_time": "2022-05-21T13:42:33.718Z"
   },
   {
    "duration": 168,
    "start_time": "2022-05-21T13:42:33.725Z"
   },
   {
    "duration": 6,
    "start_time": "2022-05-21T13:42:33.895Z"
   },
   {
    "duration": 31,
    "start_time": "2022-05-21T13:42:33.902Z"
   },
   {
    "duration": 22,
    "start_time": "2022-05-21T13:42:33.934Z"
   },
   {
    "duration": 20,
    "start_time": "2022-05-21T13:42:33.958Z"
   },
   {
    "duration": 13,
    "start_time": "2022-05-21T13:42:33.980Z"
   },
   {
    "duration": 26,
    "start_time": "2022-05-21T13:42:33.995Z"
   },
   {
    "duration": 8,
    "start_time": "2022-05-21T13:42:34.023Z"
   },
   {
    "duration": 240,
    "start_time": "2022-05-21T13:42:34.033Z"
   },
   {
    "duration": 11,
    "start_time": "2022-05-21T13:42:34.275Z"
   },
   {
    "duration": 15,
    "start_time": "2022-05-21T13:42:34.288Z"
   },
   {
    "duration": 13,
    "start_time": "2022-05-21T13:42:34.305Z"
   },
   {
    "duration": 33,
    "start_time": "2022-05-21T13:42:34.320Z"
   },
   {
    "duration": 5,
    "start_time": "2022-05-21T13:42:34.354Z"
   },
   {
    "duration": 191,
    "start_time": "2022-05-21T13:42:34.361Z"
   },
   {
    "duration": 193,
    "start_time": "2022-05-21T13:42:34.554Z"
   },
   {
    "duration": 186,
    "start_time": "2022-05-21T13:42:34.751Z"
   },
   {
    "duration": 25,
    "start_time": "2022-05-21T13:42:34.938Z"
   },
   {
    "duration": 12,
    "start_time": "2022-05-21T13:42:34.964Z"
   },
   {
    "duration": 266,
    "start_time": "2022-05-21T13:42:34.977Z"
   },
   {
    "duration": 31,
    "start_time": "2022-05-21T13:42:35.245Z"
   },
   {
    "duration": 22,
    "start_time": "2022-05-21T13:42:35.279Z"
   },
   {
    "duration": 304,
    "start_time": "2022-05-21T13:42:35.303Z"
   },
   {
    "duration": 28,
    "start_time": "2022-05-21T13:42:35.609Z"
   },
   {
    "duration": 25,
    "start_time": "2022-05-21T13:42:35.639Z"
   },
   {
    "duration": 244,
    "start_time": "2022-05-21T13:42:35.665Z"
   },
   {
    "duration": 293,
    "start_time": "2022-05-21T13:42:35.911Z"
   },
   {
    "duration": 12,
    "start_time": "2022-05-21T13:42:36.205Z"
   },
   {
    "duration": 17,
    "start_time": "2022-05-21T13:42:36.219Z"
   },
   {
    "duration": 19,
    "start_time": "2022-05-21T13:42:36.238Z"
   },
   {
    "duration": 10,
    "start_time": "2022-05-21T13:42:36.258Z"
   },
   {
    "duration": 24,
    "start_time": "2022-05-21T13:42:36.269Z"
   },
   {
    "duration": 5,
    "start_time": "2022-05-21T13:42:36.294Z"
   },
   {
    "duration": 108,
    "start_time": "2022-05-21T14:10:50.158Z"
   },
   {
    "duration": 9,
    "start_time": "2022-05-21T14:11:15.557Z"
   },
   {
    "duration": 9,
    "start_time": "2022-05-21T14:11:23.050Z"
   },
   {
    "duration": 9,
    "start_time": "2022-05-21T14:11:40.938Z"
   },
   {
    "duration": 8,
    "start_time": "2022-05-21T14:11:48.512Z"
   },
   {
    "duration": 11,
    "start_time": "2022-05-21T14:12:33.066Z"
   },
   {
    "duration": 12,
    "start_time": "2022-05-21T14:12:36.147Z"
   },
   {
    "duration": 9,
    "start_time": "2022-05-21T14:28:59.084Z"
   },
   {
    "duration": 8,
    "start_time": "2022-05-21T14:29:38.585Z"
   },
   {
    "duration": 8,
    "start_time": "2022-05-21T14:29:43.537Z"
   },
   {
    "duration": 1351,
    "start_time": "2022-05-22T12:56:12.749Z"
   },
   {
    "duration": 195,
    "start_time": "2022-05-22T12:56:14.104Z"
   },
   {
    "duration": 39,
    "start_time": "2022-05-22T12:56:14.301Z"
   },
   {
    "duration": 22,
    "start_time": "2022-05-22T12:56:14.343Z"
   },
   {
    "duration": 4,
    "start_time": "2022-05-22T12:56:14.367Z"
   },
   {
    "duration": 12,
    "start_time": "2022-05-22T12:56:14.383Z"
   },
   {
    "duration": 26,
    "start_time": "2022-05-22T12:56:14.397Z"
   },
   {
    "duration": 11,
    "start_time": "2022-05-22T12:56:14.425Z"
   },
   {
    "duration": 12,
    "start_time": "2022-05-22T12:56:14.438Z"
   },
   {
    "duration": 40,
    "start_time": "2022-05-22T12:56:14.454Z"
   },
   {
    "duration": 5,
    "start_time": "2022-05-22T12:56:14.496Z"
   },
   {
    "duration": 372,
    "start_time": "2022-05-22T12:56:14.502Z"
   },
   {
    "duration": 20,
    "start_time": "2022-05-22T12:56:14.875Z"
   },
   {
    "duration": 19,
    "start_time": "2022-05-22T12:56:14.904Z"
   },
   {
    "duration": 406,
    "start_time": "2022-05-22T12:56:14.925Z"
   },
   {
    "duration": 225,
    "start_time": "2022-05-22T12:56:15.332Z"
   },
   {
    "duration": 217,
    "start_time": "2022-05-22T12:56:15.558Z"
   },
   {
    "duration": 218,
    "start_time": "2022-05-22T12:56:15.777Z"
   },
   {
    "duration": 208,
    "start_time": "2022-05-22T12:56:15.997Z"
   },
   {
    "duration": 202,
    "start_time": "2022-05-22T12:56:16.207Z"
   },
   {
    "duration": 203,
    "start_time": "2022-05-22T12:56:16.411Z"
   },
   {
    "duration": 31,
    "start_time": "2022-05-22T12:56:16.617Z"
   },
   {
    "duration": 8,
    "start_time": "2022-05-22T12:56:16.649Z"
   },
   {
    "duration": 274,
    "start_time": "2022-05-22T12:56:16.658Z"
   },
   {
    "duration": 15,
    "start_time": "2022-05-22T12:56:16.934Z"
   },
   {
    "duration": 16,
    "start_time": "2022-05-22T12:56:16.950Z"
   },
   {
    "duration": 19,
    "start_time": "2022-05-22T12:56:16.989Z"
   },
   {
    "duration": 16,
    "start_time": "2022-05-22T12:56:17.015Z"
   },
   {
    "duration": 16,
    "start_time": "2022-05-22T12:56:17.033Z"
   },
   {
    "duration": 40,
    "start_time": "2022-05-22T12:56:17.051Z"
   },
   {
    "duration": 18,
    "start_time": "2022-05-22T12:56:17.093Z"
   },
   {
    "duration": 16,
    "start_time": "2022-05-22T12:56:17.114Z"
   },
   {
    "duration": 16,
    "start_time": "2022-05-22T12:56:17.133Z"
   },
   {
    "duration": 39,
    "start_time": "2022-05-22T12:56:17.152Z"
   },
   {
    "duration": 13,
    "start_time": "2022-05-22T12:56:17.201Z"
   },
   {
    "duration": 31,
    "start_time": "2022-05-22T12:56:17.216Z"
   },
   {
    "duration": 5,
    "start_time": "2022-05-22T12:56:17.249Z"
   },
   {
    "duration": 57,
    "start_time": "2022-05-22T12:56:17.255Z"
   },
   {
    "duration": 407,
    "start_time": "2022-05-22T12:56:17.315Z"
   },
   {
    "duration": 29,
    "start_time": "2022-05-22T12:56:17.724Z"
   },
   {
    "duration": 5,
    "start_time": "2022-05-22T12:56:17.755Z"
   },
   {
    "duration": 445,
    "start_time": "2022-05-22T12:56:17.761Z"
   },
   {
    "duration": 9,
    "start_time": "2022-05-22T12:56:18.210Z"
   },
   {
    "duration": 8,
    "start_time": "2022-05-22T12:56:18.221Z"
   },
   {
    "duration": 209,
    "start_time": "2022-05-22T12:56:18.231Z"
   },
   {
    "duration": 6,
    "start_time": "2022-05-22T12:56:18.442Z"
   },
   {
    "duration": 176,
    "start_time": "2022-05-22T12:56:18.450Z"
   },
   {
    "duration": 6,
    "start_time": "2022-05-22T12:56:18.627Z"
   },
   {
    "duration": 23,
    "start_time": "2022-05-22T12:56:18.634Z"
   },
   {
    "duration": 48,
    "start_time": "2022-05-22T12:56:18.659Z"
   },
   {
    "duration": 22,
    "start_time": "2022-05-22T12:56:18.709Z"
   },
   {
    "duration": 14,
    "start_time": "2022-05-22T12:56:18.733Z"
   },
   {
    "duration": 37,
    "start_time": "2022-05-22T12:56:18.748Z"
   },
   {
    "duration": 11,
    "start_time": "2022-05-22T12:56:18.790Z"
   },
   {
    "duration": 228,
    "start_time": "2022-05-22T12:56:18.803Z"
   },
   {
    "duration": 20,
    "start_time": "2022-05-22T12:56:19.034Z"
   },
   {
    "duration": 41,
    "start_time": "2022-05-22T12:56:19.056Z"
   },
   {
    "duration": 18,
    "start_time": "2022-05-22T12:56:19.099Z"
   },
   {
    "duration": 13,
    "start_time": "2022-05-22T12:56:19.119Z"
   },
   {
    "duration": 11,
    "start_time": "2022-05-22T12:56:19.134Z"
   },
   {
    "duration": 217,
    "start_time": "2022-05-22T12:56:19.146Z"
   },
   {
    "duration": 205,
    "start_time": "2022-05-22T12:56:19.365Z"
   },
   {
    "duration": 268,
    "start_time": "2022-05-22T12:56:19.572Z"
   },
   {
    "duration": 23,
    "start_time": "2022-05-22T12:56:19.843Z"
   },
   {
    "duration": 25,
    "start_time": "2022-05-22T12:56:19.868Z"
   },
   {
    "duration": 14,
    "start_time": "2022-05-22T12:56:19.903Z"
   },
   {
    "duration": 12,
    "start_time": "2022-05-22T12:56:19.919Z"
   },
   {
    "duration": 14,
    "start_time": "2022-05-22T12:56:19.933Z"
   },
   {
    "duration": 302,
    "start_time": "2022-05-22T12:56:19.950Z"
   },
   {
    "duration": 44,
    "start_time": "2022-05-22T12:56:20.255Z"
   },
   {
    "duration": 17,
    "start_time": "2022-05-22T12:56:20.301Z"
   },
   {
    "duration": 268,
    "start_time": "2022-05-22T12:56:20.320Z"
   },
   {
    "duration": 23,
    "start_time": "2022-05-22T12:56:20.596Z"
   },
   {
    "duration": 9,
    "start_time": "2022-05-22T12:56:20.621Z"
   },
   {
    "duration": 13,
    "start_time": "2022-05-22T12:56:20.632Z"
   },
   {
    "duration": 11,
    "start_time": "2022-05-22T12:56:20.647Z"
   },
   {
    "duration": 42,
    "start_time": "2022-05-22T12:56:20.659Z"
   },
   {
    "duration": 285,
    "start_time": "2022-05-22T12:56:20.707Z"
   },
   {
    "duration": 306,
    "start_time": "2022-05-22T12:56:20.995Z"
   },
   {
    "duration": 14,
    "start_time": "2022-05-22T12:56:21.303Z"
   },
   {
    "duration": 23,
    "start_time": "2022-05-22T12:56:21.319Z"
   },
   {
    "duration": 7,
    "start_time": "2022-05-22T12:56:21.350Z"
   },
   {
    "duration": 27,
    "start_time": "2022-05-22T12:56:21.359Z"
   },
   {
    "duration": 35,
    "start_time": "2022-05-22T12:56:21.388Z"
   },
   {
    "duration": 8,
    "start_time": "2022-05-22T12:56:21.425Z"
   },
   {
    "duration": 59,
    "start_time": "2022-05-22T15:02:17.791Z"
   },
   {
    "duration": 1677,
    "start_time": "2022-05-22T16:01:34.522Z"
   },
   {
    "duration": 77,
    "start_time": "2022-05-22T16:01:36.202Z"
   },
   {
    "duration": 29,
    "start_time": "2022-05-22T16:01:36.280Z"
   },
   {
    "duration": 19,
    "start_time": "2022-05-22T16:01:36.311Z"
   },
   {
    "duration": 13,
    "start_time": "2022-05-22T16:01:36.333Z"
   },
   {
    "duration": 9,
    "start_time": "2022-05-22T16:01:36.347Z"
   },
   {
    "duration": 23,
    "start_time": "2022-05-22T16:01:36.357Z"
   },
   {
    "duration": 12,
    "start_time": "2022-05-22T16:01:36.382Z"
   },
   {
    "duration": 10,
    "start_time": "2022-05-22T16:01:36.396Z"
   },
   {
    "duration": 25,
    "start_time": "2022-05-22T16:01:36.407Z"
   },
   {
    "duration": 19,
    "start_time": "2022-05-22T16:01:36.434Z"
   },
   {
    "duration": 355,
    "start_time": "2022-05-22T16:01:36.454Z"
   },
   {
    "duration": 5,
    "start_time": "2022-05-22T16:01:36.811Z"
   },
   {
    "duration": 42,
    "start_time": "2022-05-22T16:01:36.824Z"
   },
   {
    "duration": 364,
    "start_time": "2022-05-22T16:01:36.868Z"
   },
   {
    "duration": 215,
    "start_time": "2022-05-22T16:01:37.234Z"
   },
   {
    "duration": 220,
    "start_time": "2022-05-22T16:01:37.451Z"
   },
   {
    "duration": 209,
    "start_time": "2022-05-22T16:01:37.673Z"
   },
   {
    "duration": 243,
    "start_time": "2022-05-22T16:01:37.884Z"
   },
   {
    "duration": 222,
    "start_time": "2022-05-22T16:01:38.129Z"
   },
   {
    "duration": 199,
    "start_time": "2022-05-22T16:01:38.353Z"
   },
   {
    "duration": 31,
    "start_time": "2022-05-22T16:01:38.554Z"
   },
   {
    "duration": 6,
    "start_time": "2022-05-22T16:01:38.587Z"
   },
   {
    "duration": 247,
    "start_time": "2022-05-22T16:01:38.595Z"
   },
   {
    "duration": 12,
    "start_time": "2022-05-22T16:01:38.844Z"
   },
   {
    "duration": 22,
    "start_time": "2022-05-22T16:01:38.858Z"
   },
   {
    "duration": 9,
    "start_time": "2022-05-22T16:01:38.882Z"
   },
   {
    "duration": 15,
    "start_time": "2022-05-22T16:01:38.893Z"
   },
   {
    "duration": 30,
    "start_time": "2022-05-22T16:01:38.910Z"
   },
   {
    "duration": 21,
    "start_time": "2022-05-22T16:01:38.943Z"
   },
   {
    "duration": 20,
    "start_time": "2022-05-22T16:01:38.966Z"
   },
   {
    "duration": 20,
    "start_time": "2022-05-22T16:01:38.988Z"
   },
   {
    "duration": 45,
    "start_time": "2022-05-22T16:01:39.010Z"
   },
   {
    "duration": 30,
    "start_time": "2022-05-22T16:01:39.057Z"
   },
   {
    "duration": 25,
    "start_time": "2022-05-22T16:01:39.088Z"
   },
   {
    "duration": 39,
    "start_time": "2022-05-22T16:01:39.114Z"
   },
   {
    "duration": 4,
    "start_time": "2022-05-22T16:01:39.154Z"
   },
   {
    "duration": 53,
    "start_time": "2022-05-22T16:01:39.160Z"
   },
   {
    "duration": 453,
    "start_time": "2022-05-22T16:01:39.215Z"
   },
   {
    "duration": 24,
    "start_time": "2022-05-22T16:01:39.669Z"
   },
   {
    "duration": 4,
    "start_time": "2022-05-22T16:01:39.698Z"
   },
   {
    "duration": 360,
    "start_time": "2022-05-22T16:01:39.704Z"
   },
   {
    "duration": 6,
    "start_time": "2022-05-22T16:01:40.066Z"
   },
   {
    "duration": 9,
    "start_time": "2022-05-22T16:01:40.073Z"
   },
   {
    "duration": 169,
    "start_time": "2022-05-22T16:01:40.084Z"
   },
   {
    "duration": 6,
    "start_time": "2022-05-22T16:01:40.255Z"
   },
   {
    "duration": 160,
    "start_time": "2022-05-22T16:01:40.262Z"
   },
   {
    "duration": 7,
    "start_time": "2022-05-22T16:01:40.424Z"
   },
   {
    "duration": 29,
    "start_time": "2022-05-22T16:01:40.432Z"
   },
   {
    "duration": 13,
    "start_time": "2022-05-22T16:01:40.463Z"
   },
   {
    "duration": 16,
    "start_time": "2022-05-22T16:01:40.478Z"
   },
   {
    "duration": 30,
    "start_time": "2022-05-22T16:01:40.495Z"
   },
   {
    "duration": 24,
    "start_time": "2022-05-22T16:01:40.527Z"
   },
   {
    "duration": 7,
    "start_time": "2022-05-22T16:01:40.552Z"
   },
   {
    "duration": 226,
    "start_time": "2022-05-22T16:01:40.561Z"
   },
   {
    "duration": 15,
    "start_time": "2022-05-22T16:01:40.789Z"
   },
   {
    "duration": 28,
    "start_time": "2022-05-22T16:01:40.805Z"
   },
   {
    "duration": 17,
    "start_time": "2022-05-22T16:01:40.836Z"
   },
   {
    "duration": 11,
    "start_time": "2022-05-22T16:01:40.855Z"
   },
   {
    "duration": 7,
    "start_time": "2022-05-22T16:01:40.867Z"
   },
   {
    "duration": 209,
    "start_time": "2022-05-22T16:01:40.875Z"
   },
   {
    "duration": 201,
    "start_time": "2022-05-22T16:01:41.086Z"
   },
   {
    "duration": 195,
    "start_time": "2022-05-22T16:01:41.288Z"
   },
   {
    "duration": 19,
    "start_time": "2022-05-22T16:01:41.485Z"
   },
   {
    "duration": 23,
    "start_time": "2022-05-22T16:01:41.506Z"
   },
   {
    "duration": 21,
    "start_time": "2022-05-22T16:01:41.531Z"
   },
   {
    "duration": 11,
    "start_time": "2022-05-22T16:01:41.553Z"
   },
   {
    "duration": 15,
    "start_time": "2022-05-22T16:01:41.566Z"
   },
   {
    "duration": 252,
    "start_time": "2022-05-22T16:01:41.582Z"
   },
   {
    "duration": 20,
    "start_time": "2022-05-22T16:01:41.838Z"
   },
   {
    "duration": 10,
    "start_time": "2022-05-22T16:01:41.860Z"
   },
   {
    "duration": 283,
    "start_time": "2022-05-22T16:01:41.871Z"
   },
   {
    "duration": 19,
    "start_time": "2022-05-22T16:01:42.155Z"
   },
   {
    "duration": 10,
    "start_time": "2022-05-22T16:01:42.175Z"
   },
   {
    "duration": 9,
    "start_time": "2022-05-22T16:01:42.187Z"
   },
   {
    "duration": 32,
    "start_time": "2022-05-22T16:01:42.198Z"
   },
   {
    "duration": 20,
    "start_time": "2022-05-22T16:01:42.233Z"
   },
   {
    "duration": 248,
    "start_time": "2022-05-22T16:01:42.255Z"
   },
   {
    "duration": 360,
    "start_time": "2022-05-22T16:01:42.505Z"
   },
   {
    "duration": 14,
    "start_time": "2022-05-22T16:01:42.867Z"
   },
   {
    "duration": 30,
    "start_time": "2022-05-22T16:01:42.884Z"
   },
   {
    "duration": 8,
    "start_time": "2022-05-22T16:01:42.916Z"
   },
   {
    "duration": 24,
    "start_time": "2022-05-22T16:01:42.927Z"
   },
   {
    "duration": 24,
    "start_time": "2022-05-22T16:01:42.952Z"
   },
   {
    "duration": 6,
    "start_time": "2022-05-22T16:01:42.978Z"
   },
   {
    "duration": 1515,
    "start_time": "2022-05-22T18:05:22.459Z"
   },
   {
    "duration": 302,
    "start_time": "2022-05-22T18:05:23.976Z"
   },
   {
    "duration": 41,
    "start_time": "2022-05-22T18:05:24.280Z"
   },
   {
    "duration": 32,
    "start_time": "2022-05-22T18:05:24.322Z"
   },
   {
    "duration": 6,
    "start_time": "2022-05-22T18:05:24.358Z"
   },
   {
    "duration": 9,
    "start_time": "2022-05-22T18:05:24.366Z"
   },
   {
    "duration": 46,
    "start_time": "2022-05-22T18:05:24.377Z"
   },
   {
    "duration": 39,
    "start_time": "2022-05-22T18:05:24.426Z"
   },
   {
    "duration": 9,
    "start_time": "2022-05-22T18:05:24.467Z"
   },
   {
    "duration": 9,
    "start_time": "2022-05-22T18:05:24.477Z"
   },
   {
    "duration": 5,
    "start_time": "2022-05-22T18:05:24.487Z"
   },
   {
    "duration": 516,
    "start_time": "2022-05-22T18:05:24.494Z"
   },
   {
    "duration": 8,
    "start_time": "2022-05-22T18:05:25.011Z"
   },
   {
    "duration": 50,
    "start_time": "2022-05-22T18:05:25.022Z"
   },
   {
    "duration": 437,
    "start_time": "2022-05-22T18:05:25.074Z"
   },
   {
    "duration": 245,
    "start_time": "2022-05-22T18:05:25.513Z"
   },
   {
    "duration": 254,
    "start_time": "2022-05-22T18:05:25.761Z"
   },
   {
    "duration": 220,
    "start_time": "2022-05-22T18:05:26.019Z"
   },
   {
    "duration": 235,
    "start_time": "2022-05-22T18:05:26.250Z"
   },
   {
    "duration": 266,
    "start_time": "2022-05-22T18:05:26.486Z"
   },
   {
    "duration": 257,
    "start_time": "2022-05-22T18:05:26.754Z"
   },
   {
    "duration": 54,
    "start_time": "2022-05-22T18:05:27.022Z"
   },
   {
    "duration": 5,
    "start_time": "2022-05-22T18:05:27.078Z"
   },
   {
    "duration": 240,
    "start_time": "2022-05-22T18:05:27.084Z"
   },
   {
    "duration": 39,
    "start_time": "2022-05-22T18:05:27.329Z"
   },
   {
    "duration": 46,
    "start_time": "2022-05-22T18:05:27.372Z"
   },
   {
    "duration": 35,
    "start_time": "2022-05-22T18:05:27.420Z"
   },
   {
    "duration": 49,
    "start_time": "2022-05-22T18:05:27.457Z"
   },
   {
    "duration": 68,
    "start_time": "2022-05-22T18:05:27.508Z"
   },
   {
    "duration": 33,
    "start_time": "2022-05-22T18:05:27.578Z"
   },
   {
    "duration": 49,
    "start_time": "2022-05-22T18:05:27.620Z"
   },
   {
    "duration": 98,
    "start_time": "2022-05-22T18:05:27.673Z"
   },
   {
    "duration": 29,
    "start_time": "2022-05-22T18:05:27.773Z"
   },
   {
    "duration": 72,
    "start_time": "2022-05-22T18:05:27.804Z"
   },
   {
    "duration": 42,
    "start_time": "2022-05-22T18:05:27.879Z"
   },
   {
    "duration": 73,
    "start_time": "2022-05-22T18:05:27.928Z"
   },
   {
    "duration": 38,
    "start_time": "2022-05-22T18:05:28.007Z"
   },
   {
    "duration": 110,
    "start_time": "2022-05-22T18:05:28.055Z"
   },
   {
    "duration": 568,
    "start_time": "2022-05-22T18:05:28.167Z"
   },
   {
    "duration": 34,
    "start_time": "2022-05-22T18:05:28.737Z"
   },
   {
    "duration": 7,
    "start_time": "2022-05-22T18:05:28.776Z"
   },
   {
    "duration": 319,
    "start_time": "2022-05-22T18:05:33.167Z"
   },
   {
    "duration": 387,
    "start_time": "2022-05-22T18:06:43.921Z"
   },
   {
    "duration": 233,
    "start_time": "2022-05-22T18:06:58.836Z"
   },
   {
    "duration": 128,
    "start_time": "2022-05-22T18:10:19.248Z"
   },
   {
    "duration": 225,
    "start_time": "2022-05-22T18:11:58.737Z"
   },
   {
    "duration": 222,
    "start_time": "2022-05-22T18:15:58.960Z"
   },
   {
    "duration": 7,
    "start_time": "2022-05-22T18:16:28.547Z"
   },
   {
    "duration": 5,
    "start_time": "2022-05-22T18:17:30.244Z"
   },
   {
    "duration": 29,
    "start_time": "2022-05-22T18:20:08.962Z"
   },
   {
    "duration": 43,
    "start_time": "2022-05-22T20:04:11.789Z"
   },
   {
    "duration": 42,
    "start_time": "2022-05-22T20:18:51.561Z"
   },
   {
    "duration": 7,
    "start_time": "2022-05-22T20:38:28.040Z"
   },
   {
    "duration": 11,
    "start_time": "2022-05-22T20:50:51.612Z"
   },
   {
    "duration": 7,
    "start_time": "2022-05-22T20:50:59.175Z"
   },
   {
    "duration": 9,
    "start_time": "2022-05-22T20:52:51.556Z"
   },
   {
    "duration": 6,
    "start_time": "2022-05-22T20:53:23.941Z"
   },
   {
    "duration": 13,
    "start_time": "2022-05-22T20:53:38.994Z"
   },
   {
    "duration": 8,
    "start_time": "2022-05-22T20:53:45.356Z"
   },
   {
    "duration": 7,
    "start_time": "2022-05-22T20:53:47.712Z"
   },
   {
    "duration": 6,
    "start_time": "2022-05-22T20:53:55.040Z"
   },
   {
    "duration": 7,
    "start_time": "2022-05-22T20:53:56.832Z"
   },
   {
    "duration": 4,
    "start_time": "2022-05-22T20:54:12.884Z"
   },
   {
    "duration": 7,
    "start_time": "2022-05-22T20:54:16.023Z"
   },
   {
    "duration": 6,
    "start_time": "2022-05-22T20:54:27.283Z"
   },
   {
    "duration": 8,
    "start_time": "2022-05-22T20:54:28.309Z"
   },
   {
    "duration": 1118,
    "start_time": "2022-05-22T20:54:43.960Z"
   },
   {
    "duration": 195,
    "start_time": "2022-05-22T20:54:45.079Z"
   },
   {
    "duration": 25,
    "start_time": "2022-05-22T20:54:45.276Z"
   },
   {
    "duration": 18,
    "start_time": "2022-05-22T20:54:45.303Z"
   },
   {
    "duration": 3,
    "start_time": "2022-05-22T20:54:45.324Z"
   },
   {
    "duration": 6,
    "start_time": "2022-05-22T20:54:45.328Z"
   },
   {
    "duration": 8,
    "start_time": "2022-05-22T20:54:45.336Z"
   },
   {
    "duration": 33,
    "start_time": "2022-05-22T20:54:45.345Z"
   },
   {
    "duration": 40,
    "start_time": "2022-05-22T20:54:45.380Z"
   },
   {
    "duration": 5,
    "start_time": "2022-05-22T20:54:45.422Z"
   },
   {
    "duration": 27,
    "start_time": "2022-05-22T20:54:45.428Z"
   },
   {
    "duration": 16,
    "start_time": "2022-05-22T20:54:45.457Z"
   },
   {
    "duration": 47,
    "start_time": "2022-05-22T20:54:45.474Z"
   },
   {
    "duration": 12,
    "start_time": "2022-05-22T20:54:45.526Z"
   },
   {
    "duration": 5,
    "start_time": "2022-05-22T20:54:45.540Z"
   },
   {
    "duration": 361,
    "start_time": "2022-05-22T20:54:45.547Z"
   },
   {
    "duration": 6,
    "start_time": "2022-05-22T20:54:45.910Z"
   },
   {
    "duration": 17,
    "start_time": "2022-05-22T20:54:45.918Z"
   },
   {
    "duration": 366,
    "start_time": "2022-05-22T20:54:45.937Z"
   },
   {
    "duration": 170,
    "start_time": "2022-05-22T20:54:46.309Z"
   },
   {
    "duration": 200,
    "start_time": "2022-05-22T20:54:46.481Z"
   },
   {
    "duration": 199,
    "start_time": "2022-05-22T20:54:46.682Z"
   },
   {
    "duration": 186,
    "start_time": "2022-05-22T20:54:46.884Z"
   },
   {
    "duration": 216,
    "start_time": "2022-05-22T20:54:47.072Z"
   },
   {
    "duration": 222,
    "start_time": "2022-05-22T20:54:47.290Z"
   },
   {
    "duration": 30,
    "start_time": "2022-05-22T20:54:47.513Z"
   },
   {
    "duration": 4,
    "start_time": "2022-05-22T20:54:47.544Z"
   },
   {
    "duration": 206,
    "start_time": "2022-05-22T20:54:47.550Z"
   },
   {
    "duration": 12,
    "start_time": "2022-05-22T20:54:47.758Z"
   },
   {
    "duration": 32,
    "start_time": "2022-05-22T20:54:47.771Z"
   },
   {
    "duration": 12,
    "start_time": "2022-05-22T20:54:47.807Z"
   },
   {
    "duration": 11,
    "start_time": "2022-05-22T20:54:47.820Z"
   },
   {
    "duration": 11,
    "start_time": "2022-05-22T20:54:47.833Z"
   },
   {
    "duration": 18,
    "start_time": "2022-05-22T20:54:47.846Z"
   },
   {
    "duration": 12,
    "start_time": "2022-05-22T20:54:47.865Z"
   },
   {
    "duration": 26,
    "start_time": "2022-05-22T20:54:47.879Z"
   },
   {
    "duration": 12,
    "start_time": "2022-05-22T20:54:47.907Z"
   },
   {
    "duration": 26,
    "start_time": "2022-05-22T20:54:47.920Z"
   },
   {
    "duration": 36,
    "start_time": "2022-05-22T20:54:47.948Z"
   },
   {
    "duration": 42,
    "start_time": "2022-05-22T20:54:47.985Z"
   },
   {
    "duration": 3,
    "start_time": "2022-05-22T20:54:48.033Z"
   },
   {
    "duration": 66,
    "start_time": "2022-05-22T20:54:48.037Z"
   },
   {
    "duration": 353,
    "start_time": "2022-05-22T20:54:48.107Z"
   },
   {
    "duration": 42,
    "start_time": "2022-05-22T20:54:48.462Z"
   },
   {
    "duration": 6,
    "start_time": "2022-05-22T20:54:48.506Z"
   },
   {
    "duration": 318,
    "start_time": "2022-05-22T20:54:48.514Z"
   },
   {
    "duration": 6,
    "start_time": "2022-05-22T20:54:48.834Z"
   },
   {
    "duration": 8,
    "start_time": "2022-05-22T20:54:48.841Z"
   },
   {
    "duration": 170,
    "start_time": "2022-05-22T20:54:48.851Z"
   },
   {
    "duration": 5,
    "start_time": "2022-05-22T20:54:49.023Z"
   },
   {
    "duration": 181,
    "start_time": "2022-05-22T20:54:49.029Z"
   },
   {
    "duration": 6,
    "start_time": "2022-05-22T20:54:49.212Z"
   },
   {
    "duration": 19,
    "start_time": "2022-05-22T20:54:49.220Z"
   },
   {
    "duration": 17,
    "start_time": "2022-05-22T20:54:49.242Z"
   },
   {
    "duration": 50,
    "start_time": "2022-05-22T20:54:49.261Z"
   },
   {
    "duration": 15,
    "start_time": "2022-05-22T20:54:49.313Z"
   },
   {
    "duration": 15,
    "start_time": "2022-05-22T20:54:49.330Z"
   },
   {
    "duration": 6,
    "start_time": "2022-05-22T20:54:49.347Z"
   },
   {
    "duration": 215,
    "start_time": "2022-05-22T20:54:49.354Z"
   },
   {
    "duration": 12,
    "start_time": "2022-05-22T20:54:49.571Z"
   },
   {
    "duration": 17,
    "start_time": "2022-05-22T20:54:49.596Z"
   },
   {
    "duration": 15,
    "start_time": "2022-05-22T20:54:49.615Z"
   },
   {
    "duration": 10,
    "start_time": "2022-05-22T20:54:49.632Z"
   },
   {
    "duration": 7,
    "start_time": "2022-05-22T20:54:49.643Z"
   },
   {
    "duration": 207,
    "start_time": "2022-05-22T20:54:49.652Z"
   },
   {
    "duration": 202,
    "start_time": "2022-05-22T20:54:49.861Z"
   },
   {
    "duration": 196,
    "start_time": "2022-05-22T20:54:50.065Z"
   },
   {
    "duration": 37,
    "start_time": "2022-05-22T20:54:50.262Z"
   },
   {
    "duration": 12,
    "start_time": "2022-05-22T20:54:50.301Z"
   },
   {
    "duration": 15,
    "start_time": "2022-05-22T20:54:50.314Z"
   },
   {
    "duration": 10,
    "start_time": "2022-05-22T20:54:50.331Z"
   },
   {
    "duration": 12,
    "start_time": "2022-05-22T20:54:50.342Z"
   },
   {
    "duration": 250,
    "start_time": "2022-05-22T20:54:50.356Z"
   },
   {
    "duration": 19,
    "start_time": "2022-05-22T20:54:50.608Z"
   },
   {
    "duration": 9,
    "start_time": "2022-05-22T20:54:50.629Z"
   },
   {
    "duration": 242,
    "start_time": "2022-05-22T20:54:50.640Z"
   },
   {
    "duration": 29,
    "start_time": "2022-05-22T20:54:50.884Z"
   },
   {
    "duration": 14,
    "start_time": "2022-05-22T20:54:50.915Z"
   },
   {
    "duration": 16,
    "start_time": "2022-05-22T20:54:50.931Z"
   },
   {
    "duration": 10,
    "start_time": "2022-05-22T20:54:50.948Z"
   },
   {
    "duration": 12,
    "start_time": "2022-05-22T20:54:50.959Z"
   },
   {
    "duration": 245,
    "start_time": "2022-05-22T20:54:50.973Z"
   },
   {
    "duration": 273,
    "start_time": "2022-05-22T20:54:51.219Z"
   },
   {
    "duration": 17,
    "start_time": "2022-05-22T20:54:51.494Z"
   },
   {
    "duration": 15,
    "start_time": "2022-05-22T20:54:51.513Z"
   },
   {
    "duration": 4,
    "start_time": "2022-05-22T20:54:51.530Z"
   },
   {
    "duration": 9,
    "start_time": "2022-05-22T20:54:51.536Z"
   },
   {
    "duration": 21,
    "start_time": "2022-05-22T20:54:51.547Z"
   },
   {
    "duration": 29,
    "start_time": "2022-05-22T20:54:51.570Z"
   },
   {
    "duration": 9,
    "start_time": "2022-05-22T20:56:20.016Z"
   },
   {
    "duration": 11,
    "start_time": "2022-05-22T21:00:48.377Z"
   },
   {
    "duration": 30,
    "start_time": "2022-05-22T21:00:51.073Z"
   },
   {
    "duration": 10,
    "start_time": "2022-05-22T21:02:03.481Z"
   },
   {
    "duration": 5,
    "start_time": "2022-05-22T21:10:21.465Z"
   },
   {
    "duration": 12,
    "start_time": "2022-05-22T21:10:42.966Z"
   },
   {
    "duration": 1150,
    "start_time": "2022-05-22T21:11:05.127Z"
   },
   {
    "duration": 62,
    "start_time": "2022-05-22T21:11:06.278Z"
   },
   {
    "duration": 24,
    "start_time": "2022-05-22T21:11:06.342Z"
   },
   {
    "duration": 22,
    "start_time": "2022-05-22T21:11:06.368Z"
   },
   {
    "duration": 19,
    "start_time": "2022-05-22T21:11:06.392Z"
   },
   {
    "duration": 24,
    "start_time": "2022-05-22T21:11:06.413Z"
   },
   {
    "duration": 29,
    "start_time": "2022-05-22T21:11:06.439Z"
   },
   {
    "duration": 11,
    "start_time": "2022-05-22T21:11:06.470Z"
   },
   {
    "duration": 10,
    "start_time": "2022-05-22T21:11:06.483Z"
   },
   {
    "duration": 30,
    "start_time": "2022-05-22T21:11:06.494Z"
   },
   {
    "duration": 27,
    "start_time": "2022-05-22T21:11:06.526Z"
   },
   {
    "duration": 21,
    "start_time": "2022-05-22T21:11:06.555Z"
   },
   {
    "duration": 52,
    "start_time": "2022-05-22T21:11:06.578Z"
   },
   {
    "duration": 21,
    "start_time": "2022-05-22T21:11:06.633Z"
   },
   {
    "duration": 12,
    "start_time": "2022-05-22T21:11:06.656Z"
   },
   {
    "duration": 23,
    "start_time": "2022-05-22T21:11:06.669Z"
   },
   {
    "duration": 29,
    "start_time": "2022-05-22T21:11:06.694Z"
   },
   {
    "duration": 277,
    "start_time": "2022-05-22T21:11:06.725Z"
   },
   {
    "duration": 6,
    "start_time": "2022-05-22T21:11:07.007Z"
   },
   {
    "duration": 22,
    "start_time": "2022-05-22T21:11:07.014Z"
   },
   {
    "duration": 216,
    "start_time": "2022-05-22T21:11:07.037Z"
   },
   {
    "duration": 282,
    "start_time": "2022-05-22T21:11:07.258Z"
   },
   {
    "duration": 195,
    "start_time": "2022-05-22T21:11:07.542Z"
   },
   {
    "duration": 187,
    "start_time": "2022-05-22T21:11:07.739Z"
   },
   {
    "duration": 169,
    "start_time": "2022-05-22T21:11:07.928Z"
   },
   {
    "duration": 178,
    "start_time": "2022-05-22T21:11:08.104Z"
   },
   {
    "duration": 173,
    "start_time": "2022-05-22T21:11:08.283Z"
   },
   {
    "duration": 38,
    "start_time": "2022-05-22T21:11:08.458Z"
   },
   {
    "duration": 5,
    "start_time": "2022-05-22T21:11:08.497Z"
   },
   {
    "duration": 208,
    "start_time": "2022-05-22T21:11:08.508Z"
   },
   {
    "duration": 12,
    "start_time": "2022-05-22T21:11:08.718Z"
   },
   {
    "duration": 26,
    "start_time": "2022-05-22T21:11:08.732Z"
   },
   {
    "duration": 11,
    "start_time": "2022-05-22T21:11:08.759Z"
   },
   {
    "duration": 26,
    "start_time": "2022-05-22T21:11:08.772Z"
   },
   {
    "duration": 21,
    "start_time": "2022-05-22T21:11:08.800Z"
   },
   {
    "duration": 10,
    "start_time": "2022-05-22T21:11:08.823Z"
   },
   {
    "duration": 15,
    "start_time": "2022-05-22T21:11:08.835Z"
   },
   {
    "duration": 11,
    "start_time": "2022-05-22T21:11:08.852Z"
   },
   {
    "duration": 15,
    "start_time": "2022-05-22T21:11:08.864Z"
   },
   {
    "duration": 15,
    "start_time": "2022-05-22T21:11:08.881Z"
   },
   {
    "duration": 18,
    "start_time": "2022-05-22T21:11:08.903Z"
   },
   {
    "duration": 23,
    "start_time": "2022-05-22T21:11:08.923Z"
   },
   {
    "duration": 4,
    "start_time": "2022-05-22T21:11:08.948Z"
   },
   {
    "duration": 50,
    "start_time": "2022-05-22T21:11:08.953Z"
   },
   {
    "duration": 313,
    "start_time": "2022-05-22T21:11:09.005Z"
   },
   {
    "duration": 23,
    "start_time": "2022-05-22T21:11:09.320Z"
   },
   {
    "duration": 9,
    "start_time": "2022-05-22T21:11:09.345Z"
   },
   {
    "duration": 225,
    "start_time": "2022-05-22T21:11:09.355Z"
   },
   {
    "duration": 6,
    "start_time": "2022-05-22T21:11:09.581Z"
   },
   {
    "duration": 17,
    "start_time": "2022-05-22T21:11:09.588Z"
   },
   {
    "duration": 246,
    "start_time": "2022-05-22T21:11:09.609Z"
   },
   {
    "duration": 6,
    "start_time": "2022-05-22T21:11:09.856Z"
   },
   {
    "duration": 178,
    "start_time": "2022-05-22T21:11:09.864Z"
   },
   {
    "duration": 5,
    "start_time": "2022-05-22T21:11:10.044Z"
   },
   {
    "duration": 18,
    "start_time": "2022-05-22T21:11:10.050Z"
   },
   {
    "duration": 36,
    "start_time": "2022-05-22T21:11:10.070Z"
   },
   {
    "duration": 22,
    "start_time": "2022-05-22T21:11:10.108Z"
   },
   {
    "duration": 13,
    "start_time": "2022-05-22T21:11:10.131Z"
   },
   {
    "duration": 15,
    "start_time": "2022-05-22T21:11:10.146Z"
   },
   {
    "duration": 4,
    "start_time": "2022-05-22T21:11:10.163Z"
   },
   {
    "duration": 239,
    "start_time": "2022-05-22T21:11:10.169Z"
   },
   {
    "duration": 13,
    "start_time": "2022-05-22T21:11:10.410Z"
   },
   {
    "duration": 13,
    "start_time": "2022-05-22T21:11:10.424Z"
   },
   {
    "duration": 12,
    "start_time": "2022-05-22T21:11:10.438Z"
   },
   {
    "duration": 11,
    "start_time": "2022-05-22T21:11:10.452Z"
   },
   {
    "duration": 6,
    "start_time": "2022-05-22T21:11:10.464Z"
   },
   {
    "duration": 205,
    "start_time": "2022-05-22T21:11:10.472Z"
   },
   {
    "duration": 206,
    "start_time": "2022-05-22T21:11:10.679Z"
   },
   {
    "duration": 212,
    "start_time": "2022-05-22T21:11:10.887Z"
   },
   {
    "duration": 23,
    "start_time": "2022-05-22T21:11:11.104Z"
   },
   {
    "duration": 12,
    "start_time": "2022-05-22T21:11:11.129Z"
   },
   {
    "duration": 9,
    "start_time": "2022-05-22T21:11:11.142Z"
   },
   {
    "duration": 9,
    "start_time": "2022-05-22T21:11:11.153Z"
   },
   {
    "duration": 39,
    "start_time": "2022-05-22T21:11:11.164Z"
   },
   {
    "duration": 238,
    "start_time": "2022-05-22T21:11:11.205Z"
   },
   {
    "duration": 19,
    "start_time": "2022-05-22T21:11:11.445Z"
   },
   {
    "duration": 16,
    "start_time": "2022-05-22T21:11:11.466Z"
   },
   {
    "duration": 254,
    "start_time": "2022-05-22T21:11:11.484Z"
   },
   {
    "duration": 22,
    "start_time": "2022-05-22T21:11:11.740Z"
   },
   {
    "duration": 13,
    "start_time": "2022-05-22T21:11:11.763Z"
   },
   {
    "duration": 25,
    "start_time": "2022-05-22T21:11:11.777Z"
   },
   {
    "duration": 25,
    "start_time": "2022-05-22T21:11:11.803Z"
   },
   {
    "duration": 13,
    "start_time": "2022-05-22T21:11:11.830Z"
   },
   {
    "duration": 226,
    "start_time": "2022-05-22T21:11:11.845Z"
   },
   {
    "duration": 181,
    "start_time": "2022-05-22T21:11:12.072Z"
   },
   {
    "duration": 10,
    "start_time": "2022-05-22T21:11:12.256Z"
   },
   {
    "duration": 18,
    "start_time": "2022-05-22T21:11:12.268Z"
   },
   {
    "duration": 23,
    "start_time": "2022-05-22T21:11:12.287Z"
   },
   {
    "duration": 6,
    "start_time": "2022-05-22T21:11:12.312Z"
   },
   {
    "duration": 17,
    "start_time": "2022-05-22T21:11:12.320Z"
   },
   {
    "duration": 10,
    "start_time": "2022-05-22T21:11:12.338Z"
   },
   {
    "duration": 1055,
    "start_time": "2022-05-22T21:17:35.330Z"
   },
   {
    "duration": 56,
    "start_time": "2022-05-22T21:17:36.386Z"
   },
   {
    "duration": 25,
    "start_time": "2022-05-22T21:17:36.444Z"
   },
   {
    "duration": 14,
    "start_time": "2022-05-22T21:17:36.470Z"
   },
   {
    "duration": 3,
    "start_time": "2022-05-22T21:17:36.486Z"
   },
   {
    "duration": 23,
    "start_time": "2022-05-22T21:17:36.494Z"
   },
   {
    "duration": 12,
    "start_time": "2022-05-22T21:17:36.518Z"
   },
   {
    "duration": 13,
    "start_time": "2022-05-22T21:17:36.532Z"
   },
   {
    "duration": 8,
    "start_time": "2022-05-22T21:17:36.547Z"
   },
   {
    "duration": 18,
    "start_time": "2022-05-22T21:17:36.557Z"
   },
   {
    "duration": 31,
    "start_time": "2022-05-22T21:17:36.577Z"
   },
   {
    "duration": 15,
    "start_time": "2022-05-22T21:17:36.610Z"
   },
   {
    "duration": 35,
    "start_time": "2022-05-22T21:17:36.627Z"
   },
   {
    "duration": 9,
    "start_time": "2022-05-22T21:17:36.665Z"
   },
   {
    "duration": 9,
    "start_time": "2022-05-22T21:17:36.676Z"
   },
   {
    "duration": 18,
    "start_time": "2022-05-22T21:17:36.687Z"
   },
   {
    "duration": 13,
    "start_time": "2022-05-22T21:17:36.707Z"
   },
   {
    "duration": 312,
    "start_time": "2022-05-22T21:17:36.722Z"
   },
   {
    "duration": 5,
    "start_time": "2022-05-22T21:17:37.036Z"
   },
   {
    "duration": 25,
    "start_time": "2022-05-22T21:17:37.043Z"
   },
   {
    "duration": 273,
    "start_time": "2022-05-22T21:17:37.070Z"
   },
   {
    "duration": 269,
    "start_time": "2022-05-22T21:17:37.345Z"
   },
   {
    "duration": 198,
    "start_time": "2022-05-22T21:17:37.616Z"
   },
   {
    "duration": 190,
    "start_time": "2022-05-22T21:17:37.817Z"
   },
   {
    "duration": 164,
    "start_time": "2022-05-22T21:17:38.008Z"
   },
   {
    "duration": 194,
    "start_time": "2022-05-22T21:17:38.174Z"
   },
   {
    "duration": 160,
    "start_time": "2022-05-22T21:17:38.370Z"
   },
   {
    "duration": 25,
    "start_time": "2022-05-22T21:17:38.532Z"
   },
   {
    "duration": 5,
    "start_time": "2022-05-22T21:17:38.559Z"
   },
   {
    "duration": 201,
    "start_time": "2022-05-22T21:17:38.565Z"
   },
   {
    "duration": 10,
    "start_time": "2022-05-22T21:17:38.767Z"
   },
   {
    "duration": 25,
    "start_time": "2022-05-22T21:17:38.778Z"
   },
   {
    "duration": 17,
    "start_time": "2022-05-22T21:17:38.805Z"
   },
   {
    "duration": 13,
    "start_time": "2022-05-22T21:17:38.824Z"
   },
   {
    "duration": 10,
    "start_time": "2022-05-22T21:17:38.839Z"
   },
   {
    "duration": 10,
    "start_time": "2022-05-22T21:17:38.851Z"
   },
   {
    "duration": 15,
    "start_time": "2022-05-22T21:17:38.862Z"
   },
   {
    "duration": 25,
    "start_time": "2022-05-22T21:17:38.878Z"
   },
   {
    "duration": 14,
    "start_time": "2022-05-22T21:17:38.910Z"
   },
   {
    "duration": 13,
    "start_time": "2022-05-22T21:17:38.926Z"
   },
   {
    "duration": 9,
    "start_time": "2022-05-22T21:17:38.943Z"
   },
   {
    "duration": 19,
    "start_time": "2022-05-22T21:17:38.953Z"
   },
   {
    "duration": 3,
    "start_time": "2022-05-22T21:17:38.974Z"
   },
   {
    "duration": 58,
    "start_time": "2022-05-22T21:17:38.978Z"
   },
   {
    "duration": 325,
    "start_time": "2022-05-22T21:17:39.037Z"
   },
   {
    "duration": 34,
    "start_time": "2022-05-22T21:17:39.363Z"
   },
   {
    "duration": 12,
    "start_time": "2022-05-22T21:17:39.399Z"
   },
   {
    "duration": 228,
    "start_time": "2022-05-22T21:17:39.413Z"
   },
   {
    "duration": 6,
    "start_time": "2022-05-22T21:17:39.643Z"
   },
   {
    "duration": 28,
    "start_time": "2022-05-22T21:17:39.650Z"
   },
   {
    "duration": 265,
    "start_time": "2022-05-22T21:17:39.679Z"
   },
   {
    "duration": 4,
    "start_time": "2022-05-22T21:17:39.946Z"
   },
   {
    "duration": 169,
    "start_time": "2022-05-22T21:17:39.951Z"
   },
   {
    "duration": 6,
    "start_time": "2022-05-22T21:17:40.121Z"
   },
   {
    "duration": 21,
    "start_time": "2022-05-22T21:17:40.128Z"
   },
   {
    "duration": 19,
    "start_time": "2022-05-22T21:17:40.151Z"
   },
   {
    "duration": 41,
    "start_time": "2022-05-22T21:17:40.172Z"
   },
   {
    "duration": 18,
    "start_time": "2022-05-22T21:17:40.215Z"
   },
   {
    "duration": 29,
    "start_time": "2022-05-22T21:17:40.234Z"
   },
   {
    "duration": 9,
    "start_time": "2022-05-22T21:17:40.264Z"
   },
   {
    "duration": 215,
    "start_time": "2022-05-22T21:17:40.275Z"
   },
   {
    "duration": 19,
    "start_time": "2022-05-22T21:17:40.494Z"
   },
   {
    "duration": 14,
    "start_time": "2022-05-22T21:17:40.515Z"
   },
   {
    "duration": 13,
    "start_time": "2022-05-22T21:17:40.530Z"
   },
   {
    "duration": 15,
    "start_time": "2022-05-22T21:17:40.544Z"
   },
   {
    "duration": 9,
    "start_time": "2022-05-22T21:17:40.561Z"
   },
   {
    "duration": 199,
    "start_time": "2022-05-22T21:17:40.571Z"
   },
   {
    "duration": 193,
    "start_time": "2022-05-22T21:17:40.772Z"
   },
   {
    "duration": 189,
    "start_time": "2022-05-22T21:17:40.967Z"
   },
   {
    "duration": 19,
    "start_time": "2022-05-22T21:17:41.157Z"
   },
   {
    "duration": 30,
    "start_time": "2022-05-22T21:17:41.177Z"
   },
   {
    "duration": 9,
    "start_time": "2022-05-22T21:17:41.209Z"
   },
   {
    "duration": 8,
    "start_time": "2022-05-22T21:17:41.220Z"
   },
   {
    "duration": 13,
    "start_time": "2022-05-22T21:17:41.230Z"
   },
   {
    "duration": 231,
    "start_time": "2022-05-22T21:17:41.244Z"
   },
   {
    "duration": 26,
    "start_time": "2022-05-22T21:17:41.477Z"
   },
   {
    "duration": 11,
    "start_time": "2022-05-22T21:17:41.505Z"
   },
   {
    "duration": 232,
    "start_time": "2022-05-22T21:17:41.518Z"
   },
   {
    "duration": 19,
    "start_time": "2022-05-22T21:17:41.752Z"
   },
   {
    "duration": 13,
    "start_time": "2022-05-22T21:17:41.772Z"
   },
   {
    "duration": 10,
    "start_time": "2022-05-22T21:17:41.803Z"
   },
   {
    "duration": 9,
    "start_time": "2022-05-22T21:17:41.814Z"
   },
   {
    "duration": 12,
    "start_time": "2022-05-22T21:17:41.824Z"
   },
   {
    "duration": 224,
    "start_time": "2022-05-22T21:17:41.838Z"
   },
   {
    "duration": 176,
    "start_time": "2022-05-22T21:17:42.064Z"
   },
   {
    "duration": 12,
    "start_time": "2022-05-22T21:17:42.242Z"
   },
   {
    "duration": 13,
    "start_time": "2022-05-22T21:17:42.255Z"
   },
   {
    "duration": 28,
    "start_time": "2022-05-22T21:17:42.269Z"
   },
   {
    "duration": 9,
    "start_time": "2022-05-22T21:17:42.298Z"
   },
   {
    "duration": 21,
    "start_time": "2022-05-22T21:17:42.309Z"
   },
   {
    "duration": 7,
    "start_time": "2022-05-22T21:17:42.332Z"
   },
   {
    "duration": 55,
    "start_time": "2022-05-23T00:39:24.683Z"
   },
   {
    "duration": 1214,
    "start_time": "2022-05-23T00:39:30.938Z"
   },
   {
    "duration": 68,
    "start_time": "2022-05-23T00:39:32.154Z"
   },
   {
    "duration": 23,
    "start_time": "2022-05-23T00:39:32.224Z"
   },
   {
    "duration": 13,
    "start_time": "2022-05-23T00:39:32.248Z"
   },
   {
    "duration": 4,
    "start_time": "2022-05-23T00:39:32.262Z"
   },
   {
    "duration": 44,
    "start_time": "2022-05-23T00:39:32.267Z"
   },
   {
    "duration": 12,
    "start_time": "2022-05-23T00:39:32.312Z"
   },
   {
    "duration": 11,
    "start_time": "2022-05-23T00:39:32.325Z"
   },
   {
    "duration": 6,
    "start_time": "2022-05-23T00:39:32.338Z"
   },
   {
    "duration": 17,
    "start_time": "2022-05-23T00:39:32.345Z"
   },
   {
    "duration": 19,
    "start_time": "2022-05-23T00:39:32.363Z"
   },
   {
    "duration": 7,
    "start_time": "2022-05-23T00:39:32.384Z"
   },
   {
    "duration": 37,
    "start_time": "2022-05-23T00:39:32.392Z"
   },
   {
    "duration": 11,
    "start_time": "2022-05-23T00:39:32.432Z"
   },
   {
    "duration": 13,
    "start_time": "2022-05-23T00:39:32.444Z"
   },
   {
    "duration": 7,
    "start_time": "2022-05-23T00:39:32.459Z"
   },
   {
    "duration": 7,
    "start_time": "2022-05-23T00:39:32.467Z"
   },
   {
    "duration": 236,
    "start_time": "2022-05-23T00:39:32.475Z"
   },
   {
    "duration": 4,
    "start_time": "2022-05-23T00:39:32.712Z"
   },
   {
    "duration": 13,
    "start_time": "2022-05-23T00:39:32.728Z"
   },
   {
    "duration": 239,
    "start_time": "2022-05-23T00:39:32.742Z"
   },
   {
    "duration": 150,
    "start_time": "2022-05-23T00:39:32.983Z"
   },
   {
    "duration": 173,
    "start_time": "2022-05-23T00:39:33.134Z"
   },
   {
    "duration": 149,
    "start_time": "2022-05-23T00:39:33.308Z"
   },
   {
    "duration": 160,
    "start_time": "2022-05-23T00:39:33.459Z"
   },
   {
    "duration": 153,
    "start_time": "2022-05-23T00:39:33.620Z"
   },
   {
    "duration": 159,
    "start_time": "2022-05-23T00:39:33.775Z"
   },
   {
    "duration": 25,
    "start_time": "2022-05-23T00:39:33.935Z"
   },
   {
    "duration": 5,
    "start_time": "2022-05-23T00:39:33.961Z"
   },
   {
    "duration": 188,
    "start_time": "2022-05-23T00:39:33.968Z"
   },
   {
    "duration": 10,
    "start_time": "2022-05-23T00:39:34.158Z"
   },
   {
    "duration": 10,
    "start_time": "2022-05-23T00:39:34.169Z"
   },
   {
    "duration": 14,
    "start_time": "2022-05-23T00:39:34.180Z"
   },
   {
    "duration": 9,
    "start_time": "2022-05-23T00:39:34.195Z"
   },
   {
    "duration": 31,
    "start_time": "2022-05-23T00:39:34.205Z"
   },
   {
    "duration": 11,
    "start_time": "2022-05-23T00:39:34.238Z"
   },
   {
    "duration": 12,
    "start_time": "2022-05-23T00:39:34.251Z"
   },
   {
    "duration": 9,
    "start_time": "2022-05-23T00:39:34.265Z"
   },
   {
    "duration": 10,
    "start_time": "2022-05-23T00:39:34.275Z"
   },
   {
    "duration": 11,
    "start_time": "2022-05-23T00:39:34.287Z"
   },
   {
    "duration": 8,
    "start_time": "2022-05-23T00:39:34.302Z"
   },
   {
    "duration": 21,
    "start_time": "2022-05-23T00:39:34.326Z"
   },
   {
    "duration": 6,
    "start_time": "2022-05-23T00:39:34.348Z"
   },
   {
    "duration": 30,
    "start_time": "2022-05-23T00:39:34.355Z"
   },
   {
    "duration": 312,
    "start_time": "2022-05-23T00:39:34.386Z"
   },
   {
    "duration": 23,
    "start_time": "2022-05-23T00:39:34.700Z"
   },
   {
    "duration": 4,
    "start_time": "2022-05-23T00:39:34.725Z"
   },
   {
    "duration": 237,
    "start_time": "2022-05-23T00:39:38.024Z"
   },
   {
    "duration": 264,
    "start_time": "2022-05-23T00:39:53.352Z"
   },
   {
    "duration": 194,
    "start_time": "2022-05-23T00:41:51.271Z"
   },
   {
    "duration": 200,
    "start_time": "2022-05-23T00:42:13.101Z"
   },
   {
    "duration": 183,
    "start_time": "2022-05-23T00:42:34.384Z"
   },
   {
    "duration": 200,
    "start_time": "2022-05-23T00:43:15.389Z"
   },
   {
    "duration": 306,
    "start_time": "2022-05-23T00:45:17.309Z"
   },
   {
    "duration": 1046,
    "start_time": "2022-05-23T00:46:06.845Z"
   },
   {
    "duration": 40,
    "start_time": "2022-05-23T00:46:07.893Z"
   },
   {
    "duration": 23,
    "start_time": "2022-05-23T00:46:07.934Z"
   },
   {
    "duration": 16,
    "start_time": "2022-05-23T00:46:07.959Z"
   },
   {
    "duration": 3,
    "start_time": "2022-05-23T00:46:07.977Z"
   },
   {
    "duration": 7,
    "start_time": "2022-05-23T00:46:07.982Z"
   },
   {
    "duration": 12,
    "start_time": "2022-05-23T00:46:07.990Z"
   },
   {
    "duration": 29,
    "start_time": "2022-05-23T00:46:08.004Z"
   },
   {
    "duration": 9,
    "start_time": "2022-05-23T00:46:08.034Z"
   },
   {
    "duration": 16,
    "start_time": "2022-05-23T00:46:08.046Z"
   },
   {
    "duration": 28,
    "start_time": "2022-05-23T00:46:08.064Z"
   },
   {
    "duration": 8,
    "start_time": "2022-05-23T00:46:08.093Z"
   },
   {
    "duration": 27,
    "start_time": "2022-05-23T00:46:08.103Z"
   },
   {
    "duration": 12,
    "start_time": "2022-05-23T00:46:08.131Z"
   },
   {
    "duration": 16,
    "start_time": "2022-05-23T00:46:08.145Z"
   },
   {
    "duration": 9,
    "start_time": "2022-05-23T00:46:08.162Z"
   },
   {
    "duration": 8,
    "start_time": "2022-05-23T00:46:08.172Z"
   },
   {
    "duration": 239,
    "start_time": "2022-05-23T00:46:08.181Z"
   },
   {
    "duration": 4,
    "start_time": "2022-05-23T00:46:08.427Z"
   },
   {
    "duration": 17,
    "start_time": "2022-05-23T00:46:08.432Z"
   },
   {
    "duration": 189,
    "start_time": "2022-05-23T00:46:08.450Z"
   },
   {
    "duration": 226,
    "start_time": "2022-05-23T00:46:08.640Z"
   },
   {
    "duration": 164,
    "start_time": "2022-05-23T00:46:08.867Z"
   },
   {
    "duration": 158,
    "start_time": "2022-05-23T00:46:09.032Z"
   },
   {
    "duration": 150,
    "start_time": "2022-05-23T00:46:09.192Z"
   },
   {
    "duration": 158,
    "start_time": "2022-05-23T00:46:09.344Z"
   },
   {
    "duration": 147,
    "start_time": "2022-05-23T00:46:09.503Z"
   },
   {
    "duration": 25,
    "start_time": "2022-05-23T00:46:09.654Z"
   },
   {
    "duration": 18,
    "start_time": "2022-05-23T00:46:09.680Z"
   },
   {
    "duration": 183,
    "start_time": "2022-05-23T00:46:09.700Z"
   },
   {
    "duration": 10,
    "start_time": "2022-05-23T00:46:09.885Z"
   },
   {
    "duration": 18,
    "start_time": "2022-05-23T00:46:09.896Z"
   },
   {
    "duration": 18,
    "start_time": "2022-05-23T00:46:09.915Z"
   },
   {
    "duration": 16,
    "start_time": "2022-05-23T00:46:09.934Z"
   },
   {
    "duration": 16,
    "start_time": "2022-05-23T00:46:09.951Z"
   },
   {
    "duration": 11,
    "start_time": "2022-05-23T00:46:09.968Z"
   },
   {
    "duration": 12,
    "start_time": "2022-05-23T00:46:09.981Z"
   },
   {
    "duration": 8,
    "start_time": "2022-05-23T00:46:09.995Z"
   },
   {
    "duration": 17,
    "start_time": "2022-05-23T00:46:10.004Z"
   },
   {
    "duration": 11,
    "start_time": "2022-05-23T00:46:10.023Z"
   },
   {
    "duration": 22,
    "start_time": "2022-05-23T00:46:10.036Z"
   },
   {
    "duration": 25,
    "start_time": "2022-05-23T00:46:10.059Z"
   },
   {
    "duration": 15,
    "start_time": "2022-05-23T00:46:10.085Z"
   },
   {
    "duration": 43,
    "start_time": "2022-05-23T00:46:10.102Z"
   },
   {
    "duration": 300,
    "start_time": "2022-05-23T00:46:10.147Z"
   },
   {
    "duration": 22,
    "start_time": "2022-05-23T00:46:10.448Z"
   },
   {
    "duration": 4,
    "start_time": "2022-05-23T00:46:10.472Z"
   },
   {
    "duration": 207,
    "start_time": "2022-05-23T00:46:10.477Z"
   },
   {
    "duration": 5,
    "start_time": "2022-05-23T00:46:10.685Z"
   },
   {
    "duration": 24,
    "start_time": "2022-05-23T00:46:10.692Z"
   },
   {
    "duration": 216,
    "start_time": "2022-05-23T00:46:10.717Z"
   },
   {
    "duration": 5,
    "start_time": "2022-05-23T00:46:10.934Z"
   },
   {
    "duration": 149,
    "start_time": "2022-05-23T00:46:10.941Z"
   },
   {
    "duration": 4,
    "start_time": "2022-05-23T00:46:11.092Z"
   },
   {
    "duration": 40,
    "start_time": "2022-05-23T00:46:11.097Z"
   },
   {
    "duration": 19,
    "start_time": "2022-05-23T00:46:11.139Z"
   },
   {
    "duration": 28,
    "start_time": "2022-05-23T00:46:11.160Z"
   },
   {
    "duration": 16,
    "start_time": "2022-05-23T00:46:11.189Z"
   },
   {
    "duration": 28,
    "start_time": "2022-05-23T00:46:11.206Z"
   },
   {
    "duration": 23,
    "start_time": "2022-05-23T00:46:11.235Z"
   },
   {
    "duration": 197,
    "start_time": "2022-05-23T00:46:11.260Z"
   },
   {
    "duration": 12,
    "start_time": "2022-05-23T00:46:11.458Z"
   },
   {
    "duration": 35,
    "start_time": "2022-05-23T00:46:11.471Z"
   },
   {
    "duration": 22,
    "start_time": "2022-05-23T00:46:11.508Z"
   },
   {
    "duration": 26,
    "start_time": "2022-05-23T00:46:11.532Z"
   },
   {
    "duration": 17,
    "start_time": "2022-05-23T00:46:11.559Z"
   },
   {
    "duration": 167,
    "start_time": "2022-05-23T00:46:11.578Z"
   },
   {
    "duration": 169,
    "start_time": "2022-05-23T00:46:11.747Z"
   },
   {
    "duration": 169,
    "start_time": "2022-05-23T00:46:11.926Z"
   },
   {
    "duration": 17,
    "start_time": "2022-05-23T00:46:12.097Z"
   },
   {
    "duration": 18,
    "start_time": "2022-05-23T00:46:12.116Z"
   },
   {
    "duration": 23,
    "start_time": "2022-05-23T00:46:12.136Z"
   },
   {
    "duration": 24,
    "start_time": "2022-05-23T00:46:12.161Z"
   },
   {
    "duration": 26,
    "start_time": "2022-05-23T00:46:12.186Z"
   },
   {
    "duration": 214,
    "start_time": "2022-05-23T00:46:12.213Z"
   },
   {
    "duration": 17,
    "start_time": "2022-05-23T00:46:12.429Z"
   },
   {
    "duration": 27,
    "start_time": "2022-05-23T00:46:12.448Z"
   },
   {
    "duration": 211,
    "start_time": "2022-05-23T00:46:12.477Z"
   },
   {
    "duration": 15,
    "start_time": "2022-05-23T00:46:12.690Z"
   },
   {
    "duration": 16,
    "start_time": "2022-05-23T00:46:12.707Z"
   },
   {
    "duration": 14,
    "start_time": "2022-05-23T00:46:12.727Z"
   },
   {
    "duration": 40,
    "start_time": "2022-05-23T00:46:12.747Z"
   },
   {
    "duration": 18,
    "start_time": "2022-05-23T00:46:12.789Z"
   },
   {
    "duration": 219,
    "start_time": "2022-05-23T00:46:12.808Z"
   },
   {
    "duration": 158,
    "start_time": "2022-05-23T00:46:13.029Z"
   },
   {
    "duration": 10,
    "start_time": "2022-05-23T00:46:13.189Z"
   },
   {
    "duration": 34,
    "start_time": "2022-05-23T00:46:13.200Z"
   },
   {
    "duration": 28,
    "start_time": "2022-05-23T00:46:13.236Z"
   },
   {
    "duration": 14,
    "start_time": "2022-05-23T00:46:13.267Z"
   },
   {
    "duration": 1407,
    "start_time": "2022-05-23T16:01:25.129Z"
   },
   {
    "duration": 184,
    "start_time": "2022-05-23T16:01:26.547Z"
   },
   {
    "duration": 33,
    "start_time": "2022-05-23T16:01:26.737Z"
   },
   {
    "duration": 21,
    "start_time": "2022-05-23T16:01:26.772Z"
   },
   {
    "duration": 4,
    "start_time": "2022-05-23T16:01:26.796Z"
   },
   {
    "duration": 12,
    "start_time": "2022-05-23T16:01:26.802Z"
   },
   {
    "duration": 15,
    "start_time": "2022-05-23T16:01:26.830Z"
   },
   {
    "duration": 7,
    "start_time": "2022-05-23T16:01:30.819Z"
   },
   {
    "duration": 11,
    "start_time": "2022-05-23T16:01:32.121Z"
   },
   {
    "duration": 19,
    "start_time": "2022-05-23T16:01:36.455Z"
   },
   {
    "duration": 6,
    "start_time": "2022-05-23T16:03:47.413Z"
   },
   {
    "duration": 4,
    "start_time": "2022-05-23T16:03:48.641Z"
   },
   {
    "duration": 21,
    "start_time": "2022-05-23T16:03:49.547Z"
   },
   {
    "duration": 283,
    "start_time": "2022-05-23T16:04:41.564Z"
   },
   {
    "duration": 4,
    "start_time": "2022-05-23T16:04:42.898Z"
   },
   {
    "duration": 14,
    "start_time": "2022-05-23T16:04:44.116Z"
   },
   {
    "duration": 1072,
    "start_time": "2022-05-23T16:06:41.482Z"
   },
   {
    "duration": 53,
    "start_time": "2022-05-23T16:06:42.556Z"
   },
   {
    "duration": 31,
    "start_time": "2022-05-23T16:06:42.610Z"
   },
   {
    "duration": 19,
    "start_time": "2022-05-23T16:06:42.643Z"
   },
   {
    "duration": 4,
    "start_time": "2022-05-23T16:06:42.664Z"
   },
   {
    "duration": 12,
    "start_time": "2022-05-23T16:06:42.669Z"
   },
   {
    "duration": 16,
    "start_time": "2022-05-23T16:06:42.682Z"
   },
   {
    "duration": 15,
    "start_time": "2022-05-23T16:06:42.699Z"
   },
   {
    "duration": 33,
    "start_time": "2022-05-23T16:06:42.716Z"
   },
   {
    "duration": 5,
    "start_time": "2022-05-23T16:06:42.751Z"
   },
   {
    "duration": 22,
    "start_time": "2022-05-23T16:06:42.758Z"
   },
   {
    "duration": 11,
    "start_time": "2022-05-23T16:06:42.782Z"
   },
   {
    "duration": 10,
    "start_time": "2022-05-23T16:06:42.794Z"
   },
   {
    "duration": 15,
    "start_time": "2022-05-23T16:06:42.826Z"
   },
   {
    "duration": 9,
    "start_time": "2022-05-23T16:06:42.846Z"
   },
   {
    "duration": 335,
    "start_time": "2022-05-23T16:06:42.856Z"
   },
   {
    "duration": 6,
    "start_time": "2022-05-23T16:06:43.193Z"
   },
   {
    "duration": 32,
    "start_time": "2022-05-23T16:06:43.201Z"
   },
   {
    "duration": 344,
    "start_time": "2022-05-23T16:06:43.236Z"
   },
   {
    "duration": 182,
    "start_time": "2022-05-23T16:06:43.582Z"
   },
   {
    "duration": 245,
    "start_time": "2022-05-23T16:06:43.766Z"
   },
   {
    "duration": 184,
    "start_time": "2022-05-23T16:06:44.014Z"
   },
   {
    "duration": 207,
    "start_time": "2022-05-23T16:06:44.200Z"
   },
   {
    "duration": 185,
    "start_time": "2022-05-23T16:06:44.409Z"
   },
   {
    "duration": 183,
    "start_time": "2022-05-23T16:06:44.596Z"
   },
   {
    "duration": 57,
    "start_time": "2022-05-23T16:06:44.780Z"
   },
   {
    "duration": 8,
    "start_time": "2022-05-23T16:06:44.839Z"
   },
   {
    "duration": 238,
    "start_time": "2022-05-23T16:06:44.849Z"
   },
   {
    "duration": 12,
    "start_time": "2022-05-23T16:06:45.089Z"
   },
   {
    "duration": 20,
    "start_time": "2022-05-23T16:06:45.103Z"
   },
   {
    "duration": 44,
    "start_time": "2022-05-23T16:06:45.125Z"
   },
   {
    "duration": 14,
    "start_time": "2022-05-23T16:06:45.170Z"
   },
   {
    "duration": 11,
    "start_time": "2022-05-23T16:06:45.186Z"
   },
   {
    "duration": 12,
    "start_time": "2022-05-23T16:06:45.199Z"
   },
   {
    "duration": 9,
    "start_time": "2022-05-23T16:06:45.213Z"
   },
   {
    "duration": 15,
    "start_time": "2022-05-23T16:06:45.224Z"
   },
   {
    "duration": 31,
    "start_time": "2022-05-23T16:06:45.242Z"
   },
   {
    "duration": 21,
    "start_time": "2022-05-23T16:06:45.275Z"
   },
   {
    "duration": 42,
    "start_time": "2022-05-23T16:06:45.297Z"
   },
   {
    "duration": 58,
    "start_time": "2022-05-23T16:06:45.340Z"
   },
   {
    "duration": 4,
    "start_time": "2022-05-23T16:06:45.402Z"
   },
   {
    "duration": 65,
    "start_time": "2022-05-23T16:06:45.408Z"
   },
   {
    "duration": 404,
    "start_time": "2022-05-23T16:06:45.475Z"
   },
   {
    "duration": 30,
    "start_time": "2022-05-23T16:06:45.881Z"
   },
   {
    "duration": 4,
    "start_time": "2022-05-23T16:06:45.913Z"
   },
   {
    "duration": 473,
    "start_time": "2022-05-23T16:06:45.919Z"
   },
   {
    "duration": 8,
    "start_time": "2022-05-23T16:06:46.394Z"
   },
   {
    "duration": 31,
    "start_time": "2022-05-23T16:06:46.404Z"
   },
   {
    "duration": 234,
    "start_time": "2022-05-23T16:06:46.439Z"
   },
   {
    "duration": 7,
    "start_time": "2022-05-23T16:06:46.676Z"
   },
   {
    "duration": 211,
    "start_time": "2022-05-23T16:06:46.685Z"
   },
   {
    "duration": 7,
    "start_time": "2022-05-23T16:06:46.898Z"
   },
   {
    "duration": 33,
    "start_time": "2022-05-23T16:06:46.906Z"
   },
   {
    "duration": 23,
    "start_time": "2022-05-23T16:06:46.941Z"
   },
   {
    "duration": 20,
    "start_time": "2022-05-23T16:06:46.966Z"
   },
   {
    "duration": 15,
    "start_time": "2022-05-23T16:06:46.987Z"
   },
   {
    "duration": 45,
    "start_time": "2022-05-23T16:06:47.004Z"
   },
   {
    "duration": 14,
    "start_time": "2022-05-23T16:06:47.051Z"
   },
   {
    "duration": 223,
    "start_time": "2022-05-23T16:06:47.067Z"
   },
   {
    "duration": 14,
    "start_time": "2022-05-23T16:06:47.292Z"
   },
   {
    "duration": 43,
    "start_time": "2022-05-23T16:06:47.308Z"
   },
   {
    "duration": 17,
    "start_time": "2022-05-23T16:06:47.353Z"
   },
   {
    "duration": 17,
    "start_time": "2022-05-23T16:06:47.372Z"
   },
   {
    "duration": 8,
    "start_time": "2022-05-23T16:06:47.391Z"
   },
   {
    "duration": 202,
    "start_time": "2022-05-23T16:06:47.400Z"
   },
   {
    "duration": 201,
    "start_time": "2022-05-23T16:06:47.604Z"
   },
   {
    "duration": 214,
    "start_time": "2022-05-23T16:06:47.807Z"
   },
   {
    "duration": 27,
    "start_time": "2022-05-23T16:06:48.028Z"
   },
   {
    "duration": 10,
    "start_time": "2022-05-23T16:06:48.057Z"
   },
   {
    "duration": 12,
    "start_time": "2022-05-23T16:06:48.070Z"
   },
   {
    "duration": 13,
    "start_time": "2022-05-23T16:06:48.083Z"
   },
   {
    "duration": 12,
    "start_time": "2022-05-23T16:06:48.098Z"
   },
   {
    "duration": 242,
    "start_time": "2022-05-23T16:06:48.132Z"
   },
   {
    "duration": 19,
    "start_time": "2022-05-23T16:06:48.376Z"
   },
   {
    "duration": 14,
    "start_time": "2022-05-23T16:06:48.397Z"
   },
   {
    "duration": 265,
    "start_time": "2022-05-23T16:06:48.412Z"
   },
   {
    "duration": 20,
    "start_time": "2022-05-23T16:06:48.679Z"
   },
   {
    "duration": 14,
    "start_time": "2022-05-23T16:06:48.701Z"
   },
   {
    "duration": 21,
    "start_time": "2022-05-23T16:06:48.728Z"
   },
   {
    "duration": 22,
    "start_time": "2022-05-23T16:06:48.750Z"
   },
   {
    "duration": 24,
    "start_time": "2022-05-23T16:06:48.774Z"
   },
   {
    "duration": 251,
    "start_time": "2022-05-23T16:06:48.800Z"
   },
   {
    "duration": 318,
    "start_time": "2022-05-23T16:06:49.053Z"
   },
   {
    "duration": 14,
    "start_time": "2022-05-23T16:06:49.373Z"
   },
   {
    "duration": 148,
    "start_time": "2022-05-23T16:06:49.388Z"
   },
   {
    "duration": 0,
    "start_time": "2022-05-23T16:06:49.544Z"
   },
   {
    "duration": 0,
    "start_time": "2022-05-23T16:06:49.545Z"
   },
   {
    "duration": 5,
    "start_time": "2022-05-23T16:07:56.280Z"
   },
   {
    "duration": 9,
    "start_time": "2022-05-23T16:08:04.557Z"
   },
   {
    "duration": 4,
    "start_time": "2022-05-23T16:08:14.173Z"
   },
   {
    "duration": 4,
    "start_time": "2022-05-23T16:08:15.189Z"
   },
   {
    "duration": 4,
    "start_time": "2022-05-23T16:08:15.944Z"
   },
   {
    "duration": 4,
    "start_time": "2022-05-23T16:08:16.887Z"
   },
   {
    "duration": 9,
    "start_time": "2022-05-23T16:08:42.054Z"
   },
   {
    "duration": 7,
    "start_time": "2022-05-23T16:09:03.019Z"
   },
   {
    "duration": 7,
    "start_time": "2022-05-23T16:09:58.418Z"
   },
   {
    "duration": 5,
    "start_time": "2022-05-23T16:10:12.007Z"
   },
   {
    "duration": 15,
    "start_time": "2022-05-23T16:10:15.050Z"
   },
   {
    "duration": 6,
    "start_time": "2022-05-23T16:12:16.267Z"
   },
   {
    "duration": 16,
    "start_time": "2022-05-23T16:12:17.919Z"
   },
   {
    "duration": 23,
    "start_time": "2022-05-23T16:12:23.825Z"
   },
   {
    "duration": 5,
    "start_time": "2022-05-23T16:12:33.107Z"
   },
   {
    "duration": 9,
    "start_time": "2022-05-23T16:12:34.098Z"
   },
   {
    "duration": 8,
    "start_time": "2022-05-23T16:15:57.967Z"
   },
   {
    "duration": 9,
    "start_time": "2022-05-23T16:15:58.957Z"
   },
   {
    "duration": 11,
    "start_time": "2022-05-23T16:18:09.003Z"
   },
   {
    "duration": 10,
    "start_time": "2022-05-23T16:18:10.307Z"
   },
   {
    "duration": 59,
    "start_time": "2022-05-23T18:42:40.298Z"
   },
   {
    "duration": 1415,
    "start_time": "2022-05-23T18:42:48.027Z"
   },
   {
    "duration": 433,
    "start_time": "2022-05-23T18:42:49.444Z"
   },
   {
    "duration": 36,
    "start_time": "2022-05-23T18:42:49.879Z"
   },
   {
    "duration": 15,
    "start_time": "2022-05-23T18:42:49.917Z"
   },
   {
    "duration": 7,
    "start_time": "2022-05-23T18:42:49.934Z"
   },
   {
    "duration": 8,
    "start_time": "2022-05-23T18:42:49.942Z"
   },
   {
    "duration": 9,
    "start_time": "2022-05-23T18:42:49.952Z"
   },
   {
    "duration": 24,
    "start_time": "2022-05-23T18:42:49.962Z"
   },
   {
    "duration": 26,
    "start_time": "2022-05-23T18:42:49.991Z"
   },
   {
    "duration": 5,
    "start_time": "2022-05-23T18:42:50.020Z"
   },
   {
    "duration": 15,
    "start_time": "2022-05-23T18:42:50.026Z"
   },
   {
    "duration": 18,
    "start_time": "2022-05-23T18:42:50.043Z"
   },
   {
    "duration": 42,
    "start_time": "2022-05-23T18:42:50.063Z"
   },
   {
    "duration": 7,
    "start_time": "2022-05-23T18:42:50.107Z"
   },
   {
    "duration": 25,
    "start_time": "2022-05-23T18:42:50.117Z"
   },
   {
    "duration": 9,
    "start_time": "2022-05-23T18:42:50.144Z"
   },
   {
    "duration": 42,
    "start_time": "2022-05-23T18:42:50.155Z"
   },
   {
    "duration": 17,
    "start_time": "2022-05-23T18:42:50.199Z"
   },
   {
    "duration": 4,
    "start_time": "2022-05-23T18:42:50.217Z"
   },
   {
    "duration": 356,
    "start_time": "2022-05-23T18:42:50.222Z"
   },
   {
    "duration": 7,
    "start_time": "2022-05-23T18:42:50.583Z"
   },
   {
    "duration": 31,
    "start_time": "2022-05-23T18:42:50.592Z"
   },
   {
    "duration": 379,
    "start_time": "2022-05-23T18:42:50.624Z"
   },
   {
    "duration": 204,
    "start_time": "2022-05-23T18:42:51.005Z"
   },
   {
    "duration": 214,
    "start_time": "2022-05-23T18:42:51.211Z"
   },
   {
    "duration": 207,
    "start_time": "2022-05-23T18:42:51.427Z"
   },
   {
    "duration": 209,
    "start_time": "2022-05-23T18:42:51.635Z"
   },
   {
    "duration": 198,
    "start_time": "2022-05-23T18:42:51.848Z"
   },
   {
    "duration": 202,
    "start_time": "2022-05-23T18:42:52.047Z"
   },
   {
    "duration": 48,
    "start_time": "2022-05-23T18:42:52.251Z"
   },
   {
    "duration": 12,
    "start_time": "2022-05-23T18:42:52.301Z"
   },
   {
    "duration": 211,
    "start_time": "2022-05-23T18:42:52.314Z"
   },
   {
    "duration": 11,
    "start_time": "2022-05-23T18:42:52.527Z"
   },
   {
    "duration": 14,
    "start_time": "2022-05-23T18:42:52.540Z"
   },
   {
    "duration": 11,
    "start_time": "2022-05-23T18:42:52.555Z"
   },
   {
    "duration": 35,
    "start_time": "2022-05-23T18:42:52.567Z"
   },
   {
    "duration": 14,
    "start_time": "2022-05-23T18:42:52.606Z"
   },
   {
    "duration": 12,
    "start_time": "2022-05-23T18:42:52.622Z"
   },
   {
    "duration": 14,
    "start_time": "2022-05-23T18:42:52.635Z"
   },
   {
    "duration": 10,
    "start_time": "2022-05-23T18:42:52.651Z"
   },
   {
    "duration": 32,
    "start_time": "2022-05-23T18:42:52.662Z"
   },
   {
    "duration": 13,
    "start_time": "2022-05-23T18:42:52.698Z"
   },
   {
    "duration": 12,
    "start_time": "2022-05-23T18:42:52.714Z"
   },
   {
    "duration": 29,
    "start_time": "2022-05-23T18:42:52.728Z"
   },
   {
    "duration": 3,
    "start_time": "2022-05-23T18:42:52.758Z"
   },
   {
    "duration": 54,
    "start_time": "2022-05-23T18:42:52.786Z"
   },
   {
    "duration": 407,
    "start_time": "2022-05-23T18:42:52.842Z"
   },
   {
    "duration": 24,
    "start_time": "2022-05-23T18:42:53.252Z"
   },
   {
    "duration": 9,
    "start_time": "2022-05-23T18:42:53.277Z"
   },
   {
    "duration": 354,
    "start_time": "2022-05-23T18:42:53.287Z"
   },
   {
    "duration": 5,
    "start_time": "2022-05-23T18:42:53.642Z"
   },
   {
    "duration": 13,
    "start_time": "2022-05-23T18:42:53.649Z"
   },
   {
    "duration": 164,
    "start_time": "2022-05-23T18:42:53.663Z"
   },
   {
    "duration": 5,
    "start_time": "2022-05-23T18:42:53.829Z"
   },
   {
    "duration": 178,
    "start_time": "2022-05-23T18:42:53.836Z"
   },
   {
    "duration": 5,
    "start_time": "2022-05-23T18:42:54.017Z"
   },
   {
    "duration": 17,
    "start_time": "2022-05-23T18:42:54.024Z"
   },
   {
    "duration": 13,
    "start_time": "2022-05-23T18:42:54.042Z"
   },
   {
    "duration": 44,
    "start_time": "2022-05-23T18:42:54.056Z"
   },
   {
    "duration": 16,
    "start_time": "2022-05-23T18:42:54.103Z"
   },
   {
    "duration": 12,
    "start_time": "2022-05-23T18:42:54.121Z"
   },
   {
    "duration": 4,
    "start_time": "2022-05-23T18:42:54.134Z"
   },
   {
    "duration": 225,
    "start_time": "2022-05-23T18:42:54.140Z"
   },
   {
    "duration": 22,
    "start_time": "2022-05-23T18:42:54.367Z"
   },
   {
    "duration": 18,
    "start_time": "2022-05-23T18:42:54.392Z"
   },
   {
    "duration": 16,
    "start_time": "2022-05-23T18:42:54.412Z"
   },
   {
    "duration": 14,
    "start_time": "2022-05-23T18:42:54.430Z"
   },
   {
    "duration": 8,
    "start_time": "2022-05-23T18:42:54.445Z"
   },
   {
    "duration": 219,
    "start_time": "2022-05-23T18:42:54.454Z"
   },
   {
    "duration": 210,
    "start_time": "2022-05-23T18:42:54.675Z"
   },
   {
    "duration": 199,
    "start_time": "2022-05-23T18:42:54.894Z"
   },
   {
    "duration": 27,
    "start_time": "2022-05-23T18:42:55.096Z"
   },
   {
    "duration": 8,
    "start_time": "2022-05-23T18:42:55.124Z"
   },
   {
    "duration": 11,
    "start_time": "2022-05-23T18:42:55.133Z"
   },
   {
    "duration": 11,
    "start_time": "2022-05-23T18:42:55.145Z"
   },
   {
    "duration": 15,
    "start_time": "2022-05-23T18:42:55.158Z"
   },
   {
    "duration": 265,
    "start_time": "2022-05-23T18:42:55.186Z"
   },
   {
    "duration": 18,
    "start_time": "2022-05-23T18:42:55.453Z"
   },
   {
    "duration": 26,
    "start_time": "2022-05-23T18:42:55.472Z"
   },
   {
    "duration": 268,
    "start_time": "2022-05-23T18:42:55.499Z"
   },
   {
    "duration": 21,
    "start_time": "2022-05-23T18:42:55.768Z"
   },
   {
    "duration": 13,
    "start_time": "2022-05-23T18:42:55.797Z"
   },
   {
    "duration": 9,
    "start_time": "2022-05-23T18:42:55.813Z"
   },
   {
    "duration": 11,
    "start_time": "2022-05-23T18:42:55.824Z"
   },
   {
    "duration": 11,
    "start_time": "2022-05-23T18:42:55.836Z"
   },
   {
    "duration": 294,
    "start_time": "2022-05-23T18:42:55.849Z"
   },
   {
    "duration": 321,
    "start_time": "2022-05-23T18:42:56.145Z"
   },
   {
    "duration": 17,
    "start_time": "2022-05-23T18:42:56.467Z"
   },
   {
    "duration": 119,
    "start_time": "2022-05-23T18:42:56.489Z"
   },
   {
    "duration": 0,
    "start_time": "2022-05-23T18:42:56.610Z"
   },
   {
    "duration": 0,
    "start_time": "2022-05-23T18:42:56.612Z"
   },
   {
    "duration": 9,
    "start_time": "2022-05-23T18:45:00.361Z"
   },
   {
    "duration": 8,
    "start_time": "2022-05-23T18:45:33.611Z"
   },
   {
    "duration": 5,
    "start_time": "2022-05-23T18:45:42.898Z"
   },
   {
    "duration": 9,
    "start_time": "2022-05-23T18:45:49.082Z"
   },
   {
    "duration": 14,
    "start_time": "2022-05-23T18:45:50.958Z"
   },
   {
    "duration": 6,
    "start_time": "2022-05-23T18:54:12.500Z"
   },
   {
    "duration": 12,
    "start_time": "2022-05-23T18:54:13.457Z"
   },
   {
    "duration": 1130,
    "start_time": "2022-05-23T19:13:43.566Z"
   },
   {
    "duration": 52,
    "start_time": "2022-05-23T19:13:44.699Z"
   },
   {
    "duration": 25,
    "start_time": "2022-05-23T19:13:44.753Z"
   },
   {
    "duration": 21,
    "start_time": "2022-05-23T19:13:44.780Z"
   },
   {
    "duration": 13,
    "start_time": "2022-05-23T19:13:44.804Z"
   },
   {
    "duration": 10,
    "start_time": "2022-05-23T19:13:44.818Z"
   },
   {
    "duration": 25,
    "start_time": "2022-05-23T19:13:44.829Z"
   },
   {
    "duration": 8,
    "start_time": "2022-05-23T19:13:44.855Z"
   },
   {
    "duration": 37,
    "start_time": "2022-05-23T19:13:44.864Z"
   },
   {
    "duration": 10,
    "start_time": "2022-05-23T19:13:44.902Z"
   },
   {
    "duration": 17,
    "start_time": "2022-05-23T19:13:44.913Z"
   },
   {
    "duration": 17,
    "start_time": "2022-05-23T19:13:44.931Z"
   },
   {
    "duration": 9,
    "start_time": "2022-05-23T19:13:44.949Z"
   },
   {
    "duration": 16,
    "start_time": "2022-05-23T19:13:44.961Z"
   },
   {
    "duration": 28,
    "start_time": "2022-05-23T19:13:44.978Z"
   },
   {
    "duration": 22,
    "start_time": "2022-05-23T19:13:45.007Z"
   },
   {
    "duration": 15,
    "start_time": "2022-05-23T19:13:45.031Z"
   },
   {
    "duration": 41,
    "start_time": "2022-05-23T19:13:45.048Z"
   },
   {
    "duration": 25,
    "start_time": "2022-05-23T19:13:45.092Z"
   },
   {
    "duration": 18,
    "start_time": "2022-05-23T19:13:45.119Z"
   },
   {
    "duration": 15,
    "start_time": "2022-05-23T19:13:45.139Z"
   },
   {
    "duration": 37,
    "start_time": "2022-05-23T19:13:45.156Z"
   },
   {
    "duration": 351,
    "start_time": "2022-05-23T19:13:45.201Z"
   },
   {
    "duration": 6,
    "start_time": "2022-05-23T19:13:45.554Z"
   },
   {
    "duration": 49,
    "start_time": "2022-05-23T19:13:45.561Z"
   },
   {
    "duration": 365,
    "start_time": "2022-05-23T19:13:45.613Z"
   },
   {
    "duration": 188,
    "start_time": "2022-05-23T19:13:45.983Z"
   },
   {
    "duration": 192,
    "start_time": "2022-05-23T19:13:46.172Z"
   },
   {
    "duration": 185,
    "start_time": "2022-05-23T19:13:46.366Z"
   },
   {
    "duration": 218,
    "start_time": "2022-05-23T19:13:46.553Z"
   },
   {
    "duration": 189,
    "start_time": "2022-05-23T19:13:46.773Z"
   },
   {
    "duration": 188,
    "start_time": "2022-05-23T19:13:46.964Z"
   },
   {
    "duration": 41,
    "start_time": "2022-05-23T19:13:47.154Z"
   },
   {
    "duration": 5,
    "start_time": "2022-05-23T19:13:47.196Z"
   },
   {
    "duration": 206,
    "start_time": "2022-05-23T19:13:47.203Z"
   },
   {
    "duration": 12,
    "start_time": "2022-05-23T19:13:47.411Z"
   },
   {
    "duration": 12,
    "start_time": "2022-05-23T19:13:47.425Z"
   },
   {
    "duration": 12,
    "start_time": "2022-05-23T19:13:47.439Z"
   },
   {
    "duration": 41,
    "start_time": "2022-05-23T19:13:47.452Z"
   },
   {
    "duration": 11,
    "start_time": "2022-05-23T19:13:47.494Z"
   },
   {
    "duration": 11,
    "start_time": "2022-05-23T19:13:47.510Z"
   },
   {
    "duration": 12,
    "start_time": "2022-05-23T19:13:47.522Z"
   },
   {
    "duration": 9,
    "start_time": "2022-05-23T19:13:47.536Z"
   },
   {
    "duration": 12,
    "start_time": "2022-05-23T19:13:47.547Z"
   },
   {
    "duration": 30,
    "start_time": "2022-05-23T19:13:47.561Z"
   },
   {
    "duration": 13,
    "start_time": "2022-05-23T19:13:47.592Z"
   },
   {
    "duration": 38,
    "start_time": "2022-05-23T19:13:47.607Z"
   },
   {
    "duration": 7,
    "start_time": "2022-05-23T19:13:47.647Z"
   },
   {
    "duration": 56,
    "start_time": "2022-05-23T19:13:47.655Z"
   },
   {
    "duration": 388,
    "start_time": "2022-05-23T19:13:47.713Z"
   },
   {
    "duration": 28,
    "start_time": "2022-05-23T19:13:48.105Z"
   },
   {
    "duration": 6,
    "start_time": "2022-05-23T19:13:48.136Z"
   },
   {
    "duration": 421,
    "start_time": "2022-05-23T19:13:48.144Z"
   },
   {
    "duration": 6,
    "start_time": "2022-05-23T19:13:48.567Z"
   },
   {
    "duration": 19,
    "start_time": "2022-05-23T19:13:48.575Z"
   },
   {
    "duration": 163,
    "start_time": "2022-05-23T19:13:48.603Z"
   },
   {
    "duration": 21,
    "start_time": "2022-05-23T19:13:48.768Z"
   },
   {
    "duration": 135,
    "start_time": "2022-05-23T19:13:48.790Z"
   },
   {
    "duration": 5,
    "start_time": "2022-05-23T19:13:48.927Z"
   },
   {
    "duration": 20,
    "start_time": "2022-05-23T19:13:48.933Z"
   },
   {
    "duration": 32,
    "start_time": "2022-05-23T19:13:48.955Z"
   },
   {
    "duration": 17,
    "start_time": "2022-05-23T19:13:48.996Z"
   },
   {
    "duration": 12,
    "start_time": "2022-05-23T19:13:49.014Z"
   },
   {
    "duration": 15,
    "start_time": "2022-05-23T19:13:49.027Z"
   },
   {
    "duration": 8,
    "start_time": "2022-05-23T19:13:49.044Z"
   },
   {
    "duration": 218,
    "start_time": "2022-05-23T19:13:49.054Z"
   },
   {
    "duration": 30,
    "start_time": "2022-05-23T19:13:49.274Z"
   },
   {
    "duration": 14,
    "start_time": "2022-05-23T19:13:49.306Z"
   },
   {
    "duration": 12,
    "start_time": "2022-05-23T19:13:49.321Z"
   },
   {
    "duration": 11,
    "start_time": "2022-05-23T19:13:49.335Z"
   },
   {
    "duration": 7,
    "start_time": "2022-05-23T19:13:49.347Z"
   },
   {
    "duration": 199,
    "start_time": "2022-05-23T19:13:49.355Z"
   },
   {
    "duration": 243,
    "start_time": "2022-05-23T19:13:49.556Z"
   },
   {
    "duration": 181,
    "start_time": "2022-05-23T19:13:49.801Z"
   },
   {
    "duration": 22,
    "start_time": "2022-05-23T19:13:49.986Z"
   },
   {
    "duration": 8,
    "start_time": "2022-05-23T19:13:50.010Z"
   },
   {
    "duration": 13,
    "start_time": "2022-05-23T19:13:50.020Z"
   },
   {
    "duration": 24,
    "start_time": "2022-05-23T19:13:50.034Z"
   },
   {
    "duration": 26,
    "start_time": "2022-05-23T19:13:50.060Z"
   },
   {
    "duration": 241,
    "start_time": "2022-05-23T19:13:50.088Z"
   },
   {
    "duration": 19,
    "start_time": "2022-05-23T19:13:50.330Z"
   },
   {
    "duration": 10,
    "start_time": "2022-05-23T19:13:50.350Z"
   },
   {
    "duration": 231,
    "start_time": "2022-05-23T19:13:50.388Z"
   },
   {
    "duration": 19,
    "start_time": "2022-05-23T19:13:50.621Z"
   },
   {
    "duration": 10,
    "start_time": "2022-05-23T19:13:50.642Z"
   },
   {
    "duration": 11,
    "start_time": "2022-05-23T19:13:50.653Z"
   },
   {
    "duration": 32,
    "start_time": "2022-05-23T19:13:50.665Z"
   },
   {
    "duration": 11,
    "start_time": "2022-05-23T19:13:50.701Z"
   },
   {
    "duration": 255,
    "start_time": "2022-05-23T19:13:50.713Z"
   },
   {
    "duration": 292,
    "start_time": "2022-05-23T19:13:50.970Z"
   },
   {
    "duration": 12,
    "start_time": "2022-05-23T19:13:51.263Z"
   },
   {
    "duration": 126,
    "start_time": "2022-05-23T19:13:51.284Z"
   },
   {
    "duration": 0,
    "start_time": "2022-05-23T19:13:51.412Z"
   },
   {
    "duration": 0,
    "start_time": "2022-05-23T19:13:51.414Z"
   },
   {
    "duration": 16,
    "start_time": "2022-05-23T19:19:26.655Z"
   },
   {
    "duration": 17,
    "start_time": "2022-05-23T19:52:11.683Z"
   },
   {
    "duration": 17,
    "start_time": "2022-05-23T19:52:16.035Z"
   },
   {
    "duration": 6,
    "start_time": "2022-05-23T19:53:56.067Z"
   },
   {
    "duration": 806,
    "start_time": "2022-05-23T19:54:00.168Z"
   },
   {
    "duration": 53,
    "start_time": "2022-05-23T22:47:29.007Z"
   },
   {
    "duration": 1886,
    "start_time": "2022-05-23T22:47:44.714Z"
   },
   {
    "duration": 93,
    "start_time": "2022-05-23T22:47:46.602Z"
   },
   {
    "duration": 24,
    "start_time": "2022-05-23T22:47:46.696Z"
   },
   {
    "duration": 20,
    "start_time": "2022-05-23T22:47:46.721Z"
   },
   {
    "duration": 5,
    "start_time": "2022-05-23T22:47:46.743Z"
   },
   {
    "duration": 6,
    "start_time": "2022-05-23T22:47:46.750Z"
   },
   {
    "duration": 9,
    "start_time": "2022-05-23T22:47:46.758Z"
   },
   {
    "duration": 7,
    "start_time": "2022-05-23T22:47:46.769Z"
   },
   {
    "duration": 11,
    "start_time": "2022-05-23T22:47:46.777Z"
   },
   {
    "duration": 5,
    "start_time": "2022-05-23T22:47:46.789Z"
   },
   {
    "duration": 43,
    "start_time": "2022-05-23T22:47:46.795Z"
   },
   {
    "duration": 3,
    "start_time": "2022-05-23T22:47:46.839Z"
   },
   {
    "duration": 11,
    "start_time": "2022-05-23T22:47:46.847Z"
   },
   {
    "duration": 11,
    "start_time": "2022-05-23T22:47:46.861Z"
   },
   {
    "duration": 7,
    "start_time": "2022-05-23T22:47:46.874Z"
   },
   {
    "duration": 15,
    "start_time": "2022-05-23T22:47:46.883Z"
   },
   {
    "duration": 39,
    "start_time": "2022-05-23T22:47:46.900Z"
   },
   {
    "duration": 5,
    "start_time": "2022-05-23T22:47:46.941Z"
   },
   {
    "duration": 26,
    "start_time": "2022-05-23T22:47:46.948Z"
   },
   {
    "duration": 8,
    "start_time": "2022-05-23T22:47:46.976Z"
   },
   {
    "duration": 11,
    "start_time": "2022-05-23T22:47:46.985Z"
   },
   {
    "duration": 33,
    "start_time": "2022-05-23T22:47:46.997Z"
   },
   {
    "duration": 5,
    "start_time": "2022-05-23T22:47:47.039Z"
   },
   {
    "duration": 363,
    "start_time": "2022-05-23T22:47:47.046Z"
   },
   {
    "duration": 5,
    "start_time": "2022-05-23T22:47:47.410Z"
   },
   {
    "duration": 41,
    "start_time": "2022-05-23T22:47:47.416Z"
   },
   {
    "duration": 328,
    "start_time": "2022-05-23T22:47:47.459Z"
   },
   {
    "duration": 177,
    "start_time": "2022-05-23T22:47:47.789Z"
   },
   {
    "duration": 187,
    "start_time": "2022-05-23T22:47:47.968Z"
   },
   {
    "duration": 182,
    "start_time": "2022-05-23T22:47:48.156Z"
   },
   {
    "duration": 175,
    "start_time": "2022-05-23T22:47:48.340Z"
   },
   {
    "duration": 168,
    "start_time": "2022-05-23T22:47:48.517Z"
   },
   {
    "duration": 177,
    "start_time": "2022-05-23T22:47:48.687Z"
   },
   {
    "duration": 25,
    "start_time": "2022-05-23T22:47:48.866Z"
   },
   {
    "duration": 2,
    "start_time": "2022-05-23T22:47:48.893Z"
   },
   {
    "duration": 201,
    "start_time": "2022-05-23T22:47:48.897Z"
   },
   {
    "duration": 11,
    "start_time": "2022-05-23T22:47:49.100Z"
   },
   {
    "duration": 30,
    "start_time": "2022-05-23T22:47:49.112Z"
   },
   {
    "duration": 12,
    "start_time": "2022-05-23T22:47:49.144Z"
   },
   {
    "duration": 10,
    "start_time": "2022-05-23T22:47:49.157Z"
   },
   {
    "duration": 10,
    "start_time": "2022-05-23T22:47:49.171Z"
   },
   {
    "duration": 10,
    "start_time": "2022-05-23T22:47:49.182Z"
   },
   {
    "duration": 44,
    "start_time": "2022-05-23T22:47:49.193Z"
   },
   {
    "duration": 10,
    "start_time": "2022-05-23T22:47:49.239Z"
   },
   {
    "duration": 15,
    "start_time": "2022-05-23T22:47:49.251Z"
   },
   {
    "duration": 16,
    "start_time": "2022-05-23T22:47:49.268Z"
   },
   {
    "duration": 11,
    "start_time": "2022-05-23T22:47:49.286Z"
   },
   {
    "duration": 48,
    "start_time": "2022-05-23T22:47:49.298Z"
   },
   {
    "duration": 3,
    "start_time": "2022-05-23T22:47:49.348Z"
   },
   {
    "duration": 43,
    "start_time": "2022-05-23T22:47:49.353Z"
   },
   {
    "duration": 341,
    "start_time": "2022-05-23T22:47:49.398Z"
   },
   {
    "duration": 23,
    "start_time": "2022-05-23T22:47:49.741Z"
   },
   {
    "duration": 4,
    "start_time": "2022-05-23T22:47:49.765Z"
   },
   {
    "duration": 312,
    "start_time": "2022-05-23T22:47:49.771Z"
   },
   {
    "duration": 5,
    "start_time": "2022-05-23T22:47:50.085Z"
   },
   {
    "duration": 12,
    "start_time": "2022-05-23T22:47:50.092Z"
   },
   {
    "duration": 155,
    "start_time": "2022-05-23T22:47:50.105Z"
   },
   {
    "duration": 4,
    "start_time": "2022-05-23T22:47:50.262Z"
   },
   {
    "duration": 138,
    "start_time": "2022-05-23T22:47:50.268Z"
   },
   {
    "duration": 5,
    "start_time": "2022-05-23T22:47:50.408Z"
   },
   {
    "duration": 19,
    "start_time": "2022-05-23T22:47:50.434Z"
   },
   {
    "duration": 15,
    "start_time": "2022-05-23T22:47:50.456Z"
   },
   {
    "duration": 15,
    "start_time": "2022-05-23T22:47:50.473Z"
   },
   {
    "duration": 42,
    "start_time": "2022-05-23T22:47:50.490Z"
   },
   {
    "duration": 13,
    "start_time": "2022-05-23T22:47:50.542Z"
   },
   {
    "duration": 5,
    "start_time": "2022-05-23T22:47:50.556Z"
   },
   {
    "duration": 206,
    "start_time": "2022-05-23T22:47:50.563Z"
   },
   {
    "duration": 12,
    "start_time": "2022-05-23T22:47:50.770Z"
   },
   {
    "duration": 26,
    "start_time": "2022-05-23T22:47:50.784Z"
   },
   {
    "duration": 30,
    "start_time": "2022-05-23T22:47:50.812Z"
   },
   {
    "duration": 13,
    "start_time": "2022-05-23T22:47:50.844Z"
   },
   {
    "duration": 6,
    "start_time": "2022-05-23T22:47:50.859Z"
   },
   {
    "duration": 183,
    "start_time": "2022-05-23T22:47:50.867Z"
   },
   {
    "duration": 188,
    "start_time": "2022-05-23T22:47:51.052Z"
   },
   {
    "duration": 174,
    "start_time": "2022-05-23T22:47:51.242Z"
   },
   {
    "duration": 28,
    "start_time": "2022-05-23T22:47:51.417Z"
   },
   {
    "duration": 26,
    "start_time": "2022-05-23T22:47:51.446Z"
   },
   {
    "duration": 10,
    "start_time": "2022-05-23T22:47:51.474Z"
   },
   {
    "duration": 12,
    "start_time": "2022-05-23T22:47:51.486Z"
   },
   {
    "duration": 34,
    "start_time": "2022-05-23T22:47:51.499Z"
   },
   {
    "duration": 233,
    "start_time": "2022-05-23T22:47:51.535Z"
   },
   {
    "duration": 17,
    "start_time": "2022-05-23T22:47:51.770Z"
   },
   {
    "duration": 14,
    "start_time": "2022-05-23T22:47:51.788Z"
   },
   {
    "duration": 245,
    "start_time": "2022-05-23T22:47:51.803Z"
   },
   {
    "duration": 17,
    "start_time": "2022-05-23T22:47:52.049Z"
   },
   {
    "duration": 6,
    "start_time": "2022-05-23T22:47:52.068Z"
   },
   {
    "duration": 8,
    "start_time": "2022-05-23T22:47:52.076Z"
   },
   {
    "duration": 9,
    "start_time": "2022-05-23T22:47:52.086Z"
   },
   {
    "duration": 32,
    "start_time": "2022-05-23T22:47:52.096Z"
   },
   {
    "duration": 223,
    "start_time": "2022-05-23T22:47:52.137Z"
   },
   {
    "duration": 256,
    "start_time": "2022-05-23T22:47:52.361Z"
   },
   {
    "duration": 24,
    "start_time": "2022-05-23T22:47:52.618Z"
   },
   {
    "duration": 6,
    "start_time": "2022-05-23T22:47:52.644Z"
   },
   {
    "duration": 18,
    "start_time": "2022-05-23T22:47:52.652Z"
   },
   {
    "duration": 10,
    "start_time": "2022-05-23T22:47:52.672Z"
   },
   {
    "duration": 160,
    "start_time": "2022-05-23T22:51:19.021Z"
   },
   {
    "duration": 134,
    "start_time": "2022-05-23T22:51:54.601Z"
   },
   {
    "duration": 148,
    "start_time": "2022-05-23T22:52:11.806Z"
   },
   {
    "duration": 4,
    "start_time": "2022-05-23T22:53:44.988Z"
   },
   {
    "duration": 134,
    "start_time": "2022-05-23T22:58:57.955Z"
   }
  ],
  "kernelspec": {
   "display_name": "Python 3 (ipykernel)",
   "language": "python",
   "name": "python3"
  },
  "language_info": {
   "codemirror_mode": {
    "name": "ipython",
    "version": 3
   },
   "file_extension": ".py",
   "mimetype": "text/x-python",
   "name": "python",
   "nbconvert_exporter": "python",
   "pygments_lexer": "ipython3",
   "version": "3.9.5"
  },
  "toc": {
   "base_numbering": 1,
   "nav_menu": {},
   "number_sections": true,
   "sideBar": true,
   "skip_h1_title": true,
   "title_cell": "Table of Contents",
   "title_sidebar": "Contents",
   "toc_cell": false,
   "toc_position": {},
   "toc_section_display": true,
   "toc_window_display": false
  }
 },
 "nbformat": 4,
 "nbformat_minor": 2
}
