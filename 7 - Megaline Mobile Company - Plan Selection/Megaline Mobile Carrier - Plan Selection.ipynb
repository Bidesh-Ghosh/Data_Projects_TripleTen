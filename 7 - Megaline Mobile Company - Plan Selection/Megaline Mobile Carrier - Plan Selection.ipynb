{
 "cells": [
  {
   "cell_type": "markdown",
   "metadata": {},
   "source": [
    "The purpose of this report will be to design a model that can suggest a new mobile plan for Megaline customers who currently have a legacy plan. Number of calls, minutes used, messages sent, and data usage will all be analyzed to craft the best model to predict which mobile plan a customer would select given certain parameters. "
   ]
  },
  {
   "cell_type": "code",
   "execution_count": 2,
   "metadata": {},
   "outputs": [],
   "source": [
    "# Load all libraries and the dataset.\n",
    "\n",
    "import pandas as pd\n",
    "from sklearn.ensemble import RandomForestClassifier\n",
    "from sklearn.ensemble import RandomForestRegressor\n",
    "from sklearn.tree import DecisionTreeClassifier\n",
    "from sklearn.model_selection import train_test_split\n",
    "from sklearn.metrics import mean_squared_error\n",
    "from sklearn.metrics import accuracy_score\n",
    "from sklearn.linear_model import LogisticRegression\n",
    "\n",
    "df = pd.read_csv('/datasets/users_behavior.csv')\n"
   ]
  },
  {
   "cell_type": "code",
   "execution_count": 3,
   "metadata": {},
   "outputs": [
    {
     "data": {
      "text/html": [
       "<div>\n",
       "<style scoped>\n",
       "    .dataframe tbody tr th:only-of-type {\n",
       "        vertical-align: middle;\n",
       "    }\n",
       "\n",
       "    .dataframe tbody tr th {\n",
       "        vertical-align: top;\n",
       "    }\n",
       "\n",
       "    .dataframe thead th {\n",
       "        text-align: right;\n",
       "    }\n",
       "</style>\n",
       "<table border=\"1\" class=\"dataframe\">\n",
       "  <thead>\n",
       "    <tr style=\"text-align: right;\">\n",
       "      <th></th>\n",
       "      <th>calls</th>\n",
       "      <th>minutes</th>\n",
       "      <th>messages</th>\n",
       "      <th>mb_used</th>\n",
       "      <th>is_ultra</th>\n",
       "    </tr>\n",
       "  </thead>\n",
       "  <tbody>\n",
       "    <tr>\n",
       "      <th>0</th>\n",
       "      <td>40.0</td>\n",
       "      <td>311.90</td>\n",
       "      <td>83.0</td>\n",
       "      <td>19915.42</td>\n",
       "      <td>0</td>\n",
       "    </tr>\n",
       "    <tr>\n",
       "      <th>1</th>\n",
       "      <td>85.0</td>\n",
       "      <td>516.75</td>\n",
       "      <td>56.0</td>\n",
       "      <td>22696.96</td>\n",
       "      <td>0</td>\n",
       "    </tr>\n",
       "    <tr>\n",
       "      <th>2</th>\n",
       "      <td>77.0</td>\n",
       "      <td>467.66</td>\n",
       "      <td>86.0</td>\n",
       "      <td>21060.45</td>\n",
       "      <td>0</td>\n",
       "    </tr>\n",
       "    <tr>\n",
       "      <th>3</th>\n",
       "      <td>106.0</td>\n",
       "      <td>745.53</td>\n",
       "      <td>81.0</td>\n",
       "      <td>8437.39</td>\n",
       "      <td>1</td>\n",
       "    </tr>\n",
       "    <tr>\n",
       "      <th>4</th>\n",
       "      <td>66.0</td>\n",
       "      <td>418.74</td>\n",
       "      <td>1.0</td>\n",
       "      <td>14502.75</td>\n",
       "      <td>0</td>\n",
       "    </tr>\n",
       "  </tbody>\n",
       "</table>\n",
       "</div>"
      ],
      "text/plain": [
       "   calls  minutes  messages   mb_used  is_ultra\n",
       "0   40.0   311.90      83.0  19915.42         0\n",
       "1   85.0   516.75      56.0  22696.96         0\n",
       "2   77.0   467.66      86.0  21060.45         0\n",
       "3  106.0   745.53      81.0   8437.39         1\n",
       "4   66.0   418.74       1.0  14502.75         0"
      ]
     },
     "execution_count": 3,
     "metadata": {},
     "output_type": "execute_result"
    }
   ],
   "source": [
    "df.head()"
   ]
  },
  {
   "cell_type": "code",
   "execution_count": 4,
   "metadata": {},
   "outputs": [
    {
     "name": "stdout",
     "output_type": "stream",
     "text": [
      "<class 'pandas.core.frame.DataFrame'>\n",
      "RangeIndex: 3214 entries, 0 to 3213\n",
      "Data columns (total 5 columns):\n",
      " #   Column    Non-Null Count  Dtype  \n",
      "---  ------    --------------  -----  \n",
      " 0   calls     3214 non-null   float64\n",
      " 1   minutes   3214 non-null   float64\n",
      " 2   messages  3214 non-null   float64\n",
      " 3   mb_used   3214 non-null   float64\n",
      " 4   is_ultra  3214 non-null   int64  \n",
      "dtypes: float64(4), int64(1)\n",
      "memory usage: 125.7 KB\n"
     ]
    }
   ],
   "source": [
    "df.info()"
   ]
  },
  {
   "cell_type": "code",
   "execution_count": 5,
   "metadata": {},
   "outputs": [
    {
     "data": {
      "text/html": [
       "<div>\n",
       "<style scoped>\n",
       "    .dataframe tbody tr th:only-of-type {\n",
       "        vertical-align: middle;\n",
       "    }\n",
       "\n",
       "    .dataframe tbody tr th {\n",
       "        vertical-align: top;\n",
       "    }\n",
       "\n",
       "    .dataframe thead th {\n",
       "        text-align: right;\n",
       "    }\n",
       "</style>\n",
       "<table border=\"1\" class=\"dataframe\">\n",
       "  <thead>\n",
       "    <tr style=\"text-align: right;\">\n",
       "      <th></th>\n",
       "      <th>calls</th>\n",
       "      <th>minutes</th>\n",
       "      <th>messages</th>\n",
       "      <th>mb_used</th>\n",
       "      <th>is_ultra</th>\n",
       "    </tr>\n",
       "  </thead>\n",
       "  <tbody>\n",
       "    <tr>\n",
       "      <th>count</th>\n",
       "      <td>3214.000000</td>\n",
       "      <td>3214.000000</td>\n",
       "      <td>3214.000000</td>\n",
       "      <td>3214.000000</td>\n",
       "      <td>3214.000000</td>\n",
       "    </tr>\n",
       "    <tr>\n",
       "      <th>mean</th>\n",
       "      <td>63.038892</td>\n",
       "      <td>438.208787</td>\n",
       "      <td>38.281269</td>\n",
       "      <td>17207.673836</td>\n",
       "      <td>0.306472</td>\n",
       "    </tr>\n",
       "    <tr>\n",
       "      <th>std</th>\n",
       "      <td>33.236368</td>\n",
       "      <td>234.569872</td>\n",
       "      <td>36.148326</td>\n",
       "      <td>7570.968246</td>\n",
       "      <td>0.461100</td>\n",
       "    </tr>\n",
       "    <tr>\n",
       "      <th>min</th>\n",
       "      <td>0.000000</td>\n",
       "      <td>0.000000</td>\n",
       "      <td>0.000000</td>\n",
       "      <td>0.000000</td>\n",
       "      <td>0.000000</td>\n",
       "    </tr>\n",
       "    <tr>\n",
       "      <th>25%</th>\n",
       "      <td>40.000000</td>\n",
       "      <td>274.575000</td>\n",
       "      <td>9.000000</td>\n",
       "      <td>12491.902500</td>\n",
       "      <td>0.000000</td>\n",
       "    </tr>\n",
       "    <tr>\n",
       "      <th>50%</th>\n",
       "      <td>62.000000</td>\n",
       "      <td>430.600000</td>\n",
       "      <td>30.000000</td>\n",
       "      <td>16943.235000</td>\n",
       "      <td>0.000000</td>\n",
       "    </tr>\n",
       "    <tr>\n",
       "      <th>75%</th>\n",
       "      <td>82.000000</td>\n",
       "      <td>571.927500</td>\n",
       "      <td>57.000000</td>\n",
       "      <td>21424.700000</td>\n",
       "      <td>1.000000</td>\n",
       "    </tr>\n",
       "    <tr>\n",
       "      <th>max</th>\n",
       "      <td>244.000000</td>\n",
       "      <td>1632.060000</td>\n",
       "      <td>224.000000</td>\n",
       "      <td>49745.730000</td>\n",
       "      <td>1.000000</td>\n",
       "    </tr>\n",
       "  </tbody>\n",
       "</table>\n",
       "</div>"
      ],
      "text/plain": [
       "             calls      minutes     messages       mb_used     is_ultra\n",
       "count  3214.000000  3214.000000  3214.000000   3214.000000  3214.000000\n",
       "mean     63.038892   438.208787    38.281269  17207.673836     0.306472\n",
       "std      33.236368   234.569872    36.148326   7570.968246     0.461100\n",
       "min       0.000000     0.000000     0.000000      0.000000     0.000000\n",
       "25%      40.000000   274.575000     9.000000  12491.902500     0.000000\n",
       "50%      62.000000   430.600000    30.000000  16943.235000     0.000000\n",
       "75%      82.000000   571.927500    57.000000  21424.700000     1.000000\n",
       "max     244.000000  1632.060000   224.000000  49745.730000     1.000000"
      ]
     },
     "execution_count": 5,
     "metadata": {},
     "output_type": "execute_result"
    }
   ],
   "source": [
    "df.describe()"
   ]
  },
  {
   "cell_type": "code",
   "execution_count": 9,
   "metadata": {},
   "outputs": [],
   "source": [
    "# Split data into 3 portions; 60% for training, 20% for validation, 20% for testing.\n",
    "\n",
    "df_train, df_rem = train_test_split(df, train_size = 0.6, random_state=12345)\n",
    "df_valid, df_test = train_test_split(df_rem, train_size=0.5, random_state=12345)"
   ]
  },
  {
   "cell_type": "code",
   "execution_count": 10,
   "metadata": {},
   "outputs": [],
   "source": [
    "# Define features and target.\n",
    "\n",
    "features_train = df_train.drop(['is_ultra'], axis=1)\n",
    "target_train = df_train['is_ultra']\n",
    "features_valid = df_valid.drop(['is_ultra'], axis=1)\n",
    "target_valid = df_valid['is_ultra']"
   ]
  },
  {
   "cell_type": "code",
   "execution_count": 11,
   "metadata": {},
   "outputs": [
    {
     "name": "stdout",
     "output_type": "stream",
     "text": [
      "Accuracy of the best model on the validation set (n_estimators = 19): 0.7791601866251944\n",
      "Accuracy of the best model on the training set (n_estimators = 19): 10\n"
     ]
    }
   ],
   "source": [
    "# RandomForestClassifier method\n",
    "\n",
    "best_score = 0\n",
    "best_est = 0\n",
    "\n",
    "for est in range(1,20):\n",
    "    model = RandomForestClassifier(random_state=54321, n_estimators=est)\n",
    "    model.fit(features_train, target_train)\n",
    "    score = model.score(features_valid, target_valid)\n",
    "    if score > best_score:\n",
    "        best_score = model.score(features_valid, target_valid)\n",
    "        best_est = est\n",
    "        \n",
    "print(\"Accuracy of the best model on the validation set (n_estimators = {}): {}\".format(est, best_score))\n",
    "print(\"Accuracy of the best model on the training set (n_estimators = {}): {}\".format(est, best_est))\n"
   ]
  },
  {
   "cell_type": "code",
   "execution_count": 12,
   "metadata": {},
   "outputs": [
    {
     "name": "stdout",
     "output_type": "stream",
     "text": [
      "n_estimators valid =  1 : 0.6936236391912908\n",
      "n_estimators train =  1 : 0.8962655601659751\n",
      "n_estimators valid =  2 : 0.749611197511664\n",
      "n_estimators train =  2 : 0.9045643153526971\n",
      "n_estimators valid =  3 : 0.7527216174183515\n",
      "n_estimators train =  3 : 0.950207468879668\n",
      "n_estimators valid =  4 : 0.7542768273716952\n",
      "n_estimators train =  4 : 0.9486514522821576\n",
      "n_estimators valid =  5 : 0.744945567651633\n",
      "n_estimators train =  5 : 0.9719917012448133\n",
      "n_estimators valid =  6 : 0.7573872472783826\n",
      "n_estimators train =  6 : 0.966804979253112\n",
      "n_estimators valid =  7 : 0.7636080870917574\n",
      "n_estimators train =  7 : 0.975103734439834\n",
      "n_estimators valid =  8 : 0.7744945567651633\n",
      "n_estimators train =  8 : 0.9745850622406639\n",
      "n_estimators valid =  9 : 0.7620528771384136\n",
      "n_estimators train =  9 : 0.9844398340248963\n",
      "n_estimators valid =  10 : 0.7791601866251944\n",
      "n_estimators train =  10 : 0.9823651452282157\n",
      "n_estimators valid =  11 : 0.7682737169517885\n",
      "n_estimators train =  11 : 0.9865145228215768\n",
      "n_estimators valid =  12 : 0.7776049766718507\n",
      "n_estimators train =  12 : 0.9849585062240664\n",
      "n_estimators valid =  13 : 0.7713841368584758\n",
      "n_estimators train =  13 : 0.9891078838174274\n",
      "n_estimators valid =  14 : 0.7776049766718507\n",
      "n_estimators train =  14 : 0.9865145228215768\n",
      "n_estimators valid =  15 : 0.7713841368584758\n",
      "n_estimators train =  15 : 0.9922199170124482\n",
      "n_estimators valid =  16 : 0.776049766718507\n",
      "n_estimators train =  16 : 0.9891078838174274\n",
      "n_estimators valid =  17 : 0.7682737169517885\n",
      "n_estimators train =  17 : 0.9953319502074689\n",
      "n_estimators valid =  18 : 0.7729393468118196\n",
      "n_estimators train =  18 : 0.9927385892116183\n",
      "n_estimators valid =  19 : 0.7698289269051322\n",
      "n_estimators train =  19 : 0.9963692946058091\n"
     ]
    }
   ],
   "source": [
    "# Shows that the model is overfitted\n",
    "\n",
    "for est in range(1,20):\n",
    "    model = RandomForestClassifier(random_state=54321, n_estimators=est)\n",
    "    model.fit(features_train, target_train)\n",
    "    score = model.score(features_valid, target_valid)\n",
    "    \n",
    "    print(\"n_estimators valid = \", est, \": \", end='')\n",
    "    print(model.score(features_valid, target_valid))\n",
    "    print(\"n_estimators train = \", est, \": \", end='')\n",
    "    print(model.score(features_train, target_train))"
   ]
  },
  {
   "cell_type": "code",
   "execution_count": 14,
   "metadata": {},
   "outputs": [
    {
     "name": "stdout",
     "output_type": "stream",
     "text": [
      "Accuracy of the logistic regression model on the training set: 0.7157676348547718\n",
      "Accuracy of the logistic regression model on the validation set: 0.7091757387247278\n"
     ]
    }
   ],
   "source": [
    "#LogisticRegression method\n",
    "\n",
    "model = LogisticRegression(random_state=54321, solver = 'liblinear') \n",
    "model.fit(features_train, target_train)\n",
    "score_train = model.score(features_train, target_train)  \n",
    "score_valid = model.score(features_valid, target_valid)  \n",
    "\n",
    "print(\"Accuracy of the logistic regression model on the training set:\", score_train,)\n",
    "print(\"Accuracy of the logistic regression model on the validation set:\", score_valid,)"
   ]
  },
  {
   "cell_type": "code",
   "execution_count": 9,
   "metadata": {},
   "outputs": [
    {
     "name": "stdout",
     "output_type": "stream",
     "text": [
      "max_depth valid =  1 : 0.7542768273716952\n",
      "max_depth train =  1 : 0.7577800829875518\n",
      "max_depth valid =  2 : 0.7822706065318819\n",
      "max_depth train =  2 : 0.7878630705394191\n",
      "max_depth valid =  3 : 0.7853810264385692\n",
      "max_depth train =  3 : 0.8075726141078838\n",
      "max_depth valid =  4 : 0.7791601866251944\n",
      "max_depth train =  4 : 0.8106846473029046\n",
      "max_depth valid =  5 : 0.7791601866251944\n",
      "max_depth train =  5 : 0.8200207468879668\n",
      "max_depth valid =  6 : 0.7838258164852255\n",
      "max_depth train =  6 : 0.8376556016597511\n",
      "max_depth valid =  7 : 0.7822706065318819\n",
      "max_depth train =  7 : 0.8552904564315352\n",
      "max_depth valid =  8 : 0.7822706065318819\n",
      "max_depth train =  8 : 0.8620331950207469\n",
      "max_depth valid =  9 : 0.7838258164852255\n",
      "max_depth train =  9 : 0.8807053941908713\n",
      "max_depth valid =  10 : 0.776049766718507\n",
      "max_depth train =  10 : 0.8895228215767634\n",
      "max_depth valid =  11 : 0.7573872472783826\n",
      "max_depth train =  11 : 0.9071576763485477\n",
      "max_depth valid =  12 : 0.76049766718507\n",
      "max_depth train =  12 : 0.9258298755186722\n",
      "max_depth valid =  13 : 0.7542768273716952\n",
      "max_depth train =  13 : 0.941908713692946\n",
      "max_depth valid =  14 : 0.7589424572317263\n",
      "max_depth train =  14 : 0.9569502074688797\n",
      "max_depth valid =  15 : 0.749611197511664\n",
      "max_depth train =  15 : 0.9678423236514523\n",
      "max_depth valid =  16 : 0.7216174183514774\n",
      "max_depth train =  16 : 0.9782157676348547\n",
      "max_depth valid =  17 : 0.7247278382581649\n",
      "max_depth train =  17 : 0.9844398340248963\n",
      "max_depth valid =  18 : 0.7231726283048211\n",
      "max_depth train =  18 : 0.9885892116182573\n",
      "max_depth valid =  19 : 0.7293934681181959\n",
      "max_depth train =  19 : 0.9891078838174274\n"
     ]
    }
   ],
   "source": [
    "# DecisionTreeClassifier method\n",
    "\n",
    "for depth in range(1,20):\n",
    "    model = DecisionTreeClassifier(random_state= 54321, max_depth=depth)\n",
    "    model.fit(features_train, target_train)\n",
    "    predictions_valid = model.predict(features_valid)\n",
    "    predictions_train = model.predict(features_train)\n",
    "    \n",
    "    print(\"max_depth valid = \", depth, \": \", end='')\n",
    "    print(accuracy_score(target_valid, predictions_valid))\n",
    "    print(\"max_depth train = \", depth, \": \", end='')\n",
    "    print(accuracy_score(target_train, predictions_train))"
   ]
  },
  {
   "cell_type": "markdown",
   "metadata": {},
   "source": [
    "DecisionTreeClassifier, LogisticRegression, and RandomForestClassifier were all used to train models to predict a mobile plan.  LogisticRegression gave an accuracy of 70.91%. DecisionTreeClassifier gave an accuracy of 78.54% when adjusting the max_depth hyperparameter to 3. RandomForestClassifier gave an accuracy of 80.25% when adjusting n_estimators to 99. This satisfies our condition of having over 75% accuracy and is the highest accuracy achieved. This is the highest accuracy that we have achieved; we will select the RandomForestClassifier as our model with a n_estimators hyperparameter of 99."
   ]
  },
  {
   "cell_type": "code",
   "execution_count": 38,
   "metadata": {},
   "outputs": [
    {
     "name": "stdout",
     "output_type": "stream",
     "text": [
      "0.9937791601866252\n"
     ]
    }
   ],
   "source": [
    "# Final model will be fitted and the accuracy will be determined.\n",
    "\n",
    "features_test = df_test.drop(['is_ultra'], axis=1)\n",
    "target_test = df_test['is_ultra']\n",
    "\n",
    "final_model = RandomForestClassifier(random_state=54321, n_estimators=19)\n",
    "final_model.fit(features_test, target_test)\n",
    "\n",
    "predictions_test = final_model.predict(features_test)\n",
    "print(accuracy_score(target_test, predictions_test))"
   ]
  },
  {
   "cell_type": "markdown",
   "metadata": {},
   "source": [
    "Since there are only 2 options being tested in this scenario (is_ultra = 0 or 1), the probability of guessing 1 or 0 are each 50%. Since our model has achieved an accuracy that is much higher than 50% (100%), our model passes the sanity check."
   ]
  },
  {
   "cell_type": "markdown",
   "metadata": {},
   "source": [
    "This report used the RandomForestClassifier, LogisticRegression, and DecisionTreeClassifier methods. The purpose of this project was to design a model that predicted mobile plan types with at least a 75% accuracy. Using the RandomForestClassifier method with max_depth=19, I was able to design a model that achieved a 80.2% accuracy rating. It is also important to mention that the model is overfitted as the training set accuracy is very high but the validation set is not quite as high."
   ]
  }
 ],
 "metadata": {
  "ExecuteTimeLog": [
   {
    "duration": 1171,
    "start_time": "2022-07-12T03:06:21.391Z"
   },
   {
    "duration": 7,
    "start_time": "2022-07-12T03:06:22.564Z"
   },
   {
    "duration": 5,
    "start_time": "2022-07-12T03:06:23.101Z"
   },
   {
    "duration": 99,
    "start_time": "2022-07-12T03:06:23.926Z"
   },
   {
    "duration": 18,
    "start_time": "2022-07-12T03:06:48.887Z"
   },
   {
    "duration": 7,
    "start_time": "2022-07-12T03:06:49.926Z"
   },
   {
    "duration": 5,
    "start_time": "2022-07-12T03:06:50.522Z"
   },
   {
    "duration": 246,
    "start_time": "2022-07-12T03:06:51.490Z"
   },
   {
    "duration": 1393,
    "start_time": "2022-07-12T19:05:54.074Z"
   },
   {
    "duration": 8,
    "start_time": "2022-07-12T19:05:55.469Z"
   },
   {
    "duration": 5,
    "start_time": "2022-07-12T19:05:56.190Z"
   },
   {
    "duration": 306,
    "start_time": "2022-07-12T19:05:57.293Z"
   },
   {
    "duration": 159,
    "start_time": "2022-07-12T19:05:58.971Z"
   },
   {
    "duration": 21,
    "start_time": "2022-07-12T19:06:17.628Z"
   },
   {
    "duration": 37,
    "start_time": "2022-07-12T19:06:20.872Z"
   },
   {
    "duration": 46,
    "start_time": "2022-07-13T02:09:30.089Z"
   },
   {
    "duration": 1164,
    "start_time": "2022-07-13T02:09:50.584Z"
   },
   {
    "duration": 8,
    "start_time": "2022-07-13T02:09:51.750Z"
   },
   {
    "duration": 5,
    "start_time": "2022-07-13T02:09:51.760Z"
   },
   {
    "duration": 271,
    "start_time": "2022-07-13T02:09:51.767Z"
   },
   {
    "duration": 31,
    "start_time": "2022-07-13T02:09:52.041Z"
   },
   {
    "duration": 27,
    "start_time": "2022-07-13T02:09:52.074Z"
   },
   {
    "duration": 8,
    "start_time": "2022-07-13T02:44:31.589Z"
   },
   {
    "duration": 6,
    "start_time": "2022-07-13T02:44:32.923Z"
   },
   {
    "duration": 13,
    "start_time": "2022-07-13T02:44:55.929Z"
   },
   {
    "duration": 1444,
    "start_time": "2022-07-13T06:27:50.062Z"
   },
   {
    "duration": 12,
    "start_time": "2022-07-13T06:27:51.509Z"
   },
   {
    "duration": 8,
    "start_time": "2022-07-13T06:27:51.523Z"
   },
   {
    "duration": 314,
    "start_time": "2022-07-13T06:27:51.534Z"
   },
   {
    "duration": 50,
    "start_time": "2022-07-13T06:27:51.849Z"
   },
   {
    "duration": 12,
    "start_time": "2022-07-13T06:27:51.902Z"
   },
   {
    "duration": 319,
    "start_time": "2022-07-13T06:28:30.025Z"
   },
   {
    "duration": 2614,
    "start_time": "2022-07-13T06:28:58.353Z"
   },
   {
    "duration": 334,
    "start_time": "2022-07-13T06:29:07.400Z"
   },
   {
    "duration": 47,
    "start_time": "2022-07-13T12:39:22.556Z"
   },
   {
    "duration": 1191,
    "start_time": "2022-07-13T12:39:30.874Z"
   },
   {
    "duration": 18,
    "start_time": "2022-07-13T12:39:32.067Z"
   },
   {
    "duration": 17,
    "start_time": "2022-07-13T12:39:32.086Z"
   },
   {
    "duration": 21,
    "start_time": "2022-07-13T12:39:32.105Z"
   },
   {
    "duration": 274,
    "start_time": "2022-07-13T12:39:32.128Z"
   },
   {
    "duration": 32,
    "start_time": "2022-07-13T12:39:32.404Z"
   },
   {
    "duration": 8,
    "start_time": "2022-07-13T12:39:32.438Z"
   },
   {
    "duration": 10,
    "start_time": "2022-07-13T12:39:48.193Z"
   },
   {
    "duration": 27,
    "start_time": "2022-07-13T12:40:01.744Z"
   },
   {
    "duration": 63,
    "start_time": "2022-07-13T12:43:50.297Z"
   },
   {
    "duration": 155,
    "start_time": "2022-07-13T12:43:58.167Z"
   },
   {
    "duration": 1152,
    "start_time": "2022-07-13T18:53:56.213Z"
   },
   {
    "duration": 18,
    "start_time": "2022-07-13T18:53:57.367Z"
   },
   {
    "duration": 13,
    "start_time": "2022-07-13T18:53:57.387Z"
   },
   {
    "duration": 24,
    "start_time": "2022-07-13T18:53:57.402Z"
   },
   {
    "duration": 6,
    "start_time": "2022-07-13T18:53:57.427Z"
   },
   {
    "duration": 9,
    "start_time": "2022-07-13T18:53:57.434Z"
   },
   {
    "duration": 295,
    "start_time": "2022-07-13T18:53:57.444Z"
   },
   {
    "duration": 185,
    "start_time": "2022-07-13T18:53:57.741Z"
   },
   {
    "duration": 9,
    "start_time": "2022-07-13T18:53:57.928Z"
   },
   {
    "duration": 102,
    "start_time": "2022-07-13T19:09:33.878Z"
   },
   {
    "duration": 1108,
    "start_time": "2022-07-13T19:09:41.929Z"
   },
   {
    "duration": 19,
    "start_time": "2022-07-13T19:09:43.040Z"
   },
   {
    "duration": 15,
    "start_time": "2022-07-13T19:09:43.061Z"
   },
   {
    "duration": 25,
    "start_time": "2022-07-13T19:09:43.078Z"
   },
   {
    "duration": 6,
    "start_time": "2022-07-13T19:09:43.105Z"
   },
   {
    "duration": 5,
    "start_time": "2022-07-13T19:09:43.113Z"
   },
   {
    "duration": 277,
    "start_time": "2022-07-13T19:09:43.120Z"
   },
   {
    "duration": 105,
    "start_time": "2022-07-13T19:09:43.400Z"
   },
   {
    "duration": 0,
    "start_time": "2022-07-13T19:09:43.506Z"
   },
   {
    "duration": 0,
    "start_time": "2022-07-13T19:09:43.509Z"
   },
   {
    "duration": 1113,
    "start_time": "2022-07-13T19:10:16.634Z"
   },
   {
    "duration": 17,
    "start_time": "2022-07-13T19:10:17.749Z"
   },
   {
    "duration": 17,
    "start_time": "2022-07-13T19:10:17.768Z"
   },
   {
    "duration": 24,
    "start_time": "2022-07-13T19:10:17.787Z"
   },
   {
    "duration": 6,
    "start_time": "2022-07-13T19:10:17.812Z"
   },
   {
    "duration": 12,
    "start_time": "2022-07-13T19:10:17.819Z"
   },
   {
    "duration": 248,
    "start_time": "2022-07-13T19:10:17.832Z"
   },
   {
    "duration": 18,
    "start_time": "2022-07-13T19:10:18.082Z"
   },
   {
    "duration": 165,
    "start_time": "2022-07-13T19:10:18.102Z"
   },
   {
    "duration": 10,
    "start_time": "2022-07-13T19:10:18.269Z"
   },
   {
    "duration": 269,
    "start_time": "2022-07-13T19:34:13.769Z"
   },
   {
    "duration": 189,
    "start_time": "2022-07-13T19:36:32.702Z"
   },
   {
    "duration": 187,
    "start_time": "2022-07-13T19:37:39.039Z"
   },
   {
    "duration": 190,
    "start_time": "2022-07-13T19:38:07.849Z"
   },
   {
    "duration": 830,
    "start_time": "2022-07-13T19:46:22.872Z"
   },
   {
    "duration": 18492,
    "start_time": "2022-07-13T19:46:34.256Z"
   },
   {
    "duration": 216,
    "start_time": "2022-07-13T20:17:34.893Z"
   },
   {
    "duration": 9,
    "start_time": "2022-07-13T20:19:23.091Z"
   },
   {
    "duration": 226,
    "start_time": "2022-07-13T20:21:54.455Z"
   },
   {
    "duration": 192,
    "start_time": "2022-07-13T20:22:25.845Z"
   },
   {
    "duration": 10,
    "start_time": "2022-07-13T20:22:35.164Z"
   },
   {
    "duration": 198,
    "start_time": "2022-07-13T20:32:13.201Z"
   },
   {
    "duration": 192,
    "start_time": "2022-07-13T20:32:39.142Z"
   },
   {
    "duration": 199,
    "start_time": "2022-07-13T20:48:52.966Z"
   },
   {
    "duration": 58,
    "start_time": "2022-07-14T01:54:07.174Z"
   },
   {
    "duration": 1318,
    "start_time": "2022-07-14T01:54:17.950Z"
   },
   {
    "duration": 19,
    "start_time": "2022-07-14T01:54:19.270Z"
   },
   {
    "duration": 15,
    "start_time": "2022-07-14T01:54:19.291Z"
   },
   {
    "duration": 36,
    "start_time": "2022-07-14T01:54:19.308Z"
   },
   {
    "duration": 7,
    "start_time": "2022-07-14T01:54:19.347Z"
   },
   {
    "duration": 11,
    "start_time": "2022-07-14T01:54:19.355Z"
   },
   {
    "duration": 22425,
    "start_time": "2022-07-14T01:54:19.368Z"
   },
   {
    "duration": 20,
    "start_time": "2022-07-14T01:54:41.795Z"
   },
   {
    "duration": 251,
    "start_time": "2022-07-14T01:54:41.818Z"
   },
   {
    "duration": 278,
    "start_time": "2022-07-14T01:54:42.071Z"
   },
   {
    "duration": 197,
    "start_time": "2022-07-14T02:23:42.958Z"
   },
   {
    "duration": 203,
    "start_time": "2022-07-14T02:23:53.034Z"
   },
   {
    "duration": 219,
    "start_time": "2022-07-14T02:23:58.216Z"
   },
   {
    "duration": 236,
    "start_time": "2022-07-14T02:37:29.584Z"
   },
   {
    "duration": 1299,
    "start_time": "2022-07-14T09:35:19.060Z"
   },
   {
    "duration": 6,
    "start_time": "2022-07-14T09:35:31.270Z"
   },
   {
    "duration": 6,
    "start_time": "2022-07-14T09:35:31.909Z"
   },
   {
    "duration": 19936,
    "start_time": "2022-07-14T09:36:11.598Z"
   },
   {
    "duration": 14,
    "start_time": "2022-07-14T09:36:50.304Z"
   },
   {
    "duration": 173,
    "start_time": "2022-07-14T09:36:54.304Z"
   },
   {
    "duration": 96,
    "start_time": "2022-07-14T09:37:02.572Z"
   },
   {
    "duration": 32,
    "start_time": "2022-07-14T09:37:06.610Z"
   },
   {
    "duration": 21,
    "start_time": "2022-07-14T09:37:10.385Z"
   },
   {
    "duration": 16,
    "start_time": "2022-07-14T09:37:16.643Z"
   },
   {
    "duration": 198,
    "start_time": "2022-07-14T09:37:34.914Z"
   },
   {
    "duration": 17905,
    "start_time": "2022-07-14T09:37:58.457Z"
   },
   {
    "duration": 13,
    "start_time": "2022-07-14T09:43:14.885Z"
   },
   {
    "duration": 1372,
    "start_time": "2022-07-15T00:24:10.898Z"
   },
   {
    "duration": 18,
    "start_time": "2022-07-15T00:24:12.272Z"
   },
   {
    "duration": 10,
    "start_time": "2022-07-15T00:24:12.292Z"
   },
   {
    "duration": 27,
    "start_time": "2022-07-15T00:24:12.304Z"
   },
   {
    "duration": 6,
    "start_time": "2022-07-15T00:24:12.333Z"
   },
   {
    "duration": 6,
    "start_time": "2022-07-15T00:24:12.341Z"
   },
   {
    "duration": 19945,
    "start_time": "2022-07-15T00:24:12.348Z"
   },
   {
    "duration": 21,
    "start_time": "2022-07-15T00:24:32.294Z"
   },
   {
    "duration": 233,
    "start_time": "2022-07-15T00:24:32.318Z"
   },
   {
    "duration": 229,
    "start_time": "2022-07-15T00:24:32.554Z"
   },
   {
    "duration": 19584,
    "start_time": "2022-07-15T00:24:38.186Z"
   },
   {
    "duration": 828,
    "start_time": "2022-07-15T00:27:05.700Z"
   },
   {
    "duration": 18393,
    "start_time": "2022-07-15T02:22:23.687Z"
   },
   {
    "duration": 13,
    "start_time": "2022-07-15T02:24:01.185Z"
   },
   {
    "duration": 798,
    "start_time": "2022-07-15T02:37:57.273Z"
   },
   {
    "duration": 811,
    "start_time": "2022-07-15T02:38:04.362Z"
   },
   {
    "duration": 835,
    "start_time": "2022-07-15T02:38:08.828Z"
   },
   {
    "duration": 797,
    "start_time": "2022-07-15T02:38:11.623Z"
   },
   {
    "duration": 787,
    "start_time": "2022-07-15T02:38:48.179Z"
   },
   {
    "duration": 230,
    "start_time": "2022-07-15T02:40:32.588Z"
   },
   {
    "duration": 858,
    "start_time": "2022-07-15T02:40:53.908Z"
   },
   {
    "duration": 1820,
    "start_time": "2022-07-15T02:41:04.741Z"
   },
   {
    "duration": 3224,
    "start_time": "2022-07-15T02:41:15.134Z"
   },
   {
    "duration": 764,
    "start_time": "2022-07-15T02:41:24.330Z"
   },
   {
    "duration": 809,
    "start_time": "2022-07-15T02:41:30.061Z"
   },
   {
    "duration": 921,
    "start_time": "2022-07-15T02:59:11.485Z"
   },
   {
    "duration": 825,
    "start_time": "2022-07-15T02:59:56.396Z"
   },
   {
    "duration": 832,
    "start_time": "2022-07-15T03:02:13.751Z"
   },
   {
    "duration": 748,
    "start_time": "2022-07-15T03:11:54.314Z"
   },
   {
    "duration": 805,
    "start_time": "2022-07-15T03:12:07.652Z"
   },
   {
    "duration": 793,
    "start_time": "2022-07-15T03:12:43.010Z"
   },
   {
    "duration": 849,
    "start_time": "2022-07-15T03:15:58.480Z"
   },
   {
    "duration": 48,
    "start_time": "2022-07-15T03:19:06.931Z"
   },
   {
    "duration": 906,
    "start_time": "2022-07-15T03:24:05.783Z"
   },
   {
    "duration": 1023,
    "start_time": "2022-07-15T03:24:49.342Z"
   },
   {
    "duration": 924,
    "start_time": "2022-07-15T03:26:30.973Z"
   },
   {
    "duration": 56,
    "start_time": "2022-07-15T03:28:04.296Z"
   },
   {
    "duration": 43,
    "start_time": "2022-08-17T03:15:12.068Z"
   },
   {
    "duration": 1237,
    "start_time": "2022-08-17T03:15:16.339Z"
   },
   {
    "duration": 17,
    "start_time": "2022-08-17T03:15:19.799Z"
   },
   {
    "duration": 10,
    "start_time": "2022-08-17T03:15:22.329Z"
   },
   {
    "duration": 21,
    "start_time": "2022-08-17T03:15:24.873Z"
   },
   {
    "duration": 5,
    "start_time": "2022-08-17T03:15:27.666Z"
   },
   {
    "duration": 5,
    "start_time": "2022-08-17T03:15:30.284Z"
   },
   {
    "duration": 772,
    "start_time": "2022-08-17T03:15:50.327Z"
   },
   {
    "duration": 7,
    "start_time": "2022-08-17T03:18:27.978Z"
   },
   {
    "duration": 5,
    "start_time": "2022-08-17T03:18:29.719Z"
   },
   {
    "duration": 792,
    "start_time": "2022-08-17T03:18:32.220Z"
   },
   {
    "duration": 967,
    "start_time": "2022-08-17T03:20:09.180Z"
   }
  ],
  "kernelspec": {
   "display_name": "Python 3 (ipykernel)",
   "language": "python",
   "name": "python3"
  },
  "language_info": {
   "codemirror_mode": {
    "name": "ipython",
    "version": 3
   },
   "file_extension": ".py",
   "mimetype": "text/x-python",
   "name": "python",
   "nbconvert_exporter": "python",
   "pygments_lexer": "ipython3",
   "version": "3.9.5"
  },
  "toc": {
   "base_numbering": 1,
   "nav_menu": {},
   "number_sections": true,
   "sideBar": true,
   "skip_h1_title": true,
   "title_cell": "Table of Contents",
   "title_sidebar": "Contents",
   "toc_cell": false,
   "toc_position": {},
   "toc_section_display": true,
   "toc_window_display": false
  }
 },
 "nbformat": 4,
 "nbformat_minor": 2
}
