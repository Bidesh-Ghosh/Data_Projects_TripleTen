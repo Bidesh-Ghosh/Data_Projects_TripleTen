{
 "cells": [
  {
   "cell_type": "markdown",
   "metadata": {
    "id": "E0vqbgi9ay0H"
   },
   "source": [
    "# Yandex.Music"
   ]
  },
  {
   "cell_type": "markdown",
   "metadata": {
    "id": "fhq_eyov_Zcs"
   },
   "source": [
    "# Contents <a id='back'></a>\n",
    "\n",
    "* [Introduction](#intro)\n",
    "* [Stage 1. Data overview](#data_review)\n",
    "    * [Conclusions](#data_review_conclusions)\n",
    "* [Stage 2. Data preprocessing](#data_preprocessing)\n",
    "    * [2.1 Header style](#header_style)\n",
    "    * [2.2 Missing values](#missing_values)\n",
    "    * [2.3 Duplicates](#duplicates)\n",
    "    * [2.4 Conclusions](#data_preprocessing_conclusions)\n",
    "* [Stage 3. Testing the hypotheses](#hypotheses)\n",
    "    * [3.1 Hypothesis 1: user activity in the two cities](#activity)\n",
    "    * [3.2 Hypothesis 2: music preferences on Monday and Friday](#week)\n",
    "    * [3.3 Hypothesis 3: genre preferences in Springfield and Shelbyville](#genre)\n",
    "* [Findings](#end)"
   ]
  },
  {
   "cell_type": "markdown",
   "metadata": {
    "id": "VUC88oWjTJw2"
   },
   "source": [
    "## Introduction <a id='intro'></a>\n",
    "Whenever we're doing research, we need to formulate hypotheses that we can then test. Sometimes we accept these hypotheses; other times, we reject them. To make the right decisions, a business must be able to understand whether or not it's making the right assumptions.\n",
    "\n",
    "In this project, you'll compare the music preferences of the cities of Springfield and Shelbyville. You'll study real Yandex.Music data to test the hypotheses below and compare user behavior for these two cities.\n",
    "\n",
    "### Goal: \n",
    "Test three hypotheses:\n",
    "1. User activity differs depending on the day of the week and from city to city. \n",
    "2. On Monday mornings, Springfield and Shelbyville residents listen to different genres. This is also true for Friday evenings. \n",
    "3. Springfield and Shelbyville listeners have different preferences. In Springfield, they prefer pop, while Shelbyville has more rap fans.\n",
    "\n",
    "### Stages \n",
    "Data on user behavior is stored in the file `/datasets/music_project_en.csv`. There is no information about the quality of the data, so you will need to explore it before testing the hypotheses. \n",
    "\n",
    "First, you'll evaluate the quality of the data and see whether its issues are significant. Then, during data preprocessing, you will try to account for the most critical problems.\n",
    " \n",
    "Your project will consist of three stages:\n",
    " 1. Data overview\n",
    " 2. Data preprocessing\n",
    " 3. Testing the hypotheses\n",
    " \n",
    "[Back to Contents](#back)"
   ]
  },
  {
   "cell_type": "markdown",
   "metadata": {
    "id": "Ml1hmfXC_Zcs"
   },
   "source": [
    "## Stage 1. Data overview <a id='data_review'></a>\n",
    "\n",
    "Open the data on Yandex.Music and explore it."
   ]
  },
  {
   "cell_type": "markdown",
   "metadata": {
    "id": "57eAOGIz_Zcs"
   },
   "source": [
    "You'll need `pandas`, so import it."
   ]
  },
  {
   "cell_type": "code",
   "execution_count": 1,
   "metadata": {
    "id": "AXN7PHPN_Zcs"
   },
   "outputs": [],
   "source": [
    "import pandas as pd\n"
   ]
  },
  {
   "cell_type": "markdown",
   "metadata": {
    "id": "SG23P8tt_Zcs"
   },
   "source": [
    "Read the file `music_project_en.csv` from the `/datasets/` folder and save it in the `df` variable:"
   ]
  },
  {
   "cell_type": "code",
   "execution_count": 2,
   "metadata": {
    "id": "fFVu7vqh_Zct"
   },
   "outputs": [],
   "source": [
    "# reading the file and storing it to df\n",
    "df = pd.read_csv('/datasets/music_project_en.csv')"
   ]
  },
  {
   "cell_type": "markdown",
   "metadata": {
    "id": "rDoOMd3uTqnZ"
   },
   "source": [
    "Print the first 10 table rows:"
   ]
  },
  {
   "cell_type": "code",
   "execution_count": 3,
   "metadata": {
    "id": "oWTVX3gW_Zct"
   },
   "outputs": [
    {
     "data": {
      "text/html": [
       "<div>\n",
       "<style scoped>\n",
       "    .dataframe tbody tr th:only-of-type {\n",
       "        vertical-align: middle;\n",
       "    }\n",
       "\n",
       "    .dataframe tbody tr th {\n",
       "        vertical-align: top;\n",
       "    }\n",
       "\n",
       "    .dataframe thead th {\n",
       "        text-align: right;\n",
       "    }\n",
       "</style>\n",
       "<table border=\"1\" class=\"dataframe\">\n",
       "  <thead>\n",
       "    <tr style=\"text-align: right;\">\n",
       "      <th></th>\n",
       "      <th>userID</th>\n",
       "      <th>Track</th>\n",
       "      <th>artist</th>\n",
       "      <th>genre</th>\n",
       "      <th>City</th>\n",
       "      <th>time</th>\n",
       "      <th>Day</th>\n",
       "    </tr>\n",
       "  </thead>\n",
       "  <tbody>\n",
       "    <tr>\n",
       "      <td>0</td>\n",
       "      <td>FFB692EC</td>\n",
       "      <td>Kamigata To Boots</td>\n",
       "      <td>The Mass Missile</td>\n",
       "      <td>rock</td>\n",
       "      <td>Shelbyville</td>\n",
       "      <td>20:28:33</td>\n",
       "      <td>Wednesday</td>\n",
       "    </tr>\n",
       "    <tr>\n",
       "      <td>1</td>\n",
       "      <td>55204538</td>\n",
       "      <td>Delayed Because of Accident</td>\n",
       "      <td>Andreas Rönnberg</td>\n",
       "      <td>rock</td>\n",
       "      <td>Springfield</td>\n",
       "      <td>14:07:09</td>\n",
       "      <td>Friday</td>\n",
       "    </tr>\n",
       "    <tr>\n",
       "      <td>2</td>\n",
       "      <td>20EC38</td>\n",
       "      <td>Funiculì funiculà</td>\n",
       "      <td>Mario Lanza</td>\n",
       "      <td>pop</td>\n",
       "      <td>Shelbyville</td>\n",
       "      <td>20:58:07</td>\n",
       "      <td>Wednesday</td>\n",
       "    </tr>\n",
       "    <tr>\n",
       "      <td>3</td>\n",
       "      <td>A3DD03C9</td>\n",
       "      <td>Dragons in the Sunset</td>\n",
       "      <td>Fire + Ice</td>\n",
       "      <td>folk</td>\n",
       "      <td>Shelbyville</td>\n",
       "      <td>08:37:09</td>\n",
       "      <td>Monday</td>\n",
       "    </tr>\n",
       "    <tr>\n",
       "      <td>4</td>\n",
       "      <td>E2DC1FAE</td>\n",
       "      <td>Soul People</td>\n",
       "      <td>Space Echo</td>\n",
       "      <td>dance</td>\n",
       "      <td>Springfield</td>\n",
       "      <td>08:34:34</td>\n",
       "      <td>Monday</td>\n",
       "    </tr>\n",
       "    <tr>\n",
       "      <td>5</td>\n",
       "      <td>842029A1</td>\n",
       "      <td>Chains</td>\n",
       "      <td>Obladaet</td>\n",
       "      <td>rusrap</td>\n",
       "      <td>Shelbyville</td>\n",
       "      <td>13:09:41</td>\n",
       "      <td>Friday</td>\n",
       "    </tr>\n",
       "    <tr>\n",
       "      <td>6</td>\n",
       "      <td>4CB90AA5</td>\n",
       "      <td>True</td>\n",
       "      <td>Roman Messer</td>\n",
       "      <td>dance</td>\n",
       "      <td>Springfield</td>\n",
       "      <td>13:00:07</td>\n",
       "      <td>Wednesday</td>\n",
       "    </tr>\n",
       "    <tr>\n",
       "      <td>7</td>\n",
       "      <td>F03E1C1F</td>\n",
       "      <td>Feeling This Way</td>\n",
       "      <td>Polina Griffith</td>\n",
       "      <td>dance</td>\n",
       "      <td>Springfield</td>\n",
       "      <td>20:47:49</td>\n",
       "      <td>Wednesday</td>\n",
       "    </tr>\n",
       "    <tr>\n",
       "      <td>8</td>\n",
       "      <td>8FA1D3BE</td>\n",
       "      <td>L’estate</td>\n",
       "      <td>Julia Dalia</td>\n",
       "      <td>ruspop</td>\n",
       "      <td>Springfield</td>\n",
       "      <td>09:17:40</td>\n",
       "      <td>Friday</td>\n",
       "    </tr>\n",
       "    <tr>\n",
       "      <td>9</td>\n",
       "      <td>E772D5C0</td>\n",
       "      <td>Pessimist</td>\n",
       "      <td>NaN</td>\n",
       "      <td>dance</td>\n",
       "      <td>Shelbyville</td>\n",
       "      <td>21:20:49</td>\n",
       "      <td>Wednesday</td>\n",
       "    </tr>\n",
       "  </tbody>\n",
       "</table>\n",
       "</div>"
      ],
      "text/plain": [
       "     userID                        Track            artist   genre  \\\n",
       "0  FFB692EC            Kamigata To Boots  The Mass Missile    rock   \n",
       "1  55204538  Delayed Because of Accident  Andreas Rönnberg    rock   \n",
       "2    20EC38            Funiculì funiculà       Mario Lanza     pop   \n",
       "3  A3DD03C9        Dragons in the Sunset        Fire + Ice    folk   \n",
       "4  E2DC1FAE                  Soul People        Space Echo   dance   \n",
       "5  842029A1                       Chains          Obladaet  rusrap   \n",
       "6  4CB90AA5                         True      Roman Messer   dance   \n",
       "7  F03E1C1F             Feeling This Way   Polina Griffith   dance   \n",
       "8  8FA1D3BE                     L’estate       Julia Dalia  ruspop   \n",
       "9  E772D5C0                    Pessimist               NaN   dance   \n",
       "\n",
       "        City        time        Day  \n",
       "0  Shelbyville  20:28:33  Wednesday  \n",
       "1  Springfield  14:07:09     Friday  \n",
       "2  Shelbyville  20:58:07  Wednesday  \n",
       "3  Shelbyville  08:37:09     Monday  \n",
       "4  Springfield  08:34:34     Monday  \n",
       "5  Shelbyville  13:09:41     Friday  \n",
       "6  Springfield  13:00:07  Wednesday  \n",
       "7  Springfield  20:47:49  Wednesday  \n",
       "8  Springfield  09:17:40     Friday  \n",
       "9  Shelbyville  21:20:49  Wednesday  "
      ]
     },
     "execution_count": 3,
     "metadata": {},
     "output_type": "execute_result"
    }
   ],
   "source": [
    "df.head(10) # obtaining the first 10 rows from the df table"
   ]
  },
  {
   "cell_type": "markdown",
   "metadata": {
    "id": "EO73Kwic_Zct"
   },
   "source": [
    "Obtaining the general information about the table with one command:"
   ]
  },
  {
   "cell_type": "code",
   "execution_count": 4,
   "metadata": {
    "id": "DSf2kIb-_Zct"
   },
   "outputs": [
    {
     "data": {
      "text/html": [
       "<div>\n",
       "<style scoped>\n",
       "    .dataframe tbody tr th:only-of-type {\n",
       "        vertical-align: middle;\n",
       "    }\n",
       "\n",
       "    .dataframe tbody tr th {\n",
       "        vertical-align: top;\n",
       "    }\n",
       "\n",
       "    .dataframe thead th {\n",
       "        text-align: right;\n",
       "    }\n",
       "</style>\n",
       "<table border=\"1\" class=\"dataframe\">\n",
       "  <thead>\n",
       "    <tr style=\"text-align: right;\">\n",
       "      <th></th>\n",
       "      <th>userID</th>\n",
       "      <th>Track</th>\n",
       "      <th>artist</th>\n",
       "      <th>genre</th>\n",
       "      <th>City</th>\n",
       "      <th>time</th>\n",
       "      <th>Day</th>\n",
       "    </tr>\n",
       "  </thead>\n",
       "  <tbody>\n",
       "    <tr>\n",
       "      <td>count</td>\n",
       "      <td>65079</td>\n",
       "      <td>63736</td>\n",
       "      <td>57512</td>\n",
       "      <td>63881</td>\n",
       "      <td>65079</td>\n",
       "      <td>65079</td>\n",
       "      <td>65079</td>\n",
       "    </tr>\n",
       "    <tr>\n",
       "      <td>unique</td>\n",
       "      <td>41748</td>\n",
       "      <td>39666</td>\n",
       "      <td>37806</td>\n",
       "      <td>268</td>\n",
       "      <td>2</td>\n",
       "      <td>20392</td>\n",
       "      <td>3</td>\n",
       "    </tr>\n",
       "    <tr>\n",
       "      <td>top</td>\n",
       "      <td>A8AE9169</td>\n",
       "      <td>Brand</td>\n",
       "      <td>Kartvelli</td>\n",
       "      <td>pop</td>\n",
       "      <td>Springfield</td>\n",
       "      <td>21:51:22</td>\n",
       "      <td>Friday</td>\n",
       "    </tr>\n",
       "    <tr>\n",
       "      <td>freq</td>\n",
       "      <td>76</td>\n",
       "      <td>136</td>\n",
       "      <td>136</td>\n",
       "      <td>8850</td>\n",
       "      <td>45360</td>\n",
       "      <td>14</td>\n",
       "      <td>23149</td>\n",
       "    </tr>\n",
       "  </tbody>\n",
       "</table>\n",
       "</div>"
      ],
      "text/plain": [
       "          userID  Track     artist  genre       City        time     Day\n",
       "count      65079  63736      57512  63881        65079     65079   65079\n",
       "unique     41748  39666      37806    268            2     20392       3\n",
       "top     A8AE9169  Brand  Kartvelli    pop  Springfield  21:51:22  Friday\n",
       "freq          76    136        136   8850        45360        14   23149"
      ]
     },
     "execution_count": 4,
     "metadata": {},
     "output_type": "execute_result"
    }
   ],
   "source": [
    "df.describe(include= 'all') # obtaining general information about the data in df"
   ]
  },
  {
   "cell_type": "markdown",
   "metadata": {
    "id": "TaQ2Iwbr_Zct"
   },
   "source": [
    "The table contains seven columns. They all store the same data type: `object`.\n",
    "\n",
    "According to the documentation:\n",
    "- `'userID'` — user identifier\n",
    "- `'Track'` — track title\n",
    "- `'artist'` — artist's name\n",
    "- `'genre'`\n",
    "- `'City'` — user's city\n",
    "- `'time'` — the exact time the track was played\n",
    "- `'Day'` — day of the week\n",
    "\n",
    "We can see three issues with style in the column names:\n",
    "1. Some names are uppercase, some are lowercase.\n",
    "2. There are spaces in some names.\n",
    "3. If the name has several words, use snake_case.\n",
    "\n",
    "The number of column values is different. This means the data contains missing values.\n"
   ]
  },
  {
   "cell_type": "markdown",
   "metadata": {
    "id": "MCB6-dXG_Zct"
   },
   "source": [
    "### Conclusions <a id='data_review_conclusions'></a> \n",
    "\n",
    "Each row in the table stores data on a track that was played. Some columns describe the track itself: its title, artist and genre. The rest convey information about the user: the city they come from, the time they played the track. \n",
    "\n",
    "It's clear that the data is sufficient to test the hypotheses. However, there are missing values.\n",
    "\n",
    "To move forward, we need to preprocess the data."
   ]
  },
  {
   "cell_type": "markdown",
   "metadata": {
    "id": "3eL__vcwViOi"
   },
   "source": [
    "[Back to Contents](#back)"
   ]
  },
  {
   "cell_type": "markdown",
   "metadata": {
    "id": "SjYF6Ub9_Zct"
   },
   "source": [
    "## Stage 2. Data preprocessing <a id='data_preprocessing'></a>\n",
    "Correct the formatting in the column headers and deal with the missing values. Then, check whether there are duplicates in the data."
   ]
  },
  {
   "cell_type": "markdown",
   "metadata": {
    "id": "dIaKXr29_Zct"
   },
   "source": [
    "### Header style <a id='header_style'></a>\n",
    "Print the column header:"
   ]
  },
  {
   "cell_type": "code",
   "execution_count": 5,
   "metadata": {
    "id": "oKOTdF_Q_Zct"
   },
   "outputs": [
    {
     "data": {
      "text/plain": [
       "Index(['  userID', 'Track', 'artist', 'genre', '  City  ', 'time', 'Day'], dtype='object')"
      ]
     },
     "execution_count": 5,
     "metadata": {},
     "output_type": "execute_result"
    }
   ],
   "source": [
    "df.columns # the list of column names in the df table"
   ]
  },
  {
   "cell_type": "markdown",
   "metadata": {
    "id": "zj5534cv_Zct"
   },
   "source": [
    "Change column names according to the rules of good style:\n",
    "* If the name has several words, use snake_case\n",
    "* All characters must be lowercase\n",
    "* Delete spaces"
   ]
  },
  {
   "cell_type": "code",
   "execution_count": 6,
   "metadata": {
    "id": "ISlFqs5y_Zct"
   },
   "outputs": [],
   "source": [
    "df = df.rename(columns={\n",
    "    '  userID': 'user_id',\n",
    "    'Track': 'track',\n",
    "    '  City  ': 'city',\n",
    "    'Day': 'day'\n",
    "}) # renaming columns"
   ]
  },
  {
   "cell_type": "markdown",
   "metadata": {
    "id": "1dqbh00J_Zct"
   },
   "source": [
    "Check the result. Print the names of the columns once more:"
   ]
  },
  {
   "cell_type": "code",
   "execution_count": 7,
   "metadata": {
    "id": "d4NOAmTW_Zct"
   },
   "outputs": [
    {
     "data": {
      "text/plain": [
       "Index(['user_id', 'track', 'artist', 'genre', 'city', 'time', 'day'], dtype='object')"
      ]
     },
     "execution_count": 7,
     "metadata": {},
     "output_type": "execute_result"
    }
   ],
   "source": [
    "df.columns # checking result: the list of column names"
   ]
  },
  {
   "cell_type": "markdown",
   "metadata": {
    "id": "xYJk6ksJVpOl"
   },
   "source": [
    "[Back to Contents](#back)"
   ]
  },
  {
   "cell_type": "markdown",
   "metadata": {
    "id": "5ISfbcfY_Zct"
   },
   "source": [
    "### Missing values <a id='missing_values'></a>\n",
    "First, find the number of missing values in the table. To do so, use two `pandas` methods:"
   ]
  },
  {
   "cell_type": "code",
   "execution_count": 8,
   "metadata": {
    "id": "RskX29qr_Zct"
   },
   "outputs": [
    {
     "data": {
      "text/plain": [
       "user_id       0\n",
       "track      1343\n",
       "artist     7567\n",
       "genre      1198\n",
       "city          0\n",
       "time          0\n",
       "day           0\n",
       "dtype: int64"
      ]
     },
     "execution_count": 8,
     "metadata": {},
     "output_type": "execute_result"
    }
   ],
   "source": [
    "df.isna().sum() \n",
    "\n"
   ]
  },
  {
   "cell_type": "markdown",
   "metadata": {
    "id": "qubhgnlO_Zct"
   },
   "source": [
    "Not all missing values affect the research. For instance, the missing values in `track` and `artist` are not critical. You can simply replace them with clear markers.\n",
    "\n",
    "But missing values in `'genre'` can affect the comparison of music preferences in Springfield and Shelbyville. In real life, it would be useful to learn the reasons why the data is missing and try to make up for them. But we do not have that opportunity in this project. So you will have to:\n",
    "* Fill in these missing values with markers\n",
    "* Evaluate how much the missing values may affect your computations"
   ]
  },
  {
   "cell_type": "markdown",
   "metadata": {
    "id": "fSv2laPA_Zct"
   },
   "source": [
    "Replace the missing values in `'track'`, `'artist'`, and `'genre'` with the string `'unknown'`. To do this, create the `columns_to_replace` list, loop over it with `for`, and replace the missing values in each of the columns:"
   ]
  },
  {
   "cell_type": "code",
   "execution_count": 9,
   "metadata": {
    "id": "KplB5qWs_Zct"
   },
   "outputs": [],
   "source": [
    "columns_to_replace = ['artist', 'track', 'genre']\n",
    "\n",
    "for column in df[columns_to_replace]:\n",
    "    df[columns_to_replace] = df[columns_to_replace].fillna('unknown')\n",
    "\n",
    "# looping over column names and replacing missing values with 'unknown'"
   ]
  },
  {
   "cell_type": "markdown",
   "metadata": {
    "id": "Ilsm-MZo_Zct"
   },
   "source": [
    "Make sure the table contains no more missing values. Count the missing values again."
   ]
  },
  {
   "cell_type": "code",
   "execution_count": 10,
   "metadata": {
    "id": "Tq4nYRX4_Zct"
   },
   "outputs": [
    {
     "data": {
      "text/plain": [
       "user_id    0\n",
       "track      0\n",
       "artist     0\n",
       "genre      0\n",
       "city       0\n",
       "time       0\n",
       "day        0\n",
       "dtype: int64"
      ]
     },
     "execution_count": 10,
     "metadata": {},
     "output_type": "execute_result"
    }
   ],
   "source": [
    "df.isna().sum() # counting missing values"
   ]
  },
  {
   "cell_type": "markdown",
   "metadata": {
    "id": "74ZIBmq9VrsK"
   },
   "source": [
    "[Back to Contents](#back)"
   ]
  },
  {
   "cell_type": "markdown",
   "metadata": {
    "id": "BWKRtBJ3_Zct"
   },
   "source": [
    "### Duplicates <a id='duplicates'></a>\n",
    "Find the number of obvious duplicates in the table using one command:"
   ]
  },
  {
   "cell_type": "code",
   "execution_count": 11,
   "metadata": {
    "id": "36eES_S0_Zct"
   },
   "outputs": [
    {
     "data": {
      "text/plain": [
       "3826"
      ]
     },
     "execution_count": 11,
     "metadata": {},
     "output_type": "execute_result"
    }
   ],
   "source": [
    "df.duplicated().sum() # counting clear duplicates"
   ]
  },
  {
   "cell_type": "markdown",
   "metadata": {
    "id": "Ot25h6XR_Zct"
   },
   "source": [
    "Call the `pandas` method for getting rid of obvious duplicates:"
   ]
  },
  {
   "cell_type": "code",
   "execution_count": 12,
   "metadata": {
    "id": "exFHq6tt_Zct"
   },
   "outputs": [],
   "source": [
    "df = df.drop_duplicates() # removing obvious duplicates"
   ]
  },
  {
   "cell_type": "markdown",
   "metadata": {
    "id": "Im2YwBEG_Zct"
   },
   "source": [
    "Count obvious duplicates once more to make sure you have removed all of them:"
   ]
  },
  {
   "cell_type": "code",
   "execution_count": 13,
   "metadata": {
    "id": "-8PuNWQ0_Zct"
   },
   "outputs": [
    {
     "data": {
      "text/plain": [
       "0"
      ]
     },
     "execution_count": 13,
     "metadata": {},
     "output_type": "execute_result"
    }
   ],
   "source": [
    "df.duplicated().sum() # checking for duplicates"
   ]
  },
  {
   "cell_type": "markdown",
   "metadata": {
    "id": "QlFBsxAr_Zct"
   },
   "source": [
    "Now get rid of implicit duplicates in the `genre` column. For example, the name of a genre can be written in different ways. Such errors will also affect the result."
   ]
  },
  {
   "cell_type": "markdown",
   "metadata": {
    "id": "eSjWwsOh_Zct"
   },
   "source": [
    "Print a list of unique genre names, sorted in alphabetical order. To do so:\n",
    "* Retrieve the intended DataFrame column \n",
    "* Apply a sorting method to it\n",
    "* For the sorted column, call the method that will return all unique column values"
   ]
  },
  {
   "cell_type": "code",
   "execution_count": 14,
   "metadata": {
    "id": "JIUcqzZN_Zct"
   },
   "outputs": [
    {
     "data": {
      "text/plain": [
       "['acid',\n",
       " 'acoustic',\n",
       " 'action',\n",
       " 'adult',\n",
       " 'africa',\n",
       " 'afrikaans',\n",
       " 'alternative',\n",
       " 'ambient',\n",
       " 'americana',\n",
       " 'animated',\n",
       " 'anime',\n",
       " 'arabesk',\n",
       " 'arabic',\n",
       " 'arena',\n",
       " 'argentinetango',\n",
       " 'art',\n",
       " 'audiobook',\n",
       " 'avantgarde',\n",
       " 'axé',\n",
       " 'baile',\n",
       " 'balkan',\n",
       " 'beats',\n",
       " 'bigroom',\n",
       " 'black',\n",
       " 'bluegrass',\n",
       " 'blues',\n",
       " 'bollywood',\n",
       " 'bossa',\n",
       " 'brazilian',\n",
       " 'breakbeat',\n",
       " 'breaks',\n",
       " 'broadway',\n",
       " 'cantautori',\n",
       " 'cantopop',\n",
       " 'canzone',\n",
       " 'caribbean',\n",
       " 'caucasian',\n",
       " 'celtic',\n",
       " 'chamber',\n",
       " 'children',\n",
       " 'chill',\n",
       " 'chinese',\n",
       " 'choral',\n",
       " 'christian',\n",
       " 'christmas',\n",
       " 'classical',\n",
       " 'classicmetal',\n",
       " 'club',\n",
       " 'colombian',\n",
       " 'comedy',\n",
       " 'conjazz',\n",
       " 'contemporary',\n",
       " 'country',\n",
       " 'cuban',\n",
       " 'dance',\n",
       " 'dancehall',\n",
       " 'dancepop',\n",
       " 'dark',\n",
       " 'death',\n",
       " 'deep',\n",
       " 'deutschrock',\n",
       " 'deutschspr',\n",
       " 'dirty',\n",
       " 'disco',\n",
       " 'dnb',\n",
       " 'documentary',\n",
       " 'downbeat',\n",
       " 'downtempo',\n",
       " 'drum',\n",
       " 'dub',\n",
       " 'dubstep',\n",
       " 'eastern',\n",
       " 'easy',\n",
       " 'electronic',\n",
       " 'electropop',\n",
       " 'emo',\n",
       " 'entehno',\n",
       " 'epicmetal',\n",
       " 'estrada',\n",
       " 'ethnic',\n",
       " 'eurofolk',\n",
       " 'european',\n",
       " 'experimental',\n",
       " 'extrememetal',\n",
       " 'fado',\n",
       " 'film',\n",
       " 'fitness',\n",
       " 'flamenco',\n",
       " 'folk',\n",
       " 'folklore',\n",
       " 'folkmetal',\n",
       " 'folkrock',\n",
       " 'folktronica',\n",
       " 'forró',\n",
       " 'frankreich',\n",
       " 'französisch',\n",
       " 'french',\n",
       " 'funk',\n",
       " 'future',\n",
       " 'gangsta',\n",
       " 'garage',\n",
       " 'german',\n",
       " 'ghazal',\n",
       " 'gitarre',\n",
       " 'glitch',\n",
       " 'gospel',\n",
       " 'gothic',\n",
       " 'grime',\n",
       " 'grunge',\n",
       " 'gypsy',\n",
       " 'handsup',\n",
       " \"hard'n'heavy\",\n",
       " 'hardcore',\n",
       " 'hardstyle',\n",
       " 'hardtechno',\n",
       " 'hip',\n",
       " 'hip-hop',\n",
       " 'hiphop',\n",
       " 'historisch',\n",
       " 'holiday',\n",
       " 'hop',\n",
       " 'horror',\n",
       " 'house',\n",
       " 'idm',\n",
       " 'independent',\n",
       " 'indian',\n",
       " 'indie',\n",
       " 'indipop',\n",
       " 'industrial',\n",
       " 'inspirational',\n",
       " 'instrumental',\n",
       " 'international',\n",
       " 'irish',\n",
       " 'jam',\n",
       " 'japanese',\n",
       " 'jazz',\n",
       " 'jewish',\n",
       " 'jpop',\n",
       " 'jungle',\n",
       " 'k-pop',\n",
       " 'karadeniz',\n",
       " 'karaoke',\n",
       " 'kayokyoku',\n",
       " 'korean',\n",
       " 'laiko',\n",
       " 'latin',\n",
       " 'latino',\n",
       " 'leftfield',\n",
       " 'local',\n",
       " 'lounge',\n",
       " 'loungeelectronic',\n",
       " 'lovers',\n",
       " 'malaysian',\n",
       " 'mandopop',\n",
       " 'marschmusik',\n",
       " 'meditative',\n",
       " 'mediterranean',\n",
       " 'melodic',\n",
       " 'metal',\n",
       " 'metalcore',\n",
       " 'mexican',\n",
       " 'middle',\n",
       " 'minimal',\n",
       " 'miscellaneous',\n",
       " 'modern',\n",
       " 'mood',\n",
       " 'mpb',\n",
       " 'muslim',\n",
       " 'native',\n",
       " 'neoklassik',\n",
       " 'neue',\n",
       " 'new',\n",
       " 'newage',\n",
       " 'newwave',\n",
       " 'nu',\n",
       " 'nujazz',\n",
       " 'numetal',\n",
       " 'oceania',\n",
       " 'old',\n",
       " 'opera',\n",
       " 'orchestral',\n",
       " 'other',\n",
       " 'piano',\n",
       " 'pop',\n",
       " 'popelectronic',\n",
       " 'popeurodance',\n",
       " 'post',\n",
       " 'posthardcore',\n",
       " 'postrock',\n",
       " 'power',\n",
       " 'progmetal',\n",
       " 'progressive',\n",
       " 'psychedelic',\n",
       " 'punjabi',\n",
       " 'punk',\n",
       " 'quebecois',\n",
       " 'ragga',\n",
       " 'ram',\n",
       " 'rancheras',\n",
       " 'rap',\n",
       " 'rave',\n",
       " 'reggae',\n",
       " 'reggaeton',\n",
       " 'regional',\n",
       " 'relax',\n",
       " 'religious',\n",
       " 'retro',\n",
       " 'rhythm',\n",
       " 'rnb',\n",
       " 'rnr',\n",
       " 'rock',\n",
       " 'rockabilly',\n",
       " 'romance',\n",
       " 'roots',\n",
       " 'ruspop',\n",
       " 'rusrap',\n",
       " 'rusrock',\n",
       " 'salsa',\n",
       " 'samba',\n",
       " 'schlager',\n",
       " 'self',\n",
       " 'sertanejo',\n",
       " 'shoegazing',\n",
       " 'showtunes',\n",
       " 'singer',\n",
       " 'ska',\n",
       " 'slow',\n",
       " 'smooth',\n",
       " 'soul',\n",
       " 'soulful',\n",
       " 'sound',\n",
       " 'soundtrack',\n",
       " 'southern',\n",
       " 'specialty',\n",
       " 'speech',\n",
       " 'spiritual',\n",
       " 'sport',\n",
       " 'stonerrock',\n",
       " 'surf',\n",
       " 'swing',\n",
       " 'synthpop',\n",
       " 'sängerportrait',\n",
       " 'tango',\n",
       " 'tanzorchester',\n",
       " 'taraftar',\n",
       " 'tech',\n",
       " 'techno',\n",
       " 'thrash',\n",
       " 'top',\n",
       " 'traditional',\n",
       " 'tradjazz',\n",
       " 'trance',\n",
       " 'tribal',\n",
       " 'trip',\n",
       " 'triphop',\n",
       " 'tropical',\n",
       " 'türk',\n",
       " 'türkçe',\n",
       " 'unknown',\n",
       " 'urban',\n",
       " 'uzbek',\n",
       " 'variété',\n",
       " 'vi',\n",
       " 'videogame',\n",
       " 'vocal',\n",
       " 'western',\n",
       " 'world',\n",
       " 'worldbeat',\n",
       " 'ïîï']"
      ]
     },
     "execution_count": 14,
     "metadata": {},
     "output_type": "execute_result"
    }
   ],
   "source": [
    "sorted(df['genre'].unique()) # viewing unique genre names"
   ]
  },
  {
   "cell_type": "markdown",
   "metadata": {
    "id": "qej-Qmuo_Zct"
   },
   "source": [
    "Look through the list to find implicit duplicates of the genre `hiphop`. These could be names written incorrectly or alternative names of the same genre.\n",
    "\n",
    "You will see the following implicit duplicates:\n",
    "* `hip`\n",
    "* `hop`\n",
    "* `hip-hop`\n",
    "\n",
    "To get rid of them, declare the function `replace_wrong_genres()` with two parameters: \n",
    "* `wrong_genres=` — the list of duplicates\n",
    "* `correct_genre=` — the string with the correct value\n",
    "\n",
    "The function should correct the names in the `'genre'` column from the `df` table, i.e. replace each value from the `wrong_genres` list with the value in `correct_genre`."
   ]
  },
  {
   "cell_type": "code",
   "execution_count": 15,
   "metadata": {
    "id": "ErNDkmns_Zct"
   },
   "outputs": [],
   "source": [
    "def replace_wrong_genres(wrong_genres, correct_genre):\n",
    "    for wrong_genre in wrong_genres:\n",
    "        df['genre'] = df['genre'].replace(wrong_genre, correct_genre) # function for replacing implicit duplicates"
   ]
  },
  {
   "cell_type": "markdown",
   "metadata": {
    "id": "aDoBJxbA_Zct"
   },
   "source": [
    "Call `replace_wrong_genres()` and pass it arguments so that it clears implicit duplcates (`hip`, `hop`, and `hip-hop`) and replaces them with `hiphop`:"
   ]
  },
  {
   "cell_type": "code",
   "execution_count": 16,
   "metadata": {
    "id": "YN5i2hpmSo09"
   },
   "outputs": [],
   "source": [
    "duplicates = ['hip', 'hop', 'hip-hop']\n",
    "genre = 'hiphop'\n",
    "replace_wrong_genres(duplicates, genre) # removing implicit duplicates"
   ]
  },
  {
   "cell_type": "markdown",
   "metadata": {
    "id": "zQKF16_RG15m"
   },
   "source": [
    "Make sure the duplicate names were removed. Print the list of unique values from the `'genre'` column:"
   ]
  },
  {
   "cell_type": "code",
   "execution_count": 17,
   "metadata": {
    "id": "wvixALnFG15m"
   },
   "outputs": [
    {
     "data": {
      "text/plain": [
       "['acid',\n",
       " 'acoustic',\n",
       " 'action',\n",
       " 'adult',\n",
       " 'africa',\n",
       " 'afrikaans',\n",
       " 'alternative',\n",
       " 'ambient',\n",
       " 'americana',\n",
       " 'animated',\n",
       " 'anime',\n",
       " 'arabesk',\n",
       " 'arabic',\n",
       " 'arena',\n",
       " 'argentinetango',\n",
       " 'art',\n",
       " 'audiobook',\n",
       " 'avantgarde',\n",
       " 'axé',\n",
       " 'baile',\n",
       " 'balkan',\n",
       " 'beats',\n",
       " 'bigroom',\n",
       " 'black',\n",
       " 'bluegrass',\n",
       " 'blues',\n",
       " 'bollywood',\n",
       " 'bossa',\n",
       " 'brazilian',\n",
       " 'breakbeat',\n",
       " 'breaks',\n",
       " 'broadway',\n",
       " 'cantautori',\n",
       " 'cantopop',\n",
       " 'canzone',\n",
       " 'caribbean',\n",
       " 'caucasian',\n",
       " 'celtic',\n",
       " 'chamber',\n",
       " 'children',\n",
       " 'chill',\n",
       " 'chinese',\n",
       " 'choral',\n",
       " 'christian',\n",
       " 'christmas',\n",
       " 'classical',\n",
       " 'classicmetal',\n",
       " 'club',\n",
       " 'colombian',\n",
       " 'comedy',\n",
       " 'conjazz',\n",
       " 'contemporary',\n",
       " 'country',\n",
       " 'cuban',\n",
       " 'dance',\n",
       " 'dancehall',\n",
       " 'dancepop',\n",
       " 'dark',\n",
       " 'death',\n",
       " 'deep',\n",
       " 'deutschrock',\n",
       " 'deutschspr',\n",
       " 'dirty',\n",
       " 'disco',\n",
       " 'dnb',\n",
       " 'documentary',\n",
       " 'downbeat',\n",
       " 'downtempo',\n",
       " 'drum',\n",
       " 'dub',\n",
       " 'dubstep',\n",
       " 'eastern',\n",
       " 'easy',\n",
       " 'electronic',\n",
       " 'electropop',\n",
       " 'emo',\n",
       " 'entehno',\n",
       " 'epicmetal',\n",
       " 'estrada',\n",
       " 'ethnic',\n",
       " 'eurofolk',\n",
       " 'european',\n",
       " 'experimental',\n",
       " 'extrememetal',\n",
       " 'fado',\n",
       " 'film',\n",
       " 'fitness',\n",
       " 'flamenco',\n",
       " 'folk',\n",
       " 'folklore',\n",
       " 'folkmetal',\n",
       " 'folkrock',\n",
       " 'folktronica',\n",
       " 'forró',\n",
       " 'frankreich',\n",
       " 'französisch',\n",
       " 'french',\n",
       " 'funk',\n",
       " 'future',\n",
       " 'gangsta',\n",
       " 'garage',\n",
       " 'german',\n",
       " 'ghazal',\n",
       " 'gitarre',\n",
       " 'glitch',\n",
       " 'gospel',\n",
       " 'gothic',\n",
       " 'grime',\n",
       " 'grunge',\n",
       " 'gypsy',\n",
       " 'handsup',\n",
       " \"hard'n'heavy\",\n",
       " 'hardcore',\n",
       " 'hardstyle',\n",
       " 'hardtechno',\n",
       " 'hiphop',\n",
       " 'historisch',\n",
       " 'holiday',\n",
       " 'horror',\n",
       " 'house',\n",
       " 'idm',\n",
       " 'independent',\n",
       " 'indian',\n",
       " 'indie',\n",
       " 'indipop',\n",
       " 'industrial',\n",
       " 'inspirational',\n",
       " 'instrumental',\n",
       " 'international',\n",
       " 'irish',\n",
       " 'jam',\n",
       " 'japanese',\n",
       " 'jazz',\n",
       " 'jewish',\n",
       " 'jpop',\n",
       " 'jungle',\n",
       " 'k-pop',\n",
       " 'karadeniz',\n",
       " 'karaoke',\n",
       " 'kayokyoku',\n",
       " 'korean',\n",
       " 'laiko',\n",
       " 'latin',\n",
       " 'latino',\n",
       " 'leftfield',\n",
       " 'local',\n",
       " 'lounge',\n",
       " 'loungeelectronic',\n",
       " 'lovers',\n",
       " 'malaysian',\n",
       " 'mandopop',\n",
       " 'marschmusik',\n",
       " 'meditative',\n",
       " 'mediterranean',\n",
       " 'melodic',\n",
       " 'metal',\n",
       " 'metalcore',\n",
       " 'mexican',\n",
       " 'middle',\n",
       " 'minimal',\n",
       " 'miscellaneous',\n",
       " 'modern',\n",
       " 'mood',\n",
       " 'mpb',\n",
       " 'muslim',\n",
       " 'native',\n",
       " 'neoklassik',\n",
       " 'neue',\n",
       " 'new',\n",
       " 'newage',\n",
       " 'newwave',\n",
       " 'nu',\n",
       " 'nujazz',\n",
       " 'numetal',\n",
       " 'oceania',\n",
       " 'old',\n",
       " 'opera',\n",
       " 'orchestral',\n",
       " 'other',\n",
       " 'piano',\n",
       " 'pop',\n",
       " 'popelectronic',\n",
       " 'popeurodance',\n",
       " 'post',\n",
       " 'posthardcore',\n",
       " 'postrock',\n",
       " 'power',\n",
       " 'progmetal',\n",
       " 'progressive',\n",
       " 'psychedelic',\n",
       " 'punjabi',\n",
       " 'punk',\n",
       " 'quebecois',\n",
       " 'ragga',\n",
       " 'ram',\n",
       " 'rancheras',\n",
       " 'rap',\n",
       " 'rave',\n",
       " 'reggae',\n",
       " 'reggaeton',\n",
       " 'regional',\n",
       " 'relax',\n",
       " 'religious',\n",
       " 'retro',\n",
       " 'rhythm',\n",
       " 'rnb',\n",
       " 'rnr',\n",
       " 'rock',\n",
       " 'rockabilly',\n",
       " 'romance',\n",
       " 'roots',\n",
       " 'ruspop',\n",
       " 'rusrap',\n",
       " 'rusrock',\n",
       " 'salsa',\n",
       " 'samba',\n",
       " 'schlager',\n",
       " 'self',\n",
       " 'sertanejo',\n",
       " 'shoegazing',\n",
       " 'showtunes',\n",
       " 'singer',\n",
       " 'ska',\n",
       " 'slow',\n",
       " 'smooth',\n",
       " 'soul',\n",
       " 'soulful',\n",
       " 'sound',\n",
       " 'soundtrack',\n",
       " 'southern',\n",
       " 'specialty',\n",
       " 'speech',\n",
       " 'spiritual',\n",
       " 'sport',\n",
       " 'stonerrock',\n",
       " 'surf',\n",
       " 'swing',\n",
       " 'synthpop',\n",
       " 'sängerportrait',\n",
       " 'tango',\n",
       " 'tanzorchester',\n",
       " 'taraftar',\n",
       " 'tech',\n",
       " 'techno',\n",
       " 'thrash',\n",
       " 'top',\n",
       " 'traditional',\n",
       " 'tradjazz',\n",
       " 'trance',\n",
       " 'tribal',\n",
       " 'trip',\n",
       " 'triphop',\n",
       " 'tropical',\n",
       " 'türk',\n",
       " 'türkçe',\n",
       " 'unknown',\n",
       " 'urban',\n",
       " 'uzbek',\n",
       " 'variété',\n",
       " 'vi',\n",
       " 'videogame',\n",
       " 'vocal',\n",
       " 'western',\n",
       " 'world',\n",
       " 'worldbeat',\n",
       " 'ïîï']"
      ]
     },
     "execution_count": 17,
     "metadata": {},
     "output_type": "execute_result"
    }
   ],
   "source": [
    "sorted(df['genre'].unique())# checking for implicit duplicates"
   ]
  },
  {
   "cell_type": "markdown",
   "metadata": {
    "id": "ALgNbvF3VtPA"
   },
   "source": [
    "[Back to Contents](#back)"
   ]
  },
  {
   "cell_type": "markdown",
   "metadata": {
    "id": "jz6a9-7HQUDd"
   },
   "source": [
    "### Conclusions <a id='data_preprocessing_conclusions'></a>\n",
    "We detected three issues with the data:\n",
    "\n",
    "- Incorrect header styles\n",
    "- Missing values\n",
    "- Obvious and implicit duplicates\n",
    "\n",
    "The headers have been cleaned up to make processing the table simpler.\n",
    "\n",
    "All missing values have been replaced with `'unknown'`. But we still have to see whether the missing values in `'genre'` will affect our calculations.\n",
    "\n",
    "The absence of duplicates will make the results more precise and easier to understand.\n",
    "\n",
    "Now we can move on to testing hypotheses. "
   ]
  },
  {
   "cell_type": "markdown",
   "metadata": {
    "id": "eK1es74rVujj"
   },
   "source": [
    "[Back to Contents](#back)"
   ]
  },
  {
   "cell_type": "markdown",
   "metadata": {
    "id": "WttZHXH0SqKk"
   },
   "source": [
    "## Stage 3. Testing hypotheses <a id='hypotheses'></a>"
   ]
  },
  {
   "cell_type": "markdown",
   "metadata": {
    "id": "Im936VVi_Zcu"
   },
   "source": [
    "### Hypothesis 1: comparing user behavior in two cities <a id='activity'></a>"
   ]
  },
  {
   "cell_type": "markdown",
   "metadata": {
    "id": "nwt_MuaL_Zcu"
   },
   "source": [
    "According to the first hypothesis, users from Springfield and Shelbyville listen to music differently. Test this using the data on three days of the week: Monday, Wednesday, and Friday.\n",
    "\n",
    "* Divide the users into groups by city.\n",
    "* Compare how many tracks each group played on Monday, Wednesday, and Friday.\n"
   ]
  },
  {
   "cell_type": "markdown",
   "metadata": {
    "id": "8Dw_YMmT_Zcu"
   },
   "source": [
    "For the sake of practice, perform each computation separately. \n",
    "\n",
    "Evaluate user activity in each city. Group the data by city and find the number of songs played in each group.\n",
    "\n"
   ]
  },
  {
   "cell_type": "code",
   "execution_count": 18,
   "metadata": {
    "id": "0_Qs96oh_Zcu"
   },
   "outputs": [
    {
     "data": {
      "text/plain": [
       "city\n",
       "Shelbyville    18512\n",
       "Springfield    42741\n",
       "Name: track, dtype: int64"
      ]
     },
     "execution_count": 18,
     "metadata": {},
     "output_type": "execute_result"
    }
   ],
   "source": [
    "df.groupby('city')['track'].count() # Counting up the tracks played in each city"
   ]
  },
  {
   "cell_type": "markdown",
   "metadata": {
    "id": "dzli3w8o_Zcu"
   },
   "source": [
    "Springfield has more tracks played than Shelbyville. But that does not imply that citizens of Springfield listen to music more often. This city is simply bigger, and there are more users.\n",
    "\n",
    "Now group the data by day of the week and find the number of tracks played on Monday, Wednesday, and Friday.\n"
   ]
  },
  {
   "cell_type": "code",
   "execution_count": 19,
   "metadata": {
    "id": "uZMKjiJz_Zcu"
   },
   "outputs": [
    {
     "data": {
      "text/html": [
       "<div>\n",
       "<style scoped>\n",
       "    .dataframe tbody tr th:only-of-type {\n",
       "        vertical-align: middle;\n",
       "    }\n",
       "\n",
       "    .dataframe tbody tr th {\n",
       "        vertical-align: top;\n",
       "    }\n",
       "\n",
       "    .dataframe thead th {\n",
       "        text-align: right;\n",
       "    }\n",
       "</style>\n",
       "<table border=\"1\" class=\"dataframe\">\n",
       "  <thead>\n",
       "    <tr style=\"text-align: right;\">\n",
       "      <th></th>\n",
       "      <th>user_id</th>\n",
       "      <th>track</th>\n",
       "      <th>artist</th>\n",
       "      <th>genre</th>\n",
       "      <th>city</th>\n",
       "      <th>time</th>\n",
       "    </tr>\n",
       "    <tr>\n",
       "      <th>day</th>\n",
       "      <th></th>\n",
       "      <th></th>\n",
       "      <th></th>\n",
       "      <th></th>\n",
       "      <th></th>\n",
       "      <th></th>\n",
       "    </tr>\n",
       "  </thead>\n",
       "  <tbody>\n",
       "    <tr>\n",
       "      <td>Friday</td>\n",
       "      <td>21840</td>\n",
       "      <td>21840</td>\n",
       "      <td>21840</td>\n",
       "      <td>21840</td>\n",
       "      <td>21840</td>\n",
       "      <td>21840</td>\n",
       "    </tr>\n",
       "    <tr>\n",
       "      <td>Monday</td>\n",
       "      <td>21354</td>\n",
       "      <td>21354</td>\n",
       "      <td>21354</td>\n",
       "      <td>21354</td>\n",
       "      <td>21354</td>\n",
       "      <td>21354</td>\n",
       "    </tr>\n",
       "    <tr>\n",
       "      <td>Wednesday</td>\n",
       "      <td>18059</td>\n",
       "      <td>18059</td>\n",
       "      <td>18059</td>\n",
       "      <td>18059</td>\n",
       "      <td>18059</td>\n",
       "      <td>18059</td>\n",
       "    </tr>\n",
       "  </tbody>\n",
       "</table>\n",
       "</div>"
      ],
      "text/plain": [
       "           user_id  track  artist  genre   city   time\n",
       "day                                                   \n",
       "Friday       21840  21840   21840  21840  21840  21840\n",
       "Monday       21354  21354   21354  21354  21354  21354\n",
       "Wednesday    18059  18059   18059  18059  18059  18059"
      ]
     },
     "execution_count": 19,
     "metadata": {},
     "output_type": "execute_result"
    }
   ],
   "source": [
    "df.groupby('day').count() # Calculating tracks played on each of the three days"
   ]
  },
  {
   "cell_type": "markdown",
   "metadata": {
    "id": "cC2tNrlL_Zcu"
   },
   "source": [
    "Wednesday is the quietest day overall. But if we consider the two cities separately, we might come to a different conclusion."
   ]
  },
  {
   "cell_type": "markdown",
   "metadata": {
    "id": "POzs8bGa_Zcu"
   },
   "source": [
    "You have seen how grouping by city or day works. Now write a function that will group by both.\n",
    "\n",
    "Create the `number_tracks()` function to calculate the number of songs played for a given day and city. It will require two parameters:\n",
    "* day of the week\n",
    "* name of the city\n",
    "\n",
    "In the function, use a variable to store the rows from the original table, where:\n",
    "  * `'day'` column value is equal to the `day` parameter\n",
    "  * `'city'` column value is equal to the `city` parameter\n",
    "\n",
    "Apply consecutive filtering with logical indexing.\n",
    "\n",
    "Then calculate the `'user_id'` column values in the resulting table. Store the result to a new variable. Return this variable from the function."
   ]
  },
  {
   "cell_type": "code",
   "execution_count": 20,
   "metadata": {
    "id": "Nz3GdQB1_Zcu"
   },
   "outputs": [],
   "source": [
    "def number_tracks(day, city):\n",
    "    track_list = df[df['day'] == day]\n",
    "    track_list = track_list[track_list['city'] == city]\n",
    "    track_list_count = track_list['user_id'].count()\n",
    "    return track_list_count\n",
    "\n",
    "    # <creating the function number_tracks()>\n",
    "# We'll declare a function with two parameters: day=, city=.\n",
    "# Let the track_list variable store the df rows where\n",
    "# the value in the 'day' column is equal to the day= parameter and, at the same time, \n",
    "# the value in the 'city' column is equal to the city= parameter (apply consecutive filtering \n",
    "# with logical indexing).\n",
    "# Let the track_list_count variable store the number of 'user_id' column values in track_list\n",
    "# (found with the count() method).\n",
    "# Let the function return a number: the value of track_list_count.\n",
    "\n",
    "# The function counts tracked played for a certain city and day.\n",
    "# It first retrieves the rows with the intended day from the table,\n",
    "# then filters out the rows with the intended city from the result,\n",
    "# then finds the number of 'user_id' values in the filtered table,\n",
    "# then returns that number.\n",
    "# To see what it returns, wrap the function call in print()."
   ]
  },
  {
   "cell_type": "markdown",
   "metadata": {
    "id": "ytf7xFrFJQ2r"
   },
   "source": [
    "Call `number_tracks()` six times, changing the parameter values, so that you retrieve the data on both cities for each of the three days."
   ]
  },
  {
   "cell_type": "code",
   "execution_count": 21,
   "metadata": {
    "id": "rJcRATNQ_Zcu"
   },
   "outputs": [
    {
     "data": {
      "text/plain": [
       "15740"
      ]
     },
     "execution_count": 21,
     "metadata": {},
     "output_type": "execute_result"
    }
   ],
   "source": [
    "number_tracks('Monday', 'Springfield') # the number of songs played in Springfield on Monday"
   ]
  },
  {
   "cell_type": "code",
   "execution_count": 22,
   "metadata": {
    "id": "hq_ncZ5T_Zcu"
   },
   "outputs": [
    {
     "data": {
      "text/plain": [
       "5614"
      ]
     },
     "execution_count": 22,
     "metadata": {},
     "output_type": "execute_result"
    }
   ],
   "source": [
    "number_tracks('Monday', 'Shelbyville') # the number of songs played in Shelbyville on Monday"
   ]
  },
  {
   "cell_type": "code",
   "execution_count": 23,
   "metadata": {
    "id": "_NTy2VPU_Zcu"
   },
   "outputs": [
    {
     "data": {
      "text/plain": [
       "11056"
      ]
     },
     "execution_count": 23,
     "metadata": {},
     "output_type": "execute_result"
    }
   ],
   "source": [
    "number_tracks('Wednesday', 'Springfield')# the number of songs played in Springfield on Wednesday"
   ]
  },
  {
   "cell_type": "code",
   "execution_count": 24,
   "metadata": {
    "id": "j2y3TAwo_Zcu"
   },
   "outputs": [
    {
     "data": {
      "text/plain": [
       "7003"
      ]
     },
     "execution_count": 24,
     "metadata": {},
     "output_type": "execute_result"
    }
   ],
   "source": [
    "number_tracks('Wednesday', 'Shelbyville')# the number of songs played in Shelbyville on Wednesday"
   ]
  },
  {
   "cell_type": "code",
   "execution_count": 25,
   "metadata": {
    "id": "vYDw5u_K_Zcu"
   },
   "outputs": [
    {
     "data": {
      "text/plain": [
       "15945"
      ]
     },
     "execution_count": 25,
     "metadata": {},
     "output_type": "execute_result"
    }
   ],
   "source": [
    "number_tracks('Friday', 'Springfield')# the number of songs played in Springfield on Friday"
   ]
  },
  {
   "cell_type": "code",
   "execution_count": 26,
   "metadata": {
    "id": "8_yzFtW3_Zcu"
   },
   "outputs": [
    {
     "data": {
      "text/plain": [
       "5895"
      ]
     },
     "execution_count": 26,
     "metadata": {},
     "output_type": "execute_result"
    }
   ],
   "source": [
    "number_tracks('Friday', 'Shelbyville')# the number of songs played in Shelbyville on Friday"
   ]
  },
  {
   "cell_type": "markdown",
   "metadata": {
    "id": "7QXffbO-_Zcu"
   },
   "source": [
    "Use `pd.DataFrame` to create a table, where\n",
    "* Column names are: `['city', 'monday', 'wednesday', 'friday']`\n",
    "* The data is the results you got from `number_tracks()`"
   ]
  },
  {
   "cell_type": "code",
   "execution_count": 27,
   "metadata": {
    "id": "APAcLpOr_Zcu"
   },
   "outputs": [
    {
     "name": "stdout",
     "output_type": "stream",
     "text": [
      "          city monday wednesday friday\n",
      "0  Springfield  15740     11056  15945\n",
      "1  Shelbyville   5614      7003   5895\n"
     ]
    }
   ],
   "source": [
    "column_names = ['city', 'monday', 'wednesday', 'friday']\n",
    "city_day_data = [['Springfield', '15740', '11056', '15945'], ['Shelbyville', '5614', '7003', '5895']]\n",
    "city_day = pd.DataFrame(data=city_day_data, columns=column_names)\n",
    "print(city_day)"
   ]
  },
  {
   "cell_type": "markdown",
   "metadata": {
    "id": "-EgPIHYu_Zcu"
   },
   "source": [
    "**Conclusions**\n",
    "\n",
    "The data reveals differences in user behavior:\n",
    "\n",
    "- In Springfield, the number of songs played peaks on Mondays and Fridays, while on Wednesday there is a decrease in activity.\n",
    "- In Shelbyville, on the contrary, users listen to music more on Wednesday. User activity on Monday and Friday is smaller.\n",
    "\n",
    "So the first hypothesis seems to be correct."
   ]
  },
  {
   "cell_type": "markdown",
   "metadata": {
    "id": "p7nFQajCVw5B"
   },
   "source": [
    "[Back to Contents](#back)"
   ]
  },
  {
   "cell_type": "markdown",
   "metadata": {
    "id": "atZAxtq4_Zcu"
   },
   "source": [
    "### Hypothesis 2: music at the beginning and end of the week <a id='week'></a>"
   ]
  },
  {
   "cell_type": "markdown",
   "metadata": {
    "id": "eXrQqXFH_Zcu"
   },
   "source": [
    "According to the second hypothesis, on Monday morning and Friday night, citizens of Springfield listen to genres that differ from ones users from Shelbyville enjoy."
   ]
  },
  {
   "cell_type": "markdown",
   "metadata": {
    "id": "S8UcW6Hw_Zcu"
   },
   "source": [
    "Get tables (make sure that the name of your combined table matches the DataFrame given in the two code blocks below):\n",
    "* For Springfield — `spr_general`\n",
    "* For Shelbyville — `shel_general`"
   ]
  },
  {
   "cell_type": "code",
   "execution_count": 28,
   "metadata": {
    "id": "qeaFfM_P_Zcu",
    "pycharm": {
     "is_executing": true
    }
   },
   "outputs": [
    {
     "data": {
      "text/html": [
       "<div>\n",
       "<style scoped>\n",
       "    .dataframe tbody tr th:only-of-type {\n",
       "        vertical-align: middle;\n",
       "    }\n",
       "\n",
       "    .dataframe tbody tr th {\n",
       "        vertical-align: top;\n",
       "    }\n",
       "\n",
       "    .dataframe thead th {\n",
       "        text-align: right;\n",
       "    }\n",
       "</style>\n",
       "<table border=\"1\" class=\"dataframe\">\n",
       "  <thead>\n",
       "    <tr style=\"text-align: right;\">\n",
       "      <th></th>\n",
       "      <th>user_id</th>\n",
       "      <th>track</th>\n",
       "      <th>artist</th>\n",
       "      <th>genre</th>\n",
       "      <th>city</th>\n",
       "      <th>time</th>\n",
       "      <th>day</th>\n",
       "    </tr>\n",
       "  </thead>\n",
       "  <tbody>\n",
       "    <tr>\n",
       "      <td>1</td>\n",
       "      <td>55204538</td>\n",
       "      <td>Delayed Because of Accident</td>\n",
       "      <td>Andreas Rönnberg</td>\n",
       "      <td>rock</td>\n",
       "      <td>Springfield</td>\n",
       "      <td>14:07:09</td>\n",
       "      <td>Friday</td>\n",
       "    </tr>\n",
       "    <tr>\n",
       "      <td>4</td>\n",
       "      <td>E2DC1FAE</td>\n",
       "      <td>Soul People</td>\n",
       "      <td>Space Echo</td>\n",
       "      <td>dance</td>\n",
       "      <td>Springfield</td>\n",
       "      <td>08:34:34</td>\n",
       "      <td>Monday</td>\n",
       "    </tr>\n",
       "    <tr>\n",
       "      <td>6</td>\n",
       "      <td>4CB90AA5</td>\n",
       "      <td>True</td>\n",
       "      <td>Roman Messer</td>\n",
       "      <td>dance</td>\n",
       "      <td>Springfield</td>\n",
       "      <td>13:00:07</td>\n",
       "      <td>Wednesday</td>\n",
       "    </tr>\n",
       "    <tr>\n",
       "      <td>7</td>\n",
       "      <td>F03E1C1F</td>\n",
       "      <td>Feeling This Way</td>\n",
       "      <td>Polina Griffith</td>\n",
       "      <td>dance</td>\n",
       "      <td>Springfield</td>\n",
       "      <td>20:47:49</td>\n",
       "      <td>Wednesday</td>\n",
       "    </tr>\n",
       "    <tr>\n",
       "      <td>8</td>\n",
       "      <td>8FA1D3BE</td>\n",
       "      <td>L’estate</td>\n",
       "      <td>Julia Dalia</td>\n",
       "      <td>ruspop</td>\n",
       "      <td>Springfield</td>\n",
       "      <td>09:17:40</td>\n",
       "      <td>Friday</td>\n",
       "    </tr>\n",
       "    <tr>\n",
       "      <td>...</td>\n",
       "      <td>...</td>\n",
       "      <td>...</td>\n",
       "      <td>...</td>\n",
       "      <td>...</td>\n",
       "      <td>...</td>\n",
       "      <td>...</td>\n",
       "      <td>...</td>\n",
       "    </tr>\n",
       "    <tr>\n",
       "      <td>65073</td>\n",
       "      <td>83A474E7</td>\n",
       "      <td>I Worship Only What You Bleed</td>\n",
       "      <td>The Black Dahlia Murder</td>\n",
       "      <td>extrememetal</td>\n",
       "      <td>Springfield</td>\n",
       "      <td>21:07:12</td>\n",
       "      <td>Monday</td>\n",
       "    </tr>\n",
       "    <tr>\n",
       "      <td>65074</td>\n",
       "      <td>729CBB09</td>\n",
       "      <td>My Name</td>\n",
       "      <td>McLean</td>\n",
       "      <td>rnb</td>\n",
       "      <td>Springfield</td>\n",
       "      <td>13:32:28</td>\n",
       "      <td>Wednesday</td>\n",
       "    </tr>\n",
       "    <tr>\n",
       "      <td>65076</td>\n",
       "      <td>C5E3A0D5</td>\n",
       "      <td>Jalopiina</td>\n",
       "      <td>unknown</td>\n",
       "      <td>industrial</td>\n",
       "      <td>Springfield</td>\n",
       "      <td>20:09:26</td>\n",
       "      <td>Friday</td>\n",
       "    </tr>\n",
       "    <tr>\n",
       "      <td>65077</td>\n",
       "      <td>321D0506</td>\n",
       "      <td>Freight Train</td>\n",
       "      <td>Chas McDevitt</td>\n",
       "      <td>rock</td>\n",
       "      <td>Springfield</td>\n",
       "      <td>21:43:59</td>\n",
       "      <td>Friday</td>\n",
       "    </tr>\n",
       "    <tr>\n",
       "      <td>65078</td>\n",
       "      <td>3A64EF84</td>\n",
       "      <td>Tell Me Sweet Little Lies</td>\n",
       "      <td>Monica Lopez</td>\n",
       "      <td>country</td>\n",
       "      <td>Springfield</td>\n",
       "      <td>21:59:46</td>\n",
       "      <td>Friday</td>\n",
       "    </tr>\n",
       "  </tbody>\n",
       "</table>\n",
       "<p>42741 rows × 7 columns</p>\n",
       "</div>"
      ],
      "text/plain": [
       "        user_id                          track                   artist  \\\n",
       "1      55204538    Delayed Because of Accident         Andreas Rönnberg   \n",
       "4      E2DC1FAE                    Soul People               Space Echo   \n",
       "6      4CB90AA5                           True             Roman Messer   \n",
       "7      F03E1C1F               Feeling This Way          Polina Griffith   \n",
       "8      8FA1D3BE                       L’estate              Julia Dalia   \n",
       "...         ...                            ...                      ...   \n",
       "65073  83A474E7  I Worship Only What You Bleed  The Black Dahlia Murder   \n",
       "65074  729CBB09                        My Name                   McLean   \n",
       "65076  C5E3A0D5                      Jalopiina                  unknown   \n",
       "65077  321D0506                  Freight Train            Chas McDevitt   \n",
       "65078  3A64EF84      Tell Me Sweet Little Lies             Monica Lopez   \n",
       "\n",
       "              genre         city      time        day  \n",
       "1              rock  Springfield  14:07:09     Friday  \n",
       "4             dance  Springfield  08:34:34     Monday  \n",
       "6             dance  Springfield  13:00:07  Wednesday  \n",
       "7             dance  Springfield  20:47:49  Wednesday  \n",
       "8            ruspop  Springfield  09:17:40     Friday  \n",
       "...             ...          ...       ...        ...  \n",
       "65073  extrememetal  Springfield  21:07:12     Monday  \n",
       "65074           rnb  Springfield  13:32:28  Wednesday  \n",
       "65076    industrial  Springfield  20:09:26     Friday  \n",
       "65077          rock  Springfield  21:43:59     Friday  \n",
       "65078       country  Springfield  21:59:46     Friday  \n",
       "\n",
       "[42741 rows x 7 columns]"
      ]
     },
     "metadata": {},
     "output_type": "display_data"
    }
   ],
   "source": [
    "spr_general = df[(df['city'] == 'Springfield')]\n",
    "display(spr_general)\n",
    "# create the spr_general table from the df rows, \n",
    "# where the value in the 'city' column is 'Springfield'\n",
    "\n"
   ]
  },
  {
   "cell_type": "code",
   "execution_count": 29,
   "metadata": {
    "id": "ORaVRKto_Zcu"
   },
   "outputs": [
    {
     "data": {
      "text/html": [
       "<div>\n",
       "<style scoped>\n",
       "    .dataframe tbody tr th:only-of-type {\n",
       "        vertical-align: middle;\n",
       "    }\n",
       "\n",
       "    .dataframe tbody tr th {\n",
       "        vertical-align: top;\n",
       "    }\n",
       "\n",
       "    .dataframe thead th {\n",
       "        text-align: right;\n",
       "    }\n",
       "</style>\n",
       "<table border=\"1\" class=\"dataframe\">\n",
       "  <thead>\n",
       "    <tr style=\"text-align: right;\">\n",
       "      <th></th>\n",
       "      <th>user_id</th>\n",
       "      <th>track</th>\n",
       "      <th>artist</th>\n",
       "      <th>genre</th>\n",
       "      <th>city</th>\n",
       "      <th>time</th>\n",
       "      <th>day</th>\n",
       "    </tr>\n",
       "  </thead>\n",
       "  <tbody>\n",
       "    <tr>\n",
       "      <td>0</td>\n",
       "      <td>FFB692EC</td>\n",
       "      <td>Kamigata To Boots</td>\n",
       "      <td>The Mass Missile</td>\n",
       "      <td>rock</td>\n",
       "      <td>Shelbyville</td>\n",
       "      <td>20:28:33</td>\n",
       "      <td>Wednesday</td>\n",
       "    </tr>\n",
       "    <tr>\n",
       "      <td>2</td>\n",
       "      <td>20EC38</td>\n",
       "      <td>Funiculì funiculà</td>\n",
       "      <td>Mario Lanza</td>\n",
       "      <td>pop</td>\n",
       "      <td>Shelbyville</td>\n",
       "      <td>20:58:07</td>\n",
       "      <td>Wednesday</td>\n",
       "    </tr>\n",
       "    <tr>\n",
       "      <td>3</td>\n",
       "      <td>A3DD03C9</td>\n",
       "      <td>Dragons in the Sunset</td>\n",
       "      <td>Fire + Ice</td>\n",
       "      <td>folk</td>\n",
       "      <td>Shelbyville</td>\n",
       "      <td>08:37:09</td>\n",
       "      <td>Monday</td>\n",
       "    </tr>\n",
       "    <tr>\n",
       "      <td>5</td>\n",
       "      <td>842029A1</td>\n",
       "      <td>Chains</td>\n",
       "      <td>Obladaet</td>\n",
       "      <td>rusrap</td>\n",
       "      <td>Shelbyville</td>\n",
       "      <td>13:09:41</td>\n",
       "      <td>Friday</td>\n",
       "    </tr>\n",
       "    <tr>\n",
       "      <td>9</td>\n",
       "      <td>E772D5C0</td>\n",
       "      <td>Pessimist</td>\n",
       "      <td>unknown</td>\n",
       "      <td>dance</td>\n",
       "      <td>Shelbyville</td>\n",
       "      <td>21:20:49</td>\n",
       "      <td>Wednesday</td>\n",
       "    </tr>\n",
       "    <tr>\n",
       "      <td>...</td>\n",
       "      <td>...</td>\n",
       "      <td>...</td>\n",
       "      <td>...</td>\n",
       "      <td>...</td>\n",
       "      <td>...</td>\n",
       "      <td>...</td>\n",
       "      <td>...</td>\n",
       "    </tr>\n",
       "    <tr>\n",
       "      <td>65063</td>\n",
       "      <td>D94F810B</td>\n",
       "      <td>Theme from the Walking Dead</td>\n",
       "      <td>Proyecto Halloween</td>\n",
       "      <td>film</td>\n",
       "      <td>Shelbyville</td>\n",
       "      <td>21:14:40</td>\n",
       "      <td>Monday</td>\n",
       "    </tr>\n",
       "    <tr>\n",
       "      <td>65064</td>\n",
       "      <td>BC8EC5CF</td>\n",
       "      <td>Red Lips: Gta (Rover Rework)</td>\n",
       "      <td>Rover</td>\n",
       "      <td>electronic</td>\n",
       "      <td>Shelbyville</td>\n",
       "      <td>21:06:50</td>\n",
       "      <td>Monday</td>\n",
       "    </tr>\n",
       "    <tr>\n",
       "      <td>65065</td>\n",
       "      <td>29E04611</td>\n",
       "      <td>Bre Petrunko</td>\n",
       "      <td>Perunika Trio</td>\n",
       "      <td>world</td>\n",
       "      <td>Shelbyville</td>\n",
       "      <td>13:56:00</td>\n",
       "      <td>Monday</td>\n",
       "    </tr>\n",
       "    <tr>\n",
       "      <td>65066</td>\n",
       "      <td>1B91C621</td>\n",
       "      <td>(Hello) Cloud Mountain</td>\n",
       "      <td>sleepmakeswaves</td>\n",
       "      <td>postrock</td>\n",
       "      <td>Shelbyville</td>\n",
       "      <td>09:22:13</td>\n",
       "      <td>Monday</td>\n",
       "    </tr>\n",
       "    <tr>\n",
       "      <td>65075</td>\n",
       "      <td>D08D4A55</td>\n",
       "      <td>Maybe One Day (feat. Black Spade)</td>\n",
       "      <td>Blu &amp; Exile</td>\n",
       "      <td>hiphop</td>\n",
       "      <td>Shelbyville</td>\n",
       "      <td>10:00:00</td>\n",
       "      <td>Monday</td>\n",
       "    </tr>\n",
       "  </tbody>\n",
       "</table>\n",
       "<p>18512 rows × 7 columns</p>\n",
       "</div>"
      ],
      "text/plain": [
       "        user_id                              track              artist  \\\n",
       "0      FFB692EC                  Kamigata To Boots    The Mass Missile   \n",
       "2        20EC38                  Funiculì funiculà         Mario Lanza   \n",
       "3      A3DD03C9              Dragons in the Sunset          Fire + Ice   \n",
       "5      842029A1                             Chains            Obladaet   \n",
       "9      E772D5C0                          Pessimist             unknown   \n",
       "...         ...                                ...                 ...   \n",
       "65063  D94F810B        Theme from the Walking Dead  Proyecto Halloween   \n",
       "65064  BC8EC5CF       Red Lips: Gta (Rover Rework)               Rover   \n",
       "65065  29E04611                       Bre Petrunko       Perunika Trio   \n",
       "65066  1B91C621             (Hello) Cloud Mountain     sleepmakeswaves   \n",
       "65075  D08D4A55  Maybe One Day (feat. Black Spade)         Blu & Exile   \n",
       "\n",
       "            genre         city      time        day  \n",
       "0            rock  Shelbyville  20:28:33  Wednesday  \n",
       "2             pop  Shelbyville  20:58:07  Wednesday  \n",
       "3            folk  Shelbyville  08:37:09     Monday  \n",
       "5          rusrap  Shelbyville  13:09:41     Friday  \n",
       "9           dance  Shelbyville  21:20:49  Wednesday  \n",
       "...           ...          ...       ...        ...  \n",
       "65063        film  Shelbyville  21:14:40     Monday  \n",
       "65064  electronic  Shelbyville  21:06:50     Monday  \n",
       "65065       world  Shelbyville  13:56:00     Monday  \n",
       "65066    postrock  Shelbyville  09:22:13     Monday  \n",
       "65075      hiphop  Shelbyville  10:00:00     Monday  \n",
       "\n",
       "[18512 rows x 7 columns]"
      ]
     },
     "metadata": {},
     "output_type": "display_data"
    }
   ],
   "source": [
    "shel_general = df[(df['city'] == 'Shelbyville')]\n",
    "display(shel_general)\n",
    "# create the shel_general from the df rows,\n",
    "# where the value in the 'city' column is 'Shelbyville'\n"
   ]
  },
  {
   "cell_type": "markdown",
   "metadata": {
    "id": "MEJV-CX2_Zcu"
   },
   "source": [
    "Write the `genre_weekday()` function with four parameters:\n",
    "* A table for data (`df`)\n",
    "* The day of the week (`day`)\n",
    "* The first timestamp, in 'hh:mm' format (`time1`)\n",
    "* The last timestamp, in 'hh:mm' format (`time2`)\n",
    "\n",
    "The function should return info on the 15 most popular genres on a given day within the period between the two timestamps."
   ]
  },
  {
   "cell_type": "code",
   "execution_count": 30,
   "metadata": {
    "id": "laJT9BYl_Zcu"
   },
   "outputs": [],
   "source": [
    "# 1) Let the genre_df variable store the rows that meet several conditions:\n",
    "#    - the value in the 'day' column is equal to the value of the day= argument\n",
    "#    - the value in the 'time' column is greater than the value of the time1= argument\n",
    "#    - the value in the 'time' column is smaller than the value of the time2= argument\n",
    "#    Use consecutive filtering with logical indexing.\n",
    "\n",
    "# 2) Group genre_df by the 'genre' column, take one of its columns, \n",
    "#    and use the count() method to find the number of entries for each of \n",
    "#    the represented genres; store the resulting Series to the\n",
    "#    genre_df_count variable\n",
    "\n",
    "# 3) Sort genre_df_count in descending order of frequency and store the result\n",
    "#    to the genre_df_sorted variable\n",
    "\n",
    "# 4) Return a Series object with the first 15 genre_df_sorted value - the 15 most\n",
    "#    popular genres (on a given day, within a certain timeframe)\n",
    "\n",
    "def genre_weekday(df, day, time1, time2):\n",
    "    # Write your function here\n",
    "\n",
    "    # consecutive filtering\n",
    "    # Create the variable genre_df which will store only those df rows where the day is equal to day=\n",
    "    genre_df = df[df['day'] == day] # write your code here\n",
    "\n",
    "    # filter again so that genre_df will store only those rows where the time is smaller than time2=\n",
    "    genre_df = genre_df[genre_df['time'] <= time2] # write your code here\n",
    "\n",
    "    # filter once more so that genre_df will store only rows where the time is greater than time1=\n",
    "    genre_df = genre_df[genre_df['time'] >= time1] # write your code here\n",
    "\n",
    "    # group the filtered DataFrame by the column with the names of genres, take the genre column, and find the number of rows for each genre with the count() method\n",
    "    genre_df_count = genre_df.groupby('genre')['artist'].count() # write your code here\n",
    "\n",
    "    # sort the result in descending order (so that the most popular genres come first in the Series object)\n",
    "    genre_df_sorted = genre_df_count.sort_values(ascending = False) # write your code here\n",
    "\n",
    "    # we will return the Series object storing the 15 most popular genres on a given day in a given timeframe\n",
    "    return genre_df_sorted[:15]"
   ]
  },
  {
   "cell_type": "markdown",
   "metadata": {
    "id": "la2s2_PF_Zcu"
   },
   "source": [
    "Compare the results of the `genre_weekday()` function for Springfield and Shelbyville on Monday morning (from 7AM to 11AM) and on Friday evening (from 17:00 to 23:00):"
   ]
  },
  {
   "cell_type": "code",
   "execution_count": 31,
   "metadata": {
    "id": "yz7itPUQ_Zcu"
   },
   "outputs": [
    {
     "data": {
      "text/plain": [
       "genre\n",
       "pop            781\n",
       "dance          549\n",
       "electronic     480\n",
       "rock           474\n",
       "hiphop         286\n",
       "ruspop         186\n",
       "world          181\n",
       "rusrap         175\n",
       "alternative    164\n",
       "unknown        161\n",
       "classical      157\n",
       "metal          120\n",
       "jazz           100\n",
       "folk            97\n",
       "soundtrack      95\n",
       "Name: artist, dtype: int64"
      ]
     },
     "execution_count": 31,
     "metadata": {},
     "output_type": "execute_result"
    }
   ],
   "source": [
    "genre_weekday(spr_general, 'Monday', '07:00', '11:00') # calling the function for Monday morning in Springfield (use spr_general instead of the df table)\n"
   ]
  },
  {
   "cell_type": "code",
   "execution_count": 32,
   "metadata": {
    "id": "kwUcHPdy_Zcu"
   },
   "outputs": [
    {
     "data": {
      "text/plain": [
       "genre\n",
       "pop            218\n",
       "dance          182\n",
       "rock           162\n",
       "electronic     147\n",
       "hiphop          80\n",
       "ruspop          64\n",
       "alternative     58\n",
       "rusrap          55\n",
       "jazz            44\n",
       "classical       40\n",
       "world           36\n",
       "rap             32\n",
       "soundtrack      31\n",
       "metal           27\n",
       "rnb             27\n",
       "Name: artist, dtype: int64"
      ]
     },
     "execution_count": 32,
     "metadata": {},
     "output_type": "execute_result"
    }
   ],
   "source": [
    "genre_weekday(shel_general, 'Monday', '07:00', '11:00')# calling the function for Monday morning in Shelbyville (use shel_general instead of the df table)\n"
   ]
  },
  {
   "cell_type": "code",
   "execution_count": 33,
   "metadata": {
    "id": "EzXVRE1o_Zcu"
   },
   "outputs": [
    {
     "data": {
      "text/plain": [
       "genre\n",
       "pop            713\n",
       "rock           517\n",
       "dance          495\n",
       "electronic     482\n",
       "hiphop         273\n",
       "world          208\n",
       "ruspop         170\n",
       "classical      163\n",
       "alternative    163\n",
       "rusrap         142\n",
       "jazz           111\n",
       "unknown        110\n",
       "soundtrack     105\n",
       "rnb             90\n",
       "metal           88\n",
       "Name: artist, dtype: int64"
      ]
     },
     "execution_count": 33,
     "metadata": {},
     "output_type": "execute_result"
    }
   ],
   "source": [
    "genre_weekday(spr_general, 'Friday', '17:00', '23:00')# calling the function for Friday evening in Springfield\n"
   ]
  },
  {
   "cell_type": "code",
   "execution_count": 34,
   "metadata": {
    "id": "JZaEKu5v_Zcu"
   },
   "outputs": [
    {
     "data": {
      "text/plain": [
       "genre\n",
       "pop            256\n",
       "rock           216\n",
       "electronic     216\n",
       "dance          210\n",
       "hiphop          97\n",
       "alternative     63\n",
       "jazz            61\n",
       "classical       60\n",
       "rusrap          59\n",
       "world           54\n",
       "ruspop          47\n",
       "unknown         47\n",
       "soundtrack      40\n",
       "metal           39\n",
       "rap             36\n",
       "Name: artist, dtype: int64"
      ]
     },
     "execution_count": 34,
     "metadata": {},
     "output_type": "execute_result"
    }
   ],
   "source": [
    "genre_weekday(shel_general, 'Friday', '17:00', '23:00')# calling the function for Friday evening in Shelbyville\n"
   ]
  },
  {
   "cell_type": "markdown",
   "metadata": {
    "id": "wrCe4MNX_Zcu"
   },
   "source": [
    "**Conclusion**\n",
    "\n",
    "Having compared the top 15 genres on Monday morning, we can draw the following conclusions:\n",
    "\n",
    "1. Users from Springfield and Shelbyville listen to similar music. The top five genres are the same, only rock and electronic have switched places.\n",
    "\n",
    "2. In Springfield, the number of missing values turned out to be so big that the value `'unknown'` came in 10th. This means that missing values make up a considerable portion of the data, which may be a basis for questioning the reliability of our conclusions.\n",
    "\n",
    "For Friday evening, the situation is similar. Individual genres vary somewhat, but on the whole, the top 15 is similar for the two cities.\n",
    "\n",
    "Thus, the second hypothesis has been partially proven true:\n",
    "* Users listen to similar music at the beginning and end of the week.\n",
    "* There is no major difference between Springfield and Shelbyville. In both cities, pop is the most popular genre.\n",
    "\n",
    "However, the number of missing values makes this result questionable. In Springfield, there are so many that they affect our top 15. Were we not missing these values, things might look different."
   ]
  },
  {
   "cell_type": "markdown",
   "metadata": {
    "id": "jLmXgdanVyhP"
   },
   "source": [
    "[Back to Contents](#back)"
   ]
  },
  {
   "cell_type": "markdown",
   "metadata": {
    "id": "JolODAqr_Zcu"
   },
   "source": [
    "### Hypothesis 3: genre preferences in Springfield and Shelbyville <a id='genre'></a>\n",
    "\n",
    "Hypothesis: Shelbyville loves rap music. Springfield's citizens are more into pop."
   ]
  },
  {
   "cell_type": "markdown",
   "metadata": {
    "id": "DlegSvaT_Zcu"
   },
   "source": [
    "Group the `spr_general` table by genre and find the number of songs played for each genre with the `count()` method. Then sort the result in descending order and store it to `spr_genres`."
   ]
  },
  {
   "cell_type": "code",
   "execution_count": 35,
   "metadata": {
    "id": "r19lIPke_Zcu"
   },
   "outputs": [],
   "source": [
    "spr_genres = spr_general.groupby('genre')['genre'].count().sort_values(ascending = False)# on one line: group the spr_general table by the 'genre' column, \n",
    "# count the 'genre' values with count() in the grouping, \n",
    "# sort the resulting Series in descending order, and store it to spr_genres"
   ]
  },
  {
   "cell_type": "markdown",
   "metadata": {
    "id": "6kMuomxTiIr8"
   },
   "source": [
    "Print the first 10 rows from `spr_genres`:"
   ]
  },
  {
   "cell_type": "code",
   "execution_count": 36,
   "metadata": {
    "id": "WhCSooF8_Zcv"
   },
   "outputs": [
    {
     "data": {
      "text/plain": [
       "genre\n",
       "pop            5892\n",
       "dance          4435\n",
       "rock           3965\n",
       "electronic     3786\n",
       "hiphop         2096\n",
       "classical      1616\n",
       "world          1432\n",
       "alternative    1379\n",
       "ruspop         1372\n",
       "rusrap         1161\n",
       "Name: genre, dtype: int64"
      ]
     },
     "execution_count": 36,
     "metadata": {},
     "output_type": "execute_result"
    }
   ],
   "source": [
    "spr_genres.head(10) # printing the first 10 rows of spr_genres"
   ]
  },
  {
   "cell_type": "markdown",
   "metadata": {
    "id": "cnPG2vnN_Zcv"
   },
   "source": [
    "Now do the same with the data on Shelbyville.\n",
    "\n",
    "Group the `shel_general` table by genre and find the number of songs played for each genre. Then sort the result in descending order and store it to the `shel_genres` table:\n"
   ]
  },
  {
   "cell_type": "code",
   "execution_count": 37,
   "metadata": {
    "id": "gluLIpE7_Zcv"
   },
   "outputs": [],
   "source": [
    "shel_genres = shel_general.groupby('genre')['genre'].count().sort_values(ascending = False)# on one line: group the shel_general table by the 'genre' column, \n",
    "# count the 'genre' values in the grouping with count(), \n",
    "# sort the resulting Series in descending order and store it to shel_genres"
   ]
  },
  {
   "cell_type": "markdown",
   "metadata": {
    "id": "5Doha_ODgyQ8"
   },
   "source": [
    "Print the first 10 rows of `shel_genres`:"
   ]
  },
  {
   "cell_type": "code",
   "execution_count": 38,
   "metadata": {
    "id": "uaGJHjVU_Zcv"
   },
   "outputs": [
    {
     "data": {
      "text/plain": [
       "genre\n",
       "pop            2431\n",
       "dance          1932\n",
       "rock           1879\n",
       "electronic     1736\n",
       "hiphop          960\n",
       "alternative     649\n",
       "classical       646\n",
       "rusrap          564\n",
       "ruspop          538\n",
       "world           515\n",
       "Name: genre, dtype: int64"
      ]
     },
     "execution_count": 38,
     "metadata": {},
     "output_type": "execute_result"
    }
   ],
   "source": [
    "shel_genres.head(10) # printing the first 10 rows from shel_genres"
   ]
  },
  {
   "cell_type": "markdown",
   "metadata": {
    "id": "RY51YJYu_Zcv"
   },
   "source": [
    "**Conclusion**"
   ]
  },
  {
   "cell_type": "markdown",
   "metadata": {
    "id": "nVhnJEm__Zcv"
   },
   "source": [
    "The hypothesis has been partially proven true:\n",
    "* Pop music is the most popular genre in Springfield, as expected.\n",
    "* However, pop music turned out to be equally popular in Springfield and Shelbyville, and rap wasn't in the top 5 for either city.\n"
   ]
  },
  {
   "cell_type": "markdown",
   "metadata": {
    "id": "Byr0RfpPVz14"
   },
   "source": [
    "[Back to Contents](#back)"
   ]
  },
  {
   "cell_type": "markdown",
   "metadata": {
    "id": "ykKQ0N65_Zcv"
   },
   "source": [
    "# Findings <a id='end'></a>"
   ]
  },
  {
   "cell_type": "markdown",
   "metadata": {
    "id": "tjUwbHb3_Zcv"
   },
   "source": [
    "We have tested the following three hypotheses:\n",
    "\n",
    "1. User activity differs depending on the day of the week and from city to city. \n",
    "2. On Monday mornings, Springfield and Shelbyville residents listen to different genres. This is also true for Friday evenings. \n",
    "3. Springfield and Shelbyville listeners have different preferences. In both Springfield and Shelbyville, they prefer pop.\n",
    "\n",
    "After analyzing the data, we concluded:\n",
    "\n",
    "1. User activity in Springfield and Shelbyville depends on the day of the week, though the cities vary in different ways. \n",
    "\n",
    "The first hypothesis is fully accepted.\n",
    "\n",
    "2. Musical preferences do not vary significantly over the course of the week in both Springfield and Shelbyville. We can see small differences in order on Mondays, but:\n",
    "* In Springfield and Shelbyville, people listen to pop music most.\n",
    "\n",
    "So we can't accept this hypothesis. We must also keep in mind that the result could have been different if not for the missing values.\n",
    "\n",
    "3. It turns out that the musical preferences of users from Springfield and Shelbyville are quite similar.\n",
    "\n",
    "The third hypothesis is rejected. If there is any difference in preferences, it cannot be seen from this data.\n",
    "\n",
    "### Note \n",
    "In real projects, research involves statistical hypothesis testing, which is more precise and more quantitative. Also note that you cannot always draw conclusions about an entire city based on the data from just one source.\n",
    "\n",
    "You will study hypothesis testing in the sprint on statistical data analysis."
   ]
  },
  {
   "cell_type": "markdown",
   "metadata": {
    "id": "Ju4AHDSgV1FE"
   },
   "source": [
    "[Back to Contents](#back)"
   ]
  },
  {
   "cell_type": "code",
   "execution_count": null,
   "metadata": {},
   "outputs": [],
   "source": []
  }
 ],
 "metadata": {
  "ExecuteTimeLog": [
   {
    "duration": 676,
    "start_time": "2022-01-26T05:37:31.774Z"
   },
   {
    "duration": 697,
    "start_time": "2022-01-26T05:44:30.056Z"
   },
   {
    "duration": 313,
    "start_time": "2022-01-26T05:46:57.368Z"
   },
   {
    "duration": 402,
    "start_time": "2022-01-26T05:48:16.078Z"
   },
   {
    "duration": 184,
    "start_time": "2022-01-26T05:48:24.264Z"
   },
   {
    "duration": 180,
    "start_time": "2022-01-26T05:48:27.926Z"
   },
   {
    "duration": 3,
    "start_time": "2022-01-26T05:48:32.470Z"
   },
   {
    "duration": 179,
    "start_time": "2022-01-26T05:48:45.334Z"
   },
   {
    "duration": 3,
    "start_time": "2022-01-26T05:48:47.740Z"
   },
   {
    "duration": 197,
    "start_time": "2022-01-26T05:49:15.108Z"
   },
   {
    "duration": 156,
    "start_time": "2022-01-26T05:49:38.374Z"
   },
   {
    "duration": 16,
    "start_time": "2022-01-26T05:49:55.995Z"
   },
   {
    "duration": 16,
    "start_time": "2022-01-26T05:50:22.868Z"
   },
   {
    "duration": 15,
    "start_time": "2022-01-26T05:50:29.843Z"
   },
   {
    "duration": 12,
    "start_time": "2022-01-26T05:51:08.816Z"
   },
   {
    "duration": 11,
    "start_time": "2022-01-26T05:51:53.761Z"
   },
   {
    "duration": 12,
    "start_time": "2022-01-26T05:52:12.442Z"
   },
   {
    "duration": 226,
    "start_time": "2022-01-26T05:52:24.274Z"
   },
   {
    "duration": 12,
    "start_time": "2022-01-26T05:52:32.485Z"
   },
   {
    "duration": 11,
    "start_time": "2022-01-26T05:52:49.013Z"
   },
   {
    "duration": 6,
    "start_time": "2022-01-26T06:14:24.779Z"
   },
   {
    "duration": 6,
    "start_time": "2022-01-26T06:19:27.674Z"
   },
   {
    "duration": 25,
    "start_time": "2022-01-26T06:20:12.130Z"
   },
   {
    "duration": 7,
    "start_time": "2022-01-26T06:20:16.412Z"
   },
   {
    "duration": 30,
    "start_time": "2022-01-26T06:32:50.853Z"
   },
   {
    "duration": 6792,
    "start_time": "2022-01-26T06:38:40.049Z"
   },
   {
    "duration": 21,
    "start_time": "2022-01-26T06:40:25.081Z"
   },
   {
    "duration": 32,
    "start_time": "2022-01-26T06:41:03.353Z"
   },
   {
    "duration": 81,
    "start_time": "2022-01-26T06:42:16.562Z"
   },
   {
    "duration": 76,
    "start_time": "2022-01-26T06:44:57.785Z"
   },
   {
    "duration": 71,
    "start_time": "2022-01-26T06:45:09.805Z"
   },
   {
    "duration": 9,
    "start_time": "2022-01-26T06:47:13.807Z"
   },
   {
    "duration": 4,
    "start_time": "2022-01-26T07:02:49.178Z"
   },
   {
    "duration": 465,
    "start_time": "2022-01-26T07:02:53.674Z"
   },
   {
    "duration": 9,
    "start_time": "2022-01-26T07:03:55.106Z"
   },
   {
    "duration": 4,
    "start_time": "2022-01-26T07:04:06.956Z"
   },
   {
    "duration": 4,
    "start_time": "2022-01-27T16:01:00.602Z"
   },
   {
    "duration": 506,
    "start_time": "2022-01-27T16:01:09.598Z"
   },
   {
    "duration": 656,
    "start_time": "2022-01-27T16:08:00.942Z"
   },
   {
    "duration": 590,
    "start_time": "2022-01-27T16:08:26.262Z"
   },
   {
    "duration": 158,
    "start_time": "2022-01-27T16:08:31.036Z"
   },
   {
    "duration": 20,
    "start_time": "2022-01-27T16:08:34.148Z"
   },
   {
    "duration": 10,
    "start_time": "2022-01-27T16:08:38.976Z"
   },
   {
    "duration": 5,
    "start_time": "2022-01-27T16:08:47.844Z"
   },
   {
    "duration": 21,
    "start_time": "2022-01-27T16:08:51.698Z"
   },
   {
    "duration": 5,
    "start_time": "2022-01-27T16:08:58.302Z"
   },
   {
    "duration": 27,
    "start_time": "2022-01-27T16:09:05.179Z"
   },
   {
    "duration": 19,
    "start_time": "2022-01-27T16:09:18.520Z"
   },
   {
    "duration": 23,
    "start_time": "2022-01-27T16:09:23.147Z"
   },
   {
    "duration": 60,
    "start_time": "2022-01-27T16:09:27.273Z"
   },
   {
    "duration": 67,
    "start_time": "2022-01-27T16:09:30.447Z"
   },
   {
    "duration": 60,
    "start_time": "2022-01-27T16:09:34.771Z"
   },
   {
    "duration": 11,
    "start_time": "2022-01-27T16:09:43.164Z"
   },
   {
    "duration": 4,
    "start_time": "2022-01-27T16:09:48.832Z"
   },
   {
    "duration": 11,
    "start_time": "2022-01-27T16:09:52.625Z"
   },
   {
    "duration": 8,
    "start_time": "2022-01-27T16:09:57.764Z"
   },
   {
    "duration": 2,
    "start_time": "2022-01-27T16:29:29.961Z"
   },
   {
    "duration": 11,
    "start_time": "2022-01-27T16:29:38.985Z"
   },
   {
    "duration": 19,
    "start_time": "2022-01-27T16:30:07.018Z"
   },
   {
    "duration": 287,
    "start_time": "2022-01-27T16:33:53.192Z"
   },
   {
    "duration": 344,
    "start_time": "2022-01-27T16:34:09.862Z"
   },
   {
    "duration": 606,
    "start_time": "2022-01-27T16:34:19.113Z"
   },
   {
    "duration": 3,
    "start_time": "2022-01-27T16:34:46.512Z"
   },
   {
    "duration": 154,
    "start_time": "2022-01-27T16:34:46.517Z"
   },
   {
    "duration": 19,
    "start_time": "2022-01-27T16:34:46.673Z"
   },
   {
    "duration": 9,
    "start_time": "2022-01-27T16:34:46.708Z"
   },
   {
    "duration": 7,
    "start_time": "2022-01-27T16:34:46.719Z"
   },
   {
    "duration": 23,
    "start_time": "2022-01-27T16:34:46.728Z"
   },
   {
    "duration": 16,
    "start_time": "2022-01-27T16:34:46.753Z"
   },
   {
    "duration": 44,
    "start_time": "2022-01-27T16:34:46.772Z"
   },
   {
    "duration": 18,
    "start_time": "2022-01-27T16:34:46.818Z"
   },
   {
    "duration": 24,
    "start_time": "2022-01-27T16:34:46.838Z"
   },
   {
    "duration": 80,
    "start_time": "2022-01-27T16:34:46.864Z"
   },
   {
    "duration": 76,
    "start_time": "2022-01-27T16:34:46.946Z"
   },
   {
    "duration": 60,
    "start_time": "2022-01-27T16:34:47.024Z"
   },
   {
    "duration": 23,
    "start_time": "2022-01-27T16:34:47.086Z"
   },
   {
    "duration": 3,
    "start_time": "2022-01-27T16:34:47.111Z"
   },
   {
    "duration": 20,
    "start_time": "2022-01-27T16:34:47.116Z"
   },
   {
    "duration": 9,
    "start_time": "2022-01-27T16:34:47.137Z"
   },
   {
    "duration": 13,
    "start_time": "2022-01-27T16:34:47.148Z"
   },
   {
    "duration": 4,
    "start_time": "2022-01-27T16:34:47.165Z"
   },
   {
    "duration": 11,
    "start_time": "2022-01-27T16:34:47.171Z"
   },
   {
    "duration": 24,
    "start_time": "2022-01-27T16:34:47.184Z"
   },
   {
    "duration": 3,
    "start_time": "2022-01-27T16:34:47.210Z"
   },
   {
    "duration": 8,
    "start_time": "2022-01-27T16:34:47.215Z"
   },
   {
    "duration": 9,
    "start_time": "2022-01-27T16:34:47.225Z"
   },
   {
    "duration": 9,
    "start_time": "2022-01-27T16:34:47.236Z"
   },
   {
    "duration": 10,
    "start_time": "2022-01-27T16:34:47.247Z"
   },
   {
    "duration": 7,
    "start_time": "2022-01-27T16:34:47.259Z"
   },
   {
    "duration": 9,
    "start_time": "2022-01-27T16:34:47.267Z"
   },
   {
    "duration": 8,
    "start_time": "2022-01-27T16:34:47.278Z"
   },
   {
    "duration": 87,
    "start_time": "2022-01-27T16:34:47.288Z"
   },
   {
    "duration": -1189,
    "start_time": "2022-01-27T16:34:48.566Z"
   },
   {
    "duration": -1191,
    "start_time": "2022-01-27T16:34:48.570Z"
   },
   {
    "duration": -1195,
    "start_time": "2022-01-27T16:34:48.574Z"
   },
   {
    "duration": -1196,
    "start_time": "2022-01-27T16:34:48.577Z"
   },
   {
    "duration": -1199,
    "start_time": "2022-01-27T16:34:48.581Z"
   },
   {
    "duration": -1201,
    "start_time": "2022-01-27T16:34:48.584Z"
   },
   {
    "duration": -1203,
    "start_time": "2022-01-27T16:34:48.587Z"
   },
   {
    "duration": -1206,
    "start_time": "2022-01-27T16:34:48.591Z"
   },
   {
    "duration": 2,
    "start_time": "2022-01-27T16:36:13.819Z"
   },
   {
    "duration": 5,
    "start_time": "2022-01-27T16:37:40.909Z"
   },
   {
    "duration": 36,
    "start_time": "2022-01-27T16:38:45.931Z"
   },
   {
    "duration": 49,
    "start_time": "2022-01-27T16:39:06.004Z"
   },
   {
    "duration": 35,
    "start_time": "2022-01-27T16:40:32.722Z"
   },
   {
    "duration": 33,
    "start_time": "2022-01-27T16:40:53.611Z"
   },
   {
    "duration": 34,
    "start_time": "2022-01-27T16:41:00.308Z"
   },
   {
    "duration": 4,
    "start_time": "2022-01-27T16:42:49.870Z"
   },
   {
    "duration": 33,
    "start_time": "2022-01-27T16:43:00.745Z"
   },
   {
    "duration": 4,
    "start_time": "2022-01-27T18:11:36.799Z"
   },
   {
    "duration": 4,
    "start_time": "2022-01-27T18:11:42.982Z"
   },
   {
    "duration": 4,
    "start_time": "2022-01-27T18:11:54.080Z"
   },
   {
    "duration": 287,
    "start_time": "2022-01-27T18:12:28.784Z"
   },
   {
    "duration": 242,
    "start_time": "2022-01-27T18:13:43.363Z"
   },
   {
    "duration": 22,
    "start_time": "2022-01-27T18:13:51.969Z"
   },
   {
    "duration": 91,
    "start_time": "2022-01-27T18:20:02.190Z"
   },
   {
    "duration": 399,
    "start_time": "2022-01-27T18:20:12.263Z"
   },
   {
    "duration": 563,
    "start_time": "2022-01-27T18:24:14.028Z"
   },
   {
    "duration": 430,
    "start_time": "2022-01-27T18:24:39.963Z"
   },
   {
    "duration": 433,
    "start_time": "2022-01-27T18:24:51.239Z"
   },
   {
    "duration": 4,
    "start_time": "2022-01-27T18:30:45.953Z"
   },
   {
    "duration": 489,
    "start_time": "2022-01-27T18:31:26.153Z"
   },
   {
    "duration": 3,
    "start_time": "2022-01-27T18:46:00.722Z"
   },
   {
    "duration": 150,
    "start_time": "2022-01-27T18:46:00.727Z"
   },
   {
    "duration": 10,
    "start_time": "2022-01-27T18:46:00.880Z"
   },
   {
    "duration": 12,
    "start_time": "2022-01-27T18:46:00.908Z"
   },
   {
    "duration": 22,
    "start_time": "2022-01-27T18:46:00.922Z"
   },
   {
    "duration": 37,
    "start_time": "2022-01-27T18:46:00.946Z"
   },
   {
    "duration": 5,
    "start_time": "2022-01-27T18:46:00.986Z"
   },
   {
    "duration": 46,
    "start_time": "2022-01-27T18:46:00.993Z"
   },
   {
    "duration": 36,
    "start_time": "2022-01-27T18:46:01.041Z"
   },
   {
    "duration": 26,
    "start_time": "2022-01-27T18:46:01.079Z"
   },
   {
    "duration": 88,
    "start_time": "2022-01-27T18:46:01.107Z"
   },
   {
    "duration": 67,
    "start_time": "2022-01-27T18:46:01.197Z"
   },
   {
    "duration": 62,
    "start_time": "2022-01-27T18:46:01.266Z"
   },
   {
    "duration": 8,
    "start_time": "2022-01-27T18:46:01.329Z"
   },
   {
    "duration": 51,
    "start_time": "2022-01-27T18:46:01.338Z"
   },
   {
    "duration": 57,
    "start_time": "2022-01-27T18:46:01.392Z"
   },
   {
    "duration": 32,
    "start_time": "2022-01-27T18:46:01.452Z"
   },
   {
    "duration": 44,
    "start_time": "2022-01-27T18:46:01.486Z"
   },
   {
    "duration": 60,
    "start_time": "2022-01-27T18:46:01.533Z"
   },
   {
    "duration": 4,
    "start_time": "2022-01-27T18:46:01.596Z"
   },
   {
    "duration": 523,
    "start_time": "2022-01-27T18:46:01.602Z"
   },
   {
    "duration": -1241,
    "start_time": "2022-01-27T18:46:03.369Z"
   },
   {
    "duration": -1269,
    "start_time": "2022-01-27T18:46:03.398Z"
   },
   {
    "duration": -1274,
    "start_time": "2022-01-27T18:46:03.404Z"
   },
   {
    "duration": -1279,
    "start_time": "2022-01-27T18:46:03.410Z"
   },
   {
    "duration": -1281,
    "start_time": "2022-01-27T18:46:03.413Z"
   },
   {
    "duration": -1284,
    "start_time": "2022-01-27T18:46:03.417Z"
   },
   {
    "duration": -1290,
    "start_time": "2022-01-27T18:46:03.424Z"
   },
   {
    "duration": -1292,
    "start_time": "2022-01-27T18:46:03.427Z"
   },
   {
    "duration": -1295,
    "start_time": "2022-01-27T18:46:03.431Z"
   },
   {
    "duration": -1298,
    "start_time": "2022-01-27T18:46:03.435Z"
   },
   {
    "duration": -1310,
    "start_time": "2022-01-27T18:46:03.448Z"
   },
   {
    "duration": -1345,
    "start_time": "2022-01-27T18:46:03.484Z"
   },
   {
    "duration": -1348,
    "start_time": "2022-01-27T18:46:03.488Z"
   },
   {
    "duration": -1351,
    "start_time": "2022-01-27T18:46:03.492Z"
   },
   {
    "duration": -1353,
    "start_time": "2022-01-27T18:46:03.495Z"
   },
   {
    "duration": -1356,
    "start_time": "2022-01-27T18:46:03.499Z"
   },
   {
    "duration": -1358,
    "start_time": "2022-01-27T18:46:03.502Z"
   },
   {
    "duration": 11,
    "start_time": "2022-01-27T18:49:02.027Z"
   },
   {
    "duration": 676,
    "start_time": "2022-01-27T18:50:02.493Z"
   },
   {
    "duration": 458,
    "start_time": "2022-01-27T20:04:34.067Z"
   },
   {
    "duration": 480,
    "start_time": "2022-01-27T20:09:26.061Z"
   },
   {
    "duration": 4,
    "start_time": "2022-01-27T20:19:13.597Z"
   },
   {
    "duration": 5,
    "start_time": "2022-01-27T20:19:38.085Z"
   },
   {
    "duration": 477,
    "start_time": "2022-01-27T20:54:48.433Z"
   },
   {
    "duration": 4,
    "start_time": "2022-01-27T21:33:02.976Z"
   },
   {
    "duration": 4,
    "start_time": "2022-01-27T21:35:07.145Z"
   },
   {
    "duration": 4,
    "start_time": "2022-01-27T21:35:14.087Z"
   },
   {
    "duration": 3,
    "start_time": "2022-01-27T21:35:47.406Z"
   },
   {
    "duration": 5,
    "start_time": "2022-01-27T21:36:02.226Z"
   },
   {
    "duration": 4,
    "start_time": "2022-01-27T21:36:55.838Z"
   },
   {
    "duration": 4,
    "start_time": "2022-01-27T21:38:19.772Z"
   },
   {
    "duration": 461,
    "start_time": "2022-01-27T21:45:04.217Z"
   },
   {
    "duration": 13,
    "start_time": "2022-01-27T22:14:10.344Z"
   },
   {
    "duration": 5,
    "start_time": "2022-01-27T22:14:28.615Z"
   },
   {
    "duration": 4,
    "start_time": "2022-01-27T22:14:36.921Z"
   },
   {
    "duration": 4,
    "start_time": "2022-01-27T23:32:47.098Z"
   },
   {
    "duration": 19,
    "start_time": "2022-01-27T23:32:58.562Z"
   },
   {
    "duration": 19,
    "start_time": "2022-01-27T23:35:09.375Z"
   },
   {
    "duration": 16,
    "start_time": "2022-01-27T23:35:46.676Z"
   },
   {
    "duration": 17,
    "start_time": "2022-01-27T23:36:18.060Z"
   },
   {
    "duration": 4,
    "start_time": "2022-01-27T23:42:47.365Z"
   },
   {
    "duration": 19,
    "start_time": "2022-01-27T23:42:57.190Z"
   },
   {
    "duration": 18,
    "start_time": "2022-01-27T23:43:00.732Z"
   },
   {
    "duration": 18,
    "start_time": "2022-01-27T23:43:07.586Z"
   },
   {
    "duration": 3,
    "start_time": "2022-01-27T23:49:50.640Z"
   },
   {
    "duration": 3,
    "start_time": "2022-01-27T23:49:52.420Z"
   },
   {
    "duration": 3,
    "start_time": "2022-01-27T23:51:19.691Z"
   },
   {
    "duration": 157,
    "start_time": "2022-01-27T23:51:19.696Z"
   },
   {
    "duration": 12,
    "start_time": "2022-01-27T23:51:19.855Z"
   },
   {
    "duration": 12,
    "start_time": "2022-01-27T23:51:19.869Z"
   },
   {
    "duration": 25,
    "start_time": "2022-01-27T23:51:19.883Z"
   },
   {
    "duration": 21,
    "start_time": "2022-01-27T23:51:19.910Z"
   },
   {
    "duration": 5,
    "start_time": "2022-01-27T23:51:19.933Z"
   },
   {
    "duration": 35,
    "start_time": "2022-01-27T23:51:19.939Z"
   },
   {
    "duration": 45,
    "start_time": "2022-01-27T23:51:19.976Z"
   },
   {
    "duration": 24,
    "start_time": "2022-01-27T23:51:20.023Z"
   },
   {
    "duration": 83,
    "start_time": "2022-01-27T23:51:20.049Z"
   },
   {
    "duration": 76,
    "start_time": "2022-01-27T23:51:20.134Z"
   },
   {
    "duration": 57,
    "start_time": "2022-01-27T23:51:20.212Z"
   },
   {
    "duration": 7,
    "start_time": "2022-01-27T23:51:20.271Z"
   },
   {
    "duration": 27,
    "start_time": "2022-01-27T23:51:20.280Z"
   },
   {
    "duration": 12,
    "start_time": "2022-01-27T23:51:20.309Z"
   },
   {
    "duration": 18,
    "start_time": "2022-01-27T23:51:20.323Z"
   },
   {
    "duration": 47,
    "start_time": "2022-01-27T23:51:20.343Z"
   },
   {
    "duration": 41,
    "start_time": "2022-01-27T23:51:20.392Z"
   },
   {
    "duration": 4,
    "start_time": "2022-01-27T23:51:20.435Z"
   },
   {
    "duration": 33,
    "start_time": "2022-01-27T23:51:20.441Z"
   },
   {
    "duration": 32,
    "start_time": "2022-01-27T23:51:20.476Z"
   },
   {
    "duration": 17,
    "start_time": "2022-01-27T23:51:20.510Z"
   },
   {
    "duration": 17,
    "start_time": "2022-01-27T23:51:20.531Z"
   },
   {
    "duration": 21,
    "start_time": "2022-01-27T23:51:20.550Z"
   },
   {
    "duration": 46,
    "start_time": "2022-01-27T23:51:20.572Z"
   },
   {
    "duration": 3,
    "start_time": "2022-01-27T23:51:20.620Z"
   },
   {
    "duration": 9,
    "start_time": "2022-01-27T23:51:20.624Z"
   },
   {
    "duration": 12,
    "start_time": "2022-01-27T23:51:20.635Z"
   },
   {
    "duration": 89,
    "start_time": "2022-01-27T23:51:20.649Z"
   },
   {
    "duration": -517,
    "start_time": "2022-01-27T23:51:21.257Z"
   },
   {
    "duration": -521,
    "start_time": "2022-01-27T23:51:21.262Z"
   },
   {
    "duration": -524,
    "start_time": "2022-01-27T23:51:21.266Z"
   },
   {
    "duration": -526,
    "start_time": "2022-01-27T23:51:21.269Z"
   },
   {
    "duration": -540,
    "start_time": "2022-01-27T23:51:21.284Z"
   },
   {
    "duration": -543,
    "start_time": "2022-01-27T23:51:21.288Z"
   },
   {
    "duration": -545,
    "start_time": "2022-01-27T23:51:21.292Z"
   },
   {
    "duration": -550,
    "start_time": "2022-01-27T23:51:21.298Z"
   },
   {
    "duration": 3,
    "start_time": "2022-01-27T23:54:22.290Z"
   },
   {
    "duration": 239,
    "start_time": "2022-01-27T23:56:21.802Z"
   },
   {
    "duration": 3,
    "start_time": "2022-01-28T00:02:16.323Z"
   },
   {
    "duration": 145,
    "start_time": "2022-01-28T00:02:16.328Z"
   },
   {
    "duration": 10,
    "start_time": "2022-01-28T00:02:16.475Z"
   },
   {
    "duration": 23,
    "start_time": "2022-01-28T00:02:16.487Z"
   },
   {
    "duration": 7,
    "start_time": "2022-01-28T00:02:16.512Z"
   },
   {
    "duration": 20,
    "start_time": "2022-01-28T00:02:16.521Z"
   },
   {
    "duration": 4,
    "start_time": "2022-01-28T00:02:16.544Z"
   },
   {
    "duration": 24,
    "start_time": "2022-01-28T00:02:16.550Z"
   },
   {
    "duration": 43,
    "start_time": "2022-01-28T00:02:16.576Z"
   },
   {
    "duration": 22,
    "start_time": "2022-01-28T00:02:16.621Z"
   },
   {
    "duration": 78,
    "start_time": "2022-01-28T00:02:16.645Z"
   },
   {
    "duration": 60,
    "start_time": "2022-01-28T00:02:16.725Z"
   },
   {
    "duration": 63,
    "start_time": "2022-01-28T00:02:16.787Z"
   },
   {
    "duration": 7,
    "start_time": "2022-01-28T00:02:16.852Z"
   },
   {
    "duration": 14,
    "start_time": "2022-01-28T00:02:16.861Z"
   },
   {
    "duration": 14,
    "start_time": "2022-01-28T00:02:16.877Z"
   },
   {
    "duration": 17,
    "start_time": "2022-01-28T00:02:16.893Z"
   },
   {
    "duration": 47,
    "start_time": "2022-01-28T00:02:16.912Z"
   },
   {
    "duration": 31,
    "start_time": "2022-01-28T00:02:16.963Z"
   },
   {
    "duration": 13,
    "start_time": "2022-01-28T00:02:16.996Z"
   },
   {
    "duration": 24,
    "start_time": "2022-01-28T00:02:17.011Z"
   },
   {
    "duration": 17,
    "start_time": "2022-01-28T00:02:17.037Z"
   },
   {
    "duration": 22,
    "start_time": "2022-01-28T00:02:17.056Z"
   },
   {
    "duration": 47,
    "start_time": "2022-01-28T00:02:17.080Z"
   },
   {
    "duration": 27,
    "start_time": "2022-01-28T00:02:17.129Z"
   },
   {
    "duration": 24,
    "start_time": "2022-01-28T00:02:17.158Z"
   },
   {
    "duration": 254,
    "start_time": "2022-01-28T00:02:17.208Z"
   },
   {
    "duration": -157,
    "start_time": "2022-01-28T00:02:17.620Z"
   },
   {
    "duration": -163,
    "start_time": "2022-01-28T00:02:17.627Z"
   },
   {
    "duration": -169,
    "start_time": "2022-01-28T00:02:17.634Z"
   },
   {
    "duration": -270,
    "start_time": "2022-01-28T00:02:17.736Z"
   },
   {
    "duration": -290,
    "start_time": "2022-01-28T00:02:17.757Z"
   },
   {
    "duration": -304,
    "start_time": "2022-01-28T00:02:17.772Z"
   },
   {
    "duration": -314,
    "start_time": "2022-01-28T00:02:17.782Z"
   },
   {
    "duration": -318,
    "start_time": "2022-01-28T00:02:17.787Z"
   },
   {
    "duration": -328,
    "start_time": "2022-01-28T00:02:17.798Z"
   },
   {
    "duration": -333,
    "start_time": "2022-01-28T00:02:17.804Z"
   },
   {
    "duration": -337,
    "start_time": "2022-01-28T00:02:17.809Z"
   },
   {
    "duration": 239,
    "start_time": "2022-01-28T00:07:11.990Z"
   },
   {
    "duration": 4,
    "start_time": "2022-01-28T00:07:26.675Z"
   },
   {
    "duration": 4,
    "start_time": "2022-01-28T00:07:31.368Z"
   },
   {
    "duration": 4,
    "start_time": "2022-01-28T00:30:50.939Z"
   },
   {
    "duration": 4,
    "start_time": "2022-01-28T00:31:18.620Z"
   },
   {
    "duration": 250,
    "start_time": "2022-01-28T00:35:39.422Z"
   },
   {
    "duration": 229,
    "start_time": "2022-01-28T00:42:13.323Z"
   },
   {
    "duration": 275,
    "start_time": "2022-01-28T00:43:12.138Z"
   },
   {
    "duration": 243,
    "start_time": "2022-01-28T00:55:34.591Z"
   },
   {
    "duration": 252,
    "start_time": "2022-01-28T00:56:38.642Z"
   },
   {
    "duration": 255,
    "start_time": "2022-01-28T00:57:12.018Z"
   },
   {
    "duration": 252,
    "start_time": "2022-01-28T00:58:33.862Z"
   },
   {
    "duration": 263,
    "start_time": "2022-01-28T01:04:49.633Z"
   },
   {
    "duration": 7,
    "start_time": "2022-01-28T02:54:11.203Z"
   },
   {
    "duration": 86,
    "start_time": "2022-01-28T03:15:05.850Z"
   },
   {
    "duration": -362,
    "start_time": "2022-01-28T03:15:29.280Z"
   },
   {
    "duration": 5735,
    "start_time": "2022-01-28T03:15:47.714Z"
   },
   {
    "duration": 1579,
    "start_time": "2022-01-28T06:57:16.320Z"
   },
   {
    "duration": 986,
    "start_time": "2022-01-28T06:57:17.901Z"
   },
   {
    "duration": 14,
    "start_time": "2022-01-28T06:57:18.889Z"
   },
   {
    "duration": 7,
    "start_time": "2022-01-28T06:57:18.905Z"
   },
   {
    "duration": 5,
    "start_time": "2022-01-28T06:57:18.913Z"
   },
   {
    "duration": 17,
    "start_time": "2022-01-28T06:57:18.920Z"
   },
   {
    "duration": 3,
    "start_time": "2022-01-28T06:57:18.938Z"
   },
   {
    "duration": 43,
    "start_time": "2022-01-28T06:57:18.944Z"
   },
   {
    "duration": 13,
    "start_time": "2022-01-28T06:57:18.989Z"
   },
   {
    "duration": 20,
    "start_time": "2022-01-28T06:57:19.003Z"
   },
   {
    "duration": 58,
    "start_time": "2022-01-28T06:57:19.024Z"
   },
   {
    "duration": 48,
    "start_time": "2022-01-28T06:57:19.083Z"
   },
   {
    "duration": 53,
    "start_time": "2022-01-28T06:57:19.133Z"
   },
   {
    "duration": 6,
    "start_time": "2022-01-28T06:57:19.187Z"
   },
   {
    "duration": 3,
    "start_time": "2022-01-28T06:57:19.194Z"
   },
   {
    "duration": 9,
    "start_time": "2022-01-28T06:57:19.198Z"
   },
   {
    "duration": 6,
    "start_time": "2022-01-28T06:57:19.208Z"
   },
   {
    "duration": 24,
    "start_time": "2022-01-28T06:57:19.215Z"
   },
   {
    "duration": 55,
    "start_time": "2022-01-28T06:57:19.241Z"
   },
   {
    "duration": 3,
    "start_time": "2022-01-28T06:57:19.297Z"
   },
   {
    "duration": 15,
    "start_time": "2022-01-28T06:57:19.302Z"
   },
   {
    "duration": 11,
    "start_time": "2022-01-28T06:57:19.319Z"
   },
   {
    "duration": 12,
    "start_time": "2022-01-28T06:57:19.332Z"
   },
   {
    "duration": 34,
    "start_time": "2022-01-28T06:57:19.345Z"
   },
   {
    "duration": 13,
    "start_time": "2022-01-28T06:57:19.380Z"
   },
   {
    "duration": 10,
    "start_time": "2022-01-28T06:57:19.395Z"
   },
   {
    "duration": 6,
    "start_time": "2022-01-28T06:57:19.406Z"
   },
   {
    "duration": 103,
    "start_time": "2022-01-28T06:57:19.413Z"
   },
   {
    "duration": -281,
    "start_time": "2022-01-28T06:57:19.799Z"
   },
   {
    "duration": -284,
    "start_time": "2022-01-28T06:57:19.803Z"
   },
   {
    "duration": -307,
    "start_time": "2022-01-28T06:57:19.826Z"
   },
   {
    "duration": -311,
    "start_time": "2022-01-28T06:57:19.831Z"
   },
   {
    "duration": -315,
    "start_time": "2022-01-28T06:57:19.835Z"
   },
   {
    "duration": -318,
    "start_time": "2022-01-28T06:57:19.839Z"
   },
   {
    "duration": -320,
    "start_time": "2022-01-28T06:57:19.842Z"
   },
   {
    "duration": -339,
    "start_time": "2022-01-28T06:57:19.861Z"
   },
   {
    "duration": -355,
    "start_time": "2022-01-28T06:57:19.878Z"
   },
   {
    "duration": -361,
    "start_time": "2022-01-28T06:57:19.885Z"
   },
   {
    "duration": 400,
    "start_time": "2022-01-28T06:57:42.598Z"
   },
   {
    "duration": 4,
    "start_time": "2022-01-28T07:05:29.918Z"
   },
   {
    "duration": 3,
    "start_time": "2022-01-28T07:05:47.077Z"
   },
   {
    "duration": 112,
    "start_time": "2022-01-28T07:06:09.176Z"
   },
   {
    "duration": 3,
    "start_time": "2022-01-28T07:06:20.017Z"
   },
   {
    "duration": 19,
    "start_time": "2022-01-28T07:11:03.165Z"
   },
   {
    "duration": 10,
    "start_time": "2022-01-28T07:11:51.804Z"
   },
   {
    "duration": 15,
    "start_time": "2022-01-28T07:12:06.555Z"
   },
   {
    "duration": 13,
    "start_time": "2022-01-28T07:13:50.571Z"
   },
   {
    "duration": 3,
    "start_time": "2022-01-28T07:21:57.087Z"
   },
   {
    "duration": 100,
    "start_time": "2022-01-28T07:31:24.979Z"
   },
   {
    "duration": 127,
    "start_time": "2022-01-28T07:42:11.780Z"
   },
   {
    "duration": 157,
    "start_time": "2022-01-28T07:48:22.725Z"
   },
   {
    "duration": 94,
    "start_time": "2022-01-28T07:48:57.102Z"
   },
   {
    "duration": 4,
    "start_time": "2022-01-28T07:53:34.196Z"
   },
   {
    "duration": 100,
    "start_time": "2022-01-28T08:00:15.609Z"
   },
   {
    "duration": 638,
    "start_time": "2022-01-28T20:30:34.452Z"
   },
   {
    "duration": 133,
    "start_time": "2022-01-28T20:30:35.092Z"
   },
   {
    "duration": 17,
    "start_time": "2022-01-28T20:30:35.227Z"
   },
   {
    "duration": 16,
    "start_time": "2022-01-28T20:30:35.246Z"
   },
   {
    "duration": 7,
    "start_time": "2022-01-28T20:30:35.263Z"
   },
   {
    "duration": 24,
    "start_time": "2022-01-28T20:30:35.272Z"
   },
   {
    "duration": 5,
    "start_time": "2022-01-28T20:30:35.298Z"
   },
   {
    "duration": 24,
    "start_time": "2022-01-28T20:30:35.307Z"
   },
   {
    "duration": 43,
    "start_time": "2022-01-28T20:30:35.334Z"
   },
   {
    "duration": 23,
    "start_time": "2022-01-28T20:30:35.379Z"
   },
   {
    "duration": 72,
    "start_time": "2022-01-28T20:30:35.404Z"
   },
   {
    "duration": 61,
    "start_time": "2022-01-28T20:30:35.478Z"
   },
   {
    "duration": 70,
    "start_time": "2022-01-28T20:30:35.541Z"
   },
   {
    "duration": 7,
    "start_time": "2022-01-28T20:30:35.613Z"
   },
   {
    "duration": 2,
    "start_time": "2022-01-28T20:30:35.622Z"
   },
   {
    "duration": 13,
    "start_time": "2022-01-28T20:30:35.626Z"
   },
   {
    "duration": 23,
    "start_time": "2022-01-28T20:30:35.641Z"
   },
   {
    "duration": 32,
    "start_time": "2022-01-28T20:30:35.666Z"
   },
   {
    "duration": 32,
    "start_time": "2022-01-28T20:30:35.701Z"
   },
   {
    "duration": 25,
    "start_time": "2022-01-28T20:30:35.735Z"
   },
   {
    "duration": 28,
    "start_time": "2022-01-28T20:30:35.762Z"
   },
   {
    "duration": 14,
    "start_time": "2022-01-28T20:30:35.792Z"
   },
   {
    "duration": 15,
    "start_time": "2022-01-28T20:30:35.810Z"
   },
   {
    "duration": 40,
    "start_time": "2022-01-28T20:30:35.827Z"
   },
   {
    "duration": 17,
    "start_time": "2022-01-28T20:30:35.869Z"
   },
   {
    "duration": 14,
    "start_time": "2022-01-28T20:30:35.888Z"
   },
   {
    "duration": 7,
    "start_time": "2022-01-28T20:30:35.904Z"
   },
   {
    "duration": 18,
    "start_time": "2022-01-28T20:30:35.912Z"
   },
   {
    "duration": 38,
    "start_time": "2022-01-28T20:30:35.932Z"
   },
   {
    "duration": 3,
    "start_time": "2022-01-28T20:30:35.972Z"
   },
   {
    "duration": 92,
    "start_time": "2022-01-28T20:30:35.977Z"
   },
   {
    "duration": -633,
    "start_time": "2022-01-28T20:30:36.704Z"
   },
   {
    "duration": -635,
    "start_time": "2022-01-28T20:30:36.707Z"
   },
   {
    "duration": -639,
    "start_time": "2022-01-28T20:30:36.712Z"
   },
   {
    "duration": -645,
    "start_time": "2022-01-28T20:30:36.718Z"
   },
   {
    "duration": -649,
    "start_time": "2022-01-28T20:30:36.723Z"
   },
   {
    "duration": -652,
    "start_time": "2022-01-28T20:30:36.727Z"
   },
   {
    "duration": -655,
    "start_time": "2022-01-28T20:30:36.731Z"
   },
   {
    "duration": 4,
    "start_time": "2022-01-28T20:34:31.531Z"
   },
   {
    "duration": 564,
    "start_time": "2022-01-28T20:41:00.837Z"
   },
   {
    "duration": 3,
    "start_time": "2022-01-28T20:41:17.105Z"
   },
   {
    "duration": 156,
    "start_time": "2022-01-28T20:41:17.110Z"
   },
   {
    "duration": 10,
    "start_time": "2022-01-28T20:41:17.268Z"
   },
   {
    "duration": 31,
    "start_time": "2022-01-28T20:41:17.281Z"
   },
   {
    "duration": 27,
    "start_time": "2022-01-28T20:41:17.315Z"
   },
   {
    "duration": 24,
    "start_time": "2022-01-28T20:41:17.344Z"
   },
   {
    "duration": 32,
    "start_time": "2022-01-28T20:41:17.371Z"
   },
   {
    "duration": 42,
    "start_time": "2022-01-28T20:41:17.405Z"
   },
   {
    "duration": 31,
    "start_time": "2022-01-28T20:41:17.448Z"
   },
   {
    "duration": 53,
    "start_time": "2022-01-28T20:41:17.481Z"
   },
   {
    "duration": 91,
    "start_time": "2022-01-28T20:41:17.535Z"
   },
   {
    "duration": 68,
    "start_time": "2022-01-28T20:41:17.627Z"
   },
   {
    "duration": 52,
    "start_time": "2022-01-28T20:41:17.697Z"
   },
   {
    "duration": 14,
    "start_time": "2022-01-28T20:41:17.751Z"
   },
   {
    "duration": 35,
    "start_time": "2022-01-28T20:41:17.767Z"
   },
   {
    "duration": 44,
    "start_time": "2022-01-28T20:41:17.803Z"
   },
   {
    "duration": 64,
    "start_time": "2022-01-28T20:41:17.849Z"
   },
   {
    "duration": 67,
    "start_time": "2022-01-28T20:41:17.914Z"
   },
   {
    "duration": 29,
    "start_time": "2022-01-28T20:41:17.984Z"
   },
   {
    "duration": 17,
    "start_time": "2022-01-28T20:41:18.015Z"
   },
   {
    "duration": 55,
    "start_time": "2022-01-28T20:41:18.033Z"
   },
   {
    "duration": 26,
    "start_time": "2022-01-28T20:41:18.090Z"
   },
   {
    "duration": 41,
    "start_time": "2022-01-28T20:41:18.117Z"
   },
   {
    "duration": 13,
    "start_time": "2022-01-28T20:41:18.160Z"
   },
   {
    "duration": 44,
    "start_time": "2022-01-28T20:41:18.174Z"
   },
   {
    "duration": 22,
    "start_time": "2022-01-28T20:41:18.219Z"
   },
   {
    "duration": 18,
    "start_time": "2022-01-28T20:41:18.242Z"
   },
   {
    "duration": 48,
    "start_time": "2022-01-28T20:41:18.261Z"
   },
   {
    "duration": 28,
    "start_time": "2022-01-28T20:41:18.311Z"
   },
   {
    "duration": 33,
    "start_time": "2022-01-28T20:41:18.341Z"
   },
   {
    "duration": 691,
    "start_time": "2022-01-28T20:41:18.376Z"
   },
   {
    "duration": -639,
    "start_time": "2022-01-28T20:41:19.708Z"
   },
   {
    "duration": -647,
    "start_time": "2022-01-28T20:41:19.717Z"
   },
   {
    "duration": -652,
    "start_time": "2022-01-28T20:41:19.723Z"
   },
   {
    "duration": -657,
    "start_time": "2022-01-28T20:41:19.730Z"
   },
   {
    "duration": -716,
    "start_time": "2022-01-28T20:41:19.790Z"
   },
   {
    "duration": -726,
    "start_time": "2022-01-28T20:41:19.801Z"
   },
   {
    "duration": -742,
    "start_time": "2022-01-28T20:41:19.817Z"
   },
   {
    "duration": 16,
    "start_time": "2022-01-28T20:41:31.841Z"
   },
   {
    "duration": 15,
    "start_time": "2022-01-28T20:41:37.780Z"
   },
   {
    "duration": 4,
    "start_time": "2022-01-28T20:41:44.077Z"
   },
   {
    "duration": 502,
    "start_time": "2022-01-28T20:43:00.527Z"
   },
   {
    "duration": 6,
    "start_time": "2022-01-28T20:44:32.915Z"
   },
   {
    "duration": 526,
    "start_time": "2022-01-28T20:44:36.603Z"
   },
   {
    "duration": 3,
    "start_time": "2022-01-28T21:30:55.242Z"
   },
   {
    "duration": 147,
    "start_time": "2022-01-28T21:30:56.015Z"
   },
   {
    "duration": 10,
    "start_time": "2022-01-28T21:30:56.371Z"
   },
   {
    "duration": 9,
    "start_time": "2022-01-28T21:30:56.735Z"
   },
   {
    "duration": 5,
    "start_time": "2022-01-28T21:30:57.745Z"
   },
   {
    "duration": 20,
    "start_time": "2022-01-28T21:30:58.083Z"
   },
   {
    "duration": 4,
    "start_time": "2022-01-28T21:30:58.420Z"
   },
   {
    "duration": 23,
    "start_time": "2022-01-28T21:30:58.886Z"
   },
   {
    "duration": 18,
    "start_time": "2022-01-28T21:30:59.429Z"
   },
   {
    "duration": 24,
    "start_time": "2022-01-28T21:31:00.104Z"
   },
   {
    "duration": 76,
    "start_time": "2022-01-28T21:31:02.315Z"
   },
   {
    "duration": 70,
    "start_time": "2022-01-28T21:31:03.430Z"
   },
   {
    "duration": 79,
    "start_time": "2022-01-28T21:31:04.262Z"
   },
   {
    "duration": 11,
    "start_time": "2022-01-28T21:31:05.457Z"
   },
   {
    "duration": 9,
    "start_time": "2022-01-28T21:31:08.091Z"
   },
   {
    "duration": 12,
    "start_time": "2022-01-28T21:31:10.367Z"
   },
   {
    "duration": 8,
    "start_time": "2022-01-28T21:31:12.032Z"
   },
   {
    "duration": 31,
    "start_time": "2022-01-28T21:31:18.816Z"
   },
   {
    "duration": 32,
    "start_time": "2022-01-28T21:31:19.864Z"
   },
   {
    "duration": 3,
    "start_time": "2022-01-28T21:31:22.451Z"
   },
   {
    "duration": 20,
    "start_time": "2022-01-28T21:31:24.046Z"
   },
   {
    "duration": 16,
    "start_time": "2022-01-28T21:31:25.137Z"
   },
   {
    "duration": 17,
    "start_time": "2022-01-28T21:31:26.642Z"
   },
   {
    "duration": 15,
    "start_time": "2022-01-28T21:31:27.723Z"
   },
   {
    "duration": 19,
    "start_time": "2022-01-28T21:31:28.538Z"
   },
   {
    "duration": 17,
    "start_time": "2022-01-28T21:31:29.373Z"
   },
   {
    "duration": 7,
    "start_time": "2022-01-28T21:31:34.559Z"
   },
   {
    "duration": 17,
    "start_time": "2022-01-28T21:31:57.250Z"
   },
   {
    "duration": 16,
    "start_time": "2022-01-28T21:31:59.209Z"
   },
   {
    "duration": 4,
    "start_time": "2022-01-28T21:32:15.422Z"
   },
   {
    "duration": 497,
    "start_time": "2022-01-28T21:32:20.351Z"
   },
   {
    "duration": 4,
    "start_time": "2022-01-28T21:38:03.259Z"
   },
   {
    "duration": 24,
    "start_time": "2022-01-28T21:38:05.646Z"
   },
   {
    "duration": 4,
    "start_time": "2022-01-28T21:39:00.403Z"
   },
   {
    "duration": 30,
    "start_time": "2022-01-28T21:39:02.274Z"
   },
   {
    "duration": 4,
    "start_time": "2022-01-28T21:39:31.133Z"
   },
   {
    "duration": 25,
    "start_time": "2022-01-28T21:39:33.049Z"
   },
   {
    "duration": 4,
    "start_time": "2022-01-28T21:39:44.685Z"
   },
   {
    "duration": 23,
    "start_time": "2022-01-28T21:39:45.832Z"
   },
   {
    "duration": 4,
    "start_time": "2022-01-28T21:40:05.988Z"
   },
   {
    "duration": 23,
    "start_time": "2022-01-28T21:40:06.562Z"
   },
   {
    "duration": 4,
    "start_time": "2022-01-28T21:40:33.380Z"
   },
   {
    "duration": 22,
    "start_time": "2022-01-28T21:40:33.687Z"
   },
   {
    "duration": 4,
    "start_time": "2022-01-28T21:40:43.275Z"
   },
   {
    "duration": 23,
    "start_time": "2022-01-28T21:40:43.570Z"
   },
   {
    "duration": 18,
    "start_time": "2022-01-28T21:41:18.140Z"
   },
   {
    "duration": 26,
    "start_time": "2022-01-28T21:42:03.160Z"
   },
   {
    "duration": 19,
    "start_time": "2022-01-28T21:42:48.896Z"
   },
   {
    "duration": 257,
    "start_time": "2022-01-28T23:39:44.300Z"
   },
   {
    "duration": 270,
    "start_time": "2022-01-28T23:44:01.792Z"
   },
   {
    "duration": 252,
    "start_time": "2022-01-28T23:44:37.193Z"
   },
   {
    "duration": 23,
    "start_time": "2022-01-28T23:44:54.657Z"
   },
   {
    "duration": 8,
    "start_time": "2022-01-28T23:45:01.684Z"
   },
   {
    "duration": 326,
    "start_time": "2022-01-28T23:46:20.538Z"
   },
   {
    "duration": 15,
    "start_time": "2022-01-28T23:46:32.207Z"
   },
   {
    "duration": 9,
    "start_time": "2022-01-28T23:46:34.295Z"
   },
   {
    "duration": 720,
    "start_time": "2022-01-29T09:16:34.799Z"
   },
   {
    "duration": 25,
    "start_time": "2022-01-29T09:16:35.697Z"
   },
   {
    "duration": 14,
    "start_time": "2022-01-29T09:16:35.724Z"
   },
   {
    "duration": 20,
    "start_time": "2022-01-29T09:16:35.740Z"
   },
   {
    "duration": 25,
    "start_time": "2022-01-29T09:16:35.763Z"
   },
   {
    "duration": 5,
    "start_time": "2022-01-29T09:16:35.791Z"
   },
   {
    "duration": 29,
    "start_time": "2022-01-29T09:16:35.800Z"
   },
   {
    "duration": 55,
    "start_time": "2022-01-29T09:16:35.832Z"
   },
   {
    "duration": 81,
    "start_time": "2022-01-29T09:16:35.891Z"
   },
   {
    "duration": 123,
    "start_time": "2022-01-29T09:16:35.974Z"
   },
   {
    "duration": 132,
    "start_time": "2022-01-29T09:16:36.100Z"
   },
   {
    "duration": 114,
    "start_time": "2022-01-29T09:16:36.235Z"
   },
   {
    "duration": 18,
    "start_time": "2022-01-29T09:16:36.352Z"
   },
   {
    "duration": 4,
    "start_time": "2022-01-29T09:16:36.372Z"
   },
   {
    "duration": 18,
    "start_time": "2022-01-29T09:16:36.378Z"
   },
   {
    "duration": 12,
    "start_time": "2022-01-29T09:16:36.399Z"
   },
   {
    "duration": 79,
    "start_time": "2022-01-29T09:16:36.414Z"
   },
   {
    "duration": 43,
    "start_time": "2022-01-29T09:16:36.495Z"
   },
   {
    "duration": 22,
    "start_time": "2022-01-29T09:16:36.540Z"
   },
   {
    "duration": 26,
    "start_time": "2022-01-29T09:16:36.564Z"
   },
   {
    "duration": 18,
    "start_time": "2022-01-29T09:16:36.592Z"
   },
   {
    "duration": 48,
    "start_time": "2022-01-29T09:16:36.615Z"
   },
   {
    "duration": 19,
    "start_time": "2022-01-29T09:16:36.665Z"
   },
   {
    "duration": 20,
    "start_time": "2022-01-29T09:16:36.686Z"
   },
   {
    "duration": 52,
    "start_time": "2022-01-29T09:16:36.709Z"
   },
   {
    "duration": 10,
    "start_time": "2022-01-29T09:16:36.763Z"
   },
   {
    "duration": 23,
    "start_time": "2022-01-29T09:16:36.775Z"
   },
   {
    "duration": 19,
    "start_time": "2022-01-29T09:16:36.800Z"
   },
   {
    "duration": 39,
    "start_time": "2022-01-29T09:16:36.821Z"
   },
   {
    "duration": 40,
    "start_time": "2022-01-29T09:16:36.863Z"
   },
   {
    "duration": 24,
    "start_time": "2022-01-29T09:16:36.905Z"
   },
   {
    "duration": 56,
    "start_time": "2022-01-29T09:16:36.931Z"
   },
   {
    "duration": 26,
    "start_time": "2022-01-29T09:16:36.989Z"
   },
   {
    "duration": 59,
    "start_time": "2022-01-29T09:16:37.018Z"
   },
   {
    "duration": 12,
    "start_time": "2022-01-29T09:16:37.079Z"
   },
   {
    "duration": 19,
    "start_time": "2022-01-29T09:16:37.094Z"
   },
   {
    "duration": 12,
    "start_time": "2022-01-29T09:16:37.116Z"
   },
   {
    "duration": 405,
    "start_time": "2022-01-30T20:16:53.835Z"
   },
   {
    "duration": 792,
    "start_time": "2022-01-30T20:17:14.120Z"
   },
   {
    "duration": 180,
    "start_time": "2022-01-30T20:17:14.914Z"
   },
   {
    "duration": 26,
    "start_time": "2022-01-30T20:17:15.097Z"
   },
   {
    "duration": 185,
    "start_time": "2022-01-30T20:17:24.617Z"
   },
   {
    "duration": 12,
    "start_time": "2022-01-30T20:18:16.080Z"
   },
   {
    "duration": 169,
    "start_time": "2022-01-30T20:18:28.211Z"
   },
   {
    "duration": 168,
    "start_time": "2022-01-30T20:19:33.625Z"
   },
   {
    "duration": 175,
    "start_time": "2022-01-30T20:19:42.218Z"
   },
   {
    "duration": 173,
    "start_time": "2022-01-30T20:19:53.615Z"
   },
   {
    "duration": 773,
    "start_time": "2022-01-31T03:22:12.696Z"
   },
   {
    "duration": 172,
    "start_time": "2022-01-31T03:22:13.472Z"
   },
   {
    "duration": 32,
    "start_time": "2022-01-31T03:22:13.647Z"
   },
   {
    "duration": 203,
    "start_time": "2022-01-31T03:22:13.683Z"
   },
   {
    "duration": 7,
    "start_time": "2022-01-31T03:22:13.889Z"
   },
   {
    "duration": 28,
    "start_time": "2022-01-31T03:22:13.899Z"
   },
   {
    "duration": 33,
    "start_time": "2022-01-31T03:22:13.930Z"
   },
   {
    "duration": 36,
    "start_time": "2022-01-31T03:22:13.969Z"
   },
   {
    "duration": 24,
    "start_time": "2022-01-31T03:22:14.009Z"
   },
   {
    "duration": 29,
    "start_time": "2022-01-31T03:22:14.059Z"
   },
   {
    "duration": 94,
    "start_time": "2022-01-31T03:22:14.091Z"
   },
   {
    "duration": 87,
    "start_time": "2022-01-31T03:22:14.187Z"
   },
   {
    "duration": 68,
    "start_time": "2022-01-31T03:22:14.277Z"
   },
   {
    "duration": 17,
    "start_time": "2022-01-31T03:22:14.347Z"
   },
   {
    "duration": 9,
    "start_time": "2022-01-31T03:22:14.367Z"
   },
   {
    "duration": 17,
    "start_time": "2022-01-31T03:22:14.378Z"
   },
   {
    "duration": 10,
    "start_time": "2022-01-31T03:22:14.397Z"
   },
   {
    "duration": 87,
    "start_time": "2022-01-31T03:22:14.410Z"
   },
   {
    "duration": 44,
    "start_time": "2022-01-31T03:22:14.500Z"
   },
   {
    "duration": 14,
    "start_time": "2022-01-31T03:22:14.546Z"
   },
   {
    "duration": 26,
    "start_time": "2022-01-31T03:22:14.562Z"
   },
   {
    "duration": 17,
    "start_time": "2022-01-31T03:22:14.590Z"
   },
   {
    "duration": 47,
    "start_time": "2022-01-31T03:22:14.612Z"
   },
   {
    "duration": 18,
    "start_time": "2022-01-31T03:22:14.662Z"
   },
   {
    "duration": 20,
    "start_time": "2022-01-31T03:22:14.682Z"
   },
   {
    "duration": 18,
    "start_time": "2022-01-31T03:22:14.705Z"
   },
   {
    "duration": 10,
    "start_time": "2022-01-31T03:22:14.758Z"
   },
   {
    "duration": 27,
    "start_time": "2022-01-31T03:22:14.770Z"
   },
   {
    "duration": 18,
    "start_time": "2022-01-31T03:22:14.799Z"
   },
   {
    "duration": 5,
    "start_time": "2022-01-31T03:22:14.819Z"
   },
   {
    "duration": 61,
    "start_time": "2022-01-31T03:22:14.826Z"
   },
   {
    "duration": 21,
    "start_time": "2022-01-31T03:22:14.889Z"
   },
   {
    "duration": 61,
    "start_time": "2022-01-31T03:22:14.913Z"
   },
   {
    "duration": 25,
    "start_time": "2022-01-31T03:22:14.976Z"
   },
   {
    "duration": 55,
    "start_time": "2022-01-31T03:22:15.004Z"
   },
   {
    "duration": 13,
    "start_time": "2022-01-31T03:22:15.062Z"
   },
   {
    "duration": 18,
    "start_time": "2022-01-31T03:22:15.077Z"
   },
   {
    "duration": 12,
    "start_time": "2022-01-31T03:22:15.098Z"
   },
   {
    "duration": 437,
    "start_time": "2022-01-31T15:37:44.246Z"
   },
   {
    "duration": 793,
    "start_time": "2022-01-31T15:37:58.660Z"
   },
   {
    "duration": 175,
    "start_time": "2022-01-31T15:37:59.456Z"
   },
   {
    "duration": 31,
    "start_time": "2022-01-31T15:37:59.633Z"
   },
   {
    "duration": 466,
    "start_time": "2022-01-31T15:37:59.667Z"
   },
   {
    "duration": -113,
    "start_time": "2022-01-31T15:38:00.251Z"
   },
   {
    "duration": -119,
    "start_time": "2022-01-31T15:38:00.259Z"
   },
   {
    "duration": -119,
    "start_time": "2022-01-31T15:38:00.261Z"
   },
   {
    "duration": -119,
    "start_time": "2022-01-31T15:38:00.264Z"
   },
   {
    "duration": -202,
    "start_time": "2022-01-31T15:38:00.349Z"
   },
   {
    "duration": -204,
    "start_time": "2022-01-31T15:38:00.353Z"
   },
   {
    "duration": -206,
    "start_time": "2022-01-31T15:38:00.357Z"
   },
   {
    "duration": -205,
    "start_time": "2022-01-31T15:38:00.359Z"
   },
   {
    "duration": -206,
    "start_time": "2022-01-31T15:38:00.362Z"
   },
   {
    "duration": -210,
    "start_time": "2022-01-31T15:38:00.368Z"
   },
   {
    "duration": -211,
    "start_time": "2022-01-31T15:38:00.372Z"
   },
   {
    "duration": -226,
    "start_time": "2022-01-31T15:38:00.389Z"
   },
   {
    "duration": -228,
    "start_time": "2022-01-31T15:38:00.393Z"
   },
   {
    "duration": -229,
    "start_time": "2022-01-31T15:38:00.396Z"
   },
   {
    "duration": -229,
    "start_time": "2022-01-31T15:38:00.399Z"
   },
   {
    "duration": -231,
    "start_time": "2022-01-31T15:38:00.403Z"
   },
   {
    "duration": -251,
    "start_time": "2022-01-31T15:38:00.425Z"
   },
   {
    "duration": -252,
    "start_time": "2022-01-31T15:38:00.428Z"
   },
   {
    "duration": -253,
    "start_time": "2022-01-31T15:38:00.431Z"
   },
   {
    "duration": -256,
    "start_time": "2022-01-31T15:38:00.436Z"
   },
   {
    "duration": -263,
    "start_time": "2022-01-31T15:38:00.446Z"
   },
   {
    "duration": -277,
    "start_time": "2022-01-31T15:38:00.462Z"
   },
   {
    "duration": -278,
    "start_time": "2022-01-31T15:38:00.465Z"
   },
   {
    "duration": -280,
    "start_time": "2022-01-31T15:38:00.469Z"
   },
   {
    "duration": -288,
    "start_time": "2022-01-31T15:38:00.479Z"
   },
   {
    "duration": -334,
    "start_time": "2022-01-31T15:38:00.528Z"
   },
   {
    "duration": -334,
    "start_time": "2022-01-31T15:38:00.530Z"
   },
   {
    "duration": -337,
    "start_time": "2022-01-31T15:38:00.535Z"
   },
   {
    "duration": -347,
    "start_time": "2022-01-31T15:38:00.546Z"
   },
   {
    "duration": -289,
    "start_time": "2022-01-31T15:38:00.549Z"
   },
   {
    "duration": -290,
    "start_time": "2022-01-31T15:38:00.552Z"
   },
   {
    "duration": -296,
    "start_time": "2022-01-31T15:38:00.561Z"
   },
   {
    "duration": -312,
    "start_time": "2022-01-31T15:38:00.579Z"
   },
   {
    "duration": -313,
    "start_time": "2022-01-31T15:38:00.582Z"
   },
   {
    "duration": 361,
    "start_time": "2022-01-31T15:38:36.580Z"
   },
   {
    "duration": 424,
    "start_time": "2022-01-31T15:39:02.057Z"
   },
   {
    "duration": 409,
    "start_time": "2022-01-31T15:39:11.060Z"
   },
   {
    "duration": 282,
    "start_time": "2022-01-31T15:39:19.637Z"
   },
   {
    "duration": 34,
    "start_time": "2022-01-31T15:44:22.946Z"
   },
   {
    "duration": 11756,
    "start_time": "2022-01-31T15:44:56.789Z"
   },
   {
    "duration": -232,
    "start_time": "2022-01-31T15:45:08.781Z"
   },
   {
    "duration": 4,
    "start_time": "2022-01-31T15:45:28.680Z"
   },
   {
    "duration": 210,
    "start_time": "2022-01-31T15:45:28.686Z"
   },
   {
    "duration": 17,
    "start_time": "2022-01-31T15:45:28.899Z"
   },
   {
    "duration": 216,
    "start_time": "2022-01-31T15:45:28.919Z"
   },
   {
    "duration": 6,
    "start_time": "2022-01-31T15:45:29.138Z"
   },
   {
    "duration": 43,
    "start_time": "2022-01-31T15:45:29.147Z"
   },
   {
    "duration": 8,
    "start_time": "2022-01-31T15:45:29.195Z"
   },
   {
    "duration": 61,
    "start_time": "2022-01-31T15:45:29.206Z"
   },
   {
    "duration": 25,
    "start_time": "2022-01-31T15:45:29.270Z"
   },
   {
    "duration": 29,
    "start_time": "2022-01-31T15:45:29.298Z"
   },
   {
    "duration": 129,
    "start_time": "2022-01-31T15:45:29.330Z"
   },
   {
    "duration": 107,
    "start_time": "2022-01-31T15:45:29.461Z"
   },
   {
    "duration": 94,
    "start_time": "2022-01-31T15:45:29.571Z"
   },
   {
    "duration": 15,
    "start_time": "2022-01-31T15:45:29.669Z"
   },
   {
    "duration": 4,
    "start_time": "2022-01-31T15:45:29.687Z"
   },
   {
    "duration": 19,
    "start_time": "2022-01-31T15:45:29.693Z"
   },
   {
    "duration": 10,
    "start_time": "2022-01-31T15:45:29.714Z"
   },
   {
    "duration": 83,
    "start_time": "2022-01-31T15:45:29.726Z"
   },
   {
    "duration": 75,
    "start_time": "2022-01-31T15:45:29.814Z"
   },
   {
    "duration": 6,
    "start_time": "2022-01-31T15:45:29.893Z"
   },
   {
    "duration": 24,
    "start_time": "2022-01-31T15:45:29.902Z"
   },
   {
    "duration": 57,
    "start_time": "2022-01-31T15:45:29.929Z"
   },
   {
    "duration": 22,
    "start_time": "2022-01-31T15:45:29.989Z"
   },
   {
    "duration": 56,
    "start_time": "2022-01-31T15:45:30.014Z"
   },
   {
    "duration": 21,
    "start_time": "2022-01-31T15:45:30.073Z"
   },
   {
    "duration": 19,
    "start_time": "2022-01-31T15:45:30.097Z"
   },
   {
    "duration": 12,
    "start_time": "2022-01-31T15:45:30.118Z"
   },
   {
    "duration": 53,
    "start_time": "2022-01-31T15:45:30.132Z"
   },
   {
    "duration": 24,
    "start_time": "2022-01-31T15:45:30.188Z"
   },
   {
    "duration": 6,
    "start_time": "2022-01-31T15:45:30.214Z"
   },
   {
    "duration": 73,
    "start_time": "2022-01-31T15:45:30.223Z"
   },
   {
    "duration": 26,
    "start_time": "2022-01-31T15:45:30.300Z"
   },
   {
    "duration": 68,
    "start_time": "2022-01-31T15:45:30.329Z"
   },
   {
    "duration": 25,
    "start_time": "2022-01-31T15:45:30.400Z"
   },
   {
    "duration": 61,
    "start_time": "2022-01-31T15:45:30.428Z"
   },
   {
    "duration": 12,
    "start_time": "2022-01-31T15:45:30.492Z"
   },
   {
    "duration": 18,
    "start_time": "2022-01-31T15:45:30.506Z"
   },
   {
    "duration": 43,
    "start_time": "2022-01-31T15:45:30.527Z"
   },
   {
    "duration": 31,
    "start_time": "2022-01-31T15:46:03.621Z"
   },
   {
    "duration": 483,
    "start_time": "2022-01-31T15:46:50.392Z"
   },
   {
    "duration": 31,
    "start_time": "2022-01-31T15:47:06.751Z"
   },
   {
    "duration": 60,
    "start_time": "2022-01-31T15:47:34.711Z"
   },
   {
    "duration": 463,
    "start_time": "2022-01-31T15:48:21.918Z"
   },
   {
    "duration": 34,
    "start_time": "2022-01-31T15:48:39.653Z"
   },
   {
    "duration": 48,
    "start_time": "2022-01-31T15:49:11.549Z"
   },
   {
    "duration": 4,
    "start_time": "2022-01-31T15:49:43.047Z"
   },
   {
    "duration": 236,
    "start_time": "2022-01-31T15:49:43.054Z"
   },
   {
    "duration": 15,
    "start_time": "2022-01-31T15:49:43.293Z"
   },
   {
    "duration": 201,
    "start_time": "2022-01-31T15:49:43.311Z"
   },
   {
    "duration": 6,
    "start_time": "2022-01-31T15:49:43.516Z"
   },
   {
    "duration": 36,
    "start_time": "2022-01-31T15:49:43.524Z"
   },
   {
    "duration": 13,
    "start_time": "2022-01-31T15:49:43.563Z"
   },
   {
    "duration": 32,
    "start_time": "2022-01-31T15:49:43.579Z"
   },
   {
    "duration": 48,
    "start_time": "2022-01-31T15:49:43.615Z"
   },
   {
    "duration": 31,
    "start_time": "2022-01-31T15:49:43.666Z"
   },
   {
    "duration": 97,
    "start_time": "2022-01-31T15:49:43.700Z"
   },
   {
    "duration": 95,
    "start_time": "2022-01-31T15:49:43.800Z"
   },
   {
    "duration": 81,
    "start_time": "2022-01-31T15:49:43.897Z"
   },
   {
    "duration": 9,
    "start_time": "2022-01-31T15:49:43.981Z"
   },
   {
    "duration": 3,
    "start_time": "2022-01-31T15:49:43.993Z"
   },
   {
    "duration": 15,
    "start_time": "2022-01-31T15:49:43.998Z"
   },
   {
    "duration": 10,
    "start_time": "2022-01-31T15:49:44.015Z"
   },
   {
    "duration": 48,
    "start_time": "2022-01-31T15:49:44.060Z"
   },
   {
    "duration": 71,
    "start_time": "2022-01-31T15:49:44.110Z"
   },
   {
    "duration": 4,
    "start_time": "2022-01-31T15:49:44.184Z"
   },
   {
    "duration": 28,
    "start_time": "2022-01-31T15:49:44.190Z"
   },
   {
    "duration": 41,
    "start_time": "2022-01-31T15:49:44.220Z"
   },
   {
    "duration": 24,
    "start_time": "2022-01-31T15:49:44.264Z"
   },
   {
    "duration": 19,
    "start_time": "2022-01-31T15:49:44.293Z"
   },
   {
    "duration": 52,
    "start_time": "2022-01-31T15:49:44.314Z"
   },
   {
    "duration": 22,
    "start_time": "2022-01-31T15:49:44.369Z"
   },
   {
    "duration": 10,
    "start_time": "2022-01-31T15:49:44.393Z"
   },
   {
    "duration": 61,
    "start_time": "2022-01-31T15:49:44.405Z"
   },
   {
    "duration": 25,
    "start_time": "2022-01-31T15:49:44.469Z"
   },
   {
    "duration": 6,
    "start_time": "2022-01-31T15:49:44.496Z"
   },
   {
    "duration": 70,
    "start_time": "2022-01-31T15:49:44.505Z"
   },
   {
    "duration": 24,
    "start_time": "2022-01-31T15:49:44.577Z"
   },
   {
    "duration": 32,
    "start_time": "2022-01-31T15:49:44.604Z"
   },
   {
    "duration": 29,
    "start_time": "2022-01-31T15:49:44.663Z"
   },
   {
    "duration": 28,
    "start_time": "2022-01-31T15:49:44.694Z"
   },
   {
    "duration": 35,
    "start_time": "2022-01-31T15:49:44.724Z"
   },
   {
    "duration": 26,
    "start_time": "2022-01-31T15:49:44.762Z"
   },
   {
    "duration": 13,
    "start_time": "2022-01-31T15:49:44.791Z"
   },
   {
    "duration": 29,
    "start_time": "2022-01-31T15:50:19.305Z"
   },
   {
    "duration": 3,
    "start_time": "2022-01-31T15:51:09.855Z"
   },
   {
    "duration": 190,
    "start_time": "2022-01-31T15:51:09.861Z"
   },
   {
    "duration": 21,
    "start_time": "2022-01-31T15:51:10.058Z"
   },
   {
    "duration": 207,
    "start_time": "2022-01-31T15:51:10.081Z"
   },
   {
    "duration": 5,
    "start_time": "2022-01-31T15:51:10.290Z"
   },
   {
    "duration": 23,
    "start_time": "2022-01-31T15:51:10.297Z"
   },
   {
    "duration": 4,
    "start_time": "2022-01-31T15:51:10.324Z"
   },
   {
    "duration": 33,
    "start_time": "2022-01-31T15:51:15.119Z"
   },
   {
    "duration": 39,
    "start_time": "2022-01-31T15:51:47.936Z"
   },
   {
    "duration": 432,
    "start_time": "2022-01-31T15:53:03.816Z"
   },
   {
    "duration": 49,
    "start_time": "2022-01-31T15:53:36.782Z"
   },
   {
    "duration": 84,
    "start_time": "2022-01-31T15:54:05.214Z"
   },
   {
    "duration": 64,
    "start_time": "2022-01-31T15:54:32.525Z"
   },
   {
    "duration": 29,
    "start_time": "2022-01-31T16:04:20.617Z"
   },
   {
    "duration": 22,
    "start_time": "2022-01-31T20:07:26.291Z"
   },
   {
    "duration": 30,
    "start_time": "2022-01-31T20:07:33.874Z"
   },
   {
    "duration": 456,
    "start_time": "2022-01-31T20:08:12.232Z"
   },
   {
    "duration": 786,
    "start_time": "2022-01-31T20:08:23.580Z"
   },
   {
    "duration": 168,
    "start_time": "2022-01-31T20:08:24.369Z"
   },
   {
    "duration": 25,
    "start_time": "2022-01-31T20:08:24.540Z"
   },
   {
    "duration": 197,
    "start_time": "2022-01-31T20:08:24.568Z"
   },
   {
    "duration": 6,
    "start_time": "2022-01-31T20:08:24.768Z"
   },
   {
    "duration": 27,
    "start_time": "2022-01-31T20:08:24.776Z"
   },
   {
    "duration": 6,
    "start_time": "2022-01-31T20:08:24.806Z"
   },
   {
    "duration": 30,
    "start_time": "2022-01-31T20:08:28.958Z"
   },
   {
    "duration": 23,
    "start_time": "2022-01-31T20:08:33.759Z"
   },
   {
    "duration": 30,
    "start_time": "2022-01-31T20:08:37.935Z"
   },
   {
    "duration": 85,
    "start_time": "2022-01-31T21:06:04.393Z"
   },
   {
    "duration": 29,
    "start_time": "2022-01-31T21:06:08.311Z"
   },
   {
    "duration": 849,
    "start_time": "2022-01-31T21:07:03.934Z"
   },
   {
    "duration": 243,
    "start_time": "2022-01-31T21:07:04.787Z"
   },
   {
    "duration": 38,
    "start_time": "2022-01-31T21:07:05.033Z"
   },
   {
    "duration": 304,
    "start_time": "2022-01-31T21:07:05.075Z"
   },
   {
    "duration": 7,
    "start_time": "2022-01-31T21:07:05.382Z"
   },
   {
    "duration": 32,
    "start_time": "2022-01-31T21:07:05.392Z"
   },
   {
    "duration": 36,
    "start_time": "2022-01-31T21:07:05.427Z"
   },
   {
    "duration": 31,
    "start_time": "2022-01-31T21:07:10.202Z"
   },
   {
    "duration": 80,
    "start_time": "2022-01-31T21:07:15.880Z"
   },
   {
    "duration": 32,
    "start_time": "2022-01-31T21:07:23.080Z"
   },
   {
    "duration": 14,
    "start_time": "2022-01-31T21:14:10.621Z"
   },
   {
    "duration": 13,
    "start_time": "2022-01-31T21:15:15.840Z"
   },
   {
    "duration": 31,
    "start_time": "2022-01-31T21:18:45.648Z"
   },
   {
    "duration": 29,
    "start_time": "2022-01-31T21:19:09.066Z"
   },
   {
    "duration": 170,
    "start_time": "2022-02-01T03:23:19.070Z"
   },
   {
    "duration": 179,
    "start_time": "2022-02-01T03:23:39.355Z"
   },
   {
    "duration": 164,
    "start_time": "2022-02-01T03:23:48.557Z"
   },
   {
    "duration": 20,
    "start_time": "2022-02-01T03:31:16.472Z"
   },
   {
    "duration": 15,
    "start_time": "2022-02-01T03:32:26.382Z"
   },
   {
    "duration": 6,
    "start_time": "2022-02-01T03:34:11.608Z"
   },
   {
    "duration": 822,
    "start_time": "2022-02-01T03:34:19.071Z"
   },
   {
    "duration": 6,
    "start_time": "2022-02-01T03:34:49.464Z"
   },
   {
    "duration": 34,
    "start_time": "2022-02-01T03:34:53.191Z"
   },
   {
    "duration": 6,
    "start_time": "2022-02-01T03:37:28.921Z"
   },
   {
    "duration": 31,
    "start_time": "2022-02-01T03:37:32.808Z"
   },
   {
    "duration": 352,
    "start_time": "2022-02-01T03:39:33.677Z"
   },
   {
    "duration": 31,
    "start_time": "2022-02-01T03:40:07.775Z"
   },
   {
    "duration": 6,
    "start_time": "2022-02-01T03:42:49.887Z"
   },
   {
    "duration": 804,
    "start_time": "2022-02-01T03:43:00.116Z"
   },
   {
    "duration": 779,
    "start_time": "2022-02-01T03:43:28.632Z"
   },
   {
    "duration": 170,
    "start_time": "2022-02-01T03:43:29.415Z"
   },
   {
    "duration": 24,
    "start_time": "2022-02-01T03:43:29.588Z"
   },
   {
    "duration": 193,
    "start_time": "2022-02-01T03:43:29.615Z"
   },
   {
    "duration": 5,
    "start_time": "2022-02-01T03:43:29.810Z"
   },
   {
    "duration": 51,
    "start_time": "2022-02-01T03:43:29.817Z"
   },
   {
    "duration": 5,
    "start_time": "2022-02-01T03:43:29.871Z"
   },
   {
    "duration": 28,
    "start_time": "2022-02-01T03:43:29.878Z"
   },
   {
    "duration": 108,
    "start_time": "2022-02-01T03:43:29.910Z"
   },
   {
    "duration": 38,
    "start_time": "2022-02-01T03:43:30.022Z"
   },
   {
    "duration": 99,
    "start_time": "2022-02-01T03:43:30.063Z"
   },
   {
    "duration": 110,
    "start_time": "2022-02-01T03:43:30.165Z"
   },
   {
    "duration": 83,
    "start_time": "2022-02-01T03:43:30.277Z"
   },
   {
    "duration": 12,
    "start_time": "2022-02-01T03:43:30.362Z"
   },
   {
    "duration": 4,
    "start_time": "2022-02-01T03:43:30.376Z"
   },
   {
    "duration": 18,
    "start_time": "2022-02-01T03:43:30.382Z"
   },
   {
    "duration": 24,
    "start_time": "2022-02-01T03:43:30.402Z"
   },
   {
    "duration": 42,
    "start_time": "2022-02-01T03:43:30.428Z"
   },
   {
    "duration": 44,
    "start_time": "2022-02-01T03:43:30.472Z"
   },
   {
    "duration": 40,
    "start_time": "2022-02-01T03:43:30.519Z"
   },
   {
    "duration": 24,
    "start_time": "2022-02-01T03:43:30.562Z"
   },
   {
    "duration": 30,
    "start_time": "2022-02-01T03:43:30.589Z"
   },
   {
    "duration": 48,
    "start_time": "2022-02-01T03:43:30.622Z"
   },
   {
    "duration": 19,
    "start_time": "2022-02-01T03:43:30.673Z"
   },
   {
    "duration": 23,
    "start_time": "2022-02-01T03:43:30.694Z"
   },
   {
    "duration": 58,
    "start_time": "2022-02-01T03:43:30.719Z"
   },
   {
    "duration": 9,
    "start_time": "2022-02-01T03:43:30.783Z"
   },
   {
    "duration": 66,
    "start_time": "2022-02-01T03:43:30.795Z"
   },
   {
    "duration": 30,
    "start_time": "2022-02-01T03:43:30.863Z"
   },
   {
    "duration": 7,
    "start_time": "2022-02-01T03:43:30.896Z"
   },
   {
    "duration": 881,
    "start_time": "2022-02-01T03:43:30.906Z"
   },
   {
    "duration": -1627,
    "start_time": "2022-02-01T03:43:33.416Z"
   },
   {
    "duration": -1633,
    "start_time": "2022-02-01T03:43:33.423Z"
   },
   {
    "duration": -1642,
    "start_time": "2022-02-01T03:43:33.434Z"
   },
   {
    "duration": -1647,
    "start_time": "2022-02-01T03:43:33.440Z"
   },
   {
    "duration": -1652,
    "start_time": "2022-02-01T03:43:33.446Z"
   },
   {
    "duration": -1657,
    "start_time": "2022-02-01T03:43:33.452Z"
   },
   {
    "duration": -1663,
    "start_time": "2022-02-01T03:43:33.460Z"
   },
   {
    "duration": 5,
    "start_time": "2022-02-01T03:44:18.267Z"
   },
   {
    "duration": 32,
    "start_time": "2022-02-01T03:44:21.110Z"
   },
   {
    "duration": 7,
    "start_time": "2022-02-01T03:59:55.942Z"
   },
   {
    "duration": 1905,
    "start_time": "2022-02-01T04:00:02.566Z"
   },
   {
    "duration": 7,
    "start_time": "2022-02-01T04:00:42.062Z"
   },
   {
    "duration": 22,
    "start_time": "2022-02-01T04:00:47.911Z"
   },
   {
    "duration": 17,
    "start_time": "2022-02-01T04:00:58.366Z"
   },
   {
    "duration": 24,
    "start_time": "2022-02-01T04:01:01.799Z"
   },
   {
    "duration": 19,
    "start_time": "2022-02-01T04:01:05.431Z"
   },
   {
    "duration": 29,
    "start_time": "2022-02-01T04:01:58.882Z"
   },
   {
    "duration": 13,
    "start_time": "2022-02-01T04:02:01.405Z"
   },
   {
    "duration": 117,
    "start_time": "2022-02-01T04:02:26.775Z"
   },
   {
    "duration": 129,
    "start_time": "2022-02-01T04:02:36.216Z"
   },
   {
    "duration": 357,
    "start_time": "2022-02-01T04:03:09.979Z"
   },
   {
    "duration": 14,
    "start_time": "2022-02-01T04:03:18.797Z"
   },
   {
    "duration": 7,
    "start_time": "2022-02-01T04:03:23.271Z"
   },
   {
    "duration": 22,
    "start_time": "2022-02-01T04:04:00.996Z"
   },
   {
    "duration": 14,
    "start_time": "2022-02-01T04:04:05.134Z"
   },
   {
    "duration": 10,
    "start_time": "2022-02-01T04:04:31.119Z"
   },
   {
    "duration": 7,
    "start_time": "2022-02-01T04:04:33.789Z"
   },
   {
    "duration": 635,
    "start_time": "2022-02-01T13:28:47.399Z"
   },
   {
    "duration": 760,
    "start_time": "2022-02-01T13:28:48.036Z"
   },
   {
    "duration": 19,
    "start_time": "2022-02-01T13:28:48.802Z"
   },
   {
    "duration": 154,
    "start_time": "2022-02-01T13:28:48.823Z"
   },
   {
    "duration": 4,
    "start_time": "2022-02-01T13:28:48.979Z"
   },
   {
    "duration": 31,
    "start_time": "2022-02-01T13:28:48.985Z"
   },
   {
    "duration": 6,
    "start_time": "2022-02-01T13:28:49.018Z"
   },
   {
    "duration": 27,
    "start_time": "2022-02-01T13:28:49.026Z"
   },
   {
    "duration": 74,
    "start_time": "2022-02-01T13:28:49.055Z"
   },
   {
    "duration": 25,
    "start_time": "2022-02-01T13:28:49.131Z"
   },
   {
    "duration": 82,
    "start_time": "2022-02-01T13:28:49.157Z"
   },
   {
    "duration": 70,
    "start_time": "2022-02-01T13:28:49.241Z"
   },
   {
    "duration": 52,
    "start_time": "2022-02-01T13:28:49.313Z"
   },
   {
    "duration": 9,
    "start_time": "2022-02-01T13:28:49.367Z"
   },
   {
    "duration": 22,
    "start_time": "2022-02-01T13:28:49.377Z"
   },
   {
    "duration": 13,
    "start_time": "2022-02-01T13:28:49.401Z"
   },
   {
    "duration": 9,
    "start_time": "2022-02-01T13:28:49.416Z"
   },
   {
    "duration": 12,
    "start_time": "2022-02-01T13:28:49.426Z"
   },
   {
    "duration": 30,
    "start_time": "2022-02-01T13:28:49.440Z"
   },
   {
    "duration": 27,
    "start_time": "2022-02-01T13:28:49.471Z"
   },
   {
    "duration": 22,
    "start_time": "2022-02-01T13:28:49.500Z"
   },
   {
    "duration": 14,
    "start_time": "2022-02-01T13:28:49.525Z"
   },
   {
    "duration": 13,
    "start_time": "2022-02-01T13:28:49.541Z"
   },
   {
    "duration": 15,
    "start_time": "2022-02-01T13:28:49.556Z"
   },
   {
    "duration": 18,
    "start_time": "2022-02-01T13:28:49.598Z"
   },
   {
    "duration": 14,
    "start_time": "2022-02-01T13:28:49.618Z"
   },
   {
    "duration": 6,
    "start_time": "2022-02-01T13:28:49.634Z"
   },
   {
    "duration": 22,
    "start_time": "2022-02-01T13:28:49.642Z"
   },
   {
    "duration": 46,
    "start_time": "2022-02-01T13:28:49.665Z"
   },
   {
    "duration": 5,
    "start_time": "2022-02-01T13:28:49.712Z"
   },
   {
    "duration": 27,
    "start_time": "2022-02-01T13:28:49.718Z"
   },
   {
    "duration": 13,
    "start_time": "2022-02-01T13:28:49.747Z"
   },
   {
    "duration": 54,
    "start_time": "2022-02-01T13:28:49.761Z"
   },
   {
    "duration": 14,
    "start_time": "2022-02-01T13:28:49.817Z"
   },
   {
    "duration": 10,
    "start_time": "2022-02-01T13:28:49.832Z"
   },
   {
    "duration": 5,
    "start_time": "2022-02-01T13:28:49.844Z"
   },
   {
    "duration": 8,
    "start_time": "2022-02-01T13:28:49.851Z"
   },
   {
    "duration": 39,
    "start_time": "2022-02-01T13:28:49.861Z"
   }
  ],
  "colab": {
   "collapsed_sections": [
    "E0vqbgi9ay0H",
    "VUC88oWjTJw2",
    "atZAxtq4_Zcu"
   ],
   "name": "EmptyFinalProject.ipynb\"",
   "provenance": []
  },
  "kernelspec": {
   "display_name": "Python 3 (ipykernel)",
   "language": "python",
   "name": "python3"
  },
  "language_info": {
   "codemirror_mode": {
    "name": "ipython",
    "version": 3
   },
   "file_extension": ".py",
   "mimetype": "text/x-python",
   "name": "python",
   "nbconvert_exporter": "python",
   "pygments_lexer": "ipython3",
   "version": "3.9.5"
  },
  "toc": {
   "base_numbering": 1,
   "nav_menu": {},
   "number_sections": true,
   "sideBar": true,
   "skip_h1_title": true,
   "title_cell": "Table of Contents",
   "title_sidebar": "Contents",
   "toc_cell": false,
   "toc_position": {},
   "toc_section_display": true,
   "toc_window_display": false
  }
 },
 "nbformat": 4,
 "nbformat_minor": 4
}
