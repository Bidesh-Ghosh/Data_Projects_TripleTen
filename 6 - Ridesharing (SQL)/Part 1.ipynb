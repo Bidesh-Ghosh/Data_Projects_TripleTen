import pandas as pd
import requests
from bs4 import BeautifulSoup

URL = 'https://code.s3.yandex.net/data-analyst-eng/chicago_weather_2017.html'
weather = requests.get(URL)
soup = BeautifulSoup(weather.text, 'lxml')

table = soup.find('table', attrs={"id":"weather_records"})
heading = []
for row in table.find_all(
    'th'
):
    heading.append(
        row.text
    )
content = []
for row in table.find_all('tr'):
    if not row.find_all('th'):
        content.append([element.text for element in row.find_all('td')])
weather_records = pd.DataFrame(content, columns = heading)
print(weather_records)
