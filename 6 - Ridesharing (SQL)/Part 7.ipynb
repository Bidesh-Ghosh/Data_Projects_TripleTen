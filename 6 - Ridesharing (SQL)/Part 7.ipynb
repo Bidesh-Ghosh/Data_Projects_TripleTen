{
 "cells": [
  {
   "cell_type": "markdown",
   "metadata": {},
   "source": [
    "The purpose of this report is to identify the most popular taxi dropoff locations in Chicago and identify Zuber's biggest competitors in order to find patterns in the available information that may give a competitive edge. We will also determine the impact of weather on trip times. "
   ]
  },
  {
   "cell_type": "code",
   "execution_count": 1,
   "metadata": {},
   "outputs": [],
   "source": [
    "import pandas as pd\n",
    "from scipy import stats as st"
   ]
  },
  {
   "cell_type": "code",
   "execution_count": 2,
   "metadata": {},
   "outputs": [],
   "source": [
    "rides = pd.read_csv('/datasets/project_sql_result_01.csv')\n",
    "dropoffs = pd.read_csv('/datasets/project_sql_result_04.csv')"
   ]
  },
  {
   "cell_type": "code",
   "execution_count": 3,
   "metadata": {},
   "outputs": [
    {
     "data": {
      "text/html": [
       "<div>\n",
       "<style scoped>\n",
       "    .dataframe tbody tr th:only-of-type {\n",
       "        vertical-align: middle;\n",
       "    }\n",
       "\n",
       "    .dataframe tbody tr th {\n",
       "        vertical-align: top;\n",
       "    }\n",
       "\n",
       "    .dataframe thead th {\n",
       "        text-align: right;\n",
       "    }\n",
       "</style>\n",
       "<table border=\"1\" class=\"dataframe\">\n",
       "  <thead>\n",
       "    <tr style=\"text-align: right;\">\n",
       "      <th></th>\n",
       "      <th>company_name</th>\n",
       "      <th>trips_amount</th>\n",
       "    </tr>\n",
       "  </thead>\n",
       "  <tbody>\n",
       "    <tr>\n",
       "      <th>0</th>\n",
       "      <td>Flash Cab</td>\n",
       "      <td>19558</td>\n",
       "    </tr>\n",
       "    <tr>\n",
       "      <th>1</th>\n",
       "      <td>Taxi Affiliation Services</td>\n",
       "      <td>11422</td>\n",
       "    </tr>\n",
       "    <tr>\n",
       "      <th>2</th>\n",
       "      <td>Medallion Leasing</td>\n",
       "      <td>10367</td>\n",
       "    </tr>\n",
       "    <tr>\n",
       "      <th>3</th>\n",
       "      <td>Yellow Cab</td>\n",
       "      <td>9888</td>\n",
       "    </tr>\n",
       "    <tr>\n",
       "      <th>4</th>\n",
       "      <td>Taxi Affiliation Service Yellow</td>\n",
       "      <td>9299</td>\n",
       "    </tr>\n",
       "  </tbody>\n",
       "</table>\n",
       "</div>"
      ],
      "text/plain": [
       "                      company_name  trips_amount\n",
       "0                        Flash Cab         19558\n",
       "1        Taxi Affiliation Services         11422\n",
       "2                Medallion Leasing         10367\n",
       "3                       Yellow Cab          9888\n",
       "4  Taxi Affiliation Service Yellow          9299"
      ]
     },
     "execution_count": 3,
     "metadata": {},
     "output_type": "execute_result"
    }
   ],
   "source": [
    "rides.head()"
   ]
  },
  {
   "cell_type": "code",
   "execution_count": 4,
   "metadata": {
    "scrolled": true
   },
   "outputs": [
    {
     "name": "stdout",
     "output_type": "stream",
     "text": [
      "<class 'pandas.core.frame.DataFrame'>\n",
      "RangeIndex: 64 entries, 0 to 63\n",
      "Data columns (total 2 columns):\n",
      " #   Column        Non-Null Count  Dtype \n",
      "---  ------        --------------  ----- \n",
      " 0   company_name  64 non-null     object\n",
      " 1   trips_amount  64 non-null     int64 \n",
      "dtypes: int64(1), object(1)\n",
      "memory usage: 1.1+ KB\n"
     ]
    }
   ],
   "source": [
    "rides.info()"
   ]
  },
  {
   "cell_type": "code",
   "execution_count": 5,
   "metadata": {},
   "outputs": [
    {
     "data": {
      "text/html": [
       "<div>\n",
       "<style scoped>\n",
       "    .dataframe tbody tr th:only-of-type {\n",
       "        vertical-align: middle;\n",
       "    }\n",
       "\n",
       "    .dataframe tbody tr th {\n",
       "        vertical-align: top;\n",
       "    }\n",
       "\n",
       "    .dataframe thead th {\n",
       "        text-align: right;\n",
       "    }\n",
       "</style>\n",
       "<table border=\"1\" class=\"dataframe\">\n",
       "  <thead>\n",
       "    <tr style=\"text-align: right;\">\n",
       "      <th></th>\n",
       "      <th>dropoff_location_name</th>\n",
       "      <th>average_trips</th>\n",
       "    </tr>\n",
       "  </thead>\n",
       "  <tbody>\n",
       "    <tr>\n",
       "      <th>0</th>\n",
       "      <td>Loop</td>\n",
       "      <td>10727.466667</td>\n",
       "    </tr>\n",
       "    <tr>\n",
       "      <th>1</th>\n",
       "      <td>River North</td>\n",
       "      <td>9523.666667</td>\n",
       "    </tr>\n",
       "    <tr>\n",
       "      <th>2</th>\n",
       "      <td>Streeterville</td>\n",
       "      <td>6664.666667</td>\n",
       "    </tr>\n",
       "    <tr>\n",
       "      <th>3</th>\n",
       "      <td>West Loop</td>\n",
       "      <td>5163.666667</td>\n",
       "    </tr>\n",
       "    <tr>\n",
       "      <th>4</th>\n",
       "      <td>O'Hare</td>\n",
       "      <td>2546.900000</td>\n",
       "    </tr>\n",
       "  </tbody>\n",
       "</table>\n",
       "</div>"
      ],
      "text/plain": [
       "  dropoff_location_name  average_trips\n",
       "0                  Loop   10727.466667\n",
       "1           River North    9523.666667\n",
       "2         Streeterville    6664.666667\n",
       "3             West Loop    5163.666667\n",
       "4                O'Hare    2546.900000"
      ]
     },
     "execution_count": 5,
     "metadata": {},
     "output_type": "execute_result"
    }
   ],
   "source": [
    "dropoffs.head()"
   ]
  },
  {
   "cell_type": "code",
   "execution_count": 6,
   "metadata": {},
   "outputs": [
    {
     "name": "stdout",
     "output_type": "stream",
     "text": [
      "<class 'pandas.core.frame.DataFrame'>\n",
      "RangeIndex: 94 entries, 0 to 93\n",
      "Data columns (total 2 columns):\n",
      " #   Column                 Non-Null Count  Dtype  \n",
      "---  ------                 --------------  -----  \n",
      " 0   dropoff_location_name  94 non-null     object \n",
      " 1   average_trips          94 non-null     float64\n",
      "dtypes: float64(1), object(1)\n",
      "memory usage: 1.6+ KB\n"
     ]
    }
   ],
   "source": [
    "dropoffs.info()"
   ]
  },
  {
   "cell_type": "code",
   "execution_count": 7,
   "metadata": {},
   "outputs": [],
   "source": [
    "dropoffs.sort_values(by=['average_trips'], ascending = False, inplace=True)"
   ]
  },
  {
   "cell_type": "code",
   "execution_count": 8,
   "metadata": {},
   "outputs": [
    {
     "data": {
      "text/html": [
       "<div>\n",
       "<style scoped>\n",
       "    .dataframe tbody tr th:only-of-type {\n",
       "        vertical-align: middle;\n",
       "    }\n",
       "\n",
       "    .dataframe tbody tr th {\n",
       "        vertical-align: top;\n",
       "    }\n",
       "\n",
       "    .dataframe thead th {\n",
       "        text-align: right;\n",
       "    }\n",
       "</style>\n",
       "<table border=\"1\" class=\"dataframe\">\n",
       "  <thead>\n",
       "    <tr style=\"text-align: right;\">\n",
       "      <th></th>\n",
       "      <th>dropoff_location_name</th>\n",
       "      <th>average_trips</th>\n",
       "    </tr>\n",
       "  </thead>\n",
       "  <tbody>\n",
       "    <tr>\n",
       "      <th>0</th>\n",
       "      <td>Loop</td>\n",
       "      <td>10727.466667</td>\n",
       "    </tr>\n",
       "    <tr>\n",
       "      <th>1</th>\n",
       "      <td>River North</td>\n",
       "      <td>9523.666667</td>\n",
       "    </tr>\n",
       "    <tr>\n",
       "      <th>2</th>\n",
       "      <td>Streeterville</td>\n",
       "      <td>6664.666667</td>\n",
       "    </tr>\n",
       "    <tr>\n",
       "      <th>3</th>\n",
       "      <td>West Loop</td>\n",
       "      <td>5163.666667</td>\n",
       "    </tr>\n",
       "    <tr>\n",
       "      <th>4</th>\n",
       "      <td>O'Hare</td>\n",
       "      <td>2546.900000</td>\n",
       "    </tr>\n",
       "    <tr>\n",
       "      <th>5</th>\n",
       "      <td>Lake View</td>\n",
       "      <td>2420.966667</td>\n",
       "    </tr>\n",
       "    <tr>\n",
       "      <th>6</th>\n",
       "      <td>Grant Park</td>\n",
       "      <td>2068.533333</td>\n",
       "    </tr>\n",
       "    <tr>\n",
       "      <th>7</th>\n",
       "      <td>Museum Campus</td>\n",
       "      <td>1510.000000</td>\n",
       "    </tr>\n",
       "    <tr>\n",
       "      <th>8</th>\n",
       "      <td>Gold Coast</td>\n",
       "      <td>1364.233333</td>\n",
       "    </tr>\n",
       "    <tr>\n",
       "      <th>9</th>\n",
       "      <td>Sheffield &amp; DePaul</td>\n",
       "      <td>1259.766667</td>\n",
       "    </tr>\n",
       "  </tbody>\n",
       "</table>\n",
       "</div>"
      ],
      "text/plain": [
       "  dropoff_location_name  average_trips\n",
       "0                  Loop   10727.466667\n",
       "1           River North    9523.666667\n",
       "2         Streeterville    6664.666667\n",
       "3             West Loop    5163.666667\n",
       "4                O'Hare    2546.900000\n",
       "5             Lake View    2420.966667\n",
       "6            Grant Park    2068.533333\n",
       "7         Museum Campus    1510.000000\n",
       "8            Gold Coast    1364.233333\n",
       "9    Sheffield & DePaul    1259.766667"
      ]
     },
     "execution_count": 8,
     "metadata": {},
     "output_type": "execute_result"
    }
   ],
   "source": [
    "dropoffs.head(10)"
   ]
  },
  {
   "cell_type": "markdown",
   "metadata": {},
   "source": [
    "The top 10 neighborhoods by number of dropoffs are as listed above."
   ]
  },
  {
   "cell_type": "code",
   "execution_count": 9,
   "metadata": {},
   "outputs": [
    {
     "data": {
      "text/plain": [
       "<AxesSubplot:>"
      ]
     },
     "execution_count": 9,
     "metadata": {},
     "output_type": "execute_result"
    },
    {
     "data": {
      "image/png": "[encoded data removed]",
      "text/plain": [
       "<Figure size 432x288 with 1 Axes>"
      ]
     },
     "metadata": {
      "needs_background": "light"
     },
     "output_type": "display_data"
    }
   ],
   "source": [
    "dropoffs.head(10).plot(kind = 'bar')"
   ]
  },
  {
   "cell_type": "markdown",
   "metadata": {},
   "source": [
    "An overwhelmingly large portion of users are traveling to Loop or River North. These two destinations account for more trips than the next 5 most traveled to destinations."
   ]
  },
  {
   "cell_type": "code",
   "execution_count": 10,
   "metadata": {},
   "outputs": [],
   "source": [
    "rides.sort_values(by=['trips_amount'], ascending=False, inplace=True)"
   ]
  },
  {
   "cell_type": "code",
   "execution_count": 11,
   "metadata": {},
   "outputs": [
    {
     "data": {
      "text/html": [
       "<div>\n",
       "<style scoped>\n",
       "    .dataframe tbody tr th:only-of-type {\n",
       "        vertical-align: middle;\n",
       "    }\n",
       "\n",
       "    .dataframe tbody tr th {\n",
       "        vertical-align: top;\n",
       "    }\n",
       "\n",
       "    .dataframe thead th {\n",
       "        text-align: right;\n",
       "    }\n",
       "</style>\n",
       "<table border=\"1\" class=\"dataframe\">\n",
       "  <thead>\n",
       "    <tr style=\"text-align: right;\">\n",
       "      <th></th>\n",
       "      <th>company_name</th>\n",
       "      <th>trips_amount</th>\n",
       "    </tr>\n",
       "  </thead>\n",
       "  <tbody>\n",
       "    <tr>\n",
       "      <th>0</th>\n",
       "      <td>Flash Cab</td>\n",
       "      <td>19558</td>\n",
       "    </tr>\n",
       "    <tr>\n",
       "      <th>1</th>\n",
       "      <td>Taxi Affiliation Services</td>\n",
       "      <td>11422</td>\n",
       "    </tr>\n",
       "    <tr>\n",
       "      <th>2</th>\n",
       "      <td>Medallion Leasing</td>\n",
       "      <td>10367</td>\n",
       "    </tr>\n",
       "    <tr>\n",
       "      <th>3</th>\n",
       "      <td>Yellow Cab</td>\n",
       "      <td>9888</td>\n",
       "    </tr>\n",
       "    <tr>\n",
       "      <th>4</th>\n",
       "      <td>Taxi Affiliation Service Yellow</td>\n",
       "      <td>9299</td>\n",
       "    </tr>\n",
       "    <tr>\n",
       "      <th>5</th>\n",
       "      <td>Chicago Carriage Cab Corp</td>\n",
       "      <td>9181</td>\n",
       "    </tr>\n",
       "    <tr>\n",
       "      <th>6</th>\n",
       "      <td>City Service</td>\n",
       "      <td>8448</td>\n",
       "    </tr>\n",
       "    <tr>\n",
       "      <th>7</th>\n",
       "      <td>Sun Taxi</td>\n",
       "      <td>7701</td>\n",
       "    </tr>\n",
       "    <tr>\n",
       "      <th>8</th>\n",
       "      <td>Star North Management LLC</td>\n",
       "      <td>7455</td>\n",
       "    </tr>\n",
       "    <tr>\n",
       "      <th>9</th>\n",
       "      <td>Blue Ribbon Taxi Association Inc.</td>\n",
       "      <td>5953</td>\n",
       "    </tr>\n",
       "    <tr>\n",
       "      <th>10</th>\n",
       "      <td>Choice Taxi Association</td>\n",
       "      <td>5015</td>\n",
       "    </tr>\n",
       "    <tr>\n",
       "      <th>11</th>\n",
       "      <td>Globe Taxi</td>\n",
       "      <td>4383</td>\n",
       "    </tr>\n",
       "    <tr>\n",
       "      <th>12</th>\n",
       "      <td>Dispatch Taxi Affiliation</td>\n",
       "      <td>3355</td>\n",
       "    </tr>\n",
       "    <tr>\n",
       "      <th>13</th>\n",
       "      <td>Nova Taxi Affiliation Llc</td>\n",
       "      <td>3175</td>\n",
       "    </tr>\n",
       "    <tr>\n",
       "      <th>14</th>\n",
       "      <td>Patriot Taxi Dba Peace Taxi Association</td>\n",
       "      <td>2235</td>\n",
       "    </tr>\n",
       "    <tr>\n",
       "      <th>15</th>\n",
       "      <td>Checker Taxi Affiliation</td>\n",
       "      <td>2216</td>\n",
       "    </tr>\n",
       "    <tr>\n",
       "      <th>16</th>\n",
       "      <td>Blue Diamond</td>\n",
       "      <td>2070</td>\n",
       "    </tr>\n",
       "    <tr>\n",
       "      <th>17</th>\n",
       "      <td>Chicago Medallion Management</td>\n",
       "      <td>1955</td>\n",
       "    </tr>\n",
       "    <tr>\n",
       "      <th>18</th>\n",
       "      <td>24 Seven Taxi</td>\n",
       "      <td>1775</td>\n",
       "    </tr>\n",
       "    <tr>\n",
       "      <th>19</th>\n",
       "      <td>Chicago Medallion Leasing INC</td>\n",
       "      <td>1607</td>\n",
       "    </tr>\n",
       "    <tr>\n",
       "      <th>20</th>\n",
       "      <td>Checker Taxi</td>\n",
       "      <td>1486</td>\n",
       "    </tr>\n",
       "    <tr>\n",
       "      <th>21</th>\n",
       "      <td>American United</td>\n",
       "      <td>1404</td>\n",
       "    </tr>\n",
       "    <tr>\n",
       "      <th>22</th>\n",
       "      <td>Chicago Independents</td>\n",
       "      <td>1296</td>\n",
       "    </tr>\n",
       "    <tr>\n",
       "      <th>23</th>\n",
       "      <td>KOAM Taxi Association</td>\n",
       "      <td>1259</td>\n",
       "    </tr>\n",
       "    <tr>\n",
       "      <th>24</th>\n",
       "      <td>Chicago Taxicab</td>\n",
       "      <td>1014</td>\n",
       "    </tr>\n",
       "    <tr>\n",
       "      <th>25</th>\n",
       "      <td>Top Cab Affiliation</td>\n",
       "      <td>978</td>\n",
       "    </tr>\n",
       "    <tr>\n",
       "      <th>26</th>\n",
       "      <td>Gold Coast Taxi</td>\n",
       "      <td>428</td>\n",
       "    </tr>\n",
       "    <tr>\n",
       "      <th>27</th>\n",
       "      <td>Service Taxi Association</td>\n",
       "      <td>402</td>\n",
       "    </tr>\n",
       "    <tr>\n",
       "      <th>28</th>\n",
       "      <td>5 Star Taxi</td>\n",
       "      <td>310</td>\n",
       "    </tr>\n",
       "    <tr>\n",
       "      <th>29</th>\n",
       "      <td>303 Taxi</td>\n",
       "      <td>250</td>\n",
       "    </tr>\n",
       "  </tbody>\n",
       "</table>\n",
       "</div>"
      ],
      "text/plain": [
       "                               company_name  trips_amount\n",
       "0                                 Flash Cab         19558\n",
       "1                 Taxi Affiliation Services         11422\n",
       "2                         Medallion Leasing         10367\n",
       "3                                Yellow Cab          9888\n",
       "4           Taxi Affiliation Service Yellow          9299\n",
       "5                 Chicago Carriage Cab Corp          9181\n",
       "6                              City Service          8448\n",
       "7                                  Sun Taxi          7701\n",
       "8                 Star North Management LLC          7455\n",
       "9         Blue Ribbon Taxi Association Inc.          5953\n",
       "10                  Choice Taxi Association          5015\n",
       "11                               Globe Taxi          4383\n",
       "12                Dispatch Taxi Affiliation          3355\n",
       "13                Nova Taxi Affiliation Llc          3175\n",
       "14  Patriot Taxi Dba Peace Taxi Association          2235\n",
       "15                 Checker Taxi Affiliation          2216\n",
       "16                             Blue Diamond          2070\n",
       "17             Chicago Medallion Management          1955\n",
       "18                            24 Seven Taxi          1775\n",
       "19            Chicago Medallion Leasing INC          1607\n",
       "20                             Checker Taxi          1486\n",
       "21                          American United          1404\n",
       "22                     Chicago Independents          1296\n",
       "23                    KOAM Taxi Association          1259\n",
       "24                          Chicago Taxicab          1014\n",
       "25                      Top Cab Affiliation           978\n",
       "26                          Gold Coast Taxi           428\n",
       "27                 Service Taxi Association           402\n",
       "28                              5 Star Taxi           310\n",
       "29                                 303 Taxi           250"
      ]
     },
     "execution_count": 11,
     "metadata": {},
     "output_type": "execute_result"
    }
   ],
   "source": [
    "rides.head(30)"
   ]
  },
  {
   "cell_type": "code",
   "execution_count": 12,
   "metadata": {
    "scrolled": true
   },
   "outputs": [
    {
     "data": {
      "text/plain": [
       "<AxesSubplot:>"
      ]
     },
     "execution_count": 12,
     "metadata": {},
     "output_type": "execute_result"
    },
    {
     "data": {
      "image/png": "[encoded data removed]",
      "text/plain": [
       "<Figure size 432x288 with 1 Axes>"
      ]
     },
     "metadata": {
      "needs_background": "light"
     },
     "output_type": "display_data"
    }
   ],
   "source": [
    "rides.plot(kind = 'bar')"
   ]
  },
  {
   "cell_type": "markdown",
   "metadata": {},
   "source": [
    "This graph shows that Flash Cab has the most trips by far. They have 71% more rides than the 2nd most used taxi service, Taxi Affiliation Services. After this dropoff, the subsequent taxi services decrease gradually in dropoffs."
   ]
  },
  {
   "cell_type": "code",
   "execution_count": 13,
   "metadata": {},
   "outputs": [],
   "source": [
    "weather = pd.read_csv('/datasets/project_sql_result_07.csv')"
   ]
  },
  {
   "cell_type": "code",
   "execution_count": 14,
   "metadata": {},
   "outputs": [
    {
     "name": "stdout",
     "output_type": "stream",
     "text": [
      "<class 'pandas.core.frame.DataFrame'>\n",
      "RangeIndex: 1068 entries, 0 to 1067\n",
      "Data columns (total 3 columns):\n",
      " #   Column              Non-Null Count  Dtype  \n",
      "---  ------              --------------  -----  \n",
      " 0   start_ts            1068 non-null   object \n",
      " 1   weather_conditions  1068 non-null   object \n",
      " 2   duration_seconds    1068 non-null   float64\n",
      "dtypes: float64(1), object(2)\n",
      "memory usage: 25.2+ KB\n"
     ]
    }
   ],
   "source": [
    "weather.info()"
   ]
  },
  {
   "cell_type": "code",
   "execution_count": 15,
   "metadata": {},
   "outputs": [],
   "source": [
    "weather['start_ts'] = pd.to_datetime(weather['start_ts'], format= '%Y-%m-%d %H:%M:%S')"
   ]
  },
  {
   "cell_type": "code",
   "execution_count": 16,
   "metadata": {},
   "outputs": [],
   "source": [
    "weather['day'] = pd.to_datetime(weather.start_ts).dt.dayofweek"
   ]
  },
  {
   "cell_type": "code",
   "execution_count": 17,
   "metadata": {},
   "outputs": [
    {
     "data": {
      "text/html": [
       "<div>\n",
       "<style scoped>\n",
       "    .dataframe tbody tr th:only-of-type {\n",
       "        vertical-align: middle;\n",
       "    }\n",
       "\n",
       "    .dataframe tbody tr th {\n",
       "        vertical-align: top;\n",
       "    }\n",
       "\n",
       "    .dataframe thead th {\n",
       "        text-align: right;\n",
       "    }\n",
       "</style>\n",
       "<table border=\"1\" class=\"dataframe\">\n",
       "  <thead>\n",
       "    <tr style=\"text-align: right;\">\n",
       "      <th></th>\n",
       "      <th>start_ts</th>\n",
       "      <th>weather_conditions</th>\n",
       "      <th>duration_seconds</th>\n",
       "      <th>day</th>\n",
       "    </tr>\n",
       "  </thead>\n",
       "  <tbody>\n",
       "    <tr>\n",
       "      <th>0</th>\n",
       "      <td>2017-11-25 16:00:00</td>\n",
       "      <td>Good</td>\n",
       "      <td>2410.0</td>\n",
       "      <td>5</td>\n",
       "    </tr>\n",
       "    <tr>\n",
       "      <th>1</th>\n",
       "      <td>2017-11-25 14:00:00</td>\n",
       "      <td>Good</td>\n",
       "      <td>1920.0</td>\n",
       "      <td>5</td>\n",
       "    </tr>\n",
       "    <tr>\n",
       "      <th>2</th>\n",
       "      <td>2017-11-25 12:00:00</td>\n",
       "      <td>Good</td>\n",
       "      <td>1543.0</td>\n",
       "      <td>5</td>\n",
       "    </tr>\n",
       "    <tr>\n",
       "      <th>3</th>\n",
       "      <td>2017-11-04 10:00:00</td>\n",
       "      <td>Good</td>\n",
       "      <td>2512.0</td>\n",
       "      <td>5</td>\n",
       "    </tr>\n",
       "    <tr>\n",
       "      <th>4</th>\n",
       "      <td>2017-11-11 07:00:00</td>\n",
       "      <td>Good</td>\n",
       "      <td>1440.0</td>\n",
       "      <td>5</td>\n",
       "    </tr>\n",
       "    <tr>\n",
       "      <th>...</th>\n",
       "      <td>...</td>\n",
       "      <td>...</td>\n",
       "      <td>...</td>\n",
       "      <td>...</td>\n",
       "    </tr>\n",
       "    <tr>\n",
       "      <th>1063</th>\n",
       "      <td>2017-11-25 11:00:00</td>\n",
       "      <td>Good</td>\n",
       "      <td>0.0</td>\n",
       "      <td>5</td>\n",
       "    </tr>\n",
       "    <tr>\n",
       "      <th>1064</th>\n",
       "      <td>2017-11-11 10:00:00</td>\n",
       "      <td>Good</td>\n",
       "      <td>1318.0</td>\n",
       "      <td>5</td>\n",
       "    </tr>\n",
       "    <tr>\n",
       "      <th>1065</th>\n",
       "      <td>2017-11-11 13:00:00</td>\n",
       "      <td>Good</td>\n",
       "      <td>2100.0</td>\n",
       "      <td>5</td>\n",
       "    </tr>\n",
       "    <tr>\n",
       "      <th>1066</th>\n",
       "      <td>2017-11-11 08:00:00</td>\n",
       "      <td>Good</td>\n",
       "      <td>1380.0</td>\n",
       "      <td>5</td>\n",
       "    </tr>\n",
       "    <tr>\n",
       "      <th>1067</th>\n",
       "      <td>2017-11-04 16:00:00</td>\n",
       "      <td>Bad</td>\n",
       "      <td>2834.0</td>\n",
       "      <td>5</td>\n",
       "    </tr>\n",
       "  </tbody>\n",
       "</table>\n",
       "<p>1068 rows × 4 columns</p>\n",
       "</div>"
      ],
      "text/plain": [
       "                start_ts weather_conditions  duration_seconds  day\n",
       "0    2017-11-25 16:00:00               Good            2410.0    5\n",
       "1    2017-11-25 14:00:00               Good            1920.0    5\n",
       "2    2017-11-25 12:00:00               Good            1543.0    5\n",
       "3    2017-11-04 10:00:00               Good            2512.0    5\n",
       "4    2017-11-11 07:00:00               Good            1440.0    5\n",
       "...                  ...                ...               ...  ...\n",
       "1063 2017-11-25 11:00:00               Good               0.0    5\n",
       "1064 2017-11-11 10:00:00               Good            1318.0    5\n",
       "1065 2017-11-11 13:00:00               Good            2100.0    5\n",
       "1066 2017-11-11 08:00:00               Good            1380.0    5\n",
       "1067 2017-11-04 16:00:00                Bad            2834.0    5\n",
       "\n",
       "[1068 rows x 4 columns]"
      ]
     },
     "execution_count": 17,
     "metadata": {},
     "output_type": "execute_result"
    }
   ],
   "source": [
    "weather"
   ]
  },
  {
   "cell_type": "code",
   "execution_count": 18,
   "metadata": {},
   "outputs": [
    {
     "data": {
      "text/html": [
       "<div>\n",
       "<style scoped>\n",
       "    .dataframe tbody tr th:only-of-type {\n",
       "        vertical-align: middle;\n",
       "    }\n",
       "\n",
       "    .dataframe tbody tr th {\n",
       "        vertical-align: top;\n",
       "    }\n",
       "\n",
       "    .dataframe thead th {\n",
       "        text-align: right;\n",
       "    }\n",
       "</style>\n",
       "<table border=\"1\" class=\"dataframe\">\n",
       "  <thead>\n",
       "    <tr style=\"text-align: right;\">\n",
       "      <th></th>\n",
       "      <th>start_ts</th>\n",
       "      <th>weather_conditions</th>\n",
       "      <th>duration_seconds</th>\n",
       "      <th>day</th>\n",
       "    </tr>\n",
       "  </thead>\n",
       "  <tbody>\n",
       "    <tr>\n",
       "      <th>0</th>\n",
       "      <td>2017-11-25 16:00:00</td>\n",
       "      <td>Good</td>\n",
       "      <td>2410.0</td>\n",
       "      <td>5</td>\n",
       "    </tr>\n",
       "    <tr>\n",
       "      <th>1</th>\n",
       "      <td>2017-11-25 14:00:00</td>\n",
       "      <td>Good</td>\n",
       "      <td>1920.0</td>\n",
       "      <td>5</td>\n",
       "    </tr>\n",
       "    <tr>\n",
       "      <th>2</th>\n",
       "      <td>2017-11-25 12:00:00</td>\n",
       "      <td>Good</td>\n",
       "      <td>1543.0</td>\n",
       "      <td>5</td>\n",
       "    </tr>\n",
       "    <tr>\n",
       "      <th>3</th>\n",
       "      <td>2017-11-04 10:00:00</td>\n",
       "      <td>Good</td>\n",
       "      <td>2512.0</td>\n",
       "      <td>5</td>\n",
       "    </tr>\n",
       "    <tr>\n",
       "      <th>4</th>\n",
       "      <td>2017-11-11 07:00:00</td>\n",
       "      <td>Good</td>\n",
       "      <td>1440.0</td>\n",
       "      <td>5</td>\n",
       "    </tr>\n",
       "    <tr>\n",
       "      <th>...</th>\n",
       "      <td>...</td>\n",
       "      <td>...</td>\n",
       "      <td>...</td>\n",
       "      <td>...</td>\n",
       "    </tr>\n",
       "    <tr>\n",
       "      <th>1062</th>\n",
       "      <td>2017-11-11 06:00:00</td>\n",
       "      <td>Good</td>\n",
       "      <td>1500.0</td>\n",
       "      <td>5</td>\n",
       "    </tr>\n",
       "    <tr>\n",
       "      <th>1063</th>\n",
       "      <td>2017-11-25 11:00:00</td>\n",
       "      <td>Good</td>\n",
       "      <td>0.0</td>\n",
       "      <td>5</td>\n",
       "    </tr>\n",
       "    <tr>\n",
       "      <th>1064</th>\n",
       "      <td>2017-11-11 10:00:00</td>\n",
       "      <td>Good</td>\n",
       "      <td>1318.0</td>\n",
       "      <td>5</td>\n",
       "    </tr>\n",
       "    <tr>\n",
       "      <th>1065</th>\n",
       "      <td>2017-11-11 13:00:00</td>\n",
       "      <td>Good</td>\n",
       "      <td>2100.0</td>\n",
       "      <td>5</td>\n",
       "    </tr>\n",
       "    <tr>\n",
       "      <th>1066</th>\n",
       "      <td>2017-11-11 08:00:00</td>\n",
       "      <td>Good</td>\n",
       "      <td>1380.0</td>\n",
       "      <td>5</td>\n",
       "    </tr>\n",
       "  </tbody>\n",
       "</table>\n",
       "<p>888 rows × 4 columns</p>\n",
       "</div>"
      ],
      "text/plain": [
       "                start_ts weather_conditions  duration_seconds  day\n",
       "0    2017-11-25 16:00:00               Good            2410.0    5\n",
       "1    2017-11-25 14:00:00               Good            1920.0    5\n",
       "2    2017-11-25 12:00:00               Good            1543.0    5\n",
       "3    2017-11-04 10:00:00               Good            2512.0    5\n",
       "4    2017-11-11 07:00:00               Good            1440.0    5\n",
       "...                  ...                ...               ...  ...\n",
       "1062 2017-11-11 06:00:00               Good            1500.0    5\n",
       "1063 2017-11-25 11:00:00               Good               0.0    5\n",
       "1064 2017-11-11 10:00:00               Good            1318.0    5\n",
       "1065 2017-11-11 13:00:00               Good            2100.0    5\n",
       "1066 2017-11-11 08:00:00               Good            1380.0    5\n",
       "\n",
       "[888 rows x 4 columns]"
      ]
     },
     "execution_count": 18,
     "metadata": {},
     "output_type": "execute_result"
    }
   ],
   "source": [
    "weather_good = weather.query('weather_conditions == \"Good\"')\n",
    "weather_good_sat = weather_good.query('day == 5')\n",
    "weather_good_sat"
   ]
  },
  {
   "cell_type": "code",
   "execution_count": 19,
   "metadata": {},
   "outputs": [
    {
     "data": {
      "text/html": [
       "<div>\n",
       "<style scoped>\n",
       "    .dataframe tbody tr th:only-of-type {\n",
       "        vertical-align: middle;\n",
       "    }\n",
       "\n",
       "    .dataframe tbody tr th {\n",
       "        vertical-align: top;\n",
       "    }\n",
       "\n",
       "    .dataframe thead th {\n",
       "        text-align: right;\n",
       "    }\n",
       "</style>\n",
       "<table border=\"1\" class=\"dataframe\">\n",
       "  <thead>\n",
       "    <tr style=\"text-align: right;\">\n",
       "      <th></th>\n",
       "      <th>start_ts</th>\n",
       "      <th>weather_conditions</th>\n",
       "      <th>duration_seconds</th>\n",
       "      <th>day</th>\n",
       "    </tr>\n",
       "  </thead>\n",
       "  <tbody>\n",
       "    <tr>\n",
       "      <th>6</th>\n",
       "      <td>2017-11-04 16:00:00</td>\n",
       "      <td>Bad</td>\n",
       "      <td>2969.0</td>\n",
       "      <td>5</td>\n",
       "    </tr>\n",
       "    <tr>\n",
       "      <th>30</th>\n",
       "      <td>2017-11-18 12:00:00</td>\n",
       "      <td>Bad</td>\n",
       "      <td>1980.0</td>\n",
       "      <td>5</td>\n",
       "    </tr>\n",
       "    <tr>\n",
       "      <th>34</th>\n",
       "      <td>2017-11-04 17:00:00</td>\n",
       "      <td>Bad</td>\n",
       "      <td>2460.0</td>\n",
       "      <td>5</td>\n",
       "    </tr>\n",
       "    <tr>\n",
       "      <th>51</th>\n",
       "      <td>2017-11-04 16:00:00</td>\n",
       "      <td>Bad</td>\n",
       "      <td>2760.0</td>\n",
       "      <td>5</td>\n",
       "    </tr>\n",
       "    <tr>\n",
       "      <th>52</th>\n",
       "      <td>2017-11-18 12:00:00</td>\n",
       "      <td>Bad</td>\n",
       "      <td>2460.0</td>\n",
       "      <td>5</td>\n",
       "    </tr>\n",
       "    <tr>\n",
       "      <th>...</th>\n",
       "      <td>...</td>\n",
       "      <td>...</td>\n",
       "      <td>...</td>\n",
       "      <td>...</td>\n",
       "    </tr>\n",
       "    <tr>\n",
       "      <th>1031</th>\n",
       "      <td>2017-11-18 12:00:00</td>\n",
       "      <td>Bad</td>\n",
       "      <td>2560.0</td>\n",
       "      <td>5</td>\n",
       "    </tr>\n",
       "    <tr>\n",
       "      <th>1032</th>\n",
       "      <td>2017-11-18 10:00:00</td>\n",
       "      <td>Bad</td>\n",
       "      <td>1908.0</td>\n",
       "      <td>5</td>\n",
       "    </tr>\n",
       "    <tr>\n",
       "      <th>1053</th>\n",
       "      <td>2017-11-18 12:00:00</td>\n",
       "      <td>Bad</td>\n",
       "      <td>2400.0</td>\n",
       "      <td>5</td>\n",
       "    </tr>\n",
       "    <tr>\n",
       "      <th>1061</th>\n",
       "      <td>2017-11-18 16:00:00</td>\n",
       "      <td>Bad</td>\n",
       "      <td>2186.0</td>\n",
       "      <td>5</td>\n",
       "    </tr>\n",
       "    <tr>\n",
       "      <th>1067</th>\n",
       "      <td>2017-11-04 16:00:00</td>\n",
       "      <td>Bad</td>\n",
       "      <td>2834.0</td>\n",
       "      <td>5</td>\n",
       "    </tr>\n",
       "  </tbody>\n",
       "</table>\n",
       "<p>180 rows × 4 columns</p>\n",
       "</div>"
      ],
      "text/plain": [
       "                start_ts weather_conditions  duration_seconds  day\n",
       "6    2017-11-04 16:00:00                Bad            2969.0    5\n",
       "30   2017-11-18 12:00:00                Bad            1980.0    5\n",
       "34   2017-11-04 17:00:00                Bad            2460.0    5\n",
       "51   2017-11-04 16:00:00                Bad            2760.0    5\n",
       "52   2017-11-18 12:00:00                Bad            2460.0    5\n",
       "...                  ...                ...               ...  ...\n",
       "1031 2017-11-18 12:00:00                Bad            2560.0    5\n",
       "1032 2017-11-18 10:00:00                Bad            1908.0    5\n",
       "1053 2017-11-18 12:00:00                Bad            2400.0    5\n",
       "1061 2017-11-18 16:00:00                Bad            2186.0    5\n",
       "1067 2017-11-04 16:00:00                Bad            2834.0    5\n",
       "\n",
       "[180 rows x 4 columns]"
      ]
     },
     "execution_count": 19,
     "metadata": {},
     "output_type": "execute_result"
    }
   ],
   "source": [
    "weather_bad = weather.query('weather_conditions == \"Bad\"')\n",
    "weather_bad_sat = weather_bad.query('day == 5')\n",
    "weather_bad_sat"
   ]
  },
  {
   "cell_type": "markdown",
   "metadata": {},
   "source": [
    "Null hypothesis = average duration of rides from the Loop to OHare International Airport does not change on rainy Saturdays.\n",
    "\n",
    "Alternative hypothesis =  average duration of rides from the Loop to OHare International Airport changes on rainy Saturdays."
   ]
  },
  {
   "cell_type": "code",
   "execution_count": 20,
   "metadata": {},
   "outputs": [
    {
     "name": "stdout",
     "output_type": "stream",
     "text": [
      "p-value:  6.517970327099473e-12\n",
      "We reject the null hypothesis\n"
     ]
    }
   ],
   "source": [
    "sample_good = weather_good_sat['duration_seconds']\n",
    "sample_bad = weather_bad_sat['duration_seconds']\n",
    "\n",
    "alpha = 0.05\n",
    "results = st.ttest_ind(sample_good, sample_bad)\n",
    "\n",
    "print('p-value: ', results.pvalue)\n",
    "\n",
    "if results.pvalue < alpha:\n",
    "    print(\"We reject the null hypothesis\")\n",
    "else:\n",
    "    print(\"We can't reject the null hypothesis\")"
   ]
  },
  {
   "cell_type": "markdown",
   "metadata": {},
   "source": [
    "The null and alternative hypotheses were determined by usual convention. The null hypothesis indicated that both sets of values are similar while the alternative hypothesis showed that both sets of data are different.\n",
    "\n",
    "This hypothesis was tested by splitting the table that was created in the last query into two: one for good weather and the other for bad weather. The ride durations for each data set were then compared against each other. \n",
    "\n",
    "The result was overwhelmingly in favor of rejecting the null hypothesis. This indicates that there is a significant difference in the average trip time from Loop to OHare International Airport on rainy Saturdays."
   ]
  },
  {
   "cell_type": "markdown",
   "metadata": {},
   "source": [
    "Conclusion\n",
    "\n",
    "Our biggest competitor is Flash Cab. Taxi Afilliation Services, Medallion Leasing, and Yellow Cab also complete a significant number of trips. The areas that Zuber should keep the most cars are Loop, River North, Streeterville, and West Loop. \n",
    "\n",
    "Additionally, trip times were analyzed and the length of trips on rainy Saturdays are considerably longer than on Saturdays with good weather. This indicates that Zuber should deploy additional drivers on rainy Saturdays in order to offset the longer trip time."
   ]
  },
  {
   "cell_type": "code",
   "execution_count": null,
   "metadata": {},
   "outputs": [],
   "source": []
  }
 ],
 "metadata": {
  "ExecuteTimeLog": [
   {
    "duration": 387,
    "start_time": "2022-06-15T17:55:41.781Z"
   },
   {
    "duration": 106,
    "start_time": "2022-06-15T18:33:02.348Z"
   },
   {
    "duration": 14,
    "start_time": "2022-06-15T18:33:13.747Z"
   },
   {
    "duration": 11,
    "start_time": "2022-06-15T18:33:25.877Z"
   },
   {
    "duration": 7,
    "start_time": "2022-06-15T18:34:49.457Z"
   },
   {
    "duration": 10,
    "start_time": "2022-06-15T18:35:04.000Z"
   },
   {
    "duration": 58,
    "start_time": "2022-06-15T18:42:06.492Z"
   },
   {
    "duration": 9,
    "start_time": "2022-06-15T18:42:26.711Z"
   },
   {
    "duration": 10,
    "start_time": "2022-06-15T18:44:22.314Z"
   },
   {
    "duration": 9,
    "start_time": "2022-06-15T18:44:47.705Z"
   },
   {
    "duration": 9,
    "start_time": "2022-06-15T18:45:11.573Z"
   },
   {
    "duration": 3,
    "start_time": "2022-06-15T18:45:35.090Z"
   },
   {
    "duration": 8,
    "start_time": "2022-06-15T18:45:47.667Z"
   },
   {
    "duration": 1094,
    "start_time": "2022-06-15T18:53:28.985Z"
   },
   {
    "duration": 827,
    "start_time": "2022-06-15T18:54:01.602Z"
   },
   {
    "duration": 3,
    "start_time": "2022-06-15T18:57:27.226Z"
   },
   {
    "duration": 8,
    "start_time": "2022-06-15T18:57:42.458Z"
   },
   {
    "duration": 6,
    "start_time": "2022-06-15T18:58:02.163Z"
   },
   {
    "duration": 7,
    "start_time": "2022-06-15T19:45:13.004Z"
   },
   {
    "duration": 8,
    "start_time": "2022-06-15T19:45:38.020Z"
   },
   {
    "duration": 1059,
    "start_time": "2022-06-15T19:47:00.642Z"
   },
   {
    "duration": 1110,
    "start_time": "2022-06-15T19:53:11.778Z"
   },
   {
    "duration": 135,
    "start_time": "2022-06-15T19:53:54.745Z"
   },
   {
    "duration": 139,
    "start_time": "2022-06-15T19:54:23.269Z"
   },
   {
    "duration": 68,
    "start_time": "2022-06-15T20:17:30.962Z"
   },
   {
    "duration": 10,
    "start_time": "2022-06-15T20:17:33.805Z"
   },
   {
    "duration": 43,
    "start_time": "2022-06-16T02:14:21.876Z"
   },
   {
    "duration": 419,
    "start_time": "2022-06-16T02:14:30.406Z"
   },
   {
    "duration": 122,
    "start_time": "2022-06-16T02:14:30.827Z"
   },
   {
    "duration": 13,
    "start_time": "2022-06-16T02:14:30.950Z"
   },
   {
    "duration": 12,
    "start_time": "2022-06-16T02:14:30.965Z"
   },
   {
    "duration": 10,
    "start_time": "2022-06-16T02:14:30.980Z"
   },
   {
    "duration": 13,
    "start_time": "2022-06-16T02:14:30.991Z"
   },
   {
    "duration": 13,
    "start_time": "2022-06-16T02:14:31.006Z"
   },
   {
    "duration": 22,
    "start_time": "2022-06-16T02:14:31.021Z"
   },
   {
    "duration": 475,
    "start_time": "2022-06-16T02:14:31.044Z"
   },
   {
    "duration": 7,
    "start_time": "2022-06-16T02:14:31.521Z"
   },
   {
    "duration": 20,
    "start_time": "2022-06-16T02:14:31.529Z"
   },
   {
    "duration": 778,
    "start_time": "2022-06-16T02:14:31.550Z"
   },
   {
    "duration": 86,
    "start_time": "2022-06-16T02:14:32.330Z"
   },
   {
    "duration": 11,
    "start_time": "2022-06-16T02:14:32.419Z"
   },
   {
    "duration": 54,
    "start_time": "2022-06-16T02:16:45.058Z"
   },
   {
    "duration": 14,
    "start_time": "2022-06-16T02:16:51.870Z"
   },
   {
    "duration": 5,
    "start_time": "2022-06-16T02:18:34.720Z"
   },
   {
    "duration": 60,
    "start_time": "2022-06-16T02:18:42.786Z"
   },
   {
    "duration": 12,
    "start_time": "2022-06-16T02:19:15.185Z"
   },
   {
    "duration": 415,
    "start_time": "2022-06-16T02:23:58.103Z"
   },
   {
    "duration": 46,
    "start_time": "2022-06-16T02:23:58.520Z"
   },
   {
    "duration": 6,
    "start_time": "2022-06-16T02:23:58.567Z"
   },
   {
    "duration": 17,
    "start_time": "2022-06-16T02:23:58.575Z"
   },
   {
    "duration": 8,
    "start_time": "2022-06-16T02:23:58.595Z"
   },
   {
    "duration": 13,
    "start_time": "2022-06-16T02:23:58.604Z"
   },
   {
    "duration": 6,
    "start_time": "2022-06-16T02:23:58.618Z"
   },
   {
    "duration": 21,
    "start_time": "2022-06-16T02:23:58.625Z"
   },
   {
    "duration": 136,
    "start_time": "2022-06-16T02:23:58.648Z"
   },
   {
    "duration": 3,
    "start_time": "2022-06-16T02:23:58.786Z"
   },
   {
    "duration": 12,
    "start_time": "2022-06-16T02:23:58.790Z"
   },
   {
    "duration": 814,
    "start_time": "2022-06-16T02:23:58.804Z"
   },
   {
    "duration": 47,
    "start_time": "2022-06-16T02:23:59.620Z"
   },
   {
    "duration": 9,
    "start_time": "2022-06-16T02:23:59.670Z"
   },
   {
    "duration": 16,
    "start_time": "2022-06-16T02:23:59.681Z"
   },
   {
    "duration": 14,
    "start_time": "2022-06-16T02:23:59.698Z"
   },
   {
    "duration": 7,
    "start_time": "2022-06-16T02:23:59.713Z"
   },
   {
    "duration": 22,
    "start_time": "2022-06-16T02:48:29.691Z"
   },
   {
    "duration": 12,
    "start_time": "2022-06-16T02:50:23.497Z"
   },
   {
    "duration": 58,
    "start_time": "2022-06-16T02:51:19.596Z"
   },
   {
    "duration": 10,
    "start_time": "2022-06-16T02:51:41.434Z"
   },
   {
    "duration": 11,
    "start_time": "2022-06-16T02:54:49.849Z"
   },
   {
    "duration": 7,
    "start_time": "2022-06-16T02:59:39.130Z"
   },
   {
    "duration": 14,
    "start_time": "2022-06-16T02:59:53.747Z"
   },
   {
    "duration": 28,
    "start_time": "2022-06-16T03:00:08.785Z"
   },
   {
    "duration": 12,
    "start_time": "2022-06-16T03:00:17.284Z"
   },
   {
    "duration": 6,
    "start_time": "2022-06-16T03:04:42.576Z"
   },
   {
    "duration": 12,
    "start_time": "2022-06-16T03:04:54.545Z"
   },
   {
    "duration": 8,
    "start_time": "2022-06-16T03:05:24.909Z"
   },
   {
    "duration": 20,
    "start_time": "2022-06-16T03:05:34.395Z"
   },
   {
    "duration": 22,
    "start_time": "2022-06-16T03:06:07.004Z"
   },
   {
    "duration": 5,
    "start_time": "2022-06-16T03:06:29.565Z"
   },
   {
    "duration": 879,
    "start_time": "2022-06-16T05:39:07.900Z"
   },
   {
    "duration": 186,
    "start_time": "2022-06-16T05:39:08.781Z"
   },
   {
    "duration": 18,
    "start_time": "2022-06-16T05:39:08.970Z"
   },
   {
    "duration": 13,
    "start_time": "2022-06-16T05:39:08.990Z"
   },
   {
    "duration": 17,
    "start_time": "2022-06-16T05:39:09.006Z"
   },
   {
    "duration": 27,
    "start_time": "2022-06-16T05:39:09.025Z"
   },
   {
    "duration": 34,
    "start_time": "2022-06-16T05:39:09.058Z"
   },
   {
    "duration": 17,
    "start_time": "2022-06-16T05:39:09.094Z"
   },
   {
    "duration": 692,
    "start_time": "2022-06-16T05:39:09.113Z"
   },
   {
    "duration": 6,
    "start_time": "2022-06-16T05:39:09.807Z"
   },
   {
    "duration": 59,
    "start_time": "2022-06-16T05:39:09.815Z"
   },
   {
    "duration": 997,
    "start_time": "2022-06-16T05:39:09.876Z"
   },
   {
    "duration": 103,
    "start_time": "2022-06-16T05:39:10.878Z"
   },
   {
    "duration": 11,
    "start_time": "2022-06-16T05:39:10.984Z"
   },
   {
    "duration": 9,
    "start_time": "2022-06-16T05:39:10.997Z"
   },
   {
    "duration": 9,
    "start_time": "2022-06-16T05:39:11.008Z"
   },
   {
    "duration": 31,
    "start_time": "2022-06-16T05:39:11.019Z"
   },
   {
    "duration": 42,
    "start_time": "2022-06-16T05:39:11.052Z"
   },
   {
    "duration": 17,
    "start_time": "2022-06-16T05:39:11.095Z"
   },
   {
    "duration": 7,
    "start_time": "2022-06-16T05:39:11.114Z"
   }
  ],
  "kernelspec": {
   "display_name": "Python 3 (ipykernel)",
   "language": "python",
   "name": "python3"
  },
  "language_info": {
   "codemirror_mode": {
    "name": "ipython",
    "version": 3
   },
   "file_extension": ".py",
   "mimetype": "text/x-python",
   "name": "python",
   "nbconvert_exporter": "python",
   "pygments_lexer": "ipython3",
   "version": "3.9.5"
  },
  "toc": {
   "base_numbering": 1,
   "nav_menu": {},
   "number_sections": true,
   "sideBar": true,
   "skip_h1_title": true,
   "title_cell": "Table of Contents",
   "title_sidebar": "Contents",
   "toc_cell": false,
   "toc_position": {},
   "toc_section_display": true,
   "toc_window_display": false
  }
 },
 "nbformat": 4,
 "nbformat_minor": 2
}
