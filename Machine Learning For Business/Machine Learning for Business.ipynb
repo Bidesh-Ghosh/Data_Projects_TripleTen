{
 "cells": [
  {
   "cell_type": "markdown",
   "metadata": {},
   "source": [
    "The purpose of this report is to determine the best region to develop oil wells with the most profit. We have access to data from 3 different regions. Throughout this report we will use a linear regression model to determine which zone will provide the greatest profit and have the least risk of losses."
   ]
  },
  {
   "cell_type": "code",
   "execution_count": 1,
   "metadata": {},
   "outputs": [],
   "source": [
    "import pandas as pd\n",
    "from sklearn.linear_model import LinearRegression\n",
    "from sklearn.model_selection import train_test_split\n",
    "from sklearn.metrics import mean_squared_error\n",
    "from sklearn.preprocessing import StandardScaler\n",
    "import numpy as np\n",
    "from scipy import stats as st"
   ]
  },
  {
   "cell_type": "code",
   "execution_count": 2,
   "metadata": {},
   "outputs": [],
   "source": [
    "df_0 = pd.read_csv('/datasets/geo_data_0.csv')\n",
    "df_1 = pd.read_csv('/datasets/geo_data_1.csv')\n",
    "df_2 = pd.read_csv('/datasets/geo_data_2.csv')"
   ]
  },
  {
   "cell_type": "code",
   "execution_count": 3,
   "metadata": {},
   "outputs": [
    {
     "data": {
      "text/html": [
       "<div>\n",
       "<style scoped>\n",
       "    .dataframe tbody tr th:only-of-type {\n",
       "        vertical-align: middle;\n",
       "    }\n",
       "\n",
       "    .dataframe tbody tr th {\n",
       "        vertical-align: top;\n",
       "    }\n",
       "\n",
       "    .dataframe thead th {\n",
       "        text-align: right;\n",
       "    }\n",
       "</style>\n",
       "<table border=\"1\" class=\"dataframe\">\n",
       "  <thead>\n",
       "    <tr style=\"text-align: right;\">\n",
       "      <th></th>\n",
       "      <th>id</th>\n",
       "      <th>f0</th>\n",
       "      <th>f1</th>\n",
       "      <th>f2</th>\n",
       "      <th>product</th>\n",
       "    </tr>\n",
       "  </thead>\n",
       "  <tbody>\n",
       "    <tr>\n",
       "      <th>0</th>\n",
       "      <td>txEyH</td>\n",
       "      <td>0.705745</td>\n",
       "      <td>-0.497823</td>\n",
       "      <td>1.221170</td>\n",
       "      <td>105.280062</td>\n",
       "    </tr>\n",
       "    <tr>\n",
       "      <th>1</th>\n",
       "      <td>2acmU</td>\n",
       "      <td>1.334711</td>\n",
       "      <td>-0.340164</td>\n",
       "      <td>4.365080</td>\n",
       "      <td>73.037750</td>\n",
       "    </tr>\n",
       "    <tr>\n",
       "      <th>2</th>\n",
       "      <td>409Wp</td>\n",
       "      <td>1.022732</td>\n",
       "      <td>0.151990</td>\n",
       "      <td>1.419926</td>\n",
       "      <td>85.265647</td>\n",
       "    </tr>\n",
       "    <tr>\n",
       "      <th>3</th>\n",
       "      <td>iJLyR</td>\n",
       "      <td>-0.032172</td>\n",
       "      <td>0.139033</td>\n",
       "      <td>2.978566</td>\n",
       "      <td>168.620776</td>\n",
       "    </tr>\n",
       "    <tr>\n",
       "      <th>4</th>\n",
       "      <td>Xdl7t</td>\n",
       "      <td>1.988431</td>\n",
       "      <td>0.155413</td>\n",
       "      <td>4.751769</td>\n",
       "      <td>154.036647</td>\n",
       "    </tr>\n",
       "  </tbody>\n",
       "</table>\n",
       "</div>"
      ],
      "text/plain": [
       "      id        f0        f1        f2     product\n",
       "0  txEyH  0.705745 -0.497823  1.221170  105.280062\n",
       "1  2acmU  1.334711 -0.340164  4.365080   73.037750\n",
       "2  409Wp  1.022732  0.151990  1.419926   85.265647\n",
       "3  iJLyR -0.032172  0.139033  2.978566  168.620776\n",
       "4  Xdl7t  1.988431  0.155413  4.751769  154.036647"
      ]
     },
     "execution_count": 3,
     "metadata": {},
     "output_type": "execute_result"
    }
   ],
   "source": [
    "df_0.head()"
   ]
  },
  {
   "cell_type": "code",
   "execution_count": 4,
   "metadata": {},
   "outputs": [
    {
     "data": {
      "text/html": [
       "<div>\n",
       "<style scoped>\n",
       "    .dataframe tbody tr th:only-of-type {\n",
       "        vertical-align: middle;\n",
       "    }\n",
       "\n",
       "    .dataframe tbody tr th {\n",
       "        vertical-align: top;\n",
       "    }\n",
       "\n",
       "    .dataframe thead th {\n",
       "        text-align: right;\n",
       "    }\n",
       "</style>\n",
       "<table border=\"1\" class=\"dataframe\">\n",
       "  <thead>\n",
       "    <tr style=\"text-align: right;\">\n",
       "      <th></th>\n",
       "      <th>id</th>\n",
       "      <th>f0</th>\n",
       "      <th>f1</th>\n",
       "      <th>f2</th>\n",
       "      <th>product</th>\n",
       "    </tr>\n",
       "  </thead>\n",
       "  <tbody>\n",
       "    <tr>\n",
       "      <th>0</th>\n",
       "      <td>kBEdx</td>\n",
       "      <td>-15.001348</td>\n",
       "      <td>-8.276000</td>\n",
       "      <td>-0.005876</td>\n",
       "      <td>3.179103</td>\n",
       "    </tr>\n",
       "    <tr>\n",
       "      <th>1</th>\n",
       "      <td>62mP7</td>\n",
       "      <td>14.272088</td>\n",
       "      <td>-3.475083</td>\n",
       "      <td>0.999183</td>\n",
       "      <td>26.953261</td>\n",
       "    </tr>\n",
       "    <tr>\n",
       "      <th>2</th>\n",
       "      <td>vyE1P</td>\n",
       "      <td>6.263187</td>\n",
       "      <td>-5.948386</td>\n",
       "      <td>5.001160</td>\n",
       "      <td>134.766305</td>\n",
       "    </tr>\n",
       "    <tr>\n",
       "      <th>3</th>\n",
       "      <td>KcrkZ</td>\n",
       "      <td>-13.081196</td>\n",
       "      <td>-11.506057</td>\n",
       "      <td>4.999415</td>\n",
       "      <td>137.945408</td>\n",
       "    </tr>\n",
       "    <tr>\n",
       "      <th>4</th>\n",
       "      <td>AHL4O</td>\n",
       "      <td>12.702195</td>\n",
       "      <td>-8.147433</td>\n",
       "      <td>5.004363</td>\n",
       "      <td>134.766305</td>\n",
       "    </tr>\n",
       "  </tbody>\n",
       "</table>\n",
       "</div>"
      ],
      "text/plain": [
       "      id         f0         f1        f2     product\n",
       "0  kBEdx -15.001348  -8.276000 -0.005876    3.179103\n",
       "1  62mP7  14.272088  -3.475083  0.999183   26.953261\n",
       "2  vyE1P   6.263187  -5.948386  5.001160  134.766305\n",
       "3  KcrkZ -13.081196 -11.506057  4.999415  137.945408\n",
       "4  AHL4O  12.702195  -8.147433  5.004363  134.766305"
      ]
     },
     "execution_count": 4,
     "metadata": {},
     "output_type": "execute_result"
    }
   ],
   "source": [
    "df_1.head()"
   ]
  },
  {
   "cell_type": "code",
   "execution_count": 5,
   "metadata": {},
   "outputs": [
    {
     "data": {
      "text/html": [
       "<div>\n",
       "<style scoped>\n",
       "    .dataframe tbody tr th:only-of-type {\n",
       "        vertical-align: middle;\n",
       "    }\n",
       "\n",
       "    .dataframe tbody tr th {\n",
       "        vertical-align: top;\n",
       "    }\n",
       "\n",
       "    .dataframe thead th {\n",
       "        text-align: right;\n",
       "    }\n",
       "</style>\n",
       "<table border=\"1\" class=\"dataframe\">\n",
       "  <thead>\n",
       "    <tr style=\"text-align: right;\">\n",
       "      <th></th>\n",
       "      <th>id</th>\n",
       "      <th>f0</th>\n",
       "      <th>f1</th>\n",
       "      <th>f2</th>\n",
       "      <th>product</th>\n",
       "    </tr>\n",
       "  </thead>\n",
       "  <tbody>\n",
       "    <tr>\n",
       "      <th>0</th>\n",
       "      <td>fwXo0</td>\n",
       "      <td>-1.146987</td>\n",
       "      <td>0.963328</td>\n",
       "      <td>-0.828965</td>\n",
       "      <td>27.758673</td>\n",
       "    </tr>\n",
       "    <tr>\n",
       "      <th>1</th>\n",
       "      <td>WJtFt</td>\n",
       "      <td>0.262778</td>\n",
       "      <td>0.269839</td>\n",
       "      <td>-2.530187</td>\n",
       "      <td>56.069697</td>\n",
       "    </tr>\n",
       "    <tr>\n",
       "      <th>2</th>\n",
       "      <td>ovLUW</td>\n",
       "      <td>0.194587</td>\n",
       "      <td>0.289035</td>\n",
       "      <td>-5.586433</td>\n",
       "      <td>62.871910</td>\n",
       "    </tr>\n",
       "    <tr>\n",
       "      <th>3</th>\n",
       "      <td>q6cA6</td>\n",
       "      <td>2.236060</td>\n",
       "      <td>-0.553760</td>\n",
       "      <td>0.930038</td>\n",
       "      <td>114.572842</td>\n",
       "    </tr>\n",
       "    <tr>\n",
       "      <th>4</th>\n",
       "      <td>WPMUX</td>\n",
       "      <td>-0.515993</td>\n",
       "      <td>1.716266</td>\n",
       "      <td>5.899011</td>\n",
       "      <td>149.600746</td>\n",
       "    </tr>\n",
       "  </tbody>\n",
       "</table>\n",
       "</div>"
      ],
      "text/plain": [
       "      id        f0        f1        f2     product\n",
       "0  fwXo0 -1.146987  0.963328 -0.828965   27.758673\n",
       "1  WJtFt  0.262778  0.269839 -2.530187   56.069697\n",
       "2  ovLUW  0.194587  0.289035 -5.586433   62.871910\n",
       "3  q6cA6  2.236060 -0.553760  0.930038  114.572842\n",
       "4  WPMUX -0.515993  1.716266  5.899011  149.600746"
      ]
     },
     "execution_count": 5,
     "metadata": {},
     "output_type": "execute_result"
    }
   ],
   "source": [
    "df_2.head()"
   ]
  },
  {
   "cell_type": "code",
   "execution_count": 6,
   "metadata": {},
   "outputs": [
    {
     "name": "stdout",
     "output_type": "stream",
     "text": [
      "<class 'pandas.core.frame.DataFrame'>\n",
      "RangeIndex: 100000 entries, 0 to 99999\n",
      "Data columns (total 5 columns):\n",
      " #   Column   Non-Null Count   Dtype  \n",
      "---  ------   --------------   -----  \n",
      " 0   id       100000 non-null  object \n",
      " 1   f0       100000 non-null  float64\n",
      " 2   f1       100000 non-null  float64\n",
      " 3   f2       100000 non-null  float64\n",
      " 4   product  100000 non-null  float64\n",
      "dtypes: float64(4), object(1)\n",
      "memory usage: 3.8+ MB\n"
     ]
    }
   ],
   "source": [
    "df_0.info()"
   ]
  },
  {
   "cell_type": "code",
   "execution_count": 7,
   "metadata": {},
   "outputs": [
    {
     "name": "stdout",
     "output_type": "stream",
     "text": [
      "<class 'pandas.core.frame.DataFrame'>\n",
      "RangeIndex: 100000 entries, 0 to 99999\n",
      "Data columns (total 5 columns):\n",
      " #   Column   Non-Null Count   Dtype  \n",
      "---  ------   --------------   -----  \n",
      " 0   id       100000 non-null  object \n",
      " 1   f0       100000 non-null  float64\n",
      " 2   f1       100000 non-null  float64\n",
      " 3   f2       100000 non-null  float64\n",
      " 4   product  100000 non-null  float64\n",
      "dtypes: float64(4), object(1)\n",
      "memory usage: 3.8+ MB\n"
     ]
    }
   ],
   "source": [
    "df_1.info()"
   ]
  },
  {
   "cell_type": "code",
   "execution_count": 8,
   "metadata": {},
   "outputs": [
    {
     "name": "stdout",
     "output_type": "stream",
     "text": [
      "<class 'pandas.core.frame.DataFrame'>\n",
      "RangeIndex: 100000 entries, 0 to 99999\n",
      "Data columns (total 5 columns):\n",
      " #   Column   Non-Null Count   Dtype  \n",
      "---  ------   --------------   -----  \n",
      " 0   id       100000 non-null  object \n",
      " 1   f0       100000 non-null  float64\n",
      " 2   f1       100000 non-null  float64\n",
      " 3   f2       100000 non-null  float64\n",
      " 4   product  100000 non-null  float64\n",
      "dtypes: float64(4), object(1)\n",
      "memory usage: 3.8+ MB\n"
     ]
    }
   ],
   "source": [
    "df_2.info()"
   ]
  },
  {
   "cell_type": "code",
   "execution_count": 9,
   "metadata": {},
   "outputs": [],
   "source": [
    "#ID names will be dropped as they are irrelevant to training the target parameter.\n",
    "df_0 = df_0.drop(['id'], axis=1)\n",
    "df_1 = df_1.drop(['id'], axis=1)\n",
    "df_2 = df_2.drop(['id'], axis=1)"
   ]
  },
  {
   "cell_type": "code",
   "execution_count": 10,
   "metadata": {},
   "outputs": [
    {
     "data": {
      "text/html": [
       "<div>\n",
       "<style scoped>\n",
       "    .dataframe tbody tr th:only-of-type {\n",
       "        vertical-align: middle;\n",
       "    }\n",
       "\n",
       "    .dataframe tbody tr th {\n",
       "        vertical-align: top;\n",
       "    }\n",
       "\n",
       "    .dataframe thead th {\n",
       "        text-align: right;\n",
       "    }\n",
       "</style>\n",
       "<table border=\"1\" class=\"dataframe\">\n",
       "  <thead>\n",
       "    <tr style=\"text-align: right;\">\n",
       "      <th></th>\n",
       "      <th>f0</th>\n",
       "      <th>f1</th>\n",
       "      <th>f2</th>\n",
       "      <th>product</th>\n",
       "    </tr>\n",
       "  </thead>\n",
       "  <tbody>\n",
       "    <tr>\n",
       "      <th>0</th>\n",
       "      <td>0.705745</td>\n",
       "      <td>-0.497823</td>\n",
       "      <td>1.221170</td>\n",
       "      <td>105.280062</td>\n",
       "    </tr>\n",
       "    <tr>\n",
       "      <th>1</th>\n",
       "      <td>1.334711</td>\n",
       "      <td>-0.340164</td>\n",
       "      <td>4.365080</td>\n",
       "      <td>73.037750</td>\n",
       "    </tr>\n",
       "    <tr>\n",
       "      <th>2</th>\n",
       "      <td>1.022732</td>\n",
       "      <td>0.151990</td>\n",
       "      <td>1.419926</td>\n",
       "      <td>85.265647</td>\n",
       "    </tr>\n",
       "    <tr>\n",
       "      <th>3</th>\n",
       "      <td>-0.032172</td>\n",
       "      <td>0.139033</td>\n",
       "      <td>2.978566</td>\n",
       "      <td>168.620776</td>\n",
       "    </tr>\n",
       "    <tr>\n",
       "      <th>4</th>\n",
       "      <td>1.988431</td>\n",
       "      <td>0.155413</td>\n",
       "      <td>4.751769</td>\n",
       "      <td>154.036647</td>\n",
       "    </tr>\n",
       "  </tbody>\n",
       "</table>\n",
       "</div>"
      ],
      "text/plain": [
       "         f0        f1        f2     product\n",
       "0  0.705745 -0.497823  1.221170  105.280062\n",
       "1  1.334711 -0.340164  4.365080   73.037750\n",
       "2  1.022732  0.151990  1.419926   85.265647\n",
       "3 -0.032172  0.139033  2.978566  168.620776\n",
       "4  1.988431  0.155413  4.751769  154.036647"
      ]
     },
     "execution_count": 10,
     "metadata": {},
     "output_type": "execute_result"
    }
   ],
   "source": [
    "df_0.head()"
   ]
  },
  {
   "cell_type": "markdown",
   "metadata": {},
   "source": [
    "Data is ready to be used. There were no missing values to address and all parameters remaining in the dataframe are directly relevant to the target parameter (product)."
   ]
  },
  {
   "cell_type": "code",
   "execution_count": 11,
   "metadata": {},
   "outputs": [],
   "source": [
    "#Declare features and target for each zone.\n",
    "features_0 = df_0.drop(['product'], axis=1)\n",
    "target_0 = df_0['product']\n",
    "features_1 = df_1.drop(['product'], axis=1)\n",
    "target_1 = df_1['product']\n",
    "features_2 = df_2.drop(['product'], axis=1)\n",
    "target_2 = df_2['product']"
   ]
  },
  {
   "cell_type": "code",
   "execution_count": 12,
   "metadata": {},
   "outputs": [],
   "source": [
    "#Splitting the data into training and validation sets for all 3 datasets.\n",
    "features_0_train, features_0_valid, target_0_train, target_0_valid = train_test_split(\n",
    "    features_0, target_0, test_size=0.25, random_state=12345)\n",
    "features_1_train, features_1_valid, target_1_train, target_1_valid = train_test_split(\n",
    "    features_1, target_1, test_size=0.25, random_state=12345)\n",
    "features_2_train, features_2_valid, target_2_train, target_2_valid = train_test_split(\n",
    "    features_2, target_2, test_size=0.25, random_state=12345)"
   ]
  },
  {
   "cell_type": "code",
   "execution_count": 13,
   "metadata": {},
   "outputs": [
    {
     "name": "stdout",
     "output_type": "stream",
     "text": [
      "Average volume of predicted reserves: 92.59256778438035\n",
      "RMSE of the linear regression model on the validation set: 37.5794217150813\n"
     ]
    }
   ],
   "source": [
    "#Train linear regression model for zone 0.\n",
    "model = LinearRegression()\n",
    "model.fit(features_0_train, target_0_train)\n",
    "predictions_0_valid = model.predict(features_0_valid)\n",
    "result = mean_squared_error(target_0_valid, predictions_0_valid)**0.5\n",
    "print(\"Average volume of predicted reserves:\", predictions_0_valid.mean())\n",
    "print(\"RMSE of the linear regression model on the validation set:\", result)"
   ]
  },
  {
   "cell_type": "code",
   "execution_count": 14,
   "metadata": {},
   "outputs": [
    {
     "name": "stdout",
     "output_type": "stream",
     "text": [
      "Average volume of predicted reserves: 68.728546895446\n",
      "RMSE of the linear regression model on the validation set: 0.893099286775617\n"
     ]
    }
   ],
   "source": [
    "#Train linear regression model for zone 1\n",
    "model = LinearRegression()\n",
    "model.fit(features_1_train, target_1_train)\n",
    "predictions_1_valid = model.predict(features_1_valid)\n",
    "result = mean_squared_error(target_1_valid, predictions_1_valid)**0.5\n",
    "print(\"Average volume of predicted reserves:\", predictions_1_valid.mean())\n",
    "print(\"RMSE of the linear regression model on the validation set:\", result)"
   ]
  },
  {
   "cell_type": "code",
   "execution_count": 15,
   "metadata": {},
   "outputs": [
    {
     "name": "stdout",
     "output_type": "stream",
     "text": [
      "Average volume of predicted reserves: 94.96504596800489\n",
      "RMSE of the linear regression model on the validation set: 40.02970873393434\n"
     ]
    }
   ],
   "source": [
    "#Train linear regression model for zone 2\n",
    "model = LinearRegression()\n",
    "model.fit(features_2_train, target_2_train)\n",
    "predictions_2_valid = model.predict(features_2_valid)\n",
    "result = mean_squared_error(target_2_valid, predictions_2_valid)**0.5\n",
    "print(\"Average volume of predicted reserves:\", predictions_2_valid.mean())\n",
    "print(\"RMSE of the linear regression model on the validation set:\", result)"
   ]
  },
  {
   "cell_type": "code",
   "execution_count": 16,
   "metadata": {},
   "outputs": [
    {
     "name": "stdout",
     "output_type": "stream",
     "text": [
      "94.96504596800489\n"
     ]
    }
   ],
   "source": [
    "print(predictions_2_valid.mean())"
   ]
  },
  {
   "cell_type": "markdown",
   "metadata": {},
   "source": [
    "The RMSE of zone 0 and 2 are very high while the RMSE of zone 1 is still higher than we would like.\n",
    "\n",
    "The budget to develop 200 oil wells is 100 USD million. The revenue of 1 unit of product (1000 barrels of oil) is 4500. 100,000,000/200 = 500,000. 500,000/4500 = 111.1. If there are only 200 oil wells being developed, each oil well needs to produce slightly more than 111 barrels in order to break even."
   ]
  },
  {
   "cell_type": "code",
   "execution_count": 17,
   "metadata": {},
   "outputs": [],
   "source": [
    "Revenue_Barrel = 4.5\n",
    "Revenue_Unit = 4500\n",
    "Budget = 100000000\n",
    "Oil_Well_Amount_Budget = 200\n",
    "Volume_Of_Reserves = 1000"
   ]
  },
  {
   "cell_type": "code",
   "execution_count": 18,
   "metadata": {},
   "outputs": [],
   "source": [
    "def calculate_profit(targets, probabilities, count):\n",
    "    probs_sorted = probabilities.sort_values(ascending = False).head(200)\n",
    "    selected = targets[probs_sorted.index][:count]\n",
    "    return (4500 * selected.sum()) - 100000000"
   ]
  },
  {
   "cell_type": "code",
   "execution_count": 19,
   "metadata": {},
   "outputs": [],
   "source": [
    "state = np.random.RandomState(12345)"
   ]
  },
  {
   "cell_type": "code",
   "execution_count": 20,
   "metadata": {
    "scrolled": true
   },
   "outputs": [
    {
     "name": "stdout",
     "output_type": "stream",
     "text": [
      "                0\n",
      "0       95.894952\n",
      "1       77.572583\n",
      "2       77.892640\n",
      "3       90.175134\n",
      "4       70.510088\n",
      "...           ...\n",
      "24995  103.037104\n",
      "24996   85.403255\n",
      "24997   61.509833\n",
      "24998  118.180397\n",
      "24999  118.169392\n",
      "\n",
      "[25000 rows x 1 columns]\n"
     ]
    }
   ],
   "source": [
    "print(pd.DataFrame(predictions_0_valid))"
   ]
  },
  {
   "cell_type": "code",
   "execution_count": 21,
   "metadata": {},
   "outputs": [
    {
     "name": "stdout",
     "output_type": "stream",
     "text": [
      "Average revenue for Zone 0: 4259385.269105923\n",
      "Confidence interval 2.5% quantile: -1020900.9483793724\n",
      "Confidence interval 97.5% quantile: 9479763.533583675\n"
     ]
    }
   ],
   "source": [
    "#Average revenue for Zone 0\n",
    "values_0 = []\n",
    "for i in range(1000):\n",
    "    target_subsample = target_0_valid.reset_index(drop=True).sample(n=500, replace=True, random_state=state)\n",
    "    probs_subsample = pd.Series(predictions_0_valid).reset_index(drop=True)[target_subsample.index]\n",
    "    values_0.append(calculate_profit(target_subsample, probs_subsample, 200))\n",
    "    \n",
    "values_0 = pd.Series(values_0)\n",
    "lower_0 = values_0.quantile(0.025)\n",
    "upper_0 = values_0.quantile(0.975)\n",
    "mean_0 = values_0.mean()\n",
    "print(\"Average revenue for Zone 0:\", mean_0)\n",
    "print(\"Confidence interval 2.5% quantile:\", lower_0)\n",
    "print(\"Confidence interval 97.5% quantile:\", upper_0)"
   ]
  },
  {
   "cell_type": "code",
   "execution_count": 22,
   "metadata": {},
   "outputs": [
    {
     "name": "stdout",
     "output_type": "stream",
     "text": [
      "The risk of losses is: 6.000000000000005 %\n"
     ]
    }
   ],
   "source": [
    "losses_0 = values_0 <= 0\n",
    "losses_0.describe()\n",
    "print(\"The risk of losses is:\", (1- 940/1000)*100, \"%\")"
   ]
  },
  {
   "cell_type": "code",
   "execution_count": 23,
   "metadata": {},
   "outputs": [
    {
     "name": "stdout",
     "output_type": "stream",
     "text": [
      "Average revenue for Zone 1: 5182594.93697325\n",
      "Confidence interval 2.5% quantile: 1281232.3143308456\n",
      "Confidence interval 97.5% quantile: 9536129.820669085\n"
     ]
    }
   ],
   "source": [
    "#Average revenue for Zone 1\n",
    "values_1 = []\n",
    "for i in range(1000):\n",
    "    target_subsample = target_1_valid.reset_index(drop=True).sample(n=500, replace=True, random_state=state)\n",
    "    probs_subsample = pd.Series(predictions_1_valid).reset_index(drop=True)[target_subsample.index]\n",
    "    values_1.append(calculate_profit(target_subsample, probs_subsample, 200))\n",
    "    \n",
    "values_1 = pd.Series(values_1)\n",
    "lower_1 = values_1.quantile(0.025)\n",
    "upper_1 = values_1.quantile(0.975)\n",
    "mean_1 = values_1.mean()\n",
    "print(\"Average revenue for Zone 1:\", mean_1)\n",
    "print(\"Confidence interval 2.5% quantile:\", lower_1)\n",
    "print(\"Confidence interval 97.5% quantile:\", upper_1)"
   ]
  },
  {
   "cell_type": "code",
   "execution_count": 24,
   "metadata": {},
   "outputs": [
    {
     "name": "stdout",
     "output_type": "stream",
     "text": [
      "The risk of losses is: 0.30000000000000027 %\n"
     ]
    }
   ],
   "source": [
    "losses_1 = values_1 <= 0\n",
    "losses_1.describe()\n",
    "print(\"The risk of losses is:\", (1- 997/1000)*100,\"%\")"
   ]
  },
  {
   "cell_type": "code",
   "execution_count": 25,
   "metadata": {},
   "outputs": [
    {
     "name": "stdout",
     "output_type": "stream",
     "text": [
      "Average revenue for Zone 2: 4201940.0534405\n",
      "Confidence interval 2.5% quantile: -1158526.0916001017\n",
      "Confidence interval 97.5% quantile: 9896299.398445744\n"
     ]
    }
   ],
   "source": [
    "#Average revenue for Zone 2\n",
    "values_2 = []\n",
    "for i in range(1000):\n",
    "    target_subsample = target_2_valid.reset_index(drop=True).sample(n=500, replace=True, random_state=state)\n",
    "    probs_subsample = pd.Series(predictions_2_valid).reset_index(drop=True)[target_subsample.index]\n",
    "    values_2.append(calculate_profit(target_subsample, probs_subsample, 200))\n",
    "    \n",
    "values_2 = pd.Series(values_2)\n",
    "lower_2 = values_2.quantile(0.025)\n",
    "upper_2 = values_2.quantile(0.975)\n",
    "mean_2 = values_2.mean()\n",
    "print(\"Average revenue for Zone 2:\", mean_2)\n",
    "print(\"Confidence interval 2.5% quantile:\", lower_2)\n",
    "print(\"Confidence interval 97.5% quantile:\", upper_2)"
   ]
  },
  {
   "cell_type": "code",
   "execution_count": 30,
   "metadata": {},
   "outputs": [
    {
     "name": "stdout",
     "output_type": "stream",
     "text": [
      "The risk of losses is: 6.2000000000000055 %\n"
     ]
    }
   ],
   "source": [
    "losses_2 = values_2 <= 0\n",
    "losses_2.describe()\n",
    "print(\"The risk of losses is:\", (1- 938/1000)*100,\"%\")"
   ]
  },
  {
   "cell_type": "markdown",
   "metadata": {},
   "source": [
    "The best region for development is Zone 1. Zone 1 has the highest average revenue and it is the only zone that does not have the possibility of losses in the 95th quantile."
   ]
  }
 ],
 "metadata": {
  "kernelspec": {
   "display_name": "Python 3 (ipykernel)",
   "language": "python",
   "name": "python3"
  },
  "language_info": {
   "codemirror_mode": {
    "name": "ipython",
    "version": 3
   },
   "file_extension": ".py",
   "mimetype": "text/x-python",
   "name": "python",
   "nbconvert_exporter": "python",
   "pygments_lexer": "ipython3",
   "version": "3.9.5"
  },
  "toc": {
   "base_numbering": 1,
   "nav_menu": {},
   "number_sections": true,
   "sideBar": true,
   "skip_h1_title": true,
   "title_cell": "Table of Contents",
   "title_sidebar": "Contents",
   "toc_cell": false,
   "toc_position": {},
   "toc_section_display": true,
   "toc_window_display": false
  }
 },
 "nbformat": 4,
 "nbformat_minor": 2
}
